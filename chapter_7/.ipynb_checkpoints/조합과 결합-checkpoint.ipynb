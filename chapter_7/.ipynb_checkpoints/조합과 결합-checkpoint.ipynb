{
 "cells": [
  {
   "cell_type": "markdown",
   "id": "a217bbf4",
   "metadata": {},
   "source": [
    "## 참고자료\n",
    "\n",
    "https://www.scaler.com/topics/association-composition-and-aggregation-in-java/"
   ]
  },
  {
   "cell_type": "markdown",
   "id": "a1c9fe42",
   "metadata": {},
   "source": [
    "## association 관계"
   ]
  },
  {
   "cell_type": "code",
   "execution_count": null,
   "id": "911e0232",
   "metadata": {},
   "outputs": [],
   "source": []
  },
  {
   "cell_type": "code",
   "execution_count": 1,
   "id": "0275c28c",
   "metadata": {},
   "outputs": [
    {
     "name": "stdout",
     "output_type": "stream",
     "text": [
      "The staff of department Arun Kumar\n",
      "The staff of department Rahul Yadav\n"
     ]
    }
   ],
   "source": [
    "class Professor(val name:String)\n",
    "\n",
    "class Organization(val name : String, var staff : MutableList<Professor> ) {\n",
    "       //Return the list of staff names\n",
    "      fun selectStaff() : MutableList<String> {\n",
    "    \n",
    "          val professor_names = mutableListOf<String>()\n",
    "          for(i in this.staff.toList()) {\n",
    "             professor_names.add(i.name)        //add name of each professor to names list\n",
    "          }\n",
    "          return professor_names   // return names list\n",
    "      }  \n",
    "    \n",
    "}\n",
    "\n",
    "//Create two professor objects\n",
    "val ak = Professor(\"Arun Kumar\")\n",
    "val ry = Professor(\"Rahul Yadav\")\n",
    "\n",
    "val cse = Organization(\"CSE\", mutableListOf<Professor>(ak,ry))\n",
    "\n",
    "val gst = cse.selectStaff()\n",
    "for (i in gst) {\n",
    "    println(\"The staff of department \" + i )\n",
    "}"
   ]
  },
  {
   "cell_type": "code",
   "execution_count": 2,
   "id": "1cd5ca52",
   "metadata": {},
   "outputs": [],
   "source": [
    "class Bank(name : String) {\n",
    "    // Attributes of bank\n",
    "    private var name : String;\n",
    " \n",
    "    // Constructor of this class\n",
    "    init {\n",
    "        // this keyword refers to current instance itself\n",
    "        this.name = name;\n",
    "    }\n",
    " \n",
    "    // Method of Bank class\n",
    "    fun getBankName() : String {\n",
    "        // Returning name of bank\n",
    "        return this.name;\n",
    "    }\n",
    "}"
   ]
  },
  {
   "cell_type": "code",
   "execution_count": 3,
   "id": "a09dc3a1",
   "metadata": {},
   "outputs": [],
   "source": [
    "class Employee(name : String) {\n",
    "    // Attributes of employee\n",
    "    private val name : String  = name\n",
    "\n",
    "    // Method of Employee class\n",
    "    fun getEmployeeName() : String\n",
    "    {\n",
    "        // returning the name of employee\n",
    "        return this.name;\n",
    "    }\n",
    "}"
   ]
  },
  {
   "cell_type": "code",
   "execution_count": 4,
   "id": "4363839a",
   "metadata": {},
   "outputs": [
    {
     "name": "stdout",
     "output_type": "stream",
     "text": [
      "Ridhi is employee of ICICI\n"
     ]
    }
   ],
   "source": [
    "// Creating objects of bank and Employee class\n",
    "val bank = Bank(\"ICICI\");\n",
    "val emp = Employee(\"Ridhi\");\n",
    " \n",
    "// Print and display name and\n",
    "// corresponding bank of employee\n",
    "println(emp.getEmployeeName()\n",
    "                           + \" is employee of \"\n",
    "                           + bank.getBankName());"
   ]
  },
  {
   "cell_type": "code",
   "execution_count": null,
   "id": "35d41ee1",
   "metadata": {},
   "outputs": [],
   "source": []
  },
  {
   "cell_type": "code",
   "execution_count": null,
   "id": "1a970562",
   "metadata": {},
   "outputs": [],
   "source": []
  },
  {
   "cell_type": "markdown",
   "id": "e0274ca2",
   "metadata": {},
   "source": [
    "## 구성(Composition)관계\n",
    " \n",
    "\n",
    "- 구성관계는 집합관계와 유사하지만 특정 클래스가 어느 한 클래스의 부분이 되는 것 입니다.\n",
    "\n",
    "부분이 된 하위 클래스는 생명주기가 상위 클래스에 종속됩니다. 따라서 상위 클래스가 삭제되면 하위 클래스도 같이 삭제 되게 됩니다."
   ]
  },
  {
   "cell_type": "markdown",
   "id": "c81de86c",
   "metadata": {},
   "source": [
    "## composition 조합"
   ]
  },
  {
   "cell_type": "code",
   "execution_count": 5,
   "id": "0749be88",
   "metadata": {},
   "outputs": [],
   "source": [
    "class Person(\n",
    "        var firstName: String,\n",
    "        var lastName: String,\n",
    "        var age: Int\n",
    ") \n",
    "\n",
    "class Superhero(\n",
    "        val person: Person,\n",
    "        var name: String\n",
    ")"
   ]
  },
  {
   "cell_type": "code",
   "execution_count": 6,
   "id": "e8f5895c",
   "metadata": {},
   "outputs": [
    {
     "name": "stdout",
     "output_type": "stream",
     "text": [
      "Peter\n"
     ]
    }
   ],
   "source": [
    "val hero = Superhero(Person(\"Peter\", \"Parker\", 28), \"Spiderman\")\n",
    "\n",
    "println(hero.person.firstName)"
   ]
  },
  {
   "cell_type": "code",
   "execution_count": 7,
   "id": "110fcbe4",
   "metadata": {},
   "outputs": [],
   "source": [
    "class Superhero(\n",
    "        private val person: Person,\n",
    "        var name: String\n",
    ") {\n",
    "    var firstName: String \n",
    "        get() = person.firstName\n",
    "        set(value) {\n",
    "            person.firstName = value\n",
    "        }\n",
    "    var lastName: String \n",
    "        get() = person.lastName\n",
    "        set(value) {\n",
    "            person.lastName = value\n",
    "        }\n",
    "    var age: Int \n",
    "        get() = person.age\n",
    "        set(value) {\n",
    "            person.age = value\n",
    "        }\n",
    "}"
   ]
  },
  {
   "cell_type": "code",
   "execution_count": 8,
   "id": "60c79bc7",
   "metadata": {},
   "outputs": [],
   "source": [
    "val hero = Superhero(Person(\"Peter\", \"Parker\", 28), \"Spiderman\")"
   ]
  },
  {
   "cell_type": "code",
   "execution_count": 9,
   "id": "f137c89a",
   "metadata": {},
   "outputs": [
    {
     "name": "stdout",
     "output_type": "stream",
     "text": [
      "Peter\n"
     ]
    }
   ],
   "source": [
    "println(hero.firstName)"
   ]
  },
  {
   "cell_type": "code",
   "execution_count": null,
   "id": "283cde22",
   "metadata": {},
   "outputs": [],
   "source": []
  },
  {
   "cell_type": "code",
   "execution_count": 10,
   "id": "b39951aa",
   "metadata": {},
   "outputs": [
    {
     "name": "stdout",
     "output_type": "stream",
     "text": [
      "제목 : 이펙티브 코틀린 and 저자 : 소슬비 \n",
      "제목 : 코틀린 인 액션 and 저자 : 조현웅 \n",
      "제목 : 코틀린 완벽가이드 and 저자 : 서정욱 \n"
     ]
    }
   ],
   "source": [
    "class Book(val title: String, val author : String) \n",
    "\n",
    "class Library(private var books : MutableList<Book>) {\n",
    "    \n",
    "    fun getTotalBooksInLibrary() : MutableList<Book>{\n",
    "        return books;\n",
    "    }\n",
    "}\n",
    "\n",
    "val b1 = Book(\"이펙티브 코틀린\", \"소슬비\")\n",
    "val b2 = Book(\"코틀린 인 액션\", \"조현웅\")\n",
    "val b3 = Book(\"코틀린 완벽가이드\",\"서정욱\")\n",
    "\n",
    "val books = mutableListOf<Book>();\n",
    "\n",
    "books.add(b1)\n",
    "books.add(b2)\n",
    "books.add(b3)\n",
    "\n",
    "val library = Library(books)\n",
    "val bbk = library.getTotalBooksInLibrary()\n",
    "\n",
    "for (i in bbk) {\n",
    "    println(\"제목 : ${i.title} and 저자 : ${i.author} \")\n",
    "}"
   ]
  },
  {
   "cell_type": "code",
   "execution_count": null,
   "id": "d3183a9c",
   "metadata": {},
   "outputs": [],
   "source": []
  },
  {
   "cell_type": "code",
   "execution_count": 33,
   "id": "5d0c34dd",
   "metadata": {},
   "outputs": [
    {
     "name": "stdout",
     "output_type": "stream",
     "text": [
      "The students studying in MIB college are [서찬웅, 김성은, 문성혁]\n"
     ]
    }
   ],
   "source": [
    "//Student class\n",
    "class Student(val name : String)\n",
    "\n",
    "//Create three Student objects\n",
    "val student1 = Student(\"서찬웅\")\n",
    "val student2 = Student(\"김성은\")\n",
    "val student3 = Student(\"문성혁\")\n",
    "val students = mutableListOf<Student>()\n",
    "students.add(student1)\n",
    "students.add(student2)\n",
    "students.add(student3)\n",
    "\n",
    "//College class\n",
    "class College(val name : String, var studentList: MutableList<Student>) {\n",
    "    fun getStudent() : MutableList<String> {\n",
    "         val students = this.studentList;\n",
    "         val names = mutableListOf<String>()\n",
    "         for(i in students){\n",
    "             names.add(i.name);\n",
    "         }\n",
    "         return names;\n",
    "    }\n",
    "}\n",
    "//Create a College\n",
    "val college1 = College(\"MIB\", students);\n",
    "\n",
    " //Outputting the Has-a association between College and Student\n",
    "println(\"The students studying in \" + college1.name + \" college are \" + college1.getStudent())"
   ]
  },
  {
   "cell_type": "code",
   "execution_count": null,
   "id": "a02ee67e",
   "metadata": {},
   "outputs": [],
   "source": []
  },
  {
   "cell_type": "code",
   "execution_count": null,
   "id": "ae45d8b2",
   "metadata": {},
   "outputs": [],
   "source": []
  },
  {
   "cell_type": "code",
   "execution_count": null,
   "id": "6c955c4b",
   "metadata": {},
   "outputs": [],
   "source": []
  },
  {
   "cell_type": "markdown",
   "id": "7287c102",
   "metadata": {},
   "source": [
    "## 집합(Aggregation)관계\n",
    " \n",
    "\n",
    "- 집합관계는 연관관계와 유사하지만 한 개체가 특정 개체를 소유한 다는 개념이 추가된 것 입니다."
   ]
  },
  {
   "cell_type": "code",
   "execution_count": 11,
   "id": "20907875",
   "metadata": {},
   "outputs": [
    {
     "name": "stdout",
     "output_type": "stream",
     "text": [
      "차 엔진의 시작한다  \n",
      "차는 움직인다 \n"
     ]
    }
   ],
   "source": [
    "class Engine {\n",
    " \n",
    "    // Method to starting an engine\n",
    "    fun work() {\n",
    "         println(\"차 엔진의 시작한다  \")\n",
    "    }\n",
    "}\n",
    " \n",
    "\n",
    "class Car(private var engine : Engine) { // 조합\n",
    "    fun move() {                     \n",
    "        engine.work()                     //조합의 행위는 조합을 구성하는 것으로 작동 \n",
    "        println(\"차는 움직인다 \")\n",
    "    }\n",
    "}\n",
    "\n",
    "val engine = Engine();\n",
    "val car = Car(engine);\n",
    "car.move();"
   ]
  },
  {
   "cell_type": "code",
   "execution_count": 13,
   "id": "afd5c59c",
   "metadata": {},
   "outputs": [],
   "source": []
  },
  {
   "cell_type": "code",
   "execution_count": 36,
   "id": "8193de2d",
   "metadata": {},
   "outputs": [
    {
     "name": "stdout",
     "output_type": "stream",
     "text": [
      "The sports people from country : Korea are [차범근, 손흥민, 문지원]\n"
     ]
    }
   ],
   "source": [
    "//Sportsperson class\n",
    "class SportPerson(val name: String)\n",
    "\n",
    "//Country class\n",
    "class Country(val name: String,val sportPersons: MutableList<SportPerson> = mutableListOf<SportPerson>()){\n",
    "    \n",
    "    init {\n",
    "        setSportMen()\n",
    "    }\n",
    "    fun setSportMen() {\n",
    "        //Create three Sportsperson objects\n",
    "        val macculum = SportPerson(\"차범근\")\n",
    "        val  dhoni = SportPerson(\"손흥민\")\n",
    "        val  kohli = SportPerson(\"문지원\")\n",
    "\n",
    "        sportPersons.add(macculum)\n",
    "        sportPersons.add(dhoni)\n",
    "        sportPersons.add(kohli)\n",
    "\n",
    "    }\n",
    "\n",
    "    fun getSportMen() : List<String>{\n",
    "        val listOfSportPersons = this.sportPersons\n",
    "        val names = mutableListOf<String>()\n",
    "        for(i in listOfSportPersons) {\n",
    "            names.add(i.name);\n",
    "        }\n",
    "        return names;\n",
    "    }\n",
    "\n",
    "}\n",
    "\n",
    "val korea = Country(\"Korea\" )\n",
    " \n",
    "//Outputting the Has-a association between Country and Sportsperson\n",
    "println(\"The sports people from country : \" + korea.name + \" are \" + korea.getSportMen())"
   ]
  },
  {
   "cell_type": "code",
   "execution_count": null,
   "id": "038ebcba",
   "metadata": {},
   "outputs": [],
   "source": []
  },
  {
   "cell_type": "code",
   "execution_count": null,
   "id": "f8b6c900",
   "metadata": {},
   "outputs": [],
   "source": []
  },
  {
   "cell_type": "code",
   "execution_count": null,
   "id": "4b732b07",
   "metadata": {},
   "outputs": [],
   "source": []
  },
  {
   "cell_type": "code",
   "execution_count": null,
   "id": "0ba37317",
   "metadata": {},
   "outputs": [],
   "source": []
  },
  {
   "cell_type": "markdown",
   "id": "40775225",
   "metadata": {},
   "source": [
    "## 의존"
   ]
  },
  {
   "cell_type": "code",
   "execution_count": 16,
   "id": "d1940857",
   "metadata": {},
   "outputs": [
    {
     "name": "stdout",
     "output_type": "stream",
     "text": [
      "Patient: PatientA, Doctor: DoctorA \n"
     ]
    }
   ],
   "source": [
    "class Patient(val name: String, var id: Int){\n",
    "    fun doctorList(d: Doctor){\n",
    "        println(\"Patient: $name, Doctor: ${d.name} \")\n",
    "    }\n",
    "}\n",
    "class Doctor(val name: String)\n",
    "\n",
    "val pat = Patient(\"PatientA\", 1)\n",
    "val doc = Doctor(\"DoctorA\")\n",
    "pat.doctorList(doc)"
   ]
  },
  {
   "cell_type": "code",
   "execution_count": null,
   "id": "f14eba5d",
   "metadata": {},
   "outputs": [],
   "source": []
  }
 ],
 "metadata": {
  "kernelspec": {
   "display_name": "Kotlin",
   "language": "kotlin",
   "name": "kotlin"
  },
  "language_info": {
   "codemirror_mode": "text/x-kotlin",
   "file_extension": ".kt",
   "mimetype": "text/x-kotlin",
   "name": "kotlin",
   "nbconvert_exporter": "",
   "pygments_lexer": "kotlin",
   "version": "1.7.0-dev-1825"
  }
 },
 "nbformat": 4,
 "nbformat_minor": 5
}
