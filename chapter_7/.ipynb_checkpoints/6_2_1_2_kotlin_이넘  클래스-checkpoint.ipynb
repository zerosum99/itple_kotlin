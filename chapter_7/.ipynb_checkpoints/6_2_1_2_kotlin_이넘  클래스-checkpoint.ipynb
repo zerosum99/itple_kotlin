{
 "cells": [
  {
   "cell_type": "markdown",
   "id": "9f0d0327",
   "metadata": {},
   "source": [
    "## 이넘 클래스"
   ]
  },
  {
   "cell_type": "code",
   "execution_count": null,
   "id": "45ec93b2",
   "metadata": {},
   "outputs": [],
   "source": []
  },
  {
   "cell_type": "code",
   "execution_count": 1,
   "id": "08023cb2",
   "metadata": {},
   "outputs": [
    {
     "name": "stdout",
     "output_type": "stream",
     "text": [
      "0\n",
      "SILVER\n",
      "true\n"
     ]
    }
   ],
   "source": [
    "enum class CardType {\n",
    "    SILVER, GOLD, PLATINUM\n",
    "}\n",
    "\n",
    "println(CardType.SILVER.ordinal)\n",
    "println(CardType.SILVER.name)\n",
    "println(CardType.SILVER < CardType.GOLD)"
   ]
  },
  {
   "cell_type": "code",
   "execution_count": 2,
   "id": "9b87407e",
   "metadata": {},
   "outputs": [],
   "source": [
    "fun Any.dir() : Set<String> {\n",
    "    val a = this.javaClass.kotlin\n",
    "    println(a.simpleName)\n",
    "    var ll = mutableListOf<String>()\n",
    "    for (i in a.members) {\n",
    "        ll.add(i.name)\n",
    "    }\n",
    "    return ll.toSet() \n",
    "}"
   ]
  },
  {
   "cell_type": "code",
   "execution_count": 3,
   "id": "8c211e14",
   "metadata": {},
   "outputs": [
    {
     "name": "stdout",
     "output_type": "stream",
     "text": [
      "CardType\n",
      "name, ordinal, clone, compareTo, equals, \n",
      "getDeclaringClass, hashCode, toString, valueOf, values, "
     ]
    }
   ],
   "source": [
    "var count =1\n",
    "for (i in CardType.SILVER.dir()) {\n",
    "    if (count % 6 ==0) println()\n",
    "    else print(i+ \", \")\n",
    "    count++   \n",
    "}"
   ]
  },
  {
   "cell_type": "code",
   "execution_count": null,
   "id": "a57f7992",
   "metadata": {},
   "outputs": [],
   "source": []
  },
  {
   "cell_type": "code",
   "execution_count": 4,
   "id": "4ebba788",
   "metadata": {},
   "outputs": [
    {
     "name": "stdout",
     "output_type": "stream",
     "text": [
      "gray\n",
      "true\n"
     ]
    }
   ],
   "source": [
    "enum class CardType(val color: String) {\n",
    "    SILVER(\"gray\"),\n",
    "    GOLD(\"yellow\"),\n",
    "    PLATINUM(\"black\")\n",
    "}\n",
    "\n",
    "println(CardType.SILVER.color)\n",
    "println(CardType.SILVER < CardType.GOLD)"
   ]
  },
  {
   "cell_type": "code",
   "execution_count": null,
   "id": "5fff111f",
   "metadata": {},
   "outputs": [],
   "source": []
  },
  {
   "cell_type": "code",
   "execution_count": 5,
   "id": "38538441",
   "metadata": {},
   "outputs": [
    {
     "data": {
      "text/plain": [
       "SILVER"
      ]
     },
     "execution_count": 5,
     "metadata": {},
     "output_type": "execute_result"
    }
   ],
   "source": [
    "CardType.valueOf(\"SILVER\")"
   ]
  },
  {
   "cell_type": "code",
   "execution_count": 6,
   "id": "c9398a2f",
   "metadata": {},
   "outputs": [
    {
     "name": "stdout",
     "output_type": "stream",
     "text": [
      "gray\n",
      "yellow\n",
      "black\n"
     ]
    }
   ],
   "source": [
    "for (cardType in CardType.values()) {\n",
    "    println(cardType.color)\n",
    "}"
   ]
  },
  {
   "cell_type": "markdown",
   "id": "1e36197e",
   "metadata": {},
   "source": [
    "## 컴패니언 정의"
   ]
  },
  {
   "cell_type": "code",
   "execution_count": 7,
   "id": "6b931b2a",
   "metadata": {},
   "outputs": [],
   "source": [
    "enum class CardType(val color: String) {\n",
    "    SILVER(\"gray\"),\n",
    "    GOLD(\"yellow\"),\n",
    "    PLATINUM(\"black\");\n",
    "   \n",
    "    companion object {\n",
    "        fun getCardTypeByName(name: String) = valueOf(name.uppercase())\n",
    "        fun getIter()  = values()\n",
    "    }\n",
    "}"
   ]
  },
  {
   "cell_type": "code",
   "execution_count": 8,
   "id": "3cd45893",
   "metadata": {},
   "outputs": [
    {
     "data": {
      "text/plain": [
       "SILVER"
      ]
     },
     "execution_count": 8,
     "metadata": {},
     "output_type": "execute_result"
    }
   ],
   "source": [
    "CardType.getCardTypeByName(\"SILVER\")"
   ]
  },
  {
   "cell_type": "code",
   "execution_count": 9,
   "id": "6b9e3c63",
   "metadata": {},
   "outputs": [
    {
     "name": "stdout",
     "output_type": "stream",
     "text": [
      "SILVER\n",
      "GOLD\n",
      "PLATINUM\n"
     ]
    }
   ],
   "source": [
    "for (i in CardType.getIter()) println(i)"
   ]
  },
  {
   "cell_type": "code",
   "execution_count": null,
   "id": "7f56c795",
   "metadata": {},
   "outputs": [],
   "source": []
  },
  {
   "cell_type": "markdown",
   "id": "c322ef11",
   "metadata": {},
   "source": [
    "## 추상메소드, 인터페이스 구현"
   ]
  },
  {
   "cell_type": "code",
   "execution_count": null,
   "id": "4cd977ba",
   "metadata": {},
   "outputs": [],
   "source": []
  },
  {
   "cell_type": "code",
   "execution_count": 10,
   "id": "04bb9c8e",
   "metadata": {},
   "outputs": [],
   "source": [
    "enum class JobType(\n",
    "    val koName : String\n",
    "){\n",
    "    PROJECTMANIGER(\"프로젝트PM\"),\n",
    "    SOFTWAREARCHITECT(\"아키텍트\"),\n",
    "    DATASCIENTIST(\"데이터과학자\")\n",
    "}\n"
   ]
  },
  {
   "cell_type": "code",
   "execution_count": 11,
   "id": "21ca94cd",
   "metadata": {},
   "outputs": [
    {
     "name": "stdout",
     "output_type": "stream",
     "text": [
      "PROJECTMANIGER\n",
      "0\n"
     ]
    }
   ],
   "source": [
    "println(JobType.PROJECTMANIGER.name) \n",
    "println(JobType.PROJECTMANIGER.ordinal) \n",
    "\n"
   ]
  },
  {
   "cell_type": "code",
   "execution_count": 12,
   "id": "dc2e27f5",
   "metadata": {},
   "outputs": [
    {
     "name": "stdout",
     "output_type": "stream",
     "text": [
      "PROJECTMANIGER = 프로젝트PM\n",
      "SOFTWAREARCHITECT = 아키텍트\n",
      "DATASCIENTIST = 데이터과학자\n"
     ]
    }
   ],
   "source": [
    "val array1= JobType.values()\n",
    "array1.forEach { println(\"${it.name} = ${it.koName}\")}\n",
    "\n"
   ]
  },
  {
   "cell_type": "code",
   "execution_count": 13,
   "id": "01064d2d",
   "metadata": {},
   "outputs": [
    {
     "name": "stdout",
     "output_type": "stream",
     "text": [
      "PROJECTMANIGER = 프로젝트PM\n",
      "SOFTWAREARCHITECT = 아키텍트\n",
      "DATASCIENTIST = 데이터과학자\n",
      "프로젝트PM\n"
     ]
    }
   ],
   "source": [
    "val array = enumValues<JobType>()     //이넘밸류 처리\n",
    "\n",
    "array.forEach { println(\"${it.name} = ${it.koName}\")}\n",
    "\n",
    "    // iterable이기 때문에 map, filter 등 도 가능합니다.\n",
    "array.filter { it.koName == \"프로젝트PM\" }\n",
    "        .map { it.koName }.forEach { println(it)}\n",
    "    "
   ]
  },
  {
   "cell_type": "code",
   "execution_count": 14,
   "id": "965a3641",
   "metadata": {},
   "outputs": [
    {
     "name": "stdout",
     "output_type": "stream",
     "text": [
      "PROJECTMANIGER\n",
      "PROJECTMANIGER\n"
     ]
    }
   ],
   "source": [
    "val type = enumValueOf<JobType>(\"PROJECTMANIGER\") \n",
    "println(JobType.valueOf(\"PROJECTMANIGER\"))\n",
    "println(type)"
   ]
  },
  {
   "cell_type": "code",
   "execution_count": null,
   "id": "294734e7",
   "metadata": {},
   "outputs": [],
   "source": []
  },
  {
   "cell_type": "markdown",
   "id": "933ad7a0",
   "metadata": {},
   "source": [
    "## Enum Constants as Anonymous Classes"
   ]
  },
  {
   "cell_type": "code",
   "execution_count": 15,
   "id": "ec24c200",
   "metadata": {},
   "outputs": [
    {
     "name": "stdout",
     "output_type": "stream",
     "text": [
      "0.25\n"
     ]
    }
   ],
   "source": [
    "enum class CardType {\n",
    "    SILVER {                                  // 내부에 재정의\n",
    "        override fun cashbackPercent() = 0.25f\n",
    "    },\n",
    "    GOLD {\n",
    "        override fun cashbackPercent() = 0.5f\n",
    "    },\n",
    "    PLATINUM {\n",
    "        override fun cashbackPercent() = 0.75f\n",
    "    };\n",
    "\n",
    "    abstract fun cashbackPercent(): Float       // 추상클래스 정의\n",
    "}\n",
    "\n",
    "println(CardType.SILVER.cashbackPercent())"
   ]
  },
  {
   "cell_type": "code",
   "execution_count": null,
   "id": "0bf56c7f",
   "metadata": {},
   "outputs": [],
   "source": []
  },
  {
   "cell_type": "code",
   "execution_count": 16,
   "id": "d3e36e5c",
   "metadata": {},
   "outputs": [],
   "source": [
    "enum class JobType (val koName : String)   {\n",
    "    \n",
    "    PROJECTMANIGER(\"프로젝트PM\") {// 각 멤버가 인터페이스에 정의된 메소드를 구현해줍니다. \n",
    "        override fun calculate(grade: Int): Int = when (grade) {\n",
    "            in 0..3 -> 600\n",
    "            in 4..8 -> 900\n",
    "            in 9..11 -> 1200\n",
    "            in 12..kotlin.Int.MAX_VALUE -> 1800\n",
    "            else -> 3000\n",
    "        }\n",
    "    },\n",
    "    SOFTWAREARCHITECT(\"아키텍트\") {// 각 멤버가 인터페이스에 정의된 메소드를 구현해줍니다. \n",
    "        override fun calculate(grade: Int): Int = when (grade) {\n",
    "            in 0..3 -> 600\n",
    "            in 4..8 -> 900\n",
    "            in 9..11 -> 1200\n",
    "            in 12..kotlin.Int.MAX_VALUE -> 1800\n",
    "            else -> 3000\n",
    "        }\n",
    "    };\n",
    "    \n",
    "    abstract fun calculate(grade:Int): Int\n",
    "}"
   ]
  },
  {
   "cell_type": "code",
   "execution_count": 17,
   "id": "c22f794d",
   "metadata": {},
   "outputs": [
    {
     "data": {
      "text/plain": [
       "1200"
      ]
     },
     "execution_count": 17,
     "metadata": {},
     "output_type": "execute_result"
    }
   ],
   "source": [
    "JobType.SOFTWAREARCHITECT.calculate(10)"
   ]
  },
  {
   "cell_type": "markdown",
   "id": "70059ad2",
   "metadata": {},
   "source": [
    "## Enums Implementing Interfaces"
   ]
  },
  {
   "cell_type": "code",
   "execution_count": 18,
   "id": "06e73186",
   "metadata": {},
   "outputs": [
    {
     "name": "stdout",
     "output_type": "stream",
     "text": [
      "300000\n"
     ]
    }
   ],
   "source": [
    "interface ICardLimit {\n",
    "    fun creditLimit(): Int\n",
    "}\n",
    "\n",
    "\n",
    "enum class CardType : ICardLimit {\n",
    "    SILVER {\n",
    "        override fun creditLimit() = 100000\n",
    "    },\n",
    "    GOLD {\n",
    "        override fun creditLimit() = 200000\n",
    "    },\n",
    "    PLATINUM {\n",
    "        override fun creditLimit() = 300000\n",
    "    }\n",
    "}\n",
    "\n",
    "println(CardType.PLATINUM.creditLimit())"
   ]
  },
  {
   "cell_type": "code",
   "execution_count": 23,
   "id": "7c91a566",
   "metadata": {},
   "outputs": [],
   "source": [
    "// 인터페이스를 정의합니다.\n",
    "interface Calculable {\n",
    "    fun calculate(grade: Int): Int\n",
    "    fun getTypes():List<String>  \n",
    "}"
   ]
  },
  {
   "cell_type": "code",
   "execution_count": 32,
   "id": "6568bd5a",
   "metadata": {},
   "outputs": [],
   "source": [
    "enum class JobType (val koName : String)  : Calculable {\n",
    "    \n",
    "    PROJECTMANIGER(\"프로젝트PM\") {// 각 멤버가 인터페이스에 정의된 메소드를 구현해줍니다. \n",
    "        override fun calculate(grade: Int): Int = when (grade) {\n",
    "            in 0..3 -> 600\n",
    "            in 4..8 -> 900\n",
    "            in 9..11 -> 1200\n",
    "            in 12..kotlin.Int.MAX_VALUE -> 1800\n",
    "            else -> 3000\n",
    "        }\n",
    "    },\n",
    "    SOFTWAREARCHITECT(\"아키텍트\") {// 각 멤버가 인터페이스에 정의된 메소드를 구현해줍니다. \n",
    "        override fun calculate(grade: Int): Int = when (grade) {\n",
    "            in 0..3 -> 600\n",
    "            in 4..8 -> 900\n",
    "            in 9..11 -> 1200\n",
    "            in 12..kotlin.Int.MAX_VALUE -> 1800\n",
    "            else -> 3000\n",
    "        }\n",
    "    },\n",
    "    DATASCIENTIST(\"데이터과학자\") { // 각 멤버가 인터페이스에 정의된 메소드를 구현해줍니다. \n",
    "        override fun calculate(grade: Int): Int = when (grade) {\n",
    "            in 0..3 -> 600\n",
    "            in 4..8 -> 900\n",
    "            in 9..11 -> 1200\n",
    "            in 12..kotlin.Int.MAX_VALUE -> 1800\n",
    "            else -> 3000\n",
    "        }\n",
    "    };\n",
    "    \n",
    "    override fun getTypes():List<String> {     // 전부 적용되는 메소드 \n",
    "        val array = enumValues<JobType>().map {it.name}\n",
    "        return array\n",
    "    }\n",
    "        \n",
    "}\n"
   ]
  },
  {
   "cell_type": "code",
   "execution_count": 33,
   "id": "add4fc94",
   "metadata": {},
   "outputs": [
    {
     "data": {
      "text/plain": [
       "1200"
      ]
     },
     "execution_count": 33,
     "metadata": {},
     "output_type": "execute_result"
    }
   ],
   "source": [
    "JobType.DATASCIENTIST.calculate(10)"
   ]
  },
  {
   "cell_type": "code",
   "execution_count": 34,
   "id": "8ffb173d",
   "metadata": {},
   "outputs": [
    {
     "data": {
      "text/plain": [
       "[PROJECTMANIGER, SOFTWAREARCHITECT, DATASCIENTIST]"
      ]
     },
     "execution_count": 34,
     "metadata": {},
     "output_type": "execute_result"
    }
   ],
   "source": [
    "JobType.DATASCIENTIST.getTypes()"
   ]
  },
  {
   "cell_type": "code",
   "execution_count": null,
   "id": "37981b64",
   "metadata": {},
   "outputs": [],
   "source": []
  },
  {
   "cell_type": "markdown",
   "id": "41fed48b",
   "metadata": {},
   "source": [
    "## when 조건 처리"
   ]
  },
  {
   "cell_type": "code",
   "execution_count": 13,
   "id": "190f1664",
   "metadata": {},
   "outputs": [],
   "source": [
    "enum class PaymentStatus(val value: Int) {\n",
    "    PAID(1),\n",
    "    UNPAID(2);\n",
    "\n",
    "    companion object {\n",
    "        fun create(x: Int): PaymentStatus {\n",
    "            return when (x) {\n",
    "                1 -> PAID\n",
    "                2 -> UNPAID\n",
    "                else -> throw IllegalStateException()\n",
    "            }\n",
    "        }\n",
    "    }\n",
    "}\n",
    "\n",
    "fun f(x: Int): String {\n",
    "    val foo = when (PaymentStatus.create(x)) {\n",
    "        PaymentStatus.PAID -> \"PAID\"\n",
    "        PaymentStatus.UNPAID -> \"UNPAID\"\n",
    "    }\n",
    "    return foo\n",
    "}"
   ]
  },
  {
   "cell_type": "code",
   "execution_count": 14,
   "id": "b26cc3b2",
   "metadata": {},
   "outputs": [
    {
     "data": {
      "text/plain": [
       "PAID"
      ]
     },
     "execution_count": 14,
     "metadata": {},
     "output_type": "execute_result"
    }
   ],
   "source": [
    "f(1)"
   ]
  },
  {
   "cell_type": "code",
   "execution_count": null,
   "id": "39a1d744",
   "metadata": {},
   "outputs": [],
   "source": []
  }
 ],
 "metadata": {
  "kernelspec": {
   "display_name": "Kotlin",
   "language": "kotlin",
   "name": "kotlin"
  },
  "language_info": {
   "codemirror_mode": "text/x-kotlin",
   "file_extension": ".kt",
   "mimetype": "text/x-kotlin",
   "name": "kotlin",
   "nbconvert_exporter": "",
   "pygments_lexer": "kotlin",
   "version": "1.7.0-dev-1825"
  }
 },
 "nbformat": 4,
 "nbformat_minor": 5
}
