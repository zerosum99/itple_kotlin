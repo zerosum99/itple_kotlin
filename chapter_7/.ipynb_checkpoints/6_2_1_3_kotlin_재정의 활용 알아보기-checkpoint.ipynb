{
 "cells": [
  {
   "cell_type": "code",
   "execution_count": null,
   "id": "e8aab507",
   "metadata": {},
   "outputs": [],
   "source": []
  },
  {
   "cell_type": "markdown",
   "id": "6ba72f71",
   "metadata": {},
   "source": [
    "## 확장함수와 오버라이딩 처리 "
   ]
  },
  {
   "cell_type": "markdown",
   "id": "5ec4388f",
   "metadata": {},
   "source": [
    "### 은행 계좌 클래스"
   ]
  },
  {
   "cell_type": "code",
   "execution_count": 1,
   "id": "faae3436",
   "metadata": {},
   "outputs": [],
   "source": [
    "open class BankAccount(val accountNumber: String) {\n",
    "    var balance : Double = 0.0\n",
    "\n",
    "    open fun deposite(amount: Double){\n",
    "        if(amount > 0) {balance += amount}\n",
    "        println(\"현재 금액 : $balance\")\n",
    "    }\n",
    "\n",
    "    fun withdraw(amount: Double) {\n",
    "        if(amount <= balance) {balance -= amount}\n",
    "        println(\"현재 금액 : $balance\")\n",
    "    }\n",
    "}"
   ]
  },
  {
   "cell_type": "markdown",
   "id": "8a4c8819",
   "metadata": {},
   "source": [
    "### 예금계좌 클래스"
   ]
  },
  {
   "cell_type": "code",
   "execution_count": 5,
   "id": "5cdc4263",
   "metadata": {},
   "outputs": [],
   "source": [
    "class SavingsAccount (accountNumber: String,\n",
    "                      val interestRate: Double) :\n",
    "                      BankAccount(accountNumber) {\n",
    "\n",
    "    fun depositInterest() {\n",
    "        val interest = balance * interestRate / 100\n",
    "        this.deposite(interest);\n",
    "    }\n",
    "}"
   ]
  },
  {
   "cell_type": "markdown",
   "id": "ce26fe1b",
   "metadata": {},
   "source": [
    "### 대출계좌 클래스"
   ]
  },
  {
   "cell_type": "code",
   "execution_count": 6,
   "id": "6ead1418",
   "metadata": {},
   "outputs": [],
   "source": [
    "class LoanAccount (accountNumber: String,\n",
    "                   val interestRate: Double) :\n",
    "                     BankAccount(accountNumber) {\n",
    "    override fun deposite(amount: Double){\n",
    "        if(amount <= balance) {balance -= amount}\n",
    "        println(\"현재 금액 : $balance\")\n",
    "    }\n",
    "    \n",
    "    fun withdraw_(amount: Double){\n",
    "        if(amount > 0) {balance += amount}\n",
    "        println(\"현재 금액 : $balance\")\n",
    "    }\n",
    "    \n",
    "    fun withdrawInterest() {\n",
    "        val interest = balance * interestRate / 100\n",
    "        this.withdraw_(interest);\n",
    "    }\n",
    "}"
   ]
  },
  {
   "cell_type": "markdown",
   "id": "526c09b3",
   "metadata": {},
   "source": [
    "### 대출 출금 확장함수"
   ]
  },
  {
   "cell_type": "code",
   "execution_count": 3,
   "id": "ddb147b9",
   "metadata": {},
   "outputs": [],
   "source": [
    "fun LoanAccount.loanWithdraw(amount: Double) {\n",
    "    if(amount > 0) { this.balance += amount}\n",
    "    println(\"현재 금액 : $balance\")\n",
    "} "
   ]
  },
  {
   "cell_type": "markdown",
   "id": "e1b76f14",
   "metadata": {},
   "source": [
    "### 실제 실행"
   ]
  },
  {
   "cell_type": "code",
   "execution_count": 4,
   "id": "d730c2eb",
   "metadata": {},
   "outputs": [
    {
     "name": "stdout",
     "output_type": "stream",
     "text": [
      "현재 금액 : 1000.0\n",
      "현재 금액 : 1060.0\n",
      "Current Balance = 1060.0\n",
      "현재 금액 : 1000.0\n",
      "현재 금액 : 1060.0\n",
      "Current Balance = 1060.0\n"
     ]
    }
   ],
   "source": [
    "val savingsAccount = SavingsAccount(\"5555890890\", 6.0)\n",
    "    \n",
    "savingsAccount.deposite(1000.0)\n",
    "savingsAccount.depositInterest()\n",
    "println(\"Current Balance = ${savingsAccount.balance}\")\n",
    "\n",
    "val loanAccount = LoanAccount(\"22222777778\", 6.0)\n",
    "loanAccount.loanWithdraw(1000.0)\n",
    "loanAccount.withdrawInterest()\n",
    "println(\"Current Balance = ${loanAccount.balance}\")"
   ]
  },
  {
   "cell_type": "code",
   "execution_count": null,
   "id": "e8c09276",
   "metadata": {},
   "outputs": [],
   "source": []
  }
 ],
 "metadata": {
  "kernelspec": {
   "display_name": "Kotlin",
   "language": "kotlin",
   "name": "kotlin"
  },
  "language_info": {
   "codemirror_mode": "text/x-kotlin",
   "file_extension": ".kt",
   "mimetype": "text/x-kotlin",
   "name": "kotlin",
   "nbconvert_exporter": "",
   "pygments_lexer": "kotlin",
   "version": "1.7.0-dev-1825"
  }
 },
 "nbformat": 4,
 "nbformat_minor": 5
}
