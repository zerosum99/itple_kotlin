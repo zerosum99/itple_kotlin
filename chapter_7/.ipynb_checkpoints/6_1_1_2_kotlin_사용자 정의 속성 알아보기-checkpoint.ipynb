{
 "cells": [
  {
   "cell_type": "code",
   "execution_count": null,
   "id": "799171a6",
   "metadata": {},
   "outputs": [],
   "source": []
  },
  {
   "cell_type": "code",
   "execution_count": null,
   "id": "8b94fc66",
   "metadata": {},
   "outputs": [],
   "source": [
    "var varInt: Int = 0\n",
    "    get() {\n",
    "      println(\"get()\")\n",
    "      return field       // [1]\n",
    "    }\n",
    "    set(value) {\n",
    "      println(\"set($value)\")\n",
    "      field = value      // [2]\n",
    "    }"
   ]
  },
  {
   "cell_type": "code",
   "execution_count": null,
   "id": "f56938bd",
   "metadata": {},
   "outputs": [],
   "source": []
  },
  {
   "cell_type": "code",
   "execution_count": null,
   "id": "372229a1",
   "metadata": {},
   "outputs": [],
   "source": []
  },
  {
   "cell_type": "markdown",
   "id": "084a19b1",
   "metadata": {},
   "source": [
    "## 클래스에 속성 접근자 처리 알아보기"
   ]
  },
  {
   "cell_type": "code",
   "execution_count": 1,
   "id": "307e492f",
   "metadata": {},
   "outputs": [],
   "source": [
    "class Default {\n",
    "  var i: Int = 0\n",
    "    get() {\n",
    "      println(\"get()\")\n",
    "      return field       // [1]\n",
    "    }\n",
    "    set(value) {\n",
    "      println(\"set($value)\")\n",
    "      field = value      // [2]\n",
    "    }\n",
    "}\n"
   ]
  },
  {
   "cell_type": "code",
   "execution_count": 2,
   "id": "27a00343",
   "metadata": {},
   "outputs": [
    {
     "name": "stdout",
     "output_type": "stream",
     "text": [
      "get()\n",
      "0\n",
      "set(2)\n",
      "get()\n",
      "2\n"
     ]
    }
   ],
   "source": [
    "val d = Default()\n",
    "println(d.i)\n",
    "d.i = 2\n",
    "println(d.i)"
   ]
  },
  {
   "cell_type": "code",
   "execution_count": null,
   "id": "4647db97",
   "metadata": {},
   "outputs": [],
   "source": []
  },
  {
   "cell_type": "code",
   "execution_count": 3,
   "id": "cd9fa3d2",
   "metadata": {},
   "outputs": [],
   "source": [
    "class Counter {\n",
    "  var value: Int = 0\n",
    "    private set\n",
    "  fun inc() = value++\n",
    "}"
   ]
  },
  {
   "cell_type": "code",
   "execution_count": 4,
   "id": "b298a74f",
   "metadata": {},
   "outputs": [
    {
     "name": "stdout",
     "output_type": "stream",
     "text": [
      "10\n"
     ]
    }
   ],
   "source": [
    "val counter = Counter()\n",
    "for (i in 1..10) {\n",
    "    counter.inc()\n",
    "}\n",
    "println(counter.value)"
   ]
  },
  {
   "cell_type": "code",
   "execution_count": null,
   "id": "4e103510",
   "metadata": {},
   "outputs": [],
   "source": []
  },
  {
   "cell_type": "code",
   "execution_count": 5,
   "id": "a6e5969b",
   "metadata": {},
   "outputs": [],
   "source": [
    "class Hamster(val name: String)\n",
    "\n",
    "class Cage(private val maxCapacity: Int) {\n",
    "  private val hamsters = mutableListOf<Hamster>()\n",
    "  \n",
    "  val capacity: Int\n",
    "    get() = maxCapacity - hamsters.size\n",
    "    \n",
    "  val full: Boolean\n",
    "    get() = hamsters.size == maxCapacity\n",
    "    \n",
    "  fun put(hamster: Hamster): Boolean =\n",
    "    if (full) false\n",
    "    else {\n",
    "      hamsters += hamster\n",
    "      true\n",
    "    }\n",
    "    \n",
    "  fun take(): Hamster = hamsters.removeAt(0)\n",
    "}"
   ]
  },
  {
   "cell_type": "code",
   "execution_count": 6,
   "id": "56025efb",
   "metadata": {},
   "outputs": [
    {
     "name": "stdout",
     "output_type": "stream",
     "text": [
      "Alice\n"
     ]
    }
   ],
   "source": [
    "val cage = Cage(2)\n",
    "\n",
    "cage.put(Hamster(\"Alice\")) \n",
    "cage.put(Hamster(\"Bob\")) \n",
    "cage.put(Hamster(\"Charlie\")) \n",
    "println(cage.take().name)\n"
   ]
  },
  {
   "cell_type": "code",
   "execution_count": null,
   "id": "b32a6911",
   "metadata": {},
   "outputs": [],
   "source": []
  }
 ],
 "metadata": {
  "kernelspec": {
   "display_name": "Kotlin",
   "language": "kotlin",
   "name": "kotlin"
  },
  "language_info": {
   "codemirror_mode": "text/x-kotlin",
   "file_extension": ".kt",
   "mimetype": "text/x-kotlin",
   "name": "kotlin",
   "nbconvert_exporter": "",
   "pygments_lexer": "kotlin",
   "version": "1.6.0-dev-3567"
  }
 },
 "nbformat": 4,
 "nbformat_minor": 5
}
