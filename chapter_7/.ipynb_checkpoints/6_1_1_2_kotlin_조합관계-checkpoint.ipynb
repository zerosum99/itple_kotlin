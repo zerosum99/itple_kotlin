{
 "cells": [
  {
   "cell_type": "markdown",
   "id": "804eaa98",
   "metadata": {},
   "source": [
    "## 특정 객체 내에서만 해당 객체를 사용할 수 있다."
   ]
  },
  {
   "cell_type": "code",
   "execution_count": 1,
   "id": "011d2601",
   "metadata": {},
   "outputs": [],
   "source": [
    "class CarEngine {\n",
    "    fun startEngine(){\n",
    "        println(\"엔진 가동.\")\n",
    "    }\n",
    "\n",
    "    fun stopEngine(){\n",
    "        println(\"엔진 중단 .\")\n",
    "    }\n",
    "} \n",
    "\n",
    "open class Car(var colour: String,var maxi_Speed : Int) {\n",
    "    fun carDetails(){\n",
    "          println(\"차 색상= \"+colour + \"; 최고속도= \" + maxi_Speed);\n",
    "    }\n",
    "} "
   ]
  },
  {
   "cell_type": "code",
   "execution_count": null,
   "id": "f40547c8",
   "metadata": {},
   "outputs": [],
   "source": []
  },
  {
   "cell_type": "code",
   "execution_count": 2,
   "id": "d7483a43",
   "metadata": {},
   "outputs": [
    {
     "name": "stdout",
     "output_type": "stream",
     "text": [
      "차 색상= Red; 최고속도= 240\n",
      "엔진 가동.\n"
     ]
    }
   ],
   "source": [
    "class CarProduct(color : String, \n",
    "                 max_speed : Int) : \n",
    "                            Car(color, max_speed){\n",
    "    lateinit var carEngine : CarEngine \n",
    "\n",
    "    fun startCarProduct(){\n",
    "        carEngine = CarEngine()                     // 조합 구성 \n",
    "        carEngine.startEngine() \n",
    "\n",
    "    }\n",
    "} \n",
    "\n",
    "\n",
    "val carJazz = CarProduct(\"Red\", 240)\n",
    "\n",
    "carJazz.carDetails()\n",
    "carJazz.startCarProduct()\n"
   ]
  },
  {
   "cell_type": "code",
   "execution_count": null,
   "id": "a44cbbd9",
   "metadata": {},
   "outputs": [],
   "source": []
  },
  {
   "cell_type": "code",
   "execution_count": null,
   "id": "25b31659",
   "metadata": {},
   "outputs": [],
   "source": []
  },
  {
   "cell_type": "code",
   "execution_count": null,
   "id": "0d466e16",
   "metadata": {},
   "outputs": [],
   "source": []
  }
 ],
 "metadata": {
  "kernelspec": {
   "display_name": "Kotlin",
   "language": "kotlin",
   "name": "kotlin"
  },
  "language_info": {
   "codemirror_mode": "text/x-kotlin",
   "file_extension": ".kt",
   "mimetype": "text/x-kotlin",
   "name": "kotlin",
   "nbconvert_exporter": "",
   "pygments_lexer": "kotlin",
   "version": "1.7.0-dev-1825"
  }
 },
 "nbformat": 4,
 "nbformat_minor": 5
}
