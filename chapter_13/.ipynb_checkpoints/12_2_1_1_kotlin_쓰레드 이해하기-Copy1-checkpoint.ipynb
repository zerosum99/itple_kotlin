{
 "cells": [
  {
   "cell_type": "code",
   "execution_count": null,
   "id": "b20f12dd",
   "metadata": {},
   "outputs": [],
   "source": []
  },
  {
   "cell_type": "markdown",
   "id": "4041c52a",
   "metadata": {},
   "source": [
    "## 쓰레드 상태 확인하기"
   ]
  },
  {
   "cell_type": "code",
   "execution_count": 49,
   "id": "9a9a5382",
   "metadata": {},
   "outputs": [
    {
     "name": "stdout",
     "output_type": "stream",
     "text": [
      "코어 개수 : 8\n",
      "class java.lang.Thread\n",
      "class java.lang.Runnable\n",
      "현재 쓰레드 개수 : 159\n",
      "Thread[Thread-278,5,main]\n",
      "Thread\n",
      "92\n",
      "java.lang.ThreadGroup[name=main,maxpri=10]\n",
      "false\n",
      "true\n",
      "false\n"
     ]
    }
   ],
   "source": [
    "fun <T:Any> T.dir() : Set<String> {                      // 리스트의 멤버를 조회하는 확장함수\n",
    "    val a = this.javaClass.kotlin                        // 클래스 출력 \n",
    "    println(a.simpleName)\n",
    "    val ll = a.members.map { it.name}                    // 멤버의 이름을 맵으로 처리하기 \n",
    "    return ll.toSet() \n",
    "}\n",
    "\n",
    "val cores = Runtime.getRuntime().availableProcessors()     // 프로세스 갯수 \n",
    "println(\"코어 개수 : $cores\")\n",
    "\n",
    "println(Thread::class)                                     // 쓰레드 클래스 참조\n",
    "println(Runnable::class)                                   // 인터페이스 참조\n",
    "println(\"현재 쓰레드 개수 : \" + Thread.activeCount())          // 쓰레드 갯수 \n",
    "println(Thread.currentThread())                            // 현재 쓰레드\n",
    "\n",
    "\n",
    "val tr1 = Thread()                                         // 쓰레드 객체 생성\n",
    "println(tr1.dir().count())                                 // 쓰레드 내부 멤버 확인  객 \n",
    "println(tr1.getThreadGroup())                              // 쓰레드 그룹확인 \n",
    "println(tr1.isAlive)                                       // 활동여부 \n",
    "tr1.start()                                                // 쓰레드 시작 \n",
    "println(tr1.isAlive)                                       // 활동여부 \n",
    "println(tr1.isDaemon)                                      // 데몬쓰레드 여부\n",
    "tr1.join()  \n",
    "//tr1.start()                                              // 조인이후에 쓰레드 종료"
   ]
  },
  {
   "cell_type": "code",
   "execution_count": null,
   "id": "3f62f3ca",
   "metadata": {},
   "outputs": [],
   "source": []
  },
  {
   "cell_type": "markdown",
   "id": "1993f6a6",
   "metadata": {},
   "source": [
    "## 기본 처리는 메인 쓰레드"
   ]
  },
  {
   "cell_type": "code",
   "execution_count": 1,
   "id": "2846df42",
   "metadata": {},
   "outputs": [
    {
     "name": "stdout",
     "output_type": "stream",
     "text": [
      "task1 : Thread[Thread-14,5,main]\n",
      "task1 : Thread[Thread-14,5,main]\n"
     ]
    }
   ],
   "source": [
    "fun task1() {\n",
    "    println(\"task1 : ${Thread.currentThread()}\")\n",
    "}\n",
    "\n",
    "fun task2() {\n",
    "    println(\"task1 : ${Thread.currentThread()}\")\n",
    "}\n",
    "\n",
    "run {\n",
    "    task1()\n",
    "    task2()\n",
    "}"
   ]
  },
  {
   "cell_type": "code",
   "execution_count": null,
   "id": "d83b3e9a",
   "metadata": {},
   "outputs": [],
   "source": []
  },
  {
   "cell_type": "code",
   "execution_count": null,
   "id": "bb73ceab",
   "metadata": {},
   "outputs": [],
   "source": []
  },
  {
   "cell_type": "code",
   "execution_count": null,
   "id": "a792ae45",
   "metadata": {},
   "outputs": [],
   "source": []
  },
  {
   "cell_type": "markdown",
   "id": "78ac76c5",
   "metadata": {},
   "source": [
    "## 쓰레드 생성 및 실행 : 상속 처리"
   ]
  },
  {
   "cell_type": "code",
   "execution_count": 2,
   "id": "c586791e",
   "metadata": {},
   "outputs": [
    {
     "name": "stdout",
     "output_type": "stream",
     "text": [
      "메인쓰레드 : Thread[Thread-11,5,main]\n",
      "현재 쓰레드 이름 : Thread-12\n",
      "현재 쓰레드 이름 : Thread-12\n",
      "현재 쓰레드 이름 : Thread-13\n"
     ]
    }
   ],
   "source": [
    "class SimpleThread : Thread() {               // 쓰레드 상속한 클래스 정의 \n",
    "    override fun run() {                      //  이 메소드는 start나 직접 호출이 가능  \n",
    "        println(\"현재 쓰레드 이름 : ${this.getName()}\")\n",
    "    }\n",
    "}\n",
    "println(\"메인쓰레드 : ${Thread.currentThread()}\")\n",
    "val thread = SimpleThread()                   // 쓰레드 객체를 생성 \n",
    "thread.run()                                  // 쓰레드 실행 \n",
    "thread.join()\n",
    "\n",
    "thread.run()                                  // 쓰레드 실행 \n",
    "thread.join()\n",
    "\n",
    "val thread1 = SimpleThread()                  // 새로운 쓰레드 객체 생성\n",
    "thread1.start()                               // 쓰레드 실행 \n",
    "thread1.join()                                // 쓰레드 종료 \n",
    "\n",
    "// thread1.start()                            // 쓰레드를 다시 생성해서 처리"
   ]
  },
  {
   "cell_type": "code",
   "execution_count": null,
   "id": "7caf7c85",
   "metadata": {},
   "outputs": [],
   "source": []
  },
  {
   "cell_type": "code",
   "execution_count": null,
   "id": "d625cb7b",
   "metadata": {},
   "outputs": [],
   "source": []
  },
  {
   "cell_type": "markdown",
   "id": "36a03805",
   "metadata": {},
   "source": [
    "## 러너블로 쓰레드 구성하기"
   ]
  },
  {
   "cell_type": "code",
   "execution_count": 3,
   "id": "afdd6fa7",
   "metadata": {},
   "outputs": [
    {
     "name": "stdout",
     "output_type": "stream",
     "text": [
      "thread2 going to sleep for 5000\n",
      "쓰레드 이름    : Thread-18\n",
      "thread1 going to sleep for 5000\n",
      "쓰레드 ID     : 30\n",
      "쓰레드 우선순위 : 5\n",
      "쓰레드 상태    : TIMED_WAITING\n"
     ]
    }
   ],
   "source": [
    "class Helper : Runnable {\n",
    "   override fun run() {\n",
    "           println(\"thread1 going to sleep for 5000\")\n",
    "           Thread.sleep(5000);\n",
    "        }\n",
    "}\n",
    "class Test : Runnable {\n",
    "   override fun run() {\n",
    "           println(\"thread2 going to sleep for 5000\")\n",
    "           Thread.sleep(5000)\n",
    "        }\n",
    "}\n",
    "\n",
    "val obj =  Test()                                    // Making objects of class 1 and 2 in main() method\n",
    "val obj2 = Helper()\n",
    " \n",
    "val thread1 = Thread(obj)                            // Creating 2 threads in main() method\n",
    "val thread2 = Thread(obj2)\n",
    " \n",
    "thread1.start()                                      // Moving thread to runnable states\n",
    "thread2.start()\n",
    "\n",
    "println(\"쓰레드 이름    : \" + thread1.getName())\n",
    "println(\"쓰레드 ID     : \" + thread1.getId())\n",
    "println(\"쓰레드 우선순위 : \" + thread1.getPriority())\n",
    "println(\"쓰레드 상태    : \" +thread1.getState())\n",
    "\n",
    "thread1.join()\n",
    "thread2.join()"
   ]
  },
  {
   "cell_type": "code",
   "execution_count": null,
   "id": "b8f9b47d",
   "metadata": {},
   "outputs": [],
   "source": []
  },
  {
   "cell_type": "markdown",
   "id": "c1d023e5",
   "metadata": {},
   "source": [
    "## object 표현식 : 익명클래스 처리"
   ]
  },
  {
   "cell_type": "code",
   "execution_count": 4,
   "id": "3b1abeb8",
   "metadata": {},
   "outputs": [
    {
     "name": "stdout",
     "output_type": "stream",
     "text": [
      "쓰레드 이름    : Thread-24\n",
      "thread11 going to sleep for 5000\n",
      "thread21 going to sleep for 5000\n",
      "쓰레드 ID     : 36\n",
      "쓰레드 우선순위 : 5\n",
      "쓰레드 상태    : TIMED_WAITING\n"
     ]
    }
   ],
   "source": [
    "val thread11 = object : Thread() {\n",
    "                   override fun run() {\n",
    "                        println(\"thread11 going to sleep for 5000\")\n",
    "                        Thread.sleep(5000);\n",
    "                    }\n",
    "              }\n",
    "\n",
    "\n",
    "val thread21 =  object : Thread() {\n",
    "                   override fun run() {\n",
    "                        println(\"thread21 going to sleep for 5000\")\n",
    "                        Thread.sleep(5000)\n",
    "                   }\n",
    "               }\n",
    " \n",
    "thread11.start()                                      // Moving thread to runnable states\n",
    "thread21.start()\n",
    "\n",
    "println(\"쓰레드 이름    : \" + thread11.getName())\n",
    "println(\"쓰레드 ID     : \" + thread11.getId())\n",
    "println(\"쓰레드 우선순위 : \" + thread11.getPriority())\n",
    "println(\"쓰레드 상태    : \" +thread11.getState())\n",
    "\n",
    "thread11.join()\n",
    "thread21.join()"
   ]
  },
  {
   "cell_type": "code",
   "execution_count": null,
   "id": "02cddd57",
   "metadata": {},
   "outputs": [],
   "source": []
  },
  {
   "cell_type": "markdown",
   "id": "6d1a23d4",
   "metadata": {},
   "source": [
    "## 쓰레드 함수로 처리하기\n",
    "\n",
    "\n",
    "- start – To run immediately the thread\n",
    "- isDaemon – To create the thread as a daemon thread\n",
    "- contextClassLoader – A class loader to use for loading classes and resources\n",
    "- name – To set the name of the thread\n",
    "- priority – To set the priority of the thread"
   ]
  },
  {
   "cell_type": "code",
   "execution_count": 5,
   "id": "e0d09776",
   "metadata": {},
   "outputs": [
    {
     "name": "stdout",
     "output_type": "stream",
     "text": [
      "Thread[Thread-29,5,main]: run the thread\n",
      "Thread[Thread-29,5,main]: wait until the thread is done\n",
      "Thread[Thread-30,5,main]: it's running.\n"
     ]
    }
   ],
   "source": [
    "import kotlin.concurrent.thread\n",
    "\n",
    "\n",
    "println(\"${Thread.currentThread()}: run the thread\")\n",
    "\n",
    "val myThread = thread() {\n",
    "    println(\"${Thread.currentThread()}: it's running.\")\n",
    "}\n",
    "\n",
    "println(\"${Thread.currentThread()}: wait until the thread is done\")\n",
    "myThread.join()\n"
   ]
  },
  {
   "cell_type": "code",
   "execution_count": null,
   "id": "a0d92110",
   "metadata": {},
   "outputs": [],
   "source": []
  },
  {
   "cell_type": "code",
   "execution_count": 6,
   "id": "2a52453b",
   "metadata": {},
   "outputs": [
    {
     "name": "stdout",
     "output_type": "stream",
     "text": [
      "Hello! This is lambda thread Thread[Thread-35,5,main]\n"
     ]
    },
    {
     "data": {
      "text/plain": [
       "Thread[Thread-35,5,]"
      ]
     },
     "execution_count": 6,
     "metadata": {},
     "output_type": "execute_result"
    }
   ],
   "source": [
    "fun makeThread( start: Boolean = true,\n",
    "                isDaemon: Boolean = false,\n",
    "                contextClassLoader: ClassLoader? = null,\n",
    "                name: String? = null,\n",
    "                priority: Int = -1,\n",
    "                block: () -> Unit ): Thread {\n",
    "    val thread = object : Thread() {\n",
    "        override fun run() {\n",
    "            block()\n",
    "        }\n",
    "    }\n",
    "    if (isDaemon)\n",
    "        thread.isDaemon = true\n",
    "    if (priority > 0)\n",
    "        thread.priority = priority\n",
    "    name?.let { thread.name = it }\n",
    "    contextClassLoader?.let { thread.contextClassLoader = it }\n",
    "    if (start) thread.start()\n",
    "    return thread\n",
    "}\n",
    "\n",
    "makeThread(block ={ println(\"Hello! This is lambda thread ${Thread.currentThread()}\")})"
   ]
  },
  {
   "cell_type": "code",
   "execution_count": null,
   "id": "0597f0a6",
   "metadata": {},
   "outputs": [],
   "source": []
  },
  {
   "cell_type": "code",
   "execution_count": 7,
   "id": "d926ad36",
   "metadata": {},
   "outputs": [
    {
     "name": "stdout",
     "output_type": "stream",
     "text": [
      "쓰레드 처리 \n"
     ]
    },
    {
     "data": {
      "text/plain": [
       "Thread[Thread-40,5,]"
      ]
     },
     "execution_count": 7,
     "metadata": {},
     "output_type": "execute_result"
    }
   ],
   "source": [
    "fun thread(\n",
    "  start: Boolean = true, \n",
    "  isDaemon: Boolean = false, \n",
    "  contextClassLoader: ClassLoader? = null, \n",
    "  name: String? = null, \n",
    "  priority: Int = -1, \n",
    "  block: () -> Unit ): Thread {\n",
    "    \n",
    "    val thread = object : Thread() {\n",
    "        override fun run() {\n",
    "            block()\n",
    "        }\n",
    "    }\n",
    "    if (isDaemon)\n",
    "        thread.isDaemon = true\n",
    "    if (priority > 0)\n",
    "        thread.priority = priority\n",
    "    \n",
    "    name?.let { thread.name = it }\n",
    "    contextClassLoader?.let { thread.contextClassLoader = it }\n",
    "    if (start) thread.start()\n",
    "    return thread\n",
    "}\n",
    "\n",
    "thread(block={println(\"쓰레드 처리 \")})"
   ]
  },
  {
   "cell_type": "code",
   "execution_count": null,
   "id": "e65173d5",
   "metadata": {},
   "outputs": [],
   "source": []
  },
  {
   "cell_type": "markdown",
   "id": "b184cfe4",
   "metadata": {},
   "source": [
    "## 조인 메소드 이해하기"
   ]
  },
  {
   "cell_type": "code",
   "execution_count": null,
   "id": "a8b7149a",
   "metadata": {},
   "outputs": [],
   "source": [
    "class JoinDemo : Runnable {\n",
    "    override fun run(){\n",
    "        val t = Thread.currentThread()\n",
    "        println(\"Current thread: \"+ t.getName())\n",
    "  \n",
    "        // checks if current thread is alive\n",
    "        println(\"Is Alive? \" + t.isAlive())\n",
    "    }\n",
    "} \n",
    "  \n",
    "val t1 = Thread(JoinDemo())\n",
    "t1.start()\n",
    "  \n",
    "// Waits for 1000ms this thread to die.\n",
    "t1.join(1000)\n",
    "  \n",
    "println(\"\\nJoining after 1000\" + \" milliseconds:\")\n",
    "println(\"Current thread: \"+ t1.getName())\n",
    "  \n",
    "// Checks if this thread is alive\n",
    "println(\"Is alive? \" + t1.isAlive())"
   ]
  },
  {
   "cell_type": "markdown",
   "id": "9f50d225",
   "metadata": {},
   "source": [
    "### 쓰레드 처리할 때 join을 사용하기"
   ]
  },
  {
   "cell_type": "code",
   "execution_count": 44,
   "id": "7cc877d2",
   "metadata": {},
   "outputs": [
    {
     "name": "stdout",
     "output_type": "stream",
     "text": [
      "0 thread Thread-253\n",
      "1 thread Thread-253\n",
      "2 thread Thread-253\n",
      "0 thread Thread-254\n",
      "1 thread Thread-254\n",
      "2 thread Thread-254\n"
     ]
    }
   ],
   "source": [
    "fun main() {\n",
    "    val mylamda1 = Thread({\n",
    "        for (x in 0..2){\n",
    "            Thread.sleep(200)\n",
    "            println(\"$x thread ${Thread.currentThread().name}\")\n",
    "        }\n",
    "   })\n",
    "    \n",
    "    val mylamda2 = Thread({\n",
    "        for (x in 0..2){\n",
    "            Thread.sleep(200)\n",
    "            println(\"$x thread ${Thread.currentThread().name}\")\n",
    "        }\n",
    "   })\n",
    "    \n",
    "    startThread(mylamda1)\n",
    "    mylamda1.join()\n",
    "    startThread(mylamda2)\n",
    "    mylamda2.join()\n",
    "\n",
    "}\n",
    "\n",
    "fun startThread(mylamda: Thread) {\n",
    "    mylamda.start()\n",
    "}\n",
    "main()"
   ]
  },
  {
   "cell_type": "code",
   "execution_count": null,
   "id": "65c76cc1",
   "metadata": {},
   "outputs": [],
   "source": []
  },
  {
   "cell_type": "code",
   "execution_count": null,
   "id": "7cc197e2",
   "metadata": {},
   "outputs": [],
   "source": []
  },
  {
   "cell_type": "code",
   "execution_count": null,
   "id": "87fd587f",
   "metadata": {},
   "outputs": [],
   "source": []
  },
  {
   "cell_type": "code",
   "execution_count": null,
   "id": "98f623bb",
   "metadata": {},
   "outputs": [],
   "source": []
  },
  {
   "cell_type": "code",
   "execution_count": 10,
   "id": "202c3a98",
   "metadata": {},
   "outputs": [],
   "source": [
    "fun threadC() {\n",
    "\n",
    "    Thread({\n",
    "        println(\"test1\")\n",
    "        Thread.sleep(1000)\n",
    "    }).start()\n",
    "\n",
    "    val thread = object: Thread(){\n",
    "        override fun run(){\n",
    "            println(\"test2\")\n",
    "            Thread.sleep(2000)\n",
    "        }\n",
    "    }\n",
    "\n",
    "    thread.start()\n",
    "    Thread.sleep(5000)\n",
    "    thread.join()\n",
    "}"
   ]
  },
  {
   "cell_type": "code",
   "execution_count": 11,
   "id": "b82202a4",
   "metadata": {},
   "outputs": [
    {
     "name": "stdout",
     "output_type": "stream",
     "text": [
      "test1\n",
      "test2\n"
     ]
    }
   ],
   "source": [
    "threadC()"
   ]
  },
  {
   "cell_type": "code",
   "execution_count": null,
   "id": "b26b0f58",
   "metadata": {},
   "outputs": [],
   "source": []
  },
  {
   "cell_type": "code",
   "execution_count": 12,
   "id": "d74b09fe",
   "metadata": {},
   "outputs": [],
   "source": [
    "fun testSimpleThread() {\n",
    "   var j: Int = 0\n",
    "   repeat(10) {\n",
    "      Thread(Runnable {\n",
    "         println(\"${++j}: ${Thread.currentThread().name}\")\n",
    "      }).start()\n",
    "   }\n",
    "   Thread.sleep(100)\n",
    "}"
   ]
  },
  {
   "cell_type": "code",
   "execution_count": 13,
   "id": "d404a8b5",
   "metadata": {},
   "outputs": [
    {
     "name": "stdout",
     "output_type": "stream",
     "text": [
      "2: Thread-70\n",
      "1: Thread-69\n",
      "5: Thread-73\n",
      "4: Thread-72\n",
      "3: Thread-71\n",
      "6: Thread-75\n",
      "8: Thread-76\n",
      "7: Thread-74\n",
      "10: Thread-78\n",
      "9: Thread-77\n"
     ]
    }
   ],
   "source": [
    "testSimpleThread()"
   ]
  },
  {
   "cell_type": "code",
   "execution_count": null,
   "id": "d17ca4e8",
   "metadata": {},
   "outputs": [],
   "source": []
  },
  {
   "cell_type": "code",
   "execution_count": 14,
   "id": "edd9178b",
   "metadata": {},
   "outputs": [
    {
     "name": "stdout",
     "output_type": "stream",
     "text": [
      "done\n"
     ]
    }
   ],
   "source": [
    "Thread() { \n",
    "    println(\"Thread started\") \n",
    "    Thread.sleep(2000L) \n",
    "    println(\"Thread completed\") \n",
    "} \n",
    "println(\"done\")\n",
    "\n"
   ]
  },
  {
   "cell_type": "code",
   "execution_count": 15,
   "id": "b035108c",
   "metadata": {},
   "outputs": [
    {
     "name": "stdout",
     "output_type": "stream",
     "text": [
      "Hello! This is thread Thread[Thread-87,5,main]\n"
     ]
    }
   ],
   "source": [
    "class SimpleThread : Thread() {\n",
    "    override fun run() {\n",
    "        println(\"Hello! This is thread ${currentThread()}\")\n",
    "    }\n",
    "}\n",
    "\n",
    "val thread = SimpleThread()\n",
    "\n",
    "thread.run()"
   ]
  },
  {
   "cell_type": "code",
   "execution_count": null,
   "id": "e3b9d411",
   "metadata": {},
   "outputs": [],
   "source": []
  },
  {
   "cell_type": "code",
   "execution_count": 16,
   "id": "dbfecaa8",
   "metadata": {},
   "outputs": [
    {
     "name": "stdout",
     "output_type": "stream",
     "text": [
      "Thread[Thread-92,5,main]: run the thread\n",
      "Thread[Thread-92,5,main]: wait until the thread is done\n",
      "Thread[Thread-93,5,main]: it's running.\n"
     ]
    }
   ],
   "source": [
    "class MyThread: Thread() {\n",
    "    public override fun run() {\n",
    "        println(\"${Thread.currentThread()}: it's running.\")\n",
    "    }\n",
    "}\n",
    "\n",
    "\n",
    "println(\"${Thread.currentThread()}: run the thread\")\n",
    "\n",
    "val myThread = MyThread()\n",
    "myThread.start()\n",
    "\n",
    "println(\"${Thread.currentThread()}: wait until the thread is done\")\n",
    "myThread.join()\n"
   ]
  },
  {
   "cell_type": "code",
   "execution_count": null,
   "id": "8d4fd6fe",
   "metadata": {},
   "outputs": [],
   "source": []
  },
  {
   "cell_type": "code",
   "execution_count": 17,
   "id": "111eca7f",
   "metadata": {},
   "outputs": [],
   "source": [
    "class SimpleThread: Thread() {\n",
    "    public override fun run() {\n",
    "        println(\"${Thread.currentThread()} has run.\")\n",
    "    }\n",
    "}\n",
    "\n",
    "class SimpleRunnable: Runnable {\n",
    "    public override fun run() {\n",
    "        println(\"${Thread.currentThread()} has run.\")\n",
    "    }\n",
    "}"
   ]
  },
  {
   "cell_type": "code",
   "execution_count": 18,
   "id": "5ada370d",
   "metadata": {},
   "outputs": [
    {
     "name": "stdout",
     "output_type": "stream",
     "text": [
      "Thread[Thread-102,5,main] has run.\n",
      "Thread[Thread-103,5,main] has run.\n"
     ]
    }
   ],
   "source": [
    "val thread = SimpleThread()\n",
    "thread.start()\n",
    "        \n",
    "val threadWithRunnable = Thread(SimpleRunnable())\n",
    "threadWithRunnable.start()"
   ]
  },
  {
   "cell_type": "code",
   "execution_count": null,
   "id": "e9d7a291",
   "metadata": {},
   "outputs": [],
   "source": []
  },
  {
   "cell_type": "markdown",
   "id": "f29998c6",
   "metadata": {},
   "source": [
    "## 인터페이스 사용"
   ]
  },
  {
   "cell_type": "code",
   "execution_count": 19,
   "id": "74c033cf",
   "metadata": {},
   "outputs": [
    {
     "name": "stdout",
     "output_type": "stream",
     "text": [
      "Hello! This is runnable 1260593296\n"
     ]
    }
   ],
   "source": [
    "class SimpleRunnable : Runnable {\n",
    "    override fun run() {\n",
    "        println(\"Hello! This is runnable ${hashCode()}\")\n",
    "    }\n",
    "}\n",
    "\n",
    "val runnable = SimpleRunnable()\n",
    "val thread2 = Thread(runnable)\n",
    "\n",
    "thread2.start()\n",
    "\n",
    "thread2.join()"
   ]
  },
  {
   "cell_type": "code",
   "execution_count": 20,
   "id": "f96b5cdd",
   "metadata": {},
   "outputs": [
    {
     "name": "stdout",
     "output_type": "stream",
     "text": [
      "Thread[Thread-112,5,main]: run the thread\n",
      "Thread[Thread-112,5,main]: wait until the thread is done\n",
      "Thread[Thread-113,5,main]: it's running.\n"
     ]
    }
   ],
   "source": [
    "class MyRunnable: Runnable {\n",
    "    public override fun run() {\n",
    "        println(\"${Thread.currentThread()}: it's running.\")\n",
    "    }\n",
    "}\n",
    "\n",
    "\n",
    "println(\"${Thread.currentThread()}: run the thread\")\n",
    "\n",
    "val myThread = Thread(MyRunnable())\n",
    "myThread.start()\n",
    "\n",
    "println(\"${Thread.currentThread()}: wait until the thread is done\")\n",
    "myThread.join()\n"
   ]
  },
  {
   "cell_type": "code",
   "execution_count": null,
   "id": "b6aa849c",
   "metadata": {},
   "outputs": [],
   "source": []
  },
  {
   "cell_type": "markdown",
   "id": "4181f8ae",
   "metadata": {},
   "source": [
    "## 쓰레드 객체를 직접 사용"
   ]
  },
  {
   "cell_type": "code",
   "execution_count": 21,
   "id": "c5aca8fd",
   "metadata": {},
   "outputs": [
    {
     "name": "stdout",
     "output_type": "stream",
     "text": [
      "Hello! This is lambda thread Thread[Thread-118,5,main]\n"
     ]
    }
   ],
   "source": [
    "Thread {\n",
    "    println(\"Hello! This is lambda thread ${Thread.currentThread()}\")\n",
    "}.start()"
   ]
  },
  {
   "cell_type": "code",
   "execution_count": 22,
   "id": "381dd7f9",
   "metadata": {},
   "outputs": [
    {
     "name": "stdout",
     "output_type": "stream",
     "text": [
      "Thread[Thread-123,5,main] has run.\n"
     ]
    }
   ],
   "source": [
    "val thread = Thread {\n",
    "    println(\"${Thread.currentThread()} has run.\")\n",
    "}\n",
    "thread.start()"
   ]
  },
  {
   "cell_type": "code",
   "execution_count": null,
   "id": "14f51113",
   "metadata": {},
   "outputs": [],
   "source": []
  },
  {
   "cell_type": "code",
   "execution_count": 23,
   "id": "33ef82f8",
   "metadata": {},
   "outputs": [
    {
     "name": "stdout",
     "output_type": "stream",
     "text": [
      "Thread[Thread-127,5,main]: run the thread\n",
      "Thread[Thread-127,5,main]: wait until the thread is done\n",
      "Thread[Thread-128,5,main]: it's running.\n"
     ]
    }
   ],
   "source": [
    "println(\"${Thread.currentThread()}: run the thread\")\n",
    "\n",
    "val myThread = Thread {\n",
    "    println(\"${Thread.currentThread()}: it's running.\")\n",
    "}\n",
    "\n",
    "myThread.start()\n",
    "\n",
    "println(\"${Thread.currentThread()}: wait until the thread is done\")\n",
    "    \n",
    "myThread.join()"
   ]
  },
  {
   "cell_type": "code",
   "execution_count": 24,
   "id": "120f777e",
   "metadata": {},
   "outputs": [
    {
     "name": "stdout",
     "output_type": "stream",
     "text": [
      "Thread[Thread-133,5,main]: it's running.\n"
     ]
    }
   ],
   "source": [
    "Thread {\n",
    "    println(\"${Thread.currentThread()}: it's running.\")\n",
    "}.start()"
   ]
  },
  {
   "cell_type": "code",
   "execution_count": null,
   "id": "0887786c",
   "metadata": {},
   "outputs": [],
   "source": []
  },
  {
   "cell_type": "markdown",
   "id": "e96e2508",
   "metadata": {},
   "source": [
    "## 스레드 함수로 처리 "
   ]
  },
  {
   "cell_type": "code",
   "execution_count": null,
   "id": "3527a88b",
   "metadata": {},
   "outputs": [],
   "source": []
  },
  {
   "cell_type": "markdown",
   "id": "1faa4cf7",
   "metadata": {},
   "source": [
    "## 함수 매개벼수\n",
    "\n",
    "- start – To run immediately the thread\n",
    "- isDaemon – To create the thread as a daemon thread\n",
    "- contextClassLoader – A class loader to use for loading classes and resources\n",
    "- name – To set the name of the thread\n",
    "- priority – To set the priority of the thread"
   ]
  },
  {
   "cell_type": "code",
   "execution_count": 25,
   "id": "8db2978e",
   "metadata": {},
   "outputs": [
    {
     "name": "stdout",
     "output_type": "stream",
     "text": [
      "쓰레드 처리 \n"
     ]
    },
    {
     "data": {
      "text/plain": [
       "Thread[Thread-138,5,]"
      ]
     },
     "execution_count": 25,
     "metadata": {},
     "output_type": "execute_result"
    }
   ],
   "source": [
    "fun thread(\n",
    "  start: Boolean = true, \n",
    "  isDaemon: Boolean = false, \n",
    "  contextClassLoader: ClassLoader? = null, \n",
    "  name: String? = null, \n",
    "  priority: Int = -1, \n",
    "  block: () -> Unit\n",
    "): Thread {\n",
    "    \n",
    "    val thread = object : Thread() {\n",
    "        override fun run() {\n",
    "            block()\n",
    "        }\n",
    "    }\n",
    "    if (isDaemon)\n",
    "        thread.isDaemon = true\n",
    "    if (priority > 0)\n",
    "        thread.priority = priority\n",
    "    name?.let { thread.name = it }\n",
    "    contextClassLoader?.let { thread.contextClassLoader = it }\n",
    "    if (start) thread.start()\n",
    "    return thread\n",
    "}\n",
    "thread(block={println(\"쓰레드 처리 \")})"
   ]
  },
  {
   "cell_type": "code",
   "execution_count": 26,
   "id": "36164c93",
   "metadata": {},
   "outputs": [
    {
     "name": "stdout",
     "output_type": "stream",
     "text": [
      "Thread[Thread-143,5,main] has run.\n"
     ]
    },
    {
     "data": {
      "text/plain": [
       "Thread[Thread-143,5,]"
      ]
     },
     "execution_count": 26,
     "metadata": {},
     "output_type": "execute_result"
    }
   ],
   "source": [
    "thread(start = true) {\n",
    "    println(\"${Thread.currentThread()} has run.\")\n",
    "}"
   ]
  },
  {
   "cell_type": "code",
   "execution_count": null,
   "id": "a6a07248",
   "metadata": {},
   "outputs": [],
   "source": []
  },
  {
   "cell_type": "code",
   "execution_count": null,
   "id": "53e822c5",
   "metadata": {},
   "outputs": [],
   "source": []
  },
  {
   "cell_type": "markdown",
   "id": "37a35c31",
   "metadata": {},
   "source": [
    "## 바로 스타를 처리하지 않을 때"
   ]
  },
  {
   "cell_type": "code",
   "execution_count": 27,
   "id": "4d55366f",
   "metadata": {},
   "outputs": [
    {
     "name": "stdout",
     "output_type": "stream",
     "text": [
      "Thread[Thread-148,5,main]: it's running.\n"
     ]
    }
   ],
   "source": [
    "val myThread = thread(start = false) {\n",
    "    println(\"${Thread.currentThread()}: it's running.\")\n",
    "}\n",
    "\n",
    "myThread.start()"
   ]
  },
  {
   "cell_type": "code",
   "execution_count": null,
   "id": "a9b1d1fb",
   "metadata": {},
   "outputs": [],
   "source": []
  },
  {
   "cell_type": "markdown",
   "id": "705dbae2",
   "metadata": {},
   "source": [
    "## 조인을 처리하지 않을때"
   ]
  },
  {
   "cell_type": "code",
   "execution_count": 28,
   "id": "4b1db8ad",
   "metadata": {},
   "outputs": [
    {
     "name": "stdout",
     "output_type": "stream",
     "text": [
      "Thread[Thread-153,5,main]: it's running.\n"
     ]
    },
    {
     "data": {
      "text/plain": [
       "Thread[Thread-153,5,]"
      ]
     },
     "execution_count": 28,
     "metadata": {},
     "output_type": "execute_result"
    }
   ],
   "source": [
    "thread() {\n",
    "    println(\"${Thread.currentThread()}: it's running.\")\n",
    "}"
   ]
  },
  {
   "cell_type": "code",
   "execution_count": null,
   "id": "8acf7dad",
   "metadata": {},
   "outputs": [],
   "source": []
  },
  {
   "cell_type": "code",
   "execution_count": null,
   "id": "9419a392",
   "metadata": {},
   "outputs": [],
   "source": []
  },
  {
   "cell_type": "code",
   "execution_count": 29,
   "id": "e51950af",
   "metadata": {},
   "outputs": [
    {
     "name": "stdout",
     "output_type": "stream",
     "text": [
      "Thread 1\n",
      "Thread 2\n",
      "Thread 1\n",
      "Thread 2\n",
      "Thread 1\n",
      "Thread 2\n",
      "Thread 1\n",
      "Thread 2\n",
      "Thread 1\n",
      "Thread 2\n",
      "Threads Sleeping\n"
     ]
    }
   ],
   "source": [
    "class Thread1:Thread(){\n",
    "    override fun run():Unit{\n",
    "      for(i in 0 until 5){\n",
    "          println(\"Thread 1\")\n",
    "          Thread.sleep(1000)\n",
    "      }\n",
    "    }\n",
    "}\n",
    "\n",
    "class Thread2:Thread(){\n",
    "    override fun run() {\n",
    "        for (i in 0 until 5) {\n",
    "            println(\"Thread 2\")\n",
    "            Thread.sleep(1000)\n",
    "        }\n",
    "    }\n",
    "}\n",
    "\n",
    "// With simple threads\n",
    "val thread1= Thread1()\n",
    "val thread2= Thread2()\n",
    "thread1.start()\n",
    "Thread.sleep(10)\n",
    "thread2.start()\n",
    "\n",
    "thread1.join()\n",
    "thread2.join()\n",
    "\n",
    "println(\"Threads Sleeping\")"
   ]
  },
  {
   "cell_type": "code",
   "execution_count": null,
   "id": "6a5cd794",
   "metadata": {},
   "outputs": [],
   "source": []
  },
  {
   "cell_type": "code",
   "execution_count": 30,
   "id": "b3905aa6",
   "metadata": {},
   "outputs": [
    {
     "name": "stdout",
     "output_type": "stream",
     "text": [
      "Runnable thread\n",
      "RunnableThread2\n",
      "Runnable thread\n",
      "RunnableThread2\n",
      "Runnable thread\n",
      "RunnableThread2\n",
      "Runnable thread\n",
      "RunnableThread2\n"
     ]
    }
   ],
   "source": [
    "class RunnableThread1:Runnable{\n",
    "    override fun run() {\n",
    "        for(i in 0 until 4){\n",
    "            println(\"Runnable thread\")\n",
    "            Thread.sleep(500)\n",
    "        }\n",
    "    }\n",
    "}\n",
    "class RunnableThread2:Runnable{\n",
    "    override fun run() {\n",
    "        for(i in 0 until 4) {\n",
    "            println(\"RunnableThread2\")\n",
    "            Thread.sleep(500)\n",
    "        }\n",
    "    }\n",
    "\n",
    "}\n",
    "\n",
    "//With Runnable\n",
    "val runnableThread1= RunnableThread1()\n",
    "val runnableThread2 = RunnableThread2()\n",
    "\n",
    "val t1 =Thread(runnableThread1)\n",
    "val t2 = Thread(runnableThread2)\n",
    "t1.start()\n",
    "Thread.sleep(10)\n",
    "t2.start()\n",
    "\n",
    "t1.join()\n",
    "t2.join()"
   ]
  },
  {
   "cell_type": "code",
   "execution_count": null,
   "id": "a6c07406",
   "metadata": {},
   "outputs": [],
   "source": []
  },
  {
   "cell_type": "code",
   "execution_count": 31,
   "id": "6f9f3037",
   "metadata": {},
   "outputs": [
    {
     "name": "stdout",
     "output_type": "stream",
     "text": [
      "Lambda 1\n",
      "Lambda 2\n",
      "Lambda 1\n",
      "Lambda 2\n",
      "Lambda 2\n",
      "Lambda 1\n",
      "Lambda 2\n",
      "Lambda 1\n",
      "Threads Sleeping\n"
     ]
    }
   ],
   "source": [
    "// Lambda expression\n",
    " val lambda1=Thread{\n",
    "     for(i in 0 until 4){\n",
    "     println(\"Lambda 1\")\n",
    "     Thread.sleep(400)\n",
    "     }\n",
    " }\n",
    "\n",
    " val lambda2= Thread{\n",
    "     for(i in 0 until 4){\n",
    "         println(\"Lambda 2\")\n",
    "         Thread.sleep(400)\n",
    "     }\n",
    " }\n",
    "\n",
    " lambda1.start()\n",
    " lambda2.start()\n",
    "\n",
    " lambda1.join()\n",
    " lambda2.join()\n",
    "\n",
    " println(\"Threads Sleeping\")"
   ]
  },
  {
   "cell_type": "code",
   "execution_count": null,
   "id": "a82cebfd",
   "metadata": {},
   "outputs": [],
   "source": []
  },
  {
   "cell_type": "code",
   "execution_count": null,
   "id": "7898c356",
   "metadata": {},
   "outputs": [],
   "source": []
  },
  {
   "cell_type": "code",
   "execution_count": 32,
   "id": "4a3aa542",
   "metadata": {},
   "outputs": [
    {
     "name": "stdout",
     "output_type": "stream",
     "text": [
      "Thread-175\n"
     ]
    }
   ],
   "source": [
    "// Loading thread 1 in class 1\n",
    "//val loader = thread1.getContextClassLoader();\n",
    " \n",
    "// Creating 3rd thread in main() method\n",
    "val thread3 = Thread(Helper());\n",
    " \n",
    "// Fetching an instance of this thread\n",
    "val thread0 = Thread.currentThread()\n",
    "\n",
    "// Print and display commands\n",
    "println(thread0.getName())\n",
    "\n",
    "thread3.join()\n",
    " "
   ]
  },
  {
   "cell_type": "code",
   "execution_count": null,
   "id": "8e80e06d",
   "metadata": {},
   "outputs": [],
   "source": []
  },
  {
   "cell_type": "code",
   "execution_count": 33,
   "id": "3a82dd73",
   "metadata": {},
   "outputs": [
    {
     "name": "stdout",
     "output_type": "stream",
     "text": [
      "thread1 going to sleep for 5000\n",
      "Is thread2 interrupted? false\n",
      "Is thread2 alive? true\n",
      "Is thread1 a daemon thread? true\n",
      "Is thread1 interrupted? false\n",
      "thread1 waiting for thread2 to join\n"
     ]
    }
   ],
   "source": [
    "val thread4 = Thread(obj2);\n",
    "thread4.start();\n",
    "thread4.interrupt();\n",
    "println(\"Is thread2 interrupted? \" + thread4.isInterrupted );\n",
    "println(\"Is thread2 alive? \" + thread4.isAlive());\n",
    " \n",
    "val thread5 = Thread(obj);\n",
    "thread5.setDaemon(true);\n",
    "println(\"Is thread1 a daemon thread? \" + thread5.isDaemon());\n",
    "println(\"Is thread1 interrupted? \" + thread5.isInterrupted());\n",
    " \n",
    "// Waiting for thread2 to complete its execution\n",
    "println(\"thread1 waiting for thread2 to join\");\n",
    " \n",
    "\n",
    "thread4.join();\n",
    "thread5.join();"
   ]
  },
  {
   "cell_type": "code",
   "execution_count": null,
   "id": "8636690b",
   "metadata": {},
   "outputs": [],
   "source": []
  },
  {
   "cell_type": "code",
   "execution_count": 34,
   "id": "400f475b",
   "metadata": {},
   "outputs": [
    {
     "name": "stdout",
     "output_type": "stream",
     "text": [
      "thread2 going to sleep for 5000\n",
      "thread1 going to sleep for 5000\n",
      "New name set for thread 1child thread xyz\n",
      "Thread[child thread xyz,5,main]\n"
     ]
    }
   ],
   "source": [
    " // Making objects of class 1 and 2 in main() method\n",
    "val obj =  Test();\n",
    "val obj2 = Helper();\n",
    " \n",
    "// Creating 2 threads in main() method\n",
    "val thread1 = Thread(obj);\n",
    "val thread2 = Thread(obj2);\n",
    "\n",
    "// Moving thread to runnable states\n",
    "thread1.start();\n",
    "thread2.start();\n",
    "\n",
    "// Now setting the name of thread1\n",
    "thread1.setName(\"child thread xyz\");\n",
    " \n",
    "// Print and display command\n",
    "println(\"New name set for thread 1\" + thread1.getName());\n",
    " \n",
    "// Setting the priority of thread1\n",
    "thread1.setPriority(5);\n",
    " \n",
    "// Fetching the string representation of thread1\n",
    "println(thread1.toString());\n",
    " \n",
    "thread1.join();\n",
    "thread2.join();"
   ]
  },
  {
   "cell_type": "code",
   "execution_count": null,
   "id": "3e8c37ab",
   "metadata": {},
   "outputs": [],
   "source": []
  },
  {
   "cell_type": "code",
   "execution_count": 35,
   "id": "c26f6cf2",
   "metadata": {},
   "outputs": [
    {
     "name": "stdout",
     "output_type": "stream",
     "text": [
      "class java.util.ArrayList\n",
      "List of active threads:\n",
      "Thread[Thread-193,5,main]\n",
      "Thread[Thread-194,5,main]\n",
      "Thread[Thread-195,5,main]\n",
      "Thread[Thread-196,5,main]\n",
      "Thread[Thread-197,5,main]\n",
      "Thread[Thread-198,5,main]\n",
      "Thread[Thread-199,5,main]\n",
      "Thread[Thread-200,5,main]\n",
      "Thread[Thread-201,5,main]\n",
      "Thread[Thread-202,5,main]\n",
      "{Thread[Timer-35,5,main]=[Ljava.lang.StackTraceElement;@6c907265, Thread[Timer-65,5,main]=[Ljava.lang.StackTraceElement;@66358135, Thread[Timer-23,5,main]=[Ljava.lang.StackTraceElement;@979ecbb, Thread[Timer-60,5,main]=[Ljava.lang.StackTraceElement;@8308c5, Thread[Timer-78,5,main]=[Ljava.lang.StackTraceElement;@6f6f41ea, Thread[Timer-2,5,main]=[Ljava.lang.StackTraceElement;@2519591b, Thread[Timer-27,5,main]=[Ljava.lang.StackTraceElement;@63c37537, Thread[Timer-96,5,main]=[Ljava.lang.StackTraceElement;@7b9e8caa, Thread[Timer-81,5,main]=[Ljava.lang.StackTraceElement;@6eebf222, Thread[Timer-74,5,main]=[Ljava.lang.StackTraceElement;@1d5af65, Thread[Timer-46,5,main]=[Ljava.lang.StackTraceElement;@794718a5, Thread[Timer-6,5,main]=[Ljava.lang.StackTraceElement;@763330fb, Thread[Timer-25,5,main]=[Ljava.lang.StackTraceElement;@4778b6fd, Thread[Timer-43,5,main]=[Ljava.lang.StackTraceElement;@6bfa87f0, Thread[Timer-101,5,main]=[Ljava.lang.StackTraceElement;@2a39281a, Thread[Timer-16,5,main]=[Ljava.lang.StackTraceElement;@45e2614e, Thread[Timer-5,5,main]=[Ljava.lang.StackTraceElement;@472fe851, Thread[Timer-50,5,main]=[Ljava.lang.StackTraceElement;@78d53243, Thread[Timer-39,5,main]=[Ljava.lang.StackTraceElement;@1bcfacbb, Thread[Timer-84,5,main]=[Ljava.lang.StackTraceElement;@4df1469d, Thread[Timer-33,5,main]=[Ljava.lang.StackTraceElement;@75244212, Thread[Timer-44,5,main]=[Ljava.lang.StackTraceElement;@243231df, Thread[Reference Handler,10,system]=[Ljava.lang.StackTraceElement;@427efb96, Thread[Timer-89,5,main]=[Ljava.lang.StackTraceElement;@57c98ea, Thread[Timer-9,5,main]=[Ljava.lang.StackTraceElement;@529f6e85, Thread[Thread-1,5,main]=[Ljava.lang.StackTraceElement;@671611c0, Thread[Timer-53,5,main]=[Ljava.lang.StackTraceElement;@5201f4ff, Thread[Timer-103,5,main]=[Ljava.lang.StackTraceElement;@33db9d9d, Thread[reaper-1,5,main]=[Ljava.lang.StackTraceElement;@1a992625, Thread[Timer-91,5,main]=[Ljava.lang.StackTraceElement;@4dd6aca7, Thread[Timer-85,5,main]=[Ljava.lang.StackTraceElement;@10ad1fee, Thread[Timer-56,5,main]=[Ljava.lang.StackTraceElement;@7ff55f13, Thread[Timer-51,5,main]=[Ljava.lang.StackTraceElement;@2c8ef6c6, Thread[Timer-75,5,main]=[Ljava.lang.StackTraceElement;@5445c464, Thread[Timer-83,5,main]=[Ljava.lang.StackTraceElement;@2c6fe36d, Thread[Timer-52,5,main]=[Ljava.lang.StackTraceElement;@79b73c34, Thread[Timer-77,5,main]=[Ljava.lang.StackTraceElement;@2254cd02, Thread[Timer-97,5,main]=[Ljava.lang.StackTraceElement;@58c85bc8, Thread[Timer-80,5,main]=[Ljava.lang.StackTraceElement;@b6faf37, Thread[Timer-0,5,main]=[Ljava.lang.StackTraceElement;@4bf974f2, Thread[Timer-88,5,main]=[Ljava.lang.StackTraceElement;@4fc19c52, Thread[Timer-87,5,main]=[Ljava.lang.StackTraceElement;@55cd9879, Thread[iothread-2,5,main]=[Ljava.lang.StackTraceElement;@232d93e0, Thread[Timer-71,5,main]=[Ljava.lang.StackTraceElement;@23f33d93, Thread[Timer-63,5,main]=[Ljava.lang.StackTraceElement;@609316b3, Thread[Timer-92,5,main]=[Ljava.lang.StackTraceElement;@59a44488, Thread[Timer-30,5,main]=[Ljava.lang.StackTraceElement;@16d96ecf, Thread[Timer-17,5,main]=[Ljava.lang.StackTraceElement;@2c7cc622, Thread[Timer-29,5,main]=[Ljava.lang.StackTraceElement;@54a26b90, Thread[Timer-8,5,main]=[Ljava.lang.StackTraceElement;@2f59f588, Thread[Timer-58,5,main]=[Ljava.lang.StackTraceElement;@72ab59ba, Thread[Timer-40,5,main]=[Ljava.lang.StackTraceElement;@382cdc1b, Thread[Timer-70,5,main]=[Ljava.lang.StackTraceElement;@7f15ce65, Thread[Timer-47,5,main]=[Ljava.lang.StackTraceElement;@1f8091ba, Thread[Timer-76,5,main]=[Ljava.lang.StackTraceElement;@374e6d79, Thread[Finalizer,8,system]=[Ljava.lang.StackTraceElement;@69dca38f, Thread[Timer-82,5,main]=[Ljava.lang.StackTraceElement;@38eb2e37, Thread[Timer-64,5,main]=[Ljava.lang.StackTraceElement;@237d65d1, Thread[Timer-49,5,main]=[Ljava.lang.StackTraceElement;@671cf162, Thread[Timer-15,5,main]=[Ljava.lang.StackTraceElement;@6b50f6d5, Thread[Timer-36,5,main]=[Ljava.lang.StackTraceElement;@aabf71e, Thread[Timer-26,5,main]=[Ljava.lang.StackTraceElement;@42b04877, Thread[Timer-66,5,main]=[Ljava.lang.StackTraceElement;@422736a2, Thread[Timer-24,5,main]=[Ljava.lang.StackTraceElement;@2e2d866d, Thread[Timer-102,5,main]=[Ljava.lang.StackTraceElement;@7b6b87b1, Thread[Signal Dispatcher,9,system]=[Ljava.lang.StackTraceElement;@3b589b5b, Thread[Timer-68,5,main]=[Ljava.lang.StackTraceElement;@40b128b4, Thread[Timer-19,5,main]=[Ljava.lang.StackTraceElement;@26dd021, Thread[Timer-55,5,main]=[Ljava.lang.StackTraceElement;@259c99d2, Thread[Timer-62,5,main]=[Ljava.lang.StackTraceElement;@5ae15c79, Thread[Timer-100,5,main]=[Ljava.lang.StackTraceElement;@13dc3b19, Thread[Timer-98,5,main]=[Ljava.lang.StackTraceElement;@7fdc0d9b, Thread[Timer-10,5,main]=[Ljava.lang.StackTraceElement;@3e4f49bb, Thread[Timer-72,5,main]=[Ljava.lang.StackTraceElement;@6e9dd89f, Thread[Timer-34,5,main]=[Ljava.lang.StackTraceElement;@1c6b32a6, Thread[Timer-41,5,main]=[Ljava.lang.StackTraceElement;@3c45465, Thread[Timer-54,5,main]=[Ljava.lang.StackTraceElement;@4782c737, Thread[Timer-32,5,main]=[Ljava.lang.StackTraceElement;@47dbb678, Thread[Thread-0,5,main]=[Ljava.lang.StackTraceElement;@2604227, Thread[Timer-86,5,main]=[Ljava.lang.StackTraceElement;@23265972, Thread[Timer-37,5,main]=[Ljava.lang.StackTraceElement;@72cc995e, Thread[Timer-67,5,main]=[Ljava.lang.StackTraceElement;@683e8909, Thread[Timer-7,5,main]=[Ljava.lang.StackTraceElement;@684f9f53, Thread[main,5,main]=[Ljava.lang.StackTraceElement;@79b3a6e1, Thread[Timer-42,5,main]=[Ljava.lang.StackTraceElement;@6fa3d6e0, Thread[Timer-99,5,main]=[Ljava.lang.StackTraceElement;@73c97cdc, Thread[Timer-45,5,main]=[Ljava.lang.StackTraceElement;@67e8d0f1, Thread[Timer-38,5,main]=[Ljava.lang.StackTraceElement;@308f643, Thread[Thread-192,5,main]=[Ljava.lang.StackTraceElement;@72ed3414, Thread[Timer-94,5,main]=[Ljava.lang.StackTraceElement;@4a7a9909, Thread[Timer-95,5,main]=[Ljava.lang.StackTraceElement;@6b34a7ef, Thread[Timer-59,5,main]=[Ljava.lang.StackTraceElement;@2fcafe24, Thread[Timer-28,5,main]=[Ljava.lang.StackTraceElement;@341c225d, Thread[Timer-48,5,main]=[Ljava.lang.StackTraceElement;@2a305706, Thread[Timer-12,5,main]=[Ljava.lang.StackTraceElement;@64f58670, Thread[Timer-90,5,main]=[Ljava.lang.StackTraceElement;@1cb67f14, Thread[Timer-79,5,main]=[Ljava.lang.StackTraceElement;@49eda815, Thread[Timer-73,5,main]=[Ljava.lang.StackTraceElement;@61cd5e49, Thread[Timer-22,5,main]=[Ljava.lang.StackTraceElement;@29439206, Thread[Timer-61,5,main]=[Ljava.lang.StackTraceElement;@62206e5, Thread[Timer-31,5,main]=[Ljava.lang.StackTraceElement;@222bab34, Thread[Timer-14,5,main]=[Ljava.lang.StackTraceElement;@291f962e, Thread[Timer-4,5,main]=[Ljava.lang.StackTraceElement;@1cf9f2a9, Thread[Timer-13,5,main]=[Ljava.lang.StackTraceElement;@afadafd, Thread[Timer-104,5,main]=[Ljava.lang.StackTraceElement;@7577b29d, Thread[Timer-21,5,main]=[Ljava.lang.StackTraceElement;@208cf4fb, Thread[Timer-1,5,main]=[Ljava.lang.StackTraceElement;@73b326f9, Thread[Timer-20,5,main]=[Ljava.lang.StackTraceElement;@2fc23740, Thread[Timer-11,5,main]=[Ljava.lang.StackTraceElement;@67e98b7f, Thread[Timer-93,5,main]=[Ljava.lang.StackTraceElement;@20859055, Thread[Timer-57,5,main]=[Ljava.lang.StackTraceElement;@4aebee52, Thread[Timer-3,5,main]=[Ljava.lang.StackTraceElement;@74ada878, Thread[Timer-69,5,main]=[Ljava.lang.StackTraceElement;@5fb467e1, Thread[Timer-18,5,main]=[Ljava.lang.StackTraceElement;@533f437a}\n"
     ]
    }
   ],
   "source": [
    "// Getting list of active thread in current thread's group\n",
    "var j = 0\n",
    "\n",
    "val thread6 = List(10) {\n",
    "      Thread(Runnable {\n",
    "         println(\"${++j}: ${Thread.currentThread().name}\")\n",
    "      })\n",
    "}\n",
    "\n",
    "println(thread6.javaClass)\n",
    "       \n",
    " \n",
    "// Display commands\n",
    "println(\"List of active threads:\");\n",
    "\n",
    "\n",
    "// Looking out using for each loop\n",
    "for (th in thread6) {\n",
    "     println(th);\n",
    "}\n",
    "\n",
    "println(Thread.getAllStackTraces());"
   ]
  },
  {
   "cell_type": "code",
   "execution_count": 36,
   "id": "5eccfc17",
   "metadata": {},
   "outputs": [
    {
     "name": "stdout",
     "output_type": "stream",
     "text": [
      "org.jetbrains.kotlin.scripting.compiler.plugin.impl.CompiledScriptClassLoader@5261638\n"
     ]
    }
   ],
   "source": [
    "val classLoader = thread6[0].getContextClassLoader();\n",
    "println(classLoader.toString());"
   ]
  },
  {
   "cell_type": "code",
   "execution_count": 37,
   "id": "c71ce881",
   "metadata": {},
   "outputs": [
    {
     "name": "stdout",
     "output_type": "stream",
     "text": [
      "Printing stack trace elements for thread1:\n",
      "ThreadGroup to which thread1 belongs null\n"
     ]
    }
   ],
   "source": [
    "// Display commands\n",
    "\n",
    "val thread7 = Thread(obj);\n",
    "val trace = thread1.getStackTrace();\n",
    " \n",
    "println(\"Printing stack trace elements for thread1:\");\n",
    " \n",
    "for (e in trace) {\n",
    "        println(e);\n",
    "}\n",
    " \n",
    "val grp = thread1.getThreadGroup();\n",
    "println(\"ThreadGroup to which thread1 belongs \" + grp.toString());\n",
    "\n",
    " \n",
    " \n",
    "Thread.dumpStack();"
   ]
  },
  {
   "cell_type": "code",
   "execution_count": null,
   "id": "4ba2f754",
   "metadata": {},
   "outputs": [],
   "source": []
  },
  {
   "cell_type": "code",
   "execution_count": null,
   "id": "fd435781",
   "metadata": {},
   "outputs": [],
   "source": []
  },
  {
   "cell_type": "code",
   "execution_count": 39,
   "id": "53994d9d",
   "metadata": {},
   "outputs": [
    {
     "name": "stdout",
     "output_type": "stream",
     "text": [
      "Current thread: Thread-224\n",
      "Is Alive? true\n",
      "\n",
      "Joining after 1000 milliseconds: \n",
      "\n",
      "Current thread: Thread-224\n",
      "Is alive? false\n"
     ]
    }
   ],
   "source": [
    "class JoinDemo : Runnable {\n",
    "    override fun run(){\n",
    "        val t = Thread.currentThread()\n",
    "        println(\"Current thread: \"+ t.getName())\n",
    "  \n",
    "        // checks if current thread is alive\n",
    "        println(\"Is Alive? \" + t.isAlive())\n",
    "    }\n",
    "} \n",
    "  \n",
    "val t1 = Thread(JoinDemo())\n",
    "t1.start()\n",
    "  \n",
    "// Waits for 1000ms this thread to die.\n",
    "t1.join(1000)\n",
    "  \n",
    "println(\"\\nJoining after 1000\" + \" milliseconds:\")\n",
    "println(\"Current thread: \"+ t1.getName())\n",
    "  \n",
    "// Checks if this thread is alive\n",
    "println(\"Is alive? \" + t1.isAlive())\n"
   ]
  },
  {
   "cell_type": "code",
   "execution_count": null,
   "id": "d013523b",
   "metadata": {},
   "outputs": [],
   "source": []
  },
  {
   "cell_type": "code",
   "execution_count": null,
   "id": "acdbe3a0",
   "metadata": {},
   "outputs": [],
   "source": []
  }
 ],
 "metadata": {
  "kernelspec": {
   "display_name": "Kotlin",
   "language": "kotlin",
   "name": "kotlin"
  },
  "language_info": {
   "codemirror_mode": "text/x-kotlin",
   "file_extension": ".kt",
   "mimetype": "text/x-kotlin",
   "name": "kotlin",
   "nbconvert_exporter": "",
   "pygments_lexer": "kotlin",
   "version": "1.7.0-dev-1825"
  }
 },
 "nbformat": 4,
 "nbformat_minor": 5
}
