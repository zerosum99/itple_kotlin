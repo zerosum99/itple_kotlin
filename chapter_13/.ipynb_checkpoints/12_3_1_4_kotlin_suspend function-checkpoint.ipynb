{
 "cells": [
  {
   "cell_type": "markdown",
   "id": "3d177413",
   "metadata": {},
   "source": [
    "# 참조자료\n",
    "\n",
    "-  https://smartshk.tistory.com/19\n",
    "\n",
    "\n",
    "-  https://www.baeldung.com/kotlin/threads-coroutines"
   ]
  },
  {
   "cell_type": "markdown",
   "id": "9d727160",
   "metadata": {},
   "source": [
    "## 코루틴 모듈 올리기"
   ]
  },
  {
   "cell_type": "code",
   "execution_count": 3,
   "id": "786d1398",
   "metadata": {},
   "outputs": [],
   "source": [
    "@file:DependsOn(\"org.jetbrains.kotlinx:kotlinx-coroutines-core:1.6.1\")"
   ]
  },
  {
   "cell_type": "markdown",
   "id": "fdcbba4a",
   "metadata": {},
   "source": [
    "## 모듈 설치 확인하기"
   ]
  },
  {
   "cell_type": "code",
   "execution_count": 4,
   "id": "d1d12808",
   "metadata": {},
   "outputs": [
    {
     "data": {
      "text/plain": [
       "Current classpath (14 paths):\n",
       "/Users/dahlmoon/anaconda3/envs/kotlin/lib/python3.8/site-packages/run_kotlin_kernel/jars/lib-0.11.0-61.jar\n",
       "/Users/dahlmoon/anaconda3/envs/kotlin/lib/python3.8/site-packages/run_kotlin_kernel/jars/api-0.11.0-61.jar\n",
       "/Users/dahlmoon/anaconda3/envs/kotlin/lib/python3.8/site-packages/run_kotlin_kernel/jars/kotlin-script-runtime-1.7.0-dev-1825.jar\n",
       "/Users/dahlmoon/anaconda3/envs/kotlin/lib/python3.8/site-packages/run_kotlin_kernel/jars/kotlin-reflect-1.6.0.jar\n",
       "/Users/dahlmoon/anaconda3/envs/kotlin/lib/python3.8/site-packages/run_kotlin_kernel/jars/kotlin-stdlib-1.6.0.jar\n",
       "/Users/dahlmoon/anaconda3/envs/kotlin/lib/python3.8/site-packages/run_kotlin_kernel/jars/annotations-13.0.jar\n",
       "/Users/dahlmoon/anaconda3/envs/kotlin/lib/python3.8/site-packages/run_kotlin_kernel/jars/kotlin-stdlib-common-1.6.0.jar\n",
       "/Users/dahlmoon/.m2/repository/org/jetbrains/kotlinx/kotlinx-coroutines-core/1.6.1/kotlinx-coroutines-core-1.6.1.jar\n",
       "/Users/dahlmoon/.m2/repository/org/jetbrains/kotlinx/kotlinx-coroutines-core-jvm/1.6.1/kotlinx-coroutines-core-jvm-1.6.1.jar\n",
       "/Users/dahlmoon/.m2/repository/org/jetbrains/kotlin/kotlin-stdlib-jdk8/1.6.0/kotlin-stdlib-jdk8-1.6.0.jar\n",
       "/Users/dahlmoon/.m2/repository/org/jetbrains/kotlin/kotlin-stdlib/1.6.0/kotlin-stdlib-1.6.0.jar\n",
       "/Users/dahlmoon/.m2/repository/org/jetbrains/annotations/13.0/annotations-13.0.jar\n",
       "/Users/dahlmoon/.m2/repository/org/jetbrains/kotlin/kotlin-stdlib-jdk7/1.6.0/kotlin-stdlib-jdk7-1.6.0.jar\n",
       "/Users/dahlmoon/.m2/repository/org/jetbrains/kotlin/kotlin-stdlib-common/1.6.0/kotlin-stdlib-common-1.6.0.jar"
      ]
     },
     "execution_count": 4,
     "metadata": {},
     "output_type": "execute_result"
    }
   ],
   "source": [
    ":classpath"
   ]
  },
  {
   "cell_type": "code",
   "execution_count": null,
   "id": "b153ceea",
   "metadata": {},
   "outputs": [],
   "source": []
  },
  {
   "cell_type": "markdown",
   "id": "ffd726b5",
   "metadata": {},
   "source": [
    "## 코루틴 모듈확인하기"
   ]
  },
  {
   "cell_type": "code",
   "execution_count": 5,
   "id": "95867810",
   "metadata": {},
   "outputs": [],
   "source": [
    "import kotlinx.coroutines.*\n"
   ]
  },
  {
   "cell_type": "code",
   "execution_count": 13,
   "id": "fa3192ed",
   "metadata": {},
   "outputs": [],
   "source": [
    "import kotlin.system.measureTimeMillis "
   ]
  },
  {
   "cell_type": "code",
   "execution_count": 14,
   "id": "3b50d5c7",
   "metadata": {},
   "outputs": [],
   "source": [
    "suspend fun doSomethingUsefulOne(): Int {\n",
    "    delay(100L) // pretend we are doing something useful here\n",
    "    return 13\n",
    "}\n",
    "\n",
    "suspend fun doSomethingUsefulTwo(): Int {\n",
    "    delay(300L) // pretend we are doing something useful here, too\n",
    "    return 29\n",
    "}"
   ]
  },
  {
   "cell_type": "code",
   "execution_count": 20,
   "id": "4d21f3d4",
   "metadata": {},
   "outputs": [
    {
     "name": "stdout",
     "output_type": "stream",
     "text": [
      "The answer is 42\n"
     ]
    }
   ],
   "source": [
    "\n",
    "val time = runBlocking {\n",
    "        val one = doSomethingUsefulOne()\n",
    "        val two = doSomethingUsefulTwo()\n",
    "        Thread.sleep(100)\n",
    "        println(\"The answer is ${one + two}\")\n",
    "}\n"
   ]
  },
  {
   "cell_type": "code",
   "execution_count": null,
   "id": "3f3e717a",
   "metadata": {},
   "outputs": [],
   "source": []
  },
  {
   "cell_type": "code",
   "execution_count": 19,
   "id": "188effdc",
   "metadata": {},
   "outputs": [
    {
     "name": "stdout",
     "output_type": "stream",
     "text": [
      "The answer is 42\n"
     ]
    }
   ],
   "source": [
    "val time = runBlocking {\n",
    "    val one = async { doSomethingUsefulOne() }\n",
    "    val two = async { doSomethingUsefulTwo() }\n",
    "    println(\"The answer is ${one.await() + two.await()}\")\n",
    "}\n"
   ]
  },
  {
   "cell_type": "code",
   "execution_count": null,
   "id": "a151090d",
   "metadata": {},
   "outputs": [],
   "source": []
  },
  {
   "cell_type": "code",
   "execution_count": 25,
   "id": "2a843181",
   "metadata": {},
   "outputs": [
    {
     "name": "stdout",
     "output_type": "stream",
     "text": [
      " time check\n",
      "Answer1 is 13\n",
      "Answer2 is 29\n",
      "Requests took 408 ms.\n"
     ]
    }
   ],
   "source": [
    "suspend fun doSomethingUsefulOne(): Int {\n",
    "    delay(100L) // pretend we are doing something useful here\n",
    "    return 13\n",
    "}\n",
    "\n",
    "suspend fun doSomethingUsefulTwo(): Int {\n",
    "    delay(300L) // pretend we are doing something useful here, too\n",
    "    return 29\n",
    "}\n",
    "\n",
    "fun main() {\n",
    "    GlobalScope.launch(Dispatchers.Default) {\n",
    "            val time = measureTimeMillis {\n",
    "                val one = doSomethingUsefulOne()\n",
    "                val two = doSomethingUsefulTwo()\n",
    "                println( \"Answer1 is $one\")\n",
    "                println( \"Answer2 is $two\")\n",
    "            }\n",
    "            delay(1000)\n",
    "            println(\"Requests took $time ms.\") //0 6초\n",
    "    }\n",
    "}\n",
    "\n",
    "println(\" time check\")\n",
    "main()\n",
    "Thread.sleep(2000)\n"
   ]
  },
  {
   "cell_type": "code",
   "execution_count": null,
   "id": "18e04715",
   "metadata": {},
   "outputs": [],
   "source": []
  },
  {
   "cell_type": "code",
   "execution_count": 9,
   "id": "68a7a4cd",
   "metadata": {},
   "outputs": [
    {
     "name": "stdout",
     "output_type": "stream",
     "text": [
      "HelloThread-45\n",
      "World!Thread-45\n"
     ]
    }
   ],
   "source": [
    "fun main24() = runBlocking {\n",
    "    doWorld()\n",
    "    \n",
    "}\n",
    "\n",
    "suspend fun doWorld() = coroutineScope {  // this: CoroutineScope\n",
    "    launch {\n",
    "        delay(1000L)\n",
    "        println(\"World!\" + Thread.currentThread().name)\n",
    "    }\n",
    "    println(\"Hello\" + Thread.currentThread().name)\n",
    "}\n",
    "\n",
    "main24()"
   ]
  },
  {
   "cell_type": "code",
   "execution_count": null,
   "id": "f9872e5e",
   "metadata": {},
   "outputs": [],
   "source": []
  },
  {
   "cell_type": "code",
   "execution_count": 10,
   "id": "8818ded9",
   "metadata": {},
   "outputs": [
    {
     "name": "stdout",
     "output_type": "stream",
     "text": [
      "Hello\n",
      "World 1\n",
      "World 2\n",
      "Done\n"
     ]
    }
   ],
   "source": [
    "// Sequentially executes doWorld followed by \"Done\"\n",
    "fun main34() = runBlocking {\n",
    "    doWorld()\n",
    "    println(\"Done\")\n",
    "}\n",
    "\n",
    "// Concurrently executes both sections\n",
    "suspend fun doWorld() = coroutineScope { // this: CoroutineScope\n",
    "    launch {\n",
    "        delay(2000L)\n",
    "        println(\"World 2\")\n",
    "    }\n",
    "    launch {\n",
    "        delay(1000L)\n",
    "        println(\"World 1\")\n",
    "    }\n",
    "    println(\"Hello\")\n",
    "}\n",
    "\n",
    "main34()"
   ]
  },
  {
   "cell_type": "code",
   "execution_count": null,
   "id": "7d9e8ee2",
   "metadata": {},
   "outputs": [],
   "source": []
  },
  {
   "cell_type": "code",
   "execution_count": null,
   "id": "be5bfddb",
   "metadata": {},
   "outputs": [],
   "source": []
  },
  {
   "cell_type": "markdown",
   "id": "1d8c6ea9",
   "metadata": {},
   "source": [
    "## suspend function 사용하지 않은 테스트 코드"
   ]
  },
  {
   "cell_type": "code",
   "execution_count": 56,
   "id": "e8733908",
   "metadata": {},
   "outputs": [],
   "source": [
    "fun main() {\n",
    "    runBlocking {\n",
    "        launch(Dispatchers.IO) {\n",
    "          // 병렬로 2개 함수 실행 \n",
    "          async { nonSuspendTask1() }\n",
    "          async { nonSuspendTask2() }\n",
    "        }\n",
    "    }\n",
    "}\n",
    "\n",
    "fun nonSuspendTask1() {\n",
    "    Thread.sleep(3000)\n",
    "    println(\"[nonSuspendTask1] After 3s in (${Thread.currentThread().name})\")\n",
    "    Thread.sleep(3000)\n",
    "    println( \"[nonSuspendTask1] After 6s in (${Thread.currentThread().name})\")\n",
    "\n",
    "    println(\"[nonSuspendTask1] END in (${Thread.currentThread().name}) *****\")\n",
    "}\n",
    "fun nonSuspendTask2() {\n",
    "    Thread.sleep(1000)\n",
    "    println(\"[nonSuspendTask2] After 1s in (${Thread.currentThread().name})\")\n",
    "    Thread.sleep(3000)\n",
    "    println(\"[nonSuspendTask2] After 4s in (${Thread.currentThread().name})\")\n",
    "\n",
    "    println( \"[nonSuspendTask2] END in (${Thread.currentThread().name})*****\")\n",
    "}"
   ]
  },
  {
   "cell_type": "code",
   "execution_count": 57,
   "id": "bc9db54b",
   "metadata": {},
   "outputs": [
    {
     "name": "stdout",
     "output_type": "stream",
     "text": [
      "[nonSuspendTask2] After 1s in (DefaultDispatcher-worker-2)\n",
      "[nonSuspendTask1] After 3s in (DefaultDispatcher-worker-3)\n",
      "[nonSuspendTask2] After 4s in (DefaultDispatcher-worker-2)\n",
      "[nonSuspendTask2] END in (DefaultDispatcher-worker-2)*****\n",
      "[nonSuspendTask1] After 6s in (DefaultDispatcher-worker-3)\n",
      "[nonSuspendTask1] END in (DefaultDispatcher-worker-3) *****\n"
     ]
    }
   ],
   "source": [
    "main()"
   ]
  },
  {
   "cell_type": "markdown",
   "id": "e09a7c7e",
   "metadata": {},
   "source": [
    "## suspend function 사용 테스트 코드 "
   ]
  },
  {
   "cell_type": "code",
   "execution_count": 58,
   "id": "265754b1",
   "metadata": {},
   "outputs": [],
   "source": [
    "fun main() {\n",
    "    runBlocking {\n",
    "        launch(Dispatchers.IO) {\n",
    "          // 병렬로 2개 함수 실행 \n",
    "          async { suspendTask1() }\n",
    "          async { suspendTask2() }\n",
    "        }\n",
    "    }\n",
    "}\n",
    "\n",
    "suspend fun suspendTask1() {\n",
    "    delay(3000)\n",
    "    println( \"[suspendTask1] After 3s in (${Thread.currentThread().name})\")\n",
    "    delay(3000)\n",
    "    println(  \"[suspendTask1] After 6s in (${Thread.currentThread().name})\")\n",
    "\n",
    "    println(  \"[suspendTask1] END in (${Thread.currentThread().name})*****\")\n",
    "}\n",
    "suspend fun suspendTask2() {\n",
    "    delay(1000)\n",
    "    println(  \"[suspendTask2] After 1s in (${Thread.currentThread().name})\")\n",
    "    delay(3000)\n",
    "    println(  \"[suspendTask2] After 4s in (${Thread.currentThread().name})\")\n",
    "\n",
    "    println(  \"[suspendTask2] END in (${Thread.currentThread().name}) *****\")\n",
    "}"
   ]
  },
  {
   "cell_type": "code",
   "execution_count": 59,
   "id": "0398e3d5",
   "metadata": {},
   "outputs": [
    {
     "name": "stdout",
     "output_type": "stream",
     "text": [
      "[suspendTask2] After 1s in (DefaultDispatcher-worker-5)\n",
      "[suspendTask1] After 3s in (DefaultDispatcher-worker-5)\n",
      "[suspendTask2] After 4s in (DefaultDispatcher-worker-5)\n",
      "[suspendTask2] END in (DefaultDispatcher-worker-5) *****\n",
      "[suspendTask1] After 6s in (DefaultDispatcher-worker-5)\n",
      "[suspendTask1] END in (DefaultDispatcher-worker-5)*****\n"
     ]
    }
   ],
   "source": [
    "main()"
   ]
  },
  {
   "cell_type": "code",
   "execution_count": null,
   "id": "16b53805",
   "metadata": {},
   "outputs": [],
   "source": []
  },
  {
   "cell_type": "code",
   "execution_count": null,
   "id": "6ce05550",
   "metadata": {},
   "outputs": [],
   "source": []
  },
  {
   "cell_type": "code",
   "execution_count": 60,
   "id": "90bdf016",
   "metadata": {},
   "outputs": [],
   "source": [
    "fun threadCall() = runBlocking {\n",
    "    val cores = Runtime.getRuntime().availableProcessors()\n",
    "    println(\"number of cores: $cores\")\n",
    "\n",
    "    val jobs = List(10) {\n",
    "        async(Dispatchers.Default) {\n",
    "            delay(100)\n",
    "            println(\"async #$it on thread ${Thread.currentThread().name}\")\n",
    "        }\n",
    "    }\n",
    "    jobs.forEach { it.join() }\n",
    "}"
   ]
  },
  {
   "cell_type": "code",
   "execution_count": 61,
   "id": "599901b2",
   "metadata": {},
   "outputs": [
    {
     "name": "stdout",
     "output_type": "stream",
     "text": [
      "number of cores: 8\n",
      "async #1 on thread DefaultDispatcher-worker-3\n",
      "async #2 on thread DefaultDispatcher-worker-4\n",
      "async #6 on thread DefaultDispatcher-worker-7\n",
      "async #0 on thread DefaultDispatcher-worker-1\n",
      "async #3 on thread DefaultDispatcher-worker-2\n",
      "async #4 on thread DefaultDispatcher-worker-6\n",
      "async #5 on thread DefaultDispatcher-worker-5\n",
      "async #9 on thread DefaultDispatcher-worker-8\n",
      "async #8 on thread DefaultDispatcher-worker-4\n",
      "async #7 on thread DefaultDispatcher-worker-3\n"
     ]
    }
   ],
   "source": [
    "threadCall()"
   ]
  },
  {
   "cell_type": "code",
   "execution_count": null,
   "id": "a2b7ce81",
   "metadata": {},
   "outputs": [],
   "source": []
  },
  {
   "cell_type": "code",
   "execution_count": 62,
   "id": "80d262ff",
   "metadata": {},
   "outputs": [],
   "source": [
    "fun testSimpleCoroutine() {\n",
    "   var i: Int = 0\n",
    "   repeat(10) {\n",
    "      GlobalScope.launch {\n",
    "         println(\"${++i}: ${Thread.currentThread().name}\")\n",
    "      }\n",
    "   }\n",
    "   Thread.sleep(100)\n",
    "}"
   ]
  },
  {
   "cell_type": "code",
   "execution_count": 63,
   "id": "a5c18abb",
   "metadata": {},
   "outputs": [
    {
     "name": "stdout",
     "output_type": "stream",
     "text": [
      "3: DefaultDispatcher-worker-5\n",
      "8: DefaultDispatcher-worker-1\n",
      "4: DefaultDispatcher-worker-4\n",
      "1: DefaultDispatcher-worker-3\n",
      "10: DefaultDispatcher-worker-1\n",
      "5: DefaultDispatcher-worker-6\n",
      "2: DefaultDispatcher-worker-8\n",
      "6: DefaultDispatcher-worker-2\n",
      "7: DefaultDispatcher-worker-7\n",
      "9: DefaultDispatcher-worker-5\n"
     ]
    }
   ],
   "source": [
    "testSimpleCoroutine()"
   ]
  },
  {
   "cell_type": "code",
   "execution_count": null,
   "id": "c6fb1558",
   "metadata": {},
   "outputs": [],
   "source": []
  },
  {
   "cell_type": "markdown",
   "id": "745b96a5",
   "metadata": {},
   "source": [
    "## Dispatcher\n",
    "Dispatcher는 CoroutineContext를 상속받아 어떤 쓰레드를 이용해서 동작할 것인지 정의해둔 것 입니다.\n",
    "\n",
    " \n",
    "\n",
    "- None : 실행된 코루틴 스코프에게 상속받는다.\n",
    "\n",
    " \n",
    "\n",
    "- Unconfined : 호출 쓰레드에서 실행하지만 멈췄다가 재개할 경우 재개한 쓰레드에서 실행한다.\n",
    "\n",
    "-> 특정 쓰레드에 국한되지 않는 경우 적합\n",
    "\n",
    "\n",
    "- Main : 메인 쓰레드에서 실행한다.\n",
    "\n",
    "-> 안드로이드에서 UI를 바꿀 때 적합, Job이 무거우면 부적합\n",
    "\n",
    " \n",
    "\n",
    "- IO : 네트워크, 디스크 사용 할때 사용합니다. 파일 읽고, 쓰고, 소켓을 읽고, 쓰고 작업을 멈추는것에 최적화되어 있습니다.\n",
    "\n",
    " \n",
    "\n",
    "- Default : Thread Pool에 할당한다. (GlobalScope.launch { }도 마찬가지)"
   ]
  },
  {
   "cell_type": "code",
   "execution_count": 8,
   "id": "dfd348f2",
   "metadata": {},
   "outputs": [
    {
     "name": "stdout",
     "output_type": "stream",
     "text": [
      "launch(Dispatchers.Unconfined) : Thread-38\n",
      "launch(Dispatchers.IO) : DefaultDispatcher-worker-1\n",
      "launch(Dispatchers.Default) : DefaultDispatcher-worker-3\n",
      "launch : Thread-38\n"
     ]
    }
   ],
   "source": [
    "fun main() { \n",
    "    runBlocking {\n",
    "        launch {\n",
    "            println(\"launch : ${Thread.currentThread().name}\")\n",
    "        }\n",
    "\n",
    "        launch(Dispatchers.Unconfined) {\n",
    "            println(\"launch(Dispatchers.Unconfined) : ${Thread.currentThread().name}\")\n",
    "        }\n",
    "\n",
    "       //launch(Dispatchers.Main) {   //안드로이드 용\n",
    "       //    println(\"launch(Dispatchers.Main) : ${Thread.currentThread().name}\")\n",
    "       //}\n",
    "\n",
    "        launch(Dispatchers.IO) {\n",
    "            println(\"launch(Dispatchers.IO) : ${Thread.currentThread().name}\")\n",
    "        }\n",
    "\n",
    "        launch(Dispatchers.Default) {\n",
    "            println(\"launch(Dispatchers.Default) : ${Thread.currentThread().name}\")\n",
    "        }\n",
    "    }\n",
    "}\n",
    "\n",
    "main()"
   ]
  },
  {
   "cell_type": "code",
   "execution_count": null,
   "id": "4ceb44d5",
   "metadata": {},
   "outputs": [],
   "source": []
  },
  {
   "cell_type": "code",
   "execution_count": null,
   "id": "94bec9e0",
   "metadata": {},
   "outputs": [],
   "source": []
  },
  {
   "cell_type": "code",
   "execution_count": 64,
   "id": "c6fc39f2",
   "metadata": {},
   "outputs": [],
   "source": [
    "fun testSimpleCoroutineThreadMain() {\n",
    "   var i: Int = 0\n",
    "   repeat(10) {\n",
    "      GlobalScope.launch(Dispatchers.Unconfined) {\n",
    "         i++\n",
    "         println(\"$i: ${Thread.currentThread().name}\")\n",
    "      }\n",
    "   }\n",
    "   Thread.sleep(100)\n",
    "}"
   ]
  },
  {
   "cell_type": "code",
   "execution_count": 65,
   "id": "c7f60512",
   "metadata": {},
   "outputs": [
    {
     "name": "stdout",
     "output_type": "stream",
     "text": [
      "1: Thread-266\n",
      "2: Thread-266\n",
      "3: Thread-266\n",
      "4: Thread-266\n",
      "5: Thread-266\n",
      "6: Thread-266\n",
      "7: Thread-266\n",
      "8: Thread-266\n",
      "9: Thread-266\n",
      "10: Thread-266\n"
     ]
    }
   ],
   "source": [
    "testSimpleCoroutineThreadMain()"
   ]
  },
  {
   "cell_type": "code",
   "execution_count": null,
   "id": "feaabc8c",
   "metadata": {},
   "outputs": [],
   "source": []
  },
  {
   "cell_type": "code",
   "execution_count": 66,
   "id": "a53086cb",
   "metadata": {},
   "outputs": [],
   "source": [
    "fun testSimpleCoroutineWithDelay() {\n",
    "   repeat(10) {\n",
    "      GlobalScope.launch {\n",
    "         println(\"Before delay $it: ${Thread.currentThread().name}\")\n",
    "         delay(10)\n",
    "         println(\"After delay $it: ${Thread.currentThread().name}\")\n",
    "      }\n",
    "   }\n",
    "   Thread.sleep(200)\n",
    "}"
   ]
  },
  {
   "cell_type": "code",
   "execution_count": 67,
   "id": "d8bcfc57",
   "metadata": {},
   "outputs": [
    {
     "name": "stdout",
     "output_type": "stream",
     "text": [
      "Before delay 4: DefaultDispatcher-worker-6\n",
      "Before delay 6: DefaultDispatcher-worker-3\n",
      "Before delay 3: DefaultDispatcher-worker-8\n",
      "Before delay 2: DefaultDispatcher-worker-2\n",
      "Before delay 1: DefaultDispatcher-worker-7\n",
      "Before delay 7: DefaultDispatcher-worker-4\n",
      "After delay 3: DefaultDispatcher-worker-7\n",
      "After delay 6: DefaultDispatcher-worker-8\n",
      "After delay 4: DefaultDispatcher-worker-2\n",
      "Before delay 0: DefaultDispatcher-worker-5\n",
      "Before delay 9: DefaultDispatcher-worker-3\n",
      "Before delay 8: DefaultDispatcher-worker-6\n",
      "Before delay 5: DefaultDispatcher-worker-1\n",
      "After delay 2: DefaultDispatcher-worker-4\n",
      "After delay 7: DefaultDispatcher-worker-1\n",
      "After delay 1: DefaultDispatcher-worker-4\n",
      "After delay 0: DefaultDispatcher-worker-4\n",
      "After delay 8: DefaultDispatcher-worker-6\n",
      "After delay 9: DefaultDispatcher-worker-1\n",
      "After delay 5: DefaultDispatcher-worker-6\n"
     ]
    }
   ],
   "source": [
    "testSimpleCoroutineWithDelay()"
   ]
  },
  {
   "cell_type": "code",
   "execution_count": null,
   "id": "d2e101d4",
   "metadata": {},
   "outputs": [],
   "source": []
  },
  {
   "cell_type": "code",
   "execution_count": null,
   "id": "a54ebe86",
   "metadata": {},
   "outputs": [],
   "source": []
  }
 ],
 "metadata": {
  "kernelspec": {
   "display_name": "Kotlin",
   "language": "kotlin",
   "name": "kotlin"
  },
  "language_info": {
   "codemirror_mode": "text/x-kotlin",
   "file_extension": ".kt",
   "mimetype": "text/x-kotlin",
   "name": "kotlin",
   "nbconvert_exporter": "",
   "pygments_lexer": "kotlin",
   "version": "1.7.0-dev-1825"
  }
 },
 "nbformat": 4,
 "nbformat_minor": 5
}
