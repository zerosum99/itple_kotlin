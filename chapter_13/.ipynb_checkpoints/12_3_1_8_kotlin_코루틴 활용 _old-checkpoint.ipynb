{
 "cells": [
  {
   "cell_type": "markdown",
   "id": "3d177413",
   "metadata": {},
   "source": [
    "# 참조자료\n",
    "\n",
    "-  https://smartshk.tistory.com/19\n",
    "\n",
    "\n",
    "-  https://www.baeldung.com/kotlin/threads-coroutines"
   ]
  },
  {
   "cell_type": "markdown",
   "id": "9d727160",
   "metadata": {},
   "source": [
    "## 코루틴 모듈 올리기"
   ]
  },
  {
   "cell_type": "code",
   "execution_count": 8,
   "id": "786d1398",
   "metadata": {},
   "outputs": [],
   "source": [
    "@file:DependsOn(\"org.jetbrains.kotlinx:kotlinx-coroutines-core:1.6.1\")"
   ]
  },
  {
   "cell_type": "markdown",
   "id": "fdcbba4a",
   "metadata": {},
   "source": [
    "## 모듈 설치 확인하기"
   ]
  },
  {
   "cell_type": "code",
   "execution_count": 9,
   "id": "d1d12808",
   "metadata": {},
   "outputs": [
    {
     "data": {
      "text/plain": [
       "Current classpath (14 paths):\n",
       "/Users/dahlmoon/anaconda3/envs/kotlin/lib/python3.8/site-packages/run_kotlin_kernel/jars/lib-0.11.0-61.jar\n",
       "/Users/dahlmoon/anaconda3/envs/kotlin/lib/python3.8/site-packages/run_kotlin_kernel/jars/api-0.11.0-61.jar\n",
       "/Users/dahlmoon/anaconda3/envs/kotlin/lib/python3.8/site-packages/run_kotlin_kernel/jars/kotlin-script-runtime-1.7.0-dev-1825.jar\n",
       "/Users/dahlmoon/anaconda3/envs/kotlin/lib/python3.8/site-packages/run_kotlin_kernel/jars/kotlin-reflect-1.6.0.jar\n",
       "/Users/dahlmoon/anaconda3/envs/kotlin/lib/python3.8/site-packages/run_kotlin_kernel/jars/kotlin-stdlib-1.6.0.jar\n",
       "/Users/dahlmoon/anaconda3/envs/kotlin/lib/python3.8/site-packages/run_kotlin_kernel/jars/annotations-13.0.jar\n",
       "/Users/dahlmoon/anaconda3/envs/kotlin/lib/python3.8/site-packages/run_kotlin_kernel/jars/kotlin-stdlib-common-1.6.0.jar\n",
       "/Users/dahlmoon/.m2/repository/org/jetbrains/kotlinx/kotlinx-coroutines-core/1.6.1/kotlinx-coroutines-core-1.6.1.jar\n",
       "/Users/dahlmoon/.m2/repository/org/jetbrains/kotlinx/kotlinx-coroutines-core-jvm/1.6.1/kotlinx-coroutines-core-jvm-1.6.1.jar\n",
       "/Users/dahlmoon/.m2/repository/org/jetbrains/kotlin/kotlin-stdlib-jdk8/1.6.0/kotlin-stdlib-jdk8-1.6.0.jar\n",
       "/Users/dahlmoon/.m2/repository/org/jetbrains/kotlin/kotlin-stdlib/1.6.0/kotlin-stdlib-1.6.0.jar\n",
       "/Users/dahlmoon/.m2/repository/org/jetbrains/annotations/13.0/annotations-13.0.jar\n",
       "/Users/dahlmoon/.m2/repository/org/jetbrains/kotlin/kotlin-stdlib-jdk7/1.6.0/kotlin-stdlib-jdk7-1.6.0.jar\n",
       "/Users/dahlmoon/.m2/repository/org/jetbrains/kotlin/kotlin-stdlib-common/1.6.0/kotlin-stdlib-common-1.6.0.jar"
      ]
     },
     "execution_count": 9,
     "metadata": {},
     "output_type": "execute_result"
    }
   ],
   "source": [
    ":classpath"
   ]
  },
  {
   "cell_type": "code",
   "execution_count": null,
   "id": "b153ceea",
   "metadata": {},
   "outputs": [],
   "source": []
  },
  {
   "cell_type": "markdown",
   "id": "ffd726b5",
   "metadata": {},
   "source": [
    "## 코루틴 모듈확인하기"
   ]
  },
  {
   "cell_type": "code",
   "execution_count": 10,
   "id": "95867810",
   "metadata": {},
   "outputs": [],
   "source": [
    "import kotlinx.coroutines.*\n"
   ]
  },
  {
   "cell_type": "markdown",
   "id": "4eced1f7",
   "metadata": {},
   "source": [
    "## 시퀀스 처리 "
   ]
  },
  {
   "cell_type": "code",
   "execution_count": 11,
   "id": "3448f25a",
   "metadata": {},
   "outputs": [
    {
     "name": "stdout",
     "output_type": "stream",
     "text": [
      " List \n",
      "1\n",
      "2\n",
      "3\n",
      " 코푸틴 \n",
      "1\n",
      "2\n",
      "3\n"
     ]
    }
   ],
   "source": [
    "fun simpleList(): List<Int> = listOf(1, 2, 3)\n",
    " \n",
    "\n",
    "fun simpleSeq(): Sequence<Int> = sequence {      // sequence builder\n",
    "    for (i in 1..3) {\n",
    "        Thread.sleep(100)                        // pretend we are computing it\n",
    "        yield(i)                                 // yield next value\n",
    "    }\n",
    "}\n",
    "\n",
    "fun main() {\n",
    "    println(\" List \")\n",
    "    simpleList().forEach { value \n",
    "                           -> println(value) } \n",
    "    println(\" 코푸틴 \")\n",
    "    simpleSeq().forEach { value \n",
    "                           -> println(value) } \n",
    "}\n",
    "\n",
    "main()"
   ]
  },
  {
   "cell_type": "code",
   "execution_count": null,
   "id": "bd9e7f9b",
   "metadata": {},
   "outputs": [],
   "source": []
  },
  {
   "cell_type": "markdown",
   "id": "de13329f",
   "metadata": {},
   "source": [
    "## 클래스에 정의 "
   ]
  },
  {
   "cell_type": "code",
   "execution_count": 12,
   "id": "f0166e23",
   "metadata": {},
   "outputs": [
    {
     "name": "stdout",
     "output_type": "stream",
     "text": [
      "Destroying activity!\n",
      "고루틴 스코프 \n",
      "async : DefaultDispatcher-worker-2\n",
      "launch : DefaultDispatcher-worker-1\n"
     ]
    }
   ],
   "source": [
    "class Activity {\n",
    "    private val mainScope = CoroutineScope(Dispatchers.Default)\n",
    "\n",
    "    fun destroy() {\n",
    "        println(\"고루틴 스코프 \")\n",
    "        \n",
    "        mainScope.launch {\n",
    "            delay(100)\n",
    "            println(\"launch : \" \n",
    "                    + Thread.currentThread().name)\n",
    "\n",
    "        }\n",
    "        \n",
    "        mainScope.async {\n",
    "            delay(100)\n",
    "            println(\"async : \" \n",
    "                    + Thread.currentThread().name)\n",
    "\n",
    "        }\n",
    "        \n",
    "        Thread.sleep(500)\n",
    "        mainScope.cancel()\n",
    "    }\n",
    "}\n",
    "\n",
    "val a = Activity()\n",
    "\n",
    "println(\"Destroying activity!\")\n",
    "a.destroy()                                       // cancels all coroutines"
   ]
  },
  {
   "cell_type": "code",
   "execution_count": null,
   "id": "c205628c",
   "metadata": {},
   "outputs": [],
   "source": []
  },
  {
   "cell_type": "code",
   "execution_count": null,
   "id": "017991bd",
   "metadata": {},
   "outputs": [],
   "source": []
  },
  {
   "cell_type": "markdown",
   "id": "59b707cb",
   "metadata": {},
   "source": [
    "## 채널처리 "
   ]
  },
  {
   "cell_type": "code",
   "execution_count": 15,
   "id": "bcc1a42f",
   "metadata": {},
   "outputs": [],
   "source": [
    "import kotlinx.coroutines.channels.Channel"
   ]
  },
  {
   "cell_type": "code",
   "execution_count": null,
   "id": "a696986d",
   "metadata": {},
   "outputs": [],
   "source": []
  },
  {
   "cell_type": "code",
   "execution_count": 16,
   "id": "70274da5",
   "metadata": {},
   "outputs": [
    {
     "name": "stdout",
     "output_type": "stream",
     "text": [
      "1\n",
      "4\n",
      "9\n",
      "16\n",
      "25\n",
      "Done!\n"
     ]
    }
   ],
   "source": [
    "fun main() {\n",
    "    // delay(1000L)가 실행되는 동안 main함수가 끝나고 println을 만나지 못하고 종료\n",
    "\n",
    "    GlobalScope.launch {\n",
    "        val channel = Channel<Int>()\n",
    "        launch {\n",
    "            // this might be heavy CPU-consuming computation or async logic, we'll just send five squares\n",
    "            for (x in 1..5) channel.send(x * x)\n",
    "        }\n",
    "        // here we print five received integers:\n",
    "        repeat(5) { println(channel.receive()) }\n",
    "        println(\"Done!\")\n",
    "    }\n",
    "}\n",
    "\n",
    "main()"
   ]
  },
  {
   "cell_type": "code",
   "execution_count": null,
   "id": "6b6c11ab",
   "metadata": {},
   "outputs": [],
   "source": []
  },
  {
   "cell_type": "code",
   "execution_count": 18,
   "id": "23022f23",
   "metadata": {},
   "outputs": [
    {
     "name": "stdout",
     "output_type": "stream",
     "text": [
      "1\n",
      "4\n",
      "9\n",
      "16\n",
      "25\n",
      "Done!\n"
     ]
    }
   ],
   "source": [
    "fun main() {\n",
    "    // delay(1000L)가 실행되는 동안 main함수가 끝나고 println을 만나지 못하고 종료\n",
    "\n",
    "    GlobalScope.launch {\n",
    "\n",
    "        val channel = Channel<Int>()\n",
    "        launch {\n",
    "            for (x in 1..5) channel.send(x * x)\n",
    "            channel.close() // we're done sending\n",
    "        }\n",
    "        // here we print received values using `for` loop (until the channel is closed)\n",
    "        for (y in channel) println(y)\n",
    "        println(\"Done!\")\n",
    "    }\n",
    "}\n",
    "\n",
    "main()"
   ]
  },
  {
   "cell_type": "code",
   "execution_count": null,
   "id": "874e29ee",
   "metadata": {},
   "outputs": [],
   "source": []
  },
  {
   "cell_type": "code",
   "execution_count": null,
   "id": "125a6787",
   "metadata": {},
   "outputs": [],
   "source": []
  },
  {
   "cell_type": "code",
   "execution_count": null,
   "id": "038d658d",
   "metadata": {},
   "outputs": [],
   "source": []
  },
  {
   "cell_type": "code",
   "execution_count": null,
   "id": "5ea0532e",
   "metadata": {},
   "outputs": [],
   "source": []
  },
  {
   "cell_type": "code",
   "execution_count": null,
   "id": "ddc9d648",
   "metadata": {},
   "outputs": [],
   "source": []
  },
  {
   "cell_type": "code",
   "execution_count": null,
   "id": "548592d6",
   "metadata": {},
   "outputs": [],
   "source": []
  },
  {
   "cell_type": "code",
   "execution_count": null,
   "id": "68b8b173",
   "metadata": {},
   "outputs": [],
   "source": []
  },
  {
   "cell_type": "code",
   "execution_count": null,
   "id": "4fd78b02",
   "metadata": {},
   "outputs": [],
   "source": []
  },
  {
   "cell_type": "code",
   "execution_count": null,
   "id": "7497d62f",
   "metadata": {},
   "outputs": [],
   "source": []
  },
  {
   "cell_type": "code",
   "execution_count": null,
   "id": "c7574195",
   "metadata": {},
   "outputs": [],
   "source": []
  },
  {
   "cell_type": "code",
   "execution_count": null,
   "id": "d2e101d4",
   "metadata": {},
   "outputs": [],
   "source": []
  },
  {
   "cell_type": "code",
   "execution_count": null,
   "id": "a54ebe86",
   "metadata": {},
   "outputs": [],
   "source": []
  }
 ],
 "metadata": {
  "kernelspec": {
   "display_name": "Kotlin",
   "language": "kotlin",
   "name": "kotlin"
  },
  "language_info": {
   "codemirror_mode": "text/x-kotlin",
   "file_extension": ".kt",
   "mimetype": "text/x-kotlin",
   "name": "kotlin",
   "nbconvert_exporter": "",
   "pygments_lexer": "kotlin",
   "version": "1.7.0-dev-1825"
  }
 },
 "nbformat": 4,
 "nbformat_minor": 5
}
