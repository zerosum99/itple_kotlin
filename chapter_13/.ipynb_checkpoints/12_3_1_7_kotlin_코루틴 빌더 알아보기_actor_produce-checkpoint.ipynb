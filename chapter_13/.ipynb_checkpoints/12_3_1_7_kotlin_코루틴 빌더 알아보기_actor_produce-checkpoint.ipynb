{
 "cells": [
  {
   "cell_type": "markdown",
   "id": "3d177413",
   "metadata": {},
   "source": [
    "# 참조자료\n",
    "\n",
    "-  https://smartshk.tistory.com/19\n",
    "\n",
    "\n",
    "-  https://www.baeldung.com/kotlin/threads-coroutines"
   ]
  },
  {
   "cell_type": "markdown",
   "id": "9d727160",
   "metadata": {},
   "source": [
    "## 코루틴 모듈 올리기"
   ]
  },
  {
   "cell_type": "code",
   "execution_count": 1,
   "id": "786d1398",
   "metadata": {},
   "outputs": [],
   "source": [
    "@file:DependsOn(\"org.jetbrains.kotlinx:kotlinx-coroutines-core:1.6.1\")"
   ]
  },
  {
   "cell_type": "markdown",
   "id": "fdcbba4a",
   "metadata": {},
   "source": [
    "## 모듈 설치 확인하기"
   ]
  },
  {
   "cell_type": "code",
   "execution_count": 2,
   "id": "d1d12808",
   "metadata": {},
   "outputs": [
    {
     "data": {
      "text/plain": [
       "Current classpath (14 paths):\n",
       "/Users/dahlmoon/anaconda3/envs/kotlin/lib/python3.8/site-packages/run_kotlin_kernel/jars/lib-0.11.0-61.jar\n",
       "/Users/dahlmoon/anaconda3/envs/kotlin/lib/python3.8/site-packages/run_kotlin_kernel/jars/api-0.11.0-61.jar\n",
       "/Users/dahlmoon/anaconda3/envs/kotlin/lib/python3.8/site-packages/run_kotlin_kernel/jars/kotlin-script-runtime-1.7.0-dev-1825.jar\n",
       "/Users/dahlmoon/anaconda3/envs/kotlin/lib/python3.8/site-packages/run_kotlin_kernel/jars/kotlin-reflect-1.6.0.jar\n",
       "/Users/dahlmoon/anaconda3/envs/kotlin/lib/python3.8/site-packages/run_kotlin_kernel/jars/kotlin-stdlib-1.6.0.jar\n",
       "/Users/dahlmoon/anaconda3/envs/kotlin/lib/python3.8/site-packages/run_kotlin_kernel/jars/annotations-13.0.jar\n",
       "/Users/dahlmoon/anaconda3/envs/kotlin/lib/python3.8/site-packages/run_kotlin_kernel/jars/kotlin-stdlib-common-1.6.0.jar\n",
       "/Users/dahlmoon/.m2/repository/org/jetbrains/kotlinx/kotlinx-coroutines-core/1.6.1/kotlinx-coroutines-core-1.6.1.jar\n",
       "/Users/dahlmoon/.m2/repository/org/jetbrains/kotlinx/kotlinx-coroutines-core-jvm/1.6.1/kotlinx-coroutines-core-jvm-1.6.1.jar\n",
       "/Users/dahlmoon/.m2/repository/org/jetbrains/kotlin/kotlin-stdlib-jdk8/1.6.0/kotlin-stdlib-jdk8-1.6.0.jar\n",
       "/Users/dahlmoon/.m2/repository/org/jetbrains/kotlin/kotlin-stdlib/1.6.0/kotlin-stdlib-1.6.0.jar\n",
       "/Users/dahlmoon/.m2/repository/org/jetbrains/annotations/13.0/annotations-13.0.jar\n",
       "/Users/dahlmoon/.m2/repository/org/jetbrains/kotlin/kotlin-stdlib-jdk7/1.6.0/kotlin-stdlib-jdk7-1.6.0.jar\n",
       "/Users/dahlmoon/.m2/repository/org/jetbrains/kotlin/kotlin-stdlib-common/1.6.0/kotlin-stdlib-common-1.6.0.jar"
      ]
     },
     "execution_count": 2,
     "metadata": {},
     "output_type": "execute_result"
    }
   ],
   "source": [
    ":classpath"
   ]
  },
  {
   "cell_type": "code",
   "execution_count": null,
   "id": "b153ceea",
   "metadata": {},
   "outputs": [],
   "source": []
  },
  {
   "cell_type": "markdown",
   "id": "ffd726b5",
   "metadata": {},
   "source": [
    "## 코루틴 모듈확인하기"
   ]
  },
  {
   "cell_type": "code",
   "execution_count": 3,
   "id": "95867810",
   "metadata": {},
   "outputs": [],
   "source": [
    "import kotlinx.coroutines.*\n"
   ]
  },
  {
   "cell_type": "code",
   "execution_count": null,
   "id": "64e6473e",
   "metadata": {},
   "outputs": [],
   "source": []
  },
  {
   "cell_type": "markdown",
   "id": "1313678b",
   "metadata": {},
   "source": [
    "## actor() - SendChannel<E> 반환\n",
    "\n",
    "     : 채널을 통해 코루틴 블럭(Scope)와 외부에서 통신을 통해 전송 / 처리의 루틴을 실행하는 빌더이다.\n",
    "\n",
    "       actor 빌더는 SendChannel<E>를 반환, Send채널을 통해 actor()블록으로 채널을 통해 전송을 할 수 있다. \n",
    "\n",
    "       즉, actor{} 블록 내부는 수신자(Receiver)가 되고 / 반환된 SendChannel이 송신자(Sender)라고 보면 된다\n",
    "\n",
    " \n",
    "\n",
    "\n",
    "\n"
   ]
  },
  {
   "cell_type": "code",
   "execution_count": 23,
   "id": "1119cdeb",
   "metadata": {},
   "outputs": [],
   "source": [
    "import kotlinx.coroutines.*\n",
    "import kotlinx.coroutines.channels.actor\n",
    "import kotlin.system.measureTimeMillis"
   ]
  },
  {
   "cell_type": "code",
   "execution_count": 24,
   "id": "34c53d1a",
   "metadata": {},
   "outputs": [
    {
     "name": "stderr",
     "output_type": "stream",
     "text": [
      "Line_22.jupyter-kts (2:19 - 24) Unresolved reference. None of the following candidates is applicable because of receiver type mismatch: \n",
      "public fun <E> CoroutineScope.actor(context: CoroutineContext = ..., capacity: Int = ..., start: CoroutineStart = ..., onCompletion: CompletionHandler? /* = ((cause: Throwable?) -> Unit)? */ = ..., block: suspend ActorScope<TypeVariable(E)>.() -> Unit): SendChannel<TypeVariable(E)> defined in kotlinx.coroutines.channels\n",
      "Line_22.jupyter-kts (4:17 - 24) This declaration is experimental and its usage should be marked with '@kotlinx.coroutines.ObsoleteCoroutinesApi' or '@OptIn(kotlinx.coroutines.ObsoleteCoroutinesApi::class)'\n",
      "Line_22.jupyter-kts (15:5 - 10) Suspend function 'delay' should be called only from a coroutine or another suspend function\n",
      "Line_22.jupyter-kts (19:1 - 5) Unresolved reference: send"
     ]
    }
   ],
   "source": [
    "// actor{} 빌더는 SendChannel을 반환\n",
    "var sendChannel = actor {\n",
    "    var count = 0                    // actor 로컬 변수\n",
    "    for (msg in channel) {           // channel을 순회하는 For-loop문\n",
    "        count++                      // 수신마다 count 로컬변수 값 증가\n",
    "        println(\"receive : $msg\")    // 수신마다  출력\n",
    "    }\n",
    "    // channel이 닫히고 for-loop문을 벗어나면 출력\n",
    "    println(\"result $count\")\n",
    "    \n",
    "}\n",
    "\n",
    "// 0.5초 딜레이를 갖고 3번 채널에 send(송신) 반복\n",
    "repeat(3) {\n",
    "    delay(500)\n",
    "    sendChannel.offer(\"send $it\")\n",
    "}\n",
    "\n",
    "send.close()  // close() 채널닫기 호출 시 채널을 통해 특별한 Close토큰을 전송"
   ]
  },
  {
   "cell_type": "code",
   "execution_count": null,
   "id": "9f9b5d1f",
   "metadata": {},
   "outputs": [],
   "source": []
  },
  {
   "cell_type": "code",
   "execution_count": null,
   "id": "5c81a7cc",
   "metadata": {},
   "outputs": [],
   "source": []
  },
  {
   "cell_type": "code",
   "execution_count": null,
   "id": "f0c30534",
   "metadata": {},
   "outputs": [],
   "source": []
  },
  {
   "cell_type": "code",
   "execution_count": null,
   "id": "f0b85413",
   "metadata": {},
   "outputs": [],
   "source": []
  },
  {
   "cell_type": "code",
   "execution_count": null,
   "id": "438f759d",
   "metadata": {},
   "outputs": [],
   "source": []
  },
  {
   "cell_type": "markdown",
   "id": "5f6ab4f5",
   "metadata": {},
   "source": [
    "## produce() - ReceiveChannel<E> 반환\n",
    "\n",
    "     : produce도 actor와 같이 채널을 통해 전송 / 처리 루틴을 실행하는 빌더이다.\n",
    "\n",
    "       actor와 다른 점은 produce()빌더는 ReceiveChannel<E>를 반환한다.\n",
    "\n",
    "       즉, produce{} 블록 내부는 송신자(Sender)가 되고 / 반환된 ReceiveChannel이 수신자(Receiver)가 된다"
   ]
  },
  {
   "cell_type": "code",
   "execution_count": null,
   "id": "78b91273",
   "metadata": {},
   "outputs": [],
   "source": []
  },
  {
   "cell_type": "code",
   "execution_count": 25,
   "id": "2fa3fa31",
   "metadata": {},
   "outputs": [
    {
     "name": "stderr",
     "output_type": "stream",
     "text": [
      "Line_23.jupyter-kts (1:38 - 52) Unresolved reference: ReceiveChannel\n",
      "Line_23.jupyter-kts (1:60 - 67) Unresolved reference: produce\n",
      "Line_23.jupyter-kts (3:22 - 26) Unresolved reference: send\n",
      "Line_23.jupyter-kts (11:35 - 37) Unresolved reference: it"
     ]
    }
   ],
   "source": [
    "fun CoroutineScope.produceSquares(): ReceiveChannel<Int> = produce {\n",
    "    // 1~10까지 배수의 값을 전달\n",
    "    for (i in 1..10) send(i * i)\n",
    "}\n",
    "\n",
    "fun main() = runBlocking {\n",
    "\t// ReceiverChannel<Int> 인스턴스 반환, squares == ReceiverChannel\n",
    "    val squares = produceSquares()\t\n",
    "    \n",
    "    // for-loop문 역할을 하는 학장함수(consumeEach 사용)\n",
    "    squares.consumeEach { println(it) }\t\t// 채널을 통해 받은 값 출력\n",
    "    println(\"Suqares running Done!\")\n",
    "}"
   ]
  },
  {
   "cell_type": "code",
   "execution_count": 26,
   "id": "93b5c231",
   "metadata": {},
   "outputs": [
    {
     "name": "stdout",
     "output_type": "stream",
     "text": [
      "Test\n",
      "async Start\n",
      "launch Start\n",
      "launch Cancelled\n",
      "async result\n"
     ]
    }
   ],
   "source": [
    "main()"
   ]
  },
  {
   "cell_type": "code",
   "execution_count": null,
   "id": "c385dd6f",
   "metadata": {},
   "outputs": [],
   "source": []
  },
  {
   "cell_type": "code",
   "execution_count": null,
   "id": "00c3fe55",
   "metadata": {},
   "outputs": [],
   "source": []
  },
  {
   "cell_type": "code",
   "execution_count": null,
   "id": "3ed0177d",
   "metadata": {},
   "outputs": [],
   "source": []
  },
  {
   "cell_type": "code",
   "execution_count": null,
   "id": "195071c4",
   "metadata": {},
   "outputs": [],
   "source": []
  },
  {
   "cell_type": "code",
   "execution_count": null,
   "id": "d2e101d4",
   "metadata": {},
   "outputs": [],
   "source": []
  },
  {
   "cell_type": "code",
   "execution_count": null,
   "id": "a54ebe86",
   "metadata": {},
   "outputs": [],
   "source": []
  }
 ],
 "metadata": {
  "kernelspec": {
   "display_name": "Kotlin",
   "language": "kotlin",
   "name": "kotlin"
  },
  "language_info": {
   "codemirror_mode": "text/x-kotlin",
   "file_extension": ".kt",
   "mimetype": "text/x-kotlin",
   "name": "kotlin",
   "nbconvert_exporter": "",
   "pygments_lexer": "kotlin",
   "version": "1.7.0-dev-1825"
  }
 },
 "nbformat": 4,
 "nbformat_minor": 5
}
