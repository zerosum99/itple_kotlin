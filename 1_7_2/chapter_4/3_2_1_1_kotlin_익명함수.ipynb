{
 "cells": [
  {
   "cell_type": "markdown",
   "id": "63dc1663",
   "metadata": {},
   "source": [
    "## 익명함수 처리 "
   ]
  },
  {
   "cell_type": "code",
   "execution_count": null,
   "id": "9a1ea999",
   "metadata": {},
   "outputs": [],
   "source": []
  },
  {
   "cell_type": "code",
   "execution_count": null,
   "id": "342f2e8d",
   "metadata": {},
   "outputs": [],
   "source": []
  },
  {
   "cell_type": "code",
   "execution_count": 5,
   "id": "249851ad",
   "metadata": {},
   "outputs": [
    {
     "name": "stdout",
     "output_type": "stream",
     "text": [
      "300\n",
      "500\n",
      "700\n"
     ]
    }
   ],
   "source": [
    "println((fun (매개변수1:Int, 매개변수2:Int) : Int {   //익명함수를 즉시 실행 \n",
    "    return 매개변수1 + 매개변수2\n",
    "}) (100, 200))\n",
    "\n",
    "\n",
    "val 덧셈 = fun (매개변수1:Int, 매개변수2:Int) : Int {   //익명함수를 변수에 할당 \n",
    "    return 매개변수1 + 매개변수2\n",
    "}\n",
    "\n",
    "val res1 = 덧셈(300,200)                            // 익명함수를 실행 \n",
    "println(res1)\n",
    "\n",
    "val res2 = (fun (매개변수1:Int, 매개변수2:Int) : Int {  // 즉시 실행 \n",
    "    return 매개변수1 + 매개변수2\n",
    "}) (500,200)\n",
    "\n",
    "println(res2)"
   ]
  },
  {
   "cell_type": "code",
   "execution_count": null,
   "id": "a8e9c1a5",
   "metadata": {},
   "outputs": [],
   "source": []
  },
  {
   "cell_type": "markdown",
   "id": "19f4d225",
   "metadata": {},
   "source": [
    "## 내부 함수 정의"
   ]
  },
  {
   "cell_type": "code",
   "execution_count": 9,
   "id": "d978f493",
   "metadata": {},
   "outputs": [
    {
     "name": "stdout",
     "output_type": "stream",
     "text": [
      "30\n",
      "30\n",
      "300\n"
     ]
    }
   ],
   "source": [
    "val res3 = (fun (x:Int) : (Int)->Int{     // 외부 익명함수 \n",
    "    val inner = fun(y:Int):Int{           // 내부 익명함수 \n",
    "        return x+y\n",
    "    }\n",
    "    return inner                          // 변수로 반환 \n",
    "}) (10)(20)\n",
    "\n",
    "\n",
    "val res4 = (fun (x:Int) : (Int)->Int{    // 외부 익명함수 \n",
    "    return fun(y:Int):Int{               // 바로 반환 내부 익명함수 \n",
    "        return x+y\n",
    "    }\n",
    "}) (10)(20)\n",
    "\n",
    "\n",
    "val res5 = fun(x:Int, y:Int, \n",
    "               f:(Int,Int) -> Int):Int {  // 함수를 매개변수로 받음\n",
    "    return f(x,y)                         // 함수 실행결과를 전달 \n",
    "}\n",
    "\n",
    "println(res3)\n",
    "println(res4)\n",
    "                                          // 익명함수를 인자로 전달 \n",
    "println(res5(100,200, fun(x:Int,y:Int) :Int {return x+y}))"
   ]
  },
  {
   "cell_type": "code",
   "execution_count": null,
   "id": "1921fbd7",
   "metadata": {},
   "outputs": [],
   "source": []
  },
  {
   "cell_type": "code",
   "execution_count": null,
   "id": "207290fd",
   "metadata": {},
   "outputs": [],
   "source": []
  }
 ],
 "metadata": {
  "kernelspec": {
   "display_name": "Kotlin",
   "language": "kotlin",
   "name": "kotlin"
  },
  "language_info": {
   "codemirror_mode": "text/x-kotlin",
   "file_extension": ".kt",
   "mimetype": "text/x-kotlin",
   "name": "kotlin",
   "nbconvert_exporter": "",
   "pygments_lexer": "kotlin",
   "version": "1.7.0-dev-1825"
  }
 },
 "nbformat": 4,
 "nbformat_minor": 5
}
