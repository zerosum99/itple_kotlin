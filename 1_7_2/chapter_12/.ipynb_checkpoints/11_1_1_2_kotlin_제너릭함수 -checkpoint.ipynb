{
 "cells": [
  {
   "cell_type": "code",
   "execution_count": 1,
   "id": "8b91d65f",
   "metadata": {},
   "outputs": [
    {
     "data": {
      "text/plain": [
       "1.7.0"
      ]
     },
     "execution_count": 1,
     "metadata": {},
     "output_type": "execute_result"
    }
   ],
   "source": [
    "KotlinVersion.CURRENT"
   ]
  },
  {
   "cell_type": "markdown",
   "id": "ac485ecb-724a-47d6-813e-4398b88fdbc2",
   "metadata": {},
   "source": [
    "## 1. 코틀린 제너릭 함수 만들기\n",
    "\n",
    "-  함수를 정의할 때 내부 매개변수나 반환값을 일반적인 문자로 지정해서 처리한다.\n",
    "\n",
    "- 1. fun 예약어와 함수 이름 사이에 타입 매개변수를 < > 사이에 특정 문자를 지정한다.\n",
    "- 2. 그 다음에 함수의 매개변수와 반환값에 타입 매개변수의 문자로 임의의 타입을 지정한다.\n"
   ]
  },
  {
   "cell_type": "code",
   "execution_count": 2,
   "id": "acf386bd",
   "metadata": {},
   "outputs": [
    {
     "name": "stdout",
     "output_type": "stream",
     "text": [
      "20\n",
      "20.0\n",
      "20\n",
      "20.0\n",
      "300\n"
     ]
    }
   ],
   "source": [
    "fun add(x:Int, y: Int) = x+y                      //함수정의 \n",
    "fun add(x:Double, y: Double) = x+y\n",
    "\n",
    "println(add(10,10))\n",
    "println(add(10.0,10.0))\n",
    "                                                  //타입매개변수로 제너릭함수 정의 \n",
    "fun <T> add(x:T, y : T, op : (T,T)->T) : T        //연산자가 작동하지 않아 함수를 전달 받음\n",
    "                                = op(x,y)\n",
    "\n",
    "println(add<Int>(10,10,{x,y ->x+y}))\n",
    "println(add(10.0,10.0,{x,y ->x+y}))\n",
    "\n",
    "                                                  //매개변수 타입을 분리 표현 \n",
    "fun <T,R> add2(x: T, y:T , op:(T,T) -> R ) :  R {        \n",
    "    return op(x,y)\n",
    "}\n",
    "println(add2(100, 200 ) {x,y-> x+y})"
   ]
  },
  {
   "cell_type": "code",
   "execution_count": null,
   "id": "398150cd",
   "metadata": {},
   "outputs": [],
   "source": []
  },
  {
   "cell_type": "markdown",
   "id": "62863ff6-3e18-46e4-8c8b-3138cb89ed3c",
   "metadata": {},
   "source": [
    "## 2. 제너릭 함수의 반환값을 함수 자료형으로 지정해서 처리"
   ]
  },
  {
   "cell_type": "code",
   "execution_count": 3,
   "id": "97e3b639",
   "metadata": {},
   "outputs": [
    {
     "name": "stdout",
     "output_type": "stream",
     "text": [
      "1111\n",
      "10000\n"
     ]
    }
   ],
   "source": [
    "fun <T> func1(value : T) : () -> T = { value }     //함수표현식으로 반환        \n",
    " \n",
    "println(func1(1111)())\n",
    "                                                  \n",
    "fun <T,R> func3(val1 : T, val2:T, op:(T,T) -> R ) : () -> R {      \n",
    "    return { op(val1,val2)  }\n",
    "}\n",
    "val rval = func3<Int,Int>(100,100,{x,y-> x * y})\n",
    "println(rval())"
   ]
  },
  {
   "cell_type": "code",
   "execution_count": null,
   "id": "f693fdc4",
   "metadata": {},
   "outputs": [],
   "source": []
  },
  {
   "cell_type": "markdown",
   "id": "d5e4e24b",
   "metadata": {},
   "source": [
    "## 3. 제너릭을 사용해서 확장함수 만들기"
   ]
  },
  {
   "cell_type": "code",
   "execution_count": 2,
   "id": "9fd7d7af",
   "metadata": {},
   "outputs": [
    {
     "name": "stdout",
     "output_type": "stream",
     "text": [
      "121\n",
      "10000.0\n",
      "121\n",
      "10000.0\n"
     ]
    }
   ],
   "source": [
    "fun <T:Number> T.map(mapper :(T)->T) :T {   // 함수표현식으로 내부 계산\n",
    "    return mapper(this)                     // 숫자자료형일 경우는 this가 숫자값\n",
    "}\n",
    "\n",
    "println(11.map {it * it})\n",
    "println((100.0).map {it * it})\n",
    "\n",
    "fun <T,R> T.double(action :(T)->R) :R {      // 두개의 타입 매개변수 사용\n",
    "    return action(this)\n",
    "}\n",
    "\n",
    "println(11.double {it * it})\n",
    "println((100.0).double {it * it})"
   ]
  },
  {
   "cell_type": "code",
   "execution_count": null,
   "id": "a1cd3553",
   "metadata": {},
   "outputs": [],
   "source": []
  },
  {
   "cell_type": "markdown",
   "id": "c65a0b0b",
   "metadata": {},
   "source": [
    "## 타입 제약하기"
   ]
  },
  {
   "cell_type": "markdown",
   "id": "1ecee11d",
   "metadata": {},
   "source": [
    "## 멀티 타입 제한일 때 where"
   ]
  },
  {
   "cell_type": "code",
   "execution_count": 3,
   "id": "c452d55a",
   "metadata": {},
   "outputs": [
    {
     "name": "stdout",
     "output_type": "stream",
     "text": [
      "양이 is the favorite\n",
      "양이\n",
      "cherchertech_KOTLIN\n"
     ]
    }
   ],
   "source": [
    "import java.util.Random\n",
    "\n",
    "open class Pet(val name:String)\n",
    "class Dog(name : String) : Pet(name)\n",
    "class Cat(name : String) : Pet(name)\n",
    "\n",
    "\n",
    "val random = Random()\n",
    "fun <T : Pet> chooseFavorite(pets: List<T>): T {      // 함수 타입 제약\n",
    "    val favorite = pets[random.nextInt(pets.size)]\n",
    "    println(\"${favorite.name} is the favorite\")\n",
    "    return favorite\n",
    "}\n",
    "\n",
    "val f = chooseFavorite(listOf(Cat(\"양이\"), Dog(\"멍이\")))\n",
    "println(f.name)\n",
    "\n",
    "fun <T> suffix(str:T) where T: CharSequence, T:Appendable{\n",
    "    str.append(\"_KOTLIN\")\n",
    "}\n",
    "\n",
    "var name = StringBuilder(\"cherchertech\")\n",
    "suffix(name)\n",
    "println(name)"
   ]
  },
  {
   "cell_type": "code",
   "execution_count": null,
   "id": "a389b84f",
   "metadata": {},
   "outputs": [],
   "source": []
  },
  {
   "cell_type": "markdown",
   "id": "1bd6b9f1",
   "metadata": {},
   "source": [
    "## 두 개의 제약"
   ]
  },
  {
   "cell_type": "code",
   "execution_count": 10,
   "id": "10c5d3e9",
   "metadata": {},
   "outputs": [
    {
     "name": "stdout",
     "output_type": "stream",
     "text": [
      "멍이 is 멍부모's favorite\n",
      "멍이 멍부모\n"
     ]
    }
   ],
   "source": [
    "import java.util.Random\n",
    "\n",
    "open class Human(val name:String)\n",
    "open class Pet(val name:String)\n",
    "class Dog(name:String) :Pet(name)\n",
    "class Cat(name:String) :Pet(name)\n",
    "\n",
    "val random = Random()\n",
    "                                                                     // 탕비 제약 \n",
    "fun <T : Pet, U : Human> choose(pets: List<T>, owners: List<U>): Pair<T,U> {\n",
    "    val owner = owners[random.nextInt(owners.size)]\n",
    "    val favorite = pets[random.nextInt(pets.size)]\n",
    "\n",
    "    println(\"${favorite.name} is ${owner.name}'s favorite\")\n",
    "    return Pair(favorite,owner)\n",
    "}\n",
    "\n",
    "val fh = choose(listOf(Cat(\"양이\"),Dog(\"멍이\")), \n",
    "                        listOf(Human(\"양부모\"),Human(\"멍부모\")))\n",
    "\n",
    "println(fh.first.name + \" \" + fh.second.name)"
   ]
  },
  {
   "cell_type": "code",
   "execution_count": null,
   "id": "3b021a9d",
   "metadata": {},
   "outputs": [],
   "source": []
  },
  {
   "cell_type": "markdown",
   "id": "eed4d8a9",
   "metadata": {},
   "source": [
    "## 합성함수 만들기"
   ]
  },
  {
   "cell_type": "code",
   "execution_count": 1,
   "id": "35dbdcc7",
   "metadata": {},
   "outputs": [
    {
     "name": "stdout",
     "output_type": "stream",
     "text": [
      "11\n",
      "true\n",
      "14\n",
      "14\n",
      "true\n",
      "11\n",
      "11\n",
      "true\n"
     ]
    }
   ],
   "source": [
    "infix fun <P1, P2, R> ((P1) -> R).compose(f: (P2) -> P1): \n",
    "                                                   (P2) -> R {\n",
    "    return { p1: P2 -> this(f(p1)) }\n",
    "}\n",
    "\n",
    "infix fun <P1, R1, R2> ((P1) -> R1).then(f: (R1) -> R2): \n",
    "                                                   (P1) -> R2 {\n",
    "    return { p1: P1 -> f(this(p1)) }\n",
    "}\n",
    "\n",
    "val plus2: (Int) -> Int  = { it + 2 }\n",
    "val times3: (Int) -> Int = { it * 3 }\n",
    "\n",
    "val times3plus2 = plus2 compose times3\n",
    "\n",
    "println(times3plus2(3))\n",
    "println(times3plus2(3) == 11)\n",
    "println(times3plus2(4))\n",
    "println(plus2(times3(4)))\n",
    "println(times3plus2(4) == 14)\n",
    "\n",
    "infix fun <R1, R2> (() -> R1).then(f: (R1) -> R2): \n",
    "                                            () -> R2 {\n",
    "    return { f(this()) }\n",
    "}\n",
    "\n",
    "println(times3plus2(3))\n",
    "println((times3 then plus2)(3))\n",
    "println(times3plus2(3) == (times3 then plus2)(3))"
   ]
  },
  {
   "cell_type": "code",
   "execution_count": null,
   "id": "23b19150",
   "metadata": {},
   "outputs": [],
   "source": []
  }
 ],
 "metadata": {
  "kernelspec": {
   "display_name": "Kotlin",
   "language": "kotlin",
   "name": "kotlin"
  },
  "language_info": {
   "codemirror_mode": "text/x-kotlin",
   "file_extension": ".kt",
   "mimetype": "text/x-kotlin",
   "name": "kotlin",
   "nbconvert_exporter": "",
   "pygments_lexer": "kotlin",
   "version": "1.7.0-dev-1825"
  }
 },
 "nbformat": 4,
 "nbformat_minor": 5
}
