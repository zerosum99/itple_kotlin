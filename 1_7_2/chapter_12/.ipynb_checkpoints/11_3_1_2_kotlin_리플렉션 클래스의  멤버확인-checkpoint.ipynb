{
 "cells": [
  {
   "cell_type": "code",
   "execution_count": 1,
   "id": "b1f673bc",
   "metadata": {},
   "outputs": [
    {
     "data": {
      "text/plain": [
       "1.7.0"
      ]
     },
     "execution_count": 1,
     "metadata": {},
     "output_type": "execute_result"
    }
   ],
   "source": [
    "KotlinVersion.CURRENT"
   ]
  },
  {
   "cell_type": "markdown",
   "id": "4db0403f-a97d-4d1d-a997-dc3aa197bb0f",
   "metadata": {},
   "source": [
    "## 리플렉션\n",
    "\n",
    "- 리플렉션이란 런타임에 프로그램의 클래스를 조사하기 위해서 사용되는 기술입니다. 즉, 프로그램이 실행중일 때 인스턴스 등을 통해 객체의 내부 구조 등을 파악할 수 있습니다. "
   ]
  },
  {
   "cell_type": "code",
   "execution_count": null,
   "id": "9673c0ba",
   "metadata": {},
   "outputs": [],
   "source": []
  },
  {
   "cell_type": "markdown",
   "id": "3401e27b-f97a-4c3d-a594-56f9093dff9e",
   "metadata": {},
   "source": [
    "## 3. 리플렉션 내부 확인 "
   ]
  },
  {
   "cell_type": "code",
   "execution_count": null,
   "id": "6015d711",
   "metadata": {},
   "outputs": [],
   "source": []
  },
  {
   "cell_type": "code",
   "execution_count": 2,
   "id": "e6ad7237",
   "metadata": {},
   "outputs": [
    {
     "name": "stdout",
     "output_type": "stream",
     "text": [
      "### MyClass 메소드 ###\n",
      "myInternalMethod, INTERNAL\n",
      "myPrivateMethod, PRIVATE\n",
      "myProtectedMethod, PROTECTED\n",
      "myPublicMethod, PUBLIC\n",
      "equals, PUBLIC\n",
      "hashCode, PUBLIC\n",
      "mySuperMethod, PUBLIC\n",
      "toString, PUBLIC\n",
      "### MyClass 멤버 ###\n",
      "myInternalMethod\n",
      "myPrivateMethod\n",
      "myProtectedMethod\n",
      "myPublicMethod\n",
      "equals\n",
      "hashCode\n",
      "mySuperMethod\n",
      "toString\n"
     ]
    }
   ],
   "source": [
    "import kotlin.reflect.full.functions               // 함수 속성 추가하기\n",
    "\n",
    "open class MySuperClass {                          // 수퍼클래스 정의                  \n",
    "    fun mySuperMethod(){}\n",
    "}\n",
    " \n",
    "class MyClass : MySuperClass() {                   // 서브 클래스 정의\n",
    "    fun myPublicMethod(){}                         // 메소드 정의\n",
    "    internal fun myInternalMethod(){}\n",
    "    protected fun myProtectedMethod(){}\n",
    "    private fun myPrivateMethod(){}\n",
    "}\n",
    " \n",
    "val c = MyClass::class                              // 클래스 참조\n",
    "val fs = c.functions                                //  내부 메소드 참조 \n",
    "\n",
    "println(\"### ${c.simpleName} 메소드 ###\")             // 클래스 내부의 메소드 가져오기\n",
    "for (f in fs) {\n",
    "     println(\"${f.name}, ${f.visibility}\")          // 메소드 이름과 가시성 확인 \n",
    "}\n",
    "println(\"### ${c.simpleName} 멤버 ###\")              // 클래스 내부의 메소드 가져오기\n",
    "val mem = c.members\n",
    "for (f in fs) {\n",
    "     println(\"${f.name}\")                           // 메소드 이름과 가시성 확인 \n",
    "}\n"
   ]
  },
  {
   "cell_type": "markdown",
   "id": "98e7480c",
   "metadata": {},
   "source": [
    "## 클래스의 상태"
   ]
  },
  {
   "cell_type": "code",
   "execution_count": 3,
   "id": "229e7f09-5ad3-49fa-b568-2fd7a32c5577",
   "metadata": {},
   "outputs": [
    {
     "name": "stdout",
     "output_type": "stream",
     "text": [
      "클래스 = Test\n",
      "qualifiedName = Line_2.Test\n",
      "isAbstract = false\n",
      "isCompanion = false\n",
      "isData = false\n",
      "isFinal = true\n",
      "typeParameters = []\n",
      "annotations = []\n"
     ]
    }
   ],
   "source": [
    "class Test{                                             // 클래스 정의 \n",
    "    val v1 = 0.0                                        // 속성 정의 \n",
    "    val v2 = \"abc\"\n",
    "}\n",
    "\n",
    "val test = Test()                                       // 객체 셍성\n",
    "val kclass2 = test::class\n",
    "println(\"클래스 = ${kclass2.simpleName}\")                 // 클래스 이름 출력\n",
    "           \n",
    "println(\"qualifiedName = ${kclass2.qualifiedName}\")      // 이름확인\n",
    "println(\"isAbstract = ${kclass2.isAbstract}\")            // 추상클래스 여부              \n",
    "println(\"isCompanion = ${kclass2.isCompanion}\")          // 컴패니언객체 여부\n",
    "println(\"isData = ${kclass2.isData}\")                    // 데이터 클래스 여부\n",
    "println(\"isFinal = ${kclass2.isFinal}\")                  // 파이널 클래스 여부 \n",
    "println(\"typeParameters = ${kclass2.typeParameters}\")    // 타입매개변수 \n",
    "println(\"annotations = ${kclass2.annotations}\")          // 어노페이션 확인  "
   ]
  },
  {
   "cell_type": "code",
   "execution_count": null,
   "id": "500531b8-8aef-495f-9145-8b28c9d178e2",
   "metadata": {},
   "outputs": [],
   "source": []
  },
  {
   "cell_type": "markdown",
   "id": "199dd04e-15e9-49ef-9225-0dec3844d90e",
   "metadata": {},
   "source": [
    "## KClass\n",
    "\n",
    "- 클래스 참조( :: class) 를 사용하면 KClass 로 변환"
   ]
  },
  {
   "cell_type": "markdown",
   "id": "631820e7",
   "metadata": {},
   "source": [
    "## 인스턴스 만들기"
   ]
  },
  {
   "cell_type": "code",
   "execution_count": 4,
   "id": "1ac4b427",
   "metadata": {},
   "outputs": [
    {
     "name": "stdout",
     "output_type": "stream",
     "text": [
      "0.0\n",
      "abc\n",
      "true\n",
      "false\n",
      "true\n",
      "false\n"
     ]
    }
   ],
   "source": [
    "import kotlin.reflect.KClass\n",
    "import kotlin.reflect.full.createInstance\n",
    "\n",
    "val kclass3: KClass<out Test> = Test::class\n",
    "\n",
    "val instance = kclass3.createInstance()\n",
    "\n",
    "println(instance.v1)\n",
    "println(instance.v2)\n",
    "\n",
    "data class Data(val name:String)\n",
    "\n",
    "val dt = Data(\"코틀린\")::class\n",
    "println(dt.isData)\n",
    "println(dt.isOpen)\n",
    "\n",
    "val am = AbstractMap::class\n",
    "println(am.isAbstract)\n",
    "println(am.isOpen)"
   ]
  },
  {
   "cell_type": "code",
   "execution_count": null,
   "id": "ff813bc4",
   "metadata": {},
   "outputs": [],
   "source": []
  },
  {
   "cell_type": "markdown",
   "id": "2ac138af",
   "metadata": {},
   "source": [
    "## 클래스 속성 확인하기"
   ]
  },
  {
   "cell_type": "code",
   "execution_count": 9,
   "id": "10d763b7",
   "metadata": {},
   "outputs": [
    {
     "name": "stdout",
     "output_type": "stream",
     "text": [
      "파이널 클래스 여부 :true\n",
      "클래스 가시성     :PUBLIC\n",
      "클래스 전체 이름   :Line_442.A\n",
      "클래스 순수 이름   :A\n",
      "네포된 클래스     :[class Line_442$A$ACO, class Line_442$A$AIN, class Line_442$A$AN]\n",
      "타입매개변수      :[T]\n",
      "내포된 클래스 이름 :AN\n",
      "이너 클래스 이름   :AIN\n",
      "이너 클려스 여부   :true\n",
      "동반객체 이름 : ACO\n",
      "동반객체 여부 : true\n"
     ]
    }
   ],
   "source": [
    "class A<T> (val name : T) {                      // 클래스 정의 \n",
    "    class AN {}                                  // 내포된 클래스 정의 \n",
    "    inner class AIN {}                           // 이너 클래스 정의 \n",
    "    \n",
    "    companion object ACO{}                       // 동반객체 정의 \n",
    "}\n",
    "\n",
    "val a = A::class                                 // 클래스 참조 \n",
    "println(\"파이널 클래스 여부 :${a.isFinal}\")\n",
    "println(\"클래스 가시성     :${a.visibility}\")\n",
    "println(\"클래스 전체 이름   :${a.qualifiedName}\")\n",
    "println(\"클래스 순수 이름   :${a.simpleName}\")\n",
    "println(\"네포된 클래스     :${a.nestedClasses}\")\n",
    "println(\"타입매개변수      :${a.typeParameters}\")\n",
    "\n",
    "val an = A.AN::class                              // 내포 클래스 참조 \n",
    "println(\"내포된 클래스 이름 :${an.simpleName}\")\n",
    "val ain = A.AIN::class                            // 이너 클래스 참조\n",
    "println(\"이너 클래스 이름   :${ain.simpleName}\")\n",
    "println(\"이너 클려스 여부   :${ain.isInner}\")\n",
    "\n",
    "val aco = A.ACO::class                             // 동반객체 이름으로 참조\n",
    "println(\"동반객체 이름 : ${aco.simpleName}\")\n",
    "println(\"동반객체 여부 : ${aco.isCompanion}\")\n"
   ]
  },
  {
   "cell_type": "code",
   "execution_count": null,
   "id": "22cd2b7b",
   "metadata": {},
   "outputs": [],
   "source": []
  },
  {
   "cell_type": "code",
   "execution_count": 6,
   "id": "eacecddb",
   "metadata": {},
   "outputs": [
    {
     "name": "stdout",
     "output_type": "stream",
     "text": [
      "BB\n",
      "true\n",
      "O\n",
      "Line_5$O@7e07d2bc\n",
      "true\n",
      "[class Line_5$Seal$SubSeal]\n",
      "true\n",
      "[]\n"
     ]
    }
   ],
   "source": [
    "open class BB\n",
    "val bb = BB::class\n",
    "println(bb.simpleName)\n",
    "println(bb.isOpen)\n",
    "\n",
    "object O \n",
    "val o = O::class\n",
    "println(o.simpleName)\n",
    "println(o.objectInstance)\n",
    "\n",
    "sealed class Seal {\n",
    "    class SubSeal : Seal()\n",
    "}\n",
    "\n",
    "val b = Seal::class\n",
    "\n",
    "println(b.isSealed)\n",
    "println(b.sealedSubclasses)\n",
    "\n",
    "\n",
    "sealed class Seal1\n",
    "class SubSeal1 : Seal()\n",
    "\n",
    "val c = Seal1::class\n",
    "\n",
    "println(c.isSealed)\n",
    "println(c.sealedSubclasses)\n"
   ]
  },
  {
   "cell_type": "code",
   "execution_count": null,
   "id": "214c602c",
   "metadata": {},
   "outputs": [],
   "source": []
  },
  {
   "cell_type": "code",
   "execution_count": null,
   "id": "6b9a2cf6",
   "metadata": {},
   "outputs": [],
   "source": []
  }
 ],
 "metadata": {
  "kernelspec": {
   "display_name": "Kotlin",
   "language": "kotlin",
   "name": "kotlin"
  },
  "language_info": {
   "codemirror_mode": "text/x-kotlin",
   "file_extension": ".kt",
   "mimetype": "text/x-kotlin",
   "name": "kotlin",
   "nbconvert_exporter": "",
   "pygments_lexer": "kotlin",
   "version": "1.7.0-dev-1825"
  }
 },
 "nbformat": 4,
 "nbformat_minor": 5
}
