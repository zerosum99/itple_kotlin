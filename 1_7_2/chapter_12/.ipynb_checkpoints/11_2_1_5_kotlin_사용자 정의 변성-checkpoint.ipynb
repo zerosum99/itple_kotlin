{
 "cells": [
  {
   "cell_type": "code",
   "execution_count": null,
   "id": "1202c697",
   "metadata": {},
   "outputs": [],
   "source": []
  },
  {
   "cell_type": "code",
   "execution_count": 1,
   "id": "a2d78a01",
   "metadata": {},
   "outputs": [
    {
     "data": {
      "text/plain": [
       "1.7.20"
      ]
     },
     "execution_count": 1,
     "metadata": {},
     "output_type": "execute_result"
    }
   ],
   "source": [
    "KotlinVersion.CURRENT"
   ]
  },
  {
   "cell_type": "code",
   "execution_count": null,
   "id": "e6f5a677",
   "metadata": {},
   "outputs": [],
   "source": []
  },
  {
   "cell_type": "markdown",
   "id": "f9bea557",
   "metadata": {},
   "source": [
    "## 인 / 아웃 타입프로젝트\n",
    "\n",
    "- 함수의 인자나 세터에 사용 금지"
   ]
  },
  {
   "cell_type": "code",
   "execution_count": 2,
   "id": "d315af6b",
   "metadata": {},
   "outputs": [
    {
     "name": "stdout",
     "output_type": "stream",
     "text": [
      "100\n",
      "300\n",
      "999\n"
     ]
    }
   ],
   "source": [
    "class Foo<T> (val foo : T) {                   // 제너릭 클래스의 타입매개변수는 무변성이다. \n",
    "    fun accept(t: T) {                         // 메소드의 입력매개변수를 무변성으로 정의 \n",
    "        println(t)\n",
    "    }\n",
    "    \n",
    "    fun output() : T {                         // 메소드의 반환 값을 무변성으로 정의 \n",
    "        return foo   \n",
    "    }\n",
    "}\n",
    "\n",
    "fun <F> usingFoo(con: Foo<in F>, t: F) {       // 함수 내부의 매개변수가 반공변성 \n",
    "    con.accept(t)                              // 사용자 반공변성으로 메소드 처리 \n",
    "}\n",
    "\n",
    "fun <N> useBar(con : Foo<out N>, t: N) : N {   // 함수 내부으 매개변수가 공변성 \n",
    "    return con.output()                        // 사용자 공변성으로 메소드 처리 \n",
    "}\n",
    "\n",
    "val f = Foo<Number>(999)                       // 객체를 만들 때 자료형은 숫자 자료형\n",
    "f.accept(100)                                  // 무변성 메소드로 실행 \n",
    "\n",
    "usingFoo<Int>(f, 300)                          // 반공변성 제너릭 함수를 처리 :  자료형은 정수 \n",
    "                                               // 상속관계의 역방향 수행 \n",
    "println(useBar<Any>(f, 500))                   // 공변성으로 제너릭 함수 처리 :  자료형은 Any\n",
    "                                               // 상속관계ㅇ 방향으로 수행 "
   ]
  },
  {
   "cell_type": "code",
   "execution_count": null,
   "id": "002cb095",
   "metadata": {},
   "outputs": [],
   "source": []
  },
  {
   "cell_type": "markdown",
   "id": "e312edea",
   "metadata": {},
   "source": [
    "## 아웃과 인 사용자 변성 처리"
   ]
  },
  {
   "cell_type": "code",
   "execution_count": 3,
   "id": "2bfdc3cb",
   "metadata": {},
   "outputs": [
    {
     "name": "stdout",
     "output_type": "stream",
     "text": [
      "class Line_2$Animal\n",
      "class Line_2$Dog\n",
      "class Line_2$Box\n",
      "class Line_2$Box\n"
     ]
    }
   ],
   "source": [
    "open class Animal                          // 수퍼 클래스 정의 \n",
    "class Dog : Animal()                       // 서브 클래스 정의 \n",
    "\n",
    "class Box<T>(var item: T)                  // 제너릭 클래스 : 속성에 특정 클래스의 객체 저장 \n",
    "\n",
    "fun examine(boxed: Box<out Animal>) {      // 제너릭 클래스의 사용변성을 지정\n",
    "                                           // 생산자이므로 변수에 할당할 때 상위 자료형에 저장가능 \n",
    "    val animal: Animal = boxed.item        // getter로 사용해서 변수에 할당\n",
    "    println(animal.javaClass.kotlin)\n",
    "}\n",
    "\n",
    "examine(Box(Animal()))                     // 객체를 만들어서 전달\n",
    "examine(Box(Dog()))                        // 객체를 만들어서 전달 \n",
    "\n",
    "\n",
    "fun insert(boxed: Box<in Animal>) {       // 사용자 변성 in 사용      \n",
    "    boxed.item = Dog()                    // setter 처리 (out 변성은 오류지만 in 변성은 가능 )\n",
    "    println(boxed.javaClass.kotlin)\n",
    "}\n",
    "\n",
    "insert(Box(Animal()))                     // 객체를 만들어서 전달\n",
    "insert(Box(Dog()))                        // 객체를 만들어서 전달 "
   ]
  },
  {
   "cell_type": "code",
   "execution_count": null,
   "id": "4cc91da3",
   "metadata": {},
   "outputs": [],
   "source": []
  },
  {
   "cell_type": "code",
   "execution_count": null,
   "id": "a7e368f5",
   "metadata": {},
   "outputs": [],
   "source": []
  },
  {
   "cell_type": "code",
   "execution_count": null,
   "id": "4c70046e",
   "metadata": {},
   "outputs": [],
   "source": []
  }
 ],
 "metadata": {
  "kernelspec": {
   "display_name": "Kotlin",
   "language": "kotlin",
   "name": "kotlin"
  },
  "language_info": {
   "codemirror_mode": "text/x-kotlin",
   "file_extension": ".kt",
   "mimetype": "text/x-kotlin",
   "name": "kotlin",
   "nbconvert_exporter": "",
   "pygments_lexer": "kotlin",
   "version": "1.7.20-dev-1299"
  }
 },
 "nbformat": 4,
 "nbformat_minor": 5
}
