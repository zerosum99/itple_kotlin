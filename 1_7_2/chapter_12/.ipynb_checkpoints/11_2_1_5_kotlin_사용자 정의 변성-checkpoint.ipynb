{
 "cells": [
  {
   "cell_type": "code",
   "execution_count": 1,
   "id": "a2d78a01",
   "metadata": {},
   "outputs": [
    {
     "data": {
      "text/plain": [
       "1.7.0"
      ]
     },
     "execution_count": 1,
     "metadata": {},
     "output_type": "execute_result"
    }
   ],
   "source": [
    "KotlinVersion.CURRENT"
   ]
  },
  {
   "cell_type": "markdown",
   "id": "f9bea557",
   "metadata": {},
   "source": [
    "## 아웃 타입프로젝트\n",
    "\n",
    "- 함수의 인자나 세터에 사용 금지"
   ]
  },
  {
   "cell_type": "code",
   "execution_count": 2,
   "id": "5a3abc49",
   "metadata": {},
   "outputs": [
    {
     "name": "stdout",
     "output_type": "stream",
     "text": [
      "[1, 2, 3]\n",
      "[, , ]\n",
      "1\n",
      "2\n",
      "3\n",
      "[1, 2, 3]\n",
      "[1, 2, 3]\n"
     ]
    }
   ],
   "source": [
    "fun copy(from: Array<out Any>, to: Array<Any>) {   // 배열을 사용할 때 아웃을 지정 \n",
    "    assert(from.size == to.size)                   // 동일한 사이즈 체크 \n",
    "    for (i in from.indices)                        // 복사 \n",
    "        to[i] = from[i]\n",
    "    for (i in to.indices) {                        // 복사결과 확인 \n",
    "        println(to[i])\n",
    "    }\n",
    "}\n",
    "\n",
    "val ints: Array<Number> = arrayOf(1, 2, 3)\n",
    "val any :Array<Any> = Array<Any>(3) { \"\" }\n",
    "\n",
    "println(ints.toList())\n",
    "println(any.toList())\n",
    "\n",
    "copy(ints, any)                    //복사처리\n",
    "\n",
    "println(ints.toList())\n",
    "println(any.toList())"
   ]
  },
  {
   "cell_type": "markdown",
   "id": "e312edea",
   "metadata": {},
   "source": [
    "## 아웃"
   ]
  },
  {
   "cell_type": "code",
   "execution_count": 3,
   "id": "2bfdc3cb",
   "metadata": {},
   "outputs": [
    {
     "name": "stdout",
     "output_type": "stream",
     "text": [
      "Line_2$Animal@72e4c026\n",
      "Line_2$Dog@43b344b2\n"
     ]
    }
   ],
   "source": [
    "open class Animal\n",
    "\n",
    "class Dog : Animal()\n",
    "class Box<T>(var item: T)\n",
    "\n",
    "fun examine(boxed: Box<out Animal>) {      // 제너릭 클래스의 사용변성을 지정 \n",
    "    val animal: Animal = boxed.item        // getter로 사용\n",
    "    println(animal)\n",
    "}\n",
    "\n",
    "examine(Box(Animal()))\n",
    "examine(Box(Dog()))\n",
    "\n",
    "\n",
    "fun insert(boxed: Box<out Animal>) {\n",
    "    //boxed.item = Dog()                  //setter가 제거되어 사용할 경우 에러\n",
    "}"
   ]
  },
  {
   "cell_type": "code",
   "execution_count": null,
   "id": "4cc91da3",
   "metadata": {},
   "outputs": [],
   "source": []
  },
  {
   "cell_type": "markdown",
   "id": "bac3393a",
   "metadata": {},
   "source": [
    "## in"
   ]
  },
  {
   "cell_type": "code",
   "execution_count": 7,
   "id": "3c38ef1a",
   "metadata": {},
   "outputs": [
    {
     "name": "stdout",
     "output_type": "stream",
     "text": [
      "class Line_12$Dog\n",
      "class Line_12$Dog\n",
      "class Line_12$Animal\n"
     ]
    }
   ],
   "source": [
    "open class Animal\n",
    "\n",
    "class Dog : Animal()\n",
    "class Box<T>(var item: T)\n",
    "\n",
    "\n",
    "fun insert(boxed: Box<in Animal>) {\n",
    "    boxed.item = Dog()                     //setter로 사용\n",
    "    println(boxed.item!!::class)           //getter로 사용할 경우 \n",
    "}\n",
    "\n",
    "insert(Box(Animal()))\n",
    "insert(Box(Dog()))\n",
    "\n",
    "fun select(boxed: Box<in Dog>) : Any? {    // 함수 반환값으로 사용하면 Any?\n",
    "    return boxed.item!!::class             // getter로 사용            \n",
    "}\n",
    "\n",
    "println(select(Box(Animal())))"
   ]
  },
  {
   "cell_type": "code",
   "execution_count": null,
   "id": "a7e368f5",
   "metadata": {},
   "outputs": [],
   "source": []
  },
  {
   "cell_type": "markdown",
   "id": "aebefc50",
   "metadata": {},
   "source": [
    "## 스타프로젝션\n",
    "\n",
    "*는 어떤 타입이 들어올지 미리 알 수 없어도 그 타입을 안전하게 사용하고 싶을 때 사용한다. 언제든지 모든 타입을 받을 수 있는 Any와 달리 한번 구체적인 타입이 정해지고 나면 해당 타입만 받을 수 있다.\n",
    "\n",
    " "
   ]
  },
  {
   "cell_type": "code",
   "execution_count": 5,
   "id": "1b7176c9",
   "metadata": {},
   "outputs": [
    {
     "name": "stdout",
     "output_type": "stream",
     "text": [
      "[1, 문자열, 1]\n",
      "class kotlin.Int\n",
      "GeeksforGeeks\n",
      "123\n"
     ]
    }
   ],
   "source": [
    "\n",
    "fun acceptList(list: ArrayList<Any>) {\n",
    "    list.add(\"문자열\")       \n",
    "    list.add(1)  \n",
    "    println(list)\n",
    "}\n",
    "\n",
    "acceptList(arrayListOf(1))\n",
    "\n",
    "fun acceptStarList(list: ArrayList<*>) {\n",
    "    //list.add(\"문자열\")                           // 타입미정의로 오류 \n",
    "    //list.add(12)                               // 타입 미정의로 오류\n",
    "}\n",
    "\n",
    "fun acceptStarList(list: List<*>) {              // 타입이 확정되기 전까지 Any? 타입으로 추정\n",
    "    if (list.isNotEmpty()) {                     // 타입 체크 후 처리\n",
    "        val item = list.get(0)     \n",
    "        println(item!!::class)                   // 널이 아닌지 확인 필요\n",
    "    }\n",
    "}\n",
    "\n",
    "acceptStarList(listOf(1))\n",
    "\n",
    "fun printArray(array: Array<*>) {                 // star projection in array\n",
    "    array.forEach { print(it) }\n",
    "    println()\n",
    "}\n",
    "\n",
    "val name  = arrayOf(\"Geeks\",\"for\",\"Geeks\")\n",
    "printArray(name)\n",
    "val name1  = arrayOf(1,2,3)\n",
    "printArray(name1)"
   ]
  },
  {
   "cell_type": "code",
   "execution_count": null,
   "id": "b8e651fb",
   "metadata": {},
   "outputs": [],
   "source": []
  },
  {
   "cell_type": "code",
   "execution_count": 6,
   "id": "8ee52ae2",
   "metadata": {},
   "outputs": [
    {
     "name": "stdout",
     "output_type": "stream",
     "text": [
      "class Line_5$GenericClass\n",
      "class Line_5$GenericClass\n"
     ]
    }
   ],
   "source": [
    "open class SuperClass\n",
    "class Child : SuperClass()\n",
    "\n",
    "open class TestClass\n",
    "\n",
    "class GenericClass<out T : SuperClass>() { }\n",
    "\n",
    "fun acceptStar(value: GenericClass<*>) {\n",
    "    println(value::class)\n",
    "}\n",
    "\n",
    "\n",
    "acceptStar(GenericClass<Child>())\n",
    "acceptStar(GenericClass<SuperClass>())\n",
    "\n",
    "//acceptStar(GenericClass<TestClass>()) // error!"
   ]
  },
  {
   "cell_type": "code",
   "execution_count": null,
   "id": "d315af6b",
   "metadata": {},
   "outputs": [],
   "source": []
  },
  {
   "cell_type": "code",
   "execution_count": null,
   "id": "c020da8e",
   "metadata": {},
   "outputs": [],
   "source": []
  },
  {
   "cell_type": "code",
   "execution_count": null,
   "id": "b9bcbae1",
   "metadata": {},
   "outputs": [],
   "source": []
  }
 ],
 "metadata": {
  "kernelspec": {
   "display_name": "Kotlin",
   "language": "kotlin",
   "name": "kotlin"
  },
  "language_info": {
   "codemirror_mode": "text/x-kotlin",
   "file_extension": ".kt",
   "mimetype": "text/x-kotlin",
   "name": "kotlin",
   "nbconvert_exporter": "",
   "pygments_lexer": "kotlin",
   "version": "1.7.0-dev-1825"
  }
 },
 "nbformat": 4,
 "nbformat_minor": 5
}
