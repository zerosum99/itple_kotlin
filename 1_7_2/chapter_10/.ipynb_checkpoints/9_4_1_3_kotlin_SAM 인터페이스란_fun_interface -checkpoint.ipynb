{
 "cells": [
  {
   "cell_type": "markdown",
   "id": "0e853d68",
   "metadata": {},
   "source": [
    "## 싱글 추상메소드 인터페이스(SAM)\n",
    "\n",
    "- 하나의 추상 메서드만 있는 인터페이스를 기능 인터페이스 또는 SAM(Single Abstract Method) 인터페이스 라고 합니다. \n",
    "- 기능적 인터페이스는 추상이 아닌 멤버가 여러 개 있을 수 있지만 추상 멤버는 하나만 있을 수 있습니다."
   ]
  },
  {
   "cell_type": "code",
   "execution_count": null,
   "id": "cd63cd11",
   "metadata": {},
   "outputs": [],
   "source": []
  },
  {
   "cell_type": "markdown",
   "id": "bb5c7bf2",
   "metadata": {},
   "source": [
    "## SAM 전환﻿\n",
    "\n",
    "- 기능적 인터페이스의 경우 람다 식 을 사용하여 코드를 보다 간결하고 읽기 쉽게 만드는 SAM 변환을 사용할 수 있습니다 .\n",
    "\n",
    "- 기능 인터페이스를 수동으로 구현하는 클래스를 만드는 대신 람다 식을 사용할 수 있습니다. \n",
    "\n",
    "- SAM 변환을 통해 Kotlin은 인터페이스의 단일 메서드 서명과 일치하는 서명이 있는 람다 식을 인터페이스 구현을 동적으로 인스턴스화하는 코드로 변환할 수 있습니다."
   ]
  },
  {
   "cell_type": "code",
   "execution_count": 1,
   "id": "8ff2ffe3",
   "metadata": {},
   "outputs": [],
   "source": [
    "fun interface StringConsumer {\n",
    "    fun accept(s:String)\n",
    "}"
   ]
  },
  {
   "cell_type": "markdown",
   "id": "2655b36e",
   "metadata": {},
   "source": [
    "### sam 을 사용하지 않을 경우 "
   ]
  },
  {
   "cell_type": "code",
   "execution_count": 2,
   "id": "025034da",
   "metadata": {},
   "outputs": [],
   "source": [
    "// Creating an instance of a class\n",
    "val consume_ = object : StringConsumer {\n",
    "   override fun accept(s: String) {\n",
    "       println(s)\n",
    "   }\n",
    "}"
   ]
  },
  {
   "cell_type": "code",
   "execution_count": null,
   "id": "af175e51",
   "metadata": {},
   "outputs": [],
   "source": []
  },
  {
   "cell_type": "code",
   "execution_count": 3,
   "id": "6060cd06",
   "metadata": {},
   "outputs": [],
   "source": [
    "fun main() {\n",
    "    val consume = StringConsumer { s -> println(s)}\n",
    "    \n",
    "    consume.accept(\"Hello world\")\n",
    "    \n",
    "    // Creating an instance of a class\n",
    "    val consume_ = object : StringConsumer {\n",
    "       override fun accept(s: String) {\n",
    "           println(s)\n",
    "       }\n",
    "     }\n",
    "    \n",
    "    consume_.accept(\"Hello world2\")\n",
    "}"
   ]
  },
  {
   "cell_type": "code",
   "execution_count": 4,
   "id": "d31e8a22",
   "metadata": {},
   "outputs": [
    {
     "name": "stdout",
     "output_type": "stream",
     "text": [
      "Hello world\n",
      "Hello world2\n"
     ]
    }
   ],
   "source": [
    "main()"
   ]
  },
  {
   "cell_type": "markdown",
   "id": "db7133f1",
   "metadata": {},
   "source": []
  }
 ],
 "metadata": {
  "kernelspec": {
   "display_name": "Kotlin",
   "language": "kotlin",
   "name": "kotlin"
  },
  "language_info": {
   "codemirror_mode": "text/x-kotlin",
   "file_extension": ".kt",
   "mimetype": "text/x-kotlin",
   "name": "kotlin",
   "nbconvert_exporter": "",
   "pygments_lexer": "kotlin",
   "version": "1.7.0-dev-1825"
  }
 },
 "nbformat": 4,
 "nbformat_minor": 5
}
