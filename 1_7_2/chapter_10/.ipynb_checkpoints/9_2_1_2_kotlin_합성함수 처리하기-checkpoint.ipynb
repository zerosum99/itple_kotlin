{
 "cells": [
  {
   "cell_type": "markdown",
   "id": "df61dc5b",
   "metadata": {},
   "source": [
    "## 두개의 함수를 결합"
   ]
  },
  {
   "cell_type": "markdown",
   "id": "428f22e9",
   "metadata": {},
   "source": [
    "### 순방향으로 결합"
   ]
  },
  {
   "cell_type": "markdown",
   "id": "c7b01ead",
   "metadata": {},
   "source": [
    "### 역방향으로 결합"
   ]
  },
  {
   "cell_type": "code",
   "execution_count": 1,
   "id": "ae246ebe",
   "metadata": {},
   "outputs": [
    {
     "name": "stdout",
     "output_type": "stream",
     "text": [
      "8\n",
      "8\n"
     ]
    }
   ],
   "source": [
    "fun composeF(f: (Int) -> Int, g:(Int) -> Int): (Int) -> Int {\n",
    "    return { p1: Int -> f(g(p1)) }\n",
    "}\n",
    "\n",
    "val composeFunc = composeF({x : Int -> x+2}, {y:Int -> y+3})\n",
    "\n",
    "println(composeFunc(3))\n",
    "\n",
    "\n",
    "fun composeR(g: (Int) -> Int, f: (Int) -> Int): (Int) -> Int {\n",
    "    return { p1: Int -> g(f(p1)) }\n",
    "}\n",
    "\n",
    "val composeFuncR = composeR({y : Int -> y+3},{x:Int -> x+2})\n",
    "\n",
    "println(composeFuncR(3))"
   ]
  },
  {
   "cell_type": "code",
   "execution_count": null,
   "id": "81fd50de",
   "metadata": {},
   "outputs": [],
   "source": []
  },
  {
   "cell_type": "markdown",
   "id": "9f9212e3",
   "metadata": {},
   "source": [
    "## 확장함수로 결합 "
   ]
  },
  {
   "cell_type": "markdown",
   "id": "3fa86a8f",
   "metadata": {},
   "source": [
    "## 역으로 함수를 결합"
   ]
  },
  {
   "cell_type": "code",
   "execution_count": 4,
   "id": "480498ca",
   "metadata": {},
   "outputs": [
    {
     "name": "stdout",
     "output_type": "stream",
     "text": [
      "11\n",
      "14\n",
      "14\n",
      "11\n",
      "11\n"
     ]
    }
   ],
   "source": [
    "infix fun <P1, P2, R> ((P1) -> R).compose(f: (P2) -> P1): (P2) -> R {\n",
    "    return { p1: P2 -> this(f(p1)) }\n",
    "}\n",
    "\n",
    "infix fun <P1, R1, R2> ((P1) -> R1).then(f: (R1) -> R2): (P1) -> R2 {\n",
    "    return { p1: P1 -> f(this(p1)) }\n",
    "}\n",
    "\n",
    "val plus2: (Int) -> Int  = { it + 2 }\n",
    "val times3: (Int) -> Int = { it * 3 }\n",
    "\n",
    "// composition\n",
    "val times3plus2 = plus2 compose times3\n",
    "\n",
    "println(times3plus2(3))\n",
    "assert(times3plus2(3) == 11)\n",
    "println(times3plus2(4))\n",
    "println(plus2(times3(4)))\n",
    "assert(times3plus2(4) == plus2(times3(4)))\n",
    "\n",
    "infix fun <R1, R2> (() -> R1).then(f: (R1) -> R2): () -> R2 {\n",
    "    return { f(this()) }\n",
    "}\n",
    "// reverse composition\n",
    "println(times3plus2(3))\n",
    "println((times3 then plus2)(3))\n",
    "assert(times3plus2(3) == (times3 then plus2)(3))"
   ]
  },
  {
   "cell_type": "code",
   "execution_count": null,
   "id": "e582d821",
   "metadata": {},
   "outputs": [],
   "source": []
  },
  {
   "cell_type": "code",
   "execution_count": 6,
   "id": "443ab0f6",
   "metadata": {},
   "outputs": [
    {
     "name": "stdout",
     "output_type": "stream",
     "text": [
      "11\n",
      "11\n"
     ]
    }
   ],
   "source": [
    "// reverse composition\n",
    "println(times3plus2(3))\n",
    "println((times3 then plus2)(3))\n",
    "assert(times3plus2(3) == (times3 then plus2)(3))"
   ]
  },
  {
   "cell_type": "code",
   "execution_count": null,
   "id": "7d03c6d4",
   "metadata": {},
   "outputs": [],
   "source": []
  }
 ],
 "metadata": {
  "kernelspec": {
   "display_name": "Kotlin",
   "language": "kotlin",
   "name": "kotlin"
  },
  "language_info": {
   "codemirror_mode": "text/x-kotlin",
   "file_extension": ".kt",
   "mimetype": "text/x-kotlin",
   "name": "kotlin",
   "nbconvert_exporter": "",
   "pygments_lexer": "kotlin",
   "version": "1.7.0-dev-1825"
  }
 },
 "nbformat": 4,
 "nbformat_minor": 5
}
