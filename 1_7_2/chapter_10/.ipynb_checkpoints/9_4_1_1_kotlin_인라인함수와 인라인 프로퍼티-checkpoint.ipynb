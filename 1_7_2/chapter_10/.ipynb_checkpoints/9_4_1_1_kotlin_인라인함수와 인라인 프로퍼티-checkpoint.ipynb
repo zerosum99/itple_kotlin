{
 "cells": [
  {
   "cell_type": "code",
   "execution_count": null,
   "id": "5b423aab",
   "metadata": {},
   "outputs": [],
   "source": []
  },
  {
   "cell_type": "code",
   "execution_count": 1,
   "id": "2c8c1763",
   "metadata": {},
   "outputs": [
    {
     "data": {
      "text/plain": [
       "1.7.20"
      ]
     },
     "execution_count": 1,
     "metadata": {},
     "output_type": "execute_result"
    }
   ],
   "source": [
    "KotlinVersion.CURRENT             // 코틀린 현재 버전 "
   ]
  },
  {
   "cell_type": "code",
   "execution_count": null,
   "id": "1c334adc",
   "metadata": {},
   "outputs": [],
   "source": []
  },
  {
   "cell_type": "markdown",
   "id": "0571adde",
   "metadata": {},
   "source": [
    "## 인라인 \n",
    "\n",
    "- inline : 함수 파라메터로 Higher-Order function을 사용한 함수 전달을 사용할 때 inline을 활용하고, 익명 클래스 생성 비용을 줄일 수 있다.\n",
    "- noinline : lambdas 식 표현에서 함께 사용을 하지만, 이 함수에서 호출하는 함수가 inline이 아닌 경우에 붙여준다.\n",
    "- crossinline : 다른 함수의 Higher-Order function 파라메터를 block {} 형태로 사용하는 경우 crossinline을 써야 한다."
   ]
  },
  {
   "cell_type": "code",
   "execution_count": 2,
   "id": "f7c32cad",
   "metadata": {},
   "outputs": [
    {
     "name": "stdout",
     "output_type": "stream",
     "text": [
      "120\n",
      "120\n"
     ]
    }
   ],
   "source": [
    "val func1 : (Int) -> Int = { x -> x * 10}                // 람다표현식 정의 \n",
    "val func2 : (Int) -> Int = { x -> x + 10}                // 람다표현식 정의 \n",
    "\n",
    "println(func1(10) + func2(10))                           // 두 함수 결과를 합산 \n",
    "\n",
    "fun compose(a:Int , action: (Int) -> Int ,               // 고차함수 정의 \n",
    "                    block : (Int) -> Int) : Int {        // 2개의 함수를 매개변수\n",
    "    val res1 = action(a)                                 // 함수 실행 \n",
    "    val res2 = block(a)                                  // 함수 실행 \n",
    "    return res1 + res2                                   // 두 함수 실행결과를 합산 \n",
    "}\n",
    "\n",
    "fun callingHOF() {                                        // 함수를 내부에서 처리\n",
    "    println(compose(10,{x -> x * 10}, {y -> y + 10}))     // 두 개의 람다표현식 전달 \n",
    "}\n",
    "\n",
    "callingHOF()"
   ]
  },
  {
   "cell_type": "code",
   "execution_count": null,
   "id": "83fe8866",
   "metadata": {},
   "outputs": [],
   "source": []
  },
  {
   "cell_type": "code",
   "execution_count": 3,
   "id": "5b7e3c95",
   "metadata": {},
   "outputs": [
    {
     "name": "stdout",
     "output_type": "stream",
     "text": [
      "120\n"
     ]
    }
   ],
   "source": [
    "inline fun compose_(a:Int , \n",
    "                    action: (Int) -> Int,                 // 고차함수를 인라인 함수로 처리 \n",
    "                    block : (Int) -> Int ) : Int {        // 2개의 함수를 매개변수\n",
    "\n",
    "    return action(a) + block(a)\n",
    "}\n",
    "\n",
    "\n",
    "fun callingHOF() {                                         // 인라인 함수를 내부에서 호출 \n",
    "    println(compose_(10,{x -> x * 10}, {y -> y + 10}))     // 두 개의 람다표현식 전달 \n",
    "}\n",
    "\n",
    "callingHOF()"
   ]
  },
  {
   "cell_type": "code",
   "execution_count": null,
   "id": "6c02ca68",
   "metadata": {},
   "outputs": [],
   "source": []
  },
  {
   "cell_type": "markdown",
   "id": "59adaf57",
   "metadata": {},
   "source": [
    "## 인라인 프로퍼티"
   ]
  },
  {
   "cell_type": "code",
   "execution_count": null,
   "id": "6c8dbe4f",
   "metadata": {},
   "outputs": [],
   "source": []
  },
  {
   "cell_type": "code",
   "execution_count": 4,
   "id": "cfdc8569",
   "metadata": {},
   "outputs": [
    {
     "name": "stdout",
     "output_type": "stream",
     "text": [
      "100\n",
      "300\n",
      "100\n",
      "300\n"
     ]
    }
   ],
   "source": [
    "class AClass {                               // 클래스 정의 \n",
    "    var visibility = 0\n",
    "    val prop1 : Int                          // 클래스 속성의 게터만 인라인 처리\n",
    "        inline get() = 100\n",
    "    \n",
    "    inline var prop2 : Int                   // 클래스 속성의 게터와 세터 인라인 처리\n",
    "        get() = visibility\n",
    "        set(value) { visibility = value}\n",
    "}\n",
    "\n",
    "var state = 0 \n",
    "val prop3 : Int                              // 최상위 속성의 게터만 인라인처리\n",
    "    inline get() = 100\n",
    "    \n",
    "inline var prop4 : Int                       // 최상위 속성의  게티와 세터 인라인 처리\n",
    "    get() = state\n",
    "    set(value) { state = value}\n",
    "\n",
    "fun callInPro() {                            // 호출한 함수\n",
    "    val a = AClass()                         // 객체를 생성 : 객체의 인라인 속성 코드 삽입\n",
    "    println(a.prop1)\n",
    "    a.prop2 = 300\n",
    "    println(a.prop2)                         // 최상위 인라인 속성 코드 삽입\n",
    "    println(prop3)\n",
    "    prop4 = 300\n",
    "    println(prop4)\n",
    "}\n",
    "\n",
    "callInPro()                                 // 함수 호출"
   ]
  },
  {
   "cell_type": "code",
   "execution_count": null,
   "id": "2f2fcb5c",
   "metadata": {},
   "outputs": [],
   "source": []
  },
  {
   "cell_type": "code",
   "execution_count": null,
   "id": "f1e599c5",
   "metadata": {},
   "outputs": [],
   "source": []
  },
  {
   "cell_type": "code",
   "execution_count": null,
   "id": "4e89155c",
   "metadata": {},
   "outputs": [],
   "source": []
  }
 ],
 "metadata": {
  "kernelspec": {
   "display_name": "Kotlin",
   "language": "kotlin",
   "name": "kotlin"
  },
  "language_info": {
   "codemirror_mode": "text/x-kotlin",
   "file_extension": ".kt",
   "mimetype": "text/x-kotlin",
   "name": "kotlin",
   "nbconvert_exporter": "",
   "pygments_lexer": "kotlin",
   "version": "1.7.20-dev-1299"
  }
 },
 "nbformat": 4,
 "nbformat_minor": 5
}
