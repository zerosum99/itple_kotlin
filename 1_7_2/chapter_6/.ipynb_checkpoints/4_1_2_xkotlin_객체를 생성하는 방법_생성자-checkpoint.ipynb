{
 "cells": [
  {
   "cell_type": "code",
   "execution_count": null,
   "id": "4d3f918e-35be-481d-9892-28f195a55eae",
   "metadata": {},
   "outputs": [],
   "source": []
  },
  {
   "cell_type": "markdown",
   "id": "629e8fcc-e480-4d60-a99c-9c81bedbb634",
   "metadata": {},
   "source": [
    "### 주 생성자 정의 및 내부에 프로퍼티 초기화 "
   ]
  },
  {
   "cell_type": "code",
   "execution_count": 2,
   "id": "cf514429-c343-4dde-a6bf-c84c816cedaf",
   "metadata": {},
   "outputs": [],
   "source": [
    "class User constructor(name : String, age: Int) {\n",
    "    val name : String\n",
    "    val age : Int\n",
    "    \n",
    "    init { \n",
    "        this.name = name\n",
    "        this.age = age\n",
    "    }\n",
    "}"
   ]
  },
  {
   "cell_type": "code",
   "execution_count": 3,
   "id": "69cacb1a-ac24-46e8-bc63-806670784811",
   "metadata": {},
   "outputs": [],
   "source": [
    "val u = User(\"dahl\", 55)"
   ]
  },
  {
   "cell_type": "code",
   "execution_count": 4,
   "id": "83f54493-043a-41ab-8281-1590e0404333",
   "metadata": {},
   "outputs": [
    {
     "data": {
      "text/plain": [
       "Line_2$User@497570fb"
      ]
     },
     "execution_count": 4,
     "metadata": {},
     "output_type": "execute_result"
    }
   ],
   "source": [
    "u"
   ]
  },
  {
   "cell_type": "markdown",
   "id": "406c0b76-856f-4820-ac33-246d3233a622",
   "metadata": {},
   "source": [
    "### 주 생성자 내에 프로퍼티 지정 "
   ]
  },
  {
   "cell_type": "code",
   "execution_count": 5,
   "id": "57e78f6a-1f35-453b-838f-4b6100ea04ad",
   "metadata": {},
   "outputs": [],
   "source": [
    "class User1(val name:String, val age:Int) "
   ]
  },
  {
   "cell_type": "code",
   "execution_count": 6,
   "id": "697729f2-e7d6-4fe0-bf29-fef1ee707465",
   "metadata": {},
   "outputs": [],
   "source": [
    "val u1 = User1(\"moon\",55)"
   ]
  },
  {
   "cell_type": "code",
   "execution_count": 7,
   "id": "4d30636b-04da-4d15-b9fc-f73b0f7af1a3",
   "metadata": {},
   "outputs": [
    {
     "data": {
      "text/plain": [
       "class Line_5$User1"
      ]
     },
     "execution_count": 7,
     "metadata": {},
     "output_type": "execute_result"
    }
   ],
   "source": [
    "u1.javaClass.kotlin"
   ]
  },
  {
   "cell_type": "markdown",
   "id": "8e1438f1-22c9-4ad2-af35-2561ba78547e",
   "metadata": {
    "jupyter": {
     "source_hidden": true
    },
    "tags": []
   },
   "source": [
    "### 비공개 생성자"
   ]
  },
  {
   "cell_type": "code",
   "execution_count": 8,
   "id": "6a0510e0-f1cb-4a25-8697-7d73d40893aa",
   "metadata": {},
   "outputs": [],
   "source": [
    "class User2 private constructor(val name : String, val age : Int) "
   ]
  },
  {
   "cell_type": "code",
   "execution_count": 9,
   "id": "c7122632-7b7f-406e-8850-b911eb564a3f",
   "metadata": {},
   "outputs": [
    {
     "name": "stderr",
     "output_type": "stream",
     "text": [
      "Line_9.jupyter-kts (1:10 - 15) Cannot access '<init>': it is private in 'User2'"
     ]
    }
   ],
   "source": [
    "val u2 = User2(\"kim\", 55)"
   ]
  },
  {
   "cell_type": "code",
   "execution_count": null,
   "id": "e97e7df2-4366-4b37-a589-5a583e2197f9",
   "metadata": {},
   "outputs": [],
   "source": []
  },
  {
   "cell_type": "code",
   "execution_count": 20,
   "id": "483e35c5-3adb-43bb-8422-61074d51553f",
   "metadata": {},
   "outputs": [],
   "source": [
    "class User3(_name : String, _age : Int) {\n",
    "    var name :String \n",
    "       \n",
    "    var age : Int \n",
    "       \n",
    "    init {\n",
    "        this.name = _name\n",
    "        this.age = _age\n",
    "    }\n",
    "}"
   ]
  },
  {
   "cell_type": "code",
   "execution_count": 21,
   "id": "9989123e-e520-48fd-a6cb-646f89a99ce5",
   "metadata": {},
   "outputs": [],
   "source": [
    "val u3 = User3(\"jin\", 55)"
   ]
  },
  {
   "cell_type": "code",
   "execution_count": 22,
   "id": "297f28cd-39d2-4703-966f-6be1cc926f01",
   "metadata": {},
   "outputs": [
    {
     "data": {
      "text/plain": [
       "jin"
      ]
     },
     "execution_count": 22,
     "metadata": {},
     "output_type": "execute_result"
    }
   ],
   "source": [
    "u3.name "
   ]
  },
  {
   "cell_type": "code",
   "execution_count": null,
   "id": "6abc5381-4453-4f16-907a-aca5e3ad403b",
   "metadata": {},
   "outputs": [],
   "source": []
  }
 ],
 "metadata": {
  "kernelspec": {
   "display_name": "Kotlin",
   "language": "kotlin",
   "name": "kotlin"
  },
  "language_info": {
   "codemirror_mode": "text/x-kotlin",
   "file_extension": ".kt",
   "mimetype": "text/x-kotlin",
   "name": "kotlin",
   "nbconvert_exporter": "",
   "pygments_lexer": "kotlin",
   "version": "1.6.0-dev-3567"
  }
 },
 "nbformat": 4,
 "nbformat_minor": 5
}
