{
 "cells": [
  {
   "cell_type": "markdown",
   "id": "0068104d",
   "metadata": {},
   "source": [
    "## 널 가능 함수 처리"
   ]
  },
  {
   "cell_type": "code",
   "execution_count": 1,
   "id": "05553ca6",
   "metadata": {},
   "outputs": [],
   "source": [
    "fun nullFunc(action :(()->Unit)?) :Long{\n",
    "    val start = System.nanoTime()\n",
    "    action?.invoke()\n",
    "    \n",
    "    return System.nanoTime() - start\n",
    "}"
   ]
  },
  {
   "cell_type": "code",
   "execution_count": 2,
   "id": "d3f5561d",
   "metadata": {},
   "outputs": [
    {
     "data": {
      "text/plain": [
       "342"
      ]
     },
     "execution_count": 2,
     "metadata": {},
     "output_type": "execute_result"
    }
   ],
   "source": [
    "nullFunc(null)"
   ]
  },
  {
   "cell_type": "code",
   "execution_count": 3,
   "id": "56862fd2",
   "metadata": {},
   "outputs": [
    {
     "name": "stdout",
     "output_type": "stream",
     "text": [
      "Hello world\n"
     ]
    },
    {
     "data": {
      "text/plain": [
       "842478"
      ]
     },
     "execution_count": 3,
     "metadata": {},
     "output_type": "execute_result"
    }
   ],
   "source": [
    "nullFunc { println(\"Hello world\") }"
   ]
  },
  {
   "cell_type": "code",
   "execution_count": null,
   "id": "c1914d33",
   "metadata": {},
   "outputs": [],
   "source": []
  },
  {
   "cell_type": "markdown",
   "id": "c14904dc",
   "metadata": {},
   "source": [
    "## 람다로 내부함수 처리"
   ]
  },
  {
   "cell_type": "code",
   "execution_count": null,
   "id": "b05cf34b",
   "metadata": {},
   "outputs": [],
   "source": []
  },
  {
   "cell_type": "code",
   "execution_count": 2,
   "id": "5e5bd54e",
   "metadata": {},
   "outputs": [],
   "source": [
    "val innerFunc : (Int) -> ((Int) -> Int)? = {n -> { m -> n + m }}"
   ]
  },
  {
   "cell_type": "code",
   "execution_count": 3,
   "id": "89af6d8a",
   "metadata": {},
   "outputs": [
    {
     "data": {
      "text/plain": [
       "(kotlin.Int) -> kotlin.Int"
      ]
     },
     "execution_count": 3,
     "metadata": {},
     "output_type": "execute_result"
    }
   ],
   "source": [
    "innerFunc(10)"
   ]
  },
  {
   "cell_type": "code",
   "execution_count": 7,
   "id": "20741620",
   "metadata": {},
   "outputs": [
    {
     "data": {
      "text/plain": [
       "30"
      ]
     },
     "execution_count": 7,
     "metadata": {},
     "output_type": "execute_result"
    }
   ],
   "source": [
    "innerFunc(10)?.invoke(20)"
   ]
  },
  {
   "cell_type": "code",
   "execution_count": null,
   "id": "21ca80f0",
   "metadata": {},
   "outputs": [],
   "source": []
  }
 ],
 "metadata": {
  "kernelspec": {
   "display_name": "Kotlin",
   "language": "kotlin",
   "name": "kotlin"
  },
  "language_info": {
   "codemirror_mode": "text/x-kotlin",
   "file_extension": ".kt",
   "mimetype": "text/x-kotlin",
   "name": "kotlin",
   "nbconvert_exporter": "",
   "pygments_lexer": "kotlin",
   "version": "1.7.0-dev-1825"
  }
 },
 "nbformat": 4,
 "nbformat_minor": 5
}
