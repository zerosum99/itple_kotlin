{
 "cells": [
  {
   "cell_type": "code",
   "execution_count": 5,
   "id": "eb3f3646",
   "metadata": {},
   "outputs": [
    {
     "name": "stdout",
     "output_type": "stream",
     "text": [
      "Thread 1\n",
      "Thread 2\n",
      "Thread 1\n",
      "Thread 2\n",
      "Thread 1\n",
      "Thread 2\n",
      "Thread 1\n",
      "Thread 2\n",
      "Thread 1\n",
      "Thread 2\n",
      "Threads Sleeping\n"
     ]
    }
   ],
   "source": [
    "class Thread1:Thread(){\n",
    "    override fun run():Unit{\n",
    "      for(i in 0 until 5){\n",
    "          println(\"Thread 1\")\n",
    "          Thread.sleep(1000)\n",
    "      }\n",
    "    }\n",
    "}\n",
    "\n",
    "class Thread2:Thread(){\n",
    "    override fun run() {\n",
    "        for (i in 0 until 5) {\n",
    "            println(\"Thread 2\")\n",
    "            Thread.sleep(1000)\n",
    "        }\n",
    "    }\n",
    "}\n",
    "\n",
    "// With simple threads\n",
    "val thread1= Thread1()\n",
    "val thread2= Thread2()\n",
    "thread1.start()\n",
    "Thread.sleep(10)\n",
    "thread2.start()\n",
    "\n",
    "thread1.join()\n",
    "thread2.join()\n",
    "\n",
    "println(\"Threads Sleeping\")"
   ]
  },
  {
   "cell_type": "code",
   "execution_count": 3,
   "id": "60b5df10",
   "metadata": {},
   "outputs": [
    {
     "name": "stdout",
     "output_type": "stream",
     "text": [
      "Thread 1\n",
      "Thread 2\n"
     ]
    }
   ],
   "source": [
    "main___()"
   ]
  },
  {
   "cell_type": "code",
   "execution_count": null,
   "id": "f5af0ee0",
   "metadata": {},
   "outputs": [],
   "source": []
  },
  {
   "cell_type": "code",
   "execution_count": 9,
   "id": "95e910ea",
   "metadata": {},
   "outputs": [
    {
     "name": "stderr",
     "output_type": "stream",
     "text": [
      "Line_191.jupyter-kts (3:25 - 35) 'return' is not allowed here"
     ]
    }
   ],
   "source": [
    "kkk@ fun func() {\n",
    "    \n",
    "    {x:Int -> print(x); return@kkk}(100)\n",
    "  \n",
    "}"
   ]
  },
  {
   "cell_type": "code",
   "execution_count": null,
   "id": "0d60750d",
   "metadata": {},
   "outputs": [],
   "source": []
  }
 ],
 "metadata": {
  "kernelspec": {
   "display_name": "Kotlin",
   "language": "kotlin",
   "name": "kotlin"
  },
  "language_info": {
   "codemirror_mode": "text/x-kotlin",
   "file_extension": ".kt",
   "mimetype": "text/x-kotlin",
   "name": "kotlin",
   "nbconvert_exporter": "",
   "pygments_lexer": "kotlin",
   "version": "1.7.0-dev-1825"
  }
 },
 "nbformat": 4,
 "nbformat_minor": 5
}
