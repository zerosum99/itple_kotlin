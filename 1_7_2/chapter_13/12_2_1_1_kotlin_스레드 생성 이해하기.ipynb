{
 "cells": [
  {
   "cell_type": "code",
   "execution_count": null,
   "id": "b20f12dd",
   "metadata": {},
   "outputs": [],
   "source": []
  },
  {
   "cell_type": "markdown",
   "id": "4041c52a",
   "metadata": {},
   "source": [
    "## 프로세스와 스레드 알아보기"
   ]
  },
  {
   "cell_type": "code",
   "execution_count": 1,
   "id": "5f669852",
   "metadata": {},
   "outputs": [
    {
     "name": "stdout",
     "output_type": "stream",
     "text": [
      "코어 개수 : 8\n",
      "메인 스레드 : Thread[Thread-5,5,main]\n",
      "task1 : Thread[Thread-5,5,main]\n",
      "task2 : Thread[Thread-5,5,main]\n"
     ]
    }
   ],
   "source": [
    "val cores = Runtime.getRuntime().availableProcessors()     // 프로세스 갯수 \n",
    "println(\"코어 개수 : $cores\")\n",
    "println(\"메인 스레드 : ${Thread.currentThread()}\")            // 메인 스레드 \n",
    "\n",
    "fun task1() {                                              // 함수 정의 \n",
    "    println(\"task1 : ${Thread.currentThread()}\")\n",
    "}\n",
    "\n",
    "fun task2() {                                              //  함수 정의\n",
    "    println(\"task2 : ${Thread.currentThread()}\")\n",
    "}\n",
    "\n",
    "run {                                                       // 스코프 함수로 다른 함수 실행\n",
    "    task1()\n",
    "    task2()\n",
    "}"
   ]
  },
  {
   "cell_type": "code",
   "execution_count": null,
   "id": "f7f6d8d1",
   "metadata": {},
   "outputs": [],
   "source": []
  },
  {
   "cell_type": "markdown",
   "id": "12f0eee5",
   "metadata": {},
   "source": [
    "## 스레드 상태 확인 "
   ]
  },
  {
   "cell_type": "code",
   "execution_count": 2,
   "id": "9a9a5382",
   "metadata": {},
   "outputs": [
    {
     "name": "stdout",
     "output_type": "stream",
     "text": [
      "클래스 참조 : class java.lang.Thread\n",
      "인터페이스 참조 : class java.lang.Runnable\n",
      "현재 스레드 개수 : 12\n",
      "현재 스레드 : Thread[Thread-10,5,main]\n",
      "Thread\n",
      "스레드 멤버 개수 : 92\n",
      "스레드 그룹 : java.lang.ThreadGroup[name=main,maxpri=10]\n",
      "false\n",
      "true\n",
      "false\n"
     ]
    }
   ],
   "source": [
    "fun <T:Any> T.dir() : Set<String> {                       // 리스트의 멤버를 조회하는 확장함수\n",
    "    val a = this.javaClass.kotlin                         // 클래스 출력 \n",
    "    println(a.simpleName)\n",
    "    val ll = a.members.map { it.name}                     // 멤버의 이름을 맵으로 처리하기 \n",
    "    return ll.toSet() \n",
    "}\n",
    "\n",
    "println(\"클래스 참조 : ${Thread::class}\")                     // 스레드 클래스 참조\n",
    "println(\"인터페이스 참조 : ${Runnable::class}\")                // 인터페이스 참조\n",
    "println(\"현재 스레드 개수 : \" + Thread.activeCount())          // 스레드 갯수 \n",
    "println(\"현재 스레드 : ${Thread.currentThread()}\")            // 현재 스레드\n",
    "\n",
    "val tr1 = Thread()                                         // 스레드 객체 생성\n",
    "println(\"스레드 멤버 개수 : ${tr1.dir().count()}\")             // 스레드 내부 멤버 확인  \n",
    "println(\"스레드 그룹 : ${tr1.getThreadGroup()}\")              // 스레드 그룹확인 \n",
    "println(tr1.isAlive)                                       // 활동여부 \n",
    "tr1.start()                                                // 스레드 시작 \n",
    "println(tr1.isAlive)                                       // 활동여부 \n",
    "println(tr1.isDaemon)                                      // 데몬스레드 여부\n",
    "tr1.join()  \n",
    "//tr1.start()                                              // 조인이후에 스레드종료"
   ]
  },
  {
   "cell_type": "code",
   "execution_count": null,
   "id": "3f62f3ca",
   "metadata": {},
   "outputs": [],
   "source": []
  },
  {
   "cell_type": "markdown",
   "id": "c856a7c3",
   "metadata": {},
   "source": [
    "## 스레드 상속해서 생성하기"
   ]
  },
  {
   "cell_type": "code",
   "execution_count": 3,
   "id": "028ebff5",
   "metadata": {},
   "outputs": [
    {
     "name": "stdout",
     "output_type": "stream",
     "text": [
      "Thread[Thread-15,5,main]: 메인 스레드 작동중\n",
      "Thread[Thread-16,5,main]: 보조 스레드 작동중 \n",
      "Thread[Thread-16,5,main]: 보조 스레드 작동중 \n",
      "Thread[Thread-16,5,main]: 보조 스레드 종료 \n",
      "Thread[Thread-15,5,main]: 대기중\n"
     ]
    }
   ],
   "source": [
    "fun exec(tr: Thread) {                                 // 스레드 내부에서 실행할 함수 정의\n",
    "    println(\"${tr}: 보조 스레드 작동중 \")   \n",
    "}\n",
    "\n",
    "class MyThread: Thread() {                             // 스레드 클래스를 상속                            \n",
    "    override fun run() {  \n",
    "        val tr = Thread.currentThread()                // 함수 실행  스레드 확인 \n",
    "        exec(tr)\n",
    "        println(\"${tr}: 보조 스레드 종료 \")   \n",
    "    }\n",
    "}\n",
    "\n",
    "val mtr = Thread.currentThread()                       // 현재 스레드 확인 \n",
    "println(\"${mtr}: 메인 스레드 작동중\")\n",
    "\n",
    "val myThread = MyThread()                              // 스레드 객체 생성 \n",
    "myThread.start()                                       // 스레드 실행 \n",
    "\n",
    "exec(myThread)                                         // 함수를 호출해서 스레드 상태 출력\n",
    "\n",
    "println(\"${mtr}: 대기중\")                                // 스레드가 다 처리하면 출력 \n",
    "myThread.join()                                        // 보조 스레드 종료 대기 \n"
   ]
  },
  {
   "cell_type": "code",
   "execution_count": null,
   "id": "2b7cb922",
   "metadata": {},
   "outputs": [],
   "source": []
  },
  {
   "cell_type": "markdown",
   "id": "78ac76c5",
   "metadata": {},
   "source": [
    "## 스레드 생성 확인 "
   ]
  },
  {
   "cell_type": "code",
   "execution_count": 4,
   "id": "c586791e",
   "metadata": {},
   "outputs": [
    {
     "name": "stdout",
     "output_type": "stream",
     "text": [
      "메인스레드 : Thread[Thread-20,5,main]\n",
      "현재 스레드 이름 : Thread-21\n",
      "스레드 활동여부 false\n",
      "스레드 활동여부 false\n",
      "현재 스레드 이름 : Thread-21\n",
      "스레드 활동여부 false\n",
      "스레드 활동여부 true\n",
      "현재 스레드 이름 : Thread-22\n",
      "스레드 활동여부 false\n"
     ]
    }
   ],
   "source": [
    "class SimpleThread : Thread() {                      // 스레드 상속한 클래스 정의 \n",
    "    override fun run() {                             //  이 메소드는 start나 직접 호출이 가능  \n",
    "        println(\"현재 스레드 이름 : ${this.getName()}\")\n",
    "    }\n",
    "}\n",
    "\n",
    "println(\"메인스레드 : ${Thread.currentThread()}\")\n",
    "val thread = SimpleThread()                           // 스레드 객체를 생성 \n",
    "thread.run()                                          // 스레드 실행 \n",
    "println(\"스레드 활동여부 \" +thread.isAlive)               // 활동여부 \n",
    "thread.join()\n",
    "println(\"스레드 활동여부 \" +thread.isAlive)               // 활동여부 \n",
    "\n",
    "thread.run()                                          // 스레드 실행 \n",
    "thread.join()\n",
    "println(\"스레드 활동여부 \" +thread.isAlive)               // 활동여부 \n",
    "\n",
    "val thread1 = SimpleThread()                          // 새로운 스레드 객체 생성\n",
    "thread1.start()                                       // 스레드 실행 \n",
    "println(\"스레드 활동여부 \" +thread1.isAlive)              // 활동여부 \n",
    "thread1.join()                                        // 스레드 종료 \n",
    "println(\"스레드 활동여부 \" +thread1.isAlive)              // 활동여부 \n",
    "\n",
    "// thread1.start()                                    // 스레드 다시 생성해서 처리"
   ]
  },
  {
   "cell_type": "code",
   "execution_count": null,
   "id": "7caf7c85",
   "metadata": {},
   "outputs": [],
   "source": []
  },
  {
   "cell_type": "markdown",
   "id": "36a03805",
   "metadata": {},
   "source": [
    "## 러너블로 스레드 구성하기"
   ]
  },
  {
   "cell_type": "code",
   "execution_count": 5,
   "id": "afdd6fa7",
   "metadata": {},
   "outputs": [
    {
     "name": "stdout",
     "output_type": "stream",
     "text": [
      "스레드 1 이름    : Thread-27\n",
      "Tester 5000 대기중 \n",
      "스레드 1 ID     : 39\n",
      "스레드 1 우선순위 : 5\n",
      "스레드 1 상태    : TIMED_WAITING\n",
      "스레드 2 이름    : Thread-28\n",
      "Helper 5000 대기중 \n",
      "스레드 2 ID     : 40\n",
      "스레드 2 우선순위 : 5\n",
      "스레드 2 상태    : TIMED_WAITING\n"
     ]
    }
   ],
   "source": [
    "class First : Runnable {                             // 인터페이스로 클래스 정의 \n",
    "   override fun run() {\n",
    "           println(\"Helper 5000 대기중 \")\n",
    "           Thread.sleep(5000) }                      // 스레드 중단 \n",
    "}\n",
    "class Second : Runnable {                            // 인터페이스로 클래스 정의\n",
    "   override fun run() {\n",
    "           println(\"Tester 5000 대기중 \")\n",
    "           Thread.sleep(5000)   }                    // 스레드 중단\n",
    "}\n",
    "val obj1 =  Second()                                  // 객체생성\n",
    "val thread1 = Thread(obj1)                            // 스레드 객체 생성 \n",
    "val obj2 = First()                                    // 객체생성 \n",
    "val thread2 = Thread(obj2)                            // 스레드 객체 생성 \n",
    "thread1.start()                                       // 스레드 실행\n",
    "println(\"스레드 1 이름    : \" + thread1.getName())        \n",
    "println(\"스레드 1 ID     : \" + thread1.getId())\n",
    "println(\"스레드 1 우선순위 : \" + thread1.getPriority())\n",
    "println(\"스레드 1 상태    : \" + thread1.getState())\n",
    "thread2.start()                                        // 스레드 실행\n",
    "println(\"스레드 2 이름    : \" + thread2.getName())\n",
    "println(\"스레드 2 ID     : \" + thread2.getId())\n",
    "println(\"스레드 2 우선순위 : \" + thread2.getPriority())\n",
    "println(\"스레드 2 상태    : \" + thread2.getState())\n",
    "thread1.join()                                         // 쓰레드 동기화 \n",
    "thread2.join()"
   ]
  },
  {
   "cell_type": "code",
   "execution_count": null,
   "id": "b8f9b47d",
   "metadata": {},
   "outputs": [],
   "source": []
  },
  {
   "cell_type": "markdown",
   "id": "c1d023e5",
   "metadata": {},
   "source": [
    "## object 표현식 : 익명클래스 처리"
   ]
  },
  {
   "cell_type": "code",
   "execution_count": 6,
   "id": "3b1abeb8",
   "metadata": {},
   "outputs": [
    {
     "name": "stdout",
     "output_type": "stream",
     "text": [
      "스레드 1 이름    : Thread-33\n",
      "5000 중단 \n",
      "스레드 1 ID     : 45\n",
      "스레드 1 우선순위 : 5\n",
      "스레드 1 상태    : TIMED_WAITING\n",
      "스레드 2 이름    : Thread-34\n",
      "스레드 2 ID     : 46\n",
      "5000 중단 \n",
      "스레드 2 우선순위 : 5\n",
      "스레드 2 상태    : TIMED_WAITING\n"
     ]
    }
   ],
   "source": [
    "fun createThread() : Thread {                         // 스레드 생성 함수 정의 \n",
    "    return  object : Thread() {                       // object 표현식으로 스레드 객체 생성 \n",
    "                override fun run() { \n",
    "                    println(\"5000 중단 \")\n",
    "                    Thread.sleep(5000);\n",
    "                }}\n",
    "}\n",
    "\n",
    "val thread1 = createThread()                          // 두 개의 스레드 객체 생성 \n",
    "val thread2 = createThread()\n",
    "\n",
    "thread1.start()                                       // 스레드 실행  \n",
    "println(\"스레드 1 이름    : \" + thread1.getName())       // 스레드 상태 확인 \n",
    "println(\"스레드 1 ID     : \" + thread1.getId())\n",
    "println(\"스레드 1 우선순위 : \" + thread1.getPriority())\n",
    "println(\"스레드 1 상태    : \" + thread1.getState())\n",
    "\n",
    "thread2.start()                                        // 스레드 실행\n",
    "println(\"스레드 2 이름    : \" + thread2.getName())        // 스레드 상태확인 \n",
    "println(\"스레드 2 ID     : \" + thread2.getId())\n",
    "println(\"스레드 2 우선순위 : \" + thread2.getPriority())\n",
    "println(\"스레드 2 상태    : \" + thread2.getState())\n",
    "\n",
    "thread1.join()\n",
    "thread2.join()"
   ]
  },
  {
   "cell_type": "code",
   "execution_count": null,
   "id": "02cddd57",
   "metadata": {},
   "outputs": [],
   "source": []
  },
  {
   "cell_type": "markdown",
   "id": "6d1a23d4",
   "metadata": {},
   "source": [
    "## 스레드 함수로 처리하기\n",
    "\n",
    "\n",
    "- start – To run immediately the thread\n",
    "- isDaemon – To create the thread as a daemon thread\n",
    "- contextClassLoader – A class loader to use for loading classes and resources\n",
    "- name – To set the name of the thread\n",
    "- priority – To set the priority of the thread"
   ]
  },
  {
   "cell_type": "code",
   "execution_count": 7,
   "id": "e0d09776",
   "metadata": {},
   "outputs": [
    {
     "name": "stdout",
     "output_type": "stream",
     "text": [
      "Thread[Thread-38,5,main]:메인 스레드 작동\n",
      "Thread[Thread-38,5,main]: 대기중\n",
      "스레드 종료\n",
      "Thread[Thread-39,5,main]: 보조 스레드 작동\n"
     ]
    }
   ],
   "source": [
    "import kotlin.concurrent.thread                              // 스레드 처리 함수 사용\n",
    "\n",
    "\n",
    "println(\"${Thread.currentThread()}:메인 스레드 작동\")\n",
    "\n",
    "val myThread = thread() {                                    // 스레드 함수에 익명함수 전달 \n",
    "    println(\"${Thread.currentThread()}: 보조 스레드 작동\")\n",
    "}\n",
    "\n",
    "println(\"${Thread.currentThread()}: 대기중\")                   // 현재 스레드 확인\n",
    "\n",
    "println(\"스레드 종료\")\n",
    "myThread.join()\n"
   ]
  },
  {
   "cell_type": "code",
   "execution_count": null,
   "id": "a0d92110",
   "metadata": {},
   "outputs": [],
   "source": []
  },
  {
   "cell_type": "code",
   "execution_count": 8,
   "id": "2a52453b",
   "metadata": {},
   "outputs": [
    {
     "name": "stdout",
     "output_type": "stream",
     "text": [
      "class Line_7$makeThread$thread$1\n",
      " 스레드 종료 \n",
      "스레드 처리 : Thread[Thread-43,5,main]\n"
     ]
    }
   ],
   "source": [
    "fun makeThread( start: Boolean = true,                         // 스레드 시작 상태 지정\n",
    "                isDaemon: Boolean = false,                     // 데몬처리여부 \n",
    "                contextClassLoader: ClassLoader? = null,       // 클래스 로더 \n",
    "                name: String? = null,                          // 스레드 이름 \n",
    "                priority: Int = -1,                            // 스레드 우선순위 \n",
    "                block: () -> Unit ): Thread {                  // 내부 실행 람다표현식\n",
    "    \n",
    "    val thread = object : Thread() {                           // 반환할 스레드 정의 \n",
    "        override fun run() {\n",
    "            block()\n",
    "        }\n",
    "    }\n",
    "    if (isDaemon)thread.isDaemon = true                        // 데몬 처리 \n",
    "    if (priority > 0) thread.priority = priority               // 우선순위 처리\n",
    "    name?.let { thread.name = it }\n",
    "    contextClassLoader?.let { thread.contextClassLoader = it } // 클래스 로더 처리 \n",
    "    return thread\n",
    "}\n",
    "\n",
    "val ss = \"스레드 처리 : ${Thread.currentThread()}\"\n",
    "val th1 = makeThread(block ={ println(ss)})\n",
    "\n",
    "println(th1.javaClass)\n",
    "th1.start()\n",
    "println(\" 스레드 종료 \")\n",
    "th1.join()"
   ]
  },
  {
   "cell_type": "code",
   "execution_count": null,
   "id": "0597f0a6",
   "metadata": {},
   "outputs": [],
   "source": []
  },
  {
   "cell_type": "markdown",
   "id": "b71a77cb",
   "metadata": {},
   "source": [
    "## 조인 메소드 알아보기 "
   ]
  },
  {
   "cell_type": "code",
   "execution_count": 1,
   "id": "160bfc72",
   "metadata": {},
   "outputs": [
    {
     "name": "stdout",
     "output_type": "stream",
     "text": [
      "메인 스레드 : Thread-12\n",
      "스레드 객체 생성 \n",
      "조인 호출 \n",
      "작업 스레드 :Thread-13 started\n",
      "변수 값 확인 : 177 \n",
      "조인 반환\n",
      "변수 값 확인 : 177 \n"
     ]
    }
   ],
   "source": [
    "var x = 100                                                // 최상위 변수  정의 \n",
    "\n",
    "class ThreadTest(var procesCount : Int = 0) : Thread() {   // 스레드 클래스 정의 \n",
    "    init { println(\"스레드 객체 생성 \")}\n",
    "    override fun run() {                                   // run 재정의 \n",
    "        println(\"작업 스레드 :\" \n",
    "                + this.getName() + \" started\")\n",
    "        while (procesCount > 0) {                          // 처리 개수 만큼 순환\n",
    "                Thread.sleep(1000)                         // 일시중단\n",
    "                procesCount--                              // 순환 개수 차감\n",
    "                x = x +77                                  // 최상위 변수 갱신 \n",
    "        }\n",
    "    }\n",
    "}\n",
    "\n",
    "fun startedThread(milTime : Long)  {                        // 스레드 처리 함수 \n",
    "    val t1 = Thread.currentThread()                         // 메인 스레드 확인\n",
    "    println(\"메인 스레드 : \"+ t1.getName())\n",
    "    val t2 = ThreadTest(1)                                  // 서브 스레드 생성 \n",
    "    t2.start()\n",
    "    println(\"조인 호출 \")\n",
    "    t2.join(milTime)                                        // 조인할 때 시간을 인자로 받아서 대기\n",
    "    println(\"변수 값 확인 : $x \")                \n",
    "    println(\"조인 반환\")\n",
    "}\n",
    "startedThread(3000) \n",
    "println(\"변수 값 확인 : $x \") "
   ]
  },
  {
   "cell_type": "code",
   "execution_count": null,
   "id": "d683cb8a",
   "metadata": {},
   "outputs": [],
   "source": []
  },
  {
   "cell_type": "code",
   "execution_count": null,
   "id": "d561af69",
   "metadata": {},
   "outputs": [],
   "source": []
  }
 ],
 "metadata": {
  "kernelspec": {
   "display_name": "Kotlin",
   "language": "kotlin",
   "name": "kotlin"
  },
  "language_info": {
   "codemirror_mode": "text/x-kotlin",
   "file_extension": ".kt",
   "mimetype": "text/x-kotlin",
   "name": "kotlin",
   "nbconvert_exporter": "",
   "pygments_lexer": "kotlin",
   "version": "1.7.0-dev-1825"
  }
 },
 "nbformat": 4,
 "nbformat_minor": 5
}
