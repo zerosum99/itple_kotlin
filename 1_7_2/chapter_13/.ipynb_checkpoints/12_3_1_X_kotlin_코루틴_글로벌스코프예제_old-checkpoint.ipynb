{
 "cells": [
  {
   "cell_type": "markdown",
   "id": "3d177413",
   "metadata": {},
   "source": [
    "# 참조자료\n",
    "\n",
    "-  https://smartshk.tistory.com/19\n",
    "\n",
    "\n",
    "-  https://www.baeldung.com/kotlin/threads-coroutines"
   ]
  },
  {
   "cell_type": "markdown",
   "id": "9d727160",
   "metadata": {},
   "source": [
    "## 코루틴 모듈 올리기"
   ]
  },
  {
   "cell_type": "code",
   "execution_count": 8,
   "id": "786d1398",
   "metadata": {},
   "outputs": [],
   "source": [
    "@file:DependsOn(\"org.jetbrains.kotlinx:kotlinx-coroutines-core:1.6.1\")"
   ]
  },
  {
   "cell_type": "markdown",
   "id": "fdcbba4a",
   "metadata": {},
   "source": [
    "## 모듈 설치 확인하기"
   ]
  },
  {
   "cell_type": "code",
   "execution_count": 9,
   "id": "d1d12808",
   "metadata": {},
   "outputs": [
    {
     "data": {
      "text/plain": [
       "Current classpath (14 paths):\n",
       "/Users/dahlmoon/anaconda3/envs/kotlin/lib/python3.8/site-packages/run_kotlin_kernel/jars/lib-0.11.0-61.jar\n",
       "/Users/dahlmoon/anaconda3/envs/kotlin/lib/python3.8/site-packages/run_kotlin_kernel/jars/api-0.11.0-61.jar\n",
       "/Users/dahlmoon/anaconda3/envs/kotlin/lib/python3.8/site-packages/run_kotlin_kernel/jars/kotlin-script-runtime-1.7.0-dev-1825.jar\n",
       "/Users/dahlmoon/anaconda3/envs/kotlin/lib/python3.8/site-packages/run_kotlin_kernel/jars/kotlin-reflect-1.6.0.jar\n",
       "/Users/dahlmoon/anaconda3/envs/kotlin/lib/python3.8/site-packages/run_kotlin_kernel/jars/kotlin-stdlib-1.6.0.jar\n",
       "/Users/dahlmoon/anaconda3/envs/kotlin/lib/python3.8/site-packages/run_kotlin_kernel/jars/annotations-13.0.jar\n",
       "/Users/dahlmoon/anaconda3/envs/kotlin/lib/python3.8/site-packages/run_kotlin_kernel/jars/kotlin-stdlib-common-1.6.0.jar\n",
       "/Users/dahlmoon/.m2/repository/org/jetbrains/kotlinx/kotlinx-coroutines-core/1.6.1/kotlinx-coroutines-core-1.6.1.jar\n",
       "/Users/dahlmoon/.m2/repository/org/jetbrains/kotlinx/kotlinx-coroutines-core-jvm/1.6.1/kotlinx-coroutines-core-jvm-1.6.1.jar\n",
       "/Users/dahlmoon/.m2/repository/org/jetbrains/kotlin/kotlin-stdlib-jdk8/1.6.0/kotlin-stdlib-jdk8-1.6.0.jar\n",
       "/Users/dahlmoon/.m2/repository/org/jetbrains/kotlin/kotlin-stdlib/1.6.0/kotlin-stdlib-1.6.0.jar\n",
       "/Users/dahlmoon/.m2/repository/org/jetbrains/annotations/13.0/annotations-13.0.jar\n",
       "/Users/dahlmoon/.m2/repository/org/jetbrains/kotlin/kotlin-stdlib-jdk7/1.6.0/kotlin-stdlib-jdk7-1.6.0.jar\n",
       "/Users/dahlmoon/.m2/repository/org/jetbrains/kotlin/kotlin-stdlib-common/1.6.0/kotlin-stdlib-common-1.6.0.jar"
      ]
     },
     "execution_count": 9,
     "metadata": {},
     "output_type": "execute_result"
    }
   ],
   "source": [
    ":classpath"
   ]
  },
  {
   "cell_type": "code",
   "execution_count": null,
   "id": "b153ceea",
   "metadata": {},
   "outputs": [],
   "source": []
  },
  {
   "cell_type": "markdown",
   "id": "ffd726b5",
   "metadata": {},
   "source": [
    "## 코루틴 모듈확인하기"
   ]
  },
  {
   "cell_type": "code",
   "execution_count": 10,
   "id": "95867810",
   "metadata": {},
   "outputs": [],
   "source": [
    "import kotlinx.coroutines.*\n"
   ]
  },
  {
   "cell_type": "code",
   "execution_count": null,
   "id": "4c3ecb24",
   "metadata": {},
   "outputs": [],
   "source": []
  },
  {
   "cell_type": "code",
   "execution_count": null,
   "id": "37b06b1e",
   "metadata": {},
   "outputs": [],
   "source": []
  },
  {
   "cell_type": "code",
   "execution_count": null,
   "id": "6ec628d6",
   "metadata": {},
   "outputs": [],
   "source": []
  },
  {
   "cell_type": "code",
   "execution_count": null,
   "id": "a3dc9ede",
   "metadata": {},
   "outputs": [],
   "source": []
  },
  {
   "cell_type": "markdown",
   "id": "f325d06c",
   "metadata": {},
   "source": [
    "## 글로벌 스코프"
   ]
  },
  {
   "cell_type": "code",
   "execution_count": 27,
   "id": "5497554e",
   "metadata": {},
   "outputs": [],
   "source": [
    "fun main() {\n",
    "    // delay(1000L)가 실행되는 동안 main함수가 끝나고 println을 만나지 못하고 종료\n",
    "\n",
    "    GlobalScope.launch {\n",
    "        delay(1000L)\n",
    "        println(\"Pass\")\n",
    "    }\n",
    "}"
   ]
  },
  {
   "cell_type": "code",
   "execution_count": 28,
   "id": "9db8c6d3",
   "metadata": {},
   "outputs": [],
   "source": [
    "main()"
   ]
  },
  {
   "cell_type": "code",
   "execution_count": null,
   "id": "7eea4e27",
   "metadata": {},
   "outputs": [],
   "source": []
  },
  {
   "cell_type": "code",
   "execution_count": 29,
   "id": "94ffd676",
   "metadata": {},
   "outputs": [],
   "source": [
    "fun main211() {\n",
    "    // delay(1000L)가 실행되는 동안 main함수가 끝나고 println을 만나지 못하고 종료\n",
    "\n",
    "    GlobalScope.launch {\n",
    "        delay(1000L)\n",
    "        println(\"Pass\")\n",
    "    }\n",
    "    \n",
    "    Thread.sleep(2000L)\n",
    "}"
   ]
  },
  {
   "cell_type": "code",
   "execution_count": 30,
   "id": "d212b8ce",
   "metadata": {},
   "outputs": [
    {
     "name": "stdout",
     "output_type": "stream",
     "text": [
      "Pass\n",
      "Pass\n"
     ]
    }
   ],
   "source": [
    "main211()"
   ]
  },
  {
   "cell_type": "code",
   "execution_count": null,
   "id": "86f864fa",
   "metadata": {},
   "outputs": [],
   "source": []
  },
  {
   "cell_type": "code",
   "execution_count": 31,
   "id": "a57103a7",
   "metadata": {},
   "outputs": [],
   "source": [
    "fun main212() {\n",
    "    GlobalScope.launch {\n",
    "        delay(1000L)\n",
    "        println(\"Pass\")\n",
    "    }\n",
    "\n",
    "    runBlocking {\n",
    "        // delay(2000L)이 끝날 때 까지 Blocking 된다.\n",
    "        delay(2000L)\n",
    "    }\n",
    "}"
   ]
  },
  {
   "cell_type": "code",
   "execution_count": 32,
   "id": "44c9ce18",
   "metadata": {},
   "outputs": [
    {
     "name": "stdout",
     "output_type": "stream",
     "text": [
      "Pass\n"
     ]
    }
   ],
   "source": [
    "main212()"
   ]
  },
  {
   "cell_type": "code",
   "execution_count": null,
   "id": "705e1f13",
   "metadata": {},
   "outputs": [],
   "source": []
  },
  {
   "cell_type": "code",
   "execution_count": 33,
   "id": "3e67cf22",
   "metadata": {},
   "outputs": [],
   "source": [
    "fun main213() {\n",
    "    CoroutineScope(Dispatchers.Default).launch {\n",
    "        delay(1000L)\n",
    "        println(\"PASS\")\n",
    "    }\n",
    "\n",
    "    Thread.sleep(2000L)\n",
    "}"
   ]
  },
  {
   "cell_type": "code",
   "execution_count": 34,
   "id": "8d4b2bf5",
   "metadata": {},
   "outputs": [
    {
     "name": "stdout",
     "output_type": "stream",
     "text": [
      "PASS\n"
     ]
    }
   ],
   "source": [
    "main213()"
   ]
  },
  {
   "cell_type": "code",
   "execution_count": null,
   "id": "30a237b6",
   "metadata": {},
   "outputs": [],
   "source": []
  },
  {
   "cell_type": "code",
   "execution_count": 35,
   "id": "b1c7eeb3",
   "metadata": {},
   "outputs": [],
   "source": [
    "suspend fun mySuspend() {\n",
    "    // suspend 함수는 다른 suspend함수를 호출할 수 있다.\n",
    "    delay(1000L)\n",
    "    println(\"Run\")\n",
    "}\n",
    "\n",
    "fun main214() = runBlocking {\n",
    "    // 코루틴 스코프에서 suspend함수를 호출할 수 있다.\n",
    "    mySuspend()\n",
    "}"
   ]
  },
  {
   "cell_type": "code",
   "execution_count": 36,
   "id": "3480d017",
   "metadata": {},
   "outputs": [
    {
     "name": "stdout",
     "output_type": "stream",
     "text": [
      "Run\n"
     ]
    }
   ],
   "source": [
    "main214()"
   ]
  },
  {
   "cell_type": "code",
   "execution_count": null,
   "id": "d9a00d55",
   "metadata": {},
   "outputs": [],
   "source": []
  },
  {
   "cell_type": "code",
   "execution_count": null,
   "id": "7d2c4e0b",
   "metadata": {},
   "outputs": [],
   "source": []
  },
  {
   "cell_type": "code",
   "execution_count": 37,
   "id": "ff3c9555",
   "metadata": {},
   "outputs": [],
   "source": [
    "fun main215() = runBlocking {\n",
    "    val job = GlobalScope.launch {\n",
    "        println(\"Job is running\")\n",
    "        delay(1000L)\n",
    "        println(\"Job is finished\")\n",
    "    }\n",
    "\n",
    "//    join이 없으면, job이 완료되기 전에 main함수가 종료되면서 프로그램 종료\n",
    "    job.join()\n",
    "}"
   ]
  },
  {
   "cell_type": "code",
   "execution_count": 38,
   "id": "10ce78da",
   "metadata": {},
   "outputs": [
    {
     "name": "stdout",
     "output_type": "stream",
     "text": [
      "Job is running\n",
      "Job is finished\n"
     ]
    }
   ],
   "source": [
    "main215()"
   ]
  },
  {
   "cell_type": "code",
   "execution_count": null,
   "id": "d761b321",
   "metadata": {},
   "outputs": [],
   "source": []
  },
  {
   "cell_type": "code",
   "execution_count": null,
   "id": "41e20523",
   "metadata": {},
   "outputs": [],
   "source": []
  },
  {
   "cell_type": "code",
   "execution_count": 39,
   "id": "3080ef3e",
   "metadata": {},
   "outputs": [
    {
     "name": "stdout",
     "output_type": "stream",
     "text": [
      " Hello : Thread-157\n",
      " foo : Thread-157\n"
     ]
    }
   ],
   "source": [
    "suspend fun foo() {\n",
    "    delay(100)\n",
    "    println(\" foo : \" + Thread.currentThread().name)\n",
    "}\n",
    "\n",
    "fun main_() = runBlocking { // this: CoroutineScope\n",
    "    launch { foo() }\n",
    "    println(\" Hello : \"+ Thread.currentThread().name)\n",
    "}\n",
    "\n",
    "main_()"
   ]
  },
  {
   "cell_type": "code",
   "execution_count": null,
   "id": "8696d09b",
   "metadata": {},
   "outputs": [],
   "source": []
  },
  {
   "cell_type": "code",
   "execution_count": 40,
   "id": "b54e03e5",
   "metadata": {},
   "outputs": [
    {
     "name": "stdout",
     "output_type": "stream",
     "text": [
      "Start Main Thread\n",
      "in Coroutine1 ...\n",
      "in Coroutine2 ...\n",
      "End Main Thread\n"
     ]
    }
   ],
   "source": [
    "println(\"Start Main Thread\")\n",
    "fun gs() {\n",
    "    GlobalScope.launch {\n",
    "        println(\"in Coroutine1 ...\")\n",
    "        delay(1000L)\n",
    "        println(\"in Coroutine2 ...\")\n",
    "        delay(1000L)\n",
    "    }\n",
    "    GlobalScope.launch {\n",
    "        delay(2000L) \n",
    "        delay(500L)      // block main thread for 2 seconds to keep JVM alive\n",
    "    }\n",
    "}\n",
    "\n",
    "gs()\n",
    "Thread.sleep(5000)                       // 최종 메인이 끝날야 전체가 종료 \n",
    "println(\"End Main Thread\")"
   ]
  },
  {
   "cell_type": "code",
   "execution_count": null,
   "id": "957a812d",
   "metadata": {},
   "outputs": [],
   "source": []
  },
  {
   "cell_type": "code",
   "execution_count": 41,
   "id": "3fca8114",
   "metadata": {},
   "outputs": [
    {
     "name": "stdout",
     "output_type": "stream",
     "text": [
      "Start Main Thread\n",
      "in Coroutine1 ...\n",
      "in Coroutine2 ...\n",
      "End Main Thread\n"
     ]
    }
   ],
   "source": [
    "println(\"Start Main Thread\")\n",
    "fun gs() {\n",
    "    GlobalScope.launch {\n",
    "        println(\"in Coroutine1 ...\")\n",
    "        delay(1000L)\n",
    "        println(\"in Coroutine2 ...\")\n",
    "    }\n",
    "    runBlocking {\n",
    "        delay(2000L)                   // block main thread for 2 seconds to keep JVM alive\n",
    "    }\n",
    "}\n",
    "\n",
    "gs()\n",
    "println(\"End Main Thread\")"
   ]
  },
  {
   "cell_type": "code",
   "execution_count": 42,
   "id": "c078f835",
   "metadata": {},
   "outputs": [],
   "source": [
    "fun main() = runBlocking { // this: CoroutineScope\n",
    "    launch { doWorld() }\n",
    "    println(\"Hello\")\n",
    "}\n",
    "\n",
    "// this is your first suspending function\n",
    "suspend fun doWorld() {\n",
    "    delay(1000L)\n",
    "    println(\"World!\")\n",
    "}"
   ]
  },
  {
   "cell_type": "code",
   "execution_count": 43,
   "id": "ae45ad6d",
   "metadata": {},
   "outputs": [
    {
     "name": "stdout",
     "output_type": "stream",
     "text": [
      "Hello\n",
      "World!\n"
     ]
    }
   ],
   "source": [
    "main()"
   ]
  },
  {
   "cell_type": "code",
   "execution_count": null,
   "id": "b10ba644",
   "metadata": {},
   "outputs": [],
   "source": []
  },
  {
   "cell_type": "code",
   "execution_count": 44,
   "id": "14f3905b",
   "metadata": {},
   "outputs": [],
   "source": [
    "fun main() = runBlocking {\n",
    "    doWorld()\n",
    "}\n",
    "\n",
    "suspend fun doWorld() = coroutineScope {  // this: CoroutineScope\n",
    "    launch {\n",
    "        delay(1000L)\n",
    "        println(\"World!\")\n",
    "    }\n",
    "    println(\"Hello\")\n",
    "}"
   ]
  },
  {
   "cell_type": "code",
   "execution_count": 45,
   "id": "3c21f75b",
   "metadata": {},
   "outputs": [
    {
     "name": "stdout",
     "output_type": "stream",
     "text": [
      "Hello\n",
      "World!\n"
     ]
    }
   ],
   "source": [
    "main()"
   ]
  },
  {
   "cell_type": "code",
   "execution_count": 46,
   "id": "d982a3cc",
   "metadata": {},
   "outputs": [],
   "source": [
    "fun main() {\n",
    "    GlobalScope.launch {         // launch a new coroutine in background and continue\n",
    "        delay(1000L)             // non-blocking delay for 1 second\n",
    "        println(\"World!\")        // print after delay\n",
    "    }\n",
    "    println(\"Hello\")             // main thread continues while coroutine is delayed\n",
    "    Thread.sleep(2000L)          // block main thread for 2 seconds to keep JVM alive\n",
    "}"
   ]
  },
  {
   "cell_type": "code",
   "execution_count": 47,
   "id": "3f667895",
   "metadata": {},
   "outputs": [
    {
     "name": "stdout",
     "output_type": "stream",
     "text": [
      "Hello\n",
      "World!\n"
     ]
    }
   ],
   "source": [
    "main()"
   ]
  },
  {
   "cell_type": "code",
   "execution_count": 48,
   "id": "f2cb1bf9",
   "metadata": {},
   "outputs": [],
   "source": [
    "fun main() {\n",
    "    GlobalScope.launch {\n",
    "        delay(1000L)          // non-blocking delay for 1 second\n",
    "        println(\"World!\")     // print after delay\n",
    "    }\n",
    "    println(\"Hello\")          // main thread continues while coroutine is delayed\n",
    "    runBlocking {\n",
    "        delay(2000L)          // block main thread for 2 seconds to keep JVM alive\n",
    "    }\n",
    "}"
   ]
  },
  {
   "cell_type": "code",
   "execution_count": 49,
   "id": "9383de9d",
   "metadata": {},
   "outputs": [
    {
     "name": "stdout",
     "output_type": "stream",
     "text": [
      "Hello\n",
      "World!\n"
     ]
    }
   ],
   "source": [
    "main()"
   ]
  },
  {
   "cell_type": "code",
   "execution_count": 50,
   "id": "7c179d53",
   "metadata": {},
   "outputs": [],
   "source": [
    "fun main() = runBlocking {\n",
    "\n",
    "    launch {\n",
    "        delay(1000L) \n",
    "        println(\"World!\")\n",
    "    }\n",
    "    \n",
    "    launch {\n",
    "        delay(1000L) \n",
    "        println(\"World!!!!\")\n",
    "    }\n",
    "    \n",
    "    println(\"Hello\")\n",
    "}"
   ]
  },
  {
   "cell_type": "code",
   "execution_count": 51,
   "id": "fe9106c8",
   "metadata": {},
   "outputs": [
    {
     "name": "stdout",
     "output_type": "stream",
     "text": [
      "Hello\n",
      "World!\n",
      "World!!!!\n"
     ]
    }
   ],
   "source": [
    "main()"
   ]
  },
  {
   "cell_type": "code",
   "execution_count": 52,
   "id": "6d2edb4d",
   "metadata": {},
   "outputs": [],
   "source": [
    "fun main() = runBlocking {\n",
    "    var ix = 0\n",
    "    var job = launch {\n",
    "    repeat(1000) { i ->\n",
    "            println(\"job: I'm sleeping ${ix++} ...\")\n",
    "            delay(500L)\n",
    "        }\n",
    "    }\n",
    "    delay(1300L) // delay a bit\n",
    "    println(\"main: I'm tired of waiting!\")\n",
    "    job.cancelAndJoin() // cancels the job and waits for its completion\n",
    "    println(\"main: Now I can quit.\")\n",
    "}"
   ]
  },
  {
   "cell_type": "code",
   "execution_count": 53,
   "id": "cd1286c5",
   "metadata": {},
   "outputs": [
    {
     "name": "stdout",
     "output_type": "stream",
     "text": [
      "job: I'm sleeping 0 ...\n",
      "job: I'm sleeping 1 ...\n",
      "job: I'm sleeping 2 ...\n",
      "main: I'm tired of waiting!\n",
      "main: Now I can quit.\n"
     ]
    }
   ],
   "source": [
    "main()"
   ]
  },
  {
   "cell_type": "code",
   "execution_count": null,
   "id": "086915e6",
   "metadata": {},
   "outputs": [],
   "source": []
  },
  {
   "cell_type": "code",
   "execution_count": null,
   "id": "170a29b3",
   "metadata": {},
   "outputs": [],
   "source": []
  },
  {
   "cell_type": "code",
   "execution_count": null,
   "id": "68b8b173",
   "metadata": {},
   "outputs": [],
   "source": []
  },
  {
   "cell_type": "code",
   "execution_count": null,
   "id": "4fd78b02",
   "metadata": {},
   "outputs": [],
   "source": []
  },
  {
   "cell_type": "code",
   "execution_count": null,
   "id": "7497d62f",
   "metadata": {},
   "outputs": [],
   "source": []
  },
  {
   "cell_type": "code",
   "execution_count": null,
   "id": "c7574195",
   "metadata": {},
   "outputs": [],
   "source": []
  },
  {
   "cell_type": "code",
   "execution_count": null,
   "id": "d2e101d4",
   "metadata": {},
   "outputs": [],
   "source": []
  },
  {
   "cell_type": "code",
   "execution_count": null,
   "id": "a54ebe86",
   "metadata": {},
   "outputs": [],
   "source": []
  }
 ],
 "metadata": {
  "kernelspec": {
   "display_name": "Kotlin",
   "language": "kotlin",
   "name": "kotlin"
  },
  "language_info": {
   "codemirror_mode": "text/x-kotlin",
   "file_extension": ".kt",
   "mimetype": "text/x-kotlin",
   "name": "kotlin",
   "nbconvert_exporter": "",
   "pygments_lexer": "kotlin",
   "version": "1.7.0-dev-1825"
  }
 },
 "nbformat": 4,
 "nbformat_minor": 5
}
