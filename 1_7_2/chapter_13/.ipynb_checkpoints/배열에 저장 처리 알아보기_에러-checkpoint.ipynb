{
 "cells": [
  {
   "cell_type": "code",
   "execution_count": null,
   "id": "39474d32",
   "metadata": {},
   "outputs": [],
   "source": [
    "import java.io.ByteArrayInputStream                       // 스트림으로 변환해서 읽기\n",
    "import java.io.ByteArrayOutputStream                      // 스트림으로 변환해서 쓰기\n",
    "import java.io.BufferedReader \n",
    "import java.io.BufferedWriter                             // 버퍼 처리\n",
    "import java.io.InputStreamReader\n",
    "import java.io.OutputStreamWriter\n",
    "\n",
    "val inSrc = byteArrayOf(1,2,3,4,5,6,7,8,9)                // 배열생성 \n",
    "var ins = ByteArrayInputStream(inSrc)\n",
    "var input = BufferedReader(InputStreamReader(ins))       // 바이트스트림 객체 생성\n",
    "\n",
    "var outSrc :Int =  10                        // 널러블 처리 \n",
    "var outs = ByteArrayOutputStream(outSrc)\n",
    "var output = BufferedWriter(OutputStreamWriter(outs))                      // 바이트스트림 빈객체 생성 \n",
    "\n",
    "var data =  input.read()                                 //  세이브연산자 처리해서 바이트 하나 읽기\n",
    "println(\"바이트 하나 읽기 : ${data}\")\n",
    "println(\"데이터 자료형 확인 : ${data.javaClass.kotlin}\")      // 데이터 자료형 확인 \n",
    "while (data != -1) {                                      // 데이터 순환 : 전부 읽고 난 후에 -1 반환 \n",
    "    output.write(data)                                   // 쓰기                       \n",
    "    data =  input.read()                                 // 다음 읽기\n",
    "    if (data == -1) println(\"최종데이터 : ${data}\")          // 최종 상태 확인 \n",
    "}\n",
    "//output.flush()\n",
    "output.close()\n",
    "\n",
    "\n",
    "println(\"처리된 결과 자료형 : ${output.javaClass.kotlin}\")     // 스트림\n",
    "//outSrc = outs.toByteArray()                             // 배열로 변환                           \n",
    "println(inSrc.contentToString())                          // 배열상태 확인 \n",
    "println(outs)\n",
    "println(outs.javaClass)\n",
    "//println(outSrc.contentToString())"
   ]
  }
 ],
 "metadata": {
  "kernelspec": {
   "display_name": "Kotlin",
   "language": "kotlin",
   "name": "kotlin"
  },
  "language_info": {
   "codemirror_mode": "text/x-kotlin",
   "file_extension": ".kt",
   "mimetype": "text/x-kotlin",
   "name": "kotlin",
   "nbconvert_exporter": "",
   "pygments_lexer": "kotlin",
   "version": "1.7.0-dev-1825"
  }
 },
 "nbformat": 4,
 "nbformat_minor": 5
}
