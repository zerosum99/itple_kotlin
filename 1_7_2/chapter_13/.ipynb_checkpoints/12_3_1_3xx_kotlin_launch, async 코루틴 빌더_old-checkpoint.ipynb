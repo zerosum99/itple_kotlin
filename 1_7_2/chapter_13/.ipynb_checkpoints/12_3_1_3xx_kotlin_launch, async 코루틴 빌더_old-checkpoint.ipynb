{
 "cells": [
  {
   "cell_type": "markdown",
   "id": "3d177413",
   "metadata": {},
   "source": [
    "# 참조자료\n",
    "\n",
    "-  https://smartshk.tistory.com/19\n",
    "\n",
    "\n",
    "-  https://www.baeldung.com/kotlin/threads-coroutines"
   ]
  },
  {
   "cell_type": "markdown",
   "id": "c396f111",
   "metadata": {},
   "source": [
    "# 참조자료\n",
    "\n",
    "-  https://rkdxowhd98.tistory.com/62?category=1134007"
   ]
  },
  {
   "cell_type": "markdown",
   "id": "9d727160",
   "metadata": {},
   "source": [
    "## 코루틴 모듈 올리기"
   ]
  },
  {
   "cell_type": "code",
   "execution_count": 1,
   "id": "786d1398",
   "metadata": {},
   "outputs": [],
   "source": [
    "@file:DependsOn(\"org.jetbrains.kotlinx:kotlinx-coroutines-core:1.6.1\")"
   ]
  },
  {
   "cell_type": "markdown",
   "id": "fdcbba4a",
   "metadata": {},
   "source": [
    "## 모듈 설치 확인하기"
   ]
  },
  {
   "cell_type": "code",
   "execution_count": 2,
   "id": "d1d12808",
   "metadata": {},
   "outputs": [
    {
     "data": {
      "text/plain": [
       "Current classpath (14 paths):\n",
       "/Users/dahlmoon/anaconda3/envs/kotlin/lib/python3.8/site-packages/run_kotlin_kernel/jars/lib-0.11.0-61.jar\n",
       "/Users/dahlmoon/anaconda3/envs/kotlin/lib/python3.8/site-packages/run_kotlin_kernel/jars/api-0.11.0-61.jar\n",
       "/Users/dahlmoon/anaconda3/envs/kotlin/lib/python3.8/site-packages/run_kotlin_kernel/jars/kotlin-script-runtime-1.7.0-dev-1825.jar\n",
       "/Users/dahlmoon/anaconda3/envs/kotlin/lib/python3.8/site-packages/run_kotlin_kernel/jars/kotlin-reflect-1.6.0.jar\n",
       "/Users/dahlmoon/anaconda3/envs/kotlin/lib/python3.8/site-packages/run_kotlin_kernel/jars/kotlin-stdlib-1.6.0.jar\n",
       "/Users/dahlmoon/anaconda3/envs/kotlin/lib/python3.8/site-packages/run_kotlin_kernel/jars/annotations-13.0.jar\n",
       "/Users/dahlmoon/anaconda3/envs/kotlin/lib/python3.8/site-packages/run_kotlin_kernel/jars/kotlin-stdlib-common-1.6.0.jar\n",
       "/Users/dahlmoon/.m2/repository/org/jetbrains/kotlinx/kotlinx-coroutines-core/1.6.1/kotlinx-coroutines-core-1.6.1.jar\n",
       "/Users/dahlmoon/.m2/repository/org/jetbrains/kotlinx/kotlinx-coroutines-core-jvm/1.6.1/kotlinx-coroutines-core-jvm-1.6.1.jar\n",
       "/Users/dahlmoon/.m2/repository/org/jetbrains/kotlin/kotlin-stdlib-jdk8/1.6.0/kotlin-stdlib-jdk8-1.6.0.jar\n",
       "/Users/dahlmoon/.m2/repository/org/jetbrains/kotlin/kotlin-stdlib/1.6.0/kotlin-stdlib-1.6.0.jar\n",
       "/Users/dahlmoon/.m2/repository/org/jetbrains/annotations/13.0/annotations-13.0.jar\n",
       "/Users/dahlmoon/.m2/repository/org/jetbrains/kotlin/kotlin-stdlib-jdk7/1.6.0/kotlin-stdlib-jdk7-1.6.0.jar\n",
       "/Users/dahlmoon/.m2/repository/org/jetbrains/kotlin/kotlin-stdlib-common/1.6.0/kotlin-stdlib-common-1.6.0.jar"
      ]
     },
     "execution_count": 2,
     "metadata": {},
     "output_type": "execute_result"
    }
   ],
   "source": [
    ":classpath"
   ]
  },
  {
   "cell_type": "code",
   "execution_count": null,
   "id": "b153ceea",
   "metadata": {},
   "outputs": [],
   "source": []
  },
  {
   "cell_type": "markdown",
   "id": "ffd726b5",
   "metadata": {},
   "source": [
    "## 코루틴 모듈확인하기"
   ]
  },
  {
   "cell_type": "code",
   "execution_count": 3,
   "id": "95867810",
   "metadata": {},
   "outputs": [],
   "source": [
    "import kotlinx.coroutines.*\n"
   ]
  },
  {
   "cell_type": "code",
   "execution_count": null,
   "id": "afd34e79",
   "metadata": {},
   "outputs": [],
   "source": []
  },
  {
   "cell_type": "markdown",
   "id": "5a7e2ed9",
   "metadata": {},
   "source": [
    "## 코루틴 기본 환경 "
   ]
  },
  {
   "cell_type": "code",
   "execution_count": null,
   "id": "3ede286c",
   "metadata": {},
   "outputs": [],
   "source": []
  },
  {
   "cell_type": "markdown",
   "id": "ebbf6f2c",
   "metadata": {},
   "source": [
    "## 코루틴 컨텍스트 확인하기"
   ]
  },
  {
   "cell_type": "code",
   "execution_count": 5,
   "id": "19d9e98a",
   "metadata": {},
   "outputs": [],
   "source": [
    "import kotlinx.coroutines.*\n",
    "import kotlin.coroutines.CoroutineContext"
   ]
  },
  {
   "cell_type": "code",
   "execution_count": null,
   "id": "a1cda197",
   "metadata": {},
   "outputs": [],
   "source": []
  },
  {
   "cell_type": "markdown",
   "id": "a3d51173",
   "metadata": {},
   "source": [
    "## launch() -> Job 반환\n",
    "\n",
    "       : 결과가 없는 코루틴을 생성하는 빌더, 여기서 결과는 반환인스턴스가 아닌 결과값(Value)을 의미\n",
    "\n",
    "         반환하는 Job인스턴스는 생성된 해당 코루틴을 제어하는데 사용"
   ]
  },
  {
   "cell_type": "code",
   "execution_count": 74,
   "id": "7d6c1e30",
   "metadata": {},
   "outputs": [
    {
     "name": "stdout",
     "output_type": "stream",
     "text": [
      "[전역스코프] launch 코루틴 빌더 시작 \n",
      "[전역스코프] 코루틴 처리 1\n",
      "[전역스코프] launch 코루틴 빌더 정지 \n",
      " 메인스레드 처리 2\n"
     ]
    }
   ],
   "source": [
    "//public fun CoroutineScope.launch(                            // 코루틴스코프 확장함수\n",
    "//    context: CoroutineContext = EmptyCoroutineContext,       // 컨텍스트\n",
    "//    start: CoroutineStart = CoroutineStart.DEFAULT,          // 스타트는 자동실행\n",
    "//    block: suspend CoroutineScope.() -> Unit                 // 코루틴 로딩된 람다표현식\n",
    "//): Job {                                                     // 반환객체\n",
    "//    ...\n",
    "//}\n",
    "\n",
    "fun CoroutineScope.log(msg: String) {                          // 출력 확장함수 지정\n",
    "   val name = coroutineContext[CoroutineName]?.name            // 코루틴컨텍스트 이름 검색\n",
    "   println(\"[$name] $msg\")                                     // 코루틴컨텍스트 이름 출력\n",
    "}\n",
    "\n",
    "fun main11() {\n",
    "    GlobalScope.launch(CoroutineName(\"전역스코프\")) {             // 전역스코프의 코루팀에 이름 정의 \n",
    "        log(\"launch 코루틴 빌더 시작 \")\n",
    "        var job = launch {\n",
    "            delay(500)                                         // 0.5초 대기\n",
    "            log(\"코루틴 처리 1\")\n",
    "        }\n",
    "        \n",
    "        job.join()                                             // 전역코루틴의 자식코루틴 종료까지 대기\n",
    "        log(\"launch 코루틴 빌더 정지 \")                            // 최종 종료\n",
    "    }\n",
    "    Thread.sleep(1000)                                         // 메인스레드 잠시 대기\n",
    "    println(\" 메인스레드 처리 2\")                                  // 메인출력 \n",
    "}\n",
    "main11()"
   ]
  },
  {
   "cell_type": "code",
   "execution_count": null,
   "id": "4efb03b1",
   "metadata": {},
   "outputs": [],
   "source": []
  },
  {
   "cell_type": "code",
   "execution_count": null,
   "id": "ffec8cab",
   "metadata": {},
   "outputs": [],
   "source": []
  },
  {
   "cell_type": "code",
   "execution_count": 79,
   "id": "e626a07a",
   "metadata": {},
   "outputs": [
    {
     "name": "stdout",
     "output_type": "stream",
     "text": [
      "[새로운스코프] job1: 즉시실행 ->DefaultDispatcher-worker-4\n",
      "[전역스코프] job2: 다른 코루틴 처리후 실행-> DefaultDispatcher-worker-3\n",
      "[새로운스코프] job1: 다른 코루틴 처리후 실행-> DefaultDispatcher-worker-3\n",
      "[런블러킹] main: 모든 고루틴 처리 후에 실행-> Thread-326\n"
     ]
    }
   ],
   "source": [
    "fun CoroutineScope.log(msg: String) {                      // 출력 확장함수 지정\n",
    "   val name = coroutineContext[CoroutineName]?.name        // 코루틴컨텍스트 이름 검색\n",
    "   println(\"[$name] $msg\")                                 // 코루틴컨텍스트 이름 출력\n",
    "}\n",
    "\n",
    "fun main() = \n",
    "    runBlocking(CoroutineName(\"런블러킹\")) {                 // 런블러킹 빌더에 코루틴이름 지정 \n",
    "    val request = GlobalScope                              // 전역스코프 지정\n",
    "                  .launch(CoroutineName(\"전역스코프\"))  {     // 코푸틴에 전역스코프 이름 지정 \n",
    "        launch(CoroutineName(\"새로운스코프\") + Job()) {       //  자식 코루틴에 이름과 잡을 지정\n",
    "            log(\"job1: 즉시실행 ->\" \n",
    "                    + Thread.currentThread().name)         // 현재 스레드 출력 \n",
    "            delay(1000)                                    // 1초 중단 \n",
    "            log(\"job1: 다른 코루틴 처리후 실행-> \"\n",
    "                   + Thread.currentThread().name)          // 재시작후 출력 \n",
    "        }\n",
    "                                                     \n",
    "        launch {                                           // 전역스코프내의 코루틴 빌더 \n",
    "            delay(100)                                     // 일시 중단 \n",
    "            log(\"job2: 다른 코루틴 처리후 실행-> \"\n",
    "                    + Thread.currentThread().name)\n",
    "            delay(1000)                                    // 일시 중단\n",
    "            log(\"job2: 전체 코루틴 중단으로 미실행-> \"\n",
    "                    + Thread.currentThread().name)\n",
    "        }\n",
    "    }\n",
    "    delay(500)                                             // 일시중단 \n",
    "    request.cancel()                                       // 글러벌스코프 전체 종료\n",
    "    delay(1000)                                            // 종료 후 결과 처리\n",
    "    log(\"main: 모든 고루틴 처리 후에 실행-> \" \n",
    "                    + Thread.currentThread().name)\n",
    "}\n",
    "main()"
   ]
  },
  {
   "cell_type": "code",
   "execution_count": null,
   "id": "13d76255",
   "metadata": {},
   "outputs": [],
   "source": []
  },
  {
   "cell_type": "code",
   "execution_count": null,
   "id": "793dcc5a",
   "metadata": {},
   "outputs": [],
   "source": []
  },
  {
   "cell_type": "code",
   "execution_count": null,
   "id": "00d74b9a",
   "metadata": {},
   "outputs": [],
   "source": []
  },
  {
   "cell_type": "markdown",
   "id": "69061cba",
   "metadata": {},
   "source": [
    "## async() -> Deferred<T> 반환\n",
    "\n",
    "       : launch와 다르게 결과를 가지는 코루틴을 생성하는 빌더,\n",
    "\n",
    "         반환하는 Deferred<T>로 코루틴을 제어 / 결과를 받을 수 있는데"
   ]
  },
  {
   "cell_type": "code",
   "execution_count": 80,
   "id": "6590befa",
   "metadata": {},
   "outputs": [
    {
     "name": "stdout",
     "output_type": "stream",
     "text": [
      "[전역스코프] 현재 코루틴 1 : DefaultDispatcher-worker-3\n",
      "[전역스코프] 현재 코루틴 2 : DefaultDispatcher-worker-3\n"
     ]
    }
   ],
   "source": [
    "// fun <T> CoroutineScope.async(                                  // 코루틴 스코프의 확장함수\n",
    "//    context: CoroutineContext = EmptyCoroutineContext,          // 컨텍스트\n",
    "//    start: CoroutineStart = CoroutineStart.DEFAULT,             // 스타트는 자동실행으로 지정 \n",
    "//    block: suspend CoroutineScope.() -> T                       // 일시중단람다표현식 로딩\n",
    "// ): Deferred<T>                                                 // 반환객체\n",
    "\n",
    "\n",
    "fun CoroutineScope.log(msg: String) {\n",
    "   val name = coroutineContext[CoroutineName]?.name\n",
    "   println(\"[$name] $msg\")\n",
    "}\n",
    "\n",
    "val syn = GlobalScope.async(CoroutineName(\"전역스코프\")){             // 전역스코프에 코루틴 빌더 \n",
    "    log(\"현재 코루틴 1 : \" + Thread.currentThread().name)\n",
    "    async(Dispatchers.Default) {                                   // 비동기 코뤁틴 빌더 \n",
    "        delay(100)                                                 // 일시 정지 \n",
    "        log(\"현재 코루틴 2 : \" + Thread.currentThread().name)\n",
    "    }\n",
    "}\n",
    "\n",
    "Thread.sleep(2000)"
   ]
  },
  {
   "cell_type": "code",
   "execution_count": null,
   "id": "dff48d75",
   "metadata": {},
   "outputs": [],
   "source": []
  },
  {
   "cell_type": "code",
   "execution_count": 58,
   "id": "e89fd9fb",
   "metadata": {},
   "outputs": [
    {
     "name": "stdout",
     "output_type": "stream",
     "text": [
      "class kotlinx.coroutines.DeferredCoroutine\n",
      "[런블러킹] Result : 30\n"
     ]
    }
   ],
   "source": [
    "fun CoroutineScope.log(msg: String) {                     // 확장함수\n",
    "   val name = coroutineContext[CoroutineName]?.name       // 코루틴 이름\n",
    "   println(\"[$name] $msg\")\n",
    "}\n",
    "\n",
    "fun main11() = runBlocking(CoroutineName(\"런블러킹\")){      // 코루틴 환경 \n",
    "    val one = async { \n",
    "        doSomethingOne() \n",
    "    }                                                     // 동시처리\n",
    "    val two = async { \n",
    "        doSomethingTwo() \n",
    "    }                                                     // 동시처리\n",
    "    println(one.javaClass)\n",
    "    log(\"Result : ${one.await() + two.await()}\")          // 출력 \n",
    "}\n",
    "\n",
    "suspend fun doSomethingOne(): Int {\n",
    "    delay(1000L)                                           // 일시중단\n",
    "    return 10                                              // 결과 리턴\n",
    "}\n",
    "suspend fun doSomethingTwo(): Int {\n",
    "    delay(1000L)                                           // 일시중단\n",
    "    return 20                                              // 결과 리턴\n",
    "}\n",
    "\n",
    "main11()"
   ]
  },
  {
   "cell_type": "code",
   "execution_count": null,
   "id": "1673a85e",
   "metadata": {},
   "outputs": [],
   "source": []
  },
  {
   "cell_type": "code",
   "execution_count": 63,
   "id": "91b9a2d2",
   "metadata": {},
   "outputs": [
    {
     "name": "stdout",
     "output_type": "stream",
     "text": [
      "[런블러킹] Test\n",
      "[런블러킹] async Start\n",
      "[전역스코프] launch Start\n",
      "[전역스코프] launch Cancelled\n",
      "[런블러킹] async result\n"
     ]
    }
   ],
   "source": [
    "fun CoroutineScope.log(msg: String) {                     // 확장함수\n",
    "   val name = coroutineContext[CoroutineName]?.name       // 코루틴 이름\n",
    "   println(\"[$name] $msg\")\n",
    "}\n",
    "\n",
    "fun main11() = \n",
    "    runBlocking(CoroutineName(\"런블러킹\")){                  // 코루틴 환경 \n",
    "    val deferred = async {                                // async로 코루틴 생성\n",
    "        delay(100)                                        // 0.1초 대기\n",
    "        log(\"async Start\")\n",
    "        \"async result\"                                    // 해당 코루틴블럭(Deferred)의 await() 호출 시 반환 값\n",
    "    }\n",
    "    log(\"Test\")\n",
    "    val job = GlobalScope\n",
    "              .launch(CoroutineName(\"전역스코프\")) {         // launch로 코루틴 생성\n",
    "        try {\n",
    "            delay(200)                                    // 0.2초 대기\n",
    "            log(\"launch Start\")\n",
    "            delay(Long.MAX_VALUE)                         // 최대 시간 정지\n",
    "        } finally {\n",
    "            log(\"launch Cancelled\")                       // 해당 job의 cancel() 취소 시 호출되는 finally\n",
    "        }\n",
    "    }\n",
    "    delay(500)                                            // 0.5초 대기\n",
    "    job.cancelAndJoin()                                   // job 취소, 대기\n",
    "    delay(500)                                            // 0.5초 대기\n",
    "    log(deferred.await())                                 // deferred의 결과 값 얻기\n",
    "}\n",
    "main11()"
   ]
  },
  {
   "cell_type": "code",
   "execution_count": null,
   "id": "755121c1",
   "metadata": {},
   "outputs": [],
   "source": []
  },
  {
   "cell_type": "markdown",
   "id": "a2286a66",
   "metadata": {},
   "source": [
    "## 지연실행"
   ]
  },
  {
   "cell_type": "code",
   "execution_count": 18,
   "id": "e0c30dfb",
   "metadata": {},
   "outputs": [
    {
     "name": "stdout",
     "output_type": "stream",
     "text": [
      "Test\n",
      "launch Start\n",
      "async Start\n"
     ]
    }
   ],
   "source": [
    "fun main1() = runBlocking<Unit> {\n",
    "    val deferred = async(start = CoroutineStart.LAZY) { // LAZY로 start 설정\n",
    "        println(\"async Start\")\n",
    "        \"async Result\"\n",
    "    }\n",
    "    println(\"Test\")\n",
    "\n",
    "    val job = GlobalScope\n",
    "              .launch(start = CoroutineStart.LAZY) {    // LAZY로 start 설정\n",
    "        println(\"launch Start\")\n",
    "    }\n",
    "\n",
    "    job.start()                                         // launch는 start() 또는 join()으로 해당 코루틴을 실행\n",
    "    // job.join()                                       // start와 같이 실행시키고 join은 대기까지\n",
    "\n",
    "    // deferred.start()                                 // async는 start() 또는 await()으로 해당 코루틴을 실행\n",
    "    deferred.await()                                    // await도 실행시키고 대기까지\n",
    "}\n",
    "\n",
    "main1()"
   ]
  },
  {
   "cell_type": "code",
   "execution_count": null,
   "id": "98e3d326",
   "metadata": {},
   "outputs": [],
   "source": []
  },
  {
   "cell_type": "markdown",
   "id": "b20db500",
   "metadata": {},
   "source": [
    "## 일시중단 함수와 중단 처리"
   ]
  },
  {
   "cell_type": "code",
   "execution_count": 19,
   "id": "aa87740d",
   "metadata": {},
   "outputs": [
    {
     "name": "stdout",
     "output_type": "stream",
     "text": [
      " 10 처리\n",
      " 20 처리 \n",
      "Result : 30\n"
     ]
    }
   ],
   "source": [
    "fun main12() = runBlocking {\n",
    "    val one = async { \n",
    "        doSomethingOne() \n",
    "    }\n",
    "    val two = async(start = CoroutineStart.LAZY) { \n",
    "        doSomethingTwo() \n",
    "    }\n",
    "\n",
    "    println(\"Result : ${one.await() + two.await()}\")\n",
    "\n",
    "}\n",
    "\n",
    "suspend fun doSomethingOne(): Int {\n",
    "    delay(1000L)                                            // 일시중단\n",
    "    println(\" 10 처리\")\n",
    "    return 10                                               // 결과 리턴\n",
    "}\n",
    "\n",
    "suspend fun doSomethingTwo(): Int {\n",
    "    delay(1000L)                                            // 일시중단\n",
    "    println(\" 20 처리 \")\n",
    "    return 20                                               // 결과 리턴\n",
    "}\n",
    "main12()"
   ]
  },
  {
   "cell_type": "code",
   "execution_count": null,
   "id": "f27b958f",
   "metadata": {},
   "outputs": [],
   "source": []
  },
  {
   "cell_type": "code",
   "execution_count": null,
   "id": "26540330",
   "metadata": {},
   "outputs": [],
   "source": []
  },
  {
   "cell_type": "code",
   "execution_count": null,
   "id": "ce61065a",
   "metadata": {},
   "outputs": [],
   "source": []
  },
  {
   "cell_type": "markdown",
   "id": "d90badbe",
   "metadata": {},
   "source": [
    "## withContext() - T 반환\n",
    "\n",
    "       : async처럼 결과값을 반환하는 빌더로 async와 유사하지만 다른점이 존재한다\n",
    "\n",
    "         async는 반환하는 Deferred<T> 객체로 결과값을 원하는 시점에 await()함수를 통해 결과값을 얻지만,\n",
    "\n",
    "         withContext()는 Deferred<T>객체로 반환하지 않고, 결과(T)를 그 자리에서 반납한다 \n",
    "\n",
    " ( async의 Deferred<T>는 지연객체라고 생각하면 좋다. 내가 원하는 시점에 await()으로 결과를 받기에 - 지연 )"
   ]
  },
  {
   "cell_type": "code",
   "execution_count": 88,
   "id": "8dca81b0",
   "metadata": {},
   "outputs": [
    {
     "name": "stdout",
     "output_type": "stream",
     "text": [
      "위드컨텍스트 처리 : DefaultDispatcher-worker-3\n",
      "런치 처리 : Thread-362\n"
     ]
    }
   ],
   "source": [
    "// suspend fun <T> withContext(                        // 일시중단함수 \n",
    "// context: CoroutineContext,                          // 코루틴 컨텍스트\n",
    "// block: suspend CoroutineScope.() -> T): T           // 일시중단 코루틴 람다표현식\n",
    "\n",
    "fun main() = runBlocking {                             // 현재 스레드 코뤁틴 처리                       \n",
    "    withContext(Dispatchers.Default) {                 // 컨택슽틑 변경 \n",
    "        println(\"위드컨텍스트 처리 : \" \n",
    "                + Thread.currentThread().name)\n",
    "        delay(100)\n",
    "    }\n",
    "    \n",
    "    launch {                                           // 기존 컨텍스트 사용\n",
    "        println(\"런치 처리 : \" \n",
    "                + Thread.currentThread().name)\n",
    "        delay(100)\n",
    "    }\n",
    "    \n",
    "    delay(2000)\n",
    "}\n",
    "\n",
    "main()"
   ]
  },
  {
   "cell_type": "code",
   "execution_count": null,
   "id": "24796045",
   "metadata": {},
   "outputs": [],
   "source": []
  },
  {
   "cell_type": "markdown",
   "id": "ad4a47ec",
   "metadata": {},
   "source": [
    "## 이름 부여 처리하기ㅡ"
   ]
  },
  {
   "cell_type": "code",
   "execution_count": 90,
   "id": "c06d76e1",
   "metadata": {},
   "outputs": [
    {
     "name": "stdout",
     "output_type": "stream",
     "text": [
      "[Outer]시작\n",
      "[Inner]종료\n",
      "[Outer]메인종료\n"
     ]
    }
   ],
   "source": [
    "import kotlinx.coroutines.*\n",
    "import kotlin.coroutines.coroutineContext\n",
    "\n",
    "suspend fun printName(msg : String) {\n",
    "    val name = coroutineContext[CoroutineName]?.name\n",
    "   println(\"[${name}]\" + msg)\n",
    "}\n",
    "\n",
    "suspend fun main_() = \n",
    "    withContext(CoroutineName(\"Outer\")) {\n",
    "       printName(\"시작\")                                        // Outer\n",
    "       launch(CoroutineName(\"Inner\")) {\n",
    "       printName(\"종료\")                                        // Inner\n",
    "   }\n",
    "   delay(10)\n",
    "   printName(\"메인종료\")                                         // Outer\n",
    "}\n",
    "\n",
    "fun main() = runBlocking {\n",
    "      main_()\n",
    "}\n",
    "\n",
    "main()"
   ]
  },
  {
   "cell_type": "code",
   "execution_count": null,
   "id": "c3b1fc9f",
   "metadata": {},
   "outputs": [],
   "source": []
  },
  {
   "cell_type": "markdown",
   "id": "63d557a0",
   "metadata": {},
   "source": [
    "## 반환값 처리\n",
    "\n",
    "withContext + NonCancellable을 사용하면 코루틴"
   ]
  },
  {
   "cell_type": "code",
   "execution_count": 91,
   "id": "1c3aee7a",
   "metadata": {},
   "outputs": [
    {
     "name": "stdout",
     "output_type": "stream",
     "text": [
      "I'm sleeping 0 ...\n",
      "I'm sleeping 1 ...\n",
      "I'm sleeping 2 ...\n",
      "main : I'm tired of waiting!\n",
      "main : I'm running finally!\n",
      "main : Now I can quit.\n",
      "class java.lang.Integer\n",
      " 100\n"
     ]
    }
   ],
   "source": [
    "fun main2() = \n",
    "    runBlocking {\n",
    "        var jobw =  Any()\n",
    "        val job = launch {\n",
    "            try {\n",
    "                repeat(1000) { i ->\n",
    "                        println(\"I'm sleeping $i ...\")\n",
    "                        delay(500L)\n",
    "                }\n",
    "            } finally {\n",
    "                jobw = withContext(NonCancellable) {\n",
    "                    delay(1000)\n",
    "                    println(\"main : I'm running finally!\")\n",
    "                    100\n",
    "                }\n",
    "            }\n",
    "        }\n",
    "\n",
    "        delay(1300L)\n",
    "        println(\"main : I'm tired of waiting!\")\n",
    "        job.cancelAndJoin()\t\n",
    "        println(\"main : Now I can quit.\")\n",
    "        println(jobw.javaClass)\n",
    "        if (jobw is Int)\n",
    "            println(\" ${jobw}\")\n",
    "}\n",
    "    \n",
    "main2()"
   ]
  },
  {
   "cell_type": "code",
   "execution_count": null,
   "id": "2a8e2e25",
   "metadata": {},
   "outputs": [],
   "source": []
  },
  {
   "cell_type": "code",
   "execution_count": 29,
   "id": "ec0b5e01",
   "metadata": {},
   "outputs": [
    {
     "name": "stdout",
     "output_type": "stream",
     "text": [
      "Start withContext\n",
      "withContext end?\n",
      "Result : My name is Android\n"
     ]
    }
   ],
   "source": [
    "GlobalScope.launch(Dispatchers.IO) {          //  1\n",
    "    val name = withContext(Dispatchers.IO) {  // 2\n",
    "    \tprintln(\"Start withContext\")\n",
    "        delay(2000)\n",
    "        \"My name is Android\"\n",
    "    }   \n",
    "    delay(1000)\n",
    "    println(\"withContext end?\")\n",
    "    println(\"Result : $name\")       // 3\n",
    "}\n",
    "\n",
    "Thread.sleep(3000)"
   ]
  },
  {
   "cell_type": "code",
   "execution_count": null,
   "id": "77da1c39",
   "metadata": {},
   "outputs": [],
   "source": []
  },
  {
   "cell_type": "code",
   "execution_count": null,
   "id": "a54b4e78",
   "metadata": {},
   "outputs": [],
   "source": []
  },
  {
   "cell_type": "code",
   "execution_count": null,
   "id": "b0970245",
   "metadata": {},
   "outputs": [],
   "source": []
  },
  {
   "cell_type": "code",
   "execution_count": null,
   "id": "cf5b9a49",
   "metadata": {},
   "outputs": [],
   "source": []
  },
  {
   "cell_type": "code",
   "execution_count": 30,
   "id": "5497554e",
   "metadata": {},
   "outputs": [],
   "source": [
    "fun main() {\n",
    "    // delay(1000L)가 실행되는 동안 main함수가 끝나고 println을 만나지 못하고 종료\n",
    "\n",
    "    GlobalScope.launch {\n",
    "        delay(1000L)\n",
    "        println(\"Pass\")\n",
    "    }\n",
    "}"
   ]
  },
  {
   "cell_type": "code",
   "execution_count": 31,
   "id": "9db8c6d3",
   "metadata": {},
   "outputs": [],
   "source": [
    "main()"
   ]
  },
  {
   "cell_type": "code",
   "execution_count": null,
   "id": "7eea4e27",
   "metadata": {},
   "outputs": [],
   "source": []
  },
  {
   "cell_type": "code",
   "execution_count": 32,
   "id": "94ffd676",
   "metadata": {},
   "outputs": [],
   "source": [
    "fun main211() {\n",
    "    // delay(1000L)가 실행되는 동안 main함수가 끝나고 println을 만나지 못하고 종료\n",
    "\n",
    "    GlobalScope.launch {\n",
    "        delay(1000L)\n",
    "        println(\"Pass\")\n",
    "    }\n",
    "    \n",
    "    Thread.sleep(2000L)\n",
    "}"
   ]
  },
  {
   "cell_type": "code",
   "execution_count": 33,
   "id": "d212b8ce",
   "metadata": {},
   "outputs": [
    {
     "name": "stdout",
     "output_type": "stream",
     "text": [
      "Pass\n",
      "Pass\n"
     ]
    }
   ],
   "source": [
    "main211()"
   ]
  },
  {
   "cell_type": "code",
   "execution_count": null,
   "id": "86f864fa",
   "metadata": {},
   "outputs": [],
   "source": []
  },
  {
   "cell_type": "code",
   "execution_count": 34,
   "id": "a57103a7",
   "metadata": {},
   "outputs": [],
   "source": [
    "fun main212() {\n",
    "    GlobalScope.launch {\n",
    "        delay(1000L)\n",
    "        println(\"Pass\")\n",
    "    }\n",
    "\n",
    "    runBlocking {\n",
    "        // delay(2000L)이 끝날 때 까지 Blocking 된다.\n",
    "        delay(2000L)\n",
    "    }\n",
    "}"
   ]
  },
  {
   "cell_type": "code",
   "execution_count": 35,
   "id": "44c9ce18",
   "metadata": {},
   "outputs": [
    {
     "name": "stdout",
     "output_type": "stream",
     "text": [
      "Pass\n"
     ]
    }
   ],
   "source": [
    "main212()"
   ]
  },
  {
   "cell_type": "code",
   "execution_count": null,
   "id": "705e1f13",
   "metadata": {},
   "outputs": [],
   "source": []
  },
  {
   "cell_type": "code",
   "execution_count": 36,
   "id": "3e67cf22",
   "metadata": {},
   "outputs": [],
   "source": [
    "fun main213() {\n",
    "    CoroutineScope(Dispatchers.Default).launch {\n",
    "        delay(1000L)\n",
    "        println(\"PASS\")\n",
    "    }\n",
    "\n",
    "    Thread.sleep(2000L)\n",
    "}"
   ]
  },
  {
   "cell_type": "code",
   "execution_count": 37,
   "id": "8d4b2bf5",
   "metadata": {},
   "outputs": [
    {
     "name": "stdout",
     "output_type": "stream",
     "text": [
      "PASS\n"
     ]
    }
   ],
   "source": [
    "main213()"
   ]
  },
  {
   "cell_type": "code",
   "execution_count": null,
   "id": "30a237b6",
   "metadata": {},
   "outputs": [],
   "source": []
  },
  {
   "cell_type": "code",
   "execution_count": 38,
   "id": "b1c7eeb3",
   "metadata": {},
   "outputs": [],
   "source": [
    "suspend fun mySuspend() {\n",
    "    // suspend 함수는 다른 suspend함수를 호출할 수 있다.\n",
    "    delay(1000L)\n",
    "    println(\"Run\")\n",
    "}\n",
    "\n",
    "fun main214() = runBlocking {\n",
    "    // 코루틴 스코프에서 suspend함수를 호출할 수 있다.\n",
    "    mySuspend()\n",
    "}"
   ]
  },
  {
   "cell_type": "code",
   "execution_count": 39,
   "id": "3480d017",
   "metadata": {},
   "outputs": [
    {
     "name": "stdout",
     "output_type": "stream",
     "text": [
      "Run\n"
     ]
    }
   ],
   "source": [
    "main214()"
   ]
  },
  {
   "cell_type": "code",
   "execution_count": null,
   "id": "d9a00d55",
   "metadata": {},
   "outputs": [],
   "source": []
  },
  {
   "cell_type": "code",
   "execution_count": null,
   "id": "7d2c4e0b",
   "metadata": {},
   "outputs": [],
   "source": []
  },
  {
   "cell_type": "code",
   "execution_count": 40,
   "id": "ff3c9555",
   "metadata": {},
   "outputs": [],
   "source": [
    "fun main215() = runBlocking {\n",
    "    val job = GlobalScope.launch {\n",
    "        println(\"Job is running\")\n",
    "        delay(1000L)\n",
    "        println(\"Job is finished\")\n",
    "    }\n",
    "\n",
    "//    join이 없으면, job이 완료되기 전에 main함수가 종료되면서 프로그램 종료\n",
    "    job.join()\n",
    "}"
   ]
  },
  {
   "cell_type": "code",
   "execution_count": 41,
   "id": "10ce78da",
   "metadata": {},
   "outputs": [
    {
     "name": "stdout",
     "output_type": "stream",
     "text": [
      "Job is running\n",
      "Job is finished\n"
     ]
    }
   ],
   "source": [
    "main215()"
   ]
  },
  {
   "cell_type": "code",
   "execution_count": null,
   "id": "d761b321",
   "metadata": {},
   "outputs": [],
   "source": []
  },
  {
   "cell_type": "code",
   "execution_count": null,
   "id": "41e20523",
   "metadata": {},
   "outputs": [],
   "source": []
  },
  {
   "cell_type": "code",
   "execution_count": 42,
   "id": "3080ef3e",
   "metadata": {},
   "outputs": [
    {
     "name": "stdout",
     "output_type": "stream",
     "text": [
      " Hello : Thread-170\n",
      " foo : Thread-170\n"
     ]
    }
   ],
   "source": [
    "suspend fun foo() {\n",
    "    delay(100)\n",
    "    println(\" foo : \" + Thread.currentThread().name)\n",
    "}\n",
    "\n",
    "fun main_() = runBlocking { // this: CoroutineScope\n",
    "    launch { foo() }\n",
    "    println(\" Hello : \"+ Thread.currentThread().name)\n",
    "}\n",
    "\n",
    "main_()"
   ]
  },
  {
   "cell_type": "code",
   "execution_count": null,
   "id": "8696d09b",
   "metadata": {},
   "outputs": [],
   "source": []
  },
  {
   "cell_type": "code",
   "execution_count": 43,
   "id": "b54e03e5",
   "metadata": {},
   "outputs": [
    {
     "name": "stdout",
     "output_type": "stream",
     "text": [
      "Start Main Thread\n",
      "in Coroutine1 ...\n",
      "in Coroutine2 ...\n",
      "End Main Thread\n"
     ]
    }
   ],
   "source": [
    "println(\"Start Main Thread\")\n",
    "fun gs() {\n",
    "    GlobalScope.launch {\n",
    "        println(\"in Coroutine1 ...\")\n",
    "        delay(1000L)\n",
    "        println(\"in Coroutine2 ...\")\n",
    "        delay(1000L)\n",
    "    }\n",
    "    GlobalScope.launch {\n",
    "        delay(2000L) \n",
    "        delay(500L)      // block main thread for 2 seconds to keep JVM alive\n",
    "    }\n",
    "}\n",
    "\n",
    "gs()\n",
    "Thread.sleep(5000)                       // 최종 메인이 끝날야 전체가 종료 \n",
    "println(\"End Main Thread\")"
   ]
  },
  {
   "cell_type": "code",
   "execution_count": null,
   "id": "957a812d",
   "metadata": {},
   "outputs": [],
   "source": []
  },
  {
   "cell_type": "code",
   "execution_count": 44,
   "id": "3fca8114",
   "metadata": {},
   "outputs": [
    {
     "name": "stdout",
     "output_type": "stream",
     "text": [
      "Start Main Thread\n",
      "in Coroutine1 ...\n",
      "in Coroutine2 ...\n",
      "End Main Thread\n"
     ]
    }
   ],
   "source": [
    "println(\"Start Main Thread\")\n",
    "fun gs() {\n",
    "    GlobalScope.launch {\n",
    "        println(\"in Coroutine1 ...\")\n",
    "        delay(1000L)\n",
    "        println(\"in Coroutine2 ...\")\n",
    "    }\n",
    "    runBlocking {\n",
    "        delay(2000L)                   // block main thread for 2 seconds to keep JVM alive\n",
    "    }\n",
    "}\n",
    "\n",
    "gs()\n",
    "println(\"End Main Thread\")"
   ]
  },
  {
   "cell_type": "code",
   "execution_count": 45,
   "id": "c078f835",
   "metadata": {},
   "outputs": [],
   "source": [
    "fun main() = runBlocking { // this: CoroutineScope\n",
    "    launch { doWorld() }\n",
    "    println(\"Hello\")\n",
    "}\n",
    "\n",
    "// this is your first suspending function\n",
    "suspend fun doWorld() {\n",
    "    delay(1000L)\n",
    "    println(\"World!\")\n",
    "}"
   ]
  },
  {
   "cell_type": "code",
   "execution_count": 46,
   "id": "ae45ad6d",
   "metadata": {},
   "outputs": [
    {
     "name": "stdout",
     "output_type": "stream",
     "text": [
      "Hello\n",
      "World!\n"
     ]
    }
   ],
   "source": [
    "main()"
   ]
  },
  {
   "cell_type": "code",
   "execution_count": null,
   "id": "b10ba644",
   "metadata": {},
   "outputs": [],
   "source": []
  },
  {
   "cell_type": "code",
   "execution_count": 47,
   "id": "14f3905b",
   "metadata": {},
   "outputs": [],
   "source": [
    "fun main() = runBlocking {\n",
    "    doWorld()\n",
    "}\n",
    "\n",
    "suspend fun doWorld() = coroutineScope {  // this: CoroutineScope\n",
    "    launch {\n",
    "        delay(1000L)\n",
    "        println(\"World!\")\n",
    "    }\n",
    "    println(\"Hello\")\n",
    "}"
   ]
  },
  {
   "cell_type": "code",
   "execution_count": 48,
   "id": "3c21f75b",
   "metadata": {},
   "outputs": [
    {
     "name": "stdout",
     "output_type": "stream",
     "text": [
      "Hello\n",
      "World!\n"
     ]
    }
   ],
   "source": [
    "main()"
   ]
  },
  {
   "cell_type": "code",
   "execution_count": 49,
   "id": "d982a3cc",
   "metadata": {},
   "outputs": [],
   "source": [
    "fun main() {\n",
    "    GlobalScope.launch {         // launch a new coroutine in background and continue\n",
    "        delay(1000L)             // non-blocking delay for 1 second\n",
    "        println(\"World!\")        // print after delay\n",
    "    }\n",
    "    println(\"Hello\")             // main thread continues while coroutine is delayed\n",
    "    Thread.sleep(2000L)          // block main thread for 2 seconds to keep JVM alive\n",
    "}"
   ]
  },
  {
   "cell_type": "code",
   "execution_count": 50,
   "id": "3f667895",
   "metadata": {},
   "outputs": [
    {
     "name": "stdout",
     "output_type": "stream",
     "text": [
      "Hello\n",
      "World!\n"
     ]
    }
   ],
   "source": [
    "main()"
   ]
  },
  {
   "cell_type": "code",
   "execution_count": 51,
   "id": "f2cb1bf9",
   "metadata": {},
   "outputs": [],
   "source": [
    "fun main() {\n",
    "    GlobalScope.launch {\n",
    "        delay(1000L)          // non-blocking delay for 1 second\n",
    "        println(\"World!\")     // print after delay\n",
    "    }\n",
    "    println(\"Hello\")          // main thread continues while coroutine is delayed\n",
    "    runBlocking {\n",
    "        delay(2000L)          // block main thread for 2 seconds to keep JVM alive\n",
    "    }\n",
    "}"
   ]
  },
  {
   "cell_type": "code",
   "execution_count": 52,
   "id": "9383de9d",
   "metadata": {},
   "outputs": [
    {
     "name": "stdout",
     "output_type": "stream",
     "text": [
      "Hello\n",
      "World!\n"
     ]
    }
   ],
   "source": [
    "main()"
   ]
  },
  {
   "cell_type": "code",
   "execution_count": 53,
   "id": "7c179d53",
   "metadata": {},
   "outputs": [],
   "source": [
    "fun main() = runBlocking {\n",
    "\n",
    "    launch {\n",
    "        delay(1000L) \n",
    "        println(\"World!\")\n",
    "    }\n",
    "    \n",
    "    launch {\n",
    "        delay(1000L) \n",
    "        println(\"World!!!!\")\n",
    "    }\n",
    "    \n",
    "    println(\"Hello\")\n",
    "}"
   ]
  },
  {
   "cell_type": "code",
   "execution_count": 54,
   "id": "fe9106c8",
   "metadata": {},
   "outputs": [
    {
     "name": "stdout",
     "output_type": "stream",
     "text": [
      "Hello\n",
      "World!\n",
      "World!!!!\n"
     ]
    }
   ],
   "source": [
    "main()"
   ]
  },
  {
   "cell_type": "code",
   "execution_count": 55,
   "id": "6d2edb4d",
   "metadata": {},
   "outputs": [],
   "source": [
    "fun main() = runBlocking {\n",
    "    var ix = 0\n",
    "    var job = launch {\n",
    "    repeat(1000) { i ->\n",
    "            println(\"job: I'm sleeping ${ix++} ...\")\n",
    "            delay(500L)\n",
    "        }\n",
    "    }\n",
    "    delay(1300L) // delay a bit\n",
    "    println(\"main: I'm tired of waiting!\")\n",
    "    job.cancelAndJoin() // cancels the job and waits for its completion\n",
    "    println(\"main: Now I can quit.\")\n",
    "}"
   ]
  },
  {
   "cell_type": "code",
   "execution_count": 56,
   "id": "cd1286c5",
   "metadata": {},
   "outputs": [
    {
     "name": "stdout",
     "output_type": "stream",
     "text": [
      "job: I'm sleeping 0 ...\n",
      "job: I'm sleeping 1 ...\n",
      "job: I'm sleeping 2 ...\n",
      "main: I'm tired of waiting!\n",
      "main: Now I can quit.\n"
     ]
    }
   ],
   "source": [
    "main()"
   ]
  },
  {
   "cell_type": "code",
   "execution_count": null,
   "id": "086915e6",
   "metadata": {},
   "outputs": [],
   "source": []
  },
  {
   "cell_type": "code",
   "execution_count": null,
   "id": "170a29b3",
   "metadata": {},
   "outputs": [],
   "source": []
  },
  {
   "cell_type": "code",
   "execution_count": null,
   "id": "68b8b173",
   "metadata": {},
   "outputs": [],
   "source": []
  },
  {
   "cell_type": "code",
   "execution_count": null,
   "id": "4fd78b02",
   "metadata": {},
   "outputs": [],
   "source": []
  },
  {
   "cell_type": "code",
   "execution_count": null,
   "id": "7497d62f",
   "metadata": {},
   "outputs": [],
   "source": []
  },
  {
   "cell_type": "code",
   "execution_count": null,
   "id": "40ae9f4c",
   "metadata": {},
   "outputs": [],
   "source": []
  }
 ],
 "metadata": {
  "kernelspec": {
   "display_name": "Kotlin",
   "language": "kotlin",
   "name": "kotlin"
  },
  "language_info": {
   "codemirror_mode": "text/x-kotlin",
   "file_extension": ".kt",
   "mimetype": "text/x-kotlin",
   "name": "kotlin",
   "nbconvert_exporter": "",
   "pygments_lexer": "kotlin",
   "version": "1.7.0-dev-1825"
  }
 },
 "nbformat": 4,
 "nbformat_minor": 5
}
