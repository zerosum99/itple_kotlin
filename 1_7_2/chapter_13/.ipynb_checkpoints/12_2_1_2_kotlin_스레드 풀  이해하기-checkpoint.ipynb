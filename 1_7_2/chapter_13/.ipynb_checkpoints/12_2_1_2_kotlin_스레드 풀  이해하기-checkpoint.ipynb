{
 "cells": [
  {
   "cell_type": "code",
   "execution_count": null,
   "id": "b20f12dd",
   "metadata": {},
   "outputs": [],
   "source": []
  },
  {
   "cell_type": "markdown",
   "id": "4041c52a",
   "metadata": {},
   "source": [
    "## 스레드 상태 확인하기"
   ]
  },
  {
   "cell_type": "code",
   "execution_count": 1,
   "id": "d013523b",
   "metadata": {},
   "outputs": [
    {
     "name": "stdout",
     "output_type": "stream",
     "text": [
      ".........."
     ]
    }
   ],
   "source": [
    "import kotlin.concurrent.thread                              // 스레드 처리 함수 사용\n",
    "\n",
    "val threads = List(10) {                                     // 리스트 클래스로 쓰레드 10개 생성 \n",
    "    thread {\n",
    "        Thread.sleep(1000)\n",
    "        print(\".\")\n",
    "    }\n",
    "}\n",
    "\n",
    "threads.forEach( Thread::join)                               // 각각의 쓰레드 종료할때까지 기다림"
   ]
  },
  {
   "cell_type": "code",
   "execution_count": null,
   "id": "2508b468",
   "metadata": {},
   "outputs": [],
   "source": []
  },
  {
   "cell_type": "code",
   "execution_count": 5,
   "id": "640041ca",
   "metadata": {},
   "outputs": [
    {
     "name": "stdout",
     "output_type": "stream",
     "text": [
      "false\n",
      "true\n",
      ",,12,,,,56,743,8,9,10,,11,1213,14,15,16,17,,1918,20"
     ]
    }
   ],
   "source": [
    "import java.util.concurrent.Executors                      // 스레드 풀을 만들기 위한 클래스 \n",
    "\n",
    "val executor = Executors.newFixedThreadPool(10)            // 특정 스레드 개수만큼만 사용하는 풀을 만듬\n",
    "var count = 0\n",
    "repeat(20) {                                               // 스레드 풀에 스레드 작동하는 함수 등록 \n",
    "    executor.submit  {                                     // 스레드 풀에 람다표현식을 전달 \n",
    "        Thread.sleep(10)                                   // 스레드를 임시 지연처리\n",
    "        print(\",\")\n",
    "        count += 1                                         // 스레드가 생긴 건수 확인\n",
    "        print(count)\n",
    "    }\n",
    "}\n",
    "\n",
    "println(executor.isTerminated())                           // 스레드 풀 미종료\n",
    "executor.shutdown()                                        // 스레드 풀 종료\n",
    "println(executor.isShutdown())                             // 스레드 풀 종료 확인"
   ]
  },
  {
   "cell_type": "code",
   "execution_count": null,
   "id": "b3f188e0",
   "metadata": {},
   "outputs": [],
   "source": []
  },
  {
   "cell_type": "markdown",
   "id": "354f14a8",
   "metadata": {},
   "source": [
    "## 스레드 풀 주요  인터페이스 \n",
    "\n",
    "\n",
    "- Executor 인터페이스:\n",
    "\n",
    "제공된 작업(Runnable 구현체)을 실행하는 객체가 구현해야 할 인터페이스. 이 인터페이스는 작업을 제공하는 코드와 작업을 실행하는 메커니즘의 사이의 커플링을 제거해준다.\n",
    "\n",
    "\n",
    "- ExecutorService 인터페이스:\n",
    "\n",
    "Executor의 라이프사이클을 관리할 수 있는 기능을 정의하고 있다. Runnable 뿐만 아니라 Callable을 작업으로 사용할 수 있는 메소드가 추가로 제공된다.\n",
    "\n",
    "\n",
    "- ScheduledExecutorService:\n",
    "\n",
    "지정한 스케쥴에 따라 작업을 수행할 수 있는 기능이 추가되었다."
   ]
  },
  {
   "cell_type": "code",
   "execution_count": null,
   "id": "4708970f",
   "metadata": {},
   "outputs": [],
   "source": []
  },
  {
   "cell_type": "code",
   "execution_count": null,
   "id": "7b01c96a",
   "metadata": {},
   "outputs": [],
   "source": []
  },
  {
   "cell_type": "markdown",
   "id": "943f6015",
   "metadata": {},
   "source": [
    "## ExecutorService 인터페이스 \n",
    "\n",
    "Executor 의 라이프 사이클을 관리할 수 있는 기능을 정의 합니다. Runnable 뿐만 아니라 Callable 도 작업으로 사용할 수 있습니다.\n",
    "\n",
    "> - Executor의 라이프 사이클을 관리\n",
    "> - Callable을 작업으로 사용하기 위한 메소드\n",
    "\n",
    "- void shutdown():\n",
    "\n",
    "셧다운 한다. 이미 Executor에 제공된 작업은 실행되지만, 새로운 작업은 수용하지 않는다.\n",
    "\n",
    "\n",
    "- List<Runnable> shutdownNow():\n",
    "    \n",
    "현재 실행중인 모든 작업을 중지시키고, 대기중인 작업을 멈추고, 현재 실행되기 위해 대기중인 작업 목록을 리턴한다.\n",
    "    \n",
    "    \n",
    "- boolean isShutdown():\n",
    "    \n",
    "Executor가 셧다운 되었는 지의 여부를 확인한다.\n",
    "    \n",
    "    \n",
    "- boolean isTerminated():\n",
    "    \n",
    "셧다운 실행 후 모든 작업이 종료되었는 지의 여부를 확인한다.\n",
    "    \n",
    "    \n",
    "- boolean awaitTermination(long timeout, TimeUnit unit):\n",
    "    \n",
    "셧다운을 실행한 뒤, 지정한 시간 동안 모든 작업이 종료될 때 까지 대기한다. 지정한 시간 이내에서 실행중인 모든 작업이 종료되면 true를 리턴하고, 여전히 실행중인 작업이 남아 있다면 false를 리턴한다."
   ]
  },
  {
   "cell_type": "code",
   "execution_count": null,
   "id": "961ec240",
   "metadata": {},
   "outputs": [],
   "source": []
  },
  {
   "cell_type": "markdown",
   "id": "ebc3238b",
   "metadata": {},
   "source": [
    "## 스레드 풀 만들기 \n",
    "\n",
    "\n",
    "- ExecutorService newFixedThreadPool(int nThreads)\n",
    "\n",
    "최대 지정한 개수 만큼의 쓰레드를 가질 수 있는 쓰레드 풀을 생성한다. 실제 생성되는 객체는 ThreadPoolExecutor 객체이다.\n",
    "\n",
    "\n",
    "- ScheduledExecutorService newScheduledThreadPool(int corePoolSize)\n",
    "\n",
    "지정한 개수만큼 쓰레드가 유지되는 스케줄 가능한 쓰레드 풀을 생성한다. 실제 생성되는 객체는 ScheduledThreadPoolExecutor 객체이다.\n",
    "\n",
    "\n",
    "- ExecutorService newSingleThreadExecutor()\n",
    "\n",
    "하나의 쓰레드만 사용하는 ExecutorService를 생성한다.\n",
    "\n",
    "\n",
    "- ScheduledExecutorService newSingleThreadScheduledExecutor()\n",
    "\n",
    "하나의 쓰레드만 사용하는 ScheduledExecutorService를 생성한다.\n",
    "\n",
    "\n",
    "- ExecutorService newCachedThreadPool()\n",
    "\n",
    "필요할 때 마다 쓰레드를 생성하는 쓰레드 풀을 생성한다. 이미 생성된 쓰레드의 경우 재사용된다. 실제 생성되는 객체는 ThreadPoolExecutor 객체이다.\n"
   ]
  },
  {
   "cell_type": "code",
   "execution_count": null,
   "id": "154e6240",
   "metadata": {},
   "outputs": [],
   "source": []
  },
  {
   "cell_type": "markdown",
   "id": "5948feb1",
   "metadata": {},
   "source": [
    "## 스레드 풀처리 : 한번 실행"
   ]
  },
  {
   "cell_type": "code",
   "execution_count": 12,
   "id": "d8332ff7",
   "metadata": {},
   "outputs": [
    {
     "name": "stdout",
     "output_type": "stream",
     "text": [
      "초기 시간확인  task name - task 1 = 10:20:43\n",
      "초기 시간확인  task name - task 3 = 10:20:43\n",
      "초기 시간확인  task name - task 2 = 10:20:43\n",
      "초기 시간확인  task name - task 5 = 10:20:43\n",
      "초기 시간확인  task name - task 4 = 10:20:43\n"
     ]
    }
   ],
   "source": [
    "import java.text.SimpleDateFormat\n",
    "import java.util.Date\n",
    "import java.util.concurrent.TimeUnit\n",
    "import java.util.concurrent.Executors\n",
    "\n",
    "class Task(val name:String) : Runnable   {                // 러너블 객체 생성 \n",
    "    override fun run() {                                  // 러너블 메소드 재정의\n",
    "       val d = Date()\n",
    "       val ft = SimpleDateFormat(\"hh:mm:ss\")              // 시분초로 시간 포매팅 \n",
    "       println(\"초기 시간확인 \"\n",
    "                            + \" task name - \"\n",
    "                            + name +\" = \"                 // 태스크 이름 \n",
    "                            +ft.format(d))                // 타임처리 \n",
    "        Thread.sleep(100)                                 // 지연처리\n",
    "    }\n",
    "}\n",
    "\n",
    "val MAX_T = 5                                              // 스레드 개수       \n",
    "fun main() {\n",
    "   val r1 = Task(\"task 1\")                                 // 태스크 객체 생성 \n",
    "   val r2 = Task(\"task 2\")\n",
    "   val r3 = Task(\"task 3\")\n",
    "   val r4 = Task(\"task 4\")\n",
    "   val r5 = Task(\"task 5\")      \n",
    "          \n",
    "   val pool = Executors.newFixedThreadPool(MAX_T)          // 스레드 풀 생성   \n",
    "   pool.execute(r1)                                        // 풀에서 스레드 실행\n",
    "   pool.execute(r2)\n",
    "   pool.execute(r3)\n",
    "   pool.execute(r4)\n",
    "   pool.execute(r5) \n",
    "   //pool.shutdown()                                        // 플 종료 -> 풀의 스레드 개수에 맞춰 종료\n",
    "   pool.awaitTermination(3000L, TimeUnit.MICROSECONDS)      // 시가늘 마이그로 초로 표기 \n",
    "\n",
    "}\n",
    "main()"
   ]
  },
  {
   "cell_type": "code",
   "execution_count": null,
   "id": "6ebc5646",
   "metadata": {},
   "outputs": [],
   "source": []
  },
  {
   "cell_type": "markdown",
   "id": "0640f6d5",
   "metadata": {},
   "source": [
    "## 스레드 풀처리 : 반복수행"
   ]
  },
  {
   "cell_type": "code",
   "execution_count": 8,
   "id": "d44306e0",
   "metadata": {},
   "outputs": [
    {
     "name": "stdout",
     "output_type": "stream",
     "text": [
      "Thread: Thread-55\n",
      "Thread: Thread-57\n",
      "Thread: Thread-56\n",
      "Thread: Thread-59\n",
      "Thread: Thread-58\n",
      "Thread: Thread-60\n",
      "Thread: Thread-64\n",
      "Thread: Thread-63\n",
      "Thread: Thread-62\n",
      "Thread: Thread-61\n"
     ]
    }
   ],
   "source": [
    "fun main1() {\n",
    "   val task = object : Runnable {\n",
    "       override fun run() {\n",
    "            println(\"Thread: \" \n",
    "                        + Thread.currentThread()\n",
    "                                .getName())\n",
    "       }\n",
    "    }\n",
    "\n",
    "    for (i in 1..10) {\n",
    "        val thread = Thread(task)\n",
    "        thread.start()\n",
    "    }\n",
    "}\n",
    "main1()"
   ]
  },
  {
   "cell_type": "code",
   "execution_count": null,
   "id": "7099d15a",
   "metadata": {},
   "outputs": [],
   "source": []
  },
  {
   "cell_type": "code",
   "execution_count": 5,
   "id": "fbbf835e",
   "metadata": {},
   "outputs": [
    {
     "name": "stdout",
     "output_type": "stream",
     "text": [
      "Thread: pool-3-thread-2\n",
      "Thread: pool-3-thread-1\n",
      "Thread: pool-3-thread-3\n",
      "Thread: pool-3-thread-5\n",
      "Thread: pool-3-thread-1\n",
      "Thread: pool-3-thread-4\n",
      "Thread: pool-3-thread-1\n",
      "Thread: pool-3-thread-5\n",
      "Thread: pool-3-thread-3\n",
      "Thread: pool-3-thread-2\n"
     ]
    }
   ],
   "source": [
    "import java.util.concurrent.Executors\n",
    "\n",
    "fun main2() {\n",
    "   val task = object : Runnable {\n",
    "       override fun run() {\n",
    "            println(\"Thread: \" + Thread.currentThread()\n",
    "                                       .getName())\n",
    "       }\n",
    "    }\n",
    "\n",
    "   val service = Executors.newFixedThreadPool(5)\n",
    "\n",
    "   for (i in 1..10) {\n",
    "       service.submit(task)\n",
    "   }\n",
    "   service.shutdown()\n",
    "}\n",
    "main2()"
   ]
  },
  {
   "cell_type": "code",
   "execution_count": null,
   "id": "fcfb64c5",
   "metadata": {},
   "outputs": [],
   "source": []
  },
  {
   "cell_type": "markdown",
   "id": "3ff072fc",
   "metadata": {},
   "source": [
    "## 반환값 \n",
    "\n",
    "\n",
    "- <T> Future<T> submit(Callable<T> task)\n",
    "    \n",
    "결과값을 리턴하는 작업을 추가한다.\n",
    "    \n",
    "    \n",
    "- Future<?> submit(Runnable task)\n",
    "\n",
    "결과값이 없는 작업을 추가한다.\n",
    "\n",
    "\n",
    "- <T> Future<T> submit(Runnable task, T result)\n",
    "\n",
    "새로운 작업을 추가한다. result는 작업이 성공적으로 수행될 때 사용될 리턴 값을 의미한다.\n",
    "\n",
    "\n",
    "- <T> List<Future<T>> invokeAll(Collection<? extends Callable<T>> tasks)\n",
    "\n",
    "주어진 작업을 모두 실행한다. 각 실행 결과값을 구할 수 있는 Future의 List를 리턴한다.\n",
    "\n",
    "\n",
    "- <T> List<Future<T>> invokeAll(Collection<? extends Callable<T>> tasks, long timeout, TimeUnit unit)\n",
    "\n",
    "앞서 invokeAll()과 동일하다. 지정한 시간 동안 완료되지 못한 작업은 취소되는 차이점이 있다.\n",
    "\n",
    "\n",
    "- <T> T invokeAny(Collection<? extends Callable<T>> tasks)\n",
    "\n",
    "작업울 수행하고, 작업 결과 중 성공적으로 완료된 것의 결과를 리턴한다. 정상적으로 수행된 결과가 발생하거나 예외가 발생하는 경우 나머지 완료되지 않은 작업은 취소된다.\n",
    "\n",
    "\n",
    "- <T> T invokeAny(Collection<? extends Callable<T>> tasks, long timeout, TimeUnit unit)\n",
    "\n",
    "invokeAny()와 동일하다. 지정한 시간 동안만 대기한다는 차이점이 있다.\n",
    "\n"
   ]
  },
  {
   "cell_type": "code",
   "execution_count": null,
   "id": "dfbb54dd",
   "metadata": {},
   "outputs": [],
   "source": []
  },
  {
   "cell_type": "markdown",
   "id": "fa544bec",
   "metadata": {},
   "source": [
    "## 반환값 받아오기 \n",
    "\n",
    "Future 인터페이스는 get() 메소드 외에도 다음과 같은 메소드를 제공하고 있다.\n",
    "\n",
    "- V get()\n",
    "\n",
    "Callable 등 작업의 실행이 완료될 때 까지 블록킹 되며, 완료되면 그 결과값을 리턴한다.\n",
    "\n",
    "\n",
    "- V get(long timeout, TimeUnit unit)\n",
    "\n",
    "지정한 시간 동안 작업의 실행 결과를 기다린다. 지정한 시간 내에 수행이 완료되면 그 결과값을 리턴한다. 대기 시간이 초과되면 TimeoutException을 발생시킨다.\n",
    "\n",
    "\n",
    "- boolean cancel(boolean mayInterruptIfRunning)\n",
    "\n",
    "작업을 취소한다.\n",
    "\n",
    "\n",
    "- boolean isCancelled()\n",
    "\n",
    "작업이 정상적으로 완료되기 이전에 취소되었을 경우 true를 리턴한다.\n",
    "\n",
    "\n",
    "- boolean isDone()\n",
    "\n",
    "작업이 완료되었다면 true를 리턴한다."
   ]
  },
  {
   "cell_type": "markdown",
   "id": "ab5b40fb",
   "metadata": {},
   "source": [
    "## 반환값을 받기"
   ]
  },
  {
   "cell_type": "code",
   "execution_count": 6,
   "id": "e251ae6d",
   "metadata": {},
   "outputs": [
    {
     "name": "stdout",
     "output_type": "stream",
     "text": [
      "Thread: pool-4-thread-1\n",
      "1\n",
      "true\n",
      "Thread: pool-4-thread-1\n",
      "1\n"
     ]
    }
   ],
   "source": [
    "import java.util.concurrent.Executors\n",
    "import java.util.concurrent.ExecutorService\n",
    "import java.util.concurrent.TimeUnit\n",
    "import java.util.concurrent.Callable\n",
    "\n",
    "val callable = {\n",
    "    Thread.sleep(10)\n",
    "    println(\"Thread: \" + Thread.currentThread().getName())\n",
    "    1\n",
    "}\n",
    "val executorService = Executors.newFixedThreadPool(2)\n",
    "\n",
    "val future1 = executorService.submit(callable)\n",
    "val future2 = executorService.submit(callable)\n",
    "val future3 = executorService.submit(callable)\n",
    "\n",
    "var value = future1.get()                                      // 작업이 끝날때 까지 기다려 값을 받기\n",
    "println(value)\n",
    "\n",
    "var canceled = future2.cancel(true)                            // 작업 취소하기. 취소 여부를 돌려받는다.\n",
    "println(canceled)\n",
    "\n",
    "value = future3.get(500, TimeUnit.MILLISECONDS)                // 500 밀리세컨드 동안만 기다려 값을 받기\n",
    "println(value)                                    \n"
   ]
  },
  {
   "cell_type": "code",
   "execution_count": null,
   "id": "5ccd8f46",
   "metadata": {},
   "outputs": [],
   "source": []
  },
  {
   "cell_type": "markdown",
   "id": "edea40fb",
   "metadata": {},
   "source": [
    "## 동시에 실행하기 "
   ]
  },
  {
   "cell_type": "code",
   "execution_count": 7,
   "id": "f3d7bf21",
   "metadata": {},
   "outputs": [
    {
     "name": "stdout",
     "output_type": "stream",
     "text": [
      "fuures \n",
      "Thread: pool-5-thread-2\n",
      "Thread: pool-5-thread-1\n",
      "Thread: pool-5-thread-2\n",
      "1\n",
      "1\n",
      "1\n",
      "fuures 1111 \n",
      "Thread: pool-5-thread-1\n",
      "Thread: pool-5-thread-2\n",
      "Thread: pool-5-thread-1\n",
      "1\n",
      "1\n",
      "1\n"
     ]
    }
   ],
   "source": [
    "val executorService = Executors.newFixedThreadPool(2)\n",
    "\n",
    "val callableList = mutableListOf<Callable<Int>>()\n",
    "\n",
    "for (i in 1..3 ) {\n",
    "    callableList.add( callable) \n",
    "}\n",
    "\n",
    "println(\"fuures \")\n",
    "val futures = executorService.invokeAll(callableList)\n",
    "for (i in 0..2) {\n",
    "    println(futures[i].get())\n",
    "}\n",
    "println(\"fuures 1111 \")\n",
    "val futures1 = executorService.invokeAll(\n",
    "                  callableList,500,TimeUnit.MILLISECONDS)\n",
    "for (i in 0..2) {\n",
    "    println(futures1[i].get())\n",
    "}\n",
    "\n",
    "executorService.shutdown()"
   ]
  },
  {
   "cell_type": "code",
   "execution_count": null,
   "id": "cd007ec4",
   "metadata": {},
   "outputs": [],
   "source": []
  }
 ],
 "metadata": {
  "kernelspec": {
   "display_name": "Kotlin",
   "language": "kotlin",
   "name": "kotlin"
  },
  "language_info": {
   "codemirror_mode": "text/x-kotlin",
   "file_extension": ".kt",
   "mimetype": "text/x-kotlin",
   "name": "kotlin",
   "nbconvert_exporter": "",
   "pygments_lexer": "kotlin",
   "version": "1.7.0-dev-1825"
  }
 },
 "nbformat": 4,
 "nbformat_minor": 5
}
