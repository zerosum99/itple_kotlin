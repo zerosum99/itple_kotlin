{
 "cells": [
  {
   "cell_type": "code",
   "execution_count": null,
   "id": "a7aa9a86",
   "metadata": {},
   "outputs": [],
   "source": []
  },
  {
   "cell_type": "code",
   "execution_count": 1,
   "id": "e5c8224c",
   "metadata": {},
   "outputs": [
    {
     "name": "stdout",
     "output_type": "stream",
     "text": [
      "Hello world!\n"
     ]
    }
   ],
   "source": [
    "import java.io.BufferedReader\n",
    "import java.io.File\n",
    "import java.io.FileReader\n",
    " \n",
    "fun main() {\n",
    "    val file = File(\"data.txt\")\n",
    "    val reader = BufferedReader(FileReader(file))\n",
    "    reader.lines().forEach { println(it) }\n",
    "    \n",
    "}\n",
    "\n",
    "main()"
   ]
  },
  {
   "cell_type": "code",
   "execution_count": null,
   "id": "27759db2",
   "metadata": {},
   "outputs": [],
   "source": []
  },
  {
   "cell_type": "code",
   "execution_count": null,
   "id": "4147623f",
   "metadata": {},
   "outputs": [],
   "source": []
  },
  {
   "cell_type": "code",
   "execution_count": null,
   "id": "b108cc4c",
   "metadata": {},
   "outputs": [],
   "source": []
  },
  {
   "cell_type": "code",
   "execution_count": 2,
   "id": "f3cc1f54",
   "metadata": {},
   "outputs": [],
   "source": [
    "import java.io.File\n",
    "import java.io.PrintWriter\n",
    "import java.io.StringWriter"
   ]
  },
  {
   "cell_type": "code",
   "execution_count": null,
   "id": "4cf2eafb",
   "metadata": {},
   "outputs": [],
   "source": []
  },
  {
   "cell_type": "code",
   "execution_count": null,
   "id": "04d347e7",
   "metadata": {},
   "outputs": [],
   "source": []
  },
  {
   "cell_type": "code",
   "execution_count": 3,
   "id": "7c6b1135",
   "metadata": {},
   "outputs": [
    {
     "name": "stdout",
     "output_type": "stream",
     "text": [
      "Hello world!\n"
     ]
    }
   ],
   "source": [
    "import java.io.File\n",
    "\n",
    "val fileName = \"./data.txt\"\n",
    "\n",
    "File(\"./data.txt\").forEachLine { println(it) }"
   ]
  },
  {
   "cell_type": "code",
   "execution_count": 4,
   "id": "bf904dd2",
   "metadata": {},
   "outputs": [
    {
     "data": {
      "text/plain": [
       "[Hello world!]"
      ]
     },
     "execution_count": 4,
     "metadata": {},
     "output_type": "execute_result"
    }
   ],
   "source": [
    "File(fileName).useLines { it.toList() }"
   ]
  },
  {
   "cell_type": "code",
   "execution_count": 5,
   "id": "0c7bf570",
   "metadata": {},
   "outputs": [
    {
     "data": {
      "text/plain": [
       "[Hello world!]"
      ]
     },
     "execution_count": 5,
     "metadata": {},
     "output_type": "execute_result"
    }
   ],
   "source": [
    "File(fileName).bufferedReader().readLines()"
   ]
  },
  {
   "cell_type": "code",
   "execution_count": 6,
   "id": "b2fc82b2",
   "metadata": {},
   "outputs": [
    {
     "data": {
      "text/plain": [
       "[Hello world!]"
      ]
     },
     "execution_count": 6,
     "metadata": {},
     "output_type": "execute_result"
    }
   ],
   "source": [
    "File(fileName).readLines()"
   ]
  },
  {
   "cell_type": "code",
   "execution_count": 7,
   "id": "342fa3b1",
   "metadata": {},
   "outputs": [
    {
     "data": {
      "text/plain": [
       "Hello world!"
      ]
     },
     "execution_count": 7,
     "metadata": {},
     "output_type": "execute_result"
    }
   ],
   "source": [
    "File(fileName).inputStream().readBytes().toString(Charsets.UTF_8)"
   ]
  },
  {
   "cell_type": "code",
   "execution_count": 8,
   "id": "7c4ec97a",
   "metadata": {},
   "outputs": [
    {
     "data": {
      "text/plain": [
       "Hello world!"
      ]
     },
     "execution_count": 8,
     "metadata": {},
     "output_type": "execute_result"
    }
   ],
   "source": [
    "File(fileName).readText(Charsets.UTF_8)"
   ]
  },
  {
   "cell_type": "code",
   "execution_count": null,
   "id": "652a009d",
   "metadata": {},
   "outputs": [],
   "source": []
  },
  {
   "cell_type": "code",
   "execution_count": 9,
   "id": "35d8b286",
   "metadata": {},
   "outputs": [
    {
     "name": "stdout",
     "output_type": "stream",
     "text": [
      "Hello world!\n"
     ]
    }
   ],
   "source": [
    "File(\"data.txt\").forEachLine(Charsets.UTF_8) { println(it) }"
   ]
  },
  {
   "cell_type": "code",
   "execution_count": null,
   "id": "28f2e7e4",
   "metadata": {},
   "outputs": [],
   "source": []
  },
  {
   "cell_type": "code",
   "execution_count": null,
   "id": "858ab6e4",
   "metadata": {},
   "outputs": [],
   "source": []
  },
  {
   "cell_type": "code",
   "execution_count": null,
   "id": "e0bc0063",
   "metadata": {},
   "outputs": [],
   "source": []
  },
  {
   "cell_type": "code",
   "execution_count": 10,
   "id": "7bd99c0a",
   "metadata": {},
   "outputs": [
    {
     "name": "stdout",
     "output_type": "stream",
     "text": [
      "Hello world!\u0000\u0000\u0000\u0000\n"
     ]
    }
   ],
   "source": [
    "val stream = File(\"data.txt\").inputStream()\n",
    "val bytes = ByteArray(16)\n",
    "stream.read(bytes)\n",
    "stream.close()\n",
    "println(bytes.toString(Charsets.UTF_8))"
   ]
  },
  {
   "cell_type": "code",
   "execution_count": 11,
   "id": "ef50bbba",
   "metadata": {},
   "outputs": [],
   "source": [
    "File(\"data.txt\").writeText(\"Hello world!\")"
   ]
  },
  {
   "cell_type": "code",
   "execution_count": 12,
   "id": "88cda28d",
   "metadata": {},
   "outputs": [
    {
     "name": "stdout",
     "output_type": "stream",
     "text": [
      "Hello world!\n"
     ]
    }
   ],
   "source": [
    "File(\"data.txt\").forEachLine(Charsets.UTF_8) { println(it) }"
   ]
  },
  {
   "cell_type": "code",
   "execution_count": null,
   "id": "5b95b358",
   "metadata": {},
   "outputs": [],
   "source": []
  },
  {
   "cell_type": "code",
   "execution_count": 13,
   "id": "0ba1a9f5",
   "metadata": {},
   "outputs": [
    {
     "name": "stdout",
     "output_type": "stream",
     "text": [
      "가나다라마바사\n"
     ]
    }
   ],
   "source": [
    "var someFile = File(\"some-file.txt\")\n",
    "\n",
    "// 문자열을 앞서 지정한 경로에 파일로 저장, 저장시 캐릭터셋은 기본값인 UTF-8으로 저장\n",
    "// 이미 파일이 존재할 경우 덮어쓰기로 저장 // 파일이 아닌 디렉토리이거나 기타의 이유로 저장이 불가능할 경우 FileNotFoundException 발생\n",
    "try {\n",
    "    someFile.writeText(\"가나다라마바사\")\n",
    "} catch (e: Exception) {\n",
    "    println(\"FileNotFound: \")\n",
    "}\n",
    "\n",
    "// 저장시 캐릭터셋으로 EUC-KR을 명시하여 저장\n",
    "someFile.writeText(\"가나다라마바사\", Charsets.UTF_16)\n",
    "\n",
    "File(\"some-file.txt\").forEachLine(Charsets.UTF_16) { println(it) }"
   ]
  },
  {
   "cell_type": "code",
   "execution_count": 14,
   "id": "a318054c",
   "metadata": {},
   "outputs": [
    {
     "data": {
      "text/plain": [
       "가나다라마바사"
      ]
     },
     "execution_count": 14,
     "metadata": {},
     "output_type": "execute_result"
    }
   ],
   "source": [
    "someFile.readText(Charsets.UTF_16)"
   ]
  },
  {
   "cell_type": "code",
   "execution_count": null,
   "id": "acac4248",
   "metadata": {},
   "outputs": [],
   "source": []
  },
  {
   "cell_type": "code",
   "execution_count": null,
   "id": "df1a0f0f",
   "metadata": {},
   "outputs": [],
   "source": []
  },
  {
   "cell_type": "code",
   "execution_count": 16,
   "id": "3db1d099",
   "metadata": {},
   "outputs": [],
   "source": [
    "import java.io.File\n",
    "import java.nio.charset.Charset\n",
    "import kotlin.io.readBytes as kReadBytes\n",
    "import kotlin.io.writeBytes as kWriteBytes\n",
    "\n",
    "typealias Files = java.io.File\n",
    "val filePathSeparator by lazy { File.separatorChar }\n",
    "\n",
    "fun Files.readBytes() = kReadBytes()\n",
    "fun Files.readText() = readText(Charset.defaultCharset())\n",
    "fun Files.writeBytes(bytes: ByteArray) = kWriteBytes(bytes)\n",
    "fun Files.appendText(text: String) = appendText(text, Charset.defaultCharset())\n",
    "fun Files.writeText(text: String) = writeText(text, Charset.defaultCharset())"
   ]
  },
  {
   "cell_type": "code",
   "execution_count": 17,
   "id": "623b0036",
   "metadata": {},
   "outputs": [
    {
     "data": {
      "text/plain": [
       "[72, 101, 108, 108, 111, 32, 119, 111, 114, 108, 100, 33]"
      ]
     },
     "execution_count": 17,
     "metadata": {},
     "output_type": "execute_result"
    }
   ],
   "source": [
    "Files(\"data.txt\").readBytes()"
   ]
  },
  {
   "cell_type": "code",
   "execution_count": 18,
   "id": "2ec3ff45",
   "metadata": {},
   "outputs": [
    {
     "data": {
      "text/plain": [
       "Hello world!"
      ]
     },
     "execution_count": 18,
     "metadata": {},
     "output_type": "execute_result"
    }
   ],
   "source": [
    "Files(\"data.txt\").readText()"
   ]
  },
  {
   "cell_type": "code",
   "execution_count": null,
   "id": "ba6dd0f7",
   "metadata": {},
   "outputs": [],
   "source": []
  }
 ],
 "metadata": {
  "kernelspec": {
   "display_name": "Kotlin",
   "language": "kotlin",
   "name": "kotlin"
  },
  "language_info": {
   "codemirror_mode": "text/x-kotlin",
   "file_extension": ".kt",
   "mimetype": "text/x-kotlin",
   "name": "kotlin",
   "nbconvert_exporter": "",
   "pygments_lexer": "kotlin",
   "version": "1.7.0-dev-1825"
  }
 },
 "nbformat": 4,
 "nbformat_minor": 5
}
