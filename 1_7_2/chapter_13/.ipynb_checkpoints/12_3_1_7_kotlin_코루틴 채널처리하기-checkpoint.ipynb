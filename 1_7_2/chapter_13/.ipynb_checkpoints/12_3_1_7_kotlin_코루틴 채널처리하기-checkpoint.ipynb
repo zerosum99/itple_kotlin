{
 "cells": [
  {
   "cell_type": "markdown",
   "id": "3d177413",
   "metadata": {},
   "source": [
    "# 참조자료\n",
    "\n",
    "-  https://smartshk.tistory.com/19\n",
    "\n",
    "\n",
    "-  https://www.baeldung.com/kotlin/threads-coroutines"
   ]
  },
  {
   "cell_type": "markdown",
   "id": "9d727160",
   "metadata": {},
   "source": [
    "## 코루틴 모듈 올리기"
   ]
  },
  {
   "cell_type": "code",
   "execution_count": 1,
   "id": "786d1398",
   "metadata": {},
   "outputs": [],
   "source": [
    "@file:DependsOn(\"org.jetbrains.kotlinx:kotlinx-coroutines-core:1.6.1\")"
   ]
  },
  {
   "cell_type": "markdown",
   "id": "fdcbba4a",
   "metadata": {},
   "source": [
    "## 모듈 설치 확인하기"
   ]
  },
  {
   "cell_type": "code",
   "execution_count": 2,
   "id": "d1d12808",
   "metadata": {},
   "outputs": [
    {
     "data": {
      "text/plain": [
       "Current classpath (14 paths):\n",
       "/Users/dahlmoon/anaconda3/envs/kotlin/lib/python3.8/site-packages/run_kotlin_kernel/jars/lib-0.11.0-61.jar\n",
       "/Users/dahlmoon/anaconda3/envs/kotlin/lib/python3.8/site-packages/run_kotlin_kernel/jars/api-0.11.0-61.jar\n",
       "/Users/dahlmoon/anaconda3/envs/kotlin/lib/python3.8/site-packages/run_kotlin_kernel/jars/kotlin-script-runtime-1.7.0-dev-1825.jar\n",
       "/Users/dahlmoon/anaconda3/envs/kotlin/lib/python3.8/site-packages/run_kotlin_kernel/jars/kotlin-reflect-1.6.0.jar\n",
       "/Users/dahlmoon/anaconda3/envs/kotlin/lib/python3.8/site-packages/run_kotlin_kernel/jars/kotlin-stdlib-1.6.0.jar\n",
       "/Users/dahlmoon/anaconda3/envs/kotlin/lib/python3.8/site-packages/run_kotlin_kernel/jars/annotations-13.0.jar\n",
       "/Users/dahlmoon/anaconda3/envs/kotlin/lib/python3.8/site-packages/run_kotlin_kernel/jars/kotlin-stdlib-common-1.6.0.jar\n",
       "/Users/dahlmoon/.m2/repository/org/jetbrains/kotlinx/kotlinx-coroutines-core/1.6.1/kotlinx-coroutines-core-1.6.1.jar\n",
       "/Users/dahlmoon/.m2/repository/org/jetbrains/kotlinx/kotlinx-coroutines-core-jvm/1.6.1/kotlinx-coroutines-core-jvm-1.6.1.jar\n",
       "/Users/dahlmoon/.m2/repository/org/jetbrains/kotlin/kotlin-stdlib-jdk8/1.6.0/kotlin-stdlib-jdk8-1.6.0.jar\n",
       "/Users/dahlmoon/.m2/repository/org/jetbrains/kotlin/kotlin-stdlib/1.6.0/kotlin-stdlib-1.6.0.jar\n",
       "/Users/dahlmoon/.m2/repository/org/jetbrains/annotations/13.0/annotations-13.0.jar\n",
       "/Users/dahlmoon/.m2/repository/org/jetbrains/kotlin/kotlin-stdlib-jdk7/1.6.0/kotlin-stdlib-jdk7-1.6.0.jar\n",
       "/Users/dahlmoon/.m2/repository/org/jetbrains/kotlin/kotlin-stdlib-common/1.6.0/kotlin-stdlib-common-1.6.0.jar"
      ]
     },
     "execution_count": 2,
     "metadata": {},
     "output_type": "execute_result"
    }
   ],
   "source": [
    ":classpath"
   ]
  },
  {
   "cell_type": "code",
   "execution_count": null,
   "id": "b153ceea",
   "metadata": {},
   "outputs": [],
   "source": []
  },
  {
   "cell_type": "markdown",
   "id": "ffd726b5",
   "metadata": {},
   "source": [
    "## 코루틴 모듈확인하기"
   ]
  },
  {
   "cell_type": "code",
   "execution_count": 3,
   "id": "95867810",
   "metadata": {},
   "outputs": [],
   "source": [
    "import kotlinx.coroutines.*\n",
    "import kotlinx.coroutines.channels.*"
   ]
  },
  {
   "cell_type": "code",
   "execution_count": null,
   "id": "64e6473e",
   "metadata": {},
   "outputs": [],
   "source": []
  },
  {
   "cell_type": "code",
   "execution_count": 4,
   "id": "f0e4c1ea",
   "metadata": {},
   "outputs": [
    {
     "name": "stdout",
     "output_type": "stream",
     "text": [
      "1\n",
      "4\n",
      "9\n",
      "16\n",
      "25\n",
      "Done!\n"
     ]
    }
   ],
   "source": [
    "fun main() {\n",
    "    runBlocking {\n",
    "        val chan = Channel<Int>()\n",
    "        launch {\n",
    "            for (x in 1..5) chan.send(x * x)  // 값을 보냄\n",
    "        }\n",
    "        repeat(5) { println(chan.receive()) } // 값을 받음\n",
    "        println(\"Done!\")\n",
    "    }\n",
    "}\n",
    "main()"
   ]
  },
  {
   "cell_type": "code",
   "execution_count": null,
   "id": "9d1f3ee3",
   "metadata": {},
   "outputs": [],
   "source": []
  },
  {
   "cell_type": "code",
   "execution_count": 5,
   "id": "f133a4b1",
   "metadata": {},
   "outputs": [],
   "source": [
    "fun main() {\n",
    "    runBlocking {\n",
    "\n",
    "        val channel = Channel<Int>()\n",
    "        launch {\n",
    "            for (x in 1..5) channel.send(x * x)\n",
    "            channel.close() // 더 보낼 값이 없음, close\n",
    "        }\n",
    "        // range-based for\n",
    "        for (y in channel) println(y)\n",
    "            println(\"Done!\")\n",
    "    }\n",
    "}"
   ]
  },
  {
   "cell_type": "code",
   "execution_count": 6,
   "id": "4f8ca63f",
   "metadata": {},
   "outputs": [
    {
     "name": "stdout",
     "output_type": "stream",
     "text": [
      "1\n",
      "4\n",
      "9\n",
      "16\n",
      "25\n",
      "Done!\n"
     ]
    }
   ],
   "source": [
    "main()"
   ]
  },
  {
   "cell_type": "code",
   "execution_count": null,
   "id": "2c33187a",
   "metadata": {},
   "outputs": [],
   "source": []
  },
  {
   "cell_type": "code",
   "execution_count": 7,
   "id": "fb069980",
   "metadata": {},
   "outputs": [],
   "source": [
    "\n",
    "fun from_ont_to_another() {\n",
    "    runBlocking {\n",
    "        // given\n",
    "        val channel = Channel<String>()\n",
    "\n",
    "        // when\n",
    "        launch { // coroutine1\n",
    "            channel.send(\"Hello World!\")\n",
    "        }\n",
    "        val result = async { // coroutine2\n",
    "            channel.receive()\n",
    "        }\n",
    "\n",
    "        \n",
    "        println(result.await())\n",
    "        println(result.await() == \"Hello World!\")\n",
    "    }\n",
    "}"
   ]
  },
  {
   "cell_type": "code",
   "execution_count": 8,
   "id": "a3ea1602",
   "metadata": {},
   "outputs": [
    {
     "name": "stdout",
     "output_type": "stream",
     "text": [
      "Hello World!\n",
      "true\n"
     ]
    }
   ],
   "source": [
    "from_ont_to_another()"
   ]
  },
  {
   "cell_type": "code",
   "execution_count": null,
   "id": "0a9cf894",
   "metadata": {},
   "outputs": [],
   "source": []
  },
  {
   "cell_type": "code",
   "execution_count": 9,
   "id": "561b634f",
   "metadata": {},
   "outputs": [],
   "source": [
    "fun Rendezvous_Channel() {\n",
    "    \n",
    "    runBlocking {\n",
    "        val basket = Channel<String>()\n",
    "\n",
    "        launch { // coroutine1\n",
    "            val fruits = listOf(\"Apple\", \"Orange\")\n",
    "            for (fruit in fruits) {\n",
    "                println(\"송신1 코루틴 : $fruit\")\n",
    "                basket.send(fruit)\n",
    "            }\n",
    "            for (fruit in fruits) {\n",
    "                println(\"송신2 코루틴 : $fruit\")\n",
    "                basket.send(fruit)\n",
    "            }\n",
    "            \n",
    "            basket.close()\n",
    "        }\n",
    "\n",
    "        launch { // coroutine2\n",
    "            repeat(4) {                         // 범위 벗어나면 예외 처리\n",
    "                delay(100)\n",
    "                println(\"수신 코루틴 : ${basket.receive()}\")\n",
    "            }\n",
    "        }\n",
    "    }\n",
    "}"
   ]
  },
  {
   "cell_type": "code",
   "execution_count": 10,
   "id": "976a524f",
   "metadata": {},
   "outputs": [
    {
     "name": "stdout",
     "output_type": "stream",
     "text": [
      "송신1 코루틴 : Apple\n",
      "수신 코루틴 : Apple\n",
      "송신1 코루틴 : Orange\n",
      "수신 코루틴 : Orange\n",
      "송신2 코루틴 : Apple\n",
      "수신 코루틴 : Apple\n",
      "송신2 코루틴 : Orange\n",
      "수신 코루틴 : Orange\n"
     ]
    }
   ],
   "source": [
    "Rendezvous_Channel()"
   ]
  },
  {
   "cell_type": "code",
   "execution_count": null,
   "id": "4f098302",
   "metadata": {},
   "outputs": [],
   "source": []
  },
  {
   "cell_type": "code",
   "execution_count": 11,
   "id": "25f3f940",
   "metadata": {},
   "outputs": [],
   "source": [
    "fun buffer_Channel() {\n",
    "    \n",
    "    runBlocking {\n",
    "         val basket = Channel<String>(1)\n",
    "\n",
    "        launch { // coroutine1\n",
    "            val fruits = listOf(\"Apple\", \"Orange\", \"Banana\")\n",
    "            for (fruit in fruits) {\n",
    "                println(\" 송신 : $fruit\")\n",
    "                basket.send(fruit)\n",
    "            }\n",
    "        }\n",
    "\n",
    "        launch { // coroutine2\n",
    "            repeat(3) {\n",
    "                delay(100)\n",
    "                println(\" 수신 : ${basket.receive()}\")\n",
    "            }\n",
    "        }  \n",
    "    }\n",
    "}"
   ]
  },
  {
   "cell_type": "code",
   "execution_count": 12,
   "id": "797ea999",
   "metadata": {},
   "outputs": [
    {
     "name": "stdout",
     "output_type": "stream",
     "text": [
      " 송신 : Apple\n",
      " 송신 : Orange\n",
      " 수신 : Apple\n",
      " 송신 : Banana\n",
      " 수신 : Orange\n",
      " 수신 : Banana\n"
     ]
    }
   ],
   "source": [
    " buffer_Channel()"
   ]
  },
  {
   "cell_type": "code",
   "execution_count": null,
   "id": "d5e623bf",
   "metadata": {},
   "outputs": [],
   "source": []
  },
  {
   "cell_type": "code",
   "execution_count": 13,
   "id": "6ab3a02b",
   "metadata": {},
   "outputs": [],
   "source": [
    "fun unlimited_Channel() {\n",
    "    \n",
    "    runBlocking {\n",
    "        val channel = Channel<Int>(Channel.UNLIMITED)\n",
    "\n",
    "        launch { // coroutine1\n",
    "            repeat(5) {\n",
    "                println(\" 송신 :  $it\")\n",
    "                channel.send(it)\n",
    "            }\n",
    "        }\n",
    "\n",
    "        launch { // coroutine2\n",
    "            repeat(5) {\n",
    "                println(\" 수신 :  ${channel.receive()}\")\n",
    "            }\n",
    "        }\n",
    "    }\n",
    "}"
   ]
  },
  {
   "cell_type": "code",
   "execution_count": 14,
   "id": "24372419",
   "metadata": {},
   "outputs": [
    {
     "name": "stdout",
     "output_type": "stream",
     "text": [
      " 송신 :  0\n",
      " 송신 :  1\n",
      " 송신 :  2\n",
      " 송신 :  3\n",
      " 송신 :  4\n",
      " 수신 :  0\n",
      " 수신 :  1\n",
      " 수신 :  2\n",
      " 수신 :  3\n",
      " 수신 :  4\n"
     ]
    }
   ],
   "source": [
    "unlimited_Channel()"
   ]
  },
  {
   "cell_type": "code",
   "execution_count": null,
   "id": "5d5ebdaa",
   "metadata": {},
   "outputs": [],
   "source": []
  },
  {
   "cell_type": "code",
   "execution_count": 15,
   "id": "7233d909",
   "metadata": {},
   "outputs": [],
   "source": [
    "fun conflated_channel() {\n",
    "    runBlocking {\n",
    "         val basket = Channel<String>(Channel.CONFLATED)\n",
    "\n",
    "        launch { // coroutine1\n",
    "            val fruits = listOf(\"Apple\", \"Orange\", \"Banana\")\n",
    "            for (fruit in fruits) {\n",
    "                println(\" 송신 : $fruit\")\n",
    "                basket.send(fruit)\n",
    "            }\n",
    "        }\n",
    "\n",
    "        launch { // coroutine2\n",
    "            println(\" 수신 : ${basket.receive()}\")\n",
    "        }\n",
    "    }\n",
    "}"
   ]
  },
  {
   "cell_type": "code",
   "execution_count": 16,
   "id": "1136b54c",
   "metadata": {},
   "outputs": [
    {
     "name": "stdout",
     "output_type": "stream",
     "text": [
      " 송신 : Apple\n",
      " 송신 : Orange\n",
      " 송신 : Banana\n",
      " 수신 : Banana\n"
     ]
    }
   ],
   "source": [
    "conflated_channel()"
   ]
  },
  {
   "cell_type": "code",
   "execution_count": null,
   "id": "21acb085",
   "metadata": {},
   "outputs": [],
   "source": []
  },
  {
   "cell_type": "markdown",
   "id": "5ae1db42",
   "metadata": {},
   "source": [
    "## Producer-Consumer 패턴\n",
    "\n",
    "\n",
    "- produce 코루틴 빌더와 consumeEach 함수를 사용하여 이 패턴을 정확히 구현할 수 있다.\n",
    "\n",
    "- 두 함수를 사용하면 Channel 객체를 명시적으로 만들지 않아도 된다."
   ]
  },
  {
   "cell_type": "code",
   "execution_count": 17,
   "id": "ef5fdc79",
   "metadata": {},
   "outputs": [
    {
     "name": "stdout",
     "output_type": "stream",
     "text": [
      "1\n",
      "4\n",
      "9\n",
      "16\n",
      "25\n",
      "Done!\n"
     ]
    }
   ],
   "source": [
    "fun CoroutineScope.produceSquares() = produce {      // 코뤁틴스코프 내의 확장함수 생성 \n",
    "    for (x in 1..5) {\n",
    "        send(x * x)           // 값을 하나씩 produce\n",
    "    }\n",
    "}\n",
    "\n",
    "fun main() = runBlocking {\n",
    "    val squares = produceSquares()         // 함수 실행 \n",
    "    squares.consumeEach { println(it) }   // 값을 하나씩 consume\n",
    "    println(\"Done!\")\n",
    "}\n",
    "\n",
    "main()"
   ]
  },
  {
   "cell_type": "code",
   "execution_count": null,
   "id": "f3453a6f",
   "metadata": {},
   "outputs": [],
   "source": []
  },
  {
   "cell_type": "code",
   "execution_count": 18,
   "id": "cdb51381",
   "metadata": {},
   "outputs": [],
   "source": [
    "fun CoroutineScope.producePizzaOrders(): ReceiveChannel<String> = produce {\n",
    "    var x = 1\n",
    "    while (true) {\n",
    "        send(\"Pizza Order No. ${x++}\")\n",
    "        delay(100)\n",
    "    }\n",
    "}\n",
    "\n",
    "fun CoroutineScope.pizzaOrderProcessor(id: Int, orders: ReceiveChannel<String>) = launch {\n",
    "    for (order in orders) {\n",
    "        println(\"Processor #$id is processing $order\")\n",
    "    }\n",
    "}\n",
    "\n",
    "fun main() = runBlocking {\n",
    "    val pizzaOrders = producePizzaOrders()\n",
    "    repeat(3) {\n",
    "        pizzaOrderProcessor(it + 1, pizzaOrders)\n",
    "    }\n",
    "\n",
    "    delay(1000)\n",
    "    pizzaOrders.cancel()\n",
    "}"
   ]
  },
  {
   "cell_type": "code",
   "execution_count": 19,
   "id": "bd9fd2e0",
   "metadata": {},
   "outputs": [
    {
     "name": "stdout",
     "output_type": "stream",
     "text": [
      "Processor #1 is processing Pizza Order No. 1\n",
      "Processor #1 is processing Pizza Order No. 2\n",
      "Processor #2 is processing Pizza Order No. 3\n",
      "Processor #3 is processing Pizza Order No. 4\n",
      "Processor #1 is processing Pizza Order No. 5\n",
      "Processor #2 is processing Pizza Order No. 6\n",
      "Processor #3 is processing Pizza Order No. 7\n",
      "Processor #1 is processing Pizza Order No. 8\n",
      "Processor #2 is processing Pizza Order No. 9\n",
      "Processor #3 is processing Pizza Order No. 10\n"
     ]
    }
   ],
   "source": [
    "main()"
   ]
  },
  {
   "cell_type": "code",
   "execution_count": null,
   "id": "e93bafac",
   "metadata": {},
   "outputs": [],
   "source": []
  },
  {
   "cell_type": "code",
   "execution_count": 20,
   "id": "7bc4a0a7",
   "metadata": {},
   "outputs": [],
   "source": [
    "suspend fun fetchTweets(channel: SendChannel<String>) {\n",
    "    val tweets = listOf(\"tweet: Earth is round\", \"tweet: Coroutines and channels are cool\")\n",
    "    for (tweet in tweets) {\n",
    "        delay(100)\n",
    "        channel.send(tweet)\n",
    "    }\n",
    "}\n",
    "\n",
    "suspend fun fetchYoutubeVideos(channel: SendChannel<String>) {\n",
    "    val videos = listOf(\"cat video\", \"food video\")\n",
    "    for (video in videos) {\n",
    "        delay(100)\n",
    "        channel.send(video)\n",
    "    }\n",
    "}\n",
    "\n",
    "fun main() = runBlocking {\n",
    "    val aggregate = Channel<String>()\n",
    "    launch { fetchYoutubeVideos(aggregate) }\n",
    "    launch { fetchTweets(aggregate) }\n",
    "\n",
    "    repeat(4) {\n",
    "        println(aggregate.receive())\n",
    "    }\n",
    "\n",
    "    coroutineContext.cancelChildren()\n",
    "}"
   ]
  },
  {
   "cell_type": "code",
   "execution_count": 21,
   "id": "2e5fe48b",
   "metadata": {},
   "outputs": [
    {
     "name": "stdout",
     "output_type": "stream",
     "text": [
      "cat video\n",
      "tweet: Earth is round\n",
      "food video\n",
      "tweet: Coroutines and channels are cool\n"
     ]
    }
   ],
   "source": [
    "main()"
   ]
  },
  {
   "cell_type": "code",
   "execution_count": null,
   "id": "1d37bc89",
   "metadata": {},
   "outputs": [],
   "source": []
  },
  {
   "cell_type": "markdown",
   "id": "2189fedc",
   "metadata": {},
   "source": [
    "## 파이프라인\n",
    "파이프라인이란 유한 또는 무한 개의 값을 만드는 코루틴을 의미한다."
   ]
  },
  {
   "cell_type": "code",
   "execution_count": null,
   "id": "07ecce18",
   "metadata": {},
   "outputs": [],
   "source": []
  },
  {
   "cell_type": "code",
   "execution_count": 22,
   "id": "66803064",
   "metadata": {},
   "outputs": [
    {
     "name": "stdout",
     "output_type": "stream",
     "text": [
      "1\n",
      "4\n",
      "9\n",
      "16\n",
      "25\n",
      "Done!\n"
     ]
    }
   ],
   "source": [
    "fun CoroutineScope.produceNumbers() = produce<Int> {\n",
    "    var x = 1\n",
    "    while (true) send(x++) // 1부터 시작하여 모든 자연수를 produce\n",
    "}\n",
    "\n",
    "fun CoroutineScope.square(numbers: ReceiveChannel<Int>): \n",
    "                                    ReceiveChannel<Int> = produce {\n",
    "    for (x in numbers) send(x * x) // 주어진 수의 제곱을 produce\n",
    "}\n",
    "\n",
    "fun main() = runBlocking {\n",
    "    val numbers = produceNumbers()   \n",
    "    val squares = square(numbers)    \n",
    "    repeat(5) {\n",
    "        println(squares.receive())    // 처음 5개만 출력\n",
    "    }\n",
    "    println(\"Done!\") \n",
    "    coroutineContext.cancelChildren() // 파이프라인 중단\n",
    "}\n",
    "\n",
    "main()"
   ]
  },
  {
   "cell_type": "code",
   "execution_count": null,
   "id": "550d339e",
   "metadata": {},
   "outputs": [],
   "source": []
  },
  {
   "cell_type": "code",
   "execution_count": null,
   "id": "39ea9ea3",
   "metadata": {},
   "outputs": [],
   "source": []
  },
  {
   "cell_type": "code",
   "execution_count": null,
   "id": "7fea59a1",
   "metadata": {},
   "outputs": [],
   "source": []
  },
  {
   "cell_type": "code",
   "execution_count": null,
   "id": "d63e2e90",
   "metadata": {},
   "outputs": [],
   "source": []
  },
  {
   "cell_type": "markdown",
   "id": "1313678b",
   "metadata": {},
   "source": [
    "## actor() - SendChannel<E> 반환\n",
    "\n",
    "     : 채널을 통해 코루틴 블럭(Scope)와 외부에서 통신을 통해 전송 / 처리의 루틴을 실행하는 빌더이다.\n",
    "\n",
    "       actor 빌더는 SendChannel<E>를 반환, Send채널을 통해 actor()블록으로 채널을 통해 전송을 할 수 있다. \n",
    "\n",
    "       즉, actor{} 블록 내부는 수신자(Receiver)가 되고 / 반환된 SendChannel이 송신자(Sender)라고 보면 된다\n",
    "\n",
    " \n",
    "\n",
    "\n",
    "\n"
   ]
  },
  {
   "cell_type": "code",
   "execution_count": 23,
   "id": "1119cdeb",
   "metadata": {},
   "outputs": [],
   "source": [
    "import kotlinx.coroutines.*\n",
    "import kotlinx.coroutines.channels.actor\n",
    "import kotlin.system.measureTimeMillis"
   ]
  },
  {
   "cell_type": "code",
   "execution_count": 24,
   "id": "34c53d1a",
   "metadata": {},
   "outputs": [
    {
     "name": "stdout",
     "output_type": "stream",
     "text": [
      "송신한 메시지 : 0\n",
      "수신받은 메시지 : 0\n",
      "송신한 메시지 : 1\n",
      "수신받은 메시지 : 1\n",
      "송신한 메시지 : 2\n",
      "수신받은 메시지 : 2\n",
      "result 3\n"
     ]
    },
    {
     "data": {
      "text/plain": [
       "true"
      ]
     },
     "execution_count": 24,
     "metadata": {},
     "output_type": "execute_result"
    }
   ],
   "source": [
    "                                                   // actor{} 빌더는 SendChannel을 반환\n",
    "fun CoroutineScope.basicActor() = actor<Int> {\n",
    "    var count = 0                                  // actor 로컬 변수\n",
    "    for (msg in channel) {                         // channel을 순회하는 For-loop문\n",
    "        count++                                    // 수신마다 count 로컬변수 값 증가\n",
    "        println(\"수신받은 메시지 : $msg\")              // 수신마다  출력\n",
    "    }\n",
    "                                                   // channel이 닫히고 for-loop문을 벗어나면 출력\n",
    "    println(\"result $count\")\n",
    "    \n",
    "}\n",
    "\n",
    "                                                   // 0.5초 딜레이를 갖고 3번 채널에 send(송신) 반복\n",
    "runBlocking { \n",
    "    val channel = basicActor()\n",
    "    repeat(3) {\n",
    "        delay(500)\n",
    "        println(\"송신한 메시지 : $it\")\n",
    "        channel.send(it)\n",
    "    }\n",
    "\n",
    "    channel.close()                            // close() 채널닫기 호출 시 채널을 통해 특별한 Close토큰을 전송\n",
    "}"
   ]
  },
  {
   "cell_type": "code",
   "execution_count": null,
   "id": "9f9b5d1f",
   "metadata": {},
   "outputs": [],
   "source": []
  },
  {
   "cell_type": "code",
   "execution_count": null,
   "id": "5c81a7cc",
   "metadata": {},
   "outputs": [],
   "source": []
  },
  {
   "cell_type": "code",
   "execution_count": null,
   "id": "f0c30534",
   "metadata": {},
   "outputs": [],
   "source": []
  },
  {
   "cell_type": "code",
   "execution_count": null,
   "id": "f0b85413",
   "metadata": {},
   "outputs": [],
   "source": []
  },
  {
   "cell_type": "code",
   "execution_count": null,
   "id": "438f759d",
   "metadata": {},
   "outputs": [],
   "source": []
  },
  {
   "cell_type": "markdown",
   "id": "5f6ab4f5",
   "metadata": {},
   "source": [
    "## produce() - ReceiveChannel<E> 반환\n",
    "\n",
    "     : produce도 actor와 같이 채널을 통해 전송 / 처리 루틴을 실행하는 빌더이다.\n",
    "\n",
    "       actor와 다른 점은 produce()빌더는 ReceiveChannel<E>를 반환한다.\n",
    "\n",
    "       즉, produce{} 블록 내부는 송신자(Sender)가 되고 / 반환된 ReceiveChannel이 수신자(Receiver)가 된다"
   ]
  },
  {
   "cell_type": "code",
   "execution_count": null,
   "id": "78b91273",
   "metadata": {},
   "outputs": [],
   "source": []
  },
  {
   "cell_type": "code",
   "execution_count": 25,
   "id": "2fa3fa31",
   "metadata": {},
   "outputs": [],
   "source": [
    "fun CoroutineScope.produceSquares(): ReceiveChannel<Int> = produce {\n",
    "                                                // 1~10까지 배수의 값을 전달\n",
    "    for (i in 1..10) send(i * i)\n",
    "}\n",
    "\n",
    "fun main() = runBlocking {\n",
    "                                   // ReceiverChannel<Int> 인스턴스 반환, squares == ReceiverChannel\n",
    "    val squares = produceSquares()\n",
    "    \n",
    "                                             // for-loop문 역할을 하는 학장함수(consumeEach 사용)\n",
    "    squares.consumeEach { println(it) }      // 채널을 통해 받은 값 출력\n",
    "    println(\"Suqares running Done!\")\n",
    "}"
   ]
  },
  {
   "cell_type": "code",
   "execution_count": 26,
   "id": "93b5c231",
   "metadata": {},
   "outputs": [
    {
     "name": "stdout",
     "output_type": "stream",
     "text": [
      "1\n",
      "4\n",
      "9\n",
      "16\n",
      "25\n",
      "36\n",
      "49\n",
      "64\n",
      "81\n",
      "100\n",
      "Suqares running Done!\n"
     ]
    }
   ],
   "source": [
    "main()"
   ]
  },
  {
   "cell_type": "code",
   "execution_count": null,
   "id": "c385dd6f",
   "metadata": {},
   "outputs": [],
   "source": []
  },
  {
   "cell_type": "code",
   "execution_count": null,
   "id": "00c3fe55",
   "metadata": {},
   "outputs": [],
   "source": []
  },
  {
   "cell_type": "code",
   "execution_count": null,
   "id": "3ed0177d",
   "metadata": {},
   "outputs": [],
   "source": []
  },
  {
   "cell_type": "code",
   "execution_count": null,
   "id": "195071c4",
   "metadata": {},
   "outputs": [],
   "source": []
  },
  {
   "cell_type": "code",
   "execution_count": null,
   "id": "d2e101d4",
   "metadata": {},
   "outputs": [],
   "source": []
  },
  {
   "cell_type": "code",
   "execution_count": null,
   "id": "a54ebe86",
   "metadata": {},
   "outputs": [],
   "source": []
  }
 ],
 "metadata": {
  "kernelspec": {
   "display_name": "Kotlin",
   "language": "kotlin",
   "name": "kotlin"
  },
  "language_info": {
   "codemirror_mode": "text/x-kotlin",
   "file_extension": ".kt",
   "mimetype": "text/x-kotlin",
   "name": "kotlin",
   "nbconvert_exporter": "",
   "pygments_lexer": "kotlin",
   "version": "1.7.0-dev-1825"
  }
 },
 "nbformat": 4,
 "nbformat_minor": 5
}
