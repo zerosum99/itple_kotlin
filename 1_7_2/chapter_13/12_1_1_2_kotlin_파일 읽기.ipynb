{
 "cells": [
  {
   "cell_type": "code",
   "execution_count": null,
   "id": "4e723274",
   "metadata": {},
   "outputs": [],
   "source": []
  },
  {
   "cell_type": "markdown",
   "id": "3717ae7b",
   "metadata": {},
   "source": [
    "## 파일 처리 클래스 상속관계 알아보기"
   ]
  },
  {
   "cell_type": "code",
   "execution_count": 1,
   "id": "033c3d36",
   "metadata": {},
   "outputs": [
    {
     "name": "stdout",
     "output_type": "stream",
     "text": [
      "[java.io.InputStream]\n",
      "[java.io.InputStreamReader]\n",
      "[java.io.Reader]\n",
      "[java.io.Reader]\n",
      "[java.lang.Readable, java.io.Closeable, kotlin.Any]\n",
      "[java.io.Serializable, kotlin.Comparable<java.io.File!>, kotlin.Any]\n"
     ]
    }
   ],
   "source": [
    "import java.io.*                           // 파일을 스트림으로 입력\n",
    "\n",
    "val a = FileInputStream::class             // 파일 입력스트림            \n",
    "val b = FileReader::class                  // 파일 리더\n",
    "val c = BufferedReader::class              // 버퍼 리더\n",
    "val d = InputStreamReader::class           // 입력스트립 리더\n",
    "val e = Reader::class                      // 리더 \n",
    "val f = File::class                        // 파일\n",
    "\n",
    "println(a.supertypes)                      // 수퍼 클래스 확인\n",
    "println(b.supertypes)\n",
    "println(c.supertypes)\n",
    "println(d.supertypes)\n",
    "println(e.supertypes)\n",
    "println(f.supertypes)"
   ]
  },
  {
   "cell_type": "code",
   "execution_count": null,
   "id": "7e7070ef",
   "metadata": {},
   "outputs": [],
   "source": []
  },
  {
   "cell_type": "markdown",
   "id": "b099ad17",
   "metadata": {},
   "source": [
    "## 파일 스트림으로 처리 "
   ]
  },
  {
   "cell_type": "code",
   "execution_count": 2,
   "id": "a38c0aab",
   "metadata": {},
   "outputs": [
    {
     "name": "stdout",
     "output_type": "stream",
     "text": [
      "바이트 하나 읽기 : 72, H\n",
      "데이터 자료형 확인 : class kotlin.Int\n",
      "Hello world!"
     ]
    }
   ],
   "source": [
    "import java.io.FileInputStream                         // 파일을 스트림으로 입력\n",
    "import java.io.FileOutputStream                        // 파일을 스트림으로 출력\n",
    "\n",
    "val fin = FileInputStream(\"./data.txt\")                // 파일을 읽기\n",
    "var fout = FileOutputStream(\"./dataout.txt\")           // 파일을 쓰기\n",
    "\n",
    "var data = fin.read()                                  // 파일의 데이터 하나 읽기\n",
    "println(\"바이트 하나 읽기 : ${data}, ${data.toChar()}\")    // 하나의 바이트로 처리 \n",
    "println(\"데이터 자료형 확인 : ${data.javaClass.kotlin}\") \n",
    "\n",
    "while (data != -1) {                                   // 순환하기\n",
    "    fout.write(data)                                   // 파일을 쓰기\n",
    "    data =  fin.read()                                 // 파일을 다시 읽기\n",
    "}\n",
    "\n",
    "fin.close()                                            // 파일 닫기 \n",
    "fout.close()                                           // 파일 닫기\n",
    "\n",
    "val fin1 = FileInputStream(\"./dataout.txt\")            // 저장된 파일 읽기 \n",
    "var data1 =  fin1.read()                               // 파일을 하나씩 읽기\n",
    "while (data1 != -1) {                                  // 순환 처리\n",
    "    print(data1.toChar())                              // 정수를 문자로 변환\n",
    "    data1 =  fin1.read()                               // 파일 읽기\n",
    "}\n",
    "\n",
    "fin1.close()                                           // 파일 닫기"
   ]
  },
  {
   "cell_type": "code",
   "execution_count": null,
   "id": "6d3edad0",
   "metadata": {},
   "outputs": [],
   "source": []
  },
  {
   "cell_type": "markdown",
   "id": "afc7ad2c",
   "metadata": {},
   "source": [
    "## 파일스트림 처리 : 버퍼사용하기 "
   ]
  },
  {
   "cell_type": "code",
   "execution_count": 3,
   "id": "7d972d82",
   "metadata": {},
   "outputs": [
    {
     "name": "stdout",
     "output_type": "stream",
     "text": [
      "[코틀린세상, 안드로이드, 스프링]\n",
      "코틀린세상\n",
      "안드로이드\n",
      "스프링\n",
      "class java.lang.String\n",
      "코틀린세상\n",
      "안드로이드\n",
      "스프링\n",
      "\n",
      ">  코틀린세상>  안드로이드>  스프링\n"
     ]
    }
   ],
   "source": [
    "import java.io.File                                          // 파일 처리\n",
    "import java.io.InputStream                                   // 스트림 처리\n",
    "import java.io.BufferedReader                                // 버퍼 처리\n",
    "                                                             // \n",
    "val inputStream: InputStream = File(\"test.txt\")              // 파일을 읽고\n",
    "                               .inputStream()                // 파일을 스트림으로 변환 \n",
    "val inputString = inputStream                                // 스트림을 가지고                        \n",
    "                 .bufferedReader()                           // 버퍼로 변환 \n",
    "                 .use { it.readLines() }                     // use로 텍스트로 처리 \n",
    "println(inputString)                                         // 배열로 처리\n",
    "\n",
    "inputString.forEach {println(it)}                            // 내부 순환으로 처리\n",
    "\n",
    "val fl = File(\"test.txt\").bufferedReader()                   // 바로 버퍼로 변환 \n",
    "                 .use { it.readText() }                      // 파일을 모든 텍스트 읽음\n",
    "println(fl.javaClass)                                        // 문자열로 처리    \n",
    "println(fl)\n",
    "\n",
    "val inputStream1 = File(\"test.txt\").inputStream()            // 스트림을 다시 사용하려면 재성성 \n",
    "val lineList1 = mutableListOf<String>()                      // 리스트 하나 만들기 \n",
    "inputStream1.bufferedReader()                                // 버퍼로 만들고 전체를 리스트에 넣기\n",
    "           .useLines { lines -> lines.forEach { lineList1.add(it)} }  //useLines 처리\n",
    "                                                             // 리스트에 저장하기\n",
    "lineList1.forEach{print(\">  \" + it)}                         // 리스트 내의 원소 출력하기\n",
    "println()"
   ]
  },
  {
   "cell_type": "code",
   "execution_count": null,
   "id": "b1941775",
   "metadata": {},
   "outputs": [],
   "source": []
  },
  {
   "cell_type": "markdown",
   "id": "ff60457e",
   "metadata": {},
   "source": [
    "## 파일을 텍스트로 읽기"
   ]
  },
  {
   "cell_type": "code",
   "execution_count": 4,
   "id": "4da3fee1",
   "metadata": {},
   "outputs": [
    {
     "name": "stdout",
     "output_type": "stream",
     "text": [
      "코틀린세상\n",
      "안드로이드\n",
      "스프링\n",
      "0: 코틀린세상\n",
      "1: 안드로이드\n",
      "2: 스프링\n",
      "코틀린세상\n",
      "안드로이드\n",
      "스프링\n",
      "\n",
      "코틀린세상\n",
      "안드로이드\n",
      "스프링\n",
      "\n"
     ]
    }
   ],
   "source": [
    "import java.io.File                                           // 파일 처리 \n",
    "import java.io.InputStream                                    // 스트림처리\n",
    "import java.nio.charset.Charset                               // 문자세트 지정 \n",
    "\n",
    "val fileName = \"test.txt\"\n",
    "val lines: List<String> = File(fileName).readLines()          // 파일을 라인으로 일기\n",
    "lines.forEach { line -> println(line) }                       // 내부 순환을 처리하면서 읽기 \n",
    "\n",
    "val myList = mutableListOf<String>()                          // 리스트 생성하기 \n",
    "File(fileName).useLines { lines -> myList.addAll(lines) }     // 전체 읽은 것을 저장하기 \n",
    "myList.forEachIndexed { i, line -> println(\"${i}: \" + line) } // 인덱스와 값일 읽고 출력하기\n",
    "\n",
    "var content = File(fileName).readText()                       // 파일을 직접 텍스트로 읽기\n",
    "println(content)\n",
    "\n",
    "val myFile = File(fileName)                                   // 파일 확인 \n",
    "var ins: InputStream = myFile.inputStream()                   // 스트림으로 처리 \n",
    "content = ins.readBytes().toString(Charset.defaultCharset())  // 바이트단위로 읽고 문자세트 표시\n",
    "println(content)"
   ]
  },
  {
   "cell_type": "code",
   "execution_count": null,
   "id": "ca4aa077",
   "metadata": {},
   "outputs": [],
   "source": []
  },
  {
   "cell_type": "code",
   "execution_count": null,
   "id": "76ccb612",
   "metadata": {},
   "outputs": [],
   "source": []
  },
  {
   "cell_type": "code",
   "execution_count": null,
   "id": "77a8e599",
   "metadata": {},
   "outputs": [],
   "source": []
  }
 ],
 "metadata": {
  "kernelspec": {
   "display_name": "Kotlin",
   "language": "kotlin",
   "name": "kotlin"
  },
  "language_info": {
   "codemirror_mode": "text/x-kotlin",
   "file_extension": ".kt",
   "mimetype": "text/x-kotlin",
   "name": "kotlin",
   "nbconvert_exporter": "",
   "pygments_lexer": "kotlin",
   "version": "1.7.0-dev-1825"
  }
 },
 "nbformat": 4,
 "nbformat_minor": 5
}
