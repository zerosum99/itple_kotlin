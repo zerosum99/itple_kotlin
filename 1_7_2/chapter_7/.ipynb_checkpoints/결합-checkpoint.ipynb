{
 "cells": [
  {
   "cell_type": "code",
   "execution_count": null,
   "id": "4b2248d5",
   "metadata": {},
   "outputs": [],
   "source": []
  },
  {
   "cell_type": "code",
   "execution_count": 1,
   "id": "31b98c80",
   "metadata": {},
   "outputs": [],
   "source": [
    "class Address(val streetNum : Int ,\n",
    "              val city : String, \n",
    "              val state : String,\n",
    "              val country : String)\n",
    "\n"
   ]
  },
  {
   "cell_type": "code",
   "execution_count": 2,
   "id": "e631034e",
   "metadata": {},
   "outputs": [],
   "source": [
    "class Student(val rollNum : Int,\n",
    "              val studentName : String, \n",
    "              val studentAddr : Address) //Creating HAS-A relationship with Address class\n"
   ]
  },
  {
   "cell_type": "code",
   "execution_count": 4,
   "id": "dca28962",
   "metadata": {},
   "outputs": [],
   "source": [
    "class College(val collegeName : String,\n",
    "              val collegeAddr : Address )\n",
    "\n"
   ]
  },
  {
   "cell_type": "code",
   "execution_count": 12,
   "id": "a0771220",
   "metadata": {},
   "outputs": [],
   "source": [
    "class Staff(val employeeName : String,\n",
    "            val employeeAddr : Address)\n"
   ]
  },
  {
   "cell_type": "code",
   "execution_count": 13,
   "id": "37fc601f",
   "metadata": {},
   "outputs": [
    {
     "name": "stdout",
     "output_type": "stream",
     "text": [
      "서울대\n",
      "55\n",
      "관악구\n",
      "서울시\n",
      "대한민국\n",
      "123\n",
      "문찬주\n",
      "55\n",
      "동작구\n",
      "서울시\n",
      "대한민국\n",
      "문경욱\n",
      "55\n",
      "금천구\n",
      "서울시\n",
      "대한민국\n"
     ]
    }
   ],
   "source": [
    "val ad1 = Address(55, \"관악구\", \"서울시\", \"대한민국\")\n",
    "val ad2 = Address(55, \"금천구\", \"서울시\", \"대한민국\")\n",
    "val ad3 = Address(55, \"동작구\", \"서울시\", \"대한민국\")\n",
    "\n",
    "val obj1 = College(\"서울대\", ad1)\n",
    "val obj2 = StudentClass(123, \"문찬주\", ad3)\n",
    "val obj3 = Staff(\"문경욱\", ad2)\n",
    "\n",
    "println(obj1.collegeName)\n",
    "println(obj1.collegeAddr.streetNum)\n",
    "println(obj1.collegeAddr.city)\n",
    "println(obj1.collegeAddr.state)\n",
    "println(obj1.collegeAddr.country)\n",
    "\n",
    "println(obj2.rollNum)\n",
    "println(obj2.studentName)\n",
    "println(obj2.studentAddr.streetNum)\n",
    "println(obj2.studentAddr.city)\n",
    "println(obj2.studentAddr.state)\n",
    "println(obj2.studentAddr.country)\n",
    "\n",
    "println(obj3.employeeName)\n",
    "println(obj3.employeeAddr.streetNum)\n",
    "println(obj3.employeeAddr.city)\n",
    "println(obj3.employeeAddr.state)\n",
    "println(obj3.employeeAddr.country)\n"
   ]
  },
  {
   "cell_type": "code",
   "execution_count": null,
   "id": "f043d3c4",
   "metadata": {},
   "outputs": [],
   "source": []
  },
  {
   "cell_type": "code",
   "execution_count": null,
   "id": "c41013fd",
   "metadata": {},
   "outputs": [],
   "source": []
  },
  {
   "cell_type": "code",
   "execution_count": null,
   "id": "32040e8a",
   "metadata": {},
   "outputs": [],
   "source": []
  }
 ],
 "metadata": {
  "kernelspec": {
   "display_name": "Kotlin",
   "language": "kotlin",
   "name": "kotlin"
  },
  "language_info": {
   "codemirror_mode": "text/x-kotlin",
   "file_extension": ".kt",
   "mimetype": "text/x-kotlin",
   "name": "kotlin",
   "nbconvert_exporter": "",
   "pygments_lexer": "kotlin",
   "version": "1.7.0-dev-1825"
  }
 },
 "nbformat": 4,
 "nbformat_minor": 5
}
