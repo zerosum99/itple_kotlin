{
 "cells": [
  {
   "cell_type": "code",
   "execution_count": null,
   "id": "95b091cd",
   "metadata": {},
   "outputs": [],
   "source": []
  },
  {
   "cell_type": "code",
   "execution_count": 1,
   "id": "e21a3f81",
   "metadata": {},
   "outputs": [
    {
     "data": {
      "text/plain": [
       "1.7.20"
      ]
     },
     "execution_count": 1,
     "metadata": {},
     "output_type": "execute_result"
    }
   ],
   "source": [
    "KotlinVersion.CURRENT             // 코틀린 현재 버전 "
   ]
  },
  {
   "cell_type": "code",
   "execution_count": null,
   "id": "2b60a8e8",
   "metadata": {},
   "outputs": [],
   "source": []
  },
  {
   "cell_type": "markdown",
   "id": "da587c7e",
   "metadata": {},
   "source": [
    "## 작성 방법"
   ]
  },
  {
   "cell_type": "code",
   "execution_count": 2,
   "id": "c9246e1d",
   "metadata": {},
   "outputs": [
    {
     "name": "stdout",
     "output_type": "stream",
     "text": [
      "class kotlin.String\n",
      "class Line_2$Password\n",
      "class Line_2$User\n",
      "true\n",
      "true\n"
     ]
    }
   ],
   "source": [
    "inline class Password(val value: String)      // 인라인 클래스 만들기\n",
    "\n",
    "@JvmInline                                    // 어노테이션으로 인라인 클래스 만들기\n",
    "value class User(val value:String)            // inline 대신 value fh wkrtjd \n",
    "\n",
    "\n",
    "var pw : String = \"abcdef\"                    // 문자열 변수에 저장 \n",
    "var pwin = Password(\"abcdef\")                 // password 자료형으로 변수에 저장 \n",
    "\n",
    "println(pw.javaClass.kotlin)                  // 클래스 확인 \n",
    "println(pwin.javaClass.kotlin)\n",
    "\n",
    "\n",
    "val usr = User(\"12345\")                       // 인라인 자료형으로 변수에 할당 \n",
    "println(usr.javaClass.kotlin)                 // 클래스 확인 \n",
    "\n",
    "println(pwin is Password)                     // is연산으로 클래스 확인 \n",
    "println(usr is User)"
   ]
  },
  {
   "cell_type": "code",
   "execution_count": null,
   "id": "c00a61f2",
   "metadata": {},
   "outputs": [],
   "source": []
  },
  {
   "cell_type": "code",
   "execution_count": null,
   "id": "5e80ee93",
   "metadata": {},
   "outputs": [],
   "source": []
  },
  {
   "cell_type": "markdown",
   "id": "d6b00000",
   "metadata": {},
   "source": [
    "## 속성과 메소드 추가"
   ]
  },
  {
   "cell_type": "code",
   "execution_count": 3,
   "id": "1c01fd8d",
   "metadata": {},
   "outputs": [
    {
     "name": "stdout",
     "output_type": "stream",
     "text": [
      "초기화 영역 실행  \n",
      "코틀린 세상에 들어온 것을 환영합니다.\n",
      "3\n"
     ]
    }
   ],
   "source": [
    "@JvmInline                                // 인라인 클래스 내의 속성 추가하기 \n",
    "value class Name(val s: String) {\n",
    "    init {                                // 초기화값 처리 \n",
    "         println(\"초기화 영역 실행  \")\n",
    "    }\n",
    "\n",
    "    val length: Int                       // 배킹필드 없는 초기값 추가  \n",
    "        get() = s.length                  // get 메소드로 초기값처리\n",
    "\n",
    "    fun greet() {                         // 메소드 추가 \n",
    "        println(\"$s 세상에 들어온 것을 환영합니다.\")\n",
    "    }\n",
    "}\n",
    "\n",
    "\n",
    "val name = Name(\"코틀린\")                   // 인라인 객체 생성 \n",
    "name.greet()                               // 메소드 실행\n",
    "println(name.length)                       // 속성확인 "
   ]
  },
  {
   "cell_type": "code",
   "execution_count": null,
   "id": "650a2c6e",
   "metadata": {},
   "outputs": [],
   "source": []
  },
  {
   "cell_type": "markdown",
   "id": "646d03cd",
   "metadata": {},
   "source": [
    "## 인터페이스 구현 "
   ]
  },
  {
   "cell_type": "code",
   "execution_count": 4,
   "id": "0ff9c297",
   "metadata": {},
   "outputs": [
    {
     "name": "stdout",
     "output_type": "stream",
     "text": [
      "코틀린 언어를 공부하자!\n"
     ]
    }
   ],
   "source": [
    "interface Printable {                             // 인터페이스 정의        \n",
    "    fun prettyPrint(): String\n",
    "}\n",
    "\n",
    "@JvmInline\n",
    "value class Language(val s: String) : Printable {  // 인터페이스 상속 \n",
    "    override fun prettyPrint(): String =           // 인터페이스 메소드 구현\n",
    "                             \"$s 언어를 공부하자!\"\n",
    "}\n",
    "\n",
    "\n",
    "val lang = Language(\"코틀린\")                        // 객체 생성 \n",
    "println(lang.prettyPrint())                        // 메소드 실행 \n",
    "  "
   ]
  },
  {
   "cell_type": "code",
   "execution_count": null,
   "id": "1109dfa7",
   "metadata": {},
   "outputs": [],
   "source": []
  },
  {
   "cell_type": "markdown",
   "id": "307dccdf",
   "metadata": {},
   "source": [
    "## 매개변수 타입 사용 "
   ]
  },
  {
   "cell_type": "code",
   "execution_count": 5,
   "id": "8a122a88",
   "metadata": {},
   "outputs": [
    {
     "name": "stdout",
     "output_type": "stream",
     "text": [
      "20\n",
      "300\n",
      "class Line_5$UUInt\n",
      "class kotlin.Int$Companion\n"
     ]
    }
   ],
   "source": [
    "typealias XInt = Int                //타입 별칭 사용 \n",
    "\n",
    "@JvmInline                          //인라인클래스 처리 \n",
    "value class UUInt(val x: Int)\n",
    "                              \n",
    "fun compute(x: XInt):XInt {         //타입별칭 사용 : 기존 타입으로 인식\n",
    "    return x * 2 \n",
    "}\n",
    "println(compute(10))\n",
    "                                    // JVM 내부적으로는 Int\n",
    "fun compute1(x: UUInt) : Int {      // 함수 오버로딩 불가 \n",
    "    return x.x * 3                  // 함수이름을 다르게 정의 \n",
    "}\n",
    "\n",
    "val a = UUInt(100)\n",
    "println(compute1(a))\n",
    "                                     // 내부 자료형 확인 \n",
    "println(UUInt(100).javaClass.kotlin) // 새로운 자료형 : 로딩할 때는 정수형으로 변경\n",
    "println(XInt.javaClass.kotlin)       // 내부의 자료형 \n",
    "\n",
    "//println(compute1(100))             // 컴파일 시점에 자료형이 다른다고 예외 처리"
   ]
  },
  {
   "cell_type": "code",
   "execution_count": null,
   "id": "e3f94da6",
   "metadata": {},
   "outputs": [],
   "source": []
  },
  {
   "cell_type": "code",
   "execution_count": null,
   "id": "eebcdc9a",
   "metadata": {},
   "outputs": [],
   "source": []
  }
 ],
 "metadata": {
  "kernelspec": {
   "display_name": "Kotlin",
   "language": "kotlin",
   "name": "kotlin"
  },
  "language_info": {
   "codemirror_mode": "text/x-kotlin",
   "file_extension": ".kt",
   "mimetype": "text/x-kotlin",
   "name": "kotlin",
   "nbconvert_exporter": "",
   "pygments_lexer": "kotlin",
   "version": "1.7.20-dev-1299"
  }
 },
 "nbformat": 4,
 "nbformat_minor": 5
}
