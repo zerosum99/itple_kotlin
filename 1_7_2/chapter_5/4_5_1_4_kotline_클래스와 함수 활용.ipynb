{
 "cells": [
  {
   "cell_type": "code",
   "execution_count": null,
   "id": "2af8f08d",
   "metadata": {},
   "outputs": [],
   "source": []
  },
  {
   "cell_type": "markdown",
   "id": "8e5c66ed",
   "metadata": {},
   "source": [
    "## SRP : 단일 책임 원칙\n",
    "## ocp : open close "
   ]
  },
  {
   "cell_type": "markdown",
   "id": "73529f6f",
   "metadata": {},
   "source": [
    "## 잔액 관리 인터페이스 작성"
   ]
  },
  {
   "cell_type": "code",
   "execution_count": 1,
   "id": "3bd7dcb0",
   "metadata": {},
   "outputs": [],
   "source": [
    "interface Balanceable {                    // 잔액을 처리하는 인터페이스 정의 \n",
    "    fun credit(amount : Int)               // 입금 추상메소드 \n",
    "    fun debit(amount : Int)                // 출금 추상메소드\n",
    "    fun query() : String                   // 잔액 상태 조회 추상메소드 \n",
    "    fun getBal() : Double                  // 잔액 조회 추상메소드 \n",
    "}"
   ]
  },
  {
   "cell_type": "markdown",
   "id": "2e990748",
   "metadata": {},
   "source": [
    "## 클래스의 단일 책임으로 분리"
   ]
  },
  {
   "cell_type": "code",
   "execution_count": 2,
   "id": "b3565fbf",
   "metadata": {},
   "outputs": [],
   "source": [
    "class Balance(val accNo : String,                       // 잔액관리 클래스 \n",
    "              var balance : Double) : Balanceable {     // 인터페이스 상속 및 구현 \n",
    "    override fun credit(amount : Int) {                 // 입금 추성 메소드 구현 \n",
    "        balance += amount.toDouble()\n",
    "    }\n",
    "    override fun debit(amount : Int) {                  // 출금 추상메소드 구현\n",
    "        if (balance < amount) {                         // 잔액 체크 \n",
    "            println(\"잔액이 부족합니다! $balance 이하로 출금해주세요.\")\n",
    "        } else {\n",
    "            balance -= amount.toDouble() \n",
    "        }\n",
    "    }\n",
    "    override fun query() : String{                       // 잔액상태 추상메소드 구현 \n",
    "         return \"AccoNo= $accNo, Balance= $balance\"\n",
    "    }\n",
    "    override fun getBal() = balance                      // 잔액조회 추상메소드 구현\n",
    "}\n",
    "\n",
    "class Agreement(val accNo :String,                       // 계약관리 클래스\n",
    "                val productNo: String,\n",
    "                var rate : Double)\n",
    "\n",
    "class AgreementManager(val accNo :String,                 // 계약및 잔액관리 클래스 구현 \n",
    "                       val balance : Balanceable) : \n",
    "                                  Balanceable by balance {// 잔액처리 클래스 위임처리 \n",
    "                                                          // 클래스 위임처리로 내부 코드는 컴파일러가 생성\n",
    "}\n",
    "                                  \n",
    "// 기능 추가 : Open Closed Principles                                \n",
    "fun AgreementManager.calBenifit(rate : Double) {          // 이자 계산 후 입금처리는 확장함수로 구현 \n",
    "    val benifit = balance.getBal() * rate /365            // 연이자로 계산 \n",
    "    balance.credit(benifit.toInt())                       // 입금처리\n",
    "}"
   ]
  },
  {
   "cell_type": "code",
   "execution_count": null,
   "id": "47f81f8c",
   "metadata": {},
   "outputs": [],
   "source": []
  },
  {
   "cell_type": "markdown",
   "id": "03c18288",
   "metadata": {},
   "source": [
    "## 계좌 및 잔액 생성 그 다음에 입출금 처리"
   ]
  },
  {
   "cell_type": "code",
   "execution_count": 3,
   "id": "19d472d4",
   "metadata": {},
   "outputs": [
    {
     "name": "stdout",
     "output_type": "stream",
     "text": [
      "AccoNo= 1, Balance= 10000.0\n",
      "AccoNo= 1, Balance= 10001.0\n",
      "잔액이 부족합니다! 10001.0 이하로 출금해주세요.\n",
      "AccoNo= 1, Balance= 5001.0\n"
     ]
    }
   ],
   "source": [
    "val agree = Agreement(\"1\", \"1\", 0.05)                      // 게약관리 객체 생성\n",
    "                                                           \n",
    "val agree_bal: Balanceable =                               // 상위 인터페이스 자료형에 할당 \n",
    "                 Balance(agree.accNo, 0.0)                 // 잔액관리 객체 생성\n",
    "val agreeMG  : AgreementManager =                          // 확장함수 사용을 위해 자기자료형에 할당\n",
    "                 AgreementManager(agree.accNo,agree_bal)   // 계약잔액 매지저관리 객체 생성\n",
    "\n",
    "agreeMG.credit(10000)                                      // 입금처리\n",
    "println(agreeMG.query())                                   // 잔액조회\n",
    "\n",
    "agreeMG.calBenifit(agree.rate)                             // 이자 계산 및 입금\n",
    "println(agreeMG.query())                                   // 잔액조회 \n",
    "\n",
    "agreeMG.debit(15000)                                       // 출금처리 : 잔액 초과 \n",
    "agreeMG.debit(5000)                                        // 일부 출금\n",
    "println(agreeMG.query())                                   // 잔액 조회 \n"
   ]
  },
  {
   "cell_type": "code",
   "execution_count": null,
   "id": "7f20b056",
   "metadata": {},
   "outputs": [],
   "source": []
  },
  {
   "cell_type": "code",
   "execution_count": null,
   "id": "0c50bdd5",
   "metadata": {},
   "outputs": [],
   "source": []
  }
 ],
 "metadata": {
  "kernelspec": {
   "display_name": "Kotlin",
   "language": "kotlin",
   "name": "kotlin"
  },
  "language_info": {
   "codemirror_mode": "text/x-kotlin",
   "file_extension": ".kt",
   "mimetype": "text/x-kotlin",
   "name": "kotlin",
   "nbconvert_exporter": "",
   "pygments_lexer": "kotlin",
   "version": "1.7.0-dev-1825"
  }
 },
 "nbformat": 4,
 "nbformat_minor": 5
}
