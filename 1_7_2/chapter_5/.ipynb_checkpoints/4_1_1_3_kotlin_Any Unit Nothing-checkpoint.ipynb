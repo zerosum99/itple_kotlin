{
 "cells": [
  {
   "cell_type": "markdown",
   "id": "660d01ee",
   "metadata": {},
   "source": [
    "## Any class"
   ]
  },
  {
   "cell_type": "markdown",
   "id": "ffcb1251",
   "metadata": {},
   "source": [
    "## 공통메소드 정의"
   ]
  },
  {
   "cell_type": "code",
   "execution_count": 9,
   "id": "ff0ada76",
   "metadata": {},
   "outputs": [
    {
     "name": "stdout",
     "output_type": "stream",
     "text": [
      "Any\n",
      "[equals, hashCode, toString]\n",
      "Char\n",
      "compareTo, dec, inc, minus, plus, \n",
      "rangeTo, toByte, toChar, toDouble, toFloat, \n",
      "toInt, toLong, toShort, equals, hashCode, \n",
      "toString, "
     ]
    }
   ],
   "source": [
    "fun Any.dir() : Set<String> {\n",
    "    val a = this.javaClass.kotlin      //현재 객체의 클래스 저장\n",
    "    println(a.simpleName)\n",
    "    var ll = mutableListOf<String>()   \n",
    "    for (i in a.members) {             // 클래스의 멤버 순회\n",
    "        ll.add(i.name)                 // 이름을 리스트에 저장\n",
    "    }\n",
    "    return ll.toSet()                  // 오버로딩된 메소드 제거\n",
    "}\n",
    "\n",
    "println(Any().dir())                   // Any 클래스 멤버들만 출력 \n",
    "var count = 0\n",
    "for (i in 'a'.dir()) {                 // 문자에 대한 멤버 출력\n",
    "    print(i +\", \") \n",
    "    count++\n",
    "    if (count % 5 == 0) println()  \n",
    "}"
   ]
  },
  {
   "cell_type": "markdown",
   "id": "76958f4d",
   "metadata": {},
   "source": [
    "## 상속관계 확인 "
   ]
  },
  {
   "cell_type": "code",
   "execution_count": 2,
   "id": "213b9f43",
   "metadata": {},
   "outputs": [
    {
     "name": "stdout",
     "output_type": "stream",
     "text": [
      "A()\n",
      "592059627\n",
      "true\n",
      "true\n",
      "[kotlin.Any]\n"
     ]
    }
   ],
   "source": [
    "import kotlin.reflect.full.isSubclassOf          //수퍼클래스/서브클래스 관계 함수\n",
    "\n",
    "class A {                                        // 클래스 생성 \n",
    "    override fun toString() = \"A()\"              // 상위 클래스 메소드 재정의 \n",
    "}\n",
    "\n",
    "val a : Any = A()                                // 최상위 클래스 자료형에 객체 전달 \n",
    "\n",
    "println(a.toString())\n",
    "println(a.hashCode())\n",
    "println(a.equals(a))\n",
    "\n",
    "println((A::class).isSubclassOf(Any::class))     // 수퍼클래스와 서브클래스관계 확인\n",
    "println((A::class).supertypes)                   // 상위 클래스 확인"
   ]
  },
  {
   "cell_type": "markdown",
   "id": "ec894e2c",
   "metadata": {},
   "source": [
    "## Unit "
   ]
  },
  {
   "cell_type": "markdown",
   "id": "4c76a3f2",
   "metadata": {},
   "source": [
    "## 상속관계  및 함수 반환값 처리"
   ]
  },
  {
   "cell_type": "code",
   "execution_count": 3,
   "id": "e2bb8264-3920-4575-92fd-ab6bb17777d5",
   "metadata": {},
   "outputs": [
    {
     "name": "stdout",
     "output_type": "stream",
     "text": [
      "true\n",
      "Unit\n",
      "[toString, equals, hashCode]\n",
      "[kotlin.Any]\n",
      "#### 각 자료형의 클래스 확인 #####\n",
      "100 => class kotlin.Int\n",
      "100 => class kotlin.Long\n",
      "100.0 => class kotlin.Double\n",
      "100.0 => class kotlin.Float\n",
      "c => class kotlin.Char\n",
      "false => class kotlin.Boolean\n",
      "문자열 => class kotlin.String\n",
      "java.lang.Exception: 예외 => class java.lang.Exception\n"
     ]
    }
   ],
   "source": [
    "println((Unit::class).isSubclassOf(Any::class))        // 서브클래스 여부 확인\n",
    "\n",
    "println(Unit.dir())                                    // 공통메소드 dir 실행 \n",
    "println((Unit::class).supertypes)                      // 상위클래스 확인\n",
    "\n",
    "\n",
    "fun func(a : Any ): Unit{                              //반환값이 Unit\n",
    "    println(a.toString() + \" => \" + a.javaClass.kotlin)\n",
    "}\n",
    "println(\"#### 각 자료형의 클래스 확인 #####\")\n",
    "func(100)\n",
    "func(100L)\n",
    "func(100.0)\n",
    "func(100.0f)\n",
    "func('c')\n",
    "func(false)\n",
    "func(\"문자열\")\n",
    "func(Exception(\"예외\"))"
   ]
  },
  {
   "cell_type": "markdown",
   "id": "07cfe8fb",
   "metadata": {},
   "source": [
    "## Nothing 클래스\n",
    "\n",
    "kotlin.아무것도 는 사람이 거주하지 않는 유형 이며 다음을 포함하는 표현식의 평가를 의미합니다.\\operatorname{\\texttt{kotlin.Nothing}}kotlin.아무것도 유형은 정상적으로 완료될 수 없습니다. 따라서 다음과 같은 특별한 상황을 표시하는 데 사용됩니다.\n",
    "\n",
    "끝나지 않는 표현\n",
    "탁월한 제어 흐름"
   ]
  },
  {
   "cell_type": "markdown",
   "id": "c3cc0c0f",
   "metadata": {},
   "source": [
    "## 상속관계 및 예외처리"
   ]
  },
  {
   "cell_type": "code",
   "execution_count": 4,
   "id": "ffb58790",
   "metadata": {},
   "outputs": [
    {
     "name": "stdout",
     "output_type": "stream",
     "text": [
      "true\n",
      "[kotlin.Any]\n",
      " 예외 \n"
     ]
    }
   ],
   "source": [
    "println((Nothing::class).isSubclassOf(Any::class))   //상속관계 \n",
    "\n",
    "println((Nothing::class).supertypes)                 //상위클래스 확인 \n",
    "\n",
    "fun except() : Nothing {                             // 반환값이 없다 \n",
    "    throw Exception(\" 예외 \")                         // 예외 발생 \n",
    "}\n",
    "\n",
    "try {                                                // 예외 처리\n",
    "   except() \n",
    "}catch (e : Exception) {                             // 예외 잡기\n",
    "    println(e.message)\n",
    "}"
   ]
  },
  {
   "cell_type": "code",
   "execution_count": null,
   "id": "ab9dbb9a-e474-4139-b535-163271bb2ef9",
   "metadata": {},
   "outputs": [],
   "source": []
  }
 ],
 "metadata": {
  "kernelspec": {
   "display_name": "Kotlin",
   "language": "kotlin",
   "name": "kotlin"
  },
  "language_info": {
   "codemirror_mode": "text/x-kotlin",
   "file_extension": ".kt",
   "mimetype": "text/x-kotlin",
   "name": "kotlin",
   "nbconvert_exporter": "",
   "pygments_lexer": "kotlin",
   "version": "1.7.0-dev-1825"
  }
 },
 "nbformat": 4,
 "nbformat_minor": 5
}
