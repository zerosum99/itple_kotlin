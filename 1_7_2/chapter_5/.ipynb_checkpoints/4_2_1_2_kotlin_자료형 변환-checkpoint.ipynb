{
 "cells": [
  {
   "cell_type": "markdown",
   "id": "55f52e89",
   "metadata": {},
   "source": [
    "## 스마트 캐스팅"
   ]
  },
  {
   "cell_type": "code",
   "execution_count": null,
   "id": "9841e0b5",
   "metadata": {},
   "outputs": [],
   "source": []
  },
  {
   "cell_type": "code",
   "execution_count": 28,
   "id": "7d1d47c8",
   "metadata": {},
   "outputs": [
    {
     "name": "stdout",
     "output_type": "stream",
     "text": [
      "100 은/는 문자열이 아님\n",
      "100 은/는 정수\n",
      "문자열 은/는 문자열 \n",
      "문자열 은/는 정수가 아님\n"
     ]
    }
   ],
   "source": [
    "fun checkDataType(value : Any){       // 문자열과 정수 타입을 점검하는 함수 선언 \n",
    "    if(value is String){\n",
    "        println(\"$value 은/는 문자열 \")\n",
    "    }\n",
    "    if(value !is String){\n",
    "        println(\"$value 은/는 문자열이 아님\")\n",
    "    }\n",
    "    if(value is Int){\n",
    "        println(\"$value 은/는 정수\")\n",
    "    }\n",
    "    if(value !is Int){\n",
    "        println(\"$value 은/는 정수가 아님\")\n",
    "    }\n",
    "}\n",
    "\n",
    "checkDataType(100)\n",
    "checkDataType(\"문자열\")"
   ]
  },
  {
   "cell_type": "code",
   "execution_count": null,
   "id": "42f3dac1",
   "metadata": {},
   "outputs": [],
   "source": []
  },
  {
   "cell_type": "code",
   "execution_count": 1,
   "id": "59cc4c5d",
   "metadata": {},
   "outputs": [
    {
     "name": "stdout",
     "output_type": "stream",
     "text": [
      "256\n",
      "class kotlin.Int\n",
      "101"
     ]
    }
   ],
   "source": [
    "val num : Any =256\n",
    "if(num is Int){                     //num이 Int형일 때\n",
    "    println(num)                    //256\n",
    "    println(num.javaClass.kotlin)   // class java.lang.Integer\n",
    "} else{\n",
    "    println(\"not Int\")\n",
    "}\n",
    "\n",
    "val x :Any  = 100\n",
    "when (x) {\n",
    "    is Int -> print(x + 1)\n",
    "    is String -> print(x.length + 1)\n",
    "    else -> print(\" no \")\n",
    "}"
   ]
  },
  {
   "cell_type": "code",
   "execution_count": null,
   "id": "b61b70bd",
   "metadata": {},
   "outputs": [],
   "source": []
  },
  {
   "cell_type": "code",
   "execution_count": 2,
   "id": "198deed5",
   "metadata": {},
   "outputs": [
    {
     "name": "stdout",
     "output_type": "stream",
     "text": [
      "true\n",
      "false\n",
      "true\n",
      "true\n"
     ]
    }
   ],
   "source": [
    "val a : Number = 100\n",
    "\n",
    "// println(a is String)    숫자와 문자열의 상속관계가 아니라 처리할 수 없다.\n",
    "//println(a !is String)\n",
    "\n",
    "println(a !is Long)        // 숫자 자료형을 상속한 경우만 가능\n",
    "\n",
    "\n",
    "val b : Any  = 100         // 최상위 클래스 \n",
    "\n",
    "println(b is String)       // 숫자와 문자열은 Any와 상속관계\n",
    "println(b !is String)\n",
    "\n",
    "println(b !is Long)        // 숫자 자료형을 상속한 경우만 가능"
   ]
  },
  {
   "cell_type": "code",
   "execution_count": null,
   "id": "ea9430a9",
   "metadata": {},
   "outputs": [],
   "source": []
  },
  {
   "cell_type": "code",
   "execution_count": 17,
   "id": "50eb786b",
   "metadata": {},
   "outputs": [
    {
     "name": "stdout",
     "output_type": "stream",
     "text": [
      "true\n",
      "false\n",
      "600\n",
      "true\n"
     ]
    }
   ],
   "source": [
    "var avar : Any = 100\n",
    "println(avar is Int)\n",
    "avar =\"변경\"\n",
    "println(avar is Int)\n",
    "\n",
    "class AAA {                       //클래스에 정의 \n",
    "    lateinit var ainit : Any      //초기화 연기 => 자료형 값이 변경 \n",
    "    val o:Any                     //백킹필드 미사용 속성 => 자료형 값이 변경\n",
    "        get() = \"\"\n",
    "   \n",
    "}\n",
    "\n",
    "val aAAA = AAA()                  //객체 생성 \n",
    "if (aAAA.o is String) {\n",
    "    // println(aAAA.o.length)     // 스마트 케스트 처리 불가 \n",
    "}\n",
    "aAAA.ainit =\"\"\n",
    "if (aAAA.ainit is String) {\n",
    "    //println(aAAA.ainit.length)   // 스마트 케스트 처리 불가 \n",
    "\n",
    "}\n",
    "\n",
    "fun evalLazy() {                   //함수정의\n",
    "    val bbb by lazy {300}          //지연 초기화     \n",
    "    \n",
    "    if (bbb is Int) {\n",
    "       println(bbb *2) \n",
    "    }\n",
    "}\n",
    "evalLazy()                         // 함수 실행 \n",
    "\n",
    "val Any.ccc : Any \n",
    "    get() = 100                     //정수 확장 속성 \n",
    "\n",
    "println((\"문자열\").ccc is Int)"
   ]
  },
  {
   "cell_type": "code",
   "execution_count": null,
   "id": "ecfe32c9",
   "metadata": {},
   "outputs": [],
   "source": []
  },
  {
   "cell_type": "code",
   "execution_count": null,
   "id": "1b9b38f6",
   "metadata": {},
   "outputs": [],
   "source": []
  },
  {
   "cell_type": "markdown",
   "id": "12e070c1",
   "metadata": {},
   "source": [
    "## 명시적 자료형 변환"
   ]
  },
  {
   "cell_type": "code",
   "execution_count": 4,
   "id": "a979d62b",
   "metadata": {},
   "outputs": [
    {
     "name": "stdout",
     "output_type": "stream",
     "text": [
      " 34 123\n"
     ]
    }
   ],
   "source": [
    "val a: Long = 34\n",
    "val b: Int = a.toInt()  // Long을 Int로 강제 형변환\n",
    "val str: String = \"123\"\n",
    "val c = str.toInt()     // 정수 123으로 변환\n",
    "\n",
    "println(\" $b $c\")"
   ]
  },
  {
   "cell_type": "code",
   "execution_count": 5,
   "id": "ed688f3f",
   "metadata": {},
   "outputs": [
    {
     "name": "stdout",
     "output_type": "stream",
     "text": [
      "3000\n",
      "100\n",
      "class kotlin.String\n",
      "class kotlin.Int\n"
     ]
    }
   ],
   "source": [
    "var x : String = \"100\"\n",
    "var y : String? =  \"3000\"\n",
    "x = y as String\n",
    "println(x)                      //문자열로 변경 \n",
    "\n",
    "var a : Any? = \"100\"\n",
    "var b : String? =  \"3000\"\n",
    "b = a as String                 //문자열로 변경\n",
    "println(b)\n",
    "\n",
    "val c = a as? String ?: Int     // 변경이 안될 경우 널처리\n",
    "println(c.javaClass.kotlin)\n",
    "\n",
    "var e : String = \"100\"\n",
    "var f : String? = null\n",
    "\n",
    "val g = f as? String ?: 0        // 널인 경우 엘비스 연산을 통해 초가값으로 변경\n",
    "println(g.javaClass.kotlin)"
   ]
  },
  {
   "cell_type": "code",
   "execution_count": null,
   "id": "d11baf32",
   "metadata": {},
   "outputs": [],
   "source": []
  },
  {
   "cell_type": "code",
   "execution_count": null,
   "id": "79846feb",
   "metadata": {},
   "outputs": [],
   "source": []
  }
 ],
 "metadata": {
  "kernelspec": {
   "display_name": "Kotlin",
   "language": "kotlin",
   "name": "kotlin"
  },
  "language_info": {
   "codemirror_mode": "text/x-kotlin",
   "file_extension": ".kt",
   "mimetype": "text/x-kotlin",
   "name": "kotlin",
   "nbconvert_exporter": "",
   "pygments_lexer": "kotlin",
   "version": "1.7.0-dev-1825"
  }
 },
 "nbformat": 4,
 "nbformat_minor": 5
}
