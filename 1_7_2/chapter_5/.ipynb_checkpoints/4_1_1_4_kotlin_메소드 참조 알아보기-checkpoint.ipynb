{
 "cells": [
  {
   "cell_type": "code",
   "execution_count": null,
   "id": "79d80ce6",
   "metadata": {},
   "outputs": [],
   "source": []
  },
  {
   "cell_type": "code",
   "execution_count": 1,
   "id": "b8cbbed1",
   "metadata": {},
   "outputs": [
    {
     "data": {
      "text/plain": [
       "1.7.20"
      ]
     },
     "execution_count": 1,
     "metadata": {},
     "output_type": "execute_result"
    }
   ],
   "source": [
    "KotlinVersion.CURRENT             // 코틀린 현재 버전 "
   ]
  },
  {
   "cell_type": "code",
   "execution_count": null,
   "id": "594066b8",
   "metadata": {},
   "outputs": [],
   "source": []
  },
  {
   "cell_type": "code",
   "execution_count": null,
   "id": "b6574295",
   "metadata": {},
   "outputs": [],
   "source": []
  },
  {
   "cell_type": "markdown",
   "id": "0a93bfa5",
   "metadata": {},
   "source": [
    "## 클래스 Object 참조"
   ]
  },
  {
   "cell_type": "code",
   "execution_count": 2,
   "id": "ab2f7de3",
   "metadata": {},
   "outputs": [
    {
     "name": "stdout",
     "output_type": "stream",
     "text": [
      "fun Line_2.Klass.bar(): kotlin.Unit\n",
      "fun Line_2.Klass.bar(): kotlin.Unit\n",
      "fun Line_2.Klass.Companion.foo(): kotlin.Unit\n",
      "fun Line_2.Klass.Companion.foo(): kotlin.Unit\n",
      "bar 실행 \n",
      "bar 실행 \n"
     ]
    }
   ],
   "source": [
    "class Klass {                   // 클래스 정의 \n",
    "    companion object {          // 동반 객체 선언\n",
    "        fun foo() {}            // 동반 객체 내부 메소드 \n",
    "    }\n",
    "\n",
    "    fun bar() {                 // 클래스 메소드 \n",
    "        println(\"bar 실행 \")\n",
    "    }                \n",
    "}\n",
    "\n",
    "\n",
    "println(Klass::bar)              // 클래스의 unbound reference  \n",
    "println(Klass()::bar)            // 클래스의 bound reference \n",
    "println((Klass)::foo )           // 동반객체 bound reference \n",
    "println(Klass.Companion::foo)    // 동반객체 bound reference \n",
    "\n",
    "(Klass::bar)(Klass())            // 객체를 전달해서 바운드 필요\n",
    "(Klass()::bar)()                 // 직접 객체가 메소드 실행"
   ]
  },
  {
   "cell_type": "code",
   "execution_count": null,
   "id": "503b9ed9",
   "metadata": {},
   "outputs": [],
   "source": []
  },
  {
   "cell_type": "code",
   "execution_count": 3,
   "id": "139cfff2",
   "metadata": {},
   "outputs": [
    {
     "name": "stdout",
     "output_type": "stream",
     "text": [
      "fun Line_3.O.foo(kotlin.String): kotlin.Unit\n",
      "실행 함수\n"
     ]
    }
   ],
   "source": [
    "object O {\n",
    "    fun foo(x:String) {                   // 객체 내의 메소드 \n",
    "        println(\"실행 $x\")\n",
    "    }             \n",
    "}\n",
    "\n",
    "fun consume(x : String, \n",
    "            f: (String) -> Unit) {f(x)}   // 함수를 전달을 받아 내부에서 실행\n",
    "\n",
    "println(O::foo)                           // object 내부의 메소드 참조 \n",
    "consume(\"함수\",O::foo)                     // object 내부의 메소두를 함수 인자로 전달"
   ]
  },
  {
   "cell_type": "code",
   "execution_count": null,
   "id": "448a0b42",
   "metadata": {},
   "outputs": [],
   "source": []
  },
  {
   "cell_type": "code",
   "execution_count": null,
   "id": "009dd7d6",
   "metadata": {},
   "outputs": [],
   "source": []
  },
  {
   "cell_type": "code",
   "execution_count": null,
   "id": "d44974c8",
   "metadata": {},
   "outputs": [],
   "source": []
  }
 ],
 "metadata": {
  "kernelspec": {
   "display_name": "Kotlin",
   "language": "kotlin",
   "name": "kotlin"
  },
  "language_info": {
   "codemirror_mode": "text/x-kotlin",
   "file_extension": ".kt",
   "mimetype": "text/x-kotlin",
   "name": "kotlin",
   "nbconvert_exporter": "",
   "pygments_lexer": "kotlin",
   "version": "1.7.20-dev-1299"
  }
 },
 "nbformat": 4,
 "nbformat_minor": 5
}
