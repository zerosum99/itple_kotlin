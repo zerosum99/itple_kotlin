{
 "cells": [
  {
   "cell_type": "markdown",
   "id": "19f20bf0",
   "metadata": {},
   "source": [
    "##  참조자료\n",
    "\n",
    "https://iosroid.tistory.com/72"
   ]
  },
  {
   "cell_type": "markdown",
   "id": "ff2abf4c",
   "metadata": {},
   "source": [
    "## 클래스 위임(Class Delegation)이란 무엇인가\n",
    "\n",
    "- 레퍼런스는 클래스 위임을 다음과 같이 설명하고 있습니다.\n",
    "- 상속을 표현하는 슈퍼타입 리스트 내의 by 절은 b(에 대한 참조)가 상속 오브젝트의 내부에 저장되고 \n",
    "- 컴파일러가 b가 가지는 Base 인터페이스의 모든 메소드를 생성함을 나타냅니다.\n"
   ]
  },
  {
   "cell_type": "markdown",
   "id": "5c8d34ca",
   "metadata": {},
   "source": [
    "## 위임 구조\n",
    "- 만약 interface A를 구현하고 있는 class B가 있다면, A에서 정의하고 있는 B의 모든 메소드를 클래스 C로 위임할 수 있습니다. \n",
    "- 즉, C는 B가 가지는 모든 A의 메소드를 가지며, 이를 클래스 위임(Class delegation)이라고 합니다."
   ]
  },
  {
   "cell_type": "markdown",
   "id": "4e20b74d",
   "metadata": {},
   "source": [
    "## 위임 확장 기본 알아보기"
   ]
  },
  {
   "cell_type": "code",
   "execution_count": 1,
   "id": "82ace474",
   "metadata": {},
   "outputs": [
    {
     "name": "stdout",
     "output_type": "stream",
     "text": [
      "BaseImpl : 10\n",
      "BaseImpl : 10\n",
      "BaseImpl : 10\n"
     ]
    }
   ],
   "source": [
    "interface Base { \n",
    "    fun say() \n",
    "} \n",
    "\n",
    "class BaseImpl(val x: Int) : Base {\n",
    "    override fun say() { println(\"BaseImpl : \" + x) } \n",
    "} \n",
    "\n",
    "class Derived(b : BaseImpl) : Base  {\n",
    "    override fun say() {\n",
    "        b.say()\n",
    "    }\n",
    "}\n",
    "\n",
    "val b = BaseImpl(10) \n",
    "Derived(b).say()\n",
    "\n",
    "\n",
    "class Derived_() : Base by BaseImpl(10)\n",
    "Derived_().say()\n",
    "\n",
    "\n",
    "class Derived__(b : BaseImpl) : Base by b  \n",
    "\n",
    "Derived__(b).say()"
   ]
  },
  {
   "cell_type": "code",
   "execution_count": null,
   "id": "445ce83f",
   "metadata": {},
   "outputs": [],
   "source": []
  },
  {
   "cell_type": "markdown",
   "id": "6294c3b0",
   "metadata": {},
   "source": [
    "## 위임구조의 장점 \n",
    "\n",
    "- 별도의 추가 코드 없이 상속(Inheritance)의 대안 제공\n",
    "- 인터페이스에 의해 정의된 메소드만 호출할 수 있도록 보호\n",
    "- private 필드에 위임된 인스턴스를 저장하여 직접적인 접근 차단"
   ]
  },
  {
   "cell_type": "code",
   "execution_count": null,
   "id": "787fe1c3",
   "metadata": {},
   "outputs": [],
   "source": []
  },
  {
   "cell_type": "code",
   "execution_count": 2,
   "id": "97fc9ff7",
   "metadata": {},
   "outputs": [
    {
     "name": "stdout",
     "output_type": "stream",
     "text": [
      "View 클래스의 show()\n",
      "CustomView 클래스의 show()\n"
     ]
    }
   ],
   "source": [
    "interface Showable {\n",
    "    fun show()\n",
    "}\n",
    "\n",
    "open class View : Showable {\n",
    "    override fun show() {\n",
    "        println(\"View 클래스의 show()\");\n",
    "    }\n",
    "    \n",
    "}\n",
    "\n",
    "class CustomView : View() {\n",
    "    override fun show() {\n",
    "        println(\"CustomView 클래스의 show()\");\n",
    "    }\n",
    "    \n",
    "}\n",
    "\n",
    "class Screen(val showable: Showable): \n",
    "                          Showable by showable \n",
    "\n",
    "val view = View()\n",
    "val customView = CustomView()\n",
    "\n",
    "\n",
    "\n",
    "Screen(view).show()                      //View.show()\n",
    "Screen(customView).show()                //CustomView.show()"
   ]
  },
  {
   "cell_type": "code",
   "execution_count": null,
   "id": "6ec4eff0",
   "metadata": {},
   "outputs": [],
   "source": []
  }
 ],
 "metadata": {
  "kernelspec": {
   "display_name": "Kotlin",
   "language": "kotlin",
   "name": "kotlin"
  },
  "language_info": {
   "codemirror_mode": "text/x-kotlin",
   "file_extension": ".kt",
   "mimetype": "text/x-kotlin",
   "name": "kotlin",
   "nbconvert_exporter": "",
   "pygments_lexer": "kotlin",
   "version": "1.7.0-dev-1825"
  }
 },
 "nbformat": 4,
 "nbformat_minor": 5
}
