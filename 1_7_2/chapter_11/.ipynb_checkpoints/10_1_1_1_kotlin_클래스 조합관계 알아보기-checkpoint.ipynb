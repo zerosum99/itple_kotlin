{
 "cells": [
  {
   "cell_type": "markdown",
   "id": "10471507",
   "metadata": {},
   "source": [
    "## 조합 "
   ]
  },
  {
   "cell_type": "code",
   "execution_count": null,
   "id": "97e07f54",
   "metadata": {},
   "outputs": [],
   "source": []
  },
  {
   "cell_type": "code",
   "execution_count": 15,
   "id": "73d35bd7",
   "metadata": {},
   "outputs": [],
   "source": [
    "object Parent {\n",
    "    fun parentFunctionality() {}\n",
    "}\n",
    "\n",
    "object Child {\n",
    "    private val parent = Parent\n",
    "    fun childFunctionality() {}\n",
    "}\n",
    "\n",
    "object Grandchild  {\n",
    "    private val parent = Parent\n",
    "    private val child = Child \n",
    "    fun grandchildFunctionality() {}\n",
    "}"
   ]
  },
  {
   "cell_type": "code",
   "execution_count": null,
   "id": "9af93d95",
   "metadata": {},
   "outputs": [],
   "source": []
  },
  {
   "cell_type": "code",
   "execution_count": 16,
   "id": "60acdb51",
   "metadata": {},
   "outputs": [],
   "source": [
    "open class Parent {\n",
    "    fun parentFunctionality() {}\n",
    "}\n",
    "\n",
    "open class Child() {\n",
    "    private val parent = Parent()\n",
    "    \n",
    "    fun parentFunctionality() { parent.parentFunctionality() }\n",
    "    fun childFunctionality() {}\n",
    "}\n",
    "\n",
    "class Grandchild  {\n",
    "    private val parent = Parent()\n",
    "    private val child = Child()\n",
    "\n",
    "    fun parentFunctionality() { parent.parentFunctionality() }\n",
    "    fun childFunctionality() { child.childFunctionality() }\n",
    "    fun grandchildFunctionality() {}\n",
    "}"
   ]
  },
  {
   "cell_type": "code",
   "execution_count": null,
   "id": "3af720c4",
   "metadata": {},
   "outputs": [],
   "source": []
  },
  {
   "cell_type": "code",
   "execution_count": 1,
   "id": "19ef95c0",
   "metadata": {},
   "outputs": [],
   "source": [
    "class CounterSet<T>: HashSet<T>() {\n",
    "   var elementsAdded: Int = 0\n",
    "       private set\n",
    "\n",
    "   override fun add(element: T): Boolean {\n",
    "       elementsAdded++\n",
    "       return super.add(element)\n",
    "   }\n",
    "\n",
    "   override fun addAll(elements: Collection<T>): Boolean {\n",
    "       elementsAdded += elements.size\n",
    "       return super.addAll(elements)\n",
    "   }\n",
    "}"
   ]
  },
  {
   "cell_type": "code",
   "execution_count": 2,
   "id": "ed28d3cd",
   "metadata": {},
   "outputs": [
    {
     "name": "stdout",
     "output_type": "stream",
     "text": [
      "6"
     ]
    }
   ],
   "source": [
    "val counterList = CounterSet<String>()\n",
    "counterList.addAll(listOf(\"A\", \"B\", \"C\"))\n",
    "print(counterList.elementsAdded) // 6"
   ]
  },
  {
   "cell_type": "code",
   "execution_count": 4,
   "id": "09305a66",
   "metadata": {},
   "outputs": [],
   "source": [
    "class CounterSet<T> {\n",
    "   private val innerSet = HashSet<T>()\n",
    "   var elementsAdded: Int = 0\n",
    "       private set\n",
    "\n",
    "   fun add(element: T) {\n",
    "       elementsAdded++\n",
    "       innerSet.add(element)\n",
    "   }\n",
    "\n",
    "   fun addAll(elements: Collection<T>) {\n",
    "       elementsAdded += elements.size\n",
    "       innerSet.addAll(elements)\n",
    "   }\n",
    "}\n"
   ]
  },
  {
   "cell_type": "code",
   "execution_count": 5,
   "id": "3d187177",
   "metadata": {},
   "outputs": [
    {
     "name": "stdout",
     "output_type": "stream",
     "text": [
      "3"
     ]
    }
   ],
   "source": [
    "val counterList = CounterSet<String>()\n",
    "counterList.addAll(listOf(\"A\", \"B\", \"C\"))\n",
    "print(counterList.elementsAdded) // 3"
   ]
  },
  {
   "cell_type": "code",
   "execution_count": null,
   "id": "3c4c3591",
   "metadata": {},
   "outputs": [],
   "source": []
  },
  {
   "cell_type": "code",
   "execution_count": null,
   "id": "9285fbdc",
   "metadata": {},
   "outputs": [],
   "source": []
  },
  {
   "cell_type": "code",
   "execution_count": null,
   "id": "a452282e",
   "metadata": {},
   "outputs": [],
   "source": []
  },
  {
   "cell_type": "code",
   "execution_count": null,
   "id": "1bee3d65",
   "metadata": {},
   "outputs": [],
   "source": []
  },
  {
   "cell_type": "code",
   "execution_count": null,
   "id": "f1b4b037",
   "metadata": {},
   "outputs": [],
   "source": []
  },
  {
   "cell_type": "code",
   "execution_count": null,
   "id": "78e0db3e",
   "metadata": {},
   "outputs": [],
   "source": []
  },
  {
   "cell_type": "code",
   "execution_count": null,
   "id": "1135a078",
   "metadata": {},
   "outputs": [],
   "source": []
  },
  {
   "cell_type": "code",
   "execution_count": null,
   "id": "bd4ba52b",
   "metadata": {},
   "outputs": [],
   "source": []
  }
 ],
 "metadata": {
  "kernelspec": {
   "display_name": "Kotlin",
   "language": "kotlin",
   "name": "kotlin"
  },
  "language_info": {
   "codemirror_mode": "text/x-kotlin",
   "file_extension": ".kt",
   "mimetype": "text/x-kotlin",
   "name": "kotlin",
   "nbconvert_exporter": "",
   "pygments_lexer": "kotlin",
   "version": "1.7.0-dev-1825"
  }
 },
 "nbformat": 4,
 "nbformat_minor": 5
}
