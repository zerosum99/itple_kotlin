{
 "cells": [
  {
   "cell_type": "code",
   "execution_count": null,
   "id": "abb03110",
   "metadata": {},
   "outputs": [],
   "source": []
  },
  {
   "cell_type": "code",
   "execution_count": 1,
   "id": "dffbb22c",
   "metadata": {},
   "outputs": [
    {
     "data": {
      "text/plain": [
       "1.7.20"
      ]
     },
     "execution_count": 1,
     "metadata": {},
     "output_type": "execute_result"
    }
   ],
   "source": [
    "KotlinVersion.CURRENT             // 코틀린 현재 버전 "
   ]
  },
  {
   "cell_type": "code",
   "execution_count": null,
   "id": "6bbfe88e",
   "metadata": {},
   "outputs": [],
   "source": []
  },
  {
   "cell_type": "markdown",
   "id": "78d8ea0b",
   "metadata": {},
   "source": [
    "## 사용자 지정 프로퍼티 위임 "
   ]
  },
  {
   "cell_type": "markdown",
   "id": "6f848226",
   "metadata": {},
   "source": [
    "## 위임처리 클래스 정의 처리"
   ]
  },
  {
   "cell_type": "code",
   "execution_count": 2,
   "id": "42fd878d-5128-4ec9-8393-dcde32ee54db",
   "metadata": {},
   "outputs": [
    {
     "name": "stdout",
     "output_type": "stream",
     "text": [
      "초기값\n",
      "속성 위임 갱신 \n",
      "변경\n"
     ]
    }
   ],
   "source": [
    "class Delegate {                              // 위임속성처리\n",
    "    private var value: String? = null         // 속성값 저장용      \n",
    "\n",
    "    fun getValue_(): String {                 // 조회 \n",
    "        return value ?: \"초기값\"                // 널이면 초기값 전달 \n",
    "    }\n",
    "\n",
    "    fun setValue_(value: String) {            // 갱신\n",
    "        this.value = value                    // 위임 속성 객신 \n",
    "        println(\"속성 위임 갱신 \")\n",
    "    }\n",
    "}\n",
    "\n",
    "class Bar {                                    // 위임관리 클래스 정의 \n",
    "    val del = Delegate()                       // 위임 객체 임시 저장             \n",
    "    var p : String                             // 위임 속성 처리 \n",
    "        get() = del.getValue_()                // 위임 속성 조회 \n",
    "        set(value:String) = \n",
    "                    del.setValue_(value)       // 위임 속성 갱신 \n",
    "}\n",
    "\n",
    "val b = Bar()                                  // 객체 생성                                      \n",
    "\n",
    "println(b.p)                                   // 속성 조회 \n",
    "b.p = \"변경\"                                    // 위임속성 갱신\n",
    "println(b.p)                                   // 속성 조회 "
   ]
  },
  {
   "cell_type": "code",
   "execution_count": null,
   "id": "6b9484fc",
   "metadata": {},
   "outputs": [],
   "source": []
  },
  {
   "cell_type": "markdown",
   "id": "32fa4af6",
   "metadata": {},
   "source": [
    "## 연산자를 사용한 위임처리 "
   ]
  },
  {
   "cell_type": "code",
   "execution_count": 3,
   "id": "531c7f68-65af-4778-a85e-4602f4990714",
   "metadata": {},
   "outputs": [
    {
     "name": "stdout",
     "output_type": "stream",
     "text": [
      "객체 참조 : Line_3$Foo@7a622117 \n",
      "객체 참조 : Line_3$Foo@7a622117, \n",
      "속성이름 : p,\n",
      "속성값   : null\n",
      "객체 참조 : Line_3$Foo@7a622117, \n",
      "속성이름 : p, \n",
      "갱신값 : 속성위임값 변경 \n",
      "객체 참조 : Line_3$Foo@7a622117, \n",
      "속성이름 : p,\n",
      "속성값   : 속성위임값 변경\n"
     ]
    }
   ],
   "source": [
    "import kotlin.reflect.KProperty                             // 속성 클래스 \n",
    "\n",
    "class DelegateSTR {                                         // 속성위임 클래스 정의\n",
    "    private var value: String? = null                       // 타 클래스의 속성값 관리 \n",
    "    operator fun getValue(thisRef: Any?,                    // 속성 조회 메소드  \n",
    "                          property: KProperty<*>): String {\n",
    "        return \"\"\"객체 참조 : $thisRef, \n",
    "                 |속성이름 : ${property.name},\n",
    "                 |속성값   : ${value}\"\"\".trimMargin()\n",
    "    }\n",
    "\n",
    "    operator fun setValue(thisRef: Any?,                     // 속성 갱신 메소드 \n",
    "                          property: KProperty<*>, value: String) {\n",
    "        println(\"\"\"객체 참조 : $thisRef, \n",
    "                  |속성이름 : ${property.name}, \n",
    "                  |갱신값 : $value \"\"\".trimMargin())\n",
    "        this.value = value\n",
    "    }\n",
    "}\n",
    "\n",
    "class Foo {                                                   // 클래스 정의 \n",
    "    var p : String by DelegateSTR()                           // 속성 위임 객체 전달 \n",
    "}\n",
    "\n",
    "val f = Foo()                                                 // 객체 생성\n",
    "println(\"객체 참조 : $f \")\n",
    "println(f.p)                                                  // 객체 조회 \n",
    "f.p = \"속성위임값 변경\"                                           // 속성 갱신\n",
    "println(f.p)                                                  // 객체 조회 "
   ]
  },
  {
   "cell_type": "code",
   "execution_count": null,
   "id": "c5ec0e2a",
   "metadata": {},
   "outputs": [],
   "source": []
  },
  {
   "cell_type": "code",
   "execution_count": null,
   "id": "4be50ea9",
   "metadata": {},
   "outputs": [],
   "source": []
  },
  {
   "cell_type": "markdown",
   "id": "223febba",
   "metadata": {},
   "source": [
    "## 연산자를 사용한 위임처리 "
   ]
  },
  {
   "cell_type": "code",
   "execution_count": 4,
   "id": "b6008df8-25b2-43bf-b987-142c9725d081",
   "metadata": {},
   "outputs": [
    {
     "name": "stdout",
     "output_type": "stream",
     "text": [
      "\n",
      "재할당\n",
      "0\n",
      "100\n",
      "0\n",
      "444\n"
     ]
    }
   ],
   "source": [
    "import kotlin.reflect.KProperty                               // 속성 클래스 \n",
    "\n",
    "class DelegateStr {                                           // 문자열 관리 속성 위임 \n",
    "    private var value: String? = null        \n",
    "    operator fun getValue(thisRef: Any?, \n",
    "                property: KProperty<*>): String {\n",
    "        return value ?: \"\"  }\n",
    "    operator fun setValue(thisRef: Any?, \n",
    "                property: KProperty<*>, value: String) {\n",
    "        this.value = value  }\n",
    "}\n",
    "class DelegateInt {                                           // 정수 관리 속성 위임 \n",
    "    private var value: Int? = null        \n",
    "    operator fun getValue(thisRef: Any?, \n",
    "                property: KProperty<*>): Int {\n",
    "        return value ?: 0  }\n",
    "    operator fun setValue(thisRef: Any?, \n",
    "                property: KProperty<*>, value: Int) {\n",
    "        this.value = value  }\n",
    "}\n",
    "class Foo_ {                                                   // 클래스 정의 \n",
    "    var p : String by DelegateStr()                            // 문자열 속성 위임\n",
    "    var i : Int by DelegateInt()                               // 정수 속성 위임\n",
    "    var x : Int by DelegateInt()\n",
    "}\n",
    "\n",
    "val ff = Foo_()                                                // 객체 생성 \n",
    "\n",
    "println(ff.p );ff.p = \"재할당\";println(ff.p );                   //  문자열 변경 \n",
    "println(ff.i);ff.i = 100;println(ff.i)                         // 정수 변경 \n",
    "println(ff.x);ff.x = 444; println(ff.x);                       // 정수 변경 \n"
   ]
  },
  {
   "cell_type": "code",
   "execution_count": null,
   "id": "b9548dc6-46a7-427b-8119-4f4b8c36f062",
   "metadata": {},
   "outputs": [],
   "source": []
  },
  {
   "cell_type": "code",
   "execution_count": null,
   "id": "8a94a821",
   "metadata": {},
   "outputs": [],
   "source": []
  },
  {
   "cell_type": "code",
   "execution_count": null,
   "id": "4ffae1ac",
   "metadata": {},
   "outputs": [],
   "source": []
  }
 ],
 "metadata": {
  "kernelspec": {
   "display_name": "Kotlin",
   "language": "kotlin",
   "name": "kotlin"
  },
  "language_info": {
   "codemirror_mode": "text/x-kotlin",
   "file_extension": ".kt",
   "mimetype": "text/x-kotlin",
   "name": "kotlin",
   "nbconvert_exporter": "",
   "pygments_lexer": "kotlin",
   "version": "1.7.20-dev-1299"
  }
 },
 "nbformat": 4,
 "nbformat_minor": 5
}
