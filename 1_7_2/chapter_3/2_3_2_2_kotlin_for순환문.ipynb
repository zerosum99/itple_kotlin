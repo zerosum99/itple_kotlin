{
 "cells": [
  {
   "cell_type": "markdown",
   "id": "09acccf0",
   "metadata": {},
   "source": [
    "## 1. for 순환"
   ]
  },
  {
   "cell_type": "markdown",
   "id": "6987145d",
   "metadata": {},
   "source": [
    "## 범위에 대한 순환"
   ]
  },
  {
   "cell_type": "code",
   "execution_count": 1,
   "id": "3ceaf739-de5e-43e2-bcdc-ecc57cf8e302",
   "metadata": {},
   "outputs": [
    {
     "name": "stdout",
     "output_type": "stream",
     "text": [
      "1, 2, 3, 4, 5, \n",
      "1, 2, 3, 4, 5, \n",
      "1, 2, 3, 4, \n"
     ]
    }
   ],
   "source": [
    "for (i in 1..5) {                // 범위 순방향에 대한 순한 \n",
    "    print(i.toString() + \", \")\n",
    "}\n",
    "println()\n",
    "for (i in 1.rangeTo(5)) {        // 범위 순방향에 대한 순환\n",
    "    print(i.toString() + \", \")  \n",
    "}\n",
    "println() \n",
    "\n",
    "for (i in 1.until(5)) {           // 마지막 미포함 순환진 \n",
    "    print(i.toString() + \", \")\n",
    "}\n",
    "println()"
   ]
  },
  {
   "cell_type": "markdown",
   "id": "ff0262fb",
   "metadata": {},
   "source": [
    "## 동일한 값 순환 처리 "
   ]
  },
  {
   "cell_type": "code",
   "execution_count": 2,
   "id": "66659cb7",
   "metadata": {},
   "outputs": [
    {
     "name": "stdout",
     "output_type": "stream",
     "text": [
      "5, \n",
      "5, "
     ]
    }
   ],
   "source": [
    "for (i in 5..5) {               // 범위에 대한 순한 \n",
    "    print(i.toString() + \", \")\n",
    "}\n",
    "println()\n",
    "\n",
    "for (i in 5..5 step 3) {        // 진행에 대한 순환 \n",
    "    print(i.toString() + \", \")\n",
    "}"
   ]
  },
  {
   "cell_type": "code",
   "execution_count": null,
   "id": "0e6ebd11",
   "metadata": {},
   "outputs": [],
   "source": []
  },
  {
   "cell_type": "markdown",
   "id": "7445b31a",
   "metadata": {},
   "source": [
    "## 범위 역방향은 처리 "
   ]
  },
  {
   "cell_type": "code",
   "execution_count": 3,
   "id": "aa2e97ad",
   "metadata": {},
   "outputs": [
    {
     "name": "stdout",
     "output_type": "stream",
     "text": [
      "\n",
      "10, 9, 8, 7, 6, 5, 4, 3, 2, 1, \n",
      "10, "
     ]
    }
   ],
   "source": [
    "for (i in 10..1) {               // 범위에 대한 순한 \n",
    "    print(i.toString() + \", \")\n",
    "}\n",
    "println()\n",
    "\n",
    "for (i in 10.downTo(1)) {         // 역방향 처리 downTo \n",
    "    print(i.toString() + \", \")\n",
    "}\n",
    "println()\n",
    "for (i in 10.downTo(10)) {         // 역방향 처리 downTo \n",
    "    print(i.toString() + \", \")\n",
    "}"
   ]
  },
  {
   "cell_type": "markdown",
   "id": "f6371df0",
   "metadata": {},
   "source": [
    "## 문자 반복처리"
   ]
  },
  {
   "cell_type": "code",
   "execution_count": 4,
   "id": "4087dbaf-0882-495a-ba88-deefcce310c2",
   "metadata": {},
   "outputs": [
    {
     "name": "stdout",
     "output_type": "stream",
     "text": [
      "a, b, c, d, e, f, \n",
      "f, e, d, c, b, a, "
     ]
    }
   ],
   "source": [
    "for (ch in 'a'..'f') {\n",
    "   print(ch.toString() + \", \")      // 순방향 \n",
    "}\n",
    "println()\n",
    "for (ch in 'f' downTo 'a') {\n",
    "   print(ch.toString() + \", \")      // 역방향\n",
    "}"
   ]
  },
  {
   "cell_type": "markdown",
   "id": "e5f9f557",
   "metadata": {},
   "source": [
    "## 진행 "
   ]
  },
  {
   "cell_type": "code",
   "execution_count": 5,
   "id": "010e2047",
   "metadata": {},
   "outputs": [
    {
     "name": "stdout",
     "output_type": "stream",
     "text": [
      "1, 3, 5, 7, 9, \n",
      "10, 7, 4, 1, \n",
      "a, d, g, j, "
     ]
    }
   ],
   "source": [
    "for(i in 1..9 step 2) {             //순방향 진행처리\n",
    "    print(i.toString() + \", \")\n",
    "}\n",
    "println()\n",
    "for (i in 10.downTo(1).step(3)) {   // 역방향 진행처리\n",
    "    print(i.toString() + \", \")\n",
    "}\n",
    "println()\n",
    "for (ch in 'a'..'k' step 3) {       // 문자 진행 처리\n",
    "    print(ch.toString() + \", \")\n",
    "}"
   ]
  },
  {
   "cell_type": "code",
   "execution_count": null,
   "id": "f5fd0de5",
   "metadata": {},
   "outputs": [],
   "source": []
  },
  {
   "cell_type": "code",
   "execution_count": null,
   "id": "eed622f8",
   "metadata": {},
   "outputs": [],
   "source": []
  },
  {
   "cell_type": "markdown",
   "id": "0ebd54f2",
   "metadata": {},
   "source": [
    "## 순환 제어"
   ]
  },
  {
   "cell_type": "code",
   "execution_count": 6,
   "id": "b4edb596",
   "metadata": {},
   "outputs": [
    {
     "name": "stdout",
     "output_type": "stream",
     "text": [
      "continue 2\n",
      "continue 4\n",
      "continue 6\n",
      "break 7 \n"
     ]
    }
   ],
   "source": [
    "for (i in 1..10) {\n",
    "    if (i % 2 == 0) {\n",
    "        println(\"continue $i\")\n",
    "        continue                 // 가장 가까운 순환으로 이동 \n",
    "    }\n",
    "    \n",
    "    if (i == 7) {\n",
    "        println(\"break $i \")\n",
    "        break                    // 가장 가까운 순환을 졸료\n",
    "    }\n",
    "}"
   ]
  },
  {
   "cell_type": "code",
   "execution_count": null,
   "id": "3c67fffd",
   "metadata": {},
   "outputs": [],
   "source": []
  },
  {
   "cell_type": "markdown",
   "id": "074be7b1",
   "metadata": {},
   "source": [
    "## 내포된 순환 제어"
   ]
  },
  {
   "cell_type": "code",
   "execution_count": 7,
   "id": "4c6e625b",
   "metadata": {},
   "outputs": [
    {
     "name": "stdout",
     "output_type": "stream",
     "text": [
      " for 순환 1\n",
      " 내포 순환\n",
      " for 순환 1\n",
      " 내포 순환\n"
     ]
    }
   ],
   "source": [
    "for (i in 1..2) {\n",
    "    for (j in 1..3) {\n",
    "        if (j == 2) {\n",
    "            println(\" 내포 순환\")\n",
    "            break\n",
    "        }\n",
    "        println(\" for 순환 $j\")\n",
    "    }\n",
    "    \n",
    "}"
   ]
  },
  {
   "cell_type": "code",
   "execution_count": null,
   "id": "4d168736",
   "metadata": {},
   "outputs": [],
   "source": []
  },
  {
   "cell_type": "markdown",
   "id": "2e7c0525",
   "metadata": {},
   "source": [
    "## 레이블 처리"
   ]
  },
  {
   "cell_type": "code",
   "execution_count": 8,
   "id": "68395690",
   "metadata": {},
   "outputs": [
    {
     "name": "stdout",
     "output_type": "stream",
     "text": [
      " for 순환 1\n",
      " for 순환 2\n",
      " 내포 순환 \n"
     ]
    }
   ],
   "source": [
    "loop@ for (i in 1..3) {\n",
    "    for (j in 1..5) {\n",
    "        if (j == 3) {\n",
    "            println(\" 내포 순환 \")\n",
    "            break@loop\n",
    "        }\n",
    "        println(\" for 순환 $j\")\n",
    "    }\n",
    "    \n",
    "}"
   ]
  },
  {
   "cell_type": "code",
   "execution_count": null,
   "id": "7e06a972",
   "metadata": {},
   "outputs": [],
   "source": []
  },
  {
   "cell_type": "code",
   "execution_count": null,
   "id": "d9a53e8c",
   "metadata": {},
   "outputs": [],
   "source": []
  }
 ],
 "metadata": {
  "kernelspec": {
   "display_name": "Kotlin",
   "language": "kotlin",
   "name": "kotlin"
  },
  "language_info": {
   "codemirror_mode": "text/x-kotlin",
   "file_extension": ".kt",
   "mimetype": "text/x-kotlin",
   "name": "kotlin",
   "nbconvert_exporter": "",
   "pygments_lexer": "kotlin",
   "version": "1.7.0-dev-1825"
  }
 },
 "nbformat": 4,
 "nbformat_minor": 5
}
