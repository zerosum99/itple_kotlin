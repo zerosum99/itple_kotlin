{
 "cells": [
  {
   "cell_type": "code",
   "execution_count": null,
   "id": "7fca7115",
   "metadata": {},
   "outputs": [],
   "source": []
  },
  {
   "cell_type": "code",
   "execution_count": 1,
   "id": "a5fa8385",
   "metadata": {},
   "outputs": [
    {
     "data": {
      "text/plain": [
       "1.7.20"
      ]
     },
     "execution_count": 1,
     "metadata": {},
     "output_type": "execute_result"
    }
   ],
   "source": [
    "KotlinVersion.CURRENT             // 코틀린 현재 버전 "
   ]
  },
  {
   "cell_type": "code",
   "execution_count": null,
   "id": "ec03f064",
   "metadata": {},
   "outputs": [],
   "source": []
  },
  {
   "cell_type": "markdown",
   "id": "f50f1cf8",
   "metadata": {},
   "source": [
    "## 2. 제어 표현식 : when\n",
    "\n",
    "- 스위치 구문 처리하기 \n",
    "- 특정 값이 매칭되는 경우 해당되는 문장을 처리하고 끝난다.   "
   ]
  },
  {
   "cell_type": "code",
   "execution_count": 2,
   "id": "682390e5",
   "metadata": {},
   "outputs": [
    {
     "data": {
      "text/plain": [
       " 10 Cores"
      ]
     },
     "execution_count": 2,
     "metadata": {},
     "output_type": "execute_result"
    }
   ],
   "source": [
    "val cores = Runtime.getRuntime().availableProcessors()\n",
    "                                  // 노트북 코어수 읽기\n",
    "when(cores) {                     // 특정 값의 패턴 점검\n",
    "    1 -> \" 1 core\"\n",
    "    in 2..16 -> \" $cores Cores\"\n",
    "    else -> \"I want your machine\" // 패턴 불일치 조건 표시\n",
    "}"
   ]
  },
  {
   "cell_type": "markdown",
   "id": "2fc3684f",
   "metadata": {},
   "source": [
    "## 함수 내부에서 패턴 매칭 "
   ]
  },
  {
   "cell_type": "code",
   "execution_count": 3,
   "id": "5562165a",
   "metadata": {},
   "outputs": [
    {
     "name": "stdout",
     "output_type": "stream",
     "text": [
      " 10 Cores\n"
     ]
    }
   ],
   "source": [
    "val cores = Runtime.getRuntime().availableProcessors()\n",
    "\n",
    "fun systenInfo_(cores : Int) : String {\n",
    "    \n",
    "    val result  = when(cores) {          //함수 지역변수에 when 값 할당\n",
    "       1 -> \" 1 core\"\n",
    "       in 2..16 -> \" $cores Cores\"\n",
    "       else -> \"I want your machine\"\n",
    "    }\n",
    "    return result\n",
    "}\n",
    "\n",
    "println(systenInfo_(cores))"
   ]
  },
  {
   "cell_type": "markdown",
   "id": "1e053b49",
   "metadata": {},
   "source": [
    "## 함수 반환값 "
   ]
  },
  {
   "cell_type": "code",
   "execution_count": 4,
   "id": "73a636dc",
   "metadata": {},
   "outputs": [
    {
     "name": "stdout",
     "output_type": "stream",
     "text": [
      " 10 Cores\n"
     ]
    }
   ],
   "source": [
    "fun systenInfoR() : String =                 // when 표현의 바로 반환값 처리 \n",
    "    when(val cores = Runtime.getRuntime()   // when 내의 지역변수 정의 \n",
    "            .availableProcessors()) {\n",
    "    1 -> \" 1 core\"\n",
    "    in 2..16 -> \" $cores Cores\"             \n",
    "    else -> \"I want your machine\"\n",
    "}\n",
    "    \n",
    "println(systenInfoR())"
   ]
  },
  {
   "cell_type": "markdown",
   "id": "f36bdd49",
   "metadata": {},
   "source": [
    "## if문 대용"
   ]
  },
  {
   "cell_type": "code",
   "execution_count": 5,
   "id": "a0c8cfdb",
   "metadata": {},
   "outputs": [
    {
     "name": "stdout",
     "output_type": "stream",
     "text": [
      " 짝수\n",
      " 짝수 \n"
     ]
    }
   ],
   "source": [
    "val number= 10\n",
    "\n",
    "if (number < 0) {\n",
    "    println(\"음수 \")\n",
    "} else if (number == 0) {\n",
    "    println(\" 영 \")\n",
    "} else if (number % 2 == 0) {\n",
    "    println(\" 짝수\")\n",
    "} else {\n",
    "    println(\" 홀수 \")\n",
    "}\n",
    "\n",
    "when {\n",
    "    number < 0 -> println(\" 음수 \")\n",
    "    number == 0 -> println(\" 영 \")\n",
    "    number % 2 == 0 -> println(\" 짝수 \")\n",
    "    else -> println(\" 홀수 \")\n",
    "}"
   ]
  },
  {
   "cell_type": "code",
   "execution_count": null,
   "id": "eb5c853a",
   "metadata": {},
   "outputs": [],
   "source": []
  }
 ],
 "metadata": {
  "kernelspec": {
   "display_name": "Kotlin",
   "language": "kotlin",
   "name": "kotlin"
  },
  "language_info": {
   "codemirror_mode": "text/x-kotlin",
   "file_extension": ".kt",
   "mimetype": "text/x-kotlin",
   "name": "kotlin",
   "nbconvert_exporter": "",
   "pygments_lexer": "kotlin",
   "version": "1.7.20-dev-1299"
  }
 },
 "nbformat": 4,
 "nbformat_minor": 5
}
