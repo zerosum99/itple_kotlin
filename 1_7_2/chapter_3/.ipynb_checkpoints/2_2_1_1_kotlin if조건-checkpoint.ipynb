{
 "cells": [
  {
   "cell_type": "code",
   "execution_count": 1,
   "id": "208e3d49",
   "metadata": {},
   "outputs": [
    {
     "data": {
      "text/plain": [
       "1.7.0"
      ]
     },
     "execution_count": 1,
     "metadata": {},
     "output_type": "execute_result"
    }
   ],
   "source": [
    "KotlinVersion.CURRENT"
   ]
  },
  {
   "cell_type": "markdown",
   "id": "756b7c20",
   "metadata": {},
   "source": [
    "# 표현식과 문장의 차이\n",
    "\n",
    "- 표현식은 평가가 되고 항상 값으로 반환한다.\n",
    "- 코틀린은 if 문은 표현식의 결과를 반환한다."
   ]
  },
  {
   "cell_type": "markdown",
   "id": "b2393bca",
   "metadata": {},
   "source": [
    "## 1. 제어 표현식 : if"
   ]
  },
  {
   "cell_type": "code",
   "execution_count": 2,
   "id": "ed5fd1bc",
   "metadata": {},
   "outputs": [
    {
     "name": "stdout",
     "output_type": "stream",
     "text": [
      " 성공 \n",
      " 실패 \n",
      " 실패 \n"
     ]
    }
   ],
   "source": [
    "if (20 >= 20) println(\" 성공 \")       // 조건식이 참일 경우\n",
    "\n",
    "\n",
    "if (10>=20) println(\" 성공 \")         // 조건식이 참과 거짓 다 가능혈 경우\n",
    "else println(\" 실패 \")\n",
    "\n",
    "val a = if (10>20) \" 성공 \" else \" 실패 \"  // 표현식으로 사용할 때는 if와 else 필수\n",
    "\n",
    "println(a)"
   ]
  },
  {
   "cell_type": "code",
   "execution_count": null,
   "id": "b161a37a",
   "metadata": {},
   "outputs": [],
   "source": []
  },
  {
   "cell_type": "markdown",
   "id": "2da678d7",
   "metadata": {},
   "source": [
    "### 표현식이지만 내부에 출력만해서 실제 반환값이 없다.\n",
    "- 문장처리 처리한 결과"
   ]
  },
  {
   "cell_type": "code",
   "execution_count": 3,
   "id": "d31bc99b",
   "metadata": {},
   "outputs": [
    {
     "name": "stdout",
     "output_type": "stream",
     "text": [
      "거짓\n",
      "거짓\n",
      " 변수 = false\n"
     ]
    }
   ],
   "source": [
    "if (10>20) {             // 조건식은 괄호 안에\n",
    "    println(\" 참 \")      // 블럭구문에 출력 반환값 없음\n",
    "} else {\n",
    "    println(\"거짓\")\n",
    "}\n",
    "\n",
    "val a = if (10>20) {     // 표현식이므로 변수 할당\n",
    "    println(\" 참 \")\n",
    "    true                 // 블럭에 마지막은 반환값으로 할당\n",
    "} else {\n",
    "    println(\" 거짓 \")\n",
    "    false                // 블럭에 마지막은 반환값으로 할당\n",
    "}\n",
    "\n",
    "println(\" 변수 = $a\")"
   ]
  },
  {
   "cell_type": "markdown",
   "id": "d44d63a2",
   "metadata": {},
   "source": [
    "## 조건식 추가 "
   ]
  },
  {
   "cell_type": "code",
   "execution_count": 9,
   "id": "142ade44",
   "metadata": {},
   "outputs": [
    {
     "name": "stdout",
     "output_type": "stream",
     "text": [
      " 영 \n",
      " 영 \n"
     ]
    }
   ],
   "source": [
    "val number = 0\n",
    "\n",
    "if (number > 0) println(\" 양수 \")        //조건문처럼 처리\n",
    "else if (number < 0) println(\" 음수 \")\n",
    "else println(\" 영 \")\n",
    "\n",
    "val result = if (number > 0) \" 양수 \"    //표현식 처리\n",
    "else if (number < 0) \" 음수 \"\n",
    "else \" 영 \"\n",
    "\n",
    "println(result)"
   ]
  },
  {
   "cell_type": "code",
   "execution_count": null,
   "id": "0ec7d20f",
   "metadata": {},
   "outputs": [],
   "source": []
  },
  {
   "cell_type": "markdown",
   "id": "cdc2aac2",
   "metadata": {},
   "source": [
    "### 블럭구문은 항상  로컬변수를 가진다.\n",
    "\n",
    "- 블럭구문에서 선언된 변수를 처리하기"
   ]
  },
  {
   "cell_type": "code",
   "execution_count": 4,
   "id": "57857a3c",
   "metadata": {},
   "outputs": [
    {
     "name": "stdout",
     "output_type": "stream",
     "text": [
      "거짓 400\n"
     ]
    }
   ],
   "source": [
    "val x = 100               //전역변수 \n",
    "\n",
    "if (10>20) {              // 코드블럭 내에 변수 정의가능 \n",
    "    val x = 300           // 지역변수\n",
    "    println(\" 참  $x \")\n",
    "} else {                  // 코드블럭 내에 변수 정의가능\n",
    "    val x = 400           // 지역변수\n",
    "    println(\"거짓 $x\")\n",
    "}"
   ]
  },
  {
   "cell_type": "code",
   "execution_count": null,
   "id": "7fca7115",
   "metadata": {},
   "outputs": [],
   "source": []
  },
  {
   "cell_type": "markdown",
   "id": "a0b1e115",
   "metadata": {},
   "source": [
    "## 내포된 if 문처리 "
   ]
  },
  {
   "cell_type": "code",
   "execution_count": 5,
   "id": "a0c8cfdb",
   "metadata": {},
   "outputs": [
    {
     "name": "stdout",
     "output_type": "stream",
     "text": [
      "첫번째 조건문 if 처리 \n",
      "내포된 조건문 : 참\n"
     ]
    }
   ],
   "source": [
    "val a = 10\n",
    "val b = 20\n",
    "\n",
    "if (a >= 10) {                     // 외부 조건문 \n",
    "    println(\"첫번째 조건문 if 처리 \")\n",
    "    if (b >= 20) {                 // 내포된 조건문\n",
    "        println(\"내포된 조건문 : 참\")\n",
    "    } else {\n",
    "        println(\"내표된 조건문 : 거짓\")\n",
    "    }\n",
    "} else {\n",
    "    println(\" 첫번째 조건문 else처리\")\n",
    "}"
   ]
  },
  {
   "cell_type": "code",
   "execution_count": null,
   "id": "eb5c853a",
   "metadata": {},
   "outputs": [],
   "source": []
  }
 ],
 "metadata": {
  "kernelspec": {
   "display_name": "Kotlin",
   "language": "kotlin",
   "name": "kotlin"
  },
  "language_info": {
   "codemirror_mode": "text/x-kotlin",
   "file_extension": ".kt",
   "mimetype": "text/x-kotlin",
   "name": "kotlin",
   "nbconvert_exporter": "",
   "pygments_lexer": "kotlin",
   "version": "1.7.0-dev-1825"
  }
 },
 "nbformat": 4,
 "nbformat_minor": 5
}
