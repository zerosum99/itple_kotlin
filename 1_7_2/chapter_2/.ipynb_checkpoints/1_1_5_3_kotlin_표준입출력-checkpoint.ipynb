{
 "cells": [
  {
   "cell_type": "markdown",
   "id": "3debfe27",
   "metadata": {},
   "source": [
    "## 표준 입출력\n",
    "\n",
    "- 키보드로 입력을 받고 화면에 출력하는 함수"
   ]
  },
  {
   "cell_type": "markdown",
   "id": "b9a7383a",
   "metadata": {},
   "source": [
    "## 여러 줄 입력을 처리하기"
   ]
  },
  {
   "cell_type": "code",
   "execution_count": 16,
   "id": "ec44279b",
   "metadata": {},
   "outputs": [],
   "source": [
    "fun main() {\n",
    "    val a = readLine()!!.toInt()\n",
    "    val b = readLine()!!.toInt()\n",
    "    \n",
    "    print(\"a= $a\"); print(\" b= $b\");print(\"\\n\")\n",
    "    println(\" sum ${a + b}\")\n",
    "}"
   ]
  },
  {
   "cell_type": "code",
   "execution_count": 17,
   "id": "1cd1adda",
   "metadata": {},
   "outputs": [
    {
     "name": "stdout",
     "output_type": "stream",
     "text": [
      "stdin:20\n",
      "stdin:30\n",
      "a= 20 b= 30\n",
      " sum 50\n"
     ]
    }
   ],
   "source": [
    "main()"
   ]
  },
  {
   "cell_type": "markdown",
   "id": "c0aa10aa",
   "metadata": {},
   "source": [
    "## 한줄 입력을 분리해서 처리하기"
   ]
  },
  {
   "cell_type": "code",
   "execution_count": 21,
   "id": "08beae19",
   "metadata": {},
   "outputs": [],
   "source": [
    "val a = \"100 200 300\".split(\" \")"
   ]
  },
  {
   "cell_type": "code",
   "execution_count": 30,
   "id": "0909ea16",
   "metadata": {},
   "outputs": [
    {
     "data": {
      "text/plain": [
       "class kotlin.String"
      ]
     },
     "execution_count": 30,
     "metadata": {},
     "output_type": "execute_result"
    }
   ],
   "source": [
    "a[0].javaClass.kotlin"
   ]
  },
  {
   "cell_type": "code",
   "execution_count": 27,
   "id": "b2b581a1",
   "metadata": {},
   "outputs": [],
   "source": [
    "val b = a.map({it.toInt()})"
   ]
  },
  {
   "cell_type": "code",
   "execution_count": 29,
   "id": "ea67916e",
   "metadata": {},
   "outputs": [
    {
     "data": {
      "text/plain": [
       "class kotlin.Int"
      ]
     },
     "execution_count": 29,
     "metadata": {},
     "output_type": "execute_result"
    }
   ],
   "source": [
    "b[0].javaClass.kotlin"
   ]
  },
  {
   "cell_type": "code",
   "execution_count": 18,
   "id": "ab1735cf",
   "metadata": {},
   "outputs": [],
   "source": [
    "fun main() {\n",
    "    val input = readLine()!!.split(\" \").map { it.toInt() }\n",
    "\n",
    "    var sum = 0\n",
    "    for(i in (0 until input.size)) {\n",
    "        sum += input[i]\n",
    "    }\n",
    "\n",
    "    println(sum)\n",
    "}"
   ]
  },
  {
   "cell_type": "code",
   "execution_count": 19,
   "id": "9a19f577",
   "metadata": {},
   "outputs": [
    {
     "name": "stdout",
     "output_type": "stream",
     "text": [
      "stdin:100 200 300\n",
      "600\n"
     ]
    }
   ],
   "source": [
    "main()"
   ]
  },
  {
   "cell_type": "code",
   "execution_count": null,
   "id": "3605361f",
   "metadata": {},
   "outputs": [],
   "source": []
  }
 ],
 "metadata": {
  "kernelspec": {
   "display_name": "Kotlin",
   "language": "kotlin",
   "name": "kotlin"
  },
  "language_info": {
   "codemirror_mode": "text/x-kotlin",
   "file_extension": ".kt",
   "mimetype": "text/x-kotlin",
   "name": "kotlin",
   "nbconvert_exporter": "",
   "pygments_lexer": "kotlin",
   "version": "1.6.0-dev-3567"
  }
 },
 "nbformat": 4,
 "nbformat_minor": 5
}
