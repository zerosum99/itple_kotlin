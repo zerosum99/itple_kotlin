{
 "cells": [
  {
   "cell_type": "code",
   "execution_count": null,
   "id": "e3675f1c",
   "metadata": {},
   "outputs": [],
   "source": []
  },
  {
   "cell_type": "markdown",
   "id": "ed2c267b",
   "metadata": {},
   "source": [
    "## 추상클래스를 상속받아 익명클래스 정의"
   ]
  },
  {
   "cell_type": "code",
   "execution_count": 1,
   "id": "291a5849",
   "metadata": {},
   "outputs": [],
   "source": [
    "abstract class Weapon{\n",
    "    fun move(){\n",
    "        println(\"이동합니다.\")\n",
    "    }\n",
    "                     //추상 함수(모양만 정의된 함수)\n",
    "    abstract fun attack()\n",
    "}\n",
    "\n",
    "                     //Anonymous inner Class(추상 익명 클래스)\n",
    "var w2=object : Weapon(){\n",
    "    override fun attack() {\n",
    "        println(\"공중 공격을 해요\")\n",
    "    }\n",
    " \n",
    "}"
   ]
  },
  {
   "cell_type": "code",
   "execution_count": 2,
   "id": "039a210b",
   "metadata": {},
   "outputs": [],
   "source": [
    "fun main(){\n",
    "    w2.move() //이동합니다.\n",
    "    w2.attack() //공중 공격을 해요\n",
    "}\n"
   ]
  },
  {
   "cell_type": "code",
   "execution_count": 3,
   "id": "a48d4c2f",
   "metadata": {},
   "outputs": [
    {
     "name": "stdout",
     "output_type": "stream",
     "text": [
      "이동합니다.\n",
      "공중 공격을 해요\n"
     ]
    }
   ],
   "source": [
    "main()"
   ]
  },
  {
   "cell_type": "code",
   "execution_count": null,
   "id": "fba5442d",
   "metadata": {},
   "outputs": [],
   "source": []
  },
  {
   "cell_type": "markdown",
   "id": "da82a680",
   "metadata": {},
   "source": [
    "## 두 단계 상속해서 구현"
   ]
  },
  {
   "cell_type": "code",
   "execution_count": 7,
   "id": "0fb6be10",
   "metadata": {},
   "outputs": [],
   "source": [
    "// 최상위 추상클래스\n",
    "abstract class Person(val name : String, val age: Int )\n",
    "// 상위 추상클래스\n",
    "abstract class Employee(name: String,age:Int, \n",
    "                        val experience: Int) : Person(name,age){   // Non-Abstract\n",
    "                                                                  \n",
    "    abstract var salary: Double\n",
    "    abstract fun dateOfBirth(date:String)\n",
    "    \n",
    "    fun employeeDetails() {\n",
    "        println(\"이름 : $name\")\n",
    "        println(\"경력 : $experience\")\n",
    "        println(\"연봉 : $salary\")\n",
    "    }\n",
    "}\n",
    "// 구현클래스\n",
    "class Engineer(name: String,age:Int, \n",
    "               experience: Int) : Employee(name,age,experience) {\n",
    "    \n",
    "    override var salary = 500000.00\n",
    "    override fun dateOfBirth(date:String){\n",
    "        println(\"생일 : $date\")\n",
    "    }\n",
    "}\n",
    "\n",
    "fun main() {\n",
    "    val eng = Engineer(\"강유민\",22, 2)\n",
    "    eng.employeeDetails()\n",
    "    eng.dateOfBirth(\"2002-08-16\")\n",
    "}"
   ]
  },
  {
   "cell_type": "code",
   "execution_count": 8,
   "id": "7486a795",
   "metadata": {},
   "outputs": [
    {
     "name": "stdout",
     "output_type": "stream",
     "text": [
      "이름 : 강유민\n",
      "경력 : 2\n",
      "연봉 : 500000.0\n",
      "생일 : 2002-08-16\n"
     ]
    }
   ],
   "source": [
    "main()"
   ]
  },
  {
   "cell_type": "markdown",
   "id": "75eed7e2",
   "metadata": {},
   "source": [
    "## 추상클래스와 구현클래스 계층 상속"
   ]
  },
  {
   "cell_type": "code",
   "execution_count": 21,
   "id": "0b7942da",
   "metadata": {},
   "outputs": [],
   "source": [
    "abstract class Creature {\n",
    "    abstract fun action()\n",
    "}\n",
    "\n",
    "open class BreathingCreature : Creature() {\n",
    "    override fun action() { println(\"지구내에 활동중\")}\n",
    "    open fun breathe() {\n",
    "        println(\"호흡하는 동물 \")\n",
    "    }\n",
    "}\n",
    "\n",
    "abstract class Animal : BreathingCreature() {\n",
    "    override abstract fun breathe()\n",
    "}\n",
    "class Dog: Animal(){\n",
    "    override fun breathe() {\n",
    "        println(\"개는 호흡 \")\n",
    "    }\n",
    "}\n",
    "fun main(){\n",
    "    val lt = BreathingCreature()\n",
    "    lt.action()\n",
    "    lt.breathe()\n",
    "    val d = Dog()\n",
    "    d.breathe()\n",
    "}"
   ]
  },
  {
   "cell_type": "code",
   "execution_count": 22,
   "id": "f4a8ac78",
   "metadata": {},
   "outputs": [
    {
     "name": "stdout",
     "output_type": "stream",
     "text": [
      "지구내에 활동중\n",
      "호흡하는 동물 \n",
      "개는 호흡 \n"
     ]
    }
   ],
   "source": [
    "main()"
   ]
  }
 ],
 "metadata": {
  "kernelspec": {
   "display_name": "Kotlin",
   "language": "kotlin",
   "name": "kotlin"
  },
  "language_info": {
   "codemirror_mode": "text/x-kotlin",
   "file_extension": ".kt",
   "mimetype": "text/x-kotlin",
   "name": "kotlin",
   "nbconvert_exporter": "",
   "pygments_lexer": "kotlin",
   "version": "1.6.0-dev-3567"
  }
 },
 "nbformat": 4,
 "nbformat_minor": 5
}
