{
 "cells": [
  {
   "cell_type": "markdown",
   "id": "3e7ce836",
   "metadata": {},
   "source": [
    "## 추상클래스 정의"
   ]
  },
  {
   "cell_type": "code",
   "execution_count": 2,
   "id": "e3675f1c",
   "metadata": {},
   "outputs": [],
   "source": [
    "abstract class Abstract {\n",
    "    \n",
    "    abstract var age : Int\n",
    "    abstract val name : String\n",
    "    \n",
    "    abstract fun display() :Unit\n",
    "}"
   ]
  },
  {
   "cell_type": "code",
   "execution_count": 6,
   "id": "b14f3e34",
   "metadata": {},
   "outputs": [
    {
     "name": "stdout",
     "output_type": "stream",
     "text": [
      "name= 김영옥  age= 77\n"
     ]
    }
   ],
   "source": [
    "class Concrete(name:String, age:Int) : Abstract() {\n",
    "    override var age : Int = age\n",
    "    override var name : String = name \n",
    "    \n",
    "    override fun display() : Unit {\n",
    "        println(\"name= $name  age= $age\")\n",
    "    }\n",
    "}\n",
    "\n",
    "val con = Concrete(\"김영옥\", 77)\n",
    "con.display()"
   ]
  },
  {
   "cell_type": "markdown",
   "id": "4025749a",
   "metadata": {},
   "source": [
    "## 추상클래스 정의 : 구현속성과 구현메소드 포함"
   ]
  },
  {
   "cell_type": "code",
   "execution_count": 11,
   "id": "29685a71",
   "metadata": {},
   "outputs": [],
   "source": [
    "abstract class Person {\n",
    "    \n",
    "    var age: Int = 40\n",
    "    abstract val name : String\n",
    "\n",
    "    fun displaySSN(ssn: Int) {\n",
    "        println(\"주민번호 is $ssn.\")\n",
    "    }\n",
    "    abstract fun displayJob(description: String)\n",
    "}"
   ]
  },
  {
   "cell_type": "code",
   "execution_count": 12,
   "id": "c82d5969",
   "metadata": {},
   "outputs": [
    {
     "name": "stdout",
     "output_type": "stream",
     "text": [
      "dahl\n",
      "dahl 님의 직업은 소프트웨어 아키텍트 입니다.\n"
     ]
    }
   ],
   "source": [
    "class Man(name : String ) : Person() {\n",
    "    override var name : String = name\n",
    "    override fun displayJob(description : String) {\n",
    "        \n",
    "        println(\"$name 님의 직업은 $description 입니다.\")\n",
    "    }\n",
    "}\n",
    "\n",
    "val m = Man(\"dahl\")\n",
    "println(m.name)\n",
    "m.displayJob(\"소프트웨어 아키텍트\")"
   ]
  },
  {
   "cell_type": "markdown",
   "id": "77cdf60f",
   "metadata": {},
   "source": [
    "## 초기화 실행 이해"
   ]
  },
  {
   "cell_type": "code",
   "execution_count": 13,
   "id": "949cb451",
   "metadata": {},
   "outputs": [
    {
     "name": "stdout",
     "output_type": "stream",
     "text": [
      "이름은  이수미.\n",
      "초등학교 선생님\n",
      "주민번호는 23123.\n"
     ]
    }
   ],
   "source": [
    "abstract class Person(name: String) {\n",
    "    init {\n",
    "        println(\"이름은  $name.\")\n",
    "    }\n",
    "    fun displaySSN(ssn: Int) {\n",
    "        println(\"주민번호는 $ssn.\")\n",
    "    }\n",
    "    abstract fun displayJob(description: String)\n",
    "}\n",
    "\n",
    "class Woman(name: String): Person(name) {\n",
    "    override fun displayJob(description: String) {\n",
    "        println(description)\n",
    "    }\n",
    "}\n",
    "\n",
    "val w = Woman(\"이수미\")\n",
    "w.displayJob(\"초등학교 선생님\")\n",
    "w.displaySSN(23123)\n"
   ]
  },
  {
   "cell_type": "code",
   "execution_count": null,
   "id": "9a6f376f",
   "metadata": {},
   "outputs": [],
   "source": []
  },
  {
   "cell_type": "code",
   "execution_count": null,
   "id": "33e732f6",
   "metadata": {},
   "outputs": [],
   "source": []
  }
 ],
 "metadata": {
  "kernelspec": {
   "display_name": "Kotlin",
   "language": "kotlin",
   "name": "kotlin"
  },
  "language_info": {
   "codemirror_mode": "text/x-kotlin",
   "file_extension": ".kt",
   "mimetype": "text/x-kotlin",
   "name": "kotlin",
   "nbconvert_exporter": "",
   "pygments_lexer": "kotlin",
   "version": "1.6.0-dev-3567"
  }
 },
 "nbformat": 4,
 "nbformat_minor": 5
}
