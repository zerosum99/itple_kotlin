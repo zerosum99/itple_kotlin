{
 "cells": [
  {
   "cell_type": "code",
   "execution_count": null,
   "id": "1de40b01",
   "metadata": {},
   "outputs": [],
   "source": []
  },
  {
   "cell_type": "code",
   "execution_count": 1,
   "id": "f6929fb2",
   "metadata": {},
   "outputs": [
    {
     "data": {
      "text/plain": [
       "1.7.20"
      ]
     },
     "execution_count": 1,
     "metadata": {},
     "output_type": "execute_result"
    }
   ],
   "source": [
    "KotlinVersion.CURRENT             // 코틀린 현재 버전 "
   ]
  },
  {
   "cell_type": "code",
   "execution_count": null,
   "id": "1d98e235",
   "metadata": {},
   "outputs": [],
   "source": []
  },
  {
   "cell_type": "markdown",
   "id": "44a42d3a",
   "metadata": {},
   "source": [
    "## 인터페이스 정의"
   ]
  },
  {
   "cell_type": "code",
   "execution_count": 2,
   "id": "26b564af",
   "metadata": {},
   "outputs": [
    {
     "name": "stdout",
     "output_type": "stream",
     "text": [
      "tv 볼륨을 올려요\n",
      "tv 볼륨을 내려요\n"
     ]
    }
   ],
   "source": [
    "interface Clickable {                        // 인터페이스 정의 \n",
    "    fun up() :Unit                           // 추상메소드 \n",
    "    fun down() :Unit                         // 추상메소드 \n",
    "}\n",
    "\n",
    "class TvVolumn : Clickable {                 // 인터페이스 상속\n",
    "    override fun up() {                      // 추상메소드 구현 \n",
    "        println(\"tv 볼륨을 올려요\")         \n",
    "    }\n",
    " \n",
    "    override fun down() {                    // 추상메소드 구현 \n",
    "        println(\"tv 볼륨을 내려요\")\n",
    "    }\n",
    "}\n",
    "\n",
    "var vol = TvVolumn()                          // 객체 생성\n",
    "vol.up()                                      // 메소드 실행\n",
    "vol.down()                                  "
   ]
  },
  {
   "cell_type": "code",
   "execution_count": null,
   "id": "b7fd0316",
   "metadata": {},
   "outputs": [],
   "source": []
  },
  {
   "cell_type": "markdown",
   "id": "0de35e44",
   "metadata": {},
   "source": [
    "## 디폴트 속성과 함수 "
   ]
  },
  {
   "cell_type": "code",
   "execution_count": 3,
   "id": "fff9f14a",
   "metadata": {},
   "outputs": [
    {
     "name": "stdout",
     "output_type": "stream",
     "text": [
      "디폴트 속성 prot = 300\n",
      "오버라이딩 속성 test = 25\n",
      "디폴트 메소드 hello 호출: 안녕하세요!\n",
      "오버라이딩 메소드 foo 호출: 바보처럼"
     ]
    }
   ],
   "source": [
    "interface MyInterface {                     // 인터페이스 정의 \n",
    "    val aprop: Int\n",
    "    val gprop : Int                         // 디폴트 속성예는 get 정의\n",
    "        get() = 300\n",
    "    val sprop : Int                         // 디폴트 속성\n",
    "        get() = 999\n",
    "    fun foo() : String                      // 추상메소드 \n",
    "    fun hello() {                           // 디폴트 메소드는 구현되어있음\n",
    "        println(\"안녕하세요!\")\n",
    "    }\n",
    "}\n",
    "\n",
    "class InterfaceImp : MyInterface {          // 클래스 구현 \n",
    "    override val aprop : Int = 25           // 추상 속성 구현 \n",
    "    override fun foo() = \"바보처럼\"           // 추상메소드 구현 \n",
    "}\n",
    "\n",
    "val obj = InterfaceImp()                    // 객체 생성 \n",
    "println(\"디폴트 속성 prot = ${obj.gprop}\")     // 속성 참조    \n",
    "\n",
    "println(\"오버라이딩 속성 test = ${obj.aprop}\")  // 속성 참조\n",
    "print(\"디폴트 메소드 hello 호출: \")\n",
    "obj.hello()                                 // 메소드 실행\n",
    "\n",
    "print(\"오버라이딩 메소드 foo 호출: \")\n",
    "print(obj.foo())                            // 메소드 실행 "
   ]
  },
  {
   "cell_type": "code",
   "execution_count": null,
   "id": "38a1a53a",
   "metadata": {},
   "outputs": [],
   "source": []
  },
  {
   "cell_type": "markdown",
   "id": "74f9ea56",
   "metadata": {},
   "source": [
    "## 여러 인터페이스 구현"
   ]
  },
  {
   "cell_type": "code",
   "execution_count": 4,
   "id": "5d6dc974",
   "metadata": {},
   "outputs": [
    {
     "name": "stdout",
     "output_type": "stream",
     "text": [
      "인터페이스 Aable\n",
      "인터페이스 Bable\n"
     ]
    }
   ],
   "source": [
    "interface Aable {                           // 인터페이스 정의                  \n",
    "    fun callMe() {                          // 일반 메소드\n",
    "        println(\"인터페이스 Aable\")          \n",
    "    }\n",
    "}\n",
    "\n",
    "interface Bable  {                          // 인터페이스 정의 \n",
    "    fun callMe() {                          // 일반 메소드 \n",
    "        println(\"인터페이스 Bable\")\n",
    "    }\n",
    "}\n",
    "\n",
    "class Child: Aable, Bable {                 // 인터페이스 상속 \n",
    "    override fun callMe() {                 // 일반 메소드 재정의 \n",
    "        super<Aable>.callMe()               // super를 사용해 Aable 호출 \n",
    "        super<Bable>.callMe()               // super를 사용해 Bable 호출 \n",
    "    }\n",
    "}\n",
    "\n",
    "val obj = Child()                           // 객체 생성 \n",
    "obj.callMe()                                // 메소드 호출 "
   ]
  },
  {
   "cell_type": "code",
   "execution_count": null,
   "id": "ea49ad7a",
   "metadata": {},
   "outputs": [],
   "source": []
  },
  {
   "cell_type": "markdown",
   "id": "f7d60172",
   "metadata": {},
   "source": [
    "## 속성과 메소드 인터페이스 "
   ]
  },
  {
   "cell_type": "code",
   "execution_count": 5,
   "id": "75ba53f7",
   "metadata": {},
   "outputs": [
    {
     "name": "stdout",
     "output_type": "stream",
     "text": [
      "5000\n",
      "일반속성 재정의\n",
      "a = 5000  b = 일반속성 재정의\n"
     ]
    }
   ],
   "source": [
    "interface IProperties {                             // 속성만 가진 인터페이스 \n",
    "    val a : Int                                     // 추상속성\n",
    "    val b : String                                  // 일반속성 \n",
    "        get() = \"일반속성 정의\"\n",
    "}\n",
    "\n",
    "interface IMethod {                                 // 메소드만 가진 인터페이스 \n",
    "    fun display() : String                          // 추상메소드 \n",
    "}\n",
    "  \n",
    "class Demo : IProperties,IMethod {                  // 인터페이스 상속 \n",
    "    override val a : Int = 5000                     // 추상속성 구현\n",
    "    override val b : String = \"일반속성 재정의\"         // 일반속성 재정의 \n",
    "    \n",
    "    override fun display() :String {                // 추상메소드 구현 \n",
    "        return \"a = $a  b = $b\"\n",
    "    }\n",
    "}\n",
    "  \n",
    "val x = Demo()                                      // 객체 생성 \n",
    "println(x.a)                                        // 속성 참조 \n",
    "println(x.b)\n",
    "println(x.display())                                // 메소드 호출 "
   ]
  },
  {
   "cell_type": "code",
   "execution_count": null,
   "id": "e0da7f4e",
   "metadata": {},
   "outputs": [],
   "source": []
  },
  {
   "cell_type": "markdown",
   "id": "997d60e7",
   "metadata": {},
   "source": [
    "## 인터페이스와 추상클래스 구현"
   ]
  },
  {
   "cell_type": "code",
   "execution_count": 6,
   "id": "aeb760b0",
   "metadata": {},
   "outputs": [
    {
     "name": "stdout",
     "output_type": "stream",
     "text": [
      "이동합니다.\n",
      "아무거나 공격해요\n",
      "파워를 올려요\n",
      "파워를 내려요\n",
      "일반속성\n",
      "아무거나 공격해요\n",
      "파워를 내려요\n"
     ]
    }
   ],
   "source": [
    "interface Clickabel {                                  // 인터페이스 정의 \n",
    "    val prop : String\n",
    "        get() = \"일반속성\"\n",
    "    fun up()  : Unit                                   // 추상메소드\n",
    "    fun down() : Unit\n",
    "}\n",
    "abstract class Tank {                                  // 추상 클래스 정의 \n",
    "    fun move(){                                        // 일반 메소드 \n",
    "        println(\"이동합니다.\")\n",
    "    }\n",
    "    abstract fun attack() : Unit                       // 추상메소드 \n",
    "}\n",
    "class MultiClass:Tank(), Clickabel {                   // 추상 클래스와 인터페이스 상속 \n",
    "    override fun attack() = println(\"아무거나 공격해요\")   // 추상 메소드 구현 \n",
    " \n",
    "    override fun up() = println(\"파워를 올려요\")          // 추상메소드 구현 \n",
    "    override fun down()= println(\"파워를 내려요\")         // 추상 메소드 구현  \n",
    "}\n",
    "var mm :MultiClass = MultiClass()                      // 자료형을 자기 클래스\n",
    "mm.move()                                              //  모든 정의를 다 사용 가능                       \n",
    "mm.attack()\n",
    "mm.up()\n",
    "mm.down()\n",
    "println(mm.prop)\n",
    " \n",
    "var m2: Tank = MultiClass()                            // 추상 클래스로 자료형 \n",
    "// m2.up()                                             // 참조 불가 \n",
    "// m2.prop                                             // 참조 불가\n",
    "m2.attack()\n",
    "var m3: Clickabel = MultiClass()                       // 인터페이스로 자료형 \n",
    "// m3.move()                                           // 참조 불가 \n",
    "m3.down()"
   ]
  },
  {
   "cell_type": "code",
   "execution_count": null,
   "id": "21e75424",
   "metadata": {},
   "outputs": [],
   "source": []
  },
  {
   "cell_type": "markdown",
   "id": "0a025a27",
   "metadata": {},
   "source": [
    "## 인터페이스 상속"
   ]
  },
  {
   "cell_type": "code",
   "execution_count": 7,
   "id": "ee15a160",
   "metadata": {},
   "outputs": [
    {
     "name": "stdout",
     "output_type": "stream",
     "text": [
      "야호 !!!\n",
      "관악산\n",
      "관악산\n"
     ]
    }
   ],
   "source": [
    "interface Aable {                                   // 최상위 인터페이스 정의\n",
    "    fun absMethod() : Unit\n",
    "}\n",
    "\n",
    "interface Bable {                                   // 최상위 인터페이스 정의 \n",
    "    fun bMethod() : Unit\n",
    "}\n",
    "\n",
    "interface Cable : Aable, Bable {                    // 인터페이스 상속\n",
    "    override abstract fun absMethod() : Unit        // 상속한 인터페이스 재정의\n",
    "    fun method() : Unit\n",
    "}\n",
    "\n",
    "class ABablity : Cable {                             // 클래스 구현 \n",
    "    override fun absMethod()  = println(\"야호 !!!\")   // 추상 메소드 구현 \n",
    "    override fun bMethod() = println(\"관악산\")         // 추상 메소드 구현 \n",
    "    override fun method() = println(\"낙성대\")          // 추상 메소드 구현 \n",
    "}\n",
    "\n",
    "val a : Aable = ABablity()                            // Aable 자료형으로 사용 \n",
    "//a.method()                                          // 제공하지 않는 메소드 호출시 에러 \n",
    "a.absMethod()\n",
    "\n",
    "val b : Bable = ABablity()                            // Bable 자료형사용 \n",
    "b.bMethod()\n",
    "\n",
    "val c : Cable = ABablity()                            // Cable 자료형 사용 \n",
    "c.bMethod()                                           // 인터페이스를 상속해서 모든 메소드를 가지고 있음"
   ]
  },
  {
   "cell_type": "code",
   "execution_count": null,
   "id": "9a30a295",
   "metadata": {},
   "outputs": [],
   "source": []
  },
  {
   "cell_type": "code",
   "execution_count": null,
   "id": "bf0b143e",
   "metadata": {},
   "outputs": [],
   "source": []
  }
 ],
 "metadata": {
  "kernelspec": {
   "display_name": "Kotlin",
   "language": "kotlin",
   "name": "kotlin"
  },
  "language_info": {
   "codemirror_mode": "text/x-kotlin",
   "file_extension": ".kt",
   "mimetype": "text/x-kotlin",
   "name": "kotlin",
   "nbconvert_exporter": "",
   "pygments_lexer": "kotlin",
   "version": "1.7.20-dev-1299"
  }
 },
 "nbformat": 4,
 "nbformat_minor": 5
}
