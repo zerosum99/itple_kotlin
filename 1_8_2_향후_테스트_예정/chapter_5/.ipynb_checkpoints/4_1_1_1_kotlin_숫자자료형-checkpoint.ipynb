{
 "cells": [
  {
   "cell_type": "markdown",
   "id": "45762343",
   "metadata": {},
   "source": [
    "## 숫자"
   ]
  },
  {
   "cell_type": "markdown",
   "id": "f724e371",
   "metadata": {},
   "source": [
    "## 숫자 클래스의 최대/최소값"
   ]
  },
  {
   "cell_type": "code",
   "execution_count": 1,
   "id": "7adafc8c",
   "metadata": {},
   "outputs": [
    {
     "name": "stdout",
     "output_type": "stream",
     "text": [
      "Byte   min = -128\n",
      "Byte   max = 127\n",
      "Short  min = -32768\n",
      "Short  max = 32767\n",
      "Int    min = -2147483648 \n",
      "Int    max = 2147483647\n",
      "Long   min = -9223372036854775808\n",
      "Long   max = 9223372036854775807\n",
      "Float  min = 1.4E-45\n",
      "Float  max = 3.4028235E38\n",
      "Double min = 4.9E-324\n",
      "Double max = 1.7976931348623157E308\n"
     ]
    }
   ],
   "source": [
    "println(\"Byte   min = ${Byte.MIN_VALUE}\")\n",
    "println(\"Byte   max = ${Byte.MAX_VALUE}\")\n",
    "println(\"Short  min = ${Short.MIN_VALUE}\")\n",
    "println(\"Short  max = ${Short.MAX_VALUE}\")\n",
    "println(\"Int    min = ${Int.MIN_VALUE} \")\n",
    "println(\"Int    max = ${Int.MAX_VALUE}\")\n",
    "println(\"Long   min = ${Long.MIN_VALUE}\")\n",
    "println(\"Long   max = ${Long.MAX_VALUE}\")\n",
    "println(\"Float  min = ${Float.MIN_VALUE}\")\n",
    "println(\"Float  max = ${Float.MAX_VALUE}\")\n",
    "println(\"Double min = ${Double.MIN_VALUE}\")\n",
    "println(\"Double max = ${Double.MAX_VALUE}\")"
   ]
  },
  {
   "cell_type": "code",
   "execution_count": null,
   "id": "0cf5844d",
   "metadata": {},
   "outputs": [],
   "source": []
  },
  {
   "cell_type": "code",
   "execution_count": null,
   "id": "470f37e1",
   "metadata": {},
   "outputs": [],
   "source": []
  },
  {
   "cell_type": "markdown",
   "id": "51aa758c",
   "metadata": {},
   "source": [
    "## 정수 클래스 내부의 속성과 메소드 "
   ]
  },
  {
   "cell_type": "code",
   "execution_count": 2,
   "id": "9f446ea4",
   "metadata": {},
   "outputs": [],
   "source": [
    "fun Any.dir() : Set<String> {\n",
    "    val a = this.javaClass.kotlin\n",
    "    println(a.simpleName)\n",
    "    var ll = mutableListOf<String>()\n",
    "    for (i in a.members) {\n",
    "        ll.add(i.name)\n",
    "    }\n",
    "    return ll.toSet() \n",
    "}"
   ]
  },
  {
   "cell_type": "code",
   "execution_count": 3,
   "id": "789a9717",
   "metadata": {},
   "outputs": [
    {
     "name": "stdout",
     "output_type": "stream",
     "text": [
      "Int\n",
      "and, compareTo, dec, div, inc, \n",
      "minus, or, plus, rangeTo, rem, \n",
      "shr, times, toByte, toChar, toDouble, \n",
      "toInt, toLong, toShort, unaryMinus, unaryPlus, \n",
      "xor, equals, hashCode, toString, "
     ]
    }
   ],
   "source": [
    "val intDir =(100).dir()\n",
    "\n",
    "var count =1\n",
    "for (i in intDir) {\n",
    "    if (count % 6 ==0) println()\n",
    "    else print(i+ \", \")\n",
    "    count++   \n",
    "}"
   ]
  },
  {
   "cell_type": "code",
   "execution_count": null,
   "id": "0d68f03a",
   "metadata": {},
   "outputs": [],
   "source": []
  },
  {
   "cell_type": "markdown",
   "id": "d60ea05f",
   "metadata": {},
   "source": [
    "## Boolean"
   ]
  },
  {
   "cell_type": "code",
   "execution_count": 4,
   "id": "d83e17e6",
   "metadata": {},
   "outputs": [
    {
     "name": "stdout",
     "output_type": "stream",
     "text": [
      "Boolean\n",
      "and, compareTo, not, or, xor, \n",
      "hashCode, toString, "
     ]
    }
   ],
   "source": [
    "val boolDir =(true).dir()\n",
    "\n",
    "var count =1\n",
    "for (i in boolDir) {\n",
    "    if (count % 6 ==0) println()\n",
    "    else print(i+ \", \")\n",
    "    count++   \n",
    "}"
   ]
  },
  {
   "cell_type": "code",
   "execution_count": null,
   "id": "910b19a5",
   "metadata": {},
   "outputs": [],
   "source": []
  },
  {
   "cell_type": "markdown",
   "id": "9b12626a",
   "metadata": {},
   "source": [
    "## 인스턴스 체크 "
   ]
  },
  {
   "cell_type": "code",
   "execution_count": 18,
   "id": "07a167cc",
   "metadata": {},
   "outputs": [
    {
     "name": "stdout",
     "output_type": "stream",
     "text": [
      "class kotlin.Int\n",
      "true\n",
      "true\n",
      "true\n"
     ]
    }
   ],
   "source": [
    "import kotlin.reflect.KClass\n",
    "\n",
    "fun<T> Int.isIntanceOf(compared: T): Boolean {\n",
    "    return when(compared) {\n",
    "        this.javaClass.kotlin, Number::class -> true\n",
    "        else  -> false\n",
    "    } \n",
    "}\n",
    "\n",
    "fun<T> Short.isIntanceOf(compared: T): Boolean {\n",
    "    return when(compared) {\n",
    "        this.javaClass.kotlin, Number::class -> true\n",
    "        else  -> false\n",
    "    } \n",
    "}\n",
    "\n",
    "fun<T> Float.isIntanceOf(compared: T): Boolean {\n",
    "    return when(compared) {\n",
    "        this.javaClass.kotlin, Number::class -> true\n",
    "        else  -> false\n",
    "    } \n",
    "}\n",
    "\n",
    "fun<T> Double.isIntanceOf(compared: T): Boolean {\n",
    "    return when(compared) {\n",
    "        this.javaClass.kotlin, Number::class -> true\n",
    "        else  -> false\n",
    "    } \n",
    "}\n",
    "\n",
    "\n",
    "println(Int::class)\n",
    "\n",
    "println((100).isIntanceOf(Number::class))\n",
    "println((100).isIntanceOf(Int::class))\n",
    "\n",
    "println((100)::class.isInstance(100))"
   ]
  },
  {
   "cell_type": "code",
   "execution_count": null,
   "id": "bd9cbbe4",
   "metadata": {},
   "outputs": [],
   "source": []
  },
  {
   "cell_type": "code",
   "execution_count": 6,
   "id": "d88c0fb8",
   "metadata": {},
   "outputs": [
    {
     "name": "stdout",
     "output_type": "stream",
     "text": [
      "stdin:100 Int\n",
      "[100, Int]\n",
      " Int \n"
     ]
    }
   ],
   "source": [
    "val r = readLine()!!.split(\" \")\n",
    "println(r)\n",
    "\n",
    "val a = r[0]\n",
    "val type = r[1]\n",
    "\n",
    "val x = when(type) {\n",
    "    \"Int\" -> a.toInt()\n",
    "    \"Long\" -> a.toLong()\n",
    "    \"Float\" -> a.toFloat()\n",
    "    \"Double\" -> a.toDouble()\n",
    "    else -> println(\" not number \")\n",
    "}\n",
    "\n",
    "when(x) {\n",
    "    is Int -> println(\" Int \")\n",
    "    is Long -> println(\" Long \")\n",
    "    is Float -> println(\" Float \")\n",
    "    is Double -> println(\" Double \")\n",
    "    else -> println(\" not number \")\n",
    "}\n"
   ]
  },
  {
   "cell_type": "code",
   "execution_count": null,
   "id": "dd0ddea2",
   "metadata": {},
   "outputs": [],
   "source": []
  },
  {
   "cell_type": "markdown",
   "id": "f1e5a0ab",
   "metadata": {},
   "source": [
    "## 서브클래스 확인 함수 import "
   ]
  },
  {
   "cell_type": "code",
   "execution_count": 7,
   "id": "fa5d4c46",
   "metadata": {},
   "outputs": [
    {
     "name": "stdout",
     "output_type": "stream",
     "text": [
      "[kotlin.Number, kotlin.Comparable<kotlin.Int>, java.io.Serializable]\n"
     ]
    }
   ],
   "source": [
    "import kotlin.reflect.full.isSubclassOf\n",
    "\n",
    "println(((100)::class).supertypes)"
   ]
  },
  {
   "cell_type": "markdown",
   "id": "f3086e84",
   "metadata": {},
   "source": [
    "## 작은 수"
   ]
  },
  {
   "cell_type": "code",
   "execution_count": 13,
   "id": "ca565159",
   "metadata": {},
   "outputs": [
    {
     "name": "stdout",
     "output_type": "stream",
     "text": [
      "[kotlin.Number, kotlin.Comparable<kotlin.Byte>, java.io.Serializable]\n",
      "class kotlin.Byte\n",
      "true\n",
      "true\n"
     ]
    }
   ],
   "source": [
    "val b = (100).toByte()\n",
    "\n",
    "println(b::class.supertypes)\n",
    "println(b::class)\n",
    "println((b::class).isInstance(b))\n",
    "println((b::class).isSubclassOf(Number::class))"
   ]
  },
  {
   "cell_type": "code",
   "execution_count": null,
   "id": "972344b4",
   "metadata": {},
   "outputs": [],
   "source": []
  },
  {
   "cell_type": "code",
   "execution_count": 16,
   "id": "595cd601",
   "metadata": {},
   "outputs": [
    {
     "name": "stdout",
     "output_type": "stream",
     "text": [
      "class kotlin.Short\n",
      "true\n",
      "true\n"
     ]
    }
   ],
   "source": [
    "val s = (100).toShort()\n",
    "\n",
    "println(s::class)\n",
    "println(s.isIntanceOf(s::class))\n",
    "println((s::class).isSubclassOf(Number::class))"
   ]
  },
  {
   "cell_type": "code",
   "execution_count": null,
   "id": "55a54e26",
   "metadata": {},
   "outputs": [],
   "source": []
  },
  {
   "cell_type": "markdown",
   "id": "8ad7d092",
   "metadata": {},
   "source": [
    "## 실수"
   ]
  },
  {
   "cell_type": "code",
   "execution_count": 19,
   "id": "cc1759d2",
   "metadata": {},
   "outputs": [
    {
     "name": "stdout",
     "output_type": "stream",
     "text": [
      "class kotlin.Float\n",
      "false\n",
      "true\n",
      "class kotlin.Double\n",
      "false\n",
      "true\n"
     ]
    }
   ],
   "source": [
    "val f = (100).toFloat()\n",
    "\n",
    "println(f::class)\n",
    "println(f.isIntanceOf(s::class))\n",
    "println((f::class).isSubclassOf(Number::class))\n",
    "\n",
    "val d = (100).toDouble()\n",
    "\n",
    "println(d::class)\n",
    "println(d.isIntanceOf(s::class))\n",
    "println((d::class).isSubclassOf(Number::class))"
   ]
  },
  {
   "cell_type": "markdown",
   "id": "0198001a",
   "metadata": {},
   "source": [
    "## NaN 값 처리"
   ]
  },
  {
   "cell_type": "code",
   "execution_count": 20,
   "id": "32b85736",
   "metadata": {},
   "outputs": [
    {
     "name": "stdout",
     "output_type": "stream",
     "text": [
      "NaN\n",
      "NaN\n",
      "false\n",
      "false\n",
      "false\n"
     ]
    }
   ],
   "source": [
    "println(Double.NaN + 100.0)\n",
    "println(Double.NaN + Double.POSITIVE_INFINITY)\n",
    "\n",
    "println(Double.NaN == Double.NaN)\n",
    "println(Double.NaN < Double.POSITIVE_INFINITY)\n",
    "println(Double.NaN > Double.POSITIVE_INFINITY)"
   ]
  },
  {
   "cell_type": "code",
   "execution_count": null,
   "id": "1ebdeb98",
   "metadata": {},
   "outputs": [],
   "source": []
  },
  {
   "cell_type": "code",
   "execution_count": null,
   "id": "68d4102b",
   "metadata": {},
   "outputs": [],
   "source": []
  }
 ],
 "metadata": {
  "kernelspec": {
   "display_name": "Kotlin",
   "language": "kotlin",
   "name": "kotlin"
  },
  "language_info": {
   "codemirror_mode": "text/x-kotlin",
   "file_extension": ".kt",
   "mimetype": "text/x-kotlin",
   "name": "kotlin",
   "nbconvert_exporter": "",
   "pygments_lexer": "kotlin",
   "version": "1.7.0-dev-1825"
  }
 },
 "nbformat": 4,
 "nbformat_minor": 5
}
