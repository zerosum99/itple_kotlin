{
 "cells": [
  {
   "cell_type": "code",
   "execution_count": 1,
   "id": "c8358c42",
   "metadata": {},
   "outputs": [
    {
     "data": {
      "text/plain": [
       "Current classpath (7 paths):\n",
       "/Users/dahlmoon/anaconda3/envs/kotlin/lib/python3.8/site-packages/run_kotlin_kernel/jars/lib-0.11.0-61.jar\n",
       "/Users/dahlmoon/anaconda3/envs/kotlin/lib/python3.8/site-packages/run_kotlin_kernel/jars/api-0.11.0-61.jar\n",
       "/Users/dahlmoon/anaconda3/envs/kotlin/lib/python3.8/site-packages/run_kotlin_kernel/jars/kotlin-script-runtime-1.7.0-dev-1825.jar\n",
       "/Users/dahlmoon/anaconda3/envs/kotlin/lib/python3.8/site-packages/run_kotlin_kernel/jars/kotlin-reflect-1.6.0.jar\n",
       "/Users/dahlmoon/anaconda3/envs/kotlin/lib/python3.8/site-packages/run_kotlin_kernel/jars/kotlin-stdlib-1.6.0.jar\n",
       "/Users/dahlmoon/anaconda3/envs/kotlin/lib/python3.8/site-packages/run_kotlin_kernel/jars/annotations-13.0.jar\n",
       "/Users/dahlmoon/anaconda3/envs/kotlin/lib/python3.8/site-packages/run_kotlin_kernel/jars/kotlin-stdlib-common-1.6.0.jar"
      ]
     },
     "execution_count": 1,
     "metadata": {},
     "output_type": "execute_result"
    }
   ],
   "source": [
    ":classpath"
   ]
  },
  {
   "cell_type": "code",
   "execution_count": null,
   "id": "b98ece80",
   "metadata": {},
   "outputs": [],
   "source": []
  },
  {
   "cell_type": "code",
   "execution_count": 2,
   "id": "254278e2",
   "metadata": {},
   "outputs": [],
   "source": [
    "@file:DependsOn(\"org.jetbrains.kotlinx:kotlinx-coroutines-core:1.6.1\")"
   ]
  },
  {
   "cell_type": "code",
   "execution_count": 3,
   "id": "612c0d40",
   "metadata": {},
   "outputs": [],
   "source": [
    "import kotlinx.coroutines.*"
   ]
  },
  {
   "cell_type": "code",
   "execution_count": null,
   "id": "a954a623",
   "metadata": {},
   "outputs": [],
   "source": []
  },
  {
   "cell_type": "markdown",
   "id": "72b793fc",
   "metadata": {},
   "source": [
    "## 코루틴 중단 처리 \n",
    "\n",
    "-  예외발생함 "
   ]
  },
  {
   "cell_type": "code",
   "execution_count": 4,
   "id": "c0763ddb",
   "metadata": {},
   "outputs": [
    {
     "name": "stdout",
     "output_type": "stream",
     "text": [
      "job: I'm sleeping 0 ...\n",
      "job: I'm sleeping 1 ...\n",
      "job: I'm sleeping 2 ...\n",
      "main: I'm tired of waiting!\n",
      "main: Now I can quit.\n"
     ]
    }
   ],
   "source": [
    "fun main33() = runBlocking {\n",
    "    val job = launch {\n",
    "        repeat(1000) { i ->\n",
    "            println(\"job: I'm sleeping $i ...\")\n",
    "            delay(500L)\n",
    "        }\n",
    "    }\n",
    "    delay(1300L)                                     // delay a bit\n",
    "    println(\"main: I'm tired of waiting!\")\n",
    "    job.cancel()                                     // cancels the job\n",
    "    job.join()                                       // waits for job's completion \n",
    "    println(\"main: Now I can quit.\")\n",
    "}\n",
    "\n",
    "main33()"
   ]
  },
  {
   "cell_type": "code",
   "execution_count": null,
   "id": "e259ece4",
   "metadata": {},
   "outputs": [],
   "source": []
  },
  {
   "cell_type": "code",
   "execution_count": 5,
   "id": "97fdd13e",
   "metadata": {},
   "outputs": [
    {
     "name": "stdout",
     "output_type": "stream",
     "text": [
      "job: I'm sleeping 0 ...\n",
      "job: I'm sleeping 1 ...\n",
      "job: I'm sleeping 2 ...\n",
      "main: I'm tired of waiting!\n",
      "job: I'm sleeping 3 ...\n",
      "job: I'm sleeping 4 ...\n",
      "main: Now I can quit.\n"
     ]
    }
   ],
   "source": [
    "fun main34() = runBlocking {\n",
    "    val startTime = System.currentTimeMillis()\n",
    "    val job = launch(Dispatchers.Default) {\n",
    "    var nextPrintTime = startTime\n",
    "    var i = 0\n",
    "    while (i < 5) {                                      // computation loop, just wastes CPU\n",
    "                                                          // print a message twice a second\n",
    "        if (System.currentTimeMillis() >= nextPrintTime) {\n",
    "            println(\"job: I'm sleeping ${i++} ...\")\n",
    "            nextPrintTime += 500L\n",
    "        }\n",
    "    }\n",
    "    }\n",
    "    delay(1300L)                                      // delay a bit\n",
    "    println(\"main: I'm tired of waiting!\")\n",
    "    job.cancelAndJoin()                                // cancels the job and waits for its completion\n",
    "    println(\"main: Now I can quit.\")\n",
    "}\n",
    "\n",
    "main34()"
   ]
  },
  {
   "cell_type": "code",
   "execution_count": null,
   "id": "610c2328",
   "metadata": {},
   "outputs": [],
   "source": []
  },
  {
   "cell_type": "markdown",
   "id": "69108add",
   "metadata": {},
   "source": [
    "## 중단처리 알아보기"
   ]
  },
  {
   "cell_type": "code",
   "execution_count": 6,
   "id": "49448a5a",
   "metadata": {},
   "outputs": [
    {
     "name": "stdout",
     "output_type": "stream",
     "text": [
      "isRunningThread[DefaultDispatcher-worker-1,5,main]\n",
      "isRunningThread[DefaultDispatcher-worker-1,5,main]\n",
      "잡 중단상태 2 : false\n"
     ]
    }
   ],
   "source": [
    "suspend fun stop(job : Job) {\n",
    "    job.cancel()\n",
    "    println(\"잡 중단상태 2 : \" +job.isActive)\n",
    "    job.join()\n",
    "}\n",
    "\n",
    "fun main3() = runBlocking {\n",
    "    var time = System.currentTimeMillis()\n",
    "    val job = launch(Dispatchers.Default) {\n",
    "        while (isActive) {                                   // 잡상태 여부 \n",
    "            if (System.currentTimeMillis() > time) {\n",
    "                println(\"isRunning\"\n",
    "                        + Thread.currentThread())\n",
    "                time += 1000L\n",
    "            }\n",
    "        }\n",
    "    }\n",
    "    delay(1000L)\n",
    "    stop(job)\n",
    "}\n",
    "\n",
    "main3()"
   ]
  },
  {
   "cell_type": "code",
   "execution_count": null,
   "id": "a86d21c7",
   "metadata": {},
   "outputs": [],
   "source": []
  },
  {
   "cell_type": "markdown",
   "id": "b494a1e6",
   "metadata": {},
   "source": [
    "## 타임아웃 처리"
   ]
  },
  {
   "cell_type": "code",
   "execution_count": 7,
   "id": "79bd2f43",
   "metadata": {},
   "outputs": [
    {
     "name": "stdout",
     "output_type": "stream",
     "text": [
      "isRunningThread[Thread-28,5,main]\n",
      "isRunningThread[Thread-28,5,main]\n",
      "isRunningThread[Thread-28,5,main]\n",
      "kotlinx.coroutines.TimeoutCancellationException: Timed out wait\n",
      "Exit\n"
     ]
    }
   ],
   "source": [
    "fun main5() = runBlocking {\n",
    "    try {\n",
    "        withTimeout(3000L) {\n",
    "            repeat(1000) {\n",
    "                println(\"isRunning\"\n",
    "                        + Thread.currentThread())\n",
    "                delay(1000L)\n",
    "            }\n",
    "        }\n",
    "    } catch (e: Exception) {\n",
    "            println(e.fillInStackTrace()\n",
    "                    .toString().slice(0..62)) //printStackTrace()\n",
    "    }\n",
    "\n",
    "    println(\"Exit\")\n",
    "}\n",
    "main5()"
   ]
  },
  {
   "cell_type": "code",
   "execution_count": null,
   "id": "159d665e",
   "metadata": {},
   "outputs": [],
   "source": []
  },
  {
   "cell_type": "code",
   "execution_count": null,
   "id": "7751ffac",
   "metadata": {},
   "outputs": [],
   "source": []
  },
  {
   "cell_type": "code",
   "execution_count": 8,
   "id": "062a9dd0",
   "metadata": {},
   "outputs": [
    {
     "name": "stdout",
     "output_type": "stream",
     "text": [
      "0\n"
     ]
    }
   ],
   "source": [
    "var acquired = 0\n",
    "\n",
    "class Resource {\n",
    "    init { acquired++ }                           // Acquire the resource\n",
    "    fun close() { acquired-- }                    // Release the resource\n",
    "}\n",
    "\n",
    "fun main() {\n",
    "    runBlocking {\n",
    "        repeat(100_000) {                         // Launch 100K coroutines\n",
    "            launch { \n",
    "                val resource = withTimeout(60) { // Timeout of 60 ms\n",
    "                    delay(50)                     // Delay for 50 ms\n",
    "                    Resource()                  // Acquire a resource and return it from withTimeout block     \n",
    "                }\n",
    "                \n",
    "                resource.close()                // Release the resource\n",
    "            }\n",
    "        }\n",
    "    }\n",
    "                                           // Outside of runBlocking all coroutines have completed\n",
    "    println(acquired)                       // Print the number of resources still acquired\n",
    "}\n",
    "\n",
    "main()"
   ]
  },
  {
   "cell_type": "code",
   "execution_count": null,
   "id": "af5caf4f",
   "metadata": {},
   "outputs": [],
   "source": []
  },
  {
   "cell_type": "markdown",
   "id": "e9249f3c",
   "metadata": {},
   "source": [
    "## 코루틴 중단 처리  : 예외처리\n",
    "\n",
    "-  예외발생함 "
   ]
  },
  {
   "cell_type": "code",
   "execution_count": 9,
   "id": "60d71d5d",
   "metadata": {},
   "outputs": [],
   "source": [
    "fun main() = runBlocking {\n",
    "    val job = launch {\n",
    "        repeat(5) {\n",
    "            try {\n",
    "                delay(1000L)\n",
    "                println(\"Job Run Index($it)\"\n",
    "                        + Thread.currentThread())\n",
    "            } catch (e: Exception) {\n",
    "                println(e.fillInStackTrace()\n",
    "                        .toString().slice(0..62)) //printStackTrace()\n",
    "            }\n",
    "        }\n",
    "    }\n",
    "    \n",
    "    println(\"Start \"+ Thread.currentThread())\n",
    "    delay(3000L)\n",
    "    job.cancel()\n",
    "    job.join()\n",
    "    \n",
    "}"
   ]
  },
  {
   "cell_type": "code",
   "execution_count": 10,
   "id": "982bd75c",
   "metadata": {},
   "outputs": [
    {
     "name": "stdout",
     "output_type": "stream",
     "text": [
      "Start Thread[Thread-40,5,main]\n",
      "Job Run Index(0)Thread[Thread-40,5,main]\n",
      "Job Run Index(1)Thread[Thread-40,5,main]\n",
      "kotlinx.coroutines.JobCancellationException: StandaloneCoroutin\n",
      "kotlinx.coroutines.JobCancellationException: StandaloneCoroutin\n",
      "kotlinx.coroutines.JobCancellationException: StandaloneCoroutin\n"
     ]
    }
   ],
   "source": [
    "main()"
   ]
  },
  {
   "cell_type": "code",
   "execution_count": null,
   "id": "145b6a3e",
   "metadata": {},
   "outputs": [],
   "source": []
  },
  {
   "cell_type": "code",
   "execution_count": 11,
   "id": "149b225e",
   "metadata": {},
   "outputs": [],
   "source": [
    "fun main1() = runBlocking {\n",
    "    var time = System.currentTimeMillis()\n",
    "    val job = launch(Dispatchers.Default) {\n",
    "        var i = 0\n",
    "        try {\n",
    "            while (i < 5) {\n",
    "                yield()\n",
    "                if (System.currentTimeMillis() > time) {\n",
    "                    println(\"isRunning\"\n",
    "                            + Thread.currentThread())\n",
    "                    time += 1000L\n",
    "                    i++\n",
    "                }\n",
    "            }\n",
    "        } catch (e: Exception) {\n",
    "            println(e.fillInStackTrace()\n",
    "                    .toString().slice(0..62))\n",
    "        }\n",
    "    }\n",
    "    println(\"Start \"+ Thread.currentThread())\n",
    "    delay(1000L)\n",
    "    job.cancel()\n",
    "    job.join()\n",
    "}"
   ]
  },
  {
   "cell_type": "code",
   "execution_count": 12,
   "id": "b04cbd11",
   "metadata": {},
   "outputs": [
    {
     "name": "stdout",
     "output_type": "stream",
     "text": [
      "Start Thread[Thread-48,5,main]\n",
      "isRunningThread[DefaultDispatcher-worker-1,5,main]\n",
      "isRunningThread[DefaultDispatcher-worker-1,5,main]\n",
      "kotlinx.coroutines.JobCancellationException: StandaloneCoroutin\n"
     ]
    }
   ],
   "source": [
    "main1()"
   ]
  },
  {
   "cell_type": "code",
   "execution_count": null,
   "id": "aefddb8b",
   "metadata": {},
   "outputs": [],
   "source": []
  },
  {
   "cell_type": "code",
   "execution_count": 13,
   "id": "4b49cf21",
   "metadata": {},
   "outputs": [],
   "source": [
    "suspend fun stop(job : Job) {\n",
    "    job.cancel()\n",
    "    println(\"잡 중단상태 2 : \" +job.isCancelled)\n",
    "    job.join()\n",
    "}\n",
    "\n",
    "fun main2() = runBlocking {\n",
    "    val job = launch {\n",
    "        repeat(5) {\n",
    "            try {\n",
    "                delay(1000L)\n",
    "                println(\"Job Run Index($it)\"\n",
    "                        + Thread.currentThread())\n",
    "            } catch (e: Exception) {\n",
    "                println(e.fillInStackTrace()\n",
    "                        .toString().slice(0..62)) //printStackTrace()\n",
    "            }\n",
    "        }\n",
    "    }\n",
    "    \n",
    "    val job2 = launch { \n",
    "        delay(3000L)\n",
    "        println(\"Start cancel \"\n",
    "                + Thread.currentThread())\n",
    "        stop(job)\n",
    "    }\n",
    "    \n",
    "    println(\"잡 중단상태 1 : \" + job.isCancelled)\n",
    "    \n",
    "}"
   ]
  },
  {
   "cell_type": "code",
   "execution_count": 14,
   "id": "ca02f9b9",
   "metadata": {},
   "outputs": [
    {
     "name": "stdout",
     "output_type": "stream",
     "text": [
      "잡 중단상태 1 : false\n",
      "Job Run Index(0)Thread[Thread-56,5,main]\n",
      "Job Run Index(1)Thread[Thread-56,5,main]\n",
      "Start cancel Thread[Thread-56,5,main]\n",
      "잡 중단상태 2 : true\n",
      "kotlinx.coroutines.JobCancellationException: StandaloneCoroutin\n",
      "kotlinx.coroutines.JobCancellationException: StandaloneCoroutin\n",
      "kotlinx.coroutines.JobCancellationException: StandaloneCoroutin\n"
     ]
    }
   ],
   "source": [
    "main2()"
   ]
  },
  {
   "cell_type": "code",
   "execution_count": null,
   "id": "1906291b",
   "metadata": {},
   "outputs": [],
   "source": []
  },
  {
   "cell_type": "markdown",
   "id": "ed463b79",
   "metadata": {},
   "source": [
    "## 취소를 처리했을 때  마지막까지 처리를 기다릴 때 : NonCancellable"
   ]
  },
  {
   "cell_type": "code",
   "execution_count": 15,
   "id": "fdb71b44",
   "metadata": {},
   "outputs": [],
   "source": [
    "suspend fun stop(job : Job) {\n",
    "    job.cancel()\n",
    "    println(\"잡 중단상태 2 : \" +job.isActive)\n",
    "    job.join()\n",
    "}\n",
    "\n",
    "fun main4() = runBlocking {\n",
    "    val job = launch {\n",
    "        try {\n",
    "            repeat(1000) {\n",
    "                println(\"isRunning\"\n",
    "                        + Thread.currentThread())\n",
    "                delay(500L)\n",
    "            }\n",
    "        } catch (e: Exception) {\n",
    "            println(e.fillInStackTrace()\n",
    "                    .toString().slice(0..62)) //printStackTrace()\n",
    "        } finally {\n",
    "            withContext(NonCancellable) {\n",
    "                println(\"into finally\")\n",
    "                delay(1000L)\n",
    "                println(\"Call suspend function what you need\"\n",
    "                        + Thread.currentThread())\n",
    "                delay(1000L)\n",
    "            }\n",
    "        }\n",
    "    }\n",
    "\n",
    "    delay(1000L)\n",
    "    stop(job)\n",
    "}"
   ]
  },
  {
   "cell_type": "code",
   "execution_count": 16,
   "id": "ac500b11",
   "metadata": {},
   "outputs": [
    {
     "name": "stdout",
     "output_type": "stream",
     "text": [
      "isRunningThread[Thread-64,5,main]\n",
      "isRunningThread[Thread-64,5,main]\n",
      "잡 중단상태 2 : false\n",
      "kotlinx.coroutines.JobCancellationException: StandaloneCoroutin\n",
      "into finally\n",
      "Call suspend function what you needThread[Thread-64,5,main]\n"
     ]
    }
   ],
   "source": [
    "main4()"
   ]
  },
  {
   "cell_type": "code",
   "execution_count": null,
   "id": "24347a5b",
   "metadata": {},
   "outputs": [],
   "source": []
  },
  {
   "cell_type": "code",
   "execution_count": null,
   "id": "7d01ced9",
   "metadata": {},
   "outputs": [],
   "source": []
  }
 ],
 "metadata": {
  "kernelspec": {
   "display_name": "Kotlin",
   "language": "kotlin",
   "name": "kotlin"
  },
  "language_info": {
   "codemirror_mode": "text/x-kotlin",
   "file_extension": ".kt",
   "mimetype": "text/x-kotlin",
   "name": "kotlin",
   "nbconvert_exporter": "",
   "pygments_lexer": "kotlin",
   "version": "1.7.0-dev-1825"
  }
 },
 "nbformat": 4,
 "nbformat_minor": 5
}
