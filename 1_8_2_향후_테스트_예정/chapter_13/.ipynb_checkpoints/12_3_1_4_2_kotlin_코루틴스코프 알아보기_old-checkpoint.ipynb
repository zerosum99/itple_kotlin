{
 "cells": [
  {
   "cell_type": "markdown",
   "id": "3d177413",
   "metadata": {},
   "source": [
    "# 참조자료\n",
    "\n",
    "-  https://smartshk.tistory.com/19\n",
    "\n",
    "\n",
    "-  https://www.baeldung.com/kotlin/threads-coroutines"
   ]
  },
  {
   "cell_type": "code",
   "execution_count": 1,
   "id": "786d1398",
   "metadata": {},
   "outputs": [],
   "source": [
    "@file:DependsOn(\"org.jetbrains.kotlinx:kotlinx-coroutines-core:1.6.1\")"
   ]
  },
  {
   "cell_type": "markdown",
   "id": "fdcbba4a",
   "metadata": {},
   "source": [
    "## 모듈 설치 확인하기"
   ]
  },
  {
   "cell_type": "code",
   "execution_count": 2,
   "id": "d1d12808",
   "metadata": {},
   "outputs": [
    {
     "data": {
      "text/plain": [
       "Current classpath (14 paths):\n",
       "/Users/dahlmoon/anaconda3/envs/kotlin/lib/python3.8/site-packages/run_kotlin_kernel/jars/lib-0.11.0-61.jar\n",
       "/Users/dahlmoon/anaconda3/envs/kotlin/lib/python3.8/site-packages/run_kotlin_kernel/jars/api-0.11.0-61.jar\n",
       "/Users/dahlmoon/anaconda3/envs/kotlin/lib/python3.8/site-packages/run_kotlin_kernel/jars/kotlin-script-runtime-1.7.0-dev-1825.jar\n",
       "/Users/dahlmoon/anaconda3/envs/kotlin/lib/python3.8/site-packages/run_kotlin_kernel/jars/kotlin-reflect-1.6.0.jar\n",
       "/Users/dahlmoon/anaconda3/envs/kotlin/lib/python3.8/site-packages/run_kotlin_kernel/jars/kotlin-stdlib-1.6.0.jar\n",
       "/Users/dahlmoon/anaconda3/envs/kotlin/lib/python3.8/site-packages/run_kotlin_kernel/jars/annotations-13.0.jar\n",
       "/Users/dahlmoon/anaconda3/envs/kotlin/lib/python3.8/site-packages/run_kotlin_kernel/jars/kotlin-stdlib-common-1.6.0.jar\n",
       "/Users/dahlmoon/.m2/repository/org/jetbrains/kotlinx/kotlinx-coroutines-core/1.6.1/kotlinx-coroutines-core-1.6.1.jar\n",
       "/Users/dahlmoon/.m2/repository/org/jetbrains/kotlinx/kotlinx-coroutines-core-jvm/1.6.1/kotlinx-coroutines-core-jvm-1.6.1.jar\n",
       "/Users/dahlmoon/.m2/repository/org/jetbrains/kotlin/kotlin-stdlib-jdk8/1.6.0/kotlin-stdlib-jdk8-1.6.0.jar\n",
       "/Users/dahlmoon/.m2/repository/org/jetbrains/kotlin/kotlin-stdlib/1.6.0/kotlin-stdlib-1.6.0.jar\n",
       "/Users/dahlmoon/.m2/repository/org/jetbrains/annotations/13.0/annotations-13.0.jar\n",
       "/Users/dahlmoon/.m2/repository/org/jetbrains/kotlin/kotlin-stdlib-jdk7/1.6.0/kotlin-stdlib-jdk7-1.6.0.jar\n",
       "/Users/dahlmoon/.m2/repository/org/jetbrains/kotlin/kotlin-stdlib-common/1.6.0/kotlin-stdlib-common-1.6.0.jar"
      ]
     },
     "execution_count": 2,
     "metadata": {},
     "output_type": "execute_result"
    }
   ],
   "source": [
    ":classpath"
   ]
  },
  {
   "cell_type": "code",
   "execution_count": null,
   "id": "b153ceea",
   "metadata": {},
   "outputs": [],
   "source": []
  },
  {
   "cell_type": "code",
   "execution_count": 3,
   "id": "ac34d564",
   "metadata": {},
   "outputs": [],
   "source": [
    "import kotlinx.coroutines.*"
   ]
  },
  {
   "cell_type": "markdown",
   "id": "2e76787c",
   "metadata": {},
   "source": [
    "## 전역스코프와 코푸틴 스코프 지정 처리"
   ]
  },
  {
   "cell_type": "code",
   "execution_count": null,
   "id": "2688c55d",
   "metadata": {},
   "outputs": [],
   "source": [
    "fun main(): Unit = runBlocking {                     // 런블럭킹 \n",
    "    \n",
    "    println(\"런블럭스코프 : \" \n",
    "            + Thread.currentThread().name)\n",
    "    \n",
    "    GlobalScope                                      // 글로벌 스코프\n",
    "        .launch(Dispatchers.Default) {\n",
    "        println(\"전역스코프 : \"\n",
    "                + Thread.currentThread().name)\n",
    "    }\n",
    "    \n",
    "    delay(1000L)\n",
    "    \n",
    "    CoroutineScope(Dispatchers.Default)             // 코루틴 스코프 \n",
    "        .launch {\n",
    "        println(\"코루틴스코프 1 : \" \n",
    "                + Thread.currentThread().name)\n",
    "    }\n",
    "        \n",
    "    coroutineScope {                                // 코푸틴스코프로 지정된 일시중단함수 \n",
    "        launch {                                   // 빌드함수 정의 \n",
    "            println(\"코루틴스코프 2 : \" \n",
    "                   + Thread.currentThread().name)\n",
    "        }\n",
    "    }\n",
    "}\n",
    "\n",
    "main()"
   ]
  },
  {
   "cell_type": "code",
   "execution_count": null,
   "id": "f1ea9917",
   "metadata": {},
   "outputs": [],
   "source": []
  },
  {
   "cell_type": "markdown",
   "id": "14e6b4bc",
   "metadata": {},
   "source": [
    "##  중단함수 호출  : runBlocling에서 처리해서 스레드를 그냥로 사용"
   ]
  },
  {
   "cell_type": "code",
   "execution_count": 5,
   "id": "fa709e4a",
   "metadata": {},
   "outputs": [
    {
     "name": "stdout",
     "output_type": "stream",
     "text": [
      "안녕하세요!!!Thread-20\n",
      "Hello Thread-20\n",
      "World! Thread-20\n"
     ]
    }
   ],
   "source": [
    "fun main24() = runBlocking {                   // 런블럭 빌드로 코루틴 생성\n",
    "    val x = doWorld()                          // 일시중단함수 실행 \n",
    "}\n",
    "\n",
    "suspend fun doWorld() = coroutineScope {       // 코푸틴스코프로 지정된 일시중단함수 \n",
    "    launch {                                   // 빌드함수 정의 \n",
    "        delay(1000L)                           // 1초 지연 \n",
    "        println(\"World! \" \n",
    "                + Thread.currentThread().name)\n",
    "    }\n",
    "    \n",
    "    launch {                                   // 빌드함수 정의 \n",
    "        delay(500L)                            // 0.5 초 지연 \n",
    "        println(\"Hello \" \n",
    "                + Thread.currentThread().name)\n",
    "    }\n",
    "    \n",
    "     launch {                                   // 빌드함수 정의 \n",
    "        println(\"안녕하세요!!!\"                    // 지연없음 \n",
    "                + Thread.currentThread().name)\n",
    "    }\n",
    "}\n",
    "\n",
    "main24()"
   ]
  },
  {
   "cell_type": "code",
   "execution_count": null,
   "id": "2119e94b",
   "metadata": {},
   "outputs": [],
   "source": []
  },
  {
   "cell_type": "markdown",
   "id": "a40f5db7",
   "metadata": {},
   "source": [
    "## 빌더함수로 코루틴 스코프 처리"
   ]
  },
  {
   "cell_type": "code",
   "execution_count": 4,
   "id": "13921d02",
   "metadata": {},
   "outputs": [
    {
     "name": "stdout",
     "output_type": "stream",
     "text": [
      "Task from coroutine scope 1 Thread[Thread-14,5,main]\n",
      "Task from runBlocking 2 Thread[Thread-14,5,main]\n",
      "Task from nested launch 3 Thread[Thread-14,5,main]\n",
      "Coroutine scope is over 4 Thread[Thread-14,5,main]\n"
     ]
    }
   ],
   "source": [
    "fun main() = runBlocking {\n",
    "    launch {\n",
    "        delay(200L)\n",
    "        println(\"Task from runBlocking 2 \" \n",
    "                + Thread.currentThread())\n",
    "    }\n",
    "\n",
    "    coroutineScope {\n",
    "        launch {\n",
    "            delay(500L)\n",
    "            println(\"Task from nested launch 3 \" \n",
    "                    + Thread.currentThread())\n",
    "        }\n",
    "        delay(100L)\n",
    "        println(\"Task from coroutine scope 1 \" \n",
    "                + Thread.currentThread())\n",
    "    }\n",
    "    println(\"Coroutine scope is over 4 \" \n",
    "            + Thread.currentThread())\n",
    "}\n",
    "main()"
   ]
  },
  {
   "cell_type": "code",
   "execution_count": null,
   "id": "4eb9c6f3",
   "metadata": {},
   "outputs": [],
   "source": []
  },
  {
   "cell_type": "markdown",
   "id": "048d42f1",
   "metadata": {},
   "source": [
    "## 전역스코프와 코루틴스코프 처리 "
   ]
  },
  {
   "cell_type": "code",
   "execution_count": 38,
   "id": "c91803bd",
   "metadata": {},
   "outputs": [
    {
     "name": "stdout",
     "output_type": "stream",
     "text": [
      "Start Main Thread\n",
      "End Main Thread\n",
      "Task from runBlocking 2 DefaultDispatcher-worker-8\n",
      "Start Main Thread\n",
      "End Main Thread\n",
      "in Coroutine ...DefaultDispatcher-worker-8\n"
     ]
    }
   ],
   "source": [
    "fun main32() {\n",
    "    println(\"Start Main Thread\")\n",
    "    CoroutineScope(Dispatchers.Default).launch {\n",
    "        delay(200L)\n",
    "        println(\"Task from runBlocking 2 \" \n",
    "                            + Thread.currentThread().name)\n",
    "    }\n",
    "    println(\"End Main Thread\")\n",
    "\n",
    "    Thread.sleep(500)\n",
    "}\n",
    "main32()\n",
    "\n",
    "fun main33() {\n",
    "    println(\"Start Main Thread\")\n",
    "    GlobalScope.launch {\n",
    "        delay(300)\n",
    "        println(\"in Coroutine ...\"\n",
    "                + Thread.currentThread().name)\n",
    "    }\n",
    "    println(\"End Main Thread\")\n",
    "\n",
    "    Thread.sleep(500)\n",
    "}\n",
    "\n",
    "main33()"
   ]
  },
  {
   "cell_type": "code",
   "execution_count": null,
   "id": "0b9adfe0",
   "metadata": {},
   "outputs": [],
   "source": []
  },
  {
   "cell_type": "markdown",
   "id": "b906e158",
   "metadata": {},
   "source": [
    "## 코루틴 스코프에서 2개의 잡을 처리"
   ]
  },
  {
   "cell_type": "code",
   "execution_count": 7,
   "id": "76208817",
   "metadata": {},
   "outputs": [
    {
     "name": "stdout",
     "output_type": "stream",
     "text": [
      "inside2 coroutine\n",
      "inside1 coroutine\n",
      "scopeJob: JobImpl{Active}@75a8fdf\n",
      "job1: StandaloneCoroutine{Completed}@3cab7b45\n",
      "job2: StandaloneCoroutine{Completed}@7f78b72\n",
      "test completed\n"
     ]
    }
   ],
   "source": [
    "fun main24() {\n",
    "    runBlocking { \n",
    "        val scopeJob = Job() \n",
    "        val scope = CoroutineScope(scopeJob \n",
    "                                   + Dispatchers.Default)\n",
    "        val job1 = scope.launch { \n",
    "            delay(100) \n",
    "            println(\"inside1 coroutine\") \n",
    "        } \n",
    "        val job2 = scope.launch { \n",
    "            delay(50) \n",
    "            println(\"inside2 coroutine\")\n",
    "        } \n",
    "        joinAll(job1, job2) \n",
    "        println(\"scopeJob: $scopeJob\")\n",
    "        println(\"job1: $job1\") \n",
    "        println(\"job2: $job2\") \n",
    "   } \n",
    "    Thread.sleep(100) \n",
    "    println(\"test completed\")\n",
    "}\n",
    "    \n",
    "main24()\n"
   ]
  },
  {
   "cell_type": "code",
   "execution_count": null,
   "id": "b10ba644",
   "metadata": {},
   "outputs": [],
   "source": []
  },
  {
   "cell_type": "code",
   "execution_count": null,
   "id": "bd3d902e",
   "metadata": {},
   "outputs": [],
   "source": []
  },
  {
   "cell_type": "code",
   "execution_count": null,
   "id": "366baf57",
   "metadata": {},
   "outputs": [],
   "source": []
  },
  {
   "cell_type": "code",
   "execution_count": null,
   "id": "086915e6",
   "metadata": {},
   "outputs": [],
   "source": []
  },
  {
   "cell_type": "code",
   "execution_count": null,
   "id": "a2b7ce81",
   "metadata": {},
   "outputs": [],
   "source": []
  },
  {
   "cell_type": "code",
   "execution_count": null,
   "id": "d2e101d4",
   "metadata": {},
   "outputs": [],
   "source": []
  }
 ],
 "metadata": {
  "kernelspec": {
   "display_name": "Kotlin",
   "language": "kotlin",
   "name": "kotlin"
  },
  "language_info": {
   "codemirror_mode": "text/x-kotlin",
   "file_extension": ".kt",
   "mimetype": "text/x-kotlin",
   "name": "kotlin",
   "nbconvert_exporter": "",
   "pygments_lexer": "kotlin",
   "version": "1.7.0-dev-1825"
  }
 },
 "nbformat": 4,
 "nbformat_minor": 5
}
