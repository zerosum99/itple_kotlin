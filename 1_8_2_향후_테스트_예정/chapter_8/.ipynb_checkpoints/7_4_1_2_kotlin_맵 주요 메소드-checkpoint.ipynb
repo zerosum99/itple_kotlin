{
 "cells": [
  {
   "cell_type": "code",
   "execution_count": null,
   "id": "9da80b66",
   "metadata": {},
   "outputs": [],
   "source": []
  },
  {
   "cell_type": "code",
   "execution_count": 1,
   "id": "79e8659e",
   "metadata": {},
   "outputs": [
    {
     "name": "stdout",
     "output_type": "stream",
     "text": [
      "Map Entries : {1=One, 2=Two, 3=Three, 4=Four}\n",
      "Map Keys: [1, 2, 3, 4]\n",
      "Map Values: [One, Two, Three, Four]\n"
     ]
    }
   ],
   "source": [
    "val map = mapOf(1 to \"One\", 2 to \"Two\" , 3 to \"Three\", 4 to \"Four\")\n",
    " \n",
    "println(\"Map Entries : \"+map)\n",
    "println(\"Map Keys: \"+map.keys )\n",
    "println(\"Map Values: \"+map.values )\n"
   ]
  },
  {
   "cell_type": "code",
   "execution_count": null,
   "id": "5b65ce6a",
   "metadata": {},
   "outputs": [],
   "source": []
  },
  {
   "cell_type": "code",
   "execution_count": 2,
   "id": "aa7f2bed",
   "metadata": {},
   "outputs": [
    {
     "name": "stdout",
     "output_type": "stream",
     "text": [
      "The size of the map is: 4\n",
      "The size of the map is: 4\n"
     ]
    }
   ],
   "source": [
    "val ranks = mapOf(1 to \"India\",2 to \"Australia\",3 to \"England\",4 to \"Africa\")\n",
    "//method 1\n",
    "println(\"The size of the map is: \"+ranks.size)\n",
    "//method 2\n",
    "println(\"The size of the map is: \"+ranks.count())"
   ]
  },
  {
   "cell_type": "code",
   "execution_count": 5,
   "id": "10d93360",
   "metadata": {},
   "outputs": [
    {
     "name": "stdout",
     "output_type": "stream",
     "text": [
      "Team having rank #1 is: India\n",
      "Team having rank #3 is: England\n",
      "Team having rank #4 is: Africa\n",
      "Australia\n"
     ]
    }
   ],
   "source": [
    "//method 1\n",
    "println(\"Team having rank #1 is: \"+ranks[1])\n",
    "//method 2\n",
    "println(\"Team having rank #3 is: \"+ranks.getValue(3))\n",
    "//method 3\n",
    "println(\"Team having rank #4 is: \"+ranks.getOrDefault(4, \"0\"))\n",
    "// method  4\n",
    "val team = ranks.getOrElse(2 ,{ \"0\" })\n",
    "println(team)"
   ]
  },
  {
   "cell_type": "code",
   "execution_count": null,
   "id": "808345c4",
   "metadata": {},
   "outputs": [],
   "source": []
  },
  {
   "cell_type": "code",
   "execution_count": 6,
   "id": "9e80208a",
   "metadata": {},
   "outputs": [
    {
     "name": "stdout",
     "output_type": "stream",
     "text": [
      "Yes, it contains color yellow\n",
      "No, it does not contain value 8\n"
     ]
    }
   ],
   "source": [
    "val colorsTopToBottom = mapOf(\"red\" to 1, \"orange\" to 2, \"yellow\" to 3,\n",
    "        \"green\" to 4 , \"blue\" to 5, \"indigo\" to 6, \"violet\" to 7)\n",
    "var color = \"yellow\"\n",
    "if (colorsTopToBottom.containsKey(color)) {\n",
    "    println(\"Yes, it contains color $color\")\n",
    "} else {\n",
    "    println(\"No, it does not contain color $color\")\n",
    "}\n",
    "val value = 8\n",
    "if (colorsTopToBottom.containsValue(value)) {\n",
    "    println(\"Yes, it contains value $value\")\n",
    "} else {\n",
    "    println(\"No, it does not contain value $value\")\n",
    "}"
   ]
  },
  {
   "cell_type": "code",
   "execution_count": null,
   "id": "3bff9357",
   "metadata": {},
   "outputs": [],
   "source": []
  },
  {
   "cell_type": "code",
   "execution_count": 8,
   "id": "00ec1397",
   "metadata": {},
   "outputs": [
    {
     "name": "stdout",
     "output_type": "stream",
     "text": [
      "Entries of map : [1=geeks2, 2=for]\n"
     ]
    }
   ],
   "source": [
    "//lets make two values with same key\n",
    "val map = mapOf(1 to \"geeks1\",2 to \"for\" , 1 to \"geeks2\")\n",
    "// return the map entries\n",
    "println(\"Entries of map : \" + map.entries)"
   ]
  },
  {
   "cell_type": "code",
   "execution_count": null,
   "id": "b7047051",
   "metadata": {},
   "outputs": [],
   "source": []
  },
  {
   "cell_type": "code",
   "execution_count": 11,
   "id": "d93dae70",
   "metadata": {},
   "outputs": [],
   "source": [
    "//function to print the hashMap\n",
    "fun printHashMap(hashMap : HashMap<String, Int>){\n",
    "    // isEmpty() function to check whether\n",
    "    // the hashMap is empty or not\n",
    "    if(hashMap.isEmpty()){\n",
    "        println(\"hashMap is empty\")\n",
    "    }else{\n",
    "        println(\"hashMap : \" + hashMap)\n",
    "    }\n",
    "}"
   ]
  },
  {
   "cell_type": "code",
   "execution_count": 12,
   "id": "6491624a",
   "metadata": {},
   "outputs": [
    {
     "name": "stdout",
     "output_type": "stream",
     "text": [
      "hashMap is empty\n",
      "hashMap : {Thor=100, HawkEye=1300, NickFury=1200, IronMan=3000, SpiderMan=1100}\n",
      "hashMap : {Thor=100, HawkEye=1300, NickFury=1200, IronMan=3000, SpiderMan=1100}\n",
      "\n",
      "Element at key Thor : 100\n",
      "Element at key HawkEye : 1300\n",
      "Element at key NickFury : 1200\n",
      "Element at key IronMan : 3000\n",
      "Element at key SpiderMan : 1100\n",
      "\n",
      "Second HashMap : \n",
      "Element at key Thor : 100\n",
      "Element at key HawkEye : 1300\n",
      "Element at key IronMan : 3000\n",
      "Element at key NickFury : 1200\n",
      "Element at key SpiderMan : 1100\n",
      "hashMap.clear()\n",
      "After Clearing : {}\n"
     ]
    }
   ],
   "source": [
    "//A simple example of HashMap class define\n",
    "// with empty \"HashMap of <String, Int>\"\n",
    "var hashMap : HashMap<String, Int>\n",
    "            = HashMap<String, Int> ()\n",
    "  \n",
    "//printing the Empty hashMap\n",
    "printHashMap(hashMap)\n",
    "  \n",
    "//adding elements to the hashMap using\n",
    "// put() function\n",
    "hashMap.put(\"IronMan\" , 3000)\n",
    "hashMap.put(\"Thor\" , 100)\n",
    "hashMap.put(\"SpiderMan\" , 1100)\n",
    "hashMap.put(\"NickFury\" , 1200)\n",
    "hashMap.put(\"HawkEye\" , 1300)\n",
    "  \n",
    "//printing the non-Empty hashMap\n",
    "printHashMap(hashMap)\n",
    "//using the overloaded print function of\n",
    "//Kotlin language to get the same results\n",
    "println(\"hashMap : \" + hashMap + \"\\n\")\n",
    "  \n",
    "//hashMap traversal using a for loop\n",
    "for(key in hashMap.keys){\n",
    "    println(\"Element at key $key : ${hashMap[key]}\")\n",
    "}\n",
    "  \n",
    "//creating another hashMap object with\n",
    "// the previous version of hashMap object\n",
    "var secondHashMap : HashMap<String, Int>\n",
    "            = HashMap<String, Int> (hashMap)\n",
    "  \n",
    "println(\"\\n\" + \"Second HashMap : \")\n",
    "for(key in secondHashMap.keys){\n",
    "    //using hashMap.get() function to fetch the values\n",
    "    println(\"Element at key $key : ${hashMap.get(key)}\")\n",
    "}\n",
    "  \n",
    "//this will clear the whole map and make it empty\n",
    "println(\"hashMap.clear()\")\n",
    "hashMap.clear()\n",
    "  \n",
    "println(\"After Clearing : \" + hashMap)"
   ]
  },
  {
   "cell_type": "code",
   "execution_count": null,
   "id": "1e9a2e81",
   "metadata": {},
   "outputs": [],
   "source": []
  },
  {
   "cell_type": "code",
   "execution_count": null,
   "id": "2198440e",
   "metadata": {},
   "outputs": [],
   "source": []
  }
 ],
 "metadata": {
  "kernelspec": {
   "display_name": "Kotlin",
   "language": "kotlin",
   "name": "kotlin"
  },
  "language_info": {
   "codemirror_mode": "text/x-kotlin",
   "file_extension": ".kt",
   "mimetype": "text/x-kotlin",
   "name": "kotlin",
   "nbconvert_exporter": "",
   "pygments_lexer": "kotlin",
   "version": "1.6.0-dev-3567"
  }
 },
 "nbformat": 4,
 "nbformat_minor": 5
}
