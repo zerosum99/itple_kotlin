{
 "cells": [
  {
   "cell_type": "markdown",
   "id": "9146e714",
   "metadata": {},
   "source": [
    "## 참고자료\n",
    "\n",
    "https://www.scaler.com/topics/association-composition-and-aggregation-in-java/"
   ]
  },
  {
   "cell_type": "code",
   "execution_count": null,
   "id": "9a2a6c24",
   "metadata": {},
   "outputs": [],
   "source": []
  },
  {
   "cell_type": "markdown",
   "id": "7287c102",
   "metadata": {},
   "source": [
    "## 집합(Aggregation)관계\n",
    " \n",
    "\n",
    "- 집합관계는 연관관계와 유사하지만 한 개체가 특정 개체를 소유한 다는 개념이 추가된 것 입니다."
   ]
  },
  {
   "cell_type": "code",
   "execution_count": 11,
   "id": "20907875",
   "metadata": {},
   "outputs": [
    {
     "name": "stdout",
     "output_type": "stream",
     "text": [
      "차 엔진의 시작한다  \n",
      "차는 움직인다 \n"
     ]
    }
   ],
   "source": [
    "class Engine {\n",
    " \n",
    "    // Method to starting an engine\n",
    "    fun work() {\n",
    "         println(\"차 엔진의 시작한다  \")\n",
    "    }\n",
    "}\n",
    " \n",
    "\n",
    "class Car(private var engine : Engine) { // 조합\n",
    "    fun move() {                     \n",
    "        engine.work()                     //조합의 행위는 조합을 구성하는 것으로 작동 \n",
    "        println(\"차는 움직인다 \")\n",
    "    }\n",
    "}\n",
    "\n",
    "val engine = Engine();\n",
    "val car = Car(engine);\n",
    "car.move();"
   ]
  },
  {
   "cell_type": "code",
   "execution_count": 13,
   "id": "454fdd49",
   "metadata": {},
   "outputs": [],
   "source": []
  },
  {
   "cell_type": "code",
   "execution_count": 38,
   "id": "8193de2d",
   "metadata": {},
   "outputs": [
    {
     "name": "stdout",
     "output_type": "stream",
     "text": [
      " 국가명 : 대한민국 스포츠맨 [차범근, 손흥민, 문지원]\n"
     ]
    }
   ],
   "source": [
    "class SportPerson(val name: String)       // 스포츠맨\n",
    "\n",
    "class Country(val name: String,           // 국가 \n",
    "              val sportPersons: MutableList<SportPerson> = mutableListOf<SportPerson>()){\n",
    "    \n",
    "    init {\n",
    "        setSportMen()                        //초기화처리\n",
    "    }\n",
    "    fun setSportMen() {                      //참여자 추가 \n",
    "        val macculum = SportPerson(\"차범근\")\n",
    "        val  dhoni = SportPerson(\"손흥민\")\n",
    "        val  kohli = SportPerson(\"문지원\")\n",
    "\n",
    "        sportPersons.add(macculum)\n",
    "        sportPersons.add(dhoni)\n",
    "        sportPersons.add(kohli)\n",
    "\n",
    "    }\n",
    "\n",
    "    fun getSportMen() : List<String>{          //참여자 조회 \n",
    "        val listOfSportPersons = sportPersons\n",
    "        val names = mutableListOf<String>()\n",
    "        for(i in listOfSportPersons) {\n",
    "            names.add(i.name);\n",
    "        }\n",
    "        return names;\n",
    "    }\n",
    "\n",
    "}\n",
    "\n",
    "val korea = Country(\"대한민국\" )\n",
    " \n",
    "                                               //스포츠맨 출력\n",
    "println(\" 국가명 : \" + korea.name + \" 스포츠맨 \" + korea.getSportMen())"
   ]
  },
  {
   "cell_type": "code",
   "execution_count": null,
   "id": "1394317f",
   "metadata": {},
   "outputs": [],
   "source": []
  },
  {
   "cell_type": "code",
   "execution_count": null,
   "id": "ea33d5a6",
   "metadata": {},
   "outputs": [],
   "source": []
  },
  {
   "cell_type": "code",
   "execution_count": null,
   "id": "d03202bd",
   "metadata": {},
   "outputs": [],
   "source": []
  },
  {
   "cell_type": "code",
   "execution_count": null,
   "id": "0ba37317",
   "metadata": {},
   "outputs": [],
   "source": []
  },
  {
   "cell_type": "markdown",
   "id": "40775225",
   "metadata": {},
   "source": [
    "## 의존"
   ]
  },
  {
   "cell_type": "code",
   "execution_count": 16,
   "id": "d1940857",
   "metadata": {},
   "outputs": [
    {
     "name": "stdout",
     "output_type": "stream",
     "text": [
      "Patient: PatientA, Doctor: DoctorA \n"
     ]
    }
   ],
   "source": [
    "class Patient(val name: String, var id: Int){\n",
    "    fun doctorList(d: Doctor){\n",
    "        println(\"Patient: $name, Doctor: ${d.name} \")\n",
    "    }\n",
    "}\n",
    "class Doctor(val name: String)\n",
    "\n",
    "val pat = Patient(\"PatientA\", 1)\n",
    "val doc = Doctor(\"DoctorA\")\n",
    "pat.doctorList(doc)"
   ]
  },
  {
   "cell_type": "code",
   "execution_count": null,
   "id": "f14eba5d",
   "metadata": {},
   "outputs": [],
   "source": []
  }
 ],
 "metadata": {
  "kernelspec": {
   "display_name": "Kotlin",
   "language": "kotlin",
   "name": "kotlin"
  },
  "language_info": {
   "codemirror_mode": "text/x-kotlin",
   "file_extension": ".kt",
   "mimetype": "text/x-kotlin",
   "name": "kotlin",
   "nbconvert_exporter": "",
   "pygments_lexer": "kotlin",
   "version": "1.7.0-dev-1825"
  }
 },
 "nbformat": 4,
 "nbformat_minor": 5
}
