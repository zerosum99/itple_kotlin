{
 "cells": [
  {
   "cell_type": "code",
   "execution_count": null,
   "id": "2e5055c7-9498-40c6-ae26-feb99ce497ba",
   "metadata": {},
   "outputs": [],
   "source": []
  },
  {
   "cell_type": "code",
   "execution_count": 1,
   "id": "f6d55148-8baf-4062-987b-9261eb6bf326",
   "metadata": {},
   "outputs": [
    {
     "data": {
      "text/plain": [
       "1.7.20"
      ]
     },
     "execution_count": 1,
     "metadata": {},
     "output_type": "execute_result"
    }
   ],
   "source": [
    "KotlinVersion.CURRENT"
   ]
  },
  {
   "cell_type": "code",
   "execution_count": null,
   "id": "f0fda4fe",
   "metadata": {},
   "outputs": [],
   "source": []
  },
  {
   "cell_type": "markdown",
   "id": "c6c3d86b-96fa-4260-9ecd-c83c2ba62537",
   "metadata": {},
   "source": [
    "## 사칙연산산처리 "
   ]
  },
  {
   "cell_type": "code",
   "execution_count": 2,
   "id": "40b309f8",
   "metadata": {},
   "outputs": [
    {
     "name": "stdout",
     "output_type": "stream",
     "text": [
      "number1 + number2 = 16.0\n",
      "number1 - number2 = 9.0\n",
      "number1 * number2 = 43.75\n",
      "number1 / number2 = 3.5714285714285716\n",
      "number1 % number2 = 2.0\n"
     ]
    }
   ],
   "source": [
    "val number1 = 12.5   // 실수 정의 \n",
    "val number2 = 3.5  \n",
    "                     // 연산자 실행\n",
    "println(\"number1 + number2 = ${number1 + number2}\")\n",
    "println(\"number1 - number2 = ${number1 - number2}\")\n",
    "println(\"number1 * number2 = ${number1 * number2}\")\n",
    "println(\"number1 / number2 = ${number1 / number2}\")\n",
    "println(\"number1 % number2 = ${number1 % number2}\")"
   ]
  },
  {
   "cell_type": "code",
   "execution_count": null,
   "id": "ac99f681-59a6-4cd2-9c00-d87ce0acef82",
   "metadata": {},
   "outputs": [],
   "source": []
  },
  {
   "cell_type": "code",
   "execution_count": null,
   "id": "7951fb45-3df7-4654-bb52-3c0699fa1676",
   "metadata": {},
   "outputs": [],
   "source": []
  },
  {
   "cell_type": "markdown",
   "id": "06d5c8fe-3255-4074-8b2b-38039a222993",
   "metadata": {},
   "source": [
    "## 사직연산 메소드로 처리"
   ]
  },
  {
   "cell_type": "code",
   "execution_count": 3,
   "id": "0f79f527-3140-49b9-9f53-291065a26a77",
   "metadata": {},
   "outputs": [
    {
     "name": "stdout",
     "output_type": "stream",
     "text": [
      "number1 plus number2 = 16.0\n",
      "number1 minus number2 = 9.0\n",
      "number1 times number2 = 43.75\n",
      "number1 div number2 = 3.5714285714285716\n",
      "number1 rem number2 = 2.0\n",
      "number1 mod number2 = 2.0\n"
     ]
    }
   ],
   "source": [
    "val number1 = 12.5\n",
    "val number2 = 3.5\n",
    "\n",
    "println(\"number1 plus number2 = ${number1.plus(number2)}\")\n",
    "println(\"number1 minus number2 = ${number1.minus(number2)}\")\n",
    "println(\"number1 times number2 = ${number1.times(number2)}\")\n",
    "println(\"number1 div number2 = ${number1.div(number2)}\")\n",
    "println(\"number1 rem number2 = ${number1.rem(number2)}\")\n",
    "println(\"number1 mod number2 = ${number1.mod(number2)}\")"
   ]
  },
  {
   "cell_type": "markdown",
   "id": "6f6deb48",
   "metadata": {},
   "source": [
    "## 할당연산자"
   ]
  },
  {
   "cell_type": "code",
   "execution_count": 4,
   "id": "59e60162",
   "metadata": {},
   "outputs": [
    {
     "name": "stdout",
     "output_type": "stream",
     "text": [
      " += 변수 g의 결과는? 15\n",
      " -= 변수 g의 결과는? 0\n",
      " *= 변수 g의 결과는? 10\n",
      " /= 변수 g의 결과는? 2\n",
      " %= 변수 g의 결과는? 1\n",
      "\n"
     ]
    }
   ],
   "source": [
    "var a = 5\n",
    "a += 10 \n",
    "println(\" += 변수 g의 결과는? $a\")\n",
    "a = 5\n",
    "a -= 5 \n",
    "println(\" -= 변수 g의 결과는? $a\")\n",
    "a = 5\n",
    "a *= 2 \n",
    "println(\" *= 변수 g의 결과는? $a\")\n",
    "a = 5\n",
    "a /= 2 \n",
    "println(\" /= 변수 g의 결과는? $a\")\n",
    "a = 5\n",
    "a %= 2 \n",
    "println(\" %= 변수 g의 결과는? $a\\n\")\n"
   ]
  },
  {
   "cell_type": "markdown",
   "id": "d3ee1ca6",
   "metadata": {},
   "source": [
    "## 단항연산자 "
   ]
  },
  {
   "cell_type": "code",
   "execution_count": 5,
   "id": "ba35c074",
   "metadata": {},
   "outputs": [
    {
     "name": "stdout",
     "output_type": "stream",
     "text": [
      "a++ = 10 / b-- = 20\n",
      "++a = 12 / --b = 18\n",
      "a = 13 / b = 17\n",
      " 12 -18\n"
     ]
    }
   ],
   "source": [
    "var a = 10\n",
    "var b = 20\n",
    "\n",
    "println(\"a++ = ${a++} / b-- = ${b--}\")\n",
    "println(\"++a = ${++a} / --b = ${--b}\")\n",
    "\n",
    "println(\"a = ${a.inc()} / b = ${b.dec()}\")\n",
    "println(\" ${a.unaryPlus()} ${b.unaryMinus()}\")"
   ]
  },
  {
   "cell_type": "code",
   "execution_count": null,
   "id": "bd9d3177",
   "metadata": {},
   "outputs": [],
   "source": []
  },
  {
   "cell_type": "markdown",
   "id": "67f0a55a-a7fb-4b9a-875d-bab1fc1abb2d",
   "metadata": {},
   "source": [
    "## 문자열 덧셈"
   ]
  },
  {
   "cell_type": "code",
   "execution_count": 6,
   "id": "46c246c8-b2fc-4af5-a161-a8beb59ab08b",
   "metadata": {},
   "outputs": [
    {
     "name": "stdout",
     "output_type": "stream",
     "text": [
      "온고 지신. - 공자\n"
     ]
    }
   ],
   "source": [
    "val start = \"온고 \"\n",
    "val middle = \"지신. \"\n",
    "val end = \"- 공자\"\n",
    "\n",
    "val result = start + middle + end  // 문자열 변수 결합\n",
    "println(result)"
   ]
  },
  {
   "cell_type": "markdown",
   "id": "f7cb0a87",
   "metadata": {},
   "source": [
    "## 배열과 리스트의 연산자 처리"
   ]
  },
  {
   "cell_type": "code",
   "execution_count": 7,
   "id": "6baab7f8",
   "metadata": {},
   "outputs": [
    {
     "name": "stdout",
     "output_type": "stream",
     "text": [
      "[one, two, three, four, five]\n",
      "[one, two]\n"
     ]
    }
   ],
   "source": [
    "val numbers = listOf(\"one\", \"two\", \"three\", \"four\") \n",
    "val plusList = numbers + \"five\" \n",
    "val minusList = numbers - listOf(\"three\", \"four\")\n",
    "\n",
    "println(plusList)\n",
    "println(minusList)"
   ]
  },
  {
   "cell_type": "code",
   "execution_count": null,
   "id": "e9fce1c0",
   "metadata": {},
   "outputs": [],
   "source": []
  },
  {
   "cell_type": "code",
   "execution_count": null,
   "id": "80a90f52",
   "metadata": {},
   "outputs": [],
   "source": []
  }
 ],
 "metadata": {
  "kernelspec": {
   "display_name": "Kotlin",
   "language": "kotlin",
   "name": "kotlin"
  },
  "language_info": {
   "codemirror_mode": "text/x-kotlin",
   "file_extension": ".kt",
   "mimetype": "text/x-kotlin",
   "name": "kotlin",
   "nbconvert_exporter": "",
   "pygments_lexer": "kotlin",
   "version": "1.7.20-dev-1299"
  }
 },
 "nbformat": 4,
 "nbformat_minor": 5
}
