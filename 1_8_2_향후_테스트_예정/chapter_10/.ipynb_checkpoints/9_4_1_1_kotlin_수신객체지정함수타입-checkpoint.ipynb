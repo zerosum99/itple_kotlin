{
 "cells": [
  {
   "cell_type": "markdown",
   "id": "d81c7a7b",
   "metadata": {},
   "source": [
    "## 수신객체 지정함수 참조"
   ]
  },
  {
   "cell_type": "code",
   "execution_count": 1,
   "id": "abaa5dea",
   "metadata": {},
   "outputs": [
    {
     "name": "stdout",
     "output_type": "stream",
     "text": [
      "110\n",
      "110\n"
     ]
    }
   ],
   "source": [
    "val op : Int.(Int) -> Int = {x -> x +10}\n",
    "\n",
    "println((100).op(100))\n",
    "println(op(100,100))"
   ]
  },
  {
   "cell_type": "code",
   "execution_count": 2,
   "id": "c27b74c7",
   "metadata": {},
   "outputs": [
    {
     "name": "stdout",
     "output_type": "stream",
     "text": [
      "110\n"
     ]
    }
   ],
   "source": [
    "val op1 : (Int,Int) -> Int = {x,y -> y +10}\n",
    "println(op1(100,100))"
   ]
  },
  {
   "cell_type": "markdown",
   "id": "925b7c60",
   "metadata": {},
   "source": [
    "## 합성함수의 매개변수에 수신객체지정 함수참조처리"
   ]
  },
  {
   "cell_type": "code",
   "execution_count": 3,
   "id": "c450ab88",
   "metadata": {},
   "outputs": [
    {
     "name": "stdout",
     "output_type": "stream",
     "text": [
      "10\n"
     ]
    }
   ],
   "source": [
    "fun agg(num : IntArray, op : Int.(Int)->Int) : Int {\n",
    "    var result = num.firstOrNull() ?: 1\n",
    "    for (i in 1..num.lastIndex)  {\n",
    "        result = result + result.op(num[i])\n",
    "    }\n",
    "    return result\n",
    "}\n",
    "\n",
    "println(agg(intArrayOf(1,2,3,4), { it}))"
   ]
  },
  {
   "cell_type": "markdown",
   "id": "02e4eb89",
   "metadata": {},
   "source": [
    "## 수신객체  호출가능 참조"
   ]
  },
  {
   "cell_type": "code",
   "execution_count": 4,
   "id": "410a78d1",
   "metadata": {},
   "outputs": [],
   "source": [
    "fun agg2(num : IntArray, op : (Int, Int)->Int) : Int {\n",
    "    var result = num.firstOrNull() ?: 1\n",
    "    for (i in 1..num.lastIndex)  {\n",
    "        result = op(result,num[i])\n",
    "    }\n",
    "    return result\n",
    "}"
   ]
  },
  {
   "cell_type": "code",
   "execution_count": 6,
   "id": "4bc5ee03",
   "metadata": {},
   "outputs": [
    {
     "name": "stdout",
     "output_type": "stream",
     "text": [
      "10\n",
      "10\n"
     ]
    }
   ],
   "source": [
    "println(agg2(intArrayOf(1,2,3,4), Int::plus))\n",
    "println(agg2(intArrayOf(1,2,3,4), {x,y -> x+y}))"
   ]
  },
  {
   "cell_type": "code",
   "execution_count": null,
   "id": "3f166ece",
   "metadata": {},
   "outputs": [],
   "source": []
  },
  {
   "cell_type": "code",
   "execution_count": null,
   "id": "bf951a6d",
   "metadata": {},
   "outputs": [],
   "source": []
  }
 ],
 "metadata": {
  "kernelspec": {
   "display_name": "Kotlin",
   "language": "kotlin",
   "name": "kotlin"
  },
  "language_info": {
   "codemirror_mode": "text/x-kotlin",
   "file_extension": ".kt",
   "mimetype": "text/x-kotlin",
   "name": "kotlin",
   "nbconvert_exporter": "",
   "pygments_lexer": "kotlin",
   "version": "1.7.0-dev-1825"
  }
 },
 "nbformat": 4,
 "nbformat_minor": 5
}
