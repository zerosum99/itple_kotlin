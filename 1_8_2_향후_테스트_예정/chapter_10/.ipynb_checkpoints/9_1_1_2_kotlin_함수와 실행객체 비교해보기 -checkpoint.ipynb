{
 "cells": [
  {
   "cell_type": "code",
   "execution_count": null,
   "id": "88d9ae20",
   "metadata": {},
   "outputs": [],
   "source": []
  },
  {
   "cell_type": "code",
   "execution_count": 1,
   "id": "32c7358a",
   "metadata": {},
   "outputs": [
    {
     "data": {
      "text/plain": [
       "1.7.20"
      ]
     },
     "execution_count": 1,
     "metadata": {},
     "output_type": "execute_result"
    }
   ],
   "source": [
    "KotlinVersion.CURRENT             // 코틀린 현재 버전 "
   ]
  },
  {
   "cell_type": "code",
   "execution_count": null,
   "id": "7f456264",
   "metadata": {},
   "outputs": [],
   "source": []
  },
  {
   "cell_type": "markdown",
   "id": "1abdd65e",
   "metadata": {},
   "source": [
    "## 함수 인터페이스를  상속해서 실행객체 만들기"
   ]
  },
  {
   "cell_type": "code",
   "execution_count": 2,
   "id": "95b449a6",
   "metadata": {},
   "outputs": [
    {
     "name": "stdout",
     "output_type": "stream",
     "text": [
      "인자가 없고 출력하는 함수\n",
      "함수 객체가 만들어지고 실행\n",
      "true\n",
      "true\n",
      "실행연산자 호출 \n",
      "30\n",
      "class Line_2$ADDFunction\n"
     ]
    }
   ],
   "source": [
    "fun funB() = println(\"인자가 없고 출력하는 함수\")         // 함수정의  \n",
    "\n",
    "object B: ()->Unit {                                // object 표현식 정의 \n",
    "      override operator fun invoke() : Unit {       // 함수 인터페이스의 실행연산자가 없어서 구현 \n",
    "           println(\"함수 객체가 만들어지고 실행\")          // \n",
    "      }\n",
    "}\n",
    "\n",
    "funB()                                              // 함수실행\n",
    "B()                                                 // 오브젝트선언으로 함수 작성 \n",
    "println((::funB) is Function<Unit>)                 // 동일한 함수타입 확인 \n",
    "println(B is Function<Unit>)                        // 동일한 함수타입 확인 \n",
    "\n",
    "\n",
    "val add :Function2<Int,Int,Int> =                   // 람다표현식으로 함수 정의 \n",
    "                    {x:Int, y:Int -> x+y}\n",
    "\n",
    "class ADDFunction: (Int, Int)->Int {                // 클래스에 함수인터페이스 상속 \n",
    "    override fun invoke(x:Int, y:Int):Int{          // 실행연산자 재정의 \n",
    "        println(\"실행연산자 호출 \")\n",
    "        return x+y\n",
    "    }\n",
    "}\n",
    "\n",
    "val function:Function2<Int,Int,Int> = ADDFunction()  // 객체 생성 \n",
    "println(function(10,20))                             // 실행연산자 호출 \n",
    "println(function.javaClass.kotlin)                   // 객체의 클래스 확인"
   ]
  },
  {
   "cell_type": "code",
   "execution_count": null,
   "id": "4d201f0a",
   "metadata": {},
   "outputs": [],
   "source": []
  },
  {
   "cell_type": "code",
   "execution_count": null,
   "id": "c38d8aa7",
   "metadata": {},
   "outputs": [],
   "source": []
  },
  {
   "cell_type": "markdown",
   "id": "141152be",
   "metadata": {},
   "source": [
    "## 함수를 반환하는 함수 처리"
   ]
  },
  {
   "cell_type": "code",
   "execution_count": 3,
   "id": "77ffd949",
   "metadata": {},
   "outputs": [
    {
     "name": "stdout",
     "output_type": "stream",
     "text": [
      "함수표현식 전달\n",
      "100\n",
      "함수 반환\n",
      "200\n"
     ]
    }
   ],
   "source": [
    "fun funcc() : (Int)->Int {                          // 함수를 반환하는 함수 정의 \n",
    "    return {x:Int -> println(\"함수표현식 전달\"); x}     // 람다표현식으로 작성 후에 반환 \n",
    "}\n",
    "\n",
    "val C = object  : () -> ((Int)-> Int) {             // object 표현식에서 함수 정의 \n",
    "    override fun invoke() : Function1<Int,Int>  {   // 매개변수와 반환값을 가지는 함수 반환\n",
    "        println(\"함수 반환\")\n",
    "        return { y:Int ->  y }                      // 람다표현식으로 작성  후 반환 \n",
    "    }\n",
    "}\n",
    "\n",
    "println(funcc().invoke(100))                        //함수를 실행한 후에 반환된 함수 추가 실행\n",
    "val funC = C()\n",
    "println(funC.invoke(200))"
   ]
  },
  {
   "cell_type": "code",
   "execution_count": null,
   "id": "13a868ce",
   "metadata": {},
   "outputs": [],
   "source": []
  },
  {
   "cell_type": "code",
   "execution_count": null,
   "id": "202784c9",
   "metadata": {},
   "outputs": [],
   "source": []
  }
 ],
 "metadata": {
  "kernelspec": {
   "display_name": "Kotlin",
   "language": "kotlin",
   "name": "kotlin"
  },
  "language_info": {
   "codemirror_mode": "text/x-kotlin",
   "file_extension": ".kt",
   "mimetype": "text/x-kotlin",
   "name": "kotlin",
   "nbconvert_exporter": "",
   "pygments_lexer": "kotlin",
   "version": "1.7.20-dev-1299"
  }
 },
 "nbformat": 4,
 "nbformat_minor": 5
}
