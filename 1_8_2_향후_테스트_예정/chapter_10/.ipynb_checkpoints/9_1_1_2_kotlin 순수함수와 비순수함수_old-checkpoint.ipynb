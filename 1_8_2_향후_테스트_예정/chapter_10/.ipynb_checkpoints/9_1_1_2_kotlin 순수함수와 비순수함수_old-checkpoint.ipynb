{
 "cells": [
  {
   "cell_type": "markdown",
   "id": "e1eeba2b",
   "metadata": {},
   "source": [
    "## 함수형 프로그래밍\n",
    "\n",
    "- 순수함수를 사용한다.\n",
    "- 고차함수를 사용하고 함수를 전달할 때 람다함수를 사용\n"
   ]
  },
  {
   "cell_type": "markdown",
   "id": "413d6ade",
   "metadata": {},
   "source": [
    "## 1. 순수함수와 비순수함수\n",
    "\n",
    "- 부작용이 없는 함수\n",
    "<부작용>\n",
    "- 같은 인자에 대해 항상 같은 값을 반환.\n",
    "- 함수의 외부의 언떤 상태도 바꾸지 않느다.\n",
    "- 외부의 기능(함수)을 사용한다.\n",
    "- 파일 등에 출력을 한다 "
   ]
  },
  {
   "cell_type": "code",
   "execution_count": 1,
   "id": "7413332b",
   "metadata": {},
   "outputs": [],
   "source": [
    "fun purefunc(a:Int, b:Int) :Int {\n",
    "    return a + b\n",
    "}"
   ]
  },
  {
   "cell_type": "code",
   "execution_count": 2,
   "id": "6ce735dd",
   "metadata": {},
   "outputs": [
    {
     "data": {
      "text/plain": [
       "30"
      ]
     },
     "execution_count": 2,
     "metadata": {},
     "output_type": "execute_result"
    }
   ],
   "source": [
    "purefunc(10,20)"
   ]
  },
  {
   "cell_type": "code",
   "execution_count": 3,
   "id": "ae72d0c3",
   "metadata": {},
   "outputs": [
    {
     "data": {
      "text/plain": [
       "30"
      ]
     },
     "execution_count": 3,
     "metadata": {},
     "output_type": "execute_result"
    }
   ],
   "source": [
    "purefunc(10,20)"
   ]
  },
  {
   "cell_type": "markdown",
   "id": "bc68f9af",
   "metadata": {},
   "source": [
    "## 비순수함수"
   ]
  },
  {
   "cell_type": "code",
   "execution_count": 4,
   "id": "bca7b232",
   "metadata": {},
   "outputs": [],
   "source": [
    "fun nonpure() {\n",
    "    println(\" non pure function \")\n",
    "}"
   ]
  },
  {
   "cell_type": "code",
   "execution_count": 5,
   "id": "7b2cb943",
   "metadata": {},
   "outputs": [
    {
     "name": "stdout",
     "output_type": "stream",
     "text": [
      " non pure function \n"
     ]
    }
   ],
   "source": [
    "nonpure()"
   ]
  },
  {
   "cell_type": "code",
   "execution_count": null,
   "id": "78652f75",
   "metadata": {},
   "outputs": [],
   "source": []
  },
  {
   "cell_type": "markdown",
   "id": "7ee8849f",
   "metadata": {},
   "source": [
    "## 2. 함수 표현식\n",
    "\n",
    "- 람다 표현식은 함수의 이름이 없고 정의하면 바로 사용할 수 있는 함수를 말한다\n",
    "\n",
    "<표기법>\n",
    "\n",
    "-  중괄호 안에 -> 을 기준으로 좌측에서는 매개변수, 우측에는 표현식을 작성한다.\n",
    "- 별도의 반환값이 없고 표현식 실행된 결과가 반환값이다.\n",
    "   "
   ]
  },
  {
   "cell_type": "markdown",
   "id": "c55efaa5",
   "metadata": {},
   "source": [
    "### 익명함수 \n",
    "\n",
    "- 일반함수에서 함수 이름을 지정하지 않은 함수 \n",
    "- 이름없이 함수를 정의해서 변수에 할당해서 사용 => 보통 함수표현식으로 처리하는 것이 더 현함 "
   ]
  },
  {
   "cell_type": "code",
   "execution_count": 6,
   "id": "9fe5cb5e",
   "metadata": {},
   "outputs": [],
   "source": [
    "val add1 = fun (x:Int, y:Int) : Int = x+y"
   ]
  },
  {
   "cell_type": "code",
   "execution_count": 7,
   "id": "e9792851",
   "metadata": {},
   "outputs": [
    {
     "data": {
      "text/plain": [
       "30"
      ]
     },
     "execution_count": 7,
     "metadata": {},
     "output_type": "execute_result"
    }
   ],
   "source": [
    "add1(10,20)"
   ]
  },
  {
   "cell_type": "markdown",
   "id": "e90bae7d",
   "metadata": {},
   "source": [
    "### 함수표현식을 작성하고 바로 실행하기"
   ]
  },
  {
   "cell_type": "code",
   "execution_count": 8,
   "id": "8bd615fc",
   "metadata": {},
   "outputs": [
    {
     "data": {
      "text/plain": [
       "30"
      ]
     },
     "execution_count": 8,
     "metadata": {},
     "output_type": "execute_result"
    }
   ],
   "source": [
    "{ x:Int , y: Int -> x + y}(10,20)"
   ]
  },
  {
   "cell_type": "markdown",
   "id": "f2a665a2",
   "metadata": {},
   "source": [
    "### 함수 표현식을 변수에 할당\n",
    "\n",
    "- 익명 일반함수를 처리하는 것보다 함수표현식으로 처리하는 것이 더 편함"
   ]
  },
  {
   "cell_type": "code",
   "execution_count": 9,
   "id": "ee15a53f",
   "metadata": {},
   "outputs": [],
   "source": [
    "val add = { x:Int , y: Int -> x + y}"
   ]
  },
  {
   "cell_type": "code",
   "execution_count": 10,
   "id": "08e52d2e",
   "metadata": {},
   "outputs": [
    {
     "data": {
      "text/plain": [
       "30"
      ]
     },
     "execution_count": 10,
     "metadata": {},
     "output_type": "execute_result"
    }
   ],
   "source": [
    "add(10,20)"
   ]
  },
  {
   "cell_type": "code",
   "execution_count": null,
   "id": "76d3f42a",
   "metadata": {},
   "outputs": [],
   "source": []
  },
  {
   "cell_type": "markdown",
   "id": "702bd3eb",
   "metadata": {},
   "source": [
    "## 3. 재귀함수\n",
    "\n",
    "- 함수 자신을 부르는 함수를 재귀함수라고 한다.\n"
   ]
  },
  {
   "cell_type": "code",
   "execution_count": null,
   "id": "fc0153fb",
   "metadata": {},
   "outputs": [],
   "source": []
  },
  {
   "cell_type": "code",
   "execution_count": null,
   "id": "498a221a",
   "metadata": {},
   "outputs": [],
   "source": []
  },
  {
   "cell_type": "code",
   "execution_count": null,
   "id": "db764fe2",
   "metadata": {},
   "outputs": [],
   "source": []
  },
  {
   "cell_type": "markdown",
   "id": "8486f440",
   "metadata": {},
   "source": [
    "## 4. 합성함수\n",
    "\n",
    "- 고차함수 : 다른 함수를 인자로 사용하거나 결과값으로 반환하는 함수를 말한다."
   ]
  },
  {
   "cell_type": "markdown",
   "id": "b40bc898",
   "metadata": {},
   "source": [
    "### 함수 자료형 정의\n",
    "\n",
    "-  함수도 하나의 변수에 할당할 수 있다.\n",
    "- 이때 함수의 자료형을 지정해야 한다."
   ]
  },
  {
   "cell_type": "code",
   "execution_count": 11,
   "id": "7ebffcb8",
   "metadata": {},
   "outputs": [],
   "source": [
    "val add : (Int,Int) -> Int = {x:Int, y:Int -> x+y}"
   ]
  },
  {
   "cell_type": "code",
   "execution_count": 12,
   "id": "4ff4b6ed",
   "metadata": {},
   "outputs": [
    {
     "data": {
      "text/plain": [
       "30"
      ]
     },
     "execution_count": 12,
     "metadata": {},
     "output_type": "execute_result"
    }
   ],
   "source": [
    "add(10,20)"
   ]
  },
  {
   "cell_type": "code",
   "execution_count": null,
   "id": "0c0bd9a5",
   "metadata": {},
   "outputs": [],
   "source": []
  },
  {
   "cell_type": "code",
   "execution_count": null,
   "id": "63bed8dc",
   "metadata": {},
   "outputs": [],
   "source": []
  },
  {
   "cell_type": "markdown",
   "id": "26c0c2f2",
   "metadata": {},
   "source": [
    "### 합성함수 처리\n",
    "\n",
    "- 매개변수에 함수를 지정해서 호출할 때 함수를 전달한다.\n",
    "- 보통 람다표현식으로 처리"
   ]
  },
  {
   "cell_type": "code",
   "execution_count": 13,
   "id": "8a7a6692",
   "metadata": {},
   "outputs": [],
   "source": [
    "fun highfunc(sum:(Int, Int) -> Int, a:Int, b:Int) : Int = sum(a,b)"
   ]
  },
  {
   "cell_type": "code",
   "execution_count": 14,
   "id": "a2d6fc37",
   "metadata": {},
   "outputs": [
    {
     "data": {
      "text/plain": [
       "30"
      ]
     },
     "execution_count": 14,
     "metadata": {},
     "output_type": "execute_result"
    }
   ],
   "source": [
    "highfunc({x:Int, y:Int -> x+y}, 10,20)"
   ]
  },
  {
   "cell_type": "markdown",
   "id": "41c80e8e",
   "metadata": {},
   "source": [
    "### 일반 함수를 사용해서 합성함수 처리하기\n",
    "\n",
    "- 일반 함수를 함수참조를 통해 인자로 전달할 수 있다.\n"
   ]
  },
  {
   "cell_type": "code",
   "execution_count": 15,
   "id": "541759ae",
   "metadata": {},
   "outputs": [],
   "source": [
    "fun sum(a:Int, b:Int) = a + b\n",
    "fun mul(a:(Int,Int)->Int, b:Int, c:Int, d:Int) = a(b,c) * d"
   ]
  },
  {
   "cell_type": "code",
   "execution_count": 16,
   "id": "0523c9dc",
   "metadata": {},
   "outputs": [],
   "source": [
    "val res1 = sum(10,20)\n",
    "val res2 = mul(::sum, 10,20,3)"
   ]
  },
  {
   "cell_type": "code",
   "execution_count": 17,
   "id": "89c692d8",
   "metadata": {},
   "outputs": [
    {
     "name": "stdout",
     "output_type": "stream",
     "text": [
      "30, 90\n"
     ]
    }
   ],
   "source": [
    "println(\"$res1, $res2\")"
   ]
  },
  {
   "cell_type": "markdown",
   "id": "d4363934",
   "metadata": {},
   "source": [
    "### 함수를 반환값으로 전달하기 \n",
    "\n",
    "- 일반함수는 함수 참조를 통해 반환\n",
    "- 람다 표현식을 사용해서 바로 전달"
   ]
  },
  {
   "cell_type": "code",
   "execution_count": 18,
   "id": "1f297d32",
   "metadata": {},
   "outputs": [],
   "source": [
    "fun returnfunc() : (Int, Int) -> Int {\n",
    "    return ::sum\n",
    "}"
   ]
  },
  {
   "cell_type": "code",
   "execution_count": 19,
   "id": "87c04ffa",
   "metadata": {},
   "outputs": [],
   "source": [
    "val rf = returnfunc()"
   ]
  },
  {
   "cell_type": "code",
   "execution_count": 20,
   "id": "11c9fd94",
   "metadata": {},
   "outputs": [
    {
     "data": {
      "text/plain": [
       "30"
      ]
     },
     "execution_count": 20,
     "metadata": {},
     "output_type": "execute_result"
    }
   ],
   "source": [
    "rf(10,20)"
   ]
  },
  {
   "cell_type": "markdown",
   "id": "9f5faeb0",
   "metadata": {},
   "source": [
    "### 람다표현식으로 처리\n",
    "- 람다표현식으로 반환할 경우  블록없이 하나의 문장으로 처리가 가능"
   ]
  },
  {
   "cell_type": "code",
   "execution_count": 21,
   "id": "2cfbb8e7",
   "metadata": {},
   "outputs": [],
   "source": [
    "fun returnfunc1() : (Int, Int) -> Int {\n",
    "    return {x, y -> x+y}\n",
    "}"
   ]
  },
  {
   "cell_type": "code",
   "execution_count": 22,
   "id": "95626e80",
   "metadata": {},
   "outputs": [],
   "source": [
    "val rf1 = returnfunc1()"
   ]
  },
  {
   "cell_type": "code",
   "execution_count": 23,
   "id": "ac9fddd5",
   "metadata": {},
   "outputs": [
    {
     "data": {
      "text/plain": [
       "30"
      ]
     },
     "execution_count": 23,
     "metadata": {},
     "output_type": "execute_result"
    }
   ],
   "source": [
    "rf1(10,20)"
   ]
  },
  {
   "cell_type": "code",
   "execution_count": 24,
   "id": "cc680c75",
   "metadata": {},
   "outputs": [],
   "source": [
    "fun returnfunc2() : (Int, Int) -> Int = {x, y -> x+y}"
   ]
  },
  {
   "cell_type": "code",
   "execution_count": 25,
   "id": "f810f420",
   "metadata": {},
   "outputs": [],
   "source": [
    "val rf2 = returnfunc2()"
   ]
  },
  {
   "cell_type": "code",
   "execution_count": 26,
   "id": "ab043df4",
   "metadata": {},
   "outputs": [
    {
     "data": {
      "text/plain": [
       "30"
      ]
     },
     "execution_count": 26,
     "metadata": {},
     "output_type": "execute_result"
    }
   ],
   "source": [
    "rf2(10,20)"
   ]
  },
  {
   "cell_type": "markdown",
   "id": "db8df69a",
   "metadata": {},
   "source": [
    "## 6. 인라인 함수\n",
    "\n",
    "- 함수가 호출되는 곳에 함수 봄문이 내용을 모두 복사해놓고 함수의 분기 없이 처리되는 방식 => 성능을 높이기 위해 사용 \n",
    "- 인라인 함수 내의 전달되는 함수가 너무 로직이 길거나 할 때 컴파일러의 성능경고가 나올 수 있으니 주의해야 합니다."
   ]
  },
  {
   "cell_type": "code",
   "execution_count": 27,
   "id": "40a6e46b",
   "metadata": {},
   "outputs": [],
   "source": [
    "inline fun func(a:Int, b:Int, sum:(Int,Int)->Int) :Int {\n",
    "    return sum(a,b)\n",
    "}"
   ]
  },
  {
   "cell_type": "code",
   "execution_count": 28,
   "id": "7c6dda91",
   "metadata": {},
   "outputs": [
    {
     "data": {
      "text/plain": [
       "30"
      ]
     },
     "execution_count": 28,
     "metadata": {},
     "output_type": "execute_result"
    }
   ],
   "source": [
    "func(10,20,{x,y->x+y})"
   ]
  },
  {
   "cell_type": "code",
   "execution_count": 30,
   "id": "fdbd2dc1",
   "metadata": {},
   "outputs": [],
   "source": [
    "fun main() {\n",
    "    val a = func(10,20,{x,y->x+y})\n",
    "    val b = func(10,20,{x,y->x*y})\n",
    "    \n",
    "    println(\"a : $a, b : $b\")\n",
    "}"
   ]
  },
  {
   "cell_type": "code",
   "execution_count": 31,
   "id": "288e6fae",
   "metadata": {},
   "outputs": [
    {
     "name": "stdout",
     "output_type": "stream",
     "text": [
      "a : 30, b : 200\n"
     ]
    }
   ],
   "source": [
    "main()"
   ]
  },
  {
   "cell_type": "code",
   "execution_count": null,
   "id": "b7da1038",
   "metadata": {},
   "outputs": [],
   "source": []
  },
  {
   "cell_type": "markdown",
   "id": "d41d3bc9",
   "metadata": {},
   "source": [
    "### 람다식을 인라인 처리하지 않기\n",
    "\n",
    "- noinline 예약어를 사용해서 전달되는 함수를 인라인화 처리하지 않음"
   ]
  },
  {
   "cell_type": "code",
   "execution_count": null,
   "id": "cea27545",
   "metadata": {},
   "outputs": [],
   "source": []
  },
  {
   "cell_type": "code",
   "execution_count": 32,
   "id": "5704a6d4",
   "metadata": {},
   "outputs": [],
   "source": [
    "inline fun func1(a:Int, b:Int, noinline sum:(Int,Int)->Int) :Int {\n",
    "    return sum(a,b)\n",
    "}"
   ]
  },
  {
   "cell_type": "code",
   "execution_count": 33,
   "id": "54b4196f",
   "metadata": {},
   "outputs": [],
   "source": [
    "fun main() {\n",
    "    val a = func1(10,20,{x,y->x+y})\n",
    "    val b = func1(10,20,{x,y->x*y})\n",
    "    \n",
    "    println(\"a : $a, b : $b\")\n",
    "}"
   ]
  },
  {
   "cell_type": "code",
   "execution_count": 34,
   "id": "0425b74e",
   "metadata": {},
   "outputs": [
    {
     "name": "stdout",
     "output_type": "stream",
     "text": [
      "a : 30, b : 200\n"
     ]
    }
   ],
   "source": [
    "main()"
   ]
  },
  {
   "cell_type": "code",
   "execution_count": null,
   "id": "fd54c8eb",
   "metadata": {},
   "outputs": [],
   "source": []
  },
  {
   "cell_type": "markdown",
   "id": "a2cc0af3",
   "metadata": {},
   "source": [
    "## 7. 확장함수 \n",
    "\n",
    "- 기존 메소드에 대해 확장이 필요할 경우 처리"
   ]
  },
  {
   "cell_type": "code",
   "execution_count": null,
   "id": "73965d27",
   "metadata": {},
   "outputs": [],
   "source": []
  },
  {
   "cell_type": "code",
   "execution_count": null,
   "id": "97fc7683",
   "metadata": {},
   "outputs": [],
   "source": []
  }
 ],
 "metadata": {
  "kernelspec": {
   "display_name": "Kotlin",
   "language": "kotlin",
   "name": "kotlin"
  },
  "language_info": {
   "codemirror_mode": "text/x-kotlin",
   "file_extension": ".kt",
   "mimetype": "text/x-kotlin",
   "name": "kotlin",
   "nbconvert_exporter": "",
   "pygments_lexer": "kotlin",
   "version": "1.6.0-dev-3567"
  }
 },
 "nbformat": 4,
 "nbformat_minor": 5
}
