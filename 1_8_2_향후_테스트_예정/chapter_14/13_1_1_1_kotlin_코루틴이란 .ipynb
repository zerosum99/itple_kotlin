{
 "cells": [
  {
   "cell_type": "markdown",
   "id": "c7019e90",
   "metadata": {},
   "source": [
    "## 참조자료\n",
    "\n",
    "https://myungpyo.medium.com/reading-coroutine-official-guide-thoroughly-part-1-98f6e792bd5b"
   ]
  },
  {
   "cell_type": "markdown",
   "id": "9a28c36a",
   "metadata": {},
   "source": [
    "## 코루티 모듈 로딩 "
   ]
  },
  {
   "cell_type": "code",
   "execution_count": 1,
   "id": "ad7b6593",
   "metadata": {},
   "outputs": [],
   "source": [
    "@file:DependsOn(\"org.jetbrains.kotlinx:kotlinx-coroutines-core:1.6.1\")"
   ]
  },
  {
   "cell_type": "code",
   "execution_count": 2,
   "id": "55ce3332",
   "metadata": {},
   "outputs": [
    {
     "data": {
      "text/plain": [
       "Current classpath (14 paths):\n",
       "/Users/dahlmoon/anaconda3/envs/kotlin/lib/python3.8/site-packages/run_kotlin_kernel/jars/lib-0.11.0-61.jar\n",
       "/Users/dahlmoon/anaconda3/envs/kotlin/lib/python3.8/site-packages/run_kotlin_kernel/jars/api-0.11.0-61.jar\n",
       "/Users/dahlmoon/anaconda3/envs/kotlin/lib/python3.8/site-packages/run_kotlin_kernel/jars/kotlin-script-runtime-1.7.0-dev-1825.jar\n",
       "/Users/dahlmoon/anaconda3/envs/kotlin/lib/python3.8/site-packages/run_kotlin_kernel/jars/kotlin-reflect-1.6.0.jar\n",
       "/Users/dahlmoon/anaconda3/envs/kotlin/lib/python3.8/site-packages/run_kotlin_kernel/jars/kotlin-stdlib-1.6.0.jar\n",
       "/Users/dahlmoon/anaconda3/envs/kotlin/lib/python3.8/site-packages/run_kotlin_kernel/jars/annotations-13.0.jar\n",
       "/Users/dahlmoon/anaconda3/envs/kotlin/lib/python3.8/site-packages/run_kotlin_kernel/jars/kotlin-stdlib-common-1.6.0.jar\n",
       "/Users/dahlmoon/.m2/repository/org/jetbrains/kotlinx/kotlinx-coroutines-core/1.6.1/kotlinx-coroutines-core-1.6.1.jar\n",
       "/Users/dahlmoon/.m2/repository/org/jetbrains/kotlinx/kotlinx-coroutines-core-jvm/1.6.1/kotlinx-coroutines-core-jvm-1.6.1.jar\n",
       "/Users/dahlmoon/.m2/repository/org/jetbrains/kotlin/kotlin-stdlib-jdk8/1.6.0/kotlin-stdlib-jdk8-1.6.0.jar\n",
       "/Users/dahlmoon/.m2/repository/org/jetbrains/kotlin/kotlin-stdlib/1.6.0/kotlin-stdlib-1.6.0.jar\n",
       "/Users/dahlmoon/.m2/repository/org/jetbrains/annotations/13.0/annotations-13.0.jar\n",
       "/Users/dahlmoon/.m2/repository/org/jetbrains/kotlin/kotlin-stdlib-jdk7/1.6.0/kotlin-stdlib-jdk7-1.6.0.jar\n",
       "/Users/dahlmoon/.m2/repository/org/jetbrains/kotlin/kotlin-stdlib-common/1.6.0/kotlin-stdlib-common-1.6.0.jar"
      ]
     },
     "execution_count": 2,
     "metadata": {},
     "output_type": "execute_result"
    }
   ],
   "source": [
    ":classpath"
   ]
  },
  {
   "cell_type": "code",
   "execution_count": 3,
   "id": "2b938c32",
   "metadata": {},
   "outputs": [],
   "source": [
    "import kotlinx.coroutines.*"
   ]
  },
  {
   "cell_type": "code",
   "execution_count": null,
   "id": "e40682d9",
   "metadata": {},
   "outputs": [],
   "source": []
  },
  {
   "cell_type": "markdown",
   "id": "c26b66dc",
   "metadata": {},
   "source": [
    "## 설치 확인 "
   ]
  },
  {
   "cell_type": "markdown",
   "id": "bf8dfaf0",
   "metadata": {},
   "source": [
    "## 기본 사용 패키지"
   ]
  },
  {
   "cell_type": "code",
   "execution_count": null,
   "id": "dd06ddf7",
   "metadata": {},
   "outputs": [],
   "source": []
  },
  {
   "cell_type": "markdown",
   "id": "da0b60af",
   "metadata": {},
   "source": [
    "## 코루틴 클래스 확인 "
   ]
  },
  {
   "cell_type": "code",
   "execution_count": 4,
   "id": "0b359143",
   "metadata": {},
   "outputs": [
    {
     "name": "stdout",
     "output_type": "stream",
     "text": [
      "[kotlinx.coroutines.CoroutineScope, kotlin.Any]\n",
      "true\n",
      "true\n",
      "[kotlin.Any]\n",
      "true\n"
     ]
    }
   ],
   "source": [
    "println((GlobalScope::class).supertypes)             // 수퍼 클래스 확인 \n",
    "\n",
    "println(GlobalScope === GlobalScope)                 // 글로벌 스코프는 object 선언의 싱글턴\n",
    "\n",
    "println(GlobalScope::class.isInstance(GlobalScope))  // 인스턴스 관계 확인 \n",
    "\n",
    "val co = CoroutineScope(Dispatchers.Default)         // 코루틴 스코프는 클래스\n",
    "\n",
    "println(CoroutineScope::class.supertypes)            // 수퍼클래스 확인 \n",
    "\n",
    "println(CoroutineScope::class.isInstance(co))        // 인스턴스 관계 확인 "
   ]
  },
  {
   "cell_type": "code",
   "execution_count": null,
   "id": "861f5043",
   "metadata": {},
   "outputs": [],
   "source": []
  },
  {
   "cell_type": "markdown",
   "id": "37aac482",
   "metadata": {},
   "source": [
    "## 일반함수 호출과 코루틴처리 비교"
   ]
  },
  {
   "cell_type": "code",
   "execution_count": 5,
   "id": "ebf39b9e",
   "metadata": {},
   "outputs": [
    {
     "name": "stdout",
     "output_type": "stream",
     "text": [
      "순차적 처리\n",
      "일반함수 task 1 : Thread-18\n",
      "일반함수 task 2 : Thread-18\n",
      "스레드 처리\n",
      "일반함수 task 1 : Thread-19\n",
      "일반함수 task 2 : Thread-20\n"
     ]
    }
   ],
   "source": [
    "fun task1()= println(\"일반함수 task 1 : \" \n",
    "                     + Thread.currentThread().name)       // 첫번째 함수 \n",
    "fun task2() = println(\"일반함수 task 2 : \"                  // 두번째 함수 \n",
    "                     + Thread.currentThread().name)\n",
    "\n",
    "run {  println(\"순차적 처리\")                                // 내부 함수를 연속적으로 실행 \n",
    "    task1();task2();  }                                   // 일시중단함수 사용금지  \n",
    "\n",
    "println(\"스레드 처리\")\n",
    "val thread1 = object : Thread() {                         // 스레드 처리\n",
    "      override fun run(){                                 // start 메소드 이후에 run 실행         \n",
    "        task1()                                           // \n",
    "        Thread.sleep(200)                                 // 스레드 일시중단 \n",
    "      }                                                   \n",
    "}\n",
    "\n",
    "val thread2 = object : Thread() {                         // 다른 스레드 처리\n",
    "      override fun run(){                                 // start 메소드 이후에 run 실행         \n",
    "        task2()                                           // \n",
    "        Thread.sleep(200)                                 // 스레드 일시중단 \n",
    "      }                                                   \n",
    "}\n",
    "thread1.start()  \n",
    "thread2.start()                                           // 스레드 시작\n",
    "thread2.join()\n",
    "thread1.join()"
   ]
  },
  {
   "cell_type": "code",
   "execution_count": null,
   "id": "41c5a217",
   "metadata": {},
   "outputs": [],
   "source": []
  },
  {
   "cell_type": "markdown",
   "id": "05536ceb",
   "metadata": {},
   "source": [
    "## 코루틴 처리하기"
   ]
  },
  {
   "cell_type": "code",
   "execution_count": 6,
   "id": "b6e4c980",
   "metadata": {},
   "outputs": [
    {
     "name": "stdout",
     "output_type": "stream",
     "text": [
      "코루틴 처리 : [BlockingCoroutine{Active}@1f69e033, BlockingEventLoop@7e98c3d5]\n",
      "일반함수 task 2 : Thread-27\n",
      "일시중단함수 task 4 : Thread-27\n",
      "일반함수 task 1 : Thread-27\n",
      "일수중단함수 task 3 : Thread-27\n"
     ]
    }
   ],
   "source": [
    "import kotlinx.coroutines.*                               // 코루틴 패키지\n",
    "\n",
    "fun task1()= println(\"일반함수 task 1 : \" \n",
    "                     + Thread.currentThread().name)       // 첫번째 함수 \n",
    "fun task2() = println(\"일반함수 task 2 : \"                  // 두번째 함수 \n",
    "                     + Thread.currentThread().name)\n",
    "\n",
    "suspend fun task3() =  println(\"일수중단함수 task 3 : \"      // 일시중단함수 정의\n",
    "                     + Thread.currentThread().name)\n",
    "val task4 = suspend {println(\"일시중단함수 task 4 : \"        // 람다표현식도 일시중단함수 정의 가능 \n",
    "                     + Thread.currentThread().name)}\n",
    "\n",
    "val rb = runBlocking { \n",
    "    println(\"코루틴 처리 : \" + coroutineContext)             // 코루틴 환경구성 \n",
    "    launch {                                              // 코루틴 빌더로 함수처리\n",
    "        delay(300)\n",
    "        task1()                                           // 일반함수 호출 \n",
    "    }\n",
    "    launch {                                              // 코루틴 빌더로 함수처리\n",
    "        task2()                                           // 일반함수 호출 \n",
    "        delay(300)\n",
    "    }\n",
    "    launch {                                              // 코루틴 빌더로 함수처리\n",
    "        delay(300)\n",
    "        task3()                                           // 일시중단함수 \n",
    "    }\n",
    "    launch {                                              // 코루틴 빌더로 함수처리\n",
    "        task4()                                           // 일시중단함수\n",
    "        delay(300)\n",
    "    }\n",
    "}                                                         // 메인 스레드 사용"
   ]
  },
  {
   "cell_type": "code",
   "execution_count": null,
   "id": "8bf35748",
   "metadata": {},
   "outputs": [],
   "source": []
  },
  {
   "cell_type": "markdown",
   "id": "9e93560a",
   "metadata": {},
   "source": [
    "## 코루틴과 스레드 처리 비교 "
   ]
  },
  {
   "cell_type": "code",
   "execution_count": 7,
   "id": "dbc40065",
   "metadata": {},
   "outputs": [
    {
     "name": "stdout",
     "output_type": "stream",
     "text": [
      " 코루틴 처리 \n",
      "..........\n",
      " 스레드 처리\n",
      "**********"
     ]
    }
   ],
   "source": [
    "import java.util.concurrent.*\n",
    "\n",
    "fun main216() = runBlocking {                          // 런블러킹 코루틴 작성       \n",
    "    println(\" 코루틴 처리 \")\n",
    "    repeat(100_000) {                                  // 10만개의 코루틴 처리 작성 \n",
    "        launch {\n",
    "            delay(100L)\n",
    "            if (it % 10000 == 0) {                     // 만개 처리후에 점표시 \n",
    "                print(\".\")\n",
    "            } \n",
    "        }\n",
    "    }\n",
    "}\n",
    "main216() \n",
    "\n",
    "println()\n",
    "fun main217() {                                         // 런블럭으로 코투틴 작성 \n",
    "    println(\" 스레드 처리\")\n",
    "    val executor = Executors.newFixedThreadPool(1024)   // 스레드 고유풀 생성 \n",
    "    repeat(10000) {                                     // 만개만 처리 \n",
    "        executor.submit {\n",
    "            Thread.sleep(100L)\n",
    "            if (it % 1000 == 0) {\n",
    "                print(\"*\")\n",
    "            } \n",
    "        }\n",
    "    }\n",
    "    Thread.sleep(3000L)                                  // 서브 스페드 처리가 끝나도록 잠시 중단\n",
    "    \n",
    "    executor.shutdown()                                  // 풀 닫기 \n",
    "}\n",
    "main217() "
   ]
  },
  {
   "cell_type": "code",
   "execution_count": null,
   "id": "d2c89e68",
   "metadata": {},
   "outputs": [],
   "source": []
  },
  {
   "cell_type": "code",
   "execution_count": null,
   "id": "b3527baf",
   "metadata": {},
   "outputs": [],
   "source": []
  }
 ],
 "metadata": {
  "kernelspec": {
   "display_name": "Kotlin",
   "language": "kotlin",
   "name": "kotlin"
  },
  "language_info": {
   "codemirror_mode": "text/x-kotlin",
   "file_extension": ".kt",
   "mimetype": "text/x-kotlin",
   "name": "kotlin",
   "nbconvert_exporter": "",
   "pygments_lexer": "kotlin",
   "version": "1.7.0-dev-1825"
  }
 },
 "nbformat": 4,
 "nbformat_minor": 5
}
