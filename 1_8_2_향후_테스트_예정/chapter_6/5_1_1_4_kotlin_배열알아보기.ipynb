{
 "cells": [
  {
   "cell_type": "code",
   "execution_count": null,
   "id": "8e1ed728",
   "metadata": {},
   "outputs": [],
   "source": []
  },
  {
   "cell_type": "code",
   "execution_count": 1,
   "id": "e4d295c2",
   "metadata": {},
   "outputs": [
    {
     "data": {
      "text/plain": [
       "1.7.20"
      ]
     },
     "execution_count": 1,
     "metadata": {},
     "output_type": "execute_result"
    }
   ],
   "source": [
    "KotlinVersion.CURRENT             // 코틀린 현재 버전 "
   ]
  },
  {
   "cell_type": "code",
   "execution_count": null,
   "id": "776073d5",
   "metadata": {},
   "outputs": [],
   "source": []
  },
  {
   "cell_type": "markdown",
   "id": "fa5a167b",
   "metadata": {},
   "source": [
    "## 배열의 내부 멤버 확인 "
   ]
  },
  {
   "cell_type": "code",
   "execution_count": 2,
   "id": "9a86cd9f",
   "metadata": {},
   "outputs": [
    {
     "name": "stdout",
     "output_type": "stream",
     "text": [
      "Array\n",
      "[size, clone, get, iterator, set, equals, hashCode, toString]\n"
     ]
    }
   ],
   "source": [
    "fun Any.dir() : Set<String> {\n",
    "    val a = this.javaClass.kotlin\n",
    "    println(a.simpleName)\n",
    "    var ll = mutableListOf<String>()\n",
    "    for (i in a.members) {\n",
    "        ll.add(i.name)\n",
    "    }\n",
    "    return ll.toSet() \n",
    "}\n",
    "\n",
    "val arInt = arrayOf(1,2,3,4)           // 내부 배열 메소드 확인\n",
    "println(arInt.dir())"
   ]
  },
  {
   "cell_type": "code",
   "execution_count": null,
   "id": "f48c03a4",
   "metadata": {},
   "outputs": [],
   "source": []
  },
  {
   "cell_type": "markdown",
   "id": "c8a7719c",
   "metadata": {},
   "source": [
    "## 배열 생성 "
   ]
  },
  {
   "cell_type": "code",
   "execution_count": 3,
   "id": "2ada26f9",
   "metadata": {},
   "outputs": [
    {
     "name": "stdout",
     "output_type": "stream",
     "text": [
      "[Ljava.lang.Integer;@33918f4a\n",
      "[1, 2, 3, 4] class kotlin.Array\n",
      "[코틀린, 자마] class kotlin.Array\n",
      "배열의 크기    = 4\n",
      "배열의 원소의 합= 10\n",
      "배열의 최대값  = 4\n",
      "배열의 최소값  = 1\n",
      "배열의 평균   = 2.5\n",
      "배열의 개수   = 4\n",
      "배열의 크기   = 2\n",
      "배열의 최대값  = 코틀린\n",
      "배열의 최소값  = 자마\n",
      "배열의 개수   = 2\n"
     ]
    }
   ],
   "source": [
    "import java.util.Arrays               // 자바의 배열 클래스 \n",
    "\n",
    "val arInt = arrayOf(1,2,3,4)\n",
    "val arStr = arrayOf(\"코틀린\",\"자마\")\n",
    "\n",
    "println(arInt)                        //배열출력하는 방식                    \n",
    "println(arInt.contentToString() + \" \" + arInt.javaClass.kotlin)\n",
    "println(Arrays.toString(arStr) + \" \" + arInt.javaClass.kotlin)\n",
    "\n",
    "println(\"배열의 크기    = \" + arInt.size)\n",
    "println(\"배열의 원소의 합= \" + arInt.sum())\n",
    "println(\"배열의 최대값  = \" + arInt.maxOrNull())\n",
    "println(\"배열의 최소값  = \" + arInt.minOrNull())\n",
    "println(\"배열의 평균   = \" + arInt.average())\n",
    "println(\"배열의 개수   = \" + arInt.count())\n",
    "\n",
    "println(\"배열의 크기   = \" + arStr.size)\n",
    "println(\"배열의 최대값  = \" + arStr.maxOrNull())\n",
    "println(\"배열의 최소값  = \" + arStr.minOrNull())\n",
    "println(\"배열의 개수   = \" + arStr.count())"
   ]
  },
  {
   "cell_type": "code",
   "execution_count": null,
   "id": "58f64905",
   "metadata": {},
   "outputs": [],
   "source": []
  },
  {
   "cell_type": "code",
   "execution_count": null,
   "id": "330adc95",
   "metadata": {},
   "outputs": [],
   "source": []
  },
  {
   "cell_type": "markdown",
   "id": "8e28f4a8",
   "metadata": {},
   "source": [
    "## 내부 반복 및 외부 반복 처리"
   ]
  },
  {
   "cell_type": "code",
   "execution_count": 4,
   "id": "e5fca9e9",
   "metadata": {},
   "outputs": [
    {
     "name": "stdout",
     "output_type": "stream",
     "text": [
      "1, 2, 3, 4, \n",
      "코틀린\n",
      "자마\n",
      "코틀린\n",
      "자마\n",
      "arr[0] -> 코틀린\n",
      "arr[1] -> 자마\n"
     ]
    }
   ],
   "source": [
    "for (i in arInt) {                   // for 문에서는 자동으로 반복자 처리\n",
    "    print(i.toString()+\", \")\n",
    "}\n",
    "println()\n",
    "\n",
    "val x = arStr.indices.iterator()      // 반복자로 변환\n",
    "while (x.hasNext())  {                // 원소가 있는지 확인 \n",
    "    println(arStr.get(x.next()))\n",
    "}\n",
    "\n",
    "arStr.forEach { println(it)}          // 내부 반복자로 처리  \n",
    "\n",
    "arStr.forEachIndexed {                // 내부 반복자에서 인덱스와 값을 반환처리 \n",
    "    i,e -> println(\"arr[$i] -> $e\") }"
   ]
  },
  {
   "cell_type": "markdown",
   "id": "49fc9476",
   "metadata": {},
   "source": [
    "## 다양한 자료형의 배열 생성 "
   ]
  },
  {
   "cell_type": "code",
   "execution_count": 5,
   "id": "bdee6ab7",
   "metadata": {},
   "outputs": [
    {
     "name": "stdout",
     "output_type": "stream",
     "text": [
      "[a, b, c]\n",
      "class kotlin.CharArray\n",
      "[1, 2, 3, 4]\n",
      "class kotlin.IntArray\n",
      "[1, 3, 3, 4]\n",
      "class kotlin.LongArray\n",
      "[1, 2, 3, 4]\n",
      "class kotlin.ShortArray\n",
      "[1, 2, 3, 4]\n",
      "class kotlin.ByteArray\n",
      "[true, false]\n",
      "class kotlin.BooleanArray\n"
     ]
    }
   ],
   "source": [
    "println(charArrayOf('a','b','c').contentToString())    //문자\n",
    "println(charArrayOf('a','b','c')::class)\n",
    "println(intArrayOf(1,2,3,4).contentToString())         //정수 \n",
    "println(intArrayOf(1,2,3,4)::class)\n",
    "println(longArrayOf(1,3,3,4).contentToString())        //정수\n",
    "println(longArrayOf(1,3,3,4)::class)\n",
    "println(shortArrayOf(1,2,3,4).contentToString())       //정수 \n",
    "println(shortArrayOf(1,2,3,4)::class)\n",
    "println(byteArrayOf(1,2,3,4).contentToString())        //정수\n",
    "println(byteArrayOf(1,2,3,4)::class)\n",
    "println(booleanArrayOf(true, false).contentToString()) //부울\n",
    "println(booleanArrayOf(true, false)::class)"
   ]
  },
  {
   "cell_type": "code",
   "execution_count": null,
   "id": "4262bd2f",
   "metadata": {},
   "outputs": [],
   "source": []
  },
  {
   "cell_type": "markdown",
   "id": "4de046cd",
   "metadata": {},
   "source": [
    "## 배열 원소 검색 및 갱신 "
   ]
  },
  {
   "cell_type": "code",
   "execution_count": 6,
   "id": "46a0f074",
   "metadata": {},
   "outputs": [
    {
     "name": "stdout",
     "output_type": "stream",
     "text": [
      "a\n",
      "a\n",
      "a\n",
      "[a, b, c]\n",
      "[a, z, x]\n"
     ]
    }
   ],
   "source": [
    "val car = charArrayOf('a','b','c')\n",
    "\n",
    "println(car[0])                  //연산자로 검색\n",
    "println(car.get(0))              //메소드로 검색\n",
    "println(car.getOrElse(0, {' '})) // 인덱스가 없으면 초기값 처리\n",
    "\n",
    "val car1 = car.copyOf()          //다른 배열로 복사\n",
    "car1[1] = 'z'                    //연산자로 갱신\n",
    "car1.set(2,'x')                  //메소드로 갱신\n",
    "\n",
    "println(car.contentToString())    //기존 배열\n",
    "println(car1.contentToString())   //변경된 배열"
   ]
  },
  {
   "cell_type": "code",
   "execution_count": null,
   "id": "ba38dedb",
   "metadata": {},
   "outputs": [],
   "source": []
  },
  {
   "cell_type": "markdown",
   "id": "61d782b3",
   "metadata": {},
   "source": [
    "## 원소 찾기 및 포함여부"
   ]
  },
  {
   "cell_type": "code",
   "execution_count": 7,
   "id": "e2566541",
   "metadata": {},
   "outputs": [
    {
     "name": "stdout",
     "output_type": "stream",
     "text": [
      "[a, b, c, d]\n",
      "[a, b, c, d]\n",
      "[a, b]\n",
      "a\n",
      "d\n",
      "2\n",
      "true\n",
      "true\n"
     ]
    }
   ],
   "source": [
    "val car = charArrayOf('a','b','c')\n",
    "val car1 = car.plus('d')            // 원소 추가 \n",
    "val car2 = car + 'd'                // 연산자로 추가\n",
    "println(car1.contentToString())\n",
    "println(car2.contentToString())\n",
    "\n",
    "val car3 = car1.sliceArray(0..1)    // 부분 배열 생성 \n",
    "println(car3.contentToString())\n",
    "\n",
    "println(car1.first())               // 첫번째 원소\n",
    "println(car1.last())                // 마지막 원소\n",
    "println(car1.indexOf('c'))          // 원소의 인덱스 번호\n",
    "println(car1.contains('c'))         // 포함여부 확인\n",
    "println('d' in car1)                // 포함연산자 처리"
   ]
  },
  {
   "cell_type": "code",
   "execution_count": null,
   "id": "ad8fe503",
   "metadata": {},
   "outputs": [],
   "source": []
  },
  {
   "cell_type": "markdown",
   "id": "880e43a9",
   "metadata": {},
   "source": [
    "## 정렬 처리"
   ]
  },
  {
   "cell_type": "code",
   "execution_count": 8,
   "id": "6b22f2a5",
   "metadata": {},
   "outputs": [
    {
     "name": "stdout",
     "output_type": "stream",
     "text": [
      "[1, 2, 3, 4, 7, 8]\n",
      "[8, 7, 4, 3, 2, 1]\n",
      "[1, 2, 3, 4, 7, 8]\n",
      "[8, 7, 4, 3, 2, 1]\n",
      "[1, 8, 7, 2, 4, 3]\n",
      "class java.util.ArrayList\n"
     ]
    }
   ],
   "source": [
    "val arr4 = arrayOf(3,4,2,7,8,1)    // 배열 객체 생성\n",
    "val arr5 = arr4.copyOf()           // 복사하기\n",
    "\n",
    "arr4.sort()                        // 내부 변경 정렬\n",
    "println(arr4.contentToString())\n",
    "arr4.reverse()                     // 내부 변경 역정렬\n",
    "println(arr4.contentToString())\n",
    "\n",
    "val arr6 = arr5.sorted()           // 새로운 배열생성 정렬\n",
    "println(arr6)\n",
    "val arr7 = arr5.sortedDescending() // 새로운 배열생성 정렬\n",
    "println(arr7)\n",
    "val arr8 = arr5.reversed()         // 새로운 역배열생성 정렬\n",
    "println(arr8)\n",
    "println(arr8.javaClass)            // ArrayListf로 변환"
   ]
  },
  {
   "cell_type": "code",
   "execution_count": null,
   "id": "4af00f9e",
   "metadata": {},
   "outputs": [],
   "source": []
  },
  {
   "cell_type": "markdown",
   "id": "d8607a01",
   "metadata": {},
   "source": [
    "## 널값 배열"
   ]
  },
  {
   "cell_type": "code",
   "execution_count": 9,
   "id": "e9e4a215",
   "metadata": {},
   "outputs": [
    {
     "name": "stdout",
     "output_type": "stream",
     "text": [
      "[0, 1, 4, 9, 16]\n",
      "[0, 5, 10, 15, 20]\n",
      "[0.0, 5.0, 10.0, 15.0, 20.0]\n",
      "[null, null, null, null, null]\n"
     ]
    }
   ],
   "source": [
    "val arr = Array(5) {it * it}             // 클래스로 배열 생성\n",
    "println(arr.contentToString())\n",
    "\n",
    "val arrInt = IntArray(5) {it *5}         // 특정 자료형에 맞도록 배열 생성\n",
    "println(arrInt.contentToString())\n",
    "\n",
    "val arrDouble = DoubleArray(5) {it *5.0} // 특정 자료형에 맞도록 배열 생성\n",
    "println(arrDouble.contentToString())\n",
    "\n",
    "val arrNull = arrayOfNulls<Int>(5)       // 널값을 가지는 배열 생성\n",
    "println(arrNull.contentToString())"
   ]
  },
  {
   "cell_type": "code",
   "execution_count": null,
   "id": "3bd2d310",
   "metadata": {},
   "outputs": [],
   "source": []
  }
 ],
 "metadata": {
  "kernelspec": {
   "display_name": "Kotlin",
   "language": "kotlin",
   "name": "kotlin"
  },
  "language_info": {
   "codemirror_mode": "text/x-kotlin",
   "file_extension": ".kt",
   "mimetype": "text/x-kotlin",
   "name": "kotlin",
   "nbconvert_exporter": "",
   "pygments_lexer": "kotlin",
   "version": "1.7.20-dev-1299"
  }
 },
 "nbformat": 4,
 "nbformat_minor": 5
}
