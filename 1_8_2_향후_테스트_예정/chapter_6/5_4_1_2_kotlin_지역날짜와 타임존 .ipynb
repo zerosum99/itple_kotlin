{
 "cells": [
  {
   "cell_type": "code",
   "execution_count": null,
   "id": "5d5ca422",
   "metadata": {},
   "outputs": [],
   "source": []
  },
  {
   "cell_type": "code",
   "execution_count": 1,
   "id": "a0e49bb4",
   "metadata": {},
   "outputs": [
    {
     "data": {
      "text/plain": [
       "1.7.20"
      ]
     },
     "execution_count": 1,
     "metadata": {},
     "output_type": "execute_result"
    }
   ],
   "source": [
    "KotlinVersion.CURRENT             // 코틀린 현재 버전 "
   ]
  },
  {
   "cell_type": "code",
   "execution_count": null,
   "id": "e2fcea7c",
   "metadata": {},
   "outputs": [],
   "source": []
  },
  {
   "cell_type": "markdown",
   "id": "36ca0734",
   "metadata": {},
   "source": [
    "## 로컬 날짜"
   ]
  },
  {
   "cell_type": "code",
   "execution_count": 2,
   "id": "0b98b1d0",
   "metadata": {},
   "outputs": [
    {
     "name": "stdout",
     "output_type": "stream",
     "text": [
      "Current: 2022-08-24\n",
      "임의지정 : 2022년 08월 24일 10시 12분 44초\n",
      "년월일 : 2022-08-24\n",
      "일영어월일 : 24-8월-2022\n",
      "일월일 : 24/08/2022\n",
      "연월일시분초 : 2022-08-24T10:12:44\n",
      "시분 : 10:12 오전\n"
     ]
    }
   ],
   "source": [
    "import java.time.LocalDateTime                                // 지역날짜 처리 \n",
    "import java.time.format.DateTimeFormatter                     // 포매팅 \n",
    "\n",
    "val arft = mapOf(\"임의지정\" to \"yyyy년 MM월 dd일 HH시 mm분 ss초\",   // 다양한 포매팅을 맵에 저장 \n",
    "                 \"년월일\" to \"yyyy-MM-dd\",\n",
    "                 \"일영어월일\" to \"dd-MMM-yyyy\",\n",
    "                 \"일월일\" to \"dd/MM/yyyy\",\n",
    "                 \"연월일시분초\" to \"yyyy-MM-dd'T'HH:mm:ss\",\n",
    "                 \"시분\" to \"h:mm a\")\n",
    "\n",
    "val current = LocalDateTime.now()                              // 지역날짜 가졍오기 \n",
    "\n",
    "var formatter = DateTimeFormatter.ISO_DATE                     // 국제표준 포매팅\n",
    "var formatted = current.format(formatter)                      // 날짜 변환 \n",
    "println(\"Current: $formatted\")                                 // 출력 \n",
    "\n",
    "\n",
    "for ((key,formating) in arft) {                                // 순환\n",
    "    formatter = DateTimeFormatter.ofPattern(formating)         // 현재 포매팅 객체 생성 \n",
    "    formatted = current.format(formatter)                      // 변환\n",
    "    println(\"$key : $formatted\")                               // 출력\n",
    "}"
   ]
  },
  {
   "cell_type": "code",
   "execution_count": null,
   "id": "58166eb6",
   "metadata": {},
   "outputs": [],
   "source": []
  },
  {
   "cell_type": "markdown",
   "id": "6d43afc8",
   "metadata": {},
   "source": [
    "## 로컬 날짜"
   ]
  },
  {
   "cell_type": "code",
   "execution_count": 3,
   "id": "76731737",
   "metadata": {},
   "outputs": [
    {
     "name": "stdout",
     "output_type": "stream",
     "text": [
      "임의 날짜 및 시간 : 2022-05-01T19:30 \n",
      "임의 날짜 : 2022-05-01\n",
      "임의 날짜 및 시간 : 05:01:19\n",
      "현재 날짜와 시간 : 2022-08-24T10:12:45.921260\n",
      "현재 날짜 :2022-08-24\n",
      "현재 시간분초 : 10:12:45.922058\n"
     ]
    }
   ],
   "source": [
    "import java.time.LocalDate                             // 지역 날짜 처리\n",
    "import java.time.LocalDateTime                         // 지역 날짜와 시간 처리\n",
    "import java.time.LocalTime                             // 지역 시간 처리\n",
    "import java.time.Month                                 // 월정보 처리 \n",
    "\n",
    "var dateTime = LocalDateTime.of(2022, Month.MAY,       // 특정 일자 및 시간 지정 \n",
    "                                1, 19, 30)\n",
    "println(\"임의 날짜 및 시간 : $dateTime \")\n",
    "\n",
    "var date = LocalDate.of(2022, Month.MAY, 1)            // 특정 일자 지정 \n",
    "println(\"임의 날짜 : $date\")\n",
    "var time = LocalTime.of(5, 1, 19)                      // 월 일 시간 지정 \n",
    "println(\"임의 날짜 및 시간 : $time\")\n",
    "\n",
    "dateTime = LocalDateTime.now()                         // 지역 날짜 시간 생성 \n",
    "println(\"현재 날짜와 시간 : $dateTime\")\n",
    "date = LocalDate.now()                                 // 지역 날짜 생성 \n",
    "println(\"현재 날짜 :$date\")\n",
    "time = LocalTime.now()                                 // 지역 시간 생성 \n",
    "println(\"현재 시간분초 : $time\")\n"
   ]
  },
  {
   "cell_type": "code",
   "execution_count": null,
   "id": "1da0e9f0",
   "metadata": {},
   "outputs": [],
   "source": []
  },
  {
   "cell_type": "markdown",
   "id": "9616c3fa",
   "metadata": {},
   "source": [
    "## 로컬 날자 포매팅"
   ]
  },
  {
   "cell_type": "code",
   "execution_count": 4,
   "id": "23bb7455",
   "metadata": {},
   "outputs": [
    {
     "name": "stdout",
     "output_type": "stream",
     "text": [
      "시분초 오전오후   : 오전 10:12:47\n",
      "요일 월일년도    : 2022년 8월 24일 수요일\n",
      "월일년도 오전오후 : 22. 8. 24. 오전 10:12\n",
      "월일년 시분초    : 8/24/2022 10:12:47\n"
     ]
    }
   ],
   "source": [
    "import java.time.LocalDateTime\n",
    "import java.time.format.DateTimeFormatter                     // 포매팅 처리\n",
    "import java.time.format.FormatStyle                           // 포맷 스타일 처리\n",
    "\n",
    "val dateTime1 = LocalDateTime.now()                            // 시간 분 초 오전오후표시\n",
    "println(\"시분초 오전오후   : \" + dateTime1.format(\n",
    "      DateTimeFormatter.ofLocalizedTime(FormatStyle.MEDIUM)))\n",
    "println(\"요일 월일년도    : \" + dateTime1.format(                 // 요일 월 일 년 \n",
    "    DateTimeFormatter.ofLocalizedDate(FormatStyle.FULL)))\n",
    "\n",
    "println(\"월일년도 오전오후 : \" + dateTime1.format(                 // 월일년 시 분 오전오후표시\n",
    "    DateTimeFormatter.ofLocalizedDateTime(FormatStyle.SHORT)))\n",
    "\n",
    "println(\"월일년 시분초    : \" + dateTime1.format(                 // 패턴 입력 : 월일년 시간 \n",
    "    DateTimeFormatter.ofPattern(\"M/d/y H:m:ss\")))"
   ]
  },
  {
   "cell_type": "code",
   "execution_count": null,
   "id": "c8d9e284",
   "metadata": {},
   "outputs": [],
   "source": []
  },
  {
   "cell_type": "markdown",
   "id": "856989a9",
   "metadata": {},
   "source": [
    "## 타임존 처리"
   ]
  },
  {
   "cell_type": "code",
   "execution_count": 5,
   "id": "2bc665b5",
   "metadata": {},
   "outputs": [
    {
     "name": "stdout",
     "output_type": "stream",
     "text": [
      "Now in Seoul     : 2022-08-24T10:12:49.060222+09:00[Asia/Seoul]\n",
      "Now in Tokyo     : 2022-08-24T10:12:49.060589+09:00[Asia/Tokyo]\n",
      "Now in Pyongyang : 2022-08-24T10:12:49.061316+09:00[Asia/Pyongyang]\n"
     ]
    }
   ],
   "source": [
    "import java.time.ZonedDateTime                            // 타임존 날짜와 시간                \n",
    "import java.time.ZoneId                                   // 타임존 코드 관리 \n",
    "\n",
    "val now = ZonedDateTime.now()                             // 타임존 날짜와 시간 생성 \n",
    "println(\"Now in Seoul     : \" + now)\n",
    "\n",
    "val nowt = ZonedDateTime.now(ZoneId.of(\"Asia/Tokyo\"))     // 타임존을 동경 기준으로 변환 \n",
    "println(\"Now in Tokyo     : \" + nowt)\n",
    "\n",
    "val nowp = ZonedDateTime.now(ZoneId.of(\"Asia/Pyongyang\")) // 타임존을 평양기준으로 변환 \n",
    "println(\"Now in Pyongyang : \" + nowp)"
   ]
  },
  {
   "cell_type": "code",
   "execution_count": null,
   "id": "053c8282",
   "metadata": {},
   "outputs": [],
   "source": []
  },
  {
   "cell_type": "markdown",
   "id": "bb636fe9",
   "metadata": {},
   "source": [
    "## UTC 타임존 처리"
   ]
  },
  {
   "cell_type": "code",
   "execution_count": 6,
   "id": "4b0023bc",
   "metadata": {},
   "outputs": [
    {
     "name": "stdout",
     "output_type": "stream",
     "text": [
      "Current Date in milliseconds is :1661303570718\n",
      "Current Date in milliseconds is :Wed Aug 24 10:12:50 KST 2022\n",
      "Europe/London  : Wed Aug 24 02:12:50 BST 2022\n",
      "GMT            : Wed Aug 24 01:12:50 GMT 2022\n",
      "UTC            : Wed Aug 24 01:12:50 UTC 2022\n",
      "UTC            : 2022-08-24T01:12:50.728003Z\n"
     ]
    }
   ],
   "source": [
    "import java.util.Date                                         // 날짜처리\n",
    "import java.util.TimeZone                                     // 타임존 처리 \n",
    "import java.time.OffsetDateTime                               // offset 날짜와 시간처리\n",
    "import java.time.ZoneOffset                                   // UTC 지정 \n",
    "\n",
    "TimeZone.setDefault(TimeZone.getTimeZone(\"Asia/Seoul\"))       // 서울 기준\n",
    "val now = Date();\n",
    "println(\"Current Date in milliseconds is :\" + now.getTime())  // 현재 시간처리\n",
    "println(\"Current Date in milliseconds is :\" + now)            // 현재 날짜 처리\n",
    "\n",
    "TimeZone.setDefault(TimeZone.getTimeZone(\"Europe/London\"))    // BST는 영국 기준 \n",
    "println(\"Europe/London  : \" + now)                            // 서머타임 처리하면 시간차가 생김\n",
    "TimeZone.setDefault( TimeZone.getTimeZone(\"GMT\"))             // 그리니치 전문대 기준 \n",
    "println(\"GMT            : \" + now)\n",
    "TimeZone.setDefault( TimeZone.getTimeZone(\"UTC\"))             // 그리니치 전문대와 유사\n",
    "println(\"UTC            : \" + now)\n",
    "\n",
    "val now1 = OffsetDateTime.now(ZoneOffset.UTC)                 // UTC 타임 가져오기\n",
    "println(\"UTC            : \" + now1)"
   ]
  },
  {
   "cell_type": "code",
   "execution_count": null,
   "id": "c88f937a",
   "metadata": {},
   "outputs": [],
   "source": []
  },
  {
   "cell_type": "code",
   "execution_count": null,
   "id": "afaf6c9c",
   "metadata": {},
   "outputs": [],
   "source": []
  }
 ],
 "metadata": {
  "kernelspec": {
   "display_name": "Kotlin",
   "language": "kotlin",
   "name": "kotlin"
  },
  "language_info": {
   "codemirror_mode": "text/x-kotlin",
   "file_extension": ".kt",
   "mimetype": "text/x-kotlin",
   "name": "kotlin",
   "nbconvert_exporter": "",
   "pygments_lexer": "kotlin",
   "version": "1.7.20-dev-1299"
  }
 },
 "nbformat": 4,
 "nbformat_minor": 5
}
