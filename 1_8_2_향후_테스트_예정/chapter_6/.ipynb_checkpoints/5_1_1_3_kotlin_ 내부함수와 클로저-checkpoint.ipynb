{
 "cells": [
  {
   "cell_type": "markdown",
   "id": "cd036a97",
   "metadata": {},
   "source": [
    "## 내부함수 실행 출력"
   ]
  },
  {
   "cell_type": "code",
   "execution_count": 1,
   "id": "47151d99",
   "metadata": {},
   "outputs": [
    {
     "name": "stdout",
     "output_type": "stream",
     "text": [
      "20\n",
      "20\n"
     ]
    }
   ],
   "source": [
    "fun outer(x:Int) {\n",
    "    fun inner(y:Int) =x +y\n",
    "    println(inner(x))\n",
    "}\n",
    "\n",
    "outer(10)\n",
    "\n",
    "fun outer1(x:Int): Int {\n",
    "    fun inner(y:Int) =x +y\n",
    "    return inner(x)\n",
    "}\n",
    "\n",
    "println(outer1(10))"
   ]
  },
  {
   "cell_type": "markdown",
   "id": "0e435534",
   "metadata": {},
   "source": [
    "## 내부함수 반환 "
   ]
  },
  {
   "cell_type": "code",
   "execution_count": 2,
   "id": "09f2f261",
   "metadata": {},
   "outputs": [
    {
     "name": "stdout",
     "output_type": "stream",
     "text": [
      "20\n",
      "20\n",
      "20\n"
     ]
    }
   ],
   "source": [
    "fun outer2(x:Int) :(Int) -> Int {           //함수를 참조로 반환\n",
    "    fun inner(y:Int) =x +y\n",
    "    return ::inner\n",
    "}\n",
    "\n",
    "val inner1 = outer2(10)\n",
    "println(inner1(10))\n",
    "\n",
    "fun outer3(x:Int) :(Int) -> Int {              // 람다표현식 반환 \n",
    "    \n",
    "    return {y:Int -> x+y}\n",
    "}\n",
    "\n",
    "val inner2 = outer3(10)\n",
    "println(inner2(10))\n",
    "\n",
    "fun outer4(x:Int) :(Int) -> Int {              //익명함수 반환\n",
    "    \n",
    "    return fun(y:Int) = x+y\n",
    "}\n",
    "\n",
    "val inner3 = outer4(10)\n",
    "println(inner2(10))"
   ]
  },
  {
   "cell_type": "code",
   "execution_count": null,
   "id": "355d7aae",
   "metadata": {},
   "outputs": [],
   "source": []
  },
  {
   "cell_type": "markdown",
   "id": "9554bb0e",
   "metadata": {},
   "source": [
    "## 클로저 및 레시컬 스코프"
   ]
  },
  {
   "cell_type": "code",
   "execution_count": null,
   "id": "b909d9aa",
   "metadata": {},
   "outputs": [],
   "source": []
  },
  {
   "cell_type": "code",
   "execution_count": null,
   "id": "b366c19e",
   "metadata": {},
   "outputs": [],
   "source": []
  },
  {
   "cell_type": "code",
   "execution_count": null,
   "id": "1ca8ae7d",
   "metadata": {},
   "outputs": [],
   "source": []
  },
  {
   "cell_type": "code",
   "execution_count": null,
   "id": "619c9684",
   "metadata": {},
   "outputs": [],
   "source": []
  },
  {
   "cell_type": "code",
   "execution_count": null,
   "id": "7dbbc06d",
   "metadata": {},
   "outputs": [],
   "source": []
  },
  {
   "cell_type": "code",
   "execution_count": null,
   "id": "46c9b6f4",
   "metadata": {},
   "outputs": [],
   "source": []
  },
  {
   "cell_type": "code",
   "execution_count": null,
   "id": "78274e14",
   "metadata": {},
   "outputs": [],
   "source": []
  },
  {
   "cell_type": "code",
   "execution_count": null,
   "id": "68895733",
   "metadata": {},
   "outputs": [],
   "source": []
  }
 ],
 "metadata": {
  "kernelspec": {
   "display_name": "Kotlin",
   "language": "kotlin",
   "name": "kotlin"
  },
  "language_info": {
   "codemirror_mode": "text/x-kotlin",
   "file_extension": ".kt",
   "mimetype": "text/x-kotlin",
   "name": "kotlin",
   "nbconvert_exporter": "",
   "pygments_lexer": "kotlin",
   "version": "1.7.0-dev-1825"
  }
 },
 "nbformat": 4,
 "nbformat_minor": 5
}
