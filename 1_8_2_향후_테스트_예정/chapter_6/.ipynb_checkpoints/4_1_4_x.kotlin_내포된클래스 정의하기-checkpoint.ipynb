{
 "cells": [
  {
   "cell_type": "markdown",
   "id": "ec0e7aa4",
   "metadata": {},
   "source": [
    "## 1. 클래스 내부에 클래스 정의 : 중첩 클래스\n",
    "\n",
    "- 중첩 클래스에서는 외부 클래스를 참조하지 않기 때문에"
   ]
  },
  {
   "cell_type": "code",
   "execution_count": 8,
   "id": "1b825bb6",
   "metadata": {},
   "outputs": [],
   "source": [
    "class outerClass {\n",
    "    private var name: String = \"outerClass\"\n",
    "    private var id = 999\n",
    "    fun bar() : String {\n",
    "        return name\n",
    "    }\n",
    "    fun foo() : Int = id\n",
    "\n",
    "    class NestedClass {\n",
    "        var description: String = \"code inside nested class\"\n",
    "        private var id: Int = 101\n",
    "        fun foo() {\n",
    "            //  print(\"name is ${name}\") // cannot access the outer class member  \n",
    "            println(\"Id is ${id} ${outerClass().bar()}\")\n",
    "        }\n",
    "    }\n",
    "}\n"
   ]
  },
  {
   "cell_type": "code",
   "execution_count": 9,
   "id": "3c18919e",
   "metadata": {},
   "outputs": [],
   "source": [
    "\n",
    "fun main( ) {\n",
    "    // nested class must be initialize  \n",
    "    println(outerClass.NestedClass().description) // accessing property  \n",
    "    var obj = outerClass.NestedClass() // object creation  \n",
    "    obj.foo() // access member function  \n",
    "}"
   ]
  },
  {
   "cell_type": "code",
   "execution_count": 10,
   "id": "52f7956f",
   "metadata": {},
   "outputs": [
    {
     "name": "stdout",
     "output_type": "stream",
     "text": [
      "code inside nested class\n",
      "Id is 101 outerClass\n"
     ]
    }
   ],
   "source": [
    "main()"
   ]
  },
  {
   "cell_type": "markdown",
   "id": "5e3cf0f7",
   "metadata": {},
   "source": [
    "## 2.  함수 내부에 클래스 정의"
   ]
  },
  {
   "cell_type": "code",
   "execution_count": 24,
   "id": "d716072f",
   "metadata": {},
   "outputs": [],
   "source": [
    "interface A {\n",
    "    fun foo() : String\n",
    "}"
   ]
  },
  {
   "cell_type": "code",
   "execution_count": 25,
   "id": "3e71e44a",
   "metadata": {},
   "outputs": [],
   "source": [
    "fun func() : A {\n",
    "    class nestedClass : A {\n",
    "        override fun foo() : String {\n",
    "            return \"func call \"\n",
    "        }\n",
    "    }\n",
    "    \n",
    "    return nestedClass()\n",
    "}"
   ]
  },
  {
   "cell_type": "code",
   "execution_count": 26,
   "id": "759f81a9",
   "metadata": {},
   "outputs": [],
   "source": [
    "val f = func()"
   ]
  },
  {
   "cell_type": "code",
   "execution_count": 27,
   "id": "80231d1d",
   "metadata": {},
   "outputs": [
    {
     "data": {
      "text/plain": [
       "func call "
      ]
     },
     "execution_count": 27,
     "metadata": {},
     "output_type": "execute_result"
    }
   ],
   "source": [
    "f.foo()"
   ]
  },
  {
   "cell_type": "markdown",
   "id": "143efeb2-3edc-4952-8355-10a3eb4acc73",
   "metadata": {},
   "source": [
    "## 3. inner class  : 내부 클래스\n",
    "\n",
    "- 내부 클래스에서는 외부 클래스를 항상 참조하고 있기 때문에"
   ]
  },
  {
   "cell_type": "code",
   "execution_count": 1,
   "id": "fd8a806f-0807-4af4-8e97-16405a503f6b",
   "metadata": {},
   "outputs": [],
   "source": [
    "class Outer {\n",
    "    private val bar: Int = 1\n",
    "    inner class Inner {\n",
    "        fun foo() = bar\n",
    "    }\n",
    "}\n"
   ]
  },
  {
   "cell_type": "code",
   "execution_count": 2,
   "id": "c933d8e7-d24a-4019-a02c-5c236780f843",
   "metadata": {},
   "outputs": [],
   "source": [
    "val demo = Outer().Inner().foo()"
   ]
  },
  {
   "cell_type": "code",
   "execution_count": 3,
   "id": "d1346c08-a905-46f3-b579-ecd6ed6e4ec6",
   "metadata": {},
   "outputs": [
    {
     "data": {
      "text/plain": [
       "1"
      ]
     },
     "execution_count": 3,
     "metadata": {},
     "output_type": "execute_result"
    }
   ],
   "source": [
    "demo"
   ]
  },
  {
   "cell_type": "markdown",
   "id": "7971967f-5b45-4813-a11a-2a1f5118c5dd",
   "metadata": {},
   "source": [
    "## 4. inner class companion object 사용하기"
   ]
  },
  {
   "cell_type": "code",
   "execution_count": null,
   "id": "7a465b52-42b8-411d-91cb-1b571b40b1b0",
   "metadata": {},
   "outputs": [],
   "source": []
  },
  {
   "cell_type": "code",
   "execution_count": null,
   "id": "b2c2112e-d3ce-475d-8bac-b1dfad64d012",
   "metadata": {},
   "outputs": [],
   "source": []
  },
  {
   "cell_type": "code",
   "execution_count": null,
   "id": "19a7127e-de2c-45d9-bf3b-1fd1ceaa6636",
   "metadata": {},
   "outputs": [],
   "source": []
  },
  {
   "cell_type": "code",
   "execution_count": null,
   "id": "c77655d9-fe0b-41f4-958a-e093251c6ec3",
   "metadata": {},
   "outputs": [],
   "source": []
  }
 ],
 "metadata": {
  "kernelspec": {
   "display_name": "Kotlin",
   "language": "kotlin",
   "name": "kotlin"
  },
  "language_info": {
   "codemirror_mode": "text/x-kotlin",
   "file_extension": ".kt",
   "mimetype": "text/x-kotlin",
   "name": "kotlin",
   "nbconvert_exporter": "",
   "pygments_lexer": "kotlin",
   "version": "1.6.0-dev-3567"
  }
 },
 "nbformat": 4,
 "nbformat_minor": 5
}
