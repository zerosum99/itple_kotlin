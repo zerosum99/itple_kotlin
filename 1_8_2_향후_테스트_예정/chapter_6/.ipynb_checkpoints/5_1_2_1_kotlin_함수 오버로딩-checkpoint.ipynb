{
 "cells": [
  {
   "cell_type": "markdown",
   "id": "1a8ce728",
   "metadata": {},
   "source": [
    "## 매개변수는 동일하지만 자료형이 다른 경우"
   ]
  },
  {
   "cell_type": "code",
   "execution_count": 1,
   "id": "cd8f241b",
   "metadata": {},
   "outputs": [],
   "source": [
    "fun test1(a: String, b: String? = null) {\n",
    "    println(\"test1\")\n",
    "}\n",
    "\n",
    "fun test1(a: Int, b: String) {\n",
    "    println(\"test2\")\n",
    "}"
   ]
  },
  {
   "cell_type": "code",
   "execution_count": 2,
   "id": "06fd211a",
   "metadata": {},
   "outputs": [
    {
     "name": "stdout",
     "output_type": "stream",
     "text": [
      "test2\n"
     ]
    }
   ],
   "source": [
    "test1(100,\"a\")"
   ]
  },
  {
   "cell_type": "markdown",
   "id": "5035c9aa",
   "metadata": {},
   "source": [
    "## 매개변수 개수가 다른 경우"
   ]
  },
  {
   "cell_type": "code",
   "execution_count": 3,
   "id": "31f0b6e3",
   "metadata": {},
   "outputs": [],
   "source": [
    "fun test2(a: String, b: String? = null) {\n",
    "    println(\"test1\")\n",
    "}\n",
    "\n",
    "fun test2(a: String, b: String, c: String? = null) {\n",
    "    println(\"test2\")\n",
    "}"
   ]
  },
  {
   "cell_type": "code",
   "execution_count": 4,
   "id": "c006fc29",
   "metadata": {},
   "outputs": [
    {
     "name": "stdout",
     "output_type": "stream",
     "text": [
      "test2\n"
     ]
    }
   ],
   "source": [
    "test2(\"a\",\"b\") //result \"test2\""
   ]
  },
  {
   "cell_type": "code",
   "execution_count": null,
   "id": "aa77343e",
   "metadata": {},
   "outputs": [],
   "source": []
  },
  {
   "cell_type": "code",
   "execution_count": 5,
   "id": "4e8f056e",
   "metadata": {},
   "outputs": [],
   "source": [
    "fun test3(a: Any) : String = \"매개변수 하나\"\n",
    "fun test3(a: String, b: String = \"Hello\") :String = \"매개변수 두개\"\n",
    "fun test3(vararg a: String) :String = \"가변 매개변수\""
   ]
  },
  {
   "cell_type": "code",
   "execution_count": 6,
   "id": "c92ba947",
   "metadata": {},
   "outputs": [
    {
     "data": {
      "text/plain": [
       "가변 매개변수"
      ]
     },
     "execution_count": 6,
     "metadata": {},
     "output_type": "execute_result"
    }
   ],
   "source": [
    "test3(\"a\",\"b\",\"c\",\"d\")"
   ]
  },
  {
   "cell_type": "code",
   "execution_count": 7,
   "id": "e7e96c0e",
   "metadata": {},
   "outputs": [
    {
     "data": {
      "text/plain": [
       "매개변수 두개"
      ]
     },
     "execution_count": 7,
     "metadata": {},
     "output_type": "execute_result"
    }
   ],
   "source": [
    "test3(\"a\")"
   ]
  },
  {
   "cell_type": "code",
   "execution_count": 8,
   "id": "f823e9f8",
   "metadata": {},
   "outputs": [
    {
     "data": {
      "text/plain": [
       "매개변수 하나"
      ]
     },
     "execution_count": 8,
     "metadata": {},
     "output_type": "execute_result"
    }
   ],
   "source": [
    "test3(100)"
   ]
  },
  {
   "cell_type": "markdown",
   "id": "800bf1ad",
   "metadata": {},
   "source": [
    "## 메소드와 확장함수 오버로딩"
   ]
  },
  {
   "cell_type": "code",
   "execution_count": 9,
   "id": "ade0312d",
   "metadata": {},
   "outputs": [],
   "source": [
    "class A {\n",
    "    fun test4(a: String, b: String? = null) {\n",
    "        println(\"test1\")\n",
    "    }\n",
    "\n",
    "    fun test4(a: String, b: String, c: String) {\n",
    "        println(\"test2\")\n",
    "    }\n",
    "}"
   ]
  },
  {
   "cell_type": "code",
   "execution_count": 10,
   "id": "5a113244",
   "metadata": {},
   "outputs": [],
   "source": [
    "fun A.test4(a: String, b: String, c: Int) {\n",
    "    println(\"test3\")\n",
    "}\n",
    "\n",
    "fun A.test4(a: String, b: String, c: Int? ) {\n",
    "    println(\"test4\")\n",
    "}\n"
   ]
  },
  {
   "cell_type": "code",
   "execution_count": 11,
   "id": "c0c425bd",
   "metadata": {},
   "outputs": [],
   "source": [
    "val a = A()"
   ]
  },
  {
   "cell_type": "code",
   "execution_count": 12,
   "id": "5e8f4dbe",
   "metadata": {},
   "outputs": [
    {
     "name": "stdout",
     "output_type": "stream",
     "text": [
      "test4\n"
     ]
    }
   ],
   "source": [
    "a.test4(\"a\",\"b\",null)"
   ]
  },
  {
   "cell_type": "code",
   "execution_count": 13,
   "id": "62d70f1a",
   "metadata": {},
   "outputs": [
    {
     "name": "stdout",
     "output_type": "stream",
     "text": [
      "test3\n"
     ]
    }
   ],
   "source": [
    "a.test4(\"a\",\"b\",100)"
   ]
  },
  {
   "cell_type": "code",
   "execution_count": 14,
   "id": "a21a8290",
   "metadata": {},
   "outputs": [
    {
     "name": "stdout",
     "output_type": "stream",
     "text": [
      "test1\n"
     ]
    }
   ],
   "source": [
    "a.test4(\"a\")"
   ]
  },
  {
   "cell_type": "code",
   "execution_count": 15,
   "id": "8ae006f7",
   "metadata": {},
   "outputs": [
    {
     "name": "stdout",
     "output_type": "stream",
     "text": [
      "test1\n"
     ]
    }
   ],
   "source": [
    "a.test4(\"a\",\"b\")"
   ]
  },
  {
   "cell_type": "code",
   "execution_count": 16,
   "id": "41d3dc04",
   "metadata": {},
   "outputs": [
    {
     "name": "stdout",
     "output_type": "stream",
     "text": [
      "test2\n"
     ]
    }
   ],
   "source": [
    "a.test4(\"a\",\"b\",\"c\")"
   ]
  },
  {
   "cell_type": "markdown",
   "id": "f8c8eba9",
   "metadata": {},
   "source": [
    "## 연산자 오버로딩"
   ]
  },
  {
   "cell_type": "code",
   "execution_count": 17,
   "id": "c5587505",
   "metadata": {},
   "outputs": [],
   "source": [
    "operator fun String.times(x:Int) : String {\n",
    "    var result : String = this\n",
    "    for (i in (1..x-1)) {\n",
    "        result = result + this\n",
    "    }\n",
    "    return result\n",
    "}"
   ]
  },
  {
   "cell_type": "code",
   "execution_count": 18,
   "id": "6fbfe2c2",
   "metadata": {},
   "outputs": [
    {
     "data": {
      "text/plain": [
       "aaaaa"
      ]
     },
     "execution_count": 18,
     "metadata": {},
     "output_type": "execute_result"
    }
   ],
   "source": [
    "\"a\" * 5"
   ]
  },
  {
   "cell_type": "markdown",
   "id": "63202d93",
   "metadata": {},
   "source": [
    "## 사용자 정의 연산자 오버로딩"
   ]
  },
  {
   "cell_type": "code",
   "execution_count": 19,
   "id": "1d9c730c",
   "metadata": {},
   "outputs": [],
   "source": [
    "class A(var value:String)  {\n",
    "    operator fun times(x:Int) : A {\n",
    "        var result : String = value\n",
    "        for (i in (1..x-1)) {\n",
    "            result = result + value\n",
    "        }\n",
    "        this.value = result\n",
    "        return this\n",
    "    }\n",
    "} "
   ]
  },
  {
   "cell_type": "code",
   "execution_count": 20,
   "id": "29dcc14f",
   "metadata": {},
   "outputs": [],
   "source": [
    "val aa = A(\"a\")"
   ]
  },
  {
   "cell_type": "code",
   "execution_count": 21,
   "id": "e5a9f1fa",
   "metadata": {},
   "outputs": [
    {
     "data": {
      "text/plain": [
       "aaaaa"
      ]
     },
     "execution_count": 21,
     "metadata": {},
     "output_type": "execute_result"
    }
   ],
   "source": [
    "(aa * 5).value"
   ]
  },
  {
   "cell_type": "markdown",
   "id": "ec6e2e6a",
   "metadata": {},
   "source": [
    "## 문자열을 특정 데이터클래스로 반환"
   ]
  },
  {
   "cell_type": "code",
   "execution_count": 22,
   "id": "9cfb8d71",
   "metadata": {},
   "outputs": [],
   "source": [
    "data class Person(val name: String, val age: String)\n",
    "\n",
    "fun String.split(): Person {\n",
    "    val (name, age) = split(\".\", limit = 2)\n",
    "    return Person(name, age)\n",
    "}"
   ]
  },
  {
   "cell_type": "code",
   "execution_count": 23,
   "id": "1e1c7c0f",
   "metadata": {},
   "outputs": [
    {
     "data": {
      "text/plain": [
       "Person(name=문용준, age=33)"
      ]
     },
     "execution_count": 23,
     "metadata": {},
     "output_type": "execute_result"
    }
   ],
   "source": [
    "\"문용준.33\".split()"
   ]
  },
  {
   "cell_type": "code",
   "execution_count": 24,
   "id": "7897a389",
   "metadata": {},
   "outputs": [
    {
     "data": {
      "text/plain": [
       "[문용준, 33]"
      ]
     },
     "execution_count": 24,
     "metadata": {},
     "output_type": "execute_result"
    }
   ],
   "source": [
    "\"문용준,33\".split(\",\")"
   ]
  },
  {
   "cell_type": "code",
   "execution_count": null,
   "id": "895f8416",
   "metadata": {},
   "outputs": [],
   "source": []
  },
  {
   "cell_type": "code",
   "execution_count": 25,
   "id": "cabd1858",
   "metadata": {},
   "outputs": [],
   "source": [
    "class Employee(val name :String, var salary:Int) {\n",
    "    operator fun plusAssign(increaseSalary: Int) {\n",
    "        salary += increaseSalary\n",
    "        println(\"$name 님은 ${salary}원이 인상되었습니다.\")\n",
    "    }\n",
    "\n",
    "    operator fun minusAssign(decreaseSalary: Int) {\n",
    "        salary -= decreaseSalary\n",
    "        println(\"$name 님은 ${salary}원이 인하되었습니다\")\n",
    "    }\n",
    "}"
   ]
  },
  {
   "cell_type": "code",
   "execution_count": 26,
   "id": "86e6767e",
   "metadata": {},
   "outputs": [],
   "source": [
    "val e = Employee(\"가을이\", 1000)"
   ]
  },
  {
   "cell_type": "code",
   "execution_count": 27,
   "id": "5ce42b45",
   "metadata": {},
   "outputs": [
    {
     "name": "stdout",
     "output_type": "stream",
     "text": [
      "가을이 님은 2000원이 인상되었습니다.\n"
     ]
    }
   ],
   "source": [
    "e += 1000"
   ]
  },
  {
   "cell_type": "code",
   "execution_count": 28,
   "id": "08cc67d3",
   "metadata": {},
   "outputs": [
    {
     "name": "stdout",
     "output_type": "stream",
     "text": [
      "가을이 님은 1000원이 인하되었습니다\n"
     ]
    }
   ],
   "source": [
    "e -= 1000"
   ]
  },
  {
   "cell_type": "code",
   "execution_count": null,
   "id": "08fd863f",
   "metadata": {},
   "outputs": [],
   "source": []
  }
 ],
 "metadata": {
  "kernelspec": {
   "display_name": "Kotlin",
   "language": "kotlin",
   "name": "kotlin"
  },
  "language_info": {
   "codemirror_mode": "text/x-kotlin",
   "file_extension": ".kt",
   "mimetype": "text/x-kotlin",
   "name": "kotlin",
   "nbconvert_exporter": "",
   "pygments_lexer": "kotlin",
   "version": "1.6.0-dev-3567"
  }
 },
 "nbformat": 4,
 "nbformat_minor": 5
}
