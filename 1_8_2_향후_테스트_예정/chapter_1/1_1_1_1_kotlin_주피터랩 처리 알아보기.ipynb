{
 "cells": [
  {
   "cell_type": "code",
   "execution_count": null,
   "id": "8adb6f70-aa2d-40f1-acd6-e2d6fa739aef",
   "metadata": {},
   "outputs": [],
   "source": []
  },
  {
   "cell_type": "markdown",
   "id": "1482cba7",
   "metadata": {},
   "source": [
    "## 개발환경 알아보기"
   ]
  },
  {
   "cell_type": "code",
   "execution_count": null,
   "id": "e9625ad5-869d-4966-978f-e4e86ae22677",
   "metadata": {},
   "outputs": [],
   "source": []
  },
  {
   "cell_type": "code",
   "execution_count": 1,
   "id": "5b2fb746-0699-4b47-9faa-7887c5da6231",
   "metadata": {},
   "outputs": [],
   "source": [
    "val hello = \"Hello\"                                         // 변수 정의 \n",
    "\n",
    "fun main() {                                                // 함수 정의 \n",
    "    println(\" $hello \")                                     // 변수 출력\n",
    "    println(\" kotlin version : ${KotlinVersion.CURRENT } \") // 현재 버전 출력 \n",
    "}"
   ]
  },
  {
   "cell_type": "code",
   "execution_count": null,
   "id": "6571f85d-89bc-42ec-9526-ef0891fe5032",
   "metadata": {},
   "outputs": [],
   "source": []
  },
  {
   "cell_type": "code",
   "execution_count": 2,
   "id": "0c69bba7-7623-462f-84d4-4c5470333079",
   "metadata": {},
   "outputs": [
    {
     "name": "stdout",
     "output_type": "stream",
     "text": [
      " Hello \n",
      " kotlin version : 1.7.20 \n"
     ]
    }
   ],
   "source": [
    "main()                                                      // 함수 호출 "
   ]
  },
  {
   "cell_type": "code",
   "execution_count": null,
   "id": "dcbe85ad-d37f-4375-ad98-f881498e9bee",
   "metadata": {},
   "outputs": [],
   "source": []
  },
  {
   "cell_type": "code",
   "execution_count": 3,
   "id": "3c04df16-cc23-4f65-8190-bfb08b375f10",
   "metadata": {},
   "outputs": [
    {
     "data": {
      "text/plain": [
       "Hello"
      ]
     },
     "execution_count": 3,
     "metadata": {},
     "output_type": "execute_result"
    }
   ],
   "source": [
    "hello                                                       // 변수 참조 "
   ]
  },
  {
   "cell_type": "code",
   "execution_count": null,
   "id": "bb90f2a5-9ba9-44f3-add5-1fc792b22e74",
   "metadata": {},
   "outputs": [],
   "source": []
  },
  {
   "cell_type": "markdown",
   "id": "67f46483",
   "metadata": {},
   "source": [
    "## 문자열인 정수에 대한 클래스 확인하기"
   ]
  },
  {
   "cell_type": "code",
   "execution_count": 4,
   "id": "61728df0-fe61-49a0-934f-982cea6955e0",
   "metadata": {},
   "outputs": [
    {
     "data": {
      "text/plain": [
       "class kotlin.String"
      ]
     },
     "execution_count": 4,
     "metadata": {},
     "output_type": "execute_result"
    }
   ],
   "source": [
    "\"Hello\".javaClass.kotlin                                    // 문자열 클래스 확인"
   ]
  },
  {
   "cell_type": "code",
   "execution_count": 5,
   "id": "4e3e8504-41c7-45ab-a8ef-3607c5255b58",
   "metadata": {},
   "outputs": [
    {
     "data": {
      "text/plain": [
       "class kotlin.Int"
      ]
     },
     "execution_count": 5,
     "metadata": {},
     "output_type": "execute_result"
    }
   ],
   "source": [
    "(100).javaClass.kotlin                                      // 정수 클래스 확인 "
   ]
  },
  {
   "cell_type": "code",
   "execution_count": null,
   "id": "76c7b1d2-04f8-4919-86a8-b09459624a85",
   "metadata": {},
   "outputs": [],
   "source": []
  },
  {
   "cell_type": "markdown",
   "id": "9db6ca33",
   "metadata": {},
   "source": [
    "## 현재변수 상태 알아보기"
   ]
  },
  {
   "cell_type": "code",
   "execution_count": 2,
   "id": "9ba98cc9",
   "metadata": {},
   "outputs": [],
   "source": [
    "val a = 100;"
   ]
  },
  {
   "cell_type": "code",
   "execution_count": 3,
   "id": "cbc86fd0",
   "metadata": {},
   "outputs": [
    {
     "data": {
      "text/html": [
       "<style>\n",
       "table.variables_table, .variables_table th, .variables_table td {\n",
       "  border: 1px solid black;\n",
       "  border-collapse: collapse;\n",
       "  text-align:center;\n",
       "}\n",
       ".variables_table th, .variables_table td {\n",
       "  padding: 5px;\n",
       "}\n",
       "</style>\n",
       "<h2 style=\"text-align:center;\">Variables State</h2>\n",
       "<table class=\"variables_table\" style=\"width:80%;margin-left:auto;margin-right:auto;\" align=\"center\">\n",
       "  <tr>\n",
       "    <th>Variable</th>\n",
       "    <th>Value</th>\n",
       "  </tr>\n",
       "<tr>\n",
       "    <td>a</td>\n",
       "    <td><pre>100</pre></td>\n",
       "</tr>\n",
       "</table>\n"
      ]
     },
     "execution_count": 3,
     "metadata": {},
     "output_type": "execute_result"
    }
   ],
   "source": [
    ":vars"
   ]
  },
  {
   "cell_type": "markdown",
   "id": "32b342bd",
   "metadata": {},
   "source": [
    "## help 기능 알아보기"
   ]
  },
  {
   "cell_type": "code",
   "execution_count": 4,
   "id": "21efdf4f-fa5e-41ca-99c6-cab7bead89cc",
   "metadata": {},
   "outputs": [
    {
     "data": {
      "text/plain": [
       "Commands:\n",
       "    :help - display help\n",
       "    :classpath - show current classpath\n",
       "    :vars - get visible variables values\n",
       "\n",
       "Magics\n",
       "    %use - injects code for supported libraries: artifact resolution, default imports, initialization code, type renderers\n",
       "        Usage: %use klaxon(5.5), lets-plot\n",
       "    %trackClasspath - logs any changes of current classpath. Useful for debugging artifact resolution failures\n",
       "        Usage: %trackClasspath [on|off]\n",
       "    %trackExecution - logs pieces of code that are going to be executed. Useful for debugging of libraries support\n",
       "        Usage: %trackExecution [all|generated|off]\n",
       "    %useLatestDescriptors - use latest versions of library descriptors available. By default, bundled descriptors are used\n",
       "        Usage: %useLatestDescriptors [on|off]\n",
       "    %output - output capturing settings\n",
       "        Usage: %output --max-cell-size=1000 --no-stdout --max-time=100 --max-buffer=400\n",
       "    %logLevel - set logging level\n",
       "        Usage: %logLevel [off|error|warn|info|debug]\n",
       "\n",
       "Supported libraries:\n",
       "    deeplearning4j-cuda (https://github.com/eclipse/deeplearning4j) - Deep learning library for the JVM (CUDA support)\n",
       "    spark (https://github.com/JetBrains/kotlin-spark-api) - Kotlin API for Apache Spark: unified analytics engine for large-scale data processing\n",
       "    fuel (https://github.com/kittinunf/fuel) - HTTP networking library\n",
       "    kalasim (https://www.kalasim.org) - Discrete event simulator\n",
       "    jdsp (https://github.com/psambit9791/jDSP) - Java library for signal processing\n",
       "    kotlin-statistics (https://github.com/thomasnield/kotlin-statistics) - Idiomatic statistical operators for Kotlin\n",
       "    rdkit (https://www.rdkit.org/) - Open-Source Cheminformatics Software\n",
       "    mysql (https://github.com/mysql/mysql-connector-j) - MySql JDBC Connector\n",
       "    kaliningraph (https://github.com/breandan/kaliningraph) - Graph library with a DSL for constructing graphs and visualizing the behavior of graph algorithms\n",
       "    combinatoricskt (https://github.com/shiguruikai/combinatoricskt) - A combinatorics library for Kotlin\n",
       "    coroutines (https://github.com/Kotlin/kotlinx.coroutines) - Asynchronous programming and reactive streams support\n",
       "    ggdsl-dataframe (https://github.com/AndreiKingsley/lib-ggdsl) - Kotlin Dataframe integration for ggdsl\n",
       "    multik (https://github.com/Kotlin/multik) - Multidimensional array library for Kotlin\n",
       "    kotlin-dl (https://github.com/Kotlin/kotlindl) - KotlinDL library which provides Keras-like API for deep learning\n",
       "    ggdsl-lets-plot (https://github.com/AndreiKingsley/lib-ggdsl) - Kotlin plotting DSL for Lets-Plot\n",
       "    klaxon (https://github.com/cbeust/klaxon) - JSON parser for Kotlin\n",
       "    krangl (https://github.com/holgerbrandl/krangl) - Kotlin DSL for data wrangling\n",
       "    ggdsl-echarts (https://github.com/AndreiKingsley/lib-ggdsl) - Kotlin plotting DSL for Apache ECharts\n",
       "    lets-plot (https://github.com/JetBrains/lets-plot-kotlin) - ggplot-like interactive visualization for Kotlin\n",
       "    ggdsl (https://github.com/AndreiKingsley/lib-ggdsl) - Lets-plot and Dataframe ggdsl\n",
       "    biokotlin (https://bitbucket.org/bucklerlab/biokotlin) - BioKotlin aims to be a high-performance bioinformatics library that brings the power and speed of compiled programming languages to scripting and big data environments.\n",
       "    londogard-nlp-toolkit (https://github.com/londogard/londogard-nlp-toolkit) - A Natural Language Processing (NLP) toolkit for Kotlin on the JVM\n",
       "    plotly (https://github.com/mipt-npm/plotly.kt) - [beta] Plotly.kt jupyter integration for static plots.\n",
       "    dataframe (https://github.com/Kotlin/dataframe) - Kotlin framework for structured data processing\n",
       "    lib-ext (https://github.com/Kotlin/kotlin-jupyter) - Extended functionality for Jupyter kernel\n",
       "    deeplearning4j (https://github.com/eclipse/deeplearning4j) - Deep learning library for the JVM\n",
       "    kmath (https://github.com/mipt-npm/kmath) - Experimental Kotlin algebra-based mathematical library\n",
       "    reflection (https://kotlinlang.org/docs/reflection.html) - Imports for Kotlin Reflection\n",
       "    spark-streaming (https://github.com/JetBrains/kotlin-spark-api) - Kotlin API for Apache Spark Streaming: scalable, high-throughput, fault-tolerant stream processing of live data streams\n",
       "    gral (https://github.com/eseifert/gral) - Java library for displaying plots\n",
       "    lets-plot-dataframe (https://github.com/JetBrains/lets-plot-kotlin) - A bridge between Lets-Plot and dataframe libraries\n",
       "    kravis (https://github.com/holgerbrandl/kravis) - Kotlin grammar for data visualization\n",
       "    default - Default imports: dataframe and Lets-Plot libraries\n",
       "    roboquant (https://roboquant.org) - Algorithmic trading platform written in Kotlin\n",
       "    plotly-server (https://github.com/mipt-npm/plotly.kt) - [beta] Plotly.kt jupyter integration for dynamic plots.\n",
       "    kraphviz (https://github.com/nidi3/graphviz-java) - Graphviz wrapper for JVM\n",
       "    serialization (https://github.com/Kotlin/kotlinx.serialization) - Kotlin multi-format reflection-less serialization\n",
       "    smile (https://github.com/haifengl/smile) - Statistical Machine Intelligence and Learning Engine\n",
       "    khttp (https://github.com/jkcclemens/khttp) - HTTP networking library\n",
       "    exposed (https://github.com/JetBrains/Exposed) - Kotlin SQL framework\n",
       "    lets-plot-gt (https://github.com/JetBrains/lets-plot-kotlin) - Lets-Plot visualisation for GeoTools toolkit"
      ]
     },
     "execution_count": 4,
     "metadata": {},
     "output_type": "execute_result"
    }
   ],
   "source": [
    ":help"
   ]
  },
  {
   "cell_type": "code",
   "execution_count": null,
   "id": "4ba4d766",
   "metadata": {},
   "outputs": [],
   "source": []
  }
 ],
 "metadata": {
  "kernelspec": {
   "display_name": "Kotlin",
   "language": "kotlin",
   "name": "kotlin"
  },
  "language_info": {
   "codemirror_mode": "text/x-kotlin",
   "file_extension": ".kt",
   "mimetype": "text/x-kotlin",
   "name": "kotlin",
   "nbconvert_exporter": "",
   "pygments_lexer": "kotlin",
   "version": "1.8.0-RC"
  }
 },
 "nbformat": 4,
 "nbformat_minor": 5
}
