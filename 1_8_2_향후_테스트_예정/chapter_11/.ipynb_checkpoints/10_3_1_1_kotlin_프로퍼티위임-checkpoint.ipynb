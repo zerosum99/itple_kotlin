{
 "cells": [
  {
   "cell_type": "markdown",
   "id": "90ab260c",
   "metadata": {},
   "source": [
    "## 가변 프로퍼티 위임 "
   ]
  },
  {
   "cell_type": "code",
   "execution_count": 1,
   "id": "3ab0a000",
   "metadata": {},
   "outputs": [
    {
     "name": "stdout",
     "output_type": "stream",
     "text": [
      " lateinit =  초기화 처리  \n",
      " notNull  = 초기화 처리  \n",
      " notNull  = 100 \n"
     ]
    }
   ],
   "source": [
    "import kotlin.properties.Delegates\n",
    "\n",
    "lateinit var str : String\n",
    "var str1 : String by Delegates.notNull<String>()\n",
    "var int1 : Int    by Delegates.notNull<Int>()\n",
    "\n",
    "fun main() {\n",
    "    str =\" 초기화 처리 \"\n",
    "    str1 = \"초기화 처리 \"\n",
    "    int1 = 100\n",
    "    \n",
    "    println(\" lateinit = $str \")\n",
    "    println(\" notNull  = $str1 \")\n",
    "    println(\" notNull  = $int1 \")\n",
    "}\n",
    "\n",
    "main()"
   ]
  },
  {
   "cell_type": "markdown",
   "id": "c6ec67b5",
   "metadata": {},
   "source": [
    "## 가변 프로퍼티 위임 : 클래스 내부 "
   ]
  },
  {
   "cell_type": "code",
   "execution_count": 9,
   "id": "305d59f2",
   "metadata": {},
   "outputs": [
    {
     "name": "stdout",
     "output_type": "stream",
     "text": [
      "100\n"
     ]
    }
   ],
   "source": [
    "class Rectangle {\n",
    "    lateinit var area: Area\n",
    "    fun initArea(param: Area): Unit {\n",
    "        this.area = param\n",
    "    }\n",
    "}\n",
    "\n",
    "class Area { \n",
    "    var value: Int by Delegates.notNull<Int>()\n",
    "    constructor(value :Int) {\n",
    "        this.value = value * value\n",
    "    }\n",
    "}\n",
    "\n",
    "fun main() {\n",
    "    val rectangle = Rectangle()\n",
    "    rectangle.initArea(Area(10))\n",
    "    println(rectangle.area.value)\n",
    "}\n",
    "\n",
    "main()"
   ]
  },
  {
   "cell_type": "markdown",
   "id": "bf8a9da6",
   "metadata": {},
   "source": [
    "## 가변 프로퍼티 위임 : 프로퍼티 값 관찰"
   ]
  },
  {
   "cell_type": "code",
   "execution_count": 10,
   "id": "30ad17e3",
   "metadata": {},
   "outputs": [
    {
     "name": "stdout",
     "output_type": "stream",
     "text": [
      "0\n",
      "observed is false\n",
      "Changing max to 10\n",
      "10\n",
      "observed is true\n"
     ]
    }
   ],
   "source": [
    "var observed = false\n",
    "var max: Int by Delegates.observable(0) { property, oldValue, newValue ->\n",
    "    println(\"Changing max to $newValue\")\n",
    "    observed = true\n",
    "}\n",
    "\n",
    "fun main() {\n",
    "    println(max) // 0\n",
    "    println(\"observed is ${observed}\") // false\n",
    "    max = 10\n",
    "    println(max) // 10\n",
    "    println(\"observed is ${observed}\") // true\n",
    "}\n",
    "main()"
   ]
  },
  {
   "cell_type": "markdown",
   "id": "9b031fbd",
   "metadata": {},
   "source": [
    "## 프로퍼티 위임 투표결정"
   ]
  },
  {
   "cell_type": "code",
   "execution_count": 20,
   "id": "d3407c81",
   "metadata": {},
   "outputs": [
    {
     "name": "stdout",
     "output_type": "stream",
     "text": [
      "0\n",
      "old: 0, new: 1\n",
      "0\n",
      "old: 0, new: 2\n",
      "2\n"
     ]
    }
   ],
   "source": [
    "var vetoableField: Int by Delegates.vetoable(0) { \n",
    "    property, old, new -> \n",
    "        println(\"old: $old, new: $new\")         \n",
    "        new % 2 == 0                                // 짝수 값일 경우만 갱신               \n",
    "   }        \n",
    "fun main() { \n",
    "    println(vetoableField) \n",
    "    vetoableField = 1 \n",
    "    println(vetoableField) \n",
    "    vetoableField = 2 \n",
    "    println(vetoableField) \n",
    "}\n",
    "\n",
    "main()"
   ]
  },
  {
   "cell_type": "markdown",
   "id": "445359d9",
   "metadata": {},
   "source": [
    "## 불변 프로퍼티 지연 위임"
   ]
  },
  {
   "cell_type": "code",
   "execution_count": 17,
   "id": "17a83a9c",
   "metadata": {},
   "outputs": [
    {
     "name": "stdout",
     "output_type": "stream",
     "text": [
      "0\n",
      "초기값\n",
      "지연 초기화\n"
     ]
    }
   ],
   "source": [
    "val a :Int by lazy { 0 }\n",
    "\n",
    "class LazyVar {\n",
    "    val lazya : String by lazy {\"초기값\"}\n",
    "    lateinit var lateb : String \n",
    "}\n",
    "\n",
    "fun main() {\n",
    "    println(a)\n",
    "    val lz = LazyVar()\n",
    "    lz.lateb = \"지연 초기화\"\n",
    "    \n",
    "    println(lz.lazya)\n",
    "    println(lz.lateb)\n",
    "}\n",
    "\n",
    "main()"
   ]
  },
  {
   "cell_type": "markdown",
   "id": "7c5ad989",
   "metadata": {},
   "source": [
    "## 지역변수 지연처리"
   ]
  },
  {
   "cell_type": "code",
   "execution_count": 19,
   "id": "edfde252",
   "metadata": {},
   "outputs": [
    {
     "name": "stdout",
     "output_type": "stream",
     "text": [
      "초기값\n",
      "지연 초기화\n"
     ]
    }
   ],
   "source": [
    "fun main() {\n",
    "    val lazya : String by lazy {\"초기값\"}\n",
    "    lateinit var lateb : String \n",
    "\n",
    "    val lz = LazyVar()\n",
    "    lz.lateb = \"지연 초기화\"\n",
    "    \n",
    "    println(lz.lazya)\n",
    "    println(lz.lateb)\n",
    "}\n",
    "main()"
   ]
  },
  {
   "cell_type": "code",
   "execution_count": null,
   "id": "72a6306a",
   "metadata": {},
   "outputs": [],
   "source": []
  },
  {
   "cell_type": "code",
   "execution_count": null,
   "id": "c0962905",
   "metadata": {},
   "outputs": [],
   "source": []
  },
  {
   "cell_type": "code",
   "execution_count": null,
   "id": "611b2407",
   "metadata": {},
   "outputs": [],
   "source": []
  },
  {
   "cell_type": "code",
   "execution_count": null,
   "id": "139beedd",
   "metadata": {},
   "outputs": [],
   "source": []
  },
  {
   "cell_type": "code",
   "execution_count": null,
   "id": "3b49b604-53e4-4ef9-8c30-c790a1dffe3f",
   "metadata": {},
   "outputs": [],
   "source": []
  }
 ],
 "metadata": {
  "kernelspec": {
   "display_name": "Kotlin",
   "language": "kotlin",
   "name": "kotlin"
  },
  "language_info": {
   "codemirror_mode": "text/x-kotlin",
   "file_extension": ".kt",
   "mimetype": "text/x-kotlin",
   "name": "kotlin",
   "nbconvert_exporter": "",
   "pygments_lexer": "kotlin",
   "version": "1.6.0-dev-3567"
  }
 },
 "nbformat": 4,
 "nbformat_minor": 5
}
