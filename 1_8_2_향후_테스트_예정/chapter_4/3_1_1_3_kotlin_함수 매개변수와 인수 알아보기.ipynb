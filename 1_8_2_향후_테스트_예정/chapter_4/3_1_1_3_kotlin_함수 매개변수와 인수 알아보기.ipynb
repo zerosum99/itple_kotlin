{
 "cells": [
  {
   "cell_type": "code",
   "execution_count": null,
   "id": "b0826f32",
   "metadata": {},
   "outputs": [],
   "source": []
  },
  {
   "cell_type": "code",
   "execution_count": 1,
   "id": "3aa50db0",
   "metadata": {},
   "outputs": [
    {
     "data": {
      "text/plain": [
       "1.7.20"
      ]
     },
     "execution_count": 1,
     "metadata": {},
     "output_type": "execute_result"
    }
   ],
   "source": [
    "KotlinVersion.CURRENT             // 코틀린 현재 버전 "
   ]
  },
  {
   "cell_type": "code",
   "execution_count": null,
   "id": "d71bd471",
   "metadata": {},
   "outputs": [],
   "source": []
  },
  {
   "cell_type": "markdown",
   "id": "dbb9b5ff",
   "metadata": {},
   "source": [
    "## 위치 인자 와 이름인자 처리"
   ]
  },
  {
   "cell_type": "code",
   "execution_count": 2,
   "id": "099954bd",
   "metadata": {},
   "outputs": [
    {
     "name": "stdout",
     "output_type": "stream",
     "text": [
      "위치인자 =60\n",
      "위치인자 =80\n",
      "이름인자 =150\n",
      "이름인자 =80\n",
      "인자혼합 =80\n"
     ]
    }
   ],
   "source": [
    "fun addVar(x : Int, y:Int, z:Int) =              // 3개의 매개변수를 지정 \n",
    "                           x + y + z\n",
    "\n",
    "println(\"위치인자 =\" +addVar(10,20,30))             // 매개변수 위치에 따라 인자 매핑\n",
    "println(\"위치인자 =\" +addVar(20,30,30))\n",
    "\n",
    "println(\"이름인자 =\"+addVar(z=100, x=20, y=30))    // 매개변수이름과 인자를 같이 넣어 처리\n",
    "println(\"이름인자 =\"+addVar(y=30,x=20, z=30))\n",
    "\n",
    "println(\"인자혼합 =\" +addVar(30,z=20, y=30))        //위치인자와 이름인자 혼합"
   ]
  },
  {
   "cell_type": "code",
   "execution_count": null,
   "id": "c27463c1",
   "metadata": {},
   "outputs": [],
   "source": []
  },
  {
   "cell_type": "markdown",
   "id": "0e841620",
   "metadata": {},
   "source": [
    "## 함수의 초기값 지정처리"
   ]
  },
  {
   "cell_type": "code",
   "execution_count": 3,
   "id": "3de75bfa",
   "metadata": {},
   "outputs": [
    {
     "name": "stdout",
     "output_type": "stream",
     "text": [
      "위치인자 전부 전달=700\n",
      "이름인자 전부 전달=700\n",
      "인자 전달없음=300\n",
      "인자 하나 전달=700\n"
     ]
    }
   ],
   "source": [
    "fun defaultArg(x:Int = 100, y:Int=200) = x +y\n",
    "\n",
    "println(\"위치인자 전부 전달=\" + defaultArg(300,400))\n",
    "println(\"이름인자 전부 전달=\" + defaultArg(y=300, x=400))\n",
    "\n",
    "println(\"인자 전달없음=\" + defaultArg())\n",
    "println(\"인자 하나 전달=\" + defaultArg(500))"
   ]
  },
  {
   "cell_type": "code",
   "execution_count": null,
   "id": "a6706077",
   "metadata": {},
   "outputs": [],
   "source": []
  },
  {
   "cell_type": "code",
   "execution_count": null,
   "id": "24e53750",
   "metadata": {},
   "outputs": [],
   "source": []
  },
  {
   "cell_type": "markdown",
   "id": "6f4af1ee",
   "metadata": {},
   "source": [
    "## 함수의 가변 매개변수 및 스프레드 연산"
   ]
  },
  {
   "cell_type": "code",
   "execution_count": 4,
   "id": "64842351",
   "metadata": {},
   "outputs": [
    {
     "name": "stdout",
     "output_type": "stream",
     "text": [
      "가변인자 0 =0\n",
      "가변인자 4 =10\n",
      "가변인자 6 =21\n",
      "스프레드 연산 사용 =10\n"
     ]
    }
   ],
   "source": [
    "fun addVarArg(vararg x : Int): Int {\n",
    "    var result = 0 \n",
    "    for (i in x) {\n",
    "        result += i\n",
    "    }\n",
    "    return result\n",
    "}\n",
    "\n",
    "println(\"가변인자 0 =\" +addVarArg())\n",
    "println(\"가변인자 4 =\" +addVarArg(1,2,3,4))\n",
    "println(\"가변인자 6 =\" +addVarArg(1,2,3,4,5,6))\n",
    "\n",
    "val ll = intArrayOf(1,2,3,4)     //스프레드 처리할 때에는 array 등 기본 배열을 사용\n",
    "println(\"스프레드 연산 사용 =\" +addVarArg(*ll))"
   ]
  },
  {
   "cell_type": "code",
   "execution_count": null,
   "id": "e44f4463",
   "metadata": {},
   "outputs": [],
   "source": []
  },
  {
   "cell_type": "markdown",
   "id": "67f539c3",
   "metadata": {},
   "source": [
    "## 함수 인자 전달할 때 주의 "
   ]
  },
  {
   "cell_type": "code",
   "execution_count": 5,
   "id": "9a7f0913",
   "metadata": {},
   "outputs": [
    {
     "name": "stdout",
     "output_type": "stream",
     "text": [
      "false\n",
      "true\n"
     ]
    }
   ],
   "source": [
    "val ll = listOf(1,2,3,4)                    // 변경불가능한 리스트 생성 \n",
    "\n",
    "fun addList(ll : List<Int>) :List<Int> {    // 함수의 매개변수와 반환자료형의 리스트\n",
    "    val result  = ll + listOf(6,7)          // 리스트 원소 추가 \n",
    "    return result                           // 새로운 리스트 반환\n",
    "}\n",
    "\n",
    "val ll2 = addList(ll)                       // 함수를 실행 \n",
    "println(ll2 == ll)                          // 리스트 비교 \n",
    "\n",
    "val ml = mutableListOf(1,2,3,4)             // 변경가능한 리스트 생성\n",
    "\n",
    "fun addList1(ml : MutableList<Int>)         // 변경가능한 리스트 생성 \n",
    "                     : MutableList<Int> {\n",
    "    ml.add(5)                               // 내부 원소 추가 \n",
    "    return ml\n",
    "}\n",
    "\n",
    "val ml2 = addList1(ml)                      // 함수 실행 \n",
    "println(ml == ml2)                          // 외부 리스트 변경 "
   ]
  },
  {
   "cell_type": "code",
   "execution_count": null,
   "id": "d3a5f303",
   "metadata": {},
   "outputs": [],
   "source": []
  },
  {
   "cell_type": "code",
   "execution_count": null,
   "id": "4f11596c",
   "metadata": {},
   "outputs": [],
   "source": []
  }
 ],
 "metadata": {
  "kernelspec": {
   "display_name": "Kotlin",
   "language": "kotlin",
   "name": "kotlin"
  },
  "language_info": {
   "codemirror_mode": "text/x-kotlin",
   "file_extension": ".kt",
   "mimetype": "text/x-kotlin",
   "name": "kotlin",
   "nbconvert_exporter": "",
   "pygments_lexer": "kotlin",
   "version": "1.7.20-dev-1299"
  }
 },
 "nbformat": 4,
 "nbformat_minor": 5
}
