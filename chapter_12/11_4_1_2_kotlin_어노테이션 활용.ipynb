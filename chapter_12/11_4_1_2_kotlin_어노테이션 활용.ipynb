{
 "cells": [
  {
   "cell_type": "code",
   "execution_count": 1,
   "id": "19b1a899",
   "metadata": {},
   "outputs": [
    {
     "data": {
      "text/plain": [
       "1.7.0"
      ]
     },
     "execution_count": 1,
     "metadata": {},
     "output_type": "execute_result"
    }
   ],
   "source": [
    "KotlinVersion.CURRENT"
   ]
  },
  {
   "cell_type": "markdown",
   "id": "5384a0af",
   "metadata": {},
   "source": [
    "# 1. Built In Annotation"
   ]
  },
  {
   "cell_type": "markdown",
   "id": "b24e601b",
   "metadata": {},
   "source": [
    "## 사용 경고 \n",
    "\n",
    "\n",
    "특정 함수, 클래스, 필드, 생성자 등에 달아 더이상 사용하지 말라는 경고를 주기 위한 용도입니다"
   ]
  },
  {
   "cell_type": "code",
   "execution_count": 2,
   "id": "0e91dcdf",
   "metadata": {},
   "outputs": [],
   "source": [
    "@Deprecated(\"Use removeAt(index) instead.\")      // 경고처리 \n",
    "class ABC {                                      // 클래스 정의 \n",
    "    var field1 = \"\"\n",
    "    var field2 = 0\n",
    "    fun function1() {}\n",
    "    fun function2() {}\n",
    "}\n",
    "\n",
    "val a = ABC()"
   ]
  },
  {
   "cell_type": "code",
   "execution_count": 3,
   "id": "c515ab34",
   "metadata": {},
   "outputs": [
    {
     "data": {
      "text/plain": [
       "Line_1$ABC@71cf1b07"
      ]
     },
     "execution_count": 3,
     "metadata": {},
     "output_type": "execute_result"
    }
   ],
   "source": [
    "ABC()"
   ]
  },
  {
   "cell_type": "code",
   "execution_count": null,
   "id": "a90a5df4",
   "metadata": {},
   "outputs": [],
   "source": []
  },
  {
   "cell_type": "code",
   "execution_count": 4,
   "id": "9ab66e37",
   "metadata": {},
   "outputs": [
    {
     "name": "stdout",
     "output_type": "stream",
     "text": [
      "113\n"
     ]
    }
   ],
   "source": [
    "@Deprecated(\"It is deprecated\")                  // 경고표시\n",
    "fun sum11(a: Int, b: Int): Int {                 // 함수 정의 \n",
    "    return a + b\n",
    "}\n",
    "\n",
    "fun test() {\n",
    "    println(sum11(111, 2))                        // 코딩할 때 사용에 대한 경고 표시한다.\n",
    "}\n",
    "\n",
    "test()"
   ]
  },
  {
   "cell_type": "code",
   "execution_count": 5,
   "id": "3a10e496",
   "metadata": {},
   "outputs": [
    {
     "data": {
      "text/plain": [
       "555"
      ]
     },
     "execution_count": 5,
     "metadata": {},
     "output_type": "execute_result"
    }
   ],
   "source": [
    "sum11(222,333)"
   ]
  },
  {
   "cell_type": "code",
   "execution_count": null,
   "id": "ccba4c1a",
   "metadata": {},
   "outputs": [],
   "source": []
  },
  {
   "cell_type": "code",
   "execution_count": null,
   "id": "6b218025",
   "metadata": {},
   "outputs": [],
   "source": []
  },
  {
   "cell_type": "code",
   "execution_count": null,
   "id": "b293d6ad",
   "metadata": {},
   "outputs": [],
   "source": []
  },
  {
   "cell_type": "markdown",
   "id": "3228888c",
   "metadata": {},
   "source": [
    "# 2. meta annotation"
   ]
  },
  {
   "cell_type": "markdown",
   "id": "13265095",
   "metadata": {},
   "source": [
    "## 추가 속성 달기\n",
    " - @Target : 어노테이션을 달 수 있는 구성 요소 선정\n",
    " \n",
    "  타겟에 선언되지 않고 해당 타켓에 사용하면 정상적으로 동작하지 않을 수 있습니다.\n",
    "   AnnotationTarget enum 클래스 활용\n",
    " - @Retention : 어노테이션이 남아있는 단계를 선정합니다.\n",
    " \n",
    "    소스(SOURCE), 컴파일 타임(BINARY), 런타임(RUNIME) 중 선택 가능\n",
    "     런타임으로 선언하면 런타임중에 어노테이션 정보가 남아있습니다. 그렇지 않으면 어노테이션 정보는 지워집니다.\n",
    "      AnnotationRetention enum 클래스 활용"
   ]
  },
  {
   "cell_type": "markdown",
   "id": "a6069e77",
   "metadata": {},
   "source": [
    "### 자바 처리 "
   ]
  },
  {
   "cell_type": "code",
   "execution_count": 23,
   "id": "f03ef3a8",
   "metadata": {},
   "outputs": [],
   "source": [
    "// 자바처리 \n",
    "\n",
    "import java.lang.annotation.*\n",
    "\n",
    "@Target(ElementType.FIELD, ElementType.TYPE)\n",
    "annotation class MyAnnotation                // 적용대상이 FIELD, TYPE(Class or Interface)\n",
    "\n",
    "@MyAnnotation                                // 적용대상이 TYPE인 경우\n",
    "class MyClass{\n",
    "   @MyAnnotation                             // 적용대상이 FIELD인 경우\n",
    "   val i = 100\n",
    "\n",
    "}\n",
    "\n",
    "// 코틀린 처리\n",
    "@kotlin.annotation.Target(AnnotationTarget.PROPERTY, AnnotationTarget.CLASS)\n",
    "annotation class MyAnnotation                // 적용대상이 클래스와 속성 \n",
    "\n",
    "@MyAnnotation                                // 적용대상이 TYPE인 경우\n",
    "class MyClass{\n",
    "   @MyAnnotation                             // 적용대상이 FIELD인 경우\n",
    "   val i = 100\n",
    "\n",
    "}"
   ]
  },
  {
   "cell_type": "code",
   "execution_count": null,
   "id": "b1ecbe3f",
   "metadata": {},
   "outputs": [],
   "source": []
  },
  {
   "cell_type": "markdown",
   "id": "3ace7d48",
   "metadata": {},
   "source": [
    "## 리텐션도 추가\n",
    "\n",
    "어노테이션이 유지(retention)되는 기간을 지정하는데 사용한다. (유지 정책 결정)\n",
    "\n",
    "SOURCE\t소스 파일에만 존재. 클래스파일에는 존재하지 않음\n",
    "CLASS\t클래스 파일에 존재. 실행시에 사용불가. 기본값\n",
    "RUNTIME\t클래스 파일에 존재, 실행시에 사용가능"
   ]
  },
  {
   "cell_type": "code",
   "execution_count": 9,
   "id": "1d5cf8ba",
   "metadata": {},
   "outputs": [],
   "source": [
    "@kotlin.annotation.Target(AnnotationTarget.CLASS)             // 대상은 클래스\n",
    "@kotlin.annotation.Retention(AnnotationRetention.RUNTIME)     // 런타임까지 유지   \n",
    "annotation class ClassTesting\n",
    "\n",
    "@ClassTesting                                                 // 적용대상이 인터페이스 경우 \n",
    "interface MyInterface {}\n",
    "\n",
    "@ClassTesting                                                 // 적용대상이 클래스인 경우\n",
    "class MyClass1{\n",
    "   val i = 100\n",
    "    \n",
    "                                            \n",
    "   @ClassTesting                                               // 적용대상이 동반객체인 경우\n",
    "   companion object {}\n",
    "\n",
    "}\n",
    "\n",
    "@ClassTesting                                                   // 적용대상이 object 선언 경우\n",
    "object ObjectD {}\n"
   ]
  },
  {
   "cell_type": "code",
   "execution_count": null,
   "id": "6a251d17",
   "metadata": {},
   "outputs": [],
   "source": []
  },
  {
   "cell_type": "code",
   "execution_count": 10,
   "id": "69b40596",
   "metadata": {},
   "outputs": [],
   "source": [
    "@kotlin.annotation.Target(AnnotationTarget.FUNCTION,         // 대상은 함수   \n",
    "                          AnnotationTarget.PROPERTY_GETTER,  // 속성의 게터\n",
    "                          AnnotationTarget.PROPERTY_SETTER)  // 속성의 세터\n",
    "@kotlin.annotation.Retention(AnnotationRetention.SOURCE)     // 소스에서만 유지  \n",
    "annotation class MethodTest\n",
    "                                    \n",
    "class MyClass2{\n",
    "   val i = 100\n",
    "    \n",
    "   @MethodTest                                               // 적용대상이 함수인 경우\n",
    "   fun method() = \"Method\"\n",
    "\n",
    "}\n",
    "\n",
    "@MethodTest                                                  // 적용대상이 함수인 경우\n",
    "fun func() {}\n",
    "\n",
    "var proc : String  = \"\"\n",
    "    @MethodTest \n",
    "    get() =  field\n",
    "    @MethodTest \n",
    "    set(value) {\n",
    "        field = value\n",
    "    }"
   ]
  },
  {
   "cell_type": "code",
   "execution_count": null,
   "id": "25c2ac08",
   "metadata": {},
   "outputs": [],
   "source": []
  },
  {
   "cell_type": "code",
   "execution_count": 11,
   "id": "c8abe5db",
   "metadata": {},
   "outputs": [],
   "source": [
    "@kotlin.annotation.Target(AnnotationTarget.PROPERTY)          // 대상은 속성\n",
    "@kotlin.annotation.Retention(AnnotationRetention.SOURCE)      // 소스에서만 유지    \n",
    "annotation class PropertyTest\n",
    "                                    \n",
    "class MyClass3{\n",
    "   @PropertyTest                                              // 적용대상이 속성인 경우\n",
    "   val i = 100\n",
    "    \n",
    "   fun method() = \"Method\"\n",
    "\n",
    "}\n",
    "\n",
    "@PropertyTest                                                 // 적용대상이 속성인 경우\n",
    "val proc = 100"
   ]
  },
  {
   "cell_type": "code",
   "execution_count": null,
   "id": "51d271bf",
   "metadata": {},
   "outputs": [],
   "source": []
  },
  {
   "cell_type": "markdown",
   "id": "5f051603",
   "metadata": {},
   "source": [
    "# 3. java Built In Annotation"
   ]
  },
  {
   "cell_type": "markdown",
   "id": "0594b959",
   "metadata": {},
   "source": [
    "## 파일 주석처리"
   ]
  },
  {
   "cell_type": "markdown",
   "id": "97c0dcd9",
   "metadata": {},
   "source": [
    "### 패키지 처리"
   ]
  },
  {
   "cell_type": "code",
   "execution_count": 12,
   "id": "e6ebc80d",
   "metadata": {},
   "outputs": [],
   "source": [
    "@file:JvmName(\"dahl.moon\")                     // 패키지를 파일로 지정 \n",
    "package dahl.moon\n",
    "\n",
    "fun foo() = \"패지지 정의\"\n"
   ]
  },
  {
   "cell_type": "code",
   "execution_count": 13,
   "id": "de07fc53",
   "metadata": {},
   "outputs": [
    {
     "name": "stdout",
     "output_type": "stream",
     "text": [
      "패지지 정의\n"
     ]
    }
   ],
   "source": [
    "import dahl.moon.*                             // 패키지 사용 \n",
    "\n",
    "println(foo())"
   ]
  },
  {
   "cell_type": "code",
   "execution_count": null,
   "id": "fedbe86a",
   "metadata": {},
   "outputs": [],
   "source": []
  },
  {
   "cell_type": "code",
   "execution_count": 14,
   "id": "59617b7c",
   "metadata": {},
   "outputs": [],
   "source": [
    "@file:JvmName(\"foo.bar\")                      // 패키지를 파일로 지정 \n",
    "package foo.bar  \n",
    "  \n",
    "open class Parent{                            // 수퍼클래스 정의 \n",
    "    open fun parentMethod() =\"parent\"  \n",
    "}  \n",
    "  \n",
    "class Child :Parent() {                       // 서브클래스 정의 \n",
    "     \n",
    " @Deprecated(\"중지\") \n",
    " override fun parentMethod() = \"Child\"\n",
    "}  "
   ]
  },
  {
   "cell_type": "code",
   "execution_count": 15,
   "id": "513681de",
   "metadata": {},
   "outputs": [
    {
     "data": {
      "text/plain": [
       "Child"
      ]
     },
     "execution_count": 15,
     "metadata": {},
     "output_type": "execute_result"
    }
   ],
   "source": [
    "import foo.bar.*                              // 패키지 사용 \n",
    "\n",
    "val c = Child()\n",
    "c.parentMethod()                              // 사용할때 경고표시"
   ]
  },
  {
   "cell_type": "code",
   "execution_count": null,
   "id": "1063d417",
   "metadata": {},
   "outputs": [],
   "source": []
  },
  {
   "cell_type": "markdown",
   "id": "aeab5d24",
   "metadata": {},
   "source": [
    "## @JvmName : \n",
    "\n",
    "- JAVA에서 호출되는 Kotlin의 함수, 변수, 파일명을 Renamed(변경)"
   ]
  },
  {
   "cell_type": "code",
   "execution_count": null,
   "id": "e1f8e8c5",
   "metadata": {},
   "outputs": [],
   "source": []
  },
  {
   "cell_type": "markdown",
   "id": "05274aaa",
   "metadata": {},
   "source": [
    "### 동일한 함수 이름 충돌"
   ]
  },
  {
   "cell_type": "code",
   "execution_count": 16,
   "id": "94275562",
   "metadata": {},
   "outputs": [
    {
     "name": "stdout",
     "output_type": "stream",
     "text": [
      "foo(a : List<String>\n",
      "foo(a : List<Int>\n"
     ]
    }
   ],
   "source": [
    "//fun foo(a : List<String>) {                   // compile error 발생\n",
    "//    println(\"foo(a : List<String>\")\n",
    "//}\n",
    "\n",
    "//fun foo(a : List<Int>) {                      // compile error 발생\n",
    "//    println(\"foo(a : List<Int>\")\n",
    "//}\n",
    "\n",
    "\n",
    "@file:JvmName(\"foo\")                            // 파일이름 \n",
    "@JvmName(\"foo1String\")                          // 적용될 함수이름\n",
    "fun foo1(a : List<String>) {                    // 함수는 동일한 이름 \n",
    "    println(\"foo(a : List<String>\")\n",
    "}\n",
    "\n",
    "@JvmName(\"foo1Int\")                             // 적용될 함수이름\n",
    "fun foo1(a : List<Int>) {                       // 함수는 동일한 이름 \n",
    "    println(\"foo(a : List<Int>\")\n",
    "}\n",
    "\n",
    "foo1(listOf(\"a\"))\n",
    "foo1(listOf(1,2,3))"
   ]
  },
  {
   "cell_type": "code",
   "execution_count": null,
   "id": "6672b855",
   "metadata": {},
   "outputs": [],
   "source": []
  },
  {
   "cell_type": "markdown",
   "id": "b41570dd",
   "metadata": {},
   "source": [
    "## @JvmStatic : \n",
    "\n",
    "- static 변수의 Getter/Setter 함수를 자동으로 생성하라는 애노테이션, 즉 static Getter/Setter"
   ]
  },
  {
   "cell_type": "code",
   "execution_count": 17,
   "id": "8b554a52",
   "metadata": {},
   "outputs": [],
   "source": [
    "class Bar {                                       // 클래스 정의 \n",
    "    companion object {                            // 동반 객체\n",
    "        @JvmStatic \n",
    "        var barName : String = \"bar\"              // 정적 지정\n",
    "    }\n",
    "}"
   ]
  },
  {
   "cell_type": "code",
   "execution_count": 18,
   "id": "61be4282",
   "metadata": {},
   "outputs": [
    {
     "data": {
      "text/plain": [
       "bar"
      ]
     },
     "execution_count": 18,
     "metadata": {},
     "output_type": "execute_result"
    }
   ],
   "source": [
    "Bar.barName"
   ]
  },
  {
   "cell_type": "code",
   "execution_count": null,
   "id": "7d182684",
   "metadata": {},
   "outputs": [],
   "source": []
  },
  {
   "cell_type": "code",
   "execution_count": null,
   "id": "dd8bee03",
   "metadata": {},
   "outputs": [],
   "source": []
  }
 ],
 "metadata": {
  "kernelspec": {
   "display_name": "Kotlin",
   "language": "kotlin",
   "name": "kotlin"
  },
  "language_info": {
   "codemirror_mode": "text/x-kotlin",
   "file_extension": ".kt",
   "mimetype": "text/x-kotlin",
   "name": "kotlin",
   "nbconvert_exporter": "",
   "pygments_lexer": "kotlin",
   "version": "1.7.0-dev-1825"
  }
 },
 "nbformat": 4,
 "nbformat_minor": 5
}
