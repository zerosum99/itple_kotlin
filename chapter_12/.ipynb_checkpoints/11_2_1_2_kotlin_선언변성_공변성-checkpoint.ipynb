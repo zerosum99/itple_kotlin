{
 "cells": [
  {
   "cell_type": "code",
   "execution_count": 1,
   "id": "0a1b060a",
   "metadata": {},
   "outputs": [
    {
     "data": {
      "text/plain": [
       "1.7.0"
      ]
     },
     "execution_count": 1,
     "metadata": {},
     "output_type": "execute_result"
    }
   ],
   "source": [
    "KotlinVersion.CURRENT"
   ]
  },
  {
   "cell_type": "markdown",
   "id": "dd2fbf1b",
   "metadata": {},
   "source": [
    "## 불변성 "
   ]
  },
  {
   "cell_type": "code",
   "execution_count": 2,
   "id": "c9aa28b3",
   "metadata": {},
   "outputs": [
    {
     "name": "stdout",
     "output_type": "stream",
     "text": [
      "1394456808\n",
      "1273155659\n"
     ]
    }
   ],
   "source": [
    "class MyClass<T>                   //항상 동일한 타입\n",
    "    \n",
    "\n",
    "var x: MyClass<Int> = MyClass<Int>()        \n",
    "val y: MyClass<String> = MyClass<String>() \n",
    "\n",
    "println(x.hashCode())\n",
    "println(y.hashCode())\n"
   ]
  },
  {
   "cell_type": "markdown",
   "id": "753c9890",
   "metadata": {},
   "source": [
    "## 공변성\n",
    "\n",
    "- 타입 상속관계 대로 처리"
   ]
  },
  {
   "cell_type": "code",
   "execution_count": 3,
   "id": "cb1d406e",
   "metadata": {},
   "outputs": [
    {
     "name": "stdout",
     "output_type": "stream",
     "text": [
      "1180610415\n",
      "702571207\n",
      "string\n",
      "string\n"
     ]
    }
   ],
   "source": [
    "class MyClass1<out T>\n",
    "\n",
    "var x: MyClass1<Any> = MyClass1<Int>()      // 상속관계대로만 처리가능\n",
    "val y: MyClass1<Any> = MyClass1<String>() \n",
    "println(x.hashCode())\n",
    "println(y.hashCode())\n",
    "\n",
    "class OutClass<out T>(val value: T) {\n",
    "    fun getVal(): T {                     //out지정은 메소드의 반환타입\n",
    "        return value\n",
    "    }\n",
    "}\n",
    "val outcls = OutClass(\"string\")\n",
    "val ref: OutClass<Any> = outcls\n",
    "\n",
    "println(outcls.getVal())\n",
    "println(ref.getVal())"
   ]
  },
  {
   "cell_type": "code",
   "execution_count": null,
   "id": "331a1eb1",
   "metadata": {},
   "outputs": [],
   "source": []
  },
  {
   "cell_type": "markdown",
   "id": "f1b5ea7a",
   "metadata": {},
   "source": [
    "## 반공병성\n",
    "\n",
    "- 상속관계의 반대로 처리"
   ]
  },
  {
   "cell_type": "code",
   "execution_count": 4,
   "id": "345d0aaf",
   "metadata": {},
   "outputs": [
    {
     "name": "stdout",
     "output_type": "stream",
     "text": [
      "Line_3$Container@22615234100\n",
      "100\n"
     ]
    }
   ],
   "source": [
    "open class Animal\n",
    "class Dog : Animal()\n",
    "class Container<in T>\n",
    "    \n",
    "    \n",
    "var a: Container<Dog> = Container<Animal>()   \n",
    "print(a)\n",
    "\n",
    "//var b: Container<Animal> = Container<Dog>()  //gives compilation error\n",
    "//print(b)\n",
    "\n",
    "class InClass<in T> {\n",
    "    fun put(value: T): String {                //메소드 매개변수에 정의 \n",
    "        return value.toString()\n",
    "    }\n",
    "}\n",
    "\n",
    "val inobj: InClass<Number> = InClass()  \n",
    "val ref: InClass<Int> = inobj                    // 상속의 반대로 할당가능\n",
    "\n",
    "println(inobj.put(100))\n",
    "println(ref.put(100))"
   ]
  },
  {
   "cell_type": "code",
   "execution_count": null,
   "id": "68604215",
   "metadata": {},
   "outputs": [],
   "source": []
  }
 ],
 "metadata": {
  "kernelspec": {
   "display_name": "Kotlin",
   "language": "kotlin",
   "name": "kotlin"
  },
  "language_info": {
   "codemirror_mode": "text/x-kotlin",
   "file_extension": ".kt",
   "mimetype": "text/x-kotlin",
   "name": "kotlin",
   "nbconvert_exporter": "",
   "pygments_lexer": "kotlin",
   "version": "1.7.0-dev-1825"
  }
 },
 "nbformat": 4,
 "nbformat_minor": 5
}
