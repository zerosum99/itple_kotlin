{
 "cells": [
  {
   "cell_type": "code",
   "execution_count": 1,
   "id": "0a1b060a",
   "metadata": {},
   "outputs": [
    {
     "data": {
      "text/plain": [
       "1.7.0"
      ]
     },
     "execution_count": 1,
     "metadata": {},
     "output_type": "execute_result"
    }
   ],
   "source": [
    "KotlinVersion.CURRENT"
   ]
  },
  {
   "cell_type": "code",
   "execution_count": null,
   "id": "331a1eb1",
   "metadata": {},
   "outputs": [],
   "source": []
  },
  {
   "cell_type": "markdown",
   "id": "f1b5ea7a",
   "metadata": {},
   "source": [
    "## 반공병성\n",
    "\n",
    "- 상속관계의 반대로 처리"
   ]
  },
  {
   "cell_type": "markdown",
   "id": "dd49c0a5",
   "metadata": {},
   "source": [
    "## 변수 할당 처리 확인 "
   ]
  },
  {
   "cell_type": "code",
   "execution_count": 2,
   "id": "4e995807",
   "metadata": {},
   "outputs": [
    {
     "name": "stdout",
     "output_type": "stream",
     "text": [
      "[Line_1.Animal]\n",
      "class Line_1$Container"
     ]
    }
   ],
   "source": [
    "open class Animal                                      // 수퍼클래스 정의 \n",
    "class Dog : Animal()                                   // 서브클래스가 수퍼클래스 상속\n",
    "\n",
    "class Container<in T>                                  // 반공변성을 가지는 클래스 정의 \n",
    "    \n",
    "var a: Container<Dog> = Container<Animal>()            // 하위타입에 상위타입 할당   \n",
    "\n",
    "println(Dog::class.supertypes)                         // 하위타입일 경우 수퍼타입을 확인할 수 있다. \n",
    "print(a.javaClass.kotlin)\n",
    "\n",
    "//var b: Container<Animal> = Container<Dog>()          // 공변성으로 처리하면 예외발생 \n"
   ]
  },
  {
   "cell_type": "code",
   "execution_count": null,
   "id": "1dcba3d4",
   "metadata": {},
   "outputs": [],
   "source": []
  },
  {
   "cell_type": "markdown",
   "id": "bed38db3",
   "metadata": {},
   "source": [
    "## 제너릭 클래스 정의"
   ]
  },
  {
   "cell_type": "code",
   "execution_count": 3,
   "id": "345d0aaf",
   "metadata": {},
   "outputs": [
    {
     "name": "stdout",
     "output_type": "stream",
     "text": [
      "class Line_2$InClass\n",
      "100\n",
      "100\n"
     ]
    }
   ],
   "source": [
    "class InClass<in T> {                            // 반공변성으로 타입매개변수 지정 \n",
    "    fun put(value: T): String {                  // 메소드 매개변수에 정의 \n",
    "        return value.toString()\n",
    "    }\n",
    "}\n",
    "\n",
    "val inobj: InClass<Number> = InClass()           // 넘버 자료형 지정 \n",
    "println(inobj.javaClass.kotlin)\n",
    "\n",
    "val ref: InClass<Int> = inobj                    // 정수 자료형에 지정 \n",
    "\n",
    "println(inobj.put(100))\n",
    "println(ref.put(100))"
   ]
  },
  {
   "cell_type": "code",
   "execution_count": null,
   "id": "68604215",
   "metadata": {},
   "outputs": [],
   "source": []
  },
  {
   "cell_type": "code",
   "execution_count": null,
   "id": "77eb3a38",
   "metadata": {},
   "outputs": [],
   "source": []
  },
  {
   "cell_type": "markdown",
   "id": "1df00c4b",
   "metadata": {},
   "source": [
    "## 인터페이스 처리도 확인 "
   ]
  },
  {
   "cell_type": "code",
   "execution_count": 4,
   "id": "a1f6f3ae",
   "metadata": {},
   "outputs": [
    {
     "name": "stdout",
     "output_type": "stream",
     "text": [
      "테슬라\n",
      "해스켈\n"
     ]
    }
   ],
   "source": [
    "interface Consumer<in T> {                                 // 인터페이스에 반공변성 정의 \n",
    "    fun consume(t: T)\n",
    "}\n",
    "\n",
    "class WriteOnlyBox<in T>(private var item: T) :            // 속성을 비공개 처리\n",
    "                                            Consumer<T> {  // 인터페이스 상속 : 타입인자 전달  \n",
    "    \n",
    "    \n",
    "    //var extItem : T = item                                // 무변성이라 예외발생\n",
    "    //fun getiten() : T = item                              // 공변성이라 예외발생\n",
    "    override fun consume(t:T) {                             // 추상메소드 구현 \n",
    "        item = t                                            // 반공변성으로 입력 매개변수에 정의 \n",
    "        println(item)\n",
    "    }\n",
    "    fun setItem(newItem: T) {                               // 일반 메소드 구현 \n",
    "        item = newItem                                      // 입력 매개변수에 정의 \n",
    "        println(newItem)\n",
    "    }\n",
    "}\n",
    "\n",
    "val w = WriteOnlyBox(\"애플\")                                 // 객체 생성 \n",
    "\n",
    "w.consume(\"테슬라\")                                           // 메소드 처리\n",
    "w.setItem(\"해스켈\")"
   ]
  },
  {
   "cell_type": "code",
   "execution_count": null,
   "id": "86338b9d",
   "metadata": {},
   "outputs": [],
   "source": []
  },
  {
   "cell_type": "code",
   "execution_count": null,
   "id": "e0003e94",
   "metadata": {},
   "outputs": [],
   "source": []
  },
  {
   "cell_type": "code",
   "execution_count": null,
   "id": "d714a522",
   "metadata": {},
   "outputs": [],
   "source": []
  }
 ],
 "metadata": {
  "kernelspec": {
   "display_name": "Kotlin",
   "language": "kotlin",
   "name": "kotlin"
  },
  "language_info": {
   "codemirror_mode": "text/x-kotlin",
   "file_extension": ".kt",
   "mimetype": "text/x-kotlin",
   "name": "kotlin",
   "nbconvert_exporter": "",
   "pygments_lexer": "kotlin",
   "version": "1.7.0-dev-1825"
  }
 },
 "nbformat": 4,
 "nbformat_minor": 5
}
