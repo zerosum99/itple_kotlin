{
 "cells": [
  {
   "cell_type": "markdown",
   "id": "6436594f",
   "metadata": {},
   "source": [
    "## 함수 자료형 지정하기"
   ]
  },
  {
   "cell_type": "markdown",
   "id": "0a86bcca",
   "metadata": {},
   "source": [
    "### 리플렉션으로 함수자료형 정의"
   ]
  },
  {
   "cell_type": "code",
   "execution_count": 4,
   "id": "ab2f7de3",
   "metadata": {},
   "outputs": [
    {
     "name": "stdout",
     "output_type": "stream",
     "text": [
      "true\n",
      "true\n",
      "true\n",
      "실행\n",
      "20\n",
      "100\n"
     ]
    }
   ],
   "source": [
    "import kotlin.reflect.KFunction                // 리플렉션 함수 인터페이스 \n",
    "import kotlin.reflect.KFunction1 \n",
    "import kotlin.reflect.KFunction2\n",
    "\n",
    "fun x1() =  println(\"실행\")                     // 함수 매개변수와 반환값이 없는 경우 \n",
    "val x1ref: KFunction<Unit> = ::x1              // 리플렉션 함수 자료형 선언\n",
    "\n",
    "fun x2(x: Int) = x * 2                         // 함수 매개변수 1개와 반환값 처리 \n",
    "val x2ref: KFunction1<Int, Int> = ::x2         // 리플렉션 함수 자료형 선언 \n",
    "\n",
    "fun x3(x: Int, y:Int) = x * y                  // 함수매개변수 2개와 반환값 처리\n",
    "val x3ref: KFunction2<Int, Int, Int> = ::x3    // 리플렉션 함수 자료형 선언 \n",
    "\n",
    "println(::x1 is KFunction<Unit>)               // 리플렉션 함수 자료형인지 확인 \n",
    "println(::x2 is KFunction1<Int, Int>)          // 리플렉션 함수 자료형인지 확인\n",
    "println(::x3 is KFunction2<Int,Int, Int>)      // 리플렉션 함수 자료형인지 확인\n",
    "\n",
    "val a : ()-> Unit = ::x1                       // 프로그램 상의 함수 자료형지정\n",
    "val b : (Int)-> Int = ::x2                     // 프로그램 상의 함수 자료형 지정\n",
    "val c : (Int,Int)-> Int = ::x3                 // 프로그램 상의 함수 자료형 지정\n",
    "\n",
    "//println(::a is KFunction<Unit>)              // KFunction<Unit> 정보가 사라져 확인 불가\n",
    "\n",
    "a()                                            // 함수 실행 \n",
    "println(b(10)) \n",
    "println(c(10,10))"
   ]
  },
  {
   "cell_type": "markdown",
   "id": "78a67646",
   "metadata": {},
   "source": [
    "## 매개변수에 함수 전달 처리 "
   ]
  },
  {
   "cell_type": "code",
   "execution_count": 6,
   "id": "aedee359",
   "metadata": {},
   "outputs": [
    {
     "name": "stdout",
     "output_type": "stream",
     "text": [
      "200\n",
      "fun Line_324.A.gts(kotlin.Int): kotlin.Boolean\n",
      "200\n",
      "5\n",
      "5\n",
      "5\n"
     ]
    }
   ],
   "source": [
    "import kotlin.reflect.KFunction1                          // 리플렉션 함수 인터페이스 \n",
    "import kotlin.reflect.KFunction2\n",
    "\n",
    "class A(val value:Int,                                    // \n",
    "        val action:(Int,Int)->Int)  {\n",
    "    \n",
    "    fun gts(b: Int): Boolean = this.value > b \n",
    "    fun add(x:Int) : Int = action(this.value, x)\n",
    "}\n",
    "\n",
    "val a = A(100, fun(x:Int,y:Int):Int{ return  x+y})\n",
    "val f  = a::add\n",
    "println(f(100))\n",
    "\n",
    "val e : KFunction1<Int,Boolean> = a::gts\n",
    "println(e)\n",
    "println(a.add(100))\n",
    "\n",
    "val sum: (Int, Int) -> Int = { x, y -> x + y }\n",
    "fun sum1(x:Int, y:Int) = x+y\n",
    "\n",
    "val x:KFunction2<Int,Int,Int> = ::sum1\n",
    "val sum2 = fun (x:Int, y:Int) = x+y\n",
    "\n",
    "fun applyOp(x: Int, y: Int, \n",
    "            op: (Int, Int) -> Int): Int = op(x, y)\n",
    "\n",
    "println(applyOp(2, 3, sum))\n",
    "println(applyOp(2, 3, sum2))\n",
    "println(applyOp(2, 3, ::sum1))"
   ]
  },
  {
   "cell_type": "code",
   "execution_count": null,
   "id": "fc8c2b43",
   "metadata": {},
   "outputs": [],
   "source": []
  },
  {
   "cell_type": "code",
   "execution_count": null,
   "id": "139cfff2",
   "metadata": {},
   "outputs": [],
   "source": []
  },
  {
   "cell_type": "code",
   "execution_count": null,
   "id": "448a0b42",
   "metadata": {},
   "outputs": [],
   "source": []
  }
 ],
 "metadata": {
  "kernelspec": {
   "display_name": "Kotlin",
   "language": "kotlin",
   "name": "kotlin"
  },
  "language_info": {
   "codemirror_mode": "text/x-kotlin",
   "file_extension": ".kt",
   "mimetype": "text/x-kotlin",
   "name": "kotlin",
   "nbconvert_exporter": "",
   "pygments_lexer": "kotlin",
   "version": "1.7.0-dev-1825"
  }
 },
 "nbformat": 4,
 "nbformat_minor": 5
}
