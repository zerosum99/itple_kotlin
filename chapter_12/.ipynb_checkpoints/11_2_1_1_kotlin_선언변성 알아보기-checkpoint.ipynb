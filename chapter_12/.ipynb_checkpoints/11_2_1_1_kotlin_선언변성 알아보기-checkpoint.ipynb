{
 "cells": [
  {
   "cell_type": "code",
   "execution_count": 1,
   "id": "0a1b060a",
   "metadata": {},
   "outputs": [
    {
     "data": {
      "text/plain": [
       "1.7.0"
      ]
     },
     "execution_count": 1,
     "metadata": {},
     "output_type": "execute_result"
    }
   ],
   "source": [
    "KotlinVersion.CURRENT"
   ]
  },
  {
   "cell_type": "markdown",
   "id": "dd2fbf1b",
   "metadata": {},
   "source": [
    "## 불변성 "
   ]
  },
  {
   "cell_type": "code",
   "execution_count": 2,
   "id": "c9aa28b3",
   "metadata": {},
   "outputs": [
    {
     "name": "stdout",
     "output_type": "stream",
     "text": [
      "1394456808\n",
      "1273155659\n"
     ]
    }
   ],
   "source": [
    "class MyClass<T>                   //항상 동일한 타입\n",
    "    \n",
    "\n",
    "var x: MyClass<Int> = MyClass<Int>()        \n",
    "val y: MyClass<String> = MyClass<String>() \n",
    "\n",
    "println(x.hashCode())\n",
    "println(y.hashCode())\n"
   ]
  },
  {
   "cell_type": "code",
   "execution_count": null,
   "id": "68604215",
   "metadata": {},
   "outputs": [],
   "source": []
  }
 ],
 "metadata": {
  "kernelspec": {
   "display_name": "Kotlin",
   "language": "kotlin",
   "name": "kotlin"
  },
  "language_info": {
   "codemirror_mode": "text/x-kotlin",
   "file_extension": ".kt",
   "mimetype": "text/x-kotlin",
   "name": "kotlin",
   "nbconvert_exporter": "",
   "pygments_lexer": "kotlin",
   "version": "1.7.0-dev-1825"
  }
 },
 "nbformat": 4,
 "nbformat_minor": 5
}
