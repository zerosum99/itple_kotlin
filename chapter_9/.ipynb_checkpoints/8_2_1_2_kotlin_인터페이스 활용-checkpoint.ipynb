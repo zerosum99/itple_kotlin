{
 "cells": [
  {
   "cell_type": "markdown",
   "id": "f0079167",
   "metadata": {},
   "source": [
    "## 속성과 메소드 인터페이스 "
   ]
  },
  {
   "cell_type": "code",
   "execution_count": null,
   "id": "0716cb60",
   "metadata": {},
   "outputs": [],
   "source": []
  },
  {
   "cell_type": "code",
   "execution_count": 1,
   "id": "28219463",
   "metadata": {},
   "outputs": [],
   "source": [
    "interface IProperties {\n",
    "    val a : Int\n",
    "    val b : String\n",
    "        get() = \"Hello\"\n",
    "}\n",
    "\n",
    "interface IMethod {\n",
    "    fun display() : String\n",
    "}\n",
    "  \n",
    "class Demo : IProperties,IMethod {\n",
    "    override val a : Int = 5000\n",
    "    override val b : String = \"Property Overridden\"\n",
    "    \n",
    "    override fun display() :String {\n",
    "        return \"a = $a  b = $b\"\n",
    "    }\n",
    "}\n",
    "  \n",
    "fun main() {\n",
    "    val x = Demo()\n",
    "    println(x.a)\n",
    "    println(x.b)\n",
    "    println(x.display())\n",
    "}"
   ]
  },
  {
   "cell_type": "code",
   "execution_count": 2,
   "id": "9144be36",
   "metadata": {},
   "outputs": [
    {
     "name": "stdout",
     "output_type": "stream",
     "text": [
      "5000\n",
      "Property Overridden\n",
      "a = 5000  b = Property Overridden\n"
     ]
    }
   ],
   "source": [
    "main()"
   ]
  },
  {
   "cell_type": "code",
   "execution_count": null,
   "id": "91b4d31c",
   "metadata": {},
   "outputs": [],
   "source": []
  },
  {
   "cell_type": "markdown",
   "id": "6c01eba4",
   "metadata": {},
   "source": [
    "## 인터페이스와 추상클래스 구현"
   ]
  },
  {
   "cell_type": "code",
   "execution_count": 3,
   "id": "871cc831",
   "metadata": {},
   "outputs": [],
   "source": [
    "interface Remocon{\n",
    "    fun up()\n",
    "    fun down()\n",
    "}"
   ]
  },
  {
   "cell_type": "code",
   "execution_count": 4,
   "id": "b52d2e16",
   "metadata": {},
   "outputs": [],
   "source": [
    "abstract class Weapon{\n",
    "    fun move(){\n",
    "        println(\"이동합니다.\")\n",
    "    }\n",
    "    //추상 함수(모양만 정의된 함수)\n",
    "    abstract fun attack()\n",
    "}"
   ]
  },
  {
   "cell_type": "code",
   "execution_count": 5,
   "id": "a87cd7aa",
   "metadata": {},
   "outputs": [],
   "source": [
    "//Weapon 클래스 상속 받고 Weapon 인터페이스를 구현한 클래스\n",
    "class MultiClass:Weapon(), Remocon{\n",
    "    override fun attack() {\n",
    "        println(\"아무거나 공격해요\")\n",
    "    }\n",
    " \n",
    "    override fun up() {\n",
    "        println(\"파워를 올려요\")\n",
    "    }\n",
    " \n",
    "    override fun down() {\n",
    "        println(\"파워를 내려요\")\n",
    "    }\n",
    " \n",
    "}\n"
   ]
  },
  {
   "cell_type": "code",
   "execution_count": 6,
   "id": "5944f23e",
   "metadata": {},
   "outputs": [],
   "source": [
    "fun main(){\n",
    "    var r3=MultiClass()\n",
    "    r3.move()\n",
    "    r3.attack()\n",
    "    r3.up()\n",
    "    r3.down()\n",
    " \n",
    "    //다형성 : MultiClass 객체의 참조 값을 다양한 type 변수에 담기\n",
    "    var m1:MultiClass= MultiClass()\n",
    "    var m2:Weapon= MultiClass()\n",
    "    var m3:Remocon= MultiClass()\n",
    "}\n",
    " "
   ]
  },
  {
   "cell_type": "code",
   "execution_count": 7,
   "id": "b291fd09",
   "metadata": {},
   "outputs": [
    {
     "name": "stdout",
     "output_type": "stream",
     "text": [
      "이동합니다.\n",
      "아무거나 공격해요\n",
      "파워를 올려요\n",
      "파워를 내려요\n"
     ]
    }
   ],
   "source": [
    "main()"
   ]
  },
  {
   "cell_type": "markdown",
   "id": "3d1b70c1",
   "metadata": {},
   "source": [
    "## 여러 인터페이스 구현"
   ]
  },
  {
   "cell_type": "code",
   "execution_count": 8,
   "id": "676ad701",
   "metadata": {},
   "outputs": [
    {
     "name": "stdout",
     "output_type": "stream",
     "text": [
      "인터페이스 A\n",
      "인터페이스 B\n"
     ]
    }
   ],
   "source": [
    "interface A {\n",
    "    fun callMe() {\n",
    "        println(\"인터페이스 A\")\n",
    "    }\n",
    "}\n",
    "\n",
    "interface B  {\n",
    "    fun callMe() {\n",
    "        println(\"인터페이스 B\")\n",
    "    }\n",
    "}\n",
    "\n",
    "class Child: A, B { \n",
    "    override fun callMe() {\n",
    "        super<A>.callMe()\n",
    "        super<B>.callMe()\n",
    "    }\n",
    "}\n",
    "\n",
    "val obj = Child()\n",
    "obj.callMe()\n"
   ]
  },
  {
   "cell_type": "code",
   "execution_count": null,
   "id": "1da74909",
   "metadata": {},
   "outputs": [],
   "source": []
  }
 ],
 "metadata": {
  "kernelspec": {
   "display_name": "Kotlin",
   "language": "kotlin",
   "name": "kotlin"
  },
  "language_info": {
   "codemirror_mode": "text/x-kotlin",
   "file_extension": ".kt",
   "mimetype": "text/x-kotlin",
   "name": "kotlin",
   "nbconvert_exporter": "",
   "pygments_lexer": "kotlin",
   "version": "1.6.0-dev-3567"
  }
 },
 "nbformat": 4,
 "nbformat_minor": 5
}
