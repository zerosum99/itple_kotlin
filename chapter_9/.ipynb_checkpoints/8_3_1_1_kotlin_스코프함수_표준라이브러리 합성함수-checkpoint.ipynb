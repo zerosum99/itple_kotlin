{
 "cells": [
  {
   "cell_type": "markdown",
   "id": "bed8a087",
   "metadata": {},
   "source": [
    "# Scope Functions\n",
    "\n",
    "- 객체를 사용할 때 Scope(범위, 영역) 를 일시적으로 만들어서 속성(property)나 함수를 처리하는 용도로 사용되는 함수이다. 간편한 코드 사용과 가독성, 빌더 패턴의 이용, 부가적인 후처리 등을 하는 데에 도움을 준다.\n",
    "\n",
    "- let\n",
    "- with\n",
    "- run\n",
    "- apply\n",
    "- also"
   ]
  },
  {
   "cell_type": "markdown",
   "id": "a9065237",
   "metadata": {},
   "source": [
    "## 참조자료\n",
    "\n",
    "https://kotlinlang.org/docs/scope-functions.html#function-selection"
   ]
  },
  {
   "cell_type": "markdown",
   "id": "85335084",
   "metadata": {},
   "source": [
    "# 1. let \n",
    "\n",
    "- 확장함수 : fun <T, R> T.let(block : (T) -> R) : R \n",
    "\n",
    "- 객체의 상태를 변경할 때 사용"
   ]
  },
  {
   "cell_type": "code",
   "execution_count": 1,
   "id": "b3ab700a",
   "metadata": {},
   "outputs": [
    {
     "name": "stdout",
     "output_type": "stream",
     "text": [
      "Line_0$Student@556a5878\n",
      "dahl\n",
      " moon 22\n",
      "Line_0$Student@556a5878\n"
     ]
    }
   ],
   "source": [
    "class Student(val id : Int, var name : String, var age : Int )\n",
    "\n",
    "val s =  Student(1, \"dahl\", 22)\n",
    "println(s )\n",
    "println(s.name)\n",
    "\n",
    "val ss = s.let {it.name = \"moon\";it}\n",
    "println(\" ${ss.name} ${ss.age}\")\n",
    "println(ss)"
   ]
  },
  {
   "cell_type": "markdown",
   "id": "710529c8",
   "metadata": {},
   "source": [
    "### 널러블 처리도 가능"
   ]
  },
  {
   "cell_type": "code",
   "execution_count": 2,
   "id": "00f45524",
   "metadata": {},
   "outputs": [
    {
     "name": "stdout",
     "output_type": "stream",
     "text": [
      "null\n",
      "null\n"
     ]
    }
   ],
   "source": [
    "val s1 : Student? = null\n",
    "\n",
    "if (s1 == null) s1 \n",
    "else s1.let {it.name = \"nullname\"}\n",
    "\n",
    "println(s1)\n",
    "\n",
    "println(s1?.let {it.name = \"dahlmoon\"})"
   ]
  },
  {
   "cell_type": "code",
   "execution_count": null,
   "id": "2e604083",
   "metadata": {},
   "outputs": [],
   "source": []
  },
  {
   "cell_type": "markdown",
   "id": "a879e818",
   "metadata": {},
   "source": [
    "# 2. with\n",
    "\n",
    "\n",
    "- fun <T, R> with(reciever : T, block : T.() -> R) : R\n",
    "\n",
    "- 람다리시버 : T.() -> R \n",
    "    객체 외부의 람다 코드 블록을 마치 해당 객체 내부에서 사용하는 것 처럼 작성할 수 있게 해주는 장치"
   ]
  },
  {
   "cell_type": "code",
   "execution_count": null,
   "id": "580bdc5a",
   "metadata": {},
   "outputs": [],
   "source": []
  },
  {
   "cell_type": "code",
   "execution_count": 35,
   "id": "b856835b",
   "metadata": {},
   "outputs": [
    {
     "name": "stdout",
     "output_type": "stream",
     "text": [
      "300\n"
     ]
    }
   ],
   "source": [
    "val lr : Int.(Int) -> Int = {x -> this + x }\n",
    "\n",
    "println(lr(100,200))\n"
   ]
  },
  {
   "cell_type": "code",
   "execution_count": 36,
   "id": "10b29211",
   "metadata": {},
   "outputs": [
    {
     "data": {
      "text/plain": [
       "102"
      ]
     },
     "execution_count": 36,
     "metadata": {},
     "output_type": "execute_result"
    }
   ],
   "source": [
    "with(100) {this + 2}"
   ]
  },
  {
   "cell_type": "markdown",
   "id": "c91f23be",
   "metadata": {},
   "source": [
    "# 3. run"
   ]
  },
  {
   "cell_type": "markdown",
   "id": "1313fbeb",
   "metadata": {},
   "source": [
    "## 3- 1\n",
    "\n",
    "\n",
    "run은 with처럼 인자로 람다 리시버를 받고, 반환 형태도 비슷하게 생겼지만 T의 확장함수라는 점에서 차이가 있다. 확장함수이기 때문에 safe call(.?)을 붙여 non-null 일 때에만 실행할 수 있다. 어떤 값을 계산할 필요가 있거나 여러 개의 지역변수 범위를 제한할 때 사용한다."
   ]
  },
  {
   "cell_type": "code",
   "execution_count": 5,
   "id": "aefda3c5",
   "metadata": {},
   "outputs": [],
   "source": [
    "// fun <T, R> T.run(block: T.() -> R): R"
   ]
  },
  {
   "cell_type": "code",
   "execution_count": 6,
   "id": "8b4f0d69",
   "metadata": {},
   "outputs": [],
   "source": [
    "class Person(var name:String, var age:Int)"
   ]
  },
  {
   "cell_type": "code",
   "execution_count": 7,
   "id": "e1b036a9",
   "metadata": {},
   "outputs": [
    {
     "name": "stdout",
     "output_type": "stream",
     "text": [
      "57\n"
     ]
    }
   ],
   "source": [
    "val person = Person(\"James\", 56)\n",
    "val ageNextYear = person.run {\n",
    "    ++age\n",
    "}\n",
    "\n",
    "println(\"$ageNextYear\")"
   ]
  },
  {
   "cell_type": "code",
   "execution_count": null,
   "id": "f3683193",
   "metadata": {},
   "outputs": [],
   "source": []
  },
  {
   "cell_type": "markdown",
   "id": "3ba3ba7c",
   "metadata": {},
   "source": [
    "## 3-2"
   ]
  },
  {
   "cell_type": "code",
   "execution_count": 8,
   "id": "1fb76e31",
   "metadata": {},
   "outputs": [],
   "source": [
    "// fun <R> run(block: () -> R): R"
   ]
  },
  {
   "cell_type": "code",
   "execution_count": 9,
   "id": "00ab003c",
   "metadata": {},
   "outputs": [],
   "source": [
    "val person = run {\n",
    "    val name = \"James\"\n",
    "    val age = 56\n",
    "    Person(name, age)\n",
    "}\n"
   ]
  },
  {
   "cell_type": "code",
   "execution_count": 10,
   "id": "f5e346b1",
   "metadata": {},
   "outputs": [
    {
     "data": {
      "text/plain": [
       "James"
      ]
     },
     "execution_count": 10,
     "metadata": {},
     "output_type": "execute_result"
    }
   ],
   "source": [
    "person.name"
   ]
  },
  {
   "cell_type": "code",
   "execution_count": null,
   "id": "e1c2e4d7",
   "metadata": {},
   "outputs": [],
   "source": []
  },
  {
   "cell_type": "markdown",
   "id": "eaa41ae7",
   "metadata": {},
   "source": [
    "# 4. apply  와 also \n",
    "\n",
    "- also 는 객체를 람다 아규먼트로 받기 때문에 객체에 접근할 때 it(혹은 내가 정의한 다른 이름)을 사용하며, 이는 코드가 객체 외부에서 해당 객체에 접근한다는 인상을 강하게 준다.\n",
    "\n",
    "- 이에 반해 apply 는 객체를 람다 리시버로 받기 때문에 객체에 접근할 때 this(혹은 생략)을 사용하며, 코드가 해당 객체의 외부가 아니라 객체 내부에 있는듯한 인상을 준다."
   ]
  },
  {
   "cell_type": "code",
   "execution_count": 11,
   "id": "14e2da38",
   "metadata": {},
   "outputs": [],
   "source": [
    "/* public inline fun <T> T.apply(block: T.() -> Unit): T {\n",
    "    block()\n",
    "    return this\n",
    "} */"
   ]
  },
  {
   "cell_type": "code",
   "execution_count": null,
   "id": "20528fb8",
   "metadata": {},
   "outputs": [],
   "source": []
  },
  {
   "cell_type": "code",
   "execution_count": 12,
   "id": "49b9c7f8",
   "metadata": {},
   "outputs": [],
   "source": [
    "/* public inline fun <T> T.also(block: (T) -> Unit): T {\n",
    "    block(this)\n",
    "    return this\n",
    "} */"
   ]
  },
  {
   "cell_type": "code",
   "execution_count": null,
   "id": "9fef9284",
   "metadata": {},
   "outputs": [],
   "source": []
  },
  {
   "cell_type": "code",
   "execution_count": 13,
   "id": "4e0695b6",
   "metadata": {},
   "outputs": [],
   "source": [
    "class Person {\n",
    "    var name = \"kotlin\"\n",
    "    private val id = \"1541\"\n",
    "    var age = 0\n",
    "}"
   ]
  },
  {
   "cell_type": "code",
   "execution_count": 14,
   "id": "314cd490",
   "metadata": {},
   "outputs": [],
   "source": [
    "val  person = Person()"
   ]
  },
  {
   "cell_type": "code",
   "execution_count": 15,
   "id": "37e4f37d",
   "metadata": {},
   "outputs": [
    {
     "name": "stdout",
     "output_type": "stream",
     "text": [
      "my name is kotlin\n"
     ]
    },
    {
     "data": {
      "text/plain": [
       "Line_12$Person@3a3e78f"
      ]
     },
     "execution_count": 15,
     "metadata": {},
     "output_type": "execute_result"
    }
   ],
   "source": [
    "person.also {\n",
    "    println(\"my name is ${it.name}\")\n",
    "}"
   ]
  },
  {
   "cell_type": "code",
   "execution_count": 16,
   "id": "0926979e",
   "metadata": {},
   "outputs": [
    {
     "data": {
      "text/plain": [
       "Line_12$Person@3a3e78f"
      ]
     },
     "execution_count": 16,
     "metadata": {},
     "output_type": "execute_result"
    }
   ],
   "source": [
    "person.also {\n",
    "    it.name = \"steven also\"\n",
    "    it.age = 33\n",
    "}"
   ]
  },
  {
   "cell_type": "code",
   "execution_count": 17,
   "id": "5f949b38",
   "metadata": {},
   "outputs": [
    {
     "data": {
      "text/plain": [
       "33"
      ]
     },
     "execution_count": 17,
     "metadata": {},
     "output_type": "execute_result"
    }
   ],
   "source": [
    "person.age"
   ]
  },
  {
   "cell_type": "code",
   "execution_count": 18,
   "id": "4ef8213d",
   "metadata": {},
   "outputs": [
    {
     "name": "stdout",
     "output_type": "stream",
     "text": [
      "my name is steven also\n"
     ]
    },
    {
     "data": {
      "text/plain": [
       "Line_12$Person@3a3e78f"
      ]
     },
     "execution_count": 18,
     "metadata": {},
     "output_type": "execute_result"
    }
   ],
   "source": [
    "person.apply {\n",
    "    println(\"my name is $name\")\n",
    "}"
   ]
  },
  {
   "cell_type": "code",
   "execution_count": 19,
   "id": "9edea43a",
   "metadata": {},
   "outputs": [
    {
     "data": {
      "text/plain": [
       "Line_12$Person@3a3e78f"
      ]
     },
     "execution_count": 19,
     "metadata": {},
     "output_type": "execute_result"
    }
   ],
   "source": [
    "person.apply {\n",
    "    name = \"steven\"\n",
    "    age = 21\n",
    "}"
   ]
  },
  {
   "cell_type": "code",
   "execution_count": 20,
   "id": "61aa7949",
   "metadata": {},
   "outputs": [
    {
     "data": {
      "text/plain": [
       "21"
      ]
     },
     "execution_count": 20,
     "metadata": {},
     "output_type": "execute_result"
    }
   ],
   "source": [
    "person.age"
   ]
  },
  {
   "cell_type": "code",
   "execution_count": null,
   "id": "a9f7357e",
   "metadata": {},
   "outputs": [],
   "source": []
  }
 ],
 "metadata": {
  "kernelspec": {
   "display_name": "Kotlin",
   "language": "kotlin",
   "name": "kotlin"
  },
  "language_info": {
   "codemirror_mode": "text/x-kotlin",
   "file_extension": ".kt",
   "mimetype": "text/x-kotlin",
   "name": "kotlin",
   "nbconvert_exporter": "",
   "pygments_lexer": "kotlin",
   "version": "1.6.0-dev-3567"
  }
 },
 "nbformat": 4,
 "nbformat_minor": 5
}
