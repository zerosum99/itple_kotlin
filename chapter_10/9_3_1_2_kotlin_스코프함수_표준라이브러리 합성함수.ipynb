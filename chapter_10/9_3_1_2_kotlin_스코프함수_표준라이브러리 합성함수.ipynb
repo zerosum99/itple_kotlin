{
 "cells": [
  {
   "cell_type": "markdown",
   "id": "d042f272",
   "metadata": {},
   "source": [
    "## 참조\n",
    "\n",
    "https://0391kjy.tistory.com/25"
   ]
  },
  {
   "cell_type": "markdown",
   "id": "bed8a087",
   "metadata": {},
   "source": [
    "# Scope Functions\n",
    "\n",
    "- 객체를 사용할 때 Scope(범위, 영역) 를 일시적으로 만들어서 속성(property)나 함수를 처리하는 용도로 사용되는 함수이다. 간편한 코드 사용과 가독성, 빌더 패턴의 이용, 부가적인 후처리 등을 하는 데에 도움을 준다.\n",
    "\n",
    "- let\n",
    "- with\n",
    "- run\n",
    "- apply\n",
    "- also"
   ]
  },
  {
   "cell_type": "markdown",
   "id": "a9065237",
   "metadata": {},
   "source": [
    "## 참조자료\n",
    "\n",
    "https://kotlinlang.org/docs/scope-functions.html#function-selection"
   ]
  },
  {
   "cell_type": "markdown",
   "id": "85335084",
   "metadata": {},
   "source": [
    "# 1. let \n",
    "\n",
    "- 확장함수 : fun <T, R> T.let(block : (T) -> R) : R \n",
    "\n",
    "- 객체의 상태를 변경할 때 사용"
   ]
  },
  {
   "cell_type": "code",
   "execution_count": 13,
   "id": "baedcd2c",
   "metadata": {},
   "outputs": [
    {
     "name": "stdout",
     "output_type": "stream",
     "text": [
      "Student\n",
      "dahl\n",
      "처리결과 : moon 22\n",
      "Student\n",
      "null\n",
      "null\n"
     ]
    }
   ],
   "source": [
    "// fun <T, R> T.let(block : (T) -> R) : R  {      // 확장함수로 구성되었고 람다표현식에 인자로 현재 객체를 전달\n",
    "//       return block(this)                       // 람다표현식에 리시버 객체를 전달하고 실행\n",
    "//}\n",
    "\n",
    "class Student(val id : Int, var name : String,    // 클래스를 정의\n",
    "              var age : Int )\n",
    " \n",
    "val s =  Student(1, \"dahl\", 22)                   //객체를 생성한다 \n",
    "println(s.javaClass.kotlin.simpleName)\n",
    "println(s.name)\n",
    "\n",
    "val ss = s.let {it.name = \"moon\"                  // 내부 갱신\n",
    "                it                                // 객체 전달\n",
    "                }             \n",
    "println(\"처리결과 : ${ss.name} ${ss.age}\")          // 처리결과 출력 \n",
    "println(ss.javaClass.simpleName)\n",
    "\n",
    "val s1 : Student? = null                           // 널러블 처리도 가능\n",
    "if (s1 == null) s1 \n",
    "else s1.let {it.name = \"nullname\"}                 // 널이 아니면 실행 \n",
    "\n",
    "println(s1?.javaClass?.simpleName)                 // 널러블 처리를 휘해 안전호출 처리\n",
    "println(s1?.let {it.name = \"dahlmoon\"})            // 널이 아니면 함수 실행"
   ]
  },
  {
   "cell_type": "code",
   "execution_count": null,
   "id": "96394a7f",
   "metadata": {},
   "outputs": [],
   "source": []
  },
  {
   "cell_type": "code",
   "execution_count": null,
   "id": "2e604083",
   "metadata": {},
   "outputs": [],
   "source": []
  },
  {
   "cell_type": "markdown",
   "id": "a879e818",
   "metadata": {},
   "source": [
    "# 2. with\n",
    "\n",
    "\n",
    "- fun <T, R> with(reciever : T, block : T.() -> R) : R\n",
    "\n",
    "- 람다리시버 : T.() -> R \n",
    "    객체 외부의 람다 코드 블록을 마치 해당 객체 내부에서 사용하는 것 처럼 작성할 수 있게 해주는 장치"
   ]
  },
  {
   "cell_type": "code",
   "execution_count": null,
   "id": "580bdc5a",
   "metadata": {},
   "outputs": [],
   "source": []
  },
  {
   "cell_type": "code",
   "execution_count": 2,
   "id": "b856835b",
   "metadata": {},
   "outputs": [
    {
     "name": "stdout",
     "output_type": "stream",
     "text": [
      "300\n",
      "300\n",
      "300\n"
     ]
    }
   ],
   "source": [
    "// fun <T, R> with(reciever : T,               // 일반함수이고 리시버를 인자로 받음 \n",
    "//                 block : T.() -> R) : R  {   // 람다표현식의 자료형은 수신객체 람다표현식 사용 매개변수는 없음\n",
    "//     return block()                          // 반환값은 람담표현식 결과\n",
    "//} \n",
    "\n",
    "val lr : Int.(Int) -> Int = {x -> this + x }   // 수신객체 람다표현식 자료형에 람다함수를 정의 \n",
    "                                               // 수신객체 람다표현식은 this를 람다표현식 내부에서 사용가능 \n",
    "                                               \n",
    "println(lr(100,200))                           // 내부적으로 두 개의 인자로 처리\n",
    "println((100).lr(200))                         // 수신객체를 정의하고 람다표현식을 처리\n",
    "\n",
    "\n",
    "println(with(100) {this + 200})                // 수신객체를 인자로 전달하고 this로 람다표현식 내부에서 처리"
   ]
  },
  {
   "cell_type": "code",
   "execution_count": null,
   "id": "857b164a",
   "metadata": {},
   "outputs": [],
   "source": []
  },
  {
   "cell_type": "markdown",
   "id": "1313fbeb",
   "metadata": {},
   "source": [
    "# 3. run\n",
    "\n",
    "\n",
    "run은 with처럼 인자로 람다 리시버를 받고, 반환 형태도 비슷하게 생겼지만 T의 확장함수라는 점에서 차이가 있다. 확장함수이기 때문에 safe call(.?)을 붙여 non-null 일 때에만 실행할 수 있다. 어떤 값을 계산할 필요가 있거나 여러 개의 지역변수 범위를 제한할 때 사용한다."
   ]
  },
  {
   "cell_type": "code",
   "execution_count": 3,
   "id": "8b4f0d69",
   "metadata": {},
   "outputs": [
    {
     "name": "stdout",
     "output_type": "stream",
     "text": [
      "반환은 수신객체로 처리 = 57\n",
      "일반 함수로 처리 = James\n"
     ]
    }
   ],
   "source": [
    "// fun <T, R> T.run(block: T.() -> R): R  {    // 확장함수로 run \n",
    "//     return block()                          // 람다표현식이 수신객체 람다표현식으로 정의하고 매개변수는 없다.\n",
    "//}                                            // 반환값은 람다 결과 \n",
    "\n",
    "class Person(var name:String, var age:Int)     // 클래스를 정의한다.\n",
    "\n",
    "val person = Person(\"James\", 56)               // 객체를 생성\n",
    "val ageNextYear = person.run {                 // 객체fh run 함수 사용 람다표현식은 이 객체 내부의 속성 갱신 \n",
    "    ++age                                      // 객체의 속성 갱신하고 반환하므로 \n",
    "    this\n",
    "}\n",
    "\n",
    "println(\"반환은 수신객체로 처리 = ${ageNextYear.age}\")\n",
    "\n",
    "// fun <R> run(block: () -> R): R   {          // 일반 함수로 정의된 run\n",
    "//.        return block()                      // 함수의 결과를 반환\n",
    "//}  \n",
    "\n",
    "val person1 = run {                            // 람다표현식에서 객체를하고 반환\n",
    "    val name = \"James\"\n",
    "    val age = 56\n",
    "    Person(name, age)\n",
    "}\n",
    "\n",
    "println(\"일반 함수로 처리 = \" +person1.name)       // 반환된 결과를 확인                                                "
   ]
  },
  {
   "cell_type": "code",
   "execution_count": null,
   "id": "f3683193",
   "metadata": {},
   "outputs": [],
   "source": []
  },
  {
   "cell_type": "code",
   "execution_count": null,
   "id": "e1c2e4d7",
   "metadata": {},
   "outputs": [],
   "source": []
  },
  {
   "cell_type": "markdown",
   "id": "eaa41ae7",
   "metadata": {},
   "source": [
    "# 4. also \n",
    "\n",
    "- also 는 객체를 람다 아규먼트로 받기 때문에 객체에 접근할 때 it(혹은 내가 정의한 다른 이름)을 사용하며, 이는 코드가 객체 외부에서 해당 객체에 접근한다는 인상을 강하게 준다.\n"
   ]
  },
  {
   "cell_type": "code",
   "execution_count": null,
   "id": "9fef9284",
   "metadata": {},
   "outputs": [],
   "source": []
  },
  {
   "cell_type": "code",
   "execution_count": 6,
   "id": "4e0695b6",
   "metadata": {},
   "outputs": [
    {
     "name": "stdout",
     "output_type": "stream",
     "text": [
      "이름은 코틀린\n",
      "also1 Person\n",
      "이름은  코틀린 also\n",
      "also2 Person\n"
     ]
    }
   ],
   "source": [
    "/* public inline fun <T> T.also(block: (T) -> Unit): T {      // 확장함수 alseo \n",
    "    block(this)                                               // 람다표현식에 인자로 수신객체를 전달\n",
    "    return this                                               // 반환값은 자기자신\n",
    "} */\n",
    "\n",
    "class Person { var name = \"코틀린\";private val id = \"9999\";var age = 0}\n",
    "\n",
    "val  person = Person()                                         // 객체생성 \n",
    "\n",
    "val also1 = person.also { println(\"이름은 ${it.name}\") }         // also 외부 반환없는 함수 반환\n",
    "println(\"also1 ${also1::class.simpleName}\")\n",
    "\n",
    "val also2 = person.also {\n",
    "               it.name = \"코틀린 also\"                         // 내부 속성 변경 \n",
    "               it.age = 33                                   // 내부 속성 변경 \n",
    "               println(\"이름은  ${it.name}\")                   // 내부 속성 변경 출력 \n",
    "            }\n",
    "println(\"also2 ${also2::class.simpleName}\")"
   ]
  },
  {
   "cell_type": "code",
   "execution_count": null,
   "id": "58077620",
   "metadata": {},
   "outputs": [],
   "source": []
  },
  {
   "cell_type": "markdown",
   "id": "d0485b00",
   "metadata": {},
   "source": [
    " ## 5. apply \n",
    " \n",
    " - 이에 반해 apply 는 객체를 람다 리시버로 받기 때문에 객체에 접근할 때 this(혹은 생략)을 사용하며, 코드가 해당 객체의 외부가 아니라 객체 내부에 있는듯한 인상을 준다."
   ]
  },
  {
   "cell_type": "code",
   "execution_count": 5,
   "id": "a9f7357e",
   "metadata": {},
   "outputs": [
    {
     "name": "stdout",
     "output_type": "stream",
     "text": [
      "이름은 코틀린\n",
      "apply1 Person\n",
      "이름은 어플라이\n",
      "apply2 Person\n"
     ]
    }
   ],
   "source": [
    "/* public inline fun <T> T.apply(block: T.() -> Unit): T {    // 확장함수 applu\n",
    "    block()                                                   // 수신객체 람다표현식\n",
    "    return this                                               // 자기 자신을 리턴 \n",
    "} */\n",
    "\n",
    "class Person { var name = \"코틀린\";private val id = \"9999\";var age = 0}\n",
    "\n",
    "val  person = Person()                                         // 객체생성 \n",
    "\n",
    "val apply1 = person.apply { println(\"이름은 $name\")}            // 출력만하는 람다표현식 전달 \n",
    "println(\"apply1 ${apply1::class.simpleName}\")\n",
    "\n",
    "val apply2= person.apply {\n",
    "                 name = \"어플라이\"                               // 내부 속성 변경 \n",
    "                 age = 21\n",
    "                 println(\"이름은 $name\")\n",
    "             }\n",
    "println(\"apply2 ${apply2::class.simpleName}\")"
   ]
  },
  {
   "cell_type": "code",
   "execution_count": null,
   "id": "a116269f",
   "metadata": {},
   "outputs": [],
   "source": []
  },
  {
   "cell_type": "code",
   "execution_count": null,
   "id": "850b708a",
   "metadata": {},
   "outputs": [],
   "source": []
  }
 ],
 "metadata": {
  "kernelspec": {
   "display_name": "Kotlin",
   "language": "kotlin",
   "name": "kotlin"
  },
  "language_info": {
   "codemirror_mode": "text/x-kotlin",
   "file_extension": ".kt",
   "mimetype": "text/x-kotlin",
   "name": "kotlin",
   "nbconvert_exporter": "",
   "pygments_lexer": "kotlin",
   "version": "1.7.0-dev-1825"
  }
 },
 "nbformat": 4,
 "nbformat_minor": 5
}
