{
 "cells": [
  {
   "cell_type": "markdown",
   "id": "28abdeeb",
   "metadata": {},
   "source": [
    "## 고차함수 : 함수를 매개변수로 받기"
   ]
  },
  {
   "cell_type": "markdown",
   "id": "f0bee800",
   "metadata": {},
   "source": [
    "## 함수를 반환하는 고차함수 "
   ]
  },
  {
   "cell_type": "markdown",
   "id": "c4cbe5c4",
   "metadata": {},
   "source": [
    "##  고차함수로 배열 등을 처리하는 함수 작성"
   ]
  },
  {
   "cell_type": "code",
   "execution_count": null,
   "id": "0b3963cc",
   "metadata": {},
   "outputs": [],
   "source": []
  },
  {
   "cell_type": "code",
   "execution_count": 9,
   "id": "6f213c69",
   "metadata": {},
   "outputs": [
    {
     "name": "stdout",
     "output_type": "stream",
     "text": [
      "10\n",
      "15\n",
      "30\n"
     ]
    }
   ],
   "source": [
    "typealias f = (Int,Int)-> Int                     // 함수 자료형을 타입별칭으로 지정\n",
    "\n",
    "fun highfunc(vararg x:Int, op:f) : Int {          // 함수를 매개변수로 받는 고차함수                     \n",
    "    return x.toList().reduce(op)                  // 배열을 리스트로 변환하고 리듀스로 전달된 함수를 실행 \n",
    "}\n",
    "\n",
    "println(highfunc(1,2,3,4,op={x:Int,y:Int->x+y}))  // 합산을 하는 람다표현식 전달 \n",
    "\n",
    "fun add(x:Int, y:Int) : Int = x+y\n",
    "println(highfunc(1,2,3,4,5, op=::add))            // 합산을 하는 함수 참조 전달 \n",
    "\n",
    "\n",
    "fun highOrder() : f {                              // 함수를 반환하는 고차 함수 \n",
    "    return {x,y -> x+y}                            // 합산을 하는 람다표현식 반환 \n",
    "}\n",
    "\n",
    "println(highOrder()(10,20))                        // 함수를 실행\n"
   ]
  },
  {
   "cell_type": "code",
   "execution_count": null,
   "id": "8159377f",
   "metadata": {},
   "outputs": [],
   "source": []
  },
  {
   "cell_type": "markdown",
   "id": "37d96c5c",
   "metadata": {},
   "source": [
    "##  일반화 한 고차함수 만들기"
   ]
  },
  {
   "cell_type": "code",
   "execution_count": 15,
   "id": "d20713f1",
   "metadata": {},
   "outputs": [
    {
     "name": "stdout",
     "output_type": "stream",
     "text": [
      "10\n",
      "100\n",
      "40\n"
     ]
    }
   ],
   "source": [
    "typealias g = (Int,Int)-> Int                     // 함수 자료형을 타입별칭으로 지정\n",
    "\n",
    "fun agg(nums:IntArray, op: g ): Int {             // 함수를 정의한다. \n",
    "    var result = nums.firstOrNull() ?: 0          // 정수 배열의 합산을 순환문으로 처리한다. \n",
    "    for (i in 1..nums.lastIndex) {\n",
    "        result = op(result,nums[i])               // 실제 처리되는 결과는 전달되는 함수의 기능에 따른다. \n",
    "    }\n",
    "    return result\n",
    "}\n",
    "\n",
    "println(agg(intArrayOf(1,2,3,4), {x,y -> x+y}))   // 람다표현식을 전달받아 배열을 합산한다. \n",
    "\n",
    "fun sum(nums:IntArray) :  Int {                   // 함산 함수를 정의한다. \n",
    "    return agg(nums, {x:Int,y:Int -> x+y})        // 위에 정의된 고차함수를 함수 내부에서 처리한다.\n",
    "}\n",
    "\n",
    "fun max(nums:IntArray) :  Int {                    // 최대값을 찾는 함수를 정의한다\n",
    "    return agg(nums, \n",
    "         {x:Int,y:Int -> if (y > x) y else x })    // 위에서 정의된 고차함수에 최대값을 구한는 람다표현식 전달 \n",
    "}\n",
    "\n",
    "println(sum(intArrayOf(10,20,30,40)))              // 합산 처리\n",
    "println(max(intArrayOf(10,20,30,40)))              // 최대값 처리"
   ]
  },
  {
   "cell_type": "code",
   "execution_count": null,
   "id": "b110b992",
   "metadata": {},
   "outputs": [],
   "source": []
  }
 ],
 "metadata": {
  "kernelspec": {
   "display_name": "Kotlin",
   "language": "kotlin",
   "name": "kotlin"
  },
  "language_info": {
   "codemirror_mode": "text/x-kotlin",
   "file_extension": ".kt",
   "mimetype": "text/x-kotlin",
   "name": "kotlin",
   "nbconvert_exporter": "",
   "pygments_lexer": "kotlin",
   "version": "1.7.0-dev-1825"
  }
 },
 "nbformat": 4,
 "nbformat_minor": 5
}
