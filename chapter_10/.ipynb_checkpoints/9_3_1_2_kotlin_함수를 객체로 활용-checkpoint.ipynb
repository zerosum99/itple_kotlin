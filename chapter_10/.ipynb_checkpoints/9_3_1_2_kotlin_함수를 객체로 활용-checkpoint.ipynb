{
 "cells": [
  {
   "cell_type": "code",
   "execution_count": 2,
   "id": "07370ac8",
   "metadata": {},
   "outputs": [],
   "source": [
    "val map = mutableMapOf<String, (Int,Int)->Int>()"
   ]
  },
  {
   "cell_type": "code",
   "execution_count": null,
   "id": "8bfb188d",
   "metadata": {},
   "outputs": [],
   "source": [
    "fun add(x:)"
   ]
  }
 ],
 "metadata": {
  "kernelspec": {
   "display_name": "Kotlin",
   "language": "kotlin",
   "name": "kotlin"
  },
  "language_info": {
   "codemirror_mode": "text/x-kotlin",
   "file_extension": ".kt",
   "mimetype": "text/x-kotlin",
   "name": "kotlin",
   "nbconvert_exporter": "",
   "pygments_lexer": "kotlin",
   "version": "1.7.0-dev-1825"
  }
 },
 "nbformat": 4,
 "nbformat_minor": 5
}
