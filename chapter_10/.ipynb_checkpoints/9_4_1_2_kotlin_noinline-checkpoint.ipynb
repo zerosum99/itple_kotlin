{
 "cells": [
  {
   "cell_type": "code",
   "execution_count": null,
   "id": "8df4f290",
   "metadata": {},
   "outputs": [],
   "source": []
  },
  {
   "cell_type": "markdown",
   "id": "5e5651e6",
   "metadata": {},
   "source": [
    "## 노인라인 처리"
   ]
  },
  {
   "cell_type": "code",
   "execution_count": 1,
   "id": "07cba62d",
   "metadata": {},
   "outputs": [
    {
     "name": "stdout",
     "output_type": "stream",
     "text": [
      "120\n"
     ]
    }
   ],
   "source": [
    "inline fun compose_n(a:Int , \n",
    "                     noinline action: (Int) -> Int,        // inline 금지\n",
    "                     block : (Int) -> Int ) : Int {        // 함수를 매개변수로 받음 \n",
    "    return action(a) + block(a)\n",
    "}\n",
    "\n",
    "\n",
    "fun callingHOF() {                                          // 인라인 함수를 내부에서 호출 \n",
    "    println(compose_n(10,{x -> x * 10}, {y -> y + 10}))     // noinline은 내부에 코드가 삽입되지 않음 \n",
    "}\n",
    "\n",
    "callingHOF()"
   ]
  },
  {
   "cell_type": "code",
   "execution_count": null,
   "id": "02c1d187",
   "metadata": {},
   "outputs": [],
   "source": []
  },
  {
   "cell_type": "code",
   "execution_count": 3,
   "id": "ced91de2",
   "metadata": {},
   "outputs": [
    {
     "name": "stdout",
     "output_type": "stream",
     "text": [
      "람다표현식 1 \n",
      "노인라인 람다표현식 2\n",
      "람다표현식 3\n"
     ]
    }
   ],
   "source": [
    "inline fun highNoinline(block: () -> Unit,         \n",
    "                        noinline noInline: () -> Unit, \n",
    "                        block2: () -> Unit) {\n",
    "\n",
    "    block()                                                  // 인라인 처리\n",
    "    noInline()                                               // 노인라인 처리 \n",
    "    block2()                                                 // 인라인 처리 \n",
    "}\n",
    "\n",
    "\n",
    "fun callingFunction() {                                      // 함수 정의 \n",
    "                                                             // 인라인 고차함수 호출 \n",
    "    highNoinline({ println(\"람다표현식 1 \")},                  // 람다표현식 전달 \n",
    "                  { println(\"노인라인 람다표현식 2\") },           // 람다표현식 전달 \n",
    "                  { println(\"람다표현식 3\") })                  // 람다표현식 전달\n",
    "\n",
    "}\n",
    "\n",
    "callingFunction()"
   ]
  },
  {
   "cell_type": "code",
   "execution_count": null,
   "id": "b599ac4d",
   "metadata": {},
   "outputs": [],
   "source": []
  }
 ],
 "metadata": {
  "kernelspec": {
   "display_name": "Kotlin",
   "language": "kotlin",
   "name": "kotlin"
  },
  "language_info": {
   "codemirror_mode": "text/x-kotlin",
   "file_extension": ".kt",
   "mimetype": "text/x-kotlin",
   "name": "kotlin",
   "nbconvert_exporter": "",
   "pygments_lexer": "kotlin",
   "version": "1.7.0-dev-1825"
  }
 },
 "nbformat": 4,
 "nbformat_minor": 5
}
