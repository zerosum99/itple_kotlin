{
 "cells": [
  {
   "cell_type": "code",
   "execution_count": null,
   "id": "fa13c5dc",
   "metadata": {},
   "outputs": [],
   "source": []
  },
  {
   "cell_type": "markdown",
   "id": "d400eccf",
   "metadata": {},
   "source": [
    "## 비지역 반환처리"
   ]
  },
  {
   "cell_type": "code",
   "execution_count": 12,
   "id": "4af42531",
   "metadata": {},
   "outputs": [
    {
     "name": "stdout",
     "output_type": "stream",
     "text": [
      " 실행되지 않는다. \n",
      " 람다표현식 실행 1 \n"
     ]
    }
   ],
   "source": [
    "inline fun higherOrderReturn(block: () -> Unit) {    // 고차함수를 인라인으로 처리 \n",
    "    println(\" 실행되지 않는다. \")                        // 고차함수를 호출하는 곳에 삽입됨\n",
    "    block()\n",
    "    println(\" 람다표현식에서 반환처리되어 실행되지 않는다. \")\n",
    "\n",
    "}\n",
    "\n",
    "fun callingFunction() {                              // 인라인 함수를 호출하는 곳에 코드로 삽입\n",
    "    higherOrderReturn {                              // 호출되는 함수 내부에 코드 삽입 가능 \n",
    "        println(\" 람다표현식 실행 1 \")                     // 람다표현식에 return 표시 가능 \n",
    "        return                                       // 실제 내부의 고차함수를 종료할 때 사용 \n",
    "        println(\" 람다표현식 실행 2\")\n",
    "    }                                                \n",
    "}\n",
    "\n",
    "callingFunction()"
   ]
  },
  {
   "cell_type": "code",
   "execution_count": null,
   "id": "b6fafa10",
   "metadata": {},
   "outputs": [],
   "source": []
  },
  {
   "cell_type": "markdown",
   "id": "cecd1e85",
   "metadata": {},
   "source": [
    "## crossinline \n",
    "\n",
    "- 만약, inline 함수에서 인자로 받은 lambda를 다른 객체를 만들어 할당 하는 경우를 살펴보자.\n",
    "\n",
    "\n",
    "inline으로 코드가 삽입됐지만, Runnable을 구현한 객체를 생성하고 있기 때문에, 새로 생성한 객체의 run() 인터페이스에 삽입된걸 볼 수 있다. 만약 return이 들어간다면, run() 함수에 포함되어 run()의 종료를 의미할 것이다. 코틀린에서 inline의 경우에 한해서 lambda에 return을 허용하지만, 이와같이 lambda를 다른 곳에 할당하는 경우, inline이 아닌 경우와 마찬가지로 return의 사용을 못하게 하고 있다. 보다 명확하게 하기위해, 이 때 사용하는 키워드가 ‘crossinline’이다. 다음과 같이, 사용한다.\n"
   ]
  },
  {
   "cell_type": "code",
   "execution_count": null,
   "id": "47c8ab11",
   "metadata": {},
   "outputs": [],
   "source": []
  },
  {
   "cell_type": "code",
   "execution_count": 50,
   "id": "9bd66f76",
   "metadata": {},
   "outputs": [
    {
     "name": "stdout",
     "output_type": "stream",
     "text": [
      "정상함수 호출  111\n",
      "람다함수 호출  222\n"
     ]
    }
   ],
   "source": [
    "inline fun higherOrderFunction(crossinline aLambda:        // 람다표현식을 삽입 제거\n",
    "                                            () -> Unit) {  \n",
    "    normalFunction {                                       // 다른 함수에서  전달된aLambda()\n",
    "        aLambda() \n",
    "    }                                             \n",
    "}\n",
    "\n",
    "fun normalFunction(aLambda: () -> Unit) {                  \n",
    "    println(\"정상함수 호출  111\")\n",
    "    aLambda()                                                     \n",
    "}\n",
    "\n",
    "fun callingFunction() {\n",
    "    higherOrderFunction {\n",
    "        println(\"람다함수 호출  222\")\n",
    "        //return //사용금지\n",
    "    }\n",
    "}\n",
    "\n",
    "callingFunction()"
   ]
  },
  {
   "cell_type": "code",
   "execution_count": null,
   "id": "21200d49",
   "metadata": {},
   "outputs": [],
   "source": []
  },
  {
   "cell_type": "code",
   "execution_count": null,
   "id": "bffb3b6d",
   "metadata": {},
   "outputs": [],
   "source": []
  }
 ],
 "metadata": {
  "kernelspec": {
   "display_name": "Kotlin",
   "language": "kotlin",
   "name": "kotlin"
  },
  "language_info": {
   "codemirror_mode": "text/x-kotlin",
   "file_extension": ".kt",
   "mimetype": "text/x-kotlin",
   "name": "kotlin",
   "nbconvert_exporter": "",
   "pygments_lexer": "kotlin",
   "version": "1.7.0-dev-1825"
  }
 },
 "nbformat": 4,
 "nbformat_minor": 5
}
