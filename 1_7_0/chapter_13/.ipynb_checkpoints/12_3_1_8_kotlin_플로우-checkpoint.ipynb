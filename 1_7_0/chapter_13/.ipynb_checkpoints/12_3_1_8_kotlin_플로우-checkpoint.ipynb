{
 "cells": [
  {
   "cell_type": "markdown",
   "id": "60c30cb4",
   "metadata": {},
   "source": [
    "## 참조자료\n",
    "\n",
    "\n",
    "https://medium.com/hongbeomi-dev/%EC%BD%94%ED%8B%80%EB%A6%B0%EC%9D%98-%EC%BD%94%EB%A3%A8%ED%8B%B4-5-asynchronous-flow-1%EB%B6%80-600877d99b16"
   ]
  },
  {
   "cell_type": "code",
   "execution_count": 1,
   "id": "6c21871d",
   "metadata": {},
   "outputs": [],
   "source": [
    "@file:DependsOn(\"org.jetbrains.kotlinx:kotlinx-coroutines-core:1.6.1\")"
   ]
  },
  {
   "cell_type": "code",
   "execution_count": null,
   "id": "e9dc008e",
   "metadata": {},
   "outputs": [],
   "source": []
  },
  {
   "cell_type": "code",
   "execution_count": 2,
   "id": "0bafa222",
   "metadata": {},
   "outputs": [],
   "source": [
    "import kotlinx.coroutines.*\n",
    "import kotlinx.coroutines.flow.*"
   ]
  },
  {
   "cell_type": "code",
   "execution_count": null,
   "id": "4b86b1a3",
   "metadata": {},
   "outputs": [],
   "source": []
  },
  {
   "cell_type": "code",
   "execution_count": 3,
   "id": "cc6fce6e",
   "metadata": {},
   "outputs": [],
   "source": [
    "// interface Flow<out T>\n",
    "\n",
    "// fun <T> flow(                                     // 플로우 함수 \n",
    "// block: suspend FlowCollector<T>.() -> Unit)       // 일시중단람다표현식 \n",
    "// : Flow<T>                                         // 반환형은 플로우 "
   ]
  },
  {
   "cell_type": "markdown",
   "id": "f5ac18a0",
   "metadata": {},
   "source": [
    "## 리스트와 플로우 처리 비교하기 \n",
    "\n",
    "-  데잍터 스트림이며 리액트를 처리하는 용도"
   ]
  },
  {
   "cell_type": "code",
   "execution_count": 4,
   "id": "f5c13200",
   "metadata": {},
   "outputs": [
    {
     "name": "stdout",
     "output_type": "stream",
     "text": [
      "리스트 1 \n",
      "리스트 2 \n",
      "리스트 3 \n",
      "블럭여부 확인 1\n",
      "플로우: 1 \n",
      "블럭여부 확인 2\n",
      "플로우: 2 \n",
      "블럭여부 확인 3\n",
      "플로우: 3 \n",
      "리스트로 변환 : [1, 2, 3]\n"
     ]
    }
   ],
   "source": [
    "fun fooList(): List<Int> = listOf(1, 2, 3)             // 리스트 생성 함수 작성 \n",
    "fun main1() {\n",
    "    fooList().forEach { value -> \n",
    "                        println(\"리스트 $value \") }      // 리스트를 처리 \n",
    "}\n",
    "main1()\n",
    "\n",
    "fun fooFlow(): Flow<Int> = flow {                      // 일반함수에  flow builder\n",
    "    for (i in 1..3) {                                  // 순환 \n",
    "        delay(100)                                     // 일시중단함수 \n",
    "        emit(i)                                        // 다음 값 내보내기\n",
    "    }\n",
    "}\n",
    "fun main() = runBlocking<Unit> {                       // 런블러킹 빌더 처리 \n",
    "                                                       // 동시에 코루틴을 사용하여 메인 스레드가 차단되는지 확인\n",
    "    launch {                                           // 코루틴 처리 \n",
    "        for (k in 1..3) {\n",
    "            println(\"블럭여부 확인 $k\")\n",
    "            delay(100)                                 // 지연함수 \n",
    "        }\n",
    "    }\n",
    "                                                       // flow collect\n",
    "    fooFlow().collect { value ->                       // 플로우 종단함수 \n",
    "                        println(\"플로우: $value \") } \n",
    "    println(\"리스트로 변환 : \" + fooFlow().toList())      // 리스트로 변환처리\n",
    "}\n",
    "main()"
   ]
  },
  {
   "cell_type": "code",
   "execution_count": null,
   "id": "acaf9687",
   "metadata": {},
   "outputs": [],
   "source": []
  },
  {
   "cell_type": "code",
   "execution_count": null,
   "id": "6d07f549",
   "metadata": {},
   "outputs": [],
   "source": []
  },
  {
   "cell_type": "markdown",
   "id": "c81a5c2d",
   "metadata": {},
   "source": [
    "## 플로우는 연속해서 사용할 수 있음"
   ]
  },
  {
   "cell_type": "code",
   "execution_count": 5,
   "id": "f7d9e493",
   "metadata": {},
   "outputs": [
    {
     "name": "stdout",
     "output_type": "stream",
     "text": [
      "플로우 스코프 만듬\n",
      "class kotlinx.coroutines.flow.SafeFlow\n",
      "플로우 시작\n",
      "1\n",
      "2\n",
      "3\n",
      "플로우 시작\n",
      "집합 변환 : [1, 2, 3]\n",
      "코루틴 내부에서 호출\n",
      "플로우 시작\n",
      "1\n",
      "2\n",
      "3\n"
     ]
    }
   ],
   "source": [
    "fun foo(): Flow<Int> = flow {                         // 플로우 빌더는 일시중단함수로 정의하지 않음 \n",
    "    println(\"플로우 시작\")                               // \n",
    "    for (i in 1..3) {\n",
    "        delay(100)\n",
    "        emit(i)                                       // 데이터 송신\n",
    "    }\n",
    "}\n",
    "\n",
    "fun main() = runBlocking<Unit> {\n",
    "    println(\"플로우 스코프 만듬\")\n",
    "    val flow = foo()                                   // 플로우 함수 실행\n",
    "    println(flow.javaClass)                            // 플로우 객체로 변환\n",
    "\n",
    "    flow.collect { value -> println(value) }           // 플로우  처리 \n",
    "    println(\"집합 변환 : \" + flow.toSet())               // 집합으로 변환 \n",
    "    \n",
    "    launch {\n",
    "        println(\"코루틴 내부에서 호출\")\n",
    "        flow.collect { value -> println(value) }       // 플로우 종단함수 \n",
    "    }\n",
    "}\n",
    "\n",
    "main()"
   ]
  },
  {
   "cell_type": "code",
   "execution_count": null,
   "id": "91a9f70f",
   "metadata": {},
   "outputs": [],
   "source": []
  },
  {
   "cell_type": "markdown",
   "id": "daa240a9",
   "metadata": {},
   "source": [
    "## 타임아웃 처리 "
   ]
  },
  {
   "cell_type": "code",
   "execution_count": 6,
   "id": "53f5b88d",
   "metadata": {},
   "outputs": [
    {
     "name": "stdout",
     "output_type": "stream",
     "text": [
      "Emitting 1\n",
      "1\n",
      "Emitting 2\n",
      "2\n",
      "Done\n"
     ]
    }
   ],
   "source": [
    "fun foo(): Flow<Int> = flow {                          // 플로우 빌더 처리\n",
    "    for (i in 1..3) {\n",
    "        delay(100)                                     // 일시중단 \n",
    "        println(\"Emitting $i\")\n",
    "        emit(i)                                        // 플로우 값 처리 \n",
    "    }\n",
    "}\n",
    "\n",
    "fun main() = runBlocking<Unit> {\n",
    "    withTimeoutOrNull(250) {                            // 250ms 후에 시간 초과\n",
    "        foo().collect { value -> println(value) }       // 플로우 종단함수 \n",
    "    }\n",
    "    println(\"Done\")\n",
    "}\n",
    "main()"
   ]
  },
  {
   "cell_type": "code",
   "execution_count": null,
   "id": "ba759200",
   "metadata": {},
   "outputs": [],
   "source": []
  },
  {
   "cell_type": "markdown",
   "id": "715b60aa",
   "metadata": {},
   "source": [
    "## 배열이나 시퀀스를 변환"
   ]
  },
  {
   "cell_type": "code",
   "execution_count": 7,
   "id": "46036ec0",
   "metadata": {},
   "outputs": [
    {
     "name": "stdout",
     "output_type": "stream",
     "text": [
      "class kotlinx.coroutines.flow.FlowKt__BuildersKt$asFlow$$inlined$unsafeFlow$9\n",
      "[kotlinx.coroutines.flow.Flow<[ERROR : Unknown type parameter 0. Please try recompiling module containing \"[container not found]\"]>, kotlin.Any]\n",
      "원소 개수 : 3\n",
      "1\n",
      "2\n",
      "3\n"
     ]
    }
   ],
   "source": [
    "// fun <T> () -> T.asFlow(): Flow<T>              // 함수 자료형의 확장함수  \n",
    "// fun IntRange.asFlow(): Flow<Int>               // 범위의 확장함수 \n",
    "\n",
    "\n",
    "fun main() = runBlocking<Unit> {\n",
    "     val foo =  (1..3).asFlow()\n",
    "     println(foo.javaClass)\n",
    "     println(foo::class.supertypes)\n",
    "     println(\"원소 개수 : \" + foo.count())          // 플로우 종단함수 \n",
    "     foo.collect { value -> println(value) }      // 플로우 종단함수 \n",
    "}\n",
    "\n",
    "main()"
   ]
  },
  {
   "cell_type": "code",
   "execution_count": null,
   "id": "188f4a69",
   "metadata": {},
   "outputs": [],
   "source": []
  },
  {
   "cell_type": "markdown",
   "id": "e4d199f3",
   "metadata": {},
   "source": [
    "## 플로우의 값을 변환하기"
   ]
  },
  {
   "cell_type": "code",
   "execution_count": 8,
   "id": "591b7fc5",
   "metadata": {},
   "outputs": [
    {
     "name": "stdout",
     "output_type": "stream",
     "text": [
      "일시중단함수변환 1\n",
      "일시중단함수변환 2\n",
      "일시중단함수변환 3\n",
      "일반함수변환 1\n",
      "일반함수변환 2\n",
      "일반함수변환 3\n"
     ]
    }
   ],
   "source": [
    "fun convert(request: Int): String {\n",
    "    return \"일반함수변환 $request\"                       // 플로우 값 매핑\n",
    "}\n",
    "\n",
    "suspend fun convertFlow(request: Int): String {\n",
    "    //delay(1000)                                     // 1초 대기\n",
    "    return \"일시중단함수변환 $request\"                    // 플로우 값 매핑 \n",
    "}\n",
    "\n",
    "fun main() = runBlocking<Unit> {\n",
    "    val foo = (1..3).asFlow()                         // 범위를 플로우로 변환 \n",
    "                       .flowOn(Dispatchers.IO)        // 플로우의 컨텍스트 변환\n",
    "    foo.map { it -> convertFlow(it) }                 // 플로우에도 map 으로 변환 처리 가능 \n",
    "        .collect { it -> println(it) }                // 플로우 종단함수 \n",
    "        \n",
    "    foo.map { it -> convert(it) }                     // 플로우에도 map 으로 변환 처리 가능 \n",
    "        .collect { it -> println(it) }                // 플로우 종단함수 \n",
    "\n",
    "}\n",
    "\n",
    "main()"
   ]
  },
  {
   "cell_type": "code",
   "execution_count": null,
   "id": "4df759a1",
   "metadata": {},
   "outputs": [],
   "source": []
  },
  {
   "cell_type": "markdown",
   "id": "d8f06eca",
   "metadata": {},
   "source": [
    "## 시퀀스도 플로우로 변환 가능"
   ]
  },
  {
   "cell_type": "code",
   "execution_count": 9,
   "id": "1fc2a1fc",
   "metadata": {},
   "outputs": [
    {
     "name": "stdout",
     "output_type": "stream",
     "text": [
      "일시중단함수변환 1\n",
      "일시중단함수변환 2\n",
      "일시중단함수변환 3\n",
      "일시중단함수변환 4\n",
      "일반함수변환 1\n",
      "일반함수변환 2\n",
      "일반함수변환 3\n",
      "일반함수변환 4\n"
     ]
    }
   ],
   "source": [
    "fun convert(request: Int): String {\n",
    "    return \"일반함수변환 $request\"                       // 플로우 값 매핑\n",
    "}\n",
    "\n",
    "suspend fun convertFlow(request: Int): String {\n",
    "    delay(1000)                                       // 1초 대기\n",
    "    return \"일시중단함수변환 $request\"                    // 플로우 값 매핑 \n",
    "}\n",
    "\n",
    "fun main() = runBlocking<Unit> {\n",
    "    val foo = listOf(1,2,3,4).asSequence().asFlow()   // 시퀀스를 플로우로 변환 \n",
    "                            .flowOn(Dispatchers.IO)   // 플로우의 컨텍스트 변환\n",
    "    foo.map { it -> convertFlow(it) }                 // 플로우에도 map 으로 변환 처리 가능 \n",
    "        .collect { it -> println(it) }                // 플로우 종단함수 \n",
    "        \n",
    "    foo.map { it -> convert(it) }                     // 플로우에도 map 으로 변환 처리 가능 \n",
    "        .collect { it -> println(it) }                // 플로우 종단함수 \n",
    "\n",
    "}\n",
    "\n",
    "main()"
   ]
  },
  {
   "cell_type": "code",
   "execution_count": null,
   "id": "880031d9",
   "metadata": {},
   "outputs": [],
   "source": []
  },
  {
   "cell_type": "markdown",
   "id": "55e117d5",
   "metadata": {},
   "source": [
    "## 여러 개의 결과로 변환처리"
   ]
  },
  {
   "cell_type": "code",
   "execution_count": 10,
   "id": "76e957fd",
   "metadata": {},
   "outputs": [
    {
     "name": "stdout",
     "output_type": "stream",
     "text": [
      "문자열로 변환 1\n",
      "일반함수변환 1\n",
      "일시중단함수변환 1\n",
      "문자열로 변환 2\n",
      "일반함수변환 2\n",
      "일시중단함수변환 2\n",
      "문자열로 변환 3\n",
      "일반함수변환 3\n",
      "일시중단함수변환 3\n"
     ]
    }
   ],
   "source": [
    "fun convert(request: Int): String {                   // 일반함수 정의 \n",
    "    return \"일반함수변환 $request\"                       // 플로우 값 매핑\n",
    "}\n",
    "\n",
    "suspend fun convertFlow(request: Int): String {       // 일시중단함수 정의 \n",
    "    delay(100)                                        // 1초 대기\n",
    "    return \"일시중단함수변환 $request\"                     // 플로우 값 매핑 \n",
    "}\n",
    "\n",
    "\n",
    "fun main() = runBlocking<Unit> {\n",
    "    val foo = (1..3).asFlow()                          // 배열 -> Flow 변환\n",
    "    \n",
    "    foo.transform { it ->                              // 변환 메소드로 여러 개를 변환 \n",
    "        emit(\"문자열로 변환 $it\")                         // emit으로 flow 처리\n",
    "        emit(convert(it))                              // emit으로 flow 처리\n",
    "        emit(convertFlow(it))                          // emit으로 flow 처리\n",
    "    }.collect { it -> println(it) }                    // 플로우 종단함수 \n",
    "}\n",
    "\n",
    "main()"
   ]
  },
  {
   "cell_type": "code",
   "execution_count": null,
   "id": "ee045798",
   "metadata": {},
   "outputs": [],
   "source": []
  },
  {
   "cell_type": "markdown",
   "id": "21911f88",
   "metadata": {},
   "source": [
    "## 리듀스와 폴드 처리 "
   ]
  },
  {
   "cell_type": "code",
   "execution_count": 11,
   "id": "46b53b4b",
   "metadata": {},
   "outputs": [
    {
     "name": "stdout",
     "output_type": "stream",
     "text": [
      "220\n",
      "220\n",
      "220\n",
      "220\n"
     ]
    }
   ],
   "source": [
    "fun main() { \n",
    "    runBlocking<Unit> {\n",
    "        val sumF1 = (1..10).asFlow()                              // 플로우로 변환\n",
    "        \n",
    "        val sumF2 = sumF1.filter { it % 2 == 0}                   // 필터처리 \n",
    "                    .map {it * it }                               // 변환함수 \n",
    "                    .reduce { accumulator, value \n",
    "                               -> accumulator + value }           // 종단 리듀스 함수 \n",
    "\n",
    "        println(sumF2)\n",
    "        val sumF3 = sumF1.filter { it % 2 == 0}                   // 필터처리 \n",
    "            .map {it * it } \n",
    "            .fold(0) {accumulator, value \n",
    "                             -> accumulator + value }\n",
    "        println(sumF3)\n",
    "    }\n",
    "    \n",
    "    val sumS1 = (1..10).toList().asSequence()                      // 시퀀스 변환   \n",
    "    val sumS2 = sumS1.filter { it % 2 == 0}                        // 필터처리 \n",
    "        .map {it * it }                                            // 변환함수 \n",
    "        .reduce { accumulator, value -> accumulator + value }      // 합산함수 \n",
    "    println(sumS2)\n",
    "    \n",
    "    val sumS3 = sumS1.filter { it % 2 == 0}                        // 필터처리 \n",
    "        .map {it * it } \n",
    "        .fold(0) {accumulator, value -> accumulator + value }      // 폴더연산\n",
    "    println(sumS3)\n",
    "}\n",
    "\n",
    "main()"
   ]
  },
  {
   "cell_type": "code",
   "execution_count": null,
   "id": "f961933e",
   "metadata": {},
   "outputs": [],
   "source": []
  },
  {
   "cell_type": "markdown",
   "id": "4df28544",
   "metadata": {},
   "source": [
    "## 집함수 처리 "
   ]
  },
  {
   "cell_type": "code",
   "execution_count": 12,
   "id": "3e735dc9",
   "metadata": {},
   "outputs": [
    {
     "name": "stdout",
     "output_type": "stream",
     "text": [
      "리스트로 변환 : [one, two, three]\n",
      "뱀으로 변환 : {1=one, 2=two, 3=three}\n"
     ]
    }
   ],
   "source": [
    "fun main() { \n",
    "    var mapF = mutableMapOf<Int, String>()\n",
    "    runBlocking<Unit> {\n",
    "        val nums = (1..3).asFlow()                        // 숫자 플로우\n",
    "        val l = listOf(\"one\", \"two\", \"three\")             // 리스트 생성\n",
    "        val strs = flowOf(*l.toTypedArray())              // 리스트를 플로우로 변환 \n",
    "        println(\"리스트로 변환 : \" + strs.toList())\n",
    "        \n",
    "        nums.zip(strs) { a, b -> a to b }                 // 집을 통해 튜플로 변환\n",
    "            .collect { mapF.put(it.first, it.second) }    // 맵으로 변환\n",
    "        println(\"뱀으로 변환 : \" + mapF)\n",
    "    }\n",
    "}\n",
    "main()"
   ]
  },
  {
   "cell_type": "code",
   "execution_count": null,
   "id": "febf1d81",
   "metadata": {},
   "outputs": [],
   "source": []
  },
  {
   "cell_type": "code",
   "execution_count": null,
   "id": "00009e61",
   "metadata": {},
   "outputs": [],
   "source": []
  },
  {
   "cell_type": "markdown",
   "id": "87fd09fd",
   "metadata": {},
   "source": [
    "## 플로우 취소하기"
   ]
  },
  {
   "cell_type": "code",
   "execution_count": 13,
   "id": "82045158",
   "metadata": {},
   "outputs": [
    {
     "name": "stdout",
     "output_type": "stream",
     "text": [
      "1\n",
      "2\n",
      "3\n",
      "4\n",
      "5\n",
      " 플로우 취소하기 \n"
     ]
    }
   ],
   "source": [
    "fun main() { \n",
    "    \n",
    "    runBlocking<Unit> {                                  // 런블러킹 스코프\n",
    "\n",
    "        val job = launch {                               // 코루틴 빌더 \n",
    "            delay(200)\n",
    "            (1..5).asFlow().collect { println(\"$it\") }   // 플로우 처리 \n",
    "        } \n",
    "        \n",
    "        delay(300)\n",
    "        println(\" 플로우 취소하기 \")                         //  플로우 중단\n",
    "        job.cancel()\n",
    "    }\n",
    "}\n",
    "\n",
    "main()"
   ]
  },
  {
   "cell_type": "code",
   "execution_count": null,
   "id": "6fe2c010",
   "metadata": {},
   "outputs": [],
   "source": []
  },
  {
   "cell_type": "code",
   "execution_count": null,
   "id": "3f264608",
   "metadata": {},
   "outputs": [],
   "source": []
  }
 ],
 "metadata": {
  "kernelspec": {
   "display_name": "Kotlin",
   "language": "kotlin",
   "name": "kotlin"
  },
  "language_info": {
   "codemirror_mode": "text/x-kotlin",
   "file_extension": ".kt",
   "mimetype": "text/x-kotlin",
   "name": "kotlin",
   "nbconvert_exporter": "",
   "pygments_lexer": "kotlin",
   "version": "1.7.0-dev-1825"
  }
 },
 "nbformat": 4,
 "nbformat_minor": 5
}
