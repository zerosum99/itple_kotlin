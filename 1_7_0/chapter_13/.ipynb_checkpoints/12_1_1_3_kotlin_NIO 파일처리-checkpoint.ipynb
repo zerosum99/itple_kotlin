{
 "cells": [
  {
   "cell_type": "markdown",
   "id": "a10c3e48",
   "metadata": {},
   "source": [
    "## 디렉토리 및 파일 확인 : File"
   ]
  },
  {
   "cell_type": "code",
   "execution_count": 4,
   "id": "08311802",
   "metadata": {},
   "outputs": [
    {
     "name": "stdout",
     "output_type": "stream",
     "text": [
      "class java.io.File\n",
      "존재하는 파일 \n",
      "class java.io.File\n",
      "존재하는 디렉토리\n",
      "상위 디렉토리 내의 파일\n"
     ]
    }
   ],
   "source": [
    "import java.io.File\n",
    "\n",
    "val file = File(\"./test.txt\")             // 파일 정보 가져오기\n",
    "println(file.javaClass)                   // 파일 클래스 확인 \n",
    "if (file.exists()) {                      // 파일 확인 \n",
    "    println(\"존재하는 파일 \")\n",
    "}\n",
    "\n",
    "val dir = File(\"../chapter_12\")           // 상위 디렉토리 정보 가져오기\n",
    "println(file.javaClass)                   // 파일 클래스 확인 \n",
    "if (dir.exists()) {                       // 디렉토리 여부 확인 \n",
    "        println(\"존재하는 디렉토리\")\n",
    "}\n",
    "\n",
    "val file2 = File(\"../data/titanic.csv\")   // 상위 디렉토리 파일 정보 가져오기 \n",
    "if (file2.isDirectory) {                  // 디렉토리 여부 확인 \n",
    "    println(\"상위에 존대하는 디렉토리\")\n",
    "}\n",
    "if (file2.isFile) {                       // 파일여부 확인\n",
    "    println(\"상위 디렉토리 내의 파일\")\n",
    "}"
   ]
  },
  {
   "cell_type": "code",
   "execution_count": null,
   "id": "e13a741e",
   "metadata": {},
   "outputs": [],
   "source": []
  },
  {
   "cell_type": "markdown",
   "id": "57bf904b",
   "metadata": {},
   "source": [
    "## 디렉토리 및 파일 확인  : Paths"
   ]
  },
  {
   "cell_type": "code",
   "execution_count": 2,
   "id": "8a3ef5fc",
   "metadata": {},
   "outputs": [
    {
     "name": "stdout",
     "output_type": "stream",
     "text": [
      "path 1 : ../data/titanic.csv\n",
      "path 2 : ../data/titanic.csv\n",
      "path 3 : ../data/titanic.csv\n",
      "존재여부    :  true\n",
      "파일여부    :  true\n",
      "디렉토리여부 :  false\n",
      "파일명  : titanic.csv\n",
      "부모 디렉토리명: data\n",
      "중첩 경로 수 : 3\n",
      "..\n",
      "data\n",
      "titanic.csv\n"
     ]
    }
   ],
   "source": [
    "import java.nio.file.Paths                                 // 패스로 경로 확인 \n",
    "import java.io.File                                        // 파일로 경로 확인 \n",
    "\n",
    "val pathFromFile1 = Paths.get(\"../data/titanic.csv\")       // 패스로 파일경로 확인 \n",
    "println(\"path 1 : $pathFromFile1\")\n",
    "val file = File(\"../data\",\"titanic.csv\")                   // 디렉토리 경로와 파일 분리도 가능 \n",
    "val pathFromFile2 = file.toPath()                          // 패스정보 가져오기\n",
    "println(\"path 2 : $pathFromFile2\")\n",
    "val pathFromFile3 = pathFromFile1.toFile()                 // 패스정보 가져오기 \n",
    "println(\"path 3 : $pathFromFile3\")\n",
    "println(\"존재여부    :  ${pathFromFile3.exists()}\")          // 파일 존재여부 \n",
    "println(\"파일여부    :  ${pathFromFile3.isFile()}\")          // 파일 여부\n",
    "println(\"디렉토리여부 :  ${pathFromFile3.isDirectory}\")       // 디렉토리 여부 \n",
    "  \n",
    "println(\"파일명  : \" + pathFromFile1.getFileName())         // 파일명 출력 \n",
    "println(\"부모 디렉토리명: \" + pathFromFile1 \n",
    "                          .getParent().getFileName())     // 부모 디렉토리명 출력\n",
    "println(\"중첩 경로 수 : \" + pathFromFile1.getNameCount())    // 중첩 경로 수 출력 \n",
    "\n",
    "val iterator = pathFromFile1.iterator()                   // 반복자를 통해 이름 출력\n",
    "while(iterator.hasNext()) {\n",
    "   val temp = iterator.next()\n",
    "   println(temp.getFileName())\n",
    "}"
   ]
  },
  {
   "cell_type": "code",
   "execution_count": null,
   "id": "4902f24d",
   "metadata": {},
   "outputs": [],
   "source": []
  },
  {
   "cell_type": "code",
   "execution_count": null,
   "id": "859dc91a",
   "metadata": {},
   "outputs": [],
   "source": []
  },
  {
   "cell_type": "markdown",
   "id": "65c1a72b",
   "metadata": {},
   "source": [
    "## 파일 읽고 쓰기"
   ]
  },
  {
   "cell_type": "code",
   "execution_count": 3,
   "id": "f1f43706",
   "metadata": {},
   "outputs": [
    {
     "name": "stdout",
     "output_type": "stream",
     "text": [
      "코틀린 파일 처리\n",
      "코틀린 파일 처리\n",
      "코틀린 파일 처리\n",
      "코틀린 파일 처리\n",
      "코틀린으로 개발하기...\n"
     ]
    }
   ],
   "source": [
    "import java.nio.file.Files                                 // 파일처리\n",
    "import java.nio.file.Paths                                 // 경로 처리 \n",
    "import kotlin.text.Charsets                                // 문자세트 지정 \n",
    " \n",
    "val path = Paths.get(\"../data/data.txt\")                   // 패스 확인 \n",
    "Files.lines(path, Charsets.UTF_8)                          // 파일 읽기 : utf-8로 변환\n",
    "                 .forEach { println(it) }                  // 내부 순환으로 각 라인 출력 \n",
    "    \n",
    "Files.readAllLines(path, Charsets.UTF_8)                   // 전체를 읽어서 출력 \n",
    "                 .forEach { println(it) }\n",
    "    \n",
    "val encoded = Files.readAllBytes(path)                      // 바이트로 읽기 \n",
    "var content = String(encoded, Charsets.UTF_8)               // 문자열로 변환 \n",
    "println(content)                                            // 출력 \n",
    "\n",
    "var content1 = String(content.toByteArray(Charsets.UTF_16), // 문자열을 바이트로 변환\n",
    "                      Charsets.UTF_8)                       // 문자세트 변경 \n",
    "println(content)                                            // 출력 \n",
    "\n",
    "val s = \"코틀린으로 개발하기...\"                                 // 파일에 쓸 문자열 \n",
    "val path1 = Paths.get(\"./data1.txt\")                        // 파일 지정 \n",
    "Files.write(path1,s.toByteArray(Charsets.UTF_8))            // 파일에 쓰기\n",
    "\n",
    "Files.lines(path1, Charsets.UTF_8)                          // 파일 읽기\n",
    "                 .forEach { println(it) }                   // 출력하기"
   ]
  },
  {
   "cell_type": "code",
   "execution_count": null,
   "id": "6ef1b984",
   "metadata": {},
   "outputs": [],
   "source": []
  }
 ],
 "metadata": {
  "kernelspec": {
   "display_name": "Kotlin",
   "language": "kotlin",
   "name": "kotlin"
  },
  "language_info": {
   "codemirror_mode": "text/x-kotlin",
   "file_extension": ".kt",
   "mimetype": "text/x-kotlin",
   "name": "kotlin",
   "nbconvert_exporter": "",
   "pygments_lexer": "kotlin",
   "version": "1.7.0-dev-1825"
  }
 },
 "nbformat": 4,
 "nbformat_minor": 5
}
