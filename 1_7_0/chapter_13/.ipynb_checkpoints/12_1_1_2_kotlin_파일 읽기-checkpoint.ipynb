{
 "cells": [
  {
   "cell_type": "markdown",
   "id": "afc7ad2c",
   "metadata": {},
   "source": [
    "## 파일스트림 처리 : 버퍼사용하기 "
   ]
  },
  {
   "cell_type": "code",
   "execution_count": 2,
   "id": "c926ed5c",
   "metadata": {},
   "outputs": [
    {
     "name": "stdout",
     "output_type": "stream",
     "text": [
      "First line\n",
      "Second line\n",
      "\n",
      ">  First line>  Second line\n",
      "First line\n",
      "Second line\n",
      "\n",
      ">  First line>  Second line\n"
     ]
    }
   ],
   "source": [
    "import java.io.File                                          // 파일 처리\n",
    "import java.io.InputStream                                   // 스트림 처리\n",
    "import java.io.BufferedReader                                // 버퍼 처리\n",
    "                                                             // \n",
    "val inputStream: InputStream = File(\"test.txt\")              // 파일을 읽고\n",
    "                               .inputStream()                // 파일을 스트림으로 변환 \n",
    "val inputString = inputStream                                // 스트림을 가지고                        \n",
    "                 .bufferedReader()                           // 버퍼로 변환 \n",
    "                 .use { it.readText() }                      // use로 텍스트로 처리 \n",
    "println(inputString)                                         // 출력\n",
    "\n",
    "val inputStream1 = File(\"test.txt\").inputStream()            // 스트림을 다시 사용하려면 재성성 \n",
    "\n",
    "val lineList1 = mutableListOf<String>()                      // 리스트 하나 만들기 \n",
    "inputStream1.bufferedReader()                                // 버퍼로 만들고 전체를 리스트에 넣기\n",
    "           .useLines { lines -> lines.forEach { lineList1.add(it)} }\n",
    "           \n",
    "lineList1.forEach{print(\">  \" + it)}                         // 출력하기\n",
    "println()\n",
    "\n",
    "var bufferedReader: BufferedReader = File(\"test.txt\")        // 파일을 릭고\n",
    "                                     .bufferedReader()       // 버퍼 처리\n",
    "val inputString2 = bufferedReader.use { it.readText() }      // 버퍼에서 텍스트 읽기\n",
    "println(inputString2)\n",
    "\n",
    "bufferedReader = File(\"test.txt\").bufferedReader()           // 버퍼도 스트림 처리이므로 다시 읽기 \n",
    "val lineList2 = mutableListOf<String>()                      // 저장할 리스트 생성 \n",
    "bufferedReader.useLines { lines -> lines                     // uselines 함수로 배열에 한 라인씩 갱식\n",
    "                                   .forEach { lineList2.add(it) } }\n",
    "lineList2.forEach { print(\">  \" + it) }                      //  배열 출력\n",
    "println()"
   ]
  },
  {
   "cell_type": "code",
   "execution_count": null,
   "id": "033c3d36",
   "metadata": {},
   "outputs": [],
   "source": []
  },
  {
   "cell_type": "markdown",
   "id": "b099ad17",
   "metadata": {},
   "source": [
    "## 파일 스트림으로 처리 "
   ]
  },
  {
   "cell_type": "code",
   "execution_count": 3,
   "id": "a38c0aab",
   "metadata": {},
   "outputs": [
    {
     "name": "stdout",
     "output_type": "stream",
     "text": [
      "바이트 하나 읽기 : 72, H\n",
      "데이터 자료형 확인 : class kotlin.Int\n",
      "Hello world!"
     ]
    }
   ],
   "source": [
    "import java.io.FileInputStream                         // 파일을 스트림으로 입력\n",
    "import java.io.FileOutputStream                        // 파일을 스트림으로 출력\n",
    "\n",
    "val fin = FileInputStream(\"./data.txt\")                // 파일을 읽기\n",
    "var fout = FileOutputStream(\"./dataout.txt\")           // 파일을 쓰기\n",
    "\n",
    "var data = fin.read()                                  // 파일의 데이터 하나 읽기\n",
    "println(\"바이트 하나 읽기 : ${data}, ${data.toChar()}\")    // 하나의 바이트로 처리 \n",
    "println(\"데이터 자료형 확인 : ${data.javaClass.kotlin}\") \n",
    "\n",
    "while (data != -1) {                                   // 순환하기\n",
    "    fout.write(data)                                   // 파일을 쓰기\n",
    "    data =  fin.read()                                 // 파일을 다시 읽기\n",
    "}\n",
    "\n",
    "fin.close()                                            // 파일 닫기 \n",
    "fout.close()                                           // 파일 닫기\n",
    "\n",
    "val fin1 = FileInputStream(\"./dataout.txt\")            // 저장된 파일 읽기 \n",
    "var data1 =  fin1.read()                               // 파일을 하나씩 읽기\n",
    "while (data1 != -1) {                                  // 순환 처리\n",
    "    print(data1.toChar())                              // 정수를 문자로 변환\n",
    "    data1 =  fin1.read()                               // 파일 읽기\n",
    "}\n",
    "\n",
    "fin1.close()                                           // 파일 닫기"
   ]
  },
  {
   "cell_type": "code",
   "execution_count": null,
   "id": "b7369fac",
   "metadata": {},
   "outputs": [],
   "source": []
  },
  {
   "cell_type": "code",
   "execution_count": null,
   "id": "7035dd61",
   "metadata": {},
   "outputs": [],
   "source": []
  },
  {
   "cell_type": "markdown",
   "id": "ff60457e",
   "metadata": {},
   "source": [
    "## 파일을 텍스트로 읽기"
   ]
  },
  {
   "cell_type": "code",
   "execution_count": 4,
   "id": "4da3fee1",
   "metadata": {},
   "outputs": [
    {
     "name": "stdout",
     "output_type": "stream",
     "text": [
      "First line\n",
      "Second line\n",
      "0: First line\n",
      "1: Second line\n",
      "First line\n",
      "Second line\n",
      "\n",
      "First line\n",
      "Second line\n",
      "\n"
     ]
    }
   ],
   "source": [
    "import java.io.File                                           // 파일 처리 \n",
    "import java.io.InputStream                                    // 스트림처리\n",
    "import java.nio.charset.Charset                               // 문자세트 지정 \n",
    "\n",
    "val fileName = \"test.txt\"\n",
    "val lines: List<String> = File(fileName).readLines()          // 파일을 라인으로 일기\n",
    "    \n",
    "lines.forEach { line -> println(line) }                       // 내부 순환을 처리하면서 읽기 \n",
    "\n",
    "val myList = mutableListOf<String>()                          // 리스트 생성하기 \n",
    "File(fileName).useLines { lines -> myList.addAll(lines) }     // 전체 읽은 것을 저장하기 \n",
    "myList.forEachIndexed { i, line -> println(\"${i}: \" + line) } // 인덱스와 값일 읽고 출력하기\n",
    "\n",
    "var content = File(fileName).readText()                       // 파일을 직접 텍스트로 읽기\n",
    "println(content)\n",
    "\n",
    "val myFile = File(fileName)                                   // 파일 확인 \n",
    "var ins: InputStream = myFile.inputStream()                   // 스트림으로 처리 \n",
    "content = ins.readBytes().toString(Charset.defaultCharset())  // 바이트단위로 읽고 문자세트 표시\n",
    "println(content)"
   ]
  },
  {
   "cell_type": "markdown",
   "id": "87cc1ec6",
   "metadata": {},
   "source": [
    "## 파일 처리 : 바이트 단위로 읽기"
   ]
  },
  {
   "cell_type": "code",
   "execution_count": 5,
   "id": "92d9abb1",
   "metadata": {},
   "outputs": [
    {
     "name": "stdout",
     "output_type": "stream",
     "text": [
      "바이트 보기 : 70, 105\n",
      "F\n",
      "70, 105, 114, 115, 116, 32, 108, 105, 110 \n",
      "101, 10, 83, 101, 99, 111, 110, 100 \n",
      "32, 108, 105, 110, 101, 10, "
     ]
    }
   ],
   "source": [
    "import java.io.File\n",
    "\n",
    "val fileName = \"test.txt\"\n",
    "val fileproc = File(fileName)\n",
    "\n",
    "var bytes: ByteArray = fileproc.readBytes()\n",
    "println(\"바이트 보기 : ${bytes.contentToString().slice(1..7)}\")\n",
    "println(bytes.toList().first().toChar())\n",
    "        \n",
    "bytes.forEachIndexed { i, byte -> (                          \n",
    "        if (i == 0) {        \n",
    "            print(\"${byte}, \")\n",
    "        } else if (i % 8 == 0) {\n",
    "            print(\"${byte} \\n\")\n",
    "        } else { \n",
    "            print(\"${byte}, \")\n",
    "        })\n",
    "    }    \n"
   ]
  },
  {
   "cell_type": "code",
   "execution_count": null,
   "id": "7091712f",
   "metadata": {},
   "outputs": [],
   "source": []
  },
  {
   "cell_type": "code",
   "execution_count": null,
   "id": "98c25893",
   "metadata": {},
   "outputs": [],
   "source": []
  },
  {
   "cell_type": "code",
   "execution_count": null,
   "id": "ca4aa077",
   "metadata": {},
   "outputs": [],
   "source": []
  },
  {
   "cell_type": "code",
   "execution_count": null,
   "id": "76ccb612",
   "metadata": {},
   "outputs": [],
   "source": []
  },
  {
   "cell_type": "markdown",
   "id": "df2dcb28",
   "metadata": {},
   "source": [
    "## 파일쓰기  : File"
   ]
  },
  {
   "cell_type": "code",
   "execution_count": 6,
   "id": "7539bb74",
   "metadata": {},
   "outputs": [
    {
     "name": "stdout",
     "output_type": "stream",
     "text": [
      "Writed to file\n",
      "[Today snow is falling.]\n"
     ]
    }
   ],
   "source": [
    "import java.io.File\n",
    "\n",
    "val fileName = \"test3.txt\"\n",
    "val myfile = File(fileName)\n",
    "\n",
    "val content = \"Today snow is falling.\"\n",
    "myfile.writeText(content)\n",
    "\n",
    "println(\"Writed to file\")\n",
    "\n",
    "val lines = File(fileName).readLines()\n",
    "println(lines)"
   ]
  },
  {
   "cell_type": "code",
   "execution_count": null,
   "id": "d54a6301",
   "metadata": {},
   "outputs": [],
   "source": []
  },
  {
   "cell_type": "markdown",
   "id": "dd1d65ba",
   "metadata": {},
   "source": [
    "## 파일쓰기  : PrintWriter"
   ]
  },
  {
   "cell_type": "code",
   "execution_count": 7,
   "id": "b62152ae",
   "metadata": {},
   "outputs": [
    {
     "name": "stdout",
     "output_type": "stream",
     "text": [
      "class java.io.PrintWriter\n",
      "Writed to file\n",
      "class java.io.File\n",
      "[아는 척 하는 것과, 모르는 것에는 , 거의 차이가 없다.]\n"
     ]
    }
   ],
   "source": [
    "import java.io.File                              // 파일처리\n",
    "\n",
    "val fileName = \"test1.txt\"                       // 파일이름 \n",
    "val myfile = File(fileName)                      // 파일가져오기 \n",
    "\n",
    "myfile.printWriter().use { outf ->               // PrintWriter 객체 생성 후 파일을 쓰기 \n",
    "    println(outf.javaClass)\n",
    "    outf.println(\"아는 척 하는 것과\")                // 파일에 첫번째 라인 쓰기\n",
    "    outf.println(\"모르는 것에는 \")                  // 두번째 라인 쓰기\n",
    "    outf.write(\"거의 차이가 없다.\")                  // 세번째 라인 쓰기\n",
    "}                                                // use메소드 : file 자동 종료처리\n",
    "                                                 \n",
    "println(\"Writed to file\")\n",
    "\n",
    "val fileop = File(fileName)                      // 파일 가져오기\n",
    "println(fileop.javaClass.kotlin)                 // 클래스 확인 \n",
    "val lines = fileop.readLines()                   // 파일 내부 읽기 \n",
    "println(lines)                                   // 출력\n"
   ]
  },
  {
   "cell_type": "code",
   "execution_count": 8,
   "id": "48ff7ecb",
   "metadata": {},
   "outputs": [
    {
     "name": "stdout",
     "output_type": "stream",
     "text": [
      "[코틀린 세상. 코틀린에서 파일을 만드는 방법.]\n",
      "[코틀린 세상. 왜 만들었을까?]\n",
      "[코틀린 세상. 재미있는 프로그램언어...]\n"
     ]
    }
   ],
   "source": [
    "import java.io.File\n",
    "import java.io.PrintWriter\n",
    "\n",
    "// content to be written to file\n",
    "val content = \"코틀린 세상. 코틀린에서 파일을 만드는 방법.\"\n",
    "\n",
    "// using java class java.io.PrintWriter\n",
    "val writer = PrintWriter(\"printtest.txt\")\n",
    "writer.append(content)\n",
    "writer.close()\n",
    "\n",
    "var lines = File(\"printtest.txt\").readLines()\n",
    "println(lines)\n",
    "\n",
    "val content1 = \"코틀린 세상. 왜 만들었을까?\"\n",
    " \n",
    "// write content to file\n",
    "File(\"printtest1.txt\").printWriter()\n",
    "    .use { out ->out.println(content1)}\n",
    "lines = File(\"printtest1.txt\").readLines()\n",
    "println(lines)\n",
    "\n",
    "val content2 = \"코틀린 세상. 재미있는 프로그램언어...\"\n",
    "// write content to file\n",
    "File(\"printtest3.txt\").writeText(content2)\n",
    "lines = File(\"printtest3.txt\").readLines()\n",
    "println(lines)"
   ]
  },
  {
   "cell_type": "code",
   "execution_count": null,
   "id": "99afc92f",
   "metadata": {},
   "outputs": [],
   "source": []
  },
  {
   "cell_type": "markdown",
   "id": "ab36f708",
   "metadata": {},
   "source": [
    "## 파일쓰기  : BufferedmWriter"
   ]
  },
  {
   "cell_type": "code",
   "execution_count": 9,
   "id": "a3bbc844",
   "metadata": {},
   "outputs": [
    {
     "name": "stdout",
     "output_type": "stream",
     "text": [
      "[코틀린 세상. 코틀린에서 파일을 만드는 방법.]\n",
      "[코틀린 세상. 심심해서 취미로 코틀린 공부.]\n"
     ]
    }
   ],
   "source": [
    "import java.io.File\n",
    "import java.io.BufferedWriter\n",
    "import java.io.BufferedReader\n",
    "import java.io.FileWriter\n",
    "import java.io.FileReader\n",
    "\n",
    "// content to be written to file\n",
    "val content = \"코틀린 세상. 코틀린에서 파일을 만드는 방법.\"\n",
    "val writer = BufferedWriter(FileWriter(\"printtest1.txt\"))\n",
    "writer.append(content)\n",
    "writer.close()\n",
    "\n",
    "var lines = File(\"printtest1.txt\").readLines()\n",
    "println(lines)\n",
    "\n",
    "val content1 = \"코틀린 세상. 심심해서 취미로 코틀린 공부.\"\n",
    "File(\"printtest1.txt\").bufferedWriter()\n",
    "    .use { out ->out.write(content1)}\n",
    "    \n",
    "val frd = FileReader(\"printtest1.txt\")\n",
    "val buffrd = BufferedReader(frd)\n",
    "lines = buffrd.readLines()\n",
    "println(lines)\n"
   ]
  },
  {
   "cell_type": "code",
   "execution_count": null,
   "id": "ef4f9a18",
   "metadata": {},
   "outputs": [],
   "source": []
  },
  {
   "cell_type": "code",
   "execution_count": 13,
   "id": "b4a4e754",
   "metadata": {},
   "outputs": [
    {
     "name": "stdout",
     "output_type": "stream",
     "text": [
      "class java.io.BufferedWriter\n",
      "Writed to file\n",
      "[한점 부끄럼없이, 살아가는 사람들, 하지만 ...]\n",
      "[한점 부끄럼없이, 살아가는 사람들, 하지만 ...]\n"
     ]
    }
   ],
   "source": [
    "import java.io.File\n",
    "\n",
    "val fileName = \"test2.txt\"\n",
    "val myfile = File(fileName)\n",
    "\n",
    "myfile.bufferedWriter().use { outf ->            // BufferWriter 객체 생성 후 파일쓰기\n",
    "    println(outf.javaClass)\n",
    "    outf.write(\"한점 부끄럼없이\\n\")                   // 첫번째 라인 \n",
    "    outf.write(\"살아가는 사람들\\n\")\n",
    "    outf.write(\"하지만 ...\\n\")\n",
    "}\n",
    "\n",
    "println(\"Writed to file\")\n",
    "val fileop = File(fileName)\n",
    "var lines = fileop.bufferedReader().readLines()   \n",
    "println(lines)\n",
    "\n",
    "lines = fileop.bufferedReader()\n",
    "              .use { outf -> outf.readLines()} \n",
    "println(lines)"
   ]
  },
  {
   "cell_type": "code",
   "execution_count": null,
   "id": "77a8e599",
   "metadata": {},
   "outputs": [],
   "source": []
  }
 ],
 "metadata": {
  "kernelspec": {
   "display_name": "Kotlin",
   "language": "kotlin",
   "name": "kotlin"
  },
  "language_info": {
   "codemirror_mode": "text/x-kotlin",
   "file_extension": ".kt",
   "mimetype": "text/x-kotlin",
   "name": "kotlin",
   "nbconvert_exporter": "",
   "pygments_lexer": "kotlin",
   "version": "1.7.0-dev-1825"
  }
 },
 "nbformat": 4,
 "nbformat_minor": 5
}
