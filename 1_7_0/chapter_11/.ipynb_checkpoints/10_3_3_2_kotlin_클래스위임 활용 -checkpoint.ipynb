{
 "cells": [
  {
   "cell_type": "markdown",
   "id": "102109eb",
   "metadata": {},
   "source": [
    "## 클래스 위임"
   ]
  },
  {
   "cell_type": "code",
   "execution_count": null,
   "id": "3c4c3591",
   "metadata": {},
   "outputs": [],
   "source": []
  },
  {
   "cell_type": "code",
   "execution_count": 1,
   "id": "1c626786",
   "metadata": {},
   "outputs": [],
   "source": [
    "interface Base { \n",
    "   fun print() \n",
    "} \n",
    "\n",
    "class BaseImpl(val x: Int) : Base {\n",
    "   override fun print() { \n",
    "       print(x) \n",
    "    } \n",
    "} \n",
    "\n",
    "class Derived(b: Base) : Base by b \n",
    "\n",
    "fun main() { \n",
    "   val b = BaseImpl(10) \n",
    "   Derived(b).print() \n",
    "   \n",
    "}\n"
   ]
  },
  {
   "cell_type": "code",
   "execution_count": 2,
   "id": "a789dec6",
   "metadata": {},
   "outputs": [
    {
     "name": "stdout",
     "output_type": "stream",
     "text": [
      "10"
     ]
    }
   ],
   "source": [
    "main()"
   ]
  },
  {
   "cell_type": "code",
   "execution_count": 3,
   "id": "a6477e1e",
   "metadata": {},
   "outputs": [],
   "source": [
    "class Derived_(val b : Base)  {\n",
    "    fun print() {\n",
    "        println(\" 함수 내장하기 \")\n",
    "        b.print()\n",
    "    }\n",
    "}"
   ]
  },
  {
   "cell_type": "code",
   "execution_count": 4,
   "id": "6f33d1bb",
   "metadata": {},
   "outputs": [],
   "source": [
    "fun main() { \n",
    "   val b = BaseImpl(10) \n",
    "   Derived_(b).print() \n",
    "   \n",
    "}\n"
   ]
  },
  {
   "cell_type": "code",
   "execution_count": 5,
   "id": "1c991717",
   "metadata": {},
   "outputs": [
    {
     "name": "stdout",
     "output_type": "stream",
     "text": [
      " 함수 내장하기 \n",
      "10"
     ]
    }
   ],
   "source": [
    "main()"
   ]
  },
  {
   "cell_type": "code",
   "execution_count": null,
   "id": "8c1c49b2",
   "metadata": {},
   "outputs": [],
   "source": []
  },
  {
   "cell_type": "code",
   "execution_count": 8,
   "id": "8fcc2ad4",
   "metadata": {},
   "outputs": [],
   "source": [
    "class CounterSetS<T>(\n",
    "   private val innerSet: MutableSet<T> = mutableSetOf()\n",
    ") : MutableSet<T> by innerSet {\n",
    "\n",
    "   var elementsAdded: Int = 0\n",
    "       private set\n",
    "\n",
    "   override fun add(element: T): Boolean {\n",
    "       elementsAdded++\n",
    "       return innerSet.add(element)\n",
    "   }\n",
    "\n",
    "   override fun addAll(elements: Collection<T>): Boolean {\n",
    "       elementsAdded += elements.size\n",
    "       return innerSet.addAll(elements)\n",
    "   }\n",
    "}"
   ]
  },
  {
   "cell_type": "code",
   "execution_count": 10,
   "id": "96cdaa0d",
   "metadata": {},
   "outputs": [
    {
     "name": "stdout",
     "output_type": "stream",
     "text": [
      "5"
     ]
    }
   ],
   "source": [
    "val counterList = CounterSetS<String>()\n",
    "counterList.addAll(listOf(\"A\", \"B\", \"C\",\"D\",\"E\"))\n",
    "print(counterList.elementsAdded) // 5"
   ]
  },
  {
   "cell_type": "code",
   "execution_count": null,
   "id": "20df94bd",
   "metadata": {},
   "outputs": [],
   "source": []
  },
  {
   "cell_type": "code",
   "execution_count": 11,
   "id": "0e871b40",
   "metadata": {},
   "outputs": [],
   "source": [
    "class CountingSet(private val delegate: MutableSet<Long> = HashSet()) : MutableSet<Long> by delegate {\n",
    "\n",
    "    private var addCount = 0L\n",
    "\n",
    "    override fun add(element: Long): Boolean {\n",
    "        addCount++\n",
    "        return delegate.add(element)\n",
    "    }\n",
    "\n",
    "    override fun addAll(elements: Collection<Long>): Boolean {\n",
    "        addCount += elements.size\n",
    "        return delegate.addAll(elements)\n",
    "    }\n",
    "}"
   ]
  },
  {
   "cell_type": "code",
   "execution_count": null,
   "id": "8d5d11af",
   "metadata": {},
   "outputs": [],
   "source": []
  },
  {
   "cell_type": "code",
   "execution_count": 12,
   "id": "eb877320",
   "metadata": {},
   "outputs": [],
   "source": [
    "class MySetMap : Set<Long> by HashSet(), Map<Long, Long> by HashMap() {\n",
    "    override val size: Int\n",
    "        get() = TODO(\"not implemented\")\n",
    "\n",
    "    override fun isEmpty(): Boolean {\n",
    "        TODO(\"not implemented\")\n",
    "    }\n",
    "}"
   ]
  },
  {
   "cell_type": "code",
   "execution_count": null,
   "id": "9285fbdc",
   "metadata": {},
   "outputs": [],
   "source": []
  },
  {
   "cell_type": "code",
   "execution_count": null,
   "id": "a452282e",
   "metadata": {},
   "outputs": [],
   "source": []
  },
  {
   "cell_type": "code",
   "execution_count": null,
   "id": "1bee3d65",
   "metadata": {},
   "outputs": [],
   "source": []
  },
  {
   "cell_type": "code",
   "execution_count": null,
   "id": "f1b4b037",
   "metadata": {},
   "outputs": [],
   "source": []
  },
  {
   "cell_type": "code",
   "execution_count": null,
   "id": "78e0db3e",
   "metadata": {},
   "outputs": [],
   "source": []
  },
  {
   "cell_type": "code",
   "execution_count": null,
   "id": "1135a078",
   "metadata": {},
   "outputs": [],
   "source": []
  },
  {
   "cell_type": "code",
   "execution_count": null,
   "id": "bd4ba52b",
   "metadata": {},
   "outputs": [],
   "source": []
  }
 ],
 "metadata": {
  "kernelspec": {
   "display_name": "Kotlin",
   "language": "kotlin",
   "name": "kotlin"
  },
  "language_info": {
   "codemirror_mode": "text/x-kotlin",
   "file_extension": ".kt",
   "mimetype": "text/x-kotlin",
   "name": "kotlin",
   "nbconvert_exporter": "",
   "pygments_lexer": "kotlin",
   "version": "1.6.0-dev-3567"
  }
 },
 "nbformat": 4,
 "nbformat_minor": 5
}
