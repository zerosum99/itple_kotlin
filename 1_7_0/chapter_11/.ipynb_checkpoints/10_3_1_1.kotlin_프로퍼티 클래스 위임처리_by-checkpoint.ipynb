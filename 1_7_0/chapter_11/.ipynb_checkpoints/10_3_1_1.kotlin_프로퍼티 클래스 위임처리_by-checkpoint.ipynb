{
 "cells": [
  {
   "cell_type": "markdown",
   "id": "c44ef10d-cf81-43df-a5a7-693904daf354",
   "metadata": {},
   "source": [
    "## 1. 프로퍼티 지연 초기화 처리하기 : 위임 처리"
   ]
  },
  {
   "cell_type": "markdown",
   "id": "7e139c6a-6005-4caa-b70c-b9d3d9a2ba56",
   "metadata": {},
   "source": [
    "### 프로퍼티 정의할 때 초기화 처리"
   ]
  },
  {
   "cell_type": "code",
   "execution_count": 1,
   "id": "bffc53ef-e3ae-4974-a931-c0cf4ed21010",
   "metadata": {},
   "outputs": [],
   "source": [
    "val a = 100"
   ]
  },
  {
   "cell_type": "code",
   "execution_count": 2,
   "id": "69d21452",
   "metadata": {},
   "outputs": [
    {
     "data": {
      "text/plain": [
       "100"
      ]
     },
     "execution_count": 2,
     "metadata": {},
     "output_type": "execute_result"
    }
   ],
   "source": [
    "a"
   ]
  },
  {
   "cell_type": "code",
   "execution_count": 3,
   "id": "51821669",
   "metadata": {},
   "outputs": [],
   "source": [
    "fun getName() = \"Dahl\""
   ]
  },
  {
   "cell_type": "markdown",
   "id": "76efef66-1202-40b2-8605-e8765bd60a98",
   "metadata": {
    "tags": []
   },
   "source": [
    "### 프로퍼티 처리할 때 특정 함수의 결과를 정의해서 처리하기"
   ]
  },
  {
   "cell_type": "code",
   "execution_count": 4,
   "id": "376a88c0",
   "metadata": {},
   "outputs": [],
   "source": [
    "val name : String by lazy { getName()}"
   ]
  },
  {
   "cell_type": "code",
   "execution_count": 5,
   "id": "7f7420db",
   "metadata": {},
   "outputs": [
    {
     "data": {
      "text/plain": [
       "Dahl"
      ]
     },
     "execution_count": 5,
     "metadata": {},
     "output_type": "execute_result"
    }
   ],
   "source": [
    "name"
   ]
  },
  {
   "cell_type": "markdown",
   "id": "8cf1e8ed",
   "metadata": {},
   "source": [
    "## 2.  lateinit 은 프리미티브 자료형에 사용 금지"
   ]
  },
  {
   "cell_type": "code",
   "execution_count": 6,
   "id": "424f216c",
   "metadata": {},
   "outputs": [],
   "source": [
    "lateinit var age : String"
   ]
  },
  {
   "cell_type": "code",
   "execution_count": 7,
   "id": "d9033dc7",
   "metadata": {},
   "outputs": [],
   "source": [
    "age = \"100\""
   ]
  },
  {
   "cell_type": "code",
   "execution_count": 8,
   "id": "a48cbe3b",
   "metadata": {},
   "outputs": [
    {
     "data": {
      "text/plain": [
       "100"
      ]
     },
     "execution_count": 8,
     "metadata": {},
     "output_type": "execute_result"
    }
   ],
   "source": [
    "age"
   ]
  },
  {
   "cell_type": "markdown",
   "id": "5e575ea4-a66e-4c24-a3a2-0482b2a975f0",
   "metadata": {},
   "source": [
    "## 3. 클래스의 위임처리하기"
   ]
  },
  {
   "cell_type": "code",
   "execution_count": 9,
   "id": "924874c4",
   "metadata": {},
   "outputs": [],
   "source": [
    "interface Base { \n",
    "   fun print() \n",
    "} \n",
    "\n",
    "class BaseImpl(val x: Int) : Base {\n",
    "   override fun print() { \n",
    "       print(x) \n",
    "    } \n",
    "} \n",
    "\n",
    "class Derived(b: Base) : Base by b \n",
    "\n",
    "fun main() { \n",
    "   val b = BaseImpl(10) \n",
    "   Derived(b).print() \n",
    "   \n",
    "}\n",
    "\n"
   ]
  },
  {
   "cell_type": "code",
   "execution_count": 10,
   "id": "12e186a7",
   "metadata": {},
   "outputs": [
    {
     "name": "stdout",
     "output_type": "stream",
     "text": [
      "10"
     ]
    }
   ],
   "source": [
    "main()"
   ]
  },
  {
   "cell_type": "code",
   "execution_count": 11,
   "id": "fc8f307c",
   "metadata": {},
   "outputs": [],
   "source": [
    "\n",
    "\n",
    "class Derived_(val b : Base)  {\n",
    "    fun print() {\n",
    "        println(\" 함수 내장하기 \")\n",
    "        b.print()\n",
    "    }\n",
    "}"
   ]
  },
  {
   "cell_type": "code",
   "execution_count": 12,
   "id": "094f0830",
   "metadata": {},
   "outputs": [],
   "source": [
    "fun main() { \n",
    "   val b = BaseImpl(10) \n",
    "   Derived_(b).print() \n",
    "   \n",
    "}\n"
   ]
  },
  {
   "cell_type": "code",
   "execution_count": 13,
   "id": "3b6c01cc",
   "metadata": {},
   "outputs": [
    {
     "name": "stdout",
     "output_type": "stream",
     "text": [
      " 함수 내장하기 \n",
      "10"
     ]
    }
   ],
   "source": [
    "main()"
   ]
  },
  {
   "cell_type": "code",
   "execution_count": null,
   "id": "f14ee09f",
   "metadata": {},
   "outputs": [],
   "source": []
  }
 ],
 "metadata": {
  "kernelspec": {
   "display_name": "Kotlin",
   "language": "kotlin",
   "name": "kotlin"
  },
  "language_info": {
   "codemirror_mode": "text/x-kotlin",
   "file_extension": ".kt",
   "mimetype": "text/x-kotlin",
   "name": "kotlin",
   "nbconvert_exporter": "",
   "pygments_lexer": "kotlin",
   "version": "1.6.0-dev-3567"
  }
 },
 "nbformat": 4,
 "nbformat_minor": 5
}
