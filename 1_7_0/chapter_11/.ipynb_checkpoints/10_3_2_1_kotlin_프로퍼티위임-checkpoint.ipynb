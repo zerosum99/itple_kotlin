{
 "cells": [
  {
   "cell_type": "code",
   "execution_count": null,
   "id": "29752b78-bf1e-4207-a53b-90549d167814",
   "metadata": {},
   "outputs": [],
   "source": []
  },
  {
   "cell_type": "code",
   "execution_count": 41,
   "id": "50bd1ebf-7ddf-49c7-9ae8-2221237f29dd",
   "metadata": {},
   "outputs": [],
   "source": [
    "import kotlin.reflect.KProperty"
   ]
  },
  {
   "cell_type": "code",
   "execution_count": 49,
   "id": "531c7f68-65af-4778-a85e-4602f4990714",
   "metadata": {},
   "outputs": [],
   "source": [
    "import kotlin.reflect.KProperty\n",
    "\n",
    "class DelegateSTR {\n",
    "    operator fun getValue(thisRef: Any?, property: KProperty<*>): String {\n",
    "        return \"$thisRef, thank you for delegating '${property.name}'  to me!\"\n",
    "    }\n",
    "\n",
    "    operator fun setValue(thisRef: Any?, property: KProperty<*>, value: String) {\n",
    "        println(\"$value has been assigned to '${property.name}' in $thisRef.\")\n",
    "    }\n",
    "}"
   ]
  },
  {
   "cell_type": "code",
   "execution_count": 50,
   "id": "df9e9ade-df83-477e-87a0-eb478a8e083e",
   "metadata": {},
   "outputs": [],
   "source": [
    "class Foo {\n",
    "    var p : String by DelegateSTR()\n",
    "}"
   ]
  },
  {
   "cell_type": "code",
   "execution_count": 51,
   "id": "54c861f6-10c2-4e0f-90a9-546416c3abe4",
   "metadata": {},
   "outputs": [],
   "source": [
    "val f = Foo()"
   ]
  },
  {
   "cell_type": "code",
   "execution_count": 52,
   "id": "bb788c33-ffcf-48d3-9be1-7f88065bcbf0",
   "metadata": {},
   "outputs": [
    {
     "data": {
      "text/plain": [
       "Line_52$Foo@407ed82e, thank you for delegating 'p'  to me!"
      ]
     },
     "execution_count": 52,
     "metadata": {},
     "output_type": "execute_result"
    }
   ],
   "source": [
    "f.p"
   ]
  },
  {
   "cell_type": "code",
   "execution_count": 28,
   "id": "71ead9d8-0c56-4cbf-bc45-09e92c629d7d",
   "metadata": {},
   "outputs": [
    {
     "name": "stdout",
     "output_type": "stream",
     "text": [
      "xxx has been assigned to 'p' in Line_25$Foo@7248502a.\n"
     ]
    }
   ],
   "source": [
    "f.p = \"xxx\""
   ]
  },
  {
   "cell_type": "code",
   "execution_count": null,
   "id": "54757272-1b68-4f7a-98ed-57a6321294cc",
   "metadata": {},
   "outputs": [],
   "source": []
  },
  {
   "cell_type": "code",
   "execution_count": 73,
   "id": "42fd878d-5128-4ec9-8393-dcde32ee54db",
   "metadata": {},
   "outputs": [],
   "source": [
    "class DelegateS {\n",
    "\n",
    "    private var value: String? = null        \n",
    "\n",
    "    fun getValue(): String {\n",
    "        return value ?: \"초기값\"\n",
    "    }\n",
    "\n",
    "    fun setValue(value: String) {\n",
    "        this.value = value\n",
    "    }\n",
    "}"
   ]
  },
  {
   "cell_type": "code",
   "execution_count": 74,
   "id": "d54a7919-48ad-41a9-9621-31ab444b2bde",
   "metadata": {},
   "outputs": [],
   "source": [
    "class Bar {\n",
    "    val del = DelegateS()\n",
    "    var p : String \n",
    "        get() = del.getValue()\n",
    "        set(value:String) = del.setValue(value)\n",
    "}"
   ]
  },
  {
   "cell_type": "code",
   "execution_count": 75,
   "id": "0e94df86-1c76-49c3-9b58-430cff323404",
   "metadata": {},
   "outputs": [],
   "source": [
    "val b = Bar()"
   ]
  },
  {
   "cell_type": "code",
   "execution_count": 76,
   "id": "a966e5a3-dfc2-48fb-bd85-b2fcbe12c70b",
   "metadata": {},
   "outputs": [
    {
     "data": {
      "text/plain": [
       "초기값"
      ]
     },
     "execution_count": 76,
     "metadata": {},
     "output_type": "execute_result"
    }
   ],
   "source": [
    "b.p"
   ]
  },
  {
   "cell_type": "code",
   "execution_count": 77,
   "id": "df12ace5-7f8e-497f-bb66-85a111d743b0",
   "metadata": {},
   "outputs": [],
   "source": [
    "b.p = \"변경\""
   ]
  },
  {
   "cell_type": "code",
   "execution_count": 78,
   "id": "f4c8f1ee-1bcc-4254-9f52-5909f1ddc493",
   "metadata": {},
   "outputs": [
    {
     "data": {
      "text/plain": [
       "변경"
      ]
     },
     "execution_count": 78,
     "metadata": {},
     "output_type": "execute_result"
    }
   ],
   "source": [
    "b.p"
   ]
  },
  {
   "cell_type": "code",
   "execution_count": null,
   "id": "d2bd7e76-af51-41e9-985f-b78f1d581018",
   "metadata": {},
   "outputs": [],
   "source": []
  },
  {
   "cell_type": "code",
   "execution_count": 43,
   "id": "b6008df8-25b2-43bf-b987-142c9725d081",
   "metadata": {},
   "outputs": [],
   "source": [
    "class DelegateStr {\n",
    "\n",
    "    private var value: String? = null        \n",
    "\n",
    "    operator fun getValue(thisRef: Any?, property: KProperty<*>): String {\n",
    "        return value ?: \"\"\n",
    "    }\n",
    "\n",
    "    operator fun setValue(thisRef: Any?, property: KProperty<*>, value: String) {\n",
    "        this.value = value\n",
    "    }\n",
    "}\n"
   ]
  },
  {
   "cell_type": "code",
   "execution_count": null,
   "id": "8afeb9de-9a25-4ada-8d45-4f13a4861f63",
   "metadata": {},
   "outputs": [],
   "source": []
  },
  {
   "cell_type": "code",
   "execution_count": 35,
   "id": "aeaa1607-ebd9-40b9-ad5b-d37aa5038dd8",
   "metadata": {},
   "outputs": [],
   "source": [
    "class DelegateInt {\n",
    "\n",
    "    private var value: Int? = null        \n",
    "\n",
    "    operator fun getValue(thisRef: Any?, property: KProperty<*>): Int {\n",
    "        return value ?: 0\n",
    "    }\n",
    "\n",
    "    operator fun setValue(thisRef: Any?, property: KProperty<*>, value: Int) {\n",
    "        this.value = value\n",
    "    }\n",
    "}\n"
   ]
  },
  {
   "cell_type": "code",
   "execution_count": null,
   "id": "6eae625f-ff8d-4b8e-a673-1abe018ded1c",
   "metadata": {},
   "outputs": [],
   "source": []
  },
  {
   "cell_type": "code",
   "execution_count": 53,
   "id": "6d5f3591-4858-42c9-8a1f-f445b785471c",
   "metadata": {},
   "outputs": [],
   "source": [
    "class Foo_ {\n",
    "    var p : String by DelegateStr()\n",
    "    var i : Int by DelegateInt()\n",
    "    var x : Int by DelegateInt()\n",
    "}"
   ]
  },
  {
   "cell_type": "code",
   "execution_count": 54,
   "id": "42a1b5a2-fd23-4839-b767-dd4649b465dd",
   "metadata": {},
   "outputs": [],
   "source": [
    "val ff = Foo_()"
   ]
  },
  {
   "cell_type": "code",
   "execution_count": 55,
   "id": "8f679712-efc5-4428-9dbc-3d1caf230206",
   "metadata": {},
   "outputs": [
    {
     "data": {
      "text/plain": []
     },
     "execution_count": 55,
     "metadata": {},
     "output_type": "execute_result"
    }
   ],
   "source": [
    "ff.p "
   ]
  },
  {
   "cell_type": "code",
   "execution_count": 56,
   "id": "933ad9cb-440f-48c2-81ae-c3f4e116e9ab",
   "metadata": {},
   "outputs": [],
   "source": [
    "ff.p = \"재할당\""
   ]
  },
  {
   "cell_type": "code",
   "execution_count": 57,
   "id": "9b95d42e-f1d8-4d66-a271-e91bc10a4320",
   "metadata": {},
   "outputs": [
    {
     "data": {
      "text/plain": [
       "재할당"
      ]
     },
     "execution_count": 57,
     "metadata": {},
     "output_type": "execute_result"
    }
   ],
   "source": [
    "ff.p"
   ]
  },
  {
   "cell_type": "code",
   "execution_count": null,
   "id": "b9548dc6-46a7-427b-8119-4f4b8c36f062",
   "metadata": {},
   "outputs": [],
   "source": []
  },
  {
   "cell_type": "code",
   "execution_count": 58,
   "id": "34621b66-a234-49d2-bbb9-8293739c6837",
   "metadata": {},
   "outputs": [
    {
     "data": {
      "text/plain": [
       "0"
      ]
     },
     "execution_count": 58,
     "metadata": {},
     "output_type": "execute_result"
    }
   ],
   "source": [
    "ff.i"
   ]
  },
  {
   "cell_type": "code",
   "execution_count": 59,
   "id": "cec7439f-33d6-4f3d-92db-c8e6bcced6a8",
   "metadata": {},
   "outputs": [],
   "source": [
    "ff.i = 100"
   ]
  },
  {
   "cell_type": "code",
   "execution_count": 60,
   "id": "d2d08b37-2ebb-402a-9058-876f1b980c20",
   "metadata": {},
   "outputs": [
    {
     "data": {
      "text/plain": [
       "100"
      ]
     },
     "execution_count": 60,
     "metadata": {},
     "output_type": "execute_result"
    }
   ],
   "source": [
    "ff.i"
   ]
  },
  {
   "cell_type": "code",
   "execution_count": 61,
   "id": "8742e5c4-e5fc-4c94-9127-381cce996d10",
   "metadata": {},
   "outputs": [
    {
     "data": {
      "text/plain": [
       "0"
      ]
     },
     "execution_count": 61,
     "metadata": {},
     "output_type": "execute_result"
    }
   ],
   "source": [
    "ff.x"
   ]
  },
  {
   "cell_type": "code",
   "execution_count": 62,
   "id": "60f9c5b0-505c-4fd1-86ad-a68669c71d71",
   "metadata": {},
   "outputs": [],
   "source": [
    "ff.x = 444"
   ]
  },
  {
   "cell_type": "code",
   "execution_count": 63,
   "id": "adb9eed0-7e59-49e2-9f5e-9e065feb3e4a",
   "metadata": {},
   "outputs": [
    {
     "data": {
      "text/plain": [
       "444"
      ]
     },
     "execution_count": 63,
     "metadata": {},
     "output_type": "execute_result"
    }
   ],
   "source": [
    "ff.x"
   ]
  },
  {
   "cell_type": "code",
   "execution_count": 64,
   "id": "419c2cc7-5673-480b-a600-87a7fcc870bc",
   "metadata": {},
   "outputs": [
    {
     "data": {
      "text/plain": [
       "100"
      ]
     },
     "execution_count": 64,
     "metadata": {},
     "output_type": "execute_result"
    }
   ],
   "source": [
    "ff.i"
   ]
  },
  {
   "cell_type": "code",
   "execution_count": null,
   "id": "3b49b604-53e4-4ef9-8c30-c790a1dffe3f",
   "metadata": {},
   "outputs": [],
   "source": []
  }
 ],
 "metadata": {
  "kernelspec": {
   "display_name": "Kotlin",
   "language": "kotlin",
   "name": "kotlin"
  },
  "language_info": {
   "codemirror_mode": "text/x-kotlin",
   "file_extension": ".kt",
   "mimetype": "text/x-kotlin",
   "name": "kotlin",
   "nbconvert_exporter": "",
   "pygments_lexer": "kotlin",
   "version": "1.6.0-dev-3567"
  }
 },
 "nbformat": 4,
 "nbformat_minor": 5
}
