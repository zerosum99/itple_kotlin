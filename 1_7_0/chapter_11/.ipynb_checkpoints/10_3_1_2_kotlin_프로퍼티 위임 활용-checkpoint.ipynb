{
 "cells": [
  {
   "cell_type": "markdown",
   "id": "78d8ea0b",
   "metadata": {},
   "source": [
    "## 사용자 지정 프로퍼티 위임 "
   ]
  },
  {
   "cell_type": "code",
   "execution_count": 1,
   "id": "50bd1ebf-7ddf-49c7-9ae8-2221237f29dd",
   "metadata": {},
   "outputs": [],
   "source": [
    "import kotlin.reflect.KProperty"
   ]
  },
  {
   "cell_type": "code",
   "execution_count": 2,
   "id": "531c7f68-65af-4778-a85e-4602f4990714",
   "metadata": {},
   "outputs": [],
   "source": [
    "class DelegateSTR {\n",
    "    operator fun getValue(thisRef: Any?, property: KProperty<*>): String {\n",
    "        return \"$thisRef, thank you for delegating '${property.name}'  to me!\"\n",
    "    }\n",
    "\n",
    "    operator fun setValue(thisRef: Any?, property: KProperty<*>, value: String) {\n",
    "        println(\"$value has been assigned to '${property.name}' in $thisRef.\")\n",
    "    }\n",
    "}"
   ]
  },
  {
   "cell_type": "code",
   "execution_count": 3,
   "id": "df9e9ade-df83-477e-87a0-eb478a8e083e",
   "metadata": {},
   "outputs": [
    {
     "name": "stdout",
     "output_type": "stream",
     "text": [
      "Line_2$Foo@2a9709a4, thank you for delegating 'p'  to me!\n",
      "xxx has been assigned to 'p' in Line_2$Foo@2a9709a4.\n"
     ]
    }
   ],
   "source": [
    "class Foo {\n",
    "    var p : String by DelegateSTR()\n",
    "}\n",
    "\n",
    "val f = Foo()\n",
    "println(f.p)\n",
    "f.p = \"xxx\""
   ]
  },
  {
   "cell_type": "code",
   "execution_count": null,
   "id": "54757272-1b68-4f7a-98ed-57a6321294cc",
   "metadata": {},
   "outputs": [],
   "source": []
  },
  {
   "cell_type": "code",
   "execution_count": 4,
   "id": "42fd878d-5128-4ec9-8393-dcde32ee54db",
   "metadata": {},
   "outputs": [],
   "source": [
    "class DelegateS {\n",
    "\n",
    "    private var value: String? = null        \n",
    "\n",
    "    fun getValue(): String {\n",
    "        return value ?: \"초기값\"\n",
    "    }\n",
    "\n",
    "    fun setValue(value: String) {\n",
    "        this.value = value\n",
    "    }\n",
    "}\n",
    "\n",
    "class Bar {\n",
    "    val del = DelegateS()\n",
    "    var p : String \n",
    "        get() = del.getValue()\n",
    "        set(value:String) = del.setValue(value)\n",
    "}"
   ]
  },
  {
   "cell_type": "code",
   "execution_count": 5,
   "id": "0e94df86-1c76-49c3-9b58-430cff323404",
   "metadata": {},
   "outputs": [
    {
     "name": "stdout",
     "output_type": "stream",
     "text": [
      "초기값\n",
      "변경\n"
     ]
    }
   ],
   "source": [
    "val b = Bar()\n",
    "\n",
    "println(b.p)\n",
    "b.p = \"변경\"\n",
    "println(b.p)"
   ]
  },
  {
   "cell_type": "code",
   "execution_count": null,
   "id": "d2bd7e76-af51-41e9-985f-b78f1d581018",
   "metadata": {},
   "outputs": [],
   "source": []
  },
  {
   "cell_type": "code",
   "execution_count": 6,
   "id": "b6008df8-25b2-43bf-b987-142c9725d081",
   "metadata": {},
   "outputs": [],
   "source": [
    "class DelegateStr {\n",
    "\n",
    "    private var value: String? = null        \n",
    "\n",
    "    operator fun getValue(thisRef: Any?, property: KProperty<*>): String {\n",
    "        return value ?: \"\"\n",
    "    }\n",
    "\n",
    "    operator fun setValue(thisRef: Any?, property: KProperty<*>, value: String) {\n",
    "        this.value = value\n",
    "    }\n",
    "}\n",
    "\n",
    "class DelegateInt {\n",
    "\n",
    "    private var value: Int? = null        \n",
    "\n",
    "    operator fun getValue(thisRef: Any?, property: KProperty<*>): Int {\n",
    "        return value ?: 0\n",
    "    }\n",
    "\n",
    "    operator fun setValue(thisRef: Any?, property: KProperty<*>, value: Int) {\n",
    "        this.value = value\n",
    "    }\n",
    "}\n"
   ]
  },
  {
   "cell_type": "code",
   "execution_count": 7,
   "id": "6d5f3591-4858-42c9-8a1f-f445b785471c",
   "metadata": {},
   "outputs": [],
   "source": [
    "class Foo_ {\n",
    "    var p : String by DelegateStr()\n",
    "    var i : Int by DelegateInt()\n",
    "    var x : Int by DelegateInt()\n",
    "}"
   ]
  },
  {
   "cell_type": "code",
   "execution_count": 8,
   "id": "42a1b5a2-fd23-4839-b767-dd4649b465dd",
   "metadata": {},
   "outputs": [
    {
     "name": "stdout",
     "output_type": "stream",
     "text": [
      "\n",
      "재할당\n",
      "0\n",
      "100\n",
      "0\n",
      "444\n"
     ]
    }
   ],
   "source": [
    "val ff = Foo_()\n",
    "\n",
    "println(ff.p )\n",
    "ff.p = \"재할당\"\n",
    "println(ff.p )\n",
    "println(ff.i)\n",
    "ff.i = 100\n",
    "println(ff.i)\n",
    "println(ff.x)\n",
    "ff.x = 444\n",
    "println(ff.x)"
   ]
  },
  {
   "cell_type": "code",
   "execution_count": null,
   "id": "b9548dc6-46a7-427b-8119-4f4b8c36f062",
   "metadata": {},
   "outputs": [],
   "source": []
  },
  {
   "cell_type": "code",
   "execution_count": null,
   "id": "3b49b604-53e4-4ef9-8c30-c790a1dffe3f",
   "metadata": {},
   "outputs": [],
   "source": []
  }
 ],
 "metadata": {
  "kernelspec": {
   "display_name": "Kotlin",
   "language": "kotlin",
   "name": "kotlin"
  },
  "language_info": {
   "codemirror_mode": "text/x-kotlin",
   "file_extension": ".kt",
   "mimetype": "text/x-kotlin",
   "name": "kotlin",
   "nbconvert_exporter": "",
   "pygments_lexer": "kotlin",
   "version": "1.6.0-dev-3567"
  }
 },
 "nbformat": 4,
 "nbformat_minor": 5
}
