{
 "cells": [
  {
   "cell_type": "markdown",
   "id": "6a9fef6a",
   "metadata": {},
   "source": [
    "# 1. 속성 위임 : notNull  처리"
   ]
  },
  {
   "cell_type": "markdown",
   "id": "90ab260c",
   "metadata": {},
   "source": [
    "## 가변 속성 위임  : 최상위"
   ]
  },
  {
   "cell_type": "code",
   "execution_count": 1,
   "id": "3ab0a000",
   "metadata": {},
   "outputs": [
    {
     "name": "stdout",
     "output_type": "stream",
     "text": [
      " lateinit 처리 =  초기화 처리  \n",
      " notNull String  처리 = 초기화 처리  \n",
      " notNull Int.    처리 = 100 \n"
     ]
    }
   ],
   "source": [
    "import kotlin.properties.Delegates                 // 코틀린 속성 지연처리 object \n",
    "\n",
    "lateinit var str : String                          // 최상위 속성 지연 초기화는 참조 객체만 가능 \n",
    "// lateinit var int : Int                          // 최상위 속성 지연초기화할 때는 기본 자료형은 불가\n",
    "                             \n",
    "var str1 : String by Delegates.notNull<String>()   // 지연초기화를 문자열을 위임으로 처리하기 \n",
    "var int1 : Int    by Delegates.notNull<Int>()      // 기본 자료형 지연초기화는 속성위임으로 처리 가능\n",
    "\n",
    "//val str2 : String by Delegates.notNull<String>() // val은 재할당 금지라서 지연초기화 사용 못함 \n",
    "//val int2 : Int    by Delegates.notNull<Int>()    // val은 재할당 금지라서 지연초기화 사용 못함 \n",
    "\n",
    "str =\" 초기화 처리 \"                                  // 초기화 처리\n",
    "str1 = \"초기화 처리 \"\n",
    "int1 = 100\n",
    "\n",
    "println(\" lateinit 처리 = $str \")                    // 결과를 출력\n",
    "println(\" notNull String  처리 = $str1 \")\n",
    "println(\" notNull Int.    처리 = $int1 \")\n"
   ]
  },
  {
   "cell_type": "code",
   "execution_count": null,
   "id": "6c58ff40",
   "metadata": {},
   "outputs": [],
   "source": []
  },
  {
   "cell_type": "markdown",
   "id": "c6ec67b5",
   "metadata": {},
   "source": [
    "## 가변 프로퍼티 위임 : 클래스 내부 "
   ]
  },
  {
   "cell_type": "code",
   "execution_count": 2,
   "id": "305d59f2",
   "metadata": {},
   "outputs": [
    {
     "name": "stdout",
     "output_type": "stream",
     "text": [
      "100\n"
     ]
    }
   ],
   "source": [
    "import kotlin.properties.Delegates                  // 코틀린 속성 지연처리 object \n",
    "\n",
    "class Rectangle {                                   // 클래스 작성 \n",
    "    lateinit var area: Area                         // 속성 지연 초기화 \n",
    "    fun initArea(param: Area): Unit {               // 메소드를 작성해서 속성 초기화 \n",
    "        this.area = param                           // 속성 초기화 처리\n",
    "    }\n",
    "}\n",
    "\n",
    "class Area { \n",
    "    var value: Int by Delegates.notNull<Int>()      // 속성 위임으로 지연 초기화 \n",
    "    constructor(value :Int) {                       // 부생성자를 사용해서 속성 초기화 \n",
    "        this.value = value * value\n",
    "    }\n",
    "}\n",
    "\n",
    "val rectangle = Rectangle()                          // 객체 생성 \n",
    "rectangle.initArea(Area(10))                         // 초기화 처리 \n",
    "println(rectangle.area.value)                        // 초기화 결과 확인 \n"
   ]
  },
  {
   "cell_type": "code",
   "execution_count": null,
   "id": "9732fb9b",
   "metadata": {},
   "outputs": [],
   "source": []
  },
  {
   "cell_type": "markdown",
   "id": "bf8a9da6",
   "metadata": {},
   "source": [
    "## 가변 프로퍼티 위임 : 프로퍼티 값 관찰"
   ]
  },
  {
   "cell_type": "code",
   "execution_count": 3,
   "id": "30ad17e3",
   "metadata": {},
   "outputs": [
    {
     "name": "stdout",
     "output_type": "stream",
     "text": [
      "0\n",
      "관찰상태 = false\n",
      "변경전 : 0 변경후 : 10\n",
      "10\n",
      "관찰상태 = true\n"
     ]
    }
   ],
   "source": [
    "import kotlin.properties.Delegates                    // 코틀린 속성 지연처리 object \n",
    "\n",
    "var observed = false                                  \n",
    "var max: Int by Delegates.observable(0) {             // 속성 변경 사항 관찰 :초기값처리 \n",
    "    _ , oldValue, newValue ->                         // 속성, 변경전, 변경후  3개 매개변수 \n",
    "    println(\"변경전 : $oldValue 변경후 : $newValue\")     // 변경값 출력\n",
    "    observed = true                                   // 변경상태 변경 \n",
    "}\n",
    "\n",
    "println(max)                                          // 조회 \n",
    "println(\"관찰상태 = ${observed}\")                       //  현재 상태\n",
    "max = 10                                              // 변경 \n",
    "println(max)                                          \n",
    "println(\"관찰상태 = ${observed}\")                       // 변경후 상태 확인 \n"
   ]
  },
  {
   "cell_type": "code",
   "execution_count": null,
   "id": "7bdee705",
   "metadata": {},
   "outputs": [],
   "source": []
  },
  {
   "cell_type": "markdown",
   "id": "9b031fbd",
   "metadata": {},
   "source": [
    "## 프로퍼티 위임 투표결정"
   ]
  },
  {
   "cell_type": "code",
   "execution_count": 4,
   "id": "d3407c81",
   "metadata": {},
   "outputs": [
    {
     "name": "stdout",
     "output_type": "stream",
     "text": [
      "0\n",
      " 변경전 : 0, 변경후 : 1\n",
      "0\n",
      " 변경전 : 0, 변경후 : 2\n",
      "2\n"
     ]
    }
   ],
   "source": [
    "import kotlin.properties.Delegates                  // 코틀린 속성 지연처리 object \n",
    "\n",
    "var vetoableField: Int by Delegates.vetoable(0) {   // 변경거부 여부 \n",
    "    _, old, new ->                                  // 속성, 변경전, 변경후  3개 매개변수 \n",
    "    println(\" 변경전 : $old, 변경후 : $new\")           // 변경상태 확인 \n",
    "    new % 2 == 0                                    // 조건이 참인 경우 :짝수 값일 경우만 갱신               \n",
    "} \n",
    "\n",
    "println(vetoableField) \n",
    "vetoableField = 1                                   // 홀수일때는 변경되지 않음\n",
    "println(vetoableField) \n",
    "vetoableField = 2                                   // 짝수일때만 값이 변경됨\n",
    "println(vetoableField) \n"
   ]
  },
  {
   "cell_type": "code",
   "execution_count": null,
   "id": "22e8ac35",
   "metadata": {},
   "outputs": [],
   "source": []
  },
  {
   "cell_type": "markdown",
   "id": "445359d9",
   "metadata": {},
   "source": [
    "## 불변 프로퍼티 지연 위임"
   ]
  },
  {
   "cell_type": "markdown",
   "id": "7c5ad989",
   "metadata": {},
   "source": [
    "## 지역변수 지연처리"
   ]
  },
  {
   "cell_type": "code",
   "execution_count": 5,
   "id": "17a83a9c",
   "metadata": {},
   "outputs": [
    {
     "name": "stdout",
     "output_type": "stream",
     "text": [
      "0\n",
      "초기값\n",
      "지연 초기화\n",
      "값 갱신 \n",
      "초기값\n",
      "지연 초기화\n"
     ]
    }
   ],
   "source": [
    "val a :Int by lazy { 0 }                    // 최상위 속성 val 지연 처리  \n",
    "\n",
    "class LazyVar {\n",
    "    val lazya : String by lazy {\"초기값\"}     // 클래스 내의 속성 val 지연 처리\n",
    "    lateinit var lateb : String             // 클래스 내의 속성 \n",
    "}\n",
    "\n",
    "println(a)\n",
    "val lz = LazyVar()                           // 객체 생성 \n",
    "    \n",
    "println(lz.lazya)                            // val 지연은 처음 조회할 때 초기값 처리 \n",
    "lz.lateb = \"지연 초기화\"                        //  var 지연처리 초기화 \n",
    "println(lz.lateb)                            //  갱신 값 확인\n",
    "lz.lateb = \"값 갱신 \"                          //  var 값 갱신 \n",
    "println(lz.lateb)                            //  갱신 값 확인\n",
    "\n",
    "fun func () {\n",
    "    val lazya : String by lazy {\"초기값\"}      // 지역변수 val 지연 \n",
    "    println(lz.lazya)                        // 접근시 초기화\n",
    "    \n",
    "    lateinit var lateb : String              // 지역변수 var 지연          \n",
    "    lz.lateb = \"지연 초기화\"                    // var 초기화 \n",
    "    println(lz.lateb)\n",
    "}\n",
    "\n",
    "func()"
   ]
  },
  {
   "cell_type": "code",
   "execution_count": null,
   "id": "b7d0ee0e",
   "metadata": {},
   "outputs": [],
   "source": []
  },
  {
   "cell_type": "markdown",
   "id": "e9238723",
   "metadata": {},
   "source": [
    "## map을 사용해서 위임처리"
   ]
  },
  {
   "cell_type": "code",
   "execution_count": 6,
   "id": "611b2407",
   "metadata": {},
   "outputs": [
    {
     "name": "stdout",
     "output_type": "stream",
     "text": [
      "문경욱\n",
      "25\n"
     ]
    }
   ],
   "source": [
    "class Person(val map: Map<String, Any?>) {     // 클래스 정의 : 하나의 맵을 속성 정의 \n",
    "    val name: String by map                    // 맵으로 위임처리 \n",
    "    val age: Int by map }                      // 맵으로 위임처리 \n",
    "\n",
    "\n",
    "val user = Person(mapOf(\"name\" to \"문경욱\",      // 맵의 키를 클래스 속성명과 동일하게 처리\n",
    "                        \"age\" to 25 ))         // 맵의 키를 클래스 속성명과 동일하게 처리\n",
    "println(user.name)                              // 객체 이름 확인  \n",
    "println(user.age)                               // 객체 나이 확인 "
   ]
  },
  {
   "cell_type": "code",
   "execution_count": null,
   "id": "139beedd",
   "metadata": {},
   "outputs": [],
   "source": []
  },
  {
   "cell_type": "code",
   "execution_count": 7,
   "id": "3b49b604-53e4-4ef9-8c30-c790a1dffe3f",
   "metadata": {},
   "outputs": [
    {
     "name": "stdout",
     "output_type": "stream",
     "text": [
      "이용석\n",
      "45\n",
      "남궁성\n",
      "50\n"
     ]
    }
   ],
   "source": [
    "class User(val map: Map<String, Any?>) {            // 클래스 생성 : 속성을 맵에 관리\n",
    "    val name: String by map                         // 이름과 나이를 속성 위임\n",
    "    val age: Int     by map\n",
    "}\n",
    "\n",
    "class UserGroup(val map: Map<String, Any?>) {       //  맵의 객체를 관리 : 속성을 맵 관리\n",
    "    val user1 : User by map\n",
    "    val user2 : User by map\n",
    "}\n",
    "\n",
    "val user1 = mapOf(\"name\" to \"이용석\", \"age\" to 45)    // User 객체에 전달될 맵 생성\n",
    "val user2 = mapOf(\"name\" to \"남궁성\", \"age\" to 50)\n",
    "\n",
    "val response = mapOf(\"user1\" to User(user1),        // UserGroup 객체에 전달될 맵 생성 \n",
    "                     \"user2\" to User(user2))\n",
    "\n",
    "val userResponse = UserGroup(response)               // 객체 생성\n",
    "println(userResponse.user1.name)                     // 객체 속성 참조 : 맵에 저장된 것을 조회                \n",
    "println(userResponse.user1.age)                    \n",
    "println(userResponse.user2.name)\n",
    "println(userResponse.user2.age)"
   ]
  },
  {
   "cell_type": "code",
   "execution_count": null,
   "id": "c9b6cc4b",
   "metadata": {},
   "outputs": [],
   "source": []
  }
 ],
 "metadata": {
  "kernelspec": {
   "display_name": "Kotlin",
   "language": "kotlin",
   "name": "kotlin"
  },
  "language_info": {
   "codemirror_mode": "text/x-kotlin",
   "file_extension": ".kt",
   "mimetype": "text/x-kotlin",
   "name": "kotlin",
   "nbconvert_exporter": "",
   "pygments_lexer": "kotlin",
   "version": "1.8.0-dev-3517"
  }
 },
 "nbformat": 4,
 "nbformat_minor": 5
}
