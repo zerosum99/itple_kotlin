{
 "cells": [
  {
   "cell_type": "code",
   "execution_count": 1,
   "id": "c8358c42",
   "metadata": {},
   "outputs": [
    {
     "data": {
      "text/plain": [
       "Current classpath (7 paths):\n",
       "/Users/dahlmoon/anaconda3/envs/kotlin/lib/python3.8/site-packages/run_kotlin_kernel/jars/lib-0.11.0-61.jar\n",
       "/Users/dahlmoon/anaconda3/envs/kotlin/lib/python3.8/site-packages/run_kotlin_kernel/jars/api-0.11.0-61.jar\n",
       "/Users/dahlmoon/anaconda3/envs/kotlin/lib/python3.8/site-packages/run_kotlin_kernel/jars/kotlin-script-runtime-1.7.0-dev-1825.jar\n",
       "/Users/dahlmoon/anaconda3/envs/kotlin/lib/python3.8/site-packages/run_kotlin_kernel/jars/kotlin-reflect-1.6.0.jar\n",
       "/Users/dahlmoon/anaconda3/envs/kotlin/lib/python3.8/site-packages/run_kotlin_kernel/jars/kotlin-stdlib-1.6.0.jar\n",
       "/Users/dahlmoon/anaconda3/envs/kotlin/lib/python3.8/site-packages/run_kotlin_kernel/jars/annotations-13.0.jar\n",
       "/Users/dahlmoon/anaconda3/envs/kotlin/lib/python3.8/site-packages/run_kotlin_kernel/jars/kotlin-stdlib-common-1.6.0.jar"
      ]
     },
     "execution_count": 1,
     "metadata": {},
     "output_type": "execute_result"
    }
   ],
   "source": [
    ":classpath"
   ]
  },
  {
   "cell_type": "code",
   "execution_count": null,
   "id": "b98ece80",
   "metadata": {},
   "outputs": [],
   "source": []
  },
  {
   "cell_type": "code",
   "execution_count": 2,
   "id": "254278e2",
   "metadata": {},
   "outputs": [],
   "source": [
    "@file:DependsOn(\"org.jetbrains.kotlinx:kotlinx-coroutines-core:1.6.1\")"
   ]
  },
  {
   "cell_type": "code",
   "execution_count": 3,
   "id": "612c0d40",
   "metadata": {},
   "outputs": [],
   "source": [
    "import kotlinx.coroutines.*"
   ]
  },
  {
   "cell_type": "code",
   "execution_count": null,
   "id": "a954a623",
   "metadata": {},
   "outputs": [],
   "source": []
  },
  {
   "cell_type": "markdown",
   "id": "72b793fc",
   "metadata": {},
   "source": [
    "## 코루틴 중단 처리 \n",
    "\n",
    "-  예외발생함 "
   ]
  },
  {
   "cell_type": "code",
   "execution_count": 4,
   "id": "c0763ddb",
   "metadata": {},
   "outputs": [
    {
     "name": "stdout",
     "output_type": "stream",
     "text": [
      "코루틴 job 실행 : 0 ...\n",
      "코루틴 job 실행 : 1 ...\n",
      "코루틴 job 실행 : 2 ...\n",
      "메인 처리후 자식 종료\n",
      "중단에 따른 예외 :StandaloneCoroutine was cancelled\n",
      "메인 종료 .\n"
     ]
    }
   ],
   "source": [
    "fun main33() = runBlocking {                            // 런블러킹 스코프 구성 \n",
    "    val job = launch {                                  // 자식 코루틴 \n",
    "        try {\n",
    "                repeat(1000) { i ->                     // 1000 개의 작업 \n",
    "                println(\"코루틴 job 실행 : $i ...\")\n",
    "                delay(500L)                             // 일시중단 \n",
    "                }\n",
    "        } catch(e : Exception) {                        // 작업 종료로 예외 발생 \n",
    "                println(\"중단에 따른 예외 :\" + e.message)   // 예외처리 \n",
    "        }\n",
    "    }  \n",
    "    delay(1300L)                                        // 런블러킹 스코프에서 지연\n",
    "    println(\"메인 처리후 자식 종료\")                         //\n",
    "    job.cancel()                                        // 현재 코루틴 작업 종료\n",
    "    job.join()                                         // 코루틴 작업 종료\n",
    "    println(\"메인 종료 .\")\n",
    "}\n",
    "\n",
    "main33()"
   ]
  },
  {
   "cell_type": "code",
   "execution_count": null,
   "id": "e259ece4",
   "metadata": {},
   "outputs": [],
   "source": []
  },
  {
   "cell_type": "markdown",
   "id": "d4372185",
   "metadata": {},
   "source": [
    "## 예외 처리 핸들러 지정 "
   ]
  },
  {
   "cell_type": "code",
   "execution_count": 5,
   "id": "2ef632b5",
   "metadata": {},
   "outputs": [
    {
     "name": "stdout",
     "output_type": "stream",
     "text": [
      "코루틴 실행 \n",
      "첫번째 코루틴 내에서 예외 발생 \n"
     ]
    }
   ],
   "source": [
    "fun main03() {\n",
    "    val handler = CoroutineExceptionHandler {                     // 예외처리 핸들러 작성 \n",
    "             _, exception -> println(\"예외처리 : $exception\")}\n",
    "    try {\n",
    "        runBlocking {                                             // 런블러킹 스코프 구성   \n",
    "            val job = launch(handler) {                           // 자식 코루틴 \n",
    "                println(\"코루틴 실행 \")\n",
    "                delay(500L)                                       // 일시중단 \n",
    "                throw Exception(\"첫번째 코루틴 내에서 예외 발생 \")\n",
    "            }\n",
    "            delay(1300L)                                          // 런블러킹 스코프에서 지연\n",
    "            println(\"메인 처리후 자식 종료\")                           //\n",
    "            println(\"메인 종료 .\")\n",
    "        }\n",
    "    } catch (e : Exception) {\n",
    "        println(e.message)\n",
    "    }\n",
    "}\n",
    "\n",
    "main03()"
   ]
  },
  {
   "cell_type": "code",
   "execution_count": null,
   "id": "6647fca8",
   "metadata": {},
   "outputs": [],
   "source": []
  },
  {
   "cell_type": "markdown",
   "id": "012696a7",
   "metadata": {},
   "source": [
    "## 전역스코프에 예외핸들러 지정"
   ]
  },
  {
   "cell_type": "code",
   "execution_count": 6,
   "id": "dd7ce791",
   "metadata": {},
   "outputs": [
    {
     "name": "stdout",
     "output_type": "stream",
     "text": [
      "코루틴 실행 1 \n",
      "코루틴 실행 2\n",
      "예외처리 : java.lang.Exception: 첫번째 코루틴 내에서 예외 발생 \n",
      "메인 처리후 자식 종료\n",
      "메인 종료 .\n"
     ]
    }
   ],
   "source": [
    "fun main13() {\n",
    "    val handler = CoroutineExceptionHandler {                     // 예외처리 핸들러 작성 \n",
    "             _, exception -> println(\"예외처리 : $exception\")}\n",
    "                                                                  // 코루틴에 예외처리가 가능\n",
    "    GlobalScope.launch(handler) {                                 // 자식 코루틴에 핸들러 처리\n",
    "            launch {\n",
    "                println(\"코루틴 실행 1 \")\n",
    "                delay(500L)                                       // 일시중단 \n",
    "                throw Exception(\"첫번째 코루틴 내에서 예외 발생 \")       // 예외발생 \n",
    "            }\n",
    "            \n",
    "            launch {\n",
    "                println(\"코루틴 실행 2\")\n",
    "                delay(500L)                                       // 일시중단 \n",
    "            }    \n",
    "    }\n",
    "            \n",
    "    Thread.sleep(1300L)                                           // 런블러킹 스코프에서 지연\n",
    "    println(\"메인 처리후 자식 종료\")                                   //\n",
    "    println(\"메인 종료 .\")\n",
    "}\n",
    "\n",
    "main13()"
   ]
  },
  {
   "cell_type": "code",
   "execution_count": null,
   "id": "ef69d353",
   "metadata": {},
   "outputs": [],
   "source": []
  },
  {
   "cell_type": "markdown",
   "id": "2c6aed15",
   "metadata": {},
   "source": [
    "## 수퍼바이저 스코프로 처리 "
   ]
  },
  {
   "cell_type": "code",
   "execution_count": 7,
   "id": "8b1a1d3f",
   "metadata": {},
   "outputs": [
    {
     "name": "stdout",
     "output_type": "stream",
     "text": [
      "메인 처리후 자식 종료\n",
      "코루틴 실행 \n",
      "예외를 다시 전달\n",
      "첫번째 코루틴 내에서 예외 발생 \n",
      "메인 종료 .\n"
     ]
    }
   ],
   "source": [
    "fun main23() = runBlocking {\n",
    "\n",
    "    try {  \n",
    "        supervisorScope {                                        // 수퍼바이저스코프로 예외 처리\n",
    "            val job = async  {                                   // 어싱크에서 예외가 발생하면 부모에게 전달 자러\n",
    "                println(\"코루틴 실행 \")\n",
    "                delay(500L)                                       // 일시중단 \n",
    "                throw Exception(\"첫번째 코루틴 내에서 예외 발생 \")       // 예외발생 \n",
    "            }\n",
    "                                                \n",
    "            println(\"메인 처리후 자식 종료\")                           // \n",
    "            try {                                                 // 부모에게 예외를 던져서 실제 처리가 안됨 \n",
    "                job.await()\n",
    "            } catch(e:Exception) {                                // 수퍼바이저스코프로 처리해야 예외전파가 중단됨\n",
    "                println(\"예외를 다시 전달\")                           // 예외를 다시 전달해서 출력됨\n",
    "                println(e.message)\n",
    "            }\n",
    "            println(\"메인 종료 .\")\n",
    "        }\n",
    "    } catch (e : Exception) {                                     // 수퍼바이저스코프 내에서 예외처리해서 \n",
    "        println(\"부모영역까지 예외전달 \")                               // 예외처리하지 않믐\n",
    "        println(e.message)\n",
    "    }\n",
    "}\n",
    "\n",
    "main23()"
   ]
  },
  {
   "cell_type": "code",
   "execution_count": null,
   "id": "dee235e8",
   "metadata": {},
   "outputs": [],
   "source": []
  },
  {
   "cell_type": "markdown",
   "id": "16e0758a",
   "metadata": {},
   "source": [
    "## 수퍼바이져스코프로 예외 처리 "
   ]
  },
  {
   "cell_type": "code",
   "execution_count": 13,
   "id": "4df89b7c",
   "metadata": {},
   "outputs": [
    {
     "name": "stdout",
     "output_type": "stream",
     "text": [
      "잠시 중단\n",
      "잠시 중단 2\n",
      "예외 발생 시킴 \n",
      "자식 코루틴 중단처리 \n",
      "예외 갭처  , 자식들에게 전파\n",
      "잠시 중단 3\n",
      "다시 시작 3 \n"
     ]
    }
   ],
   "source": [
    "// suspend fun <R> supervisorScope(                  // 수퍼바이저스코프도 일시중단함수\n",
    "// block: suspend CoroutineScope.() -> R): R         // 매개변수로 람다표현식 받음 \n",
    "\n",
    "fun main31() = runBlocking {                          // 최상위 부모 코루틴\n",
    "    try { \n",
    "        supervisorScope {                             // 수퍼바이저 스코프로 처리 \n",
    "            val firstchild = launch {                 // 첫번째 자식 코루틴 \n",
    "                try { \n",
    "                    println(\"잠시 중단\")                // 실행\n",
    "                    delay(500) \n",
    "                    println(\"다시 시작\")                // 예외발생으로 미실행 \n",
    "                }\n",
    "                finally { \n",
    "                    println(\"자식 코루틴 중단처리 \")       // 예외을 전달을 받아서 처리됨 \n",
    "                } }  \n",
    "            val secondchild = launch {                // 두번째 자식 코루틴 \n",
    "                println(\"잠시 중단 2\")                  // 실행 \n",
    "                delay(1000) \n",
    "                println(\"다시 시작 2\")  }               // 예외 발생으로 미실행\n",
    "            yield() \n",
    "            println(\"예외 발생 시킴 \")                   // 수퍼바이저스코프 자식 코루틴에게만 예외 전달\n",
    "            throw AssertionError(\"자식들에게 전파\")       // 예외 발생 \n",
    "        } \n",
    "    } \n",
    "    catch(e: AssertionError) { \n",
    "        println(\"예외 갭처  , ${e.message}\") \n",
    "    } \n",
    "    val job = GlobalScope.launch {                    // 수퍼바이저스코프와 형제 코루틴 \n",
    "        println(\"잠시 중단 3\")                          // 에외와 상관없이 처리\n",
    "        delay(1000) \n",
    "        println(\"다시 시작 3 \")\n",
    "    }\n",
    "    delay(2000)\n",
    "}\n",
    "main31()"
   ]
  },
  {
   "cell_type": "code",
   "execution_count": null,
   "id": "3a254a70",
   "metadata": {},
   "outputs": [],
   "source": []
  },
  {
   "cell_type": "markdown",
   "id": "f2d81787",
   "metadata": {},
   "source": [
    "## 수퍼바이저 잡 처리"
   ]
  },
  {
   "cell_type": "code",
   "execution_count": 9,
   "id": "463c3028",
   "metadata": {},
   "outputs": [
    {
     "name": "stdout",
     "output_type": "stream",
     "text": [
      "첫번째 코루틴 실행 \n",
      "예외처리 : java.lang.AssertionError: 첫번째 코루틴 내에서 예외 발생 \n",
      "첫번째 코루틴 상태: true\n",
      "수퍼바이저로 중단 처리 \n",
      "두번째 코루틴 처리 \n"
     ]
    }
   ],
   "source": [
    "// fun SupervisorJob(parent: Job? = null)                            // 수퍼바이저잡 함수 \n",
    "// : CompletableJob                                                  // 잡을 반환\n",
    "// interface CompletableJob : Job                                    // 컴플리터블잡 인터페이스 \n",
    "// interface Job : CoroutineContext.Element                          // 잡도 코루틴 컨텍스트의 엘리먼트\n",
    "fun main32() = runBlocking { \n",
    "    val supervisor = SupervisorJob()                                 // 수퍼바이저 잡 지정 \n",
    "    val handler = CoroutineExceptionHandler {                        // 예외처리 핸들러 작성 \n",
    "             _, exception -> println(\"예외처리 : $exception\")}\n",
    "    try { \n",
    "        with(CoroutineScope(coroutineContext \n",
    "                            + supervisor)) { \n",
    "            val firstChild = launch(handler) {                        // 코루틴에 예외처리 전달 \n",
    "                println(\"첫번째 코루틴 실행 \") \n",
    "                throw AssertionError(\"첫번째 코루틴 내에서 예외 발생 \")      // 예외발생 \n",
    "            } \n",
    "            val secondChild = launch {     \n",
    "                firstChild.join()                                     // 첫번째 코루틴 조인 \n",
    "                println(\"첫번째 코루틴 상태: ${firstChild.isCancelled}\" ) // 첫번째 코루틴 상태 \n",
    "                try { \n",
    "                    delay(Long.MAX_VALUE) \n",
    "                } \n",
    "                finally {                                              // 중단해서 반드시 처리  \n",
    "                    println(\"두번째 코루틴 처리 \") \n",
    "                } \n",
    "            }                                                          \n",
    "            firstChild.join()                                          // 첫번째 코루틴 중\n",
    "            println(\"수퍼바이저로 중단 처리 \") \n",
    "            supervisor.cancel()                                        // 수퍼바이저 중단 \n",
    "            secondChild.join()                                         // 두번째 코루틴 중단  \n",
    "        }\n",
    "    } catch (e: CancellationException) { \n",
    "             println(\"전체 코루틴 완료 !\") \n",
    "    } \n",
    "}\n",
    "main32()"
   ]
  },
  {
   "cell_type": "code",
   "execution_count": null,
   "id": "42132b68",
   "metadata": {},
   "outputs": [],
   "source": []
  },
  {
   "cell_type": "code",
   "execution_count": null,
   "id": "1d0bbfc5",
   "metadata": {},
   "outputs": [],
   "source": []
  },
  {
   "cell_type": "code",
   "execution_count": null,
   "id": "7d01ced9",
   "metadata": {},
   "outputs": [],
   "source": []
  }
 ],
 "metadata": {
  "kernelspec": {
   "display_name": "Kotlin",
   "language": "kotlin",
   "name": "kotlin"
  },
  "language_info": {
   "codemirror_mode": "text/x-kotlin",
   "file_extension": ".kt",
   "mimetype": "text/x-kotlin",
   "name": "kotlin",
   "nbconvert_exporter": "",
   "pygments_lexer": "kotlin",
   "version": "1.8.0-dev-3517"
  }
 },
 "nbformat": 4,
 "nbformat_minor": 5
}
