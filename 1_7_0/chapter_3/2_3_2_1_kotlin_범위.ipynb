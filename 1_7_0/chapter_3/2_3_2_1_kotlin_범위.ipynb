{
 "cells": [
  {
   "cell_type": "markdown",
   "id": "09acccf0",
   "metadata": {},
   "source": [
    "## 1. 범위 "
   ]
  },
  {
   "cell_type": "code",
   "execution_count": 1,
   "id": "68a0c475",
   "metadata": {},
   "outputs": [
    {
     "name": "stdout",
     "output_type": "stream",
     "text": [
      "true\n",
      "range2 first= 1\n",
      "range2 last= 10\n",
      "range3 first= 1\n",
      "range3 last= 9\n",
      "range4 first= 10\n",
      "range4 last= 1\n"
     ]
    }
   ],
   "source": [
    "val range1 = 1..10           // 순방향 범위 설정 \n",
    "val range2 = 1.rangeTo(10)\n",
    "println(range1 == range2)\n",
    "println(\"range2 first= ${range2.first}\" )\n",
    "println(\"range2 last= ${range2.last}\")\n",
    "\n",
    "val range3 = 1.until(10)     // 순방향 범위설정이지만 마지막 미포함\n",
    "println(\"range3 first= ${range3.first}\" )\n",
    "println(\"range3 last= ${range3.last}\")\n",
    "\n",
    "val range4 = 10.downTo(1)    // 역방향 범위설정 \n",
    "println(\"range4 first= ${range4.first}\" )\n",
    "println(\"range4 last= ${range4.last}\")"
   ]
  },
  {
   "cell_type": "code",
   "execution_count": null,
   "id": "a0a4c4a3",
   "metadata": {},
   "outputs": [],
   "source": []
  },
  {
   "cell_type": "markdown",
   "id": "c3dc4571",
   "metadata": {},
   "source": [
    "## 진행 처리"
   ]
  },
  {
   "cell_type": "code",
   "execution_count": 2,
   "id": "46fa2299",
   "metadata": {},
   "outputs": [
    {
     "name": "stdout",
     "output_type": "stream",
     "text": [
      "class kotlin.ranges.IntProgression\n",
      "range5 first= 1\n",
      "range5 last= 9\n",
      "range5 step= 2\n"
     ]
    }
   ],
   "source": [
    "val range5 = 1.rangeTo(10).step(2)       //범위를 만든 후에 step 메소드로 진행객체로 변환\n",
    "\n",
    "println(range5.javaClass.kotlin)\n",
    "println(\"range5 first= ${range5.first}\" )\n",
    "println(\"range5 last= ${range5.last}\")    //진행에 맞춰서 필요없는 마지막 값 수정\n",
    "println(\"range5 step= ${range5.step}\")"
   ]
  },
  {
   "cell_type": "code",
   "execution_count": null,
   "id": "e4f91baf",
   "metadata": {},
   "outputs": [],
   "source": []
  },
  {
   "cell_type": "code",
   "execution_count": null,
   "id": "7e06a972",
   "metadata": {},
   "outputs": [],
   "source": []
  },
  {
   "cell_type": "code",
   "execution_count": null,
   "id": "d9a53e8c",
   "metadata": {},
   "outputs": [],
   "source": []
  }
 ],
 "metadata": {
  "kernelspec": {
   "display_name": "Kotlin",
   "language": "kotlin",
   "name": "kotlin"
  },
  "language_info": {
   "codemirror_mode": "text/x-kotlin",
   "file_extension": ".kt",
   "mimetype": "text/x-kotlin",
   "name": "kotlin",
   "nbconvert_exporter": "",
   "pygments_lexer": "kotlin",
   "version": "1.7.0-dev-1825"
  }
 },
 "nbformat": 4,
 "nbformat_minor": 5
}
