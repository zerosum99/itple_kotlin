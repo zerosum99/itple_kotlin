{
 "cells": [
  {
   "cell_type": "markdown",
   "id": "3fd9be1c",
   "metadata": {},
   "source": [
    "## 범위를 실행히보기 "
   ]
  },
  {
   "cell_type": "code",
   "execution_count": 1,
   "id": "2f059e04",
   "metadata": {},
   "outputs": [
    {
     "name": "stdout",
     "output_type": "stream",
     "text": [
      "1,2,3,4,5,6,7,8,9,10,\n",
      "a,b,c,d,e,f,g,h,i,j,k,l,m,n,o,p,q,r,s,t,u,v,w,x,y,z,"
     ]
    }
   ],
   "source": [
    "val i = 1..10\n",
    "val c = 'a'..'z'\n",
    "\n",
    "val iIter = i.iterator()                    //정수범위를 반복자로 처리\n",
    "val cIter = c.iterator()                    //문자범위를 반복자로 처리\n",
    "\n",
    "iIter.forEach { print(it.toString()+\",\") }  //내부 순환\n",
    "\n",
    "println()\n",
    "for (i in cIter) print(i+\",\")               // 외부 순환"
   ]
  },
  {
   "cell_type": "code",
   "execution_count": null,
   "id": "9a0ce489",
   "metadata": {},
   "outputs": [],
   "source": []
  },
  {
   "cell_type": "code",
   "execution_count": 2,
   "id": "10f2cbcb",
   "metadata": {},
   "outputs": [
    {
     "name": "stdout",
     "output_type": "stream",
     "text": [
      "a\n",
      "b\n",
      "c\n",
      "a\n",
      "b\n",
      "c\n"
     ]
    }
   ],
   "source": [
    "val r = ('a'..'c').iterator()  // 반복자 처리\n",
    "while (r.hasNext()) {          // 외부 순환\n",
    "    println(r.next())          // 반복자내의 원소를 하나씩 조회 \n",
    "}\n",
    "\n",
    "('a'..'c').forEach(::println)   // 내부 순환"
   ]
  },
  {
   "cell_type": "code",
   "execution_count": null,
   "id": "ad4aa4ad",
   "metadata": {},
   "outputs": [],
   "source": []
  },
  {
   "cell_type": "code",
   "execution_count": null,
   "id": "e4f91baf",
   "metadata": {},
   "outputs": [],
   "source": []
  },
  {
   "cell_type": "code",
   "execution_count": null,
   "id": "7e06a972",
   "metadata": {},
   "outputs": [],
   "source": []
  },
  {
   "cell_type": "code",
   "execution_count": null,
   "id": "d9a53e8c",
   "metadata": {},
   "outputs": [],
   "source": []
  }
 ],
 "metadata": {
  "kernelspec": {
   "display_name": "Kotlin",
   "language": "kotlin",
   "name": "kotlin"
  },
  "language_info": {
   "codemirror_mode": "text/x-kotlin",
   "file_extension": ".kt",
   "mimetype": "text/x-kotlin",
   "name": "kotlin",
   "nbconvert_exporter": "",
   "pygments_lexer": "kotlin",
   "version": "1.7.0-dev-1825"
  }
 },
 "nbformat": 4,
 "nbformat_minor": 5
}
