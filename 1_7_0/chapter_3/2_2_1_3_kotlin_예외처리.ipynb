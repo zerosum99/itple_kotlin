{
 "cells": [
  {
   "cell_type": "markdown",
   "id": "4a9b1b2b",
   "metadata": {},
   "source": [
    "# 1. 예외 발생"
   ]
  },
  {
   "cell_type": "code",
   "execution_count": 10,
   "id": "a5dbf302",
   "metadata": {},
   "outputs": [
    {
     "name": "stdout",
     "output_type": "stream",
     "text": [
      " 정상적으로 처리 \n"
     ]
    }
   ],
   "source": [
    "fun add() = 100\n",
    "\n",
    "try {                         // 예외발생지점에 정의 \n",
    "   add()\n",
    "} catch (e : Exception) {     // 예외 잡기\n",
    "    println(e)\n",
    "} finally {                   // 필수적으로 처리\n",
    "    println(\" 정상적으로 처리 \")\n",
    "}"
   ]
  },
  {
   "cell_type": "code",
   "execution_count": null,
   "id": "431e6e55",
   "metadata": {},
   "outputs": [],
   "source": []
  },
  {
   "cell_type": "code",
   "execution_count": 9,
   "id": "6ad1581a",
   "metadata": {},
   "outputs": [
    {
     "name": "stdout",
     "output_type": "stream",
     "text": [
      "java.lang.Exception:  예외 발생\n",
      " 정상적으로 처리 \n"
     ]
    }
   ],
   "source": [
    "try {                            // 예외발생 \n",
    "    throw Exception(\" 예외 발생\")  // 예외던지기 \n",
    "} catch (e : Exception) {        // 예외 잡기\n",
    "    println(e) \n",
    "} finally {                      // 필수적으로 처리\n",
    "    println(\" 정상적으로 처리 \")\n",
    "}"
   ]
  },
  {
   "cell_type": "code",
   "execution_count": null,
   "id": "426f5f9b",
   "metadata": {},
   "outputs": [],
   "source": []
  },
  {
   "cell_type": "code",
   "execution_count": null,
   "id": "8c784005",
   "metadata": {},
   "outputs": [],
   "source": []
  },
  {
   "cell_type": "markdown",
   "id": "cad94c8c",
   "metadata": {},
   "source": [
    "# 2. 예외 잡기"
   ]
  },
  {
   "cell_type": "code",
   "execution_count": 3,
   "id": "04afb98e",
   "metadata": {},
   "outputs": [
    {
     "name": "stdout",
     "output_type": "stream",
     "text": [
      "java.lang.Exception:  예외 발생\n"
     ]
    }
   ],
   "source": [
    "fun except() : Nothing {\n",
    "    return throw throw Exception(\" 예외 발생\")\n",
    "}\n",
    "\n",
    "try {\n",
    "    except()\n",
    "} catch (e : Exception) {\n",
    "    println(e)\n",
    "}"
   ]
  },
  {
   "cell_type": "markdown",
   "id": "c66de2f6",
   "metadata": {},
   "source": [
    "## 표현식 사용"
   ]
  },
  {
   "cell_type": "code",
   "execution_count": 4,
   "id": "f16b2a8f",
   "metadata": {},
   "outputs": [
    {
     "name": "stdout",
     "output_type": "stream",
     "text": [
      "100\n"
     ]
    }
   ],
   "source": [
    "val x = try {\n",
    "    100\n",
    "} catch (e : Exception) {\n",
    "    200\n",
    "} finally {\n",
    "    300\n",
    "}\n",
    "\n",
    "println(x)"
   ]
  },
  {
   "cell_type": "code",
   "execution_count": null,
   "id": "a12339bb",
   "metadata": {},
   "outputs": [],
   "source": []
  },
  {
   "cell_type": "code",
   "execution_count": 7,
   "id": "4c0656c1",
   "metadata": {},
   "outputs": [
    {
     "name": "stdout",
     "output_type": "stream",
     "text": [
      "200\n"
     ]
    }
   ],
   "source": [
    "fun add_ex() : Nothing = throw Exception(\"예외\")\n",
    "\n",
    "val y = try {\n",
    "   add_ex()\n",
    "} catch (e : Exception) {   // 예외발생 \n",
    "    200                     // 예외처리로 정상적인 값 반환 \n",
    "} finally {\n",
    "    300\n",
    "}\n",
    "\n",
    "println(y)                  // 예외가 아닌 정상값 처리"
   ]
  },
  {
   "cell_type": "code",
   "execution_count": null,
   "id": "b507e642",
   "metadata": {},
   "outputs": [],
   "source": []
  }
 ],
 "metadata": {
  "kernelspec": {
   "display_name": "Kotlin",
   "language": "kotlin",
   "name": "kotlin"
  },
  "language_info": {
   "codemirror_mode": "text/x-kotlin",
   "file_extension": ".kt",
   "mimetype": "text/x-kotlin",
   "name": "kotlin",
   "nbconvert_exporter": "",
   "pygments_lexer": "kotlin",
   "version": "1.7.0-dev-1825"
  }
 },
 "nbformat": 4,
 "nbformat_minor": 5
}
