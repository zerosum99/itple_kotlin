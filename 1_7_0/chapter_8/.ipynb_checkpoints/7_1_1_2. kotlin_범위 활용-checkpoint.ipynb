{
 "cells": [
  {
   "cell_type": "markdown",
   "id": "a49f7425",
   "metadata": {},
   "source": [
    "##  스프레이드 연산 처리"
   ]
  },
  {
   "cell_type": "code",
   "execution_count": 1,
   "id": "80a5b0ab",
   "metadata": {},
   "outputs": [
    {
     "name": "stdout",
     "output_type": "stream",
     "text": [
      "class kotlin.Array\n",
      "class kotlin.Array\n"
     ]
    }
   ],
   "source": [
    "fun toArray(lst: IntRange): Array<Int> =    // 함수는 기본으로 객체를 인자로 전달 \n",
    "    lst.toList().toTypedArray()\n",
    "\n",
    "fun IntRange.toArray_(): Array<Int> =         //확장함수는 기본 객체 사용\n",
    "    this.toList().toTypedArray()\n",
    "    \n",
    "val iR = (0..10)\n",
    "\n",
    "val rl = toArray(iR)                         //함수를 사용해서 범위를 배열로 \n",
    "\n",
    "val iR1 = (0..10)\n",
    "\n",
    "val rl1 = toArray(iR1)                        //함수를 사용해서 범위를 배열로 \n",
    "println(rl1.javaClass.kotlin)\n",
    "\n",
    "val r21 = iR.toArray_()                       //확장함수를 사용해서 범위를 배열로\n",
    "println(r21.javaClass.kotlin)"
   ]
  },
  {
   "cell_type": "code",
   "execution_count": 2,
   "id": "af05ce98",
   "metadata": {},
   "outputs": [
    {
     "name": "stdout",
     "output_type": "stream",
     "text": [
      "0\n",
      "10\n",
      "11\n",
      "11\n"
     ]
    }
   ],
   "source": [
    "val ls = listOf<Int>(*rl)\n",
    "\n",
    "if (ls.isEmpty()) {\n",
    "    println(\" 원소가 없습니다. \")\n",
    "}else {\n",
    "    println(ls.indexOf(0))\n",
    "    println(ls.lastIndexOf(10))\n",
    "    println(ls.count())\n",
    "    println(ls.size)\n",
    "}"
   ]
  },
  {
   "cell_type": "code",
   "execution_count": 3,
   "id": "7bd0b78e",
   "metadata": {},
   "outputs": [
    {
     "name": "stdout",
     "output_type": "stream",
     "text": [
      "class kotlin.ranges.IntRange\n",
      "101\n",
      "[100, 101, 102, 103, 104, 105, 106, 107, 108, 109, 110, 111, 112, 113, 114, 115, 116, 117, 118, 119, 120, 121, 122, 123, 124, 125, 126, 127, 128, 129, 130, 131, 132, 133, 134, 135, 136, 137, 138, 139, 140, 141, 142, 143, 144, 145, 146, 147, 148, 149, 150, 151, 152, 153, 154, 155, 156, 157, 158, 159, 160, 161, 162, 163, 164, 165, 166, 167, 168, 169, 170, 171, 172, 173, 174, 175, 176, 177, 178, 179, 180, 181, 182, 183, 184, 185, 186, 187, 188, 189, 190, 191, 192, 193, 194, 195, 196, 197, 198, 199, 200]\n"
     ]
    }
   ],
   "source": [
    "fun toRangeI(str: String): IntRange = str\n",
    "    .split(\";\")\n",
    "    .let { (a, b) -> a.toInt()..b.toInt() }\n",
    "    \n",
    "    \n",
    "val i = toRangeI(\"100;200\")\n",
    "\n",
    "println(i.javaClass.kotlin)\n",
    "\n",
    "val lst = toArray(i)\n",
    "println(lst.count())\n",
    "println(lst.contentToString())"
   ]
  },
  {
   "cell_type": "code",
   "execution_count": null,
   "id": "9e4659e9",
   "metadata": {},
   "outputs": [],
   "source": []
  },
  {
   "cell_type": "markdown",
   "id": "41312d5f",
   "metadata": {},
   "source": [
    "## 반복자 처리 "
   ]
  },
  {
   "cell_type": "code",
   "execution_count": 4,
   "id": "0197b4ff",
   "metadata": {},
   "outputs": [
    {
     "name": "stdout",
     "output_type": "stream",
     "text": [
      "1, 2, 3, \n",
      "1, 2, 3, 4, 5, \n",
      "X 는 범위 내에 있음\n",
      "X 는 범위 내에 있음\n"
     ]
    }
   ],
   "source": [
    "val list = listOf<Int>(1, 2, 3)                    // 리스트 자료구조 생성\n",
    "val iterator = list.iterator()                     // 반복자  생성\n",
    "\n",
    "while(iterator.hasNext()) {                        // while문으로 반복자 처리\n",
    "    print(iterator.next().toString() + \", \")\n",
    "}\n",
    "println()\n",
    "val range = 1..5                                    // 범위 생성 \n",
    "val riter = range.iterator()                        // 반복자 생성\n",
    "\n",
    "while(riter.hasNext()) {                            // while문으로 반복자 처리\n",
    "    print(riter.next().toString() +\", \")\n",
    "}\n",
    "println()\n",
    "\n",
    "fun IntRange.rangechek(x:Int) {                     // 범위 체크 확장함수\n",
    "    when (x){\n",
    "        in this -> println(\"X 는 범위 내에 있음\")       // 범위도 확정되어 else 필요없음 \n",
    "    }\n",
    "}\n",
    "\n",
    "val x = 4\n",
    "(1..10).rangechek(x)\n",
    "\n",
    "fun ClosedRange<String>.rangechek(x:String) {        //문자열 범위 체크 \n",
    "    if (this.contains(x)) println(\"X 는 범위 내에 있음\") // 포함 메소드로 체크 \n",
    "}\n",
    "\n",
    "val xy= \"maj\"\n",
    "(\"maa\"..\"mas\").rangechek(xy)"
   ]
  },
  {
   "cell_type": "code",
   "execution_count": null,
   "id": "a3f4aed5",
   "metadata": {},
   "outputs": [],
   "source": []
  },
  {
   "cell_type": "markdown",
   "id": "5ab50a9b",
   "metadata": {},
   "source": [
    "## 문자열 범위 출력"
   ]
  },
  {
   "cell_type": "code",
   "execution_count": 5,
   "id": "6f67c099",
   "metadata": {},
   "outputs": [
    {
     "name": "stdout",
     "output_type": "stream",
     "text": [
      "gall\n",
      "galm\n",
      "galn\n",
      "galo\n",
      "galp\n",
      "가\n",
      "각\n"
     ]
    }
   ],
   "source": [
    "class StringRange(val start:String,                 // 문자열 범위 클래스 정의 \n",
    "                  val endInclusive : String) :      //  범위 정보 속성 정의 \n",
    "                            Iterator<String> {      // 반복자 상속\n",
    "    var next = StringBuilder(start)                 // 다음 값 정보 처리 : 변경가능문자열 처리 \n",
    "    val last = endInclusive                         // 최종값 저장 \n",
    "    override fun hasNext() =                        // 반복자 메소드 오버라이딩 : 원소가 있는지 확인 \n",
    "             (last >= next.toString() && \n",
    "                     last.length >= next.length)\n",
    "             \n",
    "    override fun next() : String {                  // 다음 문자열을 가져오기 \n",
    "        var result = next.toString()\n",
    "        val lastCharacter = next.last()             // 문자열 마지막 문자 가져오기 \n",
    "        next.setCharAt(next.length -1,              // 문자열내의 문자를 갱신 \n",
    "                           lastCharacter + 1)\n",
    "        return result                               // 반환 \n",
    "    } \n",
    "}\n",
    "                                    \n",
    "val a = StringRange(\"gall\", \"galp\").iterator()      // 문자열 범위를 정해서 반복자 처리\n",
    "for (i in a) println(i)                             // 순환문으로 반복처리 \n",
    "\n",
    "val b = StringRange(\"가\", \"각\").iterator()           // 한글 문자열 처리가 가능한지 확인\n",
    "for (i in b) println(i)"
   ]
  },
  {
   "cell_type": "code",
   "execution_count": null,
   "id": "204d298f",
   "metadata": {},
   "outputs": [],
   "source": []
  }
 ],
 "metadata": {
  "kernelspec": {
   "display_name": "Kotlin",
   "language": "kotlin",
   "name": "kotlin"
  },
  "language_info": {
   "codemirror_mode": "text/x-kotlin",
   "file_extension": ".kt",
   "mimetype": "text/x-kotlin",
   "name": "kotlin",
   "nbconvert_exporter": "",
   "pygments_lexer": "kotlin",
   "version": "1.7.0-dev-1825"
  }
 },
 "nbformat": 4,
 "nbformat_minor": 5
}
