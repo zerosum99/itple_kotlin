{
 "cells": [
  {
   "cell_type": "code",
   "execution_count": null,
   "id": "4bf387b0",
   "metadata": {},
   "outputs": [],
   "source": []
  },
  {
   "cell_type": "code",
   "execution_count": null,
   "id": "bb9431c9",
   "metadata": {},
   "outputs": [],
   "source": []
  },
  {
   "cell_type": "code",
   "execution_count": 5,
   "id": "68bf4d77",
   "metadata": {},
   "outputs": [
    {
     "name": "stdout",
     "output_type": "stream",
     "text": [
      "[1, 2, 3]\n",
      "[Geeks, for, geeks]\n",
      "[]\n",
      "[1, 2, 4, 5, 6]\n",
      "[1, 4, 5, 6]\n"
     ]
    }
   ],
   "source": [
    "\n",
    "val seta = hashSetOf(1,2,3,3)                //declaring a hash set of integers\n",
    "println(seta)\n",
    "      \n",
    "val setb = hashSetOf(\"Geeks\",\"for\",\"geeks\")  //declaring a hash set of strings\n",
    "println(setb)\n",
    "\n",
    "//declaring a hash set of integers\n",
    "val setc = hashSetOf<Int>()                  //declaring a hash set of integers\n",
    "println(setc)\n",
    "  \n",
    "setc.add(1)                                  //adding elements\n",
    "setc.add(2)\n",
    "  \n",
    "val newset = setOf(4,5,6)                    //making an extra set to add it in seta\n",
    "setc.addAll(newset)\n",
    "println(setc)\n",
    "  \n",
    "setc.remove(2)                               //removing 2 from the set\n",
    "println(setc)  "
   ]
  },
  {
   "cell_type": "code",
   "execution_count": null,
   "id": "c2fd7eec",
   "metadata": {},
   "outputs": [],
   "source": []
  },
  {
   "cell_type": "code",
   "execution_count": 6,
   "id": "99a474f0",
   "metadata": {},
   "outputs": [
    {
     "name": "stdout",
     "output_type": "stream",
     "text": [
      "1\n",
      "2\n",
      "3\n",
      "5\n",
      "두번째 인덱스 원소 확인 : Smith\n",
      "값으로 인덱스 확인 : 3\n",
      "값으로 마지막 인덱스 확인: 0Rohit\n"
     ]
    }
   ],
   "source": [
    "val seta = hashSetOf(1,2,3,5)                          //declaring a hash set of integers\n",
    "      \n",
    "for(item in seta) println(item)                        //traversing in a set using a for loop\n",
    "\n",
    "val captains = hashSetOf(\"Kohli\",\"Smith\",\"Root\"\n",
    "                         ,\"Malinga\",\"Rohit\",\"Dhawan\")\n",
    " \n",
    "println(\"두번째 인덱스 원소 확인 : \"+ captains.elementAt(3))\n",
    "println(\"값으로 인덱스 확인 : \"+ captains.indexOf(\"Smith\"))\n",
    "println(\"값으로 마지막 인덱스 확인: \"+ captains.lastIndexOf(\"Rohit\") + captains.elementAt(0))"
   ]
  },
  {
   "cell_type": "code",
   "execution_count": null,
   "id": "33e55d8c",
   "metadata": {},
   "outputs": [],
   "source": []
  },
  {
   "cell_type": "code",
   "execution_count": 1,
   "id": "8337c47a",
   "metadata": {},
   "outputs": [
    {
     "name": "stdout",
     "output_type": "stream",
     "text": [
      "The set contains the element Rohit or not?   true\n",
      "The set contains the element 5 or not?   false\n",
      "The set contains the given elements or not?   false\n",
      "seta.isEmpty() is true\n",
      "seta == setb is true\n"
     ]
    }
   ],
   "source": [
    "val captains = hashSetOf(1,2,3,4,\"Kohli\",\"Smith\",\n",
    "        \"Root\",\"Malinga\",\"Rohit\",\"Dhawan\")\n",
    " \n",
    "var name = \"Rohit\"\n",
    "println(\"The set contains the element $name or not?\" +\n",
    "            \"   \"+captains.contains(name))\n",
    "var num = 5\n",
    "println(\"The set contains the element $num or not?\" +\n",
    "            \"   \"+captains.contains(num))\n",
    " \n",
    "println(\"The set contains the given elements or not?\" +\n",
    "            \"   \"+captains.containsAll(setOf(1,3,\"Dhawan\",\"Warner\")))\n",
    "\n",
    "val seta = hashSetOf<String>()    //creating an empty hash set of strings\n",
    "val setb =hashSetOf<Int>()       //creating an empty hashset of integers\n",
    "\n",
    "println(\"seta.isEmpty() is ${seta.isEmpty()}\") //checking if set is empty or not\n",
    "\n",
    " \n",
    "                                           // Since Empty hashsets are equal\n",
    "println(\"seta == setb is ${seta == setb}\") //checking if two hash sets are equal or not"
   ]
  },
  {
   "cell_type": "code",
   "execution_count": null,
   "id": "bd790cab",
   "metadata": {},
   "outputs": [],
   "source": []
  },
  {
   "cell_type": "code",
   "execution_count": null,
   "id": "0e198e44",
   "metadata": {},
   "outputs": [],
   "source": []
  },
  {
   "cell_type": "code",
   "execution_count": null,
   "id": "025d4797",
   "metadata": {},
   "outputs": [],
   "source": []
  },
  {
   "cell_type": "code",
   "execution_count": null,
   "id": "93c6f875",
   "metadata": {},
   "outputs": [],
   "source": []
  }
 ],
 "metadata": {
  "kernelspec": {
   "display_name": "Kotlin",
   "language": "kotlin",
   "name": "kotlin"
  },
  "language_info": {
   "codemirror_mode": "text/x-kotlin",
   "file_extension": ".kt",
   "mimetype": "text/x-kotlin",
   "name": "kotlin",
   "nbconvert_exporter": "",
   "pygments_lexer": "kotlin",
   "version": "1.7.0-dev-1825"
  }
 },
 "nbformat": 4,
 "nbformat_minor": 5
}
