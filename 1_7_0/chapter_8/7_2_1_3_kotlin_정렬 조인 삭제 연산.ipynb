{
 "cells": [
  {
   "cell_type": "markdown",
   "id": "8b87029b",
   "metadata": {},
   "source": [
    "## 처리 \n",
    "\n",
    "sorted, sortedBy, sortedByDescending, \n",
    "sortedWith, reversed\n",
    "\n",
    "\n",
    "joinTo, joinToString, \n",
    "\n",
    "drop, dropWhile,\n",
    "\n",
    " take, takeWhile,\n",
    " \n",
    " drop, dropWhile,\n",
    " \n",
    " distinct, distinctBy,"
   ]
  },
  {
   "cell_type": "markdown",
   "id": "6cb6f3b5",
   "metadata": {},
   "source": [
    "## 정렬하기"
   ]
  },
  {
   "cell_type": "code",
   "execution_count": 9,
   "id": "6d90e60c",
   "metadata": {},
   "outputs": [
    {
     "name": "stdout",
     "output_type": "stream",
     "text": [
      "정렬해서 새객체 : [정씨, 정이, 정종, 정주]\n",
      "반대로 처리 새객체 : [정이, 정주, 정종, 정씨]\n",
      "복사          : [정씨, 정종, 정주, 정이]\n",
      "정렬 후 내부 변경 : [정씨, 정이, 정종, 정주]\n",
      "반대로 처리 내부 변경 : [정주, 정종, 정이, 정씨]\n",
      "집합 정렬 후 객체 : class java.util.Arrays$ArrayList\n",
      "정렬해서 새객체  : [정씨, 정이, 정종, 정주]\n",
      "반대로 처리 새객체  : [정이, 정주, 정종, 정씨]\n",
      "맵의 키 정렬  : [당당, 당상, 당소, 당장, 당주, 당지]\n",
      "class java.util.LinkedHashMap$LinkedKeySet\n",
      "맵의 값 정렬  : [12, 16, 23, 32, 33, 45]\n",
      "class java.util.LinkedHashMap$LinkedValues\n"
     ]
    }
   ],
   "source": [
    "val mlist = mutableListOf(\"정씨\",\"정종\",\"정주\",\"정이\")            // 리스트 \n",
    "\n",
    "println(\"정렬해서 새객체 : \" + mlist.sorted())                   // 정렬\n",
    "println(\"반대로 처리 새객체 : \" +mlist.reversed())               //  반대로 처리\n",
    "\n",
    "val mclist = mlist.toMutableList()                           // 객체를 다시 처리하면 복사 \n",
    "\n",
    "println(\"복사          : \" +mclist)\n",
    "mclist.sort()                                                // 내부 원소 정렬한 후 변경\n",
    "println(\"정렬 후 내부 변경 : \" + mclist)\n",
    "mclist.reverse()                                             // 내부 원소 정렬한 후 변경 \n",
    "println(\"반대로 처리 내부 변경 : \" + mclist)\n",
    "\n",
    "val mset = mutableSetOf(\"정씨\",\"정종\",\"정주\",\"정이\")              // 집합\n",
    "\n",
    "println(\"집합 정렬 후 객체 : \" + mset.sorted()::class)            // 정렬은 배열로 처리 \n",
    "println(\"정렬해서 새객체  : \" +mset.sorted().toMutableSet())      // 정렬 후에 원 객체로 변환\n",
    "println(\"반대로 처리 새객체  : \" +mset.reversed().toMutableSet())\n",
    "\n",
    "\n",
    "val mmap = mapOf(\"당지\" to 33, \"당소\" to 23, \"당장\" to 45,        // 맵\n",
    "                 \"당주\" to 12, \"당상\" to 32, \"당당\" to 16)\n",
    "\n",
    "println(\"맵의 키 정렬  : \" + mmap.keys.sorted())                  // 키 정렬\n",
    "println(mmap.keys::class)\n",
    "println(\"맵의 값 정렬  : \" + mmap.values.sorted())                // 값 정렬\n",
    "println(mmap.values::class)"
   ]
  },
  {
   "cell_type": "code",
   "execution_count": null,
   "id": "8cb82645",
   "metadata": {},
   "outputs": [],
   "source": []
  },
  {
   "cell_type": "code",
   "execution_count": null,
   "id": "321dd3a7",
   "metadata": {},
   "outputs": [],
   "source": []
  },
  {
   "cell_type": "markdown",
   "id": "186018ad",
   "metadata": {},
   "source": [
    "## Drop 처리"
   ]
  },
  {
   "cell_type": "code",
   "execution_count": 2,
   "id": "a98a857c",
   "metadata": {},
   "outputs": [
    {
     "name": "stdout",
     "output_type": "stream",
     "text": [
      "[d, e]\n",
      "[]\n",
      "[d, e]\n",
      "[]\n",
      "[6, 7, 8, 9, 10]\n",
      "[1, 2, 3, 4, 5, 6, 7]\n",
      "[1, 2, 3, 4, 5, 6, 7, 8, 9]\n",
      "[6, 7, 8, 9, 10]\n"
     ]
    }
   ],
   "source": [
    "val list1 = listOf(\"a\", \"b\", \"c\", \"d\", \"e\")       // 리스트 \n",
    "var n = 3\n",
    "var result = list1.drop(n)                        // 정수 개수만큼 삭제\n",
    "println(result)\n",
    "n = 10\n",
    "result = list1.drop(n)                            // 원소개수보다 많은 정수전달하면 전부 삭제 \n",
    "println(result)\n",
    "\n",
    "val set1 = setOf(\"a\", \"b\", \"c\", \"d\", \"e\")         // 집합\n",
    "n = 3\n",
    "result = set1.drop(n)                             // 정수 개수만큼 삭제\n",
    "println(result)\n",
    "n = 10\n",
    "result = set1.drop(n)                              // 원소개수보다 많은 정수전달하면 전부 삭제 \n",
    "println(result)\n",
    "\n",
    "val list2 = listOf(1,2,3,4,5,6,7,8,9,10)           // 리스트 \n",
    "var result1 = list2.dropWhile { it < 6 }            // 조건이 false가 되면 앞에 제거\n",
    "println(result1)\n",
    "result1 = list2.dropLast(3)                         // 뒤에서 정수까지 삭제\n",
    "println(result1)\n",
    "result1 = list2.dropLastWhile { it % 5 < 4 }        // 조건의 false가 되면 앞에 제거\n",
    "println(result1)\n",
    "\n",
    "val set2 = setOf(1,2,3,4,5,6,7,8,9,10)              // 집합 \n",
    "var result2 = set2.dropWhile { it < 6 }             // 조건의 false가 되면 앞에 제거\n",
    "println(result2)"
   ]
  },
  {
   "cell_type": "code",
   "execution_count": null,
   "id": "64bb4595",
   "metadata": {},
   "outputs": [],
   "source": []
  },
  {
   "cell_type": "code",
   "execution_count": null,
   "id": "7ef004e6",
   "metadata": {},
   "outputs": [],
   "source": []
  },
  {
   "cell_type": "markdown",
   "id": "49ee7d3a",
   "metadata": {},
   "source": [
    "## take"
   ]
  },
  {
   "cell_type": "code",
   "execution_count": 7,
   "id": "8adec983",
   "metadata": {},
   "outputs": [
    {
     "name": "stdout",
     "output_type": "stream",
     "text": [
      "[1, 2, 3]\n",
      "[1, 2, 3, 4, 5, 6, 7, 8, 9, 10]\n",
      "[1, 2, 3, 4, 5]\n",
      "[8, 9, 10]\n",
      "[10]\n",
      "수신객체 체크[1, 2, 3, 4, 5, 6, 7, 8, 9, 10]\n",
      "[1, 2, 3]\n"
     ]
    }
   ],
   "source": [
    "val list1 = listOf(1,2,3,4,5,6,7,8,9,10)                // 리스트 \n",
    "var n = 3\n",
    "var result = list1.take(n)                              // 정수 개수만큼 삭제\n",
    "println(result)\n",
    "println(list1)                                          // 리스트는 변경이 없다 \n",
    "\n",
    "result = list1.takeWhile { it < 6 }                     // 조건이 false가 되면 앞에 제거\n",
    "println(result)\n",
    "result = list1.takeLast(3)                              // 뒤에서 정수까지 삭제\n",
    "println(result)\n",
    "result = list1.takeLastWhile { it % 5 < 4 }             // 조건의 false가 되면 앞에 제거\n",
    "println(result)\n",
    "\n",
    "println(\"수신객체 체크\" + list1.takeIf { it.size < 11 } )   // 조건의 false가 되면 앞에 제거\n",
    "\n",
    "val set1 = setOf(1,2,3,4,5,6,7,8,9,10)                  // 집합\n",
    "n = 3\n",
    "var result1 = set1.take(n)                              // 정수 개수만큼 삭제\n",
    "println(result1)\n"
   ]
  },
  {
   "cell_type": "code",
   "execution_count": null,
   "id": "224b778f",
   "metadata": {},
   "outputs": [],
   "source": []
  },
  {
   "cell_type": "markdown",
   "id": "9c1905dc",
   "metadata": {},
   "source": [
    "## join "
   ]
  },
  {
   "cell_type": "code",
   "execution_count": 4,
   "id": "ee962388",
   "metadata": {},
   "outputs": [
    {
     "name": "stdout",
     "output_type": "stream",
     "text": [
      "일반 출력 : [봄, 여름, 가을, 겨울]\n",
      "포맷 출력 : {봄,여름,가을,겨울}\n",
      "일반 출력 : [봄, 여름, 가을, 겨울]\n",
      "포맷 출력 : {봄,여름,가을,겨울}\n",
      "[1, 2, 3]\n",
      "[1, 2, 3]\n"
     ]
    }
   ],
   "source": [
    "var data = listOf(\"봄\", \"여름\", \"가을\",\"겨울\")         // 리스트 생성 \n",
    "println(\"일반 출력 : \"+data)\n",
    "println(\"포맷 출력 : \"+data.joinToString(\",\",        // 문자열로 변환\n",
    "                        prefix=\"{\", postfix=\"}\"))\n",
    "\n",
    "val data1 = setOf(\"봄\", \"여름\", \"가을\",\"겨울\")         // 집합 생성\n",
    "println(\"일반 출력 : \"+data1)\n",
    "println(\"포맷 출력 : \"+data1.joinToString(\",\",       // 문자열로 변환\n",
    "                        prefix=\"{\", postfix=\"}\"))\n",
    "\n",
    "val sb = StringBuilder()                           // 문자열빌드 생성\n",
    "val numbers = listOf(1, 2, 3)                      // 리스트 생성 \n",
    "numbers.joinTo(sb, prefix = \"[\", postfix = \"]\")    // 문자열빌더에 문자열 변환  \n",
    "println(sb)\n",
    "\n",
    "val sb1 = StringBuilder()                          // 문자열빌드 생성 \n",
    "val numbers1 = setOf(1, 2, 3)                      // 집합 생성 \n",
    "numbers1.joinTo(sb1, prefix = \"[\", postfix = \"]\")  // 문자열 결합\n",
    "println(sb1)"
   ]
  },
  {
   "cell_type": "code",
   "execution_count": null,
   "id": "0dac6bd9",
   "metadata": {},
   "outputs": [],
   "source": []
  },
  {
   "cell_type": "markdown",
   "id": "3d6c39b8",
   "metadata": {},
   "source": [
    "## distinct"
   ]
  },
  {
   "cell_type": "code",
   "execution_count": 5,
   "id": "31d4bc12",
   "metadata": {},
   "outputs": [
    {
     "name": "stdout",
     "output_type": "stream",
     "text": [
      "[a, A, b, B]\n",
      "[a, b]\n",
      "[a, A, b, B]\n"
     ]
    }
   ],
   "source": [
    "val list = listOf('a', 'A', 'b', 'B', 'A', 'a')   // 리스트 생성\n",
    "println(list.distinct())                          // 리스트 중복 제거 \n",
    "println(list.distinctBy { it.uppercaseChar() })   // 문자를 대문자로 변경한 후 중복제거\n",
    "\n",
    "val set = setOf('a', 'A', 'b', 'B', 'A', 'a')     // 집합 생성하면 중복 자동제거\n",
    "println(set)                                   "
   ]
  },
  {
   "cell_type": "code",
   "execution_count": null,
   "id": "5912cfe1",
   "metadata": {},
   "outputs": [],
   "source": []
  }
 ],
 "metadata": {
  "kernelspec": {
   "display_name": "Kotlin",
   "language": "kotlin",
   "name": "kotlin"
  },
  "language_info": {
   "codemirror_mode": "text/x-kotlin",
   "file_extension": ".kt",
   "mimetype": "text/x-kotlin",
   "name": "kotlin",
   "nbconvert_exporter": "",
   "pygments_lexer": "kotlin",
   "version": "1.8.0-dev-3517"
  }
 },
 "nbformat": 4,
 "nbformat_minor": 5
}
