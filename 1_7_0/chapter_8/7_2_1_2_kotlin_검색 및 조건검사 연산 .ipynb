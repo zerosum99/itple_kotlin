{
 "cells": [
  {
   "cell_type": "code",
   "execution_count": null,
   "id": "a4a9094e",
   "metadata": {},
   "outputs": [],
   "source": []
  },
  {
   "cell_type": "code",
   "execution_count": null,
   "id": "06ebb021",
   "metadata": {},
   "outputs": [],
   "source": []
  },
  {
   "cell_type": "markdown",
   "id": "c57ab10a",
   "metadata": {},
   "source": [
    "\n",
    "interface Iterable<out T>\n",
    "\n",
    "\n",
    "iterator(): Iterator<T>\n",
    "\n",
    ",asIterable, asSequence,associate, associateBy, associateByTo,\n",
    "associateWithTo,  chunked, \n",
    "\n",
    "\n",
    " intersect, \n",
    ", ,  minus, minusElement, minWith,\n",
    "minWithOrNull, partition, plus, plusElement,  requireNoNulls, r runningFold, runningFoldIndexed, runningReduce, runningReduceIndexed\n",
    "scan, scanIndexed, shuffled, single, singleOrNull,  subtract,  union , unzip , \n",
    "windowed, withIndex, zipWithNext"
   ]
  },
  {
   "cell_type": "markdown",
   "id": "276fe954",
   "metadata": {},
   "source": [
    "## 컬렉션 상태 확인 "
   ]
  },
  {
   "cell_type": "code",
   "execution_count": 1,
   "id": "fecff51f",
   "metadata": {},
   "outputs": [
    {
     "name": "stdout",
     "output_type": "stream",
     "text": [
      "3\n",
      "false\n",
      "true\n",
      "true\n",
      "3\n",
      "false\n",
      "true\n",
      "true\n",
      "2\n",
      "false\n",
      "true\n",
      "true\n",
      "true\n"
     ]
    }
   ],
   "source": [
    "val list1 = listOf(\"a\",\"b\",\"c\")             // 리스트 객체 생성\n",
    "println(list1.size)                         // 원소 개수  \n",
    "println(list1.isEmpty())                    // 원소가 없는지 확인\n",
    "println(list1.contains(\"b\"))                // 포함여부 \n",
    "println(list1.containsAll(list1))           // 전체가 다 포함되었는지\n",
    "\n",
    "val set1 = setOf(1,2,3)                     // 집합 객체 생성\n",
    "println(set1.size)             \n",
    "println(set1.isEmpty())                     // 원소가 없는지 확인\n",
    "println(set1.contains(3))                   // 포함여부 \n",
    "println(set1.containsAll(set1))             // 전체가 다 포함되었는지 \n",
    "\n",
    "val map1 = mapOf(\"a\" to 100, \"b\" to 300)    // 맵 객체 생성\n",
    "println(map1.size)                          // 원소 개수     \n",
    "println(map1.isEmpty())                     // 원소가 없는지 확인 \n",
    "println(map1.contains(\"b\"))                 // 포함여부 \n",
    "println(map1.containsKey(\"b\"))              // 키 포함여부\n",
    "println(map1.containsValue(300))            // 값 포함여부"
   ]
  },
  {
   "cell_type": "code",
   "execution_count": null,
   "id": "983927c0",
   "metadata": {},
   "outputs": [],
   "source": []
  },
  {
   "cell_type": "markdown",
   "id": "db74d959",
   "metadata": {},
   "source": [
    "## 컬렉션 내부 순환"
   ]
  },
  {
   "cell_type": "code",
   "execution_count": 2,
   "id": "95d5bc81",
   "metadata": {},
   "outputs": [
    {
     "name": "stdout",
     "output_type": "stream",
     "text": [
      "a, b, c, \n",
      "0 = a, 1 = b, 2 = c, \n",
      "1, 2, 3, \n",
      "a = 100\n",
      "b = 300\n"
     ]
    }
   ],
   "source": [
    "list1.forEach {print(it + \", \")}                       // 순환처리\n",
    "println()                                              // 인덱스 값과 값이 순환하기\n",
    "list1.forEachIndexed {index,value -> print(\"$index = $value, \")}\n",
    "println()\n",
    "set1.forEach {print(it.toString() + \", \")}             // 순환처리\n",
    "println()                                              // 키와 밸류에 대한 순환처리\n",
    "map1.forEach {(key,value) -> println(\"$key = $value\")}"
   ]
  },
  {
   "cell_type": "code",
   "execution_count": null,
   "id": "fbaea9e5",
   "metadata": {},
   "outputs": [],
   "source": []
  },
  {
   "cell_type": "markdown",
   "id": "be404775",
   "metadata": {},
   "source": [
    "## 컬렉션 원소 접근\n",
    "\n",
    "first, firstNotNullOf, firstNotNullOfOrNull, firstOrNull,\n",
    "firstOrNull,lastIndexOf, lastOrNull\n",
    "\n",
    "find, findLast,  \n",
    "indexOf, indexOfFirst, indexOfLast,\n",
    "\n",
    " ,elementAtOrElse, elementAtOrNull,"
   ]
  },
  {
   "cell_type": "markdown",
   "id": "28f1179e",
   "metadata": {},
   "source": [
    "## 리스트와 집합 "
   ]
  },
  {
   "cell_type": "code",
   "execution_count": 3,
   "id": "dac000b0",
   "metadata": {},
   "outputs": [
    {
     "name": "stdout",
     "output_type": "stream",
     "text": [
      "첫번째  : 당지\n",
      "마지막  : 당당\n",
      "두번째 인덱스 원소 확인 : 당장\n",
      "값으로 인덱스 확인 : 4\n",
      "값으로 마지막 인덱스 확인: 2 당지\n",
      "범위 밖 처리인덱스 범위 밖\n",
      "찾기 :당소\n",
      "최소값 : 당당 최대값 : 당지 \n",
      "첫번째  : 당지\n",
      "마지막  : 당당\n",
      "두번째 인덱스 원소 확인 : 당장\n",
      "값으로 인덱스 확인 : 4\n",
      "값으로 마지막 인덱스 확인: 2 당지\n",
      "범위 밖 처리인덱스 범위 밖\n",
      "찾기 :당당\n",
      "최소값 : 당당 최대값 : 당지 \n"
     ]
    }
   ],
   "source": [
    "val llist = listOf(\"당지\",\"당소\",\"당장\",\"당주\",\"당상\",\"당당\")                // 리스트 생성\n",
    "\n",
    "println(\"첫번째  : \" + llist.first())                                   // 첫번째 원소 확인\n",
    "println(\"마지막  : \" + llist.last())                                    // 마지막 원소 확인 \n",
    "println(\"두번째 인덱스 원소 확인 : \"+ llist.elementAt(2))                   // 인덱스로 값 조회\n",
    "println(\"값으로 인덱스 확인 : \"+ llist.indexOf(\"당상\"))                     // 값이 없으면 -1\n",
    "println(\"값으로 마지막 인덱스 확인: \"+ llist.lastIndexOf(\"당장\")              // 마지막 인덱스 확인 \n",
    "                        + \" \" + llist.elementAt(0))\n",
    "println(\"범위 밖 처리\" + llist.elementAtOrElse(8) {\"인덱스 범위 밖\"})        //인덱스에 없는 경우 초기값처리\n",
    "\n",
    "println(\"찾기 :\" + llist.find({it ==\"당소\"}))                            // 특정 값을 검색\n",
    "println(\"최소값 : ${llist.minOf {it} } 최대값 : ${llist.maxOf { it }} \")  // 최대값 최소값 조회\n",
    "\n",
    "val hset = setOf(\"당지\",\"당소\",\"당장\",\"당주\",\"당상\",\"당당\")                   // 집합 생성\n",
    "println(\"첫번째  : \" + hset.first())\n",
    "println(\"마지막  : \" + hset.last())\n",
    "println(\"두번째 인덱스 원소 확인 : \"+ hset.elementAt(2))                     // 인덱스로 값 조회\n",
    "println(\"값으로 인덱스 확인 : \"+ hset.indexOf(\"당상\"))                       // 값이 없으면 -1\n",
    "println(\"값으로 마지막 인덱스 확인: \"+ hset.lastIndexOf(\"당장\")                // 마지막 인덱스 조회\n",
    "                               + \" \" + hset.elementAt(0))               // 특정인덱스로 값 조회 \n",
    "println(\"범위 밖 처리\" + hset.elementAtOrElse(8) {\"인덱스 범위 밖\"})          // 인덱스에 없으면 초기값 처리 \n",
    "println(\"찾기 :\" + hset.findLast {it ==\"당당\"})                           // 특정 값을 검색\n",
    "println(\"최소값 : ${hset.minOf {it} } 최대값 : ${hset.maxOf { it }} \")     // 최대값 최소값 조회"
   ]
  },
  {
   "cell_type": "code",
   "execution_count": null,
   "id": "58bb5748",
   "metadata": {},
   "outputs": [],
   "source": []
  },
  {
   "cell_type": "markdown",
   "id": "aad913de",
   "metadata": {},
   "source": [
    "## 맵"
   ]
  },
  {
   "cell_type": "code",
   "execution_count": 4,
   "id": "6ebfdd58",
   "metadata": {},
   "outputs": [
    {
     "name": "stdout",
     "output_type": "stream",
     "text": [
      "getorElse  : 33\n",
      "33\n",
      "33\n",
      "getorDefault  : 16\n",
      "16\n",
      "최소값 : 당당 최대값 : 당지 \n",
      "최소값 : 12 최대값 : 45 \n"
     ]
    }
   ],
   "source": [
    "val name = listOf(\"당지\",\"당소\",\"당장\",\"당주\",\"당상\",\"당당\")       // 리스트 생성\n",
    "val age  = listOf(33,23,45,12,32,16)\n",
    "\n",
    "val nameage = name.zip(age).toTypedArray()                   // 두 리스트를 튜플로 만듬\n",
    "val mmap = mapOf(*nameage)                                   // 배열은 스프레이드로 내부 튜플을 제공해서\n",
    "                                                             // 맵생성\n",
    "println(\"getorElse  : \" + mmap.getOrElse (\"당지\") { 0 })      // 특정값 조회 없으면 초기값 처리\n",
    "println(mmap.get(\"당지\"))                                     // 조회함수 사용\n",
    "println(mmap[\"당지\"])                                         // 조호 연산자 사용 \n",
    "println(\"getorDefault  : \" +mmap.getOrDefault(\"당당\", 10))    // 없으면 초기값 처리\n",
    "println(mmap[\"당당\"])  \n",
    "                                                             // 키에 대한 최소값 최대값 조회\n",
    "println(\"최소값 : ${mmap.minOf { it.key } } 최대값 : ${mmap.maxOf { it.key }} \")\n",
    "                                                             // 값에 대한 최소값 최대갑 조회\n",
    "println(\"최소값 : ${mmap.minOf { it.value } } 최대값 : ${mmap.maxOf { it.value}} \")"
   ]
  },
  {
   "cell_type": "code",
   "execution_count": null,
   "id": "ed574fb0",
   "metadata": {},
   "outputs": [],
   "source": []
  },
  {
   "cell_type": "code",
   "execution_count": null,
   "id": "bbe12b90",
   "metadata": {},
   "outputs": [],
   "source": []
  },
  {
   "cell_type": "markdown",
   "id": "1a45ed5f",
   "metadata": {},
   "source": [
    "## 컬렉션 조건 검사\n",
    "\n",
    "any, none, max, min, average"
   ]
  },
  {
   "cell_type": "code",
   "execution_count": 5,
   "id": "a466aeff",
   "metadata": {},
   "outputs": [
    {
     "name": "stdout",
     "output_type": "stream",
     "text": [
      "list any : false\n",
      "list all : true\n",
      "list none : false\n",
      "map any : false\n",
      "map any : true\n",
      "map a11 : true\n",
      "map a11 : false\n",
      "map none : false\n"
     ]
    }
   ],
   "source": [
    "println(\"list any : \" + llist.any { it.length > 3})        // 리스트 any\n",
    "println(\"list all : \" + llist.all { it > \"강지\"})           // 리스트 all\n",
    "println(\"list none : \"+ llist.none { it > \"강지\"})          // 리스트 non \n",
    "println(\"map any : \" +  mmap.any() { it.key.length > 3})   // 맵 any는 키와 밸류로 처리\n",
    "println(\"map any : \" +  mmap.any() { it.value > 30 })\n",
    "println(\"map a11 : \" +  mmap.all { it.key > \"강지\"})        // 맵 all은 키와 밸류로 처리\n",
    "println(\"map a11 : \" +  mmap.all { it.value > 20 })\n",
    "println(\"map none : \" + mmap.none { it.key > \"강지\"})\n"
   ]
  },
  {
   "cell_type": "code",
   "execution_count": null,
   "id": "15bec07d",
   "metadata": {},
   "outputs": [],
   "source": []
  }
 ],
 "metadata": {
  "kernelspec": {
   "display_name": "Kotlin",
   "language": "kotlin",
   "name": "kotlin"
  },
  "language_info": {
   "codemirror_mode": "text/x-kotlin",
   "file_extension": ".kt",
   "mimetype": "text/x-kotlin",
   "name": "kotlin",
   "nbconvert_exporter": "",
   "pygments_lexer": "kotlin",
   "version": "1.8.0-dev-3517"
  }
 },
 "nbformat": 4,
 "nbformat_minor": 5
}
