{
 "cells": [
  {
   "cell_type": "code",
   "execution_count": null,
   "id": "6c540b7b",
   "metadata": {},
   "outputs": [],
   "source": []
  },
  {
   "cell_type": "markdown",
   "id": "e6c8c472",
   "metadata": {},
   "source": [
    "## 링크드리스트로 큐만들기"
   ]
  },
  {
   "cell_type": "code",
   "execution_count": 1,
   "id": "6edba730",
   "metadata": {},
   "outputs": [
    {
     "name": "stdout",
     "output_type": "stream",
     "text": [
      "큐 전체 : [허린, 허균, 허준]\n",
      "큐상태 : false\n",
      "큐의 개수 : 3\n",
      "큐 포함여부 허린\n",
      "큐의 위치  0\n",
      "첫번째 정보 조회 허린\n",
      "첫번째 정보 조회  허린\n",
      "큐 전체 : [허린, 허��, 허준]\n",
      "큐 전체 : [허린, 허균, 허준, 허봄, 허름, 허을]\n",
      "허린\n",
      "큐 전체 : [허균, 허준, 허봄, 허름, 허을]\n"
     ]
    }
   ],
   "source": [
    "import java.util.Queue                               // 인터페이스\n",
    "import java.util.LinkedList                          // 클래스 \n",
    "\n",
    "val namesQue: Queue<String> = LinkedList<String>()   // 링크드 리스트로 객체 생성 \n",
    "namesQue.add(\"허린\")                                  // 정보 추가 \n",
    "namesQue.add(\"허균\")\n",
    "namesQue.add(\"허준\")\n",
    "println(\"큐 전체 : \" + namesQue)\n",
    "println(\"큐상태 : \" + namesQue.isEmpty())\n",
    "println(\"큐의 개수 : \" + namesQue.size)\n",
    "val name = \"허린\"\n",
    "if (namesQue.contains(name)) {                        // 현재 큐의 상태확인 \n",
    "    println(\"큐 포함여부 \" + name)\n",
    "    println(\"큐의 위치  \" + namesQue.indexOf(name))\n",
    "} else println(\"큐에 미젹재 \" + name)                    // 없을 경우 출력 \n",
    "\n",
    "var first = namesQue.element()                         // 현재 상태 정보만 조회\n",
    "println(\"첫번째 정보 조회 \" + first)\n",
    "first = namesQue.peek()                                // 현재 상태만 조회 \n",
    "println(\"첫번째 정보 조회  \" + first)\n",
    "println(\"큐 전체 : \" + namesQue)\n",
    "namesQue.offer(\"허봄\")                                  // 데이터 추가하기\n",
    "namesQue.offer(\"허름\")\n",
    "namesQue.offer(\"허을\")\n",
    "println(\"큐 전체 : \" + namesQue)\n",
    "println(namesQue.poll())                               // 맨 앞 데이터 삭제하기\n",
    "println(\"큐 전체 : \" + namesQue)             "
   ]
  },
  {
   "cell_type": "code",
   "execution_count": null,
   "id": "541e0207",
   "metadata": {},
   "outputs": [],
   "source": []
  },
  {
   "cell_type": "code",
   "execution_count": null,
   "id": "17ea8abc",
   "metadata": {},
   "outputs": [],
   "source": []
  },
  {
   "cell_type": "markdown",
   "id": "74b31208",
   "metadata": {},
   "source": [
    "## ArrayDeque로 만들기"
   ]
  },
  {
   "cell_type": "code",
   "execution_count": 2,
   "id": "0eef1f7b",
   "metadata": {},
   "outputs": [
    {
     "name": "stdout",
     "output_type": "stream",
     "text": [
      "큐 전체 : [황당, 황봄, 황름]\n",
      "큐 상태 : false\n",
      "큐 개수 : 3\n",
      "포함여부 황당\n",
      "위치정보 0\n",
      "첫번째 정보: 황당\n",
      "첫번째정보: 황당\n"
     ]
    }
   ],
   "source": [
    "import java.util.ArrayDeque                       // 데큐 사용하기 \n",
    "\n",
    "var queue = ArrayDeque<String>()                  // 빈 큐 생성 \n",
    "queue.add(\"황당\")                                  // 큐에 추가 \n",
    "queue.add(\"황봄\")\n",
    "queue.add(\"황름\")\n",
    "\n",
    "println(\"큐 전체 : \" + queue)                       // 큐상태 확인 \n",
    "println(\"큐 상태 : \" + queue.isEmpty())\n",
    "println(\"큐 개수 : \" + queue.size)\n",
    "\n",
    "val name = \"황당\"                                  // 큐 내부 포함여부 \n",
    "if (queue.contains(name)) {\n",
    "    println(\"포함여부 \" + name);\n",
    "    println(\"위치정보 \" + queue.indexOf(name));\n",
    "} else {\n",
    "    println(\" 미적재 \" + name);\n",
    "}\n",
    "  \n",
    "var first = queue.element()                       // 다음 대기 정보 조회\n",
    "println(\"첫번째 정보: \" + first);\n",
    "first = queue.peek()\n",
    "println(\"첫번째정보: \" + first);"
   ]
  },
  {
   "cell_type": "code",
   "execution_count": null,
   "id": "1a4093e1",
   "metadata": {},
   "outputs": [],
   "source": []
  },
  {
   "cell_type": "markdown",
   "id": "00e179fa",
   "metadata": {},
   "source": [
    "## 코틀린으로 큐만들기"
   ]
  },
  {
   "cell_type": "code",
   "execution_count": 3,
   "id": "644e46cf",
   "metadata": {},
   "outputs": [],
   "source": [
    "interface Queue<T> {                  //큐 인터페이스 만들기 \n",
    "  fun enqueue(element: T): Boolean    //큐에 저장하기\n",
    "  fun dequeue(): T?                   //큐에서 빼기\n",
    "  val count: Int                      //큐에 원소 개수 \n",
    "  val isEmpty: Boolean                //큐가 비어있는지 확ㅇ니\n",
    "  fun peek(): T?                      //큐에서 다음 뺄 대상 확인\n",
    "}"
   ]
  },
  {
   "cell_type": "code",
   "execution_count": null,
   "id": "e4765035",
   "metadata": {},
   "outputs": [],
   "source": []
  },
  {
   "cell_type": "code",
   "execution_count": 4,
   "id": "1e160aff",
   "metadata": {},
   "outputs": [
    {
     "name": "stdout",
     "output_type": "stream",
     "text": [
      "큐 상태확인= false\n",
      "현재 큐 원소=[자바, 파이썬, 코틀린, 스칼라, 그루비, 클로저]\n",
      "하나 꺼내기 =자바\n",
      "현재 큐 원소=[파이썬, 코틀린, 스칼라, 그루비, 클로저]\n",
      "다음값 읽기: 파이썬\n"
     ]
    }
   ],
   "source": [
    "class ArrayListQueue<T> : Queue<T> {\n",
    "   private val list = arrayListOf<T>()\n",
    "   override val count: Int                          //큐의 원소 개수 \n",
    "       get() = list.size\n",
    "   override val isEmpty: Boolean                     //큐 빈상태 여부\n",
    "      get() = count == 0\n",
    "\n",
    "  override fun peek(): T? = list.getOrNull(0)        //첫번째 원소\n",
    "  override fun enqueue(element: T): Boolean {        //큐에 원소 넣기 \n",
    "      list.add(element)                              //리스트 add로 원소 넣기 \n",
    "      return true\n",
    "  } \n",
    "  override fun dequeue(): T? =                       //큐에서 원소 빼기 \n",
    "       if (isEmpty) null else list.removeAt(0)       //리스트에서 첫번째 원소 빼기 \n",
    "       \n",
    "  override fun toString(): String = list.toString()  //문자열로 출력 \n",
    "}\n",
    "\n",
    "val queue = ArrayListQueue<String>().apply {\n",
    "    enqueue(\"자바\");enqueue(\"파이썬\");enqueue(\"코틀린\");\n",
    "    enqueue(\"스칼라\");enqueue(\"그루비\");enqueue(\"클로저\");\n",
    "}\n",
    "println(\"큐 상태확인= ${queue.isEmpty}\")\n",
    "println(\"현재 큐 원소=\" +queue)\n",
    "println(\"하나 꺼내기 =\" +queue.dequeue())\n",
    "println(\"현재 큐 원소=\" +queue)\n",
    "println(\"다음값 읽기: ${queue.peek()}\")"
   ]
  },
  {
   "cell_type": "code",
   "execution_count": null,
   "id": "ac9f1399",
   "metadata": {},
   "outputs": [],
   "source": []
  },
  {
   "cell_type": "code",
   "execution_count": null,
   "id": "537512a2",
   "metadata": {},
   "outputs": [],
   "source": []
  }
 ],
 "metadata": {
  "kernelspec": {
   "display_name": "Kotlin",
   "language": "kotlin",
   "name": "kotlin"
  },
  "language_info": {
   "codemirror_mode": "text/x-kotlin",
   "file_extension": ".kt",
   "mimetype": "text/x-kotlin",
   "name": "kotlin",
   "nbconvert_exporter": "",
   "pygments_lexer": "kotlin",
   "version": "1.7.0-dev-1825"
  }
 },
 "nbformat": 4,
 "nbformat_minor": 5
}
