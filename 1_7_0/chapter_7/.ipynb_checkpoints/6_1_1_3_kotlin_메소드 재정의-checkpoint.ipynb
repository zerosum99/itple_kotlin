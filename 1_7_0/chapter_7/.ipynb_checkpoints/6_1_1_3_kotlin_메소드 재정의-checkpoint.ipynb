{
 "cells": [
  {
   "cell_type": "markdown",
   "id": "5a6e5fcf",
   "metadata": {},
   "source": [
    "## 오버로딩"
   ]
  },
  {
   "cell_type": "code",
   "execution_count": null,
   "id": "3d3852bc",
   "metadata": {},
   "outputs": [],
   "source": []
  },
  {
   "cell_type": "code",
   "execution_count": 3,
   "id": "5138aa77",
   "metadata": {},
   "outputs": [
    {
     "name": "stdout",
     "output_type": "stream",
     "text": [
      "Hello, world!\n",
      "Hello, dahl !\n",
      "Hello, moon   55 !\n"
     ]
    }
   ],
   "source": [
    "class Hello {\n",
    "    fun hello() {\n",
    "        println(\"Hello, world!\");\n",
    "    }\n",
    "\n",
    "    fun hello(name : String) {\n",
    "        println(\"Hello, $name !\");\n",
    "    }\n",
    "\n",
    "    fun hello(name:String, age : Int) {\n",
    "        if (age > 0) {\n",
    "            println(\"Hello, $name   $age !\");\n",
    "        } else {\n",
    "            println(\"Hello, $name !\");\n",
    "        }\n",
    "    }\n",
    "}\n",
    "\n",
    "val h = Hello()\n",
    "h.hello()\n",
    "h.hello(\"dahl\")\n",
    "h.hello(\"moon\", 55)"
   ]
  },
  {
   "cell_type": "code",
   "execution_count": null,
   "id": "fb2f7b5c",
   "metadata": {},
   "outputs": [],
   "source": []
  },
  {
   "cell_type": "code",
   "execution_count": 5,
   "id": "8c890bdc",
   "metadata": {},
   "outputs": [
    {
     "name": "stdout",
     "output_type": "stream",
     "text": [
      "Hello, world!\n",
      "Hello, dahl!\n",
      "Hello, moon(55)!\n"
     ]
    }
   ],
   "source": [
    "class HelloDemo{\n",
    "    fun hello(name: String = \"world\", age: Int = 0) {\n",
    "        if (age > 0) {\n",
    "            println(\"Hello, ${name}(${age})!\");\n",
    "        } else {\n",
    "            println(\"Hello, ${name}!\");\n",
    "        }\n",
    "    }\n",
    "}\n",
    "\n",
    "val h1 = HelloDemo()\n",
    "h1.hello()\n",
    "h1.hello(\"dahl\")\n",
    "h1.hello(\"moon\", 55)"
   ]
  },
  {
   "cell_type": "markdown",
   "id": "bb08fa19",
   "metadata": {},
   "source": [
    "## 오버라이딩"
   ]
  },
  {
   "cell_type": "code",
   "execution_count": 20,
   "id": "1c542dd7",
   "metadata": {},
   "outputs": [
    {
     "name": "stdout",
     "output_type": "stream",
     "text": [
      "학생이 식사한다 \n",
      "학생이 식사한다 \n"
     ]
    }
   ],
   "source": [
    "open class Person { \n",
    "    open fun eat(){\n",
    "        println(\"사람이 식사한다.\")\n",
    "    }\n",
    "}\n",
    "\n",
    "open class Man : Person() {\n",
    "   override fun eat(){\n",
    "        println(\"남자가 식사한다.\")\n",
    "    } \n",
    "}\n",
    "\n",
    "class Student : Man() {\n",
    "    final override fun eat(){\n",
    "        println(\"학생이 식사한다 \")\n",
    "    }\n",
    "}\n",
    "\n",
    "val s = Student()\n",
    "s.eat()\n",
    "\n",
    "val ss : Person = s\n",
    "ss.eat()"
   ]
  },
  {
   "cell_type": "code",
   "execution_count": null,
   "id": "ec64f63c",
   "metadata": {},
   "outputs": [],
   "source": []
  },
  {
   "cell_type": "code",
   "execution_count": 58,
   "id": "b32a6911",
   "metadata": {},
   "outputs": [],
   "source": [
    "open class Person(var role: String = \"Person\",\n",
    "                  var name: String = \"X\") {\n",
    "    fun eat(){\n",
    "        println(\"$name 님은 식사중입니다.\")\n",
    "    }\n",
    "    open fun sleep(){\n",
    "        println(\"#name 님은 취침중입니다.\")\n",
    "    }\n",
    "}\n",
    " \n",
    "class Student(name: String): \n",
    "                   Person(\"Student\", name) {\n",
    "    fun activity(){\n",
    "        println(\"$name 님은 공부중입니다. \")\n",
    "    }\n",
    " \n",
    "    override fun sleep(){\n",
    "        println(\"$name 님은 일짹 자러갑니다.\")\n",
    "    }\n",
    " \n",
    "    fun doAll(){\n",
    "        eat()\n",
    "        sleep()\n",
    "        activity()\n",
    "    }\n",
    "}"
   ]
  },
  {
   "cell_type": "code",
   "execution_count": 59,
   "id": "1309406c",
   "metadata": {},
   "outputs": [
    {
     "name": "stdout",
     "output_type": "stream",
     "text": [
      "문지원 님은 식사중입니다.\n",
      "문지원 님은 일짹 자러갑니다.\n",
      "문지원 님은 공부중입니다. \n"
     ]
    }
   ],
   "source": [
    "var student_1 = Student(\"문지원\")\n",
    " \n",
    "student_1.doAll()"
   ]
  },
  {
   "cell_type": "code",
   "execution_count": null,
   "id": "36f60a5e",
   "metadata": {},
   "outputs": [],
   "source": []
  },
  {
   "cell_type": "code",
   "execution_count": 70,
   "id": "faae3436",
   "metadata": {},
   "outputs": [],
   "source": [
    "open class BankAccount(val accountNumber: String) {\n",
    "    var balance : Double = 0.0\n",
    "\n",
    "    open fun deposite(amount: Double){\n",
    "        if(amount > 0) {balance += amount}\n",
    "        println(\"현재 금액 : $balance\")\n",
    "    }\n",
    "\n",
    "    fun withdraw(amount: Double) {\n",
    "        if(amount <= balance) {balance -= amount}\n",
    "        println(\"현재 금액 : $balance\")\n",
    "    }\n",
    "}"
   ]
  },
  {
   "cell_type": "code",
   "execution_count": 71,
   "id": "5cdc4263",
   "metadata": {},
   "outputs": [],
   "source": [
    "class SavingsAccount (accountNumber: String,\n",
    "                      val interestRate: Double) :\n",
    "                     BankAccount(accountNumber) {\n",
    "\n",
    "    fun depositInterest() {\n",
    "        val interest = balance * interestRate / 100\n",
    "        this.deposite(interest);\n",
    "    }\n",
    "}"
   ]
  },
  {
   "cell_type": "code",
   "execution_count": 84,
   "id": "b32a48e5",
   "metadata": {},
   "outputs": [],
   "source": [
    "class LoanAccount (accountNumber: String,\n",
    "                      val interestRate: Double) :\n",
    "                     BankAccount(accountNumber) {\n",
    "    override fun deposite(amount: Double){\n",
    "        if(amount <= balance) {balance -= amount}\n",
    "        println(\"현재 금액 : $balance\")\n",
    "    }\n",
    "    \n",
    "    fun withdraw_(amount: Double){\n",
    "        if(amount > 0) {balance += amount}\n",
    "        println(\"현재 금액 : $balance\")\n",
    "    }\n",
    "    \n",
    "    fun withdrawInterest() {\n",
    "        val interest = balance * interestRate / 100\n",
    "        this.withdraw_(interest);\n",
    "    }\n",
    "}"
   ]
  },
  {
   "cell_type": "code",
   "execution_count": 85,
   "id": "ddb147b9",
   "metadata": {},
   "outputs": [],
   "source": [
    "fun LoanAccount.loanWithdraw(amount: Double) {\n",
    "    if(amount > 0) { this.balance += amount}\n",
    "    println(\"현재 금액 : $balance\")\n",
    "} "
   ]
  },
  {
   "cell_type": "code",
   "execution_count": 86,
   "id": "d730c2eb",
   "metadata": {},
   "outputs": [
    {
     "name": "stdout",
     "output_type": "stream",
     "text": [
      "현재 금액 : 1000.0\n",
      "현재 금액 : 1060.0\n",
      "Current Balance = 1060.0\n",
      "현재 금액 : 1000.0\n",
      "현재 금액 : 1060.0\n",
      "Current Balance = 1060.0\n"
     ]
    }
   ],
   "source": [
    "val savingsAccount = SavingsAccount(\"5555890890\", 6.0)\n",
    "    \n",
    "savingsAccount.deposite(1000.0)\n",
    "savingsAccount.depositInterest()\n",
    "println(\"Current Balance = ${savingsAccount.balance}\")\n",
    "\n",
    "val loanAccount = LoanAccount(\"22222777778\", 6.0)\n",
    "loanAccount.loanWithdraw(1000.0)\n",
    "loanAccount.withdrawInterest()\n",
    "println(\"Current Balance = ${loanAccount.balance}\")"
   ]
  },
  {
   "cell_type": "code",
   "execution_count": null,
   "id": "e8c09276",
   "metadata": {},
   "outputs": [],
   "source": []
  }
 ],
 "metadata": {
  "kernelspec": {
   "display_name": "Kotlin",
   "language": "kotlin",
   "name": "kotlin"
  },
  "language_info": {
   "codemirror_mode": "text/x-kotlin",
   "file_extension": ".kt",
   "mimetype": "text/x-kotlin",
   "name": "kotlin",
   "nbconvert_exporter": "",
   "pygments_lexer": "kotlin",
   "version": "1.6.0-dev-3567"
  }
 },
 "nbformat": 4,
 "nbformat_minor": 5
}
