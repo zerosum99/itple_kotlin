{
 "cells": [
  {
   "cell_type": "markdown",
   "id": "9146e714",
   "metadata": {},
   "source": [
    "## 참고자료\n",
    "\n",
    "https://www.scaler.com/topics/association-composition-and-aggregation-in-java/"
   ]
  },
  {
   "cell_type": "code",
   "execution_count": null,
   "id": "35d41ee1",
   "metadata": {},
   "outputs": [],
   "source": []
  },
  {
   "cell_type": "code",
   "execution_count": null,
   "id": "1a970562",
   "metadata": {},
   "outputs": [],
   "source": []
  },
  {
   "cell_type": "markdown",
   "id": "e0274ca2",
   "metadata": {},
   "source": [
    "## 구성(Composition)관계\n",
    " \n",
    "\n",
    "- 구성관계는 집합관계와 유사하지만 특정 클래스가 어느 한 클래스의 부분이 되는 것 입니다.\n",
    "\n",
    "부분이 된 하위 클래스는 생명주기가 상위 클래스에 종속됩니다. 따라서 상위 클래스가 삭제되면 하위 클래스도 같이 삭제 되게 됩니다."
   ]
  },
  {
   "cell_type": "markdown",
   "id": "c81de86c",
   "metadata": {},
   "source": [
    "## composition 조합"
   ]
  },
  {
   "cell_type": "code",
   "execution_count": null,
   "id": "283cde22",
   "metadata": {},
   "outputs": [],
   "source": []
  },
  {
   "cell_type": "code",
   "execution_count": 1,
   "id": "b39951aa",
   "metadata": {},
   "outputs": [
    {
     "name": "stdout",
     "output_type": "stream",
     "text": [
      "제목 : 이펙티브 코틀린 and 저자 : 소슬비 \n",
      "제목 : 코틀린 인 액션 and 저자 : 조현웅 \n",
      "제목 : 코틀린 완벽가이드 and 저자 : 서정욱 \n"
     ]
    }
   ],
   "source": [
    "class Book(val title: String, val author : String) \n",
    "\n",
    "class Library(private var books : MutableList<Book>) {\n",
    "    \n",
    "    fun getTotalBooksInLibrary() : MutableList<Book>{\n",
    "        return books;\n",
    "    }\n",
    "}\n",
    "\n",
    "val b1 = Book(\"이펙티브 코틀린\", \"소슬비\")\n",
    "val b2 = Book(\"코틀린 인 액션\", \"조현웅\")\n",
    "val b3 = Book(\"코틀린 완벽가이드\",\"서정욱\")\n",
    "\n",
    "val books = mutableListOf<Book>();\n",
    "books.add(b1)\n",
    "books.add(b2)\n",
    "books.add(b3)\n",
    "\n",
    "val library = Library(books)\n",
    "val bbk = library.getTotalBooksInLibrary()\n",
    "\n",
    "for (i in bbk) {\n",
    "    println(\"제목 : ${i.title} and 저자 : ${i.author} \")\n",
    "}"
   ]
  },
  {
   "cell_type": "code",
   "execution_count": null,
   "id": "deb9fc53",
   "metadata": {},
   "outputs": [],
   "source": []
  },
  {
   "cell_type": "code",
   "execution_count": 2,
   "id": "7c61a7f0",
   "metadata": {},
   "outputs": [
    {
     "name": "stdout",
     "output_type": "stream",
     "text": [
      "대학명 = MIB 학생들 [서찬웅, 김성은, 문성혁]\n"
     ]
    }
   ],
   "source": [
    "class Student(val name : String)                     //학생 클래스 \n",
    "\n",
    "val student1 = Student(\"서찬웅\")           \n",
    "val student2 = Student(\"김성은\")\n",
    "val student3 = Student(\"문성혁\")\n",
    "val students = mutableListOf<Student>()               //학생객체 리스트롸 \n",
    "students.add(student1)\n",
    "students.add(student2)\n",
    "students.add(student3)\n",
    " \n",
    "class College(val name : String,                       //대학 클래스\n",
    "              var studentList: MutableList<Student>) {\n",
    "    \n",
    "    fun getStudent() : MutableList<String> {           // 참여자 조회\n",
    "         val students = this.studentList;\n",
    "         val names = mutableListOf<String>()\n",
    "         for(i in students){\n",
    "             names.add(i.name);\n",
    "         }\n",
    "         return names;\n",
    "    }\n",
    "}\n",
    "\n",
    "val college1 = College(\"MIB\", students)                 // 대학을 다니는 학생 구성 \n",
    "println(\"대학명 = \" + college1.name + \" 학생들 \" + college1.getStudent())"
   ]
  },
  {
   "cell_type": "code",
   "execution_count": null,
   "id": "3088e0ac",
   "metadata": {},
   "outputs": [],
   "source": []
  },
  {
   "cell_type": "code",
   "execution_count": null,
   "id": "d2175bf6",
   "metadata": {},
   "outputs": [],
   "source": []
  },
  {
   "cell_type": "code",
   "execution_count": null,
   "id": "9a2a6c24",
   "metadata": {},
   "outputs": [],
   "source": []
  },
  {
   "cell_type": "code",
   "execution_count": null,
   "id": "f14eba5d",
   "metadata": {},
   "outputs": [],
   "source": []
  }
 ],
 "metadata": {
  "kernelspec": {
   "display_name": "Kotlin",
   "language": "kotlin",
   "name": "kotlin"
  },
  "language_info": {
   "codemirror_mode": "text/x-kotlin",
   "file_extension": ".kt",
   "mimetype": "text/x-kotlin",
   "name": "kotlin",
   "nbconvert_exporter": "",
   "pygments_lexer": "kotlin",
   "version": "1.7.0-dev-1825"
  }
 },
 "nbformat": 4,
 "nbformat_minor": 5
}
