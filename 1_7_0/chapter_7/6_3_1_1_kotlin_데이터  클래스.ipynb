{
 "cells": [
  {
   "cell_type": "markdown",
   "id": "1799fa09",
   "metadata": {},
   "source": [
    "## 데이터 클래스"
   ]
  },
  {
   "cell_type": "code",
   "execution_count": null,
   "id": "45b7fda9",
   "metadata": {},
   "outputs": [],
   "source": []
  },
  {
   "cell_type": "code",
   "execution_count": 2,
   "id": "d2108089",
   "metadata": {},
   "outputs": [
    {
     "name": "stdout",
     "output_type": "stream",
     "text": [
      "Person\n",
      "[name, component1, copy, equals, hashCode, toString]\n",
      "true\n"
     ]
    }
   ],
   "source": [
    "fun Any.dir() : Set<String> {              // 내부 멤버 알라보기 \n",
    "    val a = this.javaClass.kotlin          // 클래스 참조 가져오기 \n",
    "    println(a.simpleName)                  // 클래스 내부의 이름 \n",
    "    var ll = mutableListOf<String>()       // 멤버를 저장할 리스트 객체 만들기 \n",
    "    for (i in a.members) {                 // 클래스 내부의 멤버를 관리하는 속성\n",
    "        ll.add(i.name)                     // 멤저 이름을 저장하기 \n",
    "    }\n",
    "    return ll.toSet()                      // 세트객체로 변환하기\n",
    "}\n",
    "\n",
    "data class Person(val name: String)        // 데이터 클래스 정의 \n",
    "\n",
    "val person1 = Person(\"John\")               // 데이터 클래스로 객체 만들기 \n",
    "println(person1.dir())                     // 데이터 클래스 내부 멤버확인하기 \n",
    "\n",
    "val person2 = Person(\"John\")\n",
    "println(person1 == person2)                 // 비교"
   ]
  },
  {
   "cell_type": "code",
   "execution_count": null,
   "id": "4e3f64b0",
   "metadata": {},
   "outputs": [],
   "source": []
  },
  {
   "cell_type": "markdown",
   "id": "cbc04947",
   "metadata": {},
   "source": [
    "## 비교하기 "
   ]
  },
  {
   "cell_type": "code",
   "execution_count": 2,
   "id": "9b87407e",
   "metadata": {},
   "outputs": [
    {
     "name": "stdout",
     "output_type": "stream",
     "text": [
      "true\n",
      "false\n",
      "false\n",
      "false\n"
     ]
    }
   ],
   "source": [
    "data class User(val name: String,          //모든 속성을 주생성자에 정의 \n",
    "                var age: Int)\n",
    "\n",
    "val u1 = User(\"John\",33)                   //동일한 이름일 경우 \n",
    "val u2 = User(\"John\",33)\n",
    "\n",
    "println(u1 == u2)                          //값으로 비교하면 동일 \n",
    "println(u1 === u2)                         //레퍼런스로 비교하면 다름 \n",
    "\n",
    "val u3 = User(name = \"Jack\", age = 1)    \n",
    "val u4 = u3.copy(age = 2)                  //복사하면 다른 객체 \n",
    "\n",
    "println(u3 == u4)                          //값과 레퍼런스 다 다름 \n",
    "println(u3 === u4)\n",
    "\n"
   ]
  },
  {
   "cell_type": "code",
   "execution_count": null,
   "id": "68590d1a",
   "metadata": {},
   "outputs": [],
   "source": []
  },
  {
   "cell_type": "markdown",
   "id": "80f550ca",
   "metadata": {},
   "source": [
    "## 상속할 때 이슈\n",
    "\n",
    "- 베이스 클래스의 속성을 처리하지 못한다. "
   ]
  },
  {
   "cell_type": "code",
   "execution_count": 3,
   "id": "ba47a58f",
   "metadata": {},
   "outputs": [
    {
     "name": "stdout",
     "output_type": "stream",
     "text": [
      "tom 20 0\n",
      "tom 20 1\n",
      "a == b: true}\n",
      "a.hashCode(): 115646\n",
      "b.hashCode(): 115646\n",
      "tom 20 0\n",
      "tom 20 1\n",
      "d == e: false\n"
     ]
    }
   ],
   "source": [
    "open class Person(var gender: Int = 0) \n",
    "data class Student(val age: Int, val name: String) : Person(0) \n",
    "\n",
    "val a = Student(20, \"tom\") \n",
    "val b = Student(20, \"tom\")\n",
    "b.gender = 1\n",
    "\n",
    "println(\"${a.name} ${a.age} ${a.gender}\")\n",
    "println(\"${b.name} ${b.age} ${b.gender}\")\n",
    "\n",
    "println(\"a == b: ${a == b}}\")\n",
    "println(\"a.hashCode(): ${a.hashCode()}\")\n",
    "println(\"b.hashCode(): ${b.hashCode()}\") \n",
    "\n",
    "\n",
    "// val c = Student(20,\"tom\").copy(gender=1)  // 복사할 때 상속한 속성을 인식하지 못함\n",
    "\n",
    "\n",
    "data class Student1(val age: Int, val name: String, var gender:Int=0)\n",
    "\n",
    "val d = Student1(20, \"tom\",0) \n",
    "val e = Student1(20, \"tom\", 0).copy(gender=1)\n",
    "\n",
    "println(\"${d.name} ${d.age} ${d.gender}\")\n",
    "println(\"${e.name} ${e.age} ${e.gender}\")\n",
    "println(\"d == e: ${d == e}\")"
   ]
  },
  {
   "cell_type": "code",
   "execution_count": null,
   "id": "9b9a3bb3",
   "metadata": {},
   "outputs": [],
   "source": []
  }
 ],
 "metadata": {
  "kernelspec": {
   "display_name": "Kotlin",
   "language": "kotlin",
   "name": "kotlin"
  },
  "language_info": {
   "codemirror_mode": "text/x-kotlin",
   "file_extension": ".kt",
   "mimetype": "text/x-kotlin",
   "name": "kotlin",
   "nbconvert_exporter": "",
   "pygments_lexer": "kotlin",
   "version": "1.7.0-dev-1825"
  }
 },
 "nbformat": 4,
 "nbformat_minor": 5
}
