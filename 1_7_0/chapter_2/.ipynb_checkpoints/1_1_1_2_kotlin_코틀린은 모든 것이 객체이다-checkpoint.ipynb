{
 "cells": [
  {
   "cell_type": "code",
   "execution_count": null,
   "id": "8adb6f70-aa2d-40f1-acd6-e2d6fa739aef",
   "metadata": {},
   "outputs": [],
   "source": []
  },
  {
   "cell_type": "code",
   "execution_count": 4,
   "id": "61728df0-fe61-49a0-934f-982cea6955e0",
   "metadata": {},
   "outputs": [
    {
     "data": {
      "text/plain": [
       "class kotlin.String"
      ]
     },
     "execution_count": 4,
     "metadata": {},
     "output_type": "execute_result"
    }
   ],
   "source": [
    "\"Hello\".javaClass.kotlin"
   ]
  },
  {
   "cell_type": "code",
   "execution_count": 5,
   "id": "4e3e8504-41c7-45ab-a8ef-3607c5255b58",
   "metadata": {},
   "outputs": [
    {
     "data": {
      "text/plain": [
       "class kotlin.Int"
      ]
     },
     "execution_count": 5,
     "metadata": {},
     "output_type": "execute_result"
    }
   ],
   "source": [
    "(100).javaClass.kotlin"
   ]
  },
  {
   "cell_type": "code",
   "execution_count": null,
   "id": "76c7b1d2-04f8-4919-86a8-b09459624a85",
   "metadata": {},
   "outputs": [],
   "source": []
  },
  {
   "cell_type": "code",
   "execution_count": null,
   "id": "91c1f2e7",
   "metadata": {},
   "outputs": [],
   "source": []
  },
  {
   "cell_type": "code",
   "execution_count": 6,
   "id": "83457034-5355-4295-841c-00d86903f622",
   "metadata": {},
   "outputs": [],
   "source": [
    "class Hello {\n",
    "    val hello = \"Hello\"\n",
    "}"
   ]
  },
  {
   "cell_type": "code",
   "execution_count": 7,
   "id": "c179b764-5af0-40a6-8076-9572797d1550",
   "metadata": {},
   "outputs": [],
   "source": [
    "val h = Hello()"
   ]
  },
  {
   "cell_type": "code",
   "execution_count": 8,
   "id": "8df2fda3-271a-4f89-85a9-427e2212e59d",
   "metadata": {},
   "outputs": [
    {
     "data": {
      "text/plain": [
       "class Line_5$Hello"
      ]
     },
     "execution_count": 8,
     "metadata": {},
     "output_type": "execute_result"
    }
   ],
   "source": [
    "h.javaClass.kotlin"
   ]
  },
  {
   "cell_type": "code",
   "execution_count": null,
   "id": "0c0208d1-fdab-4989-8421-d9517325f0c7",
   "metadata": {},
   "outputs": [],
   "source": []
  },
  {
   "cell_type": "code",
   "execution_count": null,
   "id": "21efdf4f-fa5e-41ca-99c6-cab7bead89cc",
   "metadata": {},
   "outputs": [],
   "source": []
  }
 ],
 "metadata": {
  "kernelspec": {
   "display_name": "Kotlin",
   "language": "kotlin",
   "name": "kotlin"
  },
  "language_info": {
   "codemirror_mode": "text/x-kotlin",
   "file_extension": ".kt",
   "mimetype": "text/x-kotlin",
   "name": "kotlin",
   "nbconvert_exporter": "",
   "pygments_lexer": "kotlin",
   "version": "1.7.0-dev-1825"
  }
 },
 "nbformat": 4,
 "nbformat_minor": 5
}
