{
 "cells": [
  {
   "cell_type": "code",
   "execution_count": null,
   "id": "2fedd1b0-bc8f-4338-b6b0-fc8f27c4eb18",
   "metadata": {},
   "outputs": [],
   "source": []
  },
  {
   "cell_type": "code",
   "execution_count": 1,
   "id": "35e88339-0481-4bfe-8d68-56d077edea05",
   "metadata": {},
   "outputs": [
    {
     "data": {
      "text/plain": [
       "1.6.0"
      ]
     },
     "execution_count": 1,
     "metadata": {},
     "output_type": "execute_result"
    }
   ],
   "source": [
    "KotlinVersion.CURRENT"
   ]
  },
  {
   "cell_type": "markdown",
   "id": "f358b94e",
   "metadata": {},
   "source": [
    "##  변수 정의 및 변수 정의 레벨 정리"
   ]
  },
  {
   "cell_type": "code",
   "execution_count": 46,
   "id": "c227f915",
   "metadata": {},
   "outputs": [],
   "source": [
    "val 불변변수 = \"불변변수\"   // 한번 초기화되면 다시 재할당이 안됨\n",
    "var 가변변수 = \"가변변수\"   // 초기화한 후에 항상 재할당이 가능 "
   ]
  },
  {
   "cell_type": "code",
   "execution_count": null,
   "id": "e9324120",
   "metadata": {},
   "outputs": [],
   "source": []
  },
  {
   "cell_type": "markdown",
   "id": "48bff67f-a07f-4593-9818-fc5fc91d38ff",
   "metadata": {},
   "source": [
    "## 2.  변수 정의 "
   ]
  },
  {
   "cell_type": "markdown",
   "id": "c01d8427-9818-4c33-9d94-44d0444ef6ae",
   "metadata": {},
   "source": [
    "### 최상위 레벨 변수 정의"
   ]
  },
  {
   "cell_type": "code",
   "execution_count": 2,
   "id": "6f917d25",
   "metadata": {},
   "outputs": [
    {
     "name": "stdout",
     "output_type": "stream",
     "text": [
      "초기값\n"
     ]
    }
   ],
   "source": [
    "val 변수정의 : String = \"초기값\"\n",
    "\n",
    "println(변수정의)\n",
    "\n",
    "// 변수정의 = \"갱신\"   val 변수는 재할당 금지\n"
   ]
  },
  {
   "cell_type": "code",
   "execution_count": null,
   "id": "dd634c7c-b246-4da0-adcc-de39d380bbfb",
   "metadata": {},
   "outputs": [],
   "source": []
  },
  {
   "cell_type": "markdown",
   "id": "a7bba487-6cdc-47cb-a976-fe04e2b69a36",
   "metadata": {},
   "source": [
    "### 지역변수"
   ]
  },
  {
   "cell_type": "code",
   "execution_count": 3,
   "id": "72874be3-22f1-4de9-a754-1e80b26bc517",
   "metadata": {},
   "outputs": [
    {
     "name": "stdout",
     "output_type": "stream",
     "text": [
      "for 지역변수 : 100\n",
      "for 지역변수 : 100\n",
      "함수 지역변수 : 100\n"
     ]
    }
   ],
   "source": [
    "for (i in 1..2 ){\n",
    "    val localVal = 100\n",
    "    println(\"for 지역변수 : \" + localVal)\n",
    "}\n",
    "\n",
    "//localVal 변수는 코드블럭 밖에서 참조 불가\n",
    "\n",
    "fun func() {                 \n",
    "    val locallevel : Int      // 함수 블럭 내부에 정의된 변수 \n",
    "    locallevel = 100\n",
    "    \n",
    "    println(\"함수 지역변수 : \" +locallevel)\n",
    "}\n",
    "\n",
    "// locallevel 변수도 함수코드블럭 밖에서 참조 불가 \n",
    "\n",
    "func()\n",
    "\n"
   ]
  },
  {
   "cell_type": "code",
   "execution_count": null,
   "id": "8af72cb2-ed7f-4b28-a118-791c851a756e",
   "metadata": {},
   "outputs": [],
   "source": []
  },
  {
   "cell_type": "code",
   "execution_count": 30,
   "id": "35f2f63c",
   "metadata": {},
   "outputs": [],
   "source": [
    "val i = 3\n",
    "\n",
    "if (i in 1..5) {\n",
    "    var sum = 0\n",
    "    val 지역변수 = 100\n",
    "    sum = sum + i + 지역변수\n",
    "}\n",
    "\n",
    "// sum, 지역변수 는 if 코드블럭 내부의 지역변수 외부에서 참조불가"
   ]
  },
  {
   "cell_type": "code",
   "execution_count": null,
   "id": "31be6a50-84c5-4e36-bf44-45e28806a430",
   "metadata": {},
   "outputs": [],
   "source": []
  },
  {
   "cell_type": "code",
   "execution_count": 4,
   "id": "1e1179af-0971-4169-8248-cc5e6a867250",
   "metadata": {},
   "outputs": [
    {
     "name": "stdout",
     "output_type": "stream",
     "text": [
      " 지역변수 100\n",
      " 최상위변수 글로벌 변수\n"
     ]
    }
   ],
   "source": [
    "val globallevel = \"글로벌 변수\"          // 최상위 변수는 전역변수 \n",
    "\n",
    "fun funcGlobal() {\n",
    "    val locallevel : Int              // 함수 내부는 지역변수 \n",
    "    locallevel = 100\n",
    "    println(\" 지역변수 $locallevel\")\n",
    "    println(\" 최상위변수 $globallevel\")  // 함수 외부의 변수는 참조가능\n",
    "}\n",
    "\n",
    "funcGlobal()"
   ]
  },
  {
   "cell_type": "code",
   "execution_count": null,
   "id": "7ea8998a-fcdc-4fc2-a2ce-a280a0d540a8",
   "metadata": {},
   "outputs": [],
   "source": []
  },
  {
   "cell_type": "markdown",
   "id": "01d16610-2085-4ffb-b1d5-2be806e0b75d",
   "metadata": {},
   "source": [
    "### 클래스멤버 변수"
   ]
  },
  {
   "cell_type": "code",
   "execution_count": 7,
   "id": "39e36434-175a-4a02-bacc-969a612ec463",
   "metadata": {},
   "outputs": [
    {
     "name": "stdout",
     "output_type": "stream",
     "text": [
      "100\n"
     ]
    }
   ],
   "source": [
    "class Klass {\n",
    "    val memberVar : Int = 100\n",
    "}\n",
    "\n",
    "val k = Klass()\n",
    "println(k.memberVar)"
   ]
  },
  {
   "cell_type": "code",
   "execution_count": null,
   "id": "b5d3e510-0cd8-4443-b831-5a78b7244c48",
   "metadata": {},
   "outputs": [],
   "source": []
  },
  {
   "cell_type": "code",
   "execution_count": null,
   "id": "d5222633-ed96-431f-802f-e7ecfd268de2",
   "metadata": {},
   "outputs": [],
   "source": []
  },
  {
   "cell_type": "markdown",
   "id": "531baaa7-bca8-4292-b0ed-b7ff53fc19da",
   "metadata": {},
   "source": [
    "## 5. 상수 변수 정의"
   ]
  },
  {
   "cell_type": "code",
   "execution_count": null,
   "id": "a644423b-0721-4dac-accc-62c4734fa4c0",
   "metadata": {},
   "outputs": [],
   "source": []
  },
  {
   "cell_type": "code",
   "execution_count": 33,
   "id": "a7108f01-782a-453a-b1e4-1bc539867e92",
   "metadata": {},
   "outputs": [
    {
     "name": "stdout",
     "output_type": "stream",
     "text": [
      "Hello\n"
     ]
    }
   ],
   "source": [
    "//const val ABC_CONST_HL : String = \"Hello\"  주피터 상에서 에러발생\n",
    "\n",
    "object ABC {                               // 객체에서 상수 정의 가능                         \n",
    "   const val ABC_CONST : String = \"Hello\"  // 기본자료형과 문자열만 가능   \n",
    "}\n",
    "\n",
    "\n",
    "val abc = ABC\n",
    "println(abc.ABC_CONST)\n"
   ]
  },
  {
   "cell_type": "code",
   "execution_count": null,
   "id": "bb3d57a2-f2bc-4656-b2a3-dc3af313a183",
   "metadata": {},
   "outputs": [],
   "source": []
  },
  {
   "cell_type": "markdown",
   "id": "1d59b552-4e0d-4a6d-b076-4d6f8576444e",
   "metadata": {},
   "source": [
    "## 변수의 타입추론"
   ]
  },
  {
   "cell_type": "code",
   "execution_count": null,
   "id": "048248e4-6d2d-4fe4-ba65-c6e7d2ed769c",
   "metadata": {},
   "outputs": [],
   "source": []
  },
  {
   "cell_type": "code",
   "execution_count": 42,
   "id": "c6171540-6e04-4b46-be65-ca8a01a3a949",
   "metadata": {},
   "outputs": [
    {
     "name": "stdout",
     "output_type": "stream",
     "text": [
      "class kotlin.Int\n",
      "class kotlin.Long\n"
     ]
    }
   ],
   "source": [
    "var number = 10000 \n",
    "println(number.javaClass.kotlin)\n",
    "\n",
    "var longNumber = 100L\n",
    "println(longNumber.javaClass.kotlin)"
   ]
  },
  {
   "cell_type": "code",
   "execution_count": null,
   "id": "9bc69b5d-1b22-4739-8e88-074f68e3b100",
   "metadata": {},
   "outputs": [],
   "source": []
  },
  {
   "cell_type": "markdown",
   "id": "47801881-7b9e-4231-a2ac-0d20ca771c16",
   "metadata": {},
   "source": [
    "## 변수의 타입 변환"
   ]
  },
  {
   "cell_type": "code",
   "execution_count": null,
   "id": "c972cbcb-5786-4e35-a0e6-e1aa37058d34",
   "metadata": {},
   "outputs": [],
   "source": []
  },
  {
   "cell_type": "code",
   "execution_count": 43,
   "id": "2e9d73ca-4c5b-45f7-858b-dedd0f768e58",
   "metadata": {},
   "outputs": [
    {
     "name": "stdout",
     "output_type": "stream",
     "text": [
      "20000\n",
      "200\n"
     ]
    }
   ],
   "source": [
    "//longNumber = number\n",
    "longNumber = number.toLong()\n",
    "//number = longNumber\n",
    "number = longNumber.toInt()\n"
   ]
  },
  {
   "cell_type": "code",
   "execution_count": null,
   "id": "c8023eea",
   "metadata": {},
   "outputs": [],
   "source": []
  },
  {
   "cell_type": "markdown",
   "id": "287b8ab8",
   "metadata": {},
   "source": [
    "## 숫자에 따른 형변환 메소드 제공"
   ]
  },
  {
   "cell_type": "code",
   "execution_count": 39,
   "id": "345b0c49-4608-45a0-bfa7-bc92f419f5d3",
   "metadata": {},
   "outputs": [
    {
     "name": "stdout",
     "output_type": "stream",
     "text": [
      "16\n",
      "10000\n",
      "10000\n",
      "10000.0\n",
      "10000.0\n"
     ]
    }
   ],
   "source": [
    "println(number.toByte())\n",
    "println(number.toShort())\n",
    "println(number.toLong())\n",
    "println(number.toFloat())\n",
    "println(number.toDouble())"
   ]
  },
  {
   "cell_type": "code",
   "execution_count": null,
   "id": "f0ec475a-743d-4ad1-ada4-5eb173c4c978",
   "metadata": {},
   "outputs": [],
   "source": []
  },
  {
   "cell_type": "markdown",
   "id": "f090267a",
   "metadata": {},
   "source": [
    "## 리터럴일 경우 계산처리 "
   ]
  },
  {
   "cell_type": "code",
   "execution_count": 45,
   "id": "0ab40567-3e27-4b30-a030-aeeb27c2584d",
   "metadata": {},
   "outputs": [
    {
     "name": "stdout",
     "output_type": "stream",
     "text": [
      "200\n"
     ]
    }
   ],
   "source": [
    "val longNumber = 100L \n",
    "val number = 100\n",
    "val ll = longNumber + number\n",
    "println(ll)"
   ]
  },
  {
   "cell_type": "code",
   "execution_count": null,
   "id": "6c52ec5f-e554-45d4-82de-077b77607b2f",
   "metadata": {},
   "outputs": [],
   "source": []
  }
 ],
 "metadata": {
  "kernelspec": {
   "display_name": "Kotlin",
   "language": "kotlin",
   "name": "kotlin"
  },
  "language_info": {
   "codemirror_mode": "text/x-kotlin",
   "file_extension": ".kt",
   "mimetype": "text/x-kotlin",
   "name": "kotlin",
   "nbconvert_exporter": "",
   "pygments_lexer": "kotlin",
   "version": "1.6.0-dev-3567"
  }
 },
 "nbformat": 4,
 "nbformat_minor": 5
}
