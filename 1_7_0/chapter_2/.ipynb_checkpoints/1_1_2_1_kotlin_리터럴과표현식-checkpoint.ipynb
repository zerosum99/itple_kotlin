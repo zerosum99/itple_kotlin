{
 "cells": [
  {
   "cell_type": "code",
   "execution_count": null,
   "id": "2fedd1b0-bc8f-4338-b6b0-fc8f27c4eb18",
   "metadata": {},
   "outputs": [],
   "source": []
  },
  {
   "cell_type": "code",
   "execution_count": 1,
   "id": "35e88339-0481-4bfe-8d68-56d077edea05",
   "metadata": {},
   "outputs": [
    {
     "data": {
      "text/plain": [
       "1.6.0"
      ]
     },
     "execution_count": 1,
     "metadata": {},
     "output_type": "execute_result"
    }
   ],
   "source": [
    "KotlinVersion.CURRENT"
   ]
  },
  {
   "cell_type": "code",
   "execution_count": null,
   "id": "4c287488-acb2-4c9a-ad3b-410dad29ab09",
   "metadata": {},
   "outputs": [],
   "source": []
  },
  {
   "cell_type": "markdown",
   "id": "34549337-6ce5-4c87-bba1-bab928e962b5",
   "metadata": {},
   "source": [
    "## 1. 숫자 리터럴"
   ]
  },
  {
   "cell_type": "code",
   "execution_count": 2,
   "id": "5889846a-b409-4936-8d15-85999a3de296",
   "metadata": {},
   "outputs": [
    {
     "name": "stdout",
     "output_type": "stream",
     "text": [
      "class kotlin.Int\n",
      "class kotlin.Long\n",
      "class kotlin.Double\n",
      "class kotlin.Float\n"
     ]
    }
   ],
   "source": [
    "val intVar = 100            // 정수 기본은 Int\n",
    "val longVar = 100L          // 정수 Long은 접미사로 L,l 붙인다\n",
    "val doubleVar = 100.0       // 실수 기보는 Double\n",
    "val floatVar = 100.0F       // 실수 Float은 접미사 F,f 붙인다\n",
    "                            //코틀린 내부 클래스 확인\n",
    "println(intVar.javaClass.kotlin)\n",
    "println(longVar.javaClass.kotlin)\n",
    "println(doubleVar.javaClass.kotlin)\n",
    "println(floatVar.javaClass.kotlin)"
   ]
  },
  {
   "cell_type": "code",
   "execution_count": null,
   "id": "5a925869-c341-4306-87ac-cf4c7b58e3c7",
   "metadata": {},
   "outputs": [],
   "source": []
  },
  {
   "cell_type": "markdown",
   "id": "f8e63623-ac74-4deb-b1a3-e155f1946bb3",
   "metadata": {},
   "source": [
    "## 2. 문자와 문자열 리터럴"
   ]
  },
  {
   "cell_type": "code",
   "execution_count": 3,
   "id": "2ad20d25",
   "metadata": {},
   "outputs": [
    {
     "name": "stdout",
     "output_type": "stream",
     "text": [
      "class kotlin.Char\n",
      "class kotlin.String\n",
      "class kotlin.Boolean\n"
     ]
    }
   ],
   "source": [
    "val charVar = 'a'              // 문자 리터럴\n",
    "val stringVar = \"string\"       // 문자열 리터럴\n",
    "val boolVar = true             // 불리언 리터럴 \n",
    "\n",
    "println(charVar.javaClass.kotlin)\n",
    "println(stringVar.javaClass.kotlin)\n",
    "println(boolVar.javaClass.kotlin)"
   ]
  },
  {
   "cell_type": "code",
   "execution_count": null,
   "id": "3bd036da",
   "metadata": {},
   "outputs": [],
   "source": []
  },
  {
   "cell_type": "code",
   "execution_count": null,
   "id": "41f8143f-3120-4aaa-94d6-f53314b27457",
   "metadata": {},
   "outputs": [],
   "source": []
  },
  {
   "cell_type": "markdown",
   "id": "517b374a-4a3d-4817-b8cb-c9103df502d4",
   "metadata": {},
   "source": [
    "## 3. 연산자와 표현식 평가"
   ]
  },
  {
   "cell_type": "code",
   "execution_count": 4,
   "id": "3d7c623e-636a-45bd-b780-47e554cf3e39",
   "metadata": {},
   "outputs": [
    {
     "name": "stdout",
     "output_type": "stream",
     "text": [
      "200\n",
      "200\n",
      "0\n",
      "0\n",
      "2\n",
      "2\n",
      "6\n",
      "2\n",
      "200\n",
      "200\n"
     ]
    }
   ],
   "source": [
    "println(100 + 100)       //연산자 사용 \n",
    "println(100.plus(100))   //메소드 사용 \n",
    "\n",
    "println(100 - 100)       //연산자 사용 \n",
    "println(100.minus(100))  //메소드 사용\n",
    "\n",
    "println(200 / 100)       //연산자 사용 \n",
    "println(200.div(100))    //메소드 사용\n",
    "\n",
    "println(300 % 7)         //연산자 사용 \n",
    "println(100.rem(7))      //메소드 사용\n",
    "\n",
    "println(10 * 20)         //연산자 사용 \n",
    "println(10.times(20))    //메소드 사용"
   ]
  },
  {
   "cell_type": "code",
   "execution_count": null,
   "id": "25dba3e7-e4bb-401f-9e91-1f2a1d83ce6d",
   "metadata": {},
   "outputs": [],
   "source": []
  },
  {
   "cell_type": "code",
   "execution_count": null,
   "id": "9056bd13-c53f-45e5-880c-bfb225cce82d",
   "metadata": {},
   "outputs": [],
   "source": []
  },
  {
   "cell_type": "code",
   "execution_count": null,
   "id": "df078353-a932-4205-a2aa-1a3fbcd3d212",
   "metadata": {},
   "outputs": [],
   "source": []
  },
  {
   "cell_type": "code",
   "execution_count": null,
   "id": "86a60f67-9415-480d-b887-087cad33c198",
   "metadata": {},
   "outputs": [],
   "source": []
  },
  {
   "cell_type": "code",
   "execution_count": null,
   "id": "d19837bd-81f6-487f-a413-58541ab3265a",
   "metadata": {},
   "outputs": [],
   "source": []
  },
  {
   "cell_type": "code",
   "execution_count": null,
   "id": "bfdeb05e-19cc-43ae-8c05-e9714b7081f5",
   "metadata": {},
   "outputs": [],
   "source": []
  }
 ],
 "metadata": {
  "kernelspec": {
   "display_name": "Kotlin",
   "language": "kotlin",
   "name": "kotlin"
  },
  "language_info": {
   "codemirror_mode": "text/x-kotlin",
   "file_extension": ".kt",
   "mimetype": "text/x-kotlin",
   "name": "kotlin",
   "nbconvert_exporter": "",
   "pygments_lexer": "kotlin",
   "version": "1.6.0-dev-3567"
  }
 },
 "nbformat": 4,
 "nbformat_minor": 5
}
