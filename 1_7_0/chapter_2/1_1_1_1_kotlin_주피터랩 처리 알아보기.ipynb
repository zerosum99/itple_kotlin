{
 "cells": [
  {
   "cell_type": "code",
   "execution_count": null,
   "id": "8adb6f70-aa2d-40f1-acd6-e2d6fa739aef",
   "metadata": {},
   "outputs": [],
   "source": []
  },
  {
   "cell_type": "code",
   "execution_count": null,
   "id": "b19d53d1-6b4b-4e97-b657-f0187a8a12ab",
   "metadata": {},
   "outputs": [],
   "source": []
  },
  {
   "cell_type": "code",
   "execution_count": null,
   "id": "e9625ad5-869d-4966-978f-e4e86ae22677",
   "metadata": {},
   "outputs": [],
   "source": []
  },
  {
   "cell_type": "code",
   "execution_count": 1,
   "id": "5b2fb746-0699-4b47-9faa-7887c5da6231",
   "metadata": {},
   "outputs": [],
   "source": [
    "val hello = \"Hello\"\n",
    "\n",
    "fun main() {\n",
    "    println(\" $hello \")\n",
    "    println(\" kotlin version : ${KotlinVersion.CURRENT } \")\n",
    "}"
   ]
  },
  {
   "cell_type": "code",
   "execution_count": null,
   "id": "6571f85d-89bc-42ec-9526-ef0891fe5032",
   "metadata": {},
   "outputs": [],
   "source": []
  },
  {
   "cell_type": "code",
   "execution_count": 2,
   "id": "0c69bba7-7623-462f-84d4-4c5470333079",
   "metadata": {},
   "outputs": [
    {
     "name": "stdout",
     "output_type": "stream",
     "text": [
      " Hello \n",
      " kotlin version : 1.7.0 \n"
     ]
    }
   ],
   "source": [
    "main()"
   ]
  },
  {
   "cell_type": "code",
   "execution_count": null,
   "id": "dcbe85ad-d37f-4375-ad98-f881498e9bee",
   "metadata": {},
   "outputs": [],
   "source": []
  },
  {
   "cell_type": "code",
   "execution_count": 3,
   "id": "3c04df16-cc23-4f65-8190-bfb08b375f10",
   "metadata": {},
   "outputs": [
    {
     "data": {
      "text/plain": [
       "Hello"
      ]
     },
     "execution_count": 3,
     "metadata": {},
     "output_type": "execute_result"
    }
   ],
   "source": [
    "hello"
   ]
  },
  {
   "cell_type": "code",
   "execution_count": null,
   "id": "bb90f2a5-9ba9-44f3-add5-1fc792b22e74",
   "metadata": {},
   "outputs": [],
   "source": []
  },
  {
   "cell_type": "markdown",
   "id": "67f46483",
   "metadata": {},
   "source": [
    "## 문자열인 정수에 대한 클래스 확인하기"
   ]
  },
  {
   "cell_type": "code",
   "execution_count": 4,
   "id": "61728df0-fe61-49a0-934f-982cea6955e0",
   "metadata": {},
   "outputs": [
    {
     "data": {
      "text/plain": [
       "class kotlin.String"
      ]
     },
     "execution_count": 4,
     "metadata": {},
     "output_type": "execute_result"
    }
   ],
   "source": [
    "\"Hello\".javaClass.kotlin"
   ]
  },
  {
   "cell_type": "code",
   "execution_count": 5,
   "id": "4e3e8504-41c7-45ab-a8ef-3607c5255b58",
   "metadata": {},
   "outputs": [
    {
     "data": {
      "text/plain": [
       "class kotlin.Int"
      ]
     },
     "execution_count": 5,
     "metadata": {},
     "output_type": "execute_result"
    }
   ],
   "source": [
    "(100).javaClass.kotlin"
   ]
  },
  {
   "cell_type": "code",
   "execution_count": null,
   "id": "76c7b1d2-04f8-4919-86a8-b09459624a85",
   "metadata": {},
   "outputs": [],
   "source": []
  },
  {
   "cell_type": "code",
   "execution_count": null,
   "id": "cbc86fd0",
   "metadata": {},
   "outputs": [],
   "source": []
  },
  {
   "cell_type": "code",
   "execution_count": null,
   "id": "21efdf4f-fa5e-41ca-99c6-cab7bead89cc",
   "metadata": {},
   "outputs": [],
   "source": []
  }
 ],
 "metadata": {
  "kernelspec": {
   "display_name": "Kotlin",
   "language": "kotlin",
   "name": "kotlin"
  },
  "language_info": {
   "codemirror_mode": "text/x-kotlin",
   "file_extension": ".kt",
   "mimetype": "text/x-kotlin",
   "name": "kotlin",
   "nbconvert_exporter": "",
   "pygments_lexer": "kotlin",
   "version": "1.8.20"
  }
 },
 "nbformat": 4,
 "nbformat_minor": 5
}
