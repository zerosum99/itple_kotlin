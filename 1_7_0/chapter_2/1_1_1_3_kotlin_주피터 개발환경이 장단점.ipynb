{
 "cells": [
  {
   "cell_type": "code",
   "execution_count": null,
   "id": "5c91d943",
   "metadata": {},
   "outputs": [],
   "source": []
  },
  {
   "cell_type": "code",
   "execution_count": 1,
   "id": "8b573bbb",
   "metadata": {},
   "outputs": [
    {
     "data": {
      "text/plain": [
       "1.7.0"
      ]
     },
     "execution_count": 1,
     "metadata": {},
     "output_type": "execute_result"
    }
   ],
   "source": [
    "KotlinVersion.CURRENT"
   ]
  },
  {
   "cell_type": "markdown",
   "id": "604bec0f",
   "metadata": {},
   "source": [
    "## 장점 1"
   ]
  },
  {
   "cell_type": "code",
   "execution_count": 2,
   "id": "c4a96c71",
   "metadata": {},
   "outputs": [
    {
     "name": "stdout",
     "output_type": "stream",
     "text": [
      "Hello World !!!\n"
     ]
    }
   ],
   "source": [
    "fun main() {\n",
    "    println(\"Hello World !!!\")\n",
    "}\n",
    "\n",
    "main()                     // 개발툴에서는 main 함수로 실행 "
   ]
  },
  {
   "cell_type": "code",
   "execution_count": null,
   "id": "2922c865",
   "metadata": {},
   "outputs": [],
   "source": []
  },
  {
   "cell_type": "code",
   "execution_count": 3,
   "id": "f1b074cd",
   "metadata": {},
   "outputs": [
    {
     "name": "stdout",
     "output_type": "stream",
     "text": [
      "Hello World !!!\n"
     ]
    }
   ],
   "source": [
    "println(\"Hello World !!!\") // 스크립트 처리이므로 바로 실행가능 "
   ]
  },
  {
   "cell_type": "markdown",
   "id": "e9a2f33f",
   "metadata": {},
   "source": [
    "## 장점 2 "
   ]
  },
  {
   "cell_type": "markdown",
   "id": "5f6fa4f0",
   "metadata": {},
   "source": [
    "###  Student 클래스의 특징 \n",
    "\n",
    "- 특정 속성만을 가지는 클래스이다. "
   ]
  },
  {
   "cell_type": "code",
   "execution_count": 6,
   "id": "babf294e",
   "metadata": {},
   "outputs": [],
   "source": [
    "class Student(val name:String, val age : Int)\n",
    "\n",
    "val s = Student(\"조현웅\", 29)"
   ]
  },
  {
   "cell_type": "code",
   "execution_count": null,
   "id": "7b3aa5cf",
   "metadata": {},
   "outputs": [],
   "source": []
  },
  {
   "cell_type": "code",
   "execution_count": null,
   "id": "8a89aa4b",
   "metadata": {},
   "outputs": [],
   "source": []
  },
  {
   "cell_type": "markdown",
   "id": "effc81ed",
   "metadata": {},
   "source": [
    "##  단점 1"
   ]
  },
  {
   "cell_type": "code",
   "execution_count": 4,
   "id": "eb18f593",
   "metadata": {},
   "outputs": [],
   "source": [
    "//package com.jbrain.package.     // 작성해도 실제 패키지를 처리할 수 없음\n",
    "\n",
    "//const val CONST = 100          //  구성할 수 없어서 실행할 때 에러를 발생시킴"
   ]
  },
  {
   "cell_type": "markdown",
   "id": "b0149833",
   "metadata": {},
   "source": [
    "## 단점 2"
   ]
  },
  {
   "cell_type": "code",
   "execution_count": 7,
   "id": "0316efd0",
   "metadata": {},
   "outputs": [],
   "source": [
    "//%%writfile aaa.kts \n",
    "// class Student(val name:String, val age : Int)\n",
    "//\n",
    "// fun main() {\n",
    "//    val s = Student(\"조현웅\", 29)\n",
    "//    println(\"Hello World !!! ${s.name}\")\n",
    "//}"
   ]
  },
  {
   "cell_type": "code",
   "execution_count": null,
   "id": "df050ed7",
   "metadata": {},
   "outputs": [],
   "source": []
  }
 ],
 "metadata": {
  "kernelspec": {
   "display_name": "Kotlin",
   "language": "kotlin",
   "name": "kotlin"
  },
  "language_info": {
   "codemirror_mode": "text/x-kotlin",
   "file_extension": ".kt",
   "mimetype": "text/x-kotlin",
   "name": "kotlin",
   "nbconvert_exporter": "",
   "pygments_lexer": "kotlin",
   "version": "1.7.0-dev-1825"
  }
 },
 "nbformat": 4,
 "nbformat_minor": 5
}
