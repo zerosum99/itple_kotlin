{
 "cells": [
  {
   "cell_type": "markdown",
   "id": "1abdd65e",
   "metadata": {},
   "source": [
    "## 함수를 상속해서 실행객체 만들기"
   ]
  },
  {
   "cell_type": "code",
   "execution_count": 27,
   "id": "95b449a6",
   "metadata": {},
   "outputs": [
    {
     "name": "stdout",
     "output_type": "stream",
     "text": [
      "인자가 없고 출력하는 함수\n",
      "함수 객체가 만들어지고 실행\n",
      "true\n",
      "true\n"
     ]
    }
   ],
   "source": [
    "fun funB() = println(\"인자가 없고 출력하는 함수\")\n",
    "\n",
    "object B: Function<Unit> { \n",
    "    operator fun invoke()= {\n",
    "        println(\"함수 객체가 만들어지고 실행\")\n",
    "    }\n",
    "}\n",
    "\n",
    "funB()                                // 함수실행\n",
    "B().invoke()                          // 오브젝트선언으로 함수 작성 \n",
    "println((::funB) is Function<Unit>)   // 동일한 함수타입 확인 \n",
    "println(B() is Function<Unit>)        // 동일한 함수타입 확인 "
   ]
  },
  {
   "cell_type": "code",
   "execution_count": null,
   "id": "4d201f0a",
   "metadata": {},
   "outputs": [],
   "source": []
  },
  {
   "cell_type": "markdown",
   "id": "228bf1d2",
   "metadata": {},
   "source": [
    "## 여러개 매개변수 전달 함수 "
   ]
  },
  {
   "cell_type": "code",
   "execution_count": 15,
   "id": "ecab4543",
   "metadata": {},
   "outputs": [
    {
     "name": "stdout",
     "output_type": "stream",
     "text": [
      "I am called\n",
      "30\n",
      "30\n",
      "Line_381$1\n",
      "class Line_381$ADDFunction\n"
     ]
    }
   ],
   "source": [
    "val add :Function2<Int,Int,Int> = {x:Int, y:Int -> x+y}\n",
    "\n",
    "\n",
    "class ADDFunction: (Int, Int)->Int {\n",
    "    override fun invoke(x:Int, y:Int):Int{\n",
    "        println(\"I am called\")\n",
    "        return x+y\n",
    "    }\n",
    "}\n",
    "\n",
    "val function = ADDFunction()\n",
    "println(function(10,20))                     // Prints: I am called\n",
    "println(add(10,20))\n",
    "println(::add.javaClass.name)\n",
    "println(function::class)"
   ]
  },
  {
   "cell_type": "code",
   "execution_count": null,
   "id": "c38d8aa7",
   "metadata": {},
   "outputs": [],
   "source": []
  },
  {
   "cell_type": "markdown",
   "id": "141152be",
   "metadata": {},
   "source": [
    "## 함수를 반환하는 함수 처리"
   ]
  },
  {
   "cell_type": "code",
   "execution_count": 43,
   "id": "77ffd949",
   "metadata": {},
   "outputs": [
    {
     "name": "stdout",
     "output_type": "stream",
     "text": [
      "함수표현식 전달\n",
      "kotlin.Unit\n",
      "() -> kotlin.Unit\n",
      "true\n",
      "함수 반환 후 재실행\n"
     ]
    }
   ],
   "source": [
    "fun funcc() : ()->Unit {               // 함수를 반환하는 함수 정의 \n",
    "    return {println(\"함수표현식 전달\")}\n",
    "}\n",
    "\n",
    "val C = object  : Function<()->Unit> {  //익명클래스로 함수를 반환하는 객체 생성\n",
    "    operator fun invoke()= {\n",
    "        println(\"함수 반환 후 재실행\")\n",
    "    }\n",
    "}\n",
    "\n",
    "println(funcc().invoke())               //함수를 실행한 후에 반환된 함수 추가 실행\n",
    "val funC = C()\n",
    "println(C())\n",
    "println((::funC) is Function<()->Unit>) // 함수자료형 확인\n",
    "C()()"
   ]
  },
  {
   "cell_type": "code",
   "execution_count": null,
   "id": "13a868ce",
   "metadata": {},
   "outputs": [],
   "source": []
  },
  {
   "cell_type": "code",
   "execution_count": null,
   "id": "b1606743",
   "metadata": {},
   "outputs": [],
   "source": []
  },
  {
   "cell_type": "code",
   "execution_count": null,
   "id": "64086ff9",
   "metadata": {},
   "outputs": [],
   "source": []
  },
  {
   "cell_type": "code",
   "execution_count": null,
   "id": "6e7ab1ab",
   "metadata": {},
   "outputs": [],
   "source": []
  },
  {
   "cell_type": "code",
   "execution_count": null,
   "id": "100a21f6",
   "metadata": {},
   "outputs": [],
   "source": []
  },
  {
   "cell_type": "code",
   "execution_count": null,
   "id": "a926f1d3",
   "metadata": {},
   "outputs": [],
   "source": []
  },
  {
   "cell_type": "code",
   "execution_count": null,
   "id": "57873977",
   "metadata": {},
   "outputs": [],
   "source": []
  },
  {
   "cell_type": "code",
   "execution_count": null,
   "id": "4ae4989d",
   "metadata": {},
   "outputs": [],
   "source": []
  },
  {
   "cell_type": "code",
   "execution_count": null,
   "id": "28185f26",
   "metadata": {},
   "outputs": [],
   "source": []
  },
  {
   "cell_type": "code",
   "execution_count": null,
   "id": "202784c9",
   "metadata": {},
   "outputs": [],
   "source": []
  }
 ],
 "metadata": {
  "kernelspec": {
   "display_name": "Kotlin",
   "language": "kotlin",
   "name": "kotlin"
  },
  "language_info": {
   "codemirror_mode": "text/x-kotlin",
   "file_extension": ".kt",
   "mimetype": "text/x-kotlin",
   "name": "kotlin",
   "nbconvert_exporter": "",
   "pygments_lexer": "kotlin",
   "version": "1.7.0-dev-1825"
  }
 },
 "nbformat": 4,
 "nbformat_minor": 5
}
