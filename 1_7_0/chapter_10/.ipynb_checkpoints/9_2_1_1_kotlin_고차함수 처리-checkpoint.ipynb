{
 "cells": [
  {
   "cell_type": "markdown",
   "id": "28abdeeb",
   "metadata": {},
   "source": [
    "## 고차함수 : 함수를 매개변수로 받기"
   ]
  },
  {
   "cell_type": "markdown",
   "id": "f0bee800",
   "metadata": {},
   "source": [
    "## 함수를 반환하는 고차함수 "
   ]
  },
  {
   "cell_type": "markdown",
   "id": "c4cbe5c4",
   "metadata": {},
   "source": [
    "##  고차함수로 배열 등을 처리하는 함수 작성"
   ]
  },
  {
   "cell_type": "code",
   "execution_count": null,
   "id": "0b3963cc",
   "metadata": {},
   "outputs": [],
   "source": []
  },
  {
   "cell_type": "code",
   "execution_count": 3,
   "id": "6f213c69",
   "metadata": {},
   "outputs": [
    {
     "name": "stdout",
     "output_type": "stream",
     "text": [
      "class kotlin.IntArray\n",
      "10\n",
      "class kotlin.IntArray\n",
      "15\n",
      "30\n"
     ]
    }
   ],
   "source": [
    "fun highfunc(vararg x:Int, op:(Int,Int)-> Int) : Int {     // 함수를 매개변수로 받는 고차함수 \n",
    "    println(x::class)\n",
    "    return x.toList().reduce(op)\n",
    "}\n",
    "\n",
    "println(highfunc(1,2,3,4,op={x:Int,y:Int->x+y}))\n",
    "\n",
    "fun add(x:Int, y:Int) : Int = x+y\n",
    "println(highfunc(1,2,3,4,5, op=::add))\n",
    "\n",
    "\n",
    "fun highOrder() :(Int, Int) -> Int {                         // 함수를 반환하는 고차 함수 \n",
    "    return {x,y -> x+y}\n",
    "}\n",
    "\n",
    "println(highOrder()(10,20))\n"
   ]
  },
  {
   "cell_type": "code",
   "execution_count": null,
   "id": "8159377f",
   "metadata": {},
   "outputs": [],
   "source": []
  },
  {
   "cell_type": "markdown",
   "id": "37d96c5c",
   "metadata": {},
   "source": [
    "##  일반화 한 고차함수 만들기"
   ]
  },
  {
   "cell_type": "code",
   "execution_count": 5,
   "id": "d21f0e6e",
   "metadata": {},
   "outputs": [
    {
     "name": "stdout",
     "output_type": "stream",
     "text": [
      "10\n",
      "100\n",
      "40\n"
     ]
    }
   ],
   "source": [
    "fun agg(nums:IntArray, op:(Int,Int)-> Int) : Int {\n",
    "    var result = nums.firstOrNull() ?: 0\n",
    "    for (i in 1..nums.lastIndex) {\n",
    "        result = op(result,nums[i])\n",
    "    }\n",
    "    return result\n",
    "}\n",
    "\n",
    "println(agg(intArrayOf(1,2,3,4), {x,y -> x+y}))\n",
    "\n",
    "\n",
    "fun agg1(nums:IntArray, op:(Int,Int)-> Int) : Int {   // 고차함수로 일반화하기 \n",
    "    var result = nums.firstOrNull() ?: 0\n",
    "    for (i in 1..nums.lastIndex) {\n",
    "        result = op(result,nums[i])\n",
    "    }\n",
    "    return result\n",
    "}\n",
    "fun sum(nums:IntArray) :  Int {\n",
    "    return agg1(nums, {x:Int,y:Int -> x+y})          // 내부에서 익명함수를 받아서 처리\n",
    "}\n",
    "\n",
    "fun max(nums:IntArray) :  Int {                     // 내부에서 익명함수를 받아서 처리\n",
    "    return agg1(nums, {x:Int,y:Int -> if (y > x) y else x })\n",
    "}\n",
    "\n",
    "println(sum(intArrayOf(10,20,30,40)))\n",
    "println(max(intArrayOf(10,20,30,40)))"
   ]
  },
  {
   "cell_type": "code",
   "execution_count": null,
   "id": "b110b992",
   "metadata": {},
   "outputs": [],
   "source": []
  }
 ],
 "metadata": {
  "kernelspec": {
   "display_name": "Kotlin",
   "language": "kotlin",
   "name": "kotlin"
  },
  "language_info": {
   "codemirror_mode": "text/x-kotlin",
   "file_extension": ".kt",
   "mimetype": "text/x-kotlin",
   "name": "kotlin",
   "nbconvert_exporter": "",
   "pygments_lexer": "kotlin",
   "version": "1.7.0-dev-1825"
  }
 },
 "nbformat": 4,
 "nbformat_minor": 5
}
