{
 "cells": [
  {
   "cell_type": "markdown",
   "id": "b2bec802",
   "metadata": {},
   "source": [
    "## 일반 재귀함수"
   ]
  },
  {
   "cell_type": "markdown",
   "id": "9e7a443b",
   "metadata": {},
   "source": [
    "## 꼬리재귀함수"
   ]
  },
  {
   "cell_type": "code",
   "execution_count": 4,
   "id": "d6aa2f24",
   "metadata": {},
   "outputs": [
    {
     "name": "stdout",
     "output_type": "stream",
     "text": [
      "Factorial of 4 = 24\n",
      "Factorial 1 of 4 = 24\n"
     ]
    }
   ],
   "source": [
    "fun factorial(n: Int): Long {\n",
    "    if (n == 1) {\n",
    "        return n.toLong()\n",
    "    } else {\n",
    "        return n*factorial(n - 1)     \n",
    "    }\n",
    "}\n",
    "\n",
    "val number = 4\n",
    "var result: Long\n",
    "result = factorial(number)\n",
    "println(\"Factorial of $number = $result\")\n",
    "\n",
    "tailrec fun factorial1(n: Int, total :Int = 1): Long {\n",
    "    if (n == 1) {\n",
    "        return total.toLong()\n",
    "    } else {\n",
    "        return factorial1(n - 1, n*total)     \n",
    "    }\n",
    "}\n",
    "\n",
    "val number1 = 4\n",
    "result = factorial1(number1)\n",
    "println(\"Factorial 1 of $number = $result\")"
   ]
  },
  {
   "cell_type": "code",
   "execution_count": null,
   "id": "b9d5cb92",
   "metadata": {},
   "outputs": [],
   "source": []
  },
  {
   "cell_type": "markdown",
   "id": "674f88d8",
   "metadata": {},
   "source": [
    "## 재귀함수를 메모이제이션 처리"
   ]
  },
  {
   "cell_type": "code",
   "execution_count": 12,
   "id": "188d615f",
   "metadata": {},
   "outputs": [
    {
     "name": "stdout",
     "output_type": "stream",
     "text": [
      "Factorial of 15 = 1307674368000\n",
      "Factorial of 10 = 3628800\n"
     ]
    }
   ],
   "source": [
    "val map2 = mutableMapOf<String,Long>()\n",
    "\n",
    "fun factorial3(n: Int): Long {\n",
    "    if (n == 1) {\n",
    "        map2[n.toString()] = 1L\n",
    "    }\n",
    "    if (n.toString() !in map2.keys) {\n",
    "         map2[n.toString()] = n.toLong() * factorial3(n - 1) \n",
    "    } \n",
    "    return map2[n.toString()]!!.toLong() \n",
    "}\n",
    "var number = 15\n",
    "var result: Long\n",
    "result = factorial3(number)\n",
    "println(\"Factorial of $number = $result\")\n",
    "\n",
    "number= 10\n",
    "result = factorial3(number)\n",
    "println(\"Factorial of $number = $result\")"
   ]
  },
  {
   "cell_type": "code",
   "execution_count": null,
   "id": "71823019",
   "metadata": {},
   "outputs": [],
   "source": []
  }
 ],
 "metadata": {
  "kernelspec": {
   "display_name": "Kotlin",
   "language": "kotlin",
   "name": "kotlin"
  },
  "language_info": {
   "codemirror_mode": "text/x-kotlin",
   "file_extension": ".kt",
   "mimetype": "text/x-kotlin",
   "name": "kotlin",
   "nbconvert_exporter": "",
   "pygments_lexer": "kotlin",
   "version": "1.7.0-dev-1825"
  }
 },
 "nbformat": 4,
 "nbformat_minor": 5
}
