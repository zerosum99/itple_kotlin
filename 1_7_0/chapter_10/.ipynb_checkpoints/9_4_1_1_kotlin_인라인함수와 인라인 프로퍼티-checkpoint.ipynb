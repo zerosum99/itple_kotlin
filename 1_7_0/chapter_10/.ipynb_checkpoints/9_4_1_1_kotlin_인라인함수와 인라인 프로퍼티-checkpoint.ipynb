{
 "cells": [
  {
   "cell_type": "markdown",
   "id": "603b81dc",
   "metadata": {},
   "source": [
    "## 인라인함수\n",
    "\n",
    "https://thdev.tech/kotlin/2020/09/29/kotlin_effective_04/"
   ]
  },
  {
   "cell_type": "markdown",
   "id": "0571adde",
   "metadata": {},
   "source": [
    "## 인라인 \n",
    "\n",
    "- inline : 함수 파라메터로 Higher-Order function을 사용한 함수 전달을 사용할 때 inline을 활용하고, 익명 클래스 생성 비용을 줄일 수 있다.\n",
    "- noinline : lambdas 식 표현에서 함께 사용을 하지만, 이 함수에서 호출하는 함수가 inline이 아닌 경우에 붙여준다.\n",
    "- crossinline : 다른 함수의 Higher-Order function 파라메터를 block {} 형태로 사용하는 경우 crossinline을 써야 한다."
   ]
  },
  {
   "cell_type": "code",
   "execution_count": 3,
   "id": "35e4dd2d",
   "metadata": {},
   "outputs": [
    {
     "name": "stdout",
     "output_type": "stream",
     "text": [
      "고차함수 실행\n",
      "람다표현식 인자로 전달 "
     ]
    }
   ],
   "source": [
    "//add the inline keyword to improve the higher order function's performance.\n",
    "inline fun higherOrder(aLambda: () -> Unit) {\n",
    "    println(\"고차함수 실행\")\n",
    "    aLambda()\n",
    "}\n",
    "\n",
    "fun calling() {\n",
    "  higherOrder { print(\"람다표현식 인자로 전달 \") }  \n",
    "}\n",
    "\n",
    "calling()"
   ]
  },
  {
   "cell_type": "code",
   "execution_count": 3,
   "id": "6c263361",
   "metadata": {},
   "outputs": [
    {
     "name": "stdout",
     "output_type": "stream",
     "text": [
      "lambda logic"
     ]
    }
   ],
   "source": [
    "callingFunction()"
   ]
  },
  {
   "cell_type": "code",
   "execution_count": 4,
   "id": "015ca77a",
   "metadata": {},
   "outputs": [],
   "source": [
    "inline fun higherOrderFunction(aLambda: () -> Unit) {\n",
    "\n",
    "    aLambda()\n",
    "\n",
    "    print(\"I won't be executed when you call callingFunction()\")\n",
    "\n",
    "}\n",
    "\n",
    "fun callingFunction() {\n",
    "\n",
    "    higherOrderFunction {\n",
    "\n",
    "        print(\"Non-local control flow\")\n",
    "\n",
    "        return\n",
    "\n",
    "    }\n",
    "\n",
    "}"
   ]
  },
  {
   "cell_type": "code",
   "execution_count": 5,
   "id": "d6dd8f61",
   "metadata": {},
   "outputs": [
    {
     "name": "stdout",
     "output_type": "stream",
     "text": [
      "Non-local control flow"
     ]
    }
   ],
   "source": [
    "callingFunction()"
   ]
  },
  {
   "cell_type": "code",
   "execution_count": 10,
   "id": "1a66563c",
   "metadata": {},
   "outputs": [],
   "source": [
    "inline fun higherOrderFunction(aLambda: () -> Unit, \n",
    "                               noinline dontInlineLambda: () -> Unit, \n",
    "                               aLambda2: () -> Unit) {\n",
    "\n",
    "    aLambda()\n",
    "    dontInlineLambda()//won't be inlined.\n",
    "    aLambda2()\n",
    "\n",
    "}"
   ]
  },
  {
   "cell_type": "code",
   "execution_count": 13,
   "id": "9767208d",
   "metadata": {},
   "outputs": [],
   "source": [
    "fun callingFunction() {\n",
    "\n",
    "    higherOrderFunction({ println(\"Non-local control flow\")}, \n",
    "                        { println(\"xxxx\") }, \n",
    "                        { println(\"yyyyy\") })\n",
    "\n",
    "}"
   ]
  },
  {
   "cell_type": "code",
   "execution_count": 14,
   "id": "bfd53410",
   "metadata": {},
   "outputs": [
    {
     "name": "stdout",
     "output_type": "stream",
     "text": [
      "Non-local control flow\n",
      "xxxx\n",
      "yyyyy\n"
     ]
    }
   ],
   "source": [
    "callingFunction()"
   ]
  },
  {
   "cell_type": "code",
   "execution_count": 20,
   "id": "5749892b",
   "metadata": {},
   "outputs": [],
   "source": [
    "inline fun higherOrderFunction(crossinline aLambda: () -> Unit) {\n",
    "\n",
    "    normalFunction {\n",
    "        aLambda()                //must mark aLambda as crossinline to use in this context.\n",
    "    }\n",
    "\n",
    "}\n",
    "\n",
    "fun normalFunction(aLambda: () -> Unit) {\n",
    "    println(\" cross inline  111\")\n",
    "    return\n",
    "  \n",
    "}\n",
    "\n",
    "fun callingFunction() {\n",
    "\n",
    "    higherOrderFunction { \n",
    "        println(\" cross inline 222\")\n",
    "\n",
    "        //return  //Error. Can't return from here.\n",
    "    }\n",
    "\n",
    "}"
   ]
  },
  {
   "cell_type": "code",
   "execution_count": 21,
   "id": "78cc17af",
   "metadata": {},
   "outputs": [
    {
     "name": "stdout",
     "output_type": "stream",
     "text": [
      " cross inline  111\n"
     ]
    }
   ],
   "source": [
    "callingFunction()"
   ]
  },
  {
   "cell_type": "code",
   "execution_count": null,
   "id": "6c8dbe4f",
   "metadata": {},
   "outputs": [],
   "source": []
  }
 ],
 "metadata": {
  "kernelspec": {
   "display_name": "Kotlin",
   "language": "kotlin",
   "name": "kotlin"
  },
  "language_info": {
   "codemirror_mode": "text/x-kotlin",
   "file_extension": ".kt",
   "mimetype": "text/x-kotlin",
   "name": "kotlin",
   "nbconvert_exporter": "",
   "pygments_lexer": "kotlin",
   "version": "1.7.0-dev-1825"
  }
 },
 "nbformat": 4,
 "nbformat_minor": 5
}
