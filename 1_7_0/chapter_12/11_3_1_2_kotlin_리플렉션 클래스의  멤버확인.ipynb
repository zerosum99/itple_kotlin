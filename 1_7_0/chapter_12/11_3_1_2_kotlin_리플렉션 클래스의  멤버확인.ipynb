{
 "cells": [
  {
   "cell_type": "code",
   "execution_count": 1,
   "id": "b1f673bc",
   "metadata": {},
   "outputs": [
    {
     "data": {
      "text/plain": [
       "1.7.0"
      ]
     },
     "execution_count": 1,
     "metadata": {},
     "output_type": "execute_result"
    }
   ],
   "source": [
    "KotlinVersion.CURRENT"
   ]
  },
  {
   "cell_type": "markdown",
   "id": "4db0403f-a97d-4d1d-a997-dc3aa197bb0f",
   "metadata": {},
   "source": [
    "## 리플렉션\n",
    "\n",
    "- 리플렉션이란 런타임에 프로그램의 클래스를 조사하기 위해서 사용되는 기술입니다. 즉, 프로그램이 실행중일 때 인스턴스 등을 통해 객체의 내부 구조 등을 파악할 수 있습니다. "
   ]
  },
  {
   "cell_type": "code",
   "execution_count": null,
   "id": "9673c0ba",
   "metadata": {},
   "outputs": [],
   "source": []
  },
  {
   "cell_type": "markdown",
   "id": "3401e27b-f97a-4c3d-a594-56f9093dff9e",
   "metadata": {},
   "source": [
    "## 3. 리플렉션 내부 확인 "
   ]
  },
  {
   "cell_type": "code",
   "execution_count": null,
   "id": "6015d711",
   "metadata": {},
   "outputs": [],
   "source": []
  },
  {
   "cell_type": "code",
   "execution_count": 2,
   "id": "e6ad7237",
   "metadata": {},
   "outputs": [
    {
     "name": "stdout",
     "output_type": "stream",
     "text": [
      "### MyClass 메소드 ###\n",
      "myInternalMethod, INTERNAL\n",
      "myPrivateMethod, PRIVATE\n",
      "myProtectedMethod, PROTECTED\n",
      "myPublicMethod, PUBLIC\n",
      "equals, PUBLIC\n",
      "hashCode, PUBLIC\n",
      "mySuperMethod, PUBLIC\n",
      "toString, PUBLIC\n",
      "### MyClass 멤버 ###\n",
      "myInternalMethod\n",
      "myPrivateMethod\n",
      "myProtectedMethod\n",
      "myPublicMethod\n",
      "equals\n",
      "hashCode\n",
      "mySuperMethod\n",
      "toString\n"
     ]
    }
   ],
   "source": [
    "import kotlin.reflect.full.functions               // 함수 속성 추가하기\n",
    "\n",
    "open class MySuperClass {                          // 수퍼클래스 정의                  \n",
    "    fun mySuperMethod(){}\n",
    "}\n",
    "class MyClass : MySuperClass() {                   // 서브 클래스 정의\n",
    "    fun myPublicMethod(){}                         // 메소드 정의\n",
    "    internal fun myInternalMethod(){}\n",
    "    protected fun myProtectedMethod(){}\n",
    "    private fun myPrivateMethod(){}\n",
    "}\n",
    "val c = MyClass::class                              // 클래스 참조\n",
    "val fs = c.functions                                //  내부 메소드 참조 \n",
    "\n",
    "println(\"### ${c.simpleName} 메소드 ###\")             // 클래스 내부의 메소드 가져오기\n",
    "for (f in fs) {\n",
    "     println(\"${f.name}, ${f.visibility}\")          // 메소드 이름과 가시성 확인 \n",
    "}\n",
    "println(\"### ${c.simpleName} 멤버 ###\")              // 클래스 내부의 메소드 가져오기\n",
    "val mem = c.members\n",
    "for (f in fs) {\n",
    "     println(\"${f.name}\")                           // 메소드 이름과 가시성 확인 \n",
    "}"
   ]
  },
  {
   "cell_type": "code",
   "execution_count": null,
   "id": "16e8cbba",
   "metadata": {},
   "outputs": [],
   "source": []
  },
  {
   "cell_type": "markdown",
   "id": "98e7480c",
   "metadata": {},
   "source": [
    "## 클래스의 상태"
   ]
  },
  {
   "cell_type": "code",
   "execution_count": 3,
   "id": "229e7f09-5ad3-49fa-b568-2fd7a32c5577",
   "metadata": {},
   "outputs": [
    {
     "name": "stdout",
     "output_type": "stream",
     "text": [
      "클래스 = Test\n",
      "qualifiedName = Line_2.Test\n",
      "isAbstract = false\n",
      "isCompanion = false\n",
      "isData = false\n",
      "isFinal = true\n",
      "typeParameters = []\n",
      "annotations = []\n"
     ]
    }
   ],
   "source": [
    "class Test{                                             // 클래스 정의 \n",
    "    val v1 = 0.0                                        // 속성 정의 \n",
    "    val v2 = \"abc\"\n",
    "}\n",
    "\n",
    "val test = Test()                                       // 객체 셍성\n",
    "val kclass2 = test::class\n",
    "println(\"클래스 = ${kclass2.simpleName}\")                 // 클래스 이름 출력\n",
    "           \n",
    "println(\"qualifiedName = ${kclass2.qualifiedName}\")      // 이름확인\n",
    "println(\"isAbstract = ${kclass2.isAbstract}\")            // 추상클래스 여부              \n",
    "println(\"isCompanion = ${kclass2.isCompanion}\")          // 컴패니언객체 여부\n",
    "println(\"isData = ${kclass2.isData}\")                    // 데이터 클래스 여부\n",
    "println(\"isFinal = ${kclass2.isFinal}\")                  // 파이널 클래스 여부 \n",
    "println(\"typeParameters = ${kclass2.typeParameters}\")    // 타입매개변수 \n",
    "println(\"annotations = ${kclass2.annotations}\")          // 어노페이션 확인  "
   ]
  },
  {
   "cell_type": "code",
   "execution_count": null,
   "id": "500531b8-8aef-495f-9145-8b28c9d178e2",
   "metadata": {},
   "outputs": [],
   "source": []
  },
  {
   "cell_type": "markdown",
   "id": "199dd04e-15e9-49ef-9225-0dec3844d90e",
   "metadata": {},
   "source": [
    "## KClass\n",
    "\n",
    "- 클래스 참조( :: class) 를 사용하면 KClass 로 변환"
   ]
  },
  {
   "cell_type": "markdown",
   "id": "631820e7",
   "metadata": {},
   "source": [
    "## 인스턴스 만들기"
   ]
  },
  {
   "cell_type": "code",
   "execution_count": 4,
   "id": "1ac4b427",
   "metadata": {},
   "outputs": [
    {
     "name": "stdout",
     "output_type": "stream",
     "text": [
      "속성출력 : 100.0 , 테스트 \n",
      "초기값부여\n",
      "주생성자 처리 first arg\n",
      "보조생성자 처리 first arg\n"
     ]
    }
   ],
   "source": [
    "import kotlin.reflect.KClass                                // 리플렉션 클래스 \n",
    "import kotlin.reflect.full.createInstance                   // 객체 생성 함수 \n",
    "import kotlin.reflect.full.primaryConstructor               // 주생성자 가져오기\n",
    "\n",
    "class Test {                                                // 클래스 정의 \n",
    "    val v1:Double = 100.0                                   // 속성 정의 \n",
    "    val v2:String = \"테스트 \"                                 // 속성  정의 \n",
    "    fun display() {                                         // 메소드 정의 \n",
    "        println(\"속성출력 : $v1 , $v2\")\n",
    "    }\n",
    "}\n",
    "\n",
    "val kclass3: KClass<out Test> = Test::class                 // 클래스 참조해서 변수 항당\n",
    "val instance = kclass3.createInstance()                     // 인자없이 인스턴스 생성\n",
    "instance.display()                                          // 메소드 실행\n",
    "\n",
    "class Optional(val arg: String = \"초기값부여\")                 // 클래스 정의 :초기값처리 주생성자\n",
    "println(Optional::class.createInstance().arg)               // 초기값이 있어서 인스턴스 없는 객체 생성 \n",
    "\n",
    "class Require(val arg1: String,                             // 주생성자를 가진 클래스 정의      \n",
    "                   val arg2: String) {                      // 주생성자\n",
    "    constructor(arg1: String): this(arg1, \"임의값부쳐\")        // 부생성자 \n",
    "}\n",
    "\n",
    "val primary = Require::class.primaryConstructor             // 주생성자 가져오기\n",
    "val instance1 = primary!!.call(\"first arg\", \"second arg\")   // 주생성자를 실행해서 객체 생성 \n",
    "println(\"주생성자 처리 ${instance1.arg1}\")\n",
    "val secondary = Require::class.constructors                 // 보조생성자 가져오기\n",
    "val instance2 = secondary.first().call(\"arg1\")              // 보조생성자를 가져와서 객체 생성\n",
    "println(\"보조생성자 처리 ${instance1.arg1}\")"
   ]
  },
  {
   "cell_type": "code",
   "execution_count": null,
   "id": "f3c28f6a",
   "metadata": {},
   "outputs": [],
   "source": []
  },
  {
   "cell_type": "markdown",
   "id": "2ac138af",
   "metadata": {},
   "source": [
    "## 클래스 속성 확인하기"
   ]
  },
  {
   "cell_type": "code",
   "execution_count": 5,
   "id": "10d763b7",
   "metadata": {},
   "outputs": [
    {
     "name": "stdout",
     "output_type": "stream",
     "text": [
      "파이널 클래스 여부 :true\n",
      "클래스 가시성     :PUBLIC\n",
      "클래스 전체 이름   :Line_6.A\n",
      "클래스 순수 이름   :A\n",
      "네포된 클래스     :[class Line_6$A$ACO, class Line_6$A$AIN, class Line_6$A$AN]\n",
      "타입매개변수      :[T]\n",
      "내포된 클래스 이름 :AN\n",
      "이너 클래스 이름   :AIN\n",
      "이너 클려스 여부   :true\n",
      "동반객체 이름 : ACO\n",
      "동반객체 여부 : true\n"
     ]
    }
   ],
   "source": [
    "class A<T> (val name : T) {                       // 클래스 정의 \n",
    "    class AN {}                                   // 내포된 클래스 정의 \n",
    "    inner class AIN {}                            // 이너 클래스 정의 \n",
    "    companion object ACO{}                        // 동반객체 정의 \n",
    "}\n",
    "\n",
    "val a = A::class                                  // 클래스 참조 \n",
    "println(\"파이널 클래스 여부 :${a.isFinal}\")\n",
    "println(\"클래스 가시성     :${a.visibility}\")\n",
    "println(\"클래스 전체 이름   :${a.qualifiedName}\")\n",
    "println(\"클래스 순수 이름   :${a.simpleName}\")\n",
    "println(\"네포된 클래스     :${a.nestedClasses}\")\n",
    "println(\"타입매개변수      :${a.typeParameters}\")\n",
    "\n",
    "val an = A.AN::class                               // 내포 클래스 참조 \n",
    "println(\"내포된 클래스 이름 :${an.simpleName}\")\n",
    "val ain = A.AIN::class                             // 이너 클래스 참조\n",
    "println(\"이너 클래스 이름   :${ain.simpleName}\")\n",
    "println(\"이너 클려스 여부   :${ain.isInner}\")\n",
    "\n",
    "val aco = A.ACO::class                             // 동반객체 이름으로 참조\n",
    "println(\"동반객체 이름 : ${aco.simpleName}\")\n",
    "println(\"동반객체 여부 : ${aco.isCompanion}\")\n"
   ]
  },
  {
   "cell_type": "code",
   "execution_count": null,
   "id": "a2792d63",
   "metadata": {},
   "outputs": [],
   "source": []
  },
  {
   "cell_type": "markdown",
   "id": "da15fbba",
   "metadata": {},
   "source": [
    "## 클래스와 object 내의 속성 확인"
   ]
  },
  {
   "cell_type": "code",
   "execution_count": 6,
   "id": "eacecddb",
   "metadata": {},
   "outputs": [
    {
     "name": "stdout",
     "output_type": "stream",
     "text": [
      "클래스 이름 : BB\n",
      "상속가능여부 : true\n",
      "object 이름 : O\n",
      "object 인스턴스 : Line_7$O@3eb4a4e4\n",
      "봉인 클래스여부 : true\n",
      "봉인 서브클래스 : [class Line_7$Seal$SubSeal]\n",
      "봉인 클래스 여부 : true\n",
      "봉인 서브클래스 : []\n",
      "데이터 클래스여부 true\n",
      "상속가능여부 false\n",
      "추상클래스 여부 : true\n"
     ]
    }
   ],
   "source": [
    "open class BB                                     // 상속가능 클래스 정의 \n",
    "val bb = BB::class                                // 클래스 참조\n",
    "println(\"클래스 이름 : ${bb.simpleName}\")\n",
    "println(\"상속가능여부 : ${bb.isOpen}\")\n",
    "\n",
    "object O                                          // object 선언\n",
    "val o = O::class                                  // 객체참조\n",
    "println(\"object 이름 : ${o.simpleName}\")\n",
    "println(\"object 인스턴스 : ${o.objectInstance}\")\n",
    "\n",
    "sealed class Seal {                               // 봉인클래스 정의\n",
    "    class SubSeal : Seal()                        // 봉인클래스 내부에 서브클래스 정의\n",
    "}\n",
    "val b = Seal::class                               // 클래스 참조\n",
    "println(\"봉인 클래스여부 : ${b.isSealed}\")\n",
    "println(\"봉인 서브클래스 : ${b.sealedSubclasses}\")\n",
    "\n",
    "sealed class Seal1                                // 봉인 클래스 정의 \n",
    "class SubSeal1 : Seal()                           // 외부에 서브클래스 정의 \n",
    "val c = Seal1::class                              // 클래스 참조\n",
    "println(\"봉인 클래스 여부 : ${c.isSealed}\")\n",
    "println(\"봉인 서브클래스 : ${c.sealedSubclasses}\")\n",
    "\n",
    "data class Data(val name:String)                  // 데이터 클래스 참조\n",
    "val dt = Data(\"코틀린\")::class\n",
    "println(\"데이터 클래스여부 ${dt.isData}\")\n",
    "println(\"상속가능여부 ${dt.isOpen}\")\n",
    "\n",
    "val am = AbstractMap::class                       // 추상클래스 참조\n",
    "println(\"추상클래스 여부 : ${am.isAbstract}\")\n"
   ]
  },
  {
   "cell_type": "code",
   "execution_count": null,
   "id": "214c602c",
   "metadata": {},
   "outputs": [],
   "source": []
  },
  {
   "cell_type": "code",
   "execution_count": null,
   "id": "6b9a2cf6",
   "metadata": {},
   "outputs": [],
   "source": []
  }
 ],
 "metadata": {
  "kernelspec": {
   "display_name": "Kotlin",
   "language": "kotlin",
   "name": "kotlin"
  },
  "language_info": {
   "codemirror_mode": "text/x-kotlin",
   "file_extension": ".kt",
   "mimetype": "text/x-kotlin",
   "name": "kotlin",
   "nbconvert_exporter": "",
   "pygments_lexer": "kotlin",
   "version": "1.7.0-dev-1825"
  }
 },
 "nbformat": 4,
 "nbformat_minor": 5
}
