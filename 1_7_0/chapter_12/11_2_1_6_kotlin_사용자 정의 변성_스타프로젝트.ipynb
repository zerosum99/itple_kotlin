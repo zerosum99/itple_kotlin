{
 "cells": [
  {
   "cell_type": "code",
   "execution_count": 1,
   "id": "a2d78a01",
   "metadata": {},
   "outputs": [
    {
     "data": {
      "text/plain": [
       "1.7.0"
      ]
     },
     "execution_count": 1,
     "metadata": {},
     "output_type": "execute_result"
    }
   ],
   "source": [
    "KotlinVersion.CURRENT"
   ]
  },
  {
   "cell_type": "code",
   "execution_count": null,
   "id": "a7e368f5",
   "metadata": {},
   "outputs": [],
   "source": []
  },
  {
   "cell_type": "markdown",
   "id": "aebefc50",
   "metadata": {},
   "source": [
    "## 스타프로젝션\n",
    "\n",
    "*는 어떤 타입이 들어올지 미리 알 수 없어도 그 타입을 안전하게 사용하고 싶을 때 사용한다. 언제든지 모든 타입을 받을 수 있는 Any와 달리 한번 구체적인 타입이 정해지고 나면 해당 타입만 받을 수 있다.\n",
    "\n",
    " "
   ]
  },
  {
   "cell_type": "code",
   "execution_count": null,
   "id": "c2abad4d",
   "metadata": {},
   "outputs": [],
   "source": []
  },
  {
   "cell_type": "code",
   "execution_count": 5,
   "id": "1b7176c9",
   "metadata": {},
   "outputs": [
    {
     "name": "stdout",
     "output_type": "stream",
     "text": [
      "[1, 문자열, 1]\n",
      "class kotlin.Int\n",
      "GeeksforGeeks\n",
      "123\n"
     ]
    }
   ],
   "source": [
    "fun acceptList(list: ArrayList<Any>) {          //  가변인 리슽트에 타입매개변수를 Any지정 \n",
    "    list.add(\"문자열\")       \n",
    "    list.add(1)  \n",
    "    println(list)\n",
    "}\n",
    "\n",
    "acceptList(arrayListOf(1))                       // 정수 배열을 전달 \n",
    "\n",
    "fun acceptStarList(list: ArrayList<*>) {         // 변경이 가능한 배열에서는 타입이 확정되지 않음 \n",
    "    //list.add(\"문자열\")                           // 타입미정의로 오류 \n",
    "    //list.add(12)                               // 타입 미정의로 오류\n",
    "}\n",
    "\n",
    "fun acceptStarList(list: List<*>) {              // 불변 리스트에서는 타입이 확정되기 전까지 Any? 타입으로 추정\n",
    "    if (list.isNotEmpty()) {                     // 타입 체크 후 처리\n",
    "        val item = list.get(0)     \n",
    "        println(item!!::class)                   // 널이 아닌지 확인 필요\n",
    "    }\n",
    "}\n",
    "\n",
    "acceptStarList(listOf(1))                         // 정수 리스트 처리\n",
    "\n",
    "fun printArray(array: Array<*>) {                 // 가변이지만 고정된 배열에서는 스타 프로젝트으로 지정\n",
    "    array.forEach { print(it) }                   // 특정 자료형이 들어오면 맞춰서 처리\n",
    "    println()\n",
    "}\n",
    "\n",
    "val name  = arrayOf(\"Geeks\",\"for\",\"Geeks\")        // 문자열 배열을 생성 배열을 생성 \n",
    "printArray(name)                                  // 함수를 실행 \n",
    "val name1  = arrayOf(1,2,3)                       // 정수 배열을 생성 \n",
    "printArray(name1)                                 // 함수를 샐행 "
   ]
  },
  {
   "cell_type": "code",
   "execution_count": null,
   "id": "11c6d423",
   "metadata": {},
   "outputs": [],
   "source": []
  },
  {
   "cell_type": "code",
   "execution_count": null,
   "id": "b8e651fb",
   "metadata": {},
   "outputs": [],
   "source": [
    "## 공변성 매개변수를 스타프로젝트로 처리"
   ]
  },
  {
   "cell_type": "code",
   "execution_count": 6,
   "id": "8ee52ae2",
   "metadata": {},
   "outputs": [
    {
     "name": "stdout",
     "output_type": "stream",
     "text": [
      "class Line_5$GenericClass\n",
      "class Line_5$GenericClass\n"
     ]
    }
   ],
   "source": [
    "open class SuperClass                               // 수퍼 클래스 정의 \n",
    "\n",
    "class Child : SuperClass()                          // 서브 클래스 정의 \n",
    "\n",
    "open class TestClass                                // 상속관게가 없는 클래스 정의                      \n",
    "\n",
    "class GenericClass<out T : SuperClass>() { }        // 상위 클래스로 공변성 매개변수 정의 \n",
    "\n",
    "fun acceptStar(value: GenericClass<*>) {            // 함수의 매개변수로 스타프로젝트 정의 \n",
    "    println(value::class)\n",
    "}\n",
    "\n",
    "\n",
    "acceptStar(GenericClass<Child>())                   // 상속관계의 클래스를 타입인자로 전달해서 함수를 실행\n",
    "acceptStar(GenericClass<SuperClass>())              // 상속관계의 클래스를 타입인자로 전달해서함수를 실행\n",
    "\n",
    "//acceptStar(GenericClass<TestClass>())             // 공변성이 먼저 지정되어서 상관관계가 없는 경우는 예외처리"
   ]
  },
  {
   "cell_type": "code",
   "execution_count": null,
   "id": "0363a57e",
   "metadata": {},
   "outputs": [],
   "source": []
  },
  {
   "cell_type": "markdown",
   "id": "65a07b4f",
   "metadata": {},
   "source": [
    "## 반공변성을 활용한 스타프로젝트"
   ]
  },
  {
   "cell_type": "code",
   "execution_count": 4,
   "id": "c020da8e",
   "metadata": {},
   "outputs": [
    {
     "name": "stdout",
     "output_type": "stream",
     "text": [
      "class Line_1400$GenericClass\n",
      "class Line_1400$GenericClass\n"
     ]
    }
   ],
   "source": [
    "open class SuperClass1                               // 수퍼 클래스 정의 \n",
    "\n",
    "class Child1 : SuperClass()                          // 서브 클래스 정의 \n",
    "\n",
    "open class TestClass1                                // 상속관게가 없는 클래스 정의                      \n",
    "\n",
    "class GenericClass1<in T : SuperClass1>() { }        // 상위 클래스로 공반변성 매개변수 정의 \n",
    "\n",
    "fun acceptStar(value: GenericClass1<*>) {            // 함수의 매개변수로 스타프로젝트 정의 \n",
    "    println(value::class)\n",
    "}\n",
    "\n",
    "\n",
    "acceptStar(GenericClass<Child>())                    // 역상속관계의 클래스를 타입인자로 전달해서 함수를 실행\n",
    "acceptStar(GenericClass<SuperClass>())               // 역상속관계의 클래스를 타입인자로 전달해서함수를 실행\n",
    "\n",
    "//acceptStar(GenericClass<TestClass1>())             // 반공변성이 먼저 지정되어서 상관관계가 없는 경우는 예외처리"
   ]
  },
  {
   "cell_type": "code",
   "execution_count": null,
   "id": "b9bcbae1",
   "metadata": {},
   "outputs": [],
   "source": []
  }
 ],
 "metadata": {
  "kernelspec": {
   "display_name": "Kotlin",
   "language": "kotlin",
   "name": "kotlin"
  },
  "language_info": {
   "codemirror_mode": "text/x-kotlin",
   "file_extension": ".kt",
   "mimetype": "text/x-kotlin",
   "name": "kotlin",
   "nbconvert_exporter": "",
   "pygments_lexer": "kotlin",
   "version": "1.7.0-dev-1825"
  }
 },
 "nbformat": 4,
 "nbformat_minor": 5
}
