{
 "cells": [
  {
   "cell_type": "code",
   "execution_count": 1,
   "id": "8b91d65f",
   "metadata": {},
   "outputs": [
    {
     "data": {
      "text/plain": [
       "1.7.0"
      ]
     },
     "execution_count": 1,
     "metadata": {},
     "output_type": "execute_result"
    }
   ],
   "source": [
    "KotlinVersion.CURRENT"
   ]
  },
  {
   "cell_type": "markdown",
   "id": "d5e4e24b",
   "metadata": {},
   "source": [
    "## 3. 제너릭을 사용해서 확장함수 만들기"
   ]
  },
  {
   "cell_type": "markdown",
   "id": "de526c20",
   "metadata": {},
   "source": [
    "## 제너릭 확장함수 만들기"
   ]
  },
  {
   "cell_type": "code",
   "execution_count": 2,
   "id": "f159b70b",
   "metadata": {},
   "outputs": [
    {
     "name": "stdout",
     "output_type": "stream",
     "text": [
      "121\n",
      "200.0\n",
      "121\n",
      "200.0\n"
     ]
    }
   ],
   "source": [
    "fun <타입> 타입.맵(block : (타입) -> 타입 )  : 타입 {    // 타입매개변수에 함수를 추가 \n",
    "    return block(this)                             // 전달받은 함수를 실행 : 인자로 리시버 객체\n",
    "}\n",
    "\n",
    "println(11.맵 { it * it})                          // 확장함수 실행    \n",
    "println((100.0).맵 {it + it })\n",
    "\n",
    "fun <T> T.map(block :(T)->T) : T {                  // 함수표현식으로 내부 계산\n",
    "    return block(this)                              // 숫자자료형일 경우는 this가 숫자값\n",
    "}\n",
    "\n",
    "println(11.map { it * it})                          // 확장함수 실행              \n",
    "println((100.0).map {it + it })"
   ]
  },
  {
   "cell_type": "code",
   "execution_count": null,
   "id": "08f1a095",
   "metadata": {},
   "outputs": [],
   "source": []
  },
  {
   "cell_type": "markdown",
   "id": "d738937e",
   "metadata": {},
   "source": [
    "## 제너릭 확장함수의 매개변수와 반환 자료형 분리"
   ]
  },
  {
   "cell_type": "code",
   "execution_count": 3,
   "id": "9fd7d7af",
   "metadata": {},
   "outputs": [
    {
     "name": "stdout",
     "output_type": "stream",
     "text": [
      "12321\n",
      "2000.0\n",
      "12321\n",
      "1000000.0\n"
     ]
    }
   ],
   "source": [
    "fun <타입,반환> 타입.맵(block : (타입) -> 반환 )  : 반환 {    // 타입매개변수로 매개변수, 반환자료형 처리\n",
    "    return block(this)                                 // 전달받은 함수를 실행 : 인자로 리시버 객체\n",
    "}\n",
    "\n",
    "println(111.맵 { it * it})                              // 확장함수 실행    \n",
    "println((1000.0).맵 {it + it })\n",
    "\n",
    "fun <T,R> T.double(action :(T)->R) :R {                 // 두개의 타입 매개변수 사용\n",
    "    return action(this)\n",
    "}\n",
    "\n",
    "println(111.double {it * it})                           // 확장함수 실행\n",
    "println((1000.0).double {it * it})"
   ]
  },
  {
   "cell_type": "code",
   "execution_count": null,
   "id": "a1cd3553",
   "metadata": {},
   "outputs": [],
   "source": []
  },
  {
   "cell_type": "code",
   "execution_count": null,
   "id": "26e5b717",
   "metadata": {},
   "outputs": [],
   "source": []
  },
  {
   "cell_type": "markdown",
   "id": "eed4d8a9",
   "metadata": {},
   "source": [
    "## 함수자료형에 추가된 합성함수 만들기"
   ]
  },
  {
   "cell_type": "code",
   "execution_count": null,
   "id": "5cbed7bd",
   "metadata": {},
   "outputs": [],
   "source": []
  },
  {
   "cell_type": "code",
   "execution_count": 4,
   "id": "08e70376",
   "metadata": {},
   "outputs": [
    {
     "name": "stdout",
     "output_type": "stream",
     "text": [
      "11\n",
      "true\n",
      "14\n",
      "true\n"
     ]
    }
   ],
   "source": [
    "                                                // 함수자료형에 확장함수 추가하기 \n",
    "infix fun <P1, P2, R>                           // 매개변수 2개와 반환자료형 1개를 타입매개변수로 지정\n",
    "    ((P1) -> R).compose(f: (P2) -> P1):         // 1개의 매개변수를 받아서 반환하는 함수자료형 정의하고 확장함수 추가  \n",
    "                                 (P2) -> R {    // 2개의 함수를 하나의 함수로 반환 \n",
    "    return { p1: P2 -> this(f(p1)) }            // 순방향으로 함수를 합성  \n",
    "}\n",
    "                                                // 함수자료형에 확장함수 추가하기\n",
    "infix fun <P1, R1, R2>                          // 1 매개변수와 2개의 반환자료형을 타입매개변수로 지정 \n",
    "    ((P1) -> R1).then(f: (R1) -> R2):           // 함수 자료형에 확장함수 추가  \n",
    "                                 (P1) -> R2 {   // 두 개의 함수를 하나의 함수로 반환 \n",
    "    return { p1: P1 -> f(this(p1)) }            // 역방향으로 함수를 합성 \n",
    "}\n",
    "\n",
    "val plus2: (Int) -> Int  = { it + 2 }         // 람다표현식 변수 할당\n",
    "val times3: (Int) -> Int = { it * 3 }         // 람다표현식 변수 할당\n",
    "\n",
    "val times3plus2 = plus2 compose times3\n",
    "\n",
    "println(times3plus2(3))                        // 함수 실행 \n",
    "println(times3plus2(3) == 11)\n",
    "println(times3plus2(4))                     \n",
    "println(times3plus2(4) == 14)                  //역방향으로 함수 실행 "
   ]
  },
  {
   "cell_type": "code",
   "execution_count": null,
   "id": "26075415",
   "metadata": {},
   "outputs": [],
   "source": []
  },
  {
   "cell_type": "markdown",
   "id": "d4884adf",
   "metadata": {},
   "source": [
    "## 확장 속성 "
   ]
  },
  {
   "cell_type": "code",
   "execution_count": null,
   "id": "bcc0a7e2",
   "metadata": {},
   "outputs": [],
   "source": []
  },
  {
   "cell_type": "code",
   "execution_count": 6,
   "id": "f9462f28",
   "metadata": {},
   "outputs": [
    {
     "name": "stdout",
     "output_type": "stream",
     "text": [
      "가을\n"
     ]
    }
   ],
   "source": [
    "class View<T:Any> {                       // 제너릭 클래스 정의  : 지연초기화는 널러블 불가해서 제한\n",
    "    lateinit var position : T             // 지연 초기화 \n",
    "}\n",
    "\n",
    "var <T:Any> View<T>.newPosition: T       // 제너릭 확장 속성 정의 \n",
    "    get() {                              // 확장 속성에는 배킹 필드가 없다 \n",
    "        return position                  // 지연 초기화 검색 \n",
    "    }\n",
    "    set(value) {                         // 지연 초기화 갱신 \n",
    "        this.position=value\n",
    "    }\n",
    "\n",
    "    \n",
    "val v = View<String>()                    // 객체 생성 \n",
    "v.newPosition = \"가을\"                     // 사용하기 전에 지연 초기화 처리\n",
    "println(v.newPosition)                    // 조회 "
   ]
  },
  {
   "cell_type": "code",
   "execution_count": null,
   "id": "b261fea1",
   "metadata": {},
   "outputs": [],
   "source": []
  }
 ],
 "metadata": {
  "kernelspec": {
   "display_name": "Kotlin",
   "language": "kotlin",
   "name": "kotlin"
  },
  "language_info": {
   "codemirror_mode": "text/x-kotlin",
   "file_extension": ".kt",
   "mimetype": "text/x-kotlin",
   "name": "kotlin",
   "nbconvert_exporter": "",
   "pygments_lexer": "kotlin",
   "version": "1.8.0-dev-3517"
  }
 },
 "nbformat": 4,
 "nbformat_minor": 5
}
