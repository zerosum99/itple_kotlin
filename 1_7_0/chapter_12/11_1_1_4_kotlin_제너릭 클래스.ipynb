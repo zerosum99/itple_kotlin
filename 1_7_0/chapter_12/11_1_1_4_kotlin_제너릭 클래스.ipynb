{
 "cells": [
  {
   "cell_type": "code",
   "execution_count": 1,
   "id": "52366b34",
   "metadata": {},
   "outputs": [
    {
     "data": {
      "text/plain": [
       "1.7.0"
      ]
     },
     "execution_count": 1,
     "metadata": {},
     "output_type": "execute_result"
    }
   ],
   "source": [
    "KotlinVersion.CURRENT"
   ]
  },
  {
   "cell_type": "markdown",
   "id": "09c47c2a",
   "metadata": {},
   "source": [
    "## 일반 클래스 정의"
   ]
  },
  {
   "cell_type": "markdown",
   "id": "5593cf6d",
   "metadata": {},
   "source": [
    "## 제너닉 클래스로 변경"
   ]
  },
  {
   "cell_type": "code",
   "execution_count": 2,
   "id": "51821cdc",
   "metadata": {},
   "outputs": [
    {
     "name": "stdout",
     "output_type": "stream",
     "text": [
      "초기화 => 인공지능\n",
      "초기화 => 12\n",
      "초기화 => 인공지능\n",
      "초기화 => 12\n"
     ]
    }
   ],
   "source": [
    "class Company (text: String) {                // 일반 클래스 정의  주생성자는 매개변수 처리\n",
    "    var x = text                              // 속성 정의 \n",
    "    init{                                     // 초기화 블럭 처리 \n",
    "        println(\"초기화 => \"+x)\n",
    "    }\n",
    "}\n",
    "\n",
    "val com1 : Company = Company(\"인공지능\")         // 객체 생성 \n",
    "val com2 : Company = Company(\"12\")\n",
    "\n",
    "class Company1<T> (text : T){                 // 제너릭 클래스 정의  및 매개변수 타입 지정            \n",
    "    var x = text\n",
    "    init{\n",
    "        println(\"초기화 => \" + x)\n",
    "    }\n",
    "}\n",
    "\n",
    "var com3 = Company1<String>(\"인공지능\")         // 문자열 자료형의 객체 생성 \n",
    "var com4 = Company1<Int>(12)                  // 정수 자료형으 객체 생성 "
   ]
  },
  {
   "cell_type": "code",
   "execution_count": null,
   "id": "51543f92",
   "metadata": {},
   "outputs": [],
   "source": []
  },
  {
   "cell_type": "markdown",
   "id": "95514bf5",
   "metadata": {},
   "source": [
    "## 제너릭 클래스 정의"
   ]
  },
  {
   "cell_type": "code",
   "execution_count": 3,
   "id": "2c6757ba-9fe6-427f-936d-84e26caa7cb3",
   "metadata": {},
   "outputs": [
    {
     "name": "stdout",
     "output_type": "stream",
     "text": [
      "제너릭 클래스\n",
      "제너릭 클래스\n",
      "이름 사람1 나이 33\n"
     ]
    }
   ],
   "source": [
    "class MyClass<T>(val name: T)                            // 매개변수에 정의\n",
    "\n",
    "val my : MyClass<String> = MyClass<String>(\"제너릭 클래스\") // 객체 생성 \n",
    "val my1 = MyClass(\"제너릭 클래스\") \n",
    "\n",
    "println(my.name)\n",
    "println(my1.name)\n",
    "\n",
    "class Person<T, K>(val name: T, val age: K) {             // 2개의 타입매개변수로 매개변수에 지정  \n",
    "    fun getName_(): T {                                   // 반환타압 지정 \n",
    "        return this.name\n",
    "    }\n",
    "    fun getAge_() : K {                                   // 반환타입 지정 \n",
    "        return this.age\n",
    "    }\n",
    "}\n",
    "\n",
    "val p = Person<String,Int>(\"사람1\", 33)                    // 객체 생성\n",
    "println(\"이름 ${p.getName_()} 나이 ${p.getAge_()}\")"
   ]
  },
  {
   "cell_type": "code",
   "execution_count": null,
   "id": "5dc606da",
   "metadata": {},
   "outputs": [],
   "source": []
  },
  {
   "cell_type": "markdown",
   "id": "2fa9e36c",
   "metadata": {},
   "source": [
    "## 타입매개변수는 널러블 포함 타입"
   ]
  },
  {
   "cell_type": "code",
   "execution_count": 4,
   "id": "8da3ddf4",
   "metadata": {},
   "outputs": [
    {
     "name": "stdout",
     "output_type": "stream",
     "text": [
      "처리 100 \n",
      "처리 null \n",
      "처리 842550009 \n"
     ]
    }
   ],
   "source": [
    "class Number_<T> {                        // 타입 매개변수는 널러블 까지 처리 \n",
    "    fun process(value: T) : Int? {        // 메소드 매개변수에 타입매개변수 지정\n",
    "        return value?.hashCode()          // 타입 매개변수의 타입은 널러블 타입이다\n",
    "    }\n",
    "}\n",
    "\n",
    "val p = Number_<Int?>()                   // 널러블 정수 자료형으로 객체 생성 \n",
    "println(\"처리 ${p.process(100)} \")         // 타입 매개변수로 처리한 인자 값 출력 \n",
    "println(\"처리 ${p.process(null)} \")        // 기본 널처리가 가능하다\n",
    "\n",
    "class AAA                                 //임의의 클래스 선언\n",
    "\n",
    "val p1 = Number_<AAA>()                   // 클래스로 객체 생성 \n",
    "println(\"처리 ${p1.process(AAA())} \")      // "
   ]
  },
  {
   "cell_type": "code",
   "execution_count": null,
   "id": "d04eeafc",
   "metadata": {},
   "outputs": [],
   "source": []
  },
  {
   "cell_type": "markdown",
   "id": "f6eb9d35",
   "metadata": {},
   "source": [
    "## 주생성자의 속성 타입 지정"
   ]
  },
  {
   "cell_type": "code",
   "execution_count": 5,
   "id": "ec306c2c",
   "metadata": {},
   "outputs": [
    {
     "name": "stdout",
     "output_type": "stream",
     "text": [
      "Cage Dog(id=1, name=Stu, furColor=PATCHED) size 6.0\n",
      "Cage Cat(id=4, name=Peter, eyesColor=GREEN) size 3.0\n"
     ]
    }
   ],
   "source": [
    "enum class FurColor {  RED, GREEN, PATCHED }        // 이넘 클래스 정의 \n",
    "enum class EyesColor { RED, GREEN, PATCHED }        // 이넘 클래스 정의 \n",
    "\n",
    "data class Dog(val id: Int,                          // 데이터 클래스 정의 \n",
    "               val name: String, \n",
    "               val furColor: FurColor)\n",
    "data class Cat (val id: Int,                          // 데이터 클래스 정의 \n",
    "                val name: String, \n",
    "                val eyesColor: EyesColor)\n",
    "\n",
    "class Cage<T>(var animal: T,                          // 제너릭 클래스 정의 \n",
    "              val size: Double) {\n",
    "    override fun toString() =                         // 출력 \n",
    "              \"Cage $animal size $size\"\n",
    "}\n",
    " \n",
    "val dog: Dog = Dog(id = 1, name = \"Stu\",               // 객체 생성 \n",
    "                   furColor = FurColor.PATCHED)\n",
    "val cat: Cat = Cat(id = 4, name = \"Peter\",             // 객체 생성\n",
    "                   eyesColor = EyesColor.GREEN)\n",
    "\n",
    "val cageDog: Cage<Dog> = Cage(animal = dog, size = 6.0)\n",
    "val cageCat: Cage<Cat> = Cage(animal = cat, size = 3.0)\n",
    "\n",
    "println(cageDog)\n",
    "println(cageCat)"
   ]
  },
  {
   "cell_type": "code",
   "execution_count": null,
   "id": "bca9bae6",
   "metadata": {},
   "outputs": [],
   "source": []
  },
  {
   "cell_type": "code",
   "execution_count": null,
   "id": "2432161d",
   "metadata": {},
   "outputs": [],
   "source": []
  },
  {
   "cell_type": "code",
   "execution_count": null,
   "id": "9a995ffc",
   "metadata": {},
   "outputs": [],
   "source": []
  }
 ],
 "metadata": {
  "kernelspec": {
   "display_name": "Kotlin",
   "language": "kotlin",
   "name": "kotlin"
  },
  "language_info": {
   "codemirror_mode": "text/x-kotlin",
   "file_extension": ".kt",
   "mimetype": "text/x-kotlin",
   "name": "kotlin",
   "nbconvert_exporter": "",
   "pygments_lexer": "kotlin",
   "version": "1.8.0-dev-3517"
  }
 },
 "nbformat": 4,
 "nbformat_minor": 5
}
