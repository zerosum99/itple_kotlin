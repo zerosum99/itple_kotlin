{
 "cells": [
  {
   "cell_type": "code",
   "execution_count": 1,
   "id": "b1f673bc",
   "metadata": {},
   "outputs": [
    {
     "data": {
      "text/plain": [
       "1.7.0"
      ]
     },
     "execution_count": 1,
     "metadata": {},
     "output_type": "execute_result"
    }
   ],
   "source": [
    "KotlinVersion.CURRENT"
   ]
  },
  {
   "cell_type": "markdown",
   "id": "4db0403f-a97d-4d1d-a997-dc3aa197bb0f",
   "metadata": {},
   "source": [
    "## 리플렉션\n",
    "\n",
    "- 리플렉션이란 런타임에 프로그램의 클래스를 조사하기 위해서 사용되는 기술입니다. 즉, 프로그램이 실행중일 때 인스턴스 등을 통해 객체의 내부 구조 등을 파악할 수 있습니다. "
   ]
  },
  {
   "cell_type": "markdown",
   "id": "2059d20a-b0ab-431f-ba5b-224594ffb359",
   "metadata": {},
   "source": [
    "## 1. 프로퍼티 참조"
   ]
  },
  {
   "cell_type": "code",
   "execution_count": 2,
   "id": "463c8543",
   "metadata": {},
   "outputs": [
    {
     "name": "stdout",
     "output_type": "stream",
     "text": [
      "val Line_1.x: kotlin.Int\n",
      "1\n",
      "x\n",
      "var Line_1.y: kotlin.Int\n",
      "100\n",
      "y\n",
      "300\n"
     ]
    }
   ],
   "source": [
    "val x = 1\n",
    "\n",
    "println(::x)                  // 프로터피 클래스 정보를 확인 \n",
    "println(::x.get())            // getter 메소드 가져오기 \n",
    "println(::x.name)             // 프로퍼티 이름 가져오기\n",
    "\n",
    "\n",
    "var y = 100\n",
    "\n",
    "println(::y)                  // 프로퍼티의 클래스 정보\n",
    "println(::y.get())            // getter 메소드 가져오기 \n",
    "println(::y.name)             // 프로퍼티 이름 가져오기\n",
    "::y.set(300)                  // 프로퍼티 참조를 사용해서 갱신하기 \n",
    "println(::y.get())"
   ]
  },
  {
   "cell_type": "markdown",
   "id": "4af52edd-a738-4880-b849-ecc8c46f5b54",
   "metadata": {},
   "source": [
    "## 2. 함수 참조 및 생성자 참조 "
   ]
  },
  {
   "cell_type": "code",
   "execution_count": 3,
   "id": "98d7c869-ce9f-4421-b7b2-dbf257877c1f",
   "metadata": {},
   "outputs": [
    {
     "name": "stdout",
     "output_type": "stream",
     "text": [
      "30\n",
      "생성자 참조\n"
     ]
    }
   ],
   "source": [
    "fun add(x:Int, y:Int) :Int = x+y       // 함수 정의 \n",
    "\n",
    "val addF = :: add                      // 함수 참조 및 변수 할당 \n",
    "\n",
    "println(addF(10,20))                   // 함수 실행 \n",
    "\n",
    "\n",
    "class Foo(val bar :String)             // 클래스 정의        \n",
    "\n",
    "val con = (::Foo)(\"생성자 참조\")          // 생성자 참조 및 객체 생성 \n",
    "\n",
    "println(con.bar)                       // 객체 속성 참조"
   ]
  },
  {
   "cell_type": "markdown",
   "id": "ce0869a5",
   "metadata": {},
   "source": [
    "## 클래스, 컴패니언 내부 참조"
   ]
  },
  {
   "cell_type": "code",
   "execution_count": 4,
   "id": "53b66ef9",
   "metadata": {},
   "outputs": [
    {
     "name": "stdout",
     "output_type": "stream",
     "text": [
      "class Line_3$AAA\n",
      "99999\n",
      "컴패니언 메소드\n",
      "1000\n",
      "100\n",
      "100\n"
     ]
    }
   ],
   "source": [
    "class AAA {                             // 클래스 정의 \n",
    "    val a = 100                         // 속성 정의 \n",
    "    fun getFull() :Int = a              // 메소드 정의 \n",
    "    companion object {                  // 동반 객체 정의 \n",
    "        const val CONST = 1000          // 상수 정의\n",
    "        val com = 99999                 // 동반 객체 속성 \n",
    "        fun getCom() = \"컴패니언 메소드\"    //  동반 객체 메소드 \n",
    "    }\n",
    "}\n",
    "\n",
    "println(AAA::class)                      // 클래스참조 \n",
    "println((AAA)::com.get())                // 컴패니언 속성 참조 \n",
    "println(((AAA)::getCom)())               // 컴패니언 메소드 참조 \n",
    "\n",
    "val aaa = AAA()\n",
    "val xx = AAA::a                          // 객체 속성  참조\n",
    "val x = AAA::getFull                     // 객체 메소드 참조\n",
    "\n",
    "println((AAA)::CONST.get())              // 동반 객체 내의 상수 참조\n",
    "\n",
    "println(xx.get(aaa))                     // 속성에 대한 리시버 전달\n",
    "println(x(aaa))                          // 메소드에 대한 리시버 전달"
   ]
  },
  {
   "cell_type": "markdown",
   "id": "80d30a1e",
   "metadata": {},
   "source": [
    "## 객체 참조"
   ]
  },
  {
   "cell_type": "code",
   "execution_count": 5,
   "id": "dd13f376",
   "metadata": {},
   "outputs": [
    {
     "name": "stdout",
     "output_type": "stream",
     "text": [
      "100\n",
      "1000\n",
      "100\n"
     ]
    }
   ],
   "source": [
    "object A {                                // Object 정의\n",
    "    const val CONST = 1000                // 상수 정의\n",
    "    \n",
    "    val a = 100                           // 속성 정의 \n",
    "    \n",
    "    fun getFull() : Int = a               // 메소드 정의 \n",
    "}\n",
    "\n",
    "val oa1 = A::a                            // 속성 참조 \n",
    "val oaCon = A::CONST                      // 속성 참조 \n",
    "val oa2 = A::getFull                      // 메소드 참조 \n",
    "\n",
    "println(oa1.get())                        // 객체 값 가죠오기\n",
    "println(oaCon.get())                      // object 상수 가져오기 \n",
    "println(oa2())                            // 메소드 실행"
   ]
  },
  {
   "cell_type": "code",
   "execution_count": null,
   "id": "aafa615e",
   "metadata": {},
   "outputs": [],
   "source": []
  },
  {
   "cell_type": "markdown",
   "id": "29ec3314",
   "metadata": {},
   "source": [
    "## 인라인 함수 reified 처리"
   ]
  },
  {
   "cell_type": "code",
   "execution_count": 6,
   "id": "8f7d30a2",
   "metadata": {},
   "outputs": [
    {
     "name": "stdout",
     "output_type": "stream",
     "text": [
      "T는 class kotlin.Int입니다\n",
      "class kotlin.Int\n"
     ]
    }
   ],
   "source": [
    "import kotlin.reflect.KClass                    // 리플렉션을 위한 클래스 \n",
    "\n",
    "inline fun <reified T> check() : KClass<*> {    //reified를 사용하지 않으면 타입정보가 사라짐\n",
    "    val num = 0\n",
    "    if (num is T) {                             // 타입 확인 \n",
    "        println(\"T는 ${T::class}입니다\")\n",
    "    }\n",
    "    return T::class                             // 인라인 함수로 내부에 코드 작성 및 reified로 참조 유지\n",
    "} \n",
    "\n",
    "val x = check<Int>()                            // 함수 실행\n",
    "\n",
    "println(x)                                      // 자료형 확인 "
   ]
  },
  {
   "cell_type": "code",
   "execution_count": null,
   "id": "9673c0ba",
   "metadata": {},
   "outputs": [],
   "source": []
  },
  {
   "cell_type": "code",
   "execution_count": null,
   "id": "214c602c",
   "metadata": {},
   "outputs": [],
   "source": []
  },
  {
   "cell_type": "code",
   "execution_count": null,
   "id": "6b9a2cf6",
   "metadata": {},
   "outputs": [],
   "source": []
  }
 ],
 "metadata": {
  "kernelspec": {
   "display_name": "Kotlin",
   "language": "kotlin",
   "name": "kotlin"
  },
  "language_info": {
   "codemirror_mode": "text/x-kotlin",
   "file_extension": ".kt",
   "mimetype": "text/x-kotlin",
   "name": "kotlin",
   "nbconvert_exporter": "",
   "pygments_lexer": "kotlin",
   "version": "1.7.0-dev-1825"
  }
 },
 "nbformat": 4,
 "nbformat_minor": 5
}
