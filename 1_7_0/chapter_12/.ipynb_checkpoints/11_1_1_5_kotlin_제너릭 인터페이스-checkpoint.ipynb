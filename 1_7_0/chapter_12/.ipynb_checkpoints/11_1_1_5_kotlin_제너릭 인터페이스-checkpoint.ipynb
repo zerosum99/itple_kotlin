{
 "cells": [
  {
   "cell_type": "code",
   "execution_count": 1,
   "id": "52366b34",
   "metadata": {},
   "outputs": [
    {
     "data": {
      "text/plain": [
       "1.7.0"
      ]
     },
     "execution_count": 1,
     "metadata": {},
     "output_type": "execute_result"
    }
   ],
   "source": [
    "KotlinVersion.CURRENT"
   ]
  },
  {
   "cell_type": "code",
   "execution_count": null,
   "id": "b04582b9",
   "metadata": {},
   "outputs": [],
   "source": []
  },
  {
   "cell_type": "code",
   "execution_count": null,
   "id": "3ae2211f",
   "metadata": {},
   "outputs": [],
   "source": []
  },
  {
   "cell_type": "markdown",
   "id": "b123541e",
   "metadata": {},
   "source": [
    "## 인터페이스 구현 "
   ]
  },
  {
   "cell_type": "code",
   "execution_count": 10,
   "id": "c6ab2cd0",
   "metadata": {},
   "outputs": [
    {
     "name": "stdout",
     "output_type": "stream",
     "text": [
      "Cyan\n",
      "11\n",
      "멍멍\n",
      "f()\n",
      "x\n"
     ]
    }
   ],
   "source": [
    "interface Animalable<T> {                                     // 제너릭인터페이스 정의 : 타입매개변수                      \n",
    "    val obj: T                                                // 추상속성과 추상메소드에 타입매개변수 지정 \n",
    "    fun func(): T\n",
    "}\n",
    "\n",
    "class Dog {                                                   // 일반 클래스 정의 \n",
    "    fun bark() = \"멍멍\" \n",
    "}\n",
    "\n",
    "class AnimalImpl<T>(override val obj : T) : Animalable<T> {\n",
    "      override fun func(): T = obj\n",
    "}\n",
    "\n",
    "val aimp = AnimalImpl(\"Cyan\")\n",
    "val aimp11 = AnimalImpl(11)\n",
    "val aimpdog = AnimalImpl(Dog())\n",
    "\n",
    "println(aimp.func())\n",
    "println(aimp11.func())\n",
    "println(aimpdog.func().bark())\n",
    "\n",
    "class Concrete : Animalable<String> {       //  상속한 속성을 문자열로 처리 \n",
    "    override val obj: String\n",
    "        get() = \"x\"\n",
    "    override fun func() = \"f()\"\n",
    "}\n",
    "\n",
    "println(Concrete().func())\n",
    "println(Concrete().obj)"
   ]
  },
  {
   "cell_type": "code",
   "execution_count": null,
   "id": "539d21bc",
   "metadata": {},
   "outputs": [],
   "source": []
  },
  {
   "cell_type": "code",
   "execution_count": 8,
   "id": "c95d7f24",
   "metadata": {},
   "outputs": [
    {
     "name": "stdout",
     "output_type": "stream",
     "text": [
      "Plastic\n",
      "Metal\n",
      "Cardboard\n",
      "Plastic\n",
      "Metal\n",
      "Cardboard\n"
     ]
    }
   ],
   "source": [
    "interface Disposable <T> {\n",
    "  val name: T\n",
    "  fun action(): T\n",
    "}\n",
    "class Compost(override val name: String) : Disposable<String> {\n",
    "  override fun action() = \"Add to composter\"\n",
    "}\n",
    "  \n",
    "interface Transport : Disposable<String>\n",
    "    \n",
    "class Donation(override val name: String) : Transport {\n",
    "    override fun action() = \"Call for pickup\"\n",
    "}\n",
    "class Recyclable(override val name: String) : Transport {\n",
    "    override fun action() = \"Put in bin\"\n",
    "}\n",
    "class Landfill(override val name: String) :  Transport {\n",
    "    override fun action() = \"Put in dumpster\"\n",
    "}\n",
    "\n",
    "fun <T : Transport> nameOf(disposable: T) = disposable.name\n",
    "fun <T : Transport> T.name() = name\n",
    "\n",
    "val items = listOf(Compost(\"Orange Peel\"),Compost(\"Apple Core\"),\n",
    "                   Donation(\"Couch\"),Donation(\"Clothing\"),\n",
    "                   Recyclable(\"Plastic\"), Recyclable(\"Metal\"),\n",
    "                   Recyclable(\"Cardboard\"),Landfill(\"Trash\") )\n",
    "\n",
    "val recyclables =  items.filterIsInstance<Recyclable>()\n",
    "val bbb = recyclables.map { nameOf(it) }                             //\"[Plastic, Metal, Cardboard]\")\n",
    "bbb.forEach {println(it)}\n",
    "\n",
    "val aaa = recyclables.map { it.name }                                // \"[Plastic, Metal, Cardboard]\")\n",
    "aaa.forEach {println(it)}   "
   ]
  },
  {
   "cell_type": "code",
   "execution_count": null,
   "id": "a905560a",
   "metadata": {},
   "outputs": [],
   "source": []
  },
  {
   "cell_type": "code",
   "execution_count": null,
   "id": "ecd5ba58",
   "metadata": {},
   "outputs": [],
   "source": []
  }
 ],
 "metadata": {
  "kernelspec": {
   "display_name": "Kotlin",
   "language": "kotlin",
   "name": "kotlin"
  },
  "language_info": {
   "codemirror_mode": "text/x-kotlin",
   "file_extension": ".kt",
   "mimetype": "text/x-kotlin",
   "name": "kotlin",
   "nbconvert_exporter": "",
   "pygments_lexer": "kotlin",
   "version": "1.7.0-dev-1825"
  }
 },
 "nbformat": 4,
 "nbformat_minor": 5
}
