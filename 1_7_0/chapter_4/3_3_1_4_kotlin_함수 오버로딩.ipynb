{
 "cells": [
  {
   "cell_type": "markdown",
   "id": "ce9cc7d2",
   "metadata": {},
   "source": [
    "## 매개변수 개수를 다르게 \n",
    "- 반환값이 달라도 처리"
   ]
  },
  {
   "cell_type": "code",
   "execution_count": 5,
   "id": "eeeef0d0",
   "metadata": {},
   "outputs": [
    {
     "name": "stdout",
     "output_type": "stream",
     "text": [
      "func\n",
      "100\n"
     ]
    }
   ],
   "source": [
    "fun func(a: String, b: String) : String {  //동일한 타입의 매개변수 2개\n",
    "    return \"func\"                          //반환값은 다르다.\n",
    "}\n",
    "\n",
    "fun func(a:String) :Int {                  //동일한 타입의 매개변수 1개 \n",
    "    return 100                             // 반환값은 다르다.\n",
    "}\n",
    "\n",
    "println(func(\"가\",\"을\"))\n",
    "println(func(\"가\"))"
   ]
  },
  {
   "cell_type": "code",
   "execution_count": null,
   "id": "923f7412",
   "metadata": {},
   "outputs": [],
   "source": []
  },
  {
   "cell_type": "markdown",
   "id": "1a8ce728",
   "metadata": {},
   "source": [
    "## 매개변수는 동일하지만 자료형이 다른 경우"
   ]
  },
  {
   "cell_type": "code",
   "execution_count": null,
   "id": "a6a03359",
   "metadata": {},
   "outputs": [],
   "source": []
  },
  {
   "cell_type": "code",
   "execution_count": 7,
   "id": "cd8f241b",
   "metadata": {},
   "outputs": [
    {
     "name": "stdout",
     "output_type": "stream",
     "text": [
      "test2\n",
      "test1\n"
     ]
    }
   ],
   "source": [
    "fun test1(a: String, b: String? = null) {   //두 개의 매개변수 \n",
    "    println(\"test1\")                        //자료형 String, String?\n",
    "}\n",
    "\n",
    "fun test1(a: Int, b: String) {              //두 개의 매개변수\n",
    "    println(\"test2\")                        //자료형이 Int, String\n",
    "}\n",
    "\n",
    "test1(100,\"a\")\n",
    "test1(\"ccc\",\"a\")"
   ]
  },
  {
   "cell_type": "code",
   "execution_count": null,
   "id": "2829869b",
   "metadata": {},
   "outputs": [],
   "source": []
  },
  {
   "cell_type": "markdown",
   "id": "8fe8d7f3",
   "metadata": {},
   "source": [
    "## 함수오버로딩을 줄이는 방안은 초깃값과 가변인수 처리"
   ]
  },
  {
   "cell_type": "code",
   "execution_count": 4,
   "id": "4e8f056e",
   "metadata": {},
   "outputs": [
    {
     "name": "stdout",
     "output_type": "stream",
     "text": [
      "가변 매개변수\n",
      "매개변수 두개\n",
      "매개변수 하나\n"
     ]
    }
   ],
   "source": [
    "fun test3(a: Any) : String = \n",
    "                  \"매개변수 하나\"\n",
    "fun test3(a: String, b: String = \"Hello\") :String =   // 초기값지정 \n",
    "                  \"매개변수 두개\"\n",
    "fun test3(vararg a: String) :String =                 // 가변인자 지정\n",
    "                  \"가변 매개변수\"\n",
    "\n",
    "\n",
    "println(test3(\"a\",\"b\",\"c\",\"d\"))\n",
    "println(test3(\"a\"))\n",
    "println(test3(100))"
   ]
  },
  {
   "cell_type": "code",
   "execution_count": null,
   "id": "e5b6ae1b",
   "metadata": {},
   "outputs": [],
   "source": []
  },
  {
   "cell_type": "code",
   "execution_count": null,
   "id": "895f8416",
   "metadata": {},
   "outputs": [],
   "source": []
  },
  {
   "cell_type": "code",
   "execution_count": null,
   "id": "08fd863f",
   "metadata": {},
   "outputs": [],
   "source": []
  }
 ],
 "metadata": {
  "kernelspec": {
   "display_name": "Kotlin",
   "language": "kotlin",
   "name": "kotlin"
  },
  "language_info": {
   "codemirror_mode": "text/x-kotlin",
   "file_extension": ".kt",
   "mimetype": "text/x-kotlin",
   "name": "kotlin",
   "nbconvert_exporter": "",
   "pygments_lexer": "kotlin",
   "version": "1.7.0-dev-1825"
  }
 },
 "nbformat": 4,
 "nbformat_minor": 5
}
