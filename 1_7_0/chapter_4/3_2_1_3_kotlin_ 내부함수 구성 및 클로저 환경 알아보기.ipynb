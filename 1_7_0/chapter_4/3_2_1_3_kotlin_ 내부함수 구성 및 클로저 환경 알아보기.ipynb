{
 "cells": [
  {
   "cell_type": "markdown",
   "id": "cd036a97",
   "metadata": {},
   "source": [
    "## 내부함수 실행 출력"
   ]
  },
  {
   "cell_type": "code",
   "execution_count": 10,
   "id": "47151d99",
   "metadata": {},
   "outputs": [
    {
     "name": "stdout",
     "output_type": "stream",
     "text": [
      "20\n",
      "20\n",
      "20\n",
      "20\n"
     ]
    }
   ],
   "source": [
    "fun outer(x:Int) {                // 외부함수 \n",
    "    fun inner(y:Int) =x +y        // 내부함수=> 외부함수 변수 사용\n",
    "    println(inner(x))             // 내부함수 실행 => 외부함수 지역변수 인자제공\n",
    "}\n",
    "outer(10)\n",
    "\n",
    "fun outer1(x:Int): Int {\n",
    "    fun inner(y:Int) =x +y        \n",
    "    return inner(x)                // 내부함수 실행결과 반부함수 \n",
    "}\n",
    "println(outer1(10))\n",
    "\n",
    "\n",
    "fun outer2(x:Int): Int {       \n",
    "    return (fun (y:Int):Int {\n",
    "                return x +y })(10)  // 내부함수를 익명함수로 처리   \n",
    "}\n",
    "println(outer2(10))\n",
    "\n",
    "fun outer3(x:Int): Int {       \n",
    "    return {y:Int -> x+y}(10)       // 내부함수를 람다표현식 처리   \n",
    "}\n",
    "\n",
    "println(outer3(10))"
   ]
  },
  {
   "cell_type": "markdown",
   "id": "0e435534",
   "metadata": {},
   "source": [
    "## 내부함수 반환 "
   ]
  },
  {
   "cell_type": "code",
   "execution_count": 2,
   "id": "09f2f261",
   "metadata": {},
   "outputs": [
    {
     "name": "stdout",
     "output_type": "stream",
     "text": [
      "20\n",
      "20\n",
      "20\n"
     ]
    }
   ],
   "source": [
    "fun outer2(x:Int) :(Int) -> Int {           //함수를 참조로 반환\n",
    "    fun inner(y:Int) =x +y\n",
    "    return ::inner\n",
    "}\n",
    "\n",
    "val inner1 = outer2(10)\n",
    "println(inner1(10))\n",
    "\n",
    "fun outer3(x:Int) :(Int) -> Int {              // 람다표현식 반환 \n",
    "    \n",
    "    return {y:Int -> x+y}\n",
    "}\n",
    "\n",
    "val inner2 = outer3(10)\n",
    "println(inner2(10))\n",
    "\n",
    "fun outer4(x:Int) :(Int) -> Int {              //익명함수 반환\n",
    "    \n",
    "    return fun(y:Int) = x+y\n",
    "}\n",
    "\n",
    "val inner3 = outer4(10)\n",
    "println(inner2(10))"
   ]
  },
  {
   "cell_type": "code",
   "execution_count": null,
   "id": "355d7aae",
   "metadata": {},
   "outputs": [],
   "source": []
  },
  {
   "cell_type": "markdown",
   "id": "9554bb0e",
   "metadata": {},
   "source": [
    "## 클로저 및 렉시컬 스코프"
   ]
  },
  {
   "cell_type": "code",
   "execution_count": 3,
   "id": "b909d9aa",
   "metadata": {},
   "outputs": [
    {
     "name": "stdout",
     "output_type": "stream",
     "text": [
      "40\n"
     ]
    }
   ],
   "source": [
    "val factor = 2\n",
    "fun func(e: Int) :Int {            // 매개변수 하나인 함수 정의\n",
    "    return e * factor              // 전역변수 사용 \n",
    "}\n",
    "\n",
    "println(func(20))"
   ]
  },
  {
   "cell_type": "code",
   "execution_count": null,
   "id": "6cbd1032",
   "metadata": {},
   "outputs": [],
   "source": []
  },
  {
   "cell_type": "code",
   "execution_count": 4,
   "id": "b366c19e",
   "metadata": {},
   "outputs": [
    {
     "name": "stdout",
     "output_type": "stream",
     "text": [
      "false\n",
      "true\n",
      "false\n",
      "false\n"
     ]
    }
   ],
   "source": [
    "fun funcLen(length: Int): (String) -> Boolean {           //매개변수 하나이고 함수를 반환\n",
    "     return { input: String -> input.length == length }   //내부함수를 람다표현식 사용\n",
    "}                                                         // length는 외부함수의 매개변수\n",
    "\n",
    "val len = funcLen(4)                                      // 내부함수를 반환으로 클로저 환경구성\n",
    "\n",
    "println(len(\"벌써 여름인가\"))                                // 내부 함수를 호출 : 외부함수 매개변수 사용\n",
    "println(len(\"여름인가\"))                                    // 내부 함수를 호출 : 오부함수 매개변수 사용\n",
    "\n",
    "\n",
    "val len1 = funcLen(6)                                     // 추가적인 클로저환경구성\n",
    "\n",
    "println(len1(\"벌써 여름인가\"))                               // 내부 함수를 호출 : 외부함수 매개변수 사용\n",
    "println(len1(\"여름인가\"))                                   // 내부 함수를 호출 : 오부함수 매개변수 사용\n"
   ]
  },
  {
   "cell_type": "code",
   "execution_count": null,
   "id": "1ca8ae7d",
   "metadata": {},
   "outputs": [],
   "source": []
  },
  {
   "cell_type": "code",
   "execution_count": null,
   "id": "619c9684",
   "metadata": {},
   "outputs": [],
   "source": []
  },
  {
   "cell_type": "code",
   "execution_count": null,
   "id": "7dbbc06d",
   "metadata": {},
   "outputs": [],
   "source": []
  },
  {
   "cell_type": "code",
   "execution_count": null,
   "id": "46c9b6f4",
   "metadata": {},
   "outputs": [],
   "source": []
  },
  {
   "cell_type": "code",
   "execution_count": null,
   "id": "78274e14",
   "metadata": {},
   "outputs": [],
   "source": []
  },
  {
   "cell_type": "code",
   "execution_count": null,
   "id": "68895733",
   "metadata": {},
   "outputs": [],
   "source": []
  }
 ],
 "metadata": {
  "kernelspec": {
   "display_name": "Kotlin",
   "language": "kotlin",
   "name": "kotlin"
  },
  "language_info": {
   "codemirror_mode": "text/x-kotlin",
   "file_extension": ".kt",
   "mimetype": "text/x-kotlin",
   "name": "kotlin",
   "nbconvert_exporter": "",
   "pygments_lexer": "kotlin",
   "version": "1.7.0-dev-1825"
  }
 },
 "nbformat": 4,
 "nbformat_minor": 5
}
