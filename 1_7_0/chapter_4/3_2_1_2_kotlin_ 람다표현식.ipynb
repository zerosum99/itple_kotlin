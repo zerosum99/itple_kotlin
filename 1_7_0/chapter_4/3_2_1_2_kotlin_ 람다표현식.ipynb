{
 "cells": [
  {
   "cell_type": "markdown",
   "id": "cd036a97",
   "metadata": {},
   "source": [
    "## 정의 및 실행"
   ]
  },
  {
   "cell_type": "code",
   "execution_count": 9,
   "id": "a7272301",
   "metadata": {},
   "outputs": [
    {
     "name": "stdout",
     "output_type": "stream",
     "text": [
      "아무 인자가 없다.\n",
      "100\n",
      "200\n",
      "500\n",
      "300\n"
     ]
    }
   ],
   "source": [
    "{ println(\"아무 인자가 없다.\")}()                       //인자가 없는 경우 \n",
    "\n",
    "println({x:Int -> x * x}(10))                       //인자가 하나 있는 경우 \n",
    "println({x:Int, y:Int -> x*y}(10,20))               //인자가 두개 있는 경우 \n",
    "\n",
    "val a = { x:Int, y:Int -> x + y }                   //재사용하려면 변수에 할당 \n",
    "println(a(200,300))\n",
    "\n",
    "\n",
    "fun func(x:Int, y:Int, f:(Int, Int) -> Int) : Int { // 함수 매개변수를 가지는 함수 정의 \n",
    "    return f(x,y)\n",
    "}\n",
    "println(func(100,200,{x,y -> x+y}))                 //인자로 람다표현식 전달 "
   ]
  },
  {
   "cell_type": "code",
   "execution_count": null,
   "id": "e81d83b2",
   "metadata": {},
   "outputs": [],
   "source": []
  },
  {
   "cell_type": "code",
   "execution_count": null,
   "id": "c1b45d1e",
   "metadata": {},
   "outputs": [],
   "source": []
  },
  {
   "cell_type": "markdown",
   "id": "14df59a4",
   "metadata": {},
   "source": [
    "## 함수와 익명함수와 비교"
   ]
  },
  {
   "cell_type": "code",
   "execution_count": 2,
   "id": "f2f52f2a",
   "metadata": {},
   "outputs": [
    {
     "name": "stdout",
     "output_type": "stream",
     "text": [
      "300\n",
      "300\n",
      "300\n",
      "300\n"
     ]
    }
   ],
   "source": [
    "                                                     // 익명함수 정의하고 즉시 실행 \n",
    "println({매개변수1:Int, 매개변수2:Int -> 매개변수1 + 매개변수2} (100,200))\n",
    "    \n",
    "fun add(x:Int, y:Int) = x+y                          // 함수는 선언 후에 호출 \n",
    "println(add(100,200))\n",
    "\n",
    "println({ x:Int, y:Int -> x + y }(100,200))\n",
    "println((fun (x:Int, y:Int) = x+y)(100,200))         //익명함수도 정의하고 즉시 실행\n"
   ]
  },
  {
   "cell_type": "code",
   "execution_count": null,
   "id": "b909d9aa",
   "metadata": {},
   "outputs": [],
   "source": []
  },
  {
   "cell_type": "markdown",
   "id": "f9125594",
   "metadata": {},
   "source": [
    "##  활용"
   ]
  },
  {
   "cell_type": "code",
   "execution_count": null,
   "id": "49905628",
   "metadata": {},
   "outputs": [],
   "source": []
  },
  {
   "cell_type": "code",
   "execution_count": 3,
   "id": "b1244e4a",
   "metadata": {},
   "outputs": [
    {
     "name": "stdout",
     "output_type": "stream",
     "text": [
      "100\n",
      "[1, 4, 9]\n",
      "20\n"
     ]
    }
   ],
   "source": [
    "fun ret() : ()->Int {          \n",
    "    return {100}                //함수의 반환값 \n",
    "} \n",
    "val r = ret()\n",
    "\n",
    "println(r())\n",
    "\n",
    "val ll = listOf(1,2,3)\n",
    "\n",
    "println(ll.map {it*it})          //함수의 인자 \n",
    "\n",
    "class LL(val action:(Int)->Int)  //클래스의 속성 \n",
    "val l = LL({it*2})\n",
    "println(l.action(10))"
   ]
  },
  {
   "cell_type": "code",
   "execution_count": null,
   "id": "68895733",
   "metadata": {},
   "outputs": [],
   "source": []
  }
 ],
 "metadata": {
  "kernelspec": {
   "display_name": "Kotlin",
   "language": "kotlin",
   "name": "kotlin"
  },
  "language_info": {
   "codemirror_mode": "text/x-kotlin",
   "file_extension": ".kt",
   "mimetype": "text/x-kotlin",
   "name": "kotlin",
   "nbconvert_exporter": "",
   "pygments_lexer": "kotlin",
   "version": "1.7.0-dev-1825"
  }
 },
 "nbformat": 4,
 "nbformat_minor": 5
}
