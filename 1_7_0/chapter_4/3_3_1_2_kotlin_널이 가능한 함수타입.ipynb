{
 "cells": [
  {
   "cell_type": "markdown",
   "id": "0068104d",
   "metadata": {},
   "source": [
    "## 널 가능 함수 처리"
   ]
  },
  {
   "cell_type": "code",
   "execution_count": 1,
   "id": "05553ca6",
   "metadata": {},
   "outputs": [
    {
     "name": "stdout",
     "output_type": "stream",
     "text": [
      "195\n",
      "Hello world\n",
      "89914\n",
      "익명함수\n",
      "39975\n",
      "함수처리\n",
      "70827\n"
     ]
    }
   ],
   "source": [
    "                                                    // 함수 자료형도 널자료형이 가능\n",
    "fun nullFunc(action :(()->Unit)?) :Long{            // 함수 자료형 전체를 괄호로 묶고난 후에 물음표 \n",
    "    val start = System.nanoTime()                   // 시스템 시간을 조회 \n",
    "    action?.invoke()                                //널이 들어올 수 있으니 ? 이후 실행처리\n",
    "    \n",
    "    return System.nanoTime() - start                // 최종 처리시간 표시\n",
    "}\n",
    "\n",
    "println(nullFunc(null))                             // 널을 전달 \n",
    "\n",
    "println(nullFunc { println(\"Hello world\") })        // 람다함수전달 \n",
    "\n",
    "println(nullFunc(fun() :Unit {println(\"익명함수\")}))  // 익명함수 전달\n",
    "\n",
    "fun unitFunc() = println(\"함수처리\")                   // 함수참조 전달\n",
    "println(nullFunc(::unitFunc))"
   ]
  },
  {
   "cell_type": "code",
   "execution_count": null,
   "id": "c1914d33",
   "metadata": {},
   "outputs": [],
   "source": []
  },
  {
   "cell_type": "markdown",
   "id": "c14904dc",
   "metadata": {},
   "source": [
    "## 람다로 내부함수 처리"
   ]
  },
  {
   "cell_type": "code",
   "execution_count": null,
   "id": "b05cf34b",
   "metadata": {},
   "outputs": [],
   "source": []
  },
  {
   "cell_type": "code",
   "execution_count": 4,
   "id": "5e5bd54e",
   "metadata": {},
   "outputs": [
    {
     "name": "stdout",
     "output_type": "stream",
     "text": [
      "null\n",
      "30\n",
      "30\n",
      "30\n"
     ]
    }
   ],
   "source": [
    "val innerFunc : (Int) -> ((Int) -> Int)? =        //반환값을 전체로 널러블 함수자료형 처리 \n",
    "                   {n -> null }                   //함수 전달대신 null 반환\n",
    "println(innerFunc(10)?.invoke(20))                //그래서 안전 호출   \n",
    "\n",
    "val innerFunc1 : (Int) -> ((Int) -> Int)? =       //반환값을 전체로 널러블 함수자료형 처리 \n",
    "                   {n -> { m -> n + m }}          //함수표현식으로 전달, 반환자료형도 함수표현식 \n",
    "\n",
    "println(innerFunc1(10)?.invoke(20))               //실행하면 함수표현식의 자료형이 널러블\n",
    "                                                  //그래서 안전 호출 \n",
    "val innerFunc2 : (Int) -> ((Int) -> Int)? =       //반환값을 전체로 널러블 함수자료형 처리 \n",
    "                   fun(n:Int) : ((Int) -> Int)? { //익명함수로 전달 \n",
    "                    return fun(m: Int) : Int {    //반환자료형도 익명함수\n",
    "                                    return n + m \n",
    "                           }\n",
    "                   }\n",
    "\n",
    "println(innerFunc2(10)?.invoke(20))                //실행하면 함수표현식의 자료형이 널러블 \n",
    "                                                   //그래서 안전 호출 \n",
    "fun funcDT(n:Int) : ((Int) -> Int)? {              //반환값을 전체로 널러블 함수자료형 처리 \n",
    "     fun inner(m: Int) : Int { return n + m }      // 내부함수 정의\n",
    "        return ::inner                             // 내부함수 참조 처리\n",
    "}\n",
    "\n",
    "println(funcDT(10)?.invoke(20))                    //실행하면 함수표현식의 자료형이 널러블 \n",
    "                                                   //그래서 안전 호출 "
   ]
  },
  {
   "cell_type": "code",
   "execution_count": null,
   "id": "d33bc4e4",
   "metadata": {},
   "outputs": [],
   "source": []
  },
  {
   "cell_type": "code",
   "execution_count": null,
   "id": "c0b07dd0",
   "metadata": {},
   "outputs": [],
   "source": []
  },
  {
   "cell_type": "code",
   "execution_count": null,
   "id": "a308763f",
   "metadata": {},
   "outputs": [],
   "source": []
  }
 ],
 "metadata": {
  "kernelspec": {
   "display_name": "Kotlin",
   "language": "kotlin",
   "name": "kotlin"
  },
  "language_info": {
   "codemirror_mode": "text/x-kotlin",
   "file_extension": ".kt",
   "mimetype": "text/x-kotlin",
   "name": "kotlin",
   "nbconvert_exporter": "",
   "pygments_lexer": "kotlin",
   "version": "1.7.0-dev-1825"
  }
 },
 "nbformat": 4,
 "nbformat_minor": 5
}
