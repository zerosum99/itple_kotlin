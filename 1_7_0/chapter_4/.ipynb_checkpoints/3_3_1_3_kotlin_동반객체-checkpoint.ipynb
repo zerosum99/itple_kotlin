{
 "cells": [
  {
   "cell_type": "code",
   "execution_count": null,
   "id": "f43b0223",
   "metadata": {},
   "outputs": [],
   "source": []
  },
  {
   "cell_type": "code",
   "execution_count": null,
   "id": "303dbf30",
   "metadata": {},
   "outputs": [],
   "source": []
  },
  {
   "cell_type": "markdown",
   "id": "c126f407",
   "metadata": {},
   "source": [
    "## 클래스 내의 내포 객체 "
   ]
  },
  {
   "cell_type": "code",
   "execution_count": 2,
   "id": "efed9b88",
   "metadata": {},
   "outputs": [
    {
     "name": "stdout",
     "output_type": "stream",
     "text": [
      "bar \n",
      "가을\n"
     ]
    }
   ],
   "source": [
    "class Person(val name : String, val age :Int ) {\n",
    "    object Inner {\n",
    "        fun foo() = \"bar \"\n",
    "        fun getName()  = Person(\"가을\", 33).name  // 외부 클래스 직접 접근의 불가\n",
    "    }\n",
    "}\n",
    "\n",
    "println(Person.Inner.foo())                      // 클래스 이름으로만 내포 객체 접근가능\n",
    "println(Person.Inner.getName())"
   ]
  },
  {
   "cell_type": "code",
   "execution_count": null,
   "id": "6bcc20b0",
   "metadata": {},
   "outputs": [],
   "source": []
  },
  {
   "cell_type": "markdown",
   "id": "0f738be0",
   "metadata": {},
   "source": [
    "#  동반 객체 선언"
   ]
  },
  {
   "cell_type": "markdown",
   "id": "64d69d3b",
   "metadata": {},
   "source": [
    "## 객체와 동반객체 처리 비교"
   ]
  },
  {
   "cell_type": "code",
   "execution_count": 3,
   "id": "04a98d54",
   "metadata": {},
   "outputs": [
    {
     "name": "stdout",
     "output_type": "stream",
     "text": [
      " 동반 객체 선언: 2 \n",
      " object 선언 : 1\n"
     ]
    }
   ],
   "source": [
    "object ObjectTest {                       //싱글턴 객체 생성\n",
    "    const val CONST_STRING = \"1\"          // 상수 정의\n",
    "    fun test() { println(\" object 선언 : $CONST_STRING\")}\n",
    "}\n",
    "\n",
    "class CompanionObject {\n",
    "    companion object {                    // 동반객체 정의 \n",
    "        const val CONST_TEST = 2          // 상수정의\n",
    "        fun test() { println(\" 동반 객체 선언: $CONST_TEST \") }\n",
    "    }\n",
    "}\n",
    "\n",
    "CompanionObject.test()\n",
    "ObjectTest.test()"
   ]
  },
  {
   "cell_type": "code",
   "execution_count": null,
   "id": "a3059cd8",
   "metadata": {},
   "outputs": [],
   "source": []
  },
  {
   "cell_type": "markdown",
   "id": "d930d29a",
   "metadata": {},
   "source": [
    "## 클래스 내의 보호가시성 접근"
   ]
  },
  {
   "cell_type": "code",
   "execution_count": 4,
   "id": "b210208e",
   "metadata": {},
   "outputs": [
    {
     "name": "stdout",
     "output_type": "stream",
     "text": [
      " VALUE 1\n"
     ]
    }
   ],
   "source": [
    "class VALUE private constructor(val x : Int) { // 클래스의 생성자 보호\n",
    "    companion object {\n",
    "        fun create( x : Int) : VALUE {         // 팩토리 함수 작성 \n",
    "            return VALUE(x)                    // 클래스로 객체 생성\n",
    "        }\n",
    "    } \n",
    "}\n",
    "\n",
    "val l = VALUE.create(1)\n",
    "println(\" VALUE \" + l.x)"
   ]
  },
  {
   "cell_type": "markdown",
   "id": "abc0c7c1",
   "metadata": {},
   "source": [
    "## 동반개체 내의 보호가시성 접근"
   ]
  },
  {
   "cell_type": "code",
   "execution_count": 5,
   "id": "15e8697b",
   "metadata": {},
   "outputs": [
    {
     "name": "stdout",
     "output_type": "stream",
     "text": [
      "true\n",
      "true\n"
     ]
    }
   ],
   "source": [
    "class OuterClass {\n",
    "    companion object {\n",
    "        private val secret = \"You can't see me\"   // 동반객체 보호속성 정의\n",
    "        val public = \"You can see me\"\n",
    "    }\n",
    "\n",
    "    fun getSecretValue() = secret                 // 외부 클래스에서 동반객체 보호속성 접근\n",
    "}\n",
    "\n",
    "println(\"You can see me\" == OuterClass.public)\n",
    "println(\"You can't see me\" == OuterClass().getSecretValue())"
   ]
  },
  {
   "cell_type": "code",
   "execution_count": null,
   "id": "6438c602",
   "metadata": {},
   "outputs": [],
   "source": []
  },
  {
   "cell_type": "code",
   "execution_count": 6,
   "id": "00c48cf3",
   "metadata": {},
   "outputs": [],
   "source": [
    "class Person {\n",
    "    var name = \"\"\n",
    "    fun getName_() = name\n",
    "\n",
    "    companion object {\n",
    "        fun apply(name: String): Person  {\n",
    "            var p = Person()\n",
    "            p.name = name\n",
    "            return p\n",
    "        }\n",
    " }\n",
    "}"
   ]
  },
  {
   "cell_type": "code",
   "execution_count": 7,
   "id": "646d724d",
   "metadata": {},
   "outputs": [
    {
     "name": "stdout",
     "output_type": "stream",
     "text": [
      "달님\n",
      "달님\n"
     ]
    }
   ],
   "source": [
    "val p = Person.apply(\"달님\")\n",
    "println(p.name)\n",
    "println(p.getName_())"
   ]
  },
  {
   "cell_type": "code",
   "execution_count": null,
   "id": "56ec2a9c",
   "metadata": {},
   "outputs": [],
   "source": []
  },
  {
   "cell_type": "code",
   "execution_count": null,
   "id": "c61bffcd",
   "metadata": {},
   "outputs": [],
   "source": []
  },
  {
   "cell_type": "markdown",
   "id": "85fe2cbe",
   "metadata": {},
   "source": [
    "## 내포된 클래스에서 동반객체 멤버사용"
   ]
  },
  {
   "cell_type": "code",
   "execution_count": null,
   "id": "1195c9ea",
   "metadata": {},
   "outputs": [],
   "source": [
    "class OuterClass(val name: String) {\n",
    "    class NestedClass(val man: String) {           // 내포된 클래스\n",
    "        fun getCompInfo()  = \n",
    "    \"$man - 동반객체멤버 : $con $attr - ${getDate()}\"\n",
    "        \n",
    "         fun getOutInst() : String { \n",
    "             val out = OuterClass(\"황후순\",43)       // 외부 클래스의 객체생성\n",
    "             return \"$man - 외부객체멤버 : ${out.name} ${out.age} \"\n",
    "         }\n",
    "    }\n",
    "    \n",
    "    companion object {                              //동반객체 정의               \n",
    "        const val con = \"동반객체 상수\"\n",
    "        val attr = \"동반객체 속성\"\n",
    "        fun getDate(): String {\n",
    "            return \"2022-04-10\"\n",
    "        }\n",
    "    }\n",
    "}\n",
    "\n",
    "println(OuterClass.NestedClass(\"내포클래스의 객체\").getCompInfo())\n",
    "println(OuterClass.NestedClass(\"내포클래스의 객체\").getOutInst())"
   ]
  },
  {
   "cell_type": "code",
   "execution_count": null,
   "id": "aed848f5",
   "metadata": {},
   "outputs": [],
   "source": []
  },
  {
   "cell_type": "markdown",
   "id": "07a230b8",
   "metadata": {},
   "source": [
    "## 이너 클래스에서 동반객체 멤버사용"
   ]
  },
  {
   "cell_type": "code",
   "execution_count": null,
   "id": "dffbd46e",
   "metadata": {},
   "outputs": [],
   "source": [
    "class OuterClass(val name: String, val age :Int) {\n",
    "    inner class InnerClass(val man: String) {           // 이너클래스\n",
    "        fun getCompInfo()  = \n",
    "       \"$man - 동반객체멤버 : $con $attr - ${getDate()}\"\n",
    "        \n",
    "        fun getOutInst() = \n",
    "        \"$man - 외부객체멤버 : $name $age \"\n",
    "    }\n",
    "    \n",
    "    companion object {                                  //동반객체 정의               \n",
    "        const val con = \"동반객체 상수\"\n",
    "        val attr = \"동반객체 속성\"\n",
    "        fun getDate(): String {\n",
    "            return \"2022-04-10\"\n",
    "        }\n",
    "    }\n",
    "}\n",
    "\n",
    "println(OuterClass(\"손영연\",33).InnerClass(\"이너클래스의 객체\").getCompInfo())\n",
    "println(OuterClass(\"손영연\",33).InnerClass(\"이너클래스의 객체\").getOutInst())"
   ]
  },
  {
   "cell_type": "code",
   "execution_count": null,
   "id": "1521828b",
   "metadata": {},
   "outputs": [],
   "source": []
  }
 ],
 "metadata": {
  "kernelspec": {
   "display_name": "Kotlin",
   "language": "kotlin",
   "name": "kotlin"
  },
  "language_info": {
   "codemirror_mode": "text/x-kotlin",
   "file_extension": ".kt",
   "mimetype": "text/x-kotlin",
   "name": "kotlin",
   "nbconvert_exporter": "",
   "pygments_lexer": "kotlin",
   "version": "1.7.0-dev-1825"
  }
 },
 "nbformat": 4,
 "nbformat_minor": 5
}
