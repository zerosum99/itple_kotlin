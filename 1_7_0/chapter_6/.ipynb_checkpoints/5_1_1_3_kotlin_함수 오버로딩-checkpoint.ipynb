{
 "cells": [
  {
   "cell_type": "markdown",
   "id": "1a8ce728",
   "metadata": {},
   "source": [
    "## 매개변수는 동일하지만 자료형이 다른 경우"
   ]
  },
  {
   "cell_type": "code",
   "execution_count": 2,
   "id": "cd8f241b",
   "metadata": {},
   "outputs": [
    {
     "name": "stdout",
     "output_type": "stream",
     "text": [
      "test2\n"
     ]
    }
   ],
   "source": [
    "fun test1(a: String, b: String? = null) {\n",
    "    println(\"test1\")\n",
    "}\n",
    "\n",
    "fun test1(a: Int, b: String) {\n",
    "    println(\"test2\")\n",
    "}\n",
    "\n",
    "test1(100,\"a\")"
   ]
  },
  {
   "cell_type": "code",
   "execution_count": null,
   "id": "85423759",
   "metadata": {},
   "outputs": [],
   "source": []
  },
  {
   "cell_type": "markdown",
   "id": "5035c9aa",
   "metadata": {},
   "source": [
    "## 매개변수 개수가 다른 경우"
   ]
  },
  {
   "cell_type": "code",
   "execution_count": 1,
   "id": "31f0b6e3",
   "metadata": {},
   "outputs": [
    {
     "name": "stdout",
     "output_type": "stream",
     "text": [
      "test2\n"
     ]
    }
   ],
   "source": [
    "fun test2(a: String, b: String? = null) {\n",
    "    println(\"test1\")\n",
    "}\n",
    "\n",
    "fun test2(a: String, b: String, c: String? = null) {\n",
    "    println(\"test2\")\n",
    "}\n",
    "\n",
    "test2(\"a\",\"b\") //result \"test2\""
   ]
  },
  {
   "cell_type": "markdown",
   "id": "edf84e03",
   "metadata": {},
   "source": [
    "## 함수오버로딩을 줄이는 방안은 초깃값과 가변인수 처리"
   ]
  },
  {
   "cell_type": "code",
   "execution_count": 5,
   "id": "4e8f056e",
   "metadata": {},
   "outputs": [
    {
     "name": "stdout",
     "output_type": "stream",
     "text": [
      "가변 매개변수\n",
      "매개변수 두개\n",
      "매개변수 하나\n"
     ]
    }
   ],
   "source": [
    "fun test3(a: Any) : String = \"매개변수 하나\"\n",
    "fun test3(a: String, b: String = \"Hello\") :String = \"매개변수 두개\"\n",
    "fun test3(vararg a: String) :String = \"가변 매개변수\"\n",
    "\n",
    "\n",
    "println(test3(\"a\",\"b\",\"c\",\"d\"))\n",
    "println(test3(\"a\"))\n",
    "println(test3(100))"
   ]
  },
  {
   "cell_type": "code",
   "execution_count": null,
   "id": "5487af87",
   "metadata": {},
   "outputs": [],
   "source": []
  },
  {
   "cell_type": "code",
   "execution_count": null,
   "id": "895f8416",
   "metadata": {},
   "outputs": [],
   "source": []
  },
  {
   "cell_type": "code",
   "execution_count": null,
   "id": "08fd863f",
   "metadata": {},
   "outputs": [],
   "source": []
  }
 ],
 "metadata": {
  "kernelspec": {
   "display_name": "Kotlin",
   "language": "kotlin",
   "name": "kotlin"
  },
  "language_info": {
   "codemirror_mode": "text/x-kotlin",
   "file_extension": ".kt",
   "mimetype": "text/x-kotlin",
   "name": "kotlin",
   "nbconvert_exporter": "",
   "pygments_lexer": "kotlin",
   "version": "1.6.0-dev-3567"
  }
 },
 "nbformat": 4,
 "nbformat_minor": 5
}
