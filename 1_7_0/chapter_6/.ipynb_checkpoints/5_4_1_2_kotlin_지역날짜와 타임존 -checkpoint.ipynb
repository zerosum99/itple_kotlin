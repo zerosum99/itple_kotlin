{
 "cells": [
  {
   "cell_type": "code",
   "execution_count": null,
   "id": "5d5ca422",
   "metadata": {},
   "outputs": [],
   "source": []
  },
  {
   "cell_type": "markdown",
   "id": "bb4c0702",
   "metadata": {},
   "source": [
    "## 달력 일자 기준 처리 "
   ]
  },
  {
   "cell_type": "code",
   "execution_count": 1,
   "id": "c880498e",
   "metadata": {},
   "outputs": [
    {
     "name": "stdout",
     "output_type": "stream",
     "text": [
      "Date : 2022-5-1 20:3:43\n"
     ]
    }
   ],
   "source": [
    "import java.util.Calendar\n",
    "\n",
    "val today = Calendar.getInstance()\n",
    "val year = today.get(Calendar.YEAR)  \n",
    "val month = today.get(Calendar.MONTH) + 1  \n",
    "val day = today.get(Calendar.DAY_OF_MONTH)  \n",
    "val hour = today.get(Calendar.HOUR_OF_DAY)  \n",
    "val minute = today.get(Calendar.MINUTE)  \n",
    "val second = today.get(Calendar.SECOND)\n",
    "\n",
    "println(\"Date : $year-$month-$day $hour:$minute:$second\")"
   ]
  },
  {
   "cell_type": "code",
   "execution_count": null,
   "id": "762ba7ee",
   "metadata": {},
   "outputs": [],
   "source": []
  },
  {
   "cell_type": "markdown",
   "id": "af89559c",
   "metadata": {},
   "source": [
    "## Date 기준"
   ]
  },
  {
   "cell_type": "code",
   "execution_count": 2,
   "id": "b27d88b3",
   "metadata": {},
   "outputs": [
    {
     "name": "stdout",
     "output_type": "stream",
     "text": [
      "Current: 2022-05-01\n",
      "임의지정 : 2022년 05월 01일 20시 03분 43초\n",
      "년월일 : 2022-05-01\n",
      "일영어월일 : 01-May-2022\n",
      "일월일 : 01/05/2022\n",
      "연월일시분초 : 2022-05-01T20:03:43\n",
      "시분 : 8:03 PM\n"
     ]
    }
   ],
   "source": [
    "import java.util.Date\n",
    "import java.text.SimpleDateFormat\n",
    "\n",
    "val arft = mapOf(\"임의지정\"   to \"yyyy년 MM월 dd일 HH시 mm분 ss초\",\n",
    "                 \"년월일\"    to \"yyyy-MM-dd\",\n",
    "                 \"일영어월일\" to \"dd-MMM-yyyy\",\n",
    "                 \"일월일\"    to \"dd/MM/yyyy\",\n",
    "                 \"연월일시분초\" to \"yyyy-MM-dd'T'HH:mm:ss\",\n",
    "                 \"시분\"      to \"h:mm a\")\n",
    "\n",
    "val current = Date()\n",
    "\n",
    "var formatted = SimpleDateFormat(\"yyyy-MM-dd\")\n",
    "println(\"Current: ${formatted.format(current)}\")\n",
    "\n",
    "\n",
    "for ((key,formating) in arft) {\n",
    "    formatted = SimpleDateFormat(formating)\n",
    "    println(\"$key : ${formatted.format(current)}\")\n",
    "}"
   ]
  },
  {
   "cell_type": "code",
   "execution_count": null,
   "id": "27ec69db",
   "metadata": {},
   "outputs": [],
   "source": []
  },
  {
   "cell_type": "markdown",
   "id": "d790f146",
   "metadata": {},
   "source": [
    "## 시스템 일자"
   ]
  },
  {
   "cell_type": "code",
   "execution_count": 3,
   "id": "17d4dd4f",
   "metadata": {},
   "outputs": [
    {
     "name": "stdout",
     "output_type": "stream",
     "text": [
      "1651403023851\n",
      "Sun May 01 20:03:43 KST 2022\n",
      "현재 날짜 및 시간 : 2022-05-01 08:03:43\n"
     ]
    }
   ],
   "source": [
    "import java.util.Locale\n",
    "import java.text.SimpleDateFormat\n",
    "import java.util.Date\n",
    "\n",
    "\n",
    "val long_now = System.currentTimeMillis()                 // 현재시간을 가져오기\n",
    "println(long_now)\n",
    "\n",
    "val t_date = Date(long_now)                               // 현재 시간을 Date 타입으로 변환\n",
    "println(t_date)\n",
    "\n",
    "val t_dateFormat = SimpleDateFormat(\"yyyy-MM-dd hh:mm:ss\", \n",
    "                                    Locale(\"ko\", \"KR\"))\n",
    "\n",
    "val str_date = t_dateFormat.format(t_date)                 //  String 으로 변환\n",
    "println(\"현재 날짜 및 시간 : \"+str_date)"
   ]
  },
  {
   "cell_type": "code",
   "execution_count": null,
   "id": "e2fcea7c",
   "metadata": {},
   "outputs": [],
   "source": []
  },
  {
   "cell_type": "markdown",
   "id": "36ca0734",
   "metadata": {},
   "source": [
    "## 로컬 날짜"
   ]
  },
  {
   "cell_type": "code",
   "execution_count": 4,
   "id": "0b98b1d0",
   "metadata": {},
   "outputs": [
    {
     "name": "stdout",
     "output_type": "stream",
     "text": [
      "Current: 2022-05-01\n",
      "임의지정 : 2022년 05월 01일 20시 03분 44초\n",
      "년월일 : 2022-05-01\n",
      "일영어월일 : 01-May-2022\n",
      "일월일 : 01/05/2022\n",
      "연월일시분초 : 2022-05-01T20:03:44\n",
      "시분 : 8:03 PM\n"
     ]
    }
   ],
   "source": [
    "import java.time.LocalDateTime\n",
    "import java.time.format.DateTimeFormatter\n",
    "\n",
    "val arft = mapOf(\"임의지정\" to \"yyyy년 MM월 dd일 HH시 mm분 ss초\",\n",
    "                 \"년월일\" to \"yyyy-MM-dd\",\n",
    "                 \"일영어월일\" to \"dd-MMM-yyyy\",\n",
    "                 \"일월일\" to \"dd/MM/yyyy\",\n",
    "                 \"연월일시분초\" to \"yyyy-MM-dd'T'HH:mm:ss\",\n",
    "                 \"시분\" to \"h:mm a\")\n",
    "\n",
    "val current = LocalDateTime.now()\n",
    "\n",
    "var formatter = DateTimeFormatter.ISO_DATE\n",
    "var formatted = current.format(formatter)\n",
    "println(\"Current: $formatted\")\n",
    "\n",
    "\n",
    "for ((key,formating) in arft) {\n",
    "    formatter = DateTimeFormatter.ofPattern(formating)\n",
    "    formatted = current.format(formatter)\n",
    "    println(\"$key : $formatted\")\n",
    "}"
   ]
  },
  {
   "cell_type": "code",
   "execution_count": null,
   "id": "58166eb6",
   "metadata": {},
   "outputs": [],
   "source": []
  },
  {
   "cell_type": "markdown",
   "id": "6d43afc8",
   "metadata": {},
   "source": [
    "## 로컬 날짜"
   ]
  },
  {
   "cell_type": "code",
   "execution_count": 5,
   "id": "76731737",
   "metadata": {},
   "outputs": [
    {
     "name": "stdout",
     "output_type": "stream",
     "text": [
      "임의 날짜 및 시간 : 2022-05-01T19:30 \n",
      "임의 날짜 : 2022-05-01\n",
      "임의 날짜 및 시간 : 05:01:19\n",
      "현재 날짜와 시간 : 2022-05-01T20:03:44.383\n",
      "현재 날짜 :2022-05-01\n",
      "현재 시간분초 : 20:03:44.400\n"
     ]
    }
   ],
   "source": [
    "import java.time.LocalDate\n",
    "import java.time.LocalDateTime\n",
    "import java.time.LocalTime\n",
    "import java.time.Month\n",
    "\n",
    "var dateTime = LocalDateTime.of(2022, Month.MAY, \n",
    "                                1, 19, 30)\n",
    "println(\"임의 날짜 및 시간 : $dateTime \")\n",
    "\n",
    "var date = LocalDate.of(2022, Month.MAY, 1)\n",
    "println(\"임의 날짜 : $date\")\n",
    "\n",
    "var time = LocalTime.of(5, 1, 19)\n",
    "println(\"임의 날짜 및 시간 : $time\")\n",
    "\n",
    "dateTime = LocalDateTime.now()\n",
    "println(\"현재 날짜와 시간 : $dateTime\")\n",
    "\n",
    "date = LocalDate.now()\n",
    "println(\"현재 날짜 :$date\")\n",
    "\n",
    "time = LocalTime.now()\n",
    "println(\"현재 시간분초 : $time\")\n"
   ]
  },
  {
   "cell_type": "code",
   "execution_count": null,
   "id": "1da0e9f0",
   "metadata": {},
   "outputs": [],
   "source": []
  },
  {
   "cell_type": "markdown",
   "id": "9616c3fa",
   "metadata": {},
   "source": [
    "## 로컬 날자 포매팅"
   ]
  },
  {
   "cell_type": "code",
   "execution_count": 6,
   "id": "23bb7455",
   "metadata": {},
   "outputs": [
    {
     "name": "stdout",
     "output_type": "stream",
     "text": [
      "시분초 오전오후   : 8:03:44 PM\n",
      "요일 월일년도    : Sunday, May 1, 2022\n",
      "월일년도 오전오후 : 5/1/22 8:03 PM\n",
      "월일년 시분초    : 5/1/2022 20:3:44\n"
     ]
    }
   ],
   "source": [
    "import java.time.LocalDateTime\n",
    "import java.time.format.DateTimeFormatter\n",
    "import java.time.format.FormatStyle\n",
    "\n",
    "val dateTime1 = LocalDateTime.now()                            // 시간 분 초 오전오후표시\n",
    "println(\"시분초 오전오후   : \" + dateTime1.format(\n",
    "      DateTimeFormatter.ofLocalizedTime(FormatStyle.MEDIUM)))\n",
    "println(\"요일 월일년도    : \" + dateTime1.format(                 // 요일 월 일 년 \n",
    "    DateTimeFormatter.ofLocalizedDate(FormatStyle.FULL)))\n",
    "\n",
    "println(\"월일년도 오전오후 : \" + dateTime1.format(                 // 월일년 시 분 오전오후표시\n",
    "    DateTimeFormatter.ofLocalizedDateTime(FormatStyle.SHORT)))\n",
    "\n",
    "println(\"월일년 시분초    : \" + dateTime1.format(                 // 패턴 입력 : 월일년 시간 \n",
    "    DateTimeFormatter.ofPattern(\"M/d/y H:m:ss\")))"
   ]
  },
  {
   "cell_type": "code",
   "execution_count": null,
   "id": "c8d9e284",
   "metadata": {},
   "outputs": [],
   "source": []
  },
  {
   "cell_type": "markdown",
   "id": "856989a9",
   "metadata": {},
   "source": [
    "## 타임존 처리"
   ]
  },
  {
   "cell_type": "code",
   "execution_count": 7,
   "id": "2bc665b5",
   "metadata": {},
   "outputs": [
    {
     "name": "stdout",
     "output_type": "stream",
     "text": [
      "Now in Seoul     : 2022-05-01T20:03:44.777+09:00[Asia/Seoul]\n",
      "Now in Tokyo     : 2022-05-01T20:03:44.777+09:00[Asia/Tokyo]\n",
      "Now in Pyongyang : 2022-05-01T20:03:44.779+09:00[Asia/Pyongyang]\n"
     ]
    }
   ],
   "source": [
    "import java.time.ZonedDateTime\n",
    "import java.time.ZoneId\n",
    "\n",
    "val now = ZonedDateTime.now();\n",
    "println(\"Now in Seoul     : \" + now);\n",
    "\n",
    "val nowt = ZonedDateTime.now(ZoneId.of(\"Asia/Tokyo\"));\n",
    "println(\"Now in Tokyo     : \" + nowt);\n",
    "\n",
    "val nowp = ZonedDateTime.now(ZoneId.of(\"Asia/Pyongyang\"));\n",
    "println(\"Now in Pyongyang : \" + nowp);"
   ]
  },
  {
   "cell_type": "code",
   "execution_count": null,
   "id": "053c8282",
   "metadata": {},
   "outputs": [],
   "source": []
  }
 ],
 "metadata": {
  "kernelspec": {
   "display_name": "Kotlin",
   "language": "kotlin",
   "name": "kotlin"
  },
  "language_info": {
   "codemirror_mode": "text/x-kotlin",
   "file_extension": ".kt",
   "mimetype": "text/x-kotlin",
   "name": "kotlin",
   "nbconvert_exporter": "",
   "pygments_lexer": "kotlin",
   "version": "1.7.0-dev-1825"
  }
 },
 "nbformat": 4,
 "nbformat_minor": 5
}
