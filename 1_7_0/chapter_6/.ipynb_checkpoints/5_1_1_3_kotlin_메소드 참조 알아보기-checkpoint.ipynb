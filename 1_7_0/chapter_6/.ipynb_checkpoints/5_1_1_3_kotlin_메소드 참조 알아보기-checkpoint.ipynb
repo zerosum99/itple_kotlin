{
 "cells": [
  {
   "cell_type": "code",
   "execution_count": null,
   "id": "79d80ce6",
   "metadata": {},
   "outputs": [],
   "source": []
  },
  {
   "cell_type": "markdown",
   "id": "0a93bfa5",
   "metadata": {},
   "source": [
    "## 클래스 Object 참조"
   ]
  },
  {
   "cell_type": "code",
   "execution_count": 1,
   "id": "ab2f7de3",
   "metadata": {},
   "outputs": [
    {
     "name": "stdout",
     "output_type": "stream",
     "text": [
      "fun Line_0.Klass.bar(): kotlin.Unit\n",
      "fun Line_0.Klass.bar(): kotlin.Unit\n",
      "fun Line_0.Klass.Companion.foo(): kotlin.Unit\n",
      "fun Line_0.Klass.Companion.foo(): kotlin.Unit\n"
     ]
    }
   ],
   "source": [
    "class Klass {                   // 클래스 정의 \n",
    "    companion object {          // 동반 객체 선언\n",
    "        fun foo() {}            // 동반 객체 내부 메소드 \n",
    "    }\n",
    "\n",
    "    fun bar() {}                // 클래스 메소드 \n",
    "}\n",
    "\n",
    "\n",
    "println(Klass::bar)              // 클래스의 unbound reference  \n",
    "println(Klass()::bar)            // 클래스의 bound reference \n",
    "println((Klass)::foo )           // 동반객체 bound reference \n",
    "println(Klass.Companion::foo)    // 동반객체 bound reference \n"
   ]
  },
  {
   "cell_type": "code",
   "execution_count": null,
   "id": "503b9ed9",
   "metadata": {},
   "outputs": [],
   "source": []
  },
  {
   "cell_type": "code",
   "execution_count": 2,
   "id": "139cfff2",
   "metadata": {},
   "outputs": [
    {
     "name": "stdout",
     "output_type": "stream",
     "text": [
      "fun Line_1.O.foo(kotlin.String): kotlin.Unit\n",
      "실행 함수\n"
     ]
    }
   ],
   "source": [
    "object O {\n",
    "    fun foo(x:String) {                   // 객체 내의 메소드 \n",
    "        println(\"실행 $x\")\n",
    "    }             \n",
    "}\n",
    "\n",
    "fun consume(x : String, \n",
    "            f: (String) -> Unit) {f(x)}   // 함수를 전달을 받아 내부에서 실행\n",
    "\n",
    "println(O::foo)                           // object 내부의 메소드 참조 \n",
    "consume(\"함수\",O::foo)                     // object 내부의 메소두를 함수 인자로 전달"
   ]
  },
  {
   "cell_type": "code",
   "execution_count": null,
   "id": "448a0b42",
   "metadata": {},
   "outputs": [],
   "source": []
  }
 ],
 "metadata": {
  "kernelspec": {
   "display_name": "Kotlin",
   "language": "kotlin",
   "name": "kotlin"
  },
  "language_info": {
   "codemirror_mode": "text/x-kotlin",
   "file_extension": ".kt",
   "mimetype": "text/x-kotlin",
   "name": "kotlin",
   "nbconvert_exporter": "",
   "pygments_lexer": "kotlin",
   "version": "1.7.0-dev-1825"
  }
 },
 "nbformat": 4,
 "nbformat_minor": 5
}
