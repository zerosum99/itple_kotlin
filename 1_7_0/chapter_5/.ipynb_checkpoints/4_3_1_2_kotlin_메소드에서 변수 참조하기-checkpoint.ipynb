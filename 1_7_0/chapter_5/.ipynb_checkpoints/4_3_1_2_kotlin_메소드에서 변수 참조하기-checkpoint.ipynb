{
 "cells": [
  {
   "cell_type": "markdown",
   "id": "be139f09",
   "metadata": {},
   "source": [
    "## 클래스 메소드에서 직접 전역변수 접근"
   ]
  },
  {
   "cell_type": "code",
   "execution_count": 1,
   "id": "5179ee89",
   "metadata": {},
   "outputs": [
    {
     "name": "stdout",
     "output_type": "stream",
     "text": [
      "999\n"
     ]
    }
   ],
   "source": [
    "val globalVar = 999       // 전역 할당\n",
    "\n",
    "\n",
    "class A {                 // 클래스 몸체내에서 전역참조 불가\n",
    "    fun methods() :Int {\n",
    "        return globalVar  // 전역 참조\n",
    "    }\n",
    "}\n",
    "\n",
    "val a = A()\n",
    "\n",
    "println(a.methods())"
   ]
  },
  {
   "cell_type": "code",
   "execution_count": null,
   "id": "f1c3997b",
   "metadata": {},
   "outputs": [],
   "source": []
  },
  {
   "cell_type": "markdown",
   "id": "ef4ca8ab",
   "metadata": {},
   "source": [
    "## 클래스 메소드에서 전역변수 갱신"
   ]
  },
  {
   "cell_type": "code",
   "execution_count": 2,
   "id": "f146e493",
   "metadata": {},
   "outputs": [
    {
     "name": "stdout",
     "output_type": "stream",
     "text": [
      "1009\n",
      "1009\n"
     ]
    }
   ],
   "source": [
    "var ar : Int = 999               //전역할당\n",
    "\n",
    "class AB {\n",
    "    fun methodsA(a:Int) :Int {   //메소드 \n",
    "        ar = ar + a              //전역갱신\n",
    "        return ar                //전역참조\n",
    "    }\n",
    "}\n",
    "\n",
    "println(AB().methodsA(10))       //전역 갱신 결과 \n",
    "println(ar)"
   ]
  },
  {
   "cell_type": "markdown",
   "id": "99cb6987",
   "metadata": {},
   "source": [
    "## 내부 클래스에서 전역변수 갱신"
   ]
  },
  {
   "cell_type": "code",
   "execution_count": 3,
   "id": "44706126",
   "metadata": {},
   "outputs": [
    {
     "name": "stdout",
     "output_type": "stream",
     "text": [
      "1009\n",
      "1009\n"
     ]
    }
   ],
   "source": [
    "var gar : Int = 999                 //전역할당\n",
    "\n",
    "class AB {\n",
    "    inner class A {                 //내부 클래스\n",
    "        fun methodsA(a:Int) :Int {  //내부 클래스의 메소드\n",
    "            gar = gar + a           //전역갱신\n",
    "            return gar              //전역참조\n",
    "        }\n",
    "    }\n",
    "}\n",
    "\n",
    "println(AB().A().methodsA(10))      //전역갱신 결과 \n",
    "println(gar)"
   ]
  },
  {
   "cell_type": "code",
   "execution_count": null,
   "id": "709d0f6b",
   "metadata": {},
   "outputs": [],
   "source": []
  },
  {
   "cell_type": "code",
   "execution_count": null,
   "id": "fd01b1d3",
   "metadata": {},
   "outputs": [],
   "source": []
  }
 ],
 "metadata": {
  "kernelspec": {
   "display_name": "Kotlin",
   "language": "kotlin",
   "name": "kotlin"
  },
  "language_info": {
   "codemirror_mode": "text/x-kotlin",
   "file_extension": ".kt",
   "mimetype": "text/x-kotlin",
   "name": "kotlin",
   "nbconvert_exporter": "",
   "pygments_lexer": "kotlin",
   "version": "1.8.0-dev-3517"
  }
 },
 "nbformat": 4,
 "nbformat_minor": 5
}
