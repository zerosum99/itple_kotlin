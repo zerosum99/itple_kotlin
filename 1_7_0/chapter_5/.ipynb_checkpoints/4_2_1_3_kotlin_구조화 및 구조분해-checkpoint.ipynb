{
 "cells": [
  {
   "cell_type": "markdown",
   "id": "86a41773-d9c7-4b55-9edb-53d95bb5eb89",
   "metadata": {},
   "source": [
    "## 1. 구조화 : 컬렉션 클래스로 처리"
   ]
  },
  {
   "cell_type": "code",
   "execution_count": 1,
   "id": "638d2d7a-1886-4d67-8bd6-e7f59e6d5337",
   "metadata": {},
   "outputs": [
    {
     "name": "stdout",
     "output_type": "stream",
     "text": [
      " 100 , 200, 300 \n",
      " 100 , 200, 300 \n",
      " 100 , 200, 300 \n"
     ]
    }
   ],
   "source": [
    "val a = 100\n",
    "val b = 200\n",
    "val c = 300\n",
    "\n",
    "val st = Triple(a,b,c)        //원소가 3개인 튜플로 구조화  \n",
    "val (a_, b_, c_) = st         // 튜플 원소를 변수에 할당: 구조분해\n",
    "println(\" $a_ , $b_, $c_ \")\n",
    "\n",
    "val e = st.first              // 내부 원소에 맞는 속성\n",
    "val f = st.second\n",
    "val g = st.third\n",
    "println(\" $e , $f, $g \")\n",
    "\n",
    "val e1 = st.component1()      // 구조분해 메소드로 변수에 할당\n",
    "val f1 = st.component2()\n",
    "val g1 = st.component3()\n",
    "println(\" $e1 , $f1, $g1 \")"
   ]
  },
  {
   "cell_type": "code",
   "execution_count": null,
   "id": "d910a88d",
   "metadata": {},
   "outputs": [],
   "source": []
  },
  {
   "cell_type": "markdown",
   "id": "0e30b08f-a73c-4ddc-b0a8-78fa8c1ee885",
   "metadata": {},
   "source": [
    "## 3. 컬렉션으로 구조화 및 구조분해 가능"
   ]
  },
  {
   "cell_type": "code",
   "execution_count": 5,
   "id": "5d2c1100",
   "metadata": {},
   "outputs": [
    {
     "name": "stdout",
     "output_type": "stream",
     "text": [
      "a\n",
      "b\n",
      "c\n",
      "a,  b,  c\n",
      "c \n",
      "b \n"
     ]
    }
   ],
   "source": [
    "val arr = arrayOf(\"a\",\"b\",\"c\")    //배열 생성 \n",
    "\n",
    "println(arr.component1())         //원소를 메소드로 구조분해\n",
    "println(arr.component2())\n",
    "println(arr.component3())\n",
    "\n",
    "val (a1, b2, c3) = arr           //변수를 정의해서 구조분해\n",
    "println(\"$a1,  $b2,  $c3\")\n",
    "\n",
    "val (_,_,cc) = arr               //구조분해할 때 미사용 변수를 _로 지정 \n",
    "println(\"$cc \")\n",
    "val (_,bb) = arr                 // 개수가 부족하면 그 위치까지만 처리\n",
    "println(\"$bb \")"
   ]
  },
  {
   "cell_type": "markdown",
   "id": "a40fd549-fe07-4ed4-83c2-e69772691d56",
   "metadata": {},
   "source": [
    "## 4. 데이터 클래스로 구조분해"
   ]
  },
  {
   "cell_type": "code",
   "execution_count": 3,
   "id": "aa1da4fc-592c-4187-8bdd-0d2cb8ea8266",
   "metadata": {},
   "outputs": [
    {
     "name": "stdout",
     "output_type": "stream",
     "text": [
      " dahl 55\n",
      "name : dahl, age: 55"
     ]
    }
   ],
   "source": [
    "data class DataClass(val name:String,   //데이터 클래스 선언 \n",
    "                     val age:Int)\n",
    "\n",
    "val dc = DataClass(\"dahl\", 55)          //객체 생성 \n",
    "val (name,age) = dc                     //변수에 할당한 구조분해 \n",
    "println(\" $name $age\")\n",
    "\n",
    "val n1 = dc.component1()                //메소드를 사용한 구조분해\n",
    "val n2 = dc.component2()\n",
    "print(\"name : $n1, age: $n2\")"
   ]
  },
  {
   "cell_type": "code",
   "execution_count": null,
   "id": "a13e4300-536b-41f3-83eb-1d7e73fe4d9c",
   "metadata": {},
   "outputs": [],
   "source": []
  }
 ],
 "metadata": {
  "kernelspec": {
   "display_name": "Kotlin",
   "language": "kotlin",
   "name": "kotlin"
  },
  "language_info": {
   "codemirror_mode": "text/x-kotlin",
   "file_extension": ".kt",
   "mimetype": "text/x-kotlin",
   "name": "kotlin",
   "nbconvert_exporter": "",
   "pygments_lexer": "kotlin",
   "version": "1.7.0-dev-1825"
  }
 },
 "nbformat": 4,
 "nbformat_minor": 5
}
