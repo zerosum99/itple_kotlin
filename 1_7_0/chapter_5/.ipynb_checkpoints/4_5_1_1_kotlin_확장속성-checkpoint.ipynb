{
 "cells": [
  {
   "cell_type": "markdown",
   "id": "7ba586a0",
   "metadata": {},
   "source": [
    "## 확장속성\n",
    "\n",
    "\n",
    "\n",
    "확장 프로퍼티\n",
    "\n",
    "1. var/val 클래스명.확장프로퍼티명 : 프로퍼티타입 \n",
    "\tgetter - 내부에서 this사용가능\n",
    "    var인경우 setter - 내부에서 this사용가능\n",
    "    \n",
    "2. 확장프로퍼티는 확장함수와 문법만 다르지 디컴파일된 코드를 보면 확장함수와 동일하게\n",
    "구현됨. 확장함수의 경우 하나의 메서드가 추가되는데\n",
    "var의 경우 getter,setter메서드가 만들어져야 해서 두개의 메서드가 추가됨"
   ]
  },
  {
   "cell_type": "markdown",
   "id": "13d4fd0b",
   "metadata": {},
   "source": [
    "## 속성 알아보기"
   ]
  },
  {
   "cell_type": "code",
   "execution_count": 1,
   "id": "317cbff2",
   "metadata": {},
   "outputs": [
    {
     "name": "stdout",
     "output_type": "stream",
     "text": [
      "0\n",
      "100\n"
     ]
    }
   ],
   "source": [
    "val person : Int = 0\n",
    "    get() :Int {           //getter 메소드\n",
    "        return field       //속성의 배킹필드 \n",
    "    }\n",
    "    \n",
    "var man : Int = 0\n",
    "    get() = field          //getter 메소드\n",
    "    set(value) {           //setter 메소드, 매개변수 value\n",
    "        field = value      //속성의 배킹필드에 갱신\n",
    "    }\n",
    "\n",
    "println(person)\n",
    "man = 100\n",
    "println(man)"
   ]
  },
  {
   "cell_type": "code",
   "execution_count": null,
   "id": "c18b5baf",
   "metadata": {},
   "outputs": [],
   "source": []
  },
  {
   "cell_type": "markdown",
   "id": "df2e3117",
   "metadata": {},
   "source": [
    "## 속성으로 계산식 처리"
   ]
  },
  {
   "cell_type": "code",
   "execution_count": 2,
   "id": "00a2f7e9",
   "metadata": {},
   "outputs": [
    {
     "name": "stdout",
     "output_type": "stream",
     "text": [
      "200\n",
      "200\n",
      "200\n",
      "600\n"
     ]
    }
   ],
   "source": [
    "val weight : Int \n",
    "    get() :Int {             //getter 메소드\n",
    "        return 100 * 2       //배킹필드 없이 계산식으로 처리\n",
    "    }\n",
    "    \n",
    "var height : Int = 100       // 초기화 반드시 필요  \n",
    "    get() =  field * 2\n",
    "    set(value) { field = value }\n",
    "    \n",
    "println(weight)              // 항상 동일값처리\n",
    "println(weight)\n",
    "\n",
    "println(height)              // 변경이 가능 \n",
    "height = 300\n",
    "println(height)"
   ]
  },
  {
   "cell_type": "markdown",
   "id": "b0a84954",
   "metadata": {},
   "source": [
    "## 최상위 var 속성 private set 실행하지 않음 "
   ]
  },
  {
   "cell_type": "code",
   "execution_count": 3,
   "id": "e2f1ae5e",
   "metadata": {},
   "outputs": [
    {
     "name": "stdout",
     "output_type": "stream",
     "text": [
      "200\n",
      "600\n",
      "100\n",
      "333\n"
     ]
    }
   ],
   "source": [
    "var privateW : Int = 100         // 초기화 반드시 필요  \n",
    "    get() =  field * 2\n",
    "    private set                  // 최상위 레벨 속성에서는 비공개가 작동하지 않음\n",
    "\n",
    "println(privateW)\n",
    "\n",
    "privateW = 300\n",
    "println(privateW)\n",
    "\n",
    "\n",
    "class Weight(weight : Int) {      \n",
    "    var privateW : Int = weight\n",
    "        private set              // 클래스 속성에서는 비공개 처리\n",
    "    \n",
    "    fun setW(value:Int) {        // 별도의 메소드로 갱신 처리\n",
    "        privateW = value\n",
    "    }\n",
    "    \n",
    "}\n",
    "\n",
    "val w = Weight(100)\n",
    "println(w.privateW)\n",
    "// w.privateW = 333             // 클래스 밖에서 접근 불가 \n",
    "w.setW(333)                     // 메소드를 호출해서 값을 변경\n",
    "println(w.privateW)"
   ]
  },
  {
   "cell_type": "code",
   "execution_count": null,
   "id": "b96a861a",
   "metadata": {},
   "outputs": [],
   "source": []
  },
  {
   "cell_type": "code",
   "execution_count": null,
   "id": "e05c5ecc",
   "metadata": {},
   "outputs": [],
   "source": []
  },
  {
   "cell_type": "markdown",
   "id": "55cf401f",
   "metadata": {},
   "source": [
    "## 최상위 클래스 속성 확장"
   ]
  },
  {
   "cell_type": "code",
   "execution_count": 9,
   "id": "765c8dec",
   "metadata": {},
   "outputs": [
    {
     "name": "stdout",
     "output_type": "stream",
     "text": [
      "Int\n",
      "String\n",
      "Person\n"
     ]
    }
   ],
   "source": [
    "val Any.classTag: String?\n",
    "    get() = this::class              //클래스 참조\n",
    "            .java.kotlin.simpleName  //클래스 내부의 문자열 이름\n",
    "\n",
    "class Person                         //임의의 클래스 지정 \n",
    "\n",
    "println((100).classTag)\n",
    "println(\"문자열\".classTag)\n",
    "println(Person().classTag)"
   ]
  },
  {
   "cell_type": "code",
   "execution_count": null,
   "id": "70f57bc2",
   "metadata": {},
   "outputs": [],
   "source": []
  },
  {
   "cell_type": "markdown",
   "id": "aa5e2618",
   "metadata": {},
   "source": [
    "## 사용자정의 클래스 확장"
   ]
  },
  {
   "cell_type": "code",
   "execution_count": 5,
   "id": "266af85f",
   "metadata": {},
   "outputs": [
    {
     "name": "stdout",
     "output_type": "stream",
     "text": [
      "화씨온도 : 212.18\n",
      "섭씨온도 : 100.1\n",
      "화씨온도 : 30.2\n",
      "섭씨온도 : -0.9999996\n"
     ]
    }
   ],
   "source": [
    "class Temperature(var 섭씨온도: Float)\n",
    "\n",
    "val a = Temperature(100.1f)\n",
    "\n",
    "var Temperature.화씨온도: Float          //화씨온도 계산속성 추가\n",
    "    get() = (섭씨온도 * 9 / 5) + 32      // 계산산식을 직접 처리\n",
    "    set(value) {                       // 계산된 값을 기존속성에 갱신\n",
    "        섭씨온도 = (value - 32) * 5 / 9\n",
    "    }\n",
    "    \n",
    "println(\"화씨온도 : \" + a.화씨온도)\n",
    "println(\"섭씨온도 : \" + a.섭씨온도)\n",
    "\n",
    "a.화씨온도 = 30.2f\n",
    "println(\"화씨온도 : \" + a.화씨온도)\n",
    "println(\"섭씨온도 : \" + a.섭씨온도)"
   ]
  },
  {
   "cell_type": "code",
   "execution_count": null,
   "id": "62770915",
   "metadata": {},
   "outputs": [],
   "source": []
  },
  {
   "cell_type": "markdown",
   "id": "1025f166",
   "metadata": {},
   "source": [
    "## object 속성 및   Companion object  속성 확장 "
   ]
  },
  {
   "cell_type": "code",
   "execution_count": 10,
   "id": "96dd1b92",
   "metadata": {},
   "outputs": [
    {
     "name": "stdout",
     "output_type": "stream",
     "text": [
      "object 확장속성\n",
      "컴패니언 객체 확장속성\n",
      "객체 확장속성\n"
     ]
    }
   ],
   "source": [
    "object A                         // object 속성확장 \n",
    "\n",
    "val A.extVal : String \n",
    "    get() = \"object 확장속성\"       //backing field 없어 초기값설정\n",
    "\n",
    "println(A.extVal)\n",
    "\n",
    "class AA {                       // 클래스                     \n",
    "    companion object {           // 동반객체 \n",
    "    }\n",
    "}\n",
    "\n",
    "val AA.extVal : String            // 객체 속성 추가\n",
    "    get() = \"객체 확장속성\"          //backing field 없어 초기값설정               \n",
    "\n",
    "val AA.Companion.extVal : String  // 컴패니언 객체 속성 추가\n",
    "    get() = \"컴패니언 객체 확장속성\"   //backing field 없어 초기값설정\n",
    "\n",
    "println(AA.extVal)\n",
    "println(AA().extVal)"
   ]
  },
  {
   "cell_type": "code",
   "execution_count": null,
   "id": "3a3c99ae",
   "metadata": {},
   "outputs": [],
   "source": []
  },
  {
   "cell_type": "code",
   "execution_count": null,
   "id": "66655264",
   "metadata": {},
   "outputs": [],
   "source": []
  }
 ],
 "metadata": {
  "kernelspec": {
   "display_name": "Kotlin",
   "language": "kotlin",
   "name": "kotlin"
  },
  "language_info": {
   "codemirror_mode": "text/x-kotlin",
   "file_extension": ".kt",
   "mimetype": "text/x-kotlin",
   "name": "kotlin",
   "nbconvert_exporter": "",
   "pygments_lexer": "kotlin",
   "version": "1.8.0-dev-3517"
  }
 },
 "nbformat": 4,
 "nbformat_minor": 5
}
