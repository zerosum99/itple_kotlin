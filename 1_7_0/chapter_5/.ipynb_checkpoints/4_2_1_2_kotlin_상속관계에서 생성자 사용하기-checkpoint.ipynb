{
 "cells": [
  {
   "cell_type": "code",
   "execution_count": null,
   "id": "ddc157c8",
   "metadata": {},
   "outputs": [],
   "source": []
  },
  {
   "cell_type": "markdown",
   "id": "83189ed7",
   "metadata": {},
   "source": [
    "##  부생성자로 상위 클래스 초기화하기"
   ]
  },
  {
   "cell_type": "code",
   "execution_count": null,
   "id": "6f334e31",
   "metadata": {},
   "outputs": [],
   "source": []
  },
  {
   "cell_type": "code",
   "execution_count": null,
   "id": "4dcf4c00",
   "metadata": {},
   "outputs": [],
   "source": [
    "open class Animal(val species : String) \n",
    "\n",
    "open class Pet(val subSpecies: String) : Animal {\n",
    "    contr\n",
    "}"
   ]
  },
  {
   "cell_type": "code",
   "execution_count": null,
   "id": "4279425b",
   "metadata": {},
   "outputs": [],
   "source": []
  },
  {
   "cell_type": "code",
   "execution_count": null,
   "id": "84554ca6",
   "metadata": {},
   "outputs": [],
   "source": []
  },
  {
   "cell_type": "code",
   "execution_count": 1,
   "id": "734a307d",
   "metadata": {},
   "outputs": [
    {
     "name": "stdout",
     "output_type": "stream",
     "text": [
      " 생성자 호출 순서 1 : \n",
      "수퍼클래스 보조생성자 1 실행 \n",
      "서브클래스 보조생성자 1 실행 \n",
      " 생성자 호출 순서 2 : \n",
      "수퍼클래스 보조생성자 1 실행 \n",
      "수퍼클래스 보조생성자 2 실행 \n",
      "서브클래스 보조생성자 2 실행 \n"
     ]
    }
   ],
   "source": [
    "open class Person {\n",
    "    val name : String\n",
    "    var gender : String = \"여성\" \n",
    "    constructor(name: String) {                           // 첫번째 보조생성자\n",
    "        this.name = name\n",
    "        println(\"수퍼클래스 보조생성자 1 실행 \")  \n",
    "    }\n",
    "    constructor(name: String, gender : String) : \n",
    "                                    this(name) {          // 기존 보조생성자를 위임호출\n",
    "        this.gender = gender\n",
    "        println(\"수퍼클래스 보조생성자 2 실행 \")  \n",
    "    }\n",
    "}\n",
    "\n",
    "class Student: Person {\n",
    "    var age : Int = 0 \n",
    "    constructor(name: String, age :Int): \n",
    "                                   super(name) {          // 수퍼클래스 생성자를 위임호출\n",
    "        this.age = age\n",
    "        println(\"서브클래스 보조생성자 1 실행 \")                                    \n",
    "    }\n",
    "    constructor(name: String, gender: String , age:Int): \n",
    "                                   super(name, gender) {  // 수퍼클래스의 생성자를 위임호출\n",
    "        this.age = age\n",
    "        println(\"서브클래스 보조생성자 2 실행 \")\n",
    "    }\n",
    "}\n",
    "println(\" 생성자 호출 순서 1 : \")\n",
    "val s1 = Student(\"최혜원\", 45)\n",
    "println(\" 생성자 호출 순서 2 : \")\n",
    "val s2 = Student(\"황후순\",\"남성\",45 )"
   ]
  },
  {
   "cell_type": "code",
   "execution_count": null,
   "id": "6f5ad4eb",
   "metadata": {},
   "outputs": [],
   "source": []
  },
  {
   "cell_type": "code",
   "execution_count": null,
   "id": "07037991",
   "metadata": {},
   "outputs": [],
   "source": []
  }
 ],
 "metadata": {
  "kernelspec": {
   "display_name": "Kotlin",
   "language": "kotlin",
   "name": "kotlin"
  },
  "language_info": {
   "codemirror_mode": "text/x-kotlin",
   "file_extension": ".kt",
   "mimetype": "text/x-kotlin",
   "name": "kotlin",
   "nbconvert_exporter": "",
   "pygments_lexer": "kotlin",
   "version": "1.7.0-dev-1825"
  }
 },
 "nbformat": 4,
 "nbformat_minor": 5
}
