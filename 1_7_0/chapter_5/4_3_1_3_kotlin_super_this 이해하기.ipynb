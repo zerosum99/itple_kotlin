{
 "cells": [
  {
   "cell_type": "markdown",
   "id": "d13a48f1",
   "metadata": {},
   "source": [
    "## 수퍼처리"
   ]
  },
  {
   "cell_type": "code",
   "execution_count": 8,
   "id": "d760579c",
   "metadata": {},
   "outputs": [
    {
     "name": "stdout",
     "output_type": "stream",
     "text": [
      " 이너클래스 f()\n",
      " 파생 클래스 f()\n",
      " 베이스 클래스 f()\n",
      " 이너 클래스 this.attr : 999\n",
      " 외부 클래스 this@Derived.x : 2\n",
      " 베이스클래스 super@Derived.x :1\n"
     ]
    }
   ],
   "source": [
    "open class Base {\n",
    "    open val attr : Int = 1\n",
    "    open fun method() = \n",
    "             println ( \" 베이스 클래스 f()\" )\n",
    "}\n",
    "class Derived : Base() {\n",
    "    override val attr : Int = super.attr + 1        //상속에 따른 재정의 : 베이스 속성을 super로 접근\n",
    "    override fun method() =                        //상속에 따른 재정의 \n",
    "             println ( \" 파생 클래스 f()\" )\n",
    "\n",
    "    inner class Inner {\n",
    "         val attr = 999\n",
    "         fun method() = \n",
    "             println ( \" 이너클래스 f()\" )\n",
    "         fun test() {\n",
    "             this.method()                                                //이너클래스의 메소드 참조 \n",
    "             Derived().method()                                           //외부클래스의 메소드 참조\n",
    "             super@Derived.method()                                       //수퍼클래스의 메소드 참조 \n",
    "             println(\" 이너 클래스 this.attr : ${this.attr}\")                //이너클래스 속성참조\n",
    "             println(\" 외부 클래스 this@Derived.x : ${this@Derived.attr}\")   //외부클래스의 속성참조\n",
    "             println(\" 베이스클래스 super@Derived.x :${super@Derived.attr}\")  //수퍼클래스 속성참조\n",
    "         }\n",
    "     }\n",
    "}\n",
    "\n",
    "val c1 = Derived()\n",
    "c1.Inner().test()    // 이너 클래스 Inside의 메서드 test() 실행"
   ]
  },
  {
   "cell_type": "code",
   "execution_count": null,
   "id": "d41d55d2",
   "metadata": {},
   "outputs": [],
   "source": []
  },
  {
   "cell_type": "code",
   "execution_count": null,
   "id": "b8e4099a",
   "metadata": {},
   "outputs": [],
   "source": []
  }
 ],
 "metadata": {
  "kernelspec": {
   "display_name": "Kotlin",
   "language": "kotlin",
   "name": "kotlin"
  },
  "language_info": {
   "codemirror_mode": "text/x-kotlin",
   "file_extension": ".kt",
   "mimetype": "text/x-kotlin",
   "name": "kotlin",
   "nbconvert_exporter": "",
   "pygments_lexer": "kotlin",
   "version": "1.7.0-dev-1825"
  }
 },
 "nbformat": 4,
 "nbformat_minor": 5
}
