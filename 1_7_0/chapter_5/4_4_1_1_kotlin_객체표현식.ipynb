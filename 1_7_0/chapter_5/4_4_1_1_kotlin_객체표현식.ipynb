{
 "cells": [
  {
   "cell_type": "code",
   "execution_count": null,
   "id": "f43b0223",
   "metadata": {},
   "outputs": [],
   "source": []
  },
  {
   "cell_type": "markdown",
   "id": "1e33488a",
   "metadata": {},
   "source": [
    "# 1 객체 표현식"
   ]
  },
  {
   "cell_type": "markdown",
   "id": "6e1e7e31",
   "metadata": {},
   "source": [
    "## 함수 내부 변수에 할당"
   ]
  },
  {
   "cell_type": "code",
   "execution_count": 1,
   "id": "ad0bb390",
   "metadata": {},
   "outputs": [
    {
     "name": "stdout",
     "output_type": "stream",
     "text": [
      "Piont(2.0, 3.0)\n",
      "3.605551275463989\n"
     ]
    }
   ],
   "source": [
    "fun getLength() : Double {\n",
    "                                           // 객체표현식에 속성과 메소드 정의\n",
    "    val point = object {\n",
    "        val x : Double = 2.0               // 프로퍼티 정의 \n",
    "        val y : Double = 3.0\n",
    "                                           // 메소드 재정의\n",
    "        override fun toString() = \"Piont($x, $y)\"\n",
    "    }\n",
    "    \n",
    "    println(point)\n",
    "                                            //벡터의 거리계산                                        \n",
    "    return Math.sqrt(Math.pow(point.x, 2.0) + Math.pow(point.y, 2.0))\n",
    "}\n",
    "\n",
    "println(getLength())"
   ]
  },
  {
   "cell_type": "code",
   "execution_count": null,
   "id": "64a4d7d7",
   "metadata": {},
   "outputs": [],
   "source": []
  },
  {
   "cell_type": "markdown",
   "id": "ead2945c",
   "metadata": {},
   "source": [
    "## 함수의 매개변수에 전달"
   ]
  },
  {
   "cell_type": "code",
   "execution_count": null,
   "id": "751de906",
   "metadata": {},
   "outputs": [],
   "source": []
  },
  {
   "cell_type": "code",
   "execution_count": 3,
   "id": "15e8697b",
   "metadata": {},
   "outputs": [
    {
     "name": "stdout",
     "output_type": "stream",
     "text": [
      "객체 반환 이름= 달문 나이 =55\n"
     ]
    }
   ],
   "source": [
    "interface Personnel {                           // 자료형으로 사용할 인터페이스 정의 \n",
    "    val name : String\n",
    "    val age  : Int\n",
    "}\n",
    "\n",
    "fun getObject(p:Personnel) : Personnel {         // 함수 매개변수와 반환값을 인터페이스로 자료형 지정\n",
    "    return p\n",
    "}\n",
    "\n",
    "val p = getObject(object : Personnel {           // 인자로 object 표현식으로 생성된 객체 전달\n",
    "     override val name = \"달문\"                   // 인터페이스내의 추상속성을 구현\n",
    "     override val age =55 \n",
    "    }\n",
    ")\n",
    "\n",
    "println(\"객체 반환 이름= ${p.name} 나이 =${p.age}\" )  // 전달 받은 객체의 속성을 출력\n"
   ]
  },
  {
   "cell_type": "code",
   "execution_count": null,
   "id": "725ffce7",
   "metadata": {},
   "outputs": [],
   "source": []
  },
  {
   "cell_type": "markdown",
   "id": "ae827c70",
   "metadata": {},
   "source": [
    "##  메소드 내부의 반환값"
   ]
  },
  {
   "cell_type": "code",
   "execution_count": 10,
   "id": "a7bf2c12",
   "metadata": {},
   "outputs": [
    {
     "name": "stdout",
     "output_type": "stream",
     "text": [
      "내부 속성의 값\n"
     ]
    }
   ],
   "source": [
    "interface StrType                                   // 자료형으로 사용할 인터페이스 정의 \n",
    "\n",
    "class C {\n",
    "          \n",
    "    private fun getObject() = object : StrType {    // 객체 표현식으로 반환값\n",
    "        val x: String = \"내부 속성의 값\"\n",
    "    }\n",
    "\n",
    "    fun printX() {\n",
    "        println(getObject().x)                      // 객체표현식 내의 속성 값 출력\n",
    "    }\n",
    "}\n",
    "\n",
    "val cc = C()                                       // 객체를 만들어서 출력하면 익명객체의 속성을 출력\n",
    "cc.printX()\n"
   ]
  },
  {
   "cell_type": "code",
   "execution_count": null,
   "id": "1d1c3d40",
   "metadata": {},
   "outputs": [],
   "source": []
  },
  {
   "cell_type": "markdown",
   "id": "435a7e00",
   "metadata": {},
   "source": [
    "## 상속한 후 최상위 변수에 할당 "
   ]
  },
  {
   "cell_type": "code",
   "execution_count": 4,
   "id": "2b165166",
   "metadata": {},
   "outputs": [
    {
     "name": "stdout",
     "output_type": "stream",
     "text": [
      "Add 인터페이서 처리 300\n",
      "A 클래스 처리 10\n",
      "클래스의 메소드 호출 142\n"
     ]
    }
   ],
   "source": [
    "open class A(x: Int) {                      // 클래스 정의 상속가능하도록 open\n",
    "    open val y: Int = x\n",
    "    open fun display() = y\n",
    "}\n",
    "\n",
    "interface Add {                              // 인터페이스 정의\n",
    "    fun add(x:Int, z:Int) : Int\n",
    "}\n",
    "\n",
    "val a :Add = object: A(10),Add {              // 클래스와 인터페이스 상속하고 객체 변수에 할당\n",
    "    override val y = super.y\n",
    "    override fun add(x:Int, z:Int) = x+z\n",
    "}\n",
    "\n",
    "val b : A = object: A(10),Add {               // 클래스와 인터페이스 상속하고 객체 변수에 할당\n",
    "    override val y = super.y                  // 상속한 클래스를 super로 접근\n",
    "    override fun add(x:Int, z:Int) = x+z\n",
    "    override fun display() = y + add(55, 77)  // 클래스의 메소도 오버라이드할 때 add 메소드 사용\n",
    "}\n",
    "\n",
    "println(\"Add 인터페이서 처리 \" + a.add(100,200))  //  a.y 는 Add 인터페이스에서 접근금지\n",
    "println(\"A 클래스 처리 \" +b.y)                   // b.add는 A 클래스에서 접근금지\n",
    "\n",
    "println(\"클래스의 메소드 호출 \" + b.display())     // 인터페이스에 정의된 메소드가 실행되는 결과를 처리"
   ]
  },
  {
   "cell_type": "code",
   "execution_count": null,
   "id": "63661fe2",
   "metadata": {},
   "outputs": [],
   "source": []
  },
  {
   "cell_type": "markdown",
   "id": "651651f8",
   "metadata": {},
   "source": [
    "## 외부 변수 사용"
   ]
  },
  {
   "cell_type": "code",
   "execution_count": 5,
   "id": "efed9b88",
   "metadata": {},
   "outputs": [
    {
     "name": "stdout",
     "output_type": "stream",
     "text": [
      "1\n"
     ]
    }
   ],
   "source": [
    "interface Countable {                        // 인터페이스 정의\n",
    "    fun count() : Unit\n",
    "}\n",
    "\n",
    "fun count() {\n",
    "    var x = 0\n",
    "  \n",
    "    fun innerCount() = object : Countable {   // 인터페이스 구현한 객체표현식 정의\n",
    "        override fun count() = println(++x)   // 외부 함수의 변수 접근 및 갱신\n",
    "    }\n",
    "    \n",
    "    innerCount().count()                      //  내부함수 실행하고 객체표현식내의 메소드 실행\n",
    "        \n",
    "}\n",
    "\n",
    "count()"
   ]
  },
  {
   "cell_type": "code",
   "execution_count": null,
   "id": "6bcc20b0",
   "metadata": {},
   "outputs": [],
   "source": []
  },
  {
   "cell_type": "code",
   "execution_count": null,
   "id": "f3862efb",
   "metadata": {},
   "outputs": [],
   "source": []
  }
 ],
 "metadata": {
  "kernelspec": {
   "display_name": "Kotlin",
   "language": "kotlin",
   "name": "kotlin"
  },
  "language_info": {
   "codemirror_mode": "text/x-kotlin",
   "file_extension": ".kt",
   "mimetype": "text/x-kotlin",
   "name": "kotlin",
   "nbconvert_exporter": "",
   "pygments_lexer": "kotlin",
   "version": "1.8.0-dev-3517"
  }
 },
 "nbformat": 4,
 "nbformat_minor": 5
}
