{
 "cells": [
  {
   "cell_type": "markdown",
   "id": "54bb18ba",
   "metadata": {},
   "source": [
    "## 실드 클래스로 상속관계 제약하기"
   ]
  },
  {
   "cell_type": "code",
   "execution_count": null,
   "id": "5ecd0430",
   "metadata": {},
   "outputs": [],
   "source": []
  },
  {
   "cell_type": "code",
   "execution_count": 1,
   "id": "16720aab",
   "metadata": {},
   "outputs": [],
   "source": [
    "sealed class SealedClass                            // 봉인클래스 정의 \n",
    "class Aclass : SealedClass()                        // 봉인 클래스 상속 \n",
    "class Bclass : SealedClass()                        // 클래스\n",
    "object Cobject : SealedClass()                      // 객체 선언\n",
    "data class Person(val name:String,                  // 데잍터 클래스\n",
    "                  var age :Int) : SealedClass()\n",
    "\n",
    "\n",
    "sealed class SealedClass1 {                          // 봉인클래스 정의 \n",
    "   class Aclass1 : SealedClass()                     // 클래스 내부에 정의 \n",
    "   class Bclass1 : SealedClass()\n",
    "   object Cobject1 : SealedClass()                   // object 선언도 상속 가능 \n",
    "   data class Person1(val name:String,               // 데이터 클래스도 상속 가능\n",
    "                      var age :Int) : SealedClass()\n",
    "   \n",
    "   val p1 = Person1(\"봉인\", 44)\n",
    "}\n",
    "\n",
    "val p = Person(\"실드\", 33)\n",
    "val p1 = SealedClass1.Person1(\"봉인\", 44)             // 봉인 쿨래스 내부 참조"
   ]
  },
  {
   "cell_type": "code",
   "execution_count": null,
   "id": "f39ac2f5",
   "metadata": {},
   "outputs": [],
   "source": []
  },
  {
   "cell_type": "markdown",
   "id": "b49ce3e5",
   "metadata": {},
   "source": [
    "## 봉인 클래스 생성자 및 타 클래스에서 상속하기"
   ]
  },
  {
   "cell_type": "code",
   "execution_count": 9,
   "id": "37765ecd",
   "metadata": {},
   "outputs": [
    {
     "name": "stdout",
     "output_type": "stream",
     "text": [
      "B 클래스\n",
      "B 클래스\n",
      "상속했습니다.\n"
     ]
    }
   ],
   "source": [
    "sealed class A (var name: String)                           // 봉인 클래스에 생성자 정의 \n",
    "class B : A(\"B 클래스\")                                       // 봉인 클래스 상속한 클래스 정의 \n",
    "class C : A(\"C 클래스\")\n",
    "\n",
    "println(B().name)\n",
    "\n",
    "sealed class AA private constructor(var name: String){      // 봉인 클래스에 비공개 생성자 정의 \n",
    "    class B : AA(\"B 클래스\")                                  // 내부 클래스에서 위임호출 \n",
    "    class C : AA(\"C 클래스\")                                       \n",
    "}\n",
    "println(AA.B().name)\n",
    "                                              \n",
    "                                                             // 봉인 클래스를 별도의 파일에 작성한다면\n",
    "sealed class Fruit() {\n",
    "    class Apple() : Fruit()\n",
    "    class Orange() : Fruit()\n",
    "    open class UnknownFruit(): Fruit()  {                    // 다른 곳에서 이 클래스를 상속하기 \n",
    "           fun display() = \"상속했습니다.\"\n",
    "    }\n",
    "}\n",
    "                                                             // 다른 파일인 경우에는 봉인클래스를 상속한 경우 \n",
    "class Tomato : Fruit.UnknownFruit()                          // 내부의 클래스를 상속할 수 있다\n",
    "\n",
    "println(Tomato().display())                                  // 상위 클래스의 메소드 호출"
   ]
  },
  {
   "cell_type": "code",
   "execution_count": null,
   "id": "ffda5619",
   "metadata": {},
   "outputs": [],
   "source": []
  },
  {
   "cell_type": "code",
   "execution_count": null,
   "id": "9000cfaa",
   "metadata": {},
   "outputs": [],
   "source": []
  },
  {
   "cell_type": "code",
   "execution_count": null,
   "id": "785fcc37",
   "metadata": {},
   "outputs": [],
   "source": []
  },
  {
   "cell_type": "code",
   "execution_count": null,
   "id": "33b35cae",
   "metadata": {},
   "outputs": [],
   "source": []
  },
  {
   "cell_type": "markdown",
   "id": "2b4d3a4f",
   "metadata": {},
   "source": [
    "## 실드 클래스로 상속관계 제약하기"
   ]
  },
  {
   "cell_type": "code",
   "execution_count": null,
   "id": "00fcd1a8",
   "metadata": {},
   "outputs": [],
   "source": []
  },
  {
   "cell_type": "code",
   "execution_count": 3,
   "id": "00d3db54",
   "metadata": {},
   "outputs": [
    {
     "name": "stdout",
     "output_type": "stream",
     "text": [
      "매개변수 타입 : long\n",
      "매개변수 타입 : integer\n",
      "매개변수 타입 : string\n"
     ]
    }
   ],
   "source": [
    "sealed class SealedClass {                               // 봉인 클래스 정의 \n",
    "    class SubX(val intVal: Int) : SealedClass()          // 내부 클래스 정의 \n",
    "    class SubY(val stringVal : String) : SealedClass()   // 내부 클래스 정의 \n",
    "}\n",
    "\n",
    "class SubZ(val longVal: Long) : SealedClass()            // 외부 클래스 정의 \n",
    "\n",
    "fun printType(type : SealedClass) : String =             // 봉인 클래스 내부의 자식클래스 확인함수 \n",
    "    when(type) {                                         // when 표현식 \n",
    "        is SealedClass.SubX -> \"매개변수 타입 : integer\"\n",
    "        is SealedClass.SubY -> \"매개변수 타입 : string\"\n",
    "        is SubZ -> \"매개변수 타입 : long\"                   // 명확하게 서브클래스 확정\n",
    "}                                                        // else가 필요없믐 \n",
    "    \n",
    "println(printType(SubZ(100L)))                           // 객체 전달 후 클래스 여부 확인\n",
    "println(printType(SealedClass.SubX(100)))\n",
    "println(printType(SealedClass.SubY(\"문자열\")))"
   ]
  },
  {
   "cell_type": "code",
   "execution_count": null,
   "id": "41096132",
   "metadata": {},
   "outputs": [],
   "source": []
  },
  {
   "cell_type": "code",
   "execution_count": null,
   "id": "f39ef09f",
   "metadata": {},
   "outputs": [],
   "source": []
  }
 ],
 "metadata": {
  "kernelspec": {
   "display_name": "Kotlin",
   "language": "kotlin",
   "name": "kotlin"
  },
  "language_info": {
   "codemirror_mode": "text/x-kotlin",
   "file_extension": ".kt",
   "mimetype": "text/x-kotlin",
   "name": "kotlin",
   "nbconvert_exporter": "",
   "pygments_lexer": "kotlin",
   "version": "1.8.0-dev-3517"
  }
 },
 "nbformat": 4,
 "nbformat_minor": 5
}
