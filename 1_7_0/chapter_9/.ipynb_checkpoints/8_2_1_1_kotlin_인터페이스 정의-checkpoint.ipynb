{
 "cells": [
  {
   "cell_type": "markdown",
   "id": "44a42d3a",
   "metadata": {},
   "source": [
    "## 인터페이스 정의"
   ]
  },
  {
   "cell_type": "code",
   "execution_count": 1,
   "id": "26b564af",
   "metadata": {},
   "outputs": [],
   "source": [
    "interface Remocon{\n",
    "    fun up()\n",
    "    fun down()\n",
    "}"
   ]
  },
  {
   "cell_type": "code",
   "execution_count": 2,
   "id": "40c5c3bf",
   "metadata": {},
   "outputs": [],
   "source": [
    "class TvRemocon:Remocon{\n",
    "    override fun up() {\n",
    "        println(\"tv 채널을 올려요\")\n",
    "    }\n",
    " \n",
    "    override fun down() {\n",
    "        println(\"tv 채널을 내려요\")\n",
    "    }\n",
    "}\n",
    "\n",
    "fun main(){\n",
    "    var r1 = TvRemocon()\n",
    "    r1.up() //tv 채널을 올려요\n",
    "    r1.down() //tv 채널을 내려요\n",
    "}"
   ]
  },
  {
   "cell_type": "code",
   "execution_count": 3,
   "id": "4c44b46c",
   "metadata": {},
   "outputs": [
    {
     "name": "stdout",
     "output_type": "stream",
     "text": [
      "tv 채널을 올려요\n",
      "tv 채널을 내려요\n"
     ]
    }
   ],
   "source": [
    "main()"
   ]
  },
  {
   "cell_type": "markdown",
   "id": "0de35e44",
   "metadata": {},
   "source": [
    "## 디폴트 속성과 함수 "
   ]
  },
  {
   "cell_type": "code",
   "execution_count": 9,
   "id": "fff9f14a",
   "metadata": {},
   "outputs": [],
   "source": [
    "interface MyInterface {\n",
    "    val test: Int\n",
    "    val gprop : Int           //디폴트 속성예는 get 정의\n",
    "        get() = 300\n",
    "    val sprop : Int\n",
    "        get() = 999\n",
    "    fun foo() : String\n",
    "    fun hello() {             //디폴트 메소드는 구현되어있음\n",
    "        println(\"안녕하세요!\")\n",
    "    }\n",
    "}\n"
   ]
  },
  {
   "cell_type": "code",
   "execution_count": 11,
   "id": "34e86fe7",
   "metadata": {},
   "outputs": [
    {
     "name": "stdout",
     "output_type": "stream",
     "text": [
      "디폴트 속성 prot = 300\n",
      "오버라이딩 속성 test = 25\n",
      "디폴트 메소드 hello 호출: 안녕하세요!\n",
      "오버라이딩 메소드 foo 호출: Lol"
     ]
    }
   ],
   "source": [
    "class InterfaceImp : MyInterface {\n",
    "    override val test: Int = 25\n",
    "    override fun foo() = \"Lol\"\n",
    "\n",
    "}\n",
    "\n",
    "val obj = InterfaceImp()\n",
    "\n",
    "println(\"디폴트 속성 prot = ${obj.gprop}\")\n",
    "\n",
    "println(\"오버라이딩 속성 test = ${obj.test}\")\n",
    "print(\"디폴트 메소드 hello 호출: \")\n",
    "obj.hello()\n",
    "\n",
    "print(\"오버라이딩 메소드 foo 호출: \")\n",
    "print(obj.foo())\n"
   ]
  },
  {
   "cell_type": "code",
   "execution_count": null,
   "id": "38a1a53a",
   "metadata": {},
   "outputs": [],
   "source": []
  },
  {
   "cell_type": "code",
   "execution_count": null,
   "id": "aeb760b0",
   "metadata": {},
   "outputs": [],
   "source": []
  },
  {
   "cell_type": "code",
   "execution_count": null,
   "id": "0fc0c6aa",
   "metadata": {},
   "outputs": [],
   "source": []
  }
 ],
 "metadata": {
  "kernelspec": {
   "display_name": "Kotlin",
   "language": "kotlin",
   "name": "kotlin"
  },
  "language_info": {
   "codemirror_mode": "text/x-kotlin",
   "file_extension": ".kt",
   "mimetype": "text/x-kotlin",
   "name": "kotlin",
   "nbconvert_exporter": "",
   "pygments_lexer": "kotlin",
   "version": "1.6.0-dev-3567"
  }
 },
 "nbformat": 4,
 "nbformat_minor": 5
}
