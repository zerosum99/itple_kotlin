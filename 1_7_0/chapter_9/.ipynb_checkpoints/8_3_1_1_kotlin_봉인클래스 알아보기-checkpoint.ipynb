{
 "cells": [
  {
   "cell_type": "markdown",
   "id": "54bb18ba",
   "metadata": {},
   "source": [
    "## 실드 클래스로 상속관계 제약하기"
   ]
  },
  {
   "cell_type": "code",
   "execution_count": null,
   "id": "5ecd0430",
   "metadata": {},
   "outputs": [],
   "source": []
  },
  {
   "cell_type": "code",
   "execution_count": 1,
   "id": "e269291c",
   "metadata": {},
   "outputs": [],
   "source": [
    "sealed class SealedClass                            // 봉인클래스 정의 \n",
    "class Aclass : SealedClass()                        // 봉인 클래스 상속 \n",
    "class Bclass : SealedClass()                        // 클래스\n",
    "object Cobject : SealedClass()                      // 객체 선언\n",
    "data class Person(val name:String,                  // 데잍터 클래스\n",
    "                  var age :Int) : SealedClass()\n",
    "\n",
    "\n",
    "sealed class SealedClass1 {                          // 봉인클래스 정의 \n",
    "   class Aclass1 : SealedClass()                     // 클래스 내부에 정의 \n",
    "   class Bclass1 : SealedClass()\n",
    "   object Cobject1 : SealedClass()                   // object 선언도 상속 가능 \n",
    "   data class Person1(val name:String,               // 데이터 클래스도 상속 가능\n",
    "                      var age :Int) : SealedClass()\n",
    "   \n",
    "   val p1 = Person1(\"봉인\", 44)\n",
    "}\n",
    "\n",
    "val p = Person(\"실드\", 33)\n",
    "val p1 = SealedClass1.Person1(\"봉인\", 44)             // 봉인 쿨래스 내부 참조"
   ]
  },
  {
   "cell_type": "code",
   "execution_count": null,
   "id": "65dc43e7",
   "metadata": {},
   "outputs": [],
   "source": []
  },
  {
   "cell_type": "markdown",
   "id": "3a0b6f41",
   "metadata": {},
   "source": [
    "## 실드 클래스로 상속관계 제약하기"
   ]
  },
  {
   "cell_type": "code",
   "execution_count": null,
   "id": "959cf8b5",
   "metadata": {},
   "outputs": [],
   "source": []
  },
  {
   "cell_type": "code",
   "execution_count": 2,
   "id": "00d3db54",
   "metadata": {},
   "outputs": [
    {
     "name": "stdout",
     "output_type": "stream",
     "text": [
      "매개변수 타입 : long\n",
      "매개변수 타입 : integer\n",
      "매개변수 타입 : string\n"
     ]
    }
   ],
   "source": [
    "sealed class SealedClass {                               // 봉인 클래스 정의 \n",
    "    class SubX(val intVal: Int) : SealedClass()          // 내부 클래스 정의 \n",
    "    class SubY(val stringVal : String) : SealedClass()   // 내부 클래스 정의 \n",
    "}\n",
    "\n",
    "class SubZ(val longVal: Long) : SealedClass()            // 외부 클래스 정의 \n",
    "\n",
    "fun printType(type : SealedClass) : String =             // 봉인 클래스 내부의 자식클래스 확인함수 \n",
    "    when(type) {                                         // when 표현식 \n",
    "        is SealedClass.SubX -> \"매개변수 타입 : integer\"\n",
    "        is SealedClass.SubY -> \"매개변수 타입 : string\"\n",
    "        is SubZ -> \"매개변수 타입 : long\"                   // 명확하게 서브클래스 확정\n",
    "}                                                        // else가 필요없믐 \n",
    "    \n",
    "println(printType(SubZ(100L)))                           // 객체 전달 후 클래스 여부 확인\n",
    "println(printType(SealedClass.SubX(100)))\n",
    "println(printType(SealedClass.SubY(\"문자열\")))"
   ]
  },
  {
   "cell_type": "code",
   "execution_count": null,
   "id": "41096132",
   "metadata": {},
   "outputs": [],
   "source": []
  },
  {
   "cell_type": "code",
   "execution_count": null,
   "id": "37dd17d4",
   "metadata": {},
   "outputs": [],
   "source": []
  }
 ],
 "metadata": {
  "kernelspec": {
   "display_name": "Kotlin",
   "language": "kotlin",
   "name": "kotlin"
  },
  "language_info": {
   "codemirror_mode": "text/x-kotlin",
   "file_extension": ".kt",
   "mimetype": "text/x-kotlin",
   "name": "kotlin",
   "nbconvert_exporter": "",
   "pygments_lexer": "kotlin",
   "version": "1.7.0-dev-1825"
  }
 },
 "nbformat": 4,
 "nbformat_minor": 5
}
