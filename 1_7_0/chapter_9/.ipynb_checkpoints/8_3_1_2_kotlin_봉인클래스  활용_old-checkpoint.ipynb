{
 "cells": [
  {
   "cell_type": "markdown",
   "id": "cffb007c",
   "metadata": {},
   "source": [
    "## 일반클래스와 봉인 클래스 활용히가ㅡ"
   ]
  },
  {
   "cell_type": "code",
   "execution_count": 5,
   "id": "01b9f8a5",
   "metadata": {},
   "outputs": [
    {
     "name": "stdout",
     "output_type": "stream",
     "text": [
      "결제할 금액은  $123\n",
      "영수증 금액은  $999900000\n"
     ]
    }
   ],
   "source": [
    "class PrintText(val temp: String): (Int) -> String {        // 함수 자료형을 상속을 받은 클래스 정의 \n",
    "                                                            // 특정 문자열을 처리하는 템플릿을 속성처리\n",
    "    override fun invoke(amount: Int): String =              // 실행 연산을 정의한다.  \n",
    "                 temp.replace(\"%\", amount.toString())       // 특정 문자열에 전달 받은 값을 대체한다 \n",
    "}\n",
    "\n",
    "sealed class TemplateString                                 // 특정 문자열 처리하는 봉인 클래스 정의\n",
    "object ReceiptTxtObj : TemplateString() {                   // object 선언 정의 \n",
    "    operator fun invoke(amount: Int): String {\n",
    "        val a = PrintText(\"결제할 금액은  $%\")                  // 외부 클래스의 정의한 객체를 만들어서 템플릿 처리\n",
    "        return a(amount)\n",
    "    }\n",
    "}\n",
    "class ReceiptTxt : TemplateString() {                         \n",
    "    operator fun invoke(temp: String, amount: Int):         // 템플릿과 금액을 받는 템플릿 처리\n",
    "                                              String {\n",
    "         val a = PrintText(temp)                            // 전달 받은 템플릿으로 처리\n",
    "         return a(amount)\n",
    "    }\n",
    "}\n",
    "\n",
    "println(ReceiptTxtObj(123))                                 // 객체 실행 \n",
    "println(ReceiptTxt()(\"영수증 금액은  $%\",999900000))                 // 객체 생성후 실행"
   ]
  },
  {
   "cell_type": "code",
   "execution_count": null,
   "id": "e66c2529",
   "metadata": {},
   "outputs": [],
   "source": []
  },
  {
   "cell_type": "code",
   "execution_count": null,
   "id": "d6f335c4",
   "metadata": {},
   "outputs": [],
   "source": []
  },
  {
   "cell_type": "markdown",
   "id": "54bb18ba",
   "metadata": {},
   "source": [
    "## 실드 클래스로 상속관계 제약하기"
   ]
  },
  {
   "cell_type": "code",
   "execution_count": null,
   "id": "ec435310",
   "metadata": {},
   "outputs": [],
   "source": []
  },
  {
   "cell_type": "code",
   "execution_count": 1,
   "id": "7de08b9e",
   "metadata": {},
   "outputs": [],
   "source": [
    "sealed class Card(val suit : String) \n",
    "class Ace(suit : String) : Card(suit)\n",
    "class King(suit : String) : Card(suit) {\n",
    "    override fun toString() = \"King of $suit\"\n",
    "}\n",
    "class Queen(suit : String) : Card(suit) {\n",
    "    override fun toString() = \"Queen of $suit\"\n",
    "}\n",
    "class Jack(suit : String) : Card(suit) {\n",
    "    override fun toString() = \"Jack of $suit\"\n",
    "}\n",
    "class Pip(suit : String, val number : Int) : Card(suit) { \n",
    "    init {\n",
    "        if (number < 2 || number > 10) {\n",
    "            throw RuntimeException(\"Pip has to be between 3 and 10 \")\n",
    "        }\n",
    "    }\n",
    "  \n",
    "}"
   ]
  },
  {
   "cell_type": "code",
   "execution_count": 2,
   "id": "b82e46e0",
   "metadata": {},
   "outputs": [],
   "source": [
    "fun process(card : Card) = when(card) {\n",
    "    is Ace -> \"${card.javaClass.name} of ${card.suit}\"\n",
    "    is King , is Queen, is Jack -> \"$card\"\n",
    "    is Pip -> \"${card.number} of ${card.suit}\"\n",
    "    else ->  \"else\"\n",
    "}"
   ]
  },
  {
   "cell_type": "code",
   "execution_count": 3,
   "id": "d1fed0aa",
   "metadata": {},
   "outputs": [
    {
     "data": {
      "text/plain": [
       "Line_0$Ace of DIAMONDS"
      ]
     },
     "execution_count": 3,
     "metadata": {},
     "output_type": "execute_result"
    }
   ],
   "source": [
    "process(Ace(\"DIAMONDS\"))"
   ]
  },
  {
   "cell_type": "code",
   "execution_count": null,
   "id": "c4d761a7",
   "metadata": {},
   "outputs": [],
   "source": []
  },
  {
   "cell_type": "code",
   "execution_count": 4,
   "id": "de399e29",
   "metadata": {},
   "outputs": [],
   "source": [
    "fun main() {\n",
    "    println(process(Ace(\"Diamond\")))\n",
    "}"
   ]
  },
  {
   "cell_type": "code",
   "execution_count": 5,
   "id": "a9ec9bf5",
   "metadata": {},
   "outputs": [
    {
     "name": "stdout",
     "output_type": "stream",
     "text": [
      "Line_0$Ace of Diamond\n"
     ]
    }
   ],
   "source": [
    "main()"
   ]
  },
  {
   "cell_type": "code",
   "execution_count": null,
   "id": "47d8145a",
   "metadata": {},
   "outputs": [],
   "source": []
  },
  {
   "cell_type": "markdown",
   "id": "90ecd124",
   "metadata": {},
   "source": [
    "## 이넘 클래스로 범주형 처리하기"
   ]
  },
  {
   "cell_type": "code",
   "execution_count": 6,
   "id": "68a0e81b",
   "metadata": {},
   "outputs": [],
   "source": [
    "enum class Suit {CLUBS, DIAMONDS, HEARTS, SPADES }\n",
    "\n",
    "sealed class Card_(val suit : Suit) \n",
    "class Ace_(suit : Suit) : Card_(suit)\n",
    "class King_(suit :Suit) : Card_(suit) {\n",
    "    override fun toString() = \"King of ${suit}\"\n",
    "}\n",
    "class Queen_(suit : Suit) : Card_(suit) {\n",
    "    override fun toString() = \"Queen of ${suit}\"\n",
    "}\n",
    "class Jack_(suit : Suit) : Card_(suit) {\n",
    "    override fun toString() = \"Jack of ${suit}\"\n",
    "}\n",
    "class Pip_(suit : Suit, val number : Int) : Card_(suit) { \n",
    "    init {\n",
    "        if (number < 2 || number > 10) {\n",
    "            throw RuntimeException(\"Pip has to be between 3 and 10 \")\n",
    "        }\n",
    "    }\n",
    "  \n",
    "}"
   ]
  },
  {
   "cell_type": "code",
   "execution_count": 7,
   "id": "13ac7c70",
   "metadata": {},
   "outputs": [],
   "source": [
    "fun process_(card : Card_) = when(card) {\n",
    "    is Ace_ -> \"${card.javaClass.name} of ${card.suit}\"\n",
    "    is King_ , is Queen_, is Jack_ -> \"$card\"\n",
    "    is Pip_ -> \"${card.number} of ${card.suit}\"\n",
    "    else ->  \"else\"\n",
    "}"
   ]
  },
  {
   "cell_type": "code",
   "execution_count": 8,
   "id": "8c1009a6",
   "metadata": {},
   "outputs": [
    {
     "data": {
      "text/plain": [
       "Line_5$Ace_ of DIAMONDS"
      ]
     },
     "execution_count": 8,
     "metadata": {},
     "output_type": "execute_result"
    }
   ],
   "source": [
    "process_(Ace_(Suit.DIAMONDS))"
   ]
  },
  {
   "cell_type": "markdown",
   "id": "0fdcc735",
   "metadata": {},
   "source": [
    "### 이넘 클래스의 메소드 알아보기"
   ]
  },
  {
   "cell_type": "code",
   "execution_count": 9,
   "id": "c08d00e4",
   "metadata": {},
   "outputs": [
    {
     "data": {
      "text/plain": [
       "DIAMONDS"
      ]
     },
     "execution_count": 9,
     "metadata": {},
     "output_type": "execute_result"
    }
   ],
   "source": [
    "Suit.valueOf(\"DIAMONDS\")"
   ]
  },
  {
   "cell_type": "code",
   "execution_count": 10,
   "id": "25801c0b",
   "metadata": {},
   "outputs": [
    {
     "name": "stdout",
     "output_type": "stream",
     "text": [
      "CLUBS -- 0 \n",
      "DIAMONDS -- 1 \n",
      "HEARTS -- 2 \n",
      "SPADES -- 3 \n"
     ]
    }
   ],
   "source": [
    "for (suit in Suit.values()) {\n",
    "    println(\"${suit.name} -- ${suit.ordinal} \")\n",
    "}"
   ]
  },
  {
   "cell_type": "code",
   "execution_count": null,
   "id": "10cf2771",
   "metadata": {},
   "outputs": [],
   "source": []
  },
  {
   "cell_type": "code",
   "execution_count": 11,
   "id": "578a9ee3",
   "metadata": {},
   "outputs": [],
   "source": [
    "enum class Suit_(val symbol: Char) { \n",
    "    CLUBS_('\\u2663'), \n",
    "    DIAMONDS_('\\u2666'),\n",
    "    HEARTS_('\\u2665') {\n",
    "        override fun display() = \"${super.display()} $symbol \"\n",
    "    },\n",
    "    SPADES_('\\u2660');\n",
    "    open fun display() = \"$symbol $name\"\n",
    "}"
   ]
  },
  {
   "cell_type": "code",
   "execution_count": 12,
   "id": "e32874ff",
   "metadata": {},
   "outputs": [
    {
     "name": "stdout",
     "output_type": "stream",
     "text": [
      "♣ CLUBS_\n",
      "♦ DIAMONDS_\n",
      "♥ HEARTS_ ♥ \n",
      "♠ SPADES_\n"
     ]
    }
   ],
   "source": [
    "for (suit in Suit_.values()) {\n",
    "    println(suit.display())\n",
    "}"
   ]
  },
  {
   "cell_type": "markdown",
   "id": "27012272",
   "metadata": {},
   "source": [
    "### 이넘 클래스 내부의 객체는 이넘 클래스를 상속해서 처리"
   ]
  },
  {
   "cell_type": "code",
   "execution_count": 13,
   "id": "7e6c6e21",
   "metadata": {},
   "outputs": [
    {
     "data": {
      "text/plain": [
       "class Line_10$Suit_"
      ]
     },
     "execution_count": 13,
     "metadata": {},
     "output_type": "execute_result"
    }
   ],
   "source": [
    "Suit_.CLUBS_.javaClass"
   ]
  },
  {
   "cell_type": "code",
   "execution_count": null,
   "id": "698341af",
   "metadata": {},
   "outputs": [],
   "source": []
  },
  {
   "cell_type": "code",
   "execution_count": null,
   "id": "a668dbb8",
   "metadata": {},
   "outputs": [],
   "source": []
  },
  {
   "cell_type": "code",
   "execution_count": null,
   "id": "37dd17d4",
   "metadata": {},
   "outputs": [],
   "source": []
  }
 ],
 "metadata": {
  "kernelspec": {
   "display_name": "Kotlin",
   "language": "kotlin",
   "name": "kotlin"
  },
  "language_info": {
   "codemirror_mode": "text/x-kotlin",
   "file_extension": ".kt",
   "mimetype": "text/x-kotlin",
   "name": "kotlin",
   "nbconvert_exporter": "",
   "pygments_lexer": "kotlin",
   "version": "1.7.0-dev-1825"
  }
 },
 "nbformat": 4,
 "nbformat_minor": 5
}
