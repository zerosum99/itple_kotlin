{
 "cells": [
  {
   "cell_type": "markdown",
   "id": "92d446da",
   "metadata": {},
   "source": [
    "## 사용자 정의에 연산자 사용하기"
   ]
  },
  {
   "cell_type": "code",
   "execution_count": 1,
   "id": "8d55443f",
   "metadata": {},
   "outputs": [],
   "source": [
    "class Amount(var total : Int, var balance : Int) "
   ]
  },
  {
   "cell_type": "code",
   "execution_count": 2,
   "id": "bf6031a2",
   "metadata": {},
   "outputs": [],
   "source": [
    "val amt = Amount(200, 100)"
   ]
  },
  {
   "cell_type": "code",
   "execution_count": 3,
   "id": "5749984f",
   "metadata": {},
   "outputs": [],
   "source": [
    "val amt2 = Amount(300, 100)"
   ]
  },
  {
   "cell_type": "code",
   "execution_count": 4,
   "id": "139631be",
   "metadata": {},
   "outputs": [
    {
     "name": "stderr",
     "output_type": "stream",
     "text": [
      "Line_3.jupyter-kts (1:5 - 6) Unresolved reference. None of the following candidates is applicable because of receiver type mismatch: \n",
      "public inline operator fun BigDecimal.plus(other: BigDecimal): BigDecimal defined in kotlin\n",
      "public inline operator fun BigInteger.plus(other: BigInteger): BigInteger defined in kotlin\n",
      "public operator fun <T> Array<TypeVariable(T)>.plus(element: TypeVariable(T)): Array<TypeVariable(T)> defined in kotlin.collections\n",
      "public operator fun <T> Array<TypeVariable(T)>.plus(elements: Array<out TypeVariable(T)>): Array<TypeVariable(T)> defined in kotlin.collections\n",
      "public operator fun <T> Array<TypeVariable(T)>.plus(elements: Collection<TypeVariable(T)>): Array<TypeVariable(T)> defined in kotlin.collections\n",
      "public operator fun BooleanArray.plus(element: Boolean): BooleanArray defined in kotlin.collections\n",
      "public operator fun BooleanArray.plus(elements: BooleanArray): BooleanArray defined in kotlin.collections\n",
      "public operator fun BooleanArray.plus(elements: Collection<Boolean>): BooleanArray defined in kotlin.collections\n",
      "public operator fun ByteArray.plus(element: Byte): ByteArray defined in kotlin.collections\n",
      "public operator fun ByteArray.plus(elements: ByteArray): ByteArray defined in kotlin.collections\n",
      "public operator fun ByteArray.plus(elements: Collection<Byte>): ByteArray defined in kotlin.collections\n",
      "public inline operator fun Char.plus(other: String): String defined in kotlin.text\n",
      "public operator fun CharArray.plus(element: Char): CharArray defined in kotlin.collections\n",
      "public operator fun CharArray.plus(elements: CharArray): CharArray defined in kotlin.collections\n",
      "public operator fun CharArray.plus(elements: Collection<Char>): CharArray defined in kotlin.collections\n",
      "public operator fun DoubleArray.plus(element: Double): DoubleArray defined in kotlin.collections\n",
      "public operator fun DoubleArray.plus(elements: DoubleArray): DoubleArray defined in kotlin.collections\n",
      "public operator fun DoubleArray.plus(elements: Collection<Double>): DoubleArray defined in kotlin.collections\n",
      "public operator fun FloatArray.plus(element: Float): FloatArray defined in kotlin.collections\n",
      "public operator fun FloatArray.plus(elements: FloatArray): FloatArray defined in kotlin.collections\n",
      "public operator fun FloatArray.plus(elements: Collection<Float>): FloatArray defined in kotlin.collections\n",
      "public operator fun IntArray.plus(element: Int): IntArray defined in kotlin.collections\n",
      "public operator fun IntArray.plus(elements: IntArray): IntArray defined in kotlin.collections\n",
      "public operator fun IntArray.plus(elements: Collection<Int>): IntArray defined in kotlin.collections\n",
      "public operator fun LongArray.plus(element: Long): LongArray defined in kotlin.collections\n",
      "public operator fun LongArray.plus(elements: LongArray): LongArray defined in kotlin.collections\n",
      "public operator fun LongArray.plus(elements: Collection<Long>): LongArray defined in kotlin.collections\n",
      "public operator fun ShortArray.plus(element: Short): ShortArray defined in kotlin.collections\n",
      "public operator fun ShortArray.plus(elements: ShortArray): ShortArray defined in kotlin.collections\n",
      "public operator fun ShortArray.plus(elements: Collection<Short>): ShortArray defined in kotlin.collections\n",
      "public operator fun String?.plus(other: Any?): String defined in kotlin\n",
      "public inline operator fun UByteArray.plus(element: UByte): UByteArray defined in kotlin.collections\n",
      "public inline operator fun UByteArray.plus(elements: UByteArray): UByteArray defined in kotlin.collections\n",
      "public operator fun UByteArray.plus(elements: Collection<UByte>): UByteArray defined in kotlin.collections\n",
      "public inline operator fun UIntArray.plus(element: UInt): UIntArray defined in kotlin.collections\n",
      "public inline operator fun UIntArray.plus(elements: UIntArray): UIntArray defined in kotlin.collections\n",
      "public operator fun UIntArray.plus(elements: Collection<UInt>): UIntArray defined in kotlin.collections\n",
      "public inline operator fun ULongArray.plus(element: ULong): ULongArray defined in kotlin.collections\n",
      "public inline operator fun ULongArray.plus(elements: ULongArray): ULongArray defined in kotlin.collections\n",
      "public operator fun ULongArray.plus(elements: Collection<ULong>): ULongArray defined in kotlin.collections\n",
      "public inline operator fun UShortArray.plus(element: UShort): UShortArray defined in kotlin.collections\n",
      "public inline operator fun UShortArray.plus(elements: UShortArray): UShortArray defined in kotlin.collections\n",
      "public operator fun UShortArray.plus(elements: Collection<UShort>): UShortArray defined in kotlin.collections\n",
      "public operator fun <T> Collection<TypeVariable(T)>.plus(element: TypeVariable(T)): List<TypeVariable(T)> defined in kotlin.collections\n",
      "public operator fun <T> Collection<TypeVariable(T)>.plus(elements: Array<out TypeVariable(T)>): List<TypeVariable(T)> defined in kotlin.collections\n",
      "public operator fun <T> Collection<TypeVariable(T)>.plus(elements: Iterable<TypeVariable(T)>): List<TypeVariable(T)> defined in kotlin.collections\n",
      "public operator fun <T> Collection<TypeVariable(T)>.plus(elements: Sequence<TypeVariable(T)>): List<TypeVariable(T)> defined in kotlin.collections\n",
      "public operator fun <T> Iterable<TypeVariable(T)>.plus(element: TypeVariable(T)): List<TypeVariable(T)> defined in kotlin.collections\n",
      "public operator fun <T> Iterable<TypeVariable(T)>.plus(elements: Array<out TypeVariable(T)>): List<TypeVariable(T)> defined in kotlin.collections\n",
      "public operator fun <T> Iterable<TypeVariable(T)>.plus(elements: Iterable<TypeVariable(T)>): List<TypeVariable(T)> defined in kotlin.collections\n",
      "public operator fun <T> Iterable<TypeVariable(T)>.plus(elements: Sequence<TypeVariable(T)>): List<TypeVariable(T)> defined in kotlin.collections\n",
      "public operator fun <K, V> Map<out TypeVariable(K), TypeVariable(V)>.plus(pairs: Array<out Pair<TypeVariable(K), TypeVariable(V)>>): Map<TypeVariable(K), TypeVariable(V)> defined in kotlin.collections\n",
      "public operator fun <K, V> Map<out TypeVariable(K), TypeVariable(V)>.plus(pair: Pair<TypeVariable(K), TypeVariable(V)>): Map<TypeVariable(K), TypeVariable(V)> defined in kotlin.collections\n",
      "public operator fun <K, V> Map<out TypeVariable(K), TypeVariable(V)>.plus(pairs: Iterable<Pair<TypeVariable(K), TypeVariable(V)>>): Map<TypeVariable(K), TypeVariable(V)> defined in kotlin.collections\n",
      "public operator fun <K, V> Map<out TypeVariable(K), TypeVariable(V)>.plus(map: Map<out TypeVariable(K), TypeVariable(V)>): Map<TypeVariable(K), TypeVariable(V)> defined in kotlin.collections\n",
      "public operator fun <K, V> Map<out TypeVariable(K), TypeVariable(V)>.plus(pairs: Sequence<Pair<TypeVariable(K), TypeVariable(V)>>): Map<TypeVariable(K), TypeVariable(V)> defined in kotlin.collections\n",
      "public operator fun <T> Set<TypeVariable(T)>.plus(element: TypeVariable(T)): Set<TypeVariable(T)> defined in kotlin.collections\n",
      "public operator fun <T> Set<TypeVariable(T)>.plus(elements: Array<out TypeVariable(T)>): Set<TypeVariable(T)> defined in kotlin.collections\n",
      "public operator fun <T> Set<TypeVariable(T)>.plus(elements: Iterable<TypeVariable(T)>): Set<TypeVariable(T)> defined in kotlin.collections\n",
      "public operator fun <T> Set<TypeVariable(T)>.plus(elements: Sequence<TypeVariable(T)>): Set<TypeVariable(T)> defined in kotlin.collections\n",
      "public operator fun <T> Sequence<TypeVariable(T)>.plus(element: TypeVariable(T)): Sequence<TypeVariable(T)> defined in kotlin.sequences\n",
      "public operator fun <T> Sequence<TypeVariable(T)>.plus(elements: Array<out TypeVariable(T)>): Sequence<TypeVariable(T)> defined in kotlin.sequences\n",
      "public operator fun <T> Sequence<TypeVariable(T)>.plus(elements: Iterable<TypeVariable(T)>): Sequence<TypeVariable(T)> defined in kotlin.sequences\n",
      "public operator fun <T> Sequence<TypeVariable(T)>.plus(elements: Sequence<TypeVariable(T)>): Sequence<TypeVariable(T)> defined in kotlin.sequences"
     ]
    }
   ],
   "source": [
    "amt + amt2"
   ]
  },
  {
   "cell_type": "markdown",
   "id": "c2adcd86",
   "metadata": {},
   "source": [
    "## 연산자 오버로딩 하기\n",
    "\n",
    "- 메소드에 operator 예약어를 사용해서 정의한다\n",
    "- + : plus, -: minus % : mod /: div * : times"
   ]
  },
  {
   "cell_type": "code",
   "execution_count": 5,
   "id": "42096c17",
   "metadata": {},
   "outputs": [],
   "source": [
    "data class AmountOP(var total : Int, var balance : Int) {\n",
    "    operator fun plus(other : AmountOP) : AmountOP {\n",
    "        return AmountOP(total + other.total, balance + other.balance)\n",
    "    }\n",
    "}"
   ]
  },
  {
   "cell_type": "code",
   "execution_count": 6,
   "id": "9d3a4479",
   "metadata": {},
   "outputs": [],
   "source": [
    "val amtop = AmountOP(200,100)\n",
    "val amtop2 = AmountOP(300,200)"
   ]
  },
  {
   "cell_type": "code",
   "execution_count": 7,
   "id": "9442672c",
   "metadata": {},
   "outputs": [
    {
     "name": "stdout",
     "output_type": "stream",
     "text": [
      "AmountOP(total=500, balance=300)\n"
     ]
    }
   ],
   "source": [
    "println(amtop + amtop2)"
   ]
  },
  {
   "cell_type": "markdown",
   "id": "081d96a9",
   "metadata": {},
   "source": [
    "## 확장함수로 연산자 오버로딩하기\n",
    "- operator 예약어 사용\n",
    "- 클래스 이름을 연산자 이름보다 먼저 정의"
   ]
  },
  {
   "cell_type": "code",
   "execution_count": 8,
   "id": "fdf3ca7c",
   "metadata": {},
   "outputs": [],
   "source": [
    "operator fun AmountOP.times(scale : AmountOP) : AmountOP {\n",
    "    return AmountOP(total * scale.total , balance * scale.balance)\n",
    "}"
   ]
  },
  {
   "cell_type": "code",
   "execution_count": 9,
   "id": "5896117c",
   "metadata": {},
   "outputs": [
    {
     "data": {
      "text/plain": [
       "AmountOP(total=60000, balance=20000)"
      ]
     },
     "execution_count": 9,
     "metadata": {},
     "output_type": "execute_result"
    }
   ],
   "source": [
    "amtop * amtop2"
   ]
  },
  {
   "cell_type": "markdown",
   "id": "998ffad8",
   "metadata": {},
   "source": [
    "## 연산자를 메소드 오버로딩을 사용해서 추가정의"
   ]
  },
  {
   "cell_type": "code",
   "execution_count": 10,
   "id": "32faf505",
   "metadata": {},
   "outputs": [],
   "source": [
    "operator fun AmountOP.times(scale : Int) : AmountOP {\n",
    "    return AmountOP(total * scale , balance * scale)\n",
    "}"
   ]
  },
  {
   "cell_type": "code",
   "execution_count": 11,
   "id": "72307d3a",
   "metadata": {},
   "outputs": [
    {
     "data": {
      "text/plain": [
       "AmountOP(total=400, balance=200)"
      ]
     },
     "execution_count": 11,
     "metadata": {},
     "output_type": "execute_result"
    }
   ],
   "source": [
    "amtop * 2"
   ]
  },
  {
   "cell_type": "code",
   "execution_count": 12,
   "id": "0f684cd3",
   "metadata": {},
   "outputs": [
    {
     "data": {
      "text/plain": [
       "AmountOP(total=60000, balance=20000)"
      ]
     },
     "execution_count": 12,
     "metadata": {},
     "output_type": "execute_result"
    }
   ],
   "source": [
    "amtop * amtop2"
   ]
  },
  {
   "cell_type": "markdown",
   "id": "eb5852f8",
   "metadata": {},
   "source": [
    "## 클래스 내부에 연산자 오버로딩하기"
   ]
  },
  {
   "cell_type": "code",
   "execution_count": 13,
   "id": "99cc9681",
   "metadata": {},
   "outputs": [],
   "source": [
    "data class Score(var total : Int, var balance : Int) {\n",
    "    operator fun plus(other : Score) : Score {\n",
    "        return Score(total + other.total, balance + other.balance)\n",
    "    }\n",
    "    \n",
    "    operator fun times(x : Int) : Score {\n",
    "        return Score(total * x, balance * x)\n",
    "    }\n",
    "    \n",
    "    operator fun times(other : Score) : Score {\n",
    "        return Score(total * other.total, balance * other.balance)\n",
    "    }\n",
    "}"
   ]
  },
  {
   "cell_type": "code",
   "execution_count": 14,
   "id": "75109d79",
   "metadata": {},
   "outputs": [],
   "source": [
    "val s1 = Score(20,10)\n",
    "val s2 = Score(30,15)"
   ]
  },
  {
   "cell_type": "code",
   "execution_count": 15,
   "id": "0e533ac9",
   "metadata": {},
   "outputs": [
    {
     "data": {
      "text/plain": [
       "Score(total=60, balance=30)"
      ]
     },
     "execution_count": 15,
     "metadata": {},
     "output_type": "execute_result"
    }
   ],
   "source": [
    "s1 * 3"
   ]
  },
  {
   "cell_type": "code",
   "execution_count": 16,
   "id": "af8af4a9",
   "metadata": {},
   "outputs": [
    {
     "data": {
      "text/plain": [
       "Score(total=600, balance=150)"
      ]
     },
     "execution_count": 16,
     "metadata": {},
     "output_type": "execute_result"
    }
   ],
   "source": [
    "s1 * s2"
   ]
  },
  {
   "cell_type": "markdown",
   "id": "9572812a",
   "metadata": {},
   "source": [
    "### 확장함수 일때는 클래스 내부의 속성 접근이 제한\n",
    "\n",
    "- private, protected로 지정된 클래스 내부 속성을 확장함수에서는 접근 불가"
   ]
  },
  {
   "cell_type": "code",
   "execution_count": 17,
   "id": "d9e2dffc",
   "metadata": {},
   "outputs": [],
   "source": [
    "data class Point(var x : Int, var y : Int) {\n",
    "    private var z = 100\n",
    "    \n",
    "    operator fun plus(other : Point) : Point {\n",
    "        return Point(x + other.x + z, y + other.y + z)\n",
    "    }\n",
    "    \n",
    "}"
   ]
  },
  {
   "cell_type": "code",
   "execution_count": 18,
   "id": "e13abf30",
   "metadata": {},
   "outputs": [],
   "source": [
    "val p1 = Point(1,2)\n",
    "val p2 = Point(3,4)"
   ]
  },
  {
   "cell_type": "code",
   "execution_count": 19,
   "id": "4f2b5299",
   "metadata": {},
   "outputs": [
    {
     "data": {
      "text/plain": [
       "Point(x=104, y=106)"
      ]
     },
     "execution_count": 19,
     "metadata": {},
     "output_type": "execute_result"
    }
   ],
   "source": [
    "p1 + p2"
   ]
  },
  {
   "cell_type": "code",
   "execution_count": 20,
   "id": "83c00838",
   "metadata": {},
   "outputs": [
    {
     "name": "stderr",
     "output_type": "stream",
     "text": [
      "Line_19.jupyter-kts (2:26 - 27) Cannot access 'z': it is private in 'Point'\n",
      "Line_19.jupyter-kts (2:37 - 38) Cannot access 'z': it is private in 'Point'"
     ]
    }
   ],
   "source": [
    "operator fun Point.plus(i : Int) : Point {\n",
    "    return Point(x + i + z, y + i + z) \n",
    "}"
   ]
  },
  {
   "cell_type": "code",
   "execution_count": null,
   "id": "7694fa15",
   "metadata": {},
   "outputs": [],
   "source": []
  },
  {
   "cell_type": "markdown",
   "id": "a90def70",
   "metadata": {},
   "source": [
    "## 연산자 교환법칙이 수용되지 않는다. \n",
    "\n",
    "- 연산자는 기본은 좌측 객체의 연산자 메소드를 기준으로 처리\n",
    "- 확장함수를 사용해서 연산자를 추가하면 교환법칙과 같은 결과를 만들 수 있다."
   ]
  },
  {
   "cell_type": "code",
   "execution_count": 21,
   "id": "ae025b38",
   "metadata": {},
   "outputs": [
    {
     "name": "stderr",
     "output_type": "stream",
     "text": [
      "Line_20.jupyter-kts (1:3 - 4) None of the following functions can be called with the arguments supplied: \n",
      "public final operator fun times(other: Byte): Int defined in kotlin.Int\n",
      "public final operator fun times(other: Double): Double defined in kotlin.Int\n",
      "public final operator fun times(other: Float): Float defined in kotlin.Int\n",
      "public final operator fun times(other: Int): Int defined in kotlin.Int\n",
      "public final operator fun times(other: Long): Long defined in kotlin.Int\n",
      "public final operator fun times(other: Short): Int defined in kotlin.Int"
     ]
    }
   ],
   "source": [
    "2 * p1"
   ]
  },
  {
   "cell_type": "code",
   "execution_count": 22,
   "id": "650b8e68",
   "metadata": {},
   "outputs": [],
   "source": [
    "operator fun Int.times(obj : Point) : Point {\n",
    "    return Point(obj.x * this, obj.y * this)\n",
    "}"
   ]
  },
  {
   "cell_type": "code",
   "execution_count": 23,
   "id": "e2561f2e",
   "metadata": {},
   "outputs": [
    {
     "data": {
      "text/plain": [
       "Point(x=3, y=6)"
      ]
     },
     "execution_count": 23,
     "metadata": {},
     "output_type": "execute_result"
    }
   ],
   "source": [
    "3 * p1"
   ]
  },
  {
   "cell_type": "markdown",
   "id": "ee595b05",
   "metadata": {},
   "source": [
    "## 비교연산자 처리하기\n",
    "\n",
    "- Comparable 인터페이스 내의 compareTo 를 오버라이딩한다.\n",
    "- 이 연산은 처리된 결과를 정수로 처리한다. "
   ]
  },
  {
   "cell_type": "code",
   "execution_count": 32,
   "id": "30419107",
   "metadata": {},
   "outputs": [
    {
     "data": {
      "text/plain": [
       "false"
      ]
     },
     "execution_count": 32,
     "metadata": {},
     "output_type": "execute_result"
    }
   ],
   "source": [
    "10 > 20"
   ]
  },
  {
   "cell_type": "code",
   "execution_count": 35,
   "id": "d958ff19",
   "metadata": {},
   "outputs": [
    {
     "data": {
      "text/plain": [
       "false"
      ]
     },
     "execution_count": 35,
     "metadata": {},
     "output_type": "execute_result"
    }
   ],
   "source": [
    "(10).compareTo(20) > 0"
   ]
  },
  {
   "cell_type": "code",
   "execution_count": 33,
   "id": "fcd2d0bd",
   "metadata": {},
   "outputs": [
    {
     "data": {
      "text/plain": [
       "true"
      ]
     },
     "execution_count": 33,
     "metadata": {},
     "output_type": "execute_result"
    }
   ],
   "source": [
    "20 > 10"
   ]
  },
  {
   "cell_type": "code",
   "execution_count": 36,
   "id": "0a0dafe5",
   "metadata": {},
   "outputs": [
    {
     "data": {
      "text/plain": [
       "true"
      ]
     },
     "execution_count": 36,
     "metadata": {},
     "output_type": "execute_result"
    }
   ],
   "source": [
    "(20).compareTo(10) > 0"
   ]
  },
  {
   "cell_type": "code",
   "execution_count": 34,
   "id": "8518e3e2",
   "metadata": {},
   "outputs": [
    {
     "data": {
      "text/plain": [
       "true"
      ]
     },
     "execution_count": 34,
     "metadata": {},
     "output_type": "execute_result"
    }
   ],
   "source": [
    "20 == 20"
   ]
  },
  {
   "cell_type": "code",
   "execution_count": 37,
   "id": "2e87303b",
   "metadata": {},
   "outputs": [
    {
     "data": {
      "text/plain": [
       "true"
      ]
     },
     "execution_count": 37,
     "metadata": {},
     "output_type": "execute_result"
    }
   ],
   "source": [
    "(20).compareTo(20) == 0"
   ]
  },
  {
   "cell_type": "code",
   "execution_count": 24,
   "id": "f7240ea7",
   "metadata": {},
   "outputs": [],
   "source": [
    "class Person(val name : String, val age : Int) : Comparable<Person> {\n",
    "    override fun compareTo(other : Person) : Int {\n",
    "        return compareValuesBy(this, other,Person::age)\n",
    "    }\n",
    "}"
   ]
  },
  {
   "cell_type": "code",
   "execution_count": 25,
   "id": "b9497812",
   "metadata": {},
   "outputs": [],
   "source": [
    "val per1 = Person(\"dahl\",33)\n",
    "val per2 = Person(\"moon\", 54)"
   ]
  },
  {
   "cell_type": "code",
   "execution_count": 26,
   "id": "fab5b55c",
   "metadata": {},
   "outputs": [
    {
     "data": {
      "text/plain": [
       "false"
      ]
     },
     "execution_count": 26,
     "metadata": {},
     "output_type": "execute_result"
    }
   ],
   "source": [
    "per1 > per2"
   ]
  },
  {
   "cell_type": "code",
   "execution_count": 27,
   "id": "cbb86d9b",
   "metadata": {},
   "outputs": [
    {
     "data": {
      "text/plain": [
       "true"
      ]
     },
     "execution_count": 27,
     "metadata": {},
     "output_type": "execute_result"
    }
   ],
   "source": [
    "per1 < per2"
   ]
  },
  {
   "cell_type": "code",
   "execution_count": 28,
   "id": "86fbcd0e",
   "metadata": {},
   "outputs": [
    {
     "data": {
      "text/plain": [
       "val Line_288.Person.age: kotlin.Int"
      ]
     },
     "execution_count": 28,
     "metadata": {},
     "output_type": "execute_result"
    }
   ],
   "source": [
    "Person::age"
   ]
  },
  {
   "cell_type": "code",
   "execution_count": null,
   "id": "fd03be42",
   "metadata": {},
   "outputs": [],
   "source": []
  }
 ],
 "metadata": {
  "kernelspec": {
   "display_name": "Kotlin",
   "language": "kotlin",
   "name": "kotlin"
  },
  "language_info": {
   "codemirror_mode": "text/x-kotlin",
   "file_extension": ".kt",
   "mimetype": "text/x-kotlin",
   "name": "kotlin",
   "nbconvert_exporter": "",
   "pygments_lexer": "kotlin",
   "version": "1.6.0-dev-3567"
  }
 },
 "nbformat": 4,
 "nbformat_minor": 5
}
