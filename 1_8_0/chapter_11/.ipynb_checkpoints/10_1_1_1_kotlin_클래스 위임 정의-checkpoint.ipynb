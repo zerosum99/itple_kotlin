{
 "cells": [
  {
   "cell_type": "code",
   "execution_count": null,
   "id": "80566c76",
   "metadata": {},
   "outputs": [],
   "source": []
  },
  {
   "cell_type": "code",
   "execution_count": 1,
   "id": "4c941cf0",
   "metadata": {},
   "outputs": [
    {
     "data": {
      "text/plain": [
       "1.8.0"
      ]
     },
     "execution_count": 1,
     "metadata": {},
     "output_type": "execute_result"
    }
   ],
   "source": [
    "KotlinVersion.CURRENT             // 코틀린 현재 버전 "
   ]
  },
  {
   "cell_type": "code",
   "execution_count": null,
   "id": "c60ff9fd",
   "metadata": {},
   "outputs": [],
   "source": []
  },
  {
   "cell_type": "markdown",
   "id": "ff2abf4c",
   "metadata": {},
   "source": [
    "## 클래스 위임(Class Delegation)이란 무엇인가\n",
    "\n",
    "- 레퍼런스는 클래스 위임을 다음과 같이 설명하고 있습니다.\n",
    "- 상속을 표현하는 슈퍼타입 리스트 내의 by 절은 b(에 대한 참조)가 상속 오브젝트의 내부에 저장되고 \n",
    "- 컴파일러가 b가 가지는 Base 인터페이스의 모든 메소드를 생성함을 나타냅니다.\n"
   ]
  },
  {
   "cell_type": "markdown",
   "id": "5c8d34ca",
   "metadata": {},
   "source": [
    "## 위임 구조\n",
    "- 만약 interface A를 구현하고 있는 class B가 있다면, A에서 정의하고 있는 B의 모든 메소드를 클래스 C로 위임할 수 있습니다. \n",
    "- 즉, C는 B가 가지는 모든 A의 메소드를 가지며, 이를 클래스 위임(Class delegation)이라고 합니다."
   ]
  },
  {
   "cell_type": "markdown",
   "id": "4e20b74d",
   "metadata": {},
   "source": [
    "## 위임 확장 기본 알아보기"
   ]
  },
  {
   "cell_type": "code",
   "execution_count": 2,
   "id": "4cc04d43",
   "metadata": {},
   "outputs": [
    {
     "name": "stdout",
     "output_type": "stream",
     "text": [
      "베이스 클래스 구현 : 10\n",
      "베이스 클래스 구현 : 10\n"
     ]
    }
   ],
   "source": [
    "interface Base {                             // 인터페이스를 정의                  \n",
    "    fun say() \n",
    "} \n",
    "\n",
    "class BaseImpl(val x: Int) : Base {          // 인터페이스를 구현한 위임 클래스 정의  \n",
    "    override fun say() {                     // 메소드 구현 \n",
    "        println(\"베이스 클래스 구현 : \" + x) \n",
    "    } \n",
    "} \n",
    "\n",
    "class Derived(b : BaseImpl) : Base  {        // 인터페이스를 구현하고 위임처리할 객체를 인자로 받음\n",
    "    override fun say() {                     // 위임처리할 메소드 구현 \n",
    "        b.say()                              // 실제 처리할 메소드를 호출 \n",
    "    }\n",
    "}\n",
    "\n",
    "val b = BaseImpl(10)                         // 위임 객체를 만든다\n",
    "Derived(b).say()                             // 실제 사용할 객체를 만들고 메소드를 호출\n",
    "\n",
    "class Derived_() : Base by BaseImpl(10)      // 클래스의 객체를 생성해서 by 로 위임 처리\n",
    "                                             // 인터페이스는 상속했기에 클래스 내부에서 메소드 사용가능\n",
    "Derived_().say()                             // 인터페이스의 메소드 실행 \n"
   ]
  },
  {
   "cell_type": "code",
   "execution_count": null,
   "id": "445ce83f",
   "metadata": {},
   "outputs": [],
   "source": []
  },
  {
   "cell_type": "markdown",
   "id": "3643e078",
   "metadata": {},
   "source": [
    "## 매개변수로 위임 "
   ]
  },
  {
   "cell_type": "code",
   "execution_count": 3,
   "id": "a57fdd10",
   "metadata": {},
   "outputs": [
    {
     "name": "stdout",
     "output_type": "stream",
     "text": [
      "안녕하세요  : 사람\n",
      "멍멍멍 : 개\n"
     ]
    }
   ],
   "source": [
    "interface Sayable {                              // 인터페이스를 정의                  \n",
    "    fun say() \n",
    "} \n",
    "\n",
    "class Person(val x: String) : Sayable {          // 인터페이스를 구현한 위임 클래스 정의  \n",
    "    override fun say() { \n",
    "        println(\"안녕하세요  : \" + x) \n",
    "    } \n",
    "} \n",
    "\n",
    "class Pet(val x: String) : Sayable {             // 인터페이스를 구현한 위임 클래스 정의  \n",
    "    override fun say() { \n",
    "        println(\"멍멍멍 : \" + x) \n",
    "    } \n",
    "} \n",
    "\n",
    "val ps = Person(\"사람\")                            // 객체 생성\n",
    "val pt = Pet(\"개\")                                // 객체 생성 \n",
    "\n",
    "class Saying(val say : Sayable) : Sayable by say // 매개변수로 전달한 객체로 위임처리\n",
    "                                                 // 인터페이스를 가지고 위임 처리\n",
    "Saying(ps).say()                                 // 여러 클래스에 대한 위임 처리가 가능\n",
    "Saying(pt).say()"
   ]
  },
  {
   "cell_type": "code",
   "execution_count": null,
   "id": "d90fe1cf",
   "metadata": {},
   "outputs": [],
   "source": []
  },
  {
   "cell_type": "code",
   "execution_count": null,
   "id": "8efe54bf",
   "metadata": {},
   "outputs": [],
   "source": []
  },
  {
   "cell_type": "markdown",
   "id": "6294c3b0",
   "metadata": {},
   "source": [
    "## 위임구조의 장점 \n",
    "\n",
    "- 별도의 추가 코드 없이 상속(Inheritance)의 대안 제공\n",
    "- 인터페이스에 의해 정의된 메소드만 호출할 수 있도록 보호\n",
    "- private 필드에 위임된 인스턴스를 저장하여 직접적인 접근 차단"
   ]
  },
  {
   "cell_type": "code",
   "execution_count": null,
   "id": "46d50629",
   "metadata": {},
   "outputs": [],
   "source": []
  },
  {
   "cell_type": "code",
   "execution_count": 4,
   "id": "97fc9ff7",
   "metadata": {},
   "outputs": [
    {
     "name": "stdout",
     "output_type": "stream",
     "text": [
      "View 클래스의 show()\n",
      "CustomView 클래스의 show()\n"
     ]
    }
   ],
   "source": [
    "interface Showable {                           // 인터페스 정의 \n",
    "    fun show()\n",
    "}\n",
    "\n",
    "open class View : Showable {                   // 상속가능한 구현 클래스 정의 \n",
    "    override fun show() {                      // 메소드 구현 \n",
    "        println(\"View 클래스의 show()\")\n",
    "    }\n",
    "}\n",
    "\n",
    "class CustomView : View() {                    // 클래스를 상속해서 구현 클래스 정의\n",
    "    override fun show() {                      // 메소드 재정의 \n",
    "        println(\"CustomView 클래스의 show()\")\n",
    "    }\n",
    "}\n",
    "                                                // 인터페이스만 위임처리 가능 \n",
    "class Screen(val showable: Showable):  Showable by showable  \n",
    "\n",
    "val view = View()                               // 베이스 클래스 객체 생성 \n",
    "val customView = CustomView()                   // 구현 클래스 객체 생성 \n",
    "\n",
    "Screen(view).show()                             //View.show()\n",
    "Screen(customView).show()                       //CustomView.show()"
   ]
  },
  {
   "cell_type": "code",
   "execution_count": null,
   "id": "6ec4eff0",
   "metadata": {},
   "outputs": [],
   "source": []
  },
  {
   "cell_type": "markdown",
   "id": "2a7940f2",
   "metadata": {},
   "source": [
    "## 여러 개의 인터페이스 위임 처리"
   ]
  },
  {
   "cell_type": "code",
   "execution_count": 5,
   "id": "18f472d6",
   "metadata": {},
   "outputs": [
    {
     "name": "stdout",
     "output_type": "stream",
     "text": [
      "Show 클래스의 show()\n",
      "View 클래스의 view()\n"
     ]
    }
   ],
   "source": [
    "interface Showable {                           // 인터페스 정의 \n",
    "    fun show()\n",
    "}\n",
    "\n",
    "interface Viewable {                           // 인터페스 정의 \n",
    "    fun view()\n",
    "}\n",
    "\n",
    "class Show : Showable {                        // 상속가능한 구현 클래스 정의 \n",
    "    override fun show() {                      // 메소드 구현 \n",
    "        println(\"Show 클래스의 show()\")\n",
    "    }\n",
    "}\n",
    "\n",
    "class View : Viewable {                        // 클래스를 상속해서 구현 클래스 정의\n",
    "    override fun view() {                      // 메소드 재정의 \n",
    "        println(\"View 클래스의 view()\")\n",
    "    }\n",
    "}\n",
    "                                                // 인터페이스만 위임처리 가능 \n",
    "class Screen(val showable: Showable, \n",
    "             val viewable : Viewable):          // 매개변수로 전달된 인터페이스 모두 위임처리 \n",
    "                   Showable by showable , Viewable by viewable \n",
    "\n",
    "val show = Show()                               // 객체 생성 \n",
    "val view = View()                               // 객체 생성 \n",
    "\n",
    "Screen(show, view).show()                       //View.show()\n",
    "Screen(show, view).view()                       //CustomView.show()"
   ]
  },
  {
   "cell_type": "code",
   "execution_count": null,
   "id": "0a648401",
   "metadata": {},
   "outputs": [],
   "source": []
  },
  {
   "cell_type": "code",
   "execution_count": null,
   "id": "cf34305d",
   "metadata": {},
   "outputs": [],
   "source": []
  }
 ],
 "metadata": {
  "kernelspec": {
   "display_name": "Kotlin",
   "language": "kotlin",
   "name": "kotlin"
  },
  "language_info": {
   "codemirror_mode": "text/x-kotlin",
   "file_extension": ".kt",
   "mimetype": "text/x-kotlin",
   "name": "kotlin",
   "nbconvert_exporter": "",
   "pygments_lexer": "kotlin",
   "version": "1.8.0-dev-3517"
  }
 },
 "nbformat": 4,
 "nbformat_minor": 5
}
