{
 "cells": [
  {
   "cell_type": "markdown",
   "id": "0b06991e",
   "metadata": {},
   "source": [
    "## 참조자료\n",
    "\n",
    "https://www.baeldung.com/kotlin/decorator-pattern"
   ]
  },
  {
   "cell_type": "markdown",
   "id": "483ba2bc",
   "metadata": {},
   "source": [
    "## 데코레이터 패턴 :Decorate by Composition "
   ]
  },
  {
   "cell_type": "code",
   "execution_count": null,
   "id": "d31af88d",
   "metadata": {},
   "outputs": [],
   "source": []
  },
  {
   "cell_type": "code",
   "execution_count": 19,
   "id": "4e7ef32c",
   "metadata": {},
   "outputs": [],
   "source": [
    "interface Tree {\n",
    "    fun decorate(): String\n",
    "}\n",
    "\n",
    "class PineTree : ChristmasTree {\n",
    "\n",
    "    override fun decorate() = \"Christmas tree\"\n",
    "}"
   ]
  },
  {
   "cell_type": "code",
   "execution_count": 24,
   "id": "9a09b151",
   "metadata": {},
   "outputs": [],
   "source": [
    "abstract class TreeDecorator\n",
    "    (private val tree: Tree) : Tree {\n",
    "\n",
    "    override fun decorate(): String {\n",
    "        return tree.decorate()\n",
    "    }\n",
    "}"
   ]
  },
  {
   "cell_type": "code",
   "execution_count": 25,
   "id": "20279fe2",
   "metadata": {},
   "outputs": [],
   "source": [
    "class BubbleLights(tree: Tree) : TreeDecorator(tree) {\n",
    "\n",
    "    override fun decorate(): String {\n",
    "        return super.decorate() + decorateWithBubbleLights()\n",
    "    }\n",
    "\n",
    "    private fun decorateWithBubbleLights(): String {\n",
    "        return \" with Bubble Lights\"\n",
    "    }\n",
    "}"
   ]
  },
  {
   "cell_type": "code",
   "execution_count": 26,
   "id": "6fba6f58",
   "metadata": {},
   "outputs": [],
   "source": [
    "fun christmasTreeWithBubbleLights() {\n",
    "\n",
    "    val christmasTree = BubbleLights(PineChristmasTree())\n",
    "    val decoratedChristmasTree = christmasTree.decorate()\n",
    "    println(decoratedChristmasTree)\n",
    "}"
   ]
  },
  {
   "cell_type": "code",
   "execution_count": 27,
   "id": "473336c8",
   "metadata": {},
   "outputs": [
    {
     "name": "stdout",
     "output_type": "stream",
     "text": [
      "Christmas tree with Bubble Lights\n"
     ]
    }
   ],
   "source": [
    "christmasTreeWithBubbleLights() "
   ]
  },
  {
   "cell_type": "code",
   "execution_count": null,
   "id": "8031d582",
   "metadata": {},
   "outputs": [],
   "source": []
  },
  {
   "cell_type": "markdown",
   "id": "7f024294",
   "metadata": {},
   "source": [
    "## 데코레이터 패턴 :Decorate by Composition"
   ]
  },
  {
   "cell_type": "code",
   "execution_count": 28,
   "id": "03fc2bc4",
   "metadata": {},
   "outputs": [],
   "source": [
    "class Garlands(private val tree: Tree) : Tree by tree {\n",
    "\n",
    "    override fun decorate(): String {\n",
    "        return tree.decorate() + decorateWithGarlands()\n",
    "    }\n",
    "\n",
    "    private fun decorateWithGarlands(): String {\n",
    "        return \" with Garlands\"\n",
    "    }\n",
    "}"
   ]
  },
  {
   "cell_type": "code",
   "execution_count": 29,
   "id": "aa6697e1",
   "metadata": {},
   "outputs": [],
   "source": [
    "fun christmasTreeWithGarlands() {\n",
    "\n",
    "    val christmasTree = Garlands(PineChristmasTree())\n",
    "    val decoratedChristmasTree = christmasTree.decorate()\n",
    "    println(decoratedChristmasTree)\n",
    "}"
   ]
  },
  {
   "cell_type": "code",
   "execution_count": 30,
   "id": "4a1cadc2",
   "metadata": {},
   "outputs": [
    {
     "name": "stdout",
     "output_type": "stream",
     "text": [
      "Christmas tree with Garlands\n"
     ]
    }
   ],
   "source": [
    "christmasTreeWithGarlands()"
   ]
  },
  {
   "cell_type": "code",
   "execution_count": null,
   "id": "8fed5bf6",
   "metadata": {},
   "outputs": [],
   "source": []
  },
  {
   "cell_type": "markdown",
   "id": "1cb04c76",
   "metadata": {},
   "source": [
    "### 원본 개체와 데코레이터 개체 모두에 대한 기본 구성 요소 인터페이스"
   ]
  },
  {
   "cell_type": "code",
   "execution_count": 31,
   "id": "380bdd80",
   "metadata": {},
   "outputs": [],
   "source": [
    "interface MilkShake {\n",
    "    fun getTaste()\n",
    "}"
   ]
  },
  {
   "cell_type": "markdown",
   "id": "de1e97c8",
   "metadata": {},
   "source": [
    "## 원본 객체"
   ]
  },
  {
   "cell_type": "code",
   "execution_count": 32,
   "id": "de083b61",
   "metadata": {},
   "outputs": [],
   "source": [
    "class ConcreteMilkShake : MilkShake {\n",
    "    override fun getTaste() {\n",
    "        println(\"It’s milk !\")\n",
    "    }\n",
    "}"
   ]
  },
  {
   "cell_type": "markdown",
   "id": "9dbf9eb7",
   "metadata": {},
   "source": [
    "## 데코레이터 베이스\n",
    "\n",
    "데코레이터 클래스에 대한 추상 데코레이터"
   ]
  },
  {
   "cell_type": "code",
   "execution_count": 33,
   "id": "e86904fa",
   "metadata": {},
   "outputs": [],
   "source": [
    "open class MilkShakeDecorator(protected var milkShake: MilkShake) : MilkShake {\n",
    "    override fun getTaste() {\n",
    "        this.milkShake.getTaste()\n",
    "    }\n",
    "}"
   ]
  },
  {
   "cell_type": "markdown",
   "id": "db70b9d5",
   "metadata": {},
   "source": [
    "## 데코레이터 세부 객체"
   ]
  },
  {
   "cell_type": "code",
   "execution_count": 34,
   "id": "b0c62dcf",
   "metadata": {},
   "outputs": [],
   "source": [
    "class BananaMilkShake(m:MilkShake) : MilkShakeDecorator(m){\n",
    "\n",
    "    override public fun getTaste(){\n",
    "        super.getTaste ();\n",
    "        this.addTaste();\n",
    "        println(\" It’s Banana milk shake !\");\n",
    "    }\n",
    "    public fun addTaste(){\n",
    "        println(\" Adding Banana flavor to the milk shake !\");\n",
    "    }\n",
    "}"
   ]
  },
  {
   "cell_type": "code",
   "execution_count": 36,
   "id": "4028a27d",
   "metadata": {},
   "outputs": [],
   "source": [
    "class PeanutButterMilkShake(m:MilkShake) : MilkShakeDecorator(m){\n",
    "\n",
    "    override public fun getTaste(){\n",
    "        super.getTaste ();\n",
    "        this.addTaste();\n",
    "        println(\" It’s Peanut butter milk shake !\");\n",
    "    }\n",
    "    public fun addTaste(){\n",
    "        println(\" Adding Peanut butter flavor to the milk shake !\");\n",
    "    }\n",
    "}\n"
   ]
  },
  {
   "cell_type": "markdown",
   "id": "e96c5079",
   "metadata": {},
   "source": [
    "## 데코레이터 실행"
   ]
  },
  {
   "cell_type": "code",
   "execution_count": 39,
   "id": "eb7ce2f4",
   "metadata": {},
   "outputs": [],
   "source": [
    "fun main() {\n",
    "    val peanutMilkShake = PeanutButterMilkShake(ConcreteMilkShake())\n",
    "    peanutMilkShake.getTaste()\n",
    "    val bananaMilkShake = BananaMilkShake(ConcreteMilkShake())\n",
    "    bananaMilkShake.getTaste()\n",
    "}"
   ]
  },
  {
   "cell_type": "code",
   "execution_count": 40,
   "id": "f190202a",
   "metadata": {},
   "outputs": [
    {
     "name": "stdout",
     "output_type": "stream",
     "text": [
      "It’s milk !\n",
      " Adding Peanut butter flavor to the milk shake !\n",
      " It’s Peanut butter milk shake !\n",
      "It’s milk !\n",
      " Adding Banana flavor to the milk shake !\n",
      " It’s Banana milk shake !\n"
     ]
    }
   ],
   "source": [
    "main()"
   ]
  },
  {
   "cell_type": "code",
   "execution_count": null,
   "id": "1b6fc031",
   "metadata": {},
   "outputs": [],
   "source": []
  }
 ],
 "metadata": {
  "kernelspec": {
   "display_name": "Kotlin",
   "language": "kotlin",
   "name": "kotlin"
  },
  "language_info": {
   "codemirror_mode": "text/x-kotlin",
   "file_extension": ".kt",
   "mimetype": "text/x-kotlin",
   "name": "kotlin",
   "nbconvert_exporter": "",
   "pygments_lexer": "kotlin",
   "version": "1.6.0-dev-3567"
  }
 },
 "nbformat": 4,
 "nbformat_minor": 5
}
