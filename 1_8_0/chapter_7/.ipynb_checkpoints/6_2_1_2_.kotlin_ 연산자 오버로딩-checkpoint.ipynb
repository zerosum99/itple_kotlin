{
 "cells": [
  {
   "cell_type": "code",
   "execution_count": null,
   "id": "a0bb4518",
   "metadata": {},
   "outputs": [],
   "source": []
  },
  {
   "cell_type": "code",
   "execution_count": 1,
   "id": "4ea0a1cb",
   "metadata": {},
   "outputs": [
    {
     "data": {
      "text/plain": [
       "1.8.0"
      ]
     },
     "execution_count": 1,
     "metadata": {},
     "output_type": "execute_result"
    }
   ],
   "source": [
    "KotlinVersion.CURRENT             // 코틀린 현재 버전 "
   ]
  },
  {
   "cell_type": "code",
   "execution_count": null,
   "id": "fe58eff6",
   "metadata": {},
   "outputs": [],
   "source": []
  },
  {
   "cell_type": "markdown",
   "id": "c2adcd86",
   "metadata": {},
   "source": [
    "## 연산자 오버로딩 하기\n",
    "\n",
    "- 메소드에 operator 예약어를 사용해서 정의한다\n",
    "- + : plus, -: minus % : mod /: div * : times"
   ]
  },
  {
   "cell_type": "code",
   "execution_count": 2,
   "id": "8d55443f",
   "metadata": {},
   "outputs": [
    {
     "name": "stdout",
     "output_type": "stream",
     "text": [
      "Amount(500, 200)\n",
      "Amount(400, 200)\n"
     ]
    }
   ],
   "source": [
    "class Amount(var total : Int, var balance : Int) {          // 클래스 정의\n",
    "    operator fun plus(other : Amount) =                     // 메소드로 연산자 오버로딩 \n",
    "                     Amount(this.total + other.total, \n",
    "                            this.balance + other.balance)\n",
    "                     \n",
    "    operator fun plus(scale : Int) =                         // 메소드 오버로딩 \n",
    "                     Amount(this.total + scale, \n",
    "                            this.balance + scale)\n",
    "                     \n",
    "                     \n",
    "    \n",
    "    override fun toString() = \"Amount($total, $balance)\"\n",
    "}\n",
    "\n",
    "val amt = Amount(200, 100)\n",
    "val amt2 = Amount(300, 100)\n",
    "val amt3 = amt + amt2                                       // 더하기 연산자 처리 \n",
    "\n",
    "val amt4 = amt2 + 100\n",
    "\n",
    "println(amt3)\n",
    "println(amt4)\n"
   ]
  },
  {
   "cell_type": "code",
   "execution_count": null,
   "id": "18f712ca",
   "metadata": {},
   "outputs": [],
   "source": []
  },
  {
   "cell_type": "markdown",
   "id": "081d96a9",
   "metadata": {},
   "source": [
    "## 확장함수로 연산자 오버로딩하기\n",
    "- operator 예약어 사용\n",
    "- 클래스 이름을 연산자 이름보다 먼저 정의"
   ]
  },
  {
   "cell_type": "code",
   "execution_count": 3,
   "id": "fdf3ca7c",
   "metadata": {},
   "outputs": [
    {
     "name": "stdout",
     "output_type": "stream",
     "text": [
      "Amount(60000, 10000)\n",
      "Amount(400, 200)\n"
     ]
    }
   ],
   "source": [
    "operator fun Amount.times(other : Amount) : Amount {  // 확장함수에 연산자 오버로딩 \n",
    "            return Amount(total * other.total , \n",
    "                          balance * other.balance)\n",
    "}\n",
    "\n",
    "val amt4 = amt * amt2                                 //  곱하기 연산  \n",
    "\n",
    "println(amt4)\n",
    "\n",
    "operator fun Amount.times(scale : Int) : Amount {     // 확장함수의 함수 오버로딩\n",
    "             return Amount(total * scale ,            // 매개변수 자료형이 다른 경우 \n",
    "                           balance * scale)           // 동일한 이름으로 메소드 추가\n",
    "}\n",
    "\n",
    "val amt5 = amt * 2\n",
    "println(amt5)"
   ]
  },
  {
   "cell_type": "code",
   "execution_count": null,
   "id": "c0f0a183",
   "metadata": {},
   "outputs": [],
   "source": []
  },
  {
   "cell_type": "markdown",
   "id": "54fccac7",
   "metadata": {},
   "source": [
    "## infix 처리하기 "
   ]
  },
  {
   "cell_type": "code",
   "execution_count": 4,
   "id": "2009dd03",
   "metadata": {},
   "outputs": [
    {
     "name": "stdout",
     "output_type": "stream",
     "text": [
      "300\n",
      "300\n",
      "20000\n",
      "20000\n",
      "0\n"
     ]
    }
   ],
   "source": [
    "class Add(var x:Int=0) {                   // 클래스 생성\n",
    "    infix fun add(y:Int) = x+y             // 메소드에 점연산 처리를 안하려면 infix 처리\n",
    "    infix fun sub(y:Int) = x-y             // infix 처리는 항상 매개변수가 하나만 있어야 함\n",
    "    infix operator fun times(y:Int) = x*y  // 연산자 오버로딩에도 정의가 가능\n",
    "    infix fun divide(y:Int) = x / y        // infix는 함수 매개변수에 초기값 지정 불가\n",
    "}\n",
    "\n",
    "infix fun Add.div(y:Int) = this.divide(y)  // 확장함수에 infix 지정하기\n",
    "\n",
    "val a = Add(100)\n",
    "println(a add 200)\n",
    "println(a.add(200))\n",
    "println(a times 200)\n",
    "println(a * 200)\n",
    "\n",
    "println(a div 200)"
   ]
  },
  {
   "cell_type": "code",
   "execution_count": null,
   "id": "ad418eea",
   "metadata": {},
   "outputs": [],
   "source": []
  }
 ],
 "metadata": {
  "kernelspec": {
   "display_name": "Kotlin",
   "language": "kotlin",
   "name": "kotlin"
  },
  "language_info": {
   "codemirror_mode": "text/x-kotlin",
   "file_extension": ".kt",
   "mimetype": "text/x-kotlin",
   "name": "kotlin",
   "nbconvert_exporter": "",
   "pygments_lexer": "kotlin",
   "version": "1.8.0-dev-3517"
  }
 },
 "nbformat": 4,
 "nbformat_minor": 5
}
