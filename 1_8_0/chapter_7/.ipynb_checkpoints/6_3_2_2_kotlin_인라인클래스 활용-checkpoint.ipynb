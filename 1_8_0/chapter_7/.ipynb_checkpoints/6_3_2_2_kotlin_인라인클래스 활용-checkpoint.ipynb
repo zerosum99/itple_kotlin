{
 "cells": [
  {
   "cell_type": "code",
   "execution_count": null,
   "id": "ed7a0909",
   "metadata": {},
   "outputs": [],
   "source": []
  },
  {
   "cell_type": "markdown",
   "id": "52ca2993",
   "metadata": {},
   "source": [
    "## 타입 얼라이어스 와 인라인클래스"
   ]
  },
  {
   "cell_type": "code",
   "execution_count": 3,
   "id": "0f7ad4f4",
   "metadata": {},
   "outputs": [],
   "source": [
    "typealias NameTypeAlias = String\n",
    "\n",
    "@JvmInline\n",
    "value class NameInlineClass(val s: String)\n",
    "\n",
    "fun acceptString(s: String) {println(s)}\n",
    "fun acceptNameTypeAlias(n: NameTypeAlias) {println(n)}\n",
    "fun acceptNameInlineClass(p: NameInlineClass) { println(p.s)}\n",
    "\n",
    "fun main() {\n",
    "    val nameAlias: NameTypeAlias = \"가을\"\n",
    "    val nameInlineClass: NameInlineClass = NameInlineClass(\"인라인\")\n",
    "    val string: String = \"여름\"\n",
    "\n",
    "    acceptString(nameAlias)       // OK: pass alias instead of underlying type\n",
    "    acceptString(nameInlineClass.s) // Not OK: can't pass inline class instead of underlying type\n",
    "\n",
    "    // And vice versa:\n",
    "    acceptNameTypeAlias(string)   // OK: pass underlying type instead of alias\n",
    "    acceptNameInlineClass(nameInlineClass) // Not OK: can't pass underlying type instead of inline class\n",
    "}"
   ]
  },
  {
   "cell_type": "code",
   "execution_count": null,
   "id": "f9238ec5",
   "metadata": {},
   "outputs": [],
   "source": []
  },
  {
   "cell_type": "code",
   "execution_count": null,
   "id": "e48dd1ad",
   "metadata": {},
   "outputs": [],
   "source": []
  },
  {
   "cell_type": "code",
   "execution_count": 1,
   "id": "a4e24cc4",
   "metadata": {},
   "outputs": [],
   "source": [
    "interface I\n",
    "\n",
    "@JvmInline\n",
    "value class Foo(val i: Int) : I\n",
    "\n",
    "fun asInline(f: Foo) {}\n",
    "fun <T> asGeneric(x: T) {}\n",
    "fun asInterface(i: I) {}\n",
    "fun asNullable(i: Foo?) {}\n",
    "\n",
    "fun <T> id(x: T): T = x\n",
    "\n",
    "fun main() {\n",
    "    val f = Foo(42)\n",
    "\n",
    "    asInline(f)    // unboxed: used as Foo itself\n",
    "    asGeneric(f)   // boxed: used as generic type T\n",
    "    asInterface(f) // boxed: used as type I\n",
    "    asNullable(f)  // boxed: used as Foo?, which is different from Foo\n",
    "\n",
    "    // below, 'f' first is boxed (while being passed to 'id') and then unboxed (when returned from 'id')\n",
    "    // In the end, 'c' contains unboxed representation (just '42'), as 'f'\n",
    "    val c = id(f)\n",
    "}"
   ]
  },
  {
   "cell_type": "code",
   "execution_count": 2,
   "id": "d6137e79",
   "metadata": {},
   "outputs": [],
   "source": [
    "main()"
   ]
  },
  {
   "cell_type": "code",
   "execution_count": 4,
   "id": "025dc8fb",
   "metadata": {},
   "outputs": [
    {
     "name": "stdout",
     "output_type": "stream",
     "text": [
      "가을\n",
      "인라인\n",
      "여름\n",
      "인라인\n"
     ]
    }
   ],
   "source": [
    "main()"
   ]
  },
  {
   "cell_type": "code",
   "execution_count": null,
   "id": "541ae348",
   "metadata": {},
   "outputs": [],
   "source": []
  }
 ],
 "metadata": {
  "kernelspec": {
   "display_name": "Kotlin",
   "language": "kotlin",
   "name": "kotlin"
  },
  "language_info": {
   "codemirror_mode": "text/x-kotlin",
   "file_extension": ".kt",
   "mimetype": "text/x-kotlin",
   "name": "kotlin",
   "nbconvert_exporter": "",
   "pygments_lexer": "kotlin",
   "version": "1.6.0-dev-3567"
  }
 },
 "nbformat": 4,
 "nbformat_minor": 5
}
