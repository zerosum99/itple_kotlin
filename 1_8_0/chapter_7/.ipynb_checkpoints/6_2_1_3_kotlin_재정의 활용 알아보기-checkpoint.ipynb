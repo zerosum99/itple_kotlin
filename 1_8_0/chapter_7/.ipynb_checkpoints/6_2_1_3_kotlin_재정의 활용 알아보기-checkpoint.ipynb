{
 "cells": [
  {
   "cell_type": "code",
   "execution_count": null,
   "id": "e8aab507",
   "metadata": {},
   "outputs": [],
   "source": []
  },
  {
   "cell_type": "code",
   "execution_count": 1,
   "id": "31ee9c31",
   "metadata": {},
   "outputs": [
    {
     "data": {
      "text/plain": [
       "1.8.0"
      ]
     },
     "execution_count": 1,
     "metadata": {},
     "output_type": "execute_result"
    }
   ],
   "source": [
    "KotlinVersion.CURRENT             // 코틀린 현재 버전 "
   ]
  },
  {
   "cell_type": "code",
   "execution_count": null,
   "id": "5115e56d",
   "metadata": {},
   "outputs": [],
   "source": []
  },
  {
   "cell_type": "markdown",
   "id": "6ba72f71",
   "metadata": {},
   "source": [
    "## 확장함수와 오버라이딩 처리 "
   ]
  },
  {
   "cell_type": "markdown",
   "id": "5ec4388f",
   "metadata": {},
   "source": [
    "### 은행 계좌 클래스"
   ]
  },
  {
   "cell_type": "code",
   "execution_count": 2,
   "id": "faae3436",
   "metadata": {},
   "outputs": [],
   "source": [
    "open class BankAccount(val accountNumber: String) {  // 은행계좌 클래스 \n",
    "    var balance : Double = 0.0\n",
    "\n",
    "    open fun deposite(amount: Double){               // 예금입금 메소드 \n",
    "        if(amount > 0) {balance += amount}\n",
    "        println(\"현재 금액 : $balance\")\n",
    "    }\n",
    "\n",
    "    open fun withdraw(amount: Double) {              // 예금출금 메소드 \n",
    "        if(amount <= balance) {balance -= amount}\n",
    "        println(\"현재 금액 : $balance\")\n",
    "    }\n",
    "}"
   ]
  },
  {
   "cell_type": "code",
   "execution_count": null,
   "id": "c23dac95",
   "metadata": {},
   "outputs": [],
   "source": []
  },
  {
   "cell_type": "markdown",
   "id": "8a4c8819",
   "metadata": {},
   "source": [
    "### 예금계좌 클래스"
   ]
  },
  {
   "cell_type": "code",
   "execution_count": 3,
   "id": "5cdc4263",
   "metadata": {},
   "outputs": [],
   "source": [
    "class SavingsAccount (accountNumber: String,           //예금계좌  클래스 \n",
    "                      val interestRate: Double) :\n",
    "                      BankAccount(accountNumber) {\n",
    "\n",
    "    fun depositInterest() {                            //이자 지급메소드 \n",
    "        val interest = balance * interestRate / 100\n",
    "        this.deposite(interest);\n",
    "    }\n",
    "}"
   ]
  },
  {
   "cell_type": "code",
   "execution_count": null,
   "id": "bd524681",
   "metadata": {},
   "outputs": [],
   "source": []
  },
  {
   "cell_type": "markdown",
   "id": "ce26fe1b",
   "metadata": {},
   "source": [
    "### 대출계좌 클래스"
   ]
  },
  {
   "cell_type": "code",
   "execution_count": 4,
   "id": "6ead1418",
   "metadata": {},
   "outputs": [],
   "source": [
    "class LoanAccount (accountNumber: String,             //대출계좌 클래스 \n",
    "                   val interestRate: Double) :\n",
    "                     BankAccount(accountNumber) {\n",
    "                         \n",
    "    override fun deposite(amount: Double){            //지급 메소드 : 예금과 반대로 처리\n",
    "        if(amount <= balance) {balance -= amount}\n",
    "        println(\"현재 금액 : $balance\")\n",
    "    }\n",
    "    \n",
    "    override fun withdraw(amount: Double){            //입금 메소드 : 예금과 반대로 처리                   \n",
    "        if(amount > 0) {balance += amount}\n",
    "        println(\"현재 금액 : $balance\")\n",
    "    }\n",
    "    \n",
    "    fun withdrawInterest() {                          //대출이자 처리 메소드 \n",
    "        val interest = balance * interestRate / 100\n",
    "        this.withdraw(interest);\n",
    "    }\n",
    "}\n",
    "                     \n",
    "                     \n",
    "fun LoanAccount.loanWithdraw(amount: Double) {        // 대출입금 확장함수\n",
    "    if(amount > 0) { this.balance += amount}\n",
    "    println(\"현재 금액 : $balance\")\n",
    "} "
   ]
  },
  {
   "cell_type": "code",
   "execution_count": null,
   "id": "ef102036",
   "metadata": {},
   "outputs": [],
   "source": []
  },
  {
   "cell_type": "markdown",
   "id": "e1b76f14",
   "metadata": {},
   "source": [
    "### 실제 실행"
   ]
  },
  {
   "cell_type": "code",
   "execution_count": 5,
   "id": "d730c2eb",
   "metadata": {},
   "outputs": [
    {
     "name": "stdout",
     "output_type": "stream",
     "text": [
      "현재 금액 : 1000.0\n",
      "현재 금액 : 1060.0\n",
      "예금 현재 잔액 = 1060.0\n",
      "현재 금액 : 1000.0\n",
      "현재 금액 : 1060.0\n",
      "현재 금액 : 760.0\n",
      "대출 현재 잔액 = 760.0\n"
     ]
    }
   ],
   "source": [
    "val savingsAccount = SavingsAccount(\"5555890890\", 6.0)\n",
    "    \n",
    "savingsAccount.deposite(1000.0)\n",
    "savingsAccount.depositInterest()\n",
    "println(\"예금 현재 잔액 = ${savingsAccount.balance}\")\n",
    "\n",
    "val loanAccount = LoanAccount(\"22222777778\", 6.0)\n",
    "loanAccount.loanWithdraw(1000.0)\n",
    "loanAccount.withdrawInterest()\n",
    "loanAccount.deposite(300.0)\n",
    "println(\"대출 현재 잔액 = ${loanAccount.balance}\")"
   ]
  },
  {
   "cell_type": "code",
   "execution_count": null,
   "id": "e8c09276",
   "metadata": {},
   "outputs": [],
   "source": []
  },
  {
   "cell_type": "code",
   "execution_count": null,
   "id": "a8b1c3c5",
   "metadata": {},
   "outputs": [],
   "source": []
  }
 ],
 "metadata": {
  "kernelspec": {
   "display_name": "Kotlin",
   "language": "kotlin",
   "name": "kotlin"
  },
  "language_info": {
   "codemirror_mode": "text/x-kotlin",
   "file_extension": ".kt",
   "mimetype": "text/x-kotlin",
   "name": "kotlin",
   "nbconvert_exporter": "",
   "pygments_lexer": "kotlin",
   "version": "1.8.0-dev-3517"
  }
 },
 "nbformat": 4,
 "nbformat_minor": 5
}
