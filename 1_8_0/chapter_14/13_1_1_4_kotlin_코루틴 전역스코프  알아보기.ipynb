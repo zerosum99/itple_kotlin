{
 "cells": [
  {
   "cell_type": "markdown",
   "id": "c7019e90",
   "metadata": {},
   "source": [
    "## 참조자료\n",
    "\n",
    "https://myungpyo.medium.com/reading-coroutine-official-guide-thoroughly-part-1-98f6e792bd5b"
   ]
  },
  {
   "cell_type": "markdown",
   "id": "9a28c36a",
   "metadata": {},
   "source": [
    "## 코루티 모듈 로딩 "
   ]
  },
  {
   "cell_type": "code",
   "execution_count": 1,
   "id": "ad7b6593",
   "metadata": {},
   "outputs": [],
   "source": [
    "@file:DependsOn(\"org.jetbrains.kotlinx:kotlinx-coroutines-core:1.6.1\")"
   ]
  },
  {
   "cell_type": "code",
   "execution_count": null,
   "id": "2b938c32",
   "metadata": {},
   "outputs": [],
   "source": []
  },
  {
   "cell_type": "markdown",
   "id": "c26b66dc",
   "metadata": {},
   "source": [
    "## 설치 확인 "
   ]
  },
  {
   "cell_type": "code",
   "execution_count": 2,
   "id": "55ce3332",
   "metadata": {},
   "outputs": [
    {
     "data": {
      "text/plain": [
       "Current classpath (14 paths):\n",
       "/Users/dahlmoon/anaconda3/envs/kotlin/lib/python3.8/site-packages/run_kotlin_kernel/jars/lib-0.11.0-61.jar\n",
       "/Users/dahlmoon/anaconda3/envs/kotlin/lib/python3.8/site-packages/run_kotlin_kernel/jars/api-0.11.0-61.jar\n",
       "/Users/dahlmoon/anaconda3/envs/kotlin/lib/python3.8/site-packages/run_kotlin_kernel/jars/kotlin-script-runtime-1.7.0-dev-1825.jar\n",
       "/Users/dahlmoon/anaconda3/envs/kotlin/lib/python3.8/site-packages/run_kotlin_kernel/jars/kotlin-reflect-1.6.0.jar\n",
       "/Users/dahlmoon/anaconda3/envs/kotlin/lib/python3.8/site-packages/run_kotlin_kernel/jars/kotlin-stdlib-1.6.0.jar\n",
       "/Users/dahlmoon/anaconda3/envs/kotlin/lib/python3.8/site-packages/run_kotlin_kernel/jars/annotations-13.0.jar\n",
       "/Users/dahlmoon/anaconda3/envs/kotlin/lib/python3.8/site-packages/run_kotlin_kernel/jars/kotlin-stdlib-common-1.6.0.jar\n",
       "/Users/dahlmoon/.m2/repository/org/jetbrains/kotlinx/kotlinx-coroutines-core/1.6.1/kotlinx-coroutines-core-1.6.1.jar\n",
       "/Users/dahlmoon/.m2/repository/org/jetbrains/kotlinx/kotlinx-coroutines-core-jvm/1.6.1/kotlinx-coroutines-core-jvm-1.6.1.jar\n",
       "/Users/dahlmoon/.m2/repository/org/jetbrains/kotlin/kotlin-stdlib-jdk8/1.6.0/kotlin-stdlib-jdk8-1.6.0.jar\n",
       "/Users/dahlmoon/.m2/repository/org/jetbrains/kotlin/kotlin-stdlib/1.6.0/kotlin-stdlib-1.6.0.jar\n",
       "/Users/dahlmoon/.m2/repository/org/jetbrains/annotations/13.0/annotations-13.0.jar\n",
       "/Users/dahlmoon/.m2/repository/org/jetbrains/kotlin/kotlin-stdlib-jdk7/1.6.0/kotlin-stdlib-jdk7-1.6.0.jar\n",
       "/Users/dahlmoon/.m2/repository/org/jetbrains/kotlin/kotlin-stdlib-common/1.6.0/kotlin-stdlib-common-1.6.0.jar"
      ]
     },
     "execution_count": 2,
     "metadata": {},
     "output_type": "execute_result"
    }
   ],
   "source": [
    ":classpath"
   ]
  },
  {
   "cell_type": "code",
   "execution_count": null,
   "id": "e40682d9",
   "metadata": {},
   "outputs": [],
   "source": []
  },
  {
   "cell_type": "markdown",
   "id": "bf8dfaf0",
   "metadata": {},
   "source": [
    "## 기본 사용 패키지"
   ]
  },
  {
   "cell_type": "code",
   "execution_count": 3,
   "id": "2594075d",
   "metadata": {},
   "outputs": [],
   "source": [
    "import kotlinx.coroutines.*\n"
   ]
  },
  {
   "cell_type": "markdown",
   "id": "0ef187c6",
   "metadata": {},
   "source": [
    "## 디스패처 알아보기\n",
    "\n",
    "- Dispatcher\n",
    "\n",
    "Dispatcher는 CoroutineContext를 상속받아 어떤 쓰레드를 이용해서 동작할 것인지 정의해둔 것 입니다.\n",
    "\n",
    " \n",
    "\n",
    "- None : 실행된 코루틴 스코프에게 상속받는다.\n",
    "\n",
    " \n",
    "\n",
    "- Unconfined : 호출 쓰레드에서 실행하지만 멈췄다가 재개할 경우 재개한 쓰레드에서 실행한다.\n",
    "\n",
    "-> 특정 쓰레드에 국한되지 않는 경우 적합\n",
    "\n",
    "\n",
    "- Main : 메인 쓰레드에서 실행한다.\n",
    "\n",
    "-> 안드로이드에서 UI를 바꿀 때 적합, Job이 무거우면 부적합\n",
    "\n",
    " \n",
    "\n",
    "- IO : 네트워크, 디스크 사용 할때 사용합니다. 파일 읽고, 쓰고, 소켓을 읽고, 쓰고 작업을 멈추는것에 최적화되어 있습니다.\n",
    "\n",
    " \n",
    "\n",
    "- Default : Thread Pool에 할당한다. (GlobalScope.launch { }도 마찬가지)"
   ]
  },
  {
   "cell_type": "markdown",
   "id": "78dd66f4",
   "metadata": {},
   "source": [
    "## 컨텍스트를 의한 디스패처 지정하기"
   ]
  },
  {
   "cell_type": "code",
   "execution_count": 5,
   "id": "92f2578b",
   "metadata": {},
   "outputs": [
    {
     "name": "stdout",
     "output_type": "stream",
     "text": [
      "launch(Dispatchers.Unconfined) : Thread-26\n",
      "launch(Dispatchers.IO) : DefaultDispatcher-worker-1\n",
      "launch(Dispatchers.Default) : DefaultDispatcher-worker-2\n",
      "launch : Thread-26\n"
     ]
    }
   ],
   "source": [
    "fun main() { \n",
    "    runBlocking {\n",
    "        launch {\n",
    "            println(\"launch : ${Thread.currentThread().name}\")\n",
    "        }\n",
    "\n",
    "        launch(Dispatchers.Unconfined) {\n",
    "            println(\"launch(Dispatchers.Unconfined) : ${Thread.currentThread().name}\")\n",
    "        }\n",
    "\n",
    "       //launch(Dispatchers.Main) {   //안드로이드 용\n",
    "       //    println(\"launch(Dispatchers.Main) : ${Thread.currentThread().name}\")\n",
    "       //}\n",
    "\n",
    "        launch(Dispatchers.IO) {\n",
    "            println(\"launch(Dispatchers.IO) : ${Thread.currentThread().name}\")\n",
    "        }\n",
    "\n",
    "        launch(Dispatchers.Default) {\n",
    "            println(\"launch(Dispatchers.Default) : ${Thread.currentThread().name}\")\n",
    "        }\n",
    "    }\n",
    "}\n",
    "\n",
    "main()"
   ]
  },
  {
   "cell_type": "code",
   "execution_count": null,
   "id": "e41a79b3",
   "metadata": {},
   "outputs": [],
   "source": []
  },
  {
   "cell_type": "markdown",
   "id": "dabac04b",
   "metadata": {},
   "source": [
    "## 스코프 컨텍스트 "
   ]
  },
  {
   "cell_type": "code",
   "execution_count": 6,
   "id": "3ececae4",
   "metadata": {},
   "outputs": [
    {
     "name": "stdout",
     "output_type": "stream",
     "text": [
      "runBlocking : Thread-30\n",
      "컨텍스트 : [BlockingCoroutine{Active}@390a8c69, BlockingEventLoop@5be2ec8b]\n",
      "상태 : true\n",
      "전역스코프 반환 : StandaloneCoroutine{Active}@609d6216\n",
      "코르틴 스코프 반환 : StandaloneCoroutine{Active}@724b1be3\n",
      "전역스코프 : DefaultDispatcher-worker-1\n",
      "컨텍스트 : [StandaloneCoroutine{Active}@609d6216, Dispatchers.Default]\n",
      "상태 : true\n",
      "코루틴 스코프 : DefaultDispatcher-worker-1\n",
      "컨텍스트 : [StandaloneCoroutine{Active}@724b1be3, Dispatchers.Default]\n",
      "상태 : true\n"
     ]
    }
   ],
   "source": [
    "fun main() = runBlocking {                                     // 런블러킹 컨텍스트 확인 \n",
    "    println(\"runBlocking : ${Thread.currentThread().name}\")    \n",
    "    println(\"컨텍스트 : \" + coroutineContext)                                      \n",
    "    println(\"상태 : \" +isActive)                                // 잡상태 확인\n",
    "    \n",
    "    val g = GlobalScope.launch {                               // 전역스코프 컨텍스트 확인 \n",
    "        delay(300)\n",
    "        println(\"전역스코프 : ${Thread.currentThread().name}\")\n",
    "        println(\"컨텍스트 : \" +coroutineContext)\n",
    "        println(\"상태 : \" +isActive)                            // 잡상태 확인 \n",
    "    }\n",
    "    println(\"전역스코프 반환 : \" + g)\n",
    "    val c =CoroutineScope(Dispatchers.Default).launch {        // 코루틴스코프 컨텍스트 확인\n",
    "        delay(500)\n",
    "        println(\"코루틴 스코프 : ${Thread.currentThread().name}\")\n",
    "        println(\"컨텍스트 : \" +coroutineContext)\n",
    "        println(\"상태 : \" +isActive)                             // 잡상태 확인    \n",
    "    }\n",
    "    println(\"코르틴 스코프 반환 : \" + c)\n",
    "    delay(1000)\n",
    "}\n",
    "\n",
    "main()"
   ]
  },
  {
   "cell_type": "code",
   "execution_count": null,
   "id": "2f3ae591",
   "metadata": {},
   "outputs": [],
   "source": []
  },
  {
   "cell_type": "markdown",
   "id": "e22a5a94",
   "metadata": {},
   "source": [
    "## 코루틴 컨텍스트 "
   ]
  },
  {
   "cell_type": "code",
   "execution_count": 7,
   "id": "462ef620",
   "metadata": {},
   "outputs": [
    {
     "name": "stdout",
     "output_type": "stream",
     "text": [
      "Default : DefaultDispatcher-worker-2\n",
      "Job : StandaloneCoroutine{Active}@5b1b3e7f\n",
      "컨티뉴에션 : Dispatchers.Default\n",
      "IO  : DefaultDispatcher-worker-2\n",
      "Job : DeferredCoroutine{Active}@1d75a9da\n",
      "컨티뉴에션 : Dispatchers.IO\n",
      "Thread  : newSingleThreadContext: 스레드\n",
      "Job : StandaloneCoroutine{Active}@32d7814f\n",
      "컨티뉴에션 : java.util.concurrent.ScheduledThreadPoolExecutor@1815b50d[Running, pool size = 1, active threads = 1, queued tasks = 0, completed tasks = 1]\n",
      "반환값 l : StandaloneCoroutine{Completed}@5b1b3e7f\n",
      "반환값 a : DeferredCoroutine{Completed}@1d75a9da\n",
      "반환값 t : StandaloneCoroutine{Completed}@32d7814f\n"
     ]
    }
   ],
   "source": [
    "fun main1() = runBlocking { \n",
    "    val l = launch(Dispatchers.Default) {                          // DefaultDispatcher\n",
    "        println(\"Default : ${Thread.currentThread().name}\")        // 현재 처리 기준\n",
    "        println(\"Job : \" + coroutineContext[Job.Key])              // 컨텍스트 내의 잡\n",
    "        println(\"컨티뉴에션 : \"                                       // 컨티뉴에이션 \n",
    "                + coroutineContext[kotlin.coroutines.ContinuationInterceptor.Key])\n",
    "    }\n",
    "    val a = async(Dispatchers.IO) {                                // Dispatcher IO \n",
    "        delay(200)\n",
    "        println(\"IO  : ${Thread.currentThread().name}\")            // 현재 처리 기준 \n",
    "        println(\"Job : \" + coroutineContext[Job.Key])              // 잡 \n",
    "        println(\"컨티뉴에션 : \"                                       // 컨티뉴에이션                       \n",
    "                + coroutineContext[kotlin.coroutines.ContinuationInterceptor.Key])\n",
    "    }\n",
    "    val t = launch(newSingleThreadContext(\"스레드\")) {               // 새로운 스레드 처리\n",
    "        delay(500)\n",
    "        println(\"Thread  : newSingleThreadContext: ${Thread.currentThread().name}\")\n",
    "        println(\"Job : \" + coroutineContext[Job.Key])               // 잡 \n",
    "        println(\"컨티뉴에션 : \"                                        // 컨티뉴에이션\n",
    "                + coroutineContext[kotlin.coroutines.ContinuationInterceptor.Key])\n",
    "    }\n",
    "    \n",
    "    delay(1000)\n",
    "    println(\"반환값 l : \" + l)\n",
    "    println(\"반환값 a : \" + a)\n",
    "    println(\"반환값 t : \" + t)\n",
    "}\n",
    "main1()"
   ]
  },
  {
   "cell_type": "code",
   "execution_count": null,
   "id": "30bfe417",
   "metadata": {},
   "outputs": [],
   "source": []
  },
  {
   "cell_type": "markdown",
   "id": "b7ffa1c0",
   "metadata": {},
   "source": [
    "##  스레드와 전역 스코프 처리 비교"
   ]
  },
  {
   "cell_type": "code",
   "execution_count": 4,
   "id": "356b37b8",
   "metadata": {},
   "outputs": [
    {
     "name": "stdout",
     "output_type": "stream",
     "text": [
      "쓰레드 처리  : 0 Thread-15\n",
      "코루틴처리   : 0 DefaultDispatcher-worker-1\n",
      "쓰레드 처리  : 1 Thread-15\n",
      "코루틴처리   : 1 DefaultDispatcher-worker-1\n",
      "쓰레드 처리  : 2 Thread-15\n",
      "코루틴처리   : 2 DefaultDispatcher-worker-1\n"
     ]
    }
   ],
   "source": [
    "fun main() {\n",
    "    Thread(Runnable {                                   // 3개의 러너블 객체를 만들어서 스레드 처리               \n",
    "        for (i in 0..2) {\n",
    "            println(\"쓰레드 처리  : $i \"                   // 3개의 쓰레드를 처리 \n",
    "                    + Thread.currentThread().name)\n",
    "            Thread.sleep(500L)                          // 스레드 중단 : 현재 스레드 일시중단 \n",
    "        }\n",
    "    }).start()                                          // start 메소드로 스레드 시작\n",
    "\n",
    "    GlobalScope.launch {                                // 코루틴 전역스코프로 처리 \n",
    "        repeat(3) {                                     // 3개의 일지중단함수 만들고 코루틴 생성 \n",
    "            println(\"코루틴처리   : $it \" \n",
    "                    + Thread.currentThread().name)      // 코루틴 내의 dispatchre로 처리 \n",
    "            delay(500L)                                 // 일시 중단 다른 작업 수행 \n",
    "        }\n",
    "    }\n",
    "    \n",
    "    Thread.sleep(3000L)                                 // 어플리케이션 중단 \n",
    "}\n",
    "\n",
    "main()"
   ]
  },
  {
   "cell_type": "code",
   "execution_count": null,
   "id": "a87851b1",
   "metadata": {},
   "outputs": [],
   "source": []
  },
  {
   "cell_type": "code",
   "execution_count": null,
   "id": "a184d642",
   "metadata": {},
   "outputs": [],
   "source": []
  },
  {
   "cell_type": "markdown",
   "id": "327fe3fd",
   "metadata": {},
   "source": [
    "##  전역스코프에 코루틴 계층화하기  "
   ]
  },
  {
   "cell_type": "code",
   "execution_count": 5,
   "id": "24971f81",
   "metadata": {},
   "outputs": [
    {
     "name": "stdout",
     "output_type": "stream",
     "text": [
      "Hello, DefaultDispatcher-worker-1\n",
      "class kotlinx.coroutines.StandaloneCoroutine\n",
      "World! DefaultDispatcher-worker-1\n"
     ]
    }
   ],
   "source": [
    "fun main3() {                                              //  \n",
    "    GlobalScope.launch {                                   // 부모 코루틴을 전역스코프로 생성\n",
    "        val job = GlobalScope.launch {                     // 내부에 전역스코프 코루틴 생성 \n",
    "        \n",
    "            delay(100L)                                    // 일시중단함수 실행  \n",
    "            println(\"World! \" \n",
    "                     + Thread.currentThread().name)        // 코루틴 내부 스레드\n",
    "        }\n",
    "        \n",
    "        println(\"Hello, \" \n",
    "                     + Thread.currentThread().name)        // 부모 코루틴 스레드  \n",
    "        println(job.javaClass)                             // 반환된 잡 클래스 확인 \n",
    "        job.join()                                         // 내부 코루틴 처리 종료\n",
    "    } \n",
    "    \n",
    "    Thread.sleep(2000)                                     //  어플리케애선까지 실행되므로 2초 지연\n",
    "}\n",
    "\n",
    "main3()"
   ]
  },
  {
   "cell_type": "code",
   "execution_count": null,
   "id": "6dadd376",
   "metadata": {},
   "outputs": [],
   "source": []
  },
  {
   "cell_type": "code",
   "execution_count": null,
   "id": "69dc23f1",
   "metadata": {},
   "outputs": [],
   "source": []
  },
  {
   "cell_type": "markdown",
   "id": "1eeab92e",
   "metadata": {},
   "source": [
    "## 전역스코프 처리되는 방식 이해하기"
   ]
  },
  {
   "cell_type": "code",
   "execution_count": 8,
   "id": "408f2737",
   "metadata": {},
   "outputs": [
    {
     "name": "stdout",
     "output_type": "stream",
     "text": [
      "코루틴, Thread[Thread-38,5,main]\n",
      "세상에 온것을 환영! Thread[DefaultDispatcher-worker-1,5,main]\n",
      "World!Thread[DefaultDispatcher-worker-1,5,main]\n",
      "Hello,Thread[Thread-38,5,main]\n"
     ]
    }
   ],
   "source": [
    "fun main() {\n",
    "    GlobalScope.launch {                              // 전역 코루틴 처리 \n",
    "        delay(500L)                                   // 현재 작업을 중단해서 다른 스레드 처리\n",
    "        println(\"세상에 온것을 환영! \" + Thread.currentThread())\n",
    "    }\n",
    "    println(\"코루틴, \"  + Thread.currentThread())       // 출력 \n",
    "                                                      // 스레드를 중단하는 함수처리 없음  \n",
    "\n",
    "    GlobalScope.launch {                              // 전역 코루틴 처리 \n",
    "        delay(1000L)                                  // 현재 작업을 중단 \n",
    "        println(\"World!\" + Thread.currentThread())\n",
    "    }\n",
    "    \n",
    "    Thread.sleep(3000L)                                // 작업을 중단 : 다른 작업 호출 \n",
    "    println(\"Hello,\"  + Thread.currentThread())        // 출력 \n",
    "   \n",
    "}                                                     \n",
    "main() "
   ]
  },
  {
   "cell_type": "code",
   "execution_count": null,
   "id": "5ed88e75",
   "metadata": {},
   "outputs": [],
   "source": []
  },
  {
   "cell_type": "markdown",
   "id": "537ea460",
   "metadata": {},
   "source": [
    "## \t동등한 레벨로 전역스코프 처리하기 2 "
   ]
  },
  {
   "cell_type": "code",
   "execution_count": 10,
   "id": "03a86169",
   "metadata": {},
   "outputs": [
    {
     "name": "stdout",
     "output_type": "stream",
     "text": [
      "코루틴 세상, Thread-46\n",
      "세상 ! DefaultDispatcher-worker-2\n",
      "환영해요! DefaultDispatcher-worker-1\n",
      "블럭처리, Thread-46\n",
      "코루틴 종료 Thread-46\n"
     ]
    }
   ],
   "source": [
    "fun main3() {\n",
    "    println(\"코루틴 세상, \" \n",
    "                      + Thread.currentThread().name)     // 처음 출력 \n",
    "    \n",
    "    GlobalScope.launch {                                 // 전역 코루틴 처리 \n",
    "        delay(1000L)                                     // 현재 작업을 중단하고 다른 처리 요청 \n",
    "        println(\"세상 ! \" \n",
    "                      + Thread.currentThread().name)\n",
    "    }\n",
    "    GlobalScope.launch {                                 // 전역 코루틴 처리                   \n",
    "        delay(1000L)                                     // 다른 코루틴 처리 요청 \n",
    "        println(\"환영해요! \"\n",
    "                      + Thread.currentThread().name)\n",
    "    } \n",
    "    runBlocking {                                        // 런블럭킹 함수로 코푸틴 생성\n",
    "        delay(2000L)                                     // 다른 코루틴 처리 요청 \n",
    "        println(\"블럭처리, \"\n",
    "                      + Thread.currentThread().name)\n",
    "    }\n",
    "    \n",
    "    println(\"코루틴 종료 \"  \n",
    "                      + Thread.currentThread().name)     // 출력 \n",
    "    Thread.sleep(4000L)                                  // 메인 스레드 중단함수 : 전역스포크 고루틴 작업 호출 \n",
    "}\n",
    "\n",
    "main3()"
   ]
  },
  {
   "cell_type": "code",
   "execution_count": null,
   "id": "3c17450d",
   "metadata": {},
   "outputs": [],
   "source": []
  },
  {
   "cell_type": "markdown",
   "id": "4abd6eea",
   "metadata": {},
   "source": [
    "## 전역스코프 상태 확인"
   ]
  },
  {
   "cell_type": "code",
   "execution_count": 14,
   "id": "3cbe154f",
   "metadata": {},
   "outputs": [
    {
     "name": "stdout",
     "output_type": "stream",
     "text": [
      "환영해요,\n",
      "코루틴 세상 !\n",
      "코루틴 활성화 여부 : true\n",
      "코루틴 활성화 여부 : false\n",
      "코푸틴 정지 여부   : false\n",
      "코루틴 종료 여부   : true\n"
     ]
    }
   ],
   "source": [
    "fun main5() = runBlocking {                            // 고루틴 블러킹 처리 \n",
    "    val job = GlobalScope.launch {                     // 전역스코프에서 잡을 반환 \n",
    "        delay(1000L)\n",
    "        println(\"코루틴 세상 !\")\n",
    "        println(\"코루틴 활성화 여부 : \" + isActive)        // 활성화 여부\n",
    "    }\n",
    "    println(\"환영해요,\")\n",
    "    job.join()                                         // 코루틴 종료 \n",
    "    println(\"코루틴 활성화 여부 : \" + job.isActive)        // 활성화 여부\n",
    "    println(\"코푸틴 정지 여부   : \" + job.isCancelled)     // 중단 여부 \n",
    "    println(\"코루틴 종료 여부   : \" + job.isCompleted)     // 종료 여부\n",
    "}\n",
    "\n",
    "main5()"
   ]
  },
  {
   "cell_type": "code",
   "execution_count": null,
   "id": "1133333c",
   "metadata": {},
   "outputs": [],
   "source": []
  },
  {
   "cell_type": "markdown",
   "id": "0cd79b39",
   "metadata": {},
   "source": [
    "## 전역스코프는 데몬쓰레드"
   ]
  },
  {
   "cell_type": "code",
   "execution_count": 9,
   "id": "956c743e",
   "metadata": {},
   "outputs": [
    {
     "name": "stdout",
     "output_type": "stream",
     "text": [
      "전역스코프 코루틴 처리 :  0 ...\n",
      "전역스코프 코루틴 처리 :  1 ...\n",
      "전역스코프 코루틴 처리 :  2 ...\n"
     ]
    }
   ],
   "source": [
    "fun main6() = runBlocking {     \n",
    "    val job =  GlobalScope.launch {                   // 전역스코프 고루틴\n",
    "        repeat(1000) { i ->                           // 1000개 쓰레드 생성\n",
    "            println(\"전역스코프 코루틴 처리 :  $i ...\")\n",
    "            delay(500L)                               // 현재 코루틴을 멈추고 다른 코루틴 작업\n",
    "        }\n",
    "    }\n",
    "   delay(1300L)                                       // 현재 코루틴 멈추고 다른 코루틴 요청 \n",
    "   job.cancel()                                       // 전역스코프 종료\n",
    "}\n",
    "\n",
    "main6()  "
   ]
  },
  {
   "cell_type": "code",
   "execution_count": null,
   "id": "33b1c7db",
   "metadata": {},
   "outputs": [],
   "source": []
  },
  {
   "cell_type": "markdown",
   "id": "7dda1f6d",
   "metadata": {},
   "source": [
    "## 전역스코프와 코푸틴 스코프 지정 처리"
   ]
  },
  {
   "cell_type": "code",
   "execution_count": 10,
   "id": "13598f8c",
   "metadata": {},
   "outputs": [
    {
     "name": "stdout",
     "output_type": "stream",
     "text": [
      "런블럭스코프 : Thread-43\n",
      "전역스코프 : DefaultDispatcher-worker-1\n",
      "코루틴스코프 1 : DefaultDispatcher-worker-1\n",
      "코루틴스코프 2 : DefaultDispatcher-worker-1\n"
     ]
    }
   ],
   "source": [
    "// interface CoroutineScope                            // 코루틴스코프틑 인터페이스 \n",
    "\n",
    "fun main(): Unit = runBlocking {                       // 런블럭킹 \n",
    "    \n",
    "    println(\"런블럭스코프 : \" \n",
    "            + Thread.currentThread().name)\n",
    "    \n",
    "    GlobalScope                                        // 글로벌 스코프\n",
    "        .launch(Dispatchers.Default) {\n",
    "        println(\"전역스코프 : \"\n",
    "                + Thread.currentThread().name)\n",
    "    }\n",
    "    delay(1000L)\n",
    "    CoroutineScope(Dispatchers.Default)                // 코루틴 스코프 \n",
    "        .launch {                        \n",
    "        println(\"코루틴스코프 1 : \" \n",
    "                + Thread.currentThread().name)\n",
    "    }\n",
    "        \n",
    "    coroutineScope {                                   // 코푸틴스코프로 지정된 일시중단함수 \n",
    "        launch(Dispatchers.Default) {                              \n",
    "            println(\"코루틴스코프 2 : \" \n",
    "                   + Thread.currentThread().name)\n",
    "        }\n",
    "    }\n",
    "}\n",
    "\n",
    "main()"
   ]
  },
  {
   "cell_type": "code",
   "execution_count": null,
   "id": "af7bd991",
   "metadata": {},
   "outputs": [],
   "source": []
  },
  {
   "cell_type": "markdown",
   "id": "c68fdbe3",
   "metadata": {},
   "source": [
    "##  중단함수 호출  : runBlocling에서 처리해서 스레드를 그냥로 사용"
   ]
  },
  {
   "cell_type": "code",
   "execution_count": 14,
   "id": "9053ce19",
   "metadata": {},
   "outputs": [
    {
     "name": "stdout",
     "output_type": "stream",
     "text": [
      "안녕하세요!!!Thread-62\n",
      "코틀린 환영 ! DefaultDispatcher-worker-1\n",
      "코루틴 세상 ! Thread-62\n"
     ]
    }
   ],
   "source": [
    "fun main24() = runBlocking {                      // 런블럭 빌드로 코루틴 생성\n",
    "    val x = doWorld()                             // 일시중단함수 실행 \n",
    "}\n",
    "\n",
    "suspend fun doWorld() = coroutineScope {          // 코푸틴스코프로 지정된 일시중단함수 \n",
    "    launch {                                      // 빌드함수 정의 \n",
    "        delay(1000L)                              // 1초 지연 \n",
    "        println(\"코루틴 세상 ! \" \n",
    "                + Thread.currentThread().name)\n",
    "    }\n",
    "    \n",
    "    launch(Dispatchers.Default) {                 // 빌드함수 정의 \n",
    "        delay(500L)                               // 0.5 초 지연 \n",
    "        println(\"코틀린 환영 ! \" \n",
    "                + Thread.currentThread().name)\n",
    "    }\n",
    "    \n",
    "     launch {                                     // 빌드함수 정의 \n",
    "        println(\"안녕하세요!!!\"                      // 지연없음 \n",
    "                + Thread.currentThread().name)\n",
    "    }\n",
    "}\n",
    "\n",
    "main24()"
   ]
  },
  {
   "cell_type": "code",
   "execution_count": null,
   "id": "ab678f3c",
   "metadata": {},
   "outputs": [],
   "source": []
  },
  {
   "cell_type": "markdown",
   "id": "b343c634",
   "metadata": {},
   "source": [
    "## 빌더함수로 코루틴 스코프 처리"
   ]
  },
  {
   "cell_type": "code",
   "execution_count": 19,
   "id": "a7986b29",
   "metadata": {},
   "outputs": [
    {
     "name": "stdout",
     "output_type": "stream",
     "text": [
      "코루틴 스코프 처리  : Thread[Thread-85,5,main]\n",
      "런블러킹 내부 코루틴 처리 : Thread[Thread-85,5,main]\n",
      "코루틴 내부 코루틴 1  : Thread[DefaultDispatcher-worker-1,5,main]\n",
      "런블러킹 종료  : Thread[Thread-85,5,main]\n"
     ]
    }
   ],
   "source": [
    "// suspend fun <R> coroutineScope(                 // 코루틴 일시증단 함수 \n",
    "// block: suspend CoroutineScope.() -> R)          // 람다표현식을 받아서 코루틴 빌드 \n",
    "// : R\n",
    "\n",
    "\n",
    "fun main() = runBlocking {                         // 런블러킹으로 빌더 \n",
    "    launch {                                       // 코루틴 런치\n",
    "        delay(200L)\n",
    "        println(\"런블러킹 내부 코루틴 처리 : \" \n",
    "                + Thread.currentThread())\n",
    "    }\n",
    "\n",
    "    coroutineScope {                               // 코루틴스코프 정의 \n",
    "        launch(Dispatchers.Default){               // 코루틴 빌더 \n",
    "            delay(500L)\n",
    "            println(\"코루틴 내부 코루틴 1  : \"          // 내부 코루틴 처리 \n",
    "                    + Thread.currentThread())\n",
    "        }\n",
    "        delay(100L)                                 // 지연처리 \n",
    "        println(\"코루틴 스코프 처리  : \"                // 현재 상태 확인 \n",
    "                + Thread.currentThread())\n",
    "    }\n",
    "    println(\"런블러킹 종료  : \"                         // 최종 확인 \n",
    "            + Thread.currentThread())\n",
    "}\n",
    "main()"
   ]
  },
  {
   "cell_type": "code",
   "execution_count": null,
   "id": "09a747ca",
   "metadata": {},
   "outputs": [],
   "source": []
  },
  {
   "cell_type": "code",
   "execution_count": null,
   "id": "84102058",
   "metadata": {},
   "outputs": [],
   "source": []
  }
 ],
 "metadata": {
  "kernelspec": {
   "display_name": "Kotlin",
   "language": "kotlin",
   "name": "kotlin"
  },
  "language_info": {
   "codemirror_mode": "text/x-kotlin",
   "file_extension": ".kt",
   "mimetype": "text/x-kotlin",
   "name": "kotlin",
   "nbconvert_exporter": "",
   "pygments_lexer": "kotlin",
   "version": "1.7.0-dev-1825"
  }
 },
 "nbformat": 4,
 "nbformat_minor": 5
}
