{
 "cells": [
  {
   "cell_type": "code",
   "execution_count": null,
   "id": "d3271463",
   "metadata": {},
   "outputs": [],
   "source": []
  },
  {
   "cell_type": "code",
   "execution_count": 1,
   "id": "f52dafe1",
   "metadata": {},
   "outputs": [],
   "source": [
    "@file:DependsOn(\"org.jetbrains.kotlinx:kotlinx-coroutines-core:1.6.4\")"
   ]
  },
  {
   "cell_type": "code",
   "execution_count": 2,
   "id": "b4fd475f",
   "metadata": {},
   "outputs": [
    {
     "data": {
      "text/plain": [
       "Current classpath (16 paths):\n",
       "/Users/a06411/opt/anaconda3/envs/kotlin/lib/python3.10/site-packages/run_kotlin_kernel/jars/lib-0.11.0-170.jar\n",
       "/Users/a06411/opt/anaconda3/envs/kotlin/lib/python3.10/site-packages/run_kotlin_kernel/jars/api-0.11.0-170.jar\n",
       "/Users/a06411/opt/anaconda3/envs/kotlin/lib/python3.10/site-packages/run_kotlin_kernel/jars/kotlin-script-runtime-1.8.0-dev-3517.jar\n",
       "/Users/a06411/opt/anaconda3/envs/kotlin/lib/python3.10/site-packages/run_kotlin_kernel/jars/kotlin-reflect-1.7.10.jar\n",
       "/Users/a06411/opt/anaconda3/envs/kotlin/lib/python3.10/site-packages/run_kotlin_kernel/jars/kotlin-stdlib-1.7.10.jar\n",
       "/Users/a06411/opt/anaconda3/envs/kotlin/lib/python3.10/site-packages/run_kotlin_kernel/jars/kotlin-stdlib-common-1.7.10.jar\n",
       "/Users/a06411/opt/anaconda3/envs/kotlin/lib/python3.10/site-packages/run_kotlin_kernel/jars/annotations-13.0.jar\n",
       "/Users/a06411/opt/anaconda3/envs/kotlin/lib/python3.10/site-packages/run_kotlin_kernel/jars/kotlinx-serialization-json-jvm-1.3.3.jar\n",
       "/Users/a06411/opt/anaconda3/envs/kotlin/lib/python3.10/site-packages/run_kotlin_kernel/jars/kotlinx-serialization-core-jvm-1.3.3.jar\n",
       "/Users/a06411/.m2/repository/org/jetbrains/kotlinx/kotlinx-coroutines-core/1.6.4/kotlinx-coroutines-core-1.6.4.jar\n",
       "/Users/a06411/.m2/repository/org/jetbrains/kotlinx/kotlinx-coroutines-core-jvm/1.6.4/kotlinx-coroutines-core-jvm-1.6.4.jar\n",
       "/Users/a06411/.m2/repository/org/jetbrains/kotlin/kotlin-stdlib-jdk8/1.6.21/kotlin-stdlib-jdk8-1.6.21.jar\n",
       "/Users/a06411/.m2/repository/org/jetbrains/kotlin/kotlin-stdlib/1.6.21/kotlin-stdlib-1.6.21.jar\n",
       "/Users/a06411/.m2/repository/org/jetbrains/annotations/13.0/annotations-13.0.jar\n",
       "/Users/a06411/.m2/repository/org/jetbrains/kotlin/kotlin-stdlib-jdk7/1.6.21/kotlin-stdlib-jdk7-1.6.21.jar\n",
       "/Users/a06411/.m2/repository/org/jetbrains/kotlin/kotlin-stdlib-common/1.6.21/kotlin-stdlib-common-1.6.21.jar"
      ]
     },
     "execution_count": 2,
     "metadata": {},
     "output_type": "execute_result"
    }
   ],
   "source": [
    ":classpath"
   ]
  },
  {
   "cell_type": "code",
   "execution_count": null,
   "id": "5b6b2787",
   "metadata": {},
   "outputs": [],
   "source": []
  },
  {
   "cell_type": "code",
   "execution_count": null,
   "id": "e08f370e",
   "metadata": {},
   "outputs": [],
   "source": []
  },
  {
   "cell_type": "markdown",
   "id": "b826a67d",
   "metadata": {},
   "source": [
    "## 액터\n",
    "\n",
    "- 액터는 코루틴에서 쓰레드간 동기화를 지원하기 위한 도구이다.\n",
    "\n",
    "- 액터는 두 가지 강력한 도구의 조합이다.\n",
    "\n",
    "> - 상태 엑세스를 단일 스레드로 한정한다.\n",
    "\n",
    "> - 다른 쓰레드는 채널을 통해서 상태 수정을 요청한다."
   ]
  },
  {
   "cell_type": "code",
   "execution_count": 3,
   "id": "3f60a48d",
   "metadata": {},
   "outputs": [],
   "source": [
    "import kotlinx.coroutines.*\n",
    "import kotlinx.coroutines.channels.actor"
   ]
  },
  {
   "cell_type": "code",
   "execution_count": null,
   "id": "d8d380e2",
   "metadata": {},
   "outputs": [],
   "source": []
  },
  {
   "cell_type": "markdown",
   "id": "01d1aaa7",
   "metadata": {},
   "source": [
    "## 액터 함수 알아보기"
   ]
  },
  {
   "cell_type": "code",
   "execution_count": 4,
   "id": "2fc21de7",
   "metadata": {},
   "outputs": [],
   "source": [
    "// interface ActorScope<E> : CoroutineScope, ReceiveChannel<E>  // 액터스코프는 코루틴과 리스브채널\n",
    "\n",
    "\n",
    "// public fun <E> CoroutineScope.actor(                         // 액터 빌더 \n",
    "//    context: CoroutineContext = EmptyCoroutineContext,        // 컨텍스트\n",
    "//    capacity: Int = 0,                                        // 용량 \n",
    "//    start: CoroutineStart = CoroutineStart.DEFAULT,\n",
    "//    onCompletion: CompletionHandler? = null,                  // 핸들러 \n",
    "//    block: suspend ActorScope<E>.() -> Unit                   // 일시중단 람다표현식 \n",
    "// ): SendChannel<E>                                            // 전송 채널 "
   ]
  },
  {
   "cell_type": "code",
   "execution_count": null,
   "id": "f4cf5046",
   "metadata": {},
   "outputs": [],
   "source": []
  },
  {
   "cell_type": "markdown",
   "id": "6377cad1",
   "metadata": {},
   "source": [
    "## 액터에 데이터 전송하고 출력하기 "
   ]
  },
  {
   "cell_type": "code",
   "execution_count": 5,
   "id": "fbb4528c",
   "metadata": {},
   "outputs": [
    {
     "name": "stdout",
     "output_type": "stream",
     "text": [
      "1 Thread : Thread-17\n",
      "2 Thread : Thread-17\n",
      "3 Thread : Thread-17\n",
      "4 Thread : Thread-17\n",
      "5 Thread : Thread-17\n",
      " closed \n"
     ]
    }
   ],
   "source": [
    "fun main() = runBlocking {                                      // 런블러킹 스코프 생성 \n",
    "  val actor1 = actor<String>(capacity = 10) {                   // 액터 빌더 \n",
    "    for (data in channel) {                                     // 액터 내부의 수신된 데이터 출력                     \n",
    "      println(data +\" Thread : \" + Thread.currentThread().name)\n",
    "    }\n",
    "  }\n",
    "  (1..5).forEach { \n",
    "      actor1.send(it.toString())                                // 액터에 데이터 전송\n",
    "  }                                                      \n",
    "  actor1.close()                                                // 액터 종료\n",
    "  delay(500L)                                                   // 전체 지연 \n",
    "  println(\" closed \")\n",
    "}\n",
    "\n",
    "main()"
   ]
  },
  {
   "cell_type": "code",
   "execution_count": null,
   "id": "b0802c08",
   "metadata": {},
   "outputs": [],
   "source": []
  },
  {
   "cell_type": "markdown",
   "id": "c057c2be",
   "metadata": {},
   "source": [
    "## 확장함수로 액터 생성하고 메시지 전송만 하기 \n",
    "\n",
    "- Client 입장에서는 Actor는 채널과 똑같기 때문에 메시지를 보낼 때 send() 를 사용한다."
   ]
  },
  {
   "cell_type": "code",
   "execution_count": 6,
   "id": "ebd5d5ed",
   "metadata": {},
   "outputs": [
    {
     "name": "stdout",
     "output_type": "stream",
     "text": [
      "ActorCoroutine\n",
      "수신받은 메시지 : 0\n",
      "수신받은 메시지 : 1\n",
      "수신받은 메시지 : 0\n",
      "수신받은 메시지 : 1\n",
      "수신받은 메시지 : 2\n",
      "result 5\n"
     ]
    },
    {
     "data": {
      "text/plain": [
       "true"
      ]
     },
     "execution_count": 6,
     "metadata": {},
     "output_type": "execute_result"
    }
   ],
   "source": [
    "fun CoroutineScope.actorCounter() = actor<Int> {       // 코루틴 스코프에 액터를 정의 \n",
    "    println(channel::class.simpleName)\n",
    "    var count = 0                                      // actor 로컬 변수\n",
    "    for (msg in channel) {                             // channel을 순회하는 For-loop문\n",
    "        count++                                        // 수신마다 count 로컬변수 값 증가\n",
    "        println(\"수신받은 메시지 : $msg\")                  // 수신마다  출력\n",
    "    }                                                   // channel이 닫히고 for-loop문을 벗어나면 출력\n",
    "    println(\"result $count\")\n",
    "}\n",
    "\n",
    "fun main() = runBlocking {\n",
    "        val counter = actorCounter()                   // 액터 공유 채널 만들기 \n",
    "        val workA = async {                            // 코루틴에서 전달 \n",
    "                repeat(2) {\n",
    "                counter.send(it)                       // 액터에 전송 \n",
    "            }\n",
    "        }\n",
    "        val workB = async {                            // 코루틴에서 전달 \n",
    "               repeat(3) {\n",
    "                    counter.send(it)                   // 액터에 전송 \n",
    "            }\n",
    "        }\n",
    "        workA.await()                                  // 반환값 없음                       \n",
    "        workB.await()\n",
    "        counter.close()                                // 액터 종료\n",
    "}\n",
    "    \n",
    "main()"
   ]
  },
  {
   "cell_type": "code",
   "execution_count": null,
   "id": "2e8fb25b",
   "metadata": {},
   "outputs": [],
   "source": []
  },
  {
   "cell_type": "markdown",
   "id": "b176743e",
   "metadata": {},
   "source": [
    "## actor() - SendChannel<E> 반환\n",
    "\n",
    "     : 채널을 통해 코루틴 블럭(Scope)와 외부에서 통신을 통해 전송 / 처리의 루틴을 실행하는 빌더이다.\n",
    "\n",
    "       actor 빌더는 SendChannel<E>를 반환, Send채널을 통해 actor()블록으로 채널을 통해 전송을 할 수 있다. \n",
    "\n",
    "       즉, actor{} 블록 내부는 수신자(Receiver)가 되고 / 반환된 SendChannel이 송신자(Sender)라고 보면 된다"
   ]
  },
  {
   "cell_type": "code",
   "execution_count": 7,
   "id": "50f0e277",
   "metadata": {},
   "outputs": [
    {
     "name": "stdout",
     "output_type": "stream",
     "text": [
      "송신한 메시지 : 0\n",
      "수신받은 메시지 : 0\n",
      "송신한 메시지 : 1\n",
      "수신받은 메시지 : 1\n",
      "송신한 메시지 : 2\n",
      "수신받은 메시지 : 2\n",
      "result 3\n"
     ]
    }
   ],
   "source": [
    "fun CoroutineScope.basicActor() = actor<Int> {\n",
    "    var count = 0                                  // actor 로컬 변수\n",
    "    for (msg in channel) {                         // channel을 순회하는 For-loop문\n",
    "        count++                                    // 수신마다 count 로컬변수 값 증가\n",
    "        println(\"수신받은 메시지 : $msg\")              // 수신마다  출력\n",
    "    }\n",
    "                                                   // channel이 닫히고 for-loop문을 벗어나면 출력\n",
    "    println(\"result $count\")\n",
    "    \n",
    "}\n",
    "                                                   // 0.5초 딜레이를 갖고 3번 채널에 send(송신) 반복\n",
    "val rb = runBlocking {                             // 런블러킹 스코프 정의\n",
    "    val chan = basicActor()                        // 액터 빌더 실행 \n",
    "    repeat(3) {\n",
    "        delay(500)\n",
    "        println(\"송신한 메시지 : $it\")\n",
    "        chan.send(it)                              // 액터에 데이터 전송 \n",
    "    }\n",
    "\n",
    "    chan.close()                                    // 액터 종료\n",
    "}"
   ]
  },
  {
   "cell_type": "code",
   "execution_count": null,
   "id": "40c48595",
   "metadata": {},
   "outputs": [],
   "source": []
  },
  {
   "cell_type": "code",
   "execution_count": null,
   "id": "cce4561b",
   "metadata": {},
   "outputs": [],
   "source": []
  },
  {
   "cell_type": "markdown",
   "id": "bfeb5afb",
   "metadata": {},
   "source": [
    "## 액터로 송수신하기"
   ]
  },
  {
   "cell_type": "code",
   "execution_count": 8,
   "id": "ce1e30d7",
   "metadata": {},
   "outputs": [],
   "source": [
    "sealed class CounterMsg                                       // 모든 메시지 타입의 부모 클래스\n",
    "object IncCounter : CounterMsg()                              // 변수를 1 증가시키라는 메시지\n",
    "class GetCounter(val response: CompletableDeferred<Int>) \n",
    "                            : CounterMsg()                   // 변수의 값을 돌려달라는 메시지"
   ]
  },
  {
   "cell_type": "code",
   "execution_count": null,
   "id": "48b8e04f",
   "metadata": {},
   "outputs": [],
   "source": []
  },
  {
   "cell_type": "code",
   "execution_count": 9,
   "id": "4ba7010e",
   "metadata": {},
   "outputs": [
    {
     "name": "stdout",
     "output_type": "stream",
     "text": [
      "수신메시지 : IncCounter\n",
      "수신 Thread-33\n",
      "수신메시지 : GetCounter\n",
      "송신 Thread-33\n",
      "Counter = 1\n"
     ]
    }
   ],
   "source": [
    "fun CoroutineScope.counterActor() = actor<CounterMsg> {\n",
    "    var counter = 0                                          // 변수 (state)\n",
    "    for (msg in channel) {                                   // 들어오는 메시지를 처리한다.\n",
    "        println(\"수신메시지 : \" + msg::class.simpleName)\n",
    "        when (msg) {\n",
    "            is IncCounter -> { counter++                      // 수신처리\n",
    "                               println(\"수신 \" + Thread.currentThread().name) \n",
    "                             }\n",
    "            is GetCounter -> { msg.response.complete(counter)  // 송신처리\n",
    "                               println(\"송신 \" + Thread.currentThread().name) \n",
    "                              }\n",
    "            else  -> {println(\"else \" + Thread.currentThread().name)  }   // 버전변경으로 추가 \n",
    "        }\n",
    "    }\n",
    "}\n",
    "\n",
    "fun main() = runBlocking<Unit> {\n",
    "    val counter = counterActor()                              // actor 생성\n",
    "    launch(Dispatchers.Default) {\n",
    "        launch {\n",
    "            counter.send(IncCounter)\n",
    "        }\n",
    "    }\n",
    "                                                             // actor로부터 값을 받는다.\n",
    "    delay(500)\n",
    "    val response = CompletableDeferred<Int>()                // deferred 객체 생성 \n",
    "    counter.send(GetCounter(response))                       // 수신받기 위해 액터에 전송 \n",
    "    println(\"Counter = ${response.await()}\")                 // 수신결과를 확인\n",
    "    delay(1000)\n",
    "    counter.close()                                           // actor 종료\n",
    "}\n",
    "main()"
   ]
  },
  {
   "cell_type": "code",
   "execution_count": null,
   "id": "e8d52c7a",
   "metadata": {},
   "outputs": [],
   "source": []
  },
  {
   "cell_type": "code",
   "execution_count": 10,
   "id": "d8e05272",
   "metadata": {},
   "outputs": [],
   "source": [
    "// interface CompletableDeferred<T> : Deferred<T>         // 비동기 처리의 결과 \n",
    "\n",
    "sealed class Message                                      // 봉인 클래스로 상속관계 명확화 \n",
    "object Receive : Message()                                // 수신 메시지 처리\n",
    "class  Send (val response: CompletableDeferred<Int>)      // 송신 메시지 처리\n",
    "                            : Message()                   // 인자로 deferred 객체 수신 필요"
   ]
  },
  {
   "cell_type": "code",
   "execution_count": null,
   "id": "f1257739",
   "metadata": {},
   "outputs": [],
   "source": []
  },
  {
   "cell_type": "code",
   "execution_count": 11,
   "id": "74f115e6",
   "metadata": {},
   "outputs": [
    {
     "name": "stdout",
     "output_type": "stream",
     "text": [
      "수신메시지 : Receive\n",
      "[ActorCoroutine{Active}@1cbed399, Dispatchers.Default]\n",
      "수신 DefaultDispatcher-worker-2\n",
      "수신메시지 : Send\n",
      "[ActorCoroutine{Active}@1cbed399, Dispatchers.Default]\n",
      "송신 DefaultDispatcher-worker-2\n",
      "송신되는 값 = 100\n"
     ]
    }
   ],
   "source": [
    "fun CoroutineScope.numsActor() = actor<Message> {\n",
    "    var counter = 0                                         // 내부 상태 관리\n",
    "    for (msg in channel) {                                  // 들어오는 메시지를 처리한다.\n",
    "        println(\"수신메시지 : \" + msg::class.simpleName)\n",
    "        println(coroutineContext)\n",
    "        when (msg) {\n",
    "            is Receive -> {  counter++                      // 내부 값 변경 \n",
    "                           println(\"수신 \" + Thread.currentThread().name) }\n",
    "                                                            //  송신값 처리 \n",
    "            is Send ->     {  msg.response.complete(counter * 100)\n",
    "                            println(\"송신 \" + Thread.currentThread().name) }\n",
    "            else  -> {println(\"else \" + Thread.currentThread().name)  }   // 버전변경으로 추가 \n",
    "        }\n",
    "    }\n",
    "}\n",
    "\n",
    "fun main() {\n",
    "    GlobalScope.launch(Dispatchers.Default) {\n",
    "        val counter = numsActor()                               // actor 생성\n",
    "        withContext(Dispatchers.Default) {\n",
    "            launch {\n",
    "                counter.send(Receive)                           // 메시지 전송 \n",
    "            }\n",
    "        }\n",
    "        launch {  \n",
    "            delay(300)                                          // actor로부터 값을 받는다.\n",
    "            val response = CompletableDeferred<Int>()\n",
    "            counter.send(Send(response))                        // 반환값을 받기 위한 메시지 전송 \n",
    "            println(\"송신되는 값 = ${response.await()}\")           // Deferred 처리이므로 await로 결과 수신처리\n",
    "        }\n",
    "        delay(2000)\n",
    "        counter.close()                                          // actor 종료\n",
    "    }\n",
    "    Thread.sleep(3000)\n",
    "}\n",
    "\n",
    "main()"
   ]
  },
  {
   "cell_type": "code",
   "execution_count": null,
   "id": "d0592afe",
   "metadata": {},
   "outputs": [],
   "source": []
  },
  {
   "cell_type": "markdown",
   "id": "b3455905",
   "metadata": {},
   "source": [
    "## 봉인클래스를 정의해서 메시지 전수송 처리하기"
   ]
  },
  {
   "cell_type": "code",
   "execution_count": 12,
   "id": "e8f1a8e4",
   "metadata": {},
   "outputs": [],
   "source": [
    "sealed class Message {                                          // 봉인클래스 정의\n",
    "    class Increment(val value: Int) : Message()                 // 수신처리 클래스 정의\n",
    "    class GetValue(val deferred: CompletableDeferred<String>)   // 송신처리 클래스 정의  \n",
    "                                                : Message()     // 송신을 위한 deferred 객체 전닯\n",
    "}"
   ]
  },
  {
   "cell_type": "code",
   "execution_count": null,
   "id": "d2cfb268",
   "metadata": {},
   "outputs": [],
   "source": []
  },
  {
   "cell_type": "code",
   "execution_count": 13,
   "id": "a9d4497e",
   "metadata": {},
   "outputs": [
    {
     "name": "stdout",
     "output_type": "stream",
     "text": [
      "전송 받은 메시지 : Increment\n",
      "전송 받은 메시지 : Increment\n",
      "전송 받은 메시지 : Increment\n",
      "전송 받은 메시지 : GetValue\n",
      "전송받은 메시지 : 203 액터\n"
     ]
    }
   ],
   "source": [
    "fun CoroutineScope.channelActor() = actor<Message> {            // 코루틴스코프 확장함수로 액터 빌더 정의\n",
    "    var counter = 0\n",
    "    for (message in channel) {\n",
    "        println(\"전송 받은 메시지 : \" + message::class.simpleName)   // 수신받은 메시지 출력\n",
    "        when(message) {\n",
    "            is Message.Increment                                 // 메시지 수신처리\n",
    "                         -> counter += message.value\n",
    "            is Message.GetValue                                  // 메시지 송신처리\n",
    "                         -> message.deferred\n",
    "                                .complete(counter.toString()\n",
    "                                          +\" 액터\")\n",
    "        }\n",
    "    }\n",
    "}\n",
    "\n",
    "fun main() = runBlocking<Unit> {\n",
    "    val msgchannel = channelActor()                                 // 액터 빌드하기 \n",
    "    \n",
    "    GlobalScope.launch {                                            // 전역스코프에서 액터에 전송                      \n",
    "        msgchannel.send(Message.Increment(1))\n",
    "        msgchannel.send(Message.Increment(2))\n",
    "        msgchannel.send(Message.Increment(200))\n",
    "    }\n",
    "\n",
    "    launch {                                       \n",
    "        val deferred = CompletableDeferred<String>()               // 메소드 받기 위한 deferred 처리\n",
    "        msgchannel.send(Message.GetValue(deferred))                // 액터로 메시지 전송해서 수신처리\n",
    "        println(\"전송받은 메시지 : \" + deferred.await())               // 전송을 받은 메시지 처리\n",
    "    }\n",
    "\n",
    "    delay(3000)\n",
    "    msgchannel.close()\n",
    "}\n",
    "\n",
    "main()"
   ]
  },
  {
   "cell_type": "code",
   "execution_count": null,
   "id": "efe2135a",
   "metadata": {},
   "outputs": [],
   "source": []
  },
  {
   "cell_type": "code",
   "execution_count": null,
   "id": "0eb6f70c",
   "metadata": {},
   "outputs": [],
   "source": []
  },
  {
   "cell_type": "code",
   "execution_count": null,
   "id": "47aadd2b",
   "metadata": {},
   "outputs": [],
   "source": []
  }
 ],
 "metadata": {
  "kernelspec": {
   "display_name": "Kotlin",
   "language": "kotlin",
   "name": "kotlin"
  },
  "language_info": {
   "codemirror_mode": "text/x-kotlin",
   "file_extension": ".kt",
   "mimetype": "text/x-kotlin",
   "name": "kotlin",
   "nbconvert_exporter": "",
   "pygments_lexer": "kotlin",
   "version": "1.8.0-dev-3517"
  }
 },
 "nbformat": 4,
 "nbformat_minor": 5
}
