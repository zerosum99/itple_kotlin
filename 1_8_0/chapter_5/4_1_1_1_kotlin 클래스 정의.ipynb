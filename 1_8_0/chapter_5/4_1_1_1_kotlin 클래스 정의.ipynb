{
 "cells": [
  {
   "cell_type": "code",
   "execution_count": null,
   "id": "7de3fffb",
   "metadata": {},
   "outputs": [],
   "source": []
  },
  {
   "cell_type": "code",
   "execution_count": 1,
   "id": "caa2c367",
   "metadata": {},
   "outputs": [
    {
     "data": {
      "text/plain": [
       "1.8.0"
      ]
     },
     "execution_count": 1,
     "metadata": {},
     "output_type": "execute_result"
    }
   ],
   "source": [
    "KotlinVersion.CURRENT             // 코틀린 현재 버전 "
   ]
  },
  {
   "cell_type": "code",
   "execution_count": null,
   "id": "d8322d66",
   "metadata": {},
   "outputs": [],
   "source": []
  },
  {
   "cell_type": "markdown",
   "id": "3dfe7ed5",
   "metadata": {},
   "source": [
    "## 1.  클래스 정의\n",
    "\n",
    "- class 예약어 + 클래스 명 + 생성자 + 콜론과 상속관계 + 클래스 몸체로 구성한다.\n",
    "- class 예약어 + 클래스 명만 작성하면 아무것도 하지않는 클래스 정의가 가능"
   ]
  },
  {
   "cell_type": "markdown",
   "id": "bf610147",
   "metadata": {},
   "source": [
    "## 클래스 정의"
   ]
  },
  {
   "cell_type": "code",
   "execution_count": 2,
   "id": "278b3dfd",
   "metadata": {},
   "outputs": [],
   "source": [
    "public class 클래스명 constructor(val 속성1:Int) : Any()  {\n",
    "    init {\n",
    "        println(\" 초기화 실행 \")\n",
    "        // 기본 생성자의 초기화 코드\n",
    "    }\n",
    "    \n",
    "    var 속성2 : String = \"초기화값\"\n",
    "    \n",
    "    constructor(매개변수1: String, 매개변수2 : Int) : this(매개변수2) {\n",
    "        var 속성3 : String  = 매개변수1\n",
    "    }\n",
    "    \n",
    "    fun 메소드1(): Unit {\n",
    "        // 객체의 행위\n",
    "    }\n",
    "    \n",
    "    class 내부클래스 {\n",
    "        // 클래스 로직\n",
    "    }\n",
    "    \n",
    "    object 내부객체 {\n",
    "        // 객체 로직\n",
    "    }\n",
    "}"
   ]
  },
  {
   "cell_type": "code",
   "execution_count": null,
   "id": "83698bd1",
   "metadata": {},
   "outputs": [],
   "source": []
  },
  {
   "cell_type": "markdown",
   "id": "6f6d503c-72a9-4a55-b840-6649303b7aa5",
   "metadata": {},
   "source": [
    "### 클래스를 정의하는 이유는 객체를 생성해서 사용하기 위해"
   ]
  },
  {
   "cell_type": "code",
   "execution_count": 3,
   "id": "7b3b1128",
   "metadata": {},
   "outputs": [
    {
     "name": "stdout",
     "output_type": "stream",
     "text": [
      "class Line_2$Animal\n",
      "class Line_2$Klass\n"
     ]
    }
   ],
   "source": [
    "class Animal               // 아무런 기능이 없는 클래스 선언\n",
    "class Klass {}\n",
    "\n",
    "val a = Animal()            // 아무런 기능이 없지만 인스턴스 생성\n",
    "val k = Klass()\n",
    "\n",
    "println(a :: class)         // 클래스 참조\n",
    "println(k.javaClass.kotlin) // 클래스 정보확인 "
   ]
  },
  {
   "cell_type": "code",
   "execution_count": null,
   "id": "44412060",
   "metadata": {},
   "outputs": [],
   "source": []
  },
  {
   "cell_type": "code",
   "execution_count": null,
   "id": "bc344efb",
   "metadata": {},
   "outputs": [],
   "source": []
  }
 ],
 "metadata": {
  "kernelspec": {
   "display_name": "Kotlin",
   "language": "kotlin",
   "name": "kotlin"
  },
  "language_info": {
   "codemirror_mode": "text/x-kotlin",
   "file_extension": ".kt",
   "mimetype": "text/x-kotlin",
   "name": "kotlin",
   "nbconvert_exporter": "",
   "pygments_lexer": "kotlin",
   "version": "1.8.0-dev-3517"
  }
 },
 "nbformat": 4,
 "nbformat_minor": 5
}
