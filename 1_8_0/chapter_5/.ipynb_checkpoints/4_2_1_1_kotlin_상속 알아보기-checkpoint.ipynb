{
 "cells": [
  {
   "cell_type": "code",
   "execution_count": null,
   "id": "6b69728f",
   "metadata": {},
   "outputs": [],
   "source": []
  },
  {
   "cell_type": "code",
   "execution_count": 1,
   "id": "d7598cba",
   "metadata": {},
   "outputs": [
    {
     "data": {
      "text/plain": [
       "1.8.0"
      ]
     },
     "execution_count": 1,
     "metadata": {},
     "output_type": "execute_result"
    }
   ],
   "source": [
    "KotlinVersion.CURRENT             // 코틀린 현재 버전 "
   ]
  },
  {
   "cell_type": "code",
   "execution_count": null,
   "id": "248a747d",
   "metadata": {},
   "outputs": [],
   "source": []
  },
  {
   "cell_type": "markdown",
   "id": "3dfe7ed5",
   "metadata": {},
   "source": [
    "##  상속알아보기\n"
   ]
  },
  {
   "cell_type": "code",
   "execution_count": 2,
   "id": "dabe251c",
   "metadata": {},
   "outputs": [
    {
     "name": "stdout",
     "output_type": "stream",
     "text": [
      "Super(id=1532068666)\n",
      "슈퍼 클래스 정보 확인 \n",
      "Sub(id=1846594309)\n",
      "서브 클래스 정보 확인\n",
      "슈퍼 클래스의 메소드\n"
     ]
    }
   ],
   "source": [
    "open class Super {                        //슈퍼클래스,베이스클래스\n",
    "    override fun toString() =             //문자열 출력 메소드 재정의\n",
    "          \"Super(id=${this.hashCode()})\"\n",
    "    open fun info() = \n",
    "           \"슈퍼 클래스 정보 확인 \"\n",
    "    fun getSuper() =                      //재정의 불가한 메소드\n",
    "           \"슈퍼 클래스의 메소드\"\n",
    "}\n",
    "\n",
    "class Sub : Super() {                     //서브클래스, 파생클래스\n",
    "     override fun toString() =            //문자열 출력 메소드 재정의\n",
    "           \"Sub(id=${this.hashCode()})\"\n",
    "     override fun info() =\n",
    "           \"서브 클래스 정보 확인\"\n",
    "}\n",
    "\n",
    "val sup = Super()                         //슈퍼클래스 객체 생성\n",
    "println(sup)\n",
    "println(sup.info())\n",
    "\n",
    "val sub = Sub()                           //서브클래스 객체 생성\n",
    "println(sub)\n",
    "println(sub.info())\n",
    "println(sub.getSuper())"
   ]
  },
  {
   "cell_type": "code",
   "execution_count": null,
   "id": "9c3fc7e7",
   "metadata": {},
   "outputs": [],
   "source": []
  },
  {
   "cell_type": "markdown",
   "id": "8a6fa628",
   "metadata": {},
   "source": [
    "## 상속계층 이해하기"
   ]
  },
  {
   "cell_type": "code",
   "execution_count": 3,
   "id": "d15a76c5",
   "metadata": {},
   "outputs": [
    {
     "name": "stdout",
     "output_type": "stream",
     "text": [
      "Student(school=초등학교 , name=달님, age=11)\n",
      "이름 = 달님 나이 = 11\n"
     ]
    }
   ],
   "source": [
    "open class Person(val name:String)  {                       // 1 레벨 슈퍼클래스\n",
    "    open fun info() = \"이름 = $name \"\n",
    "}\n",
    "open class Man(name:String, val age:Int) :                  // 2 레벨 슈퍼클래스\n",
    "                                      Person(name) { \n",
    "    override fun info() = \"이름 = $name 나이 = $age\"\n",
    "}\n",
    "\n",
    "class Student(val school:String,                            // 3 레벨 서브클래스\n",
    "              name:String, age:Int) : Man(name,age) {\n",
    "    override fun toString() = \n",
    "          \"Student(school=$school , name=$name, age=$age)\"\n",
    "}\n",
    "\n",
    "val st = Student(\"초등학교\",\"달님\",11)\n",
    "println(st)\n",
    "println(st.info())                                           // 상위의 메소드를 찾고 실행"
   ]
  },
  {
   "cell_type": "code",
   "execution_count": null,
   "id": "d71b33dd",
   "metadata": {},
   "outputs": [],
   "source": []
  },
  {
   "cell_type": "markdown",
   "id": "60dd9d3b",
   "metadata": {},
   "source": [
    "## 상속 제한여부 가시성 확인 "
   ]
  },
  {
   "cell_type": "code",
   "execution_count": 4,
   "id": "74005ee7",
   "metadata": {},
   "outputs": [
    {
     "name": "stdout",
     "output_type": "stream",
     "text": [
      "Person(name=더님)\n",
      "안녕히계세요\n",
      "Man(name=너님, age=33)\n",
      "안녕히계세요 + 너님 \n",
      "Student(school=초등학교 , name=달님, age=11)\n",
      "안녕히계세요 + 달님 \n"
     ]
    }
   ],
   "source": [
    "open class Person(val name:String) {                       //수퍼클래스     \n",
    "    fun sayHello() = \"안녕하세요\"                             //재정의 불가\n",
    "    open fun sayBye() = \"안녕히계세요\"                        //하위클래스에서 재정의 가능\n",
    "    override fun toString() =                              //상위 클래스의 메소드 재정의\n",
    "          \"Person(name=$name)\"\n",
    "}\n",
    "open class Man(name:String, val age:Int) : \n",
    "                                   Person(name) {\n",
    "    final override fun sayBye() = \"안녕히계세요 + $name \"     //하위 재정의 금지\n",
    "    override fun toString() =                              //상위클래스 메소드 재정의 \n",
    "          \"Man(name=$name, age=$age)\"   \n",
    "}\n",
    "class Student(val school:String, \n",
    "              name:String, age:Int) : Man(name,age) {\n",
    "    override fun toString() =                               //상위클래스 메소드 재정의\n",
    "          \"Student(school=$school , name=$name, age=$age)\"\n",
    "}\n",
    "\n",
    "val pn = Person(\"더님\")                  //수퍼 클래스 1레벨 객체 생성                    \n",
    "println(pn)\n",
    "println(pn.sayBye())\n",
    "\n",
    "val mn = Man(\"너님\",33)                  //수퍼 클래스 2레벨 객체 생성\n",
    "println(mn)\n",
    "println(mn.sayBye())\n",
    "\n",
    "val st = Student(\"초등학교\",\"달님\",11)     //서브 클래스 객체 생성\n",
    "println(st)\n",
    "println(st.sayBye())"
   ]
  },
  {
   "cell_type": "code",
   "execution_count": null,
   "id": "4ec69968",
   "metadata": {},
   "outputs": [],
   "source": []
  },
  {
   "cell_type": "code",
   "execution_count": null,
   "id": "a4116053",
   "metadata": {},
   "outputs": [],
   "source": []
  }
 ],
 "metadata": {
  "kernelspec": {
   "display_name": "Kotlin",
   "language": "kotlin",
   "name": "kotlin"
  },
  "language_info": {
   "codemirror_mode": "text/x-kotlin",
   "file_extension": ".kt",
   "mimetype": "text/x-kotlin",
   "name": "kotlin",
   "nbconvert_exporter": "",
   "pygments_lexer": "kotlin",
   "version": "1.8.0-dev-3517"
  }
 },
 "nbformat": 4,
 "nbformat_minor": 5
}
