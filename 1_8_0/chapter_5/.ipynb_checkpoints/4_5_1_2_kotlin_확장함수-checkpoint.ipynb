{
 "cells": [
  {
   "cell_type": "code",
   "execution_count": null,
   "id": "39bcbe9a",
   "metadata": {},
   "outputs": [],
   "source": []
  },
  {
   "cell_type": "code",
   "execution_count": 1,
   "id": "d5217f80",
   "metadata": {},
   "outputs": [
    {
     "data": {
      "text/plain": [
       "1.8.0"
      ]
     },
     "execution_count": 1,
     "metadata": {},
     "output_type": "execute_result"
    }
   ],
   "source": [
    "KotlinVersion.CURRENT             // 코틀린 현재 버전 "
   ]
  },
  {
   "cell_type": "code",
   "execution_count": null,
   "id": "5fc1714a",
   "metadata": {},
   "outputs": [],
   "source": []
  },
  {
   "cell_type": "markdown",
   "id": "fcd5c2ce",
   "metadata": {},
   "source": [
    "## 확장함수"
   ]
  },
  {
   "cell_type": "markdown",
   "id": "78946cc6",
   "metadata": {},
   "source": [
    "### 확장 함수\n",
    "\n",
    "1. fun 클래스명.확장함수명(파라메터...): 리턴타입{ 구현 }\n",
    "nullable한 인스턴스도 받을 수 있는 확장함수의 선언\n",
    "fun 클래스명?.확장함수명(파라메터들): 리턴타입{ 구현 } \n",
    "\n",
    "2. 조상,자손간의 메서드 오버라이딩시 호출되는 메서드와 다름\n",
    "참조변수에 담긴 실제 인스턴스의 메서드가 호출되지 않고\n",
    "참조변수의 타입에 해당하는 메서드가 호출됨\n",
    "\n",
    "3. 확장함수의 시그니쳐에 해당하는 함수가 클래스의 멤버 메서드로 이미 존재하는 경우\n",
    "선언한 확장함수가 아닌 멤버 메서드가 호출됨\n",
    "다른 시그니쳐로 오버로딩에 해당하는 확장함수를 정의가능\n",
    "\n",
    "4.  Extension Function의 선언은 Top-level에서 하므로 패키지에 소속\n",
    "접근제한자가 어떻게 설정되냐에 따라 다른 파일에서 중복선언 가능여부가 달라짐\n",
    "\n",
    "5. Top-level선언이므로 Top-level property 처럼 \n",
    "다른 패키지에서 확장함수를 사용하려면 import문이 필요함\n",
    "\n",
    "6. 확장함수의 바디에서 this를 통해 receiver 객체를 사용할 수 있는데\n",
    "class의 각 프로퍼티,메서드의 접근제한자에 따라 접근가능한 것들이 다름\n",
    "\n",
    "7. 확장함수도 Top-level선언이므로 Top-level에 사용할 수 있는 접근제한자를 달 수 있다.\n",
    "\n"
   ]
  },
  {
   "cell_type": "markdown",
   "id": "7bd070f2",
   "metadata": {},
   "source": [
    "##  정수 확장 : 두 수의 위치변경 "
   ]
  },
  {
   "cell_type": "code",
   "execution_count": 2,
   "id": "be1910a7",
   "metadata": {},
   "outputs": [
    {
     "name": "stdout",
     "output_type": "stream",
     "text": [
      "(200, 100)\n",
      "(2차, 1차)\n"
     ]
    }
   ],
   "source": [
    "fun Int.swap(other: Int):Pair<Int,Int> {  //Pair클래스는 2개의 원소를 가진 튜플\n",
    "    var (first, second) = other to this   //튜플 구조분해로 변수교환\n",
    "    return first to second                // to 메소드 2개의 원소를 튜플\n",
    "}\n",
    "\n",
    "fun String.swap(other: String):Pair<String,String> {  //Pair클래스는 2개의 원소를 가진 튜플\n",
    "    var (first, second) = other to this              //튜플 구조분해로 변수교환\n",
    "    return first to second                           // to 메소드 2개의 원소를 튜플\n",
    "}\n",
    "\n",
    "\n",
    "println((100).swap(200))       \n",
    "println((\"1차\").swap(\"2차\"))"
   ]
  },
  {
   "cell_type": "code",
   "execution_count": null,
   "id": "a7547579",
   "metadata": {},
   "outputs": [],
   "source": []
  },
  {
   "cell_type": "markdown",
   "id": "c7401719",
   "metadata": {},
   "source": [
    "## 클래스 내부 멤버 확인 "
   ]
  },
  {
   "cell_type": "code",
   "execution_count": 3,
   "id": "9343cebd",
   "metadata": {},
   "outputs": [
    {
     "name": "stdout",
     "output_type": "stream",
     "text": [
      "29\n",
      "13\n",
      "34\n",
      "3\n"
     ]
    }
   ],
   "source": [
    "fun Any.dir() : Set<String> {\n",
    "    val a = this.javaClass.kotlin      // 내부 클래스 참조\n",
    "    //println(a.simpleName)\n",
    "    var ll = mutableListOf<String>()   //가변 빈리스트 생성\n",
    "    for (i in a.members) {             // 클래스 내의 멤버 조회\n",
    "        ll.add(i.name)\n",
    "    }\n",
    "    return ll.toSet()                  // 동일한 이름제거\n",
    "}\n",
    "\n",
    "val intM = (100).dir()\n",
    "println(intM.count())                  //집합에 들어온 멤버의 개수\n",
    "\n",
    "println((\"str\".dir().count()))         //문자열 내부의 멤버 개수\n",
    "println((listOf(1,2,3).dir().count())) //리스트 내부의 멤버 개수 \n",
    "\n",
    "class Person\n",
    "println(Person().dir().count())        //사용자정의 내부의 멤버 개수"
   ]
  },
  {
   "cell_type": "code",
   "execution_count": null,
   "id": "68b78f8e",
   "metadata": {},
   "outputs": [],
   "source": []
  },
  {
   "cell_type": "markdown",
   "id": "4d9a8d74",
   "metadata": {},
   "source": [
    "## this 키워드\n",
    "확장 함수의 구현부에서 receiver object를 this로 사용할 수 있다. this없이 recevier object의 멤버 사용가능\n",
    "\n",
    "그러나 확장함수 또한 클래스 외부에서 접근하는 것이므로 private인 멤버는 사용할 수 없다."
   ]
  },
  {
   "cell_type": "code",
   "execution_count": null,
   "id": "5792fef5",
   "metadata": {},
   "outputs": [],
   "source": []
  },
  {
   "cell_type": "code",
   "execution_count": 4,
   "id": "d35825c0",
   "metadata": {},
   "outputs": [
    {
     "name": "stdout",
     "output_type": "stream",
     "text": [
      "달문\n",
      "firstName\n",
      "달\n"
     ]
    }
   ],
   "source": [
    "class Person(val firstName : String,    // 2개의 속성 가지는 클래스\n",
    "             val lastName : String)\n",
    "\n",
    "val p = Person(\"달\", \"문\")\n",
    "\n",
    "fun Person.getName() = this.firstName + // 2개의 속성을 조회하는 확장함수\n",
    "                       this.lastName\n",
    "\n",
    "println(p.getName())\n",
    "println(p::firstName.name)              // 속성참조 후 속성명 조회\n",
    "println(p::firstName.get())             // 속성참조 후 속성값 조회"
   ]
  },
  {
   "cell_type": "code",
   "execution_count": null,
   "id": "788d62ef",
   "metadata": {},
   "outputs": [],
   "source": []
  },
  {
   "cell_type": "markdown",
   "id": "d56df9db",
   "metadata": {},
   "source": [
    "## Nullable receiver"
   ]
  },
  {
   "cell_type": "code",
   "execution_count": 5,
   "id": "97a2cb65",
   "metadata": {},
   "outputs": [
    {
     "name": "stdout",
     "output_type": "stream",
     "text": [
      "null\n"
     ]
    }
   ],
   "source": [
    "class Person1(val firstName : String,\n",
    "              val lastName : String)\n",
    "\n",
    "fun Person1?.getFullname() : String? {  // 널러블 자료형에 확장하기\n",
    "    if (this == null) { return null }   // 널 체크 처리\n",
    "    else {                              // 널이 아닐 경우만 속성 반환\n",
    "         return this.firstName + \n",
    "                this.lastName\n",
    "    }\n",
    "}\n",
    "\n",
    "var p1 = null                           // 널을 정의\n",
    "println(p1.getFullname())               // 널로 확장함수 호출하면 널로 바환"
   ]
  },
  {
   "cell_type": "code",
   "execution_count": null,
   "id": "6151d5ff",
   "metadata": {},
   "outputs": [],
   "source": []
  },
  {
   "cell_type": "markdown",
   "id": "b2b461f2",
   "metadata": {},
   "source": [
    "## object 함수 확장"
   ]
  },
  {
   "cell_type": "code",
   "execution_count": 6,
   "id": "ab63d17a",
   "metadata": {},
   "outputs": [
    {
     "name": "stdout",
     "output_type": "stream",
     "text": [
      "(200, 100)\n"
     ]
    }
   ],
   "source": [
    "object A \n",
    "\n",
    "fun A.swap(one :Int,                     // 두수 교환 확장함수\n",
    "           other:Int) : Pair<Int, Int> { // 반환은 튜플 \n",
    "    val (second, first) = one to other   // 튜플을 만들어서 구조분해\n",
    "    return first to second\n",
    "}\n",
    "\n",
    "println(A.swap(100,200))"
   ]
  },
  {
   "cell_type": "code",
   "execution_count": null,
   "id": "007cca04",
   "metadata": {},
   "outputs": [],
   "source": []
  },
  {
   "cell_type": "code",
   "execution_count": null,
   "id": "b4c4199e",
   "metadata": {},
   "outputs": [],
   "source": []
  },
  {
   "cell_type": "markdown",
   "id": "d4fe2b6c",
   "metadata": {},
   "source": [
    "## Companion object 함수 확장 "
   ]
  },
  {
   "cell_type": "code",
   "execution_count": 7,
   "id": "23b82097",
   "metadata": {},
   "outputs": [
    {
     "name": "stdout",
     "output_type": "stream",
     "text": [
      "dahlmoon\n",
      "dollmoon\n"
     ]
    }
   ],
   "source": [
    "class AA private constructor(val name:String){ // 접근불가 생성자 정의\n",
    "    companion object {\n",
    "        fun create(name : String) : AA {       // 컴패니언 객체에서 객체 생성\n",
    "            return AA(name)\n",
    "        }\n",
    "    }\n",
    "}\n",
    "\n",
    "fun AA.Companion.create2(name:String ) : AA { // 객체 생성 확장함수 \n",
    "    return this.create(name)                  // 접근불가 생성자 호출 대신 \n",
    "}                                             // 컴패니언 내의 생성자 메소드 호출 \n",
    "\n",
    "val aa = AA.create(\"dahlmoon\")\n",
    "println(aa.name)\n",
    "\n",
    "val aa2 = AA.create2(\"dollmoon\")\n",
    "println(aa2.name)"
   ]
  },
  {
   "cell_type": "code",
   "execution_count": null,
   "id": "f6ce528e",
   "metadata": {},
   "outputs": [],
   "source": []
  },
  {
   "cell_type": "markdown",
   "id": "4135cd3c",
   "metadata": {},
   "source": [
    "##  확장 함수보다 더 내부에 작성된 경우에는 한정된 this(this@함수명을 사용해서 처리) "
   ]
  },
  {
   "cell_type": "code",
   "execution_count": null,
   "id": "4a0b150d",
   "metadata": {},
   "outputs": [],
   "source": []
  },
  {
   "cell_type": "code",
   "execution_count": 8,
   "id": "0d3d22f9",
   "metadata": {},
   "outputs": [
    {
     "name": "stdout",
     "output_type": "stream",
     "text": [
      "문자열짜\n",
      "문자열짜르\n"
     ]
    }
   ],
   "source": [
    "fun String.truncator1(max:Int):String {                    // 문자열 짜릐기 확장함수 작성 \n",
    "    if (length <= max) return this                         // 길이가 작으면 확장함수의 리시버 객체 처리\n",
    "    else return this.substring(0,max)                      // 길이가 크면 문자열 짜르기\n",
    "}\n",
    "\n",
    "println(\"문자열짜르기\".truncator1(4))                         // 문자열 짜르기 처리 \n",
    "\n",
    "interface Actable {                                        // 인터페이스 작성 \n",
    "    fun action(max:Int) : String                           // 추상메소드 작성 \n",
    "}\n",
    "\n",
    "fun String.truncator2(max:Int):String {                     // 확장함수 정의 \n",
    "    val aaa = object : Actable {                            // object 표현식으로 객체 생성 \n",
    "        override fun action(max:Int) : String {             // objcet 객체가 this\n",
    "            if (length <= max) return this@truncator2       // 외부의 객체 참조 this@리시버함수명\n",
    "            else return this@truncator2.substring(0,max)    // 외부의 객체 참조  \n",
    "        }\n",
    "    }\n",
    "    return aaa.action(max)                                  // object 표현식의 메소드 실행\n",
    "}\n",
    "\n",
    "println(\"문자열짜르기\".truncator2(5))                           // 문자열 짜르기 실행"
   ]
  },
  {
   "cell_type": "code",
   "execution_count": null,
   "id": "7570c30a",
   "metadata": {},
   "outputs": [],
   "source": []
  },
  {
   "cell_type": "markdown",
   "id": "ec2a45b6",
   "metadata": {},
   "source": [
    "\n",
    "## 확장함수를 객체로 처리할 경우 "
   ]
  },
  {
   "cell_type": "code",
   "execution_count": 9,
   "id": "c5ce90a9",
   "metadata": {},
   "outputs": [
    {
     "name": "stdout",
     "output_type": "stream",
     "text": [
      "문자열 \n",
      "문자열 처리\n"
     ]
    }
   ],
   "source": [
    "interface This {                                               // 인터페이스 작성        \n",
    "    val truncated :String                                      // 추상 속성 정의 \n",
    "    fun getStr() : String                                      // 추상메소드 정의\n",
    "}\n",
    "\n",
    "\n",
    "fun String.truncator(max:Int) = object : This {                // 학장함수에 object 표현식 할당 \n",
    "                                                               // 현재 객체는 object 표현식\n",
    "    override val truncated                                     // 추상속성 구현해서 문자열 짜르기 처리\n",
    "        get() = if (length <= max) this@truncator              // 확장함수의 리시버 객체는 this@확장함수명  \n",
    "                  else this@truncator.substring(0,max)\n",
    "        \n",
    "    override fun getStr() = this@truncator                     // 문자열값 보관 \n",
    "}\n",
    "\n",
    "val trunc = \"문자열 처리\".truncator(4)                            // 문자열 확장함수 처리 \n",
    "\n",
    "println(trunc.truncated)                                       // 문자열의 object 표현식의 속성 참조\n",
    "println(trunc.getStr())                                        // 메소드 처리 "
   ]
  },
  {
   "cell_type": "code",
   "execution_count": null,
   "id": "d73705b4",
   "metadata": {},
   "outputs": [],
   "source": []
  },
  {
   "cell_type": "markdown",
   "id": "aa07c9af",
   "metadata": {},
   "source": [
    "## 클래스 내부의 확장함수 범위"
   ]
  },
  {
   "cell_type": "code",
   "execution_count": 10,
   "id": "02b9ab1f",
   "metadata": {},
   "outputs": [
    {
     "name": "stdout",
     "output_type": "stream",
     "text": [
      "HelloHelloHello\n"
     ]
    }
   ],
   "source": [
    "class Extension(var name:String, val n : Int) {          // 클래스 정의 \n",
    "    fun String.product(x:Int) = this.repeat(x)           // 문자열 확장함수  정의\n",
    "    \n",
    "    fun query() = name.product(n)                        // 확장함수를 랩핑한 메소드 정의\n",
    "}\n",
    "\n",
    "val e = Extension(\"Hello\", 3)                            // 객체 생성 \n",
    "\n",
    "println(e.query())                                       // 문자열 반복 처리\n",
    "\n",
    "// println(\"world\".product(3))                           // 클래스 외부에서 확장함수 사용불가\n"
   ]
  },
  {
   "cell_type": "code",
   "execution_count": null,
   "id": "e9621767",
   "metadata": {},
   "outputs": [],
   "source": []
  }
 ],
 "metadata": {
  "kernelspec": {
   "display_name": "Kotlin",
   "language": "kotlin",
   "name": "kotlin"
  },
  "language_info": {
   "codemirror_mode": "text/x-kotlin",
   "file_extension": ".kt",
   "mimetype": "text/x-kotlin",
   "name": "kotlin",
   "nbconvert_exporter": "",
   "pygments_lexer": "kotlin",
   "version": "1.8.0-dev-3517"
  }
 },
 "nbformat": 4,
 "nbformat_minor": 5
}
