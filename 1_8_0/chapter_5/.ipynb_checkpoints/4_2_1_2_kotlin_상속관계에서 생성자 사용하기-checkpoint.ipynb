{
 "cells": [
  {
   "cell_type": "code",
   "execution_count": null,
   "id": "ddc157c8",
   "metadata": {},
   "outputs": [],
   "source": []
  },
  {
   "cell_type": "code",
   "execution_count": 1,
   "id": "7ec8eb8c",
   "metadata": {},
   "outputs": [
    {
     "data": {
      "text/plain": [
       "1.8.0"
      ]
     },
     "execution_count": 1,
     "metadata": {},
     "output_type": "execute_result"
    }
   ],
   "source": [
    "KotlinVersion.CURRENT             // 코틀린 현재 버전 "
   ]
  },
  {
   "cell_type": "code",
   "execution_count": null,
   "id": "67a0b143",
   "metadata": {},
   "outputs": [],
   "source": []
  },
  {
   "cell_type": "markdown",
   "id": "83189ed7",
   "metadata": {},
   "source": [
    "##  부생성자로 상위 클래스 초기화하기"
   ]
  },
  {
   "cell_type": "markdown",
   "id": "3f0f9850",
   "metadata": {},
   "source": [
    "## 주생서자간의 연결 "
   ]
  },
  {
   "cell_type": "code",
   "execution_count": 2,
   "id": "7ff4c8dc",
   "metadata": {},
   "outputs": [
    {
     "name": "stdout",
     "output_type": "stream",
     "text": [
      " 종 : 개 세부종 : 푸들\n"
     ]
    }
   ],
   "source": [
    "open class Animal(val species : String)                     // 수퍼클래스 주생성자\n",
    "\n",
    "class Pet(species: String,                                  // 서브클래스 주생성자\n",
    "          val subSpecies: String) : Animal(species) {       // 수퍼클래스 위임호출\n",
    "    \n",
    "    constructor (species: String,                           // 서브클래스 부생성자\n",
    "                 subSpecies : String, \n",
    "                 age:Int) : this(species,subSpecies)        // 서브클래스 주생성자\n",
    "}\n",
    "\n",
    "\n",
    "val pet = Pet(\"개\",\"푸들\",4)                                  // 객체 생성\n",
    "\n",
    "println(\" 종 : ${pet.species} 세부종 : ${pet.subSpecies}\" )   //  속성 출력"
   ]
  },
  {
   "cell_type": "code",
   "execution_count": null,
   "id": "b41673b1",
   "metadata": {},
   "outputs": [],
   "source": []
  },
  {
   "cell_type": "markdown",
   "id": "af12979a",
   "metadata": {},
   "source": [
    "## 보조 생성자간의 연결 "
   ]
  },
  {
   "cell_type": "code",
   "execution_count": 3,
   "id": "734a307d",
   "metadata": {},
   "outputs": [
    {
     "name": "stdout",
     "output_type": "stream",
     "text": [
      " 생성자 호출 순서 1 : \n",
      "수퍼클래스 보조생성자 1 실행 \n",
      "서브클래스 보조생성자 1 실행 \n",
      " 생성자 호출 순서 2 : \n",
      "수퍼클래스 보조생성자 1 실행 \n",
      "수퍼클래스 보조생성자 2 실행 \n",
      "서브클래스 보조생성자 2 실행 \n"
     ]
    }
   ],
   "source": [
    "open class Person {\n",
    "    val name : String\n",
    "    var gender : String = \"여성\" \n",
    "    constructor(name: String) {                           // 첫번째 보조생성자\n",
    "        this.name = name\n",
    "        println(\"수퍼클래스 보조생성자 1 실행 \")  \n",
    "    }\n",
    "    constructor(name: String, gender : String) : \n",
    "                                    this(name) {          // 기존 보조생성자를 위임호출\n",
    "        this.gender = gender\n",
    "        println(\"수퍼클래스 보조생성자 2 실행 \")  \n",
    "    }\n",
    "}\n",
    "\n",
    "class Student: Person {\n",
    "    var age : Int = 0 \n",
    "    constructor(name: String, age :Int): \n",
    "                                   super(name) {          // 수퍼클래스 생성자를 위임호출\n",
    "        this.age = age\n",
    "        println(\"서브클래스 보조생성자 1 실행 \")                                    \n",
    "    }\n",
    "    constructor(name: String, gender: String , age:Int): \n",
    "                                   super(name, gender) {  // 수퍼클래스의 생성자를 위임호출\n",
    "        this.age = age\n",
    "        println(\"서브클래스 보조생성자 2 실행 \")\n",
    "    }\n",
    "}\n",
    "println(\" 생성자 호출 순서 1 : \")\n",
    "val s1 = Student(\"최혜원\", 45)\n",
    "println(\" 생성자 호출 순서 2 : \")\n",
    "val s2 = Student(\"황후순\",\"남성\",45 )"
   ]
  },
  {
   "cell_type": "code",
   "execution_count": null,
   "id": "6f5ad4eb",
   "metadata": {},
   "outputs": [],
   "source": []
  },
  {
   "cell_type": "code",
   "execution_count": null,
   "id": "07037991",
   "metadata": {},
   "outputs": [],
   "source": []
  }
 ],
 "metadata": {
  "kernelspec": {
   "display_name": "Kotlin",
   "language": "kotlin",
   "name": "kotlin"
  },
  "language_info": {
   "codemirror_mode": "text/x-kotlin",
   "file_extension": ".kt",
   "mimetype": "text/x-kotlin",
   "name": "kotlin",
   "nbconvert_exporter": "",
   "pygments_lexer": "kotlin",
   "version": "1.8.0-dev-3517"
  }
 },
 "nbformat": 4,
 "nbformat_minor": 5
}
