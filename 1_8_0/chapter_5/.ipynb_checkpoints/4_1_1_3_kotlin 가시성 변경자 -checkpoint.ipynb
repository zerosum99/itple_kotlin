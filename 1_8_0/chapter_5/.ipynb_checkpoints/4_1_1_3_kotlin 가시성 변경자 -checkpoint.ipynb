{
 "cells": [
  {
   "cell_type": "code",
   "execution_count": null,
   "id": "83a58bcb",
   "metadata": {},
   "outputs": [],
   "source": []
  },
  {
   "cell_type": "code",
   "execution_count": 1,
   "id": "2b9f8bcc",
   "metadata": {},
   "outputs": [
    {
     "data": {
      "text/plain": [
       "1.8.0"
      ]
     },
     "execution_count": 1,
     "metadata": {},
     "output_type": "execute_result"
    }
   ],
   "source": [
    "KotlinVersion.CURRENT             // 코틀린 현재 버전 "
   ]
  },
  {
   "cell_type": "code",
   "execution_count": null,
   "id": "63356299",
   "metadata": {},
   "outputs": [],
   "source": []
  },
  {
   "cell_type": "markdown",
   "id": "3dfe7ed5",
   "metadata": {},
   "source": [
    "## 1.  멤버 가시성 Visibility modifiers\n"
   ]
  },
  {
   "cell_type": "markdown",
   "id": "78333757",
   "metadata": {},
   "source": [
    "## 최상위 프로퍼티와 최상위 함수 "
   ]
  },
  {
   "cell_type": "code",
   "execution_count": 2,
   "id": "c854ef8c",
   "metadata": {},
   "outputs": [
    {
     "name": "stdout",
     "output_type": "stream",
     "text": [
      "bar\n",
      "5\n",
      "5\n"
     ]
    }
   ],
   "source": [
    "//package foo               // 주피터 노트북에서는 패키지 처리가 안됨 \n",
    "\n",
    "//private fun foo() {       // 비공개  가시성 함수는 파일 내부에서만 호출 \n",
    "//    println(\"foo\")        // 주피터노트북에서 예외발생해서 공개로 표시\n",
    "//} \n",
    "                            // protected는 최상위 레벨에서 정의 불가\n",
    "fun bar() {                 // 공개 가시성 함수                 \n",
    "    println(\"bar\")\n",
    "}\n",
    "\n",
    "public var bar: Int = 5     // 공개 가시성 프로퍼티는 어디에서나 다 가능 \n",
    "    private set             // 단 갱신이 setter인 경우는 파일 내부에서만 가능\n",
    "\n",
    "internal val baz = 6        // 모듈 가시성 프로퍼티는 모듈단위에서 접근 가능\n",
    "\n",
    "bar()\n",
    "println(bar)\n",
    "println(bar)"
   ]
  },
  {
   "cell_type": "code",
   "execution_count": null,
   "id": "9ddc4396",
   "metadata": {},
   "outputs": [],
   "source": []
  },
  {
   "cell_type": "markdown",
   "id": "d17a8d93",
   "metadata": {},
   "source": [
    "## 클래스 멤버"
   ]
  },
  {
   "cell_type": "code",
   "execution_count": 3,
   "id": "555d9174",
   "metadata": {},
   "outputs": [
    {
     "name": "stdout",
     "output_type": "stream",
     "text": [
      "7\n",
      "4\n"
     ]
    }
   ],
   "source": [
    "open class Super {\n",
    "    private val a = 1           // 비공개 가시성속성 \n",
    "    protected open val b = 2    // 상속 가시성 속성 \n",
    "    internal open val c = 3     // 모듈 가시성 속성 \n",
    "    val d = 4                   // 공개 가시성 속성\n",
    "\n",
    "    protected class Nested {    // 상속 내부 클래스 \n",
    "        public val e: Int = 5\n",
    "    }\n",
    "}\n",
    "class Subclass : Super() {\n",
    "                                  // 비공개 속성 a는 사용할 수 없다.\n",
    "    override val b = 5            // 상속 속성 b 사용\n",
    "    override val c = 7            // 모듈 속성 c tkdyd \n",
    "}\n",
    "class Composition(val o: Super) {\n",
    "                                  \n",
    "     fun display() { \n",
    "         println(o.c)             // 모듈 가시성 사용가능\n",
    "         println(o.d)             // 공개 속성 사용가능 \n",
    "     }                           \n",
    "                                  \n",
    "}\n",
    "\n",
    "val s = Subclass()\n",
    "val u = Composition(s)\n",
    "u.display()"
   ]
  },
  {
   "cell_type": "code",
   "execution_count": null,
   "id": "e7e1170f",
   "metadata": {},
   "outputs": [],
   "source": []
  },
  {
   "cell_type": "markdown",
   "id": "fbfab0e1",
   "metadata": {},
   "source": [
    "## 생성자"
   ]
  },
  {
   "cell_type": "code",
   "execution_count": 4,
   "id": "6c9b8f16",
   "metadata": {},
   "outputs": [
    {
     "name": "stdout",
     "output_type": "stream",
     "text": [
      "100\n"
     ]
    }
   ],
   "source": [
    "class C private constructor(val a: Int) { // 비공개 생성자\n",
    "    companion object {\n",
    "        \n",
    "        private val bar = 100             // 컴패니언 객체 내의 비공개 속성\n",
    "        fun create(x : Int) : C {         // 컴패니언 객체 내에서 생성자 메소드로 정의해서 처리\n",
    "            return  C(x)   \n",
    "        }\n",
    "        fun getBar() = bar                // 공개 메소드로 조회\n",
    "    }\n",
    "    \n",
    "    fun foo() = getBar()                  // 컴패니언 객체의 비공개 속성의 결과를 조회\n",
    "}\n",
    "\n",
    "val c = C.create(200)\n",
    "println(c.foo())"
   ]
  },
  {
   "cell_type": "code",
   "execution_count": null,
   "id": "c6b377f1",
   "metadata": {},
   "outputs": [],
   "source": []
  }
 ],
 "metadata": {
  "kernelspec": {
   "display_name": "Kotlin",
   "language": "kotlin",
   "name": "kotlin"
  },
  "language_info": {
   "codemirror_mode": "text/x-kotlin",
   "file_extension": ".kt",
   "mimetype": "text/x-kotlin",
   "name": "kotlin",
   "nbconvert_exporter": "",
   "pygments_lexer": "kotlin",
   "version": "1.8.0-dev-3517"
  }
 },
 "nbformat": 4,
 "nbformat_minor": 5
}
