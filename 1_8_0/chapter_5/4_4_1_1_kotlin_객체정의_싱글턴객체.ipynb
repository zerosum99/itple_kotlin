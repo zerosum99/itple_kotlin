{
 "cells": [
  {
   "cell_type": "code",
   "execution_count": null,
   "id": "f43b0223",
   "metadata": {},
   "outputs": [],
   "source": []
  },
  {
   "cell_type": "code",
   "execution_count": 1,
   "id": "957acc15",
   "metadata": {},
   "outputs": [
    {
     "data": {
      "text/plain": [
       "1.8.0"
      ]
     },
     "execution_count": 1,
     "metadata": {},
     "output_type": "execute_result"
    }
   ],
   "source": [
    "KotlinVersion.CURRENT             // 코틀린 현재 버전 "
   ]
  },
  {
   "cell_type": "code",
   "execution_count": null,
   "id": "a1d1c700",
   "metadata": {},
   "outputs": [],
   "source": []
  },
  {
   "cell_type": "markdown",
   "id": "66715e85",
   "metadata": {},
   "source": [
    "# 2. 객체 정의"
   ]
  },
  {
   "cell_type": "markdown",
   "id": "5102900d",
   "metadata": {},
   "source": [
    "## 객체선언 후 내부 속성 처리"
   ]
  },
  {
   "cell_type": "code",
   "execution_count": 2,
   "id": "9028b661",
   "metadata": {},
   "outputs": [
    {
     "name": "stdout",
     "output_type": "stream",
     "text": [
      "1\n"
     ]
    }
   ],
   "source": [
    "object Counter {\n",
    "    private var count: Int = 0    // 비공개 속성 정의\n",
    "\n",
    "    fun currentCount() = count    // 비공개 속성 조회\n",
    "\n",
    "    fun increment() = ++count     // 비공개 속성 갱신\n",
    "}\n",
    "Counter.increment()\n",
    "println(Counter.currentCount())\n"
   ]
  },
  {
   "cell_type": "code",
   "execution_count": null,
   "id": "b3b30f5c",
   "metadata": {},
   "outputs": [],
   "source": []
  },
  {
   "cell_type": "markdown",
   "id": "187b006b",
   "metadata": {},
   "source": [
    "## 클래스 상속하고 객체 처리"
   ]
  },
  {
   "cell_type": "code",
   "execution_count": 3,
   "id": "00006eb8",
   "metadata": {},
   "outputs": [
    {
     "name": "stdout",
     "output_type": "stream",
     "text": [
      "300\n",
      "-100\n",
      "20000\n",
      "0\n"
     ]
    }
   ],
   "source": [
    "open class Value(open val x:Int, open val y:Int)  // 베이스 클래스 정의 open\n",
    "\n",
    "object Operation : Value(100,200) {               // 객체에서 베이스 클래스 상속\n",
    "    override val x = super.x                      // 속성을 오버라이딩 처리\n",
    "    override val y = super.y\n",
    "    \n",
    "    fun add() = x + y                             // 사칙연산 메소드 처리\n",
    "    fun sub() = x - y\n",
    "    fun mul() = x * y\n",
    "    fun div() = x / y\n",
    "}\n",
    "\n",
    "println(Operation.add())\n",
    "println(Operation.sub())\n",
    "println(Operation.mul())\n",
    "println(Operation.div())"
   ]
  },
  {
   "cell_type": "code",
   "execution_count": null,
   "id": "9f18100c",
   "metadata": {},
   "outputs": [],
   "source": []
  },
  {
   "cell_type": "markdown",
   "id": "247fe274",
   "metadata": {},
   "source": [
    "## 인터페이스 구현  처리  "
   ]
  },
  {
   "cell_type": "code",
   "execution_count": 4,
   "id": "70e7a316",
   "metadata": {},
   "outputs": [
    {
     "name": "stdout",
     "output_type": "stream",
     "text": [
      "음식먹기.\n",
      "대화하기.\n",
      "기도하기.\n"
     ]
    }
   ],
   "source": [
    "interface Actionable {           // 인터페이스 정의 \n",
    "    fun eat(): Unit \n",
    "    fun talk() : Unit\n",
    "    fun pray() : Unit\n",
    "}\n",
    "\n",
    "object Action : Actionable {     // 인터페이스 구현\n",
    "    override fun eat() = println(\"음식먹기.\")\n",
    "    override fun talk() = println(\"대화하기.\")\n",
    "    override fun pray() = println(\"기도하기.\")\n",
    "}\n",
    "\n",
    "Action.eat()\n",
    "Action.talk()\n",
    "Action.pray()"
   ]
  },
  {
   "cell_type": "code",
   "execution_count": null,
   "id": "480a425d",
   "metadata": {},
   "outputs": [],
   "source": []
  },
  {
   "cell_type": "markdown",
   "id": "667bdc34",
   "metadata": {},
   "source": [
    "## 내포된 객체 처리"
   ]
  },
  {
   "cell_type": "code",
   "execution_count": 5,
   "id": "efed9b88",
   "metadata": {},
   "outputs": [
    {
     "name": "stdout",
     "output_type": "stream",
     "text": [
      "bar \n",
      "이름 = 남궁성 나이 = 50\n",
      "이름 = 남궁성 나이 = 50\n"
     ]
    }
   ],
   "source": [
    "class Person(val name : String, val age :Int ) {\n",
    "    \n",
    "    object Inner {\n",
    "        fun foo() = \"bar \"                       // 내포된 object 메소드\n",
    "        fun getPerson(p: Person) = p.info()      // 내포된 object 에서 외부 클래스의 객체를 전달을 받아 처리       \n",
    "        fun create(name:String, age:Int)  = \n",
    "                              Person(name, age)  // 외부 클래스의 객체 생성\n",
    "    }\n",
    "    \n",
    "    fun info() = \"이름 = $name 나이 = $age\"        // 객체의 속성 출력\n",
    "}\n",
    "\n",
    "println(Person.Inner.foo())                      // 클래스 이름으로만 내포 객체 접근가능\n",
    "val p = Person.Inner.create(\"남궁성\", 50)\n",
    "println(p.info())          \n",
    "println(Person.Inner.getPerson(p))"
   ]
  },
  {
   "cell_type": "code",
   "execution_count": null,
   "id": "6bcc20b0",
   "metadata": {},
   "outputs": [],
   "source": []
  },
  {
   "cell_type": "code",
   "execution_count": null,
   "id": "15e8697b",
   "metadata": {},
   "outputs": [],
   "source": []
  }
 ],
 "metadata": {
  "kernelspec": {
   "display_name": "Kotlin",
   "language": "kotlin",
   "name": "kotlin"
  },
  "language_info": {
   "codemirror_mode": "text/x-kotlin",
   "file_extension": ".kt",
   "mimetype": "text/x-kotlin",
   "name": "kotlin",
   "nbconvert_exporter": "",
   "pygments_lexer": "kotlin",
   "version": "1.8.0-dev-3517"
  }
 },
 "nbformat": 4,
 "nbformat_minor": 5
}
