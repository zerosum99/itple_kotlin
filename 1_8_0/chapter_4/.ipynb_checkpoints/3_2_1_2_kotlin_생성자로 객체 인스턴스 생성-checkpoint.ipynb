{
 "cells": [
  {
   "cell_type": "markdown",
   "id": "3dfe7ed5",
   "metadata": {},
   "source": [
    "## 1.  객체인스턴스 생성 \n"
   ]
  },
  {
   "cell_type": "code",
   "execution_count": 1,
   "id": "a393cd0f",
   "metadata": {},
   "outputs": [
    {
     "name": "stdout",
     "output_type": "stream",
     "text": [
      "아프리카\n",
      "아프리카\n",
      "사우디 33\n"
     ]
    }
   ],
   "source": [
    "class Person (name:String, age:Int) {       // 주생성자의 매개변수 지정\n",
    "    val name = name                         // 프로퍼티 선언 및 매개변수로 초기화\n",
    "    var age = age\n",
    "}\n",
    "\n",
    "class People(val name:String, val age:Int)  // 본문이 프로퍼티를 주생성자에 표시\n",
    "\n",
    "val c = Person(\"아프리카\", 33)                // 객체 인스턴스 생성\n",
    "val d = c                                   // 객체 인스턴스 연결 : 동일한 객체\n",
    " \n",
    "println(d.name)                             // 프로퍼티 출력\n",
    "println(c.name)\n",
    "\n",
    "val p = People(\"사우디\", 33)                  // 객체 인스턴스 생성 \n",
    "println(p.name + \" \" + p.age)"
   ]
  },
  {
   "cell_type": "code",
   "execution_count": null,
   "id": "594cf73d",
   "metadata": {},
   "outputs": [],
   "source": []
  },
  {
   "cell_type": "markdown",
   "id": "3de92f91",
   "metadata": {},
   "source": [
    "# 2. 초기화 블럭 "
   ]
  },
  {
   "cell_type": "code",
   "execution_count": 2,
   "id": "bc344efb",
   "metadata": {},
   "outputs": [
    {
     "name": "stdout",
     "output_type": "stream",
     "text": [
      " 주생성자와 같이 실행 \n",
      "윤돌 20\n"
     ]
    }
   ],
   "source": [
    "class Init(name : String, age : Int) {\n",
    "    var name : String = \"\"\n",
    "    var age : Int = 0\n",
    "    init {                               // 초기화 블럭 정의\n",
    "        this.name = name                 // 초기화 블럭에서는 생성자의 매개변수 사용가능\n",
    "        this.age = age                   // 프로퍼티 이름앞에 this로 현재 객체 표시\n",
    "        println(\" 주생성자와 같이 실행 \")\n",
    "    }\n",
    "}\n",
    "\n",
    "val i = Init(\"윤돌\", 20)\n",
    "println(i.name + \" \" + i.age)"
   ]
  },
  {
   "cell_type": "code",
   "execution_count": null,
   "id": "01e8d5e5",
   "metadata": {},
   "outputs": [],
   "source": []
  },
  {
   "cell_type": "markdown",
   "id": "8c46d3f1",
   "metadata": {},
   "source": [
    "# 3. 생성자 없는 클래스"
   ]
  },
  {
   "cell_type": "code",
   "execution_count": 3,
   "id": "56001672",
   "metadata": {},
   "outputs": [
    {
     "name": "stdout",
     "output_type": "stream",
     "text": [
      "초기화 처리\n",
      "후순봇 123\n",
      "초기화 처리\n",
      "후순봇 123\n"
     ]
    }
   ],
   "source": [
    "class NoConstructor  {\n",
    "    val phoneNo : Int = 123         // 내부속성\n",
    "    val name : String = \"후순봇\"\n",
    "    var job : String = \"\"                                  \n",
    "    var etc : String = \"\"\n",
    "    init {                          // 초기화 블럭은 객체 생성할 때마다 처리됨\n",
    "       println(\"초기화 처리\")\n",
    "    }                                                  \n",
    "}\n",
    "\n",
    "val pno = NoConstructor()                  // 객체 인스턴스 생성\n",
    "println(pno.name + \" \" + pno.phoneNo)\n",
    "\n",
    "val pno1 = NoConstructor()                 // 객체 인스턴스 생성\n",
    "println(pno1.name + \" \" + pno1.phoneNo)"
   ]
  },
  {
   "cell_type": "code",
   "execution_count": null,
   "id": "32ddd3cf",
   "metadata": {},
   "outputs": [],
   "source": []
  },
  {
   "cell_type": "markdown",
   "id": "9ec10909",
   "metadata": {},
   "source": [
    "# 4. 생성자 있는 클래스"
   ]
  },
  {
   "cell_type": "code",
   "execution_count": 5,
   "id": "6f5933ec",
   "metadata": {},
   "outputs": [
    {
     "name": "stdout",
     "output_type": "stream",
     "text": [
      "이재명 33\n",
      "노재명 55\n"
     ]
    }
   ],
   "source": [
    "class User {               \n",
    "    var name=\"\"                           // 두 개의 프로퍼티 정의\n",
    "    var age=0\n",
    "                                           // 보조생성자 정의 및 프로퍼티 초기화\n",
    "    constructor(name : String,age :Int) {\n",
    "        this.age=age\n",
    "        this.name = name\n",
    "    }\n",
    "}\n",
    "\n",
    "val p1 = User(\"이재명\",33)                  // 보조생성자로 객체 인스턴스 생성\n",
    "println(p1.name + \" \" + p1.age)\n",
    "\n",
    "val p2 = User(\"노재명\", 55)                //  보조생성자로 객체 인스턴스 생성\n",
    "println(p2.name + \" \" + p2.age)\n"
   ]
  },
  {
   "cell_type": "code",
   "execution_count": null,
   "id": "c1b72b7a",
   "metadata": {},
   "outputs": [],
   "source": []
  },
  {
   "cell_type": "code",
   "execution_count": 4,
   "id": "87b679fb",
   "metadata": {},
   "outputs": [
    {
     "name": "stdout",
     "output_type": "stream",
     "text": [
      "이재명 0\n",
      "노재명 55\n"
     ]
    }
   ],
   "source": [
    "class Person(name: String){               // 주생성자는 매개변수로만 정의\n",
    "    var name=\"\"                           // 두 개의 프로퍼티 정의\n",
    "    var age=0\n",
    "    \n",
    "    init { this.name = name}               // 주생성자의 프로퍼티를 초기화\n",
    "                                           // 보조생성자 정의 및 프로퍼티 초기화\n",
    "    constructor(age :Int,name : String)  : this(name){\n",
    "        this.age=age\n",
    "    }\n",
    "}\n",
    "\n",
    "val p1 = Person(\"이재명\")                    // 주생성자로 객체 인스턴스 생성\n",
    "println(p1.name + \" \" + p1.age)\n",
    "\n",
    "val p2 = Person(\"노재명\", 55)                //  보조생성자로 객체 인스턴스 생성\n",
    "println(p2.name + \" \" + p2.age)\n"
   ]
  },
  {
   "cell_type": "code",
   "execution_count": null,
   "id": "6b016ffd",
   "metadata": {},
   "outputs": [],
   "source": []
  },
  {
   "cell_type": "code",
   "execution_count": 8,
   "id": "7ba8c704",
   "metadata": {},
   "outputs": [
    {
     "name": "stdout",
     "output_type": "stream",
     "text": [
      "은옥주 54\n",
      "민은주 26\n"
     ]
    }
   ],
   "source": [
    "class People(var name: String, var age : Int) // 주생성자만 정의\n",
    "\n",
    "val p1 = People(\"은옥주\", 54)                   // 주생성자로 객체 인스턴스 생성\n",
    "println(p1.name + \" \" + p1.age)\n",
    " \n",
    "val p2 = People(\"민은주\", 26)                   //  주생성자로 객체 인스턴스 생성\n",
    "println(p2.name + \" \" + p2.age)\n"
   ]
  },
  {
   "cell_type": "code",
   "execution_count": null,
   "id": "d37eb677",
   "metadata": {},
   "outputs": [],
   "source": []
  },
  {
   "cell_type": "markdown",
   "id": "cea0f422",
   "metadata": {},
   "source": [
    "# 5. 보조생성자 오버로딩"
   ]
  },
  {
   "cell_type": "code",
   "execution_count": 6,
   "id": "6a63fb82",
   "metadata": {},
   "outputs": [
    {
     "name": "stdout",
     "output_type": "stream",
     "text": [
      "초기화 처리\n",
      "우남영 1234\n",
      "초기화 처리\n",
      "좌남영 12345\n"
     ]
    }
   ],
   "source": [
    "class PhoneNote (val phoneNo : Int, val name : String) {\n",
    "\n",
    "    var job : String = \"\"                                  // 추가 프로퍼티 정의\n",
    "    var etc : String = \"\"\n",
    "    init {\n",
    "       println(\"초기화 처리\")\n",
    "    }                                                      // 보조생서자 오버로딩 : 매개변수 다른 2개 정의\n",
    "                                                           // 보조생성자 중에 하나는 주 생성자 호출\n",
    "    constructor(phoneNo : Int, name : String, job : String) : this(phoneNo, name) {\n",
    "        this.job = job\n",
    "    }\n",
    "                                                           // 두번째 보조생성자는 첫번째 보조생성자 호출\n",
    "    constructor(phoneNo : Int, name : String, job : String,etc :String) : this(phoneNo, name,job) {\n",
    "        this.etc = etc\n",
    "    }\n",
    "}\n",
    "\n",
    "val pno1 = PhoneNote(1234,\"우남영\",\"디자이너\",\"미인임\")       // 매개변수가 4개인 보조생성자 호출\n",
    "println(pno1.name + \" \" + pno1.phoneNo)\n",
    "\n",
    "val pno2 = PhoneNote(12345,\"좌남영\",\"프로그래머\")            // 매개변수가 3개인 보조생성자 호출\n",
    "println(pno2.name + \" \" + pno2.phoneNo)"
   ]
  },
  {
   "cell_type": "markdown",
   "id": "c9f9be4d",
   "metadata": {},
   "source": [
    "##  보조생성자 오버로딩을 초기값을 부여해서 처리 가능"
   ]
  },
  {
   "cell_type": "code",
   "execution_count": 7,
   "id": "67e81d3f",
   "metadata": {},
   "outputs": [
    {
     "name": "stdout",
     "output_type": "stream",
     "text": [
      "초기화 처리\n",
      "소슬비 1234\n",
      "초기화 처리\n",
      "김유민 12345\n"
     ]
    }
   ],
   "source": [
    "class PhoneNote (val phoneNo : Int, val name : String) {\n",
    "\n",
    "    var job : String = \"\"                                  // 추가 프로퍼티 정의\n",
    "    var etc : String = \"\"\n",
    "    init {\n",
    "       println(\"초기화 처리\")\n",
    "    }                                                      // 보조생성자 오버로딩을 없애기 위해 초기값 지정\n",
    "                                                           // 보조생성자에서 주생성자 호출\n",
    "    constructor(phoneNo : Int, name : String, job : String,etc :String=\"\") : this(phoneNo, name) {\n",
    "        this.job = job\n",
    "        this.etc = etc\n",
    "    }\n",
    "}\n",
    "\n",
    "val pno1 = PhoneNote(1234,\"소슬비\",\"디자이너\",\"미인임\")       // 매개변수가 4개인 보조생성자 호출\n",
    "println(pno1.name + \" \" + pno1.phoneNo)\n",
    "\n",
    "val pno2 = PhoneNote(12345,\"김유민\",\"프로그래머\")            // 매개변수가 4개인 보조생성자 호출\n",
    "println(pno2.name + \" \" + pno2.phoneNo)"
   ]
  },
  {
   "cell_type": "code",
   "execution_count": null,
   "id": "47dce402",
   "metadata": {},
   "outputs": [],
   "source": []
  }
 ],
 "metadata": {
  "kernelspec": {
   "display_name": "Kotlin",
   "language": "kotlin",
   "name": "kotlin"
  },
  "language_info": {
   "codemirror_mode": "text/x-kotlin",
   "file_extension": ".kt",
   "mimetype": "text/x-kotlin",
   "name": "kotlin",
   "nbconvert_exporter": "",
   "pygments_lexer": "kotlin",
   "version": "1.6.0-dev-3567"
  }
 },
 "nbformat": 4,
 "nbformat_minor": 5
}
