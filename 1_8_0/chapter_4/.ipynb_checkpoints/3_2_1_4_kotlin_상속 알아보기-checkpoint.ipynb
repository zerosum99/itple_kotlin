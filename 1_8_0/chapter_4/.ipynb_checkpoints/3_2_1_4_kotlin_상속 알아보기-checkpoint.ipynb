{
 "cells": [
  {
   "cell_type": "markdown",
   "id": "3dfe7ed5",
   "metadata": {},
   "source": [
    "##  상속알아보기\n"
   ]
  },
  {
   "cell_type": "code",
   "execution_count": 1,
   "id": "dabe251c",
   "metadata": {},
   "outputs": [
    {
     "name": "stdout",
     "output_type": "stream",
     "text": [
      "Super(id=416713351)\n",
      "Sub(id=558005097)\n"
     ]
    }
   ],
   "source": [
    "open class Super {\n",
    "    override fun toString() = \n",
    "          \"Super(id=${this.hashCode()})\"\n",
    "}\n",
    "\n",
    "class Sub : Super() {\n",
    "     override fun toString() = \n",
    "           \"Sub(id=${this.hashCode()})\"\n",
    "}\n",
    "\n",
    "val sup = Super()\n",
    "println(sup)\n",
    "\n",
    "val sub = Sub()\n",
    "println(sub)"
   ]
  },
  {
   "cell_type": "markdown",
   "id": "8a6fa628",
   "metadata": {},
   "source": [
    "## 상속계층 이해하기"
   ]
  },
  {
   "cell_type": "code",
   "execution_count": 2,
   "id": "d15a76c5",
   "metadata": {},
   "outputs": [
    {
     "name": "stdout",
     "output_type": "stream",
     "text": [
      "Student(school=초등학교 , name=달님, age=11)\n"
     ]
    }
   ],
   "source": [
    "open class Person(val name:String)\n",
    "\n",
    "open class Man(name:String, val age:Int) : Person(name)\n",
    "\n",
    "class Student(val school:String, \n",
    "              name:String, age:Int) : Man(name,age) {\n",
    "    override fun toString() = \n",
    "          \"Student(school=$school , name=$name, age=$age)\"\n",
    "}\n",
    "\n",
    "val st = Student(\"초등학교\",\"달님\",11)\n",
    "println(st)"
   ]
  },
  {
   "cell_type": "markdown",
   "id": "60dd9d3b",
   "metadata": {},
   "source": [
    "## 가시성 확인 "
   ]
  },
  {
   "cell_type": "code",
   "execution_count": 5,
   "id": "74005ee7",
   "metadata": {},
   "outputs": [
    {
     "name": "stdout",
     "output_type": "stream",
     "text": [
      "Man(name=너님, age=33)\n",
      "Student(school=초등학교 , name=달님, age=11)\n"
     ]
    }
   ],
   "source": [
    "open class Person(val name:String) {\n",
    "    fun sayHello() = \"안녕하세요\"\n",
    "    open fun sayBye() = \"안녕히계세요\"\n",
    "    override fun toString() = \n",
    "          \"Person(name=$name)\"\n",
    "}\n",
    "\n",
    "open class Man(name:String, val age:Int) : Person(name) {\n",
    "    final override fun sayBye() = \"안녕히계세요 + name \"\n",
    "    override fun toString() = \n",
    "          \"Man(name=$name, age=$age)\"\n",
    "    \n",
    "}\n",
    "\n",
    "class Student(val school:String, \n",
    "              name:String, age:Int) : Man(name,age) {\n",
    "    override fun toString() = \n",
    "          \"Student(school=$school , name=$name, age=$age)\"\n",
    "}\n",
    "\n",
    "val mn = Man(\"너님\",33)\n",
    "println(mn)\n",
    "\n",
    "val st = Student(\"초등학교\",\"달님\",11)\n",
    "println(st)"
   ]
  },
  {
   "cell_type": "code",
   "execution_count": null,
   "id": "4ec69968",
   "metadata": {},
   "outputs": [],
   "source": []
  }
 ],
 "metadata": {
  "kernelspec": {
   "display_name": "Kotlin",
   "language": "kotlin",
   "name": "kotlin"
  },
  "language_info": {
   "codemirror_mode": "text/x-kotlin",
   "file_extension": ".kt",
   "mimetype": "text/x-kotlin",
   "name": "kotlin",
   "nbconvert_exporter": "",
   "pygments_lexer": "kotlin",
   "version": "1.6.0-dev-3567"
  }
 },
 "nbformat": 4,
 "nbformat_minor": 5
}
