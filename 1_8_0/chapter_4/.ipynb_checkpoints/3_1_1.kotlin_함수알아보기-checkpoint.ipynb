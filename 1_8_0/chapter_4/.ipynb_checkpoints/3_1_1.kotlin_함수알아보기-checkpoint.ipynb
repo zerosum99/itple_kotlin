{
 "cells": [
  {
   "cell_type": "code",
   "execution_count": null,
   "id": "03ea5373-3a8c-4978-83b4-4ea454305ff7",
   "metadata": {},
   "outputs": [],
   "source": []
  },
  {
   "cell_type": "markdown",
   "id": "e15c8cfc-b8e7-45bd-a5d3-30ed7688ed93",
   "metadata": {},
   "source": [
    "## 1. 함수 선언과 호출"
   ]
  },
  {
   "cell_type": "markdown",
   "id": "715158f7-cf95-4999-b00f-bd98853ff0b4",
   "metadata": {},
   "source": [
    "### 함수는 먼저 선언 즉 정의한 후에 처리한다\n",
    "\n",
    "- 함수가 선언되어야 사용할 수 함수이름으로 함수를 접근할 수 있다"
   ]
  },
  {
   "cell_type": "markdown",
   "id": "925b3531",
   "metadata": {},
   "source": [
    "##\n",
    "\n",
    " fun 키워도 함수명 (매개변수: 자료형 ...) : 반환자료형 {\n",
    "     함수 몸체\n",
    " }\n",
    " \n",
    " "
   ]
  },
  {
   "cell_type": "code",
   "execution_count": null,
   "id": "c8e24627",
   "metadata": {},
   "outputs": [],
   "source": [
    "fun 함수명(매개변수명1:String, 매개변수명2:String) : String {\n",
    "    val 지역변수1 = 100\n",
    "    var 지역변수2 = 300\n",
    "    \n",
    "    fun 지역함수명(\n",
    "    \n",
    "    return \"반환값\"\n",
    "}"
   ]
  },
  {
   "cell_type": "code",
   "execution_count": 1,
   "id": "369404d7",
   "metadata": {},
   "outputs": [],
   "source": [
    "fun func() : Unit {\n",
    "    \n",
    "}"
   ]
  },
  {
   "cell_type": "code",
   "execution_count": 2,
   "id": "7fd154ba",
   "metadata": {},
   "outputs": [],
   "source": [
    "func()"
   ]
  },
  {
   "cell_type": "code",
   "execution_count": null,
   "id": "919e9cb9",
   "metadata": {},
   "outputs": [],
   "source": []
  },
  {
   "cell_type": "markdown",
   "id": "7056a522-9df7-433c-ad7c-907a3571f231",
   "metadata": {},
   "source": [
    "### 함수 호출은 함수이름과 매개변수에 맞는 인자를 전달"
   ]
  },
  {
   "cell_type": "code",
   "execution_count": 1,
   "id": "33d35e4e-7a59-4e79-a6f9-6a7027198bfd",
   "metadata": {},
   "outputs": [],
   "source": [
    "fun func(name:String) : Unit {\n",
    "    println(\" 함수 정의 $name\")\n",
    "}"
   ]
  },
  {
   "cell_type": "code",
   "execution_count": 2,
   "id": "02737110-5c1a-4dbc-9f7b-82900a939fc0",
   "metadata": {},
   "outputs": [
    {
     "name": "stdout",
     "output_type": "stream",
     "text": [
      " 함수 정의 func \n"
     ]
    }
   ],
   "source": [
    "func(\"func \")"
   ]
  },
  {
   "cell_type": "markdown",
   "id": "41673064-aff5-4810-825a-e3c262828580",
   "metadata": {},
   "source": [
    "### 함수 참조\n",
    "\n",
    "- 함수를 변수에 할당하기"
   ]
  },
  {
   "cell_type": "code",
   "execution_count": 5,
   "id": "4555d078",
   "metadata": {},
   "outputs": [],
   "source": [
    "val ref : () -> Unit = ::func"
   ]
  },
  {
   "cell_type": "code",
   "execution_count": 6,
   "id": "a685f010-9e3c-4f65-9c46-b0afc52ef5dd",
   "metadata": {},
   "outputs": [],
   "source": [
    "val ref1 = ::func"
   ]
  },
  {
   "cell_type": "code",
   "execution_count": 7,
   "id": "a5af85dd-e2dd-44a7-aa3e-9d896390be81",
   "metadata": {},
   "outputs": [
    {
     "name": "stdout",
     "output_type": "stream",
     "text": [
      " 함수 정의\n"
     ]
    }
   ],
   "source": [
    "ref1()"
   ]
  },
  {
   "cell_type": "markdown",
   "id": "33a97a16-c883-4ed2-870f-5f6a55f8d583",
   "metadata": {},
   "source": [
    "## 2. 함수 몸체 정의\n",
    "\n",
    "- 블럭구문과 표현식 처리"
   ]
  },
  {
   "cell_type": "markdown",
   "id": "6a998520-e149-4b5d-84fc-67a85f04aa6e",
   "metadata": {},
   "source": [
    "### 함수 블럭구문 사용\n",
    "\n",
    "- 함수 몸체는 중괄호에 포함하고 내부 로직을 처리하고 반환처리"
   ]
  },
  {
   "cell_type": "code",
   "execution_count": 7,
   "id": "aa1b78c8-c8f9-48f2-91da-4844ef977edd",
   "metadata": {},
   "outputs": [],
   "source": [
    "fun add(x:Int, y:Int) : Int {\n",
    "    return x + y\n",
    "}"
   ]
  },
  {
   "cell_type": "code",
   "execution_count": null,
   "id": "a1405e7a-e66b-40e9-9439-093342d454e5",
   "metadata": {},
   "outputs": [],
   "source": []
  },
  {
   "cell_type": "code",
   "execution_count": 8,
   "id": "b045bf69-cbc2-470e-8686-26057b2b25aa",
   "metadata": {},
   "outputs": [
    {
     "data": {
      "text/plain": [
       "30"
      ]
     },
     "execution_count": 8,
     "metadata": {},
     "output_type": "execute_result"
    }
   ],
   "source": [
    "add(10,20)"
   ]
  },
  {
   "cell_type": "code",
   "execution_count": null,
   "id": "0cd4e71f",
   "metadata": {},
   "outputs": [],
   "source": []
  },
  {
   "cell_type": "code",
   "execution_count": 10,
   "id": "6a41ab5b",
   "metadata": {},
   "outputs": [],
   "source": [
    "fun subtract(x:Int, y:Int) : Int {\n",
    "    val result = x -y\n",
    "    return result\n",
    "}"
   ]
  },
  {
   "cell_type": "code",
   "execution_count": 11,
   "id": "5910c893",
   "metadata": {},
   "outputs": [
    {
     "data": {
      "text/plain": [
       "10"
      ]
     },
     "execution_count": 11,
     "metadata": {},
     "output_type": "execute_result"
    }
   ],
   "source": [
    "subtract(100,90)"
   ]
  },
  {
   "cell_type": "markdown",
   "id": "5a3a391b-d530-4f79-8f89-6048da6fccfb",
   "metadata": {},
   "source": [
    "### 함수 식구문 사용\n",
    "\n",
    "- 하나의 표현식 결과를 처리하므로 = 다음에 표현식을 작성"
   ]
  },
  {
   "cell_type": "code",
   "execution_count": 12,
   "id": "a02a1baa-9478-414f-9f9e-740b6ed076dd",
   "metadata": {},
   "outputs": [],
   "source": [
    "fun add(x:Int, y:Int) : Int = x+y"
   ]
  },
  {
   "cell_type": "code",
   "execution_count": 13,
   "id": "b0ce535b-bec1-44f0-8b17-223df8cf26bb",
   "metadata": {},
   "outputs": [
    {
     "data": {
      "text/plain": [
       "50"
      ]
     },
     "execution_count": 13,
     "metadata": {},
     "output_type": "execute_result"
    }
   ],
   "source": [
    "add(20,30)"
   ]
  },
  {
   "cell_type": "code",
   "execution_count": null,
   "id": "c694d8a3-12a6-4fb5-a8a2-e9f900dbc279",
   "metadata": {},
   "outputs": [],
   "source": []
  },
  {
   "cell_type": "code",
   "execution_count": 14,
   "id": "a00e01a4-2597-452d-9a24-5467448487ce",
   "metadata": {},
   "outputs": [],
   "source": [
    "fun add(x:Int, y:Int) = x+y"
   ]
  },
  {
   "cell_type": "code",
   "execution_count": 15,
   "id": "c84d554e-146b-43a2-9c69-9c704ceaafaa",
   "metadata": {},
   "outputs": [
    {
     "data": {
      "text/plain": [
       "80"
      ]
     },
     "execution_count": 15,
     "metadata": {},
     "output_type": "execute_result"
    }
   ],
   "source": [
    "add(50,30)"
   ]
  },
  {
   "cell_type": "code",
   "execution_count": null,
   "id": "6c63a4b4-b263-48e3-a9d1-ecc7338a4a0b",
   "metadata": {},
   "outputs": [],
   "source": []
  },
  {
   "cell_type": "code",
   "execution_count": null,
   "id": "01e68000-88ab-4de8-8a94-841b7d73668e",
   "metadata": {},
   "outputs": [],
   "source": []
  },
  {
   "cell_type": "markdown",
   "id": "277eb0fa-f45c-44e9-af6c-77e7807fa207",
   "metadata": {},
   "source": [
    "## 3. 함수 매개변수와 인자 알아보기"
   ]
  },
  {
   "cell_type": "code",
   "execution_count": null,
   "id": "b75f9ec7-0493-4592-ad58-c5426ddd09cc",
   "metadata": {},
   "outputs": [],
   "source": []
  },
  {
   "cell_type": "markdown",
   "id": "d3c15955-552c-4eee-8bef-c62e6ca11bc0",
   "metadata": {},
   "source": [
    "### 함수 오버로드 "
   ]
  },
  {
   "cell_type": "code",
   "execution_count": 14,
   "id": "60447edc-578e-4b34-969f-5d405548676f",
   "metadata": {},
   "outputs": [],
   "source": [
    "fun addVar(x : Int, y:Int, z:Int) = x + y + z"
   ]
  },
  {
   "cell_type": "code",
   "execution_count": 15,
   "id": "5ad1a942-4ed0-4637-a868-6fb4d21f3207",
   "metadata": {},
   "outputs": [],
   "source": [
    "fun addVar(x : Int, y:Int) = x + y"
   ]
  },
  {
   "cell_type": "code",
   "execution_count": 16,
   "id": "a633fcec-146d-46af-a8bf-1f169bd1fe37",
   "metadata": {},
   "outputs": [
    {
     "data": {
      "text/plain": [
       "30"
      ]
     },
     "execution_count": 16,
     "metadata": {},
     "output_type": "execute_result"
    }
   ],
   "source": [
    "addVar(10,20)"
   ]
  },
  {
   "cell_type": "code",
   "execution_count": 17,
   "id": "45d3a3a6-a7c0-4b97-8555-f68695385cf2",
   "metadata": {},
   "outputs": [
    {
     "data": {
      "text/plain": [
       "60"
      ]
     },
     "execution_count": 17,
     "metadata": {},
     "output_type": "execute_result"
    }
   ],
   "source": [
    "addVar(10,20,30)"
   ]
  },
  {
   "cell_type": "markdown",
   "id": "b57fe79d-18db-448d-9580-1f4b9f9a53a8",
   "metadata": {},
   "source": [
    "### 매개변수 초기값을 지정해서 여러 함수를 하나의 함수로 정의"
   ]
  },
  {
   "cell_type": "code",
   "execution_count": 18,
   "id": "7e551f7c-99a0-4128-91ce-919ab83a0d27",
   "metadata": {},
   "outputs": [],
   "source": [
    "fun addVar_(x : Int, y:Int, z:Int = 0) = x + y + z"
   ]
  },
  {
   "cell_type": "code",
   "execution_count": 19,
   "id": "2e613729-8461-4ef3-8394-599c42036b5c",
   "metadata": {},
   "outputs": [
    {
     "data": {
      "text/plain": [
       "30"
      ]
     },
     "execution_count": 19,
     "metadata": {},
     "output_type": "execute_result"
    }
   ],
   "source": [
    "addVar_(10,20)"
   ]
  },
  {
   "cell_type": "code",
   "execution_count": 20,
   "id": "2945391b-e01c-4587-ad25-8d9601a3a974",
   "metadata": {},
   "outputs": [
    {
     "data": {
      "text/plain": [
       "60"
      ]
     },
     "execution_count": 20,
     "metadata": {},
     "output_type": "execute_result"
    }
   ],
   "source": [
    "addVar_(10,20,30)"
   ]
  },
  {
   "cell_type": "code",
   "execution_count": null,
   "id": "8807acac-db94-4a18-9f08-883c69ac6165",
   "metadata": {},
   "outputs": [],
   "source": []
  },
  {
   "cell_type": "markdown",
   "id": "50bd658d-3e73-4b8c-a28a-ddf3ef212c69",
   "metadata": {},
   "source": [
    "### 이름을 지정해서 인자 전달하기"
   ]
  },
  {
   "cell_type": "code",
   "execution_count": 21,
   "id": "ca6b6ec6-9542-4878-9999-71e8063051e5",
   "metadata": {},
   "outputs": [
    {
     "data": {
      "text/plain": [
       "150"
      ]
     },
     "execution_count": 21,
     "metadata": {},
     "output_type": "execute_result"
    }
   ],
   "source": [
    "addVar_(z=100, x=20, y=30)"
   ]
  },
  {
   "cell_type": "code",
   "execution_count": 22,
   "id": "618ea033-7671-497b-9bb3-cbe111a1f40e",
   "metadata": {},
   "outputs": [
    {
     "data": {
      "text/plain": [
       "50"
      ]
     },
     "execution_count": 22,
     "metadata": {},
     "output_type": "execute_result"
    }
   ],
   "source": [
    "addVar_(y=30,x=20)"
   ]
  },
  {
   "cell_type": "markdown",
   "id": "a8317ece-be3d-4775-bd22-b273a82f4f28",
   "metadata": {},
   "source": [
    "### 가변 매개변수 처리하기"
   ]
  },
  {
   "cell_type": "code",
   "execution_count": 23,
   "id": "f7744ca9-1443-472d-8e13-9b858d28ac3b",
   "metadata": {},
   "outputs": [],
   "source": [
    "fun addVarArg(vararg x : Int): Int {\n",
    "    var result = 0 \n",
    "    for (i in x) {\n",
    "        result += i\n",
    "    }\n",
    "    return result\n",
    "}"
   ]
  },
  {
   "cell_type": "code",
   "execution_count": 24,
   "id": "7bbcb573-3e05-4c28-b28e-fdf9ed404f0c",
   "metadata": {},
   "outputs": [
    {
     "data": {
      "text/plain": [
       "10"
      ]
     },
     "execution_count": 24,
     "metadata": {},
     "output_type": "execute_result"
    }
   ],
   "source": [
    "addVarArg(1,2,3,4)"
   ]
  },
  {
   "cell_type": "code",
   "execution_count": null,
   "id": "0478738a-64ec-4bd5-b4a0-0379416369d1",
   "metadata": {},
   "outputs": [],
   "source": []
  },
  {
   "cell_type": "code",
   "execution_count": 25,
   "id": "43275bc4-5b59-45a8-ab01-5559235528ad",
   "metadata": {},
   "outputs": [],
   "source": [
    "fun foo(vararg strings: String) { strings.forEach(::println) }"
   ]
  },
  {
   "cell_type": "code",
   "execution_count": 26,
   "id": "c8cae321-c687-4d9b-acec-2643344828d9",
   "metadata": {},
   "outputs": [
    {
     "name": "stdout",
     "output_type": "stream",
     "text": [
      "a\n",
      "b\n",
      "c\n"
     ]
    }
   ],
   "source": [
    "foo(strings = *arrayOf(\"a\", \"b\", \"c\"))"
   ]
  },
  {
   "cell_type": "code",
   "execution_count": 27,
   "id": "53dbb928-aa82-44ad-99ed-a78e0ec554fc",
   "metadata": {},
   "outputs": [
    {
     "name": "stderr",
     "output_type": "stream",
     "text": [
      "Line_26.jupyter-kts (1:15 - 18) Assigning single elements to varargs in named form is forbidden\n",
      "Line_26.jupyter-kts (1:15 - 18) Type mismatch: inferred type is String but Array<out String> was expected"
     ]
    }
   ],
   "source": [
    "foo(strings = \"a\") // Not required for a single value"
   ]
  },
  {
   "cell_type": "code",
   "execution_count": null,
   "id": "6c6bbeaa-57c9-4e03-9ffc-202721127ff8",
   "metadata": {},
   "outputs": [],
   "source": []
  },
  {
   "cell_type": "code",
   "execution_count": null,
   "id": "3b8f6cca-8da1-43a0-b7c5-395f66566a93",
   "metadata": {},
   "outputs": [],
   "source": []
  },
  {
   "cell_type": "markdown",
   "id": "bf6401d6-aac2-4c78-ac96-2ec2a2aac405",
   "metadata": {},
   "source": [
    "### 배열을 스프레드 처리할 때에는 Intarray 등 기본 배열을 사용할 것\n",
    "\n",
    "- 스프레드 연산자는 기본 배열에서 사용"
   ]
  },
  {
   "cell_type": "code",
   "execution_count": 28,
   "id": "c8ff8787-db40-4b91-879b-53e956909502",
   "metadata": {},
   "outputs": [
    {
     "data": {
      "text/plain": [
       "11"
      ]
     },
     "execution_count": 28,
     "metadata": {},
     "output_type": "execute_result"
    }
   ],
   "source": [
    "addVarArg(1,*intArrayOf(1,2,3,4))"
   ]
  },
  {
   "cell_type": "code",
   "execution_count": 29,
   "id": "9056fa51-e4d4-43d0-969c-f5a14482e7ed",
   "metadata": {},
   "outputs": [],
   "source": [
    "val a = intArrayOf(1,2,3,4)"
   ]
  },
  {
   "cell_type": "code",
   "execution_count": 30,
   "id": "63eb76de-9791-45c1-a772-9a99f7966464",
   "metadata": {},
   "outputs": [
    {
     "data": {
      "text/plain": [
       "class kotlin.IntArray"
      ]
     },
     "execution_count": 30,
     "metadata": {},
     "output_type": "execute_result"
    }
   ],
   "source": [
    "a.javaClass.kotlin"
   ]
  },
  {
   "cell_type": "code",
   "execution_count": 31,
   "id": "425e23f7-3d4f-4aca-ac2a-408209327a2f",
   "metadata": {},
   "outputs": [
    {
     "data": {
      "text/plain": [
       "10"
      ]
     },
     "execution_count": 31,
     "metadata": {},
     "output_type": "execute_result"
    }
   ],
   "source": [
    "addVarArg(*a)"
   ]
  },
  {
   "cell_type": "markdown",
   "id": "ab445d30-233f-492e-98c8-093c0043ee04",
   "metadata": {},
   "source": [
    "###  제너릭 함수를 정의해서 처리하기"
   ]
  },
  {
   "cell_type": "code",
   "execution_count": 32,
   "id": "fddea2a1-02fb-45e4-bb31-8d4c956ed080",
   "metadata": {},
   "outputs": [
    {
     "data": {
      "text/plain": [
       "class java.util.ArrayList"
      ]
     },
     "execution_count": 32,
     "metadata": {},
     "output_type": "execute_result"
    }
   ],
   "source": [
    "ArrayList<Int>().javaClass.kotlin"
   ]
  },
  {
   "cell_type": "code",
   "execution_count": 33,
   "id": "be515374-4e3d-4d3a-aedc-b37bf8e7f391",
   "metadata": {},
   "outputs": [],
   "source": [
    "fun <T> asList(vararg ts: T): List<T> {\n",
    "    val result = ArrayList<T>()\n",
    "    for (t in ts) // ts is an Array\n",
    "        result.add(t)\n",
    "    return result\n",
    "}"
   ]
  },
  {
   "cell_type": "code",
   "execution_count": 34,
   "id": "293e570e-215a-4814-913e-9650b2e4ceac",
   "metadata": {},
   "outputs": [],
   "source": [
    "val a = arrayOf(1, 2, 3)"
   ]
  },
  {
   "cell_type": "code",
   "execution_count": 35,
   "id": "2a5c316d-ffcf-40b7-b4b4-6ef8ac2fdfb4",
   "metadata": {},
   "outputs": [],
   "source": [
    "val list1 = asList(a) // OK\n",
    "val list2 = asList(-1, 0, *a, 4) // OK"
   ]
  },
  {
   "cell_type": "code",
   "execution_count": null,
   "id": "31a609c6-0dd4-4c78-a5fe-efd5c989a939",
   "metadata": {},
   "outputs": [],
   "source": []
  },
  {
   "cell_type": "code",
   "execution_count": 36,
   "id": "653ecdb6-1988-4eb7-a137-238ba9147679",
   "metadata": {},
   "outputs": [
    {
     "data": {
      "text/plain": [
       "[[Ljava.lang.Integer;@542e560f]"
      ]
     },
     "execution_count": 36,
     "metadata": {},
     "output_type": "execute_result"
    }
   ],
   "source": [
    "list1"
   ]
  },
  {
   "cell_type": "code",
   "execution_count": 37,
   "id": "008ca4dd-b8b8-454f-bfbd-c342349e5e01",
   "metadata": {},
   "outputs": [
    {
     "data": {
      "text/plain": [
       "class java.util.ArrayList"
      ]
     },
     "execution_count": 37,
     "metadata": {},
     "output_type": "execute_result"
    }
   ],
   "source": [
    "list1.javaClass.kotlin"
   ]
  },
  {
   "cell_type": "code",
   "execution_count": 38,
   "id": "311a2c9b-469b-41d0-97d9-141d39a949d9",
   "metadata": {},
   "outputs": [
    {
     "data": {
      "text/plain": [
       "[1, 2, 3]"
      ]
     },
     "execution_count": 38,
     "metadata": {},
     "output_type": "execute_result"
    }
   ],
   "source": [
    "list1.get(0).toList()"
   ]
  },
  {
   "cell_type": "code",
   "execution_count": null,
   "id": "0b635b5c-0c9b-426d-8ea0-9c7da4c61074",
   "metadata": {},
   "outputs": [],
   "source": []
  },
  {
   "cell_type": "code",
   "execution_count": 39,
   "id": "ca4f77f0-2b60-43e6-9cd0-9bbc4f1c3e60",
   "metadata": {},
   "outputs": [
    {
     "data": {
      "text/plain": [
       "[-1, 0, 1, 2, 3, 4]"
      ]
     },
     "execution_count": 39,
     "metadata": {},
     "output_type": "execute_result"
    }
   ],
   "source": [
    "list2"
   ]
  },
  {
   "cell_type": "code",
   "execution_count": 40,
   "id": "25912ae2-c869-4df5-9f98-e6b6be73d080",
   "metadata": {},
   "outputs": [
    {
     "data": {
      "text/plain": [
       "class java.util.ArrayList"
      ]
     },
     "execution_count": 40,
     "metadata": {},
     "output_type": "execute_result"
    }
   ],
   "source": [
    "list2.javaClass.kotlin"
   ]
  },
  {
   "cell_type": "code",
   "execution_count": null,
   "id": "9ffe4321-87e9-4b5d-bc3d-406fe6157b6d",
   "metadata": {},
   "outputs": [],
   "source": []
  },
  {
   "cell_type": "markdown",
   "id": "7fe84331-f5cd-4b87-b0ee-379b46eced07",
   "metadata": {},
   "source": [
    "## 4. 함수를 변수에 할당하기"
   ]
  },
  {
   "cell_type": "markdown",
   "id": "5f7bc325-c21a-49fa-a245-2eef9b6f3017",
   "metadata": {},
   "source": [
    "### 함수 자료형 이해하기"
   ]
  },
  {
   "cell_type": "code",
   "execution_count": 41,
   "id": "0ed75961-9681-4b27-81fa-c42041ad7805",
   "metadata": {},
   "outputs": [],
   "source": [
    "fun plus(x: Int, y:Int) : Int = x + y"
   ]
  },
  {
   "cell_type": "code",
   "execution_count": 42,
   "id": "3060a3fd-6177-46ee-b2f0-891446c23494",
   "metadata": {},
   "outputs": [],
   "source": [
    "fun add(x: Int, y:Int) : Int = 2 * x + y"
   ]
  },
  {
   "cell_type": "code",
   "execution_count": null,
   "id": "8a42e9ac-8157-45ea-96ca-812fe0984277",
   "metadata": {},
   "outputs": [],
   "source": []
  },
  {
   "cell_type": "code",
   "execution_count": 43,
   "id": "64ad31c5-6ff3-41c3-82e3-0cf603c443ac",
   "metadata": {},
   "outputs": [],
   "source": [
    "var varFunc : (Int, Int) -> Int = ::plus"
   ]
  },
  {
   "cell_type": "code",
   "execution_count": 44,
   "id": "1a172778-fd68-4353-884d-1e1de94227af",
   "metadata": {},
   "outputs": [
    {
     "data": {
      "text/plain": [
       "30"
      ]
     },
     "execution_count": 44,
     "metadata": {},
     "output_type": "execute_result"
    }
   ],
   "source": [
    "varFunc(10,20)"
   ]
  },
  {
   "cell_type": "code",
   "execution_count": null,
   "id": "13bd81ee-7f8c-4131-9c2e-87c6a4ae7d33",
   "metadata": {},
   "outputs": [],
   "source": []
  },
  {
   "cell_type": "code",
   "execution_count": 45,
   "id": "bae7763f-1ac2-4e35-bc12-a634378779e2",
   "metadata": {},
   "outputs": [],
   "source": [
    "varFunc = ::add"
   ]
  },
  {
   "cell_type": "code",
   "execution_count": 46,
   "id": "be8ade26-6ee2-47d0-909a-70a28f850393",
   "metadata": {},
   "outputs": [
    {
     "data": {
      "text/plain": [
       "40"
      ]
     },
     "execution_count": 46,
     "metadata": {},
     "output_type": "execute_result"
    }
   ],
   "source": [
    "varFunc(10,20)"
   ]
  },
  {
   "cell_type": "code",
   "execution_count": 47,
   "id": "86a0facb-d9f3-4d7f-b917-9b59957fd0d3",
   "metadata": {},
   "outputs": [
    {
     "data": {
      "text/plain": [
       "40"
      ]
     },
     "execution_count": 47,
     "metadata": {},
     "output_type": "execute_result"
    }
   ],
   "source": [
    "varFunc.invoke(10,20)"
   ]
  },
  {
   "cell_type": "code",
   "execution_count": 48,
   "id": "6da4e41d-bbef-486e-be28-92352d733707",
   "metadata": {},
   "outputs": [],
   "source": [
    "fun add() : Int = 39999"
   ]
  },
  {
   "cell_type": "code",
   "execution_count": 49,
   "id": "e53a1fc0-722a-41e8-b768-6f96294b3f93",
   "metadata": {},
   "outputs": [],
   "source": [
    "var varFunc1 : () -> Int = ::add"
   ]
  },
  {
   "cell_type": "code",
   "execution_count": 50,
   "id": "ae64e046-3fcf-4002-8d5d-5d2345eacb66",
   "metadata": {},
   "outputs": [
    {
     "data": {
      "text/plain": [
       "39999"
      ]
     },
     "execution_count": 50,
     "metadata": {},
     "output_type": "execute_result"
    }
   ],
   "source": [
    "varFunc1()"
   ]
  },
  {
   "cell_type": "code",
   "execution_count": 51,
   "id": "8735236b-45c2-4c79-b455-d6634a03fe3b",
   "metadata": {},
   "outputs": [
    {
     "data": {
      "text/plain": [
       "39999"
      ]
     },
     "execution_count": 51,
     "metadata": {},
     "output_type": "execute_result"
    }
   ],
   "source": [
    "varFunc1.invoke()"
   ]
  },
  {
   "cell_type": "code",
   "execution_count": null,
   "id": "ef27285f-6619-4039-9d49-6287abe04cb9",
   "metadata": {},
   "outputs": [],
   "source": []
  }
 ],
 "metadata": {
  "kernelspec": {
   "display_name": "Kotlin",
   "language": "kotlin",
   "name": "kotlin"
  },
  "language_info": {
   "codemirror_mode": "text/x-kotlin",
   "file_extension": ".kt",
   "mimetype": "text/x-kotlin",
   "name": "kotlin",
   "nbconvert_exporter": "",
   "pygments_lexer": "kotlin",
   "version": "1.6.0-dev-3567"
  }
 },
 "nbformat": 4,
 "nbformat_minor": 5
}
