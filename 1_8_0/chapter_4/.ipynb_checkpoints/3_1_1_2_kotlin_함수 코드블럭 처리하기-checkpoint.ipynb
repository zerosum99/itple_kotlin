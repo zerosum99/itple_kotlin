{
 "cells": [
  {
   "cell_type": "code",
   "execution_count": null,
   "id": "ac9ef0fe",
   "metadata": {},
   "outputs": [],
   "source": []
  },
  {
   "cell_type": "code",
   "execution_count": 1,
   "id": "08a25c2a",
   "metadata": {},
   "outputs": [
    {
     "data": {
      "text/plain": [
       "1.8.0"
      ]
     },
     "execution_count": 1,
     "metadata": {},
     "output_type": "execute_result"
    }
   ],
   "source": [
    "KotlinVersion.CURRENT             // 코틀린 현재 버전 "
   ]
  },
  {
   "cell_type": "code",
   "execution_count": null,
   "id": "3bca029b",
   "metadata": {},
   "outputs": [],
   "source": []
  },
  {
   "cell_type": "markdown",
   "id": "cf915f78",
   "metadata": {},
   "source": [
    "## 함수 코드블럭과 표현식 처리"
   ]
  },
  {
   "cell_type": "code",
   "execution_count": 2,
   "id": "c492b14d",
   "metadata": {},
   "outputs": [
    {
     "name": "stdout",
     "output_type": "stream",
     "text": [
      "30\n",
      "30\n",
      "30\n"
     ]
    }
   ],
   "source": [
    "fun add(x:Int, y:Int) : Int {         // 코드블걱 몸체부에 한줄로 처리\n",
    "    return x + y\n",
    "}\n",
    "\n",
    "fun add1(x:Int, y:Int) : Int = x + y  // 코드블럭 대신 = 과 표현식으로 표시\n",
    "                                      // return을 사용하지 않는다. \n",
    "fun add2(x:Int, y:Int) = x + y        // 계산결과가 반환자료형을 추론할 수 있다. \n",
    "                                      // 반환자료형을 생략한다. \n",
    "println(add(10,20))\n",
    "println(add1(10,20))\n",
    "println(add2(10,20))"
   ]
  },
  {
   "cell_type": "code",
   "execution_count": null,
   "id": "3a696913",
   "metadata": {},
   "outputs": [],
   "source": []
  },
  {
   "cell_type": "code",
   "execution_count": 3,
   "id": "746f28be",
   "metadata": {},
   "outputs": [
    {
     "name": "stdout",
     "output_type": "stream",
     "text": [
      "20\n",
      "Hello World\n"
     ]
    }
   ],
   "source": [
    "fun comSingle(x:Int, y:Int) = if (x>y) x else y // if 표현식 사용\n",
    "\n",
    "val r = comSingle(20,10)\n",
    "println(r)\n",
    "\n",
    "\n",
    "open class People {                             // 클래스 정의\n",
    "    fun hello() = println(\"Hello World\")        // 메소드 정의\n",
    "}\n",
    "fun comSingle1() = object : People() {          // People을 상속한 익명 객체 반환\n",
    "}\n",
    "\n",
    "val p = comSingle1()\n",
    "p.hello()"
   ]
  },
  {
   "cell_type": "code",
   "execution_count": null,
   "id": "aea09618",
   "metadata": {},
   "outputs": [],
   "source": []
  },
  {
   "cell_type": "code",
   "execution_count": null,
   "id": "af2ac987",
   "metadata": {},
   "outputs": [],
   "source": []
  }
 ],
 "metadata": {
  "kernelspec": {
   "display_name": "Kotlin",
   "language": "kotlin",
   "name": "kotlin"
  },
  "language_info": {
   "codemirror_mode": "text/x-kotlin",
   "file_extension": ".kt",
   "mimetype": "text/x-kotlin",
   "name": "kotlin",
   "nbconvert_exporter": "",
   "pygments_lexer": "kotlin",
   "version": "1.8.0-dev-3517"
  }
 },
 "nbformat": 4,
 "nbformat_minor": 5
}
