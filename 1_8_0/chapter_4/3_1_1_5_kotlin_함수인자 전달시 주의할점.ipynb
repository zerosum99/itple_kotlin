{
 "cells": [
  {
   "cell_type": "code",
   "execution_count": null,
   "id": "5b7a6cb3",
   "metadata": {},
   "outputs": [],
   "source": []
  },
  {
   "cell_type": "code",
   "execution_count": 1,
   "id": "d91bcca3",
   "metadata": {},
   "outputs": [
    {
     "data": {
      "text/plain": [
       "1.7.20"
      ]
     },
     "execution_count": 1,
     "metadata": {},
     "output_type": "execute_result"
    }
   ],
   "source": [
    "KotlinVersion.CURRENT             // 코틀린 현재 버전 "
   ]
  },
  {
   "cell_type": "code",
   "execution_count": null,
   "id": "6aab0fc9",
   "metadata": {},
   "outputs": [],
   "source": []
  },
  {
   "cell_type": "markdown",
   "id": "bc07c502",
   "metadata": {},
   "source": [
    "## 함수 인자 전달할 때 주의 "
   ]
  },
  {
   "cell_type": "markdown",
   "id": "16c0fb47",
   "metadata": {},
   "source": [
    "###  함수의 인자로 변경불가한 컬렉션 전달"
   ]
  },
  {
   "cell_type": "code",
   "execution_count": 2,
   "id": "cb1765a0",
   "metadata": {},
   "outputs": [
    {
     "name": "stdout",
     "output_type": "stream",
     "text": [
      "[1, 2, 3, 4]\n",
      "false\n",
      "[1, 2, 3, 4, 6, 7]\n",
      "false\n"
     ]
    }
   ],
   "source": [
    "val ll = listOf(1,2,3,4)\n",
    "println(ll)\n",
    "\n",
    "fun addList(ll : List<Int>) :List<Int> { //변경불가능한 리스트 \n",
    "    val result  = ll + listOf(6,7)       //새로운 리스트 객체 생성\n",
    "    return result                        // 결과를 반환\n",
    "}\n",
    "\n",
    "val ll2 = addList(ll)\n",
    "println(ll2 == ll)                       // 원 리스트는 변경되지 않는다.\n",
    "println(ll2)\n",
    "println(ll2 == ll)"
   ]
  },
  {
   "cell_type": "code",
   "execution_count": null,
   "id": "d9b814dd",
   "metadata": {},
   "outputs": [],
   "source": []
  },
  {
   "cell_type": "markdown",
   "id": "61c65f3c",
   "metadata": {},
   "source": [
    "### 함수의 인자로 변경가능한 컬렉션 전달"
   ]
  },
  {
   "cell_type": "code",
   "execution_count": 3,
   "id": "6bb34543",
   "metadata": {},
   "outputs": [
    {
     "name": "stdout",
     "output_type": "stream",
     "text": [
      "[1, 2, 3, 4]\n",
      "true\n",
      "[1, 2, 3, 4, 5]\n",
      "[1, 2, 3, 4, 5]\n",
      "true\n"
     ]
    }
   ],
   "source": [
    "val ml = mutableListOf(1,2,3,4)\n",
    "println(ml)\n",
    "\n",
    "fun addList1(ml : MutableList<Int>) : \n",
    "                      MutableList<Int> {   // 변경가능한 리스트 \n",
    "    ml.add(5)                              // 원소를 하나 추가 \n",
    "    return ml                              // 결과를 반환\n",
    "}\n",
    "\n",
    "val ml2 = addList1(ml)\n",
    "println(ml == ml2)                         // 전달전 변경가능한 리스트도 변경\n",
    "println(ml)\n",
    "println(ml2)\n",
    "println(ml == ml2)"
   ]
  },
  {
   "cell_type": "code",
   "execution_count": null,
   "id": "dc3ae83f",
   "metadata": {},
   "outputs": [],
   "source": []
  },
  {
   "cell_type": "code",
   "execution_count": 4,
   "id": "be3cfee3",
   "metadata": {},
   "outputs": [
    {
     "name": "stdout",
     "output_type": "stream",
     "text": [
      "[1, 2, 3, 4]\n",
      "false\n",
      "[1, 2, 3, 4]\n",
      "[1, 2, 3, 4, 5]\n",
      "false\n"
     ]
    }
   ],
   "source": [
    "val mlc = mutableListOf(1,2,3,4)\n",
    "println(mlc)\n",
    "\n",
    "fun addList1(ml : MutableList<Int>) : \n",
    "                      MutableList<Int> {         // 변경가능한 리스트 \n",
    "    ml.add(5)                                    // 원소를 하나 추가 \n",
    "    return ml                                    // 결과를 반환\n",
    "}\n",
    "\n",
    "val ml2 = addList1(mlc.toList().toMutableList()) // 변경가능한 리스트를 복사해서 처리\n",
    "println(mlc == ml2)                              // 전달전 변경가능한 리스트도 변경\n",
    "println(mlc)\n",
    "println(ml2)\n",
    "println(mlc == ml2)"
   ]
  },
  {
   "cell_type": "code",
   "execution_count": null,
   "id": "201890da",
   "metadata": {},
   "outputs": [],
   "source": []
  }
 ],
 "metadata": {
  "kernelspec": {
   "display_name": "Kotlin",
   "language": "kotlin",
   "name": "kotlin"
  },
  "language_info": {
   "codemirror_mode": "text/x-kotlin",
   "file_extension": ".kt",
   "mimetype": "text/x-kotlin",
   "name": "kotlin",
   "nbconvert_exporter": "",
   "pygments_lexer": "kotlin",
   "version": "1.7.20-dev-1299"
  }
 },
 "nbformat": 4,
 "nbformat_minor": 5
}
