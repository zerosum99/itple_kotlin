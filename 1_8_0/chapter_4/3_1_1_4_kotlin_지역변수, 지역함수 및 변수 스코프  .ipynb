{
 "cells": [
  {
   "cell_type": "code",
   "execution_count": null,
   "id": "fbab92d1",
   "metadata": {},
   "outputs": [],
   "source": []
  },
  {
   "cell_type": "code",
   "execution_count": 1,
   "id": "933c1381",
   "metadata": {},
   "outputs": [
    {
     "data": {
      "text/plain": [
       "1.7.20"
      ]
     },
     "execution_count": 1,
     "metadata": {},
     "output_type": "execute_result"
    }
   ],
   "source": [
    "KotlinVersion.CURRENT             // 코틀린 현재 버전 "
   ]
  },
  {
   "cell_type": "code",
   "execution_count": null,
   "id": "c9f0483f",
   "metadata": {},
   "outputs": [],
   "source": []
  },
  {
   "cell_type": "markdown",
   "id": "0bc7b039",
   "metadata": {},
   "source": [
    "## 지역변수"
   ]
  },
  {
   "cell_type": "code",
   "execution_count": 2,
   "id": "3381a8f2",
   "metadata": {},
   "outputs": [
    {
     "name": "stdout",
     "output_type": "stream",
     "text": [
      "지역변수의 합= 300\n"
     ]
    }
   ],
   "source": [
    "fun localVar() : Int {\n",
    "    val x : Int = 100    //지역변수 정의 \n",
    "    val y : Int = 200    //지역변수 정의\n",
    "    return x+y\n",
    "}\n",
    "\n",
    "println(\"지역변수의 합= \" +localVar())"
   ]
  },
  {
   "cell_type": "code",
   "execution_count": null,
   "id": "b9a7af9d",
   "metadata": {},
   "outputs": [],
   "source": []
  },
  {
   "cell_type": "markdown",
   "id": "004feac8",
   "metadata": {},
   "source": [
    "## 지역함수 "
   ]
  },
  {
   "cell_type": "code",
   "execution_count": 3,
   "id": "3fb844f8",
   "metadata": {},
   "outputs": [
    {
     "name": "stdout",
     "output_type": "stream",
     "text": [
      "지역함수 실행=200\n"
     ]
    }
   ],
   "source": [
    "fun outerFunc(x:Int) :Int {\n",
    "    val y = 100\n",
    "    fun localFunc() = x +y    //지역함수 정의\n",
    "    \n",
    "    return localFunc()        //지역함수 실행\n",
    "}\n",
    "\n",
    "println(\"지역함수 실행=\" +outerFunc(100))"
   ]
  },
  {
   "cell_type": "code",
   "execution_count": null,
   "id": "814e5968",
   "metadata": {},
   "outputs": [],
   "source": []
  },
  {
   "cell_type": "markdown",
   "id": "155e9763",
   "metadata": {},
   "source": [
    "## 변수 스코프"
   ]
  },
  {
   "cell_type": "code",
   "execution_count": 4,
   "id": "ea1e8bc4",
   "metadata": {},
   "outputs": [
    {
     "name": "stdout",
     "output_type": "stream",
     "text": [
      "전역변수 참조=1199\n",
      "전역변수 갱신=600\n",
      "전역변수 =400\n"
     ]
    }
   ],
   "source": [
    "var outVar = 300\n",
    "val outVarR = 999\n",
    "\n",
    "fun outerFunc1(x:Int) :Int {\n",
    "    val y = 100\n",
    "    fun localFunc() = x +y +outVarR   //지역함수 정의 : 전역변수 사용\n",
    "    return localFunc()                //지역함수 실행\n",
    "}\n",
    "\n",
    "fun outerFunc2(x:Int) :Int {\n",
    "    val y = 100\n",
    "    fun localFunc(): Int {            //지역함수 정의\n",
    "        outVar += x                   //전역변수 갱신\n",
    "        return x+y+ outVar             \n",
    "    }\n",
    "    return localFunc()                //지역함수 실행\n",
    "}\n",
    "\n",
    "println(\"전역변수 참조=\" +outerFunc1(100))\n",
    "println(\"전역변수 갱신=\" +outerFunc2(100)) \n",
    "println(\"전역변수 =\" + outVar)"
   ]
  },
  {
   "cell_type": "markdown",
   "id": "b3bd3e04",
   "metadata": {},
   "source": [
    "## 변수 스코프 : 지역함수 밑에 지역함수 정의"
   ]
  },
  {
   "cell_type": "code",
   "execution_count": 5,
   "id": "701443fb",
   "metadata": {},
   "outputs": [
    {
     "name": "stdout",
     "output_type": "stream",
     "text": [
      "1277\n"
     ]
    }
   ],
   "source": [
    "var outVar = 300                   //전역변수 정의\n",
    "\n",
    "fun outerFunc(x:Int) :Int {        //전역함수 정의 \n",
    "    val y = 100\n",
    "    fun innerFunc(): Int {          // 지역함수 정의\n",
    "        var z = 777\n",
    "        z += outVar\n",
    "        fun localFunc() =           // 지역함수 내의 지역함수 정의\n",
    "                  x +y + z          //+outVar 전역함수 사용할 때 참조하지 못함\n",
    "        return localFunc()          //지역함수 내의 지역함수 실행\n",
    "    }\n",
    "    return innerFunc()              //지역함수 실행\n",
    "}\n",
    "    \n",
    "println(outerFunc(100))"
   ]
  },
  {
   "cell_type": "code",
   "execution_count": null,
   "id": "dacea0ea",
   "metadata": {},
   "outputs": [],
   "source": []
  }
 ],
 "metadata": {
  "kernelspec": {
   "display_name": "Kotlin",
   "language": "kotlin",
   "name": "kotlin"
  },
  "language_info": {
   "codemirror_mode": "text/x-kotlin",
   "file_extension": ".kt",
   "mimetype": "text/x-kotlin",
   "name": "kotlin",
   "nbconvert_exporter": "",
   "pygments_lexer": "kotlin",
   "version": "1.7.20-dev-1299"
  }
 },
 "nbformat": 4,
 "nbformat_minor": 5
}
