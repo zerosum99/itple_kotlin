{
 "cells": [
  {
   "cell_type": "code",
   "execution_count": null,
   "id": "9f47706f",
   "metadata": {},
   "outputs": [],
   "source": []
  },
  {
   "cell_type": "code",
   "execution_count": 1,
   "id": "4c195691",
   "metadata": {},
   "outputs": [
    {
     "data": {
      "text/plain": [
       "1.7.20"
      ]
     },
     "execution_count": 1,
     "metadata": {},
     "output_type": "execute_result"
    }
   ],
   "source": [
    "KotlinVersion.CURRENT             // 코틀린 현재 버전 "
   ]
  },
  {
   "cell_type": "code",
   "execution_count": null,
   "id": "312c59fd",
   "metadata": {},
   "outputs": [],
   "source": []
  },
  {
   "cell_type": "markdown",
   "id": "6436594f",
   "metadata": {},
   "source": [
    "## 함수 자료형 지정하기"
   ]
  },
  {
   "cell_type": "markdown",
   "id": "dd57cbc0",
   "metadata": {},
   "source": [
    "### 람다표현식"
   ]
  },
  {
   "cell_type": "code",
   "execution_count": 2,
   "id": "42c1f4cc",
   "metadata": {},
   "outputs": [
    {
     "name": "stdout",
     "output_type": "stream",
     "text": [
      "함수 \n",
      "30\n",
      "30\n"
     ]
    }
   ],
   "source": [
    "val a : ()-> Unit = { println(\"함수 \")}      // 매개변수 없고 반환값은 Unit으로 처리 \n",
    "\n",
    "val b : (Int)-> Int = { x -> x * 3}          // 허나의 매개변수로 처리하고 반환값은 Int\n",
    "\n",
    "val c : (Int,Int)-> Int = {x,y -> x+y }      // 두 개의 매개변수 처리하고 반환값은 Int \n",
    "\n",
    "a()\n",
    "println(b(10))\n",
    "println(c(10,20))\n"
   ]
  },
  {
   "cell_type": "code",
   "execution_count": null,
   "id": "6efea77d",
   "metadata": {},
   "outputs": [],
   "source": []
  },
  {
   "cell_type": "markdown",
   "id": "d816e4b0",
   "metadata": {},
   "source": [
    "### 익명함수"
   ]
  },
  {
   "cell_type": "code",
   "execution_count": 3,
   "id": "9f5edd2a",
   "metadata": {},
   "outputs": [
    {
     "name": "stdout",
     "output_type": "stream",
     "text": [
      "함수 \n",
      "30\n",
      "30\n"
     ]
    }
   ],
   "source": [
    "val d : ()-> Unit = fun(){ println(\"함수 \")}   // 매개변수 없고 반환값은 Unit으로 처리 \n",
    "\n",
    "val e : (Int)-> Int = fun(x:Int):Int{ \n",
    "                              return x * 3}   // 허나의 매개변수로 처리하고 반환값은 Int\n",
    "\n",
    "val f : (Int,Int)-> Int = fun(x:Int, \n",
    "                              y:Int):Int{\n",
    "                              return x+y }    // 두 개의 매개변수 처리하고 반환값은 Int \n",
    "\n",
    "d()\n",
    "println(e(10))\n",
    "println(f(10,20))"
   ]
  },
  {
   "cell_type": "code",
   "execution_count": null,
   "id": "aad5afad",
   "metadata": {},
   "outputs": [],
   "source": []
  },
  {
   "cell_type": "markdown",
   "id": "9f58945e",
   "metadata": {},
   "source": [
    "### 함수 "
   ]
  },
  {
   "cell_type": "code",
   "execution_count": 4,
   "id": "fcac63f9",
   "metadata": {},
   "outputs": [
    {
     "name": "stdout",
     "output_type": "stream",
     "text": [
      "함수 \n",
      "30\n",
      "30\n"
     ]
    }
   ],
   "source": [
    "fun unit(){ println(\"함수 \")}             // 매개변수 없고 반환값은 Unit으로 처리 \n",
    "\n",
    "fun triple(x:Int):Int{return x * 3}      // 허나의 매개변수로 처리하고 반환값은 Int\n",
    "\n",
    "fun add(x:Int, y:Int):Int{return x+y }   // 두 개의 매개변수 처리하고 반환값은 Int \n",
    "\n",
    "val g: ()-> Unit = ::unit                // 매개변수 없고 반환값은 Unit으로 처리 \n",
    "val h : (Int)-> Int = ::triple           // 허나의 매개변수로 처리하고 반환값은 Int\n",
    "val i : (Int,Int)-> Int = :: add         // 두 개의 매개변수 처리하고 반환값은 Int \n",
    "\n",
    "g()\n",
    "println(h(10))\n",
    "println(i(10,20))"
   ]
  },
  {
   "cell_type": "code",
   "execution_count": null,
   "id": "88544070",
   "metadata": {},
   "outputs": [],
   "source": []
  },
  {
   "cell_type": "markdown",
   "id": "041d6175",
   "metadata": {},
   "source": [
    "## 함수에 함수 전달"
   ]
  },
  {
   "cell_type": "code",
   "execution_count": 5,
   "id": "6b7dbe48",
   "metadata": {},
   "outputs": [
    {
     "name": "stdout",
     "output_type": "stream",
     "text": [
      "함수 전달 1\n",
      "함수 전달 2\n",
      "함수 절달 3\n"
     ]
    }
   ],
   "source": [
    "val producePrinter: ()->()->Unit = {{println(\"함수 전달 1\")}}   //함수 내부에 함수 \n",
    "\n",
    "val producePrinter1 = {{ println(\"함수 전달 2\") } }             //함수 내부에 함수\n",
    "\n",
    "fun outer() : ()->Unit {                        //외부 함수\n",
    "    return {println(\"함수 절달 3\")}               //내부 함수\n",
    "}\n",
    "\n",
    "val producePrinter2: ()->()->Unit = ::outer\n",
    "\n",
    "producePrinter()()                               // 연속함수 실행 \n",
    "producePrinter1()()                              // 연속함수 실행 \n",
    "producePrinter2()()                              // 연속함수 실행 "
   ]
  },
  {
   "cell_type": "code",
   "execution_count": null,
   "id": "e5650a26",
   "metadata": {},
   "outputs": [],
   "source": []
  },
  {
   "cell_type": "code",
   "execution_count": null,
   "id": "dafb30b0",
   "metadata": {},
   "outputs": [],
   "source": []
  },
  {
   "cell_type": "code",
   "execution_count": null,
   "id": "139cfff2",
   "metadata": {},
   "outputs": [],
   "source": []
  },
  {
   "cell_type": "code",
   "execution_count": null,
   "id": "448a0b42",
   "metadata": {},
   "outputs": [],
   "source": []
  }
 ],
 "metadata": {
  "kernelspec": {
   "display_name": "Kotlin",
   "language": "kotlin",
   "name": "kotlin"
  },
  "language_info": {
   "codemirror_mode": "text/x-kotlin",
   "file_extension": ".kt",
   "mimetype": "text/x-kotlin",
   "name": "kotlin",
   "nbconvert_exporter": "",
   "pygments_lexer": "kotlin",
   "version": "1.7.20-dev-1299"
  }
 },
 "nbformat": 4,
 "nbformat_minor": 5
}
