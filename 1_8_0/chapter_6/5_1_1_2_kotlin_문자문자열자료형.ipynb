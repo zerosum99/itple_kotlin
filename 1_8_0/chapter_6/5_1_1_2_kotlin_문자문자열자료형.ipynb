{
 "cells": [
  {
   "cell_type": "code",
   "execution_count": null,
   "id": "931c2ca9",
   "metadata": {},
   "outputs": [],
   "source": []
  },
  {
   "cell_type": "code",
   "execution_count": 1,
   "id": "2c219936",
   "metadata": {},
   "outputs": [
    {
     "data": {
      "text/plain": [
       "1.8.0"
      ]
     },
     "execution_count": 1,
     "metadata": {},
     "output_type": "execute_result"
    }
   ],
   "source": [
    "KotlinVersion.CURRENT             // 코틀린 현재 버전 "
   ]
  },
  {
   "cell_type": "code",
   "execution_count": null,
   "id": "a0526ea3",
   "metadata": {},
   "outputs": [],
   "source": []
  },
  {
   "cell_type": "markdown",
   "id": "3886d162",
   "metadata": {},
   "source": [
    "## 문자와 문자열 구분하기"
   ]
  },
  {
   "cell_type": "code",
   "execution_count": 2,
   "id": "f9b3b82f",
   "metadata": {},
   "outputs": [
    {
     "name": "stdout",
     "output_type": "stream",
     "text": [
      "true\n",
      "true\n",
      "true\n",
      "class java.lang.StringBuilder\n",
      "true\n",
      "true\n"
     ]
    }
   ],
   "source": [
    "println(Char::class.isInstance('강'))      // 문자 인스턴스 확인    \n",
    "\n",
    "println(String::class.isInstance(\"강아지\")) // 문자열 인스턴스 확인 \n",
    "\n",
    "println('강' in \"강아지\")                    // 문자열 내부의 하나의 원소는 문자 \n",
    "\n",
    "val sb = StringBuilder(\"강아지\")            // 변경가능한 문자열 생성\n",
    "println(sb::class)\n",
    "println('강' in  sb)                       // 문자와 문자열 포함관계 확인\n",
    "println(\"강아지\" == sb.toString())          // 문자열과의 연산을 하려면 문자열로 변환 필요"
   ]
  },
  {
   "cell_type": "code",
   "execution_count": null,
   "id": "ab1aa192",
   "metadata": {},
   "outputs": [],
   "source": []
  },
  {
   "cell_type": "markdown",
   "id": "1d383493",
   "metadata": {},
   "source": [
    "## 문자열 인덱스 "
   ]
  },
  {
   "cell_type": "code",
   "execution_count": null,
   "id": "455d86f4",
   "metadata": {},
   "outputs": [],
   "source": []
  },
  {
   "cell_type": "code",
   "execution_count": 3,
   "id": "a111b55d",
   "metadata": {},
   "outputs": [
    {
     "name": "stdout",
     "output_type": "stream",
     "text": [
      "문\n",
      "회\n",
      "문\n",
      "회\n",
      "회\n",
      "열\n",
      "0\n",
      "null\n"
     ]
    }
   ],
   "source": [
    "val myString = \"문자열 인덱스 조회\"                    //문자열 객체\n",
    "val item = myString[2]                             //하나의 원소를 읽는다.\n",
    "println(myString.first())                          // 첫번째\n",
    "println(myString.last())                           // 마지막\n",
    "\n",
    "println(myString[0])\n",
    "println(myString[myString.length-1])                 // 인덱스는 0부터 length -1\n",
    "println(myString[myString.lastIndex])                // 마지막 인엑스 처리\n",
    "\n",
    "println(myString.get(2))                             // 문자열 검색\n",
    "println(myString.getOrElse(myString.length, {'0'}))  // 범위를 벗어날 경우 초기값처리 \n",
    "println(myString.getOrNull(myString.length))         // 범위를 벗어날 경우 null"
   ]
  },
  {
   "cell_type": "code",
   "execution_count": null,
   "id": "83184d29",
   "metadata": {},
   "outputs": [],
   "source": []
  },
  {
   "cell_type": "markdown",
   "id": "96cb28ad",
   "metadata": {},
   "source": [
    "## 빈문자열 확인 "
   ]
  },
  {
   "cell_type": "code",
   "execution_count": 4,
   "id": "aec3df71",
   "metadata": {},
   "outputs": [
    {
     "name": "stdout",
     "output_type": "stream",
     "text": [
      "이스케이프가 문자열에 있음\n",
      "빈 문자열 \n",
      "문자 개수는 7\n",
      "문자 개수는 6\n",
      "문자 개수는 6\n",
      "문자 개수는 5\n"
     ]
    }
   ],
   "source": [
    "val s1 = \"\\t\"\n",
    "\n",
    "if (s1.isEmpty()) println(\"문자열 내에 문자가 없음 \")  // 이스케이프문자를 문자로 봄 \n",
    "else println(\"이스케이프가 문자열에 있음\")\n",
    "\n",
    "if (s1.isBlank()) println(\"빈 문자열 \")             // 이스케이프는 문자로 안 봄\n",
    "else  println(\"빈 문자열이 아님\")\n",
    "\n",
    "val s2 = \" Eagle\\t\"\n",
    "println(\"문자 개수는 ${s2.length}\")                 //공백, 이스케이프 포함 7개문자 \n",
    "\n",
    "val s3 = s2.trimEnd()\n",
    "println(\"문자 개수는 ${s3.length}\")                 //공백만 제거\n",
    "\n",
    "val s4 = s2.trimStart()\n",
    "println(\"문자 개수는 ${s4.length}\")                 //공백만 제거\n",
    "\n",
    "val s5 = s2.trim()\n",
    "println(\"문자 개수는 ${s5.length}\")                 //공백과 이스케이프문자 제거"
   ]
  },
  {
   "cell_type": "code",
   "execution_count": null,
   "id": "95070249",
   "metadata": {},
   "outputs": [],
   "source": []
  },
  {
   "cell_type": "code",
   "execution_count": null,
   "id": "b756fa4e",
   "metadata": {},
   "outputs": [],
   "source": []
  },
  {
   "cell_type": "markdown",
   "id": "4a519dc0",
   "metadata": {},
   "source": [
    "## 대소문자 처리"
   ]
  },
  {
   "cell_type": "code",
   "execution_count": 5,
   "id": "cca44209",
   "metadata": {},
   "outputs": [
    {
     "name": "stdout",
     "output_type": "stream",
     "text": [
      "대소문자 구분 처리\n",
      "동일한 문자열\n",
      "Young eagle\n",
      "hornet\n",
      "YOUNG EAGLE\n",
      "young eagle\n",
      "문자열 붙이기더하기\n",
      "(튜플, 만들기)\n"
     ]
    }
   ],
   "source": [
    "val s1 = \"Eagle\"\n",
    "val s2 = \"eagle\"\n",
    "\n",
    "if (s1 == s2) println(\"동일한 문자열\")       // 객체간 비교\n",
    "else  println(\"대소문자 구분 처리\")\n",
    "\n",
    "val res = s1.compareTo(s2, true)          // 대소문자 구분 안함\n",
    "if (res == 0) println(\"동일한 문자열\")\n",
    "else println(\"대소문자 구분 처리\")\n",
    "\n",
    "val s3 = \"young eagle\"\n",
    "println(s3.replaceFirstChar({ it.uppercase() }))        // 첫번째 문자를 대문자\n",
    "println(\"Hornet\".replaceFirstChar({ it.lowercase() }))  // 대문자를 소문자 \n",
    "\n",
    "println(s3.uppercase())                 // 전체를 대문자\n",
    "println(s3.lowercase())                 // 전체를 소문자\n",
    "\n",
    "val splus = \"문자열 붙이기\" + \"더하기\"         //문자열 연결 \n",
    "println(splus)\n",
    "\n",
    "val sto = \"튜플\" to \"만들기\"                 // 튜플만들기\n",
    "println(sto)"
   ]
  },
  {
   "cell_type": "code",
   "execution_count": null,
   "id": "12e78154",
   "metadata": {},
   "outputs": [],
   "source": []
  },
  {
   "cell_type": "markdown",
   "id": "93c1ddec",
   "metadata": {},
   "source": [
    "## 문자 필터링 "
   ]
  },
  {
   "cell_type": "code",
   "execution_count": 6,
   "id": "6b4c62f3",
   "metadata": {},
   "outputs": [
    {
     "name": "stdout",
     "output_type": "stream",
     "text": [
      "result = oaiaua\n",
      "모음 확인하기 : 6 vowels\n",
      "result = oaiaua\n",
      "모음 확인하기 : 6 vowels\n"
     ]
    }
   ],
   "source": [
    "fun Char.isEnglishVowel(): Boolean =  \n",
    "        this.lowercase() == 'a'.toString()      //문자열과 문자열 비교 \n",
    "        || this.lowercase() == 'e'.toString()\n",
    "        || this.lowercase() == 'i'.toString()\n",
    "        || this.lowercase() == 'o'.toString()\n",
    "        || this.lowercase() == 'u'.toString()\n",
    "  \n",
    "\n",
    "val s = \"Today is a sunny day.\"\n",
    "val res = s.filter { e -> e.isEnglishVowel()}  //문자열 필터해서 문자만 추출\n",
    "println(\"result = ${res}\")\n",
    "println(\"모음 확인하기 : ${res.length} vowels\")\n",
    "\n",
    "var res1:String = \"\"                           // filter를 순환문으로 처리하기\n",
    "for (i in s) {\n",
    "    if (i.isEnglishVowel()) {\n",
    "        res1 = res1 + i.toString()\n",
    "    }\n",
    "}\n",
    "println(\"result = ${res1}\")\n",
    "println(\"모음 확인하기 : ${res1?.length} vowels\")"
   ]
  },
  {
   "cell_type": "code",
   "execution_count": null,
   "id": "a252ebc0",
   "metadata": {},
   "outputs": [],
   "source": []
  },
  {
   "cell_type": "code",
   "execution_count": null,
   "id": "aa5a8782",
   "metadata": {},
   "outputs": [],
   "source": []
  },
  {
   "cell_type": "markdown",
   "id": "7339f238",
   "metadata": {},
   "source": [
    "## 시작 문자와 끝문자 체크"
   ]
  },
  {
   "cell_type": "code",
   "execution_count": 7,
   "id": "f146a4d2",
   "metadata": {},
   "outputs": [
    {
     "name": "stdout",
     "output_type": "stream",
     "text": [
      "첫문자가 같은 것 = [boy]\n",
      "마지막 문자가 같은 것  = [tourist, sonnet, pleasant]\n",
      "bo로 시작하는 문자열?(앞부터 검색) book\n",
      "ok로 끝나는 문자열?(뒤부터 검색) book\n"
     ]
    }
   ],
   "source": [
    "val words = listOf(\"tank\", \"boy\", \"tourist\", \"ten\",\n",
    "            \"pen\", \"car\", \"marble\", \"sonnet\", \"pleasant\",\n",
    "            \"ink\", \"atom\")\n",
    "\n",
    "val res1 = words.filter { e -> e.startsWith(\"b\") }\n",
    "println(\"첫문자가 같은 것 = $res1\")\n",
    "\n",
    "val res2 = words.filter { e -> e.endsWith(\"t\") }\n",
    "println(\"마지막 문자가 같은 것  = $res2\")\n",
    "\n",
    "\n",
    "val ml = mutableListOf(\"abc\", \"sort\",\"book\", \n",
    "                       \"book4\", \"roll\", \"book2\", \"book3\")\n",
    "\n",
    "val res3 = ml.find { it.startsWith(\"bo\") }           // 리스트의 find로 순환검색\n",
    "println(\"bo로 시작하는 문자열?(앞부터 검색) $res3\")\n",
    "\n",
    "val res4 = ml.findLast { it.endsWith(\"ok\") }          // 리스트의 findLast역순환검색\n",
    "println(\"ok로 끝나는 문자열?(뒤부터 검색) $res4\")"
   ]
  },
  {
   "cell_type": "code",
   "execution_count": null,
   "id": "30da4512",
   "metadata": {},
   "outputs": [],
   "source": []
  },
  {
   "cell_type": "markdown",
   "id": "b08ce791",
   "metadata": {},
   "source": [
    "## 문자열 분해 및 연결 "
   ]
  },
  {
   "cell_type": "code",
   "execution_count": 8,
   "id": "9be8ebcd",
   "metadata": {},
   "outputs": [
    {
     "name": "stdout",
     "output_type": "stream",
     "text": [
      "Today is a rainy day.\n",
      "true\n",
      "[독수리, 매, 올빼미, 까치]\n",
      "독수리,매,올빼미,까치\n",
      "열\n",
      "열\n",
      "열을\n",
      "열을\n"
     ]
    }
   ],
   "source": [
    "val s1 = \"Today is a sunny day.\"\n",
    "val w = s1.replace(\"sunny\", \"rainy\")     //문자열변경 \n",
    "println(w)\n",
    "\n",
    "\n",
    "val s2 = \"Today is a sunny day.\"\n",
    "println(s2.contains(\"Today\"))            //포함관계\n",
    "\n",
    "val word = \"독수리,매,올빼미,까치\"\n",
    "val birds = word.split(\",\")              //문자열을 분리\n",
    "println(birds)\n",
    "val joins = birds.joinToString(\",\")      //문자열로 결합\n",
    "println(joins)                           //조인된 결과 출력\n",
    "\n",
    "val sss = \"문자열을 처리하다\"\n",
    "println(sss.subSequence(2,3))            //서브문자열 처리\n",
    "println(sss.substring(2,3))\n",
    "println(sss.substring(2..3))\n",
    "println(sss.slice(2..3))"
   ]
  },
  {
   "cell_type": "code",
   "execution_count": null,
   "id": "0deb9ff5",
   "metadata": {},
   "outputs": [],
   "source": []
  },
  {
   "cell_type": "markdown",
   "id": "84cbb2c8",
   "metadata": {},
   "source": [
    "## 변경가능한 문자열 처리 "
   ]
  },
  {
   "cell_type": "code",
   "execution_count": 9,
   "id": "52044226",
   "metadata": {},
   "outputs": [
    {
     "name": "stdout",
     "output_type": "stream",
     "text": [
      "1. 문자열 : \n",
      " 길이= 0 용량=16\n",
      "2. 문자열 : 5강아지가true \n",
      " 길이= 9 용량= 16\n",
      "3. 문자열 : 문자열빌더54315강아지가true \n",
      " 길이= 18 용량= 34\n",
      "4. 문자열 : 열빌더54315강아지가true\n",
      " 길이= 16 용량= 34\n",
      "5. 문자열 : \n",
      " 길이= 0 용량= 34\n",
      "아버지는\n",
      "아버지가\n"
     ]
    }
   ],
   "source": [
    "var str = StringBuilder()                             // 아무것도 없는 객체  생성 \n",
    "println(\"1. 문자열 : $str\")                             // 아무것도 없어 출력해도 빈문자열 출력\n",
    "println(\" 길이= ${str.length} 용량=${str.capacity()}\")  // 현재 사용한 용량 확인                      \n",
    "str.append(5)                                         // 정수  추가 \n",
    "str.append(\"강아지\")                                    // 문자열 추가 \n",
    "str.append('가')                                       // 문자 추가 \n",
    "str.append(true)                                      // Boolean 추가 \n",
    "println(\"2. 문자열 : $str \")                            // 전체  출력 \n",
    "println(\" 길이= ${str.length} 용량= ${str.capacity()}\")                            \n",
    "str.insert(0,5431)                                    // 특정 인덱스 지정후 정수 추가 \n",
    "str.insert(0,\"문자열빌더\")                               // 특정 인덱스 지정후 문자열 추가\n",
    "println(\"3. 문자열 : $str \")\n",
    "println(\" 길이= ${str.length} 용량= ${str.capacity()}\")                \n",
    "str.deleteCharAt(0)                                    // 인덱스를 원소로 전달 \n",
    "str.delete(0, 1)                                       // 특정 인덱스를 지정해서 삭제 \n",
    "println(\"4. 문자열 : $str\")\n",
    "println(\" 길이= ${str.length} 용량= ${str.capacity()}\")\n",
    "str.clear()\n",
    "println(\"5. 문자열 : $str\")\n",
    "println(\" 길이= ${str.length} 용량= ${str.capacity()}\")                      \n",
    "str.clear()                                            //  전체 삭제 \n",
    "str.append(\"아버지는\")                                   //  문자열 다시 추가 \n",
    "println(str)\n",
    "str.setCharAt(3,'가')                                   // 문자 하나만 변경 \n",
    "println(str)"
   ]
  },
  {
   "cell_type": "code",
   "execution_count": null,
   "id": "a9bb4c7b",
   "metadata": {},
   "outputs": [],
   "source": []
  },
  {
   "cell_type": "code",
   "execution_count": null,
   "id": "b5d372f8",
   "metadata": {},
   "outputs": [],
   "source": []
  }
 ],
 "metadata": {
  "kernelspec": {
   "display_name": "Kotlin",
   "language": "kotlin",
   "name": "kotlin"
  },
  "language_info": {
   "codemirror_mode": "text/x-kotlin",
   "file_extension": ".kt",
   "mimetype": "text/x-kotlin",
   "name": "kotlin",
   "nbconvert_exporter": "",
   "pygments_lexer": "kotlin",
   "version": "1.8.0-dev-3517"
  }
 },
 "nbformat": 4,
 "nbformat_minor": 5
}
