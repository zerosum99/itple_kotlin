{
 "cells": [
  {
   "cell_type": "code",
   "execution_count": null,
   "id": "bc83c04a",
   "metadata": {},
   "outputs": [],
   "source": []
  },
  {
   "cell_type": "code",
   "execution_count": 1,
   "id": "867f6c30",
   "metadata": {},
   "outputs": [
    {
     "data": {
      "text/plain": [
       "1.8.0"
      ]
     },
     "execution_count": 1,
     "metadata": {},
     "output_type": "execute_result"
    }
   ],
   "source": [
    "KotlinVersion.CURRENT             // 코틀린 현재 버전 "
   ]
  },
  {
   "cell_type": "code",
   "execution_count": null,
   "id": "26cd057f",
   "metadata": {},
   "outputs": [],
   "source": []
  },
  {
   "cell_type": "markdown",
   "id": "2b82c6af",
   "metadata": {},
   "source": [
    "## 달력 일자 기준 처리 "
   ]
  },
  {
   "cell_type": "code",
   "execution_count": 2,
   "id": "861d318e",
   "metadata": {},
   "outputs": [
    {
     "name": "stdout",
     "output_type": "stream",
     "text": [
      "Date : 2022-10-24 16:18:17\n"
     ]
    }
   ],
   "source": [
    "import java.util.Calendar                         // 달력처리 \n",
    "\n",
    "val today = Calendar.getInstance()                // 캘린더로 현재 일자 생성 \n",
    "\n",
    "val year = today.get(Calendar.YEAR)               // 년도 조회 \n",
    "val month = today.get(Calendar.MONTH) + 1         // 월 조회 : 0부터시작해서 + 1 필요\n",
    "val day = today.get(Calendar.DAY_OF_MONTH)        // 일자  \n",
    "val hour = today.get(Calendar.HOUR_OF_DAY)        // 시간 \n",
    "val minute = today.get(Calendar.MINUTE)           // 분 \n",
    "val second = today.get(Calendar.SECOND)           // 초\n",
    "\n",
    "println(\"Date : $year-$month-$day $hour:$minute:$second\")"
   ]
  },
  {
   "cell_type": "code",
   "execution_count": null,
   "id": "120b6122",
   "metadata": {},
   "outputs": [],
   "source": []
  },
  {
   "cell_type": "markdown",
   "id": "cc7ea72c",
   "metadata": {},
   "source": [
    "## Date 기준"
   ]
  },
  {
   "cell_type": "code",
   "execution_count": 3,
   "id": "4571fa03",
   "metadata": {},
   "outputs": [
    {
     "name": "stdout",
     "output_type": "stream",
     "text": [
      "Current: 2022-10-24\n",
      "임의지정 : 2022년 10월 24일 16시 18분 17초\n",
      "년월일 : 2022-10-24\n",
      "일영어월일 : 24-10월-2022\n",
      "일월일 : 24/10/2022\n",
      "연월일시분초 : 2022-10-24T16:18:17\n",
      "시분 : 4:18 오후\n"
     ]
    }
   ],
   "source": [
    "import java.util.Date                                          // 데이트 처리 \n",
    "import java.text.SimpleDateFormat                              // 데이트 포맷처리 \n",
    "\n",
    "val arft = mapOf(\"임의지정\"   to \"yyyy년 MM월 dd일 HH시 mm분 ss초\", // 다양한 포맷을 맵에 저장 \n",
    "                 \"년월일\"    to \"yyyy-MM-dd\",\n",
    "                 \"일영어월일\" to \"dd-MMM-yyyy\",\n",
    "                 \"일월일\"    to \"dd/MM/yyyy\",\n",
    "                 \"연월일시분초\" to \"yyyy-MM-dd'T'HH:mm:ss\",\n",
    "                 \"시분\"      to \"h:mm a\")\n",
    "\n",
    "val current = Date()                                           // 현재 날짜 및 시간을 가져옴\n",
    "\n",
    "var formatted = SimpleDateFormat(\"yyyy-MM-dd\")                 // 포매팅 처리 \n",
    "println(\"Current: ${formatted.format(current)}\")               // 출력 \n",
    "\n",
    "\n",
    "for ((key,formating) in arft) {                                // 다양한 포매팅처리\n",
    "    formatted = SimpleDateFormat(formating)\n",
    "    println(\"$key : ${formatted.format(current)}\")\n",
    "}"
   ]
  },
  {
   "cell_type": "code",
   "execution_count": null,
   "id": "b3bff4da",
   "metadata": {},
   "outputs": [],
   "source": []
  },
  {
   "cell_type": "markdown",
   "id": "7277fb72",
   "metadata": {},
   "source": [
    "## 시스템 일자"
   ]
  },
  {
   "cell_type": "code",
   "execution_count": 4,
   "id": "31fcdab7",
   "metadata": {},
   "outputs": [
    {
     "name": "stdout",
     "output_type": "stream",
     "text": [
      "시스템 시간 : 1666595897598\n",
      "날짜로 변환 : Mon Oct 24 16:18:17 KST 2022\n",
      "현재 날짜 및 시간 : 2022-10-24 04:18:17\n"
     ]
    }
   ],
   "source": [
    "import java.text.SimpleDateFormat\n",
    "import java.util.Date\n",
    "\n",
    "val long_now = System.currentTimeMillis()                   // 현재시간을 가져오기\n",
    "println(\"시스템 시간 : \" + long_now)\n",
    "\n",
    "val t_date = Date(long_now)                                // 현재 시간을 Date 타입으로 변환\n",
    "println(\"날짜로 변환 : \"  + t_date)\n",
    "\n",
    "val t_dateFormat = SimpleDateFormat(\"yyyy-MM-dd hh:mm:ss\") // 포매팅 처리 \n",
    "\n",
    "val str_date = t_dateFormat.format(t_date)                 //  String 으로 변환\n",
    "println(\"현재 날짜 및 시간 : \"+str_date)"
   ]
  },
  {
   "cell_type": "code",
   "execution_count": null,
   "id": "1b66ea54",
   "metadata": {},
   "outputs": [],
   "source": []
  },
  {
   "cell_type": "code",
   "execution_count": null,
   "id": "a8c4c834",
   "metadata": {},
   "outputs": [],
   "source": []
  },
  {
   "cell_type": "code",
   "execution_count": null,
   "id": "a6fa5299",
   "metadata": {},
   "outputs": [],
   "source": []
  }
 ],
 "metadata": {
  "kernelspec": {
   "display_name": "Kotlin",
   "language": "kotlin",
   "name": "kotlin"
  },
  "language_info": {
   "codemirror_mode": "text/x-kotlin",
   "file_extension": ".kt",
   "mimetype": "text/x-kotlin",
   "name": "kotlin",
   "nbconvert_exporter": "",
   "pygments_lexer": "kotlin",
   "version": "1.8.0-dev-3517"
  }
 },
 "nbformat": 4,
 "nbformat_minor": 5
}
