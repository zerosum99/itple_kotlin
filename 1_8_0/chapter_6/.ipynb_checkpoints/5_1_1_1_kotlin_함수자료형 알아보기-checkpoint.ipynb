{
 "cells": [
  {
   "cell_type": "markdown",
   "id": "6436594f",
   "metadata": {},
   "source": [
    "## 함수 자료형 지정하기"
   ]
  },
  {
   "cell_type": "markdown",
   "id": "dd57cbc0",
   "metadata": {},
   "source": [
    "### 람다표현식"
   ]
  },
  {
   "cell_type": "code",
   "execution_count": 1,
   "id": "42c1f4cc",
   "metadata": {},
   "outputs": [
    {
     "name": "stdout",
     "output_type": "stream",
     "text": [
      "함수 \n",
      "30\n",
      "30\n"
     ]
    }
   ],
   "source": [
    "val a : ()-> Unit = { println(\"함수 \")}       // 매개변수 없고 반환값은 Unit으로 처리 \n",
    "val b : (Int)-> Int = { x -> x * 3}          // 허나의 매개변수로 처리하고 반환값은 Int\n",
    "val c : (Int,Int)-> Int = {x,y -> x+y }      // 두 개의 매개변수 처리하고 반환값은 Int \n",
    "\n",
    "a()\n",
    "println(b(10))\n",
    "println(c(10,20))\n"
   ]
  },
  {
   "cell_type": "code",
   "execution_count": null,
   "id": "6efea77d",
   "metadata": {},
   "outputs": [],
   "source": []
  },
  {
   "cell_type": "markdown",
   "id": "d816e4b0",
   "metadata": {},
   "source": [
    "### 익명함수"
   ]
  },
  {
   "cell_type": "code",
   "execution_count": 2,
   "id": "9f5edd2a",
   "metadata": {},
   "outputs": [
    {
     "name": "stdout",
     "output_type": "stream",
     "text": [
      "함수 \n",
      "30\n",
      "30\n"
     ]
    }
   ],
   "source": [
    "val d : ()-> Unit = fun(){ println(\"함수 \")}   // 매개변수 없고 반환값은 Unit으로 처리 \n",
    "val e : (Int)-> Int = fun(x:Int):Int{ \n",
    "                              return x * 3}   // 허나의 매개변수로 처리하고 반환값은 Int\n",
    "val f : (Int,Int)-> Int = fun(x:Int, \n",
    "                              y:Int):Int{\n",
    "                              return x+y }    // 두 개의 매개변수 처리하고 반환값은 Int \n",
    "\n",
    "d()\n",
    "println(e(10))\n",
    "println(f(10,20))"
   ]
  },
  {
   "cell_type": "code",
   "execution_count": null,
   "id": "f42d7e7c",
   "metadata": {},
   "outputs": [],
   "source": []
  },
  {
   "cell_type": "markdown",
   "id": "9f58945e",
   "metadata": {},
   "source": [
    "### 함수 "
   ]
  },
  {
   "cell_type": "code",
   "execution_count": 3,
   "id": "fcac63f9",
   "metadata": {},
   "outputs": [
    {
     "name": "stdout",
     "output_type": "stream",
     "text": [
      "함수 \n",
      "30\n",
      "30\n"
     ]
    }
   ],
   "source": [
    "fun unit(){ println(\"함수 \")} \n",
    "fun triple(x:Int):Int{return x * 3}\n",
    "fun add(x:Int, y:Int):Int{return x+y }\n",
    "\n",
    "val g: ()-> Unit = ::unit                // 매개변수 없고 반환값은 Unit으로 처리 \n",
    "val h : (Int)-> Int = ::triple           // 허나의 매개변수로 처리하고 반환값은 Int\n",
    "val i : (Int,Int)-> Int = :: add         // 두 개의 매개변수 처리하고 반환값은 Int \n",
    "\n",
    "g()\n",
    "println(h(10))\n",
    "println(i(10,20))"
   ]
  },
  {
   "cell_type": "code",
   "execution_count": null,
   "id": "ab6f94fd",
   "metadata": {},
   "outputs": [],
   "source": []
  },
  {
   "cell_type": "code",
   "execution_count": 9,
   "id": "6b7dbe48",
   "metadata": {},
   "outputs": [
    {
     "name": "stdout",
     "output_type": "stream",
     "text": [
      "Hello\n",
      "Hello\n",
      "I am printing\n",
      "I am printing\n"
     ]
    }
   ],
   "source": [
    "fun greetFunction() :Unit {\n",
    "    println(\"Hello\")\n",
    "}\n",
    "val greet = ::greetFunction\n",
    "\n",
    "val greet2 = {println(\"Hello\")}\n",
    "\n",
    "greet()\n",
    "greet2()\n",
    "\n",
    "val producePrinter: ()->()->Unit = { { println(\"I am printing\") } }\n",
    "\n",
    "val producePrinter1 = { { println(\"I am printing\") } }\n",
    "producePrinter()() // Prints: I am printing\n",
    "producePrinter1()() // Prints: I am printing"
   ]
  },
  {
   "cell_type": "code",
   "execution_count": null,
   "id": "3d43756a",
   "metadata": {},
   "outputs": [],
   "source": []
  },
  {
   "cell_type": "code",
   "execution_count": null,
   "id": "0a63c5c6",
   "metadata": {},
   "outputs": [],
   "source": []
  },
  {
   "cell_type": "code",
   "execution_count": 8,
   "id": "ecab4543",
   "metadata": {},
   "outputs": [
    {
     "name": "stdout",
     "output_type": "stream",
     "text": [
      "호출 1\n",
      "호출 2\n"
     ]
    }
   ],
   "source": [
    "class MyFunction: ()->Unit {\n",
    "    override fun invoke() {\n",
    "        println(\"호출 1\")\n",
    "    }\n",
    "}\n",
    "\n",
    "val function = MyFunction()\n",
    "function()                      // Prints: I am called\n",
    "\n",
    "class A : Function<Unit> {\n",
    "      operator fun invoke() {\n",
    "        println(\"호출 2\")\n",
    "    }\n",
    "}\n",
    "\n",
    "val functionA = A()\n",
    "functionA()"
   ]
  },
  {
   "cell_type": "code",
   "execution_count": null,
   "id": "bb4283c1",
   "metadata": {},
   "outputs": [],
   "source": []
  },
  {
   "cell_type": "markdown",
   "id": "0a93bfa5",
   "metadata": {},
   "source": [
    "## 클래스 Object 참조"
   ]
  },
  {
   "cell_type": "code",
   "execution_count": null,
   "id": "aedee359",
   "metadata": {},
   "outputs": [],
   "source": []
  },
  {
   "cell_type": "code",
   "execution_count": 10,
   "id": "ab2f7de3",
   "metadata": {},
   "outputs": [
    {
     "name": "stdout",
     "output_type": "stream",
     "text": [
      "fun Line_10.C.foo1(): kotlin.Unit\n",
      "fun Line_10.C.foo1(): kotlin.Unit\n",
      "fun Line_10.C.Companion.foo(): kotlin.Unit\n",
      "fun Line_10.C.Companion.foo(): kotlin.Unit\n"
     ]
    }
   ],
   "source": [
    "class C {\n",
    "    companion object {\n",
    "        fun foo() {}\n",
    "    }\n",
    "\n",
    "    fun foo1() {}\n",
    "}\n",
    "\n",
    "\n",
    "println(C::foo1)             // unbound reference to 'foo1' in C, type: '(C) -> Unit'\n",
    "println(C()::foo1)           // bound reference to 'foo1' in C, type: '() -> Unit'\n",
    "println((C)::foo )           // bound reference to 'foo' in C.Companion, type: '() -> Unit'\n",
    "println(C.Companion::foo)    // bound reference to 'foo' in C.Companion, type: '() -> Unit'\n"
   ]
  },
  {
   "cell_type": "code",
   "execution_count": null,
   "id": "39487828",
   "metadata": {},
   "outputs": [],
   "source": []
  },
  {
   "cell_type": "code",
   "execution_count": 6,
   "id": "36164eb1",
   "metadata": {},
   "outputs": [],
   "source": [
    "object O {\n",
    "    fun foo(x:String) {println(\"실행 $x\")}\n",
    "}\n",
    "\n",
    "fun consume(x : String, f: (String) -> Unit) {f(x)}\n",
    "\n",
    "fun test() {\n",
    "    println(O::foo)                    // object 내부의 함수 \n",
    "    consume(\"함수\",O::foo)              // object 내부의 함수 처리\n",
    "}"
   ]
  },
  {
   "cell_type": "code",
   "execution_count": 7,
   "id": "fd1ad264",
   "metadata": {},
   "outputs": [
    {
     "name": "stdout",
     "output_type": "stream",
     "text": [
      "fun Line_5.O.foo(kotlin.String): kotlin.Unit\n",
      "실행 함수\n"
     ]
    }
   ],
   "source": [
    "test()"
   ]
  },
  {
   "cell_type": "code",
   "execution_count": null,
   "id": "139cfff2",
   "metadata": {},
   "outputs": [],
   "source": []
  },
  {
   "cell_type": "code",
   "execution_count": null,
   "id": "448a0b42",
   "metadata": {},
   "outputs": [],
   "source": []
  }
 ],
 "metadata": {
  "kernelspec": {
   "display_name": "Kotlin",
   "language": "kotlin",
   "name": "kotlin"
  },
  "language_info": {
   "codemirror_mode": "text/x-kotlin",
   "file_extension": ".kt",
   "mimetype": "text/x-kotlin",
   "name": "kotlin",
   "nbconvert_exporter": "",
   "pygments_lexer": "kotlin",
   "version": "1.7.0-dev-1825"
  }
 },
 "nbformat": 4,
 "nbformat_minor": 5
}
