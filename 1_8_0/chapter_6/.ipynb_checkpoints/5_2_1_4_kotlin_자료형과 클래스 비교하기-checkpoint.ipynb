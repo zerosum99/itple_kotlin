{
 "cells": [
  {
   "cell_type": "code",
   "execution_count": null,
   "id": "efa14ce2",
   "metadata": {},
   "outputs": [],
   "source": []
  },
  {
   "cell_type": "code",
   "execution_count": 1,
   "id": "e95e1490",
   "metadata": {},
   "outputs": [
    {
     "data": {
      "text/plain": [
       "1.7.20"
      ]
     },
     "execution_count": 1,
     "metadata": {},
     "output_type": "execute_result"
    }
   ],
   "source": [
    "KotlinVersion.CURRENT             // 코틀린 현재 버전 "
   ]
  },
  {
   "cell_type": "code",
   "execution_count": null,
   "id": "1fc0e7f1",
   "metadata": {},
   "outputs": [],
   "source": []
  },
  {
   "cell_type": "markdown",
   "id": "d930f167-3275-48fd-8b71-38098e955036",
   "metadata": {},
   "source": [
    "## 1. 클래스는 자료형"
   ]
  },
  {
   "cell_type": "code",
   "execution_count": 2,
   "id": "4f8d2cc6-9e09-4a37-ac6f-4f50f9657e47",
   "metadata": {},
   "outputs": [
    {
     "name": "stdout",
     "output_type": "stream",
     "text": [
      "class kotlin.Int\n",
      "int\n",
      "class kotlin.Int\n",
      "class java.lang.Integer\n",
      "false\n",
      "200\n"
     ]
    }
   ],
   "source": [
    "val a : kotlin.Int = 100                           //클래스는 자료형 \n",
    "println(a::class)\n",
    "println(a.javaClass)\n",
    "\n",
    "val b : java.lang.Integer  = java.lang.Integer(100)// 클래스는 자료형\n",
    "println(b::class)\n",
    "println(b.javaClass)\n",
    "\n",
    "println(a.javaClass === b.javaClass)\n",
    "\n",
    "println(a + b.toInt())                               // 동일한 자료형으로 변환 후 계산 "
   ]
  },
  {
   "cell_type": "code",
   "execution_count": null,
   "id": "b5988164",
   "metadata": {},
   "outputs": [],
   "source": []
  },
  {
   "cell_type": "markdown",
   "id": "1a9a69c0-7674-45ea-a7a9-95d748894397",
   "metadata": {},
   "source": [
    "## 2. 함수나 object 변수에 정의할 때 자료형"
   ]
  },
  {
   "cell_type": "code",
   "execution_count": 3,
   "id": "74e35322-bdcb-4462-b1c4-a20dee44930e",
   "metadata": {},
   "outputs": [
    {
     "name": "stdout",
     "output_type": "stream",
     "text": [
      "300\n",
      "3000\n",
      "class Line_3$Animal\n"
     ]
    }
   ],
   "source": [
    "import kotlin.reflect.KFunction \n",
    "import kotlin.reflect.KFunction1 \n",
    "import kotlin.reflect.KFunction2\n",
    "\n",
    "fun add(x:Int, y:Int) : Int = x+y\n",
    "\n",
    "val c : (Int, Int) -> Int = ::add        //함수도 자료형 \n",
    "println(c(100,200))\n",
    "\n",
    "val d : KFunction2<Int,Int,Int> = ::add  //함수 자료형 \n",
    "println(d(1000,2000))\n",
    "\n",
    "object Animal                            // object도 자료형\n",
    "\n",
    "val e : Animal = Animal\n",
    "println(e.javaClass.kotlin)"
   ]
  },
  {
   "cell_type": "code",
   "execution_count": null,
   "id": "e87c234a-b249-40de-9e2f-0da0ca9763ff",
   "metadata": {},
   "outputs": [],
   "source": []
  },
  {
   "cell_type": "markdown",
   "id": "d9298006-37eb-495f-9750-e2fae1fbfa59",
   "metadata": {},
   "source": [
    "## 3. 클래스, 인터페이스 와 객체에 대한 자료형"
   ]
  },
  {
   "cell_type": "code",
   "execution_count": null,
   "id": "6d13bc6f",
   "metadata": {},
   "outputs": [],
   "source": []
  },
  {
   "cell_type": "code",
   "execution_count": 4,
   "id": "516975a8-8f04-4501-bd13-923d8e1ed1d9",
   "metadata": {},
   "outputs": [
    {
     "name": "stdout",
     "output_type": "stream",
     "text": [
      "3000\n",
      "300\n",
      "300\n",
      "300\n"
     ]
    }
   ],
   "source": [
    "interface Countable {                       //인터페이스\n",
    "    fun add(x:Int, y:Int) : Int             //추상메소드\n",
    "}\n",
    "\n",
    "abstract class Abstract {                    //추상클래스 \n",
    "    abstract fun addA(x:Int, y:Int) : Int    //추상메소두\n",
    "}\n",
    "\n",
    "class Add : Abstract(), Countable {          //추상클래스와 인터페이스 상속\n",
    "    override fun add(x:Int, \n",
    "                     y:Int) : Int = x + y\n",
    "    \n",
    "    override fun addA(x:Int, y:Int) : Int = x + y\n",
    "}\n",
    "\n",
    "val aa : Abstract = Add()                    // 추상클래스가 자료형\n",
    "println(aa.addA(1000,2000))\n",
    "\n",
    "val ad : Add = Add()                         // 구현클래스가 자료형\n",
    "println(ad.add(100,200))\n",
    "println(ad.addA(100,200))\n",
    "\n",
    "val ac : Countable = Add()                   // 인터페이스가 자료형\n",
    "\n",
    "println(ad.add(100,200))\n",
    "//println(ad.addA(100,200))   //인터페이스 범위가 아니라서 호출금지"
   ]
  },
  {
   "cell_type": "code",
   "execution_count": null,
   "id": "3b6f4058-8ca4-41b1-a4ef-34e36f9e11e1",
   "metadata": {},
   "outputs": [],
   "source": []
  },
  {
   "cell_type": "code",
   "execution_count": null,
   "id": "58f8cd3d",
   "metadata": {},
   "outputs": [],
   "source": []
  }
 ],
 "metadata": {
  "kernelspec": {
   "display_name": "Kotlin",
   "language": "kotlin",
   "name": "kotlin"
  },
  "language_info": {
   "codemirror_mode": "text/x-kotlin",
   "file_extension": ".kt",
   "mimetype": "text/x-kotlin",
   "name": "kotlin",
   "nbconvert_exporter": "",
   "pygments_lexer": "kotlin",
   "version": "1.7.20-dev-1299"
  }
 },
 "nbformat": 4,
 "nbformat_minor": 5
}
