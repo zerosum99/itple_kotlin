{
 "cells": [
  {
   "cell_type": "markdown",
   "id": "6d0c8502",
   "metadata": {},
   "source": [
    "## 익명함수 처리 "
   ]
  },
  {
   "cell_type": "code",
   "execution_count": 39,
   "id": "7674174a",
   "metadata": {},
   "outputs": [],
   "source": [
    "val 덧셈 = fun (매개변수1:Int, 매개변수2:Int) : Int {\n",
    "    return 매개변수1 + 매개변수2\n",
    "}"
   ]
  },
  {
   "cell_type": "code",
   "execution_count": 40,
   "id": "3cdd8a58",
   "metadata": {},
   "outputs": [
    {
     "data": {
      "text/plain": [
       "300"
      ]
     },
     "execution_count": 40,
     "metadata": {},
     "output_type": "execute_result"
    }
   ],
   "source": [
    "덧셈(100,200)"
   ]
  },
  {
   "cell_type": "code",
   "execution_count": 42,
   "id": "152ae32e",
   "metadata": {},
   "outputs": [
    {
     "data": {
      "text/plain": [
       "300"
      ]
     },
     "execution_count": 42,
     "metadata": {},
     "output_type": "execute_result"
    }
   ],
   "source": [
    "(fun (매개변수1:Int, 매개변수2:Int) : Int {\n",
    "    return 매개변수1 + 매개변수2\n",
    "}) (100,200)"
   ]
  },
  {
   "cell_type": "markdown",
   "id": "82e9172c",
   "metadata": {},
   "source": [
    "## 일반함수 처리 "
   ]
  },
  {
   "cell_type": "code",
   "execution_count": 1,
   "id": "d765fab7",
   "metadata": {},
   "outputs": [],
   "source": [
    "fun add(x:Int, y:Int) = x+y"
   ]
  },
  {
   "cell_type": "code",
   "execution_count": 2,
   "id": "167da4e3",
   "metadata": {},
   "outputs": [
    {
     "data": {
      "text/plain": [
       "300"
      ]
     },
     "execution_count": 2,
     "metadata": {},
     "output_type": "execute_result"
    }
   ],
   "source": [
    "add(100,200)"
   ]
  },
  {
   "cell_type": "code",
   "execution_count": 3,
   "id": "76824486",
   "metadata": {},
   "outputs": [],
   "source": [
    "val a = ::add"
   ]
  },
  {
   "cell_type": "code",
   "execution_count": 4,
   "id": "4a157324",
   "metadata": {},
   "outputs": [
    {
     "data": {
      "text/plain": [
       "500"
      ]
     },
     "execution_count": 4,
     "metadata": {},
     "output_type": "execute_result"
    }
   ],
   "source": [
    "a(200,300)"
   ]
  },
  {
   "cell_type": "markdown",
   "id": "2517838d",
   "metadata": {},
   "source": [
    "## 익명함수 변수할당"
   ]
  },
  {
   "cell_type": "code",
   "execution_count": 5,
   "id": "eceb223b",
   "metadata": {},
   "outputs": [
    {
     "data": {
      "text/plain": [
       "300"
      ]
     },
     "execution_count": 5,
     "metadata": {},
     "output_type": "execute_result"
    }
   ],
   "source": [
    "(fun (x:Int, y:Int) = x+y)(100,200)"
   ]
  },
  {
   "cell_type": "code",
   "execution_count": 6,
   "id": "24c32390",
   "metadata": {},
   "outputs": [],
   "source": [
    "val b : (Int,Int) -> Int = fun (x:Int, y:Int) = x+y"
   ]
  },
  {
   "cell_type": "code",
   "execution_count": 7,
   "id": "38266c8a",
   "metadata": {},
   "outputs": [
    {
     "data": {
      "text/plain": [
       "500"
      ]
     },
     "execution_count": 7,
     "metadata": {},
     "output_type": "execute_result"
    }
   ],
   "source": [
    "b(200,300)"
   ]
  },
  {
   "cell_type": "code",
   "execution_count": 8,
   "id": "3b1975be",
   "metadata": {},
   "outputs": [],
   "source": [
    "val c = b"
   ]
  },
  {
   "cell_type": "code",
   "execution_count": 9,
   "id": "1097908e",
   "metadata": {},
   "outputs": [
    {
     "data": {
      "text/plain": [
       "500"
      ]
     },
     "execution_count": 9,
     "metadata": {},
     "output_type": "execute_result"
    }
   ],
   "source": [
    "c(200,300)"
   ]
  },
  {
   "cell_type": "markdown",
   "id": "e1880ffd",
   "metadata": {},
   "source": [
    "## 내부 함수 정의"
   ]
  },
  {
   "cell_type": "code",
   "execution_count": 10,
   "id": "a5d47470",
   "metadata": {},
   "outputs": [
    {
     "data": {
      "text/plain": [
       "30"
      ]
     },
     "execution_count": 10,
     "metadata": {},
     "output_type": "execute_result"
    }
   ],
   "source": [
    "(fun (x:Int) : (Int)->Int{\n",
    "    val inner = fun(y:Int):Int{ \n",
    "        return x+y\n",
    "    }\n",
    "    return inner\n",
    "}) (10)(20)"
   ]
  },
  {
   "cell_type": "code",
   "execution_count": null,
   "id": "9f72a102",
   "metadata": {},
   "outputs": [],
   "source": []
  },
  {
   "cell_type": "code",
   "execution_count": 11,
   "id": "7eed2b0f",
   "metadata": {},
   "outputs": [
    {
     "data": {
      "text/plain": [
       "30"
      ]
     },
     "execution_count": 11,
     "metadata": {},
     "output_type": "execute_result"
    }
   ],
   "source": [
    "(fun (x:Int) : (Int)->Int{\n",
    "    return fun(y:Int):Int{ \n",
    "        return x+y\n",
    "    }\n",
    "}) (10)(20)"
   ]
  },
  {
   "cell_type": "code",
   "execution_count": 12,
   "id": "3475e04a",
   "metadata": {},
   "outputs": [],
   "source": [
    "val x = fun (x:Int) : (Int)->Int{\n",
    "    return fun(y:Int):Int{ \n",
    "        return x+y\n",
    "    }\n",
    "}"
   ]
  },
  {
   "cell_type": "code",
   "execution_count": 13,
   "id": "56da979e",
   "metadata": {},
   "outputs": [
    {
     "data": {
      "text/plain": [
       "30"
      ]
     },
     "execution_count": 13,
     "metadata": {},
     "output_type": "execute_result"
    }
   ],
   "source": [
    "x(10)(20)"
   ]
  },
  {
   "cell_type": "code",
   "execution_count": null,
   "id": "243cb59b",
   "metadata": {},
   "outputs": [],
   "source": []
  },
  {
   "cell_type": "code",
   "execution_count": 14,
   "id": "349744f0",
   "metadata": {},
   "outputs": [],
   "source": [
    "fun gt(a: Int, b: Int): Boolean = a > b"
   ]
  },
  {
   "cell_type": "code",
   "execution_count": 15,
   "id": "1ea12d99",
   "metadata": {},
   "outputs": [
    {
     "data": {
      "text/plain": [
       "false"
      ]
     },
     "execution_count": 15,
     "metadata": {},
     "output_type": "execute_result"
    }
   ],
   "source": [
    "gt(10,20)"
   ]
  },
  {
   "cell_type": "code",
   "execution_count": null,
   "id": "c84d786b",
   "metadata": {},
   "outputs": [],
   "source": []
  },
  {
   "cell_type": "code",
   "execution_count": 16,
   "id": "1d7cae3f",
   "metadata": {},
   "outputs": [],
   "source": [
    "val d: (Int,Int)-> Boolean = ::gt"
   ]
  },
  {
   "cell_type": "code",
   "execution_count": 17,
   "id": "06da2170",
   "metadata": {},
   "outputs": [
    {
     "data": {
      "text/plain": [
       "false"
      ]
     },
     "execution_count": 17,
     "metadata": {},
     "output_type": "execute_result"
    }
   ],
   "source": [
    "d(20,20)"
   ]
  },
  {
   "cell_type": "code",
   "execution_count": 18,
   "id": "1f5cd89c",
   "metadata": {},
   "outputs": [],
   "source": [
    "import kotlin.reflect.KFunction1"
   ]
  },
  {
   "cell_type": "code",
   "execution_count": 27,
   "id": "6ae38a4f",
   "metadata": {},
   "outputs": [],
   "source": [
    "import kotlin.reflect.KFunction2"
   ]
  },
  {
   "cell_type": "code",
   "execution_count": null,
   "id": "053c0e69",
   "metadata": {},
   "outputs": [],
   "source": []
  },
  {
   "cell_type": "code",
   "execution_count": 19,
   "id": "f2f1df28",
   "metadata": {},
   "outputs": [],
   "source": [
    "fun Int.gts(b: Int): Boolean = this > b"
   ]
  },
  {
   "cell_type": "code",
   "execution_count": 20,
   "id": "8e4690b2",
   "metadata": {},
   "outputs": [
    {
     "data": {
      "text/plain": [
       "false"
      ]
     },
     "execution_count": 20,
     "metadata": {},
     "output_type": "execute_result"
    }
   ],
   "source": [
    "(100).gts(200)"
   ]
  },
  {
   "cell_type": "markdown",
   "id": "63cd27f0",
   "metadata": {},
   "source": [
    "## 함수 저장"
   ]
  },
  {
   "cell_type": "code",
   "execution_count": 21,
   "id": "c91e7c13",
   "metadata": {},
   "outputs": [],
   "source": [
    "class A(val value:Int, val an:(Int,Int)->Int){\n",
    "    fun gts(b: Int): Boolean = this.value > b\n",
    "    fun add(x:Int) : Int = an(this.value, x)\n",
    "}"
   ]
  },
  {
   "cell_type": "code",
   "execution_count": 22,
   "id": "c840c6c1",
   "metadata": {},
   "outputs": [],
   "source": [
    "val a = A(100, fun(x:Int,y:Int):Int{return  x+y})"
   ]
  },
  {
   "cell_type": "code",
   "execution_count": 23,
   "id": "6257dc63",
   "metadata": {},
   "outputs": [],
   "source": [
    "val e : KFunction1<Int,Boolean> = a::gts"
   ]
  },
  {
   "cell_type": "code",
   "execution_count": null,
   "id": "395326b8",
   "metadata": {},
   "outputs": [],
   "source": []
  },
  {
   "cell_type": "code",
   "execution_count": 24,
   "id": "b2793f72",
   "metadata": {},
   "outputs": [
    {
     "data": {
      "text/plain": [
       "false"
      ]
     },
     "execution_count": 24,
     "metadata": {},
     "output_type": "execute_result"
    }
   ],
   "source": [
    "e(200)"
   ]
  },
  {
   "cell_type": "code",
   "execution_count": 25,
   "id": "1a036170",
   "metadata": {},
   "outputs": [
    {
     "data": {
      "text/plain": [
       "200"
      ]
     },
     "execution_count": 25,
     "metadata": {},
     "output_type": "execute_result"
    }
   ],
   "source": [
    "a.add(100)"
   ]
  },
  {
   "cell_type": "code",
   "execution_count": 31,
   "id": "65114117",
   "metadata": {},
   "outputs": [],
   "source": [
    "val f  = a::add"
   ]
  },
  {
   "cell_type": "code",
   "execution_count": 32,
   "id": "3d1306ad",
   "metadata": {},
   "outputs": [
    {
     "data": {
      "text/plain": [
       "200"
      ]
     },
     "execution_count": 32,
     "metadata": {},
     "output_type": "execute_result"
    }
   ],
   "source": [
    "f(100)"
   ]
  },
  {
   "cell_type": "code",
   "execution_count": null,
   "id": "c76c7023",
   "metadata": {},
   "outputs": [],
   "source": []
  }
 ],
 "metadata": {
  "kernelspec": {
   "display_name": "Kotlin",
   "language": "kotlin",
   "name": "kotlin"
  },
  "language_info": {
   "codemirror_mode": "text/x-kotlin",
   "file_extension": ".kt",
   "mimetype": "text/x-kotlin",
   "name": "kotlin",
   "nbconvert_exporter": "",
   "pygments_lexer": "kotlin",
   "version": "1.6.0-dev-3567"
  }
 },
 "nbformat": 4,
 "nbformat_minor": 5
}
