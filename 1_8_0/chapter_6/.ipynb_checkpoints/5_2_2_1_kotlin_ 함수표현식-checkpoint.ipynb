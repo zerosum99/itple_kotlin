{
 "cells": [
  {
   "cell_type": "markdown",
   "id": "cd036a97",
   "metadata": {},
   "source": [
    "## 정의 및 실행"
   ]
  },
  {
   "cell_type": "code",
   "execution_count": 1,
   "id": "f2f52f2a",
   "metadata": {},
   "outputs": [
    {
     "data": {
      "text/plain": [
       "300"
      ]
     },
     "execution_count": 1,
     "metadata": {},
     "output_type": "execute_result"
    }
   ],
   "source": [
    "{매개변수1:Int, 매개변수2:Int -> 매개변수1 + 매개변수2} (100,200)"
   ]
  },
  {
   "cell_type": "code",
   "execution_count": 2,
   "id": "d4c9c0ca",
   "metadata": {},
   "outputs": [],
   "source": [
    "fun add(x:Int, y:Int) = x+y"
   ]
  },
  {
   "cell_type": "code",
   "execution_count": 3,
   "id": "8168df54",
   "metadata": {},
   "outputs": [
    {
     "data": {
      "text/plain": [
       "300"
      ]
     },
     "execution_count": 3,
     "metadata": {},
     "output_type": "execute_result"
    }
   ],
   "source": [
    "add(100,200)"
   ]
  },
  {
   "cell_type": "markdown",
   "id": "9554bb0e",
   "metadata": {},
   "source": [
    "## 익명함수와 비교"
   ]
  },
  {
   "cell_type": "code",
   "execution_count": 4,
   "id": "c8aca1e9",
   "metadata": {},
   "outputs": [
    {
     "data": {
      "text/plain": [
       "300"
      ]
     },
     "execution_count": 4,
     "metadata": {},
     "output_type": "execute_result"
    }
   ],
   "source": [
    "{ x:Int, y:Int -> x + y }(100,200)"
   ]
  },
  {
   "cell_type": "code",
   "execution_count": 5,
   "id": "215f3649",
   "metadata": {},
   "outputs": [
    {
     "data": {
      "text/plain": [
       "300"
      ]
     },
     "execution_count": 5,
     "metadata": {},
     "output_type": "execute_result"
    }
   ],
   "source": [
    "(fun (x:Int, y:Int) = x+y)(100,200)"
   ]
  },
  {
   "cell_type": "code",
   "execution_count": 6,
   "id": "4260d033",
   "metadata": {},
   "outputs": [],
   "source": [
    "fun sum1(x:Int, y:Int) = x+y"
   ]
  },
  {
   "cell_type": "code",
   "execution_count": 7,
   "id": "02d21f94",
   "metadata": {},
   "outputs": [
    {
     "data": {
      "text/plain": [
       "300"
      ]
     },
     "execution_count": 7,
     "metadata": {},
     "output_type": "execute_result"
    }
   ],
   "source": [
    "sum1(100,200)"
   ]
  },
  {
   "cell_type": "markdown",
   "id": "a88b3ec4",
   "metadata": {},
   "source": [
    "## 재사용"
   ]
  },
  {
   "cell_type": "code",
   "execution_count": 8,
   "id": "3d66ebc9",
   "metadata": {},
   "outputs": [],
   "source": [
    "val a = { x:Int, y:Int -> x + y }"
   ]
  },
  {
   "cell_type": "code",
   "execution_count": 9,
   "id": "8aaeb687",
   "metadata": {},
   "outputs": [
    {
     "data": {
      "text/plain": [
       "500"
      ]
     },
     "execution_count": 9,
     "metadata": {},
     "output_type": "execute_result"
    }
   ],
   "source": [
    "a(200,300)"
   ]
  },
  {
   "cell_type": "code",
   "execution_count": null,
   "id": "b909d9aa",
   "metadata": {},
   "outputs": [],
   "source": []
  },
  {
   "cell_type": "code",
   "execution_count": null,
   "id": "46c9b6f4",
   "metadata": {},
   "outputs": [],
   "source": []
  },
  {
   "cell_type": "code",
   "execution_count": null,
   "id": "78274e14",
   "metadata": {},
   "outputs": [],
   "source": []
  },
  {
   "cell_type": "markdown",
   "id": "0d560412",
   "metadata": {},
   "source": [
    "## 참조처리"
   ]
  },
  {
   "cell_type": "code",
   "execution_count": 10,
   "id": "02d7c6bb",
   "metadata": {},
   "outputs": [],
   "source": [
    "import kotlin.reflect.KFunction2"
   ]
  },
  {
   "cell_type": "code",
   "execution_count": 11,
   "id": "b47383ef",
   "metadata": {},
   "outputs": [],
   "source": [
    "val sum: (Int, Int) -> Int = { x, y -> x + y }"
   ]
  },
  {
   "cell_type": "code",
   "execution_count": 12,
   "id": "c1647b01",
   "metadata": {},
   "outputs": [],
   "source": [
    "fun sum1(x:Int, y:Int) = x+y"
   ]
  },
  {
   "cell_type": "code",
   "execution_count": 13,
   "id": "eedb6f77",
   "metadata": {},
   "outputs": [],
   "source": [
    "val x:KFunction2<Int,Int,Int> = ::sum1"
   ]
  },
  {
   "cell_type": "code",
   "execution_count": 14,
   "id": "4c470145",
   "metadata": {},
   "outputs": [],
   "source": [
    "val sum2 = fun (x:Int, y:Int) = x+y"
   ]
  },
  {
   "cell_type": "code",
   "execution_count": 15,
   "id": "d56c4244",
   "metadata": {},
   "outputs": [],
   "source": [
    "fun applyOp(x: Int, y: Int, op: (Int, Int) -> Int): Int = op(x, y)"
   ]
  },
  {
   "cell_type": "code",
   "execution_count": 16,
   "id": "2d841e3b",
   "metadata": {},
   "outputs": [
    {
     "data": {
      "text/plain": [
       "5"
      ]
     },
     "execution_count": 16,
     "metadata": {},
     "output_type": "execute_result"
    }
   ],
   "source": [
    "applyOp(2, 3, sum)"
   ]
  },
  {
   "cell_type": "code",
   "execution_count": 17,
   "id": "cdbc2ab5",
   "metadata": {},
   "outputs": [
    {
     "data": {
      "text/plain": [
       "5"
      ]
     },
     "execution_count": 17,
     "metadata": {},
     "output_type": "execute_result"
    }
   ],
   "source": [
    "applyOp(2, 3, sum2)"
   ]
  },
  {
   "cell_type": "code",
   "execution_count": 18,
   "id": "34e91430",
   "metadata": {},
   "outputs": [
    {
     "data": {
      "text/plain": [
       "5"
      ]
     },
     "execution_count": 18,
     "metadata": {},
     "output_type": "execute_result"
    }
   ],
   "source": [
    "applyOp(2, 3, ::sum1)"
   ]
  },
  {
   "cell_type": "markdown",
   "id": "f9125594",
   "metadata": {},
   "source": [
    "##  활용"
   ]
  },
  {
   "cell_type": "code",
   "execution_count": null,
   "id": "49905628",
   "metadata": {},
   "outputs": [],
   "source": []
  },
  {
   "cell_type": "code",
   "execution_count": 19,
   "id": "b1244e4a",
   "metadata": {},
   "outputs": [],
   "source": [
    "val ll = listOf(1,2,3)"
   ]
  },
  {
   "cell_type": "code",
   "execution_count": 20,
   "id": "1037afad",
   "metadata": {},
   "outputs": [
    {
     "data": {
      "text/plain": [
       "[1, 4, 9]"
      ]
     },
     "execution_count": 20,
     "metadata": {},
     "output_type": "execute_result"
    }
   ],
   "source": [
    "ll.map {it*it}"
   ]
  },
  {
   "cell_type": "code",
   "execution_count": 21,
   "id": "47ada855",
   "metadata": {},
   "outputs": [
    {
     "data": {
      "text/plain": [
       "[2, 4, 6]"
      ]
     },
     "execution_count": 21,
     "metadata": {},
     "output_type": "execute_result"
    }
   ],
   "source": [
    "ll.map({it*2})"
   ]
  },
  {
   "cell_type": "code",
   "execution_count": 22,
   "id": "602d53d6",
   "metadata": {},
   "outputs": [],
   "source": [
    "class LL(val action:(Int)->Int)"
   ]
  },
  {
   "cell_type": "code",
   "execution_count": 23,
   "id": "2e65dc16",
   "metadata": {},
   "outputs": [],
   "source": [
    "val l = LL({it*2})"
   ]
  },
  {
   "cell_type": "code",
   "execution_count": 24,
   "id": "913a90d0",
   "metadata": {},
   "outputs": [
    {
     "data": {
      "text/plain": [
       "20"
      ]
     },
     "execution_count": 24,
     "metadata": {},
     "output_type": "execute_result"
    }
   ],
   "source": [
    "l.action(10)"
   ]
  },
  {
   "cell_type": "markdown",
   "id": "78dc88cd",
   "metadata": {},
   "source": [
    "## 반환값 처리"
   ]
  },
  {
   "cell_type": "code",
   "execution_count": 25,
   "id": "ab7d3b5c",
   "metadata": {},
   "outputs": [],
   "source": [
    "fun ret() : ()->Int {\n",
    "    return {100}\n",
    "}"
   ]
  },
  {
   "cell_type": "code",
   "execution_count": 26,
   "id": "2179d956",
   "metadata": {},
   "outputs": [],
   "source": [
    "val r = ret()"
   ]
  },
  {
   "cell_type": "code",
   "execution_count": 27,
   "id": "89f1e482",
   "metadata": {},
   "outputs": [
    {
     "data": {
      "text/plain": [
       "100"
      ]
     },
     "execution_count": 27,
     "metadata": {},
     "output_type": "execute_result"
    }
   ],
   "source": [
    "r()"
   ]
  },
  {
   "cell_type": "markdown",
   "id": "ee508a94",
   "metadata": {},
   "source": [
    "## 내부함수 처리"
   ]
  },
  {
   "cell_type": "code",
   "execution_count": 28,
   "id": "b1d655df",
   "metadata": {},
   "outputs": [],
   "source": [
    "val a = { x:Int -> { y :Int -> x+y}}"
   ]
  },
  {
   "cell_type": "code",
   "execution_count": 29,
   "id": "56fa7978",
   "metadata": {},
   "outputs": [
    {
     "data": {
      "text/plain": [
       "30"
      ]
     },
     "execution_count": 29,
     "metadata": {},
     "output_type": "execute_result"
    }
   ],
   "source": [
    "a(10)(20)"
   ]
  },
  {
   "cell_type": "code",
   "execution_count": null,
   "id": "68895733",
   "metadata": {},
   "outputs": [],
   "source": []
  }
 ],
 "metadata": {
  "kernelspec": {
   "display_name": "Kotlin",
   "language": "kotlin",
   "name": "kotlin"
  },
  "language_info": {
   "codemirror_mode": "text/x-kotlin",
   "file_extension": ".kt",
   "mimetype": "text/x-kotlin",
   "name": "kotlin",
   "nbconvert_exporter": "",
   "pygments_lexer": "kotlin",
   "version": "1.6.0-dev-3567"
  }
 },
 "nbformat": 4,
 "nbformat_minor": 5
}
