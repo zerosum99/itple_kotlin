{
 "cells": [
  {
   "cell_type": "code",
   "execution_count": null,
   "id": "5dda1514",
   "metadata": {},
   "outputs": [],
   "source": []
  },
  {
   "cell_type": "code",
   "execution_count": 1,
   "id": "dc2313e4",
   "metadata": {},
   "outputs": [
    {
     "data": {
      "text/plain": [
       "1.8.0"
      ]
     },
     "execution_count": 1,
     "metadata": {},
     "output_type": "execute_result"
    }
   ],
   "source": [
    "KotlinVersion.CURRENT"
   ]
  },
  {
   "cell_type": "markdown",
   "id": "bf11670d",
   "metadata": {},
   "source": [
    "## 문자와 문자열 구분하기"
   ]
  },
  {
   "cell_type": "code",
   "execution_count": null,
   "id": "146c1027",
   "metadata": {},
   "outputs": [],
   "source": []
  },
  {
   "cell_type": "code",
   "execution_count": 2,
   "id": "7e744274",
   "metadata": {},
   "outputs": [
    {
     "name": "stdout",
     "output_type": "stream",
     "text": [
      "class kotlin.Char\n",
      "[가, 을]\n",
      "가을\n"
     ]
    }
   ],
   "source": [
    "println('가'.javaClass.kotlin)\n",
    "\n",
    "println(charArrayOf('가','을').contentToString())\n",
    "\n",
    "var str = String(charArrayOf('가','을'))\n",
    "println(str)"
   ]
  },
  {
   "cell_type": "code",
   "execution_count": null,
   "id": "bcb3e2d6",
   "metadata": {},
   "outputs": [],
   "source": []
  },
  {
   "cell_type": "markdown",
   "id": "cf9cbcc3",
   "metadata": {},
   "source": [
    " ##  문자열 템플릿 \n",
    "\n"
   ]
  },
  {
   "cell_type": "code",
   "execution_count": 3,
   "id": "f81dfc17",
   "metadata": {},
   "outputs": [
    {
     "name": "stdout",
     "output_type": "stream",
     "text": [
      " 날짜 : 20220101 \n",
      " 100 + 200 = 300\n"
     ]
    }
   ],
   "source": [
    "val date = \"20220101\"\n",
    "val a = 100\n",
    "val b = 200\n",
    "\n",
    "println(\" 날짜 : $date \")        // $+변수명을 지정해서 출력\n",
    "\n",
    "println(\" 100 + 200 = ${a+b}\")  // S{표현식}을 지정해서 출력"
   ]
  },
  {
   "cell_type": "markdown",
   "id": "534a78c3",
   "metadata": {},
   "source": [
    "## 일반적인 문자열에는 이스케이프 문자에 따라 편집이 됨"
   ]
  },
  {
   "cell_type": "code",
   "execution_count": 4,
   "id": "03aba725",
   "metadata": {},
   "outputs": [
    {
     "name": "stdout",
     "output_type": "stream",
     "text": [
      " 문자열에 \n",
      "이스케이프 문자를 넣고 처리 \n"
     ]
    }
   ],
   "source": [
    "println(\" 문자열에 \\n이스케이프 문자를 넣고 처리 \")"
   ]
  },
  {
   "cell_type": "markdown",
   "id": "bdf0fc5e",
   "metadata": {},
   "source": [
    "### Raw 문자열은 이스케이프 문자열 처리가 안됨 "
   ]
  },
  {
   "cell_type": "code",
   "execution_count": 5,
   "id": "1ba2f6f6",
   "metadata": {},
   "outputs": [
    {
     "name": "stdout",
     "output_type": "stream",
     "text": [
      "  문자열에 \\n이스케이프 문자를 넣고 처리\n",
      "  문자열 템플릿 기능은 300\n"
     ]
    }
   ],
   "source": [
    "val s1 = \"\"\"  문자열에 \\n이스케이프 문자를 넣고 처리\"\"\"\n",
    "\n",
    "println(\"$s1\")\n",
    "\n",
    "val s2 = \"\"\"  문자열 템플릿 기능은 ${100 + 200}\"\"\"\n",
    "\n",
    "println(\"$s2\")"
   ]
  },
  {
   "cell_type": "code",
   "execution_count": null,
   "id": "0649acb5",
   "metadata": {},
   "outputs": [],
   "source": []
  },
  {
   "cell_type": "markdown",
   "id": "a73e8dd0",
   "metadata": {},
   "source": [
    "## 형식문자 사용하기"
   ]
  },
  {
   "cell_type": "code",
   "execution_count": 6,
   "id": "1ba4d640",
   "metadata": {},
   "outputs": [
    {
     "name": "stdout",
     "output_type": "stream",
     "text": [
      " float= 1234.50 int=    100  string =        문자열\n",
      " edec = 1.000000e+16 hex=ffff \n"
     ]
    }
   ],
   "source": [
    "val float = 1234.5\n",
    "val int   = 100\n",
    "val string = \"문자열\"\n",
    "val edec = 10e15\n",
    "val hex = 0xffff\n",
    "\n",
    "println(\" float= %6.2f int= %6d  string = %10s\"\n",
    "        .format(float,int,string))\n",
    "println(\" edec = %e hex=%x \".format(edec, hex))"
   ]
  },
  {
   "cell_type": "code",
   "execution_count": null,
   "id": "bae69f4e",
   "metadata": {},
   "outputs": [],
   "source": []
  }
 ],
 "metadata": {
  "kernelspec": {
   "display_name": "Kotlin",
   "language": "kotlin",
   "name": "kotlin"
  },
  "language_info": {
   "codemirror_mode": "text/x-kotlin",
   "file_extension": ".kt",
   "mimetype": "text/x-kotlin",
   "name": "kotlin",
   "nbconvert_exporter": "",
   "pygments_lexer": "kotlin",
   "version": "1.8.0-dev-3517"
  }
 },
 "nbformat": 4,
 "nbformat_minor": 5
}
