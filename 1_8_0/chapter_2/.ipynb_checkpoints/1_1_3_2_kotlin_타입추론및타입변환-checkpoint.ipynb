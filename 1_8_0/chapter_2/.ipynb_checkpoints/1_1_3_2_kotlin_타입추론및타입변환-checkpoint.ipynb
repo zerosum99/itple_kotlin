{
 "cells": [
  {
   "cell_type": "code",
   "execution_count": null,
   "id": "04e90424",
   "metadata": {},
   "outputs": [],
   "source": []
  },
  {
   "cell_type": "code",
   "execution_count": 1,
   "id": "a909cf81",
   "metadata": {},
   "outputs": [
    {
     "data": {
      "text/plain": [
       "1.8.0"
      ]
     },
     "execution_count": 1,
     "metadata": {},
     "output_type": "execute_result"
    }
   ],
   "source": [
    "KotlinVersion.CURRENT             // 코틀린 현재 버전 "
   ]
  },
  {
   "cell_type": "code",
   "execution_count": null,
   "id": "b396cc6e",
   "metadata": {},
   "outputs": [],
   "source": []
  },
  {
   "cell_type": "markdown",
   "id": "97c0f293",
   "metadata": {},
   "source": [
    "##  숫자 타입 및 문자 타입에서 숫자 타입으로 변환하는 것 "
   ]
  },
  {
   "cell_type": "markdown",
   "id": "c28aadd6",
   "metadata": {},
   "source": [
    "## 변수의 타입추론"
   ]
  },
  {
   "cell_type": "code",
   "execution_count": 2,
   "id": "96c9ef24",
   "metadata": {},
   "outputs": [
    {
     "name": "stdout",
     "output_type": "stream",
     "text": [
      "class kotlin.Int\n",
      "1000\n",
      "class kotlin.Long\n",
      "1000\n"
     ]
    }
   ],
   "source": [
    "var number = 10000                  // 타입추론 \n",
    "println(number.javaClass.kotlin)\n",
    "\n",
    "val num :Int = 1000                 // 타입정의 \n",
    "println(num)\n",
    "\n",
    "var longNumber = 100L               // 타입추론\n",
    "println(longNumber.javaClass.kotlin)\n",
    "\n",
    "var lNum : Long = 1000L             // 타입정의\n",
    "println(lNum)"
   ]
  },
  {
   "cell_type": "markdown",
   "id": "9c2707da",
   "metadata": {},
   "source": [
    "## 타입 변환 "
   ]
  },
  {
   "cell_type": "code",
   "execution_count": 3,
   "id": "d82b18d1",
   "metadata": {},
   "outputs": [],
   "source": [
    "var number = 10000    \n",
    "var longNumber = 100L \n",
    "//longNumber = number          // 타입에러\n",
    "longNumber = number.toLong()   // 타입변환 필요\n",
    "//number = longNumber          // 타입에러 \n",
    "number = longNumber.toInt()    // 타입변환 필요 "
   ]
  },
  {
   "cell_type": "code",
   "execution_count": null,
   "id": "d74868c8",
   "metadata": {},
   "outputs": [],
   "source": []
  },
  {
   "cell_type": "markdown",
   "id": "e4877c66",
   "metadata": {},
   "source": [
    "## 숫자에 따른 형변환 메소드 제공"
   ]
  },
  {
   "cell_type": "code",
   "execution_count": 4,
   "id": "770b083b",
   "metadata": {},
   "outputs": [
    {
     "name": "stdout",
     "output_type": "stream",
     "text": [
      "16\n",
      "10000\n",
      "10000\n",
      "10000.0\n",
      "10000.0\n"
     ]
    }
   ],
   "source": [
    "println(number.toByte())\n",
    "println(number.toShort())\n",
    "println(number.toLong())\n",
    "println(number.toFloat())\n",
    "println(number.toDouble())"
   ]
  },
  {
   "cell_type": "markdown",
   "id": "458164a6",
   "metadata": {},
   "source": [
    "## 리터럴일 경우 계산처리 "
   ]
  },
  {
   "cell_type": "code",
   "execution_count": 5,
   "id": "fc57131c",
   "metadata": {},
   "outputs": [
    {
     "name": "stdout",
     "output_type": "stream",
     "text": [
      "200\n",
      "class kotlin.Long\n"
     ]
    }
   ],
   "source": [
    "val longNumber = 100L         //Long 리터럴 \n",
    "val number = 100              //Int 리터럴 \n",
    "val ll = longNumber + number  // 계산할 때는 큰수로 변환\n",
    "println(ll)\n",
    "println(ll.javaClass.kotlin)"
   ]
  },
  {
   "cell_type": "code",
   "execution_count": null,
   "id": "6340d231",
   "metadata": {},
   "outputs": [],
   "source": []
  }
 ],
 "metadata": {
  "kernelspec": {
   "display_name": "Kotlin",
   "language": "kotlin",
   "name": "kotlin"
  },
  "language_info": {
   "codemirror_mode": "text/x-kotlin",
   "file_extension": ".kt",
   "mimetype": "text/x-kotlin",
   "name": "kotlin",
   "nbconvert_exporter": "",
   "pygments_lexer": "kotlin",
   "version": "1.8.0-dev-3517"
  }
 },
 "nbformat": 4,
 "nbformat_minor": 5
}
