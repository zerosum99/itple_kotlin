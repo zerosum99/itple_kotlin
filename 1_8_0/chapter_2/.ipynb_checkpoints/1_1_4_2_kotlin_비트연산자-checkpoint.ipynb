{
 "cells": [
  {
   "cell_type": "code",
   "execution_count": null,
   "id": "3fdc9685",
   "metadata": {},
   "outputs": [],
   "source": []
  },
  {
   "cell_type": "code",
   "execution_count": 1,
   "id": "c967a608",
   "metadata": {},
   "outputs": [
    {
     "data": {
      "text/plain": [
       "1.8.0"
      ]
     },
     "execution_count": 1,
     "metadata": {},
     "output_type": "execute_result"
    }
   ],
   "source": [
    "KotlinVersion.CURRENT"
   ]
  },
  {
   "cell_type": "code",
   "execution_count": null,
   "id": "f68bf797",
   "metadata": {},
   "outputs": [],
   "source": []
  },
  {
   "cell_type": "markdown",
   "id": "ed0e0ad6",
   "metadata": {},
   "source": [
    "## 비트 연산"
   ]
  },
  {
   "cell_type": "code",
   "execution_count": null,
   "id": "1deb5878",
   "metadata": {},
   "outputs": [],
   "source": []
  },
  {
   "cell_type": "code",
   "execution_count": 2,
   "id": "b207d8bd",
   "metadata": {},
   "outputs": [
    {
     "name": "stdout",
     "output_type": "stream",
     "text": [
      "30\n",
      "11110\n"
     ]
    }
   ],
   "source": [
    "val bit1: Int = 17\n",
    "val bit2 :Int  = 0b1111\n",
    "\n",
    "println((bit1 xor bit2))\n",
    "println((bit1 xor bit2).toString(2))"
   ]
  },
  {
   "cell_type": "code",
   "execution_count": null,
   "id": "8b351a82",
   "metadata": {},
   "outputs": [],
   "source": []
  },
  {
   "cell_type": "code",
   "execution_count": 3,
   "id": "3969eeb6",
   "metadata": {},
   "outputs": [
    {
     "name": "stdout",
     "output_type": "stream",
     "text": [
      " bit1 = 10001 bit2 = 1111 \n",
      " and  = 1\n",
      " or   = 11111\n",
      " xor  = 11110\n",
      " not  =  -10010\n",
      " shift left   =  1000100 정수값=68\n",
      " shift right  =  100 정수값=4\n"
     ]
    }
   ],
   "source": [
    "val bit1: Int = 17\n",
    "val bit2 :Int  = 0b1111\n",
    "println(\" bit1 = ${bit1.toString(2)} bit2 = ${bit2.toString(2)} \")\n",
    "println(\" and  = ${(bit1 and bit2).toString(2)}\")\n",
    "println(\" or   = ${(bit1 or bit2).toString(2)}\")\n",
    "println(\" xor  = ${(bit1 xor bit2).toString(2)}\")\n",
    "println(\" not  =  ${(bit1.inv()).toString(2)}\")\n",
    "println(\" shift left   =  ${(bit1.shl(2)).toString(2)} 정수값=${bit1.shl(2)}\")\n",
    "println(\" shift right  =  ${(bit1.shr(2)).toString(2)} 정수값=${bit1.shr(2)}\")\n"
   ]
  },
  {
   "cell_type": "markdown",
   "id": "6720986f",
   "metadata": {},
   "source": [
    "## 16진수로 출력"
   ]
  },
  {
   "cell_type": "code",
   "execution_count": 4,
   "id": "70c653ad",
   "metadata": {},
   "outputs": [
    {
     "name": "stdout",
     "output_type": "stream",
     "text": [
      " bit1 = 11 bit2 = 1000100010001 \n",
      " and  = 11\n",
      " or   = 1111\n",
      " xor  = 1100\n",
      " not  =  -12\n",
      " shift left   =  44 정수값=68\n",
      " shift right  =  4 정수값=4\n"
     ]
    }
   ],
   "source": [
    "val bit1: Long = 17\n",
    "val bit2: Long  = 0x1111\n",
    "println(\" bit1 = ${bit1.toString(16)} bit2 = ${bit2.toString(2)} \")\n",
    "println(\" and  = ${(bit1 and bit2).toString(16)}\")\n",
    "println(\" or   = ${(bit1 or bit2).toString(16)}\")\n",
    "println(\" xor  = ${(bit1 xor bit2).toString(16)}\")\n",
    "println(\" not  =  ${(bit1.inv()).toString(16)}\")\n",
    "println(\" shift left   =  ${(bit1.shl(2)).toString(16)} 정수값=${bit1.shl(2)}\")\n",
    "println(\" shift right  =  ${(bit1.shr(2)).toString(16)} 정수값=${bit1.shr(2)}\")\n"
   ]
  },
  {
   "cell_type": "code",
   "execution_count": null,
   "id": "e8f553db",
   "metadata": {},
   "outputs": [],
   "source": []
  }
 ],
 "metadata": {
  "kernelspec": {
   "display_name": "Kotlin",
   "language": "kotlin",
   "name": "kotlin"
  },
  "language_info": {
   "codemirror_mode": "text/x-kotlin",
   "file_extension": ".kt",
   "mimetype": "text/x-kotlin",
   "name": "kotlin",
   "nbconvert_exporter": "",
   "pygments_lexer": "kotlin",
   "version": "1.8.0-dev-3517"
  }
 },
 "nbformat": 4,
 "nbformat_minor": 5
}
