{
 "cells": [
  {
   "cell_type": "code",
   "execution_count": null,
   "id": "2b53c93d",
   "metadata": {},
   "outputs": [],
   "source": []
  },
  {
   "cell_type": "code",
   "execution_count": 1,
   "id": "5817be42",
   "metadata": {},
   "outputs": [
    {
     "data": {
      "text/plain": [
       "1.8.0"
      ]
     },
     "execution_count": 1,
     "metadata": {},
     "output_type": "execute_result"
    }
   ],
   "source": [
    "KotlinVersion.CURRENT             // 코틀린 현재 버전 "
   ]
  },
  {
   "cell_type": "code",
   "execution_count": null,
   "id": "0c2d00c8",
   "metadata": {},
   "outputs": [],
   "source": []
  },
  {
   "cell_type": "markdown",
   "id": "6d059b4f",
   "metadata": {},
   "source": [
    "#  패키지 지정"
   ]
  },
  {
   "cell_type": "code",
   "execution_count": 2,
   "id": "edfd2c7f",
   "metadata": {},
   "outputs": [],
   "source": [
    "//package pythagorean         // package 패키지명\n",
    "import kotlin.math.sqrt       // 사용할 패키지 import \n",
    "\n",
    "class RightTriangle(val a: Double,val b: Double) {\n",
    "  fun hypotenuse() = sqrt(a * a + b * b)\n",
    "  fun area() = a * b / 2\n",
    "}"
   ]
  },
  {
   "cell_type": "code",
   "execution_count": 3,
   "id": "e7355908",
   "metadata": {},
   "outputs": [
    {
     "name": "stdout",
     "output_type": "stream",
     "text": [
      "hypotenuse= 5.0\n",
      "area = 6.0\n"
     ]
    }
   ],
   "source": [
    "//import pythagorean.RightTriangle   //패키지가 다를 경우 import\n",
    "\n",
    "fun main() {\n",
    "  val rt = RightTriangle(3.0, 4.0)\n",
    "  println(\"hypotenuse= ${rt.hypotenuse()}\")\n",
    "  println(\"area = ${rt.area()}\")\n",
    "}\n",
    "\n",
    "main()"
   ]
  },
  {
   "cell_type": "markdown",
   "id": "63c44b0a",
   "metadata": {},
   "source": [
    "## 패지키 임포트해서 처리하기 "
   ]
  },
  {
   "cell_type": "code",
   "execution_count": 4,
   "id": "11afecb2",
   "metadata": {},
   "outputs": [],
   "source": [
    "// import packagename.ClassName\n",
    "// import packagename.functionName\n",
    "// import packagename.propertyName"
   ]
  },
  {
   "cell_type": "code",
   "execution_count": 5,
   "id": "d7c81051",
   "metadata": {},
   "outputs": [
    {
     "name": "stdout",
     "output_type": "stream",
     "text": [
      "3.141592653589793\n",
      "-1.0\n",
      "1.0\n",
      "3.141592653589793\n",
      "-1.0\n",
      "1.0\n"
     ]
    }
   ],
   "source": [
    "import kotlin.math.PI\n",
    "import kotlin.math.cos  // Cosine\n",
    "\n",
    "\n",
    "println(PI)\n",
    "println(cos(PI))\n",
    "println(cos(2 * PI))\n",
    "\n",
    "println(kotlin.math.PI)\n",
    "println(kotlin.math.cos(kotlin.math.PI))\n",
    "println(kotlin.math.cos(2 * kotlin.math.PI))"
   ]
  },
  {
   "cell_type": "code",
   "execution_count": null,
   "id": "9262083b",
   "metadata": {},
   "outputs": [],
   "source": []
  },
  {
   "cell_type": "markdown",
   "id": "e512ae70",
   "metadata": {},
   "source": [
    "## 전체 전부 사용"
   ]
  },
  {
   "cell_type": "code",
   "execution_count": 6,
   "id": "3ca5d33e",
   "metadata": {},
   "outputs": [
    {
     "name": "stdout",
     "output_type": "stream",
     "text": [
      "2.718281828459045\n",
      "3\n",
      "2\n"
     ]
    }
   ],
   "source": [
    "import kotlin.math.* \n",
    "\n",
    "println(E)\n",
    "println(E.roundToInt())\n",
    "println(E.toInt())"
   ]
  },
  {
   "cell_type": "markdown",
   "id": "3c7ae413",
   "metadata": {},
   "source": [
    "## 별칭 사용"
   ]
  },
  {
   "cell_type": "code",
   "execution_count": 7,
   "id": "4d22b903",
   "metadata": {},
   "outputs": [
    {
     "name": "stdout",
     "output_type": "stream",
     "text": [
      "3.141592653589793\n",
      "-1.0\n",
      "1.0\n"
     ]
    }
   ],
   "source": [
    "import kotlin.math.PI as circleRatio\n",
    "import kotlin.math.cos as cosine\n",
    "\n",
    "println(circleRatio)\n",
    "println(cosine(circleRatio))\n",
    "println(cosine(2 * circleRatio))"
   ]
  },
  {
   "cell_type": "code",
   "execution_count": null,
   "id": "b6f71e76",
   "metadata": {},
   "outputs": [],
   "source": []
  }
 ],
 "metadata": {
  "kernelspec": {
   "display_name": "Kotlin",
   "language": "kotlin",
   "name": "kotlin"
  },
  "language_info": {
   "codemirror_mode": "text/x-kotlin",
   "file_extension": ".kt",
   "mimetype": "text/x-kotlin",
   "name": "kotlin",
   "nbconvert_exporter": "",
   "pygments_lexer": "kotlin",
   "version": "1.8.0-dev-3517"
  }
 },
 "nbformat": 4,
 "nbformat_minor": 5
}
