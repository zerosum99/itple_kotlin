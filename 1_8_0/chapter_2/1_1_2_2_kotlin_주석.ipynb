{
 "cells": [
  {
   "cell_type": "code",
   "execution_count": null,
   "id": "998b92d9",
   "metadata": {},
   "outputs": [],
   "source": []
  },
  {
   "cell_type": "code",
   "execution_count": 1,
   "id": "a4d1f44f",
   "metadata": {},
   "outputs": [
    {
     "data": {
      "text/plain": [
       "1.8.0"
      ]
     },
     "execution_count": 1,
     "metadata": {},
     "output_type": "execute_result"
    }
   ],
   "source": [
    "KotlinVersion.CURRENT"
   ]
  },
  {
   "cell_type": "markdown",
   "id": "47261396",
   "metadata": {},
   "source": [
    "# 한줄 주석"
   ]
  },
  {
   "cell_type": "code",
   "execution_count": 2,
   "id": "9d48d45c",
   "metadata": {},
   "outputs": [
    {
     "name": "stdout",
     "output_type": "stream",
     "text": [
      "100\n"
     ]
    }
   ],
   "source": [
    "val 가을이라 = 100  //변수를 지정\n",
    "\n",
    "println(가을이라)   //변수를 출력\n"
   ]
  },
  {
   "cell_type": "markdown",
   "id": "0cd08186",
   "metadata": {},
   "source": [
    "# 여러 줄 주석"
   ]
  },
  {
   "cell_type": "code",
   "execution_count": 3,
   "id": "cd27485d",
   "metadata": {},
   "outputs": [
    {
     "name": "stdout",
     "output_type": "stream",
     "text": [
      "코틀린 입문을 환영합니다.\n"
     ]
    }
   ],
   "source": [
    "/*  함수를 처리할 때 매개변수는 2개 이며\n",
    "    처리 방식은 .... \n",
    "    /* 그래서 .. */\n",
    "*/\n",
    "\n",
    "fun helloWorld() {\n",
    "    println(\"코틀린 입문을 환영합니다.\")\n",
    "} \n",
    "\n",
    "helloWorld()"
   ]
  },
  {
   "cell_type": "code",
   "execution_count": null,
   "id": "1a189f31",
   "metadata": {},
   "outputs": [],
   "source": []
  },
  {
   "cell_type": "markdown",
   "id": "830fc495",
   "metadata": {},
   "source": [
    "# 문서화"
   ]
  },
  {
   "cell_type": "code",
   "execution_count": null,
   "id": "0cf11358",
   "metadata": {},
   "outputs": [],
   "source": []
  },
  {
   "cell_type": "code",
   "execution_count": 4,
   "id": "f500d6cf",
   "metadata": {},
   "outputs": [],
   "source": [
    "/**\n",
    " * 클래스에 대한 멤버 구성 .\n",
    " *\n",
    " * 클래에 대한 매개변수,생성자 등 멤버 설명\n",
    " *\n",
    " */\n",
    "class Group<T>(val name: String) {\n",
    "    /**\n",
    "     * 메소드에 대한 설명 \n",
    "     */\n",
    "    fun add(member: T): Int { \n",
    "         return 100\n",
    "    }\n",
    "}"
   ]
  },
  {
   "cell_type": "code",
   "execution_count": null,
   "id": "ec7c7a2a",
   "metadata": {},
   "outputs": [],
   "source": []
  }
 ],
 "metadata": {
  "kernelspec": {
   "display_name": "Kotlin",
   "language": "kotlin",
   "name": "kotlin"
  },
  "language_info": {
   "codemirror_mode": "text/x-kotlin",
   "file_extension": ".kt",
   "mimetype": "text/x-kotlin",
   "name": "kotlin",
   "nbconvert_exporter": "",
   "pygments_lexer": "kotlin",
   "version": "1.8.0-dev-3517"
  }
 },
 "nbformat": 4,
 "nbformat_minor": 5
}
