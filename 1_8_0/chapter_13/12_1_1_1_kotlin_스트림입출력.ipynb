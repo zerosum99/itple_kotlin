{
 "cells": [
  {
   "cell_type": "code",
   "execution_count": null,
   "id": "b5cce38e",
   "metadata": {},
   "outputs": [],
   "source": []
  },
  {
   "cell_type": "code",
   "execution_count": 1,
   "id": "b92a6d60",
   "metadata": {},
   "outputs": [
    {
     "data": {
      "text/plain": [
       "1.7.20"
      ]
     },
     "execution_count": 1,
     "metadata": {},
     "output_type": "execute_result"
    }
   ],
   "source": [
    "KotlinVersion.CURRENT"
   ]
  },
  {
   "cell_type": "code",
   "execution_count": null,
   "id": "c794b140",
   "metadata": {},
   "outputs": [],
   "source": []
  },
  {
   "cell_type": "markdown",
   "id": "f78a56b8",
   "metadata": {},
   "source": [
    "## 스트림 내의 상속관계 확인"
   ]
  },
  {
   "cell_type": "code",
   "execution_count": 2,
   "id": "d14021fd",
   "metadata": {},
   "outputs": [
    {
     "name": "stdout",
     "output_type": "stream",
     "text": [
      "[java.io.Closeable, kotlin.Any]\n",
      "[java.io.Closeable, java.io.Flushable, kotlin.Any]\n",
      "[java.io.InputStream]\n",
      "[java.io.OutputStream]\n"
     ]
    }
   ],
   "source": [
    "import java.io.*                           // 파일을 스트림으로 입력\n",
    "\n",
    "val a = InputStream::class                 // 입력스트림            \n",
    "val b = OutputStream::class                // 출력스트림\n",
    "val c = ByteArrayInputStream::class        // 바이트 입력스트립 리더\n",
    "val d = ByteArrayOutputStream::class       // 바이트 출력스프림 라이터\n",
    "\n",
    "\n",
    "println(a.supertypes)                      // 수퍼 클래스 확인\n",
    "println(b.supertypes)\n",
    "println(c.supertypes)\n",
    "println(d.supertypes)\n"
   ]
  },
  {
   "cell_type": "code",
   "execution_count": null,
   "id": "9b65802f",
   "metadata": {},
   "outputs": [],
   "source": []
  },
  {
   "cell_type": "markdown",
   "id": "1889a619",
   "metadata": {},
   "source": [
    "## 바이트 스트림 처리"
   ]
  },
  {
   "cell_type": "code",
   "execution_count": 5,
   "id": "5d58098c",
   "metadata": {},
   "outputs": [
    {
     "name": "stdout",
     "output_type": "stream",
     "text": [
      "바이트 하나 읽기 : 1\n",
      "데이터 자료형 확인 : class kotlin.Int\n",
      "최종데이터 : -1\n",
      "처리된 결과 자료형 : class java.io.ByteArrayOutputStream\n",
      "[1, 2, 3, 4, 5, 6, 7, 8, 9]\n",
      "[1, 2, 3, 4, 5, 6, 7, 8, 9]\n"
     ]
    }
   ],
   "source": [
    "import java.io.ByteArrayInputStream                       // 스트림으로 변환해서 읽기\n",
    "import java.io.ByteArrayOutputStream                      // 스트림으로 변환해서 쓰기\n",
    "\n",
    "val inSrc = byteArrayOf(1,2,3,4,5,6,7,8,9)                // 배열생성 \n",
    "var outSrc : ByteArray? = null                            // 널러블 처리 \n",
    "\n",
    "var input = ByteArrayInputStream(inSrc)                   // 바이트스트림 객체 생성\n",
    "var output = ByteArrayOutputStream()                      // 바이트스트림 빈객체 생성 \n",
    "\n",
    "//?. 에서 !!. 로 변경 \n",
    "var data =  input!!.read()                                 //  세이브연산자 처리해서 바이트 하나 읽기\n",
    "println(\"바이트 하나 읽기 : ${data}\")\n",
    "println(\"데이터 자료형 확인 : ${data.javaClass.kotlin}\")      // 데이터 자료형 확인 \n",
    "while (data != -1) {                                      // 데이터 순환 : 전부 읽고 난 후에 -1 반환 \n",
    "    output?.write(data)                                    // 쓰기    \n",
    "    //?. 에서 !!. 로 변경 \n",
    "    data =  input!!.read()                                 // 다음 읽기\n",
    "    if (data == -1) println(\"최종데이터 : ${data}\")          // 최종 상태 확인 \n",
    "}\n",
    "\n",
    "println(\"처리된 결과 자료형 : ${output.javaClass.kotlin}\")     // 스트림\n",
    "outSrc = output.toByteArray()                             // 배열로 변환                           \n",
    "println(inSrc.contentToString())                          // 배열상태 확인 \n",
    "println(outSrc.contentToString())"
   ]
  },
  {
   "cell_type": "code",
   "execution_count": null,
   "id": "afe4e7a9",
   "metadata": {},
   "outputs": [],
   "source": []
  },
  {
   "cell_type": "markdown",
   "id": "757d9daf",
   "metadata": {},
   "source": [
    "## 버퍼 처리 "
   ]
  },
  {
   "cell_type": "code",
   "execution_count": 6,
   "id": "51f47ca6",
   "metadata": {},
   "outputs": [
    {
     "name": "stdout",
     "output_type": "stream",
     "text": [
      "true\n",
      "입력스트림을 \n",
      " 버퍼를 사용해서 출력스트림으로\n",
      "입력스트림을 \n",
      " 버퍼를 사용해서 출력스트림으로\n",
      "\n"
     ]
    }
   ],
   "source": [
    "import java.io.InputStreamReader                                  // 입력스트림\n",
    "import java.io.OutputStreamWriter                                 // 출력스트림\n",
    "import java.io.BufferedWriter                                     // 출력버퍼        \n",
    "import java.io.BufferedReader                                     // 입력버퍼\n",
    "\n",
    "val str = \"입력스트림을 \\n 버퍼를 사용해서 출력스트림으로\"  // 문자열\n",
    "val content = str.toByteArray()                                   // 바이트배열로 변환\n",
    "println(content.contains(10))\n",
    "\n",
    "var ins = ByteArrayInputStream(content);                          // 입력스트림 \n",
    "var bfReader = BufferedReader(InputStreamReader(ins))             // 입력버퍼\n",
    "\n",
    "var baos : ByteArrayOutputStream =  ByteArrayOutputStream(100)    // 출력스트림 \n",
    "var writer = BufferedWriter(OutputStreamWriter(baos));            // 출력버퍼\n",
    "\n",
    "var temp = bfReader.readLine()                                    // 첫번째 문장일기\n",
    "while(temp != null){\n",
    "    println(temp)\n",
    "    writer.write(temp +\"\\n\")                                      // 버퍼에 출력하기\n",
    "    temp = bfReader.readLine()                                    // 다음 문장 읽기\n",
    "}\n",
    "writer.flush()\n",
    "\n",
    "val aaa = baos.toString()\n",
    "println(aaa)                                                      // 출력결과 확인"
   ]
  },
  {
   "cell_type": "code",
   "execution_count": null,
   "id": "d7c14ca1",
   "metadata": {},
   "outputs": [],
   "source": []
  },
  {
   "cell_type": "markdown",
   "id": "b18554ab",
   "metadata": {},
   "source": [
    "## 내부 메소드로 처리하기"
   ]
  },
  {
   "cell_type": "code",
   "execution_count": 7,
   "id": "59edec6e",
   "metadata": {},
   "outputs": [
    {
     "name": "stdout",
     "output_type": "stream",
     "text": [
      "포함관계 : true\n",
      "포함관계 : -20\n",
      "class java.io.BufferedReader\n",
      "입력스트림을 \n",
      "버퍼를 사용해서 출력스트림으로\n",
      "입력스트림을 \n",
      "버퍼를 사용해서 출력스트림으로\n"
     ]
    }
   ],
   "source": [
    "import java.io.ByteArrayInputStream                       // 스트림으로 변환해서 읽기\n",
    "\n",
    "val str = \"입력스트림을 \\n버퍼를 사용해서 출력스트림으로\"           // 문자열\n",
    "val content = str.toByteArray()                           // 바이트배열로 변환\n",
    "println(\"포함관계 : \" + content.contains(-20))              // 바이트로 변환된 값 확인 \n",
    "println(\"포함관계 : \" + content[0])\n",
    "\n",
    "var someStream = ByteArrayInputStream(content)            // 입력스트림 \n",
    "\n",
    "var reader = someStream.bufferedReader()                  // 입력스트림 내의 메소드 처리\n",
    "println(reader.javaClass.kotlin)                          // 버퍼로 변환 \n",
    "\n",
    "val iterator = reader.lineSequence().iterator()           // 반복자로 변환 \n",
    "while(iterator.hasNext()) {\n",
    "    val line = iterator.next()                            // 반복자로 조회 \n",
    "    println(line)\n",
    "}\n",
    "reader.close()\n",
    "\n",
    "someStream = ByteArrayInputStream(content)                // 다시 스트림 처리 \n",
    "reader = someStream.bufferedReader()                      // 내부 메소드로 버퍼처리 \n",
    "reader.useLines { lines -> lines.forEach {println(it)}    // uselines 메소드로 처리\n",
    "}"
   ]
  },
  {
   "cell_type": "code",
   "execution_count": null,
   "id": "1cfa540a",
   "metadata": {},
   "outputs": [],
   "source": []
  },
  {
   "cell_type": "code",
   "execution_count": null,
   "id": "594381d2",
   "metadata": {},
   "outputs": [],
   "source": []
  }
 ],
 "metadata": {
  "kernelspec": {
   "display_name": "Kotlin",
   "language": "kotlin",
   "name": "kotlin"
  },
  "language_info": {
   "codemirror_mode": "text/x-kotlin",
   "file_extension": ".kt",
   "mimetype": "text/x-kotlin",
   "name": "kotlin",
   "nbconvert_exporter": "",
   "pygments_lexer": "kotlin",
   "version": "1.7.20-dev-1299"
  }
 },
 "nbformat": 4,
 "nbformat_minor": 5
}
