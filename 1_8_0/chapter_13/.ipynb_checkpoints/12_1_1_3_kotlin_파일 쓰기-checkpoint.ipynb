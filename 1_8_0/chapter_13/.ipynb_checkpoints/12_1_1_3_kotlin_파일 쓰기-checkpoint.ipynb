{
 "cells": [
  {
   "cell_type": "code",
   "execution_count": null,
   "id": "9456bfdc",
   "metadata": {},
   "outputs": [],
   "source": []
  },
  {
   "cell_type": "code",
   "execution_count": 1,
   "id": "fd95e70b",
   "metadata": {},
   "outputs": [
    {
     "data": {
      "text/plain": [
       "1.8.0"
      ]
     },
     "execution_count": 1,
     "metadata": {},
     "output_type": "execute_result"
    }
   ],
   "source": [
    "KotlinVersion.CURRENT"
   ]
  },
  {
   "cell_type": "code",
   "execution_count": null,
   "id": "741f5e9d",
   "metadata": {},
   "outputs": [],
   "source": []
  },
  {
   "cell_type": "markdown",
   "id": "01dcc891",
   "metadata": {},
   "source": [
    "## 파일 처리 클래스 상속관계 알아보기"
   ]
  },
  {
   "cell_type": "code",
   "execution_count": 2,
   "id": "033c3d36",
   "metadata": {},
   "outputs": [
    {
     "name": "stdout",
     "output_type": "stream",
     "text": [
      "[java.io.OutputStream]\n",
      "[java.io.OutputStreamWriter]\n",
      "[java.io.Writer]\n",
      "[java.io.Writer]\n",
      "[java.lang.Appendable, java.io.Closeable, java.io.Flushable, kotlin.Any]\n",
      "[java.io.Serializable, kotlin.Comparable<java.io.File!>, kotlin.Any]\n"
     ]
    }
   ],
   "source": [
    "import java.io.*                           // 파일을 스트림으로 입력\n",
    "\n",
    "          \n",
    "val a = FileOutputStream::class            // 파일 출력스트림\n",
    "val b = FileWriter::class                  // 파일 라이터\n",
    "val c = BufferedWriter::class              // 버퍼 라이터\n",
    "val d = OutputStreamWriter::class          // 출력스트림 라이터\n",
    "val e = Writer::class                      // 라이터\n",
    "val f = File::class                        // 파일\n",
    "\n",
    "println(a.supertypes)                      // 수퍼 클래스 확인\n",
    "println(b.supertypes)\n",
    "println(c.supertypes)\n",
    "println(d.supertypes)\n",
    "println(e.supertypes)\n",
    "println(f.supertypes)"
   ]
  },
  {
   "cell_type": "code",
   "execution_count": null,
   "id": "dada8c64",
   "metadata": {},
   "outputs": [],
   "source": []
  },
  {
   "cell_type": "markdown",
   "id": "ab36f708",
   "metadata": {},
   "source": [
    "## 파일쓰기  : BufferedWriter"
   ]
  },
  {
   "cell_type": "code",
   "execution_count": 3,
   "id": "a3bbc844",
   "metadata": {},
   "outputs": [
    {
     "name": "stdout",
     "output_type": "stream",
     "text": [
      "[코틀린 세상. 코틀린에서 파일을 만드는 방법.]\n",
      "[코틀린 세상. 심심해서 취미로 코틀린 공부.]\n"
     ]
    }
   ],
   "source": [
    "import java.io.File                                          // 파일 생성\n",
    "import java.io.BufferedWriter                                // 버퍼 쓰기 생성\n",
    "import java.io.BufferedReader                                // 버퍼 읽기 생성 \n",
    "import java.io.FileWriter                                    // 파일 쓰기 생성\n",
    "import java.io.FileReader                                    // 파일 읽기 생성 \n",
    "\n",
    "val content = \"코틀린 세상. 코틀린에서 파일을 만드는 방법.\"            // 저장될 문자열 \n",
    "val fileName = \"printtest1.txt\"                              // 파일 이름\n",
    "val fw = FileWriter(fileName)                                // 파일 쓰기 생성\n",
    "val writer = BufferedWriter(fw)                              // 파일 버퍼 생성\n",
    "writer.append(content)                                       // 버퍼에 쓰기\n",
    "writer.flush()                                               // 메모리에 있는 것 쓰기\n",
    "writer.close()                                               // 쓰기 종료\n",
    "\n",
    "var lines = File(fileName).readLines()                       // 파일 읽기\n",
    "println(lines)                                               // 결과 출력\n",
    "\n",
    "val content1 = \"코틀린 세상. 심심해서 취미로 코틀린 공부.\"             // 파일 내용\n",
    "File(fileName).bufferedWriter()                               // 버퍼쓰기 생성 \n",
    "    .use { out ->out.write(content1)}                        // use 메소드로 내용 쓰기\n",
    "    \n",
    "val frd = FileReader(fileName)                               // 파일 읽기 생성 \n",
    "val buffrd = BufferedReader(frd)                             // 파일 읽기 버퍼 생성\n",
    "lines = buffrd.readLines()                                   // 파일 읽기\n",
    "println(lines)                                               // 결과 출력\n"
   ]
  },
  {
   "cell_type": "code",
   "execution_count": null,
   "id": "d54a6301",
   "metadata": {},
   "outputs": [],
   "source": []
  },
  {
   "cell_type": "code",
   "execution_count": 4,
   "id": "b4a4e754",
   "metadata": {},
   "outputs": [
    {
     "name": "stdout",
     "output_type": "stream",
     "text": [
      "파일객체생성 : class java.io.File\n",
      "버퍼 쓰기 객체 : class java.io.BufferedWriter\n",
      "파일 쓰기 종료\n",
      "[한점 부끄럼없이, 살아가는 사람들, 하지만 ...]\n"
     ]
    }
   ],
   "source": [
    "import java.io.File                                 // 파일 처리\n",
    "\n",
    "val fileName = \"test2.txt\"                          // 파일 이름\n",
    "val myfile = File(fileName)                         // 파일 객체 생성\n",
    "println(\"파일객체생성 : ${myfile.javaClass.kotlin}\")   // 파일 객체 확인 \n",
    "\n",
    "myfile.bufferedWriter()                             // 파일에서 버퍼 쓰기 생성 \n",
    "    .use { outf ->                                  // use 메소드로 파일쓰기\n",
    "    println(\"버퍼 쓰기 객체 : ${outf.javaClass}\")      // 파일 객체 확인 \n",
    "    outf.write(\"한점 부끄럼없이\\n\")                     // 첫번째 라인 쓰기\n",
    "    outf.write(\"살아가는 사람들\\n\")                     // 두번째 라인 쓰기\n",
    "    outf.write(\"하지만 ...\\n\")                        // 세번째 라인 쓰기\n",
    "}\n",
    "println(\"파일 쓰기 종료\")\n",
    "\n",
    "val fileop = File(fileName)                         // 파일객체 생성 \n",
    "var lines = fileop.bufferedReader().readLines()     // 파일을 다시 읽음   \n",
    "println(lines)                                      // 파일을 출력\n"
   ]
  },
  {
   "cell_type": "code",
   "execution_count": null,
   "id": "a4ef6d14",
   "metadata": {},
   "outputs": [],
   "source": []
  },
  {
   "cell_type": "markdown",
   "id": "dd1d65ba",
   "metadata": {},
   "source": [
    "## 파일쓰기  : PrintWriter"
   ]
  },
  {
   "cell_type": "code",
   "execution_count": 5,
   "id": "48ff7ecb",
   "metadata": {},
   "outputs": [
    {
     "name": "stdout",
     "output_type": "stream",
     "text": [
      "[코틀린 세상. 코틀린에서 파일을 만드는 방법.]\n"
     ]
    }
   ],
   "source": [
    "import java.io.File                                    //  파일 클래스\n",
    "import java.io.PrintWriter                             //  프린트쓰기 \n",
    "\n",
    "val content = \"코틀린 세상. 코틀린에서 파일을 만드는 방법.\"      // 파일 쓰기 내용\n",
    "val flname = \"printtest.txt\"                           // 파일 이름\n",
    "val writer = PrintWriter(flname)                       // 프린트쓰기 객체 생성\n",
    "writer.append(content)                                 // 내용 쓰기\n",
    "writer.close()                                         // 파일닫기\n",
    "\n",
    "var lines = File(flname).readLines()                   // 파일객체 사용해서 바로 읽기\n",
    "println(lines)                                         // 결과 출력\n"
   ]
  },
  {
   "cell_type": "code",
   "execution_count": null,
   "id": "4dbd8b57",
   "metadata": {},
   "outputs": [],
   "source": []
  },
  {
   "cell_type": "code",
   "execution_count": 6,
   "id": "b62152ae",
   "metadata": {},
   "outputs": [
    {
     "name": "stdout",
     "output_type": "stream",
     "text": [
      "[코틀린 세상. 왜 만들었을까?]\n",
      "[코틀린 세상. 재미있는 프로그램언어...]\n",
      "class java.io.PrintWriter\n",
      "Writed to file\n",
      "class java.io.File\n",
      "[아는 척 하는 것과, 모르는 것에는 , 거의 차이가 없다.]\n"
     ]
    }
   ],
   "source": [
    "import java.io.File                               // 파일처리\n",
    "\n",
    "val fileName = \"test1.txt\"                        // 파일이름 \n",
    "val content1 = \"코틀린 세상. 왜 만들었을까?\"            // 파일 쓰기 내용\n",
    "File(fileName).printWriter()                      // 파일 객체 생성 후 프린터쓰기 객체 생성\n",
    "    .use { out ->out.println(content1)}           // use 메소드로 파일 쓰기\n",
    "    var lines = File(fileName).readLines()        // 파일을 읽기\n",
    "println(lines)                                    // 결과 출력\n",
    "\n",
    "val content2 = \"코틀린 세상. 재미있는 프로그램언어...\"    // 파일 쓰기 내용 \n",
    "File(flname).writeText(content2)                  // 파일 객체에서 바로 텍스트로 쓰기\n",
    "lines = File(flname).readLines()                  // 파일을 읽기\n",
    "println(lines)                                    // 결과 출력\n",
    "\n",
    "val myfile = File(fileName)                       // 파일가져오기 \n",
    "myfile.printWriter().use { outf ->                // PrintWriter 객체 생성 후 파일을 쓰기 \n",
    "    println(outf.javaClass)\n",
    "    outf.println(\"아는 척 하는 것과\")                 // 파일에 첫번째 라인 쓰기\n",
    "    outf.println(\"모르는 것에는 \")                   // 두번째 라인 쓰기\n",
    "    outf.write(\"거의 차이가 없다.\")                   // 세번째 라인 쓰기\n",
    "}                                                 // use메소드 : file 자동 종료처리\n",
    "println(\"Writed to file\")\n",
    "\n",
    "val fileop = File(fileName)                       // 파일 가져오기\n",
    "println(fileop.javaClass.kotlin)                  // 클래스 확인 \n",
    "lines = fileop.readLines()                        // 파일 내부 읽기 \n",
    "println(lines)                                    // 출력"
   ]
  },
  {
   "cell_type": "code",
   "execution_count": null,
   "id": "c92da059",
   "metadata": {},
   "outputs": [],
   "source": []
  },
  {
   "cell_type": "code",
   "execution_count": null,
   "id": "c80bc75e",
   "metadata": {},
   "outputs": [],
   "source": []
  }
 ],
 "metadata": {
  "kernelspec": {
   "display_name": "Kotlin",
   "language": "kotlin",
   "name": "kotlin"
  },
  "language_info": {
   "codemirror_mode": "text/x-kotlin",
   "file_extension": ".kt",
   "mimetype": "text/x-kotlin",
   "name": "kotlin",
   "nbconvert_exporter": "",
   "pygments_lexer": "kotlin",
   "version": "1.8.0-dev-3517"
  }
 },
 "nbformat": 4,
 "nbformat_minor": 5
}
