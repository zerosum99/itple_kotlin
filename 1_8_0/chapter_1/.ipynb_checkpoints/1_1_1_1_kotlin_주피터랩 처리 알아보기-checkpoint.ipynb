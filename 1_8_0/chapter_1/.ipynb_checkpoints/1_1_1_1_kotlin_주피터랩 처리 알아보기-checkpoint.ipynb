{
 "cells": [
  {
   "cell_type": "code",
   "execution_count": 6,
   "id": "8adb6f70-aa2d-40f1-acd6-e2d6fa739aef",
   "metadata": {},
   "outputs": [
    {
     "data": {
      "text/plain": [
       "1.8.0"
      ]
     },
     "execution_count": 6,
     "metadata": {},
     "output_type": "execute_result"
    }
   ],
   "source": [
    "KotlinVersion.CURRENT"
   ]
  },
  {
   "cell_type": "markdown",
   "id": "1482cba7",
   "metadata": {},
   "source": [
    "## 개발환경 알아보기"
   ]
  },
  {
   "cell_type": "code",
   "execution_count": null,
   "id": "e9625ad5-869d-4966-978f-e4e86ae22677",
   "metadata": {},
   "outputs": [],
   "source": []
  },
  {
   "cell_type": "code",
   "execution_count": 1,
   "id": "5b2fb746-0699-4b47-9faa-7887c5da6231",
   "metadata": {},
   "outputs": [],
   "source": [
    "val hello = \"Hello\"                                         // 변수 정의 \n",
    "\n",
    "fun main() {                                                // 함수 정의 \n",
    "    println(\" $hello \")                                     // 변수 출력\n",
    "    println(\" kotlin version : ${KotlinVersion.CURRENT } \") // 현재 버전 출력 \n",
    "}"
   ]
  },
  {
   "cell_type": "code",
   "execution_count": null,
   "id": "6571f85d-89bc-42ec-9526-ef0891fe5032",
   "metadata": {},
   "outputs": [],
   "source": []
  },
  {
   "cell_type": "code",
   "execution_count": 2,
   "id": "0c69bba7-7623-462f-84d4-4c5470333079",
   "metadata": {},
   "outputs": [
    {
     "name": "stdout",
     "output_type": "stream",
     "text": [
      " Hello \n",
      " kotlin version : 1.8.0 \n"
     ]
    }
   ],
   "source": [
    "main()                                                      // 함수 호출 "
   ]
  },
  {
   "cell_type": "code",
   "execution_count": null,
   "id": "dcbe85ad-d37f-4375-ad98-f881498e9bee",
   "metadata": {},
   "outputs": [],
   "source": []
  },
  {
   "cell_type": "code",
   "execution_count": 3,
   "id": "3c04df16-cc23-4f65-8190-bfb08b375f10",
   "metadata": {},
   "outputs": [
    {
     "data": {
      "text/plain": [
       "Hello"
      ]
     },
     "execution_count": 3,
     "metadata": {},
     "output_type": "execute_result"
    }
   ],
   "source": [
    "hello                                                       // 변수 참조 "
   ]
  },
  {
   "cell_type": "code",
   "execution_count": null,
   "id": "bb90f2a5-9ba9-44f3-add5-1fc792b22e74",
   "metadata": {},
   "outputs": [],
   "source": []
  },
  {
   "cell_type": "markdown",
   "id": "67f46483",
   "metadata": {},
   "source": [
    "## 문자열인 정수에 대한 클래스 확인하기"
   ]
  },
  {
   "cell_type": "code",
   "execution_count": 4,
   "id": "61728df0-fe61-49a0-934f-982cea6955e0",
   "metadata": {},
   "outputs": [
    {
     "data": {
      "text/plain": [
       "class kotlin.String"
      ]
     },
     "execution_count": 4,
     "metadata": {},
     "output_type": "execute_result"
    }
   ],
   "source": [
    "\"Hello\".javaClass.kotlin                                    // 문자열 클래스 확인"
   ]
  },
  {
   "cell_type": "code",
   "execution_count": 5,
   "id": "4e3e8504-41c7-45ab-a8ef-3607c5255b58",
   "metadata": {},
   "outputs": [
    {
     "data": {
      "text/plain": [
       "class kotlin.Int"
      ]
     },
     "execution_count": 5,
     "metadata": {},
     "output_type": "execute_result"
    }
   ],
   "source": [
    "(100).javaClass.kotlin                                      // 정수 클래스 확인 "
   ]
  },
  {
   "cell_type": "code",
   "execution_count": null,
   "id": "76c7b1d2-04f8-4919-86a8-b09459624a85",
   "metadata": {},
   "outputs": [],
   "source": []
  },
  {
   "cell_type": "code",
   "execution_count": null,
   "id": "cbc86fd0",
   "metadata": {},
   "outputs": [],
   "source": []
  },
  {
   "cell_type": "code",
   "execution_count": null,
   "id": "21efdf4f-fa5e-41ca-99c6-cab7bead89cc",
   "metadata": {},
   "outputs": [],
   "source": []
  }
 ],
 "metadata": {
  "kernelspec": {
   "display_name": "Kotlin",
   "language": "kotlin",
   "name": "kotlin"
  },
  "language_info": {
   "codemirror_mode": "text/x-kotlin",
   "file_extension": ".kt",
   "mimetype": "text/x-kotlin",
   "name": "kotlin",
   "nbconvert_exporter": "",
   "pygments_lexer": "kotlin",
   "version": "1.8.0-dev-3517"
  }
 },
 "nbformat": 4,
 "nbformat_minor": 5
}
