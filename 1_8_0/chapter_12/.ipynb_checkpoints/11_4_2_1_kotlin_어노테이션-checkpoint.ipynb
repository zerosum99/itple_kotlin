{
 "cells": [
  {
   "cell_type": "code",
   "execution_count": 1,
   "id": "19b1a899",
   "metadata": {},
   "outputs": [
    {
     "data": {
      "text/plain": [
       "1.7.0"
      ]
     },
     "execution_count": 1,
     "metadata": {},
     "output_type": "execute_result"
    }
   ],
   "source": [
    "KotlinVersion.CURRENT"
   ]
  },
  {
   "cell_type": "code",
   "execution_count": 2,
   "id": "e12a8f35",
   "metadata": {},
   "outputs": [],
   "source": [
    "annotation class Testing"
   ]
  },
  {
   "cell_type": "code",
   "execution_count": 3,
   "id": "fffd3b28",
   "metadata": {},
   "outputs": [],
   "source": [
    "@Testing\n",
    "class Foo(@Testing val first: Int) {\n",
    "    @Testing\n",
    "    fun baz(@Testing second: Int): Int {\n",
    "        return first + second\n",
    "    }\n",
    "}"
   ]
  },
  {
   "cell_type": "code",
   "execution_count": null,
   "id": "84c75fc6",
   "metadata": {},
   "outputs": [],
   "source": []
  },
  {
   "cell_type": "code",
   "execution_count": 4,
   "id": "9ab66e37",
   "metadata": {},
   "outputs": [
    {
     "name": "stdout",
     "output_type": "stream",
     "text": [
      "3\n"
     ]
    }
   ],
   "source": [
    "@Deprecated(\"It is deprecated\")\n",
    "fun sum(a: Int, b: Int): Int {\n",
    "    return a + b\n",
    "}\n",
    "\n",
    "fun test() {\n",
    "    println(sum(1, 2))\n",
    "}\n",
    "\n",
    "test()"
   ]
  },
  {
   "cell_type": "markdown",
   "id": "8af05531",
   "metadata": {},
   "source": [
    "## list 타입매개변수가 없어서 동일한 함수로 처리"
   ]
  },
  {
   "cell_type": "code",
   "execution_count": 5,
   "id": "556d2f71",
   "metadata": {},
   "outputs": [],
   "source": [
    "// compile error 발생\n",
    "//fun foo(a : List<String>) {\n",
    "//    println(\"foo(a : List<String>\")\n",
    "//}\n",
    "\n",
    "//fun foo(a : List<Int>) {\n",
    "//    println(\"foo(a : List<Int>\")\n",
    "//}"
   ]
  },
  {
   "cell_type": "markdown",
   "id": "aeab5d24",
   "metadata": {},
   "source": [
    "## @JvmName : \n",
    "\n",
    "- JAVA에서 호출되는 Kotlin의 함수, 변수, 파일명을 Renamed(변경)"
   ]
  },
  {
   "cell_type": "code",
   "execution_count": 6,
   "id": "94275562",
   "metadata": {},
   "outputs": [],
   "source": [
    "@file:JvmName(\"foo\")\n",
    "@JvmName(\"foo1String\")\n",
    "fun foo1(a : List<String>) {\n",
    "    println(\"foo(a : List<String>\")\n",
    "}\n",
    "\n",
    "@JvmName(\"foo1Int\")\n",
    "fun foo1(a : List<Int>) {\n",
    "    println(\"foo(a : List<Int>\")\n",
    "}"
   ]
  },
  {
   "cell_type": "code",
   "execution_count": 7,
   "id": "c5c95192",
   "metadata": {},
   "outputs": [
    {
     "name": "stdout",
     "output_type": "stream",
     "text": [
      "foo(a : List<String>\n"
     ]
    }
   ],
   "source": [
    "foo1(listOf(\"a\"))"
   ]
  },
  {
   "cell_type": "code",
   "execution_count": 8,
   "id": "d04a2f58",
   "metadata": {},
   "outputs": [],
   "source": [
    "@file:JvmName(\"bar\")\n",
    "\n",
    "@JvmName(\"foo2String\")\n",
    "fun foo2(a : List<String>) {\n",
    "    println(\"foo(a : List<String>\")\n",
    "}\n",
    "\n",
    "@JvmName(\"foo2Int\")\n",
    "fun foo2(a : List<Int>) {\n",
    "    println(\"foo(a : List<Int>\")\n",
    "}"
   ]
  },
  {
   "cell_type": "code",
   "execution_count": 9,
   "id": "fc627d67",
   "metadata": {},
   "outputs": [
    {
     "name": "stdout",
     "output_type": "stream",
     "text": [
      "foo(a : List<String>\n"
     ]
    }
   ],
   "source": [
    "foo2(listOf(\"a\"))"
   ]
  },
  {
   "cell_type": "markdown",
   "id": "b41570dd",
   "metadata": {},
   "source": [
    "## @JvmStatic : \n",
    "\n",
    "- static 변수의 Getter/Setter 함수를 자동으로 생성하라는 애노테이션, 즉 static Getter/Setter"
   ]
  },
  {
   "cell_type": "code",
   "execution_count": 10,
   "id": "8b554a52",
   "metadata": {},
   "outputs": [],
   "source": [
    "class Bar {\n",
    "    companion object {\n",
    "        @JvmStatic var barName : String = \"bar\"\n",
    "    }\n",
    "}"
   ]
  },
  {
   "cell_type": "code",
   "execution_count": null,
   "id": "61be4282",
   "metadata": {},
   "outputs": [],
   "source": []
  }
 ],
 "metadata": {
  "kernelspec": {
   "display_name": "Kotlin",
   "language": "kotlin",
   "name": "kotlin"
  },
  "language_info": {
   "codemirror_mode": "text/x-kotlin",
   "file_extension": ".kt",
   "mimetype": "text/x-kotlin",
   "name": "kotlin",
   "nbconvert_exporter": "",
   "pygments_lexer": "kotlin",
   "version": "1.7.0-dev-1825"
  }
 },
 "nbformat": 4,
 "nbformat_minor": 5
}
