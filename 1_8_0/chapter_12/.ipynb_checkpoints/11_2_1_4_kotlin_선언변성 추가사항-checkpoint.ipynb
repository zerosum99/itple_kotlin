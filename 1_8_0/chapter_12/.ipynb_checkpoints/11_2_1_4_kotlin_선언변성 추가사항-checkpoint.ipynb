{
 "cells": [
  {
   "cell_type": "code",
   "execution_count": null,
   "id": "45f9ec2b",
   "metadata": {},
   "outputs": [],
   "source": []
  },
  {
   "cell_type": "code",
   "execution_count": 1,
   "id": "243d396a",
   "metadata": {},
   "outputs": [
    {
     "data": {
      "text/plain": [
       "1.8.0"
      ]
     },
     "execution_count": 1,
     "metadata": {},
     "output_type": "execute_result"
    }
   ],
   "source": [
    "KotlinVersion.CURRENT             // 코틀린 현재 버전 "
   ]
  },
  {
   "cell_type": "code",
   "execution_count": null,
   "id": "ad215024",
   "metadata": {},
   "outputs": [],
   "source": []
  },
  {
   "cell_type": "markdown",
   "id": "b0d588c5",
   "metadata": {},
   "source": [
    "## 함수 자료형의 공변성과 반공변성 알아보기"
   ]
  },
  {
   "cell_type": "code",
   "execution_count": 2,
   "id": "1ee1c18c",
   "metadata": {},
   "outputs": [
    {
     "name": "stdout",
     "output_type": "stream",
     "text": [
      "공변성\n",
      "반변성Hello\n"
     ]
    }
   ],
   "source": [
    "val f_co : () -> String = {\"공변성\"}                       // 입력 매개변수가 없을 경우 반환타입의 공변성 \n",
    "\n",
    "val f_co_1 : () -> Any = f_co                            // 반환자료형의 상위 타입에 하위 타입을 할당가능 \n",
    "\n",
    "println(f_co_1())\n",
    "\n",
    "\n",
    "val f_contra : (Any) -> Unit =  {println(\"반변성\" + it )}  // 반공변성은 입력매개변수에 대한 상위타입을 \n",
    "val f_cotra_1 : (String) -> Unit = f_contra              // 하위 타입에게 할당가능 반공변성 처리\n",
    "\n",
    "f_cotra_1(\"Hello\")"
   ]
  },
  {
   "cell_type": "code",
   "execution_count": null,
   "id": "fb2d3d14",
   "metadata": {},
   "outputs": [],
   "source": []
  },
  {
   "cell_type": "code",
   "execution_count": null,
   "id": "9dee5b73",
   "metadata": {},
   "outputs": [],
   "source": []
  },
  {
   "cell_type": "markdown",
   "id": "1a461217",
   "metadata": {},
   "source": [
    "## 선언변성 혼용처리하기"
   ]
  },
  {
   "cell_type": "code",
   "execution_count": 3,
   "id": "6511f09d",
   "metadata": {},
   "outputs": [
    {
     "name": "stdout",
     "output_type": "stream",
     "text": [
      "반공변성\n",
      "제너릭 out\n",
      "제너릭 in\n"
     ]
    }
   ],
   "source": [
    "interface SomeInterface<in P, out R> {                     // in과 out을 모두 사용한 선언 변성    \n",
    "    val con : R                                            // out은 속성 선언 가능 \n",
    "    //val conP : P                                         // in 으로 지정불가 \n",
    "    fun someFunction(p : P)                                // in을 처리하는 메소드\n",
    "    fun someFunction1() : R                                // out을 처리하는 메소드 \n",
    "}\n",
    "\n",
    "class SomeClass< in P, out R > (para1 : P,                 // 타입매개변수 선언 \n",
    "                                para2 : R) :\n",
    "                                SomeInterface<P, R> {      // 인터페이스 상속 \n",
    "    private val conP = para1                               // in 타입매개변수 저장을 위한 비공개 val 정의 \n",
    "    override val con : R = para2                           // 속성 재정의 처리\n",
    "    override fun someFunction(p:P){                        // 매소드 재정의 처리\n",
    "        println(p)\n",
    "    } \n",
    "    \n",
    "    override fun someFunction1() : R {                      // 메소드 재정의 \n",
    "        return con\n",
    "    }\n",
    "    fun someFunction2() : Unit {                            // 내부 속성을 조회 : in 매개변수 조회\n",
    "        println(conP)\n",
    "    }\n",
    "\n",
    "}\n",
    "\n",
    "val some = SomeClass<String,String>(\"제너릭 in\", \"제너릭 out\")  // 객체 생성 \n",
    "some.someFunction(\"반공변성\")                                  // 메소드 실행 \n",
    "println(some.someFunction1())                                // 메소드 실행 \n",
    "some.someFunction2()                                         // 메소드 실행 "
   ]
  },
  {
   "cell_type": "code",
   "execution_count": null,
   "id": "b02b6221",
   "metadata": {},
   "outputs": [],
   "source": []
  },
  {
   "cell_type": "code",
   "execution_count": null,
   "id": "0beaf432",
   "metadata": {},
   "outputs": [],
   "source": []
  },
  {
   "cell_type": "code",
   "execution_count": null,
   "id": "e6a26037",
   "metadata": {},
   "outputs": [],
   "source": []
  }
 ],
 "metadata": {
  "kernelspec": {
   "display_name": "Kotlin",
   "language": "kotlin",
   "name": "kotlin"
  },
  "language_info": {
   "codemirror_mode": "text/x-kotlin",
   "file_extension": ".kt",
   "mimetype": "text/x-kotlin",
   "name": "kotlin",
   "nbconvert_exporter": "",
   "pygments_lexer": "kotlin",
   "version": "1.8.0-dev-3517"
  }
 },
 "nbformat": 4,
 "nbformat_minor": 5
}
