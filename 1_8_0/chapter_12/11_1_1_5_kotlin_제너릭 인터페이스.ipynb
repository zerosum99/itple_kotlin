{
 "cells": [
  {
   "cell_type": "code",
   "execution_count": null,
   "id": "b04582b9",
   "metadata": {},
   "outputs": [],
   "source": []
  },
  {
   "cell_type": "code",
   "execution_count": 1,
   "id": "52366b34",
   "metadata": {},
   "outputs": [
    {
     "data": {
      "text/plain": [
       "1.8.0"
      ]
     },
     "execution_count": 1,
     "metadata": {},
     "output_type": "execute_result"
    }
   ],
   "source": [
    "KotlinVersion.CURRENT"
   ]
  },
  {
   "cell_type": "code",
   "execution_count": null,
   "id": "3ae2211f",
   "metadata": {},
   "outputs": [],
   "source": []
  },
  {
   "cell_type": "markdown",
   "id": "b123541e",
   "metadata": {},
   "source": [
    "## 인터페이스 구현 "
   ]
  },
  {
   "cell_type": "code",
   "execution_count": 2,
   "id": "c6ab2cd0",
   "metadata": {},
   "outputs": [
    {
     "name": "stdout",
     "output_type": "stream",
     "text": [
      "코기리\n",
      "11000\n",
      "멍멍\n",
      "f() 실행 \n",
      "속성 obj \n"
     ]
    }
   ],
   "source": [
    "interface Animalable<T> {                                     // 제너릭인터페이스 정의 : 타입매개변수                      \n",
    "    val obj: T                                                // 추상속성과 추상메소드에 타입매개변수 지정 \n",
    "    fun func(): T\n",
    "}\n",
    "\n",
    "class Dog {                                                   // 일반 클래스 정의 \n",
    "    fun bark() = \"멍멍\" \n",
    "}\n",
    "\n",
    "class AnimalImpl<T>(override val obj : T) : Animalable<T> {   // 제너릭 클래스에서 제너릭 인터페이스를 상속하기\n",
    "      override fun func(): T = obj                            // 추상메소드 구현 : 제너릭 처리 \n",
    "}\n",
    "\n",
    "val aimp = AnimalImpl(\"코기리\")                                 // 문자열 인자 전달 : 타입추론으로 타입인자 처리\n",
    "val aimp11 = AnimalImpl(11000)                                // 정수 전달 \n",
    "val aimpdog = AnimalImpl(Dog())                               // 일반 클래스의 객체 전달\n",
    "\n",
    "println(aimp.func())                                          // 메소드 실행 \n",
    "println(aimp11.func())\n",
    "println(aimpdog.func().bark())                                // 객체 내의 메소드 실행 \n",
    "\n",
    "class Concrete : Animalable<String> {                         // 일반 클래스에 제너릭 인터페이스 상속: 타입인자지정  \n",
    "    override val obj: String                                  // 일반 클래스 내의 속성 재정의 \n",
    "        get() = \"속성 obj \"\n",
    "    override fun func() = \"f() 실행 \"                          // 일반 클래스 내의 메소드 재정의 \n",
    "}\n",
    "\n",
    "println(Concrete().func())                                    // 객체 생성 후에 메소드 실행 \n",
    "println(Concrete().obj)                                       // 객체 생성 후에 속성 조회"
   ]
  },
  {
   "cell_type": "code",
   "execution_count": null,
   "id": "539d21bc",
   "metadata": {},
   "outputs": [],
   "source": []
  },
  {
   "cell_type": "markdown",
   "id": "23dcf46c",
   "metadata": {},
   "source": [
    "## 인터페이스 상속 및 추상클래스 사용 "
   ]
  },
  {
   "cell_type": "code",
   "execution_count": 3,
   "id": "2782bf8e",
   "metadata": {},
   "outputs": [
    {
     "name": "stdout",
     "output_type": "stream",
     "text": [
      "초기값\n",
      "변경값\n"
     ]
    }
   ],
   "source": [
    "interface Iable <T> {                                         // 제너릭 인터페이스 정의 \n",
    "  val name: T\n",
    "  fun action(): T\n",
    "}\n",
    "\n",
    "interface TIable <T>: Iable<T>   {                           // 일반 인터페이스에서 제너릭 인터페이스 상속\n",
    "    override fun action(): T\n",
    "}\n",
    "\n",
    "abstract class Ability<T> : TIable<T> {                     // 제너릭 추상클래스 \n",
    "    override abstract val name : T\n",
    "    override abstract fun action() : T\n",
    "}\n",
    "\n",
    "class Concrete : Ability<String>() {                        // 구현클래스 정의 : 추상클래스에 타입인자 전달\n",
    "    override var name : String = \"초기값\"                     // 속성에 문자열 자료형 지정\n",
    "    override fun action(): String = name                    // 메소드에 문자열 자료형 지정\n",
    "}\n",
    "\n",
    "val con = Concrete()\n",
    "println(con.name)\n",
    "con.name = \"변경값\"\n",
    "println(con.action())"
   ]
  },
  {
   "cell_type": "code",
   "execution_count": null,
   "id": "ce45ae87",
   "metadata": {},
   "outputs": [],
   "source": []
  },
  {
   "cell_type": "markdown",
   "id": "12dbf38d",
   "metadata": {},
   "source": [
    "## 인터페이스 상속 처리 "
   ]
  },
  {
   "cell_type": "code",
   "execution_count": 4,
   "id": "c95d7f24",
   "metadata": {},
   "outputs": [
    {
     "name": "stdout",
     "output_type": "stream",
     "text": [
      "페트병, 켄음료, 종이상자, \n",
      "페트병, 켄음료, 종이상자, "
     ]
    }
   ],
   "source": [
    "interface Disposable <T> {                                          // 제너릭 인터페이스 정의 \n",
    "  val name: T\n",
    "  fun action(): T\n",
    "}\n",
    "class Compost(override val name: String) : \n",
    "                                       Disposable<String> {         // 일반 클래스에서 제너릭 인터페이스 상속 \n",
    "  override fun action() = \"Add to composter\"\n",
    "}\n",
    "  \n",
    "interface Transport : Disposable<String>                             // 일반 인터페이스에서 제너릭 인터페이스 상속\n",
    "    \n",
    "class Donation(override val name: String) : Transport {              // 인터페이스 상속 클래스 정의 \n",
    "    override fun action() = \"주워주세요! \"\n",
    "}\n",
    "class Recyclable(override val name: String) : Transport {            // 인터페이스 상속 클래스 정의 \n",
    "    override fun action() = \"분리수거통에 넣어주세요! \"\n",
    "}\n",
    "class Landfill(override val name: String) :  Transport {             // 인터페이스 상속 클래스 정의 \n",
    "    override fun action() = \"쓰레기통에 넣어주세요!\"\n",
    "}\n",
    "\n",
    "fun <T : Transport> nameOf(disposable: T) = disposable.name          // 제네릭 함수 정의 \n",
    "fun <T : Transport> T.name() = name                                  // 확장함수 정의 \n",
    "\n",
    "val items = listOf(Compost(\"귤껍질\"),Compost(\"사과 씨\"),                // 클래스로 객체 생성하고 리스트에 넣기\n",
    "                   Donation(\"헌 방석\"),Donation(\"헌 옷\"),\n",
    "                   Recyclable(\"페트병\"), Recyclable(\"켄음료\"),\n",
    "                   Recyclable(\"종이상자\"),Landfill(\"담배꽁초\") )\n",
    "\n",
    "val recyclables =  items.filterIsInstance<Recyclable>()\n",
    "val bbb = recyclables.map { nameOf(it) }                             // 제너릭 함수 처리 \n",
    "bbb.forEach {print(it +\", \")}  \n",
    "println()\n",
    "val ccc = recyclables.map { it.name() }                              // 제너릭 확장함수 처리 \n",
    "ccc.forEach {print(it + \", \")}  "
   ]
  },
  {
   "cell_type": "code",
   "execution_count": null,
   "id": "a905560a",
   "metadata": {},
   "outputs": [],
   "source": []
  },
  {
   "cell_type": "code",
   "execution_count": null,
   "id": "ecd5ba58",
   "metadata": {},
   "outputs": [],
   "source": []
  },
  {
   "cell_type": "code",
   "execution_count": null,
   "id": "a4d05584",
   "metadata": {},
   "outputs": [],
   "source": []
  }
 ],
 "metadata": {
  "kernelspec": {
   "display_name": "Kotlin",
   "language": "kotlin",
   "name": "kotlin"
  },
  "language_info": {
   "codemirror_mode": "text/x-kotlin",
   "file_extension": ".kt",
   "mimetype": "text/x-kotlin",
   "name": "kotlin",
   "nbconvert_exporter": "",
   "pygments_lexer": "kotlin",
   "version": "1.8.0-dev-3517"
  }
 },
 "nbformat": 4,
 "nbformat_minor": 5
}
