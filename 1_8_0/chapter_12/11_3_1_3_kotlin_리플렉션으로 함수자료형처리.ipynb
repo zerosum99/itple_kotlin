{
 "cells": [
  {
   "cell_type": "code",
   "execution_count": null,
   "id": "ee45b591",
   "metadata": {},
   "outputs": [],
   "source": []
  },
  {
   "cell_type": "code",
   "execution_count": 1,
   "id": "15aee3f3",
   "metadata": {},
   "outputs": [
    {
     "data": {
      "text/plain": [
       "1.8.0"
      ]
     },
     "execution_count": 1,
     "metadata": {},
     "output_type": "execute_result"
    }
   ],
   "source": [
    "KotlinVersion.CURRENT             // 코틀린 현재 버전 "
   ]
  },
  {
   "cell_type": "code",
   "execution_count": null,
   "id": "b77ac0e0",
   "metadata": {},
   "outputs": [],
   "source": []
  },
  {
   "cell_type": "markdown",
   "id": "6436594f",
   "metadata": {},
   "source": [
    "## 함수 자료형 지정하기"
   ]
  },
  {
   "cell_type": "markdown",
   "id": "0a86bcca",
   "metadata": {},
   "source": [
    "### 리플렉션으로 함수자료형 정의"
   ]
  },
  {
   "cell_type": "code",
   "execution_count": 2,
   "id": "ab2f7de3",
   "metadata": {},
   "outputs": [
    {
     "name": "stdout",
     "output_type": "stream",
     "text": [
      "### 자료형 일치 여부 확인 ###\n",
      "true\n",
      "true\n",
      "true\n",
      "### 함수 실행 확인  ###\n",
      "실행\n",
      "20\n",
      "100\n"
     ]
    }
   ],
   "source": [
    "import kotlin.reflect.KFunction                // 리플렉션 함수 인터페이스 \n",
    "import kotlin.reflect.KFunction1               // 인자와 반환값을 가진 함수 인터페이스\n",
    "import kotlin.reflect.KFunction2               // 두개의 인자와 반환값을 가진 인터페이스\n",
    "\n",
    "fun x1() =  println(\"실행\")                     // 함수 매개변수와 반환값이 없는 경우 \n",
    "val x1ref: KFunction<Unit> = ::x1              // 리플렉션 함수 자료형 선언\n",
    "\n",
    "fun x2(x: Int) = x * 2                         // 함수 매개변수 1개와 반환값 처리 \n",
    "val x2ref: KFunction1<Int, Int> = ::x2         // 리플렉션 함수 자료형 선언 \n",
    "\n",
    "fun x3(x: Int, y:Int) = x * y                  // 함수매개변수 2개와 반환값 처리\n",
    "val x3ref: KFunction2<Int, Int, Int> = ::x3    // 리플렉션 함수 자료형 선언 \n",
    "println(\"### 자료형 일치 여부 확인 ###\") \n",
    "println(::x1 is KFunction<Unit>)               // 리플렉션 함수 자료형인지 확인 \n",
    "println(::x2 is KFunction1<Int, Int>)          // 리플렉션 함수 자료형인지 확인\n",
    "println(::x3 is KFunction2<Int,Int, Int>)      // 리플렉션 함수 자료형인지 확인\n",
    "\n",
    "val a : ()-> Unit = ::x1                       // 프로그램 상의 함수 자료형지정\n",
    "val b : (Int)-> Int = ::x2                     // 프로그램 상의 함수 자료형 지정\n",
    "val c : (Int,Int)-> Int = ::x3                 // 프로그램 상의 함수 자료형 지정\n",
    "\n",
    "//println(::a is KFunction<Unit>)              // KFunction<Unit> 정보가 사라져 확인 불가\n",
    "println(\"### 함수 실행 확인  ###\") \n",
    "a()                                            // 함수 실행 \n",
    "println(b(10)) \n",
    "println(c(10,10))"
   ]
  },
  {
   "cell_type": "markdown",
   "id": "ac7efab1",
   "metadata": {},
   "source": [
    "## 매개변수에 함수 전달 처리 "
   ]
  },
  {
   "cell_type": "code",
   "execution_count": 3,
   "id": "aedee359",
   "metadata": {},
   "outputs": [
    {
     "name": "stdout",
     "output_type": "stream",
     "text": [
      "200\n",
      "fun Line_2.A.gts(kotlin.Int): kotlin.Boolean\n",
      "true\n",
      "5\n",
      "5\n",
      "5\n"
     ]
    }
   ],
   "source": [
    "import kotlin.reflect.KFunction1                          // 리플렉션 함수 인터페이스 \n",
    "import kotlin.reflect.KFunction2\n",
    "\n",
    "class A(val value:Int,                                    // 클래스 정의  \n",
    "        //Type mismatch: inferred type is (Int, Int) -> Int but KFunction2<Int, Int, Int> was expected \n",
    "        //타입 변환처리해버림 \n",
    "        // KFunction2<Int, Int, Int> 를 인식하지 못해서 변경했음 \n",
    "        val action:(Int, Int) -> Int)  {                  // 매개변수로 함수를 전달 \n",
    "    \n",
    "    fun gts(b: Int): Boolean = this.value > b             // 메소드 정의 \n",
    "    fun add(x:Int) : Int = action(this.value, x)          // 전달받은 함수를 실행하는 메소드 정의\n",
    "}\n",
    "\n",
    "val a = A(100, fun(x:Int,y:Int):Int{ return  x+y})        // 익명함수를 인자로 전달하고 객체 생성 \n",
    "\n",
    "val f  = a::add                                           // 메소드 참조\n",
    "println(f(100))                                           // 메소드 실행 \n",
    "\n",
    "val e : KFunction1<Int,Boolean> = a::gts                  // 메소드 참조 후 변수에 할당 \n",
    "println(e)                                 \n",
    "println(e(80))                                            // 메소드 실행 \n",
    "\n",
    "val sum: (Int, Int) -> Int = { x, y -> x + y }            // 람다표현식 변수 할당 \n",
    "fun sum1(x:Int, y:Int) = x+y                              // 함수 정의 \n",
    "\n",
    "val x:KFunction2<Int,Int,Int> = ::sum1                    // 함수 참조 후 변수 할당 \n",
    "val sum2 = fun (x:Int, y:Int) = x+y                       // 익명함수를 변수 할당 \n",
    "\n",
    "fun applyOp(x: Int, y: Int,                               // 함수 정의 \n",
    "            op: (Int, Int) -> Int): Int = op(x, y)        // 매개변수로 함수 전달 \n",
    "\n",
    "println(applyOp(2, 3, sum))                               // 함수 실행 \n",
    "println(applyOp(2, 3, sum2))\n",
    "println(applyOp(2, 3, ::sum1))"
   ]
  },
  {
   "cell_type": "code",
   "execution_count": null,
   "id": "fc8c2b43",
   "metadata": {},
   "outputs": [],
   "source": []
  },
  {
   "cell_type": "code",
   "execution_count": null,
   "id": "139cfff2",
   "metadata": {},
   "outputs": [],
   "source": []
  },
  {
   "cell_type": "code",
   "execution_count": null,
   "id": "448a0b42",
   "metadata": {},
   "outputs": [],
   "source": []
  }
 ],
 "metadata": {
  "kernelspec": {
   "display_name": "Kotlin",
   "language": "kotlin",
   "name": "kotlin"
  },
  "language_info": {
   "codemirror_mode": "text/x-kotlin",
   "file_extension": ".kt",
   "mimetype": "text/x-kotlin",
   "name": "kotlin",
   "nbconvert_exporter": "",
   "pygments_lexer": "kotlin",
   "version": "1.8.0-dev-3517"
  }
 },
 "nbformat": 4,
 "nbformat_minor": 5
}
