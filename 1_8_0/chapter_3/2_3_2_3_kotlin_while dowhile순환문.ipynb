{
 "cells": [
  {
   "cell_type": "code",
   "execution_count": null,
   "id": "7e06a972",
   "metadata": {},
   "outputs": [],
   "source": []
  },
  {
   "cell_type": "code",
   "execution_count": 1,
   "id": "f5492c26",
   "metadata": {},
   "outputs": [
    {
     "data": {
      "text/plain": [
       "1.8.0"
      ]
     },
     "execution_count": 1,
     "metadata": {},
     "output_type": "execute_result"
    }
   ],
   "source": [
    "KotlinVersion.CURRENT             // 코틀린 현재 버전 "
   ]
  },
  {
   "cell_type": "code",
   "execution_count": null,
   "id": "28313373",
   "metadata": {},
   "outputs": [],
   "source": []
  },
  {
   "cell_type": "markdown",
   "id": "263483cf",
   "metadata": {},
   "source": [
    "## 2. while 순환"
   ]
  },
  {
   "cell_type": "code",
   "execution_count": 2,
   "id": "e64dba63-7d36-44aa-829d-db41d83eef93",
   "metadata": {},
   "outputs": [
    {
     "name": "stdout",
     "output_type": "stream",
     "text": [
      " while\n",
      "0\n",
      "1\n",
      "2\n",
      " do while\n",
      "0\n",
      "1\n",
      "2\n"
     ]
    }
   ],
   "source": [
    "println(\" while\")\n",
    "var n = 0\n",
    "\n",
    "while (n < 3) {       // 첫번째 조건이 만족해야 내부 처리\n",
    "    println(n)\n",
    "    n++\n",
    "}\n",
    "println(\" do while\")\n",
    "var m = 0\n",
    "\n",
    "do {                  // 내부 처리를 한번 실행한후에 조건을 확인 \n",
    "    println(m)\n",
    "    m++\n",
    "} while (m<3)"
   ]
  },
  {
   "cell_type": "code",
   "execution_count": null,
   "id": "858dbc8c",
   "metadata": {},
   "outputs": [],
   "source": []
  },
  {
   "cell_type": "markdown",
   "id": "90bb9389",
   "metadata": {},
   "source": [
    "## 내포 순환 및 중단처리 "
   ]
  },
  {
   "cell_type": "code",
   "execution_count": 3,
   "id": "21199d3c",
   "metadata": {},
   "outputs": [
    {
     "name": "stdout",
     "output_type": "stream",
     "text": [
      " n :0\n",
      " m :0\n",
      " m :1\n",
      " n :1\n",
      " m :0\n",
      " m :1\n"
     ]
    }
   ],
   "source": [
    "var n = 0\n",
    "while (n < 2) {\n",
    "    println(\" n :\" + n)\n",
    "    var m = 0\n",
    "    while (m < 2) {          //내포된 while 문\n",
    "        println(\" m :\" +m)\n",
    "        m++\n",
    "        if (m ==3) break     // 가까운 순환문 종료\n",
    "        \n",
    "    }\n",
    "    n++\n",
    "}"
   ]
  },
  {
   "cell_type": "code",
   "execution_count": null,
   "id": "c4aff219",
   "metadata": {},
   "outputs": [],
   "source": []
  },
  {
   "cell_type": "code",
   "execution_count": 4,
   "id": "259b0660",
   "metadata": {},
   "outputs": [
    {
     "name": "stdout",
     "output_type": "stream",
     "text": [
      " n :0\n",
      " m :0\n",
      " m :1\n",
      " n :1\n",
      " m :0\n",
      " m :1\n"
     ]
    }
   ],
   "source": [
    "var n = 0\n",
    "while (n < 2) {\n",
    "    println(\" n :\" + n)\n",
    "    var m = 0\n",
    "    while (m < 2) {          // 내포된 while 문\n",
    "        println(\" m :\" +m)\n",
    "        m++\n",
    "        if (m ==2) continue  // 가까운 순환문으로 이동\n",
    "        \n",
    "    }\n",
    "    n++\n",
    "}"
   ]
  },
  {
   "cell_type": "code",
   "execution_count": null,
   "id": "63109bdd",
   "metadata": {},
   "outputs": [],
   "source": []
  },
  {
   "cell_type": "markdown",
   "id": "c7b1a26a",
   "metadata": {},
   "source": [
    "## 레이블 기법을 이용해서 순환 종료"
   ]
  },
  {
   "cell_type": "code",
   "execution_count": 5,
   "id": "8aa54909",
   "metadata": {},
   "outputs": [
    {
     "name": "stdout",
     "output_type": "stream",
     "text": [
      " n :0\n",
      " m :0\n",
      " m :1\n",
      " m :2\n"
     ]
    }
   ],
   "source": [
    "var n = 0\n",
    "var m = 0\n",
    "loop@ while (n < 3) {\n",
    "    println(\" n :\" + n)\n",
    "    while (m < 5) {             // 내포된 while \n",
    "        println(\" m :\" +m)\n",
    "        m++\n",
    "        if (m ==3) break@loop    // 레이블 기법으로 전체 종료\n",
    "        \n",
    "    }\n",
    "    n++\n",
    "}"
   ]
  },
  {
   "cell_type": "code",
   "execution_count": null,
   "id": "e1c9b3a7",
   "metadata": {},
   "outputs": [],
   "source": []
  },
  {
   "cell_type": "code",
   "execution_count": null,
   "id": "d9a53e8c",
   "metadata": {},
   "outputs": [],
   "source": []
  }
 ],
 "metadata": {
  "kernelspec": {
   "display_name": "Kotlin",
   "language": "kotlin",
   "name": "kotlin"
  },
  "language_info": {
   "codemirror_mode": "text/x-kotlin",
   "file_extension": ".kt",
   "mimetype": "text/x-kotlin",
   "name": "kotlin",
   "nbconvert_exporter": "",
   "pygments_lexer": "kotlin",
   "version": "1.8.0-dev-3517"
  }
 },
 "nbformat": 4,
 "nbformat_minor": 5
}
