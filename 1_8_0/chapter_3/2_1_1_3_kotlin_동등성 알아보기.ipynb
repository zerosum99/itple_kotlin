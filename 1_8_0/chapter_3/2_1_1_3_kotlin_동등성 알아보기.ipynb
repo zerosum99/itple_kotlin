{
 "cells": [
  {
   "cell_type": "code",
   "execution_count": null,
   "id": "6ef14e2b",
   "metadata": {},
   "outputs": [],
   "source": []
  },
  {
   "cell_type": "code",
   "execution_count": 1,
   "id": "550008c8",
   "metadata": {},
   "outputs": [
    {
     "data": {
      "text/plain": [
       "1.8.0"
      ]
     },
     "execution_count": 1,
     "metadata": {},
     "output_type": "execute_result"
    }
   ],
   "source": [
    "KotlinVersion.CURRENT"
   ]
  },
  {
   "cell_type": "code",
   "execution_count": null,
   "id": "e7d71291",
   "metadata": {},
   "outputs": [],
   "source": []
  },
  {
   "cell_type": "markdown",
   "id": "a6882e14",
   "metadata": {},
   "source": [
    "## 동등성 \n",
    "https://kotlinlang.org/docs/equality.html"
   ]
  },
  {
   "cell_type": "code",
   "execution_count": 2,
   "id": "4704e656",
   "metadata": {},
   "outputs": [
    {
     "name": "stdout",
     "output_type": "stream",
     "text": [
      "true\n",
      "true\n",
      "true\n",
      "true\n",
      "true\n",
      "true\n",
      "false\n"
     ]
    }
   ],
   "source": [
    "val a = 100\n",
    "val b = 100\n",
    "val c = null\n",
    "\n",
    "println(a == b)\n",
    "println(a.equals(b))\n",
    "println(a?.equals(b) ?: (b === null))  // 널타입 처리는 널도 체크\n",
    "println(a === b)                       // 객체 참조 비교 \n",
    "\n",
    "println(c == null)                     // 널값끼리 비교\n",
    "println(c === null)                    // 널 객체참조 비교 \n",
    "println(a?.equals(c) ?: (c === null))  // 정상적인 값과 널값 비교"
   ]
  },
  {
   "cell_type": "markdown",
   "id": "6dab1391",
   "metadata": {},
   "source": [
    "## 영값 비교"
   ]
  },
  {
   "cell_type": "code",
   "execution_count": 3,
   "id": "dc255ade",
   "metadata": {},
   "outputs": [
    {
     "name": "stdout",
     "output_type": "stream",
     "text": [
      "true\n",
      "true\n"
     ]
    }
   ],
   "source": [
    "val d = 0.0\n",
    "val e = -0.0\n",
    "\n",
    "println(d == e)\n",
    "println(d === e)"
   ]
  },
  {
   "cell_type": "markdown",
   "id": "728feb98",
   "metadata": {},
   "source": [
    "## 참조에 대한 해시 비교"
   ]
  },
  {
   "cell_type": "code",
   "execution_count": 4,
   "id": "ec3ac2df",
   "metadata": {},
   "outputs": [
    {
     "name": "stdout",
     "output_type": "stream",
     "text": [
      "30\n",
      "true\n",
      "50\n",
      "true\n"
     ]
    }
   ],
   "source": [
    "fun add(x:Int, y:Int) = x+y              // 함수가 정의되면 동일한 참조를 갖는다, \n",
    "val addVal = ::add\n",
    "                  \n",
    "println(add(10,20))          \n",
    "println((::add).hashCode() == addVal.hashCode()) // 참조에 대한 해시비교 \n",
    "println(add(30,20))\n",
    "println((::add).hashCode() == addVal.hashCode()) // 참조에 대한 해시비교 "
   ]
  },
  {
   "cell_type": "code",
   "execution_count": null,
   "id": "c16e854d",
   "metadata": {},
   "outputs": [],
   "source": []
  }
 ],
 "metadata": {
  "kernelspec": {
   "display_name": "Kotlin",
   "language": "kotlin",
   "name": "kotlin"
  },
  "language_info": {
   "codemirror_mode": "text/x-kotlin",
   "file_extension": ".kt",
   "mimetype": "text/x-kotlin",
   "name": "kotlin",
   "nbconvert_exporter": "",
   "pygments_lexer": "kotlin",
   "version": "1.8.0-dev-3517"
  }
 },
 "nbformat": 4,
 "nbformat_minor": 5
}
