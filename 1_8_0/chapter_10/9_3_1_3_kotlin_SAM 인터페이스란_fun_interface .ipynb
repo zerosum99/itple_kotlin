{
 "cells": [
  {
   "cell_type": "code",
   "execution_count": null,
   "id": "927e0ad1",
   "metadata": {},
   "outputs": [],
   "source": []
  },
  {
   "cell_type": "code",
   "execution_count": 1,
   "id": "622713e0",
   "metadata": {},
   "outputs": [
    {
     "data": {
      "text/plain": [
       "1.8.0"
      ]
     },
     "execution_count": 1,
     "metadata": {},
     "output_type": "execute_result"
    }
   ],
   "source": [
    "KotlinVersion.CURRENT             // 코틀린 현재 버전 "
   ]
  },
  {
   "cell_type": "code",
   "execution_count": null,
   "id": "cd63cd11",
   "metadata": {},
   "outputs": [],
   "source": []
  },
  {
   "cell_type": "markdown",
   "id": "0e853d68",
   "metadata": {},
   "source": [
    "## 싱글 추상메소드 인터페이스(SAM)\n",
    "\n",
    "- 하나의 추상 메서드만 있는 인터페이스를 기능 인터페이스 또는 SAM(Single Abstract Method) 인터페이스 라고 합니다. \n",
    "- 기능적 인터페이스는 추상이 아닌 멤버가 여러 개 있을 수 있지만 추상 멤버는 하나만 있을 수 있습니다."
   ]
  },
  {
   "cell_type": "markdown",
   "id": "2655b36e",
   "metadata": {},
   "source": [
    "### sam 을 사용하지 않을 경우 "
   ]
  },
  {
   "cell_type": "code",
   "execution_count": 2,
   "id": "6060cd06",
   "metadata": {},
   "outputs": [
    {
     "name": "stdout",
     "output_type": "stream",
     "text": [
      "인터페이스는 상속하고 구션되어야 함\n",
      "일반메소드\n"
     ]
    }
   ],
   "source": [
    "interface Stringable_ {                     // 인터페이스 정의\n",
    "    fun accept(s:String)                    // 추상메소드 한개\n",
    "    fun hello() = println(\"일반메소드\")\n",
    "}\n",
    "\n",
    "val str = object : Stringable_ {            // object 표현식으로 객체 생성  \n",
    "   override fun accept(s: String) {         // 추상메소드 재정의\n",
    "       println(s)\n",
    "   }\n",
    "}\n",
    "    \n",
    "str.accept(\"인터페이스는 상속하고 구션되어야 함\")\n",
    "str.hello()"
   ]
  },
  {
   "cell_type": "code",
   "execution_count": null,
   "id": "dff6f6b8",
   "metadata": {},
   "outputs": [],
   "source": []
  },
  {
   "cell_type": "markdown",
   "id": "bb5c7bf2",
   "metadata": {},
   "source": [
    "## SAM 전환﻿\n",
    "\n",
    "- 기능적 인터페이스의 경우 람다 식 을 사용하여 코드를 보다 간결하고 읽기 쉽게 만드는 SAM 변환을 사용할 수 있습니다 .\n",
    "\n",
    "- 기능 인터페이스를 수동으로 구현하는 클래스를 만드는 대신 람다 식을 사용할 수 있습니다. \n",
    "\n",
    "- SAM 변환을 통해 Kotlin은 인터페이스의 단일 메서드 서명과 일치하는 서명이 있는 람다 식을 인터페이스 구현을 동적으로 인스턴스화하는 코드로 변환할 수 있습니다."
   ]
  },
  {
   "cell_type": "code",
   "execution_count": 3,
   "id": "8ff2ffe3",
   "metadata": {},
   "outputs": [
    {
     "name": "stdout",
     "output_type": "stream",
     "text": [
      "object 표현식으로 익명객체 처리 \n",
      "바로 람다표현식을 전달해서 재정의\n",
      "일반메소드\n"
     ]
    }
   ],
   "source": [
    "fun interface StringSAMable {                   // sam 은 인터페이스 앞에 fun을 분인다. \n",
    "    fun accept(s:String) :Unit                  // 추상메소드 한 개만 가짐 \n",
    "    fun hello() = println(\"일반메소드\")            // 일반 메소드 \n",
    "}\n",
    "\n",
    "val consume = object : StringSAMable {          // 인터페이스처럼 상속해서 재정의도 가능 \n",
    "   override fun accept(s: String) {             // 추상메소드 오버라이딩 \n",
    "       println(s)\n",
    "   }\n",
    "}\n",
    "consume.accept(\"object 표현식으로 익명객체 처리 \")\n",
    "\n",
    "val consume1 = StringSAMable { s -> println(s)} // SAM에  재정의 함수를 람다표현식으로 전달 \n",
    "consume1.accept(\"바로 람다표현식을 전달해서 재정의\")\n",
    "consume1.hello() "
   ]
  },
  {
   "cell_type": "code",
   "execution_count": null,
   "id": "af175e51",
   "metadata": {},
   "outputs": [],
   "source": []
  },
  {
   "cell_type": "code",
   "execution_count": null,
   "id": "03d1ad5d",
   "metadata": {},
   "outputs": [],
   "source": []
  }
 ],
 "metadata": {
  "kernelspec": {
   "display_name": "Kotlin",
   "language": "kotlin",
   "name": "kotlin"
  },
  "language_info": {
   "codemirror_mode": "text/x-kotlin",
   "file_extension": ".kt",
   "mimetype": "text/x-kotlin",
   "name": "kotlin",
   "nbconvert_exporter": "",
   "pygments_lexer": "kotlin",
   "version": "1.8.0-dev-3517"
  }
 },
 "nbformat": 4,
 "nbformat_minor": 5
}
