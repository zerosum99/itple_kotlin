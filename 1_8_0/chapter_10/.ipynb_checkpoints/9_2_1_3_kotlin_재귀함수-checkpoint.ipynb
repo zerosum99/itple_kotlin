{
 "cells": [
  {
   "cell_type": "code",
   "execution_count": null,
   "id": "5197dc3b",
   "metadata": {},
   "outputs": [],
   "source": []
  },
  {
   "cell_type": "code",
   "execution_count": 1,
   "id": "edd45e8b",
   "metadata": {},
   "outputs": [
    {
     "data": {
      "text/plain": [
       "1.8.0"
      ]
     },
     "execution_count": 1,
     "metadata": {},
     "output_type": "execute_result"
    }
   ],
   "source": [
    "KotlinVersion.CURRENT             // 코틀린 현재 버전 "
   ]
  },
  {
   "cell_type": "code",
   "execution_count": null,
   "id": "03ed2e75",
   "metadata": {},
   "outputs": [],
   "source": []
  },
  {
   "cell_type": "markdown",
   "id": "b2bec802",
   "metadata": {},
   "source": [
    "## 일반 재귀함수"
   ]
  },
  {
   "cell_type": "markdown",
   "id": "9e7a443b",
   "metadata": {},
   "source": [
    "## 꼬리재귀함수"
   ]
  },
  {
   "cell_type": "code",
   "execution_count": 2,
   "id": "d6aa2f24",
   "metadata": {},
   "outputs": [
    {
     "name": "stdout",
     "output_type": "stream",
     "text": [
      "팩토리얼 계산 : 4 = 24\n",
      "꼬리 재귀 팩토리얼 계산 :  4 = 24\n"
     ]
    }
   ],
   "source": [
    "fun factorial(n: Int): Long {                          // 팩토리얼 재귀 함수를 작성. \n",
    "    if (n == 1) {                                      // 마지막 처리하는 코드를 넣는다. \n",
    "        return n.toLong()                              // 가장 작은 수가 반환되어야 그 앞의 연산이 계산처리된다. \n",
    "    } else {\n",
    "        return n*factorial(n - 1)                      // 재귀함수를 작성한다. 인자는 항상 이전보다 작아야 한다.    \n",
    "    }\n",
    "}\n",
    "\n",
    "val number = 4\n",
    "var result: Long = 0\n",
    "result = factorial(number)\n",
    "println(\"팩토리얼 계산 : $number = $result\")\n",
    "\n",
    "tailrec fun factorial1(n: Int, total :Int = 1): Long {   // 꼬리재귀 팩토리얼 함수를 작성\n",
    "    if (n == 1) {                                        // 마지막 처리 로직 \n",
    "        return total.toLong()\n",
    "    } else {\n",
    "        return factorial1(n - 1, n*total)                // 꼬리 재귀를 위해 함수에 변경값을 전달     \n",
    "    }\n",
    "}\n",
    "\n",
    "result = factorial1(number)\n",
    "println(\"꼬리 재귀 팩토리얼 계산 :  $number = $result\")"
   ]
  },
  {
   "cell_type": "code",
   "execution_count": null,
   "id": "b9d5cb92",
   "metadata": {},
   "outputs": [],
   "source": []
  },
  {
   "cell_type": "code",
   "execution_count": null,
   "id": "0f7315a8",
   "metadata": {},
   "outputs": [],
   "source": []
  },
  {
   "cell_type": "code",
   "execution_count": null,
   "id": "92e9e059",
   "metadata": {},
   "outputs": [],
   "source": []
  },
  {
   "cell_type": "markdown",
   "id": "674f88d8",
   "metadata": {},
   "source": [
    "## 재귀함수를 메모이제이션 처리"
   ]
  },
  {
   "cell_type": "code",
   "execution_count": 3,
   "id": "188d615f",
   "metadata": {},
   "outputs": [
    {
     "name": "stdout",
     "output_type": "stream",
     "text": [
      "팩토리얼 계산 : 15 = 1307674368000\n",
      "팩토리얼 계산 :  10 = 3628800\n",
      "맵에서 값 조회 : 3628800\n",
      "팩토리얼 계산 :  20 = 2432902008176640000\n",
      "맵에서 값 조회 : 2432902008176640000\n"
     ]
    }
   ],
   "source": [
    "val map2 = mutableMapOf<String,Long>()                       // 변경가능한 맵을 작성 \n",
    "\n",
    "fun factorial3(n: Int): Long {                               // 팩토리얼 함수 정의 \n",
    "    if (n == 1) {                                            // 마지막 처리 \n",
    "        map2[n.toString()] = 1L\n",
    "    }\n",
    "    if (n.toString() !in map2.keys) {                        // 맵에서 처리된 결과 조회 \n",
    "         map2[n.toString()] = n.toLong() * factorial3(n - 1) //  없으면 재귀함수 처리하고 값 저장  \n",
    "    } \n",
    "    return map2[n.toString()]!!.toLong()                     // 맵에 있으면 바로 반환한다.\n",
    "}\n",
    "var number = 15                                              // 특정값 처리 \n",
    "var result: Long\n",
    "result = factorial3(number)\n",
    "println(\"팩토리얼 계산 : $number = $result\")\n",
    "\n",
    "number= 10                                                   // 기본보다 작은 값처리 \n",
    "result = factorial3(number)\n",
    "println(\"팩토리얼 계산 :  $number = $result\")\n",
    "println(\"맵에서 값 조회 : ${map2[\"10\"]}\")\n",
    "\n",
    "number= 20                                                   // 다시 큰값 처리\n",
    "result = factorial3(number)\n",
    "println(\"팩토리얼 계산 :  $number = $result\")\n",
    "println(\"맵에서 값 조회 : ${map2[\"20\"]}\")"
   ]
  },
  {
   "cell_type": "code",
   "execution_count": null,
   "id": "71823019",
   "metadata": {},
   "outputs": [],
   "source": []
  }
 ],
 "metadata": {
  "kernelspec": {
   "display_name": "Kotlin",
   "language": "kotlin",
   "name": "kotlin"
  },
  "language_info": {
   "codemirror_mode": "text/x-kotlin",
   "file_extension": ".kt",
   "mimetype": "text/x-kotlin",
   "name": "kotlin",
   "nbconvert_exporter": "",
   "pygments_lexer": "kotlin",
   "version": "1.8.0-dev-3517"
  }
 },
 "nbformat": 4,
 "nbformat_minor": 5
}
