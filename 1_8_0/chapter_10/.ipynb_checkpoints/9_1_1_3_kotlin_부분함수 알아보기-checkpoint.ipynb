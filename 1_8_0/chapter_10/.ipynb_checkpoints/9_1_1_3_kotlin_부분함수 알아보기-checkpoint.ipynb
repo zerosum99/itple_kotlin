{
 "cells": [
  {
   "cell_type": "code",
   "execution_count": null,
   "id": "cf30667b",
   "metadata": {},
   "outputs": [],
   "source": []
  },
  {
   "cell_type": "code",
   "execution_count": 1,
   "id": "960b0685",
   "metadata": {},
   "outputs": [
    {
     "data": {
      "text/plain": [
       "1.7.20"
      ]
     },
     "execution_count": 1,
     "metadata": {},
     "output_type": "execute_result"
    }
   ],
   "source": [
    "KotlinVersion.CURRENT             // 코틀린 현재 버전 "
   ]
  },
  {
   "cell_type": "code",
   "execution_count": null,
   "id": "a7fdb923",
   "metadata": {},
   "outputs": [],
   "source": []
  },
  {
   "cell_type": "markdown",
   "id": "e5f4e0ea",
   "metadata": {},
   "source": [
    "## 부분함수 만들기"
   ]
  },
  {
   "cell_type": "markdown",
   "id": "3b8c789b",
   "metadata": {},
   "source": [
    "## 커링 처리하기"
   ]
  },
  {
   "cell_type": "code",
   "execution_count": 2,
   "id": "f0ef1d3d",
   "metadata": {},
   "outputs": [
    {
     "name": "stdout",
     "output_type": "stream",
     "text": [
      "3\n",
      "3\n",
      "300\n",
      "300\n"
     ]
    }
   ],
   "source": [
    "fun add(a: Int, b:Int)  =  a + b                           // 덧셈 계산함수 \n",
    "fun add1(a: Int) : (Int) -> Int = { b -> a + b }           // 내부 함수인 람다표현식을 반환 \n",
    "fun outer(a:Int) : (Int) -> Int {                          // 함수로 부분함수 정의          \n",
    "    fun inner(b:Int) : Int = a + b                         // 내부 함수 정의 \n",
    "    return ::inner                                         // 내부 함수 반환 \n",
    "} \n",
    "\n",
    "val add2 = add1(1)                                         // 첫번째 함수 실행 : 내부함수 반환\n",
    "println ( add2(2))                                         // 두번째 실행 : 내부함수 실행            \n",
    "\n",
    "val add3 = outer(1)                                        // 첫번째 함수 실행 : 내부함수 반환\n",
    "println (add3(2))                                          // 두번째 실행 : 내부함수 실행\n",
    "\n",
    "object Add {                                               // object 선언으로 함수 처리 선언 \n",
    "    fun add(a: Int): Function1<Int, Int> {                 // 내부  메소드가 함수를 반환 \n",
    "        return object: Function1<Int, Int> {               // object 표현식으로 실행 객체 반환 \n",
    "                override fun invoke(b: Int): Int = a + b   // 내부에 invoke 메소드 작성 \n",
    "            }\n",
    "    }\n",
    "}\n",
    "\n",
    "println(add(100,200))                                       // 기본 함수 실행                              \n",
    "val add4 = Add.add(100)                                     // object 선언 내의 메소드 실행 \n",
    "println(add4(200))                                          // 내부 반환 object 표현식 실행"
   ]
  },
  {
   "cell_type": "code",
   "execution_count": null,
   "id": "80ee3756",
   "metadata": {},
   "outputs": [],
   "source": []
  },
  {
   "cell_type": "markdown",
   "id": "59542fdf",
   "metadata": {},
   "source": [
    "## 누적계산기"
   ]
  },
  {
   "cell_type": "code",
   "execution_count": 3,
   "id": "fe4052dd",
   "metadata": {},
   "outputs": [
    {
     "name": "stdout",
     "output_type": "stream",
     "text": [
      "105\n",
      "115\n",
      "105\n",
      "105\n",
      "115\n",
      "105\n"
     ]
    }
   ],
   "source": [
    "fun a(n: Int): (d: Int) -> Int {                         // 부분 함수를 정의 \n",
    "    var accumulator = n                                  // 지역변수로 누적값 관리\n",
    "    return { x -> accumulator += x; accumulator }        // 내부 함수 반환 : 클로저 발생 \n",
    "}\n",
    "\n",
    "val a100 = a(100)                                        // 외부 함수 실행 \n",
    "println(a100(5) )                                        // 내부 함수 실행\n",
    "println(a100(10))                                        // 외부 함수와 내부함수 연속 실행\n",
    "println(a(100)(5) )\n",
    "\n",
    "object A {                                               // object 표현식 작성 \n",
    "    var accumulator :Int = 0                             // 누적 속성 정의 \n",
    "    fun b(n : Int) : (Int) -> Int {                      // 메소드 정의 \n",
    "        accumulator = n\n",
    "        return object: (Int) -> Int {                    // object 표현식으로 반환 \n",
    "                  override fun invoke(n: Int): Int {\n",
    "                     accumulator += n\n",
    "                     return accumulator;\n",
    "            }\n",
    "         }\n",
    "    }\n",
    "}\n",
    "\n",
    "val A200 = A.b(100)\n",
    "println(A200(5))                                          // 내부 함수 실행 \n",
    "println(A200(10))                                         // 내부 함수 실행\n",
    "println(A.b(100)(5))                                      // 외부 함수 및 내부 함수 다시 실행 "
   ]
  },
  {
   "cell_type": "code",
   "execution_count": null,
   "id": "202784c9",
   "metadata": {},
   "outputs": [],
   "source": []
  },
  {
   "cell_type": "markdown",
   "id": "2ddff248",
   "metadata": {},
   "source": [
    "## 확장함수로 부분함수 처리하기"
   ]
  },
  {
   "cell_type": "code",
   "execution_count": 4,
   "id": "daa6d486",
   "metadata": {},
   "outputs": [
    {
     "name": "stdout",
     "output_type": "stream",
     "text": [
      "300\n",
      "20000\n",
      "300\n",
      "500\n",
      "20000\n",
      "40000\n"
     ]
    }
   ],
   "source": [
    "fun ((Int, Int) -> Int).partial1(x:Int) :               // 함수 자료형(인터페이스)  부분함수 추가 \n",
    "                                (Int) ->Int {           // 함수를 반환 \n",
    "    return {y:Int -> this(x,y)}                         // 람다표현식으로 내부 함수 정의 \n",
    "}\n",
    "\n",
    "val add = { x:Int,y:Int -> x+y}                         // 함수 정의 \n",
    "var p = add.partial1(100)                               // 함수를 사용해서 부분 확장함수 실행\n",
    "println(p(200))                                         // 부분함수에서 반환된 내부 함수 처리 \n",
    "\n",
    "val mul = { x:Int,y:Int -> x*y}                         // 함수 정의      \n",
    "var p1 = mul.partial1(100)                              // 부분 확장함수 실행\n",
    "println(p1(200))                                        // 내부함수 실행 \n",
    "\n",
    "fun Function2<Int,Int,Int>.partial2(x:Int) :             // 함수 자료형(인터페이스)에 부분함수 추가\n",
    "                                (Int) ->Int {\n",
    "    var accumulator :Int = 0\n",
    "    return {y:Int -> accumulator += y;                   //람다표현식으로 반환\n",
    "                     this(x,accumulator)}\n",
    "}\n",
    "\n",
    "var p2 = add.partial2(100)                               // 부분함수를 실행 \n",
    "println(p2(200))\n",
    "println(p2(200))\n",
    "\n",
    "var p3 = mul.partial2(100)\n",
    "println(p3(200))\n",
    "println(p3(200))"
   ]
  },
  {
   "cell_type": "code",
   "execution_count": null,
   "id": "c2edf3ee",
   "metadata": {},
   "outputs": [],
   "source": []
  },
  {
   "cell_type": "markdown",
   "id": "6636244c",
   "metadata": {},
   "source": [
    "## 제너릭한 부분함수 처리"
   ]
  },
  {
   "cell_type": "code",
   "execution_count": 5,
   "id": "2a3cc2b3",
   "metadata": {},
   "outputs": [
    {
     "name": "stdout",
     "output_type": "stream",
     "text": [
      "300\n",
      "20000.0\n"
     ]
    }
   ],
   "source": [
    "fun <P1, P2, R> ((P1, P2) -> R).curry(x: P1) : (P2) -> R {\n",
    "    return { y: P2 -> this(x,y) }\n",
    "}\n",
    "\n",
    "val add = { x:Int,y:Int -> x+y}                         // 함수 정의\n",
    "var p = add.curry(100)                                  // 함수를 사용해서 부분 확장함수 실행\n",
    "println(p(200))                                         // 부분함수에서 반환된 내부 함수 처리\n",
    "\n",
    "\n",
    "val mul = { x:Double, y:Double -> x*y}                  // 함수 정의      \n",
    "var p1 = mul.curry(100.0)                               // 부분 확장함수 실행\n",
    "println(p1(200.0))                                      // 내부함수 실행 "
   ]
  },
  {
   "cell_type": "code",
   "execution_count": null,
   "id": "f722b5f6",
   "metadata": {},
   "outputs": [],
   "source": []
  }
 ],
 "metadata": {
  "kernelspec": {
   "display_name": "Kotlin",
   "language": "kotlin",
   "name": "kotlin"
  },
  "language_info": {
   "codemirror_mode": "text/x-kotlin",
   "file_extension": ".kt",
   "mimetype": "text/x-kotlin",
   "name": "kotlin",
   "nbconvert_exporter": "",
   "pygments_lexer": "kotlin",
   "version": "1.7.20-dev-1299"
  }
 },
 "nbformat": 4,
 "nbformat_minor": 5
}
