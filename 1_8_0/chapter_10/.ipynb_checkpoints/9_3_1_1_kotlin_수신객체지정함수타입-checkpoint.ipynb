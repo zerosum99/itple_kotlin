{
 "cells": [
  {
   "cell_type": "code",
   "execution_count": null,
   "id": "8f7ae921",
   "metadata": {},
   "outputs": [],
   "source": []
  },
  {
   "cell_type": "code",
   "execution_count": 1,
   "id": "649f9a16",
   "metadata": {},
   "outputs": [
    {
     "data": {
      "text/plain": [
       "1.8.0"
      ]
     },
     "execution_count": 1,
     "metadata": {},
     "output_type": "execute_result"
    }
   ],
   "source": [
    "KotlinVersion.CURRENT             // 코틀린 현재 버전 "
   ]
  },
  {
   "cell_type": "code",
   "execution_count": null,
   "id": "46aed5ed",
   "metadata": {},
   "outputs": [],
   "source": []
  },
  {
   "cell_type": "markdown",
   "id": "d81c7a7b",
   "metadata": {},
   "source": [
    "## 변수에 수신객체 지정함수 참조"
   ]
  },
  {
   "cell_type": "code",
   "execution_count": 2,
   "id": "abaa5dea",
   "metadata": {},
   "outputs": [
    {
     "name": "stdout",
     "output_type": "stream",
     "text": [
      "200\n",
      "200\n",
      "kotlin.Int.(kotlin.Int) -> kotlin.Int\n",
      "200\n",
      "700\n",
      "700\n"
     ]
    }
   ],
   "source": [
    "val op : Int.(Int) -> Int = \n",
    "                   {x -> x + this}       // 함수 자료형에 특정 자료형을 수신객체로 지정\n",
    "\n",
    "println((100).op(100))                   // 람다표현식에 수신객체를 붙이면 메소드 처럼 수신객체를 사용할 수 있다, \n",
    "println(op(100,100))                     // 수신객체 전달은 실제 함수의 인자가 추가된 것과 같다 \n",
    "println(op)                              // 함수자료형 확인 \n",
    "\n",
    "\n",
    "val op1 : (Int,Int) -> Int =             // 두개의 매개변수를 가진 함수 자료형 \n",
    "                    {x,y -> x + y }      // 두 개의 매개변수를 가진 람다표현식\n",
    "println(op1(100,100))\n",
    "\n",
    "\n",
    "fun add() : Int.(Int) -> Int {           // 반환 자료형을 수신객체 함수자료형으로 지정\n",
    "    return {y -> this + y }              // 함수를 반환\n",
    "}\n",
    "\n",
    "val adop = add()                         // 함수를 실행\n",
    "println((300).adop(400))                 // 객체를 사용해서 메소드 호출처럼 처리 가능 \n",
    "println(adop(300,400))                   // 두개의 매개변수로 호출"
   ]
  },
  {
   "cell_type": "code",
   "execution_count": null,
   "id": "ccc9c85a",
   "metadata": {},
   "outputs": [],
   "source": []
  },
  {
   "cell_type": "markdown",
   "id": "02e4eb89",
   "metadata": {},
   "source": [
    "## 매개변수에 수신객체  호출가능 참조"
   ]
  },
  {
   "cell_type": "code",
   "execution_count": 3,
   "id": "c450ab88",
   "metadata": {},
   "outputs": [
    {
     "name": "stdout",
     "output_type": "stream",
     "text": [
      "10\n",
      "10\n",
      "10\n"
     ]
    }
   ],
   "source": [
    "fun agg(num : IntArray,                                   // 함수를 정의 \n",
    "        op : Int.(Int)->Int) : Int {                      // 수신 객체를 함수자료형에 처리\n",
    "    var result = num.firstOrNull() ?: 1                   // 처음 값을 넣는다 \n",
    "    for (i in 1..num.lastIndex)  {                        // 인덱스 처리 \n",
    "        result = result + result.op(num[i])               // 메소드로 호출 처리 \n",
    "    }\n",
    "    return result\n",
    "}\n",
    "\n",
    "println(agg(intArrayOf(1,2,3,4), { it}))\n",
    "\n",
    "fun agg2(num : IntArray, op : (Int, Int)->Int) : Int {   // 함수자료형은 두 개의 매개변수로 처리\n",
    "    var result = num.firstOrNull() ?: 1\n",
    "    for (i in 1..num.lastIndex)  {\n",
    "        result = op(result,num[i])                       // 함수로 호출처리 \n",
    "    }\n",
    "    return result\n",
    "}\n",
    "\n",
    "println(agg2(intArrayOf(1,2,3,4), Int::plus))             // 플러스 메소드 전달 \n",
    "println(agg2(intArrayOf(1,2,3,4), {x,y -> x+y}))          // 람다표현식으로 전달 "
   ]
  },
  {
   "cell_type": "code",
   "execution_count": null,
   "id": "3f166ece",
   "metadata": {},
   "outputs": [],
   "source": []
  },
  {
   "cell_type": "code",
   "execution_count": null,
   "id": "8212bae5",
   "metadata": {},
   "outputs": [],
   "source": []
  }
 ],
 "metadata": {
  "kernelspec": {
   "display_name": "Kotlin",
   "language": "kotlin",
   "name": "kotlin"
  },
  "language_info": {
   "codemirror_mode": "text/x-kotlin",
   "file_extension": ".kt",
   "mimetype": "text/x-kotlin",
   "name": "kotlin",
   "nbconvert_exporter": "",
   "pygments_lexer": "kotlin",
   "version": "1.8.0-dev-3517"
  }
 },
 "nbformat": 4,
 "nbformat_minor": 5
}
