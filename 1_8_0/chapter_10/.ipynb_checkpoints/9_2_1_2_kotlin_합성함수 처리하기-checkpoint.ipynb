{
 "cells": [
  {
   "cell_type": "code",
   "execution_count": null,
   "id": "d9138ee2",
   "metadata": {},
   "outputs": [],
   "source": []
  },
  {
   "cell_type": "code",
   "execution_count": 1,
   "id": "ef130eff",
   "metadata": {},
   "outputs": [
    {
     "data": {
      "text/plain": [
       "1.7.20"
      ]
     },
     "execution_count": 1,
     "metadata": {},
     "output_type": "execute_result"
    }
   ],
   "source": [
    "KotlinVersion.CURRENT             // 코틀린 현재 버전 "
   ]
  },
  {
   "cell_type": "code",
   "execution_count": null,
   "id": "70193728",
   "metadata": {},
   "outputs": [],
   "source": []
  },
  {
   "cell_type": "markdown",
   "id": "df61dc5b",
   "metadata": {},
   "source": [
    "## 두개의 함수를 결합"
   ]
  },
  {
   "cell_type": "code",
   "execution_count": 2,
   "id": "ae246ebe",
   "metadata": {},
   "outputs": [
    {
     "name": "stdout",
     "output_type": "stream",
     "text": [
      "8\n",
      "8\n",
      "8\n",
      "8\n"
     ]
    }
   ],
   "source": [
    "fun composeF(f: (Int) -> Int, g:(Int) -> Int):         // 동일한 매개변수 갯수를 받는 두 개의 함수를 매개변수로 받는다. \n",
    "                                    (Int) -> Int {     // 반환값은 두 함수를 연결한 하나의 함수 \n",
    "    return { p1: Int -> f(g(p1)) }                     // 두 함수를 하나로 합성한 함수를 반환한다. \n",
    "}\n",
    "                                    \n",
    "val f = {x : Int -> x+2}                               // 첫번째 함수\n",
    "val g = {y : Int -> y+3}                               // 두번째 함수 : 함수 내부에 결합되는 함수\n",
    "val composeFunc = composeF(f, g)                       // 두 개의 함수를 인자로 전달한다.\n",
    "\n",
    "println(f(g(3)))                                       // 두 함수를 결합해서 실행하기 \n",
    "println(composeFunc(3))                                // 합성함수로 반환된 함수 실행하기 \n",
    "\n",
    "\n",
    "fun composeR(g: (Int) -> Int, f: (Int) -> Int):        // 역방향으로 합성함수를 만든다 \n",
    "                                     (Int) -> Int {\n",
    "    return { p1: Int -> g(f(p1)) }                     // 역방향으로 실행된다 \n",
    "}\n",
    "\n",
    "val g1 = {y : Int -> y + 3}                            // 첫반째 함수 정의 \n",
    "val f1 = {x : Int -> x + 2}                            // 두번째 함수 정의\n",
    "val composeFuncR = composeR(g1,f1)\n",
    "\n",
    "println(g1(f1(3)))                                     // 역방향으로 함수를 실행\n",
    "println(composeFuncR(3))                               // 역방향으로 합성된 함수를 실행"
   ]
  },
  {
   "cell_type": "code",
   "execution_count": null,
   "id": "81fd50de",
   "metadata": {},
   "outputs": [],
   "source": []
  },
  {
   "cell_type": "markdown",
   "id": "9f9212e3",
   "metadata": {},
   "source": [
    "## 확장함수로 결합 "
   ]
  },
  {
   "cell_type": "markdown",
   "id": "3fa86a8f",
   "metadata": {},
   "source": [
    "## 역으로 함수를 결합"
   ]
  },
  {
   "cell_type": "code",
   "execution_count": 3,
   "id": "480498ca",
   "metadata": {},
   "outputs": [
    {
     "name": "stdout",
     "output_type": "stream",
     "text": [
      "11\n",
      "11\n",
      "true\n",
      "18\n",
      "18\n",
      "true\n"
     ]
    }
   ],
   "source": [
    "typealias F  = (Int) -> Int                        // 별칭으로 타입지정 \n",
    "typealias G  = (Int) -> Int\n",
    "typealias FG = (Int) -> Int\n",
    "typealias GF = (Int) -> Int\n",
    "\n",
    "infix fun F.compose(g: G ) :FG {                   // 첫번째 함수의 확장함수를 지정 \n",
    "    return { p1: Int -> this(g(p1)) }              // 입력받은 함수를 첫번째 함수내수에서 실행한고 \n",
    "}                                                  // 첫번째 함수도 실행 \n",
    "\n",
    "infix fun F.then(g: G): GF {                       // 첫번째 함수의 인자로 다른 함수의 인자로 받음\n",
    "    return { p1: Int -> g(this(p1)) }              // 두번째 함수에 첫번째 함수 실행된 결과를 전달 \n",
    "}\n",
    "\n",
    "val plus2: F  = { it + 2 }                         // 첫번째 함수 정의 \n",
    "val times3: G = { it * 3 }                         // 두번째 함수 정의\n",
    "\n",
    "val plus2times3 = plus2 compose times3             // 인픽스로 지정해서 점연산자 없이 사용 \n",
    "                                                   // 정방향으로 결합 \n",
    "println(plus2times3(3))                                \n",
    "println(plus2(times3(3)))\n",
    "println(plus2times3(3) == 11)\n",
    "\n",
    "val times3plus2 =  plus2 then times3               // 역방향으로 함수 결합\n",
    "println(times3plus2 (4))\n",
    "println(times3(plus2(4)))\n",
    "println(times3plus2(4) == 18)"
   ]
  },
  {
   "cell_type": "code",
   "execution_count": null,
   "id": "42b56f13",
   "metadata": {},
   "outputs": [],
   "source": []
  },
  {
   "cell_type": "code",
   "execution_count": null,
   "id": "7d03c6d4",
   "metadata": {},
   "outputs": [],
   "source": []
  }
 ],
 "metadata": {
  "kernelspec": {
   "display_name": "Kotlin",
   "language": "kotlin",
   "name": "kotlin"
  },
  "language_info": {
   "codemirror_mode": "text/x-kotlin",
   "file_extension": ".kt",
   "mimetype": "text/x-kotlin",
   "name": "kotlin",
   "nbconvert_exporter": "",
   "pygments_lexer": "kotlin",
   "version": "1.7.20-dev-1299"
  }
 },
 "nbformat": 4,
 "nbformat_minor": 5
}
