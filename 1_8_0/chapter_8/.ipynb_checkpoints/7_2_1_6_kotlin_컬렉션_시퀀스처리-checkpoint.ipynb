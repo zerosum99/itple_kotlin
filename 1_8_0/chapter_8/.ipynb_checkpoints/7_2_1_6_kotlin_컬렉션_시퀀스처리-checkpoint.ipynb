{
 "cells": [
  {
   "cell_type": "code",
   "execution_count": null,
   "id": "e00f9789",
   "metadata": {},
   "outputs": [],
   "source": []
  },
  {
   "cell_type": "code",
   "execution_count": 1,
   "id": "b4fd9b76",
   "metadata": {},
   "outputs": [
    {
     "data": {
      "text/plain": [
       "1.8.0"
      ]
     },
     "execution_count": 1,
     "metadata": {},
     "output_type": "execute_result"
    }
   ],
   "source": [
    "KotlinVersion.CURRENT             // 코틀린 현재 버전 "
   ]
  },
  {
   "cell_type": "code",
   "execution_count": null,
   "id": "9eb8e57e",
   "metadata": {},
   "outputs": [],
   "source": []
  },
  {
   "cell_type": "markdown",
   "id": "802838e3",
   "metadata": {},
   "source": [
    "## 시퀀스 생성 \n",
    "\n",
    "\n",
    "- 1. Lazy evaluation과 Eager evaluation의 차이점\n",
    "\n",
    "> Lazy evaluation은 지금 하지 않아도 되는 연산은 최대한 뒤로 미루고, 어쩔 수 없이 연산이 필요한 순간에 연산을 수행하는 방식입니다."
   ]
  },
  {
   "cell_type": "code",
   "execution_count": 2,
   "id": "e044287e",
   "metadata": {},
   "outputs": [
    {
     "name": "stdout",
     "output_type": "stream",
     "text": [
      "원소개수 1: 5\n",
      "1, 2, 3, 4, 5, \n",
      "두 시퀀스 객체 비교 :false\n",
      "원소개수 2: 5\n",
      "원소개수 3: 5\n"
     ]
    }
   ],
   "source": [
    "val seq = sequenceOf(1,2,3,4,5)                     // 시퀀스 생성\n",
    "println(\"원소개수 1: \" + seq.count())                 // 실행 연산을 해야 처리된 결과를 보여준다 \n",
    "seq.forEach { print(it.toString() +\", \") }          // 실행해서 원소 출력\n",
    "println()\n",
    "\n",
    "val num = listOf(1,2,3,4,5)                         // 리스트 생성\n",
    "val seq2 = num.asSequence()                         // 시퀀스로 변환 \n",
    "println(\"두 시퀀스 객체 비교 :\"+seq.equals(seq2))        // 두 객체를 비교\n",
    "println(\"원소개수 2: \" + seq2.count())                               // \n",
    "                                                    \n",
    "val seq3 = generateSequence(1)                      // 초기값 부여\n",
    "                { if (it < 8) it + 2 else null }    // 특정범위까지 연산 넘으면 null처리 : 함수종료\n",
    "\n",
    "println(\"원소개수 3: \" + seq3.count())\n"
   ]
  },
  {
   "cell_type": "code",
   "execution_count": null,
   "id": "bbf1d154",
   "metadata": {},
   "outputs": [],
   "source": []
  },
  {
   "cell_type": "markdown",
   "id": "be9e801c",
   "metadata": {},
   "source": [
    "## 청크 단위로 시퀀스 처리"
   ]
  },
  {
   "cell_type": "code",
   "execution_count": 3,
   "id": "ff66a79f",
   "metadata": {},
   "outputs": [
    {
     "name": "stdout",
     "output_type": "stream",
     "text": [
      "반복\n",
      "[1, 3, 5, 7, 9]\n",
      "반복\n",
      "[1, 3, 5, 7, 9, 11, 13]\n",
      " 한번 \n",
      "42, 1, 3, 5, \n",
      " 한번 \n",
      "42, 1, 3, 5, "
     ]
    }
   ],
   "source": [
    "val seq4 = sequence {                                   // 청크 단위로 처리\n",
    "    println(\"반복\")\n",
    "    yield(1)                                            // 한번 실행 \n",
    "    yieldAll(listOf(3, 5))                              // 리스트 원소만큼 실행 \n",
    "    yieldAll(generateSequence(7) { it + 2 }) }          // 무한 반복\n",
    "\n",
    "println(seq4.take(5).toList())                          // 특정 개수만큼만 읽어와서 리스트로 변환\n",
    "println(seq4.take(7).toList())  \n",
    "\n",
    "val seq5 = iterator {                                   // 반복자 처리\n",
    "        println(\" 한번 \")\n",
    "        yield(42)\n",
    "        yieldAll(1..5 step 2)\n",
    "}\n",
    "seq5.iterator().forEach {print(it.toString() +\", \") }   // 반복자로 처리\n",
    "val seq6 = iterator {                                   // 반복자로 다시 만들어야 함                   \n",
    "        println(\" 한번 \")\n",
    "        yield(42)\n",
    "        yieldAll(1..5 step 2)\n",
    "}\n",
    "println()\n",
    "while (seq6.hasNext()) {                                // 반복자 처리                            \n",
    "    print(seq6.next().toString()+\", \")\n",
    "}"
   ]
  },
  {
   "cell_type": "code",
   "execution_count": null,
   "id": "52341949",
   "metadata": {},
   "outputs": [],
   "source": []
  },
  {
   "cell_type": "markdown",
   "id": "84f73396",
   "metadata": {},
   "source": [
    "##  컬렉션과 시퀀스 처리비교"
   ]
  },
  {
   "cell_type": "code",
   "execution_count": 4,
   "id": "1de0c3b8",
   "metadata": {},
   "outputs": [
    {
     "name": "stdout",
     "output_type": "stream",
     "text": [
      "필터링 : 코틀린을\n",
      "필터링 : 잘\n",
      "필터링 : 공부합시다.\n",
      "길이 확인 : 4\n",
      "길이 확인 : 6\n",
      "### 처리된 결과 출력 ###\n",
      "[4, 6]\n",
      "### 처리된 결과 출력 ###\n",
      "필터링 : 코틀린을\n",
      "길이 확인 : 4\n",
      "필터링 : 잘\n",
      "필터링 : 공부합시다.\n",
      "길이 확인 : 6\n",
      "[4, 6]\n"
     ]
    }
   ],
   "source": [
    "val words = \"코틀린을 잘 공부합시다.\".split(\" \")\n",
    "\n",
    "fun iterableCheck(words:List<String>) {\n",
    "    val lengthsList = words\n",
    "    .filter { println(\"필터링 : $it\"); it.length > 3 }         // 필터처리\n",
    "    .map { println(\"길이 확인 : ${it.length}\"); it.length }    //맵처리                                            \n",
    "\n",
    "   println(\"### 처리된 결과 출력 ###\")                           // 마지막에 출력\n",
    "   println(lengthsList)                                      // 작업결과 확인\n",
    "}\n",
    "iterableCheck(words)                                         // 즉시 실행\n",
    "\n",
    "val wordsSeq = words.asSequence()\n",
    "\n",
    "fun seqCheck(words:Sequence<String>) {\n",
    "    val lengthsSequence = words\n",
    "    .filter { println(\"필터링 : $it\"); it.length > 3 }        // 필터처리\n",
    "    .map { println(\"길이 확인 : ${it.length}\"); it.length }    // 맵처리 \n",
    "\n",
    "    println(\"### 처리된 결과 출력 ###\")                          // 처음에 출력\n",
    "    println(lengthsSequence.toList())                        // toList 메소드 실행 요청\n",
    "} \n",
    "seqCheck(wordsSeq)                                           // 함수호출이후 시퀀스가 리스트변환을 시킬때 실행"
   ]
  },
  {
   "cell_type": "code",
   "execution_count": null,
   "id": "65b0bc84",
   "metadata": {},
   "outputs": [],
   "source": []
  },
  {
   "cell_type": "code",
   "execution_count": null,
   "id": "d41645cc",
   "metadata": {},
   "outputs": [],
   "source": []
  },
  {
   "cell_type": "markdown",
   "id": "d2d870d2",
   "metadata": {},
   "source": [
    "## 시퀀스 처리 후에 리스트 으로 변경"
   ]
  },
  {
   "cell_type": "code",
   "execution_count": 5,
   "id": "1d17178d",
   "metadata": {},
   "outputs": [
    {
     "name": "stdout",
     "output_type": "stream",
     "text": [
      "kotlin.sequences.FilteringSequence@70ff56d\n",
      "[dahl]\n"
     ]
    }
   ],
   "source": [
    "data class People(val name:String, val age:Int)     // 데이터 클래스 정의     \n",
    "\n",
    "val people = listOf(People(\"dahl\",55),              // 데이터 객체를 리스트에 넣기 \n",
    "                    People(\"moon\",33))\n",
    "val p1 = people \n",
    "        .asSequence()                               //  시퀀스로 처리 \n",
    "        .map(People::name)\n",
    "        .filter {it.startsWith(\"d\")}\n",
    "println(p1)                                         // 중간 시퀀스 저장 \n",
    "\n",
    "val p2 = p1.toList()                                // 최종 시퀀스 처리\n",
    "println(p2)"
   ]
  },
  {
   "cell_type": "code",
   "execution_count": null,
   "id": "a3a9dab3",
   "metadata": {},
   "outputs": [],
   "source": []
  },
  {
   "cell_type": "code",
   "execution_count": null,
   "id": "605a3a26-6005-4db6-ac80-57f3af970fc7",
   "metadata": {},
   "outputs": [],
   "source": []
  }
 ],
 "metadata": {
  "kernelspec": {
   "display_name": "Kotlin",
   "language": "kotlin",
   "name": "kotlin"
  },
  "language_info": {
   "codemirror_mode": "text/x-kotlin",
   "file_extension": ".kt",
   "mimetype": "text/x-kotlin",
   "name": "kotlin",
   "nbconvert_exporter": "",
   "pygments_lexer": "kotlin",
   "version": "1.8.0-dev-3517"
  }
 },
 "nbformat": 4,
 "nbformat_minor": 5
}
