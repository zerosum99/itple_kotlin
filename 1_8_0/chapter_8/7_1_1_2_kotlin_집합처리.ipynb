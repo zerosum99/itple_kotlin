{
 "cells": [
  {
   "cell_type": "code",
   "execution_count": null,
   "id": "9d917a80",
   "metadata": {},
   "outputs": [],
   "source": []
  },
  {
   "cell_type": "code",
   "execution_count": 1,
   "id": "e82f1391",
   "metadata": {},
   "outputs": [
    {
     "data": {
      "text/plain": [
       "1.8.0"
      ]
     },
     "execution_count": 1,
     "metadata": {},
     "output_type": "execute_result"
    }
   ],
   "source": [
    "KotlinVersion.CURRENT             // 코틀린 현재 버전 "
   ]
  },
  {
   "cell_type": "code",
   "execution_count": null,
   "id": "3182a437",
   "metadata": {},
   "outputs": [],
   "source": []
  },
  {
   "cell_type": "code",
   "execution_count": 2,
   "id": "ce00c343",
   "metadata": {},
   "outputs": [],
   "source": [
    "import java.util.LinkedHashSet                    // 자바에서 지원하는 집합 자료구조 \n",
    "import java.util.HashSet\n",
    "import java.util.TreeSet\n",
    "\n",
    "\n",
    "fun Set<String>.dir() :Set<String> {\n",
    "    val a = this.javaClass.kotlin\n",
    "    println(a.simpleName)\n",
    "    if (a.simpleName == \"LinkedHashSet\") {        // 링크드해시세트은 일단 제외시킴 \n",
    "        println(\" 오류발생으로 미처리 \")\n",
    "        return setOf()\n",
    "    } \n",
    "    val ll = a.members.map { it.name}              // 멤버의 이름을 맵으로 처리하기 \n",
    "    return ll.toSet() \n",
    "}"
   ]
  },
  {
   "cell_type": "code",
   "execution_count": null,
   "id": "5fa4273f",
   "metadata": {},
   "outputs": [],
   "source": []
  },
  {
   "cell_type": "code",
   "execution_count": 3,
   "id": "2f9b8beb",
   "metadata": {},
   "outputs": [
    {
     "name": "stdout",
     "output_type": "stream",
     "text": [
      "HashSet\n",
      "26\n",
      "TreeSet\n",
      "40\n",
      "add, clear, iterator, remove, contains, \n",
      "spliterator, clone, readObject, writeObject, size, \n",
      "removeAll, retainAll, containsAll, equals, hashCode, \n",
      "forEach, toArray, stream, removeIf, parallelStream, \n",
      "PRESENT, "
     ]
    }
   ],
   "source": [
    "val s = hashSetOf(\"a\",\"b\",\"c\")                  // hsshset 생성하고 내부 멤버 확인하기 \n",
    "val sdir = s.dir()\n",
    "println(sdir.size)\n",
    "var s2 =  TreeSet<String>()                     // treeshet 생성하고 내부 멤버 확인하기\n",
    "val s2dir =s2.dir()\n",
    "println(s2dir.count())\n",
    "\n",
    "val sintr = sdir.intersect(s2dir)               // 두 클래스의 같은 멤버만 확인 \n",
    "var count = 1\n",
    "for (i in sintr) {\n",
    "    if (count % 6== 0 ) println()\n",
    "    else print(i.toString() +\", \")\n",
    "    count++\n",
    "}"
   ]
  },
  {
   "cell_type": "code",
   "execution_count": null,
   "id": "2f22cca1",
   "metadata": {},
   "outputs": [],
   "source": []
  },
  {
   "cell_type": "markdown",
   "id": "11145b4c",
   "metadata": {},
   "source": [
    "## 자료형 지정하는 방법 "
   ]
  },
  {
   "cell_type": "code",
   "execution_count": 4,
   "id": "047959ec",
   "metadata": {},
   "outputs": [
    {
     "name": "stdout",
     "output_type": "stream",
     "text": [
      "class java.util.LinkedHashSet\n",
      "class java.util.LinkedHashSet\n",
      "[42, 43]\n",
      "[43]\n"
     ]
    }
   ],
   "source": [
    "val mixedTypesSet = setOf(2, 4.454, \"how\", \"far\", 'c')      // 혼합 자료형 집합 생성 가능 \n",
    "var intSet: Set<Int> = setOf(1, 3, 4)                       // 단일 자료형 집합 생성 \n",
    "println(intSet.javaClass)\n",
    "\n",
    "val mixedMSet: Set<Any> = \n",
    "                mutableSetOf(2, 4.454, \"how\", \"far\", 'c')   // 혼합 자료형 집합\n",
    "var intmSet: Set<Int> = \n",
    "                mutableSetOf(1, 3, 4)                       // 단일 자료형 집합\n",
    "println(intmSet.javaClass)\n",
    "\n",
    "val mutableSet = mutableSetOf<Int> ()                       // 가변집합을 연산자로 원소 추가 삭제\n",
    "mutableSet += 42\n",
    "mutableSet += 43\n",
    "println(mutableSet)\n",
    "mutableSet -= 42\n",
    "println(mutableSet)"
   ]
  },
  {
   "cell_type": "code",
   "execution_count": null,
   "id": "25238d03",
   "metadata": {},
   "outputs": [],
   "source": []
  },
  {
   "cell_type": "markdown",
   "id": "2b212f5a",
   "metadata": {},
   "source": [
    "## 원소 추가 및 삭제"
   ]
  },
  {
   "cell_type": "code",
   "execution_count": 5,
   "id": "02636a43",
   "metadata": {},
   "outputs": [
    {
     "name": "stdout",
     "output_type": "stream",
     "text": [
      "[목성, 화성]\n"
     ]
    }
   ],
   "source": [
    "val intsHSet: HashSet<Int> = \n",
    "               hashSetOf(1, 2, 6, 3)               // 해시집합 생성 \n",
    "intsHSet.add(5)                                    // 원소 추가\n",
    "intsHSet.remove(1)                                 // 원소 삭제\n",
    "\n",
    "val intsMSet: MutableSet<Int> = \n",
    "               mutableSetOf(3, 5, 6, 2, 0)         // 가변집합생성\n",
    "intsMSet.add(8)                                    // 원소 추가 \n",
    "intsMSet.remove(3)                                 // 원소 삭제\n",
    "\n",
    "val intsLSet: LinkedHashSet<Int> = \n",
    "                linkedSetOf(5, 2, 7, 2, 5)         // 링크드해시집합 셍성\n",
    "intsLSet.add(4)                                    // 원소 추가\n",
    "intsLSet.remove(2)                                 // 원소 삭제 \n",
    "intsLSet.clear()                                   // 원소 전체 삭제\n",
    "\n",
    "var planets =  TreeSet<String>()                    // 트리집합 생성 \n",
    "planets.addAll(listOf(\"화성\", \"금성\",                 // 원소 추가 \n",
    "                      \"지구\", \"수성\", \"목성\"))\n",
    "var planetsTwo = TreeSet<String>();\n",
    "planetsTwo.addAll(listOf(\"화성\", \"목성\", \n",
    "                         \"해왕성\", \"토성\"))\n",
    "planets.retainAll(planetsTwo)                       // 교집합된 원소만 유지\n",
    "println(planets)"
   ]
  },
  {
   "cell_type": "code",
   "execution_count": null,
   "id": "7728cc0b",
   "metadata": {},
   "outputs": [],
   "source": []
  },
  {
   "cell_type": "markdown",
   "id": "d1d635bd",
   "metadata": {},
   "source": [
    "## 집합 기본 연산 확인 "
   ]
  },
  {
   "cell_type": "code",
   "execution_count": 6,
   "id": "a87ec779",
   "metadata": {},
   "outputs": [
    {
     "name": "stdout",
     "output_type": "stream",
     "text": [
      "[3, 2, 1]\n",
      "[3, 2, 1]\n",
      "[a, b, c]\n",
      "[1, 2, 3, 9, 4]\n",
      "[1, 2]\n",
      "[2, 1]\n",
      "true\n",
      "false\n",
      "true\n",
      "false\n",
      "true\n",
      "[1, 2, 3, 9, 4, 5, 6]\n",
      "[1, 2]\n",
      "[2, 3, 4]\n",
      "[2, 3, 4]\n"
     ]
    }
   ],
   "source": [
    "val list = listOf(3, 3, 2, 1, 2)               // 리스트 생성 \n",
    "println(list.toSet () )                        // 리스트에서 집합으로 변환\n",
    "println(list.distinct ())                      // 리스트에서 중복 \n",
    "println(\"abbcc\".toSet ())\n",
    "\n",
    "val intSet = setOf(1, 1, 2, 3, 9, 9, 4)        // 중복원소 집합생성 \n",
    "println(intSet)                                // 유일한 값만 남은 \n",
    "println(setOf(1, 2) )                          // 순서가 중요하지 않음 \n",
    "println(setOf(2, 1))\n",
    "\n",
    "println(9 in intSet)                            // 원소 여부 확인 \n",
    "println(99 in intSet)\n",
    "println(intSet.contains(9))\n",
    "println(intSet.contains(99))\n",
    "var a = intSet.containsAll(setOf(1, 9, 2))      // 포함여부 확인\n",
    "println(a)\n",
    "\n",
    "println(intSet.union (setOf(3, 4, 5, 6)) )       // 집합연산 합집합 점얀산\n",
    "println(intSet intersect setOf(0, 1, 2, 7, 8) )  // 집합연산 교집합 infix \n",
    "println(intSet subtract setOf(0, 1, 9, 10) )     // 집합ㅇ녀산 차집합 infix 처리\n",
    "println(intSet - setOf(0, 1, 9, 10) )            // 차집합연산을 연산자로 처리"
   ]
  },
  {
   "cell_type": "code",
   "execution_count": null,
   "id": "0c37e0c4",
   "metadata": {},
   "outputs": [],
   "source": []
  },
  {
   "cell_type": "code",
   "execution_count": null,
   "id": "039ae855",
   "metadata": {},
   "outputs": [],
   "source": []
  }
 ],
 "metadata": {
  "kernelspec": {
   "display_name": "Kotlin",
   "language": "kotlin",
   "name": "kotlin"
  },
  "language_info": {
   "codemirror_mode": "text/x-kotlin",
   "file_extension": ".kt",
   "mimetype": "text/x-kotlin",
   "name": "kotlin",
   "nbconvert_exporter": "",
   "pygments_lexer": "kotlin",
   "version": "1.8.0-dev-3517"
  }
 },
 "nbformat": 4,
 "nbformat_minor": 5
}
