{
 "cells": [
  {
   "cell_type": "markdown",
   "id": "3d177413",
   "metadata": {},
   "source": [
    "# 참조자료\n",
    "\n",
    "-  https://smartshk.tistory.com/19\n",
    "\n",
    "\n",
    "-  https://www.baeldung.com/kotlin/threads-coroutines"
   ]
  },
  {
   "cell_type": "markdown",
   "id": "9d727160",
   "metadata": {},
   "source": [
    "## 코루틴 모듈 올리기"
   ]
  },
  {
   "cell_type": "code",
   "execution_count": 1,
   "id": "786d1398",
   "metadata": {},
   "outputs": [],
   "source": [
    "@file:DependsOn(\"org.jetbrains.kotlinx:kotlinx-coroutines-core:1.6.1\")"
   ]
  },
  {
   "cell_type": "markdown",
   "id": "fdcbba4a",
   "metadata": {},
   "source": [
    "## 모듈 설치 확인하기"
   ]
  },
  {
   "cell_type": "code",
   "execution_count": 2,
   "id": "d1d12808",
   "metadata": {},
   "outputs": [
    {
     "data": {
      "text/plain": [
       "Current classpath (14 paths):\n",
       "/Users/dahlmoon/anaconda3/envs/kotlin/lib/python3.8/site-packages/run_kotlin_kernel/jars/lib-0.11.0-61.jar\n",
       "/Users/dahlmoon/anaconda3/envs/kotlin/lib/python3.8/site-packages/run_kotlin_kernel/jars/api-0.11.0-61.jar\n",
       "/Users/dahlmoon/anaconda3/envs/kotlin/lib/python3.8/site-packages/run_kotlin_kernel/jars/kotlin-script-runtime-1.7.0-dev-1825.jar\n",
       "/Users/dahlmoon/anaconda3/envs/kotlin/lib/python3.8/site-packages/run_kotlin_kernel/jars/kotlin-reflect-1.6.0.jar\n",
       "/Users/dahlmoon/anaconda3/envs/kotlin/lib/python3.8/site-packages/run_kotlin_kernel/jars/kotlin-stdlib-1.6.0.jar\n",
       "/Users/dahlmoon/anaconda3/envs/kotlin/lib/python3.8/site-packages/run_kotlin_kernel/jars/annotations-13.0.jar\n",
       "/Users/dahlmoon/anaconda3/envs/kotlin/lib/python3.8/site-packages/run_kotlin_kernel/jars/kotlin-stdlib-common-1.6.0.jar\n",
       "/Users/dahlmoon/.m2/repository/org/jetbrains/kotlinx/kotlinx-coroutines-core/1.6.1/kotlinx-coroutines-core-1.6.1.jar\n",
       "/Users/dahlmoon/.m2/repository/org/jetbrains/kotlinx/kotlinx-coroutines-core-jvm/1.6.1/kotlinx-coroutines-core-jvm-1.6.1.jar\n",
       "/Users/dahlmoon/.m2/repository/org/jetbrains/kotlin/kotlin-stdlib-jdk8/1.6.0/kotlin-stdlib-jdk8-1.6.0.jar\n",
       "/Users/dahlmoon/.m2/repository/org/jetbrains/kotlin/kotlin-stdlib/1.6.0/kotlin-stdlib-1.6.0.jar\n",
       "/Users/dahlmoon/.m2/repository/org/jetbrains/annotations/13.0/annotations-13.0.jar\n",
       "/Users/dahlmoon/.m2/repository/org/jetbrains/kotlin/kotlin-stdlib-jdk7/1.6.0/kotlin-stdlib-jdk7-1.6.0.jar\n",
       "/Users/dahlmoon/.m2/repository/org/jetbrains/kotlin/kotlin-stdlib-common/1.6.0/kotlin-stdlib-common-1.6.0.jar"
      ]
     },
     "execution_count": 2,
     "metadata": {},
     "output_type": "execute_result"
    }
   ],
   "source": [
    ":classpath"
   ]
  },
  {
   "cell_type": "code",
   "execution_count": null,
   "id": "b153ceea",
   "metadata": {},
   "outputs": [],
   "source": []
  },
  {
   "cell_type": "markdown",
   "id": "ffd726b5",
   "metadata": {},
   "source": [
    "## 코루틴 모듈확인하기"
   ]
  },
  {
   "cell_type": "code",
   "execution_count": 3,
   "id": "95867810",
   "metadata": {},
   "outputs": [],
   "source": [
    "import kotlinx.coroutines.*\n",
    "import kotlinx.coroutines.channels.*"
   ]
  },
  {
   "cell_type": "markdown",
   "id": "de69773c",
   "metadata": {},
   "source": [
    "## 채널은 양방향 처리\n",
    "\n",
    "- 특정 코루틴에서 송신하고 다른 코루틴에서 수신을 처리한다"
   ]
  },
  {
   "cell_type": "code",
   "execution_count": 4,
   "id": "10114bdf",
   "metadata": {},
   "outputs": [
    {
     "name": "stdout",
     "output_type": "stream",
     "text": [
      "class kotlinx.coroutines.channels.RendezvousChannel\n",
      "100\n"
     ]
    }
   ],
   "source": [
    "fun main() {\n",
    "    val channel = Channel<Int>() \n",
    "    println(channel.javaClass)\n",
    "\n",
    "    CoroutineScope(Dispatchers.Default).launch { \n",
    "        channel.send(100)\n",
    "    }\n",
    "    \n",
    "    runBlocking {\n",
    "\n",
    "        delay(1000)\n",
    "        println(channel.receive())\n",
    "        channel.close()\n",
    "    }\n",
    "}\n",
    "\n",
    "main()\n",
    "\n"
   ]
  },
  {
   "cell_type": "code",
   "execution_count": null,
   "id": "f3268214",
   "metadata": {},
   "outputs": [],
   "source": []
  },
  {
   "cell_type": "code",
   "execution_count": 5,
   "id": "f0c1f8a3",
   "metadata": {},
   "outputs": [
    {
     "name": "stdout",
     "output_type": "stream",
     "text": [
      "한개 처리 : 0 \n",
      "for 순환 : 1 \n",
      "for 순환 : 2 \n",
      "for 순환 : 4 \n",
      "consume 순환 : 3\n",
      "for 순환 : 5 \n",
      "consume 순환 : 6\n",
      "for 순환 : 7 \n",
      "consume 순환 : 8\n",
      "consume 순환 : 9\n"
     ]
    }
   ],
   "source": [
    "fun main() {\n",
    "\n",
    "    val channel = Channel<Int>() \n",
    "    CoroutineScope(Dispatchers.Default).launch { \n",
    "        repeat(10) { channel.send(it) } \n",
    "    } \n",
    "\n",
    "    CoroutineScope(Dispatchers.Default).launch {\n",
    "        val num = channel.receive()                  // 1 \n",
    "        println(\"한개 처리 : $num \")\n",
    "        var count =0 \n",
    "        for(x in channel) {                         // 2 \n",
    "            println(\"for 순환 : $x \") \n",
    "            count++\n",
    "            if (count > 4) delay(1000)\n",
    "        } \n",
    "    }\n",
    "    \n",
    "    CoroutineScope(Dispatchers.Default).launch {\n",
    "  \n",
    "        channel.consumeEach {                       // 3 \n",
    "            println(\"consume 순환 : $it\") } \n",
    "    }\n",
    "\n",
    "}\n",
    "\n",
    "main()"
   ]
  },
  {
   "cell_type": "code",
   "execution_count": null,
   "id": "4ca16aca",
   "metadata": {},
   "outputs": [],
   "source": []
  },
  {
   "cell_type": "code",
   "execution_count": null,
   "id": "47360d22",
   "metadata": {},
   "outputs": [],
   "source": []
  },
  {
   "cell_type": "markdown",
   "id": "c630783b",
   "metadata": {},
   "source": [
    "## Channel\n",
    "\n",
    "개념상 BlockingQueue와 매우 비슷하다. 차이점이 있다면 BlockingQueue는 값을 전달하는 과정에서 스레드를 block하지만, \n",
    "\n",
    "Channel은 스레드를 block하지 않고 suspending 한다."
   ]
  },
  {
   "cell_type": "code",
   "execution_count": 6,
   "id": "f0e4c1ea",
   "metadata": {},
   "outputs": [
    {
     "name": "stdout",
     "output_type": "stream",
     "text": [
      "코루틴1 : 1\n",
      "코루틴2 : 4\n",
      "코루틴1 : 9\n",
      "코루틴1 : 16\n",
      "코루틴2 : 25\n",
      "Done!\n"
     ]
    }
   ],
   "source": [
    "// interface Channel<E> : SendChannel<E> , ReceiveChannel<E>  // 채널은 송신과 수신 채널을 묶는 개념 \n",
    "// fun <E> Channel(                                           // 채널함수 \n",
    "//    capacity: Int = RENDEZVOUS,                             // 버퍼 용량 \n",
    "//    onBufferOverflow: BufferOverflow = BufferOverflow.SUSPEND, \n",
    "//    onUndeliveredElement: (E) -> Unit? = null\n",
    "// ): Channel<E>\n",
    "\n",
    "fun main() = runBlocking {\n",
    "        val chan = Channel<Int>()\n",
    "        launch {\n",
    "            for (x in 1..5) chan.send(x *x)                   // 값을 보냄\n",
    "        }\n",
    "        launch {\n",
    "            repeat(3) { \n",
    "                delay(10)\n",
    "                println(\"코루틴1 : \" + chan.receive())          // 값을 받음 \n",
    "            }                                                  // \n",
    "        }\n",
    "        launch {\n",
    "            repeat(2) { \n",
    "                delay(20)\n",
    "                println(\"코루틴2 : \" +chan.receive())           // 값을 받음 \n",
    "            }                                                 // \n",
    "        }\n",
    "        delay(200)\n",
    "        chan.close()                                      // 더 보낼 값이 없음, close\n",
    "        println(\"Done!\")\n",
    "}\n",
    "main()"
   ]
  },
  {
   "cell_type": "code",
   "execution_count": null,
   "id": "00ccba20",
   "metadata": {},
   "outputs": [],
   "source": []
  },
  {
   "cell_type": "markdown",
   "id": "6844e8c6",
   "metadata": {},
   "source": [
    "## 문자열 채널 전달 "
   ]
  },
  {
   "cell_type": "code",
   "execution_count": 7,
   "id": "fb069980",
   "metadata": {},
   "outputs": [
    {
     "name": "stdout",
     "output_type": "stream",
     "text": [
      "코틀린 세상에 들어온 것을 환영!\n",
      "true\n"
     ]
    }
   ],
   "source": [
    "fun from_ont_to_another() {\n",
    "    runBlocking {\n",
    "\n",
    "        val channel = Channel<String>()                       // 문자열 채널 생성 \n",
    "\n",
    "        launch {                                              // 전송 코루틴 \n",
    "            channel.send(\"코틀린 세상에 들어온 것을 환영!\")\n",
    "            channel.close()\n",
    "        }\n",
    "        val result = async {                                  // 수신 코루틴 \n",
    "            channel.receive()\n",
    "        }\n",
    "\n",
    "        println(result.await())                               // 코루틴 반환값 출력\n",
    "        println(result.await() == \"코틀린 세상에 들어온 것을 환영!\") // 전달된 값 비교\n",
    "    }\n",
    "}\n",
    "\n",
    "from_ont_to_another()"
   ]
  },
  {
   "cell_type": "code",
   "execution_count": null,
   "id": "0a9cf894",
   "metadata": {},
   "outputs": [],
   "source": []
  },
  {
   "cell_type": "markdown",
   "id": "88cfdba6",
   "metadata": {},
   "source": [
    "## 랑데뷰 채널 연속 전송"
   ]
  },
  {
   "cell_type": "code",
   "execution_count": 8,
   "id": "561b634f",
   "metadata": {},
   "outputs": [
    {
     "name": "stdout",
     "output_type": "stream",
     "text": [
      "송신 1 코루틴 : 사과\n",
      "DefaultDispatcher-worker-1\n",
      "수신 코루틴 : 사과\n",
      "송신 1 코루틴 : 오렌지\n",
      "DefaultDispatcher-worker-1\n",
      "수신 코루틴 : 오렌지\n",
      "송신 2 코루틴 : 사과\n",
      "DefaultDispatcher-worker-1\n",
      "송신 2 코루틴 : 오렌지\n",
      "수신 코루틴 : 사과\n",
      "DefaultDispatcher-worker-1\n",
      "수신 코루틴 : 오렌지\n"
     ]
    }
   ],
   "source": [
    "fun Rendezvous_Channel() {\n",
    "    runBlocking {\n",
    "        val basket = Channel<String>()\n",
    "        launch {                                              // 코루틴에서 순환문으로 전송\n",
    "            val fruits = listOf(\"사과\", \"오렌지\")\n",
    "            for (fruit in fruits) {\n",
    "                println(\"송신 1 코루틴 : $fruit\")\n",
    "                 delay(100)\n",
    "                basket.send(fruit)\n",
    "            }\n",
    "            for (fruit in fruits) {                            // 코루틴에서 순환문으로 전송\n",
    "                println(\"송신 2 코루틴 : $fruit\")\n",
    "                delay(100)\n",
    "                basket.send(fruit)\n",
    "            } \n",
    "            basket.close()                                      // 채널 닫음 \n",
    "        }\n",
    "        launch(Dispatchers.IO) {                                // 4개의 코뤁틴을 만듬 \n",
    "            repeat(4) {                                         // 각각 출력 \n",
    "                delay(100)\n",
    "                println(Thread.currentThread().name)\n",
    "                println(\"수신 코루틴 : ${basket.receive()}\")\n",
    "            }\n",
    "        }\n",
    "    }\n",
    "}\n",
    "\n",
    "Rendezvous_Channel()"
   ]
  },
  {
   "cell_type": "code",
   "execution_count": null,
   "id": "4f098302",
   "metadata": {},
   "outputs": [],
   "source": []
  },
  {
   "cell_type": "markdown",
   "id": "51ad80a1",
   "metadata": {},
   "source": [
    "## 버퍼 채널 처리 "
   ]
  },
  {
   "cell_type": "code",
   "execution_count": 9,
   "id": "25f3f940",
   "metadata": {},
   "outputs": [
    {
     "name": "stdout",
     "output_type": "stream",
     "text": [
      " 송신 1: 바나나\n",
      " 송신 1: 딸기\n",
      " 송신 1: 앵두\n",
      " 송신 2: 바나나\n",
      " 수신 : 바나나\n",
      " 수신 : 딸기\n",
      " 송신 2: 딸기\n",
      " 수신 : 앵두\n",
      " 송신 2: 앵두\n",
      " 수신 : 바나나\n",
      " 수신 : 딸기\n",
      " 수신 : 앵두\n"
     ]
    }
   ],
   "source": [
    "fun buffer_Channel() {  \n",
    "    runBlocking {\n",
    "        val basket = Channel<String>(2)                      // 채널 \n",
    "        val fruits = listOf(\"바나나\", \"딸기\", \"앵두\")\n",
    "        launch {                                             // 송신 고루틴 1\n",
    "            for (fruit in fruits) {\n",
    "                println(\" 송신 1: $fruit\")\n",
    "                basket.send(fruit)\n",
    "            }\n",
    "        }\n",
    "        launch {                                             // 송신 코루틴 2\n",
    "            for (fruit in fruits) {\n",
    "                println(\" 송신 2: $fruit\")\n",
    "                basket.send(fruit)\n",
    "            }\n",
    "        }\n",
    "        launch {                                             // 수신 코루틴 \n",
    "            repeat(6) {\n",
    "                delay(100)\n",
    "                println(\" 수신 : ${basket.receive()}\")\n",
    "            }\n",
    "        }  \n",
    "        delay(3000)\n",
    "        basket.close()                                        // 채널 닫기 \n",
    "    }\n",
    "}\n",
    "buffer_Channel()"
   ]
  },
  {
   "cell_type": "code",
   "execution_count": null,
   "id": "d5e623bf",
   "metadata": {},
   "outputs": [],
   "source": []
  },
  {
   "cell_type": "markdown",
   "id": "f087ab84",
   "metadata": {},
   "source": [
    "## 무한버퍼 처리 "
   ]
  },
  {
   "cell_type": "code",
   "execution_count": 10,
   "id": "6ab3a02b",
   "metadata": {},
   "outputs": [
    {
     "name": "stdout",
     "output_type": "stream",
     "text": [
      " 송신 1 :  0\n",
      " 송신 2 :  0\n",
      " 송신 1 :  1\n",
      " 송신 1 :  2\n",
      " 수신 :  0\n",
      " 송신 2 :  1\n",
      " 송신 2 :  2\n",
      " 수신 :  0\n",
      " 수신 :  1\n",
      " 수신 :  2\n",
      " 수신 :  1\n",
      " 수신 :  2\n"
     ]
    }
   ],
   "source": [
    "fun unlimited_Channel() {\n",
    "    runBlocking {\n",
    "        val channel = Channel<Int>(Channel.UNLIMITED)    // 버퍼 제한을 안줌 \n",
    "        launch {                                         // 송신 코루틴\n",
    "            repeat(3) {\n",
    "                delay(30)\n",
    "                println(\" 송신 1 :  $it\")                 // 인덱스 값을 전송\n",
    "                channel.send(it)\n",
    "            }\n",
    "        }\n",
    "        launch {                                         // 송신 코루틴 \n",
    "            repeat(3) {\n",
    "                delay(50)\n",
    "                println(\" 송신 2 :  $it\")\n",
    "                channel.send(it)\n",
    "            }\n",
    "        }\n",
    "        launch {                                          // 수신 코루틴 \n",
    "            repeat(6) {\n",
    "                delay(100)\n",
    "                println(\" 수신 :  ${channel.receive()}\")\n",
    "            }\n",
    "        }\n",
    "       delay(2000)\n",
    "       channel.close()                                     // 채널 닫기\n",
    "    }\n",
    "}\n",
    "\n",
    "unlimited_Channel()"
   ]
  },
  {
   "cell_type": "code",
   "execution_count": null,
   "id": "5d5ebdaa",
   "metadata": {},
   "outputs": [],
   "source": []
  },
  {
   "cell_type": "markdown",
   "id": "ae8d6a49",
   "metadata": {},
   "source": [
    "## 중첩쓰기 버퍼 처리 "
   ]
  },
  {
   "cell_type": "code",
   "execution_count": 11,
   "id": "7233d909",
   "metadata": {},
   "outputs": [
    {
     "name": "stdout",
     "output_type": "stream",
     "text": [
      " 송신 1 : 강아지\n",
      " 송신 1 : 고양이\n",
      " 송신 1 : 거북이\n",
      " 수신 :  거북이\n"
     ]
    }
   ],
   "source": [
    "fun conflated_channel() {\n",
    "    runBlocking {\n",
    "        val basket = Channel<String>(Channel.CONFLATED)         // 사용하지 않은 버퍼는 중첩시킴 \n",
    "        val animal = listOf(\"강아지\", \"고양이\", \"거북이\")\n",
    "        launch {                                                // 코루틴에서 채널로 송신 \n",
    "            for (pet in animal) {\n",
    "                delay(10)\n",
    "                println(\" 송신 1 : $pet\")\n",
    "                basket.send(pet)\n",
    "            }\n",
    "        }\n",
    "    \n",
    "        launch {                                                // 수신\n",
    "                delay(300)\n",
    "                println(\" 수신 :  ${basket.receive()}\")\n",
    "        }\n",
    "    }\n",
    "}\n",
    "\n",
    "conflated_channel()"
   ]
  },
  {
   "cell_type": "code",
   "execution_count": null,
   "id": "21acb085",
   "metadata": {},
   "outputs": [],
   "source": []
  },
  {
   "cell_type": "code",
   "execution_count": null,
   "id": "1ff3e607",
   "metadata": {},
   "outputs": [],
   "source": []
  },
  {
   "cell_type": "code",
   "execution_count": null,
   "id": "cc79e77b",
   "metadata": {},
   "outputs": [],
   "source": []
  },
  {
   "cell_type": "markdown",
   "id": "5ae1db42",
   "metadata": {},
   "source": [
    "## Producer-Consumer 패턴\n",
    "\n",
    "\n",
    "- produce 코루틴 빌더와 consumeEach 함수를 사용하여 이 패턴을 정확히 구현할 수 있다.\n",
    "\n",
    "- 두 함수를 사용하면 Channel 객체를 명시적으로 만들지 않아도 된다."
   ]
  },
  {
   "cell_type": "code",
   "execution_count": null,
   "id": "f3fcc0d2",
   "metadata": {},
   "outputs": [],
   "source": []
  },
  {
   "cell_type": "code",
   "execution_count": 12,
   "id": "ef5fdc79",
   "metadata": {},
   "outputs": [
    {
     "name": "stdout",
     "output_type": "stream",
     "text": [
      "class kotlinx.coroutines.channels.ProducerCoroutine\n",
      "1\n",
      "4\n",
      "9\n",
      "16\n",
      "25\n",
      "Done!\n"
     ]
    }
   ],
   "source": [
    "// interface ProducerScope<in E>                          // 생성자스코프 \n",
    "// : CoroutineScope, SendChannel<E>                       // 코루틴스코프와 센드채널 상속\n",
    "\n",
    "// fun <E> CoroutineScope.produce(                        // 생산자 빌더 \n",
    "//    context: CoroutineContext = EmptyCoroutineContext,  // 컨텍스트  \n",
    "//    capacity: Int = 0,                                  // 용량\n",
    "//    block: suspend ProducerScope<E>.() -> Unit          // 생산자 스코프의 람다표현식 \n",
    "// ): ReceiveChannel<E>                                   // 수신 채널 \n",
    "\n",
    "fun CoroutineScope.produceSquares() = produce {      // 코루틴스코프 내의 확장함수 생성 \n",
    "    for (x in 1..5) {\n",
    "        send(x * x)                                  // 값을 하나씩 produce\n",
    "    }\n",
    "}\n",
    "\n",
    "fun main() = runBlocking {\n",
    "    val squares = produceSquares()                   // 생산자 함수 실행 \n",
    "    println(squares.javaClass)                       // 수신자 반환\n",
    "    squares.consumeEach { println(it) }              // 값을 하나씩 consume\n",
    "    println(\"Done!\")\n",
    "}\n",
    "\n",
    "main()"
   ]
  },
  {
   "cell_type": "code",
   "execution_count": null,
   "id": "e93bafac",
   "metadata": {},
   "outputs": [],
   "source": []
  },
  {
   "cell_type": "code",
   "execution_count": null,
   "id": "1d37bc89",
   "metadata": {},
   "outputs": [],
   "source": []
  },
  {
   "cell_type": "markdown",
   "id": "2189fedc",
   "metadata": {},
   "source": [
    "## 파이프라인\n",
    "파이프라인이란 유한 또는 무한 개의 값을 만드는 코루틴을 의미한다."
   ]
  },
  {
   "cell_type": "code",
   "execution_count": null,
   "id": "07ecce18",
   "metadata": {},
   "outputs": [],
   "source": []
  },
  {
   "cell_type": "code",
   "execution_count": 13,
   "id": "66803064",
   "metadata": {},
   "outputs": [
    {
     "name": "stdout",
     "output_type": "stream",
     "text": [
      "1\n",
      "4\n",
      "9\n",
      "16\n",
      "25\n",
      "36\n",
      "49\n",
      "64\n",
      "Done!\n"
     ]
    }
   ],
   "source": [
    "fun CoroutineScope.numbers() = produce<Int> {            //  숫자 생성자 \n",
    "    var x = 1\n",
    "    while (true) send(x++)                               // 1부터 시작하여 모든 자연수를 produce\n",
    "}\n",
    "\n",
    "fun CoroutineScope.square(numbers: ReceiveChannel<Int>): ReceiveChannel<Int> = produce {\n",
    "    for (x in numbers) send(x * x)                       // 주어진 수의 제곱을 produce\n",
    "}\n",
    "\n",
    "fun main() = runBlocking {\n",
    "    val num = numbers()                                  // 숫자 생성자 코루틴                     \n",
    "    val squares = square(num)                            // 채널을 전달받은 코루틴 \n",
    "    repeat(8) {\n",
    "        println(squares.receive())                       // 처음 8개만 출력\n",
    "    }\n",
    "    println(\"Done!\") \n",
    "    coroutineContext.cancelChildren()                    // 파이프라인 중단\n",
    "}\n",
    "\n",
    "main()"
   ]
  },
  {
   "cell_type": "code",
   "execution_count": null,
   "id": "438f759d",
   "metadata": {},
   "outputs": [],
   "source": []
  },
  {
   "cell_type": "markdown",
   "id": "e4e289a7",
   "metadata": {},
   "source": [
    "## 생산자를 확장함수로 처리"
   ]
  },
  {
   "cell_type": "code",
   "execution_count": 14,
   "id": "cdb51381",
   "metadata": {},
   "outputs": [
    {
     "name": "stdout",
     "output_type": "stream",
     "text": [
      "처리번호 : #1 주문번호 . 1\n",
      "처리번호 : #1 주문번호 . 2\n",
      "처리번호 : #2 주문번호 . 3\n",
      "처리번호 : #3 주문번호 . 4\n",
      "처리번호 : #1 주문번호 . 5\n",
      "처리번호 : #2 주문번호 . 6\n",
      "처리번호 : #3 주문번호 . 7\n",
      "처리번호 : #1 주문번호 . 8\n",
      "처리번호 : #2 주문번호 . 9\n",
      "처리번호 : #3 주문번호 . 10\n"
     ]
    }
   ],
   "source": [
    "fun CoroutineScope.produceOrders(): ReceiveChannel<String> = produce {\n",
    "    var x = 1                                                // 생산자를 확장함수로 정의 \n",
    "    while (true) {\n",
    "        send(\"주문번호 . ${x++}\")                              // 채널 전송 \n",
    "        delay(100)\n",
    "    }\n",
    "}\n",
    "fun CoroutineScope.orderProcessor(id: Int, orders: ReceiveChannel<String>) = launch {\n",
    "    for (order in orders) {                                  // 수신 채널 확장함수 정의\n",
    "        println(\"처리번호 : #$id $order\")                      //  수신 결과를 처리\n",
    "    }\n",
    "}\n",
    "\n",
    "fun main() = runBlocking {\n",
    "    val orders = produceOrders()                              // 무한전송 처리 \n",
    "    repeat(3) {\n",
    "        orderProcessor(it + 1, orders)                        // 일부만 받아서 처리 \n",
    "    }\n",
    "    delay(1000)\n",
    "    orders.cancel()\n",
    "}\n",
    "main()"
   ]
  },
  {
   "cell_type": "code",
   "execution_count": null,
   "id": "d2e101d4",
   "metadata": {},
   "outputs": [],
   "source": []
  },
  {
   "cell_type": "markdown",
   "id": "35e503c5",
   "metadata": {},
   "source": [
    "## 채널을 일시중단함수로 처리"
   ]
  },
  {
   "cell_type": "code",
   "execution_count": 15,
   "id": "7bc4a0a7",
   "metadata": {},
   "outputs": [
    {
     "name": "stdout",
     "output_type": "stream",
     "text": [
      "닥터 후\n",
      "코틀린 \n",
      "스타워즈\n",
      "코루틴 \n",
      "동시성\n"
     ]
    }
   ],
   "source": [
    "suspend fun fetchWords(channel: SendChannel<String>) {         // 채널을 인자로 받음\n",
    "    val lists = listOf(\"코틀린 \", \"코루틴 \",\"동시성\")\n",
    "    for (tweet in lists) {\n",
    "        delay(100)\n",
    "        channel.send(tweet)                                    //  채널에 전송 \n",
    "    }\n",
    "}\n",
    "\n",
    "suspend fun fetchVideos(channel: SendChannel<String>) {        // 채널을 인자로 받음 \n",
    "    val videos = listOf(\"닥터 후\", \"스타워즈\")\n",
    "    for (video in videos) {\n",
    "        delay(100)\n",
    "        channel.send(video)                                    // 채녈에 전송 \n",
    "    }\n",
    "}\n",
    "\n",
    "fun main() = runBlocking {\n",
    "    val aggregate = Channel<String>()\n",
    "    launch { fetchVideos(aggregate) }                          // 전송 채널\n",
    "    launch { fetchWords(aggregate) }\n",
    "    launch {                                                   // 수신 채널 \n",
    "        repeat(5) {\n",
    "            println(aggregate.receive())\n",
    "        }\n",
    "    }\n",
    "    delay(3000)                                                // 일시중단 \n",
    "    coroutineContext.cancelChildren()                          // 자식 코루틴 중단 \n",
    "}\n",
    "\n",
    "main()"
   ]
  },
  {
   "cell_type": "code",
   "execution_count": null,
   "id": "a54ebe86",
   "metadata": {},
   "outputs": [],
   "source": []
  }
 ],
 "metadata": {
  "kernelspec": {
   "display_name": "Kotlin",
   "language": "kotlin",
   "name": "kotlin"
  },
  "language_info": {
   "codemirror_mode": "text/x-kotlin",
   "file_extension": ".kt",
   "mimetype": "text/x-kotlin",
   "name": "kotlin",
   "nbconvert_exporter": "",
   "pygments_lexer": "kotlin",
   "version": "1.7.0-dev-1825"
  }
 },
 "nbformat": 4,
 "nbformat_minor": 5
}
