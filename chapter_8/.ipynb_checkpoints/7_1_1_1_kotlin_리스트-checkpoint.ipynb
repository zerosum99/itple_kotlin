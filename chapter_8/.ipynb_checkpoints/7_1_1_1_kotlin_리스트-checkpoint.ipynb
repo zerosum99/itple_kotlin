{
 "cells": [
  {
   "cell_type": "markdown",
   "id": "5afe0185",
   "metadata": {},
   "source": [
    "## 리스트 내의 함수들 출력하기"
   ]
  },
  {
   "cell_type": "code",
   "execution_count": 22,
   "id": "5c26a313",
   "metadata": {},
   "outputs": [],
   "source": [
    "import java.util.ArrayList                  // 코틀린 기본 리스트 클래스\n",
    "\n",
    "fun List<Int>.dir() : Set<String> {         // 멤버를 조회하는 확장함수\n",
    "    val a = this.javaClass.kotlin           // 클래스 출력 \n",
    "    println(a.simpleName)\n",
    "    val ll = a.members.map { it.name}       // 멤버의 이름을 맵으로 처리하기 \n",
    "    return ll.toSet() \n",
    "}\n"
   ]
  },
  {
   "cell_type": "code",
   "execution_count": null,
   "id": "8939166d",
   "metadata": {},
   "outputs": [],
   "source": []
  },
  {
   "cell_type": "code",
   "execution_count": 21,
   "id": "b9eb6b79",
   "metadata": {},
   "outputs": [
    {
     "name": "stdout",
     "output_type": "stream",
     "text": [
      "ArrayList\n",
      "ArrayList\n",
      "### 교집합 ###\n",
      "contains, spliterator, forEach, toArray, set, \n",
      "indexOf, replaceAll, sort, size, add, \n",
      "clear, iterator, remove, removeAll, retainAll, \n",
      "isEmpty, equals, hashCode, toString, stream, \n",
      "parallelStream, listIterator, removeAt, subList, lastIndexOf, \n",
      "modCount, serialVersionUID, \n",
      "### 차집합 ###\n",
      "rangeCheckForAdd, outOfBoundsMsg, clone, readObject, \n",
      "ensureCapacity, trimToSize, ensureCapacityInternal, elementData, \n",
      "ensureExplicitCapacity, fastRemove, rangeCheck, batchRemove, \n",
      "calculateCapacity, subListRangeCheck, DEFAULT_CAPACITY, EMPTY_ELEMENTDATA, \n",
      "MAX_ARRAY_SIZE, "
     ]
    }
   ],
   "source": [
    "val list1 = listOf(1,2,3)                   // 리스트 객체를 생성 \n",
    "val ll = list1.dir()                        // 리스트 멤버 조회 \n",
    "val mlist1 = mutableListOf(1,2,3)           // 가변 리스트 객체 만들기 \n",
    "val ml = mlist1.dir()                       // 멤버를 확인 \n",
    "val inters = ll.intersect(ml)               // 동일한 멤버 확인\n",
    "val differs = ml.minus(ll)                  // 다른 멤버 \n",
    "println(\"### 교집합 ###\")\n",
    "var count = 1\n",
    "for (i in inters) {\n",
    "    if (count % 6== 0 ) println()\n",
    "    else print(i.toString() +\", \")\n",
    "    count++\n",
    "}\n",
    "println()\n",
    "println(\"### 차집합 ###\")\n",
    "count = 1\n",
    "for (i in differs) {\n",
    "    if (count % 5== 0 ) println()\n",
    "    else print(i.toString() +\", \")\n",
    "    count++\n",
    "}"
   ]
  },
  {
   "cell_type": "code",
   "execution_count": null,
   "id": "c77aaeb3",
   "metadata": {},
   "outputs": [],
   "source": []
  },
  {
   "cell_type": "code",
   "execution_count": null,
   "id": "4794cbe5",
   "metadata": {},
   "outputs": [],
   "source": []
  },
  {
   "cell_type": "markdown",
   "id": "e2613fce",
   "metadata": {},
   "source": [
    "## 리스트 처리"
   ]
  },
  {
   "cell_type": "code",
   "execution_count": 3,
   "id": "5b25a913",
   "metadata": {},
   "outputs": [
    {
     "name": "stdout",
     "output_type": "stream",
     "text": [
      "class kotlin.collections.EmptyList\n",
      "true\n",
      "class java.util.ArrayList\n",
      "[2, 45, 2, 5]\n",
      "class java.util.ArrayList\n",
      "[코틀린, 입문을, 축하합니다.]\n"
     ]
    }
   ],
   "source": [
    "val emptyList: List<String> = emptyList<String>()             // 아무것도 없는 리스트 생성\n",
    "println(emptyList.javaClass.kotlin)\n",
    "println(emptyList.isEmpty())                                  // 텅빈 상태 확인 \n",
    "\n",
    "val nonNullsList = listOfNotNull(2, 45, 2, null, 5, null)     // 널제거 리스트 생성 \n",
    "println(nonNullsList.javaClass.kotlin)\n",
    "println(nonNullsList)\n",
    "\n",
    "val stringList: ArrayList<String> = \n",
    "              arrayListOf(\"코틀린\", \"입문을\", \"축하합니다.\")        // arraylist로 리스트 생성 \n",
    "println(stringList.javaClass.kotlin)\n",
    "println(stringList)                                           // 리스트 확인 "
   ]
  },
  {
   "cell_type": "code",
   "execution_count": null,
   "id": "fededc39",
   "metadata": {},
   "outputs": [],
   "source": []
  },
  {
   "cell_type": "code",
   "execution_count": null,
   "id": "7d4e8bf0",
   "metadata": {},
   "outputs": [],
   "source": []
  },
  {
   "cell_type": "code",
   "execution_count": 4,
   "id": "72bdf94c",
   "metadata": {},
   "outputs": [
    {
     "name": "stdout",
     "output_type": "stream",
     "text": [
      "[무녀, 예수, 무당]\n",
      "[현대차동차, 벤츠, 1, 6.76, 가]\n",
      "joinedList : [1, 2, 3, 1, 4, 5, 6]\n",
      "joinedList2 : [1, 2, 3, 1, 4, 5, 6]\n"
     ]
    }
   ],
   "source": [
    "val mutableListNames =                           //가변 리스트 생성 \n",
    "    mutableListOf<String>(\"석가\",\"마호메트\", \"예수\")\n",
    "mutableListNames.add(\"무당\")                      // 원소 추가 \n",
    "mutableListNames.removeAt(1)                     // 원소 삭제 \n",
    "mutableListNames[0] = \"무녀\"                      // 원소 대체 \n",
    "println(mutableListNames)\n",
    " \n",
    "val mutableListMixed =                           // Any 자료형으로 처리\n",
    "          mutableListOf(\"현대차동차\",\"벤츠\", 1, 6.76, '가')\n",
    "println(mutableListMixed)\n",
    "\n",
    "\n",
    "val list1 = listOf(1, 2, 3)\n",
    "val list2 = listOf(1, 4, 5, 6)\n",
    "\n",
    "val joinedList = list1 + list2                    // 두 불변 리스트를 더하면 \n",
    "println(\"joinedList : $joinedList\")               // 새로운 리스트를 생성 \n",
    "\n",
    "val joinedList2 = list1.plus(list2)\n",
    "println(\"joinedList2 : $joinedList\")"
   ]
  },
  {
   "cell_type": "code",
   "execution_count": null,
   "id": "1c9c3386-1db8-4456-a6cb-70956957541e",
   "metadata": {},
   "outputs": [],
   "source": []
  },
  {
   "cell_type": "markdown",
   "id": "7f300f61",
   "metadata": {},
   "source": [
    "## 특정 클래스 배열"
   ]
  },
  {
   "cell_type": "code",
   "execution_count": 5,
   "id": "62b04fed-2339-4b37-96e1-7196b2c89fe1",
   "metadata": {},
   "outputs": [
    {
     "name": "stdout",
     "output_type": "stream",
     "text": [
      "IntArray\n",
      "size, clone, get, iterator, set, equals, hashCode, toString, \n",
      "result 1 : [1, 2, 3, 4, 5, 6]\n",
      "result 2 : [1, 2, 3, 4, 5, 6]\n"
     ]
    }
   ],
   "source": [
    "fun IntArray.dir() :Unit {\n",
    "    val a = this.javaClass.kotlin\n",
    "    println(a.simpleName)\n",
    "    a.members.forEach{ print(it.name + \", \") }\n",
    "}\n",
    "\n",
    "val array1 = intArrayOf(1, 2, 3)                 // 특정 클래스의 배열처리 \n",
    "val array2 = intArrayOf(4, 5, 6)\n",
    "\n",
    "array1.dir()\n",
    "println()\n",
    "\n",
    "var result = array1 + array2\n",
    "println(\"result 1 : ${result.contentToString()}\")\n",
    "result = intArrayOf(*array1, *array2)\n",
    "println(\"result 2 : ${result.contentToString()}\")"
   ]
  },
  {
   "cell_type": "code",
   "execution_count": null,
   "id": "010eb646",
   "metadata": {},
   "outputs": [],
   "source": []
  },
  {
   "cell_type": "markdown",
   "id": "d82a2e5c",
   "metadata": {},
   "source": [
    "## 링크드 리스트 "
   ]
  },
  {
   "cell_type": "code",
   "execution_count": 6,
   "id": "e0c04a6b-00c2-4d82-8457-5cb98af70088",
   "metadata": {},
   "outputs": [],
   "source": [
    "import java.util.LinkedList\n"
   ]
  },
  {
   "cell_type": "code",
   "execution_count": 7,
   "id": "06af358c",
   "metadata": {},
   "outputs": [
    {
     "name": "stdout",
     "output_type": "stream",
     "text": [
      "java.util.AbstractList<E!>\n",
      "java.util.AbstractSequentialList<E!>\n"
     ]
    }
   ],
   "source": [
    "val al = (ArrayList :: class)\n",
    "val ll = (LinkedList :: class)\n",
    "\n",
    "println(al.supertypes[0])\n",
    "println(ll.supertypes[0])"
   ]
  },
  {
   "cell_type": "code",
   "execution_count": null,
   "id": "83e198f8",
   "metadata": {},
   "outputs": [],
   "source": []
  },
  {
   "cell_type": "code",
   "execution_count": 8,
   "id": "5796650f",
   "metadata": {},
   "outputs": [
    {
     "name": "stdout",
     "output_type": "stream",
     "text": [
      "class java.util.LinkedList\n",
      "Planets = [Earth, Venus, Mars]\n",
      "First planet = Earth\n",
      "Last planet = Mars\n"
     ]
    }
   ],
   "source": [
    "import java.util.LinkedList\n",
    "\n",
    "\n",
    "var planets =  LinkedList<String>();\n",
    " planets.addAll(listOf(\"Earth\", \"Venus\", \"Mars\"))\n",
    " \n",
    "\n",
    "println(planets.javaClass.kotlin)\n",
    "println(\"Planets = \" + planets)\n",
    "\n",
    "println(\"First planet = \" + planets.first)\n",
    "println(\"Last planet = \" + planets.last)"
   ]
  },
  {
   "cell_type": "code",
   "execution_count": 9,
   "id": "a27a860e",
   "metadata": {},
   "outputs": [
    {
     "name": "stdout",
     "output_type": "stream",
     "text": [
      "planets = [Mercury, Earth, Venus, Mars]\n",
      "planets = [Mercury, Earth, Venus, Mars, Pluto]\n",
      "Planets = [Earth, Venus, Mars, Pluto]\n",
      "Planets = [Earth, Venus, Mars]\n",
      "Planets = [Earth, Venus, Jupiter, Mars]\n",
      "false\n",
      "Planets = [Venus, Jupiter, Mars]\n"
     ]
    }
   ],
   "source": [
    "planets.addFirst(\"Mercury\")\n",
    "println(\"planets = \" + planets)\n",
    "\n",
    "planets.addLast(\"Pluto\")\n",
    "println(\"planets = \" + planets)\n",
    "\n",
    "planets.removeFirst()\n",
    "println(\"Planets = \" + planets)\n",
    "\n",
    "planets.removeLast()\n",
    "println(\"Planets = \" + planets)\n",
    "\n",
    "planets.add(2, \"Jupiter\")\n",
    "println(\"Planets = \" + planets)\n",
    "\n",
    "println(planets.contains(\"Pluto\"))\n",
    "\n",
    "planets.removeIf { x -> x.startsWith(\"E\") }\n",
    "println(\"Planets = \" + planets)"
   ]
  },
  {
   "cell_type": "code",
   "execution_count": null,
   "id": "1c3f269f",
   "metadata": {},
   "outputs": [],
   "source": []
  },
  {
   "cell_type": "code",
   "execution_count": 10,
   "id": "05b1e658",
   "metadata": {},
   "outputs": [
    {
     "name": "stdout",
     "output_type": "stream",
     "text": [
      "Planets = [Mars, Jupiter, Venus]\n",
      "[Venus, Jupiter, Mars]\n",
      "3\n",
      "1\n",
      "[Mercury, Venus, Earth, Pluto]\n"
     ]
    }
   ],
   "source": [
    "planets.reverse()\n",
    "println(\"Planets = \" + planets)\n",
    "println(planets.reversed())\n",
    "\n",
    "println(planets.count())\n",
    "println(planets.count { x -> x.startsWith(\"V\") })\n",
    "\n",
    "\n",
    " var planets1 =  LinkedList<String>();\n",
    "planets1.addAll(listOf(\"Mercury\", \"Venus\", \"Earth\", \"Earth\", \"Venus\", \"Pluto\"))\n",
    "var uniquePlanets = planets1.distinct()\n",
    "println(uniquePlanets)"
   ]
  },
  {
   "cell_type": "code",
   "execution_count": null,
   "id": "4473b023",
   "metadata": {},
   "outputs": [],
   "source": []
  }
 ],
 "metadata": {
  "kernelspec": {
   "display_name": "Kotlin",
   "language": "kotlin",
   "name": "kotlin"
  },
  "language_info": {
   "codemirror_mode": "text/x-kotlin",
   "file_extension": ".kt",
   "mimetype": "text/x-kotlin",
   "name": "kotlin",
   "nbconvert_exporter": "",
   "pygments_lexer": "kotlin",
   "version": "1.7.0-dev-1825"
  }
 },
 "nbformat": 4,
 "nbformat_minor": 5
}
