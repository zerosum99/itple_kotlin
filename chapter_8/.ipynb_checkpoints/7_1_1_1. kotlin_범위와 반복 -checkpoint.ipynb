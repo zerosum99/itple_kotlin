{
 "cells": [
  {
   "cell_type": "markdown",
   "id": "a49f7425",
   "metadata": {},
   "source": [
    "## 범위와 반복"
   ]
  },
  {
   "cell_type": "markdown",
   "id": "3204affc",
   "metadata": {},
   "source": [
    "### 범위클래스"
   ]
  },
  {
   "cell_type": "code",
   "execution_count": 1,
   "id": "6a8a56d9-2c4f-494b-8cf0-3a3c5fd97951",
   "metadata": {},
   "outputs": [
    {
     "data": {
      "text/plain": [
       "kotlin.ranges.IntRange$Companion@77b14724"
      ]
     },
     "execution_count": 1,
     "metadata": {},
     "output_type": "execute_result"
    }
   ],
   "source": [
    "kotlin.ranges.IntRange"
   ]
  },
  {
   "cell_type": "code",
   "execution_count": 2,
   "id": "9187ff0f",
   "metadata": {},
   "outputs": [
    {
     "data": {
      "text/plain": [
       "kotlin.ranges.CharRange$Companion@10b9db7b"
      ]
     },
     "execution_count": 2,
     "metadata": {},
     "output_type": "execute_result"
    }
   ],
   "source": [
    "kotlin.ranges.CharRange"
   ]
  },
  {
   "cell_type": "code",
   "execution_count": 3,
   "id": "0c50e4f7",
   "metadata": {},
   "outputs": [
    {
     "data": {
      "text/plain": [
       "kotlin.ranges.LongRange$Companion@34cdeda2"
      ]
     },
     "execution_count": 3,
     "metadata": {},
     "output_type": "execute_result"
    }
   ],
   "source": [
    "kotlin.ranges.LongRange"
   ]
  },
  {
   "cell_type": "code",
   "execution_count": 4,
   "id": "1ef770b7",
   "metadata": {},
   "outputs": [],
   "source": [
    "fun Any.dir() : Set<String> {\n",
    "    val a = this.javaClass.kotlin\n",
    "    println(a.simpleName)\n",
    "    var ll = mutableListOf<String>()\n",
    "    for (i in a.members) {\n",
    "        ll.add(i.name)\n",
    "    }\n",
    "    return ll.toSet() \n",
    "}"
   ]
  },
  {
   "cell_type": "code",
   "execution_count": 5,
   "id": "874a5706",
   "metadata": {},
   "outputs": [
    {
     "name": "stdout",
     "output_type": "stream",
     "text": [
      "IntRange\n",
      "[endInclusive, start, contains, equals, hashCode, isEmpty, toString, first, last, step, forEach, iterator, spliterator]\n",
      "13\n"
     ]
    }
   ],
   "source": [
    "val intR = (1..5).dir()\n",
    "println(intR)\n",
    "println(intR.count())"
   ]
  },
  {
   "cell_type": "code",
   "execution_count": 6,
   "id": "ed4a4481",
   "metadata": {},
   "outputs": [
    {
     "name": "stdout",
     "output_type": "stream",
     "text": [
      "LongRange\n",
      "13\n"
     ]
    }
   ],
   "source": [
    "val longR =(1L..5L).dir()\n",
    "println(longR.count())"
   ]
  },
  {
   "cell_type": "code",
   "execution_count": 7,
   "id": "1de1f7de",
   "metadata": {},
   "outputs": [
    {
     "name": "stdout",
     "output_type": "stream",
     "text": [
      "CharRange\n",
      "13\n"
     ]
    }
   ],
   "source": [
    "val charR =('a'..'b').dir()\n",
    "println(charR.count())"
   ]
  },
  {
   "cell_type": "code",
   "execution_count": 8,
   "id": "e4df24bc",
   "metadata": {},
   "outputs": [
    {
     "data": {
      "text/plain": [
       "13"
      ]
     },
     "execution_count": 8,
     "metadata": {},
     "output_type": "execute_result"
    }
   ],
   "source": [
    "intR.intersect(longR).count()"
   ]
  },
  {
   "cell_type": "code",
   "execution_count": 9,
   "id": "6666c658",
   "metadata": {},
   "outputs": [
    {
     "data": {
      "text/plain": [
       "13"
      ]
     },
     "execution_count": 9,
     "metadata": {},
     "output_type": "execute_result"
    }
   ],
   "source": [
    "intR.intersect(charR).count()"
   ]
  },
  {
   "cell_type": "code",
   "execution_count": 10,
   "id": "6145bb9c",
   "metadata": {},
   "outputs": [
    {
     "data": {
      "text/plain": [
       "13"
      ]
     },
     "execution_count": 10,
     "metadata": {},
     "output_type": "execute_result"
    }
   ],
   "source": [
    "longR.intersect(charR).count()"
   ]
  },
  {
   "cell_type": "code",
   "execution_count": 11,
   "id": "380a5dee",
   "metadata": {},
   "outputs": [
    {
     "name": "stdout",
     "output_type": "stream",
     "text": [
      "ComparableRange\n",
      "[endInclusive, start, equals, hashCode, toString, contains, isEmpty]\n",
      "7\n"
     ]
    }
   ],
   "source": [
    "val strR = (\"abc\"..\"zoo\").dir()\n",
    "println(strR)\n",
    "println(strR.count())"
   ]
  },
  {
   "cell_type": "code",
   "execution_count": 12,
   "id": "3b648951",
   "metadata": {},
   "outputs": [
    {
     "data": {
      "text/plain": [
       "7"
      ]
     },
     "execution_count": 12,
     "metadata": {},
     "output_type": "execute_result"
    }
   ],
   "source": [
    "intR.intersect(strR).count()"
   ]
  },
  {
   "cell_type": "code",
   "execution_count": null,
   "id": "5cab6e26",
   "metadata": {},
   "outputs": [],
   "source": []
  },
  {
   "cell_type": "markdown",
   "id": "a93e43af",
   "metadata": {},
   "source": [
    "## 반복처리"
   ]
  },
  {
   "cell_type": "code",
   "execution_count": null,
   "id": "c691e58a",
   "metadata": {},
   "outputs": [],
   "source": []
  },
  {
   "cell_type": "code",
   "execution_count": 13,
   "id": "10a7f627",
   "metadata": {},
   "outputs": [],
   "source": [
    "fun IntRange.info() {\n",
    "    println(\"start : \" + this.start)\n",
    "    println(\"last  : \" + this.last)\n",
    "    println(\"step  : \" + this.step)\n",
    "}"
   ]
  },
  {
   "cell_type": "markdown",
   "id": "4c935a08",
   "metadata": {},
   "source": [
    "### 정방향 반복 \n",
    "\n",
    "start..end\n",
    "위의 Range 표현식은 start..end와 같이 간단히 표현할 수 있습니다."
   ]
  },
  {
   "cell_type": "code",
   "execution_count": 14,
   "id": "f934ad67",
   "metadata": {},
   "outputs": [
    {
     "name": "stdout",
     "output_type": "stream",
     "text": [
      "start : 1\n",
      "last  : 5\n",
      "step  : 1\n"
     ]
    }
   ],
   "source": [
    "val intRange : IntRange = 1..5\n",
    "\n",
    "intRange.info()"
   ]
  },
  {
   "cell_type": "markdown",
   "id": "623101cb-d028-441a-86d9-43997452a83b",
   "metadata": {},
   "source": [
    "### 반복문의 Range\n",
    "Range를 이용하여 몇번 반복하는 반복문을 쉽게 구현할 수 있습니다.\n",
    "\n"
   ]
  },
  {
   "cell_type": "code",
   "execution_count": 15,
   "id": "2a1d9a30",
   "metadata": {},
   "outputs": [],
   "source": [
    "val intRange2 = 1.rangeTo(5)"
   ]
  },
  {
   "cell_type": "code",
   "execution_count": 16,
   "id": "5aeb5ce4",
   "metadata": {},
   "outputs": [
    {
     "data": {
      "text/plain": [
       "class kotlin.ranges.IntRange"
      ]
     },
     "execution_count": 16,
     "metadata": {},
     "output_type": "execute_result"
    }
   ],
   "source": [
    "intRange2::class"
   ]
  },
  {
   "cell_type": "code",
   "execution_count": 17,
   "id": "964052c7",
   "metadata": {},
   "outputs": [
    {
     "name": "stdout",
     "output_type": "stream",
     "text": [
      "1 2 3 4 5 "
     ]
    }
   ],
   "source": [
    "for (i in intRange)  { \n",
    "    print(\"$i \")\n",
    "}"
   ]
  },
  {
   "cell_type": "code",
   "execution_count": 18,
   "id": "a8ee274b-5bd7-4d26-8784-47631e374b60",
   "metadata": {},
   "outputs": [
    {
     "name": "stdout",
     "output_type": "stream",
     "text": [
      "1,2,3,4,5,"
     ]
    }
   ],
   "source": [
    "intRange.forEach {print(\"${it},\")}"
   ]
  },
  {
   "cell_type": "code",
   "execution_count": 19,
   "id": "d660861d-d21a-46d5-b0cc-20bd0fa703a4",
   "metadata": {},
   "outputs": [
    {
     "name": "stdout",
     "output_type": "stream",
     "text": [
      "1 2 3 4 5 "
     ]
    }
   ],
   "source": [
    "for (i in intRange2) {\n",
    "    print(\"$i \")\n",
    "}"
   ]
  },
  {
   "cell_type": "code",
   "execution_count": 20,
   "id": "452e02a8",
   "metadata": {},
   "outputs": [
    {
     "name": "stdout",
     "output_type": "stream",
     "text": [
      "1,2,3,4,5,"
     ]
    }
   ],
   "source": [
    "intRange2.forEach {print(\"${it},\")}"
   ]
  },
  {
   "cell_type": "code",
   "execution_count": 21,
   "id": "b890cc4f-a092-4707-b48e-74b1ab2ca651",
   "metadata": {},
   "outputs": [
    {
     "name": "stdout",
     "output_type": "stream",
     "text": [
      "1 2 3 4 5 6 7 8 9 10 "
     ]
    }
   ],
   "source": [
    "for (i in 1.rangeTo(10)) {\n",
    "    print(\"$i \")\n",
    "}"
   ]
  },
  {
   "cell_type": "markdown",
   "id": "b2cc3739-0dc1-435a-8ec9-1a9ada044ad8",
   "metadata": {},
   "source": [
    "### 튜플 클래스에는 반복자가 없다.\n",
    "- 그래서 컬렉션의 리스트 등으로 변환해서 순환문을 처리"
   ]
  },
  {
   "cell_type": "code",
   "execution_count": 22,
   "id": "80b8b7de-8956-44f8-98db-07db2d10f80c",
   "metadata": {},
   "outputs": [
    {
     "name": "stdout",
     "output_type": "stream",
     "text": [
      "class kotlin.Pair\n",
      "1, 5, "
     ]
    }
   ],
   "source": [
    "val pair = ( 1 to 5)\n",
    "println(pair:: class)\n",
    "\n",
    "for (i in pair.toList()) print(\"$i, \")"
   ]
  },
  {
   "cell_type": "markdown",
   "id": "768cdfa9-2c11-4d1a-a998-a33df0731be9",
   "metadata": {},
   "source": [
    "### 마지막을 포함하지 않거나 단계를 뛰어넘기"
   ]
  },
  {
   "cell_type": "code",
   "execution_count": 23,
   "id": "9438b7f8",
   "metadata": {},
   "outputs": [
    {
     "name": "stdout",
     "output_type": "stream",
     "text": [
      "1 2 3 4 1 3 "
     ]
    }
   ],
   "source": [
    "for (i in (1).until(5)) print(\"$i \")\n",
    "\n",
    "for (i in 1 until 5 step 2) print(\"$i \")"
   ]
  },
  {
   "cell_type": "markdown",
   "id": "87904d31-ab8f-42b8-8006-1ae0a28e95da",
   "metadata": {},
   "source": [
    "### Backward\n",
    "반대 방향으로 순회하려면 downTo를 사용해야 합니다.\n",
    "\n",
    "다음 코드는 5에서 3으로 감소하면서 순회하는 반복문입니다."
   ]
  },
  {
   "cell_type": "code",
   "execution_count": 24,
   "id": "93130b41",
   "metadata": {},
   "outputs": [
    {
     "name": "stdout",
     "output_type": "stream",
     "text": [
      "5 4 3 2 1 \n",
      "e d c b a "
     ]
    }
   ],
   "source": [
    "for (i in (5).downTo(1)) print(\"$i \")\n",
    "println()\n",
    "for (i in ('e').downTo('a')) print(\"$i \")"
   ]
  },
  {
   "cell_type": "markdown",
   "id": "c51a60e4-5090-425b-9872-5d500e52a7e5",
   "metadata": {},
   "source": [
    "### 건너뛰기 처리하기"
   ]
  },
  {
   "cell_type": "code",
   "execution_count": 25,
   "id": "79808d01",
   "metadata": {},
   "outputs": [
    {
     "name": "stdout",
     "output_type": "stream",
     "text": [
      "30 28 26 24 22 20 18 16 14 12 10 8 6 4 2 \n",
      "1 4 7 10 13 16 19 22 25 28 "
     ]
    }
   ],
   "source": [
    "for (i in 30.downTo(1).step(2)) print(\"$i \")\n",
    "println()\n",
    "\n",
    "for (i in 1.rangeTo(30) step 3) print(\"$i \")"
   ]
  },
  {
   "cell_type": "markdown",
   "id": "c595087d",
   "metadata": {},
   "source": [
    "## ComparableRange 처리"
   ]
  },
  {
   "cell_type": "markdown",
   "id": "382f4688",
   "metadata": {},
   "source": [
    "### 비교만 가능"
   ]
  },
  {
   "cell_type": "code",
   "execution_count": 26,
   "id": "407e588f",
   "metadata": {},
   "outputs": [],
   "source": [
    "fun ClosedRange<String>.info() {\n",
    "    println(\"start : \" + this.start)\n",
    "    println(\"last  : \" + this.endInclusive)\n",
    "}"
   ]
  },
  {
   "cell_type": "code",
   "execution_count": 27,
   "id": "82adc4fc",
   "metadata": {},
   "outputs": [
    {
     "name": "stdout",
     "output_type": "stream",
     "text": [
      "start : maa\n",
      "last  : mas\n"
     ]
    }
   ],
   "source": [
    "val closedRange : ClosedRange<String> = \"maa\"..\"mas\"\n",
    "\n",
    "closedRange.info()"
   ]
  },
  {
   "cell_type": "code",
   "execution_count": 28,
   "id": "a5d5b287",
   "metadata": {},
   "outputs": [
    {
     "name": "stdout",
     "output_type": "stream",
     "text": [
      "false\n",
      "true\n"
     ]
    }
   ],
   "source": [
    "println(closedRange.isEmpty())\n",
    "println(closedRange.contains(\"map\"))"
   ]
  },
  {
   "cell_type": "code",
   "execution_count": 29,
   "id": "eebe52e1",
   "metadata": {},
   "outputs": [
    {
     "data": {
      "text/plain": [
       "true"
      ]
     },
     "execution_count": 29,
     "metadata": {},
     "output_type": "execute_result"
    }
   ],
   "source": [
    "\"maj\" in closedRange"
   ]
  },
  {
   "cell_type": "code",
   "execution_count": null,
   "id": "80a5b0ab",
   "metadata": {},
   "outputs": [],
   "source": []
  },
  {
   "cell_type": "code",
   "execution_count": null,
   "id": "af05ce98",
   "metadata": {},
   "outputs": [],
   "source": []
  },
  {
   "cell_type": "code",
   "execution_count": null,
   "id": "a3f4aed5",
   "metadata": {},
   "outputs": [],
   "source": []
  },
  {
   "cell_type": "code",
   "execution_count": null,
   "id": "3122e9fd",
   "metadata": {},
   "outputs": [],
   "source": []
  }
 ],
 "metadata": {
  "kernelspec": {
   "display_name": "Kotlin",
   "language": "kotlin",
   "name": "kotlin"
  },
  "language_info": {
   "codemirror_mode": "text/x-kotlin",
   "file_extension": ".kt",
   "mimetype": "text/x-kotlin",
   "name": "kotlin",
   "nbconvert_exporter": "",
   "pygments_lexer": "kotlin",
   "version": "1.6.0-dev-3567"
  }
 },
 "nbformat": 4,
 "nbformat_minor": 5
}
