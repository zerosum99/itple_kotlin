{
 "cells": [
  {
   "cell_type": "markdown",
   "id": "802838e3",
   "metadata": {},
   "source": [
    "## 시퀀스\n",
    "\n",
    "\n",
    "- 1. Lazy evaluation과 Eager evaluation의 차이점\n",
    "\n",
    "> Lazy evaluation은 지금 하지 않아도 되는 연산은 최대한 뒤로 미루고, 어쩔 수 없이 연산이 필요한 순간에 연산을 수행하는 방식입니다."
   ]
  },
  {
   "cell_type": "code",
   "execution_count": 1,
   "id": "ad1de22b",
   "metadata": {},
   "outputs": [
    {
     "data": {
      "text/plain": [
       "class kotlin.sequences.Sequence"
      ]
     },
     "execution_count": 1,
     "metadata": {},
     "output_type": "execute_result"
    }
   ],
   "source": [
    "Sequence::class"
   ]
  },
  {
   "cell_type": "code",
   "execution_count": 2,
   "id": "0b778ffb",
   "metadata": {},
   "outputs": [],
   "source": [
    "fun Sequence<Int>.dir() : Set<String> {\n",
    "    val a = this.javaClass.kotlin\n",
    "    println(a.simpleName)\n",
    "    var ll = mutableListOf<String>()\n",
    "    for (i in a.members) {\n",
    "        ll.add(i.name)\n",
    "    }\n",
    "    return ll.toSet() \n",
    "}"
   ]
  },
  {
   "cell_type": "code",
   "execution_count": 3,
   "id": "2d27bd6e",
   "metadata": {},
   "outputs": [],
   "source": [
    "val a = listOf(1,2,3).asSequence()"
   ]
  },
  {
   "cell_type": "code",
   "execution_count": 4,
   "id": "85819cfe",
   "metadata": {},
   "outputs": [
    {
     "name": "stdout",
     "output_type": "stream",
     "text": [
      "$inlined$Sequence$1\n"
     ]
    },
    {
     "data": {
      "text/plain": [
       "[iterator, equals, hashCode, toString]"
      ]
     },
     "execution_count": 4,
     "metadata": {},
     "output_type": "execute_result"
    }
   ],
   "source": [
    "a.dir()"
   ]
  },
  {
   "cell_type": "code",
   "execution_count": null,
   "id": "9eb1f28f",
   "metadata": {},
   "outputs": [],
   "source": []
  },
  {
   "cell_type": "code",
   "execution_count": 5,
   "id": "4071225a",
   "metadata": {},
   "outputs": [
    {
     "name": "stdout",
     "output_type": "stream",
     "text": [
      "5\n"
     ]
    }
   ],
   "source": [
    "val oddNumbersLessThan10 = generateSequence(1) { if (it < 8) it + 2 else null }\n",
    "\n",
    "println(oddNumbersLessThan10.count())"
   ]
  },
  {
   "cell_type": "code",
   "execution_count": null,
   "id": "ce2f8b18",
   "metadata": {},
   "outputs": [],
   "source": []
  },
  {
   "cell_type": "code",
   "execution_count": 6,
   "id": "e044287e",
   "metadata": {},
   "outputs": [],
   "source": [
    "val numbersSequence1 = sequenceOf(\"one\", \"two\", \"three\", \"four\")"
   ]
  },
  {
   "cell_type": "code",
   "execution_count": 7,
   "id": "a0772348-bbee-4e42-9228-af5bde74aefd",
   "metadata": {},
   "outputs": [],
   "source": [
    "val numbers = listOf(\"one\", \"two\", \"three\", \"four\")\n",
    "val numbersSequence2 = numbers.asSequence()"
   ]
  },
  {
   "cell_type": "code",
   "execution_count": 8,
   "id": "14c276ef",
   "metadata": {},
   "outputs": [
    {
     "data": {
      "text/plain": [
       "false"
      ]
     },
     "execution_count": 8,
     "metadata": {},
     "output_type": "execute_result"
    }
   ],
   "source": [
    "numbersSequence1.equals(numbersSequence2)"
   ]
  },
  {
   "cell_type": "code",
   "execution_count": null,
   "id": "f2f68f93",
   "metadata": {},
   "outputs": [],
   "source": []
  },
  {
   "cell_type": "markdown",
   "id": "84f73396",
   "metadata": {},
   "source": [
    "##  컬렉션과 시퀀스 처리비교"
   ]
  },
  {
   "cell_type": "code",
   "execution_count": 9,
   "id": "8646334c",
   "metadata": {},
   "outputs": [],
   "source": [
    "val words = \"The quick brown fox jumps over the lazy dog\".split(\" \")"
   ]
  },
  {
   "cell_type": "code",
   "execution_count": 10,
   "id": "1de0c3b8",
   "metadata": {},
   "outputs": [],
   "source": [
    "fun iterableCheck(x:List<String>) {\n",
    "    val lengthsList = words.filter { println(\"filter: $it\"); it.length > 3 }\n",
    "    .map { println(\"length: ${it.length}\"); it.length }\n",
    "    .take(4)\n",
    "\n",
    "   println(\"Lengths of first 4 words longer than 3 chars:\")\n",
    "   println(lengthsList)\n",
    "}"
   ]
  },
  {
   "cell_type": "code",
   "execution_count": 11,
   "id": "3f557b71",
   "metadata": {},
   "outputs": [
    {
     "name": "stdout",
     "output_type": "stream",
     "text": [
      "filter: The\n",
      "filter: quick\n",
      "filter: brown\n",
      "filter: fox\n",
      "filter: jumps\n",
      "filter: over\n",
      "filter: the\n",
      "filter: lazy\n",
      "filter: dog\n",
      "length: 5\n",
      "length: 5\n",
      "length: 5\n",
      "length: 4\n",
      "length: 4\n",
      "Lengths of first 4 words longer than 3 chars:\n",
      "[5, 5, 5, 4]\n"
     ]
    }
   ],
   "source": [
    "iterableCheck(words)"
   ]
  },
  {
   "cell_type": "code",
   "execution_count": null,
   "id": "65b0bc84",
   "metadata": {},
   "outputs": [],
   "source": []
  },
  {
   "cell_type": "code",
   "execution_count": 12,
   "id": "a5b28571",
   "metadata": {},
   "outputs": [],
   "source": [
    "val wordsSequence = words.asSequence()"
   ]
  },
  {
   "cell_type": "code",
   "execution_count": 13,
   "id": "a58a33f5",
   "metadata": {},
   "outputs": [],
   "source": [
    "fun seqCheck(x:Sequence<String>) {\n",
    "    val lengthsSequence = wordsSequence.filter { println(\"filter: $it\"); it.length > 3 }\n",
    "    .map { println(\"length: ${it.length}\"); it.length }\n",
    "    .take(4)\n",
    "\n",
    "    println(\"Lengths of first 4 words longer than 3 chars\")\n",
    "    // terminal operation: obtaining the result as a List\n",
    "    println(lengthsSequence.toList())\n",
    "}"
   ]
  },
  {
   "cell_type": "code",
   "execution_count": 14,
   "id": "32c9ebfd",
   "metadata": {},
   "outputs": [
    {
     "name": "stdout",
     "output_type": "stream",
     "text": [
      "Lengths of first 4 words longer than 3 chars\n",
      "filter: The\n",
      "filter: quick\n",
      "length: 5\n",
      "filter: brown\n",
      "length: 5\n",
      "filter: fox\n",
      "filter: jumps\n",
      "length: 5\n",
      "filter: over\n",
      "length: 4\n",
      "[5, 5, 5, 4]\n"
     ]
    }
   ],
   "source": [
    "seqCheck(wordsSequence)"
   ]
  },
  {
   "cell_type": "markdown",
   "id": "d2d870d2",
   "metadata": {},
   "source": [
    "## 시퀀스 처리 후에 리스트 으로 변경"
   ]
  },
  {
   "cell_type": "code",
   "execution_count": 15,
   "id": "1d17178d",
   "metadata": {},
   "outputs": [
    {
     "data": {
      "text/plain": [
       "kotlin.sequences.TakeSequence@5b619d14"
      ]
     },
     "execution_count": 15,
     "metadata": {},
     "output_type": "execute_result"
    }
   ],
   "source": [
    "val fruits = listOf(\"apple\", \"banana\", \"kiwi\", \"cherry\")\n",
    "fruits.asSequence()\n",
    "    .filter {\n",
    "        println(\"checking the length of $it\")\n",
    "        it.length > 5\n",
    "    }\n",
    "    .map {\n",
    "        println(\"mapping to the length of $it\")\n",
    "        \"${it.length}\"\n",
    "    }\n",
    "    .take(1)"
   ]
  },
  {
   "cell_type": "code",
   "execution_count": 16,
   "id": "31154065",
   "metadata": {},
   "outputs": [
    {
     "name": "stdout",
     "output_type": "stream",
     "text": [
      "checking the length of apple\n",
      "checking the length of banana\n",
      "mapping to the length of banana\n"
     ]
    },
    {
     "data": {
      "text/plain": [
       "[6]"
      ]
     },
     "execution_count": 16,
     "metadata": {},
     "output_type": "execute_result"
    }
   ],
   "source": [
    "fruits.asSequence()\n",
    "    .filter {\n",
    "        println(\"checking the length of $it\")\n",
    "        it.length > 5\n",
    "    }\n",
    "    .map {\n",
    "        println(\"mapping to the length of $it\")\n",
    "        \"${it.length}\"\n",
    "    }\n",
    "    .take(1).toList()"
   ]
  },
  {
   "cell_type": "code",
   "execution_count": null,
   "id": "a3a9dab3",
   "metadata": {},
   "outputs": [],
   "source": []
  },
  {
   "cell_type": "markdown",
   "id": "ed3abd8e-360b-4dcd-bf02-22b19db87983",
   "metadata": {},
   "source": [
    "##  객체로 시퀀스 처리"
   ]
  },
  {
   "cell_type": "code",
   "execution_count": 17,
   "id": "30f32c4b-9b6c-4a91-ab51-16012e7e5414",
   "metadata": {},
   "outputs": [],
   "source": [
    "class People(val name:String, val age:Int)"
   ]
  },
  {
   "cell_type": "code",
   "execution_count": 18,
   "id": "aa6a2b20-0d4a-44dc-802d-9692477be926",
   "metadata": {},
   "outputs": [],
   "source": [
    "val people = listOf(People(\"dahl\",55), People(\"moon\",33))"
   ]
  },
  {
   "cell_type": "code",
   "execution_count": 19,
   "id": "389df2a2-4866-4084-a6e8-d413088c9938",
   "metadata": {},
   "outputs": [
    {
     "data": {
      "text/plain": [
       "[dahl]"
      ]
     },
     "execution_count": 19,
     "metadata": {},
     "output_type": "execute_result"
    }
   ],
   "source": [
    "people.map(People::name).filter {it.startsWith(\"d\")}"
   ]
  },
  {
   "cell_type": "code",
   "execution_count": 20,
   "id": "c9bd3619-a6b8-4ea6-b97e-70038b49f7da",
   "metadata": {},
   "outputs": [
    {
     "data": {
      "text/plain": [
       "[dahl]"
      ]
     },
     "execution_count": 20,
     "metadata": {},
     "output_type": "execute_result"
    }
   ],
   "source": [
    "people.asSequence().map(People::name).filter {it.startsWith(\"d\")}.toList()"
   ]
  },
  {
   "cell_type": "code",
   "execution_count": null,
   "id": "605a3a26-6005-4db6-ac80-57f3af970fc7",
   "metadata": {},
   "outputs": [],
   "source": []
  }
 ],
 "metadata": {
  "kernelspec": {
   "display_name": "Kotlin",
   "language": "kotlin",
   "name": "kotlin"
  },
  "language_info": {
   "codemirror_mode": "text/x-kotlin",
   "file_extension": ".kt",
   "mimetype": "text/x-kotlin",
   "name": "kotlin",
   "nbconvert_exporter": "",
   "pygments_lexer": "kotlin",
   "version": "1.7.0-dev-1825"
  }
 },
 "nbformat": 4,
 "nbformat_minor": 5
}
