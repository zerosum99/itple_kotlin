{
 "cells": [
  {
   "cell_type": "markdown",
   "id": "9c76df21",
   "metadata": {},
   "source": [
    "## 처리할 메소드\n",
    "\n",
    "map, mapIndexed, mapIndexedNotNull,mapIndexedNotNullTo, \n",
    "mapIndexedTo, mapNotNull, mapNotNullTo, mapTo\n",
    "\n",
    "flatMap, flatMapIndexed, flatMapIndexedTo, flatMapTo, flatten, \n",
    "fold, foldIndexed,  , \n",
    "\n",
    "filter, filterIndexed, filterIndexedTo, filterIsInstance, filterIsInstanceTo,\n",
    "filterNot, filterNotNull, filterNotNullTo, filterNotTo, filterTo,\n",
    "\n",
    "reduce, reduceIndexed, reduceIndexedOrNull, \n",
    "reduceOrNull,\n",
    "\n",
    "\n",
    "sum, sumBy, sumByDouble, sumOf,"
   ]
  },
  {
   "cell_type": "markdown",
   "id": "9362ad83",
   "metadata": {},
   "source": [
    "## 맵 기본 처리"
   ]
  },
  {
   "cell_type": "code",
   "execution_count": 1,
   "id": "1227cdbf",
   "metadata": {},
   "outputs": [
    {
     "name": "stdout",
     "output_type": "stream",
     "text": [
      "SEOULTOKYOSANGHAIJEJU\n",
      "SEOULTOKYOSANGHAIJEJU\n",
      "SEOULTOKYOSANGHAIJEJU\n",
      "SEOULTOKYOSANGHAIJEJU\n",
      "SEOULTOKYOSANGHAIJEJU"
     ]
    }
   ],
   "source": [
    "val cities = listOf(\"Seoul\",\"Tokyo\",\"Sanghai\",\"Jeju\")\n",
    "\n",
    "cities.map({ str:String -> str.uppercase() })           // 맵은 변환하기 위해 람다표현식을 받는다 \n",
    "      .forEach { print(it) }\n",
    "println()\n",
    "                                                         // 람다표현식을 실행연산자와 분리 \n",
    "cities.map() { str:String -> str.uppercase() }\n",
    "      .forEach { print(it) }\n",
    "println()\n",
    "\n",
    "cities.map { str:String -> str.uppercase() }             // 람다표현식만 인자로 받아서 실행연산 제거\n",
    "      .forEach { print(it) }\n",
    "println()\n",
    "\n",
    "cities.map { it.uppercase() }                            // 인자가 하나여서 it 사용 \n",
    "      .forEach { print(it) }\n",
    "println()\n",
    "\n",
    "cities.map(String::uppercase)                            // 클래스의 메소드를 직접 참조해서 처리가능\n",
    "      .forEach { print(it) }"
   ]
  },
  {
   "cell_type": "code",
   "execution_count": null,
   "id": "8bb577b0",
   "metadata": {},
   "outputs": [],
   "source": []
  },
  {
   "cell_type": "markdown",
   "id": "2f13f3a1",
   "metadata": {},
   "source": [
    "## 맵 필터"
   ]
  },
  {
   "cell_type": "code",
   "execution_count": 11,
   "id": "f080327d",
   "metadata": {},
   "outputs": [
    {
     "name": "stdout",
     "output_type": "stream",
     "text": [
      "[포피, 멍이, 몽이, 몰리, 지미미, 하미]\n",
      "포피 is a 토끼\n",
      "[지미미]\n",
      "{key11=11}\n"
     ]
    }
   ],
   "source": [
    "data class Animals(var name: String,                   // 데이터 클래스 정의 \n",
    "                   var species: String, \n",
    "                   var age: Int )\n",
    "\n",
    "var animals = listOf(                                  //  데이터 클래스를 원소로한 리스트 생성 \n",
    "        Animals(\"포피\", \"토끼\", 4),\n",
    "        Animals(\"멍이\", \"개\", 8),\n",
    "        Animals(\"몽이\", \"개\", 12),\n",
    "        Animals(\"몰리\", \"돼지\", 3),\n",
    "        Animals(\"지미미\", \"고양이\", 10),\n",
    "        Animals(\"하미\", \"원숭이\", 2)\n",
    ")\n",
    "\n",
    "var names = animals.map {it.name }                     // 데이터 클래스 내의 이름만 변환\n",
    "println(names)\n",
    "\n",
    "var names1 = animals.map {it.name +\n",
    "                          \" is a \" + it.species}       // 데이터 클래스의 이름과 종을 문자열로  변환\n",
    "                                        \n",
    "println(names1[0])\n",
    "\n",
    "var nameF = animals.filter {it.name.length == 3 }      // 이름이 길이가 5인 경우만 추출하고 이름도 추출\n",
    "            .map {it.name } \n",
    "println(nameF)\n",
    "\n",
    "val numbersMap = mapOf(\"key1\" to 1, \"key2\" to 2,        // 맵을 만든다 \n",
    "                       \"key3\" to 3, \"key11\" to 11)\n",
    "val filteredMap = numbersMap.filter {(key, value)       // 맵은 키와 값으로 들어옴\n",
    "                    -> key.endsWith(\"1\") && value > 10} // 키의 조건과 값의 조건을 조건식으로 묶어서 처리\n",
    "println(filteredMap)"
   ]
  },
  {
   "cell_type": "code",
   "execution_count": null,
   "id": "81535f70",
   "metadata": {},
   "outputs": [],
   "source": []
  },
  {
   "cell_type": "code",
   "execution_count": null,
   "id": "62a760dc",
   "metadata": {},
   "outputs": [],
   "source": []
  },
  {
   "cell_type": "markdown",
   "id": "0ffe0c60",
   "metadata": {},
   "source": [
    "## 플랫"
   ]
  },
  {
   "cell_type": "code",
   "execution_count": 12,
   "id": "cb2b322b",
   "metadata": {},
   "outputs": [
    {
     "name": "stdout",
     "output_type": "stream",
     "text": [
      "12\n",
      "[포피, 피포, 멍이, 이멍]\n",
      "[멍이, 지미미, 몽이]\n"
     ]
    }
   ],
   "source": [
    "val flat = animals.map {a -> a.name}                   // 이름만 가진 리스트로 ㅊㅊㄹ  \n",
    "    .map(String::lowercase)                            // 이름을 소문자로 변환\n",
    "    .map {name -> listOf(name, name.reversed())}       // 이름과 역이름 두개의 리스트의 리스트\n",
    "    .flatten()                                         // 하나의 리스트로 변환\n",
    "    \n",
    "println(flat.size)\n",
    "println(flat.subList(0,4))\n",
    "\n",
    "val sortby = animals.filter { ani -> ani.age > 4}      // 나이로 필터링\n",
    "                    .sortedBy { ani -> ani.age }       // 나이 순으로 정렬 \n",
    "                    .map {ani -> ani.name}             // 이름을 추출 \n",
    "                    \n",
    "println(sortby)     "
   ]
  },
  {
   "cell_type": "code",
   "execution_count": null,
   "id": "f1a9defa",
   "metadata": {},
   "outputs": [],
   "source": []
  },
  {
   "cell_type": "markdown",
   "id": "e3dcae8c",
   "metadata": {},
   "source": [
    "## 리듀스"
   ]
  },
  {
   "cell_type": "code",
   "execution_count": 5,
   "id": "8677643d",
   "metadata": {},
   "outputs": [
    {
     "name": "stdout",
     "output_type": "stream",
     "text": [
      "1591\n",
      "1591\n",
      "1591\n",
      "1591\n"
     ]
    }
   ],
   "source": [
    "var amounts = listOf(256,45,344,775,121,50)          // 리스트 생성 \n",
    "    \n",
    "var totalAmount = 0\n",
    "for (index in amounts.indices) {                     // 순환문으로 내부 원소 계산 \n",
    "    totalAmount += amounts[index]\n",
    "}\n",
    "println(totalAmount)\n",
    "\n",
    "totalAmount = amounts.reduce {total,x -> total + x}  // 람다표현식으로 합산 \n",
    "println(totalAmount)\n",
    "\n",
    "totalAmount = amounts.fold(0) {total,x -> total + x} // 초기값을 인자로 받고 람다표현식으로 합산\n",
    "println(totalAmount)\n",
    "\n",
    "totalAmount = amounts.sum()                          // 함산 메소드 실행\n",
    "println(totalAmount)"
   ]
  },
  {
   "cell_type": "code",
   "execution_count": null,
   "id": "bb6a5dd9",
   "metadata": {},
   "outputs": [],
   "source": []
  },
  {
   "cell_type": "code",
   "execution_count": null,
   "id": "c3d3597d",
   "metadata": {},
   "outputs": [],
   "source": []
  }
 ],
 "metadata": {
  "kernelspec": {
   "display_name": "Kotlin",
   "language": "kotlin",
   "name": "kotlin"
  },
  "language_info": {
   "codemirror_mode": "text/x-kotlin",
   "file_extension": ".kt",
   "mimetype": "text/x-kotlin",
   "name": "kotlin",
   "nbconvert_exporter": "",
   "pygments_lexer": "kotlin",
   "version": "1.7.0-dev-1825"
  }
 },
 "nbformat": 4,
 "nbformat_minor": 5
}
