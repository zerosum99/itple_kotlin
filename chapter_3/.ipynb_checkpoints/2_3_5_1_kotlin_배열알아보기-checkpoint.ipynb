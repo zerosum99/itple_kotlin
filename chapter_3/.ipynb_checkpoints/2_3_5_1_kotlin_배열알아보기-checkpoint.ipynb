{
 "cells": [
  {
   "cell_type": "code",
   "execution_count": null,
   "id": "8e1ed728",
   "metadata": {},
   "outputs": [],
   "source": []
  },
  {
   "cell_type": "code",
   "execution_count": 1,
   "id": "764db761",
   "metadata": {},
   "outputs": [],
   "source": [
    "import java.util.Arrays"
   ]
  },
  {
   "cell_type": "code",
   "execution_count": 2,
   "id": "2ada26f9",
   "metadata": {},
   "outputs": [
    {
     "name": "stdout",
     "output_type": "stream",
     "text": [
      "[Ljava.lang.Integer;@1d11bd1b\n",
      "[1, 2, 3, 4] class kotlin.Array\n",
      "[코틀린, 자마] class kotlin.Array\n"
     ]
    }
   ],
   "source": [
    "val arInt = arrayOf(1,2,3,4)\n",
    "val arStr = arrayOf(\"코틀린\",\"자마\")\n",
    "\n",
    "println(arInt)\n",
    "println(Arrays.toString(arInt)+ \" \" + arInt.javaClass.kotlin)\n",
    "println(Arrays.toString(arStr)+ \" \" + arInt.javaClass.kotlin)"
   ]
  },
  {
   "cell_type": "code",
   "execution_count": null,
   "id": "58f64905",
   "metadata": {},
   "outputs": [],
   "source": []
  },
  {
   "cell_type": "code",
   "execution_count": null,
   "id": "fdf77eb9",
   "metadata": {},
   "outputs": [],
   "source": []
  },
  {
   "cell_type": "code",
   "execution_count": 3,
   "id": "397249e2",
   "metadata": {},
   "outputs": [
    {
     "name": "stdout",
     "output_type": "stream",
     "text": [
      "배열의 크기  = 4\n",
      "배열의 원소의 합 =10\n",
      "배열의 최대값 =4\n",
      "배열의 최소값 =1\n",
      "배열의 평균  =2.5\n",
      "배열의 개수  =4\n"
     ]
    }
   ],
   "source": [
    "println(\"배열의 크기  = \" + arInt.size)\n",
    "println(\"배열의 원소의 합 =\" + arInt.sum())\n",
    "println(\"배열의 최대값 =\" + arInt.maxOrNull())\n",
    "println(\"배열의 최소값 =\" + arInt.minOrNull())\n",
    "println(\"배열의 평균  =\" + arInt.average())\n",
    "println(\"배열의 개수  =\" + arInt.count())"
   ]
  },
  {
   "cell_type": "code",
   "execution_count": null,
   "id": "62df6ab9",
   "metadata": {},
   "outputs": [],
   "source": []
  },
  {
   "cell_type": "code",
   "execution_count": 4,
   "id": "59fd2424",
   "metadata": {},
   "outputs": [
    {
     "name": "stdout",
     "output_type": "stream",
     "text": [
      "배열의 크기  = 2\n",
      "배열의 최대값 =코틀린\n",
      "배열의 최소값 =자마\n",
      "배열의 개수  =2\n"
     ]
    }
   ],
   "source": [
    "println(\"배열의 크기  = \" + arStr.size)\n",
    "println(\"배열의 최대값 =\" + arStr.maxOrNull())\n",
    "println(\"배열의 최소값 =\" + arStr.minOrNull())\n",
    "println(\"배열의 개수  =\" + arStr.count())"
   ]
  },
  {
   "cell_type": "code",
   "execution_count": null,
   "id": "ca77a9d3",
   "metadata": {},
   "outputs": [],
   "source": []
  },
  {
   "cell_type": "code",
   "execution_count": 5,
   "id": "e5fca9e9",
   "metadata": {},
   "outputs": [
    {
     "name": "stdout",
     "output_type": "stream",
     "text": [
      "1, 2, 3, 4, \n",
      "코틀린\n",
      "자마\n"
     ]
    }
   ],
   "source": [
    "for (i in arInt) {               // 자동으로 반복자 처리\n",
    "    print(i.toString()+\", \")\n",
    "}\n",
    "println()\n",
    "\n",
    "val x = arStr.indices.iterator()  // 반복자로 변환\n",
    "while (x.hasNext())  {            // 원소가 있는지 확인 \n",
    "    println(arStr.get(x.next()))\n",
    "}"
   ]
  },
  {
   "cell_type": "code",
   "execution_count": null,
   "id": "fae7a2da",
   "metadata": {},
   "outputs": [],
   "source": []
  },
  {
   "cell_type": "code",
   "execution_count": 6,
   "id": "6297f5ac",
   "metadata": {},
   "outputs": [
    {
     "name": "stdout",
     "output_type": "stream",
     "text": [
      "코틀린\n",
      "자마\n",
      "arr[0] -> 코틀린\n",
      "arr[1] -> 자마\n"
     ]
    }
   ],
   "source": [
    "arStr.forEach { println(it)}\n",
    "\n",
    "arStr.forEachIndexed { i,e -> println(\"arr[$i] -> $e\") }"
   ]
  },
  {
   "cell_type": "code",
   "execution_count": null,
   "id": "d015fda3",
   "metadata": {},
   "outputs": [],
   "source": []
  },
  {
   "cell_type": "code",
   "execution_count": 7,
   "id": "bdee6ab7",
   "metadata": {},
   "outputs": [
    {
     "name": "stdout",
     "output_type": "stream",
     "text": [
      "class kotlin.CharArray\n",
      "class kotlin.IntArray\n",
      "class kotlin.LongArray\n",
      "class kotlin.ShortArray\n",
      "class kotlin.ByteArray\n",
      "class kotlin.BooleanArray\n"
     ]
    }
   ],
   "source": [
    "println(charArrayOf('a','b','c')::class)\n",
    "println(intArrayOf(1,2,3,4)::class)\n",
    "println(longArrayOf(1,3,3,4)::class)\n",
    "println(shortArrayOf(1,2,3,4)::class)\n",
    "println(byteArrayOf(1,2,3,4)::class)\n",
    "println(booleanArrayOf(true, false)::class)"
   ]
  },
  {
   "cell_type": "markdown",
   "id": "4de046cd",
   "metadata": {},
   "source": [
    "## 배열 원소 검색 및 갱신 "
   ]
  },
  {
   "cell_type": "code",
   "execution_count": 8,
   "id": "46a0f074",
   "metadata": {},
   "outputs": [
    {
     "name": "stdout",
     "output_type": "stream",
     "text": [
      "a\n",
      "a\n",
      "a\n",
      "[a, b, c]\n",
      "[a, z, x]\n"
     ]
    }
   ],
   "source": [
    "val car = charArrayOf('a','b','c')\n",
    "\n",
    "println(car[0])                  //연산자로 검색\n",
    "println(car.get(0))              //메소드로 검색\n",
    "println(car.getOrElse(0, {' '})) // 인덱스가 없으면 초기값 처리\n",
    "\n",
    "val car1 = car.copyOf()          //다른 배열로 복사\n",
    "car1[1] = 'z'                    //연산자로 갱신\n",
    "car1.set(2,'x')                  //메소드로 갱신\n",
    "\n",
    "println(Arrays.toString(car))    //기존 배열\n",
    "println(Arrays.toString(car1))   //변경된 배열"
   ]
  },
  {
   "cell_type": "code",
   "execution_count": null,
   "id": "7305b353",
   "metadata": {},
   "outputs": [],
   "source": []
  },
  {
   "cell_type": "code",
   "execution_count": 9,
   "id": "e2566541",
   "metadata": {},
   "outputs": [
    {
     "name": "stdout",
     "output_type": "stream",
     "text": [
      "[a, b, c, d]\n",
      "[a, b]\n",
      "a\n",
      "d\n",
      "2\n",
      "true\n",
      "true\n"
     ]
    }
   ],
   "source": [
    "val car = charArrayOf('a','b','c')\n",
    "val car1 = car.plus('d')            // 원소 추가 \n",
    "println(Arrays.toString(car1))\n",
    "\n",
    "val car2 = car1.sliceArray(0..1)    // 부분 배열 생성 \n",
    "println(Arrays.toString(car2))\n",
    "\n",
    "println(car1.first())           // 첫번째 원소\n",
    "println(car1.last())            // 마지막 원소\n",
    "println(car1.indexOf('c'))      // 원소의 인덱스 번호\n",
    "println(car1.contains('c'))     // 포함여부 확인\n",
    "println('d' in car1)"
   ]
  },
  {
   "cell_type": "code",
   "execution_count": null,
   "id": "ad8fe503",
   "metadata": {},
   "outputs": [],
   "source": []
  },
  {
   "cell_type": "code",
   "execution_count": null,
   "id": "690da854",
   "metadata": {},
   "outputs": [],
   "source": []
  },
  {
   "cell_type": "code",
   "execution_count": 10,
   "id": "6b22f2a5",
   "metadata": {},
   "outputs": [
    {
     "name": "stdout",
     "output_type": "stream",
     "text": [
      "[1, 2, 3, 4, 7, 8]\n",
      "[8, 7, 4, 3, 2, 1]\n"
     ]
    }
   ],
   "source": [
    "val arr4 = arrayOf(3,4,2,7,8,1)\n",
    "val arr5 = arr4.copyOf()\n",
    "\n",
    "arr4.sort()                      // 내부 변경 정렬\n",
    "println(Arrays.toString(arr4))\n",
    "arr4.reverse()                   // 내부 변경 역정렬\n",
    "println(Arrays.toString(arr4))"
   ]
  },
  {
   "cell_type": "code",
   "execution_count": null,
   "id": "4af00f9e",
   "metadata": {},
   "outputs": [],
   "source": []
  },
  {
   "cell_type": "code",
   "execution_count": 11,
   "id": "82a68c19",
   "metadata": {},
   "outputs": [
    {
     "name": "stdout",
     "output_type": "stream",
     "text": [
      "[1, 2, 3, 4, 7, 8]\n",
      "[8, 7, 4, 3, 2, 1]\n",
      "[1, 8, 7, 2, 4, 3]\n",
      "class java.util.ArrayList\n"
     ]
    }
   ],
   "source": [
    "val arr6 = arr5.sorted()           // 새로운 배열생성 정렬\n",
    "println(arr6)\n",
    "val arr7 = arr5.sortedDescending() // 새로운 배열생성 정렬\n",
    "println(arr7)\n",
    "val arr8 = arr5.reversed()         // 새로운 역배열생성 정렬\n",
    "println(arr8)\n",
    "println(arr8.javaClass)            // ArrayListf로 변환"
   ]
  },
  {
   "cell_type": "code",
   "execution_count": null,
   "id": "a6aa84fb",
   "metadata": {},
   "outputs": [],
   "source": []
  },
  {
   "cell_type": "code",
   "execution_count": 12,
   "id": "e9e4a215",
   "metadata": {},
   "outputs": [
    {
     "name": "stdout",
     "output_type": "stream",
     "text": [
      "[0, 1, 4, 9, 16]\n",
      "[null, null, null, null, null]\n"
     ]
    }
   ],
   "source": [
    "val arr = Array(5) {it * it}       // 클래스로 배열 생성\n",
    "\n",
    "println(Arrays.toString(arr))\n",
    "\n",
    "val arrNull = arrayOfNulls<Int>(5) // 널값을 가지는 배열 생성\n",
    "println(Arrays.toString(arrNull))"
   ]
  },
  {
   "cell_type": "code",
   "execution_count": null,
   "id": "3bd2d310",
   "metadata": {},
   "outputs": [],
   "source": []
  }
 ],
 "metadata": {
  "kernelspec": {
   "display_name": "Kotlin",
   "language": "kotlin",
   "name": "kotlin"
  },
  "language_info": {
   "codemirror_mode": "text/x-kotlin",
   "file_extension": ".kt",
   "mimetype": "text/x-kotlin",
   "name": "kotlin",
   "nbconvert_exporter": "",
   "pygments_lexer": "kotlin",
   "version": "1.6.0-dev-3567"
  }
 },
 "nbformat": 4,
 "nbformat_minor": 5
}
