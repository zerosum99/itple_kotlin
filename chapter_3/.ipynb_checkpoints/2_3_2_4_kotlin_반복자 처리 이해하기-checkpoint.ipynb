{
 "cells": [
  {
   "cell_type": "markdown",
   "id": "3fd9be1c",
   "metadata": {},
   "source": [
    "## 범위를 실행히보기 "
   ]
  },
  {
   "cell_type": "code",
   "execution_count": 3,
   "id": "2f059e04",
   "metadata": {},
   "outputs": [
    {
     "name": "stdout",
     "output_type": "stream",
     "text": [
      "1,2,3,4,5,6,7,8,9,10,\n",
      "a,b,c,d,e,f,g,h,i,j,k,l,m,n,o,p,q,r,s,t,u,v,w,x,y,z,"
     ]
    }
   ],
   "source": [
    "val iIter = i.iterator()                    //정수범위를 반복자로 처리\n",
    "val cIter = c.iterator()                    //문자범위를 반복자로 처리\n",
    "\n",
    "iIter.forEach { print(it.toString()+\",\") }  //내부 순환\n",
    "println()\n",
    "for (i in cIter) print(i+\",\")               // for문으로 순환"
   ]
  },
  {
   "cell_type": "markdown",
   "id": "f366dd1d",
   "metadata": {},
   "source": [
    "## 문자열 순환 "
   ]
  },
  {
   "cell_type": "code",
   "execution_count": 7,
   "id": "0a57ed7a",
   "metadata": {},
   "outputs": [],
   "source": [
    "operator fun ClosedRange<String>.iterator(): Iterator<String> {\n",
    "    val startChar = start.toCharArray().first()\n",
    "    val lastChar = endInclusive.toCharArray().first()\n",
    "    val charIt = (startChar..lastChar).iterator()\n",
    "\n",
    "    return object : Iterator<String> {\n",
    "        override fun hasNext() = charIt.hasNext()\n",
    "        override fun next(): String = charIt.nextChar().toString()\n",
    "    }\n",
    "}"
   ]
  },
  {
   "cell_type": "code",
   "execution_count": 16,
   "id": "f29de187",
   "metadata": {},
   "outputs": [
    {
     "name": "stdout",
     "output_type": "stream",
     "text": [
      "class kotlin.ranges.ComparableRange\n",
      "class Line_376$iterator$1\n",
      "가,각,갂,갃,간,갅,갆,갇,갈,갉,갊,갋,갌,갍,갎,갏,감,갑,값,갓,갔,강,갖,갗,갘,같,갚,갛,"
     ]
    }
   ],
   "source": [
    "val cr =  \"가\"..\"갛\"\n",
    "println(cr::class)\n",
    "val crIter = cr.iterator()\n",
    "println(crIter::class)\n",
    "\n",
    "crIter.forEach { print(it+\",\") }"
   ]
  },
  {
   "cell_type": "code",
   "execution_count": null,
   "id": "ad4aa4ad",
   "metadata": {},
   "outputs": [],
   "source": []
  },
  {
   "cell_type": "code",
   "execution_count": 18,
   "id": "71823410",
   "metadata": {},
   "outputs": [
    {
     "name": "stdout",
     "output_type": "stream",
     "text": [
      "[2, 4, 6, 8, 10]\n",
      "[1, 4, 9, 16, 25, 36, 49, 64, 81, 100]\n",
      "55\n"
     ]
    }
   ],
   "source": [
    "val r = 1..10\n",
    "println(r.filter { it -> it % 2 == 0 } )// Print [2, 4, 6, 8, 10]\n",
    "\n",
    "println(r.map { it -> it * it } ) // Print [1, 4, 9, 16, 25, 36, 49, 64, 81, 100]\n",
    "println(r.reduce{a, b -> a + b}) // Print 55"
   ]
  },
  {
   "cell_type": "code",
   "execution_count": 17,
   "id": "ba252b0c",
   "metadata": {},
   "outputs": [
    {
     "name": "stdout",
     "output_type": "stream",
     "text": [
      "987654321\n",
      "963"
     ]
    }
   ],
   "source": [
    "(1..9).reversed().forEach {\n",
    "    print(it) // Print 987654321\n",
    "}\n",
    "println()\n",
    "(1..9).reversed().step(3).forEach {\n",
    "    print(it) // Print 963\n",
    "}"
   ]
  },
  {
   "cell_type": "code",
   "execution_count": null,
   "id": "4087dbaf-0882-495a-ba88-deefcce310c2",
   "metadata": {},
   "outputs": [],
   "source": []
  },
  {
   "cell_type": "code",
   "execution_count": 31,
   "id": "ec100a0f",
   "metadata": {},
   "outputs": [
    {
     "name": "stdout",
     "output_type": "stream",
     "text": [
      "1\n",
      "20\n",
      "210\n",
      "10.5\n",
      "20\n",
      "[1, 2, 4, 6, 10]\n"
     ]
    }
   ],
   "source": [
    "val r = 1..20\n",
    "println(r.minOrNull()) // Print 1\n",
    "println(r.maxOrNull()) // Print 20\n",
    "println(r.sum()) // Print 210\n",
    "println(r.average()) // Print 10.5\n",
    "println(r.count()) // Print 20\n",
    "\n",
    "val repeated = listOf(1, 1, 2, 4, 4, 6, 10)\n",
    "println(repeated.distinct()) // Print [1, 2, 4, 6, 10]"
   ]
  },
  {
   "cell_type": "code",
   "execution_count": null,
   "id": "e4f91baf",
   "metadata": {},
   "outputs": [],
   "source": []
  },
  {
   "cell_type": "code",
   "execution_count": null,
   "id": "7e06a972",
   "metadata": {},
   "outputs": [],
   "source": []
  },
  {
   "cell_type": "code",
   "execution_count": null,
   "id": "d9a53e8c",
   "metadata": {},
   "outputs": [],
   "source": []
  }
 ],
 "metadata": {
  "kernelspec": {
   "display_name": "Kotlin",
   "language": "kotlin",
   "name": "kotlin"
  },
  "language_info": {
   "codemirror_mode": "text/x-kotlin",
   "file_extension": ".kt",
   "mimetype": "text/x-kotlin",
   "name": "kotlin",
   "nbconvert_exporter": "",
   "pygments_lexer": "kotlin",
   "version": "1.7.0-dev-1825"
  }
 },
 "nbformat": 4,
 "nbformat_minor": 5
}
