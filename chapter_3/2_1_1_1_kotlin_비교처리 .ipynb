{
 "cells": [
  {
   "cell_type": "code",
   "execution_count": 2,
   "id": "631b859f-4387-4a4e-a6db-4f6cbc5472ee",
   "metadata": {},
   "outputs": [
    {
     "data": {
      "text/plain": [
       "1.7.0"
      ]
     },
     "execution_count": 2,
     "metadata": {},
     "output_type": "execute_result"
    }
   ],
   "source": [
    "KotlinVersion.CURRENT"
   ]
  },
  {
   "cell_type": "markdown",
   "id": "08e64d3a",
   "metadata": {},
   "source": [
    "# 1. 조건식이란\n",
    "\n",
    "- 비교 연산사와 관계 연산자로 표현된 수식"
   ]
  },
  {
   "cell_type": "code",
   "execution_count": 1,
   "id": "dc99cd1a",
   "metadata": {},
   "outputs": [
    {
     "name": "stdout",
     "output_type": "stream",
     "text": [
      "false\n",
      "class kotlin.Boolean\n"
     ]
    }
   ],
   "source": [
    "var humid = 100\n",
    "var jacket = 200\n",
    "val eq = humid == jacket      // 두 수를 비교\n",
    "println(eq)\n",
    "println(eq.javaClass.kotlin)  // 비교결과의 자료형 "
   ]
  },
  {
   "cell_type": "markdown",
   "id": "145dd94e",
   "metadata": {},
   "source": [
    "## 비교연산"
   ]
  },
  {
   "cell_type": "code",
   "execution_count": 5,
   "id": "c4574956",
   "metadata": {},
   "outputs": [
    {
     "name": "stdout",
     "output_type": "stream",
     "text": [
      "false\n",
      "true\n",
      "true\n",
      "false\n",
      "true\n",
      "false\n"
     ]
    }
   ],
   "source": [
    "val a = 100\n",
    "val b = 20\n",
    "\n",
    "println(a == b )               // 두 수가 동일한지 비교 \n",
    "println(a != b )               // 두 수가 다른지 비교\n",
    "println(a >= b )               // 두 수의 크기 비교 (GE)\n",
    "println(a <= b )               // 두 수의 크기 비교 (LE)\n",
    "println(a > b )                // 두 수의 크기 비교 (GT)\n",
    "println(a < b )                // 두 수의 크기 비교 (LT)\n"
   ]
  },
  {
   "cell_type": "markdown",
   "id": "51158b94",
   "metadata": {},
   "source": [
    "## 비교메소드 처리"
   ]
  },
  {
   "cell_type": "code",
   "execution_count": 7,
   "id": "670ce085",
   "metadata": {},
   "outputs": [
    {
     "name": "stdout",
     "output_type": "stream",
     "text": [
      "false\n",
      "true\n",
      "true\n",
      "false\n",
      "true\n",
      "false\n"
     ]
    }
   ],
   "source": [
    "val a = 100\n",
    "val b = 20\n",
    "                               // 비교연산에 대한 메소드 처리하기\n",
    "println(a.compareTo(b) == 0 )  \n",
    "println(a.compareTo(b) != 0)\n",
    "println(a.compareTo(b) >= 0 )  // 두 수의 크기 비교 (GE)\n",
    "println(a.compareTo(b) <= 0 )  // 두 수의 크기 비교 (LE)\n",
    "println(a.compareTo(b) > 0)    // 두 수의 크기 비교 (GT)\n",
    "println(a.compareTo(b) < 0)    // 두 수의 크기 비교 (LT)"
   ]
  },
  {
   "cell_type": "code",
   "execution_count": null,
   "id": "a1e9339c",
   "metadata": {},
   "outputs": [],
   "source": []
  },
  {
   "cell_type": "markdown",
   "id": "405b6a7a",
   "metadata": {},
   "source": [
    "# 2. 원소들 중에 조건 처리"
   ]
  },
  {
   "cell_type": "code",
   "execution_count": 4,
   "id": "a59e4651",
   "metadata": {},
   "outputs": [
    {
     "name": "stdout",
     "output_type": "stream",
     "text": [
      "true\n",
      "true\n",
      "false\n",
      "false\n"
     ]
    }
   ],
   "source": [
    "var height = 46                   \n",
    "println(height in 1..53)             // 특정 범위 (..) 에 속하는지를 확인\n",
    "\n",
    "val list = listOf(1,2,null)          // 리스트를 하나 생성 \n",
    "\n",
    "println(list.any({ it == null}))     // 리스트 내부에 null 이 하나라도 있으면 참\n",
    "println(list.all({ it == null}))     // 리스트 내부에 모든게 null이면 참\n",
    "println(list.none({ it == null}))    // 리스트 내부에 모든게 null이 아니면 참 "
   ]
  },
  {
   "cell_type": "code",
   "execution_count": null,
   "id": "0f894573",
   "metadata": {},
   "outputs": [],
   "source": []
  }
 ],
 "metadata": {
  "kernelspec": {
   "display_name": "Kotlin",
   "language": "kotlin",
   "name": "kotlin"
  },
  "language_info": {
   "codemirror_mode": "text/x-kotlin",
   "file_extension": ".kt",
   "mimetype": "text/x-kotlin",
   "name": "kotlin",
   "nbconvert_exporter": "",
   "pygments_lexer": "kotlin",
   "version": "1.7.0-dev-1825"
  }
 },
 "nbformat": 4,
 "nbformat_minor": 5
}
