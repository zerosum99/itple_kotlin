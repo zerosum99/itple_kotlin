{
 "cells": [
  {
   "cell_type": "markdown",
   "id": "4ca1b181",
   "metadata": {},
   "source": [
    "## 함수 자료형 지정하기"
   ]
  },
  {
   "cell_type": "code",
   "execution_count": 1,
   "id": "14d2e29d",
   "metadata": {},
   "outputs": [],
   "source": [
    "import kotlin.reflect.KFunction \n",
    "import kotlin.reflect.KFunction1 \n",
    "import kotlin.reflect.KFunction2"
   ]
  },
  {
   "cell_type": "code",
   "execution_count": null,
   "id": "5afbd53d",
   "metadata": {},
   "outputs": [],
   "source": []
  },
  {
   "cell_type": "code",
   "execution_count": 16,
   "id": "cc49ba34",
   "metadata": {},
   "outputs": [
    {
     "name": "stdout",
     "output_type": "stream",
     "text": [
      "SUMMER\n",
      "FALL IN LOVE\n",
      "summer\n",
      "summer\n"
     ]
    }
   ],
   "source": [
    "val toUpperCase = { str: String -> str.uppercase() }\n",
    "println(toUpperCase.invoke(\"summer\"))                 //람다표현식은 invoke 메소드 사용가능 \n",
    "\n",
    "\n",
    "val upper = fun (str: String) :String {         \n",
    "    return str.uppercase() \n",
    "}\n",
    "println(upper.invoke(\"fall in love\"))                 // 익명함수도 invoke 메소드 사용가능 \n",
    "\n",
    "\n",
    "fun toLowerCase(str: String) :String {\n",
    "    return str.lowercase() \n",
    "}\n",
    "println(toLowerCase(\"SUMMER\"))                          // 함수를 직접호출할 경우는 호출연산자\n",
    "                                                        // 만 사용가능\n",
    "val lower = ::toLowerCase                               // 함수 참조로 접근하면\n",
    "println(lower.invoke(\"Summer\"))                         // invoke 메소드 사용가능 "
   ]
  },
  {
   "cell_type": "code",
   "execution_count": null,
   "id": "6c39a976",
   "metadata": {},
   "outputs": [],
   "source": []
  },
  {
   "cell_type": "code",
   "execution_count": 17,
   "id": "5843d44e",
   "metadata": {},
   "outputs": [
    {
     "name": "stdout",
     "output_type": "stream",
     "text": [
      "실행연산 실행 1\n",
      "실행연산 실행 2\n"
     ]
    }
   ],
   "source": [
    "class MyFunction: ()->Unit {             // 함수자료형 상속 \n",
    "    override operator fun invoke() {     // 실행연산자 오버라이딩\n",
    "        println(\"실행연산 실행 1\")\n",
    "    }\n",
    "}\n",
    "\n",
    "val function = MyFunction()              // 함수 객체 생성 \n",
    "function()                               // 함수 실행 \n",
    "\n",
    "class A : Function<Unit> {               // 함수 자료형 인터페이스 상속 \n",
    "      operator fun invoke() {            // 실행연산자 오버로딩\n",
    "        println(\"실행연산 실행 2\")\n",
    "    }\n",
    "}\n",
    "\n",
    "val functionA = A()                      // 함수 객체 생성 \n",
    "functionA()                              // 함수 실행 "
   ]
  },
  {
   "cell_type": "code",
   "execution_count": null,
   "id": "55e2eec1",
   "metadata": {},
   "outputs": [],
   "source": []
  },
  {
   "cell_type": "code",
   "execution_count": 3,
   "id": "3be3be98",
   "metadata": {},
   "outputs": [
    {
     "name": "stdout",
     "output_type": "stream",
     "text": [
      "객체 invoke 호출 1\n",
      "30\n",
      "객체 invoke 호출 2\n",
      "200\n"
     ]
    }
   ],
   "source": [
    "val a = object : (Int,Int)-> Int {             // object 표현식 : 함수를 상속 \n",
    "    override fun invoke(x:Int, y:Int) : Int {  // 연산자 오버로딩 \n",
    "        println(\"객체 invoke 호출 1\")\n",
    "        return x+y\n",
    "    }\n",
    "}\n",
    "\n",
    "val x = a(10,20)                               //함수실행 \n",
    "println(x)\n",
    "\n",
    "object Func : (Int,Int)-> Int {                // object 선언 : 함수를 상속 \n",
    "    override fun invoke(x:Int, y:Int) : Int {  // 연산자 오버로딩 \n",
    "        println(\"객체 invoke 호출 2\")\n",
    "        return x*y\n",
    "    }\n",
    "}\n",
    "\n",
    "val y = Func(10,20)                            //함수 실행\n",
    "println(y)"
   ]
  },
  {
   "cell_type": "code",
   "execution_count": null,
   "id": "ef09cd0c",
   "metadata": {},
   "outputs": [],
   "source": []
  },
  {
   "cell_type": "code",
   "execution_count": null,
   "id": "efaf3502",
   "metadata": {},
   "outputs": [],
   "source": []
  },
  {
   "cell_type": "code",
   "execution_count": null,
   "id": "461dc588",
   "metadata": {},
   "outputs": [],
   "source": [
    "## 아래부분은 미사용 "
   ]
  },
  {
   "cell_type": "code",
   "execution_count": null,
   "id": "127ff0f8",
   "metadata": {},
   "outputs": [],
   "source": []
  },
  {
   "cell_type": "markdown",
   "id": "fae7b6de",
   "metadata": {},
   "source": [
    "## 실행연산자 알아보기"
   ]
  },
  {
   "cell_type": "code",
   "execution_count": 4,
   "id": "84e9cdf9",
   "metadata": {},
   "outputs": [
    {
     "name": "stdout",
     "output_type": "stream",
     "text": [
      "MyFunction =ABCD\n",
      "cap  = ABCDE\n",
      "cap3  = ABCDE\n"
     ]
    }
   ],
   "source": [
    "object MyFunction {\n",
    "    operator fun invoke(str: String): String {\n",
    "        return str.uppercase()                 // 모두 대문자로 바꿔줌\n",
    "    }\n",
    "}\n",
    "println(\"MyFunction =\" + MyFunction(\"abcd\"))\n",
    "\n",
    "val cap: (String) -> String = fun (str : String) : String {\n",
    "    return str.uppercase()\n",
    "}\n",
    "\n",
    "println(\"cap  = \" +cap(\"abcde\"))\n",
    "val cap3 : (String) -> String  = cap\n",
    "println(\"cap3  = \" +cap3(\"abcde\"))"
   ]
  },
  {
   "cell_type": "code",
   "execution_count": null,
   "id": "49d46fa1",
   "metadata": {},
   "outputs": [],
   "source": []
  },
  {
   "cell_type": "code",
   "execution_count": 5,
   "id": "7267bdac",
   "metadata": {},
   "outputs": [
    {
     "name": "stdout",
     "output_type": "stream",
     "text": [
      "호출 1\n",
      "cap2 =ABCDE\n",
      "cap4 =ABCDE\n",
      "true\n",
      "true\n"
     ]
    }
   ],
   "source": [
    "class MyFunction: ()->Unit {\n",
    "    override fun invoke() {\n",
    "        println(\"호출 1\")\n",
    "    }\n",
    "}\n",
    "\n",
    "val function = MyFunction()\n",
    "function()                      // Prints: I am called\n",
    "\n",
    "val cap2 = object : Function1<String,String> {\n",
    "    override fun invoke(p1:String) : String {\n",
    "        return p1.uppercase()\n",
    "    }\n",
    "}\n",
    "\n",
    "println(\"cap2 =\" +cap2(\"abcde\"))\n",
    "val cap4 : Function1<String, String>  = cap2\n",
    "println(\"cap4 =\" + cap4(\"abcde\"))\n",
    "\n",
    "println(MyFunction::invoke is KFunction<Unit>)   // 클래스의 메소드의 자료형이 동일한지 비교가능 \n",
    "println(function::invoke is KFunction<Unit>)   // 클래스의 메소드의 자료형이 동일한지 비교가능 "
   ]
  },
  {
   "cell_type": "code",
   "execution_count": null,
   "id": "4835273e",
   "metadata": {},
   "outputs": [],
   "source": []
  },
  {
   "cell_type": "code",
   "execution_count": 6,
   "id": "36ba328b",
   "metadata": {},
   "outputs": [
    {
     "data": {
      "text/plain": [
       "Thank you for you donation of $123!"
      ]
     },
     "execution_count": 6,
     "metadata": {},
     "output_type": "execute_result"
    }
   ],
   "source": [
    "class ClassName : (Int, Int) -> Int {\n",
    "\n",
    "  override fun invoke(p1: Int, p2:Int): Int {\n",
    "      return p1 + p2 \n",
    "  }\n",
    "}\n",
    "\n",
    "class ReceiptText(val template: String): (Int) -> String {\n",
    "  override fun invoke(amount: Int): String =\n",
    "        template.replace(\"%\", amount.toString())\n",
    "}\n",
    "\n",
    "val receipt = ReceiptText(\"Thank you for you donation of $%!\")\n",
    "\n",
    "receipt(123)"
   ]
  },
  {
   "cell_type": "code",
   "execution_count": null,
   "id": "0eb05c7c",
   "metadata": {},
   "outputs": [],
   "source": []
  },
  {
   "cell_type": "code",
   "execution_count": 7,
   "id": "a2067850",
   "metadata": {},
   "outputs": [
    {
     "data": {
      "text/plain": [
       "Thank you for you donation of $123!"
      ]
     },
     "execution_count": 7,
     "metadata": {},
     "output_type": "execute_result"
    }
   ],
   "source": [
    "fun receiptText(template: String): (Int) -> String = {\n",
    "    amount -> template.replace(\"%\", amount.toString())\n",
    "}\n",
    "\n",
    "val rece = receiptText(\"Thank you for you donation of $%!\")\n",
    "\n",
    "rece(123)"
   ]
  },
  {
   "cell_type": "code",
   "execution_count": null,
   "id": "ce350fff",
   "metadata": {},
   "outputs": [],
   "source": []
  },
  {
   "cell_type": "code",
   "execution_count": 8,
   "id": "7c2ab45a",
   "metadata": {},
   "outputs": [
    {
     "data": {
      "text/plain": [
       "My receipt for xxx. $123"
      ]
     },
     "execution_count": 8,
     "metadata": {},
     "output_type": "execute_result"
    }
   ],
   "source": [
    "fun receiptText_(template: String): (Int) -> String { \n",
    "    return fun (amount:Int) : String {\n",
    "               return template.replace(\"%\", amount.toString())\n",
    "           }\n",
    "}\n",
    "\n",
    "receiptText_(\"My receipt for xxx. $%\")(123)"
   ]
  },
  {
   "cell_type": "markdown",
   "id": "4d6db3bf",
   "metadata": {},
   "source": [
    "## 실행연산자 연산자 오버로딩 "
   ]
  },
  {
   "cell_type": "code",
   "execution_count": 9,
   "id": "b31e1b96",
   "metadata": {},
   "outputs": [
    {
     "name": "stdout",
     "output_type": "stream",
     "text": [
      "My receipt for $123\n",
      "My receipt for xxx. $123\n"
     ]
    }
   ],
   "source": [
    "sealed class TemplateString\n",
    "//an object with invoke operator\n",
    "object ReceiptTextObj : TemplateString() {\n",
    "    operator fun invoke(amount: Int): String {\n",
    "        val a = ReceiptText(\"My receipt for $%\")\n",
    "        return a(amount)\n",
    "    }\n",
    "    operator fun invoke(template: String, amount: Int): String {\n",
    "         val a = ReceiptText(template)\n",
    "         return a(amount)\n",
    "    }\n",
    "}\n",
    "\n",
    "println(ReceiptTextObj(123))\n",
    "println(ReceiptTextObj(\"My receipt for xxx. $%\",123))"
   ]
  },
  {
   "cell_type": "code",
   "execution_count": null,
   "id": "294ae233",
   "metadata": {},
   "outputs": [],
   "source": []
  },
  {
   "cell_type": "code",
   "execution_count": 10,
   "id": "5efe2fd7",
   "metadata": {},
   "outputs": [
    {
     "name": "stdout",
     "output_type": "stream",
     "text": [
      "true\n"
     ]
    }
   ],
   "source": [
    "interface A\n",
    "class B : A\n",
    "val bb = B()\n",
    "println(bb is A)"
   ]
  },
  {
   "cell_type": "code",
   "execution_count": null,
   "id": "ab644b7b",
   "metadata": {},
   "outputs": [],
   "source": []
  },
  {
   "cell_type": "code",
   "execution_count": 11,
   "id": "75629345",
   "metadata": {},
   "outputs": [
    {
     "name": "stdout",
     "output_type": "stream",
     "text": [
      "true\n",
      "20\n"
     ]
    }
   ],
   "source": [
    "/** A function that takes 1 argument. */\n",
    "public interface Function1<in P1, out R> : Function<R> {\n",
    "    /** Invokes the function with the specified argument. */\n",
    "    public operator fun invoke(p1: P1): R\n",
    "}\n",
    "\n",
    "fun x2__(x: Int) = x * 2\n",
    "\n",
    "println(::x2__ is KFunction1<Int, Int>) \n",
    "\n",
    "val x2ref: KFunction1<Int, Int> = ::x2__ \n",
    "println(x2ref(10))"
   ]
  },
  {
   "cell_type": "code",
   "execution_count": null,
   "id": "74baac4e",
   "metadata": {},
   "outputs": [],
   "source": []
  },
  {
   "cell_type": "code",
   "execution_count": 12,
   "id": "8dce0537",
   "metadata": {},
   "outputs": [
    {
     "name": "stdout",
     "output_type": "stream",
     "text": [
      "true\n",
      "6\n"
     ]
    }
   ],
   "source": [
    "class X1 : Function1<Int, Int> {\n",
    "   override fun invoke(x: Int) = 2 * x\n",
    "}\n",
    "\n",
    "val x11 = X1()\n",
    "println(x11 is Function1<Int, Int> )  // true\n",
    "//println(x22 is (Int) -> Int   )\n",
    "\n",
    "val x111 = X1()\n",
    "\n",
    "println(x111(3))"
   ]
  },
  {
   "cell_type": "code",
   "execution_count": 13,
   "id": "92420c15",
   "metadata": {},
   "outputs": [
    {
     "name": "stdout",
     "output_type": "stream",
     "text": [
      "true\n"
     ]
    }
   ],
   "source": [
    "class X2 : (Int) -> Int {\n",
    "   override fun invoke(x: Int) = 2 * x\n",
    "}\n",
    "val x22 = X2()\n",
    "println(x22 is (Int)->Int) "
   ]
  },
  {
   "cell_type": "code",
   "execution_count": null,
   "id": "2e76290f",
   "metadata": {},
   "outputs": [],
   "source": []
  },
  {
   "cell_type": "code",
   "execution_count": 14,
   "id": "9a7abd30",
   "metadata": {},
   "outputs": [
    {
     "name": "stdout",
     "output_type": "stream",
     "text": [
      "true\n",
      "20\n",
      "true\n",
      "true\n"
     ]
    }
   ],
   "source": [
    "object ox1 : Function1<Int, Int> {\n",
    "    override fun invoke(x: Int) = 2 * x\n",
    "}\n",
    "\n",
    "println(ox1 is Function1<Int, Int>)   // true\n",
    "println(ox1(10))\n",
    "\n",
    "object ox2 : (Int) -> Int {\n",
    "    override fun invoke(x: Int) = 2 * x\n",
    "}\n",
    "\n",
    "println(ox2 is (Int)->Int)\n",
    "println(ox2 is (Int)->Int)"
   ]
  },
  {
   "cell_type": "code",
   "execution_count": null,
   "id": "139cfff2",
   "metadata": {},
   "outputs": [],
   "source": []
  },
  {
   "cell_type": "code",
   "execution_count": null,
   "id": "448a0b42",
   "metadata": {},
   "outputs": [],
   "source": []
  }
 ],
 "metadata": {
  "kernelspec": {
   "display_name": "Kotlin",
   "language": "kotlin",
   "name": "kotlin"
  },
  "language_info": {
   "codemirror_mode": "text/x-kotlin",
   "file_extension": ".kt",
   "mimetype": "text/x-kotlin",
   "name": "kotlin",
   "nbconvert_exporter": "",
   "pygments_lexer": "kotlin",
   "version": "1.7.0-dev-1825"
  }
 },
 "nbformat": 4,
 "nbformat_minor": 5
}
