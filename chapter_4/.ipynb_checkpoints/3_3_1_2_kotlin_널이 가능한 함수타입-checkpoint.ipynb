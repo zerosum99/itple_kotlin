{
 "cells": [
  {
   "cell_type": "markdown",
   "id": "0068104d",
   "metadata": {},
   "source": [
    "## 널 가능 함수 처리"
   ]
  },
  {
   "cell_type": "code",
   "execution_count": 6,
   "id": "05553ca6",
   "metadata": {},
   "outputs": [
    {
     "name": "stdout",
     "output_type": "stream",
     "text": [
      "262\n",
      "Hello world\n",
      "134408\n",
      "익명함수\n",
      "35720\n",
      "함수처리\n",
      "85987\n"
     ]
    }
   ],
   "source": [
    "                                                    // 함수 자료형도 널자료형이 가능\n",
    "fun nullFunc(action :(()->Unit)?) :Long{            // 함수 자료형 전체를 괄호로 묶고난 후에 물음표 \n",
    "    val start = System.nanoTime()                   // 시스템 시간을 조회 \n",
    "    action?.invoke()                                //널이 들어올 수 있으니 ? 이후 실행처리\n",
    "    \n",
    "    return System.nanoTime() - start                // 최종 처리시간 표시\n",
    "}\n",
    "\n",
    "println(nullFunc(null))                             // 널을 전달 \n",
    "\n",
    "println(nullFunc { println(\"Hello world\") })        // 람다함수전달 \n",
    "\n",
    "println(nullFunc(fun() :Unit {println(\"익명함수\")}))  // 익명함수 전달\n",
    "\n",
    "fun unitFunc() = println(\"함수처리\")                   // 함수참조 전달\n",
    "println(nullFunc(::unitFunc))"
   ]
  },
  {
   "cell_type": "code",
   "execution_count": null,
   "id": "c1914d33",
   "metadata": {},
   "outputs": [],
   "source": []
  },
  {
   "cell_type": "markdown",
   "id": "c14904dc",
   "metadata": {},
   "source": [
    "## 람다로 내부함수 처리"
   ]
  },
  {
   "cell_type": "code",
   "execution_count": null,
   "id": "b05cf34b",
   "metadata": {},
   "outputs": [],
   "source": []
  },
  {
   "cell_type": "code",
   "execution_count": 8,
   "id": "5e5bd54e",
   "metadata": {},
   "outputs": [
    {
     "name": "stderr",
     "output_type": "stream",
     "text": [
      "Line_1034.jupyter-kts (3:48 - 48) Expecting function name or receiver type\n",
      "Line_1034.jupyter-kts (3:50 - 73) Unexpected tokens (use ';' to separate expressions on the same line)\n",
      "Line_1034.jupyter-kts (11:35 - 35) Expecting '}'"
     ]
    }
   ],
   "source": [
    "val innerFunc : (Int) -> ((Int) -> Int)? = {n -> { m -> n + m }}\n",
    "\n",
    "\n",
    "println(innerFunc(10)?.invoke(20))"
   ]
  },
  {
   "cell_type": "code",
   "execution_count": 9,
   "id": "21ca80f0",
   "metadata": {},
   "outputs": [
    {
     "name": "stderr",
     "output_type": "stream",
     "text": [
      "Line_1036.jupyter-kts (1:48 - 48) Expecting function name or receiver type\n",
      "Line_1036.jupyter-kts (1:50 - 73) Unexpected tokens (use ';' to separate expressions on the same line)\n",
      "Line_1036.jupyter-kts (5:46 - 46) Expecting '}'"
     ]
    }
   ],
   "source": [
    "val innerFunc2 : (Int) -> ((Int) -> Int)? = fun{n:Int) : ((Int) -> Int)? {\n",
    "                                              fun(m: Int) : Int {\n",
    "                                                  return n + m \n",
    "                                               }\n",
    "                                            }\n"
   ]
  },
  {
   "cell_type": "code",
   "execution_count": null,
   "id": "c12fad7f",
   "metadata": {},
   "outputs": [],
   "source": []
  }
 ],
 "metadata": {
  "kernelspec": {
   "display_name": "Kotlin",
   "language": "kotlin",
   "name": "kotlin"
  },
  "language_info": {
   "codemirror_mode": "text/x-kotlin",
   "file_extension": ".kt",
   "mimetype": "text/x-kotlin",
   "name": "kotlin",
   "nbconvert_exporter": "",
   "pygments_lexer": "kotlin",
   "version": "1.7.0-dev-1825"
  }
 },
 "nbformat": 4,
 "nbformat_minor": 5
}
