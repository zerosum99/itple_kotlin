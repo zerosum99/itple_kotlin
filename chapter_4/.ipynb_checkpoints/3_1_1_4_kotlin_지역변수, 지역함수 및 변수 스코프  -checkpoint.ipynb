{
 "cells": [
  {
   "cell_type": "markdown",
   "id": "004feac8",
   "metadata": {},
   "source": [
    "## 지역함수 "
   ]
  },
  {
   "cell_type": "code",
   "execution_count": null,
   "id": "3fb844f8",
   "metadata": {},
   "outputs": [],
   "source": []
  },
  {
   "cell_type": "code",
   "execution_count": null,
   "id": "77d2f606",
   "metadata": {},
   "outputs": [],
   "source": []
  },
  {
   "cell_type": "code",
   "execution_count": null,
   "id": "814e5968",
   "metadata": {},
   "outputs": [],
   "source": []
  },
  {
   "cell_type": "markdown",
   "id": "155e9763",
   "metadata": {},
   "source": [
    "## 변수 스코프"
   ]
  },
  {
   "cell_type": "code",
   "execution_count": null,
   "id": "ea1e8bc4",
   "metadata": {},
   "outputs": [],
   "source": []
  }
 ],
 "metadata": {
  "kernelspec": {
   "display_name": "Kotlin",
   "language": "kotlin",
   "name": "kotlin"
  },
  "language_info": {
   "codemirror_mode": "text/x-kotlin",
   "file_extension": ".kt",
   "mimetype": "text/x-kotlin",
   "name": "kotlin",
   "nbconvert_exporter": "",
   "pygments_lexer": "kotlin",
   "version": "1.6.0-dev-3567"
  }
 },
 "nbformat": 4,
 "nbformat_minor": 5
}
