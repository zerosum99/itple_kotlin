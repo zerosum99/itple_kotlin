{
 "cells": [
  {
   "cell_type": "code",
   "execution_count": null,
   "id": "2fedd1b0-bc8f-4338-b6b0-fc8f27c4eb18",
   "metadata": {},
   "outputs": [],
   "source": []
  },
  {
   "cell_type": "code",
   "execution_count": 1,
   "id": "35e88339-0481-4bfe-8d68-56d077edea05",
   "metadata": {},
   "outputs": [
    {
     "data": {
      "text/plain": [
       "1.8.20"
      ]
     },
     "execution_count": 1,
     "metadata": {},
     "output_type": "execute_result"
    }
   ],
   "source": [
    "KotlinVersion.CURRENT"
   ]
  },
  {
   "cell_type": "markdown",
   "id": "f358b94e",
   "metadata": {},
   "source": [
    "##  변수 명 정의 "
   ]
  },
  {
   "cell_type": "code",
   "execution_count": 2,
   "id": "fbc22aae",
   "metadata": {},
   "outputs": [
    {
     "name": "stdout",
     "output_type": "stream",
     "text": [
      "100\n"
     ]
    }
   ],
   "source": [
    "val abc123 = 100\n",
    "val _abc123 = 100\n",
    "//val 123abc_ = 200      변수명은 첫글자가 숫자 불가\n",
    "\n",
    "object Const {          //  상수 정의\n",
    "    const val CONST = 100\n",
    "}\n",
    "\n",
    "println(Const.CONST)"
   ]
  },
  {
   "cell_type": "code",
   "execution_count": null,
   "id": "e9324120",
   "metadata": {},
   "outputs": [],
   "source": []
  },
  {
   "cell_type": "markdown",
   "id": "48bff67f-a07f-4593-9818-fc5fc91d38ff",
   "metadata": {},
   "source": [
    "## 2.  변수 정의 "
   ]
  },
  {
   "cell_type": "markdown",
   "id": "c01d8427-9818-4c33-9d94-44d0444ef6ae",
   "metadata": {},
   "source": [
    "### 최상위 레벨 변수 정의"
   ]
  },
  {
   "cell_type": "code",
   "execution_count": 3,
   "id": "6f917d25",
   "metadata": {},
   "outputs": [
    {
     "name": "stdout",
     "output_type": "stream",
     "text": [
      "초기값\n"
     ]
    }
   ],
   "source": [
    "val 불변변수 = \"불변변수\"   // 한번 초기화되면 다시 재할당이 안됨\n",
    "var 가변변수 = \"가변변수\"   // 초기화한 후에 항상 재할당이 가능 \n",
    "\n",
    "val 변수정의 : String = \"초기값\"\n",
    "\n",
    "println(변수정의)\n",
    "\n",
    "// 변수정의 = \"갱신\"   val 변수는 재할당 금지\n"
   ]
  },
  {
   "cell_type": "code",
   "execution_count": null,
   "id": "dd634c7c-b246-4da0-adcc-de39d380bbfb",
   "metadata": {},
   "outputs": [],
   "source": []
  },
  {
   "cell_type": "markdown",
   "id": "a7bba487-6cdc-47cb-a976-fe04e2b69a36",
   "metadata": {},
   "source": [
    "### 지역변수"
   ]
  },
  {
   "cell_type": "code",
   "execution_count": 4,
   "id": "72874be3-22f1-4de9-a754-1e80b26bc517",
   "metadata": {},
   "outputs": [
    {
     "name": "stdout",
     "output_type": "stream",
     "text": [
      "for 지역변수 : 100\n",
      "for 지역변수 : 100\n",
      "함수 지역변수 : 100\n"
     ]
    }
   ],
   "source": [
    "for (i in 1..2 ){\n",
    "    val localVal = 100\n",
    "    println(\"for 지역변수 : \" + localVal)\n",
    "}\n",
    "//localVal 변수는 코드블럭 밖에서 참조 불가\n",
    "fun func() {                 \n",
    "    val locallevel : Int      // 함수 블럭 내부에 정의된 변수 \n",
    "    locallevel = 100\n",
    "    \n",
    "    println(\"함수 지역변수 : \" +locallevel)\n",
    "}\n",
    "// locallevel 변수도 함수코드블럭 밖에서 참조 불가 \n",
    "func()"
   ]
  },
  {
   "cell_type": "markdown",
   "id": "0c45e44e",
   "metadata": {},
   "source": [
    "## 전역변수"
   ]
  },
  {
   "cell_type": "code",
   "execution_count": 5,
   "id": "1e1179af-0971-4169-8248-cc5e6a867250",
   "metadata": {},
   "outputs": [
    {
     "name": "stdout",
     "output_type": "stream",
     "text": [
      " 지역변수 100\n",
      " 최상위변수 글로벌 변수\n"
     ]
    }
   ],
   "source": [
    "val globallevel = \"글로벌 변수\"          // 최상위 변수는 전역변수 \n",
    "\n",
    "fun funcGlobal() {\n",
    "    val locallevel : Int              // 함수 내부는 지역변수 \n",
    "    locallevel = 100\n",
    "    println(\" 지역변수 $locallevel\")\n",
    "    println(\" 최상위변수 $globallevel\")  // 함수 외부의 변수는 참조가능\n",
    "}\n",
    "\n",
    "funcGlobal()"
   ]
  },
  {
   "cell_type": "code",
   "execution_count": null,
   "id": "7ea8998a-fcdc-4fc2-a2ce-a280a0d540a8",
   "metadata": {},
   "outputs": [],
   "source": []
  },
  {
   "cell_type": "markdown",
   "id": "01d16610-2085-4ffb-b1d5-2be806e0b75d",
   "metadata": {},
   "source": [
    "### 클래스멤버 변수"
   ]
  },
  {
   "cell_type": "code",
   "execution_count": 6,
   "id": "39e36434-175a-4a02-bacc-969a612ec463",
   "metadata": {},
   "outputs": [
    {
     "name": "stdout",
     "output_type": "stream",
     "text": [
      "100\n",
      "100\n"
     ]
    }
   ],
   "source": [
    "class Klass {\n",
    "    val memberVar : Int = 100   // 클래스 속성 \n",
    "}\n",
    "\n",
    "object Obj {\n",
    "    val objval = 100            // 객체 속성 \n",
    "}\n",
    "\n",
    "val k = Klass()                 //객체 인스턴스 생성 후 사용\n",
    "println(k.memberVar)\n",
    "println(Obj.objval)             // 객체 이름으로 직접 접근"
   ]
  },
  {
   "cell_type": "code",
   "execution_count": null,
   "id": "43e58c42",
   "metadata": {},
   "outputs": [],
   "source": []
  },
  {
   "cell_type": "markdown",
   "id": "d43e8da7",
   "metadata": {},
   "source": [
    "## 상수 "
   ]
  },
  {
   "cell_type": "code",
   "execution_count": 7,
   "id": "a7108f01-782a-453a-b1e4-1bc539867e92",
   "metadata": {},
   "outputs": [
    {
     "name": "stdout",
     "output_type": "stream",
     "text": [
      "Hello\n"
     ]
    }
   ],
   "source": [
    "//const val ABC_CONST_HL : String = \"Hello\"  주피터 상에서 에러발생\n",
    "\n",
    "object ABC {                               // 객체에서 상수 정의 가능                         \n",
    "   const val ABC_CONST : String = \"Hello\"  // 기본자료형과 문자열만 가능   \n",
    "}\n",
    "\n",
    "\n",
    "val abc = ABC\n",
    "println(abc.ABC_CONST)\n"
   ]
  },
  {
   "cell_type": "code",
   "execution_count": null,
   "id": "bb3d57a2-f2bc-4656-b2a3-dc3af313a183",
   "metadata": {},
   "outputs": [],
   "source": []
  },
  {
   "cell_type": "code",
   "execution_count": null,
   "id": "048248e4-6d2d-4fe4-ba65-c6e7d2ed769c",
   "metadata": {},
   "outputs": [],
   "source": []
  }
 ],
 "metadata": {
  "kernelspec": {
   "display_name": "Kotlin",
   "language": "kotlin",
   "name": "kotlin"
  },
  "language_info": {
   "codemirror_mode": "text/x-kotlin",
   "file_extension": ".kt",
   "mimetype": "text/x-kotlin",
   "name": "kotlin",
   "nbconvert_exporter": "",
   "pygments_lexer": "kotlin",
   "version": "1.8.20"
  }
 },
 "nbformat": 4,
 "nbformat_minor": 5
}
