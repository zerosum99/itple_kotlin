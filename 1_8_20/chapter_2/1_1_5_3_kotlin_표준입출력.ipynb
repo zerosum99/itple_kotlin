{
 "cells": [
  {
   "cell_type": "code",
   "execution_count": null,
   "id": "13dac9f1",
   "metadata": {},
   "outputs": [],
   "source": []
  },
  {
   "cell_type": "code",
   "execution_count": 1,
   "id": "20a6693d",
   "metadata": {},
   "outputs": [
    {
     "data": {
      "text/plain": [
       "1.8.20"
      ]
     },
     "execution_count": 1,
     "metadata": {},
     "output_type": "execute_result"
    }
   ],
   "source": [
    "KotlinVersion.CURRENT             // 코틀린 현재 버전 "
   ]
  },
  {
   "cell_type": "code",
   "execution_count": null,
   "id": "358e4707",
   "metadata": {},
   "outputs": [],
   "source": []
  },
  {
   "cell_type": "markdown",
   "id": "3debfe27",
   "metadata": {},
   "source": [
    "## 표준 입출력\n",
    "\n",
    "- 키보드로 입력을 받고 화면에 출력하는 함수"
   ]
  },
  {
   "cell_type": "markdown",
   "id": "b9a7383a",
   "metadata": {},
   "source": [
    "## 여러 줄 입력을 처리하기"
   ]
  },
  {
   "cell_type": "code",
   "execution_count": 2,
   "id": "ec44279b",
   "metadata": {},
   "outputs": [
    {
     "name": "stdout",
     "output_type": "stream",
     "text": [
      "stdin:100\n",
      "stdin:200\n",
      "a= 100 b= 200\n",
      " sum 300\n"
     ]
    }
   ],
   "source": [
    "val a = readLine()!!.toInt()\n",
    "val b = readLine()!!.toInt()\n",
    "    \n",
    "print(\"a= $a\"); print(\" b= $b\");print(\"\\n\")\n",
    "println(\" sum ${a + b}\")"
   ]
  },
  {
   "cell_type": "markdown",
   "id": "c0aa10aa",
   "metadata": {},
   "source": [
    "## 한줄 입력을 분리해서 처리하기"
   ]
  },
  {
   "cell_type": "code",
   "execution_count": 3,
   "id": "ab1735cf",
   "metadata": {},
   "outputs": [
    {
     "name": "stdout",
     "output_type": "stream",
     "text": [
      "stdin:100 200\n",
      "300\n"
     ]
    }
   ],
   "source": [
    "val input = readLine()!!.split(\" \").map { it.toInt() }\n",
    "\n",
    "var sum = 0\n",
    "for(i in (0 until input.size)) {\n",
    "    sum += input[i]\n",
    "}\n",
    "println(sum)"
   ]
  },
  {
   "cell_type": "code",
   "execution_count": null,
   "id": "3605361f",
   "metadata": {},
   "outputs": [],
   "source": []
  }
 ],
 "metadata": {
  "kernelspec": {
   "display_name": "Kotlin",
   "language": "kotlin",
   "name": "kotlin"
  },
  "language_info": {
   "codemirror_mode": "text/x-kotlin",
   "file_extension": ".kt",
   "mimetype": "text/x-kotlin",
   "name": "kotlin",
   "nbconvert_exporter": "",
   "pygments_lexer": "kotlin",
   "version": "1.8.20-Beta"
  }
 },
 "nbformat": 4,
 "nbformat_minor": 5
}
