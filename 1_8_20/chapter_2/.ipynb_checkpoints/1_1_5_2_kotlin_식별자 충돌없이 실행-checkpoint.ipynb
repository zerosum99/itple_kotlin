{
 "cells": [
  {
   "cell_type": "code",
   "execution_count": null,
   "id": "5efd6c77",
   "metadata": {},
   "outputs": [],
   "source": []
  },
  {
   "cell_type": "code",
   "execution_count": 1,
   "id": "5ff1335b",
   "metadata": {},
   "outputs": [
    {
     "data": {
      "text/plain": [
       "1.8.20"
      ]
     },
     "execution_count": 1,
     "metadata": {},
     "output_type": "execute_result"
    }
   ],
   "source": [
    "KotlinVersion.CURRENT             // 코틀린 현재 버전 "
   ]
  },
  {
   "cell_type": "markdown",
   "id": "6fef2886",
   "metadata": {},
   "source": [
    "#  식별자 확인하기 "
   ]
  },
  {
   "cell_type": "code",
   "execution_count": null,
   "id": "b316020b",
   "metadata": {},
   "outputs": [],
   "source": []
  },
  {
   "cell_type": "code",
   "execution_count": 2,
   "id": "37512d71",
   "metadata": {},
   "outputs": [],
   "source": [
    "fun main() {\n",
    "    val IntArray = intArrayOf(1,2,3,4) // 함수로 배열 생성하고 지역변수에 저장 \n",
    "    val main = \" main string \"         // 지역변수에 문자열 저장\n",
    "    val println : IntArray = IntArray  // 지역변수에 지역변수 할당\n",
    "    val main_= {println(\"Hello \")}     // 지역변수에 람다 표현식(함수) 할당\n",
    "    \n",
    "    println(IntArray.contentToString())\n",
    "    println(main)\n",
    "    println(println.contentToString())\n",
    "    println(::main)                    // 메인함수 참조\n",
    "    println(main_)                     // 변수에 할당된 람다표현식 참죠 \n",
    "}"
   ]
  },
  {
   "cell_type": "code",
   "execution_count": 3,
   "id": "84d05003",
   "metadata": {},
   "outputs": [
    {
     "name": "stdout",
     "output_type": "stream",
     "text": [
      "[1, 2, 3, 4]\n",
      " main string \n",
      "[1, 2, 3, 4]\n",
      "fun Line_1_jupyter.main(): kotlin.Unit\n",
      "() -> kotlin.Unit\n"
     ]
    }
   ],
   "source": [
    "main()"
   ]
  },
  {
   "cell_type": "code",
   "execution_count": null,
   "id": "b056b07f",
   "metadata": {},
   "outputs": [],
   "source": []
  }
 ],
 "metadata": {
  "kernelspec": {
   "display_name": "Kotlin",
   "language": "kotlin",
   "name": "kotlin"
  },
  "language_info": {
   "codemirror_mode": "text/x-kotlin",
   "file_extension": ".kt",
   "mimetype": "text/x-kotlin",
   "name": "kotlin",
   "nbconvert_exporter": "",
   "pygments_lexer": "kotlin",
   "version": "1.8.20-Beta"
  }
 },
 "nbformat": 4,
 "nbformat_minor": 5
}
