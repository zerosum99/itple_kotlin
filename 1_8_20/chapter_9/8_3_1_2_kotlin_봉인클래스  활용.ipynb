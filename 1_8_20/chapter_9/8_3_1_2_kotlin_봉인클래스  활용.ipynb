{
 "cells": [
  {
   "cell_type": "code",
   "execution_count": null,
   "id": "8b81b8d9",
   "metadata": {},
   "outputs": [],
   "source": []
  },
  {
   "cell_type": "code",
   "execution_count": 1,
   "id": "c8d3d1c2",
   "metadata": {},
   "outputs": [
    {
     "data": {
      "text/plain": [
       "1.8.20"
      ]
     },
     "execution_count": 1,
     "metadata": {},
     "output_type": "execute_result"
    }
   ],
   "source": [
    "KotlinVersion.CURRENT             // 코틀린 현재 버전 "
   ]
  },
  {
   "cell_type": "code",
   "execution_count": null,
   "id": "8cd658d0",
   "metadata": {},
   "outputs": [],
   "source": []
  },
  {
   "cell_type": "markdown",
   "id": "cffb007c",
   "metadata": {},
   "source": [
    "## 일반클래스와 봉인 클래스 활용히가ㅡ"
   ]
  },
  {
   "cell_type": "code",
   "execution_count": 2,
   "id": "01b9f8a5",
   "metadata": {},
   "outputs": [
    {
     "name": "stdout",
     "output_type": "stream",
     "text": [
      "결제할 금액은  $123\n",
      "영수증 금액은  $999900000\n"
     ]
    }
   ],
   "source": [
    "class PrintText(val temp: String): (Int) -> String {        // 함수 자료형을 상속을 받은 클래스 정의 \n",
    "                                                            // 특정 문자열을 처리하는 템플릿을 속성처리\n",
    "    override fun invoke(amount: Int): String =              // 실행 연산을 정의한다.  \n",
    "                 temp.replace(\"%\", amount.toString())       // 특정 문자열에 전달 받은 값을 대체한다 \n",
    "}\n",
    "\n",
    "sealed class TemplateString                                 // 특정 문자열 처리하는 봉인 클래스 정의\n",
    "object ReceiptTxtObj : TemplateString() {                   // object 선언 정의 \n",
    "    operator fun invoke(amount: Int): String {\n",
    "        val a = PrintText(\"결제할 금액은  $%\")                  // 외부 클래스의 정의한 객체를 만들어서 템플릿 처리\n",
    "        return a(amount)\n",
    "    }\n",
    "}\n",
    "class ReceiptTxt : TemplateString() {                         \n",
    "    operator fun invoke(temp: String, amount: Int):         // 템플릿과 금액을 받는 템플릿 처리\n",
    "                                              String {\n",
    "         val a = PrintText(temp)                            // 전달 받은 템플릿으로 처리\n",
    "         return a(amount)\n",
    "    }\n",
    "}\n",
    "\n",
    "println(ReceiptTxtObj(123))                                 // 객체 실행 \n",
    "println(ReceiptTxt()(\"영수증 금액은  $%\",999900000))                 // 객체 생성후 실행"
   ]
  },
  {
   "cell_type": "code",
   "execution_count": null,
   "id": "e66c2529",
   "metadata": {},
   "outputs": [],
   "source": []
  },
  {
   "cell_type": "code",
   "execution_count": null,
   "id": "d6f335c4",
   "metadata": {},
   "outputs": [],
   "source": []
  },
  {
   "cell_type": "code",
   "execution_count": null,
   "id": "ec435310",
   "metadata": {},
   "outputs": [],
   "source": []
  },
  {
   "cell_type": "code",
   "execution_count": null,
   "id": "698341af",
   "metadata": {},
   "outputs": [],
   "source": []
  },
  {
   "cell_type": "code",
   "execution_count": null,
   "id": "a668dbb8",
   "metadata": {},
   "outputs": [],
   "source": []
  },
  {
   "cell_type": "code",
   "execution_count": null,
   "id": "37dd17d4",
   "metadata": {},
   "outputs": [],
   "source": []
  }
 ],
 "metadata": {
  "kernelspec": {
   "display_name": "Kotlin",
   "language": "kotlin",
   "name": "kotlin"
  },
  "language_info": {
   "codemirror_mode": "text/x-kotlin",
   "file_extension": ".kt",
   "mimetype": "text/x-kotlin",
   "name": "kotlin",
   "nbconvert_exporter": "",
   "pygments_lexer": "kotlin",
   "version": "1.8.20-Beta"
  }
 },
 "nbformat": 4,
 "nbformat_minor": 5
}
