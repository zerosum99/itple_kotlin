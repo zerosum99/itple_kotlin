{
 "cells": [
  {
   "cell_type": "code",
   "execution_count": null,
   "id": "ec73eae9",
   "metadata": {},
   "outputs": [],
   "source": []
  },
  {
   "cell_type": "code",
   "execution_count": 1,
   "id": "ba3ab392",
   "metadata": {},
   "outputs": [
    {
     "data": {
      "text/plain": [
       "1.8.20"
      ]
     },
     "execution_count": 1,
     "metadata": {},
     "output_type": "execute_result"
    }
   ],
   "source": [
    "KotlinVersion.CURRENT             // 코틀린 현재 버전 "
   ]
  },
  {
   "cell_type": "code",
   "execution_count": null,
   "id": "a8205007",
   "metadata": {},
   "outputs": [],
   "source": []
  },
  {
   "cell_type": "markdown",
   "id": "3e7ce836",
   "metadata": {},
   "source": [
    "## 추상클래스 정의"
   ]
  },
  {
   "cell_type": "code",
   "execution_count": 2,
   "id": "e3675f1c",
   "metadata": {},
   "outputs": [
    {
     "name": "stdout",
     "output_type": "stream",
     "text": [
      "name= 김영옥  age= 77\n"
     ]
    }
   ],
   "source": [
    "abstract class Abstract {                    // 추상클래스 정의          \n",
    "    abstract var age : Int                   // 추상속성 저의\n",
    "    abstract val name : String\n",
    "    \n",
    "    abstract fun display() :Unit             // 추상 메소드 정의 \n",
    "}\n",
    "\n",
    "class Concrete(name:String, age:Int) :       // 구현 클래스 정의 및 주 생성자 정의\n",
    "                             Abstract() {    // 추상 클래스 상속하고 위임 호출\n",
    "    override var age : Int = age             // 속성 오버라이딩 \n",
    "    override var name : String = name        // 속성 오버라이딩\n",
    "    \n",
    "    override fun display() : Unit {          // 메소드 오버라이딩 \n",
    "        println(\"name= $name  age= $age\")\n",
    "    }\n",
    "}\n",
    "\n",
    "val con = Concrete(\"김영옥\", 77)               // 객체 생성\n",
    "con.display()                                // 메소드 호출"
   ]
  },
  {
   "cell_type": "code",
   "execution_count": null,
   "id": "9dba289c",
   "metadata": {},
   "outputs": [],
   "source": []
  },
  {
   "cell_type": "markdown",
   "id": "4025749a",
   "metadata": {},
   "source": [
    "## 추상클래스 정의 : 구현속성과 구현메소드 포함"
   ]
  },
  {
   "cell_type": "code",
   "execution_count": 3,
   "id": "29685a71",
   "metadata": {},
   "outputs": [
    {
     "name": "stdout",
     "output_type": "stream",
     "text": [
      "dahl\n",
      "dahl 님의 직업은 소프트웨어 아키텍트 입니다.\n",
      "40\n",
      "주민번호 is 1234.\n"
     ]
    }
   ],
   "source": [
    "abstract class Person {                              // 추상클래스 정의\n",
    "    \n",
    "    var age: Int = 40                                // 일반속성 정의 \n",
    "    abstract val name : String                       // 추상 속성 정의 \n",
    "\n",
    "    open fun displaySSN(ssn: Int) {                  // 일반메소드 정의 \n",
    "        println(\"주민번호 is $ssn.\")\n",
    "    }\n",
    "    abstract fun displayJob(description: String)     // 추상메소드 정의 \n",
    "}\n",
    "\n",
    "class Man(name : String  ) : Person() {               // 구현 클래스 정의\n",
    "    override var name : String = name                // 추상 속성 오버라이딩\n",
    "    override fun displayJob(description : String) {  // 추상 메소드 오버라이딩\n",
    "        println(\"$name 님의 직업은 $description 입니다.\")\n",
    "    }\n",
    "    override fun displaySSN(ssn:Int) {                // 일반 메소드 오버라이딩\n",
    "        super.displaySSN(ssn)                         // 추상클래스의 일반 메소드 호출\n",
    "    }\n",
    "}\n",
    "\n",
    "val m = Man(\"dahl\")                                   // 객체 생성\n",
    "println(m.name)                                       // 오버라이딩 속성 참조\n",
    "m.displayJob(\"소프트웨어 아키텍트\")                        // 오버라이딩 메소드 참조\n",
    "println(m.age)                                        // 일반 속성 참조\n",
    "m.displaySSN(1234)                                    // 재정의한 일반 메소드 처리 "
   ]
  },
  {
   "cell_type": "code",
   "execution_count": null,
   "id": "66015847",
   "metadata": {},
   "outputs": [],
   "source": []
  },
  {
   "cell_type": "markdown",
   "id": "77cdf60f",
   "metadata": {},
   "source": [
    "## 초기화 실행 이해"
   ]
  },
  {
   "cell_type": "code",
   "execution_count": 4,
   "id": "949cb451",
   "metadata": {},
   "outputs": [
    {
     "name": "stdout",
     "output_type": "stream",
     "text": [
      "이름은  이수미.\n",
      "초등학교 선생님\n",
      "주민번호는 23123.\n"
     ]
    }
   ],
   "source": [
    "abstract class Person(name: String) {                 // 추상클래스의 주 생성자 정의 \n",
    "    init {                                            // 초기화 블럭 정의\n",
    "        println(\"이름은  $name.\")                       // 주생성자의 매개변수 사용 \n",
    "    }\n",
    "    fun displaySSN(ssn: Int) {                        // 일반메소드 정의 \n",
    "        println(\"주민번호는 $ssn.\")\n",
    "    }\n",
    "    abstract fun displayJob(description: String)      // 추상메소드 정의 \n",
    "}\n",
    "\n",
    "class Woman(name: String): Person(name) {             // 구현클래스 정의 추상클레스 위임호출 \n",
    "    override fun displayJob(description: String) {    // 추상클래스 오버라이딩 \n",
    "        println(description)\n",
    "    }\n",
    "}\n",
    "\n",
    "val w = Woman(\"이수미\")                                 // 객체 생성\n",
    "w.displayJob(\"초등학교 선생님\")                           // 구현 메소드 호출\n",
    "w.displaySSN(23123)                                   // 추상클래스의 일반 메소드 호출\n"
   ]
  },
  {
   "cell_type": "code",
   "execution_count": null,
   "id": "45107c7a",
   "metadata": {},
   "outputs": [],
   "source": []
  },
  {
   "cell_type": "code",
   "execution_count": null,
   "id": "1508606b",
   "metadata": {},
   "outputs": [],
   "source": []
  }
 ],
 "metadata": {
  "kernelspec": {
   "display_name": "Kotlin",
   "language": "kotlin",
   "name": "kotlin"
  },
  "language_info": {
   "codemirror_mode": "text/x-kotlin",
   "file_extension": ".kt",
   "mimetype": "text/x-kotlin",
   "name": "kotlin",
   "nbconvert_exporter": "",
   "pygments_lexer": "kotlin",
   "version": "1.8.20-Beta"
  }
 },
 "nbformat": 4,
 "nbformat_minor": 5
}
