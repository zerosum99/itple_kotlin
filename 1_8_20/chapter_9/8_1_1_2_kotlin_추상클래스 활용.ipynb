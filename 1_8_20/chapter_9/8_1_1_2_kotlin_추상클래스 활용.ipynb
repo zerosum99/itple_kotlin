{
 "cells": [
  {
   "cell_type": "code",
   "execution_count": null,
   "id": "7b27f2da",
   "metadata": {},
   "outputs": [],
   "source": []
  },
  {
   "cell_type": "code",
   "execution_count": 1,
   "id": "db73c075",
   "metadata": {},
   "outputs": [
    {
     "data": {
      "text/plain": [
       "1.8.20"
      ]
     },
     "execution_count": 1,
     "metadata": {},
     "output_type": "execute_result"
    }
   ],
   "source": [
    "KotlinVersion.CURRENT             // 코틀린 현재 버전 "
   ]
  },
  {
   "cell_type": "code",
   "execution_count": null,
   "id": "23f3e4ee",
   "metadata": {},
   "outputs": [],
   "source": []
  },
  {
   "cell_type": "markdown",
   "id": "a8cf3283",
   "metadata": {},
   "source": [
    "## 특정 기능을 묶어서 제약할 때 사용"
   ]
  },
  {
   "cell_type": "code",
   "execution_count": 2,
   "id": "5550edaf",
   "metadata": {},
   "outputs": [
    {
     "name": "stdout",
     "output_type": "stream",
     "text": [
      "덧셈 처리 30\n",
      "뺄셈 처리 -10\n",
      "곱셈 처리 200\n"
     ]
    }
   ],
   "source": [
    "abstract class BiOperator {                        // 추상 클래스 정의 \n",
    "    abstract fun cal(x: Int, y: Int) : Int         // 추상 메소드 정의\n",
    "}\n",
    "\n",
    "class Add : BiOperator() {                         // 구현 클래스 정의 \n",
    "    override fun cal(x: Int, y: Int) = x + y       // 추상메소드 구현\n",
    "}\n",
    "\n",
    "class Sub : BiOperator() {                         // 구현 클래스 정의 \n",
    "    override fun cal(x: Int, y: Int) =  x - y      // 추상 메소드 구현 \n",
    "}\n",
    "\n",
    "class Mul : BiOperator() {                         // 구현 클래스 정의 \n",
    "    override fun cal(x: Int, y: Int) = x * y       // 추상메소드 구현\n",
    "}\n",
    "\n",
    "fun cal(obj :BiOperator, x:Int, y:Int ) =          // 공통처리 가능한 함수 정의\n",
    "                                obj.cal(x,y)\n",
    "\n",
    "var add: BiOperator = Add()                        // 객체 생성\n",
    "var x1 = cal(add, 10,20)                           // 메소드 처리\n",
    "println(\"덧셈 처리 $x1\")\n",
    "var sub: BiOperator = Sub()                        // 객체 생성\n",
    "var x2 = cal(sub, 10,20)                           // 메소드 처리\n",
    "println(\"뺄셈 처리 $x2\")\n",
    "var mul: BiOperator = Mul()                        // 객체 생성 \n",
    "var x3 = cal(mul, 10,20)                           // 메소드 처리\n",
    "println(\"곱셈 처리 $x3\")\n"
   ]
  },
  {
   "cell_type": "code",
   "execution_count": null,
   "id": "d38b8045",
   "metadata": {},
   "outputs": [],
   "source": []
  },
  {
   "cell_type": "markdown",
   "id": "ed2c267b",
   "metadata": {},
   "source": [
    "## 추상클래스를 상속받아 익명클래스 정의"
   ]
  },
  {
   "cell_type": "code",
   "execution_count": 3,
   "id": "291a5849",
   "metadata": {},
   "outputs": [
    {
     "name": "stdout",
     "output_type": "stream",
     "text": [
      "이동합니다.\n",
      "공중 공격을 해요\n"
     ]
    }
   ],
   "source": [
    "abstract class Weapon{                   // 추상클래스 정의 \n",
    "    fun move(){                          // 일반 메소드 정의 \n",
    "        println(\"이동합니다.\")\n",
    "    }\n",
    "    abstract fun attack()                 // 추상메소드 정의 \n",
    "}\n",
    "var w2=object : Weapon(){                 // 객체 표현식으로 익명객체\n",
    "    override fun attack() {               // 추상 메소드 구현  \n",
    "        println(\"공중 공격을 해요\")\n",
    "    }\n",
    " \n",
    "}\n",
    "\n",
    "w2.move()                                 //이동합니다.package\n",
    "w2.attack()                               //공중 공격을 해요"
   ]
  },
  {
   "cell_type": "code",
   "execution_count": null,
   "id": "fba5442d",
   "metadata": {},
   "outputs": [],
   "source": []
  },
  {
   "cell_type": "markdown",
   "id": "da82a680",
   "metadata": {},
   "source": [
    "## 두 단계 상속해서 구현"
   ]
  },
  {
   "cell_type": "code",
   "execution_count": 4,
   "id": "0fb6be10",
   "metadata": {},
   "outputs": [
    {
     "name": "stdout",
     "output_type": "stream",
     "text": [
      "이름 : 강유민\n",
      "경력 : 2\n",
      "연봉 : 500000.0\n",
      "이름 : 강유민\n",
      "나이 : 22\n",
      "생일 : 2002-08-16\n"
     ]
    }
   ],
   "source": [
    "abstract class Person(val name : String,             // 최상위 추상 클래스 정의\n",
    "                      val age: Int )  {              // 속성만 정의 \n",
    "       fun getPersonDetails() {                      // 일반 메소드 정의              \n",
    "            println(\"이름 : $name\")\n",
    "            println(\"나이 : $age\")\n",
    "       }\n",
    "}\n",
    "\n",
    "abstract class Employee(name: String,age:Int,       // 하위 추상클래스 정의    \n",
    "                        val experience: Int)        // 추가 속성 정의\n",
    "                              : Person(name,age){   // 추상 클래스의 위임호출\n",
    "                                                                  \n",
    "    abstract var salary: Double                     // 추상 메소드 정의 \n",
    "    abstract fun dateOfBirth(date:String):Unit      // 추상 메소드 정의  \n",
    "    fun getDetails() {                              // 일반 메소드 정의              \n",
    "        println(\"이름 : $name\")\n",
    "        println(\"경력 : $experience\")\n",
    "        println(\"연봉 : $salary\")\n",
    "    }\n",
    "}\n",
    "\n",
    "class Engineer(name: String,age:Int,                // 구현 클래스 정의\n",
    "               experience: Int)                     // 주생성자에 매개변수 정의 \n",
    "                : Employee(name,age,experience) {   // 위임 호출로 매개변수 전달 \n",
    "    \n",
    "    override var salary = 500000.00                 // 추상메소드 구현\n",
    "    override fun dateOfBirth(date:String){          // 추상메소드 구현 \n",
    "        println(\"생일 : $date\")\n",
    "    }\n",
    "}\n",
    "\n",
    "val eng = Engineer(\"강유민\",22, 2)                    // 객체 생성\n",
    "eng.getDetails()                                    // 상위의 일반 메소드 호출\n",
    "eng.getPersonDetails()                              // 최상위 일반 메소드 호출 \n",
    "eng.dateOfBirth(\"2002-08-16\")                       // 구현메소드 호출 "
   ]
  },
  {
   "cell_type": "code",
   "execution_count": null,
   "id": "a032aaea",
   "metadata": {},
   "outputs": [],
   "source": []
  },
  {
   "cell_type": "markdown",
   "id": "75eed7e2",
   "metadata": {},
   "source": [
    "## 추상클래스와 구현클래스 계층 상속"
   ]
  },
  {
   "cell_type": "code",
   "execution_count": 5,
   "id": "0b7942da",
   "metadata": {},
   "outputs": [
    {
     "name": "stdout",
     "output_type": "stream",
     "text": [
      "지구내에 활동중\n",
      "호흡하는 동물 \n",
      "개는 호흡 \n",
      "지구내에 활동중\n"
     ]
    }
   ],
   "source": [
    "abstract class Creature {                       // 추상클래스 정의                          \n",
    "    abstract fun action()                       // 추상메소드 정의 \n",
    "}\n",
    "\n",
    "open class BreathingCreature : Creature() {     // 구현 클래스 정의 \n",
    "    final override fun action() {               // 추상 메소드 구현 하위에서 오버라이딩 금지 \n",
    "        println(\"지구내에 활동중\")\n",
    "    }\n",
    "    open fun breathe() {                        // 일반 메소드 정의 하위 재정의 허용\n",
    "        println(\"호흡하는 동물 \")\n",
    "    }\n",
    "}\n",
    "\n",
    "abstract class Animal : BreathingCreature() {   // 추상 클래스 정의 \n",
    "    override abstract fun breathe()             // 구현 클래스의 일반 메소드를 추상메소드로 재정의 \n",
    "}\n",
    "\n",
    "class Dog: Animal(){                            // 구현 클래스 정의 \n",
    "    override fun breathe() {                    // 추상 메소드 구현 \n",
    "        println(\"개는 호흡 \")\n",
    "    }\n",
    "}\n",
    "\n",
    "val lt = BreathingCreature()                    // 상위 구현 클래스로 객체 생성 \n",
    "lt.action()                                     // 구현 메소드 호출\n",
    "lt.breathe()                                    // 구현 메소드 호출\n",
    "val d = Dog()                                   // 하위 구현 클래스로 객체 생성\n",
    "d.breathe()                                     // 구현 메소드 호출\n",
    "d.action()                                      // 상위 구현클래스의 메소드 사용"
   ]
  },
  {
   "cell_type": "code",
   "execution_count": null,
   "id": "53aae03e",
   "metadata": {},
   "outputs": [],
   "source": []
  },
  {
   "cell_type": "markdown",
   "id": "f69b08f6",
   "metadata": {},
   "source": [
    "## 추상클래스 내부의 추상확장 함수 정의된 경우 처리"
   ]
  },
  {
   "cell_type": "code",
   "execution_count": 6,
   "id": "7480827d",
   "metadata": {},
   "outputs": [
    {
     "name": "stdout",
     "output_type": "stream",
     "text": [
      "hello 코틀린 !!!\n",
      "추상클래스의 확장함수\n"
     ]
    }
   ],
   "source": [
    "abstract class Base {                                      // 추상클래스를 정의\n",
    "    abstract fun String.extension(x: String) :String       // 문자열 확장함수를 추상메소드로 정의 \n",
    "}\n",
    "\n",
    "class Derived : Base() {                                   // 구현 클래스 정의\n",
    "    override fun String.extension(x: String): String {     // 추상 확장함수를 구현 \n",
    "        return \"$this ${x} !!!\"\n",
    "    }\n",
    "\n",
    "    fun callExtension(c: String):String {                  // 메소드 구현 \n",
    "        return \"hello\".extension(c)                        // 문자열 확장함수를 호출\n",
    "    }\n",
    "}\n",
    "\n",
    "val base = Derived()                                       // 객체 생성\n",
    "println(base.callExtension(\"코틀린\"))                        // 일반 메소드 호출 \n",
    "\n",
    "fun Base.selectPrint() = println(\"추상클래스의 확장함수\")        // 추상클래스의 확장함수 정의 \n",
    "base.selectPrint()"
   ]
  },
  {
   "cell_type": "code",
   "execution_count": null,
   "id": "273547cd",
   "metadata": {},
   "outputs": [],
   "source": []
  },
  {
   "cell_type": "markdown",
   "id": "5517c89c",
   "metadata": {},
   "source": [
    "## object 선언 과 동반객체 "
   ]
  },
  {
   "cell_type": "code",
   "execution_count": 7,
   "id": "b264533c",
   "metadata": {},
   "outputs": [
    {
     "name": "stdout",
     "output_type": "stream",
     "text": [
      " 객체 선언에 구현한 메소드 \n",
      " 동반객체 내에 구현한 메소드 \n"
     ]
    }
   ],
   "source": [
    "abstract class AO {                                     // 추상 클래스 정의 \n",
    "    abstract fun canUse() : Unit\n",
    "}\n",
    "\n",
    "object BO : AO() {                                      // 객체 표현식에서 추상클래스 상속\n",
    "    override fun canUse() =                             // 추상 메소드 구현 \n",
    "                  println(\" 객체 선언에 구현한 메소드 \")\n",
    "}\n",
    "\n",
    "BO.canUse()                                             // 메소드 호출 \n",
    "\n",
    "abstract class IC {                                     // 추상 클래스 정의 \n",
    "    abstract fun canUse() : Unit\n",
    "}\n",
    "\n",
    "class AC {                                              // 클래스 정의 \n",
    "    companion object :IC() {                            // 동반객체에서 추상클래스 상속\n",
    "        override fun canUse() =                         // 추상메소드 구현 \n",
    "                   println(\" 동반객체 내에 구현한 메소드 \")\n",
    "        \n",
    "    }\n",
    "}\n",
    "\n",
    "AC.canUse()                                             // 메소드 실행 "
   ]
  },
  {
   "cell_type": "code",
   "execution_count": null,
   "id": "3d206a95",
   "metadata": {},
   "outputs": [],
   "source": []
  },
  {
   "cell_type": "code",
   "execution_count": null,
   "id": "48dc9226",
   "metadata": {},
   "outputs": [],
   "source": []
  },
  {
   "cell_type": "code",
   "execution_count": null,
   "id": "6a977656",
   "metadata": {},
   "outputs": [],
   "source": []
  }
 ],
 "metadata": {
  "kernelspec": {
   "display_name": "Kotlin",
   "language": "kotlin",
   "name": "kotlin"
  },
  "language_info": {
   "codemirror_mode": "text/x-kotlin",
   "file_extension": ".kt",
   "mimetype": "text/x-kotlin",
   "name": "kotlin",
   "nbconvert_exporter": "",
   "pygments_lexer": "kotlin",
   "version": "1.8.20-Beta"
  }
 },
 "nbformat": 4,
 "nbformat_minor": 5
}
