{
 "cells": [
  {
   "cell_type": "code",
   "execution_count": 1,
   "id": "ecab4543",
   "metadata": {},
   "outputs": [],
   "source": [
    "class MyFunction: ()->Unit {\n",
    "\n",
    "    override fun invoke() {\n",
    "        println(\"I am called\")\n",
    "    }\n",
    "}"
   ]
  },
  {
   "cell_type": "code",
   "execution_count": 2,
   "id": "0aca52ac",
   "metadata": {},
   "outputs": [
    {
     "name": "stdout",
     "output_type": "stream",
     "text": [
      "I am called\n"
     ]
    }
   ],
   "source": [
    "val function = MyFunction()\n",
    "function()                      // Prints: I am called"
   ]
  },
  {
   "cell_type": "code",
   "execution_count": 3,
   "id": "85d5481a",
   "metadata": {},
   "outputs": [],
   "source": [
    "class A : Function<Unit> {\n",
    "      operator fun invoke() {\n",
    "        println(\"I am called\")\n",
    "    }\n",
    "}"
   ]
  },
  {
   "cell_type": "code",
   "execution_count": 4,
   "id": "a530e866",
   "metadata": {},
   "outputs": [],
   "source": [
    "val functionA = A()\n"
   ]
  },
  {
   "cell_type": "code",
   "execution_count": 5,
   "id": "67b8c28f",
   "metadata": {},
   "outputs": [
    {
     "name": "stdout",
     "output_type": "stream",
     "text": [
      "I am called\n"
     ]
    }
   ],
   "source": [
    "functionA()"
   ]
  },
  {
   "cell_type": "code",
   "execution_count": null,
   "id": "fa558b30",
   "metadata": {},
   "outputs": [],
   "source": []
  },
  {
   "cell_type": "code",
   "execution_count": 6,
   "id": "277083b3",
   "metadata": {},
   "outputs": [],
   "source": [
    "class B : Function<()->Unit> { \n",
    "      operator fun invoke()= {\n",
    "        println(\"I am called\")\n",
    "    }\n",
    "}"
   ]
  },
  {
   "cell_type": "code",
   "execution_count": 7,
   "id": "b8671ef6",
   "metadata": {},
   "outputs": [],
   "source": [
    "val functionB = B()"
   ]
  },
  {
   "cell_type": "code",
   "execution_count": 8,
   "id": "2e19d937",
   "metadata": {},
   "outputs": [
    {
     "name": "stdout",
     "output_type": "stream",
     "text": [
      "I am called\n"
     ]
    }
   ],
   "source": [
    "functionB()()"
   ]
  },
  {
   "cell_type": "code",
   "execution_count": null,
   "id": "75dc2023",
   "metadata": {},
   "outputs": [],
   "source": []
  },
  {
   "cell_type": "code",
   "execution_count": null,
   "id": "b1606743",
   "metadata": {},
   "outputs": [],
   "source": []
  },
  {
   "cell_type": "code",
   "execution_count": 9,
   "id": "62cb0eb2",
   "metadata": {},
   "outputs": [
    {
     "name": "stderr",
     "output_type": "stream",
     "text": [
      "Line_8.jupyter-kts (1:1 - 20) Property must be initialized or be abstract\n",
      "Line_8.jupyter-kts (2:1 - 23) Property must be initialized or be abstract\n",
      "Line_8.jupyter-kts (3:1 - 33) Property must be initialized or be abstract"
     ]
    }
   ],
   "source": [
    "val greet: ()->Unit\n",
    "val square: (Int)->Int\n",
    "val producePrinter: ()->()->Unit\n",
    "\n",
    "fun greetFunction() {\n",
    "    println(\"Hello\")\n",
    "}\n",
    "val greet = ::greetFunction"
   ]
  },
  {
   "cell_type": "code",
   "execution_count": 10,
   "id": "725ace4d",
   "metadata": {},
   "outputs": [],
   "source": [
    "fun greetFunction() {\n",
    "    println(\"Hello\")\n",
    "}\n",
    "val greet = ::greetFunction"
   ]
  },
  {
   "cell_type": "code",
   "execution_count": 11,
   "id": "aa4be6fd",
   "metadata": {},
   "outputs": [
    {
     "name": "stdout",
     "output_type": "stream",
     "text": [
      "Hello\n"
     ]
    }
   ],
   "source": [
    "greet()"
   ]
  },
  {
   "cell_type": "code",
   "execution_count": 12,
   "id": "c563e6cf",
   "metadata": {},
   "outputs": [
    {
     "name": "stdout",
     "output_type": "stream",
     "text": [
      "Hello\n",
      "4\n",
      "I am printing\n"
     ]
    }
   ],
   "source": [
    "val greet: ()->Unit = { println(\"Hello\") }\n",
    "val square: (Int)->Int = { x -> x * x }\n",
    "val producePrinter: ()->()->Unit = { { println(\"I am printing\") } }\n",
    "// Usage\n",
    "greet() // Prints: Hello\n",
    "println(square(2)) // Prints: 4\n",
    "producePrinter()() // Prints: I am printing"
   ]
  },
  {
   "cell_type": "code",
   "execution_count": 13,
   "id": "a8e608c5",
   "metadata": {},
   "outputs": [],
   "source": [
    "val greet = { println(\"Hello\") }\n",
    "val square = { x: Int -> x * x }\n",
    "val producePrinter = { { println(\"I am printing\") } }"
   ]
  },
  {
   "cell_type": "code",
   "execution_count": 14,
   "id": "f21625b9",
   "metadata": {},
   "outputs": [],
   "source": [
    "val greet: ()->Unit = fun() { println(\"Hello\") }\n",
    "val square: (Int)->Int = fun(x) = x * x\n",
    "val producePrinter: ()->()->Unit = fun() = fun() { println(\"I am printing\") }"
   ]
  },
  {
   "cell_type": "code",
   "execution_count": null,
   "id": "100a21f6",
   "metadata": {},
   "outputs": [],
   "source": []
  },
  {
   "cell_type": "code",
   "execution_count": 15,
   "id": "fa186902",
   "metadata": {},
   "outputs": [],
   "source": [
    "class ClassName : (Int, Int) -> Int {\n",
    "  \n",
    "  /**\n",
    "     * 4/24/2020\n",
    "     * Override method when we implement a function type\n",
    "     * <p>\n",
    "     * Like an interface, we can implement a function type too.\n",
    "     * When we implement a function type, we get a method called \"invoke\" to override having a similar signature of the\n",
    "     * implemented function type\n",
    "     * </p>\n",
    "     * @author srdpatel\n",
    "     * @since 1.0\n",
    "     */\n",
    "  override fun invoke(p1: Int, p2:Int): Int {\n",
    "      return p1 + p2 \n",
    "  }\n",
    "}"
   ]
  },
  {
   "cell_type": "code",
   "execution_count": 16,
   "id": "435162b0",
   "metadata": {},
   "outputs": [],
   "source": [
    "class ReceiptText(val template: String): (Int) -> String {\n",
    "  override fun invoke(amount: Int): String =\n",
    "        template.replace(\"%\", amount.toString())\n",
    "}"
   ]
  },
  {
   "cell_type": "code",
   "execution_count": 17,
   "id": "830affe1",
   "metadata": {},
   "outputs": [],
   "source": [
    "val receipt = ReceiptText(\"Thank you for you donation of $%!\")"
   ]
  },
  {
   "cell_type": "code",
   "execution_count": 18,
   "id": "efa46699",
   "metadata": {},
   "outputs": [
    {
     "data": {
      "text/plain": [
       "Thank you for you donation of $123!"
      ]
     },
     "execution_count": 18,
     "metadata": {},
     "output_type": "execute_result"
    }
   ],
   "source": [
    "receipt(123)"
   ]
  },
  {
   "cell_type": "code",
   "execution_count": 19,
   "id": "054dc1d7",
   "metadata": {},
   "outputs": [],
   "source": [
    "fun receiptText(template: String): (Int) -> String = {\n",
    "    amount -> template.replace(\"%\", amount.toString())\n",
    "}"
   ]
  },
  {
   "cell_type": "code",
   "execution_count": 20,
   "id": "8462dd2f",
   "metadata": {},
   "outputs": [],
   "source": [
    "val rece = receiptText(\"Thank you for you donation of $%!\")"
   ]
  },
  {
   "cell_type": "code",
   "execution_count": 21,
   "id": "92b38643",
   "metadata": {},
   "outputs": [
    {
     "data": {
      "text/plain": [
       "Thank you for you donation of $123!"
      ]
     },
     "execution_count": 21,
     "metadata": {},
     "output_type": "execute_result"
    }
   ],
   "source": [
    "rece(123)"
   ]
  },
  {
   "cell_type": "code",
   "execution_count": null,
   "id": "b1d693e0",
   "metadata": {},
   "outputs": [],
   "source": []
  },
  {
   "cell_type": "code",
   "execution_count": 22,
   "id": "34582062",
   "metadata": {},
   "outputs": [],
   "source": [
    "fun receiptText_(template: String): (Int) -> String { \n",
    "    return fun (amount:Int) : String {\n",
    "               return template.replace(\"%\", amount.toString())\n",
    "           }\n",
    "}"
   ]
  },
  {
   "cell_type": "code",
   "execution_count": null,
   "id": "3a874549",
   "metadata": {},
   "outputs": [],
   "source": []
  },
  {
   "cell_type": "code",
   "execution_count": 23,
   "id": "c844cafc",
   "metadata": {},
   "outputs": [],
   "source": [
    "sealed class TemplateString\n",
    "//an object with invoke operator\n",
    "object ReceiptTextObj : TemplateString() {\n",
    "    operator fun invoke(amount: Int): String {\n",
    "        val a = ReceiptText(\"My receipt for $%\")\n",
    "        return a(amount)\n",
    "    }\n",
    "    operator fun invoke(template: String, amount: Int): String {\n",
    "         val a = ReceiptText(template)\n",
    "         return a(amount)\n",
    "    }\n",
    "}"
   ]
  },
  {
   "cell_type": "code",
   "execution_count": 24,
   "id": "21b2ea2b",
   "metadata": {},
   "outputs": [
    {
     "data": {
      "text/plain": [
       "My receipt for $123"
      ]
     },
     "execution_count": 24,
     "metadata": {},
     "output_type": "execute_result"
    }
   ],
   "source": [
    "ReceiptTextObj(123)"
   ]
  },
  {
   "cell_type": "code",
   "execution_count": 25,
   "id": "fb7b4200",
   "metadata": {},
   "outputs": [
    {
     "data": {
      "text/plain": [
       "My receipt for xxx. $123"
      ]
     },
     "execution_count": 25,
     "metadata": {},
     "output_type": "execute_result"
    }
   ],
   "source": [
    "ReceiptTextObj(\"My receipt for xxx. $%\", 123)"
   ]
  },
  {
   "cell_type": "code",
   "execution_count": null,
   "id": "a926f1d3",
   "metadata": {},
   "outputs": [],
   "source": []
  },
  {
   "cell_type": "code",
   "execution_count": 26,
   "id": "1b085c67",
   "metadata": {},
   "outputs": [],
   "source": [
    "import kotlin.reflect.KFunction1 \n",
    "import kotlin.reflect.KFunction2\n",
    "import kotlin.reflect.KCallable"
   ]
  },
  {
   "cell_type": "code",
   "execution_count": 27,
   "id": "ee7ba127",
   "metadata": {},
   "outputs": [],
   "source": [
    "fun x2(x: Int) = x * 2"
   ]
  },
  {
   "cell_type": "code",
   "execution_count": 28,
   "id": "0604c3d5",
   "metadata": {},
   "outputs": [
    {
     "name": "stdout",
     "output_type": "stream",
     "text": [
      "true\n"
     ]
    }
   ],
   "source": [
    "println(::x2 is KFunction1<Int, Int>) "
   ]
  },
  {
   "cell_type": "code",
   "execution_count": 29,
   "id": "69597260",
   "metadata": {},
   "outputs": [],
   "source": [
    "val x2ref: KFunction1<Int, Int> = ::x2 "
   ]
  },
  {
   "cell_type": "code",
   "execution_count": null,
   "id": "cefb2815",
   "metadata": {},
   "outputs": [],
   "source": []
  },
  {
   "cell_type": "code",
   "execution_count": 30,
   "id": "74197452",
   "metadata": {},
   "outputs": [],
   "source": [
    "fun x3(x: Int, y:Int) = x * y"
   ]
  },
  {
   "cell_type": "code",
   "execution_count": 31,
   "id": "7fa9a761",
   "metadata": {},
   "outputs": [
    {
     "name": "stdout",
     "output_type": "stream",
     "text": [
      "true\n"
     ]
    }
   ],
   "source": [
    "println(::x3 is KFunction2<Int,Int, Int>) "
   ]
  },
  {
   "cell_type": "code",
   "execution_count": 32,
   "id": "f56970f4",
   "metadata": {},
   "outputs": [],
   "source": [
    "val x3ref: KFunction2<Int, Int, Int> = ::x3 "
   ]
  },
  {
   "cell_type": "code",
   "execution_count": null,
   "id": "2a9827ca",
   "metadata": {},
   "outputs": [],
   "source": []
  },
  {
   "cell_type": "code",
   "execution_count": 33,
   "id": "65d91351",
   "metadata": {},
   "outputs": [],
   "source": [
    "interface A"
   ]
  },
  {
   "cell_type": "code",
   "execution_count": 34,
   "id": "c412dd0a",
   "metadata": {},
   "outputs": [],
   "source": [
    "class B : A"
   ]
  },
  {
   "cell_type": "code",
   "execution_count": 35,
   "id": "211aafbe",
   "metadata": {},
   "outputs": [],
   "source": [
    "val bb = B()"
   ]
  },
  {
   "cell_type": "code",
   "execution_count": 36,
   "id": "e22b575f",
   "metadata": {},
   "outputs": [
    {
     "data": {
      "text/plain": [
       "true"
      ]
     },
     "execution_count": 36,
     "metadata": {},
     "output_type": "execute_result"
    }
   ],
   "source": [
    "bb is A"
   ]
  },
  {
   "cell_type": "code",
   "execution_count": null,
   "id": "57873977",
   "metadata": {},
   "outputs": [],
   "source": []
  },
  {
   "cell_type": "code",
   "execution_count": 37,
   "id": "3643b72d",
   "metadata": {},
   "outputs": [],
   "source": [
    "/** A function that takes 1 argument. */\n",
    "public interface Function1<in P1, out R> : Function<R> {\n",
    "    /** Invokes the function with the specified argument. */\n",
    "    public operator fun invoke(p1: P1): R\n",
    "}"
   ]
  },
  {
   "cell_type": "code",
   "execution_count": 38,
   "id": "da6d81b7",
   "metadata": {},
   "outputs": [],
   "source": [
    "fun x2__(x: Int) = x * 2"
   ]
  },
  {
   "cell_type": "code",
   "execution_count": 39,
   "id": "17f355ca",
   "metadata": {},
   "outputs": [
    {
     "name": "stdout",
     "output_type": "stream",
     "text": [
      "true\n"
     ]
    }
   ],
   "source": [
    "println(::x2__ is KFunction1<Int, Int>) "
   ]
  },
  {
   "cell_type": "code",
   "execution_count": 40,
   "id": "8597c781",
   "metadata": {},
   "outputs": [],
   "source": [
    "val x2ref: KFunction1<Int, Int> = ::x2__ "
   ]
  },
  {
   "cell_type": "code",
   "execution_count": 41,
   "id": "37505bf3",
   "metadata": {},
   "outputs": [
    {
     "data": {
      "text/plain": [
       "20"
      ]
     },
     "execution_count": 41,
     "metadata": {},
     "output_type": "execute_result"
    }
   ],
   "source": [
    "x2ref(10)"
   ]
  },
  {
   "cell_type": "code",
   "execution_count": null,
   "id": "4ae4989d",
   "metadata": {},
   "outputs": [],
   "source": []
  },
  {
   "cell_type": "code",
   "execution_count": 42,
   "id": "98dca371",
   "metadata": {},
   "outputs": [],
   "source": [
    "class X1 : Function1<Int, Int> {\n",
    "   override fun invoke(x: Int) = 2 * x\n",
    "}"
   ]
  },
  {
   "cell_type": "code",
   "execution_count": 43,
   "id": "ddb09aec",
   "metadata": {},
   "outputs": [],
   "source": [
    "val x11 = X1()"
   ]
  },
  {
   "cell_type": "code",
   "execution_count": 44,
   "id": "053c7d9d",
   "metadata": {},
   "outputs": [
    {
     "name": "stdout",
     "output_type": "stream",
     "text": [
      "true\n"
     ]
    }
   ],
   "source": [
    "println(x11 is Function1<Int, Int> )  // true\n",
    "//println(x22 is (Int) -> Int   )"
   ]
  },
  {
   "cell_type": "code",
   "execution_count": 45,
   "id": "1ba5b100",
   "metadata": {},
   "outputs": [
    {
     "data": {
      "text/plain": [
       "6"
      ]
     },
     "execution_count": 45,
     "metadata": {},
     "output_type": "execute_result"
    }
   ],
   "source": [
    "val x111 = X1()\n",
    "\n",
    "x111(3)"
   ]
  },
  {
   "cell_type": "code",
   "execution_count": 46,
   "id": "d117dacb",
   "metadata": {},
   "outputs": [],
   "source": [
    "class X2 : (Int) -> Int {\n",
    "   override fun invoke(x: Int) = 2 * x\n",
    "}"
   ]
  },
  {
   "cell_type": "code",
   "execution_count": 47,
   "id": "feabafa4",
   "metadata": {},
   "outputs": [],
   "source": [
    "val x22 = X2()"
   ]
  },
  {
   "cell_type": "code",
   "execution_count": 48,
   "id": "beb74cbd",
   "metadata": {},
   "outputs": [
    {
     "name": "stdout",
     "output_type": "stream",
     "text": [
      "true\n"
     ]
    }
   ],
   "source": [
    "println(x22 is (Int)->Int) "
   ]
  },
  {
   "cell_type": "code",
   "execution_count": 49,
   "id": "4a957af6",
   "metadata": {},
   "outputs": [],
   "source": [
    "//println(x22 is KFunction1<Int, Int>)  오류 "
   ]
  },
  {
   "cell_type": "code",
   "execution_count": null,
   "id": "78f506f3",
   "metadata": {},
   "outputs": [],
   "source": []
  },
  {
   "cell_type": "code",
   "execution_count": 50,
   "id": "582add69",
   "metadata": {},
   "outputs": [],
   "source": [
    "object ox1 : Function1<Int, Int> {\n",
    "    override fun invoke(x: Int) = 2 * x\n",
    "}"
   ]
  },
  {
   "cell_type": "code",
   "execution_count": 51,
   "id": "3119d786",
   "metadata": {},
   "outputs": [
    {
     "data": {
      "text/plain": [
       "true"
      ]
     },
     "execution_count": 51,
     "metadata": {},
     "output_type": "execute_result"
    }
   ],
   "source": [
    "ox1 is Function1<Int, Int>   // true"
   ]
  },
  {
   "cell_type": "code",
   "execution_count": 52,
   "id": "eca3b2a9",
   "metadata": {},
   "outputs": [
    {
     "data": {
      "text/plain": [
       "20"
      ]
     },
     "execution_count": 52,
     "metadata": {},
     "output_type": "execute_result"
    }
   ],
   "source": [
    "ox1(10)"
   ]
  },
  {
   "cell_type": "code",
   "execution_count": 53,
   "id": "fc60c184",
   "metadata": {},
   "outputs": [],
   "source": [
    "object ox2 : (Int) -> Int {\n",
    "    override fun invoke(x: Int) = 2 * x\n",
    "}"
   ]
  },
  {
   "cell_type": "code",
   "execution_count": 54,
   "id": "2f8eaa92",
   "metadata": {},
   "outputs": [
    {
     "data": {
      "text/plain": [
       "true"
      ]
     },
     "execution_count": 54,
     "metadata": {},
     "output_type": "execute_result"
    }
   ],
   "source": [
    "ox2 is (Int)->Int"
   ]
  },
  {
   "cell_type": "code",
   "execution_count": 55,
   "id": "43dd765f",
   "metadata": {},
   "outputs": [
    {
     "data": {
      "text/plain": [
       "20"
      ]
     },
     "execution_count": 55,
     "metadata": {},
     "output_type": "execute_result"
    }
   ],
   "source": [
    "ox2(10)"
   ]
  },
  {
   "cell_type": "code",
   "execution_count": null,
   "id": "28185f26",
   "metadata": {},
   "outputs": [],
   "source": []
  },
  {
   "cell_type": "markdown",
   "id": "3b8c789b",
   "metadata": {},
   "source": [
    "## 커링 처리하기"
   ]
  },
  {
   "cell_type": "code",
   "execution_count": 56,
   "id": "2c6ec9e8",
   "metadata": {},
   "outputs": [
    {
     "name": "stdout",
     "output_type": "stream",
     "text": [
      "3\n"
     ]
    }
   ],
   "source": [
    "fun add(a: Int): (Int) -> Int = { b -> a + b }\n",
    "\n",
    "val add1 = add(1)\n",
    "println ( add1(2))    // 3"
   ]
  },
  {
   "cell_type": "code",
   "execution_count": 57,
   "id": "f0ef1d3d",
   "metadata": {},
   "outputs": [
    {
     "data": {
      "text/plain": [
       "3"
      ]
     },
     "execution_count": 57,
     "metadata": {},
     "output_type": "execute_result"
    }
   ],
   "source": [
    "// Using class based implementation\n",
    "object Add {\n",
    "    fun add(a: Int): Function1<Int, Int> {\n",
    "        return object: Function1<Int, Int> {\n",
    "                override fun invoke(b: Int): Int = a + b\n",
    "            }\n",
    "    }\n",
    "}\n",
    "\n",
    "val add1 = Add.add(1)\n",
    "add1(2)        // 3"
   ]
  },
  {
   "cell_type": "code",
   "execution_count": 58,
   "id": "c349bee9",
   "metadata": {},
   "outputs": [
    {
     "data": {
      "text/plain": [
       "class Line_56$Add$add$1"
      ]
     },
     "execution_count": 58,
     "metadata": {},
     "output_type": "execute_result"
    }
   ],
   "source": [
    "add1.javaClass.kotlin"
   ]
  },
  {
   "cell_type": "markdown",
   "id": "59542fdf",
   "metadata": {},
   "source": [
    "## 누적계산기"
   ]
  },
  {
   "cell_type": "code",
   "execution_count": 59,
   "id": "fe4052dd",
   "metadata": {},
   "outputs": [],
   "source": [
    "fun a(n: Int): (d: Int) -> Int {\n",
    "    var accumulator = n\n",
    "    return { x -> accumulator += x; accumulator }\n",
    "}\n",
    "\n",
    "val a100 = a(100)"
   ]
  },
  {
   "cell_type": "code",
   "execution_count": 60,
   "id": "337b7d47",
   "metadata": {},
   "outputs": [
    {
     "data": {
      "text/plain": [
       "105"
      ]
     },
     "execution_count": 60,
     "metadata": {},
     "output_type": "execute_result"
    }
   ],
   "source": [
    "a100(5)    // 105"
   ]
  },
  {
   "cell_type": "code",
   "execution_count": 61,
   "id": "11664d0b",
   "metadata": {},
   "outputs": [
    {
     "data": {
      "text/plain": [
       "115"
      ]
     },
     "execution_count": 61,
     "metadata": {},
     "output_type": "execute_result"
    }
   ],
   "source": [
    "a100(10)   // 115"
   ]
  },
  {
   "cell_type": "code",
   "execution_count": 62,
   "id": "b0857877",
   "metadata": {},
   "outputs": [
    {
     "data": {
      "text/plain": [
       "6"
      ]
     },
     "execution_count": 62,
     "metadata": {},
     "output_type": "execute_result"
    }
   ],
   "source": [
    "a(1)(5)    // 6"
   ]
  },
  {
   "cell_type": "code",
   "execution_count": 63,
   "id": "cefbcfd6",
   "metadata": {},
   "outputs": [],
   "source": [
    "// Using class based implementation\n",
    "object A {\n",
    "    var accumulator :Int = 0\n",
    "\n",
    "    fun a(n : Int) : (Int) -> Int {\n",
    "        accumulator = n\n",
    "\n",
    "        return object: (Int) -> Int {\n",
    "            override fun invoke(n: Int): Int {\n",
    "                accumulator += n\n",
    "                return accumulator;\n",
    "            }\n",
    "         }\n",
    "    }\n",
    "}\n",
    "\n",
    "val A100 = A.a(100)"
   ]
  },
  {
   "cell_type": "code",
   "execution_count": 64,
   "id": "ce2641fa",
   "metadata": {},
   "outputs": [
    {
     "data": {
      "text/plain": [
       "105"
      ]
     },
     "execution_count": 64,
     "metadata": {},
     "output_type": "execute_result"
    }
   ],
   "source": [
    "A100(5)   // 105"
   ]
  },
  {
   "cell_type": "code",
   "execution_count": 65,
   "id": "4f0428da",
   "metadata": {},
   "outputs": [
    {
     "data": {
      "text/plain": [
       "115"
      ]
     },
     "execution_count": 65,
     "metadata": {},
     "output_type": "execute_result"
    }
   ],
   "source": [
    "A100(10)  // 115"
   ]
  },
  {
   "cell_type": "code",
   "execution_count": 66,
   "id": "b3834f9a",
   "metadata": {},
   "outputs": [
    {
     "data": {
      "text/plain": [
       "6"
      ]
     },
     "execution_count": 66,
     "metadata": {},
     "output_type": "execute_result"
    }
   ],
   "source": [
    "A.a(1)(5) // 6"
   ]
  },
  {
   "cell_type": "code",
   "execution_count": null,
   "id": "202784c9",
   "metadata": {},
   "outputs": [],
   "source": []
  }
 ],
 "metadata": {
  "kernelspec": {
   "display_name": "Kotlin",
   "language": "kotlin",
   "name": "kotlin"
  },
  "language_info": {
   "codemirror_mode": "text/x-kotlin",
   "file_extension": ".kt",
   "mimetype": "text/x-kotlin",
   "name": "kotlin",
   "nbconvert_exporter": "",
   "pygments_lexer": "kotlin",
   "version": "1.6.0-dev-3567"
  }
 },
 "nbformat": 4,
 "nbformat_minor": 5
}
