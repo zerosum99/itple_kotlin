{
 "cells": [
  {
   "cell_type": "code",
   "execution_count": null,
   "id": "47d8145a",
   "metadata": {},
   "outputs": [],
   "source": []
  },
  {
   "cell_type": "markdown",
   "id": "90ecd124",
   "metadata": {},
   "source": [
    "## 이넘 클래스로 범주형 처리하기"
   ]
  },
  {
   "cell_type": "code",
   "execution_count": 32,
   "id": "68a0e81b",
   "metadata": {},
   "outputs": [],
   "source": [
    "enum class Suit {CLUBS, DIAMONDS, HEARTS, SPADES }\n",
    "\n",
    "sealed class Card_(val suit : Suit) \n",
    "class Ace_(suit : Suit) : Card_(suit)\n",
    "class King_(suit :Suit) : Card_(suit) {\n",
    "    override fun toString() = \"King of ${suit}\"\n",
    "}\n",
    "class Queen_(suit : Suit) : Card_(suit) {\n",
    "    override fun toString() = \"Queen of ${suit}\"\n",
    "}\n",
    "class Jack_(suit : Suit) : Card_(suit) {\n",
    "    override fun toString() = \"Jack of ${suit}\"\n",
    "}\n",
    "class Pip_(suit : Suit, val number : Int) : Card_(suit) { \n",
    "    init {\n",
    "        if (number < 2 || number > 10) {\n",
    "            throw RuntimeException(\"Pip has to be between 3 and 10 \")\n",
    "        }\n",
    "    }\n",
    "  \n",
    "}"
   ]
  },
  {
   "cell_type": "code",
   "execution_count": 33,
   "id": "13ac7c70",
   "metadata": {},
   "outputs": [],
   "source": [
    "fun process_(card : Card_) = when(card) {\n",
    "    is Ace_ -> \"${card.javaClass.name} of ${card.suit}\"\n",
    "    is King_ , is Queen_, is Jack_ -> \"$card\"\n",
    "    is Pip_ -> \"${card.number} of ${card.suit}\"\n",
    "    else ->  \"else\"\n",
    "}"
   ]
  },
  {
   "cell_type": "code",
   "execution_count": 34,
   "id": "8c1009a6",
   "metadata": {},
   "outputs": [
    {
     "data": {
      "text/plain": [
       "Line_1218$Ace_ of DIAMONDS"
      ]
     },
     "execution_count": 34,
     "metadata": {},
     "output_type": "execute_result"
    }
   ],
   "source": [
    "process_(Ace_(Suit.DIAMONDS))"
   ]
  },
  {
   "cell_type": "markdown",
   "id": "0fdcc735",
   "metadata": {},
   "source": [
    "### 이넘 클래스의 메소드 알아보기"
   ]
  },
  {
   "cell_type": "code",
   "execution_count": 35,
   "id": "c08d00e4",
   "metadata": {},
   "outputs": [
    {
     "data": {
      "text/plain": [
       "DIAMONDS"
      ]
     },
     "execution_count": 35,
     "metadata": {},
     "output_type": "execute_result"
    }
   ],
   "source": [
    "Suit.valueOf(\"DIAMONDS\")"
   ]
  },
  {
   "cell_type": "code",
   "execution_count": 37,
   "id": "25801c0b",
   "metadata": {},
   "outputs": [
    {
     "name": "stdout",
     "output_type": "stream",
     "text": [
      "CLUBS -- 0 \n",
      "DIAMONDS -- 1 \n",
      "HEARTS -- 2 \n",
      "SPADES -- 3 \n"
     ]
    }
   ],
   "source": [
    "for (suit in Suit.values()) {\n",
    "    println(\"${suit.name} -- ${suit.ordinal} \")\n",
    "}"
   ]
  },
  {
   "cell_type": "code",
   "execution_count": null,
   "id": "10cf2771",
   "metadata": {},
   "outputs": [],
   "source": []
  },
  {
   "cell_type": "code",
   "execution_count": 40,
   "id": "578a9ee3",
   "metadata": {},
   "outputs": [],
   "source": [
    "enum class Suit_(val symbol: Char) { \n",
    "    CLUBS_('\\u2663'), \n",
    "    DIAMONDS_('\\u2666'),\n",
    "    HEARTS_('\\u2665') {\n",
    "        override fun display() = \"${super.display()} $symbol \"\n",
    "    },\n",
    "    SPADES_('\\u2660');\n",
    "    open fun display() = \"$symbol $name\"\n",
    "}"
   ]
  },
  {
   "cell_type": "code",
   "execution_count": 41,
   "id": "e32874ff",
   "metadata": {},
   "outputs": [
    {
     "name": "stdout",
     "output_type": "stream",
     "text": [
      "♣ CLUBS_\n",
      "♦ DIAMONDS_\n",
      "♥ HEARTS_ ♥ \n",
      "♠ SPADES_\n"
     ]
    }
   ],
   "source": [
    "for (suit in Suit_.values()) {\n",
    "    println(suit.display())\n",
    "}"
   ]
  },
  {
   "cell_type": "markdown",
   "id": "27012272",
   "metadata": {},
   "source": [
    "### 이넘 클래스 내부의 객체는 이넘 클래스를 상속해서 처리"
   ]
  },
  {
   "cell_type": "code",
   "execution_count": 42,
   "id": "7e6c6e21",
   "metadata": {},
   "outputs": [
    {
     "data": {
      "text/plain": [
       "class Line_1839$Suit_"
      ]
     },
     "execution_count": 42,
     "metadata": {},
     "output_type": "execute_result"
    }
   ],
   "source": [
    "Suit_.CLUBS_.javaClass"
   ]
  },
  {
   "cell_type": "code",
   "execution_count": null,
   "id": "698341af",
   "metadata": {},
   "outputs": [],
   "source": []
  },
  {
   "cell_type": "code",
   "execution_count": 47,
   "id": "d8c0fc58",
   "metadata": {},
   "outputs": [],
   "source": [
    "abstract class ENUM {\n",
    "    abstract val symbol : String \n",
    "}"
   ]
  },
  {
   "cell_type": "code",
   "execution_count": 57,
   "id": "cb9dbf8a",
   "metadata": {},
   "outputs": [],
   "source": [
    "val CLUBS__ =  object :ENUM() {  override val symbol = \"aaa\"  }"
   ]
  },
  {
   "cell_type": "code",
   "execution_count": 58,
   "id": "7ba1c5c8",
   "metadata": {},
   "outputs": [
    {
     "data": {
      "text/plain": [
       "class Line_2333$CLUBS__$1"
      ]
     },
     "execution_count": 58,
     "metadata": {},
     "output_type": "execute_result"
    }
   ],
   "source": [
    "CLUBS__.javaClass"
   ]
  },
  {
   "cell_type": "code",
   "execution_count": 59,
   "id": "ece7bf60",
   "metadata": {},
   "outputs": [
    {
     "data": {
      "text/plain": [
       "aaa"
      ]
     },
     "execution_count": 59,
     "metadata": {},
     "output_type": "execute_result"
    }
   ],
   "source": [
    "CLUBS__.symbol"
   ]
  },
  {
   "cell_type": "code",
   "execution_count": null,
   "id": "37dd17d4",
   "metadata": {},
   "outputs": [],
   "source": []
  }
 ],
 "metadata": {
  "kernelspec": {
   "display_name": "Kotlin",
   "language": "kotlin",
   "name": "kotlin"
  },
  "language_info": {
   "codemirror_mode": "text/x-kotlin",
   "file_extension": ".kt",
   "mimetype": "text/x-kotlin",
   "name": "kotlin",
   "nbconvert_exporter": "",
   "pygments_lexer": "kotlin",
   "version": "1.6.0-dev-3567"
  }
 },
 "nbformat": 4,
 "nbformat_minor": 5
}
