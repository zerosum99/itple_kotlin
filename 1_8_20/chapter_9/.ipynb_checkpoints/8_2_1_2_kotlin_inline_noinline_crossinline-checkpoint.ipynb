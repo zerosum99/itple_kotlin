{
 "cells": [
  {
   "cell_type": "code",
   "execution_count": null,
   "id": "fa13c5dc",
   "metadata": {},
   "outputs": [],
   "source": []
  },
  {
   "cell_type": "code",
   "execution_count": 1,
   "id": "3d575236",
   "metadata": {},
   "outputs": [],
   "source": [
    "val func : (Int) -> Int = { x -> x * 10}"
   ]
  },
  {
   "cell_type": "code",
   "execution_count": 2,
   "id": "fbf0590e",
   "metadata": {},
   "outputs": [
    {
     "data": {
      "text/plain": [
       "100"
      ]
     },
     "execution_count": 2,
     "metadata": {},
     "output_type": "execute_result"
    }
   ],
   "source": [
    "func(10)"
   ]
  },
  {
   "cell_type": "code",
   "execution_count": null,
   "id": "c13269b0",
   "metadata": {},
   "outputs": [],
   "source": []
  },
  {
   "cell_type": "code",
   "execution_count": 3,
   "id": "789f9471",
   "metadata": {},
   "outputs": [],
   "source": [
    "fun compose(a:Int , action: (Int) -> (Int)) : Int {\n",
    "    return action(a)\n",
    "}"
   ]
  },
  {
   "cell_type": "code",
   "execution_count": 6,
   "id": "0526985d",
   "metadata": {},
   "outputs": [],
   "source": [
    "fun main() {\n",
    "    println(compose(100) {x -> x * 10})\n",
    "    \n",
    "    println(compose(200) {y -> y * 5})\n",
    "}"
   ]
  },
  {
   "cell_type": "code",
   "execution_count": 7,
   "id": "e5f483ae",
   "metadata": {},
   "outputs": [
    {
     "name": "stdout",
     "output_type": "stream",
     "text": [
      "1000\n",
      "1000\n"
     ]
    }
   ],
   "source": [
    "main()"
   ]
  },
  {
   "cell_type": "code",
   "execution_count": 8,
   "id": "94e0133e",
   "metadata": {},
   "outputs": [],
   "source": [
    "inline fun compose_(a:Int , action: (Int) -> (Int)) : Int {\n",
    "    println(action(a))\n",
    "    return action(a)\n",
    "}"
   ]
  },
  {
   "cell_type": "code",
   "execution_count": 10,
   "id": "ca24dc75",
   "metadata": {},
   "outputs": [],
   "source": [
    "fun main(args : Array<String>) {\n",
    "    compose_(100) {x -> x * 10}\n",
    "    \n",
    "    compose_(200) {y -> y * 5}\n",
    "}"
   ]
  },
  {
   "cell_type": "code",
   "execution_count": 12,
   "id": "4756d8a0",
   "metadata": {},
   "outputs": [
    {
     "name": "stdout",
     "output_type": "stream",
     "text": [
      "1000\n",
      "1000\n"
     ]
    }
   ],
   "source": [
    "main(arrayOf(\"a\"))"
   ]
  },
  {
   "cell_type": "code",
   "execution_count": null,
   "id": "b6fafa10",
   "metadata": {},
   "outputs": [],
   "source": []
  },
  {
   "cell_type": "code",
   "execution_count": 14,
   "id": "12438e64",
   "metadata": {},
   "outputs": [],
   "source": [
    "inline fun compose_n(a:Int , noinline action: (Int) -> (Int)) : Int {\n",
    "    println(action(a))\n",
    "    return action(a)\n",
    "}"
   ]
  },
  {
   "cell_type": "code",
   "execution_count": 15,
   "id": "06bf7701",
   "metadata": {},
   "outputs": [],
   "source": [
    "fun main_() {\n",
    "    compose_n(100) {x -> x * 10}\n",
    "    \n",
    "    compose_n(200) {y -> y * 5}\n",
    "}"
   ]
  },
  {
   "cell_type": "code",
   "execution_count": 16,
   "id": "8467d5b3",
   "metadata": {},
   "outputs": [
    {
     "name": "stdout",
     "output_type": "stream",
     "text": [
      "1000\n",
      "1000\n"
     ]
    }
   ],
   "source": [
    "main_()"
   ]
  },
  {
   "cell_type": "markdown",
   "id": "cecd1e85",
   "metadata": {},
   "source": [
    "## crossinline \n",
    "\n",
    "- 만약, inline 함수에서 인자로 받은 lambda를 다른 객체를 만들어 할당 하는 경우를 살펴보자.\n",
    "\n",
    "\n",
    "inline으로 코드가 삽입됐지만, Runnable을 구현한 객체를 생성하고 있기 때문에, 새로 생성한 객체의 run() 인터페이스에 삽입된걸 볼 수 있다. 만약 return이 들어간다면, run() 함수에 포함되어 run()의 종료를 의미할 것이다. 코틀린에서 inline의 경우에 한해서 lambda에 return을 허용하지만, 이와같이 lambda를 다른 곳에 할당하는 경우, inline이 아닌 경우와 마찬가지로 return의 사용을 못하게 하고 있다. 보다 명확하게 하기위해, 이 때 사용하는 키워드가 ‘crossinline’이다. 다음과 같이, 사용한다.\n"
   ]
  },
  {
   "cell_type": "code",
   "execution_count": 33,
   "id": "d5415ade",
   "metadata": {},
   "outputs": [],
   "source": [
    "inline fun highOrderFunc( crossinline lambdaFunc: () -> Unit){\n",
    "    val f = object: Runnable{\n",
    "        override fun run() = lambdaFunc()\n",
    "    }\n",
    "    f.run()\n",
    "}\n",
    "\n",
    "fun main(args: Array<String>) {\n",
    "    highOrderFunc {\n",
    "        println(\"What happened?\")\n",
    "    }\n",
    "}"
   ]
  },
  {
   "cell_type": "code",
   "execution_count": 34,
   "id": "060aaaed",
   "metadata": {},
   "outputs": [
    {
     "name": "stdout",
     "output_type": "stream",
     "text": [
      "What happened?\n"
     ]
    }
   ],
   "source": [
    "main(arrayOf(\"a\"))"
   ]
  },
  {
   "cell_type": "code",
   "execution_count": 40,
   "id": "190298d9",
   "metadata": {},
   "outputs": [],
   "source": [
    "inline fun calc(crossinline body: () -> Unit): Long {\n",
    "  val start = System.nanoTime()\n",
    "  val f = object : Runnable {\n",
    "    override fun run() = body()\n",
    "  }\n",
    "  f.run()\n",
    "  return System.nanoTime() - start\n",
    "}\n",
    "\n",
    "fun main(args: Array<String>) {\n",
    "    calc {\n",
    "        println(\"What happened? mmm \")\n",
    "    }\n",
    "}\n"
   ]
  },
  {
   "cell_type": "code",
   "execution_count": 41,
   "id": "1c62f3b8",
   "metadata": {},
   "outputs": [
    {
     "name": "stdout",
     "output_type": "stream",
     "text": [
      "What happened? mmm \n"
     ]
    }
   ],
   "source": [
    "main(arrayOf(\"b\"))"
   ]
  },
  {
   "cell_type": "code",
   "execution_count": null,
   "id": "d37b8afb",
   "metadata": {},
   "outputs": [],
   "source": []
  }
 ],
 "metadata": {
  "kernelspec": {
   "display_name": "Kotlin",
   "language": "kotlin",
   "name": "kotlin"
  },
  "language_info": {
   "codemirror_mode": "text/x-kotlin",
   "file_extension": ".kt",
   "mimetype": "text/x-kotlin",
   "name": "kotlin",
   "nbconvert_exporter": "",
   "pygments_lexer": "kotlin",
   "version": "1.6.0-dev-3567"
  }
 },
 "nbformat": 4,
 "nbformat_minor": 5
}
