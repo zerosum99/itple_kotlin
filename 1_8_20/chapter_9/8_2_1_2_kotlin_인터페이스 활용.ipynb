{
 "cells": [
  {
   "cell_type": "code",
   "execution_count": null,
   "id": "c2a8b8e9",
   "metadata": {},
   "outputs": [],
   "source": []
  },
  {
   "cell_type": "code",
   "execution_count": 1,
   "id": "efa917da",
   "metadata": {},
   "outputs": [
    {
     "data": {
      "text/plain": [
       "1.7.20"
      ]
     },
     "execution_count": 1,
     "metadata": {},
     "output_type": "execute_result"
    }
   ],
   "source": [
    "KotlinVersion.CURRENT             // 코틀린 현재 버전 "
   ]
  },
  {
   "cell_type": "code",
   "execution_count": null,
   "id": "00cd3d47",
   "metadata": {},
   "outputs": [],
   "source": []
  },
  {
   "cell_type": "markdown",
   "id": "1e60f66c",
   "metadata": {},
   "source": [
    "## 익명클래스 "
   ]
  },
  {
   "cell_type": "code",
   "execution_count": 2,
   "id": "b4ae8919",
   "metadata": {},
   "outputs": [
    {
     "name": "stdout",
     "output_type": "stream",
     "text": [
      "Hello 코를린 !!!\n",
      "디폴트 함수\n",
      "디폴트 속성\n"
     ]
    }
   ],
   "source": [
    "interface Usable {                             // 인터페이스 정의 \n",
    "    val canPro : String                        // 일반 속성 \n",
    "       get() = \"디폴트 속성\"\n",
    "    fun canUse(s:String) : String              // 추상 메소드 \n",
    "    \n",
    "    fun canDefault() = \"디폴트 함수\"              // 일반 메소드 \n",
    "}\n",
    "\n",
    "val u = object : Usable {                       // object 표현식으로 익명 객체 생성 \n",
    "    override fun canUse(s:String) : String {    // 추상 메소드 구현 \n",
    "        return \"Hello $s !!!\"\n",
    "    }\n",
    "}\n",
    "\n",
    "println(u.canUse(\"코를린\"))                       // 메소드 호출\n",
    "println(u.canDefault())\n",
    "println(u.canPro)                               // 속성 참조"
   ]
  },
  {
   "cell_type": "code",
   "execution_count": null,
   "id": "0bd4abc1",
   "metadata": {},
   "outputs": [],
   "source": []
  },
  {
   "cell_type": "code",
   "execution_count": null,
   "id": "d60057e7",
   "metadata": {},
   "outputs": [],
   "source": []
  },
  {
   "cell_type": "markdown",
   "id": "3d1b70c1",
   "metadata": {},
   "source": [
    "## 확장함수 구현"
   ]
  },
  {
   "cell_type": "code",
   "execution_count": 3,
   "id": "8b77fdda",
   "metadata": {},
   "outputs": [
    {
     "name": "stdout",
     "output_type": "stream",
     "text": [
      "추상메소드 구현\n",
      "true\n",
      "추상메소드 구현\n"
     ]
    }
   ],
   "source": [
    "interface Context  {                         // 인터페이스 정의 \n",
    "   fun absMethod() : String\n",
    "}\n",
    "\n",
    "class A : Context  {                         // 클래스 정의 \n",
    "   override fun absMethod() = \"추상메소드 구현\"\n",
    "}\n",
    "\n",
    "fun Context.canUse(x: Int): Boolean =        // 확장함수 정의 \n",
    "   when (x) {\n",
    "       1 -> true\n",
    "       else -> false\n",
    "   }\n",
    "   \n",
    "fun objPrint(obj : Context) =                // 인터페이스를 함수 매개변수 자료형\n",
    "                   println(obj.absMethod())\n",
    "\n",
    "val a : Context = A()                        // 객체 생성 \n",
    "println(a.absMethod())                       // 메소드 호출\n",
    "println(a.canUse(1))                         // 확장함수 호출 \n",
    "\n",
    "objPrint(a)                                  // 함수 호출"
   ]
  },
  {
   "cell_type": "code",
   "execution_count": null,
   "id": "6ca5602f",
   "metadata": {},
   "outputs": [],
   "source": []
  },
  {
   "cell_type": "markdown",
   "id": "e5a09703",
   "metadata": {},
   "source": [
    "## 인터페이스를 상속한 추상클래스 작성"
   ]
  },
  {
   "cell_type": "code",
   "execution_count": 4,
   "id": "1e2b4ac3",
   "metadata": {},
   "outputs": [
    {
     "name": "stdout",
     "output_type": "stream",
     "text": [
      "can Use\n"
     ]
    }
   ],
   "source": [
    "interface Aable {                                  // 인터페이스 \n",
    "    fun canUse() : Unit\n",
    "}\n",
    "\n",
    "interface Bable {                                  // 인터페이스  \n",
    "    fun canUse() : Unit\n",
    "}\n",
    "\n",
    "abstract class Kclass : Aable, Bable {             // 동일한 인터페이스 상속하는 추상클래스\n",
    "    override abstract fun canUse() : Unit          // 추상 메소드를 추상메소드로 재정의 \n",
    "}\n",
    "\n",
    "class D : Kclass(), Bable {                        // 상속할때 추상클래스 중복\n",
    "    override fun canUse() = println(\"can Use\")     // 하나만 재정의 \n",
    "}\n",
    "\n",
    "val d = D()                                        // 객체 생성\n",
    "d.canUse()                                         // 메소드 호출 \n"
   ]
  },
  {
   "cell_type": "code",
   "execution_count": null,
   "id": "08e8f2f4",
   "metadata": {},
   "outputs": [],
   "source": []
  },
  {
   "cell_type": "markdown",
   "id": "f338f8f8",
   "metadata": {},
   "source": [
    "## object 선언과 동반개체 "
   ]
  },
  {
   "cell_type": "code",
   "execution_count": 5,
   "id": "1f1591c9",
   "metadata": {},
   "outputs": [
    {
     "name": "stdout",
     "output_type": "stream",
     "text": [
      "싱글턴 객체의 메소드 호출 \n",
      "동반객체의 메소드 호출 \n",
      "동반객체 속성 \n"
     ]
    }
   ],
   "source": [
    "interface Aable {                                  // 인터페이스 정의           \n",
    "    fun canUse() : Unit                            // 추상 메소드 정의 \n",
    "}\n",
    "\n",
    "object BObject : Aable {                           // object 선언 \n",
    "    override fun canUse() =                        // 추상 메소드 구현 \n",
    "            println(\"싱글턴 객체의 메소드 호출 \")\n",
    "}\n",
    "\n",
    "\n",
    "BObject.canUse()                                   // 메소드 호출 \n",
    "\n",
    "interface Iable {                                  // 인터페이스 정의 \n",
    "    fun canUse() : Unit\n",
    "}\n",
    "\n",
    "class AClass {                                     // 클래스 정의 \n",
    "    companion object :Iable {                      // 동반객체 생성\n",
    "        val name = \"동반객체 속성 \"                    // 내부 속성\n",
    "        override fun canUse() =                    // 추상 메소드 구현 \n",
    "              println(\"동반객체의 메소드 호출 \")\n",
    "        \n",
    "    }\n",
    "    fun selectName() = name                         // 동반객체 속성을 반환하는 메소드\n",
    "}\n",
    "\n",
    "AClass.canUse()                                     // 동반객체 메소드 호출 \n",
    "val ac = AClass()                                   // 객체 생성\n",
    "println(ac.selectName())                            // 메소드 호출"
   ]
  },
  {
   "cell_type": "code",
   "execution_count": null,
   "id": "63f1004b",
   "metadata": {},
   "outputs": [],
   "source": []
  },
  {
   "cell_type": "code",
   "execution_count": null,
   "id": "e084d582",
   "metadata": {},
   "outputs": [],
   "source": []
  },
  {
   "cell_type": "code",
   "execution_count": null,
   "id": "a4deb981",
   "metadata": {},
   "outputs": [],
   "source": []
  }
 ],
 "metadata": {
  "kernelspec": {
   "display_name": "Kotlin",
   "language": "kotlin",
   "name": "kotlin"
  },
  "language_info": {
   "codemirror_mode": "text/x-kotlin",
   "file_extension": ".kt",
   "mimetype": "text/x-kotlin",
   "name": "kotlin",
   "nbconvert_exporter": "",
   "pygments_lexer": "kotlin",
   "version": "1.7.20-dev-1299"
  }
 },
 "nbformat": 4,
 "nbformat_minor": 5
}
