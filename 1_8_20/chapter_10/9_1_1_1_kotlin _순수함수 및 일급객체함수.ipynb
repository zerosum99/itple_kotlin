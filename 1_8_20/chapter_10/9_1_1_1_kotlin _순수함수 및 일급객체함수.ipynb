{
 "cells": [
  {
   "cell_type": "code",
   "execution_count": null,
   "id": "91df3d74",
   "metadata": {},
   "outputs": [],
   "source": []
  },
  {
   "cell_type": "code",
   "execution_count": 1,
   "id": "bea8f1bc",
   "metadata": {},
   "outputs": [
    {
     "data": {
      "text/plain": [
       "1.8.20"
      ]
     },
     "execution_count": 1,
     "metadata": {},
     "output_type": "execute_result"
    }
   ],
   "source": [
    "KotlinVersion.CURRENT             // 코틀린 현재 버전 "
   ]
  },
  {
   "cell_type": "code",
   "execution_count": null,
   "id": "d16f5058",
   "metadata": {},
   "outputs": [],
   "source": []
  },
  {
   "cell_type": "markdown",
   "id": "e1eeba2b",
   "metadata": {},
   "source": [
    "## 함수형 프로그래밍\n",
    "\n",
    "- 순수함수를 사용한다.\n",
    "- 고차함수를 사용하고 함수를 전달할 때 람다함수를 사용\n"
   ]
  },
  {
   "cell_type": "markdown",
   "id": "413d6ade",
   "metadata": {},
   "source": [
    "## 1. 순수함수와 비순수함수\n",
    "\n",
    "- 부작용이 없는 함수\n",
    "<부작용>\n",
    "- 같은 인자에 대해 항상 같은 값을 반환.\n",
    "- 함수의 외부의 언떤 상태도 바꾸지 않느다.\n",
    "- 외부의 기능(함수)을 사용한다.\n",
    "- 파일 등에 출력을 한다 "
   ]
  },
  {
   "cell_type": "code",
   "execution_count": 2,
   "id": "7413332b",
   "metadata": {},
   "outputs": [
    {
     "name": "stdout",
     "output_type": "stream",
     "text": [
      "30\n",
      "30\n",
      "비순수함수  외부 출력\n",
      "100\n",
      "208\n",
      "208\n",
      "316\n",
      "316\n"
     ]
    }
   ],
   "source": [
    "fun purefunc(a:Int, b:Int) :Int {      // 함수를 정의\n",
    "    return a + b                       // 입력되는 인자에 의해 결정 \n",
    "}\n",
    "println(purefunc(10,20))               // 함수를 계속 호출해도 결과는 같다 \n",
    "println(purefunc(10,20))\n",
    "\n",
    "fun nonpure1(a: String ) {             // 외부에 출력 \n",
    "    println(\"비순수함수  $a\")\n",
    "}\n",
    "nonpure1(\"외부 출력\")                    // 함수를 호출하면 인자와 상관없이 외부와 연계처리\n",
    "\n",
    "var state = 100\n",
    "fun nonpure2(x : Int) : Int {          // 함수 정의 \n",
    "    state += x                         // 함수 내부에 상태를 갖는다 . 전역 변수 갱신 \n",
    "    return state                       // 전역 변수 값 반환\n",
    "}\n",
    "println(state)   \n",
    "println(nonpure2(108))                 // 함수를 호출할 때마다 결과가 달라진다.\n",
    "println(state)\n",
    "println(nonpure2(108))\n",
    "println(state)\n"
   ]
  },
  {
   "cell_type": "code",
   "execution_count": null,
   "id": "78652f75",
   "metadata": {},
   "outputs": [],
   "source": []
  },
  {
   "cell_type": "markdown",
   "id": "c55efaa5",
   "metadata": {},
   "source": [
    "## 1급 객체"
   ]
  },
  {
   "cell_type": "code",
   "execution_count": 3,
   "id": "9fe5cb5e",
   "metadata": {},
   "outputs": [
    {
     "name": "stdout",
     "output_type": "stream",
     "text": [
      "함수 자료형 확인 :(kotlin.Int, kotlin.Int) -> kotlin.Int\n",
      "30\n",
      "함수 자료형 확인 :(kotlin.Int, kotlin.Int) -> kotlin.Int\n",
      "30\n",
      "함수 자료형 확인 :(kotlin.Int, kotlin.Int) -> kotlin.Int\n",
      "30\n",
      "30\n",
      "함수 자료형 확인 :(kotlin.Int, kotlin.Int) -> kotlin.Int\n",
      "30\n"
     ]
    }
   ],
   "source": [
    "val add1 = fun (x:Int, y:Int) : Int = x+y           // 익명함수를 변수에 할당 \n",
    "println(\"함수 자료형 확인 :\" + add1)\n",
    "println(add1(10,20))                                // 변수에 저장된 함수 실행 \n",
    "\n",
    "val add2 = { x:Int , y: Int -> x + y}               // 람다표현식을 변수에 할당\n",
    "println(\"함수 자료형 확인 :\" + add2)\n",
    "println(add2(10,20))\n",
    "\n",
    "val add3 : (Int,Int) -> Int = {x:Int, y:Int -> x+y} // 람다표현식을  변수에 할당 \n",
    "println(\"함수 자료형 확인 :\" + add3)\n",
    "println(add3(10,20))\n",
    "\n",
    "fun highfunc(sum:(Int, Int) -> Int,                 // 매개변수에 함수 자료형 정의 \n",
    "             a:Int, b:Int) : Int = sum(a,b)\n",
    "\n",
    "println(highfunc({x:Int, y:Int -> x+y}, 10,20))     // 람다표현식을 인자로 전달\n",
    "\n",
    "fun returnfunc() : (Int, Int) -> Int {              // 함수 반환자료형의 함수 \n",
    "    return {x:Int, y:Int -> x+y}                    // 람다표현식으로 반환 \n",
    "}\n",
    "val rf = returnfunc()                               // 함수 호출 \n",
    "println(\"함수 자료형 확인 :\" + rf)\n",
    "println(rf(10,20))                                  // 다시 함수 호출"
   ]
  },
  {
   "cell_type": "code",
   "execution_count": null,
   "id": "db764fe2",
   "metadata": {},
   "outputs": [],
   "source": []
  },
  {
   "cell_type": "markdown",
   "id": "a872e260",
   "metadata": {},
   "source": [
    "## 자료구조에 함수 저장"
   ]
  },
  {
   "cell_type": "code",
   "execution_count": 4,
   "id": "73965d27",
   "metadata": {},
   "outputs": [
    {
     "name": "stdout",
     "output_type": "stream",
     "text": [
      "200\n",
      "2000\n"
     ]
    }
   ],
   "source": [
    "val map = mutableMapOf<String,(Int,Int)->Int>()  // 맵 객체 만든다 \n",
    "                                                 // 함수를 맵의 값으로 받는다 \n",
    "fun add(x:Int, y:Int) = x+y                      // 함수를 정의한다 \n",
    "fun mul(x:Int, y:Int) = x*y\n",
    "fun div(x:Int, y:Int) = x/y\n",
    "fun sub(x:Int, y:Int) = x-y\n",
    "map[\"add\"] = ::add                               // 함수 참조를 통해 맵에 값으로 저장한다 \n",
    "map[\"mul\"] = ::mul\n",
    "map[\"div\"] = ::div\n",
    "map[\"sub\"] = ::sub\n",
    "\n",
    "val x = \"*\"                                      // 연산자에 해당하는 문자열로 맵의 함수를 검색한다\n",
    "val result = when(x) {\n",
    "  \"+\" -> map[\"add\"]?.invoke(10,20)               // 해당하는 함수를 호출해서 처리한다. \n",
    "  \"-\" -> map[\"sub\"]?.invoke(10,20)\n",
    "  \"*\" -> map[\"mul\"]?.invoke(10,20)\n",
    "  \"/\" -> map[\"div\"]?.invoke(10,20)\n",
    "  else -> map[\"add\"]?.invoke(10,20)\n",
    "}\n",
    "println(result)\n",
    "\n",
    "val map1 = mutableMapOf<String,()->Int>()        // 맵을 정의한다, \n",
    "fun outer(x:Int, y:Int) {                        // 외부 함수를 정의한다.\n",
    "    fun add() = x+y                              // 내부 함수를 정의한다. \n",
    "    fun mul() = x*y\n",
    "    fun div() = x/y\n",
    "    fun sub() = x-y\n",
    "    map1[\"add\"] = ::add                           // 함수 참조로 함수를 맵에 값으로 저장 \n",
    "    map1[\"mul\"] = ::mul\n",
    "    map1[\"div\"] = ::div\n",
    "    map1[\"sub\"] = ::sub   \n",
    "} \n",
    "\n",
    "outer(100,20)                                     // 함수를 실행하면 내부 함수가 맵에 저장 \n",
    "println(map1[\"mul\"]?.invoke())                    // 맵에 저장된 함수를 조회해서 실행한다"
   ]
  },
  {
   "cell_type": "code",
   "execution_count": null,
   "id": "464a2dcb",
   "metadata": {},
   "outputs": [],
   "source": []
  },
  {
   "cell_type": "markdown",
   "id": "7d695883",
   "metadata": {},
   "source": [
    "## 함수를 지연처리 "
   ]
  },
  {
   "cell_type": "code",
   "execution_count": 5,
   "id": "97fc7683",
   "metadata": {},
   "outputs": [
    {
     "name": "stdout",
     "output_type": "stream",
     "text": [
      "100\n",
      "[0, 100, 200, 300, 400]\n",
      "300\n"
     ]
    }
   ],
   "source": [
    "val func by lazy { {x:Int -> x}}                 // 속성 위임에 초기값을 함수로 전달\n",
    "\n",
    "println(func(100))                               // 다시 한번 함수 실행 \n",
    "\n",
    "val seq = generateSequence(0) { it + 100 }       // 무한 시퀀스 정의 \n",
    "println(seq.take(5).toList())                    // 특정 시점에 값을 실행 \n",
    "\n",
    "\n",
    "fun outer(x:Int) : (Int) -> Int {                // 부분함수 정의 \n",
    "    fun inner(y:Int) : Int = x+y                 // 내부함수가 실제 연산 결과 반환 \n",
    "    return ::inner                               // 함수 참조로 반환 \n",
    "} \n",
    "val out = outer(100)                             // 외부 함수 실행\n",
    "println(out(200))                                // 내부 함수 실행"
   ]
  },
  {
   "cell_type": "code",
   "execution_count": null,
   "id": "a37b0835",
   "metadata": {},
   "outputs": [],
   "source": []
  },
  {
   "cell_type": "code",
   "execution_count": null,
   "id": "c6319712",
   "metadata": {},
   "outputs": [],
   "source": []
  }
 ],
 "metadata": {
  "kernelspec": {
   "display_name": "Kotlin",
   "language": "kotlin",
   "name": "kotlin"
  },
  "language_info": {
   "codemirror_mode": "text/x-kotlin",
   "file_extension": ".kt",
   "mimetype": "text/x-kotlin",
   "name": "kotlin",
   "nbconvert_exporter": "",
   "pygments_lexer": "kotlin",
   "version": "1.8.20-Beta"
  }
 },
 "nbformat": 4,
 "nbformat_minor": 5
}
