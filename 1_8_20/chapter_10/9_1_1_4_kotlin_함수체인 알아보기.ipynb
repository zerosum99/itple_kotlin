{
 "cells": [
  {
   "cell_type": "code",
   "execution_count": null,
   "id": "731fee03",
   "metadata": {},
   "outputs": [],
   "source": []
  },
  {
   "cell_type": "code",
   "execution_count": 1,
   "id": "1687183f",
   "metadata": {},
   "outputs": [
    {
     "data": {
      "text/plain": [
       "1.8.20"
      ]
     },
     "execution_count": 1,
     "metadata": {},
     "output_type": "execute_result"
    }
   ],
   "source": [
    "KotlinVersion.CURRENT             // 코틀린 현재 버전 "
   ]
  },
  {
   "cell_type": "code",
   "execution_count": null,
   "id": "ed4f6b1e",
   "metadata": {},
   "outputs": [],
   "source": []
  },
  {
   "cell_type": "markdown",
   "id": "ebdbdf7c",
   "metadata": {},
   "source": [
    "## 함수 체인 알아보기"
   ]
  },
  {
   "cell_type": "code",
   "execution_count": 2,
   "id": "44c5e5f3",
   "metadata": {},
   "outputs": [
    {
     "name": "stdout",
     "output_type": "stream",
     "text": [
      "300\n",
      "300\n",
      "600\n"
     ]
    }
   ],
   "source": [
    "fun Outer(x:Int) : (Int) -> Int {              // 외부함수를 정의\n",
    "    fun inner1(y:Int) : Int {                  // 내부함수를 정의 \n",
    "        return x+y\n",
    "    }\n",
    "    return ::inner1                            // 내부함수를 반환 \n",
    "}\n",
    "\n",
    "println(Outer(100)(200))                       // 함수를 연속실행 \n",
    "val out = Outer(100)\n",
    "println(out(200))\n",
    "                                              // 람다표현식으로 함수의 내부 계층을 만듬\n",
    "val lambda = { x :Int -> { y:Int -> {z :Int -> x+y+z}} }\n",
    "\n",
    "println(lambda(100)(200)(300))                // 함수를 연속으로 실행 "
   ]
  },
  {
   "cell_type": "code",
   "execution_count": null,
   "id": "aa4aee1a",
   "metadata": {},
   "outputs": [],
   "source": []
  },
  {
   "cell_type": "code",
   "execution_count": null,
   "id": "0ee0197b",
   "metadata": {},
   "outputs": [],
   "source": []
  },
  {
   "cell_type": "markdown",
   "id": "20dab250",
   "metadata": {},
   "source": [
    "## 메소드 체인 알아보기"
   ]
  },
  {
   "cell_type": "code",
   "execution_count": 3,
   "id": "e47bb345",
   "metadata": {},
   "outputs": [
    {
     "name": "stdout",
     "output_type": "stream",
     "text": [
      "Car(소유자 = 서정희, 색상= 빨간색)\n",
      "Car(소유자 = 이재헌, 색상= 파란색)\n"
     ]
    }
   ],
   "source": [
    "class Car(var ownerName: String, var color: String) {       // 클래스 정의 \n",
    "    fun changeOwner(newName: String) :Car {                 // 메소드 정의 \n",
    "        this.ownerName = newName\n",
    "        return this                                         // 연속 호출을 위해 객체 반환 \n",
    "    }\n",
    "\n",
    "    fun repaint(newColor: String) :Car {                    // 메소드 정의                   \n",
    "        this.color = newColor\n",
    "        return this                                         // 연속 호출을 위한 객체 반환\n",
    "    }\n",
    "    \n",
    "    fun info() : Unit =                                     // 메소드 정의 \n",
    "          println(\"Car(소유자 = $ownerName, 색상= $color)\")    // 최종 처리 결과 \n",
    "}\n",
    "\n",
    "val c = Car(\"서정희\", \"빨간색\")                                 // 객체 생성 \n",
    "c.info()\n",
    "c.changeOwner(\"이재헌\").repaint(\"파란색\").info()                // 메소드 체인 처리"
   ]
  },
  {
   "cell_type": "code",
   "execution_count": null,
   "id": "6cbe0442",
   "metadata": {},
   "outputs": [],
   "source": []
  },
  {
   "cell_type": "markdown",
   "id": "bc8599b2",
   "metadata": {},
   "source": [
    "## 확장함수 구현을 통한 체인 구성"
   ]
  },
  {
   "cell_type": "code",
   "execution_count": 4,
   "id": "decde5bd",
   "metadata": {},
   "outputs": [
    {
     "name": "stdout",
     "output_type": "stream",
     "text": [
      "Car(소유자 = 우미선, 색상= 하얀색)\n",
      "Car(소유자 = 좌미선, 색상= 노란색)\n"
     ]
    }
   ],
   "source": [
    "data class Car1(var ownerName: String, var color: String)       // 데이터클래스 정의 \n",
    "\n",
    "fun Car1.changeOwner(newName: String) :Car1 {                   // 확장함수 정의 \n",
    "        this.ownerName = newName\n",
    "        return this                                             // 리시버 객체 반환\n",
    "}\n",
    "\n",
    "fun Car1.repaint(newColor: String) :Car1 {                      // 확장함수 정의 \n",
    "        this.color = newColor\n",
    "        return this                                             // 리시버 객체 반환\n",
    "}\n",
    "    \n",
    "fun Car1.info() : Unit =                                        // 확장 함수 \n",
    "    println(\"Car(소유자 = $ownerName, 색상= $color)\")              // 메소드 체인 종료 \n",
    "\n",
    "val cc = Car1(\"우미선\", \"하얀색\")                                   // 객체생성\n",
    "cc.info()\n",
    "cc.changeOwner(\"좌미선\").repaint(\"노란색\").info()                   // 메소드 체인 처리"
   ]
  },
  {
   "cell_type": "code",
   "execution_count": null,
   "id": "e092fc3d",
   "metadata": {},
   "outputs": [],
   "source": []
  },
  {
   "cell_type": "code",
   "execution_count": null,
   "id": "da9f63a1",
   "metadata": {},
   "outputs": [],
   "source": []
  }
 ],
 "metadata": {
  "kernelspec": {
   "display_name": "Kotlin",
   "language": "kotlin",
   "name": "kotlin"
  },
  "language_info": {
   "codemirror_mode": "text/x-kotlin",
   "file_extension": ".kt",
   "mimetype": "text/x-kotlin",
   "name": "kotlin",
   "nbconvert_exporter": "",
   "pygments_lexer": "kotlin",
   "version": "1.8.20-Beta"
  }
 },
 "nbformat": 4,
 "nbformat_minor": 5
}
