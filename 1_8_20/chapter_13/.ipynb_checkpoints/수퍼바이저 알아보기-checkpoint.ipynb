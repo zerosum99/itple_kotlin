{
 "cells": [
  {
   "cell_type": "code",
   "execution_count": null,
   "id": "df440d98",
   "metadata": {},
   "outputs": [],
   "source": []
  },
  {
   "cell_type": "code",
   "execution_count": 1,
   "id": "6df5c43e",
   "metadata": {},
   "outputs": [],
   "source": [
    "@file:DependsOn(\"org.jetbrains.kotlinx:kotlinx-coroutines-core:1.6.1\")"
   ]
  },
  {
   "cell_type": "code",
   "execution_count": 2,
   "id": "663b7d60",
   "metadata": {},
   "outputs": [
    {
     "data": {
      "text/plain": [
       "Current classpath (14 paths):\n",
       "/Users/dahlmoon/anaconda3/envs/kotlin/lib/python3.8/site-packages/run_kotlin_kernel/jars/lib-0.11.0-61.jar\n",
       "/Users/dahlmoon/anaconda3/envs/kotlin/lib/python3.8/site-packages/run_kotlin_kernel/jars/api-0.11.0-61.jar\n",
       "/Users/dahlmoon/anaconda3/envs/kotlin/lib/python3.8/site-packages/run_kotlin_kernel/jars/kotlin-script-runtime-1.7.0-dev-1825.jar\n",
       "/Users/dahlmoon/anaconda3/envs/kotlin/lib/python3.8/site-packages/run_kotlin_kernel/jars/kotlin-reflect-1.6.0.jar\n",
       "/Users/dahlmoon/anaconda3/envs/kotlin/lib/python3.8/site-packages/run_kotlin_kernel/jars/kotlin-stdlib-1.6.0.jar\n",
       "/Users/dahlmoon/anaconda3/envs/kotlin/lib/python3.8/site-packages/run_kotlin_kernel/jars/annotations-13.0.jar\n",
       "/Users/dahlmoon/anaconda3/envs/kotlin/lib/python3.8/site-packages/run_kotlin_kernel/jars/kotlin-stdlib-common-1.6.0.jar\n",
       "/Users/dahlmoon/.m2/repository/org/jetbrains/kotlinx/kotlinx-coroutines-core/1.6.1/kotlinx-coroutines-core-1.6.1.jar\n",
       "/Users/dahlmoon/.m2/repository/org/jetbrains/kotlinx/kotlinx-coroutines-core-jvm/1.6.1/kotlinx-coroutines-core-jvm-1.6.1.jar\n",
       "/Users/dahlmoon/.m2/repository/org/jetbrains/kotlin/kotlin-stdlib-jdk8/1.6.0/kotlin-stdlib-jdk8-1.6.0.jar\n",
       "/Users/dahlmoon/.m2/repository/org/jetbrains/kotlin/kotlin-stdlib/1.6.0/kotlin-stdlib-1.6.0.jar\n",
       "/Users/dahlmoon/.m2/repository/org/jetbrains/annotations/13.0/annotations-13.0.jar\n",
       "/Users/dahlmoon/.m2/repository/org/jetbrains/kotlin/kotlin-stdlib-jdk7/1.6.0/kotlin-stdlib-jdk7-1.6.0.jar\n",
       "/Users/dahlmoon/.m2/repository/org/jetbrains/kotlin/kotlin-stdlib-common/1.6.0/kotlin-stdlib-common-1.6.0.jar"
      ]
     },
     "execution_count": 2,
     "metadata": {},
     "output_type": "execute_result"
    }
   ],
   "source": [
    ":classpath"
   ]
  },
  {
   "cell_type": "code",
   "execution_count": 4,
   "id": "cf960788",
   "metadata": {},
   "outputs": [],
   "source": [
    "import kotlinx.coroutines.*"
   ]
  },
  {
   "cell_type": "markdown",
   "id": "9fefa6d5",
   "metadata": {},
   "source": [
    "## 수퍼바이져스코프로 예외 처리 "
   ]
  },
  {
   "cell_type": "code",
   "execution_count": 98,
   "id": "b1b370a2",
   "metadata": {},
   "outputs": [
    {
     "name": "stdout",
     "output_type": "stream",
     "text": [
      "잠시 중단\n",
      "예외 발생 \n",
      "자식 코루틴 중단처리 \n",
      "예외 갭처  , 자식들에게 전파\n"
     ]
    }
   ],
   "source": [
    "fun main() = runBlocking { \n",
    "    try { \n",
    "        supervisorScope {                             // 수퍼바이저 스코프로 처리 \n",
    "            val child = launch {                      // 자식 코루틴 드록 \n",
    "                try { \n",
    "                    println(\"잠시 중단\") \n",
    "                    delay(1000) \n",
    "                    println(\"다시 시작\")\n",
    "                }\n",
    "                finally { \n",
    "                    println(\"자식 코루틴 중단처리 \")       // 예외가 전달되어 처리됨 \n",
    "                } \n",
    "            }                                         // 수퍼바이저스코프 자식 코루틴에게만 예외 전달\n",
    "            yield() \n",
    "            println(\"예외 발생 \") \n",
    "            throw AssertionError(\"자식들에게 전파\")        // 예외 발생 \n",
    "        } \n",
    "    } \n",
    "    catch(e: AssertionError) { \n",
    "        println(\"예외 갭처  , ${e.message}\") \n",
    "    } \n",
    "}\n",
    "\n",
    "main()"
   ]
  },
  {
   "cell_type": "code",
   "execution_count": null,
   "id": "f92e6635",
   "metadata": {},
   "outputs": [],
   "source": []
  },
  {
   "cell_type": "code",
   "execution_count": null,
   "id": "b1e8b22d",
   "metadata": {},
   "outputs": [],
   "source": []
  },
  {
   "cell_type": "code",
   "execution_count": 92,
   "id": "937e43e4",
   "metadata": {},
   "outputs": [
    {
     "name": "stdout",
     "output_type": "stream",
     "text": [
      "첫번째 코루틴 실행 \n",
      "예외처리 : java.lang.AssertionError: 첫번째 코루틴 내에서 예외 발생 \n",
      "첫번째 코루틴 상태: true\n",
      "수퍼바이저로 중단 처리 \n",
      "두번째 코루틴 처리 \n"
     ]
    }
   ],
   "source": [
    "fun main() = runBlocking { \n",
    "    val supervisor = SupervisorJob()                              // 수퍼바이저 잡 지정 \n",
    "    val handler = CoroutineExceptionHandler {                     // 예외처리 핸들러 작성 \n",
    "             _, exception -> println(\"예외처리 : $exception\")}\n",
    "    try { \n",
    "        with(CoroutineScope(coroutineContext \n",
    "                            + supervisor)) { \n",
    "            val firstChild = launch(handler) {                     // 코루틴에 예외처리 전달 \n",
    "                println(\"첫번째 코루틴 실행 \") \n",
    "                throw AssertionError(\"첫번째 코루틴 내에서 예외 발생 \")   // 예외발생 \n",
    "            } \n",
    "            val secondChild = launch { \n",
    "                firstChild.join()                                  // 첫번째 코루틴 조인 \n",
    "                println(\"첫번째 코루틴 상태: ${firstChild.isCancelled}\" ) \n",
    "                try { \n",
    "                    delay(Long.MAX_VALUE) \n",
    "                } \n",
    "                finally {                                          // 중단해서 반드시 처리  \n",
    "                    println(\"두번째 코루틴 처리 \") \n",
    "                } \n",
    "            } // wait until the first child fails & completes \n",
    "            firstChild.join() \n",
    "            println(\"수퍼바이저로 중단 처리 \") \n",
    "            supervisor.cancel() \n",
    "            secondChild.join() \n",
    "        }\n",
    "        } catch (e: CancellationException) { \n",
    "        println(\"전체 코루틴 완료 !\") \n",
    "    } \n",
    "}\n",
    "\n",
    "main()\n"
   ]
  },
  {
   "cell_type": "code",
   "execution_count": null,
   "id": "e9a3db48",
   "metadata": {},
   "outputs": [],
   "source": []
  },
  {
   "cell_type": "code",
   "execution_count": null,
   "id": "d4d9ab78",
   "metadata": {},
   "outputs": [],
   "source": []
  },
  {
   "cell_type": "code",
   "execution_count": 99,
   "id": "c6b769f9",
   "metadata": {},
   "outputs": [
    {
     "name": "stdout",
     "output_type": "stream",
     "text": [
      "[BlockingCoroutine{Active}@334ae94f, BlockingEventLoop@30c4b1b8]\n",
      "true\n",
      "I'm in coroutine 'First'\n",
      "[ThreadLocal(value=First, threadLocal = java.lang.ThreadLocal@4f089084), StandaloneCoroutine{Active}@576094cf, BlockingEventLoop@30c4b1b8]\n",
      "I'm in coroutine 'Second'\n",
      "[ThreadLocal(value=Second, threadLocal = java.lang.ThreadLocal@4f089084), StandaloneCoroutine{Active}@33840ffd, BlockingEventLoop@30c4b1b8]\n",
      "[BlockingCoroutine{Active}@334ae94f, BlockingEventLoop@30c4b1b8]\n"
     ]
    }
   ],
   "source": [
    "val myId = ThreadLocal<String>()\n",
    "\n",
    "// I'm not a suspending function, yet I know what coroutine I work in\n",
    "fun whereAmI() {\n",
    "    println(\"I'm in coroutine '${myId.get()}'\")\n",
    "}\n",
    "\n",
    "fun main() = runBlocking<Unit> {\n",
    "    \n",
    "    println(coroutineContext)\n",
    "    println(isActive)\n",
    "    launch(myId.asContextElement(\"First\")) {\n",
    "        whereAmI()\n",
    "        println(coroutineContext)\n",
    "    }\n",
    "    launch(myId.asContextElement(\"Second\")) {\n",
    "        whereAmI()\n",
    "        println(coroutineContext)\n",
    "    }\n",
    "    delay(400)\n",
    "    println(coroutineContext)\n",
    "}\n",
    "\n",
    "main()"
   ]
  },
  {
   "cell_type": "code",
   "execution_count": null,
   "id": "3bf4950b",
   "metadata": {},
   "outputs": [],
   "source": []
  },
  {
   "cell_type": "code",
   "execution_count": null,
   "id": "51b6fe37",
   "metadata": {},
   "outputs": [],
   "source": []
  },
  {
   "cell_type": "code",
   "execution_count": 69,
   "id": "47ddb596",
   "metadata": {},
   "outputs": [],
   "source": [
    "fun main() {\n",
    "    runBlocking {\n",
    "        \n",
    "        val ctxElems = coroutineContext.fold(mutableListOf<Pair<Any, Any>>()) { list, element ->\n",
    "            list.also { it.add(element.key to element) }\n",
    "        }\n",
    "        for ((key, value) in ctxElems) {\n",
    "            println(\"${key::class.qualifiedName}: $value\")\n",
    "        }\n",
    "        \n",
    "        launch(Dispatchers.Default) { \n",
    "            val ctxElems = coroutineContext.fold(mutableListOf<Pair<Any, Any>>()) { list, element ->\n",
    "                list.also { it.add(element.key to element) }\n",
    "            }\n",
    "            for ((key, value) in ctxElems) {\n",
    "                println(\"${key::class.qualifiedName}: $value\")\n",
    "            }\n",
    "        }\n",
    "    }\n",
    "}"
   ]
  },
  {
   "cell_type": "code",
   "execution_count": 70,
   "id": "a116df4e",
   "metadata": {},
   "outputs": [
    {
     "name": "stdout",
     "output_type": "stream",
     "text": [
      "kotlinx.coroutines.Job.Key: BlockingCoroutine{Active}@1414cfbd\n",
      "kotlin.coroutines.ContinuationInterceptor.Key: BlockingEventLoop@d837496\n",
      "kotlinx.coroutines.Job.Key: StandaloneCoroutine{Active}@34bf820c\n",
      "kotlin.coroutines.ContinuationInterceptor.Key: Dispatchers.Default\n"
     ]
    }
   ],
   "source": [
    "main()"
   ]
  },
  {
   "cell_type": "code",
   "execution_count": null,
   "id": "b6c476ca",
   "metadata": {},
   "outputs": [],
   "source": []
  }
 ],
 "metadata": {
  "kernelspec": {
   "display_name": "Kotlin",
   "language": "kotlin",
   "name": "kotlin"
  },
  "language_info": {
   "codemirror_mode": "text/x-kotlin",
   "file_extension": ".kt",
   "mimetype": "text/x-kotlin",
   "name": "kotlin",
   "nbconvert_exporter": "",
   "pygments_lexer": "kotlin",
   "version": "1.7.0-dev-1825"
  }
 },
 "nbformat": 4,
 "nbformat_minor": 5
}
