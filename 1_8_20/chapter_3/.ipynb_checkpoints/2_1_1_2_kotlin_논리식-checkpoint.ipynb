{
 "cells": [
  {
   "cell_type": "code",
   "execution_count": null,
   "id": "26bf7af2",
   "metadata": {},
   "outputs": [],
   "source": []
  },
  {
   "cell_type": "code",
   "execution_count": 1,
   "id": "631b859f-4387-4a4e-a6db-4f6cbc5472ee",
   "metadata": {},
   "outputs": [
    {
     "data": {
      "text/plain": [
       "1.8.20"
      ]
     },
     "execution_count": 1,
     "metadata": {},
     "output_type": "execute_result"
    }
   ],
   "source": [
    "KotlinVersion.CURRENT"
   ]
  },
  {
   "cell_type": "code",
   "execution_count": null,
   "id": "147357c3",
   "metadata": {},
   "outputs": [],
   "source": []
  },
  {
   "cell_type": "markdown",
   "id": "f6505715",
   "metadata": {},
   "source": [
    "## 논리식 처리"
   ]
  },
  {
   "cell_type": "code",
   "execution_count": null,
   "id": "66ca3f8b",
   "metadata": {},
   "outputs": [],
   "source": []
  },
  {
   "cell_type": "code",
   "execution_count": 2,
   "id": "68968155",
   "metadata": {
    "scrolled": true
   },
   "outputs": [
    {
     "name": "stdout",
     "output_type": "stream",
     "text": [
      "class kotlin.Boolean\n",
      "false\n",
      "false\n",
      "true\n",
      "false\n",
      "true\n"
     ]
    }
   ],
   "source": [
    "var humid = true\n",
    "var raining = true\n",
    "var jacket = false\n",
    "var shorts = false\n",
    "var sunny = false\n",
    " \n",
    "println(humid.javaClass.kotlin)  // 불리언 클래스 \n",
    "\n",
    "println(!humid)                  // not 연산 \n",
    "println(jacket && raining)       // and 연산 기호\n",
    "println(humid || raining)        // or 연산 기호\n",
    "\n",
    "println(jacket and raining)      // 두 변수의 and 연산\n",
    "println(humid or raining)        // 두 변수의 or  연산 "
   ]
  },
  {
   "cell_type": "code",
   "execution_count": null,
   "id": "f1ed023f",
   "metadata": {},
   "outputs": [],
   "source": []
  },
  {
   "cell_type": "markdown",
   "id": "00f47b31",
   "metadata": {},
   "source": [
    "## 부정과 동등성 비교"
   ]
  },
  {
   "cell_type": "code",
   "execution_count": 3,
   "id": "b0e86095",
   "metadata": {},
   "outputs": [
    {
     "name": "stdout",
     "output_type": "stream",
     "text": [
      "false\n",
      "true\n"
     ]
    }
   ],
   "source": [
    "var hungry = true\n",
    "var full = false\n",
    " \n",
    "println(!hungry)             //  not 부정처리 \n",
    "println(!full)               //  not 부정처리"
   ]
  },
  {
   "cell_type": "code",
   "execution_count": null,
   "id": "48b84010",
   "metadata": {},
   "outputs": [],
   "source": []
  },
  {
   "cell_type": "markdown",
   "id": "26b17142",
   "metadata": {},
   "source": [
    "## 관계식을 조합하기 "
   ]
  },
  {
   "cell_type": "code",
   "execution_count": 4,
   "id": "77cceeee",
   "metadata": {},
   "outputs": [
    {
     "name": "stdout",
     "output_type": "stream",
     "text": [
      "true\n",
      "true\n",
      "true\n",
      "true\n"
     ]
    }
   ],
   "source": [
    "var late = true\n",
    "var skipBreakfast = true\n",
    "var underslept = false\n",
    "var checkEmails = false\n",
    " \n",
    "println(skipBreakfast || late)             // 단일 논리식\n",
    "println(late || checkEmails && late)       // 두 개의 논리식 조합\n",
    "println(underslept || late)                // 단일 논리식\n",
    "println(checkEmails || underslept || late) // 두 개의 논리식 조합"
   ]
  },
  {
   "cell_type": "code",
   "execution_count": null,
   "id": "dabd77fc",
   "metadata": {},
   "outputs": [],
   "source": []
  },
  {
   "cell_type": "code",
   "execution_count": null,
   "id": "f98a420c",
   "metadata": {},
   "outputs": [],
   "source": []
  },
  {
   "cell_type": "code",
   "execution_count": null,
   "id": "a1e9339c",
   "metadata": {},
   "outputs": [],
   "source": []
  },
  {
   "cell_type": "code",
   "execution_count": null,
   "id": "0f894573",
   "metadata": {},
   "outputs": [],
   "source": []
  }
 ],
 "metadata": {
  "kernelspec": {
   "display_name": "Kotlin",
   "language": "kotlin",
   "name": "kotlin"
  },
  "language_info": {
   "codemirror_mode": "text/x-kotlin",
   "file_extension": ".kt",
   "mimetype": "text/x-kotlin",
   "name": "kotlin",
   "nbconvert_exporter": "",
   "pygments_lexer": "kotlin",
   "version": "1.8.20-Beta"
  }
 },
 "nbformat": 4,
 "nbformat_minor": 5
}
