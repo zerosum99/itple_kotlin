{
 "cells": [
  {
   "cell_type": "code",
   "execution_count": null,
   "id": "da7b86b8",
   "metadata": {},
   "outputs": [],
   "source": []
  },
  {
   "cell_type": "code",
   "execution_count": 1,
   "id": "ef94c003",
   "metadata": {},
   "outputs": [
    {
     "data": {
      "text/plain": [
       "1.8.20"
      ]
     },
     "execution_count": 1,
     "metadata": {},
     "output_type": "execute_result"
    }
   ],
   "source": [
    "KotlinVersion.CURRENT             // 코틀린 현재 버전 "
   ]
  },
  {
   "cell_type": "code",
   "execution_count": null,
   "id": "7b0f8c28",
   "metadata": {},
   "outputs": [],
   "source": []
  },
  {
   "cell_type": "markdown",
   "id": "a49f7425",
   "metadata": {},
   "source": [
    "## 범위와 반복"
   ]
  },
  {
   "cell_type": "markdown",
   "id": "3204affc",
   "metadata": {},
   "source": [
    "### 범위클래스"
   ]
  },
  {
   "cell_type": "code",
   "execution_count": 2,
   "id": "1ef770b7",
   "metadata": {},
   "outputs": [
    {
     "name": "stdout",
     "output_type": "stream",
     "text": [
      "IntRange\n",
      "14\n",
      "endExclusive\n",
      "endInclusive\n",
      "start\n",
      "contains\n",
      "equals\n",
      "hashCode\n",
      "isEmpty\n",
      "toString\n",
      "first\n",
      "last\n",
      "step\n",
      "forEach\n",
      "iterator\n",
      "spliterator\n"
     ]
    }
   ],
   "source": [
    "fun Any.dir() : Set<String> {               // 클래스 내부의 멤버 이름을 확인하는 함수 \n",
    "    val a = this.javaClass.kotlin           // 클래스 참조 \n",
    "    println(a.simpleName)\n",
    "    val ll = a.members.map { it.name}       // 멤버의 이름을 추가하기 \n",
    "    return ll.toSet() \n",
    "}\n",
    "\n",
    "val intR = (1..5).dir()                     // 정수 범위의 멤버 확인 \n",
    "println(intR.count())\n",
    "\n",
    "for (i in intR) println(i)                  // 멤버 출력"
   ]
  },
  {
   "cell_type": "markdown",
   "id": "7fdf4aa0",
   "metadata": {},
   "source": [
    "##  범위 클래스 확인하기 "
   ]
  },
  {
   "cell_type": "code",
   "execution_count": 3,
   "id": "874a5706",
   "metadata": {},
   "outputs": [
    {
     "name": "stdout",
     "output_type": "stream",
     "text": [
      "IntRange\n",
      "LongRange\n",
      "CharRange\n",
      "14\n",
      "14\n",
      "14\n"
     ]
    }
   ],
   "source": [
    "val intR1 = (1..5).dir()                   // 정수범위 멤버 확인\n",
    "val longR =(1L..5L).dir()                  // 롱정수범위 멤버 확인\n",
    "val charR =('a'..'b').dir()                // 문자 범위 멤버 확인 \n",
    "\n",
    "println(intR1.intersect(longR).count())    // 교집합으로 확인하면 \n",
    "println(intR1.intersect(charR).count())    // 동일한 멤버를 가진 것을 확인 \n",
    "println(longR.intersect(charR).count())"
   ]
  },
  {
   "cell_type": "code",
   "execution_count": null,
   "id": "eabc9d50",
   "metadata": {},
   "outputs": [],
   "source": []
  },
  {
   "cell_type": "code",
   "execution_count": null,
   "id": "5cab6e26",
   "metadata": {},
   "outputs": [],
   "source": []
  },
  {
   "cell_type": "markdown",
   "id": "a93e43af",
   "metadata": {},
   "source": [
    "## 반복처리"
   ]
  },
  {
   "cell_type": "code",
   "execution_count": null,
   "id": "c691e58a",
   "metadata": {},
   "outputs": [],
   "source": []
  },
  {
   "cell_type": "code",
   "execution_count": 4,
   "id": "10a7f627",
   "metadata": {},
   "outputs": [
    {
     "name": "stdout",
     "output_type": "stream",
     "text": [
      "start : 1\n",
      "last  : 5\n",
      "step  : 1\n",
      "for 문\n",
      "1 2 3 4 5 \n",
      "1 3 5 \n",
      "for each 메소드\n",
      "1,2,3,4,5,\n",
      " until 까지 순환 \n",
      "1 2 3 4 \n",
      "1 3 "
     ]
    }
   ],
   "source": [
    "fun IntRange.info() {                      // 정수 범위 확장함수 \n",
    "    println(\"start : \" + this.start)       // 내부 속성 정보를 출력 \n",
    "    println(\"last  : \" + this.last)\n",
    "    println(\"step  : \" + this.step)\n",
    "}\n",
    "\n",
    "val intRange : IntRange = 1..5             // 범위연산자로 정수 범위 설정 \n",
    "intRange.info()\n",
    "\n",
    "val intRange2 = 1.rangeTo(5)               // 메소드로 정수 범위 설정 \n",
    "\n",
    "println(\"for 문\")\n",
    "for (i in intRange)  print(\"$i \")          // 순환문으로 범위 순환\n",
    "println()\n",
    "for (i in intRange step 2) print(\"$i \")    // 간격을 가지고 범위 순환 \n",
    "\n",
    "println()\n",
    "println(\"for each 메소드\")\n",
    "intRange.forEach {print(\"${it},\")}         //  내부순환으로 범위 처리 \n",
    "\n",
    "println()\n",
    "println(\" until 까지 순환 \")\n",
    "for (i in (1).until(5)) print(\"$i \")       // 마지막 값 미포함 범위 처리\n",
    "println()\n",
    "for (i in 1 until 5 step 2) print(\"$i \")   // 마지막 값 미포함 간격을 가지고 범위 순환"
   ]
  },
  {
   "cell_type": "code",
   "execution_count": null,
   "id": "f4a854b7",
   "metadata": {},
   "outputs": [],
   "source": []
  },
  {
   "cell_type": "markdown",
   "id": "87904d31-ab8f-42b8-8006-1ae0a28e95da",
   "metadata": {},
   "source": [
    "### Backward\n",
    "반대 방향으로 순회하려면 downTo를 사용해야 합니다.\n",
    "\n",
    "다음 코드는 5에서 3으로 감소하면서 순회하는 반복문입니다."
   ]
  },
  {
   "cell_type": "code",
   "execution_count": 5,
   "id": "93130b41",
   "metadata": {},
   "outputs": [
    {
     "name": "stdout",
     "output_type": "stream",
     "text": [
      "5 4 3 2 1 \n",
      "e d c b a \n",
      "20 18 16 14 12 10 8 6 4 2 \n",
      "1 4 7 10 13 16 19 22 25 28 "
     ]
    }
   ],
   "source": [
    "for (i in (5).downTo(1)) print(\"$i \")         // 정수 반대방향으로 범위처리\n",
    "println()\n",
    "for (i in ('e').downTo('a')) print(\"$i \")     // 문자 반대방향으로 범위 처리\n",
    "println()\n",
    "\n",
    "for (i in 20.downTo(1).step(2)) print(\"$i \")  // 정수 반대반행으로 범위 처리 \n",
    "println()\n",
    "\n",
    "for (i in 1.rangeTo(30) step 3) print(\"$i \")  // 정수 정방향으로 범위 처리"
   ]
  },
  {
   "cell_type": "code",
   "execution_count": null,
   "id": "b384f156",
   "metadata": {},
   "outputs": [],
   "source": []
  },
  {
   "cell_type": "markdown",
   "id": "c595087d",
   "metadata": {},
   "source": [
    "## ComparableRange 처리"
   ]
  },
  {
   "cell_type": "markdown",
   "id": "382f4688",
   "metadata": {},
   "source": [
    "### 비교만 가능"
   ]
  },
  {
   "cell_type": "code",
   "execution_count": 6,
   "id": "407e588f",
   "metadata": {},
   "outputs": [
    {
     "name": "stdout",
     "output_type": "stream",
     "text": [
      "ComparableRange\n",
      "7\n",
      "endInclusive\n",
      "start\n",
      "equals\n",
      "hashCode\n",
      "toString\n",
      "contains\n",
      "isEmpty\n",
      "start : mom\n",
      "last  : mop\n",
      "### 포함여부 확인 ###\n",
      "false\n",
      "true\n",
      "true\n"
     ]
    }
   ],
   "source": [
    "val strR = (\"문자열\"..\"범위\").dir()                 // 문자열로 범위를 만들면 \n",
    "println(strR.count())                           // 반복자로 순회에 대한 메소드가 없음 \n",
    "for (i in strR) println(i)                      // 비교만 할 수 있는 멤버만 있음\n",
    "\n",
    "fun ClosedRange<String>.info() {                // 문자열 범위 내의 확장함수 추가          \n",
    "    println(\"start : \" + this.start)            // 시작과 종료을 출력 \n",
    "    println(\"last  : \" + this.endInclusive)\n",
    "}\n",
    "\n",
    "val closedRange : ClosedRange<String> =         // 문자열 범위 생성 \n",
    "                                \"mom\"..\"mop\"\n",
    "\n",
    "closedRange.info()\n",
    "println(\"### 포함여부 확인 ###\")\n",
    "println(closedRange.isEmpty())                  // 내부 상태확인 \n",
    "println(closedRange.contains(\"mom\"))            // 포함여부 확인 \n",
    "println(\"mon\" in closedRange)"
   ]
  },
  {
   "cell_type": "code",
   "execution_count": null,
   "id": "80a5b0ab",
   "metadata": {},
   "outputs": [],
   "source": []
  },
  {
   "cell_type": "code",
   "execution_count": null,
   "id": "af05ce98",
   "metadata": {},
   "outputs": [],
   "source": []
  },
  {
   "cell_type": "code",
   "execution_count": null,
   "id": "a3f4aed5",
   "metadata": {},
   "outputs": [],
   "source": []
  },
  {
   "cell_type": "code",
   "execution_count": null,
   "id": "3122e9fd",
   "metadata": {},
   "outputs": [],
   "source": []
  }
 ],
 "metadata": {
  "kernelspec": {
   "display_name": "Kotlin",
   "language": "kotlin",
   "name": "kotlin"
  },
  "language_info": {
   "codemirror_mode": "text/x-kotlin",
   "file_extension": ".kt",
   "mimetype": "text/x-kotlin",
   "name": "kotlin",
   "nbconvert_exporter": "",
   "pygments_lexer": "kotlin",
   "version": "1.8.20-Beta"
  }
 },
 "nbformat": 4,
 "nbformat_minor": 5
}
