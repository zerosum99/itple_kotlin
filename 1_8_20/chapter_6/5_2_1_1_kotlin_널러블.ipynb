{
 "cells": [
  {
   "cell_type": "code",
   "execution_count": null,
   "id": "333b4925",
   "metadata": {},
   "outputs": [],
   "source": []
  },
  {
   "cell_type": "code",
   "execution_count": 1,
   "id": "19b4c79c",
   "metadata": {},
   "outputs": [
    {
     "data": {
      "text/plain": [
       "1.7.20"
      ]
     },
     "execution_count": 1,
     "metadata": {},
     "output_type": "execute_result"
    }
   ],
   "source": [
    "KotlinVersion.CURRENT             // 코틀린 현재 버전 "
   ]
  },
  {
   "cell_type": "code",
   "execution_count": null,
   "id": "d0f08880",
   "metadata": {},
   "outputs": [],
   "source": []
  },
  {
   "cell_type": "markdown",
   "id": "569d0acb",
   "metadata": {},
   "source": [
    "## 널러블 자료형 관계 확인"
   ]
  },
  {
   "cell_type": "code",
   "execution_count": null,
   "id": "792e1331",
   "metadata": {},
   "outputs": [],
   "source": []
  },
  {
   "cell_type": "code",
   "execution_count": 2,
   "id": "4a087d3f",
   "metadata": {},
   "outputs": [
    {
     "name": "stdout",
     "output_type": "stream",
     "text": [
      "문자열\n",
      "문자열\n",
      "class kotlin.String\n",
      "class kotlin.String\n",
      "true\n",
      "true\n"
     ]
    }
   ],
   "source": [
    "import kotlin.reflect.full.isSubclassOf\n",
    "\n",
    "val a1 : Any? = null                           // 널러블 타입 지정\n",
    "val a2 : Any  = Any()                          // Any 타입 지정 \n",
    "val a3 : Any? = Any()\n",
    "\n",
    "var s1 : String? = null \n",
    "var s2 : String  = \"문자열\"\n",
    "\n",
    "//s2 = s1                                       //상위타입에 하위타입 처리 불가\n",
    "s1 = s2                                         //상위타입에 하위타입 할당 가능 \n",
    "println(s1)\n",
    "s2 = s1 as String                               // 명확한 타입으로 저장\n",
    "println(s2)\n",
    "\n",
    "var s3 : String = \"문자열\"\n",
    "var s4 : String? = \"문자열2\"\n",
    "                                               //널러블 문자열이 일반 문자열의 상위 클래스\n",
    "println((s3::class))\n",
    "println((s4!!::class))\n",
    "println((s3::class).isSubclassOf(s4!!::class))\n",
    "println((s4!!::class).isSubclassOf(s3::class))"
   ]
  },
  {
   "cell_type": "code",
   "execution_count": null,
   "id": "7e2132ef",
   "metadata": {},
   "outputs": [],
   "source": []
  },
  {
   "cell_type": "markdown",
   "id": "4032248b",
   "metadata": {},
   "source": [
    "## 널여부 확인"
   ]
  },
  {
   "cell_type": "code",
   "execution_count": 3,
   "id": "2f7b25a8",
   "metadata": {},
   "outputs": [
    {
     "name": "stdout",
     "output_type": "stream",
     "text": [
      " 문자열 처리 6\n",
      " 널값 \n"
     ]
    }
   ],
   "source": [
    "val b: String? = \"Kotlin\"                       // 널가능 문자열에 문자열 할당\n",
    "if (b != null) println(\" 문자열 처리 ${b.length}\") // 널여부 체크한 후에는 스마트 캐스팅되어 문자열처리\n",
    "else println(\" 널값 \")\n",
    "\n",
    "\n",
    "val c: String? = null                            // 널가능 문자열에 널 할당 \n",
    "if (c == null) println(\" 널값 \")                  // 널이라 널일 경우 출력\n",
    "else println(\" 문자열 처리 ${c.length}\")\n"
   ]
  },
  {
   "cell_type": "code",
   "execution_count": null,
   "id": "37c4d290",
   "metadata": {},
   "outputs": [],
   "source": []
  },
  {
   "cell_type": "markdown",
   "id": "ff78413c",
   "metadata": {},
   "source": [
    "## 널러블 클래스의 구성 "
   ]
  },
  {
   "cell_type": "code",
   "execution_count": 4,
   "id": "98d61186",
   "metadata": {},
   "outputs": [
    {
     "name": "stdout",
     "output_type": "stream",
     "text": [
      "null\n",
      "300\n"
     ]
    }
   ],
   "source": [
    "fun <T:Any> T?.mapCheck( f:(T)-> T): T? =  // 널러블 처리\n",
    "    when ( this ) {\n",
    "       null -> null                        // 널값\n",
    "       else -> f ( this )                  // 원래 타입을 처리\n",
    "   }\n",
    "\n",
    "val nl : Any? = null                       // 널러블 타입을 지정하면 null 할당가능\n",
    "val nl2  = 100                             // 정수를 일력하면 널을 처리할 수 없다\n",
    "\n",
    "println(nl?.mapCheck({it}))                // 이 함수를 처리하면 널도 처리가능\n",
    "println(nl2.mapCheck({it*3}))              // 정상값도 처리가능"
   ]
  },
  {
   "cell_type": "code",
   "execution_count": null,
   "id": "2a01b629",
   "metadata": {},
   "outputs": [],
   "source": []
  },
  {
   "cell_type": "code",
   "execution_count": null,
   "id": "2641100a",
   "metadata": {},
   "outputs": [],
   "source": []
  },
  {
   "cell_type": "markdown",
   "id": "a28556dd",
   "metadata": {},
   "source": [
    "## 단언 처리The !! operator﻿"
   ]
  },
  {
   "cell_type": "markdown",
   "id": "2748e324",
   "metadata": {},
   "source": [
    "## 안전타입 처리 Safe calls, 엘비스 연산 Elvis operator﻿"
   ]
  },
  {
   "cell_type": "code",
   "execution_count": 5,
   "id": "b6dbbfca",
   "metadata": {},
   "outputs": [
    {
     "name": "stdout",
     "output_type": "stream",
     "text": [
      "3\n",
      "예외 처리 : null\n",
      "4\n",
      "null\n",
      "0\n",
      "0\n"
     ]
    }
   ],
   "source": [
    "val ss = \"100\"                           //문자열 처리 \n",
    "println(ss!!.length)                     //단언은 문자열이 아닌 경우만 발생 \n",
    "\n",
    "val ss1 : String? = null\n",
    "try {\n",
    "    ss1!!.length                          //널이 아니여야 하는데 널이 들어오면 예외처리\n",
    "} catch (e : Exception) {\n",
    "    println(\"예외 처리 : ${e.message}\")\n",
    "}\n",
    "\n",
    "\n",
    "val d : String?  = \"문자열 \"                 \n",
    "println(d?.length)                      //타입안전 연산자는 널인 경우는 널처리 \n",
    "\n",
    "val e : String?  = null             \n",
    "println(e?.length)\n",
    "\n",
    "\n",
    "val f : String?  = null\n",
    "println(e?.length ?: 0)                 //엘비스 연산은 세이브 콜처리 한경우에도 널이면 디폴트값처리 \n",
    "\n",
    "var g = if (f != null) f?.length else 0 // 널이 경우 널값을 대신 초기값으로 처리\n",
    "println(g)"
   ]
  },
  {
   "cell_type": "code",
   "execution_count": null,
   "id": "001aaa2e",
   "metadata": {},
   "outputs": [],
   "source": []
  },
  {
   "cell_type": "markdown",
   "id": "9d52d4b8",
   "metadata": {},
   "source": [
    "## 문자열에서 널값 처리"
   ]
  },
  {
   "cell_type": "code",
   "execution_count": 6,
   "id": "1b896318",
   "metadata": {},
   "outputs": [
    {
     "name": "stdout",
     "output_type": "stream",
     "text": [
      "null\n",
      "[1, 2, 4]\n",
      "true\n",
      "true\n",
      "true\n",
      "true\n",
      "true\n",
      "true\n"
     ]
    }
   ],
   "source": [
    "val ff :String? = null\n",
    "println(ff?.getOrNull(0))\n",
    "\n",
    "val nullableList: List<Int?> = listOf(1, 2, null, 4)  //리스트 내의 널 값 원소\n",
    "println(nullableList.filterNotNull())                 // 리스트 내에서 널 제거\n",
    "\n",
    "val s1: String? = null                                //문자열의 값이 널 \n",
    "println(s1.isNullOrEmpty() == true)\n",
    "println(s1.isNullOrBlank() == true)\n",
    "\n",
    "val s2 = \"\"                                           //빈문자열 \n",
    "println(s2.isNullOrEmpty() == true)\n",
    "println(s2.isNullOrBlank() == true)\n",
    "\n",
    "val s3: String = \" \\t\\n\"                              //이스케이프문자열\n",
    "println(s3.isNullOrEmpty() == false)\n",
    "println(s3.isNullOrBlank() == true)"
   ]
  },
  {
   "cell_type": "code",
   "execution_count": null,
   "id": "295863ac",
   "metadata": {},
   "outputs": [],
   "source": []
  },
  {
   "cell_type": "code",
   "execution_count": null,
   "id": "61e0aefc",
   "metadata": {},
   "outputs": [],
   "source": []
  },
  {
   "cell_type": "code",
   "execution_count": null,
   "id": "d57118d8",
   "metadata": {},
   "outputs": [],
   "source": []
  }
 ],
 "metadata": {
  "kernelspec": {
   "display_name": "Kotlin",
   "language": "kotlin",
   "name": "kotlin"
  },
  "language_info": {
   "codemirror_mode": "text/x-kotlin",
   "file_extension": ".kt",
   "mimetype": "text/x-kotlin",
   "name": "kotlin",
   "nbconvert_exporter": "",
   "pygments_lexer": "kotlin",
   "version": "1.7.20-dev-1299"
  }
 },
 "nbformat": 4,
 "nbformat_minor": 5
}
