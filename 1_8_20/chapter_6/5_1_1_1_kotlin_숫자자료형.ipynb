{
 "cells": [
  {
   "cell_type": "code",
   "execution_count": null,
   "id": "42b39546",
   "metadata": {},
   "outputs": [],
   "source": []
  },
  {
   "cell_type": "code",
   "execution_count": 1,
   "id": "0ce61194",
   "metadata": {},
   "outputs": [
    {
     "data": {
      "text/plain": [
       "1.8.20"
      ]
     },
     "execution_count": 1,
     "metadata": {},
     "output_type": "execute_result"
    }
   ],
   "source": [
    "KotlinVersion.CURRENT             // 코틀린 현재 버전 "
   ]
  },
  {
   "cell_type": "code",
   "execution_count": null,
   "id": "91e75605",
   "metadata": {},
   "outputs": [],
   "source": []
  },
  {
   "cell_type": "markdown",
   "id": "45762343",
   "metadata": {},
   "source": [
    "## 숫자"
   ]
  },
  {
   "cell_type": "markdown",
   "id": "30048861",
   "metadata": {},
   "source": [
    "## 숫자 클래스의 최대/최소값"
   ]
  },
  {
   "cell_type": "code",
   "execution_count": 2,
   "id": "7adafc8c",
   "metadata": {},
   "outputs": [
    {
     "name": "stdout",
     "output_type": "stream",
     "text": [
      "Byte   min = -128\n",
      "Byte   max = 127\n",
      "Short  min = -32768\n",
      "Short  max = 32767\n",
      "Int    min = -2147483648 \n",
      "Int    max = 2147483647\n",
      "Long   min = -9223372036854775808\n",
      "Long   max = 9223372036854775807\n",
      "Float  min = 1.4E-45\n",
      "Float  max = 3.4028235E38\n",
      "Double min = 4.9E-324\n",
      "Double max = 1.7976931348623157E308\n"
     ]
    }
   ],
   "source": [
    "println(\"Byte   min = ${Byte.MIN_VALUE}\")  \n",
    "println(\"Byte   max = ${Byte.MAX_VALUE}\")\n",
    "println(\"Short  min = ${Short.MIN_VALUE}\")\n",
    "println(\"Short  max = ${Short.MAX_VALUE}\")\n",
    "println(\"Int    min = ${Int.MIN_VALUE} \")\n",
    "println(\"Int    max = ${Int.MAX_VALUE}\")\n",
    "println(\"Long   min = ${Long.MIN_VALUE}\")\n",
    "println(\"Long   max = ${Long.MAX_VALUE}\")\n",
    "println(\"Float  min = ${Float.MIN_VALUE}\")\n",
    "println(\"Float  max = ${Float.MAX_VALUE}\")\n",
    "println(\"Double min = ${Double.MIN_VALUE}\")\n",
    "println(\"Double max = ${Double.MAX_VALUE}\")"
   ]
  },
  {
   "cell_type": "code",
   "execution_count": null,
   "id": "0cf5844d",
   "metadata": {},
   "outputs": [],
   "source": []
  },
  {
   "cell_type": "code",
   "execution_count": null,
   "id": "470f37e1",
   "metadata": {},
   "outputs": [],
   "source": []
  },
  {
   "cell_type": "markdown",
   "id": "51aa758c",
   "metadata": {},
   "source": [
    "## 정수 클래스 내부의 속성과 메소드 "
   ]
  },
  {
   "cell_type": "code",
   "execution_count": 3,
   "id": "9f446ea4",
   "metadata": {},
   "outputs": [],
   "source": [
    "fun Number.dir() : Set<String> {       // 숫자 최상의 클래스의 확장함수 \n",
    "    val a = this.javaClass.kotlin      // 코틀린 클래스 정보 확인 \n",
    "    println(a.simpleName)\n",
    "    var ll = mutableListOf<String>()   // 변경가능 리터럴 생성 : 저장용\n",
    "    for (i in a.members) {\n",
    "        ll.add(i.name)                 // 멤버 이름을 하나씩 저장 \n",
    "    }\n",
    "    return ll.toSet() \n",
    "}\n",
    "\n",
    "fun Boolean.dir() : Set<String> {       // 불리언 클래스의 확장함수 \n",
    "    val a = this.javaClass.kotlin      // 코틀린 클래스 정보 확인 \n",
    "    println(a.simpleName)\n",
    "    var ll = mutableListOf<String>()   // 변경가능 리터럴 생성 : 저장용\n",
    "    for (i in a.members) {\n",
    "        ll.add(i.name)                 // 멤버 이름을 하나씩 저장 \n",
    "    }\n",
    "    return ll.toSet() \n",
    "}"
   ]
  },
  {
   "cell_type": "code",
   "execution_count": null,
   "id": "ae3fa04e",
   "metadata": {},
   "outputs": [],
   "source": []
  },
  {
   "cell_type": "code",
   "execution_count": 4,
   "id": "789a9717",
   "metadata": {},
   "outputs": [
    {
     "name": "stdout",
     "output_type": "stream",
     "text": [
      "*** Integer class ***\n",
      "Int\n",
      "and, compareTo, dec, div, equals, \n",
      "inv, minus, or, plus, rangeTo, \n",
      "rem, shl, shr, times, toByte, \n",
      "toDouble, toFloat, toInt, toLong, toShort, \n",
      "unaryMinus, unaryPlus, ushr, xor, hashCode, \n",
      "*** Bool class ***\n",
      "Boolean\n",
      "and, compareTo, equals, not, or, \n",
      "xor, hashCode, "
     ]
    }
   ],
   "source": [
    "println(\"*** Integer class ***\")\n",
    "val intDir =(100).dir()             //정수클래스의 멤버조회 \n",
    "\n",
    "var count =1\n",
    "for (i in intDir) {                 //순환문으로 멤버 출력\n",
    "    if (count % 6 ==0) println()\n",
    "    else print(i+ \", \")\n",
    "    count++   \n",
    "}\n",
    "\n",
    "println()\n",
    "println(\"*** Bool class ***\")\n",
    "val boolDir =(true).dir()           //부울클래스의 멤보조회 \n",
    "\n",
    "var count1 =1\n",
    "for (i in boolDir) {                //순환문으로 멤버 출력 \n",
    "    if (count1 % 6 ==0) println()\n",
    "    else print(i+ \", \")\n",
    "    count1++   \n",
    "}"
   ]
  },
  {
   "cell_type": "code",
   "execution_count": null,
   "id": "0d68f03a",
   "metadata": {},
   "outputs": [],
   "source": []
  },
  {
   "cell_type": "code",
   "execution_count": null,
   "id": "910b19a5",
   "metadata": {},
   "outputs": [],
   "source": []
  },
  {
   "cell_type": "markdown",
   "id": "9b12626a",
   "metadata": {},
   "source": [
    "## 인스턴스 체크 "
   ]
  },
  {
   "cell_type": "code",
   "execution_count": 5,
   "id": "d88c0fb8",
   "metadata": {},
   "outputs": [
    {
     "name": "stdout",
     "output_type": "stream",
     "text": [
      "stdin:400 Int\n",
      "[400, Int]\n",
      " Int \n"
     ]
    }
   ],
   "source": [
    "val r = readLine()!!.split(\" \")        //표준입력(키보드)을 받아서 빈칸을 기준으로 분리\n",
    "println(r)\n",
    "\n",
    "val a = r[0]                           //리스트의 첫번째 원소\n",
    "val type = r[1]                        //리스트의 두번째 원소\n",
    "\n",
    "val x = when(type) {                   // 다른 숫자형으로 변환 \n",
    "    \"Int\" -> a.toInt()\n",
    "    \"Long\" -> a.toLong()\n",
    "    \"Float\" -> a.toFloat()\n",
    "    \"Double\" -> a.toDouble()\n",
    "    else -> println(\" not number \")\n",
    "}\n",
    "\n",
    "when(x) {                               // 무낮열로 출력처리 \n",
    "    is Int -> println(\" Int \")\n",
    "    is Long -> println(\" Long \")\n",
    "    is Float -> println(\" Float \")\n",
    "    is Double -> println(\" Double \")\n",
    "    else -> println(\" not number \")\n",
    "}\n"
   ]
  },
  {
   "cell_type": "markdown",
   "id": "856f0b57",
   "metadata": {},
   "source": [
    "## 인스턴스 체크 "
   ]
  },
  {
   "cell_type": "code",
   "execution_count": 6,
   "id": "07a167cc",
   "metadata": {},
   "outputs": [
    {
     "name": "stdout",
     "output_type": "stream",
     "text": [
      "class kotlin.Int\n",
      "true\n",
      "true\n",
      "true\n"
     ]
    }
   ],
   "source": [
    "import kotlin.reflect.KClass                        //리플렉션의 KClass 사용\n",
    "\n",
    "fun<T> Number.isIntanceOf(compared: T): Boolean {      // 정수 인스턴스 체크 확장 함수 \n",
    "    return when(compared) {\n",
    "        this.javaClass.kotlin, Number::class -> true\n",
    "        else  -> false\n",
    "    } \n",
    "}\n",
    "\n",
    "println(Int::class)\n",
    "println((100).isIntanceOf(Number::class))          // 정수 객체는 넘버클래스의 인스턴스\n",
    "println((100).isIntanceOf(Int::class))             // 정수 객체는 정수클래스의 인스턴스\n",
    "println((100)::class.isInstance(100))              // 클래스를 가지고 인자로 객체를 받아서 인스턴스여부확인"
   ]
  },
  {
   "cell_type": "code",
   "execution_count": null,
   "id": "ba9515eb",
   "metadata": {},
   "outputs": [],
   "source": []
  },
  {
   "cell_type": "markdown",
   "id": "f1e5a0ab",
   "metadata": {},
   "source": [
    "## 서브클래스 확인 함수 import "
   ]
  },
  {
   "cell_type": "code",
   "execution_count": 7,
   "id": "bfc23795",
   "metadata": {},
   "outputs": [
    {
     "name": "stdout",
     "output_type": "stream",
     "text": [
      "[kotlin.Number, kotlin.Comparable<kotlin.Int>, java.io.Serializable]\n",
      "[kotlin.Number, kotlin.Comparable<kotlin.Double>, java.io.Serializable]\n",
      "[kotlin.Any, java.io.Serializable]\n"
     ]
    }
   ],
   "source": [
    "import kotlin.reflect.KClass\n",
    "\n",
    "println(((100)::class).supertypes)     // 정수의 상위클래스 \n",
    "println(((100.1)::class).supertypes)   // 실수의 상위클래스\n",
    "println((Number::class).supertypes)    // 숫자의 상위클래스"
   ]
  },
  {
   "cell_type": "markdown",
   "id": "f3086e84",
   "metadata": {},
   "source": [
    "## 작은 수"
   ]
  },
  {
   "cell_type": "code",
   "execution_count": 8,
   "id": "ca565159",
   "metadata": {},
   "outputs": [
    {
     "name": "stdout",
     "output_type": "stream",
     "text": [
      "[kotlin.Number, kotlin.Comparable<kotlin.Byte>, java.io.Serializable]\n",
      "class kotlin.Byte\n",
      "true\n",
      "true\n",
      "class kotlin.Short\n",
      "true\n",
      "true\n"
     ]
    }
   ],
   "source": [
    "import kotlin.reflect.full.isSubclassOf\n",
    "\n",
    "val b = (100).toByte()                          //바이트 자료형으로 변환 \n",
    "println(b::class.supertypes)                    //상위크래스 가져오기 \n",
    "println(b::class)                               //현재 객체의 클래스 참조 \n",
    "println((b::class).isInstance(b))               //클래스의 인스턴스 관계 학인\n",
    "println((b::class).isSubclassOf(Number::class)) //상속관계 확인 \n",
    "\n",
    "val s = (100).toShort()                         //short 자료형변환 \n",
    "println(s::class)                               //클래스 확인 \n",
    "println(s.isIntanceOf(s::class))                //확장함수로 인스턴스여부확인 \n",
    "println((s::class).isSubclassOf(Number::class)) //서브클래스 확인"
   ]
  },
  {
   "cell_type": "code",
   "execution_count": null,
   "id": "972344b4",
   "metadata": {},
   "outputs": [],
   "source": []
  },
  {
   "cell_type": "code",
   "execution_count": null,
   "id": "55a54e26",
   "metadata": {},
   "outputs": [],
   "source": []
  },
  {
   "cell_type": "markdown",
   "id": "8ad7d092",
   "metadata": {},
   "source": [
    "## 실수"
   ]
  },
  {
   "cell_type": "code",
   "execution_count": 9,
   "id": "cc1759d2",
   "metadata": {},
   "outputs": [
    {
     "name": "stdout",
     "output_type": "stream",
     "text": [
      "class kotlin.Float\n",
      "true\n",
      "true\n",
      "class kotlin.Double\n",
      "true\n",
      "true\n"
     ]
    }
   ],
   "source": [
    "val f = (100).toFloat()                          //Float 자료형 변환 \n",
    "\n",
    "println(f::class)                                //클래스확인 \n",
    "println(f.isIntanceOf(f::class))                 //인스턴스 여부 확인 \n",
    "println((f::class).isSubclassOf(Number::class))  //서브클래스여부 확인\n",
    "\n",
    "val d = (100).toDouble()                         //Double 자료형 변환 \n",
    "\n",
    "println(d::class)                                //클래스 확인 \n",
    "println(d.isIntanceOf(d::class))                 //인스턴스 여부 확인 \n",
    "println((d::class).isSubclassOf(Number::class))  //서브클래스여부확인 "
   ]
  },
  {
   "cell_type": "code",
   "execution_count": null,
   "id": "bc149479",
   "metadata": {},
   "outputs": [],
   "source": []
  },
  {
   "cell_type": "markdown",
   "id": "0198001a",
   "metadata": {},
   "source": [
    "## NaN 값 처리"
   ]
  },
  {
   "cell_type": "code",
   "execution_count": 10,
   "id": "32b85736",
   "metadata": {},
   "outputs": [
    {
     "name": "stdout",
     "output_type": "stream",
     "text": [
      "NaN\n",
      "NaN\n",
      "false\n",
      "false\n",
      "false\n"
     ]
    }
   ],
   "source": [
    "println(Double.NaN + 100.0)                        //NaN 과의 연산은 항상 NaN\n",
    "println(Double.NaN + Double.POSITIVE_INFINITY)\n",
    "\n",
    "println(Double.NaN == Double.NaN)                   //NaN은 비교할 수 없다.\n",
    "println(Double.NaN < Double.POSITIVE_INFINITY)\n",
    "println(Double.NaN > Double.POSITIVE_INFINITY)"
   ]
  },
  {
   "cell_type": "code",
   "execution_count": null,
   "id": "1ebdeb98",
   "metadata": {},
   "outputs": [],
   "source": []
  },
  {
   "cell_type": "code",
   "execution_count": null,
   "id": "68d4102b",
   "metadata": {},
   "outputs": [],
   "source": []
  }
 ],
 "metadata": {
  "kernelspec": {
   "display_name": "Kotlin",
   "language": "kotlin",
   "name": "kotlin"
  },
  "language_info": {
   "codemirror_mode": "text/x-kotlin",
   "file_extension": ".kt",
   "mimetype": "text/x-kotlin",
   "name": "kotlin",
   "nbconvert_exporter": "",
   "pygments_lexer": "kotlin",
   "version": "1.8.20-Beta"
  }
 },
 "nbformat": 4,
 "nbformat_minor": 5
}
