{
 "cells": [
  {
   "cell_type": "code",
   "execution_count": null,
   "id": "45f95e6b",
   "metadata": {},
   "outputs": [],
   "source": []
  },
  {
   "cell_type": "code",
   "execution_count": 1,
   "id": "b7e606da",
   "metadata": {},
   "outputs": [
    {
     "data": {
      "text/plain": [
       "1.8.20"
      ]
     },
     "execution_count": 1,
     "metadata": {},
     "output_type": "execute_result"
    }
   ],
   "source": [
    "KotlinVersion.CURRENT             // 코틀린 현재 버전 "
   ]
  },
  {
   "cell_type": "code",
   "execution_count": null,
   "id": "ea0dd72c",
   "metadata": {},
   "outputs": [],
   "source": []
  },
  {
   "cell_type": "markdown",
   "id": "a49f7425",
   "metadata": {},
   "source": [
    "##  스프레이드 연산 처리"
   ]
  },
  {
   "cell_type": "code",
   "execution_count": 2,
   "id": "80a5b0ab",
   "metadata": {},
   "outputs": [
    {
     "name": "stdout",
     "output_type": "stream",
     "text": [
      "class kotlin.Array\n",
      "class kotlin.Array\n",
      "class kotlin.Array\n",
      "0\n",
      "10\n",
      "11\n",
      "11\n"
     ]
    }
   ],
   "source": [
    "fun toArray(lst: IntRange): Array<Int> =     // 함수는 기본으로 객체를 인자로 전달 \n",
    "    lst.toList().toTypedArray()              // 범위를 리스트로 변환한 후 배열로 변환             \n",
    "\n",
    "fun IntRange.toArray_(): Array<Int> =        //확장함수는 기본 객체 사용\n",
    "    this.toList().toTypedArray()             // 범위를 리스트로 변환후에 배열로 변환\n",
    "    \n",
    "val iR = (0..10)\n",
    "val rl = toArray(iR)                         //함수를 사용해서 범위를 배열로 \n",
    "\n",
    "val iR1 = (0..10)\n",
    "val rl1 = toArray(iR1)                       //함수를 사용해서 범위를 배열로 \n",
    "println(rl1.javaClass.kotlin)\n",
    "\n",
    "val r21 = iR.toArray_()                      //확장함수를 사용해서 범위를 배열로\n",
    "println(r21.javaClass.kotlin)\n",
    "\n",
    "val ls = arrayOf<Int>(*rl)                   // 배열을 스프레이드 연산으로 처리하기\n",
    "println(ls.javaClass.kotlin)\n",
    "if (ls.isEmpty()) {\n",
    "    println(\" 원소가 없습니다. \")\n",
    "}else {\n",
    "    println(ls.indexOf(0))                   // 배열의 원소를 알아보기 \n",
    "    println(ls.lastIndexOf(10))              // 인덱스를 주고 조회 \n",
    "    println(ls.count())                      // 리스트 원소 개수 \n",
    "    println(ls.size)\n",
    "}"
   ]
  },
  {
   "cell_type": "code",
   "execution_count": null,
   "id": "7a2cbcbd",
   "metadata": {},
   "outputs": [],
   "source": []
  },
  {
   "cell_type": "markdown",
   "id": "49eff019",
   "metadata": {},
   "source": [
    "## 문자열을 받아서 범위로 처리"
   ]
  },
  {
   "cell_type": "code",
   "execution_count": 3,
   "id": "7bd0b78e",
   "metadata": {},
   "outputs": [
    {
     "name": "stdout",
     "output_type": "stream",
     "text": [
      "class kotlin.ranges.IntRange\n",
      "101\n",
      "[101, 102, 103, 104, 105]\n"
     ]
    }
   ],
   "source": [
    "fun toRangeI(str: String): IntRange =              // 문자열을 받아서 범위로 변경 \n",
    "    str.split(\";\")                                 // 문자열 분리하면 두 개의 원소를 가진 리스트\n",
    "    .let { (a, b) -> a.toInt()..b.toInt() }        // 언패킹 처리해서 범주로 변환 \n",
    "    \n",
    "val i = toRangeI(\"100;200\")\n",
    "println(i.javaClass.kotlin)\n",
    "\n",
    "val lst = toArray(i)                                    // 배열로 변환 \n",
    "println(lst.count())                                    // 원소 개수 \n",
    "println(lst.slice(1..5).toIntArray().contentToString()) // 일부를 슬라이스 처리 : 리스트로변환\n",
    "                                                        // 다시 배열로 변환한 후 출력"
   ]
  },
  {
   "cell_type": "code",
   "execution_count": null,
   "id": "9e4659e9",
   "metadata": {},
   "outputs": [],
   "source": []
  },
  {
   "cell_type": "markdown",
   "id": "41312d5f",
   "metadata": {},
   "source": [
    "## 반복자 처리 "
   ]
  },
  {
   "cell_type": "code",
   "execution_count": 4,
   "id": "0197b4ff",
   "metadata": {},
   "outputs": [
    {
     "name": "stdout",
     "output_type": "stream",
     "text": [
      "1, 2, 3, \n",
      "1, 2, 3, 4, 5, \n",
      "X 는 범위 내에 있음\n",
      "X 는 범위 내에 있음\n"
     ]
    }
   ],
   "source": [
    "val list = listOf<Int>(1, 2, 3)                    // 리스트 자료구조 생성\n",
    "val iterator = list.iterator()                     // 반복자  생성\n",
    "\n",
    "while(iterator.hasNext()) {                        // while문으로 반복자 처리\n",
    "    print(iterator.next().toString() + \", \")\n",
    "}\n",
    "println()\n",
    "val range = 1..5                                    // 범위 생성 \n",
    "val riter = range.iterator()                        // 반복자 생성\n",
    "\n",
    "while(riter.hasNext()) {                            // while문으로 반복자 처리\n",
    "    print(riter.next().toString() +\", \")\n",
    "}\n",
    "println()\n",
    "\n",
    "fun IntRange.rangechek(x:Int) {                     // 범위 체크 확장함수\n",
    "    when (x){\n",
    "        in this -> println(\"X 는 범위 내에 있음\")       // 범위도 확정되어 else 필요없음 \n",
    "    }\n",
    "}\n",
    "\n",
    "val x = 4\n",
    "(1..10).rangechek(x)\n",
    "\n",
    "fun ClosedRange<String>.rangechek(x:String) {        //문자열 범위 체크 \n",
    "    if (this.contains(x)) println(\"X 는 범위 내에 있음\") // 포함 메소드로 체크 \n",
    "}\n",
    "\n",
    "val xy= \"maj\"\n",
    "(\"maa\"..\"mas\").rangechek(xy)"
   ]
  },
  {
   "cell_type": "code",
   "execution_count": null,
   "id": "a3f4aed5",
   "metadata": {},
   "outputs": [],
   "source": []
  },
  {
   "cell_type": "markdown",
   "id": "5ab50a9b",
   "metadata": {},
   "source": [
    "## 문자열 범위 출력"
   ]
  },
  {
   "cell_type": "code",
   "execution_count": 5,
   "id": "6f67c099",
   "metadata": {},
   "outputs": [
    {
     "name": "stdout",
     "output_type": "stream",
     "text": [
      "gall\n",
      "galm\n",
      "galn\n",
      "galo\n",
      "galp\n",
      "가\n",
      "각\n"
     ]
    }
   ],
   "source": [
    "class StringRange(val start:String,                 // 문자열 범위 클래스 정의 \n",
    "                  val endInclusive : String) :      //  범위 정보 속성 정의 \n",
    "                            Iterator<String> {      // 반복자 상속\n",
    "    var next = StringBuilder(start)                 // 다음 값 정보 처리 : 변경가능문자열 처리 \n",
    "    val last = endInclusive                         // 최종값 저장 \n",
    "    override fun hasNext() =                        // 반복자 메소드 오버라이딩 : 원소가 있는지 확인 \n",
    "             (last >= next.toString() && \n",
    "                     last.length >= next.length)\n",
    "             \n",
    "    override fun next() : String {                  // 다음 문자열을 가져오기 \n",
    "        var result = next.toString()\n",
    "        val lastCharacter = next.last()             // 문자열 마지막 문자 가져오기 \n",
    "        next.setCharAt(next.length -1,              // 문자열내의 문자를 갱신 \n",
    "                           lastCharacter + 1)\n",
    "        return result                               // 반환 \n",
    "    } \n",
    "}\n",
    "                                    \n",
    "val a = StringRange(\"gall\", \"galp\").iterator()      // 문자열 범위를 정해서 반복자 처리\n",
    "for (i in a) println(i)                             // 순환문으로 반복처리 \n",
    "\n",
    "val b = StringRange(\"가\", \"각\").iterator()           // 한글 문자열 처리가 가능한지 확인\n",
    "for (i in b) println(i)"
   ]
  },
  {
   "cell_type": "code",
   "execution_count": null,
   "id": "204d298f",
   "metadata": {},
   "outputs": [],
   "source": []
  }
 ],
 "metadata": {
  "kernelspec": {
   "display_name": "Kotlin",
   "language": "kotlin",
   "name": "kotlin"
  },
  "language_info": {
   "codemirror_mode": "text/x-kotlin",
   "file_extension": ".kt",
   "mimetype": "text/x-kotlin",
   "name": "kotlin",
   "nbconvert_exporter": "",
   "pygments_lexer": "kotlin",
   "version": "1.8.20-Beta"
  }
 },
 "nbformat": 4,
 "nbformat_minor": 5
}
