{
 "cells": [
  {
   "cell_type": "code",
   "execution_count": null,
   "id": "1d090d04",
   "metadata": {},
   "outputs": [],
   "source": []
  },
  {
   "cell_type": "code",
   "execution_count": 1,
   "id": "5530f98d",
   "metadata": {},
   "outputs": [
    {
     "data": {
      "text/plain": [
       "1.8.20"
      ]
     },
     "execution_count": 1,
     "metadata": {},
     "output_type": "execute_result"
    }
   ],
   "source": [
    "KotlinVersion.CURRENT             // 코틀린 현재 버전 "
   ]
  },
  {
   "cell_type": "code",
   "execution_count": null,
   "id": "c6422876",
   "metadata": {},
   "outputs": [],
   "source": []
  },
  {
   "cell_type": "markdown",
   "id": "102109eb",
   "metadata": {},
   "source": [
    "## 전동물건 처리"
   ]
  },
  {
   "cell_type": "code",
   "execution_count": 2,
   "id": "3c4c3591",
   "metadata": {},
   "outputs": [
    {
     "name": "stdout",
     "output_type": "stream",
     "text": [
      "포르쉐 330 차로 어디까지 : Seoul\n",
      "자동차 클래스\n",
      "보잉  787 비행기로 어디까지 Seoul\n",
      "비행기 클래스\n"
     ]
    }
   ],
   "source": [
    "interface Vehicle {                                  // 인터페이스를 정의한다\n",
    "    fun go(): String                                 // 추상 메소드 정의 \n",
    "    fun display() = \"움직이는 물건 인터페이스\"             // 일반 메소드 정의 \n",
    "}\n",
    "\n",
    "class CarImpl(val where: String): Vehicle {          // 인터페이스 구현 클래스 \n",
    "    override fun go() = \"차로 어디까지 : $where\"\n",
    "    override fun display() = \"자동차 클래스\"\n",
    "}\n",
    "\n",
    "class AirplaneImpl(val where: String): Vehicle {     // 인터페이스 구현 클래스 \n",
    "    override fun go() = \"비행기로 어디까지 $where\"\n",
    "    override fun display() = \"비행기 클래스\"\n",
    "}\n",
    "\n",
    "class CarOrAirplane(val model: String,               // 위임을 작성한 클래스 \n",
    "                    val impl: Vehicle): \n",
    "                               Vehicle by impl {     // 최상의 인터페이스에 위임처리\n",
    "    fun tellTrip() {                                 // 위임을 호출할 메소드 작성\n",
    "        println(\"$model ${this.go()}\")   \n",
    "    }\n",
    "}\n",
    "\n",
    "val m330 = CarOrAirplane(\"포르쉐 330\",                 // 자동차  객체 생성 \n",
    "                         CarImpl(\"Seoul\"))\n",
    "val m787 = CarOrAirplane(\"보잉  787\",                  // 비행기 객체 생성 \n",
    "                         AirplaneImpl(\"Seoul\"))\n",
    "    \n",
    "m330.tellTrip()                                       // 객체의 메소드를 호출해서 위임 메소드 처리\n",
    "println(m330.display())                               // 일반메소드 호출 \n",
    "m787.tellTrip()             \n",
    "println(m787.display())"
   ]
  },
  {
   "cell_type": "code",
   "execution_count": null,
   "id": "2d5f358e",
   "metadata": {},
   "outputs": [],
   "source": []
  },
  {
   "cell_type": "markdown",
   "id": "7a7378b3",
   "metadata": {},
   "source": [
    "## 위임 클래스에 데이터 저장 및 확인"
   ]
  },
  {
   "cell_type": "code",
   "execution_count": 3,
   "id": "8fcc2ad4",
   "metadata": {},
   "outputs": [
    {
     "name": "stdout",
     "output_type": "stream",
     "text": [
      "5\n",
      "[A, B, C, D, E]\n"
     ]
    }
   ],
   "source": [
    "class CounterSetS<T>(                                             // 집합을 위임처리로 사용하는 클래스 \n",
    "   private val innerSet: MutableSet<T> = mutableSetOf()\n",
    "                                 ) : MutableSet<T> by innerSet {  // 집합을 위임 처리\n",
    "\n",
    "   var elementsAdded: Int = 0                                     // 추가된 원소를 관리\n",
    "       private set                                                // 속성은 내부 메소드에서만 갱신 \n",
    "\n",
    "   override fun add(element: T): Boolean {                        // 원소 추가 \n",
    "       elementsAdded++                                            // 속성값 변경 \n",
    "       return innerSet.add(element)                               // 위임 메소드 호출 \n",
    "   }\n",
    "\n",
    "   override fun addAll(elements: Collection<T>): Boolean {        // 여러 원소를 추가 \n",
    "       elementsAdded += elements.size                             // 속성 갱신 \n",
    "       return innerSet.addAll(elements)                           // 위임 메소드 호출 \n",
    "   }\n",
    "   \n",
    "   fun display() = innerSet                                       // 데이터 저장이 위임된 상태 확인\n",
    "}\n",
    "\n",
    "val counterList = CounterSetS<String>()                           // 객체를 생성 \n",
    "counterList.addAll(listOf(\"A\", \"B\", \"C\",\"D\",\"E\"))\n",
    "println(counterList.elementsAdded)                                // 원소의 객체를 확인\n",
    "println(counterList.display())                                    // 위임 클래스의 상태 확인 "
   ]
  },
  {
   "cell_type": "code",
   "execution_count": null,
   "id": "20df94bd",
   "metadata": {},
   "outputs": [],
   "source": []
  },
  {
   "cell_type": "markdown",
   "id": "dc3b1381",
   "metadata": {},
   "source": [
    "## 계약과 잔액 관리를 분리"
   ]
  },
  {
   "cell_type": "markdown",
   "id": "b159ec5d",
   "metadata": {},
   "source": [
    "### 계좌와 잔액을 통합관리"
   ]
  },
  {
   "cell_type": "code",
   "execution_count": 4,
   "id": "b4aa0b2f",
   "metadata": {},
   "outputs": [
    {
     "name": "stdout",
     "output_type": "stream",
     "text": [
      "1000\n",
      "0\n"
     ]
    }
   ],
   "source": [
    "class Account(val accno:Int,              // 하나의 계좌에서 계좌번호와 잔액관리 \n",
    "              var balance : Int) {\n",
    "    fun deposite(amount:Int) {            // 입금 메소드 \n",
    "        balance = balance +amount\n",
    "    }\n",
    "    fun withdraw(amount:Int) {            // 출금 메소드 \n",
    "        balance = balance - amount\n",
    "    }\n",
    "}\n",
    "\n",
    "val acc = Account(1,0)                    // 계좌 생성 \n",
    "acc.deposite(1000)                        // 입금\n",
    "println(acc.balance)\n",
    "acc.withdraw(1000)                        // 출금\n",
    "println(acc.balance)"
   ]
  },
  {
   "cell_type": "code",
   "execution_count": null,
   "id": "c5ccbd06",
   "metadata": {},
   "outputs": [],
   "source": []
  },
  {
   "cell_type": "markdown",
   "id": "9338efb1",
   "metadata": {},
   "source": [
    "### 위임을 통한 계좌와 잔액 분리"
   ]
  },
  {
   "cell_type": "code",
   "execution_count": 5,
   "id": "1bee3d65",
   "metadata": {},
   "outputs": [
    {
     "name": "stdout",
     "output_type": "stream",
     "text": [
      "계좌번호 :1\n",
      "계좌번호 : 1 잔액 : 1000\n",
      "계좌번호 : 1 잔액 : 500\n"
     ]
    }
   ],
   "source": [
    "class Balance(val accno : Int,                          // 잔애관리 클래스 \n",
    "              var balance : Int)\n",
    "\n",
    "interface Accoutable {                                  // 입출금 처리 인터페이스 \n",
    "    fun deposite(acc: Balance, amount:Int) \n",
    "    fun withdraw(acc: Balance, amount:Int) \n",
    "}\n",
    "\n",
    "class DWManager : Accoutable {                          // 입출금을 구현한 클래스 \n",
    "    override fun deposite(acc: Balance,                 // 입금 메소드 구현\n",
    "                          amount:Int) { \n",
    "            acc.balance = acc.balance +amount\n",
    "    }\n",
    "    override fun withdraw(acc: Balance,                 // 출금 메소드 구현 \n",
    "                          amount:Int) { \n",
    "        acc.balance = acc.balance - amount\n",
    "    }\n",
    "}\n",
    "\n",
    "class Agreement(val accno : Int,                        // 계좌관리 클래스 \n",
    "                val dwmanager : Accoutable) :           // 입출금관리 클래스\n",
    "                         Accoutable by dwmanager \n",
    "                             \n",
    "                         \n",
    "val dwm = DWManager()                                   // 입출금관리 객체\n",
    "val b = Balance(1,0)                                    // 잔액관리 객체\n",
    "val a = Agreement(1,dwm)                                // 계약관리 객체 \n",
    "\n",
    "a.deposite(b, 1000)                                     // 입금 실행 \n",
    "println(\"계좌번호 :\" + a.accno)\n",
    "println(\"계좌번호 : ${b.accno} 잔액 : ${b.balance}\")       // 잔액 확인 \n",
    "a.withdraw(b, 500) \n",
    "println(\"계좌번호 : ${b.accno} 잔액 : ${b.balance}\")       // 잔액 확인 "
   ]
  },
  {
   "cell_type": "code",
   "execution_count": null,
   "id": "c79251df",
   "metadata": {},
   "outputs": [],
   "source": []
  },
  {
   "cell_type": "markdown",
   "id": "21d979f6",
   "metadata": {},
   "source": [
    "## Mixin 패턴 처리"
   ]
  },
  {
   "cell_type": "code",
   "execution_count": 6,
   "id": "133b269f",
   "metadata": {},
   "outputs": [],
   "source": [
    "class Balance (val accno: Int, var balande : Int) {        // 잔액을 관리하는 클래스\n",
    "    override fun toString() =                              // 잔액을 출력 \n",
    "             \"Balance(accno=$accno, balance=$balande )\"\n",
    "}\n",
    "\n",
    "interface Deposiable {                                     // 입금처리 인터페이스\n",
    "    fun deposite(balance : Balance, \n",
    "                 amount : Int)\n",
    "}\n",
    "\n",
    "class Deposite  : Deposiable {                             // 입금 인터페이스를 구현한 클래스\n",
    "    override fun deposite(balance : Balance, \n",
    "                          amount : Int) {\n",
    "        balance.balande += amount\n",
    "    }\n",
    "}\n",
    "\n",
    "interface Withdrawable {                                   // 출금처리 인터페이스  \n",
    "    fun withdraw(balance : Balance, \n",
    "                amount : Int)\n",
    "}\n",
    "\n",
    "class Withdraw  : Withdrawable {                           // 출금 인터페이스를 구현한 클래스 \n",
    "    override fun withdraw(balance : Balance, \n",
    "                          amount : Int) {\n",
    "        balance.balande -= amount\n",
    "    }\n",
    "}"
   ]
  },
  {
   "cell_type": "code",
   "execution_count": null,
   "id": "e8e2c370",
   "metadata": {},
   "outputs": [],
   "source": []
  },
  {
   "cell_type": "code",
   "execution_count": 7,
   "id": "7a542dec",
   "metadata": {},
   "outputs": [
    {
     "name": "stdout",
     "output_type": "stream",
     "text": [
      "Balance(accno=1, balance=10000 )\n",
      "Balance(accno=1, balance=1000 )\n"
     ]
    }
   ],
   "source": [
    "class Agreements(val accno : Int,                          // 위임처리 클래스 정의 \n",
    "                 val with : Withdrawable,                  // 출금처리\n",
    "                 val depo : Deposiable) :                  // 입금처리\n",
    "                      Withdrawable by with,                // 출금입금 위임처리\n",
    "                      Deposiable  by depo {\n",
    "    \n",
    "}\n",
    "\n",
    "val ag = Agreements(1,Withdraw(), Deposite())              // 계약관리 객체 생성\n",
    "val bal = Balance(1,0)                                     // 잔액관리 객체 생성 \n",
    "\n",
    "ag.deposite(bal,10000)                                     // 입금처리\n",
    "println(bal)\n",
    "ag.withdraw(bal,9000)                                      // 출금처리\n",
    "println(bal)"
   ]
  },
  {
   "cell_type": "code",
   "execution_count": null,
   "id": "bdd6494f",
   "metadata": {},
   "outputs": [],
   "source": []
  }
 ],
 "metadata": {
  "kernelspec": {
   "display_name": "Kotlin",
   "language": "kotlin",
   "name": "kotlin"
  },
  "language_info": {
   "codemirror_mode": "text/x-kotlin",
   "file_extension": ".kt",
   "mimetype": "text/x-kotlin",
   "name": "kotlin",
   "nbconvert_exporter": "",
   "pygments_lexer": "kotlin",
   "version": "1.8.20-Beta"
  }
 },
 "nbformat": 4,
 "nbformat_minor": 5
}
