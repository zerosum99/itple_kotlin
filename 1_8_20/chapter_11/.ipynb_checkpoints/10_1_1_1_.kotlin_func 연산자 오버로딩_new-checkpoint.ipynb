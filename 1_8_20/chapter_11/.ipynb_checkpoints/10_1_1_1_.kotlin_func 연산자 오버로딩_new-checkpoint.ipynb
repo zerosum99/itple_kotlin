{
 "cells": [
  {
   "cell_type": "markdown",
   "id": "c2adcd86",
   "metadata": {},
   "source": [
    "## 연산자 오버로딩 하기\n",
    "\n",
    "- 메소드에 operator 예약어를 사용해서 정의한다\n",
    "- + : plus, -: minus % : mod /: div * : times"
   ]
  },
  {
   "cell_type": "code",
   "execution_count": 1,
   "id": "8d55443f",
   "metadata": {},
   "outputs": [],
   "source": [
    "class Amount(var total : Int, var balance : Int) {\n",
    "    operator fun plus(other : Amount) = Amount(this.total + other.total, this.balance + other.balance)\n",
    "    \n",
    "    override fun toString() = \"Amount($total, $balance)\"\n",
    "}"
   ]
  },
  {
   "cell_type": "code",
   "execution_count": 2,
   "id": "bf6031a2",
   "metadata": {},
   "outputs": [
    {
     "name": "stdout",
     "output_type": "stream",
     "text": [
      "Amount(500, 200)\n"
     ]
    }
   ],
   "source": [
    "val amt = Amount(200, 100)\n",
    "val amt2 = Amount(300, 100)\n",
    "val amt3 = amt + amt2\n",
    "\n",
    "println(amt3)"
   ]
  },
  {
   "cell_type": "code",
   "execution_count": null,
   "id": "18f712ca",
   "metadata": {},
   "outputs": [],
   "source": []
  },
  {
   "cell_type": "markdown",
   "id": "081d96a9",
   "metadata": {},
   "source": [
    "## 확장함수로 연산자 오버로딩하기\n",
    "- operator 예약어 사용\n",
    "- 클래스 이름을 연산자 이름보다 먼저 정의"
   ]
  },
  {
   "cell_type": "code",
   "execution_count": 3,
   "id": "fdf3ca7c",
   "metadata": {},
   "outputs": [],
   "source": [
    "operator fun Amount.times(other : Amount) : Amount {\n",
    "    return Amount(total * other.total , balance * other.balance)\n",
    "}"
   ]
  },
  {
   "cell_type": "code",
   "execution_count": 4,
   "id": "5896117c",
   "metadata": {},
   "outputs": [
    {
     "name": "stdout",
     "output_type": "stream",
     "text": [
      "Amount(60000, 10000)\n"
     ]
    }
   ],
   "source": [
    "val amt4 = amt * amt2\n",
    "\n",
    "println(amt4)"
   ]
  },
  {
   "cell_type": "markdown",
   "id": "998ffad8",
   "metadata": {},
   "source": [
    "## 연산자를 메소드 오버로딩을 사용해서 추가정의"
   ]
  },
  {
   "cell_type": "code",
   "execution_count": 5,
   "id": "32faf505",
   "metadata": {},
   "outputs": [],
   "source": [
    "operator fun Amount.times(scale : Int) : Amount {\n",
    "    return Amount(total * scale , balance * scale)\n",
    "}"
   ]
  },
  {
   "cell_type": "code",
   "execution_count": 6,
   "id": "72307d3a",
   "metadata": {},
   "outputs": [
    {
     "name": "stdout",
     "output_type": "stream",
     "text": [
      "Amount(400, 200)\n"
     ]
    }
   ],
   "source": [
    "val amt5 = amt * 2\n",
    "println(amt5)"
   ]
  },
  {
   "cell_type": "code",
   "execution_count": null,
   "id": "e5833027",
   "metadata": {},
   "outputs": [],
   "source": []
  },
  {
   "cell_type": "markdown",
   "id": "eb5852f8",
   "metadata": {},
   "source": [
    "## 클래스 내부에 연산자 오버로딩하기"
   ]
  },
  {
   "cell_type": "code",
   "execution_count": 7,
   "id": "99cc9681",
   "metadata": {},
   "outputs": [],
   "source": [
    "data class Score(var total : Int, var balance : Int) {\n",
    "    operator fun plus(other : Score) : Score {\n",
    "        return Score(total + other.total, balance + other.balance)\n",
    "    }\n",
    "    \n",
    "    operator fun times(x : Int) : Score {\n",
    "        return Score(total * x, balance * x)\n",
    "    }\n",
    "    \n",
    "    operator fun times(other : Score) : Score {\n",
    "        return Score(total * other.total, balance * other.balance)\n",
    "    }\n",
    "}"
   ]
  },
  {
   "cell_type": "code",
   "execution_count": 8,
   "id": "75109d79",
   "metadata": {},
   "outputs": [
    {
     "name": "stdout",
     "output_type": "stream",
     "text": [
      "Score(total=60, balance=30)\n",
      "Score(total=600, balance=150)\n"
     ]
    }
   ],
   "source": [
    "val s1 = Score(20,10)\n",
    "val s2 = Score(30,15)\n",
    "\n",
    "println(s1 * 3)\n",
    "println(s1 * s2)"
   ]
  },
  {
   "cell_type": "code",
   "execution_count": null,
   "id": "7694fa15",
   "metadata": {},
   "outputs": [],
   "source": []
  },
  {
   "cell_type": "markdown",
   "id": "a90def70",
   "metadata": {},
   "source": [
    "## 연산자 교환법칙이 수용되지 않는다. \n",
    "\n",
    "- 연산자는 기본은 좌측 객체의 연산자 메소드를 기준으로 처리\n",
    "- 확장함수를 사용해서 연산자를 추가하면 교환법칙과 같은 결과를 만들 수 있다."
   ]
  },
  {
   "cell_type": "code",
   "execution_count": 9,
   "id": "650b8e68",
   "metadata": {},
   "outputs": [
    {
     "name": "stdout",
     "output_type": "stream",
     "text": [
      "Score(total=60, balance=30)\n"
     ]
    }
   ],
   "source": [
    "operator fun Int.times(obj : Score) : Score {\n",
    "    return Score(obj.total * this, obj.balance * this)\n",
    "}\n",
    "\n",
    "println(3 * s1)"
   ]
  },
  {
   "cell_type": "markdown",
   "id": "ee595b05",
   "metadata": {},
   "source": [
    "## 비교연산자 처리하기\n",
    "\n",
    "- Comparable 인터페이스 내의 compareTo 를 오버라이딩한다.\n",
    "- 이 연산은 처리된 결과를 정수로 처리한다. "
   ]
  },
  {
   "cell_type": "code",
   "execution_count": 10,
   "id": "f7240ea7",
   "metadata": {},
   "outputs": [],
   "source": [
    "class Person(val name : String, val age : Int) : Comparable<Person> {\n",
    "    override fun compareTo(other : Person) : Int {\n",
    "        return compareValuesBy(this, other,Person::age)\n",
    "    }\n",
    "}"
   ]
  },
  {
   "cell_type": "code",
   "execution_count": 11,
   "id": "b9497812",
   "metadata": {},
   "outputs": [
    {
     "name": "stdout",
     "output_type": "stream",
     "text": [
      "false\n",
      "true\n"
     ]
    }
   ],
   "source": [
    "val per1 = Person(\"dahl\",33)\n",
    "val per2 = Person(\"moon\", 54)\n",
    "\n",
    "println(per1 > per2)\n",
    "println(per1 < per2)"
   ]
  },
  {
   "cell_type": "code",
   "execution_count": null,
   "id": "fd03be42",
   "metadata": {},
   "outputs": [],
   "source": []
  },
  {
   "cell_type": "code",
   "execution_count": 12,
   "id": "7772193e",
   "metadata": {},
   "outputs": [
    {
     "name": "stdout",
     "output_type": "stream",
     "text": [
      "가을이 님은 2000원이 인상되었습니다.\n",
      "가을이 님은 1000원이 인하되었습니다\n"
     ]
    }
   ],
   "source": [
    "class Employee(val name :String, var salary:Int) {\n",
    "    operator fun plusAssign(increaseSalary: Int) {\n",
    "        salary += increaseSalary\n",
    "        println(\"$name 님은 ${salary}원이 인상되었습니다.\")\n",
    "    }\n",
    "\n",
    "    operator fun minusAssign(decreaseSalary: Int) {\n",
    "        salary -= decreaseSalary\n",
    "        println(\"$name 님은 ${salary}원이 인하되었습니다\")\n",
    "    }\n",
    "}\n",
    "\n",
    "val e = Employee(\"가을이\", 1000)\n",
    "\n",
    "e += 1000\n",
    "e -= 1000"
   ]
  },
  {
   "cell_type": "code",
   "execution_count": null,
   "id": "2009dd03",
   "metadata": {},
   "outputs": [],
   "source": []
  }
 ],
 "metadata": {
  "kernelspec": {
   "display_name": "Kotlin",
   "language": "kotlin",
   "name": "kotlin"
  },
  "language_info": {
   "codemirror_mode": "text/x-kotlin",
   "file_extension": ".kt",
   "mimetype": "text/x-kotlin",
   "name": "kotlin",
   "nbconvert_exporter": "",
   "pygments_lexer": "kotlin",
   "version": "1.6.0-dev-3567"
  }
 },
 "nbformat": 4,
 "nbformat_minor": 5
}
