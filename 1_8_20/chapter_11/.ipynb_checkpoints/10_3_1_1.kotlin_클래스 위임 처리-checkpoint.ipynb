{
 "cells": [
  {
   "cell_type": "markdown",
   "id": "4e20b74d",
   "metadata": {},
   "source": [
    "## 인터페이스를 상속 처리"
   ]
  },
  {
   "cell_type": "code",
   "execution_count": 1,
   "id": "e36149b9",
   "metadata": {},
   "outputs": [],
   "source": [
    "interface Base {\n",
    "    fun printX()\n",
    "}"
   ]
  },
  {
   "cell_type": "code",
   "execution_count": 2,
   "id": "445ce83f",
   "metadata": {},
   "outputs": [],
   "source": [
    "class BaseImpl(val x: Int) : Base {\n",
    "    override fun printX() { print(x) }\n",
    "}"
   ]
  },
  {
   "cell_type": "markdown",
   "id": "ff2abf4c",
   "metadata": {},
   "source": [
    "## 클래스 위임(Class Delegation)이란 무엇인가\n",
    "\n",
    "- 레퍼런스는 클래스 위임을 다음과 같이 설명하고 있습니다.\n",
    "- 상속을 표현하는 슈퍼타입 리스트 내의 by 절은 b(에 대한 참조)가 상속 오브젝트의 내부에 저장되고 \n",
    "- 컴파일러가 b가 가지는 Base 인터페이스의 모든 메소드를 생성함을 나타냅니다.\n"
   ]
  },
  {
   "cell_type": "code",
   "execution_count": 3,
   "id": "401331a2",
   "metadata": {},
   "outputs": [],
   "source": [
    "interface A { }"
   ]
  },
  {
   "cell_type": "code",
   "execution_count": 4,
   "id": "25059dfc",
   "metadata": {},
   "outputs": [],
   "source": [
    "class B : A { }"
   ]
  },
  {
   "cell_type": "code",
   "execution_count": 5,
   "id": "66c23587",
   "metadata": {},
   "outputs": [],
   "source": [
    "class D : A by B()"
   ]
  },
  {
   "cell_type": "code",
   "execution_count": null,
   "id": "00351220",
   "metadata": {},
   "outputs": [],
   "source": []
  },
  {
   "cell_type": "code",
   "execution_count": null,
   "id": "81d8ceca",
   "metadata": {},
   "outputs": [],
   "source": []
  },
  {
   "cell_type": "markdown",
   "id": "5c8d34ca",
   "metadata": {},
   "source": [
    "## 위임 구조\n",
    "- 만약 interface A를 구현하고 있는 class B가 있다면, A에서 정의하고 있는 B의 모든 메소드를 클래스 C로 위임할 수 있습니다. \n",
    "- 즉, C는 B가 가지는 모든 A의 메소드를 가지며, 이를 클래스 위임(Class delegation)이라고 합니다."
   ]
  },
  {
   "cell_type": "code",
   "execution_count": 6,
   "id": "27f72f89",
   "metadata": {},
   "outputs": [],
   "source": [
    "val b = B()\n",
    "// C를 생성하고, A에서 정의하는 B의 모든 메서드를 C에 위임합니다.\n",
    "class C : A by b"
   ]
  },
  {
   "cell_type": "code",
   "execution_count": null,
   "id": "7f396eb1",
   "metadata": {},
   "outputs": [],
   "source": []
  },
  {
   "cell_type": "code",
   "execution_count": 7,
   "id": "ab091fa9",
   "metadata": {},
   "outputs": [],
   "source": [
    "class BaseDel(x : Int) : Base by BaseImpl(x) {\n",
    "    \n",
    "}"
   ]
  },
  {
   "cell_type": "code",
   "execution_count": 8,
   "id": "6598c4f9",
   "metadata": {},
   "outputs": [],
   "source": [
    "val c = BaseDel(100)"
   ]
  },
  {
   "cell_type": "code",
   "execution_count": 9,
   "id": "5c4730d5",
   "metadata": {},
   "outputs": [
    {
     "name": "stdout",
     "output_type": "stream",
     "text": [
      "100"
     ]
    }
   ],
   "source": [
    "c.printX()"
   ]
  },
  {
   "cell_type": "code",
   "execution_count": null,
   "id": "161ca876",
   "metadata": {},
   "outputs": [],
   "source": []
  },
  {
   "cell_type": "markdown",
   "id": "3d664790",
   "metadata": {},
   "source": [
    "## 위임구조일 때는 open 키워드 없어도 되지만 상속할 때는 open은 필수 "
   ]
  },
  {
   "cell_type": "code",
   "execution_count": 10,
   "id": "c1d7cc7a",
   "metadata": {},
   "outputs": [
    {
     "name": "stderr",
     "output_type": "stream",
     "text": [
      "Line_9.jupyter-kts (1:11 - 12) This type is final, so it cannot be inherited from"
     ]
    }
   ],
   "source": [
    "class E : B()"
   ]
  },
  {
   "cell_type": "code",
   "execution_count": 11,
   "id": "b144d9fa",
   "metadata": {},
   "outputs": [
    {
     "name": "stderr",
     "output_type": "stream",
     "text": [
      "Line_10.jupyter-kts (1:13 - 14) Expression 'E' of type 'Double' cannot be invoked as a function. The function 'invoke()' is not found"
     ]
    }
   ],
   "source": [
    "val x : A = E()"
   ]
  },
  {
   "cell_type": "code",
   "execution_count": null,
   "id": "93b4bfa7",
   "metadata": {},
   "outputs": [],
   "source": []
  },
  {
   "cell_type": "code",
   "execution_count": null,
   "id": "bd9e28e8",
   "metadata": {},
   "outputs": [],
   "source": []
  },
  {
   "cell_type": "code",
   "execution_count": 12,
   "id": "bb933c1e",
   "metadata": {},
   "outputs": [],
   "source": [
    "interface Base {\n",
    "    fun printX()\n",
    "}\n",
    "\n",
    "class BaseImpl(val x: Int) : Base {\n",
    "    override fun printX() { print(x) }\n",
    "}\n",
    "val baseImpl = BaseImpl(10)\n",
    "class Derived(baseImpl: Base) : Base by baseImpl"
   ]
  },
  {
   "cell_type": "code",
   "execution_count": 13,
   "id": "4bbaab74",
   "metadata": {},
   "outputs": [],
   "source": [
    "val d = Derived(baseImpl)"
   ]
  },
  {
   "cell_type": "code",
   "execution_count": 14,
   "id": "929cfa8c",
   "metadata": {},
   "outputs": [
    {
     "name": "stdout",
     "output_type": "stream",
     "text": [
      "10"
     ]
    }
   ],
   "source": [
    "d.printX()"
   ]
  },
  {
   "cell_type": "code",
   "execution_count": 15,
   "id": "5f2bf2fb",
   "metadata": {},
   "outputs": [
    {
     "name": "stderr",
     "output_type": "stream",
     "text": [
      "Line_14.jupyter-kts (1:20 - 37) Type mismatch: inferred type is Line_11.Derived but Line_11.BaseImpl was expected"
     ]
    }
   ],
   "source": [
    "val d1: BaseImpl = Derived(baseImpl)"
   ]
  },
  {
   "cell_type": "code",
   "execution_count": 16,
   "id": "2f78d875",
   "metadata": {},
   "outputs": [],
   "source": [
    "val d2:  Derived = Derived(baseImpl)"
   ]
  },
  {
   "cell_type": "code",
   "execution_count": 17,
   "id": "b59f6a64",
   "metadata": {},
   "outputs": [
    {
     "name": "stdout",
     "output_type": "stream",
     "text": [
      "10"
     ]
    }
   ],
   "source": [
    "d2.printX()"
   ]
  },
  {
   "cell_type": "code",
   "execution_count": null,
   "id": "ee9bf267",
   "metadata": {},
   "outputs": [],
   "source": []
  },
  {
   "cell_type": "markdown",
   "id": "6294c3b0",
   "metadata": {},
   "source": [
    "## 위임구조의 장점 \n",
    "\n",
    "- 별도의 추가 코드 없이 상속(Inheritance)의 대안 제공\n",
    "- 인터페이스에 의해 정의된 메소드만 호출할 수 있도록 보호\n",
    "- private 필드에 위임된 인스턴스를 저장하여 직접적인 접근 차단"
   ]
  },
  {
   "cell_type": "code",
   "execution_count": 18,
   "id": "d81a543e",
   "metadata": {},
   "outputs": [],
   "source": [
    "interface Vehicle {\n",
    "    fun go(): String\n",
    "}\n",
    "class CarImpl(val where: String): Vehicle {\n",
    "    override fun go() = \"is going to $where\"\n",
    "}\n",
    "class AirplaneImpl(val where: String): Vehicle {\n",
    "    override fun go() = \"is flying to $where\"\n",
    "}\n",
    "class CarOrAirplane(val model: String,impl: Vehicle): Vehicle by impl {\n",
    "    fun tellMeYourTrip() {\n",
    "        println(\"$model ${this.go()}\")   \n",
    "    }\n",
    "}\n"
   ]
  },
  {
   "cell_type": "code",
   "execution_count": 19,
   "id": "fdb45853",
   "metadata": {},
   "outputs": [],
   "source": [
    "fun main() {\n",
    "    val myAirbus330 = CarOrAirplane(\"Lamborghini\", CarImpl(\"Seoul\"))\n",
    "    val myBoeing337 = CarOrAirplane(\"Boeing 337\", AirplaneImpl(\"Seoul\"))\n",
    "    \n",
    "    myAirbus330.tellMeYourTrip()\n",
    "    myBoeing337.tellMeYourTrip()\n",
    "}"
   ]
  },
  {
   "cell_type": "code",
   "execution_count": 20,
   "id": "a4e036c3",
   "metadata": {},
   "outputs": [
    {
     "name": "stdout",
     "output_type": "stream",
     "text": [
      "Lamborghini is going to Seoul\n",
      "Boeing 337 is flying to Seoul\n"
     ]
    }
   ],
   "source": [
    "main()"
   ]
  },
  {
   "cell_type": "code",
   "execution_count": 21,
   "id": "af99e8bf",
   "metadata": {},
   "outputs": [
    {
     "data": {
      "text/plain": [
       "Current classpath (7 paths):\n",
       "/Users/dahlmoon/anaconda3/envs/kotlin/lib/python3.7/site-packages/run_kotlin_kernel/jars/lib-0.10.0-227.jar\n",
       "/Users/dahlmoon/anaconda3/envs/kotlin/lib/python3.7/site-packages/run_kotlin_kernel/jars/api-0.10.0-227.jar\n",
       "/Users/dahlmoon/anaconda3/envs/kotlin/lib/python3.7/site-packages/run_kotlin_kernel/jars/kotlin-script-runtime-1.6.0-dev-3567.jar\n",
       "/Users/dahlmoon/anaconda3/envs/kotlin/lib/python3.7/site-packages/run_kotlin_kernel/jars/kotlin-reflect-1.5.21.jar\n",
       "/Users/dahlmoon/anaconda3/envs/kotlin/lib/python3.7/site-packages/run_kotlin_kernel/jars/kotlin-stdlib-1.5.21.jar\n",
       "/Users/dahlmoon/anaconda3/envs/kotlin/lib/python3.7/site-packages/run_kotlin_kernel/jars/annotations-13.0.jar\n",
       "/Users/dahlmoon/anaconda3/envs/kotlin/lib/python3.7/site-packages/run_kotlin_kernel/jars/kotlin-stdlib-common-1.5.21.jar"
      ]
     },
     "execution_count": 21,
     "metadata": {},
     "output_type": "execute_result"
    }
   ],
   "source": [
    ":classpath"
   ]
  },
  {
   "cell_type": "code",
   "execution_count": null,
   "id": "97fc9ff7",
   "metadata": {},
   "outputs": [],
   "source": []
  }
 ],
 "metadata": {
  "kernelspec": {
   "display_name": "Kotlin",
   "language": "kotlin",
   "name": "kotlin"
  },
  "language_info": {
   "codemirror_mode": "text/x-kotlin",
   "file_extension": ".kt",
   "mimetype": "text/x-kotlin",
   "name": "kotlin",
   "nbconvert_exporter": "",
   "pygments_lexer": "kotlin",
   "version": "1.6.0-dev-3567"
  }
 },
 "nbformat": 4,
 "nbformat_minor": 5
}
