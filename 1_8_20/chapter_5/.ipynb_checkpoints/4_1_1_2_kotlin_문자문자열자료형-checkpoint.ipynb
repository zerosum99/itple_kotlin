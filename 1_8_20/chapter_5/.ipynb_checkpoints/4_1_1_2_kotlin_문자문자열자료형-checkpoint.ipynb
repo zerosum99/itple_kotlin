{
 "cells": [
  {
   "cell_type": "code",
   "execution_count": null,
   "id": "0942eda2",
   "metadata": {},
   "outputs": [],
   "source": []
  },
  {
   "cell_type": "markdown",
   "id": "1d383493",
   "metadata": {},
   "source": [
    "## 문자열 인덱스 "
   ]
  },
  {
   "cell_type": "code",
   "execution_count": 29,
   "id": "a111b55d",
   "metadata": {},
   "outputs": [
    {
     "name": "stdout",
     "output_type": "stream",
     "text": [
      "class kotlin.String\n",
      "class kotlin.Char\n",
      "H\n",
      "!\n"
     ]
    }
   ],
   "source": [
    "val myString = \"Hello kotlin!\"     //문자열 객체\n",
    "val item = myString[2]             //하나의 원소를 읽는다.\n",
    "\n",
    "println(myString.javaClass.kotlin)  // 문자열 클래스 확인\n",
    "println(item.javaClass.kotlin)      // 문자 클래스 확인\n",
    "\n",
    "println(myString.first())         // 첫번째\n",
    "println(myString.last())          // 마지막\n"
   ]
  },
  {
   "cell_type": "code",
   "execution_count": 28,
   "id": "8137d780",
   "metadata": {},
   "outputs": [
    {
     "name": "stdout",
     "output_type": "stream",
     "text": [
      "문\n",
      "회\n",
      "회\n",
      "열\n",
      "0\n",
      "null\n"
     ]
    }
   ],
   "source": [
    "val s = \"문자열 인덱스 조회\"\n",
    "println(s[0])\n",
    "println(s[s.length-1])     // 인덱스는 0부터 length -1\n",
    "println(s[s.lastIndex])    // 마지막 인엑스 처리\n",
    "println(s.get(2))            // 문자열 검색\n",
    "println(s.getOrElse(s.length, {'0'}))  // 범위를 벗어날 경우 초기값처리 \n",
    "println(s.getOrNull(s.length))         // 범위를 벗어날 경우 null"
   ]
  },
  {
   "cell_type": "markdown",
   "id": "96cb28ad",
   "metadata": {},
   "source": [
    "## 빈문자열 확인 "
   ]
  },
  {
   "cell_type": "code",
   "execution_count": 3,
   "id": "aec3df71",
   "metadata": {},
   "outputs": [
    {
     "name": "stdout",
     "output_type": "stream",
     "text": [
      "이스케이프가 문자열에 있음\n",
      "빈 문자열 \n"
     ]
    }
   ],
   "source": [
    "val s = \"\\t\"\n",
    "\n",
    "if (s.isEmpty()) {                  // 문자열에 이스케이프 처리\n",
    "    println(\"문자열 내에 문자가 없음 \")\n",
    "} else {\n",
    "    println(\"이스케이프가 문자열에 있음\")\n",
    "}\n",
    "\n",
    "if (s.isBlank()) {                  // 이스케이프 문자열 처리 않음\n",
    "    println(\"빈 문자열 \")\n",
    "} else {\n",
    "    println(\"빈 문자열이 아님\")\n",
    "}"
   ]
  },
  {
   "cell_type": "markdown",
   "id": "f2225fd8",
   "metadata": {},
   "source": [
    "## 빈문자열 처리 "
   ]
  },
  {
   "cell_type": "code",
   "execution_count": 4,
   "id": "81c7237c",
   "metadata": {},
   "outputs": [
    {
     "name": "stdout",
     "output_type": "stream",
     "text": [
      "s 문자 개수는 7\n",
      "s1 문자 개수는 6\n",
      "s2 문자 개수는 6\n",
      "s2 문자 개수는 5\n"
     ]
    }
   ],
   "source": [
    "val s = \" Eagle\\t\"\n",
    "println(\"s 문자 개수는 ${s.length}\")\n",
    "\n",
    "val s1 = s.trimEnd()\n",
    "println(\"s1 문자 개수는 ${s1.length}\")\n",
    "\n",
    "val s2 = s.trimStart()\n",
    "println(\"s2 문자 개수는 ${s2.length}\")\n",
    "\n",
    "val s3 = s.trim()\n",
    "println(\"s2 문자 개수는 ${s3.length}\")"
   ]
  },
  {
   "cell_type": "code",
   "execution_count": null,
   "id": "b756fa4e",
   "metadata": {},
   "outputs": [],
   "source": []
  },
  {
   "cell_type": "markdown",
   "id": "71da0cb7",
   "metadata": {},
   "source": [
    "## 문자열 붙이기"
   ]
  },
  {
   "cell_type": "code",
   "execution_count": 5,
   "id": "a64cd687",
   "metadata": {},
   "outputs": [
    {
     "name": "stdout",
     "output_type": "stream",
     "text": [
      "문자열 붙이기더하기\n",
      "(튜플, 만들기)\n"
     ]
    }
   ],
   "source": [
    "val splus = \"문자열 붙이기\" + \"더하기\"\n",
    "println(splus)\n",
    "\n",
    "val sto = \"튜플\" to \"만들기\"\n",
    "println(sto)"
   ]
  },
  {
   "cell_type": "code",
   "execution_count": null,
   "id": "d1cc7907",
   "metadata": {},
   "outputs": [],
   "source": []
  },
  {
   "cell_type": "markdown",
   "id": "4a519dc0",
   "metadata": {},
   "source": [
    "## 대소문자 처리"
   ]
  },
  {
   "cell_type": "code",
   "execution_count": 6,
   "id": "cca44209",
   "metadata": {},
   "outputs": [
    {
     "name": "stdout",
     "output_type": "stream",
     "text": [
      "Strings are not equal\n",
      "Strings are equal\n"
     ]
    }
   ],
   "source": [
    "val s1 = \"Eagle\"\n",
    "val s2 = \"eagle\"\n",
    "\n",
    "if (s1 == s2) {                    // 객체간 비교\n",
    "    println(\"Strings are equal\")\n",
    "}  else {\n",
    "    println(\"Strings are not equal\")\n",
    "}\n",
    "\n",
    "val res = s1.compareTo(s2, true)   // 대소문자 구분 안함\n",
    "\n",
    "if (res == 0) {\n",
    "    println(\"Strings are equal\")\n",
    "}  else {\n",
    "    println(\"Strings are not equal\")\n",
    "}"
   ]
  },
  {
   "cell_type": "markdown",
   "id": "eefb0d91",
   "metadata": {},
   "source": [
    "## 대소문자 처리"
   ]
  },
  {
   "cell_type": "code",
   "execution_count": 7,
   "id": "baec93ee",
   "metadata": {},
   "outputs": [
    {
     "name": "stdout",
     "output_type": "stream",
     "text": [
      "Young eagle\n",
      "hornet\n",
      "YOUNG EAGLE\n",
      "young eagle\n"
     ]
    }
   ],
   "source": [
    "val s = \"young eagle\"\n",
    "\n",
    "println(s.capitalize())             // 첫번째 문자를 대문자\n",
    "println(\"Hornet\".decapitalize())    // 대문자를 소문자 \n",
    "\n",
    "println(s.toUpperCase())            // 전체를 대문자\n",
    "println(s.toLowerCase())            // 전체를 소문자"
   ]
  },
  {
   "cell_type": "markdown",
   "id": "93c1ddec",
   "metadata": {},
   "source": [
    "## 문자열 필터링 "
   ]
  },
  {
   "cell_type": "code",
   "execution_count": 8,
   "id": "6b4c62f3",
   "metadata": {},
   "outputs": [
    {
     "name": "stdout",
     "output_type": "stream",
     "text": [
      "res result = oaiaua\n",
      "There are 6 vowels\n"
     ]
    }
   ],
   "source": [
    "fun Char.isEnglishVowel(): Boolean =  \n",
    "        this.toLowerCase() == 'a'\n",
    "        || this.toLowerCase() == 'e'\n",
    "        || this.toLowerCase() == 'i'\n",
    "        || this.toLowerCase() == 'o'\n",
    "        || this.toLowerCase() == 'u'\n",
    "  \n",
    "\n",
    "val s = \"Today is a sunny day.\"\n",
    "val res = s.filter { e -> e.isEnglishVowel()}\n",
    "println(\"res result = ${res}\")\n",
    "println(\"There are ${res.length} vowels\")"
   ]
  },
  {
   "cell_type": "markdown",
   "id": "7339f238",
   "metadata": {},
   "source": [
    "## 시작 문자와 끝문자 체크"
   ]
  },
  {
   "cell_type": "code",
   "execution_count": 9,
   "id": "f146a4d2",
   "metadata": {},
   "outputs": [
    {
     "name": "stdout",
     "output_type": "stream",
     "text": [
      "starts with = [boy]\n",
      "ends with = [tourist, sonnet, pleasant]\n"
     ]
    }
   ],
   "source": [
    "val words = listOf(\"tank\", \"boy\", \"tourist\", \"ten\",\n",
    "            \"pen\", \"car\", \"marble\", \"sonnet\", \"pleasant\",\n",
    "            \"ink\", \"atom\")\n",
    "\n",
    "val res = words.filter { e -> e.startsWith(\"b\") }\n",
    "println(\"starts with = $res\")\n",
    "\n",
    "val res2 = words.filter { e -> e.endsWith(\"t\") }\n",
    "println(\"ends with = $res2\")"
   ]
  },
  {
   "cell_type": "markdown",
   "id": "7295cb5e",
   "metadata": {},
   "source": [
    "## 문자열 변경 "
   ]
  },
  {
   "cell_type": "code",
   "execution_count": 10,
   "id": "4d93e52e",
   "metadata": {},
   "outputs": [
    {
     "name": "stdout",
     "output_type": "stream",
     "text": [
      "Today is a rainy day.\n"
     ]
    }
   ],
   "source": [
    "val s = \"Today is a sunny day.\"\n",
    "val w = s.replace(\"sunny\", \"rainy\")\n",
    "println(w)"
   ]
  },
  {
   "cell_type": "markdown",
   "id": "b6f3efd0",
   "metadata": {},
   "source": [
    "## 포함된 문자열 찾기"
   ]
  },
  {
   "cell_type": "code",
   "execution_count": 11,
   "id": "b09e68a6",
   "metadata": {},
   "outputs": [
    {
     "name": "stdout",
     "output_type": "stream",
     "text": [
      "true\n",
      "2\n"
     ]
    }
   ],
   "source": [
    "val s = \"Today is a sunny day.\"\n",
    "println(s.contains(\"Today\"))\n",
    "println(s.indexOf(\"day\"))"
   ]
  },
  {
   "cell_type": "markdown",
   "id": "9a6d8d09",
   "metadata": {},
   "source": [
    "## 여러 문자열 중에 특정 문자 포함 문자열 찾기"
   ]
  },
  {
   "cell_type": "code",
   "execution_count": 22,
   "id": "8da2c70d",
   "metadata": {},
   "outputs": [
    {
     "name": "stdout",
     "output_type": "stream",
     "text": [
      "bo로 시작하는 문자열?(앞부터 검색) book\n",
      "bo로 시작하는 문자열?(뒤부터 검색) book\n"
     ]
    }
   ],
   "source": [
    "val ml = mutableListOf(\"abc\", \"sort\",\"book\", \n",
    "                       \"book4\", \"roll\", \"book2\", \"book3\")\n",
    "\n",
    "\n",
    "val res = ml.find { it.startsWith(\"bo\") }\n",
    "println(\"bo로 시작하는 문자열?(앞부터 검색) $res\")\n",
    "\n",
    "val res2 = ml.findLast { it.endsWith(\"ok\") }\n",
    "println(\"bo로 시작하는 문자열?(뒤부터 검색) $res2\")"
   ]
  },
  {
   "cell_type": "code",
   "execution_count": null,
   "id": "30da4512",
   "metadata": {},
   "outputs": [],
   "source": []
  },
  {
   "cell_type": "markdown",
   "id": "b08ce791",
   "metadata": {},
   "source": [
    "## 문자열 분해 및 연결 "
   ]
  },
  {
   "cell_type": "code",
   "execution_count": 13,
   "id": "9be8ebcd",
   "metadata": {},
   "outputs": [
    {
     "name": "stdout",
     "output_type": "stream",
     "text": [
      "eagle\n",
      "falcon\n",
      "hawk\n",
      "owl\n",
      "eagle,falcon,hawk,owl\n"
     ]
    }
   ],
   "source": [
    "val word = \"eagle,falcon,hawk,owl\"\n",
    "val birds = word.split(\",\")\n",
    "\n",
    "val joins = birds.joinToString(\",\")\n",
    "\n",
    "birds.forEach(::println)\n",
    "\n",
    "println(joins)"
   ]
  },
  {
   "cell_type": "markdown",
   "id": "ac96f03a",
   "metadata": {},
   "source": [
    "## 서브문자열 "
   ]
  },
  {
   "cell_type": "code",
   "execution_count": 14,
   "id": "f2a0081e",
   "metadata": {},
   "outputs": [
    {
     "name": "stdout",
     "output_type": "stream",
     "text": [
      "열\n",
      "열\n",
      "열을\n",
      "열을\n"
     ]
    }
   ],
   "source": [
    "val sss = \"문자열을 처리하다\"\n",
    "println(sss.subSequence(2,3))\n",
    "println(sss.substring(2,3))\n",
    "println(sss.substring(2..3))\n",
    "println(sss.slice(2..3))"
   ]
  },
  {
   "cell_type": "markdown",
   "id": "30184c4e",
   "metadata": {},
   "source": [
    "## 문자열을 문자코드로 변환"
   ]
  },
  {
   "cell_type": "code",
   "execution_count": 15,
   "id": "ba37f88b",
   "metadata": {},
   "outputs": [
    {
     "name": "stdout",
     "output_type": "stream",
     "text": [
      "java.util.stream.IntPipeline$Head@5ddb0fc8\n",
      "문 47928\n",
      "자 51088\n",
      "열 50676\n",
      "을 51012\n",
      "  32\n",
      "처 52376\n",
      "리 47532\n",
      "하 54616\n",
      "다 45796\n"
     ]
    }
   ],
   "source": [
    "val cp = sss.codePoints()\n",
    "println(cp)\n",
    "\n",
    "for (i in cp) {\n",
    "    println(i.toChar() + \" \" + i)\n",
    "}"
   ]
  },
  {
   "cell_type": "markdown",
   "id": "84cbb2c8",
   "metadata": {},
   "source": [
    "## 변경가능한 문자열 처리 "
   ]
  },
  {
   "cell_type": "code",
   "execution_count": 19,
   "id": "52044226",
   "metadata": {},
   "outputs": [
    {
     "name": "stdout",
     "output_type": "stream",
     "text": [
      "1. 문자열 : \n",
      " 길이= 0 용량=16\n"
     ]
    }
   ],
   "source": [
    "var str = StringBuilder()   // 빈 생성자\n",
    "println(\"1. 문자열 : $str\")\n",
    "println(\" 길이= ${str.length} 용량=${str.capacity()}\")"
   ]
  },
  {
   "cell_type": "code",
   "execution_count": 18,
   "id": "6d6c1f44",
   "metadata": {},
   "outputs": [
    {
     "name": "stdout",
     "output_type": "stream",
     "text": [
      "2. 문자열 : 아버지가5강아지가true \n",
      " 길이= 13 용량= 34\n"
     ]
    }
   ],
   "source": [
    "/* 추가 */\n",
    "str.append(5)               // Int 타입\n",
    "str.append(\"강아지\")          // String 타입\n",
    "str.append('가')             // Char 타입\n",
    "str.append(true)            // Boolean 타입\n",
    "println(\"2. 문자열 : $str \")\n",
    "println(\" 길이= ${str.length} 용량= ${str.capacity()}\")"
   ]
  },
  {
   "cell_type": "code",
   "execution_count": 20,
   "id": "18ce06c4",
   "metadata": {},
   "outputs": [
    {
     "name": "stdout",
     "output_type": "stream",
     "text": [
      "3. 문자열 : 문자열빌더5431 \n",
      " 길이= 9 용량= 16\n"
     ]
    }
   ],
   "source": [
    "/* 특정 인덱스에 삽입 */\n",
    "str.insert(0,5431)\n",
    "str.insert(0,\"문자열빌더\")\n",
    "println(\"3. 문자열 : $str \")\n",
    "println(\" 길이= ${str.length} 용량= ${str.capacity()}\")"
   ]
  },
  {
   "cell_type": "code",
   "execution_count": null,
   "id": "a9bb4c7b",
   "metadata": {},
   "outputs": [],
   "source": []
  },
  {
   "cell_type": "code",
   "execution_count": 21,
   "id": "c2cb09a5",
   "metadata": {},
   "outputs": [
    {
     "name": "stdout",
     "output_type": "stream",
     "text": [
      "4. 문자열 : 열빌더5431\n",
      " 길이= 7 용량= 16\n",
      "5. 문자열 : \n",
      " 길이= 0 용량= 16\n"
     ]
    }
   ],
   "source": [
    " /* 삭제 */\n",
    "str.deleteCharAt(0)         // index\n",
    "str.delete(0, 1)            // [start, end)\n",
    "println(\"4. 문자열 : $str\")\n",
    "println(\" 길이= ${str.length} 용량= ${str.capacity()}\")\n",
    "str.clear()\n",
    "println(\"5. 문자열 : $str\")\n",
    "println(\" 길이= ${str.length} 용량= ${str.capacity()}\")"
   ]
  },
  {
   "cell_type": "code",
   "execution_count": 22,
   "id": "dc923e64",
   "metadata": {},
   "outputs": [
    {
     "name": "stdout",
     "output_type": "stream",
     "text": [
      "아버지는\n",
      "아버지가\n",
      "class java.lang.StringBuilder\n",
      "class kotlin.String\n"
     ]
    }
   ],
   "source": [
    "str.clear()\n",
    "str.append(\"아버지는\")\n",
    "println(str)\n",
    "str.setCharAt(3,'가')\n",
    "println(str)\n",
    "\n",
    "val str1 = str.toString()\n",
    "println(str.javaClass.kotlin)\n",
    "println(str1.javaClass.kotlin)"
   ]
  },
  {
   "cell_type": "code",
   "execution_count": null,
   "id": "b5d372f8",
   "metadata": {},
   "outputs": [],
   "source": []
  }
 ],
 "metadata": {
  "kernelspec": {
   "display_name": "Kotlin",
   "language": "kotlin",
   "name": "kotlin"
  },
  "language_info": {
   "codemirror_mode": "text/x-kotlin",
   "file_extension": ".kt",
   "mimetype": "text/x-kotlin",
   "name": "kotlin",
   "nbconvert_exporter": "",
   "pygments_lexer": "kotlin",
   "version": "1.6.0-dev-3567"
  }
 },
 "nbformat": 4,
 "nbformat_minor": 5
}
