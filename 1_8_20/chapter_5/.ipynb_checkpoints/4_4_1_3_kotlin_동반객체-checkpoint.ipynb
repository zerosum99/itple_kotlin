{
 "cells": [
  {
   "cell_type": "code",
   "execution_count": null,
   "id": "f43b0223",
   "metadata": {},
   "outputs": [],
   "source": []
  },
  {
   "cell_type": "code",
   "execution_count": 1,
   "id": "af992957",
   "metadata": {},
   "outputs": [
    {
     "data": {
      "text/plain": [
       "1.8.20"
      ]
     },
     "execution_count": 1,
     "metadata": {},
     "output_type": "execute_result"
    }
   ],
   "source": [
    "KotlinVersion.CURRENT             // 코틀린 현재 버전 "
   ]
  },
  {
   "cell_type": "code",
   "execution_count": null,
   "id": "85110c03",
   "metadata": {},
   "outputs": [],
   "source": []
  },
  {
   "cell_type": "markdown",
   "id": "0f738be0",
   "metadata": {},
   "source": [
    "#  동반 객체 선언"
   ]
  },
  {
   "cell_type": "markdown",
   "id": "64d69d3b",
   "metadata": {},
   "source": [
    "## 객체와 동반객체 처리 비교"
   ]
  },
  {
   "cell_type": "code",
   "execution_count": 2,
   "id": "04a98d54",
   "metadata": {},
   "outputs": [
    {
     "name": "stdout",
     "output_type": "stream",
     "text": [
      " 동반 객체 선언: 2 \n",
      " object 선언 : 1\n"
     ]
    }
   ],
   "source": [
    "class ObjectClass {\n",
    "    object ObjectTest {                       //싱글턴 객체 생성\n",
    "        const val CONST_STRING = \"1\"          // 상수 정의\n",
    "        fun test() { println(\" object 선언 : $CONST_STRING\")}\n",
    "    }\n",
    "}\n",
    "\n",
    "class CompanionClass {\n",
    "    companion object {                       // 동반객체 정의 \n",
    "        const val CONST_TEST = 2             // 상수정의\n",
    "        fun test() { println(\" 동반 객체 선언: $CONST_TEST \") }\n",
    "    }\n",
    "}\n",
    "\n",
    "CompanionClass.test()\n",
    "ObjectClass.ObjectTest.test()"
   ]
  },
  {
   "cell_type": "code",
   "execution_count": null,
   "id": "a3059cd8",
   "metadata": {},
   "outputs": [],
   "source": []
  },
  {
   "cell_type": "markdown",
   "id": "d930d29a",
   "metadata": {},
   "source": [
    "## 클래스 생성자 비공개 처리  "
   ]
  },
  {
   "cell_type": "code",
   "execution_count": 3,
   "id": "b210208e",
   "metadata": {},
   "outputs": [
    {
     "name": "stdout",
     "output_type": "stream",
     "text": [
      "이름= 황후순 나이= 44 \n"
     ]
    }
   ],
   "source": [
    "class Person private constructor(val name : String) {  // 클래스의 생성자 보호\n",
    "    var age :Int = 0                                   // private로 지정하면 접근 금지\n",
    "    companion object {\n",
    "        fun create( name:String, age : Int) : Person { // 팩토리 함수 작성 \n",
    "            val result = Person(name)\n",
    "            result.age = age\n",
    "            return result                               // 클래스로 객체 생성\n",
    "        }\n",
    "    } \n",
    "}\n",
    "\n",
    "val p = Person.create(\"황후순\", 44)\n",
    "println(\"이름= ${p.name} 나이= ${p.age} \")"
   ]
  },
  {
   "cell_type": "code",
   "execution_count": null,
   "id": "22e586a3",
   "metadata": {},
   "outputs": [],
   "source": []
  },
  {
   "cell_type": "markdown",
   "id": "abc0c7c1",
   "metadata": {},
   "source": [
    "## 동반객체의 비공개 속성을 외부클래스 메소드에서 접근"
   ]
  },
  {
   "cell_type": "code",
   "execution_count": 4,
   "id": "15e8697b",
   "metadata": {},
   "outputs": [
    {
     "name": "stdout",
     "output_type": "stream",
     "text": [
      "동반객체의 공개속성\n",
      "동반객체의 비공개속성 동반객체의 공개속성\n"
     ]
    }
   ],
   "source": [
    "class OuterClass {\n",
    "    companion object {\n",
    "        private val private_str = \"동반객체의 비공개속성\"   // 동반객체 보호속성 정의\n",
    "        val public_str = \"동반객체의 공개속성\"\n",
    "    }\n",
    "\n",
    "    fun getSecretValue() = private_str +               // 클래스의 메소드에서 \n",
    "                           \" \" + public_str            // 동반객체 속성 접근\n",
    "}\n",
    "\n",
    "println(OuterClass.public_str)\n",
    "println(OuterClass().getSecretValue())"
   ]
  },
  {
   "cell_type": "code",
   "execution_count": null,
   "id": "6438c602",
   "metadata": {},
   "outputs": [],
   "source": []
  },
  {
   "cell_type": "markdown",
   "id": "85fe2cbe",
   "metadata": {},
   "source": [
    "## 내포된 클래스에서 동반객체 멤버사용"
   ]
  },
  {
   "cell_type": "code",
   "execution_count": 5,
   "id": "1195c9ea",
   "metadata": {},
   "outputs": [
    {
     "name": "stdout",
     "output_type": "stream",
     "text": [
      "내포클래스의 객체 - 동반객체멤버 : 동반객체 상수 동반객체 속성 - 2022-04-10\n",
      "내포클래스의 객체 - 외부객체멤버 : 황후순 \n"
     ]
    }
   ],
   "source": [
    "class OuterClass(val name: String) {\n",
    "    class NestedClass(val man: String) {           // 내포된 클래스\n",
    "        fun getCompInfo()  = \n",
    "    \"$man - 동반객체멤버 : $con $attr - ${getDate()}\"\n",
    "        \n",
    "         fun getOutInst() : String { \n",
    "             val out = OuterClass(\"황후순\")          // 외부 클래스의 객체생성\n",
    "             return \"$man - 외부객체멤버 : ${out.name} \"\n",
    "         }\n",
    "    }\n",
    "    \n",
    "    companion object {                              //동반객체 정의               \n",
    "        const val con = \"동반객체 상수\"\n",
    "        val attr = \"동반객체 속성\"\n",
    "        fun getDate(): String {\n",
    "            return \"2022-04-10\"\n",
    "        }\n",
    "    }\n",
    "}\n",
    "\n",
    "println(OuterClass.NestedClass(\"내포클래스의 객체\").getCompInfo())\n",
    "println(OuterClass.NestedClass(\"내포클래스의 객체\").getOutInst())"
   ]
  },
  {
   "cell_type": "code",
   "execution_count": null,
   "id": "aed848f5",
   "metadata": {},
   "outputs": [],
   "source": []
  },
  {
   "cell_type": "markdown",
   "id": "07a230b8",
   "metadata": {},
   "source": [
    "## 이너 클래스에서 동반객체 멤버사용"
   ]
  },
  {
   "cell_type": "code",
   "execution_count": 6,
   "id": "dffbd46e",
   "metadata": {},
   "outputs": [
    {
     "name": "stdout",
     "output_type": "stream",
     "text": [
      "이너클래스의 객체 - 동반객체멤버 : 동반객체 상수 동반객체 속성 - 2022-04-10\n",
      "이너클래스의 객체 - 외부객체멤버 : 손영연 33 \n"
     ]
    }
   ],
   "source": [
    "class OuterClass(val name: String, val age :Int) {\n",
    "    inner class InnerClass(val man: String) {           // 이너클래스\n",
    "        fun getCompInfo()  = \n",
    "                    \"$man - 동반객체멤버 : $con $attr - ${getDate()}\"\n",
    "        \n",
    "        fun getOutInst() = \n",
    "                    \"$man - 외부객체멤버 : $name $age \"\n",
    "    }\n",
    "    \n",
    "    companion object {                                  //동반객체 정의               \n",
    "        const val con = \"동반객체 상수\"\n",
    "        val attr = \"동반객체 속성\"\n",
    "        fun getDate(): String {\n",
    "            return \"2022-04-10\"\n",
    "        }\n",
    "    }\n",
    "}\n",
    "\n",
    "println(OuterClass(\"손영연\",33).InnerClass(\"이너클래스의 객체\").getCompInfo())\n",
    "println(OuterClass(\"손영연\",33).InnerClass(\"이너클래스의 객체\").getOutInst())"
   ]
  },
  {
   "cell_type": "code",
   "execution_count": null,
   "id": "1521828b",
   "metadata": {},
   "outputs": [],
   "source": []
  },
  {
   "cell_type": "code",
   "execution_count": null,
   "id": "e344199a",
   "metadata": {},
   "outputs": [],
   "source": []
  }
 ],
 "metadata": {
  "kernelspec": {
   "display_name": "Kotlin",
   "language": "kotlin",
   "name": "kotlin"
  },
  "language_info": {
   "codemirror_mode": "text/x-kotlin",
   "file_extension": ".kt",
   "mimetype": "text/x-kotlin",
   "name": "kotlin",
   "nbconvert_exporter": "",
   "pygments_lexer": "kotlin",
   "version": "1.8.20-Beta"
  }
 },
 "nbformat": 4,
 "nbformat_minor": 5
}
