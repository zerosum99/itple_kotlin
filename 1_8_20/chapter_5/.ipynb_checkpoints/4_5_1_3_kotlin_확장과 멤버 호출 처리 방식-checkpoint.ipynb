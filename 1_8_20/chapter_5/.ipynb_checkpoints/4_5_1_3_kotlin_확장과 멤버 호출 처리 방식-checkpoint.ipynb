{
 "cells": [
  {
   "cell_type": "code",
   "execution_count": null,
   "id": "97bd513d",
   "metadata": {},
   "outputs": [],
   "source": []
  },
  {
   "cell_type": "code",
   "execution_count": 1,
   "id": "7220e56a",
   "metadata": {},
   "outputs": [
    {
     "data": {
      "text/plain": [
       "1.8.20"
      ]
     },
     "execution_count": 1,
     "metadata": {},
     "output_type": "execute_result"
    }
   ],
   "source": [
    "KotlinVersion.CURRENT             // 코틀린 현재 버전 "
   ]
  },
  {
   "cell_type": "code",
   "execution_count": null,
   "id": "50e7a030",
   "metadata": {},
   "outputs": [],
   "source": []
  },
  {
   "cell_type": "markdown",
   "id": "95c466c2",
   "metadata": {},
   "source": [
    "## 동일한 이름이 있을 때는 멤버가 호출"
   ]
  },
  {
   "cell_type": "code",
   "execution_count": 2,
   "id": "8ef2870c",
   "metadata": {},
   "outputs": [
    {
     "name": "stdout",
     "output_type": "stream",
     "text": [
      " sub 재정의 hello\n",
      " super eat \n"
     ]
    }
   ],
   "source": [
    "open class Person(val name:String, var age : Int) {       //베이스 클래스 정의 \n",
    "    open fun say() = \" super 정의 hello \"                  //재정의 가능한 메소드 정의 \n",
    "    \n",
    "    fun eat() = \" super eat \"\n",
    "}\n",
    "\n",
    "class Student(name:String, age:Int,                       //파생 클래스 정의 \n",
    "              val school : String) : Person(name,age) { \n",
    "    override fun say() = \" sub 재정의 hello\"                //재정의한 메소드 정의 \n",
    "}\n",
    "\n",
    "fun Student.eat() = \" sub 확장 hello\"                       //확장함수 정의 \n",
    "\n",
    "val p :Person = Student(\"학생\", 13, \"코틀린중학교\")            //Person 클래스 변수\n",
    "\n",
    "println(p.say())                                          //상속관계에 따른 멤버 메소드 처리\n",
    "println(p.eat())                                          //확장함수가 아닌 Person 클래스\n",
    "                                                          //메소드 처리 "
   ]
  },
  {
   "cell_type": "code",
   "execution_count": null,
   "id": "d91109d1",
   "metadata": {},
   "outputs": [],
   "source": []
  },
  {
   "cell_type": "code",
   "execution_count": null,
   "id": "fe11ba72",
   "metadata": {},
   "outputs": [],
   "source": []
  },
  {
   "cell_type": "markdown",
   "id": "2a45d9e6",
   "metadata": {},
   "source": [
    "## 사용자 클래스를 사용해서 충돌 확인"
   ]
  },
  {
   "cell_type": "code",
   "execution_count": 3,
   "id": "9d40fbab",
   "metadata": {},
   "outputs": [
    {
     "name": "stdout",
     "output_type": "stream",
     "text": [
      "클래스 멤버 메소드\n",
      "Integer(value= 400)\n",
      "클래스 멤버 속성\n",
      "100\n",
      "확장 함수 \n",
      "100\n"
     ]
    }
   ],
   "source": [
    "class Integer(val x :Int) {\n",
    "    val value :Int = x                           //프로퍼티 정의 \n",
    "       get() {                                   //프로퍼티 게터정의\n",
    "           println(\"클래스 멤버 속성\")\n",
    "           return field\n",
    "       }\n",
    "    private fun display() = x.toString()          //비공개 메소드 정의 \n",
    "    fun plus(other : Integer) : Integer {         //클래스 내부 메소드 정의\n",
    "        println(\"클래스 멤버 메소드\")\n",
    "        return Integer(this.x + other.x)\n",
    "    }\n",
    "    override fun toString() =\"Integer(value= $x)\" //재정의 메소드 \n",
    "}\n",
    "fun Integer.plus(other : Integer) : Integer {     //클래스 내부 멤버와 이름충돌\n",
    "        println(\"화장 함수 \")                       //절대 호출되지 않는다 \n",
    "        return Integer(this.x + other.x)\n",
    "}\n",
    "fun Integer.display() : String {                  //멤버와 이름이 충돌되지만 \n",
    "    println(\"확장 함수 \")                           //private 때문에 외부에서 호출이 가능\n",
    "    return this.x.toString()\n",
    "} \n",
    "val Integer.value : Int                           //클래스 속성과 이름 충돌\n",
    "    get() {                                       //확장속성은 배킹 필드가 없음\n",
    "        println(\"확장 속성\")\n",
    "        return 100                                //항상 초기화 값을 처리\n",
    "    }\n",
    "\n",
    "val inte = Integer(100)                           //객체를 생성\n",
    "println(inte.plus(Integer(300)))                  //클래스 메소드 호출\n",
    "println(inte.value)                               //클래스 속성 호출\n",
    "println(inte.display())                           //확장함수 호출"
   ]
  },
  {
   "cell_type": "code",
   "execution_count": null,
   "id": "459098dd",
   "metadata": {},
   "outputs": [],
   "source": []
  },
  {
   "cell_type": "code",
   "execution_count": null,
   "id": "9927dd6e",
   "metadata": {},
   "outputs": [],
   "source": []
  }
 ],
 "metadata": {
  "kernelspec": {
   "display_name": "Kotlin",
   "language": "kotlin",
   "name": "kotlin"
  },
  "language_info": {
   "codemirror_mode": "text/x-kotlin",
   "file_extension": ".kt",
   "mimetype": "text/x-kotlin",
   "name": "kotlin",
   "nbconvert_exporter": "",
   "pygments_lexer": "kotlin",
   "version": "1.8.20-Beta"
  }
 },
 "nbformat": 4,
 "nbformat_minor": 5
}
