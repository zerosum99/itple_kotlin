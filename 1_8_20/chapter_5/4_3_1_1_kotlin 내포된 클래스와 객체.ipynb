{
 "cells": [
  {
   "cell_type": "code",
   "execution_count": null,
   "id": "16404753",
   "metadata": {},
   "outputs": [],
   "source": []
  },
  {
   "cell_type": "code",
   "execution_count": 1,
   "id": "20439178",
   "metadata": {},
   "outputs": [
    {
     "data": {
      "text/plain": [
       "1.8.20"
      ]
     },
     "execution_count": 1,
     "metadata": {},
     "output_type": "execute_result"
    }
   ],
   "source": [
    "KotlinVersion.CURRENT             // 코틀린 현재 버전 "
   ]
  },
  {
   "cell_type": "code",
   "execution_count": null,
   "id": "e2f1ec0f",
   "metadata": {},
   "outputs": [],
   "source": []
  },
  {
   "cell_type": "markdown",
   "id": "3dfe7ed5",
   "metadata": {},
   "source": [
    "## 1.  내포된 클래스\n"
   ]
  },
  {
   "cell_type": "code",
   "execution_count": 2,
   "id": "a393cd0f",
   "metadata": {},
   "outputs": [
    {
     "name": "stdout",
     "output_type": "stream",
     "text": [
      "999\n"
     ]
    }
   ],
   "source": [
    "class Outer {\n",
    "    private val bar: Int = 1         // 아웃클래스의 비공개속성\n",
    "    \n",
    "    class Nested {   \n",
    "        private val nestVar = 100    // 내포된 클래스\n",
    "        fun foo() = 999              // 내포된 클래스의 메소드에서 외부 클래스 멤버 접근불가 \n",
    "       //fun foo() = this@Outer.bar  // 외부 클래스의 멤버 참조시 예외발생  \n",
    "    }\n",
    "}\n",
    "\n",
    "val demo = Outer.Nested()            // 내포된 객체 생성은 외부클래스로 접근해서 생성 \n",
    "\n",
    "println(demo.foo())                  // 내포된 객체의 메소드 실행\n",
    "\n",
    "// Outer.Nested().nestVar            // 내포 클래스의 비공개 속성 접근시 예외발생"
   ]
  },
  {
   "cell_type": "code",
   "execution_count": null,
   "id": "cf69664a",
   "metadata": {},
   "outputs": [],
   "source": []
  },
  {
   "cell_type": "markdown",
   "id": "99194ad2",
   "metadata": {},
   "source": [
    "## 이너 클래스"
   ]
  },
  {
   "cell_type": "code",
   "execution_count": 3,
   "id": "da11e3f4",
   "metadata": {},
   "outputs": [
    {
     "name": "stdout",
     "output_type": "stream",
     "text": [
      "1\n",
      "100\n"
     ]
    }
   ],
   "source": [
    "class Outer {\n",
    "    private val bar: Int = 1          // 아웃클래스의 비공개속성\n",
    "    inner class Inner {               // 내포된 클래스\n",
    "        private val bar = 100         // 동일한 이름의 속성을 가지고 있음\n",
    "        fun foo() = this@Outer.bar    // 내포된 클래스의 메소드 외부 비공개속성접근\n",
    "        fun fbar() = bar              // 비공개 속성을 접근할 수 있는 메소드 제공 \n",
    "    }\n",
    "    \n",
    "    fun getBar()= println(Inner().fbar())\n",
    "}\n",
    "\n",
    "val demo = Outer().Inner().foo()      // 이너 클래스가 멤버 클래스라서 객체로 접근\n",
    "                                      // 외부클래스의 this@Outer로  비공개속성접근\n",
    "\n",
    "println(demo)\n",
    "Outer().getBar()"
   ]
  },
  {
   "cell_type": "code",
   "execution_count": null,
   "id": "8b578f77",
   "metadata": {},
   "outputs": [],
   "source": []
  },
  {
   "cell_type": "markdown",
   "id": "51103f12",
   "metadata": {},
   "source": [
    "## 지역 클래스"
   ]
  },
  {
   "cell_type": "code",
   "execution_count": null,
   "id": "d3fdfb18",
   "metadata": {},
   "outputs": [],
   "source": []
  },
  {
   "cell_type": "code",
   "execution_count": 4,
   "id": "9c68e4be",
   "metadata": {},
   "outputs": [
    {
     "name": "stdout",
     "output_type": "stream",
     "text": [
      "bar\n"
     ]
    }
   ],
   "source": [
    "fun localClasses() {\n",
    "  open class Amphibian {            // 함수 내부에 지역 베이스 클래스 정의\n",
    "      open fun foo() = \"foo\"\n",
    "  }\n",
    "  class Frog : Amphibian() {        // 상속을 받아서 지역 클래스 정의\n",
    "      override fun foo() = \"bar\"\n",
    "  }\n",
    "  val amphibian: Amphibian = Frog() // 객체 생성\n",
    "  \n",
    "  println(amphibian.foo())          // 메소드 호출\n",
    "}\n",
    "\n",
    "localClasses()"
   ]
  },
  {
   "cell_type": "code",
   "execution_count": null,
   "id": "5472ed7f",
   "metadata": {},
   "outputs": [],
   "source": []
  },
  {
   "cell_type": "markdown",
   "id": "8d512f12",
   "metadata": {},
   "source": [
    "## 지역 클래스도 외부로 반환 가능\n"
   ]
  },
  {
   "cell_type": "code",
   "execution_count": 5,
   "id": "a867aec0",
   "metadata": {},
   "outputs": [
    {
     "name": "stdout",
     "output_type": "stream",
     "text": [
      "foo \n",
      "class Line_4_jupyter$createAmphibian$Frog\n"
     ]
    }
   ],
   "source": [
    "interface Amphibian {               // 인터페이스 정의\n",
    "    fun foo() : Unit\n",
    "}\n",
    "\n",
    "fun createAmphibian(): Amphibian {   // 인터페이스로 반환\n",
    "    \n",
    "  class Frog : Amphibian {           // 지역클래스를 인터페이스 구현을 지정 \n",
    "      override fun foo() {           // 메소드 재정의\n",
    "          println(\"foo \")\n",
    "      }\n",
    "  }\n",
    "    \n",
    "  return Frog()                      // 지역클래스의 객체 반환\n",
    "}\n",
    "\n",
    "val amphibian = createAmphibian()    // 내부 클래스의 객체 생성\n",
    "amphibian.foo()                      // 내부 클래스의 메소드 실행\n",
    "println(amphibian.javaClass.kotlin)"
   ]
  },
  {
   "cell_type": "code",
   "execution_count": null,
   "id": "dabe251c",
   "metadata": {},
   "outputs": [],
   "source": []
  }
 ],
 "metadata": {
  "kernelspec": {
   "display_name": "Kotlin",
   "language": "kotlin",
   "name": "kotlin"
  },
  "language_info": {
   "codemirror_mode": "text/x-kotlin",
   "file_extension": ".kt",
   "mimetype": "text/x-kotlin",
   "name": "kotlin",
   "nbconvert_exporter": "",
   "pygments_lexer": "kotlin",
   "version": "1.8.20-Beta"
  }
 },
 "nbformat": 4,
 "nbformat_minor": 5
}
