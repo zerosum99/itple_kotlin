{
 "cells": [
  {
   "cell_type": "markdown",
   "id": "dfe39e7e",
   "metadata": {},
   "source": [
    "# 참조\n",
    "\n",
    "https://winterbe.com/posts/2018/07/23/kotlin-sequence-tutorial/"
   ]
  },
  {
   "cell_type": "code",
   "execution_count": null,
   "id": "d478e043",
   "metadata": {},
   "outputs": [],
   "source": []
  },
  {
   "cell_type": "markdown",
   "id": "ac8b42dd",
   "metadata": {},
   "source": [
    "## 시퀀스 생성 방법"
   ]
  },
  {
   "cell_type": "code",
   "execution_count": 1,
   "id": "cab74d17",
   "metadata": {},
   "outputs": [],
   "source": [
    "val seqOfElements = sequenceOf(\"first\" ,\"second\", \"third\")"
   ]
  },
  {
   "cell_type": "markdown",
   "id": "de1d8f2a",
   "metadata": {},
   "source": [
    "## 청크"
   ]
  },
  {
   "cell_type": "code",
   "execution_count": 2,
   "id": "b3cc158d",
   "metadata": {},
   "outputs": [],
   "source": [
    "val seqFromChunks = sequence {\n",
    "    yield(1)\n",
    "    yieldAll((2..5).toList())\n",
    "}"
   ]
  },
  {
   "cell_type": "markdown",
   "id": "a59ff373",
   "metadata": {},
   "source": [
    "## 컬렉션"
   ]
  },
  {
   "cell_type": "code",
   "execution_count": 3,
   "id": "c3fd9bcd",
   "metadata": {},
   "outputs": [],
   "source": [
    "val seqFromIterable = (1..10).asSequence()"
   ]
  },
  {
   "cell_type": "markdown",
   "id": "4dd246ce",
   "metadata": {},
   "source": [
    "## 컬렉션과 시퀀스 처리"
   ]
  },
  {
   "cell_type": "code",
   "execution_count": 4,
   "id": "1fe0ecf1",
   "metadata": {},
   "outputs": [],
   "source": [
    "val withoutSequence = (1..10).filter{it % 2 == 1}.map { it * 2 }.toList()"
   ]
  },
  {
   "cell_type": "code",
   "execution_count": 5,
   "id": "8de1f57c",
   "metadata": {},
   "outputs": [
    {
     "data": {
      "text/plain": [
       "[2, 6, 10, 14, 18]"
      ]
     },
     "execution_count": 5,
     "metadata": {},
     "output_type": "execute_result"
    }
   ],
   "source": [
    "withoutSequence"
   ]
  },
  {
   "cell_type": "code",
   "execution_count": 6,
   "id": "d30b9836",
   "metadata": {},
   "outputs": [],
   "source": [
    "val withSequence = (1..10).asSequence().filter{it % 2 == 1}.map { it * 2 }"
   ]
  },
  {
   "cell_type": "code",
   "execution_count": 7,
   "id": "bc08bc49",
   "metadata": {},
   "outputs": [
    {
     "data": {
      "text/plain": [
       "kotlin.sequences.TransformingSequence@305a0c5f"
      ]
     },
     "execution_count": 7,
     "metadata": {},
     "output_type": "execute_result"
    }
   ],
   "source": [
    "withSequence"
   ]
  },
  {
   "cell_type": "code",
   "execution_count": 8,
   "id": "6ed487da",
   "metadata": {},
   "outputs": [
    {
     "data": {
      "text/plain": [
       "[2, 6, 10, 14, 18]"
      ]
     },
     "execution_count": 8,
     "metadata": {},
     "output_type": "execute_result"
    }
   ],
   "source": [
    "withSequence.toList()"
   ]
  },
  {
   "cell_type": "markdown",
   "id": "e1b1c654",
   "metadata": {},
   "source": [
    "## 시퀀스 여러가지 만들어서 처리하기"
   ]
  },
  {
   "cell_type": "code",
   "execution_count": 8,
   "id": "334cc839",
   "metadata": {},
   "outputs": [
    {
     "name": "stdout",
     "output_type": "stream",
     "text": [
      "[1, 3, 5]"
     ]
    }
   ],
   "source": [
    "val result = sequenceOf(1, 2, 3, 4, 5)\n",
    "    .filter { it % 2 == 1 }\n",
    "    .toList()\n",
    "\n",
    "print(result)     // [1, 3, 5]"
   ]
  },
  {
   "cell_type": "code",
   "execution_count": 9,
   "id": "52955517",
   "metadata": {},
   "outputs": [
    {
     "name": "stdout",
     "output_type": "stream",
     "text": [
      "[1, 3]"
     ]
    }
   ],
   "source": [
    "val result = generateSequence(0) { it + 1 }\n",
    "    .take(5)\n",
    "    .filter { it % 2 == 1 }\n",
    "    .toList()\n",
    "\n",
    "print(result)     // [1, 3, 5]"
   ]
  },
  {
   "cell_type": "code",
   "execution_count": 10,
   "id": "b99cfb04",
   "metadata": {},
   "outputs": [
    {
     "name": "stdout",
     "output_type": "stream",
     "text": [
      "[1, 3, 5]"
     ]
    }
   ],
   "source": [
    "val result = (1..6)\n",
    "    .asSequence()\n",
    "    .filter { it % 2 == 1 }\n",
    "    .toList()\n",
    "\n",
    "print(result)   // [1, 3, 5]"
   ]
  },
  {
   "cell_type": "markdown",
   "id": "8fbf837c",
   "metadata": {},
   "source": [
    "## 시퀀스로 만들고 여러번 처리"
   ]
  },
  {
   "cell_type": "code",
   "execution_count": null,
   "id": "c48c045c",
   "metadata": {},
   "outputs": [],
   "source": [
    "val sequence = sequenceOf(1, 2, 3, 4, 5)\n",
    "    .filter { it % 2 == 1 }\n",
    "println(sequence.toList())      // [1, 3, 5]\n",
    "println(sequence.first())       // 1"
   ]
  },
  {
   "cell_type": "code",
   "execution_count": null,
   "id": "1a1c9532",
   "metadata": {},
   "outputs": [],
   "source": []
  },
  {
   "cell_type": "code",
   "execution_count": 6,
   "id": "b0a30085",
   "metadata": {},
   "outputs": [],
   "source": [
    "data class Animals(var name: String, var species: String, var age: Int )\n",
    "\n",
    "var animals = arrayOf(\n",
    "        Animals(\"Poppy\", \"rabbit\", 4),\n",
    "        Animals(\"Caro\", \"dog\", 8),\n",
    "        Animals(\"Teddy\", \"dog\", 12),\n",
    "        Animals(\"Molly\", \"fish\", 3),\n",
    "        Animals(\"Jimmy\", \"cat\", 10),\n",
    "        Animals(\"Harold\", \"fish\", 2)\n",
    ")\n",
    "\n",
    "val aniSeq = animals.asSequence().filter {it.age > 8}\n",
    "                     .map {it.name}\n",
    "                     .toList()"
   ]
  },
  {
   "cell_type": "code",
   "execution_count": 7,
   "id": "b9d78ac2",
   "metadata": {},
   "outputs": [
    {
     "data": {
      "text/plain": [
       "[Teddy, Jimmy]"
      ]
     },
     "execution_count": 7,
     "metadata": {},
     "output_type": "execute_result"
    }
   ],
   "source": [
    "aniSeq"
   ]
  },
  {
   "cell_type": "code",
   "execution_count": null,
   "id": "8b02bd5b",
   "metadata": {},
   "outputs": [],
   "source": []
  },
  {
   "cell_type": "code",
   "execution_count": null,
   "id": "def7cb2e",
   "metadata": {},
   "outputs": [],
   "source": []
  },
  {
   "cell_type": "code",
   "execution_count": null,
   "id": "34f988fd",
   "metadata": {},
   "outputs": [],
   "source": []
  },
  {
   "cell_type": "code",
   "execution_count": 14,
   "id": "7499b619",
   "metadata": {},
   "outputs": [
    {
     "name": "stdout",
     "output_type": "stream",
     "text": [
      "map: a\n",
      "any: A\n",
      "map: b\n",
      "any: B\n",
      "true\n"
     ]
    }
   ],
   "source": [
    "val result = sequenceOf(\"a\", \"b\", \"c\")\n",
    "    .map {\n",
    "        println(\"map: $it\")\n",
    "        it.toUpperCase()\n",
    "    }\n",
    "    .any {\n",
    "        println(\"any: $it\")\n",
    "        it.startsWith(\"B\")\n",
    "    }\n",
    "\n",
    "println(result)\n"
   ]
  },
  {
   "cell_type": "code",
   "execution_count": null,
   "id": "33f3d533",
   "metadata": {},
   "outputs": [],
   "source": []
  },
  {
   "cell_type": "code",
   "execution_count": 15,
   "id": "fc60553b",
   "metadata": {},
   "outputs": [
    {
     "name": "stdout",
     "output_type": "stream",
     "text": [
      "map: a\n",
      "filter: A\n",
      "forEach: A\n",
      "map: b\n",
      "filter: B\n",
      "map: c\n",
      "filter: C\n",
      "map: d\n",
      "filter: D\n"
     ]
    }
   ],
   "source": [
    "sequenceOf(\"a\", \"b\", \"c\", \"d\")\n",
    "    .map {\n",
    "        println(\"map: $it\")\n",
    "        it.toUpperCase()\n",
    "    }\n",
    "    .filter {\n",
    "        println(\"filter: $it\")\n",
    "        it.startsWith(\"a\", ignoreCase = true)\n",
    "    }\n",
    "    .forEach {\n",
    "        println(\"forEach: $it\")\n",
    "    }"
   ]
  },
  {
   "cell_type": "code",
   "execution_count": null,
   "id": "dac79c54",
   "metadata": {},
   "outputs": [],
   "source": []
  },
  {
   "cell_type": "code",
   "execution_count": 16,
   "id": "d5608221",
   "metadata": {},
   "outputs": [
    {
     "name": "stdout",
     "output_type": "stream",
     "text": [
      "filter: a\n",
      "map: a\n",
      "forEach: A\n",
      "filter: b\n",
      "filter: c\n",
      "filter: d\n"
     ]
    }
   ],
   "source": [
    "sequenceOf(\"a\", \"b\", \"c\", \"d\")\n",
    "    .filter {\n",
    "        println(\"filter: $it\")\n",
    "        it.startsWith(\"a\", ignoreCase = true)\n",
    "    }\n",
    "    .map {\n",
    "        println(\"map: $it\")\n",
    "        it.toUpperCase()\n",
    "    }\n",
    "    .forEach {\n",
    "        println(\"forEach: $it\")\n",
    "    }"
   ]
  },
  {
   "cell_type": "code",
   "execution_count": null,
   "id": "8d67afa8",
   "metadata": {},
   "outputs": [],
   "source": []
  },
  {
   "cell_type": "code",
   "execution_count": 17,
   "id": "27fb2884",
   "metadata": {},
   "outputs": [
    {
     "name": "stdout",
     "output_type": "stream",
     "text": [
      "[5, 3, 1]\n",
      "[5, 3, 1]\n"
     ]
    }
   ],
   "source": [
    "// variant 1\n",
    "val list1 = listOf(1, 2, 3, 4, 5)\n",
    "    .asSequence()\n",
    "    .filter { it % 2 == 1 }\n",
    "    .sortedDescending()\n",
    "    .map { it.toString() }\n",
    "    .toList()\n",
    "\n",
    "println(list1)   // [\"5\", \"3\", \"1\"]\n",
    "\n",
    "// variant 2\n",
    "val list2 = listOf(1, 2, 3, 4, 5)\n",
    "    .filter { it % 2 == 1 }\n",
    "    .sortedDescending()\n",
    "    .map { it.toString() }\n",
    "\n",
    "println(list2)   // [\"5\", \"3\", \"1\"]"
   ]
  },
  {
   "cell_type": "code",
   "execution_count": null,
   "id": "6ca127e6",
   "metadata": {},
   "outputs": [],
   "source": []
  },
  {
   "cell_type": "code",
   "execution_count": 18,
   "id": "0494ce36",
   "metadata": {},
   "outputs": [
    {
     "name": "stdout",
     "output_type": "stream",
     "text": [
      "[Anna, Sonya]"
     ]
    }
   ],
   "source": [
    "data class Person(val name: String, val age: Int)\n",
    "\n",
    "val persons = listOf(\n",
    "    Person(\"Peter\", 16),\n",
    "    Person(\"Anna\", 23),\n",
    "    Person(\"Anna\", 28),\n",
    "    Person(\"Sonya\", 39)\n",
    ")\n",
    "\n",
    "val names = persons\n",
    "    .asSequence()\n",
    "    .filter { it.age > 18 }\n",
    "    .map { it.name }\n",
    "    .distinct()\n",
    "    .sorted()\n",
    "    .toList()\n",
    "\n",
    "print(names)     // [Anna, Sonya]"
   ]
  },
  {
   "cell_type": "code",
   "execution_count": null,
   "id": "33177ef2",
   "metadata": {},
   "outputs": [],
   "source": []
  },
  {
   "cell_type": "code",
   "execution_count": 19,
   "id": "f4785b5c",
   "metadata": {},
   "outputs": [
    {
     "name": "stdout",
     "output_type": "stream",
     "text": [
      "[Person(name=Peter, age=16), Person(name=Anna, age=23), Person(name=Anna, age=28), Person(name=Sonya, age=39)]"
     ]
    }
   ],
   "source": [
    "val result = persons\n",
    "    .asSequence()\n",
    "    .sortedBy { it.age }\n",
    "    .toList()\n",
    "\n",
    "print(result) "
   ]
  },
  {
   "cell_type": "code",
   "execution_count": 20,
   "id": "2427e6c4",
   "metadata": {},
   "outputs": [
    {
     "name": "stdout",
     "output_type": "stream",
     "text": [
      "[Person(name=Peter, age=16), Person(name=Anna, age=23), Person(name=Sonya, age=39)]"
     ]
    }
   ],
   "source": [
    "val result = persons\n",
    "    .asSequence()\n",
    "    .distinctBy { it.name }\n",
    "    .toList()\n",
    "\n",
    "print(result) "
   ]
  },
  {
   "cell_type": "code",
   "execution_count": 21,
   "id": "370c74b3",
   "metadata": {},
   "outputs": [
    {
     "name": "stdout",
     "output_type": "stream",
     "text": [
      "Person(name=Sonya, age=39)"
     ]
    }
   ],
   "source": [
    "val result = persons\n",
    "    .asSequence()\n",
    "    .maxByOrNull { it.age }\n",
    "\n",
    "print(result)"
   ]
  },
  {
   "cell_type": "code",
   "execution_count": 22,
   "id": "e4ad1ab2",
   "metadata": {},
   "outputs": [
    {
     "name": "stdout",
     "output_type": "stream",
     "text": [
      "{Peter=[Person(name=Peter, age=16)], Anna=[Person(name=Anna, age=23), Person(name=Anna, age=28)], Sonya=[Person(name=Sonya, age=39)]}"
     ]
    }
   ],
   "source": [
    "val result = persons\n",
    "    .asSequence()\n",
    "    .groupBy { it.name }\n",
    "\n",
    "print(result)  "
   ]
  },
  {
   "cell_type": "code",
   "execution_count": 23,
   "id": "84ac8f39",
   "metadata": {},
   "outputs": [
    {
     "name": "stdout",
     "output_type": "stream",
     "text": [
      "{Peter=Person(name=Peter, age=16), Anna=Person(name=Anna, age=28), Sonya=Person(name=Sonya, age=39)}"
     ]
    }
   ],
   "source": [
    "val result = persons\n",
    "    .asSequence()\n",
    "    .associateBy { it.name }\n",
    "\n",
    "print(result) "
   ]
  },
  {
   "cell_type": "code",
   "execution_count": 24,
   "id": "248fc317",
   "metadata": {},
   "outputs": [
    {
     "name": "stdout",
     "output_type": "stream",
     "text": [
      "false"
     ]
    }
   ],
   "source": [
    "val result = sequenceOf(1, 2, 3, 4, 5)\n",
    "    .filter { it % 2 == 1 }\n",
    "    .any { it % 2 == 0 }\n",
    "\n",
    "print(result)"
   ]
  },
  {
   "cell_type": "code",
   "execution_count": 25,
   "id": "6cbb9fe5",
   "metadata": {},
   "outputs": [
    {
     "name": "stdout",
     "output_type": "stream",
     "text": [
      "[a, c]"
     ]
    }
   ],
   "source": [
    "val result = sequenceOf(\"a\", \"b\", \"c\", \"d\")\n",
    "    .withIndex()\n",
    "    .filter { it.index % 2 == 0 }\n",
    "    .map { it.value }\n",
    "    .toList()\n",
    "\n",
    "print(result)  "
   ]
  },
  {
   "cell_type": "code",
   "execution_count": 26,
   "id": "8da97a76",
   "metadata": {},
   "outputs": [
    {
     "name": "stdout",
     "output_type": "stream",
     "text": [
      "[A, B, D]"
     ]
    }
   ],
   "source": [
    "val result = sequenceOf(\"a\", \"b\", \"c\")\n",
    "    .plus(\"d\")\n",
    "    .minus(\"c\")\n",
    "    .map { it.toUpperCase() }\n",
    "    .toList()\n",
    "\n",
    "print(result) "
   ]
  },
  {
   "cell_type": "code",
   "execution_count": 27,
   "id": "7dd78ab6",
   "metadata": {},
   "outputs": [
    {
     "name": "stdout",
     "output_type": "stream",
     "text": [
      "[1, 3, 5]"
     ]
    }
   ],
   "source": [
    "val result = sequenceOf(listOf(1, 2, 3), listOf(4, 5, 6))\n",
    "    .flatMap {\n",
    "        it.asSequence().filter { it % 2 == 1 }\n",
    "    }\n",
    "    .toList()\n",
    "\n",
    "print(result) "
   ]
  },
  {
   "cell_type": "code",
   "execution_count": 28,
   "id": "f38fca7d",
   "metadata": {},
   "outputs": [
    {
     "name": "stdout",
     "output_type": "stream",
     "text": [
      "Peter, Anna, Sonya"
     ]
    }
   ],
   "source": [
    "val result = persons\n",
    "    .asSequence()\n",
    "    .map { it.name }\n",
    "    .distinct()\n",
    "    .joinToString();\n",
    "\n",
    "print(result) "
   ]
  },
  {
   "cell_type": "code",
   "execution_count": 29,
   "id": "c2926e74",
   "metadata": {},
   "outputs": [],
   "source": [
    "fun <T> Sequence<T>.shuffle(): Sequence<T> {\n",
    "    return toMutableList()\n",
    "        .apply { shuffle() }\n",
    "        .asSequence()\n",
    "}"
   ]
  },
  {
   "cell_type": "code",
   "execution_count": 30,
   "id": "d35eff4b",
   "metadata": {},
   "outputs": [
    {
     "name": "stdout",
     "output_type": "stream",
     "text": [
      "[2, 1, 5, 4, 3]"
     ]
    }
   ],
   "source": [
    "val result = sequenceOf(1, 2, 3, 4, 5)\n",
    "    .shuffle()\n",
    "    .toList()\n",
    "\n",
    "print(result)  "
   ]
  },
  {
   "cell_type": "code",
   "execution_count": null,
   "id": "a60ddfed",
   "metadata": {},
   "outputs": [],
   "source": []
  }
 ],
 "metadata": {
  "kernelspec": {
   "display_name": "Kotlin",
   "language": "kotlin",
   "name": "kotlin"
  },
  "language_info": {
   "codemirror_mode": "text/x-kotlin",
   "file_extension": ".kt",
   "mimetype": "text/x-kotlin",
   "name": "kotlin",
   "nbconvert_exporter": "",
   "pygments_lexer": "kotlin",
   "version": "1.7.0-dev-1825"
  }
 },
 "nbformat": 4,
 "nbformat_minor": 5
}
