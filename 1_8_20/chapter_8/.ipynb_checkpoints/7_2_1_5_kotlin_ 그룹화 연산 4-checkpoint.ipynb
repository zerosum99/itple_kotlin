{
 "cells": [
  {
   "cell_type": "code",
   "execution_count": null,
   "id": "527df6a9",
   "metadata": {},
   "outputs": [],
   "source": []
  },
  {
   "cell_type": "code",
   "execution_count": 1,
   "id": "c78ab323",
   "metadata": {},
   "outputs": [
    {
     "data": {
      "text/plain": [
       "1.8.20"
      ]
     },
     "execution_count": 1,
     "metadata": {},
     "output_type": "execute_result"
    }
   ],
   "source": [
    "KotlinVersion.CURRENT             // 코틀린 현재 버전 "
   ]
  },
  {
   "cell_type": "code",
   "execution_count": null,
   "id": "ddf89837",
   "metadata": {},
   "outputs": [],
   "source": []
  },
  {
   "cell_type": "markdown",
   "id": "9aefe4b7",
   "metadata": {},
   "source": [
    "## 그룹화 처리\n",
    "\n",
    "groupBy, groupByTo, groupingBy"
   ]
  },
  {
   "cell_type": "code",
   "execution_count": 2,
   "id": "ef0a5d63",
   "metadata": {},
   "outputs": [
    {
     "name": "stdout",
     "output_type": "stream",
     "text": [
      "B : [제주, 서울]\n",
      "A : [상하이, 베를린]\n",
      "B : [제주, 서울]\n",
      "A : [상하이, 베를린]\n"
     ]
    }
   ],
   "source": [
    "val cities = listOf(\"제주\",\"서울\",\"상하이\",\"베를린\")\n",
    "\n",
    "val keySelector = {  city: String ->                    // 람다표현식 저의\n",
    "                     if(city.length == 3) \"A\" else \"B\"}\n",
    "\n",
    " \n",
    "cities.groupBy(keySelector)                              // 함수 전달을 해서 그룹화 처리\n",
    "    .forEach { (key, value) ->                           // 맵으로 구성된 결과를 출력\n",
    "        println(\"$key : $value\")}\n",
    "\n",
    "cities.groupBy { if(it.length == 3) \"A\" else \"B\" }       // 람다를 바로 전달해서 처리\n",
    "      .forEach { (key, value) ->\n",
    "      println(\"$key : $value\")}"
   ]
  },
  {
   "cell_type": "code",
   "execution_count": null,
   "id": "6edfa3fb",
   "metadata": {},
   "outputs": [],
   "source": []
  },
  {
   "cell_type": "code",
   "execution_count": null,
   "id": "c2d04719",
   "metadata": {},
   "outputs": [],
   "source": []
  },
  {
   "cell_type": "markdown",
   "id": "6b0a995f",
   "metadata": {},
   "source": [
    "## groupby1\n",
    "\n",
    "\n",
    "– groupBy :\n",
    "\n",
    "  Map객체 를 반환\n",
    "에 의해 값을 변경합니다.valueTransform\n",
    "destination결과적으로 변경 가능한 Map을 얻기 위해 객체 를 전달할 수 있습니다.\n",
    "– grouping 기준 :\n",
    "\n",
    "  Grouping객체 를 반환\n",
    "가 없으므로 , , , … 등의 방법으로 valueTransform값을 변경합니다 .GroupingeachCount()fold()reduce()aggregate()\n",
    "변경 가능한 Map을 반환하는 간단한 방법을 제공하지 않습니다."
   ]
  },
  {
   "cell_type": "code",
   "execution_count": null,
   "id": "95d250f2",
   "metadata": {},
   "outputs": [],
   "source": []
  },
  {
   "cell_type": "code",
   "execution_count": 3,
   "id": "cc48c5f4",
   "metadata": {},
   "outputs": [
    {
     "name": "stdout",
     "output_type": "stream",
     "text": [
      "class java.util.LinkedHashMap\n",
      "그룹화 키 : [토끼, 개, 돼지, 고양이, 원숭이]\n",
      "그룹화 값 : [Animals(name=Poppy, species=토끼, age=4)]\n",
      "class java.util.LinkedHashMap$LinkedValues\n",
      "null\n",
      "true\n"
     ]
    }
   ],
   "source": [
    "data class Animals(var name: String,                 // 데이터 클래스 정의 \n",
    "                   var species: String, \n",
    "                   var age: Int )\n",
    "var animals = listOf(                                //  리스트 생성 \n",
    "        Animals(\"Poppy\", \"토끼\", 4),\n",
    "        Animals(\"Meong\", \"개\", 8),\n",
    "        Animals(\"Mong\", \"개\", 12),\n",
    "        Animals(\"Holly\", \"돼지\", 3),\n",
    "        Animals(\"Jimmy\", \"고양이\", 10),\n",
    "        Animals(\"Hammy\", \"원숭이\", 2)\n",
    ")\n",
    "\n",
    "val grouped = animals.groupBy { ani -> ani.species }             // 종으로 그룹화 \n",
    "println(grouped.javaClass.kotlin)                                // 그룹화 클래스 \n",
    "\n",
    "println(\"그룹화 키 : \" + grouped.keys)                             // 그룹화 범주가 키  \n",
    "println(\"그룹화 값 : \" + grouped.values.toList()[0])               //  값들 확인 \n",
    "\n",
    "println(grouped.values.javaClass)\n",
    "\n",
    "val grouped1 = animals.groupByTo(mutableMapOf()) { it.species }  // 맵에 그룹화시키기 \n",
    "println(grouped1[\"rabbit\"])\n",
    "\n",
    "println(grouped == grouped1)  "
   ]
  },
  {
   "cell_type": "code",
   "execution_count": null,
   "id": "a11ea5cc",
   "metadata": {},
   "outputs": [],
   "source": []
  },
  {
   "cell_type": "markdown",
   "id": "3862e1bb",
   "metadata": {},
   "source": [
    "## 그룹화 처리 "
   ]
  },
  {
   "cell_type": "code",
   "execution_count": 4,
   "id": "f7816c03",
   "metadata": {},
   "outputs": [
    {
     "name": "stdout",
     "output_type": "stream",
     "text": [
      "[(가을, 15), (가름, 25), (겨봄, 25), (겨울, 22)]\n",
      "Person(name=가을, age=15)\n",
      "Person(name=가름, age=25)\n",
      "Person(name=겨봄, age=25)\n",
      "Person(name=겨울, age=22)\n",
      "15=[Person(name=가을, age=15)]\n",
      "25=[Person(name=가름, age=25), Person(name=겨봄, age=25)]\n",
      "22=[Person(name=겨울, age=22)]\n"
     ]
    }
   ],
   "source": [
    "data class Person (val name: String, val age: Int )         // 데이터 클래스 정의        \n",
    "\n",
    "val names = listOf(\"가을\", \"가름\",\"겨봄\", \"겨울\",)\n",
    "val ages = listOf(15, 25, 25, 22,)\n",
    "\n",
    "println(names.zip(ages))                                    // 두 개를 묶어서 튜플 구성\n",
    "names.zip(ages) {name,age -> Person(name,age)}              // 데이터 클래스 객체 생성 \n",
    "                             .forEach {println(it)}         // 출력 \n",
    "\n",
    "fun people (): Map<Int, List<Person>>  =                    // 그룹화 처리 함수\n",
    "  (names.zip(ages) { name, age ->Person (name, age)})\n",
    "                               .groupBy (Person::age)\n",
    "\n",
    "val map : Map<Int, List<Person>> = people()                 // 객체를 생성한 후 에 나이로 그룹화 \n",
    "map.forEach {println(it)}                                   // 그룹화된 것을 출력 \n"
   ]
  },
  {
   "cell_type": "code",
   "execution_count": null,
   "id": "13f9668b",
   "metadata": {},
   "outputs": [],
   "source": []
  },
  {
   "cell_type": "code",
   "execution_count": null,
   "id": "61522f19",
   "metadata": {},
   "outputs": [],
   "source": []
  },
  {
   "cell_type": "markdown",
   "id": "81e10867",
   "metadata": {},
   "source": [
    "## 그루핑 처리"
   ]
  },
  {
   "cell_type": "code",
   "execution_count": 5,
   "id": "c30529f6",
   "metadata": {},
   "outputs": [
    {
     "name": "stdout",
     "output_type": "stream",
     "text": [
      "5=2\n",
      "6=1\n",
      "{h=1, e=1, l=3, o=2, w=1, r=1, d=1}\n",
      "{1=1, 3=3, 5=2}\n"
     ]
    }
   ],
   "source": [
    "val ss = listOf(\"hello\", \"world\", \"kotlin\")                  // 단어길이로 그룹화      \n",
    "                    .groupingBy{it.length}.eachCount()       // 그룹화하고 개수세기 \n",
    "\n",
    "ss.forEach {println(it)}\n",
    "\n",
    "val result = \"helloWordl\"                                     // 문자열내의 단어로\n",
    "                    .groupingBy(Char::lowercase).eachCount()  // 그룹화하고 개수세기\n",
    "println(result) \n",
    "\n",
    "val uniqueLengthWord = \n",
    "    listOf(\"a\", \"aha\", \"world\", \"hello\", \"the\", \"dog\")        // 리스트 내의 각 단어별로\n",
    "                          .groupingBy{it.length}.eachCount()  // 그룹화하고 개수세기\n",
    "println(uniqueLengthWord)"
   ]
  },
  {
   "cell_type": "code",
   "execution_count": null,
   "id": "cb5ebdb1",
   "metadata": {},
   "outputs": [],
   "source": []
  },
  {
   "cell_type": "code",
   "execution_count": 6,
   "id": "67a59593",
   "metadata": {},
   "outputs": [
    {
     "name": "stdout",
     "output_type": "stream",
     "text": [
      "M=4\n",
      "F=4\n",
      "1=5\n",
      "2=3\n",
      "M=663\n",
      "F=620\n"
     ]
    }
   ],
   "source": [
    "data class Student(val name: String,                   // 데이터 클래스 만들기 \n",
    "                   val room: Int, \n",
    "                   val sex: String, \n",
    "                   val height: Int, \n",
    "                   val weight: Double)\n",
    "\n",
    "val students = listOf(                                  // 리스트 만들기\n",
    "     Student(\"맥도널드\", 1, \"M\", 165, 56.8),\n",
    "     Student(\"미니\", 1, \"F\", 155, 53.2),\n",
    "     Student(\"모솔\", 1, \"M\", 165, 67.3),\n",
    "     Student(\"현솔\", 2, \"M\", 168, 65.6),\n",
    "     Student(\"강솔\", 2, \"F\", 155, 48.9),\n",
    "     Student(\"장수\", 1, \"M\", 165, 54.1),\n",
    "     Student(\"장나라\", 2, \"F\", 155, 51.2),\n",
    "     Student(\"주소연\", 1, \"F\", 155, 53.6))\n",
    "\n",
    "\n",
    "val s = students.groupingBy { it.sex }.eachCount()       // 성별로 그룹해서 개수 세기 \n",
    "s.forEach { println(it) }\n",
    "\n",
    "val s1 = students.groupingBy { it.room }.eachCount()     // 룸으로 그룹해서 개수 세게 \n",
    "s1.forEach { println(it) }\n",
    "                                                         // 성별로 그룹화헤서 키합산하기\n",
    "val s2 = students.groupingBy { it.sex }\n",
    "    .fold(0) { acc, element -> acc + element.height }\n",
    "s2.forEach { println(it) }"
   ]
  },
  {
   "cell_type": "code",
   "execution_count": null,
   "id": "22a98bf2",
   "metadata": {},
   "outputs": [],
   "source": []
  },
  {
   "cell_type": "code",
   "execution_count": null,
   "id": "2e3d165f",
   "metadata": {},
   "outputs": [],
   "source": []
  },
  {
   "cell_type": "code",
   "execution_count": null,
   "id": "31caae8c",
   "metadata": {},
   "outputs": [],
   "source": []
  }
 ],
 "metadata": {
  "kernelspec": {
   "display_name": "Kotlin",
   "language": "kotlin",
   "name": "kotlin"
  },
  "language_info": {
   "codemirror_mode": "text/x-kotlin",
   "file_extension": ".kt",
   "mimetype": "text/x-kotlin",
   "name": "kotlin",
   "nbconvert_exporter": "",
   "pygments_lexer": "kotlin",
   "version": "1.8.20-Beta"
  }
 },
 "nbformat": 4,
 "nbformat_minor": 5
}
