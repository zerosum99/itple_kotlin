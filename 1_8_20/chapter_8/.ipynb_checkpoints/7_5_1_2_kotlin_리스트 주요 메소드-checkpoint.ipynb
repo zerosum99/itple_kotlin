{
 "cells": [
  {
   "cell_type": "markdown",
   "id": "fab6685e",
   "metadata": {},
   "source": [
    "## 리스트 속성 "
   ]
  },
  {
   "cell_type": "code",
   "execution_count": 1,
   "id": "cf3afb2e",
   "metadata": {},
   "outputs": [
    {
     "name": "stdout",
     "output_type": "stream",
     "text": [
      "List = [a, b, c]\n",
      "First = a\n",
      "Last  = c\n",
      "size  = 3\n",
      "List = [a, b, c]\n",
      "First = a\n",
      "Last  = c\n",
      "size  = 3\n",
      "List = [지구, 수성, 목성]\n",
      "First = 지구\n",
      "Last  = 목성\n",
      "size  = 3\n"
     ]
    }
   ],
   "source": [
    "import java.util.LinkedList                 // 링크드 리스트 클래스 \n",
    "\n",
    "fun listPrint(lst : List<Any>) : Unit {     // 최상위 자료형으로 지정 \n",
    "    println(\"List = \" + lst)\n",
    "    println(\"First = \" + lst.first())       // 첫번째 원소\n",
    "    println(\"Last  = \" + lst.last())        // 마지막 원소 \n",
    "    println(\"size  = \" + lst.size)          // 원소의 개수\n",
    "}\n",
    "\n",
    "val ml00 = mutableListOf(\"a\",\"b\",\"c\")        //arraylist 객체생성 \n",
    "val ll00 = listOf(\"a\",\"b\",\"c\")\n",
    "\n",
    "var planets00 =  LinkedList<String>()        // 링크드 리스트 생성 \n",
    "planets00.addAll(listOf(\"지구\", \"수성\", \"목성\"))\n",
    "\n",
    "listPrint(ml00)                              // 인자로 전달 \n",
    "listPrint(ll00)                              // 리스트 내부에 지정된 속성은 처리가 잘됨 \n",
    "listPrint(planets00)"
   ]
  },
  {
   "cell_type": "markdown",
   "id": "4d6d284f",
   "metadata": {},
   "source": [
    "## 링크드 리스트 처리 "
   ]
  },
  {
   "cell_type": "code",
   "execution_count": null,
   "id": "23077ea9",
   "metadata": {},
   "outputs": [],
   "source": []
  },
  {
   "cell_type": "code",
   "execution_count": 2,
   "id": "0052c036",
   "metadata": {},
   "outputs": [],
   "source": [
    "import java.util.LinkedList                    // 링크드 리스트 클래스 \n",
    "\n",
    "fun listAdd(lst: List<*>) :Unit{               // 리스트 인터페이스로 처리 \n",
    "\n",
    "    if (lst is LinkedList<*>) {                // 링크드 리스트로 타입 체크 \n",
    "                                               // 리스트에 없는 메소드들 처리를 위해 \n",
    "        val llst  = lst as LinkedList<String>  // 객체에 명확한 타입을 지정 \n",
    "                                               // 메소드들 처리 \n",
    "        llst.addFirst(\"금성\")                   // 첫번째 위치에 추가 \n",
    "        println(\"addFirst = \" + llst)\n",
    "        llst.addLast(\"명황성\")                   // 마지막 위치에 추가 \n",
    "        println(\"addLast = \" + llst)\n",
    "        llst.add(2, \"토성\")                      // 인덱스 지정 위치에 추가 \n",
    "        println(\"add = \" + llst)\n",
    "        llst.removeFirst()                      // 첫번째 제거 \n",
    "        println(\"removeFirst = \" + llst)\n",
    "        llst.removeLast()                       // 마지막 제거 \n",
    "        println(\"removeLast = \" + llst)\n",
    "        println(\"contains = \" + llst.contains(\"명황성\"))  // 포함여부 \n",
    "        llst.removeIf { x -> x.startsWith(\"목\") }         // 람다함수 조건이 참이면 제거 \n",
    "        println(\"removeIf = \" + llst)\n",
    "        llst.reverse()                           // 역정렬  -> 내부 변경                                  \n",
    "        println(\"reverse  = \" + llst)\n",
    "        println(\"reversed = \" +llst.reversed())  // 역정렬 -> 새로운 객체만듬\n",
    "        println(\"count = \" + llst.count())\n",
    "        println(\"count 고차함수 =\" + llst.count { x -> x.endsWith(\"성\") })  // 람다함수 조건이 맞은 경우 개수\n",
    "        llst.addAll(listOf(\"지구\",\"금성\",\"토성\"))\n",
    "        println(\"addAll =\" + llst)\n",
    "        println(\"distinct =\" + llst.distinct())   // 중복 제거\n",
    "    }\n",
    "\n",
    "}"
   ]
  },
  {
   "cell_type": "code",
   "execution_count": null,
   "id": "48a43873",
   "metadata": {},
   "outputs": [],
   "source": []
  },
  {
   "cell_type": "code",
   "execution_count": 3,
   "id": "a32c4457",
   "metadata": {},
   "outputs": [
    {
     "name": "stdout",
     "output_type": "stream",
     "text": [
      "addFirst = [금성, 지구, 수성, 목성]\n",
      "addLast = [금성, 지구, 수성, 목성, 명황성]\n",
      "add = [금성, 지구, 토성, 수성, 목성, 명황성]\n",
      "removeFirst = [지구, 토성, 수성, 목성, 명황성]\n",
      "removeLast = [지구, 토성, 수성, 목성]\n",
      "contains = false\n",
      "removeIf = [지구, 토성, 수성]\n",
      "reverse  = [수성, 토성, 지구]\n",
      "reversed = [지구, 토성, 수성]\n",
      "count = 3\n",
      "count 고차함수 =2\n",
      "addAll =[수성, 토성, 지구, 지구, 금성, 토성]\n",
      "distinct =[수성, 토성, 지구, 금성]\n"
     ]
    }
   ],
   "source": [
    "var planets =  LinkedList<String>()\n",
    "planets.addAll(listOf(\"지구\", \"수성\", \"목성\"))\n",
    "listAdd(planets)"
   ]
  },
  {
   "cell_type": "markdown",
   "id": "bb57c07e",
   "metadata": {},
   "source": [
    "## 리스트 조회"
   ]
  },
  {
   "cell_type": "code",
   "execution_count": 4,
   "id": "2caec045",
   "metadata": {},
   "outputs": [],
   "source": [
    "fun getElement(lst: List<*>) :Unit{           // 리스트 인터페이스로 처리 \n",
    "    \n",
    "    println(lst)\n",
    "    \n",
    "    var llst = lst \n",
    "    fun inner() {                             // 내부함수 정의\n",
    "        println(llst[1])                      // 연산자로 원소 조회 \n",
    "        println(llst.get(1))                  // 메소드로 원소 조회\n",
    "        println(llst.getOrNull(2))            // 메소드로 원소 조회 : 널값처리 \n",
    "        println(llst.getOrElse(2, {\"0\"}))     // 메소드로 원소 조회 : 초기값처리   \n",
    "    }\n",
    "                                              // 리스트 내부의 세부 자료형을 관리하지 않음 \n",
    "    if (lst is ArrayList<*>) {                // 그래서 자료형을 스타프로젝션으로 확인                \n",
    "        llst  = lst as ArrayList<Int>         // 객체에 명확한 타입을 지정 \n",
    "        inner()\n",
    "    } else if (lst is List<*>) {              // Arrays$ArrayList는 비공개라서 List<*>로 처리 \n",
    "        llst  = lst.toMutableList()           // 내부의 값을 읽기 위해 가변리스트 타입으로 변경  \n",
    "        inner()\n",
    "    \n",
    "    } else if (lst is LinkedList<*>) {        // 링크드리스트 일때  \n",
    "        llst  = lst as LinkedList<Int>        // 객체에 명확한 타입을 지정 \n",
    "        inner()\n",
    "    }\n",
    "}"
   ]
  },
  {
   "cell_type": "code",
   "execution_count": null,
   "id": "8543e4a5",
   "metadata": {},
   "outputs": [],
   "source": []
  },
  {
   "cell_type": "code",
   "execution_count": 5,
   "id": "6c5e12ae",
   "metadata": {},
   "outputs": [
    {
     "name": "stdout",
     "output_type": "stream",
     "text": [
      "class java.util.Arrays$ArrayList\n",
      "[1, 2, 3, 4, 5]\n",
      "2\n",
      "2\n",
      "3\n",
      "3\n",
      "class java.util.ArrayList\n",
      "[666, 777, 888, 999]\n",
      "777\n",
      "777\n",
      "888\n",
      "888\n",
      "[100, 200, 300, 400]\n",
      "200\n",
      "200\n",
      "300\n",
      "300\n"
     ]
    }
   ],
   "source": [
    "var numsil = listOf<Int>(1,2,3,4,5)       // 불변 리스트\n",
    "println(numsil::class.java.kotlin)\n",
    "getElement(numsil)\n",
    "\n",
    "var numsml =  mutableListOf<Int>()        // 가변 리스트 \n",
    "println(numsml::class)\n",
    "numsml.addAll(listOf(666,777,888,999))\n",
    "getElement(numsml)\n",
    "\n",
    "var numslk =  LinkedList<Int>()           // 링크드 리스트\n",
    "numslk.addAll(listOf(100,200,300,400))\n",
    "getElement(numslk)"
   ]
  },
  {
   "cell_type": "code",
   "execution_count": null,
   "id": "566d32f4",
   "metadata": {},
   "outputs": [],
   "source": []
  },
  {
   "cell_type": "markdown",
   "id": "506d7c14",
   "metadata": {},
   "source": [
    "## 링크드리스트 일때는 확장하수를 통해 원소 변경 가능 "
   ]
  },
  {
   "cell_type": "code",
   "execution_count": 6,
   "id": "f2e74ddb",
   "metadata": {},
   "outputs": [
    {
     "name": "stdout",
     "output_type": "stream",
     "text": [
      "[444, 333]\n",
      "[a, b, c]\n",
      "[a, b, d]\n",
      "200\n",
      "[100, 909090, 300, 400]\n",
      "777\n",
      "[666, 909090, 888, 999]\n",
      "2\n",
      "[1, 999999, 3, 4, 5]\n"
     ]
    }
   ],
   "source": [
    "var ll = mutableListOf<String>()\n",
    "ll.add(\"100\")\n",
    "ll.add(\"300\")\n",
    "ll[0] = \"444\"                                  // 연산자로 변경\n",
    "ll.set(1,\"333\")                                // 메소드로 변경\n",
    "println(ll)\n",
    "\n",
    "val ll2 = listOf(\"a\",\"b\",\"c\")\n",
    "var ll3 = ll2.toMutableList()                  // 변경가능한 리스트로 변환 \n",
    "ll3[2] = \"d\"                                   // 연산자로 변경 \n",
    "val ll4 = ll3.toList()         \n",
    "println(ll2)                                   // 원 리스트는 변경되지 않음 \n",
    "println(ll4)   \n",
    "\n",
    "fun java.util.LinkedList<Int>.setElement(value:Int) :Unit{  // 링크드리스트 확장함수  \n",
    "     println(this[1])\n",
    "     this[1] = value\n",
    "     println(this)  \n",
    "\n",
    "}\n",
    "numslk.setElement(909090)\n",
    "\n",
    "fun MutableList<Int>.setElement(value:Int) :Unit{            // 가변리스트 확장함수  \n",
    "     println(this[1])\n",
    "     this[1] = value\n",
    "     println(this)  \n",
    "\n",
    "}\n",
    "numsml.setElement(909090)\n",
    "numsil.toMutableList().setElement(999999)                    // 불변을 가변으로 변경해서 처리"
   ]
  },
  {
   "cell_type": "code",
   "execution_count": null,
   "id": "a936241f",
   "metadata": {},
   "outputs": [],
   "source": []
  },
  {
   "cell_type": "code",
   "execution_count": null,
   "id": "e3337913",
   "metadata": {},
   "outputs": [],
   "source": []
  },
  {
   "cell_type": "code",
   "execution_count": null,
   "id": "696f241d",
   "metadata": {},
   "outputs": [],
   "source": []
  },
  {
   "cell_type": "code",
   "execution_count": null,
   "id": "1a823638",
   "metadata": {},
   "outputs": [],
   "source": []
  },
  {
   "cell_type": "code",
   "execution_count": null,
   "id": "287a61db",
   "metadata": {},
   "outputs": [],
   "source": []
  },
  {
   "cell_type": "code",
   "execution_count": null,
   "id": "7109c034",
   "metadata": {},
   "outputs": [],
   "source": []
  },
  {
   "cell_type": "code",
   "execution_count": null,
   "id": "a1099ddb",
   "metadata": {},
   "outputs": [],
   "source": []
  },
  {
   "cell_type": "code",
   "execution_count": null,
   "id": "9be0745a",
   "metadata": {},
   "outputs": [],
   "source": []
  },
  {
   "cell_type": "code",
   "execution_count": null,
   "id": "c73e3b0e",
   "metadata": {},
   "outputs": [],
   "source": []
  },
  {
   "cell_type": "code",
   "execution_count": null,
   "id": "d853afc1",
   "metadata": {},
   "outputs": [],
   "source": []
  }
 ],
 "metadata": {
  "kernelspec": {
   "display_name": "Kotlin",
   "language": "kotlin",
   "name": "kotlin"
  },
  "language_info": {
   "codemirror_mode": "text/x-kotlin",
   "file_extension": ".kt",
   "mimetype": "text/x-kotlin",
   "name": "kotlin",
   "nbconvert_exporter": "",
   "pygments_lexer": "kotlin",
   "version": "1.7.0-dev-1825"
  }
 },
 "nbformat": 4,
 "nbformat_minor": 5
}
