{
 "cells": [
  {
   "cell_type": "code",
   "execution_count": null,
   "id": "44a066ed",
   "metadata": {},
   "outputs": [],
   "source": []
  },
  {
   "cell_type": "code",
   "execution_count": 1,
   "id": "05bda407",
   "metadata": {},
   "outputs": [
    {
     "data": {
      "text/plain": [
       "1.8.20"
      ]
     },
     "execution_count": 1,
     "metadata": {},
     "output_type": "execute_result"
    }
   ],
   "source": [
    "KotlinVersion.CURRENT             // 코틀린 현재 버전 "
   ]
  },
  {
   "cell_type": "code",
   "execution_count": null,
   "id": "fa63e4d3",
   "metadata": {},
   "outputs": [],
   "source": []
  },
  {
   "cell_type": "markdown",
   "id": "c11e1432",
   "metadata": {},
   "source": [
    "## 스택사용하기"
   ]
  },
  {
   "cell_type": "code",
   "execution_count": 2,
   "id": "f40c20cb",
   "metadata": {},
   "outputs": [
    {
     "name": "stdout",
     "output_type": "stream",
     "text": [
      "스택 상태 빈상태 =true\n",
      "스택 상태 확인 =[A, B, C, D]\n",
      "첫번째 원소 빼기 = D\n",
      "스택 상태 확인 =[A, B, C]\n",
      "다음에 뺄 원소 확인 =C\n",
      "스택 내부 원소 찾기 =3\n"
     ]
    }
   ],
   "source": [
    "import java.util.Stack                            // 자바 스택을 사용 \n",
    "\n",
    "val stack = Stack<Char>()                         // 빈 스택을 하나만든다 \n",
    "\n",
    "println(\"스택 상태 빈상태 =\" +stack.empty())          // 상태를 확인한다.\n",
    "\n",
    "stack.push('A')                                   // 스택에 추가한다 \n",
    "stack.push('B')\n",
    "stack.push('C')\n",
    "stack.push('D')\n",
    "\n",
    "println(\"스택 상태 확인 =\" + stack)                   // 스택 상태를 확인한다. \n",
    "\n",
    "println(\"첫번째 원소 빼기 = \" + stack.pop())          // 스택에서 하나를 제거한다 \n",
    "println(\"스택 상태 확인 =\" + stack)\n",
    "println(\"다음에 뺄 원소 확인 =\" + stack.peek())       //다음 제거할 것을 확인한다 \n",
    "\n",
    "println(\"스택 내부 원소 찾기 =\" + stack.search('A'))  // 스택 내의 저장된 것을 검색"
   ]
  },
  {
   "cell_type": "code",
   "execution_count": null,
   "id": "c3b2f04b",
   "metadata": {},
   "outputs": [],
   "source": []
  },
  {
   "cell_type": "markdown",
   "id": "18ca9941",
   "metadata": {},
   "source": [
    "## arraydeque로 스택 만들기"
   ]
  },
  {
   "cell_type": "code",
   "execution_count": 3,
   "id": "39b69255",
   "metadata": {},
   "outputs": [
    {
     "name": "stdout",
     "output_type": "stream",
     "text": [
      "스택 상태 확인 =true\n",
      "스택 전체 확인 =[4, 3, 2, 1]\n",
      "스택 상태 확인 =false\n",
      "첫번째 뺄 원소확인 =4\n",
      "스택 전체 확인 =[4, 3, 2, 1]\n",
      "첫번째 원소 빼기 =4\n",
      "스택 전체 확인 =[3, 2, 1]\n",
      "스택 전체 확인 =[9, 3, 2, 1]\n"
     ]
    }
   ],
   "source": [
    "import java.util.ArrayDeque                      // 데큐 를 사용한다 \n",
    "\n",
    "var stack = ArrayDeque<Int>()                    // 객체를 만든다 \n",
    "println(\"스택 상태 확인 =\" + stack.isEmpty())       // 빈상태 \n",
    "stack.push(1)                                    // 스택에 데이터를 올린다 \n",
    "stack.push(2)\n",
    "stack.push(3)\n",
    "stack.push(4)\n",
    "println(\"스택 전체 확인 =\" + stack)                 // 스택상태 확인              \n",
    "println(\"스택 상태 확인 =\" + stack.isEmpty())    \n",
    "println(\"첫번째 뺄 원소확인 =\" + stack.peek())       // 스택에서 제일먼저 소거할 것을 확인    \n",
    "println(\"스택 전체 확인 =\" + stack)  \n",
    "\n",
    "println(\"첫번째 원소 빼기 =\" +stack.pop())          // 스택에서 제거   \n",
    "println(\"스택 전체 확인 =\" + stack)  \n",
    "\n",
    "stack.push(9)                                   // 스택에 추가\n",
    "println(\"스택 전체 확인 =\" + stack)  "
   ]
  },
  {
   "cell_type": "code",
   "execution_count": null,
   "id": "c9f2e33f",
   "metadata": {},
   "outputs": [],
   "source": []
  },
  {
   "cell_type": "markdown",
   "id": "8a00817c",
   "metadata": {},
   "source": [
    "## 코틀린에서 스택만들기"
   ]
  },
  {
   "cell_type": "code",
   "execution_count": 4,
   "id": "3a59079e",
   "metadata": {},
   "outputs": [
    {
     "name": "stdout",
     "output_type": "stream",
     "text": [
      "스택 상태확인 =true\n",
      "첫번째 뺄 원소 확인 =2\n",
      "첫번째 원소 꺼내개 =2\n",
      "스택 상태확인 =true\n"
     ]
    }
   ],
   "source": [
    "typealias StackM<T> = MutableList<T>                  // 변경가능한 리스트로 스택별칭지정 \n",
    "\n",
    "\n",
    "fun <T> StackM<T>.push(item: T) = add(item)            // 스택 추가 확장함수 작성    \n",
    "fun <T> StackM<T>.pop(): T? = \n",
    "      if (isNotEmpty()) removeAt(lastIndex) else null  // 스택 제거 확장함수 작성 \n",
    "fun <T> StackM<T>.peek(): T? = \n",
    "      if (isNotEmpty()) this[lastIndex] else null      // 스택 다음 제거 확장함수 작성 \n",
    "\n",
    "\n",
    "val myStack: StackM<Int> = mutableListOf<Int>()        // 빈 스택만들기 \n",
    "\n",
    "println(\"스택 상태확인 =\" + myStack.isEmpty())            // 상태는 기존 메소드 사용 \n",
    "myStack.push(1)                                        // 추가 \n",
    "myStack.push(2)\n",
    "println(\"첫번째 뺄 원소 확인 =\" + myStack.peek())          // 검색 \n",
    "println(\"첫번째 원소 꺼내개 =\" + myStack.pop())            // 제거\n",
    "println(\"스택 상태확인 =\" + myStack.isNotEmpty())"
   ]
  },
  {
   "cell_type": "code",
   "execution_count": null,
   "id": "0631101d",
   "metadata": {},
   "outputs": [],
   "source": []
  },
  {
   "cell_type": "code",
   "execution_count": null,
   "id": "348782e9",
   "metadata": {},
   "outputs": [],
   "source": []
  }
 ],
 "metadata": {
  "kernelspec": {
   "display_name": "Kotlin",
   "language": "kotlin",
   "name": "kotlin"
  },
  "language_info": {
   "codemirror_mode": "text/x-kotlin",
   "file_extension": ".kt",
   "mimetype": "text/x-kotlin",
   "name": "kotlin",
   "nbconvert_exporter": "",
   "pygments_lexer": "kotlin",
   "version": "1.8.20-Beta"
  }
 },
 "nbformat": 4,
 "nbformat_minor": 5
}
