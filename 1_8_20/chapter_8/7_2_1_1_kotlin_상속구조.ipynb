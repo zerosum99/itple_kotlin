{
 "cells": [
  {
   "cell_type": "code",
   "execution_count": null,
   "id": "b6e7cfbc",
   "metadata": {},
   "outputs": [],
   "source": []
  },
  {
   "cell_type": "code",
   "execution_count": 1,
   "id": "dc17a663",
   "metadata": {},
   "outputs": [
    {
     "data": {
      "text/plain": [
       "1.7.20"
      ]
     },
     "execution_count": 1,
     "metadata": {},
     "output_type": "execute_result"
    }
   ],
   "source": [
    "KotlinVersion.CURRENT             // 코틀린 현재 버전 "
   ]
  },
  {
   "cell_type": "code",
   "execution_count": null,
   "id": "56a54d9d",
   "metadata": {},
   "outputs": [],
   "source": []
  },
  {
   "cell_type": "markdown",
   "id": "42712e50",
   "metadata": {},
   "source": [
    "## 컬렉션이 대표 클래스 "
   ]
  },
  {
   "cell_type": "code",
   "execution_count": 2,
   "id": "d68cb92b",
   "metadata": {},
   "outputs": [
    {
     "name": "stdout",
     "output_type": "stream",
     "text": [
      " 반복형  = class kotlin.collections.Iterable \n",
      " 시퀀스  = class kotlin.sequences.Sequence \n",
      " 배열    = class kotlin.Array \n",
      " 맵     = class kotlin.collections.Map \n",
      " 집합    = class kotlin.collections.Set \n"
     ]
    }
   ],
   "source": [
    "val i = Iterable::class              // 리스트 최상위 인터페이스\n",
    "val s = Sequence::class              // 시퀀스 최상위 인터페이스\n",
    "val a = Array::class                 // 배열 최상위  클래스\n",
    "val m = Map::class                   // 맵 최상위  인터페이스 \n",
    "val ss = Set::class                  // 집합 최상위 인터페이스\n",
    "\n",
    "println(\" 반복형  = $i \")\n",
    "println(\" 시퀀스  = $s \")\n",
    "println(\" 배열    = $a \")\n",
    "println(\" 맵     = $m \")\n",
    "println(\" 집합    = $ss \")"
   ]
  },
  {
   "cell_type": "markdown",
   "id": "0227778a",
   "metadata": {},
   "source": [
    "## 상속관계"
   ]
  },
  {
   "cell_type": "code",
   "execution_count": 3,
   "id": "8962e1fc",
   "metadata": {},
   "outputs": [
    {
     "name": "stdout",
     "output_type": "stream",
     "text": [
      "true\n",
      "true\n",
      "true\n",
      "true\n",
      "true\n",
      "true\n",
      "true\n",
      "true\n"
     ]
    }
   ],
   "source": [
    "import kotlin.reflect.full.isSubclassOf                            // 상속관계 확인 \n",
    "import kotlin.reflect.full.isSuperclassOf\n",
    "\n",
    "// 리스트 상속관계 확인                                                 // 최상위 클래스 Iterable\n",
    "println((Collection::class).isSubclassOf(Iterable::class))         // Collection은 iterable 상속\n",
    "println((List::class).isSubclassOf(Collection::class))             // List는 collection 상속\n",
    "\n",
    "println((MutableIterable::class).isSubclassOf(Iterable::class))     // 가변은 불변을 상속\n",
    "println((MutableCollection::class).isSubclassOf(Collection::class)) // 가변은 불변을 상속\n",
    "println((MutableList::class).isSubclassOf(List::class))             // 가변은 불변을 상속 \n",
    "// 집합 상속관계 확인 \n",
    "println((Set::class).isSubclassOf(Collection::class))               // 집합도 컬렉션 상속\n",
    "println((Set::class).isSubclassOf(MutableSet::class))               // 가변은 불변을 상속\n",
    "// 맵 상속관계 확인 \n",
    "println((MutableMap::class).isSubclassOf(Map::class))               // 가변은 불변을 상속"
   ]
  },
  {
   "cell_type": "code",
   "execution_count": null,
   "id": "abbc8ca0",
   "metadata": {},
   "outputs": [],
   "source": []
  },
  {
   "cell_type": "code",
   "execution_count": null,
   "id": "553e2d1c",
   "metadata": {},
   "outputs": [],
   "source": []
  }
 ],
 "metadata": {
  "kernelspec": {
   "display_name": "Kotlin",
   "language": "kotlin",
   "name": "kotlin"
  },
  "language_info": {
   "codemirror_mode": "text/x-kotlin",
   "file_extension": ".kt",
   "mimetype": "text/x-kotlin",
   "name": "kotlin",
   "nbconvert_exporter": "",
   "pygments_lexer": "kotlin",
   "version": "1.7.20-dev-1299"
  }
 },
 "nbformat": 4,
 "nbformat_minor": 5
}
