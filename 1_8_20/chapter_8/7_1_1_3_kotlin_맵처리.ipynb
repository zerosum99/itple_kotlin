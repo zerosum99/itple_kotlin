{
 "cells": [
  {
   "cell_type": "code",
   "execution_count": null,
   "id": "0c4a5773",
   "metadata": {},
   "outputs": [],
   "source": []
  },
  {
   "cell_type": "code",
   "execution_count": 1,
   "id": "9582efdf",
   "metadata": {},
   "outputs": [
    {
     "data": {
      "text/plain": [
       "1.8.20"
      ]
     },
     "execution_count": 1,
     "metadata": {},
     "output_type": "execute_result"
    }
   ],
   "source": [
    "KotlinVersion.CURRENT             // 코틀린 현재 버전 "
   ]
  },
  {
   "cell_type": "code",
   "execution_count": null,
   "id": "ab37a4fc",
   "metadata": {},
   "outputs": [],
   "source": []
  },
  {
   "cell_type": "markdown",
   "id": "031db0af",
   "metadata": {},
   "source": [
    "##  맵의 주요 멤버 확인 "
   ]
  },
  {
   "cell_type": "code",
   "execution_count": 2,
   "id": "95e97d9c",
   "metadata": {},
   "outputs": [],
   "source": [
    "import kotlin.collections.HashMap\n",
    "import kotlin.collections.LinkedHashMap\n",
    "import java.util.TreeMap\n",
    "import java.util.SortedMap\n",
    "\n",
    "\n",
    "fun Map<String,String>.dir() : Set<String> {\n",
    "    val a = this.javaClass.kotlin\n",
    "    println(a.simpleName)\n",
    "    val ll = a.members.map { it.name}              // 멤버의 이름을 맵으로 처리하기 \n",
    "    return ll.toSet()\n",
    "}"
   ]
  },
  {
   "cell_type": "code",
   "execution_count": null,
   "id": "d02cb45f",
   "metadata": {},
   "outputs": [],
   "source": []
  },
  {
   "cell_type": "code",
   "execution_count": 3,
   "id": "3c1c6d09",
   "metadata": {},
   "outputs": [
    {
     "name": "stdout",
     "output_type": "stream",
     "text": [
      "class java.util.HashMap\n",
      "HashMap\n",
      "LinkedHashMap\n",
      "clear, put, putAll, remove, \n",
      "containsValue, get, getOrDefault, isEmpty, \n",
      "replaceAll, merge, putIfAbsent, compute, \n",
      "computeIfAbsent, computeIfPresent, clone, loadFactor, \n",
      "resize, putMapEntries, getNode, putVal, \n",
      "removeNode, newNode, replacementNode, newTreeNode, \n",
      "reinitialize, afterNodeAccess, afterNodeInsertion, afterNodeRemoval, \n",
      "table, entrySet, size, modCount, \n",
      "values, entries, keys, equals, \n",
      "toString, keySet, hash, tableSizeFor, \n",
      "compareComparables, serialVersionUID, DEFAULT_INITIAL_CAPACITY, MAXIMUM_CAPACITY, \n",
      "TREEIFY_THRESHOLD, UNTREEIFY_THRESHOLD, MIN_TREEIFY_CAPACITY, "
     ]
    }
   ],
   "source": [
    "val tomcat = \"Tom\" to \"Cat\"                         // 두 개의 원소를 가진 튜플 만들기\n",
    "val m = hashMapOf(Pair(\"Tom\", \"Cat\"),               // 튜플로 맵생성 \n",
    "                  Pair(\"Jerry\",\"Mouse\"))\n",
    "println(m.javaClass.kotlin)\n",
    "val mdir = m.dir()                            \n",
    "\n",
    "val map1 = linkedMapOf(\"1\" to \"one\",                // 튜플 연산자로 맵생성\n",
    "                       \"2\" to \"two\", \n",
    "                       \"3\" to \"three\")\n",
    "val ldir = map1.dir()\n",
    "\n",
    "\n",
    "val mintr = mdir.intersect(ldir)                    // 두 클래스의 같은 멤버만 확인 \n",
    "var count = 1\n",
    "for (i in mintr) {\n",
    "    if (count % 5== 0 ) println()\n",
    "    else print(i.toString() +\", \")\n",
    "    count++\n",
    "}"
   ]
  },
  {
   "cell_type": "code",
   "execution_count": null,
   "id": "15b2f579",
   "metadata": {},
   "outputs": [],
   "source": []
  },
  {
   "cell_type": "code",
   "execution_count": null,
   "id": "73c42366",
   "metadata": {},
   "outputs": [],
   "source": []
  },
  {
   "cell_type": "markdown",
   "id": "30eef318",
   "metadata": {},
   "source": [
    "## 맵 생성하고 키와 값확인 "
   ]
  },
  {
   "cell_type": "code",
   "execution_count": 4,
   "id": "971c84b2",
   "metadata": {},
   "outputs": [
    {
     "name": "stdout",
     "output_type": "stream",
     "text": [
      "82 코드는 어느나라 한국\n",
      "1 코드는 어느나라 USA\n",
      "233 코드는 어느나라 가나\n",
      "맵의 개수=3\n",
      "가나\n",
      "국가 = [한국, 미국, 영국]\n",
      "통화 = [원, 달러, 파운드]\n",
      "미국\n",
      "{A=1000001, B=1000010, C=1000011}\n"
     ]
    }
   ],
   "source": [
    "val callingMap: Map<Int, String> =                               // 맵 생성 \n",
    "          mapOf(82 to \"한국\", 1 to \"USA\", 233 to \"가나\")\n",
    "for ((key, value) in callingMap) {                               // 순환문 처리 \n",
    "    println(\"$key 코드는 어느나라 $value\")\n",
    "}\n",
    "println(\"맵의 개수=\" + callingMap.size) \n",
    "println(callingMap[233])                                          // 원소선택 \n",
    "\n",
    "val currencyMap: MutableMap<String, String> = \n",
    "    mutableMapOf(\"원\" to \"한국\", \"달러\" to \"미국\", \"파운드\" to \"영국\")   // 변경가능한 맵생성\n",
    "println(\"국가 = ${currencyMap.values}\")                             // 값 출력 \n",
    "println(\"통화 = ${currencyMap.keys}\")                               // 키 출력\n",
    "currencyMap.put(\"엔\", \"일본\")\n",
    "println(currencyMap.remove(\"달러\"))\n",
    "\n",
    "val binaryReps = TreeMap<Char, String>()                           // 트리맵 생성 \n",
    "for (c in 'A'..'C') {                                              // 바이너리 값 처리\n",
    "    val binary = c.toInt().toString(2)\n",
    "    binaryReps[c] = binary                                         // 맵에 원소 추가         \n",
    "}\n",
    "println(binaryReps)"
   ]
  },
  {
   "cell_type": "code",
   "execution_count": null,
   "id": "059764b1",
   "metadata": {},
   "outputs": [],
   "source": []
  },
  {
   "cell_type": "markdown",
   "id": "14f04b4f",
   "metadata": {},
   "source": [
    "## 맵 생성하고 원소 추가 및 삭제"
   ]
  },
  {
   "cell_type": "code",
   "execution_count": 5,
   "id": "c3dfbc94",
   "metadata": {},
   "outputs": [
    {
     "name": "stdout",
     "output_type": "stream",
     "text": [
      "소슬비\n",
      "{1=소슬비, 3=김성은, 4=김학수}\n",
      "한국\n",
      "{NG=나이지리아, KR=한국, NA=나미비아}\n",
      "서호진\n",
      "{1=김영옥, 2=서정욱, 7=최혜원}\n"
     ]
    }
   ],
   "source": [
    "val personsHashMap: java.util.HashMap<Int, String> =                 //해시맵 생성 \n",
    "        hashMapOf(1 to \"소슬비\", 2 to \"조현웅\", 3 to \"김성은\")\n",
    "          \n",
    "personsHashMap.put(4, \"김학수\")                                        // 원소 추가\n",
    "personsHashMap.remove(2)                                             // 삭제\n",
    "println(personsHashMap[1])                                           // 원소 선택 조회 \n",
    "println(personsHashMap)\n",
    "\n",
    "val postalCodeHashMap: java.util.LinkedHashMap<String, String> =     //링크드해시맵 생성\n",
    "        linkedMapOf(\"NG\" to \"나이지리아\",\"AU\" to \"호주\",\"KR\" to \"한국\")\n",
    "postalCodeHashMap.put(\"NA\", \"나미비아\")                                // 원소 추가\n",
    "postalCodeHashMap.remove(\"AU\")                                       // 원소 삭제\n",
    "println(postalCodeHashMap.get(\"KR\"))                                 // 원소 선택\n",
    "println(postalCodeHashMap) \n",
    "\n",
    "val personsSortedMap: java.util.SortedMap<Int, String> =             // 정렬맵 작성 \n",
    "        sortedMapOf(2 to \"서정욱\", 1 to \"김영옥\", 3 to \"서호진\")\n",
    "personsSortedMap.put(7, \"최혜원\")                                      // 원소 추가 \n",
    "println(personsSortedMap.remove(3))                                  // 원소 삭제 \n",
    "println(personsSortedMap)"
   ]
  },
  {
   "cell_type": "code",
   "execution_count": null,
   "id": "83c1d11a",
   "metadata": {},
   "outputs": [],
   "source": []
  },
  {
   "cell_type": "code",
   "execution_count": null,
   "id": "50c9afe3",
   "metadata": {},
   "outputs": [],
   "source": []
  },
  {
   "cell_type": "code",
   "execution_count": null,
   "id": "d51d24e9",
   "metadata": {},
   "outputs": [],
   "source": []
  }
 ],
 "metadata": {
  "kernelspec": {
   "display_name": "Kotlin",
   "language": "kotlin",
   "name": "kotlin"
  },
  "language_info": {
   "codemirror_mode": "text/x-kotlin",
   "file_extension": ".kt",
   "mimetype": "text/x-kotlin",
   "name": "kotlin",
   "nbconvert_exporter": "",
   "pygments_lexer": "kotlin",
   "version": "1.8.20-Beta"
  }
 },
 "nbformat": 4,
 "nbformat_minor": 5
}
