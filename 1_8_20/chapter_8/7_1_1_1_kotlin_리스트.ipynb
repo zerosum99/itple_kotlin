{
 "cells": [
  {
   "cell_type": "code",
   "execution_count": null,
   "id": "36099c27",
   "metadata": {},
   "outputs": [],
   "source": []
  },
  {
   "cell_type": "code",
   "execution_count": 1,
   "id": "1eaf10e8",
   "metadata": {},
   "outputs": [
    {
     "data": {
      "text/plain": [
       "1.8.20"
      ]
     },
     "execution_count": 1,
     "metadata": {},
     "output_type": "execute_result"
    }
   ],
   "source": [
    "KotlinVersion.CURRENT             // 코틀린 현재 버전 "
   ]
  },
  {
   "cell_type": "code",
   "execution_count": null,
   "id": "c0b2ddcf",
   "metadata": {},
   "outputs": [],
   "source": []
  },
  {
   "cell_type": "markdown",
   "id": "5afe0185",
   "metadata": {},
   "source": [
    "## 리스트 내의 함수들 출력하기"
   ]
  },
  {
   "cell_type": "code",
   "execution_count": 2,
   "id": "5c26a313",
   "metadata": {},
   "outputs": [
    {
     "name": "stdout",
     "output_type": "stream",
     "text": [
      "class java.util.Arrays$ArrayList\n",
      "java.util.AbstractList<E!>\n",
      "class java.util.LinkedList\n",
      "java.util.AbstractSequentialList<E!>\n"
     ]
    }
   ],
   "source": [
    "import java.util.ArrayList                               // 코틀린 기본 리스트 클래스\n",
    "import java.util.LinkedList                              // 링크드 리스트 클래스 \n",
    "import java.util.AbstractSequentialList \n",
    "\n",
    "val list_1 = listOf(1,2,3)                               // 리스트 객체를 생성 \n",
    "println(list_1.javaClass.kotlin)                         // 리스트 클래스 조회 \n",
    "println(list_1.javaClass.kotlin.supertypes[0])           // 리스트의 수퍼클래스 조회 \n",
    "\n",
    "var llist_1 =  LinkedList<String>()                      // 링크드 리스트의 객체 생성 \n",
    "println(llist_1.javaClass.kotlin)                        // 리크드 리스트 클래스 조회\n",
    "println(llist_1.javaClass.kotlin.supertypes[0])          // 링크드 리스트이 수퍼클래스 조회\n",
    "\n",
    "fun List<Int>.dir() : Set<String> {                      // 리스트의 멤버를 조회하는 확장함수\n",
    "    val a = this.javaClass.kotlin                        // 클래스 출력 \n",
    "    println(a.simpleName)\n",
    "    val ll = a.members.map { it.name}                    // 멤버의 이름을 맵으로 처리하기 \n",
    "    return ll.toSet() \n",
    "}\n",
    "\n",
    "fun AbstractSequentialList<String>.dir() : Set<String> { // 링크드 리스트의 멤버를 조회하는 확장함수\n",
    "    val a = this.javaClass.kotlin                        // 클래스 출력 \n",
    "    println(a.simpleName)\n",
    "    val ll = a.members.map { it.name}                    // 멤버의 이름을 맵으로 처리하기 \n",
    "    return ll.toSet() \n",
    "}"
   ]
  },
  {
   "cell_type": "code",
   "execution_count": null,
   "id": "82bc66d5",
   "metadata": {},
   "outputs": [],
   "source": []
  },
  {
   "cell_type": "code",
   "execution_count": null,
   "id": "6636d93b",
   "metadata": {},
   "outputs": [],
   "source": []
  },
  {
   "cell_type": "markdown",
   "id": "9c1ba373",
   "metadata": {},
   "source": [
    "## 배열리스트의 가변과 불변 메소드"
   ]
  },
  {
   "cell_type": "code",
   "execution_count": 3,
   "id": "b9eb6b79",
   "metadata": {},
   "outputs": [
    {
     "name": "stdout",
     "output_type": "stream",
     "text": [
      "ArrayList\n",
      "ArrayList\n",
      "### 교집합 ###\n",
      "iterator, contains, spliterator, forEach, toArray, \n",
      "get, indexOf, replaceAll, sort, size, \n",
      "addAll, clear, remove, removeAll, retainAll, \n",
      "isEmpty, equals, hashCode, toString, stream, \n",
      "parallelStream, listIterator, removeAt, subList, lastIndexOf, \n",
      "modCount, serialVersionUID, subListRangeCheck, "
     ]
    }
   ],
   "source": [
    "val list1 = listOf(1,2,3)                   // 리스트 객체를 생성 \n",
    "val ll = list1.dir()                        // 리스트 멤버 조회 \n",
    "val mlist1 = mutableListOf(1,2,3)           // 가변 리스트 객체 만들기 \n",
    "val ml = mlist1.dir()                       // 멤버를 확인 \n",
    "val inters = ll.intersect(ml)               // 동일한 멤버 확인\n",
    "val differs = ml.minus(ll)                  // 다른 멤버 \n",
    "\n",
    "println(\"### 교집합 ###\")                     // 두 리스트내의 공통적인 멤버 확인 \n",
    "var count = 1\n",
    "for (i in inters) {\n",
    "    if (count % 6== 0 ) println()\n",
    "    else print(i.toString() +\", \")\n",
    "    count++\n",
    "}"
   ]
  },
  {
   "cell_type": "code",
   "execution_count": null,
   "id": "22b75572",
   "metadata": {},
   "outputs": [],
   "source": []
  },
  {
   "cell_type": "code",
   "execution_count": 4,
   "id": "c77aaeb3",
   "metadata": {},
   "outputs": [
    {
     "name": "stdout",
     "output_type": "stream",
     "text": [
      "### 차집합 ###\n",
      "rangeCheckForAdd, outOfBoundsMsg, clone, elementData, \n",
      "indexOfRange, lastIndexOfRange, equalsRange, equalsArrayList, \n",
      "hashCodeRange, fastRemove, shiftTailOverGap, batchRemove, \n",
      "checkInvariants, readObject, writeObject, newCapacity, \n",
      "trimToSize, elementAt, nBits, setBit, \n",
      "hugeCapacity, DEFAULT_CAPACITY, EMPTY_ELEMENTDATA, DEFAULTCAPACITY_EMPTY_ELEMENTDATA, \n"
     ]
    }
   ],
   "source": [
    "println(\"### 차집합 ###\")                     // 변경가능한 리스트의 멤버만 확인 \n",
    "count = 1\n",
    "for (i in differs) {\n",
    "    if (count % 5== 0 ) println()\n",
    "    else print(i.toString() +\", \")\n",
    "    count++\n",
    "}"
   ]
  },
  {
   "cell_type": "code",
   "execution_count": null,
   "id": "4794cbe5",
   "metadata": {},
   "outputs": [],
   "source": []
  },
  {
   "cell_type": "markdown",
   "id": "e2613fce",
   "metadata": {},
   "source": [
    "## 리스트 처리"
   ]
  },
  {
   "cell_type": "code",
   "execution_count": 5,
   "id": "5b25a913",
   "metadata": {},
   "outputs": [
    {
     "name": "stdout",
     "output_type": "stream",
     "text": [
      "class kotlin.collections.EmptyList\n",
      "kotlin.collections.List<kotlin.Nothing>\n",
      "class java.util.ArrayList\n",
      "[2, 45, 2, 5]\n",
      "java.util.AbstractList<E!>\n",
      "class java.util.ArrayList\n",
      "[코틀린, 입문을, 축하합니다.]\n",
      "class java.util.Arrays$ArrayList\n",
      "[꿈은, 이루어진다.]\n"
     ]
    }
   ],
   "source": [
    "val emptyList: List<String> = emptyList<String>()          // 아무것도 없는 리스트 생성\n",
    "println(emptyList.javaClass.kotlin)\n",
    "println(emptyList.javaClass.kotlin.supertypes[0])          // 빈 리스트의 상속관계 확인 \n",
    "\n",
    "val nonNullsList = listOfNotNull(2, 45, 2, null, 5, null)  // 널제거 리스트 생성 \n",
    "println(nonNullsList.javaClass.kotlin)\n",
    "println(nonNullsList)\n",
    "println(nonNullsList.javaClass.kotlin.supertypes[0])       // 빈 리스트의 상속관계 확인 \n",
    "\n",
    "val stringList: ArrayList<String> = \n",
    "              arrayListOf(\"코틀린\", \"입문을\", \"축하합니다.\")     // arraylist로 리스트 생성 \n",
    "println(stringList.javaClass.kotlin)\n",
    "println(stringList)                                        // 리스트 확인 \n",
    "\n",
    "val stringList1: List<String> = \n",
    "                 listOf(\"꿈은\", \"이루어진다.\")                 // list로 리스트 생성 \n",
    "println(stringList1.javaClass.kotlin)\n",
    "println(stringList1)                                       // 리스트 확인 "
   ]
  },
  {
   "cell_type": "code",
   "execution_count": null,
   "id": "fededc39",
   "metadata": {},
   "outputs": [],
   "source": []
  },
  {
   "cell_type": "markdown",
   "id": "3433035d",
   "metadata": {},
   "source": [
    "## 변경가능한 리스트 "
   ]
  },
  {
   "cell_type": "code",
   "execution_count": 6,
   "id": "72bdf94c",
   "metadata": {},
   "outputs": [
    {
     "name": "stdout",
     "output_type": "stream",
     "text": [
      "[무녀, 예수, 무당]\n",
      "[현대차동차, 벤츠, 1, 6.76, 가]\n",
      "joinedList : [1, 2, 3, 1, 4, 5, 6]\n",
      "joinedList2 : [1, 2, 3, 1, 4, 5, 6]\n"
     ]
    }
   ],
   "source": [
    "val mutableListNames =                           //가변 리스트 생성 \n",
    "    mutableListOf<String>(\"석가\",\"마호메트\", \"예수\")\n",
    "mutableListNames.add(\"무당\")                      // 원소 추가 \n",
    "mutableListNames.removeAt(1)                     // 원소 삭제 \n",
    "mutableListNames[0] = \"무녀\"                      // 원소 대체 \n",
    "println(mutableListNames)\n",
    " \n",
    "val mutableListMixed =                           // Any 자료형으로 처리\n",
    "          mutableListOf(\"현대차동차\",\"벤츠\", 1, 6.76, '가')\n",
    "println(mutableListMixed)\n",
    "\n",
    "\n",
    "val list1 = listOf(1, 2, 3)\n",
    "val list2 = listOf(1, 4, 5, 6)\n",
    "\n",
    "val joinedList = list1 + list2                    // 두 불변 리스트를 더하면 \n",
    "println(\"joinedList : $joinedList\")               // 새로운 리스트를 생성 \n",
    "\n",
    "val joinedList2 = list1.plus(list2)\n",
    "println(\"joinedList2 : $joinedList\")"
   ]
  },
  {
   "cell_type": "code",
   "execution_count": null,
   "id": "1c9c3386-1db8-4456-a6cb-70956957541e",
   "metadata": {},
   "outputs": [],
   "source": []
  },
  {
   "cell_type": "markdown",
   "id": "d82a2e5c",
   "metadata": {},
   "source": [
    "## 링크드 리스트 "
   ]
  },
  {
   "cell_type": "code",
   "execution_count": 7,
   "id": "83e198f8",
   "metadata": {},
   "outputs": [
    {
     "name": "stdout",
     "output_type": "stream",
     "text": [
      "class java.util.LinkedList\n",
      "LinkedList\n",
      "add, addAll, clear, remove, contains, \n",
      "toArray, listIterator, removeAt, set, get, \n",
      "lastIndexOf, outOfBoundsMsg, offer, poll, peek, \n",
      "push, addLast, pollFirst, addFirst, offerFirst, \n",
      "removeFirst, removeLast, pollLast, getFirst, getLast, \n",
      "peekLast, removeFirstOccurrence, removeLastOccurrence, pop, descendingIterator, \n",
      "readObject, writeObject, node, unlink, linkFirst, \n",
      "linkBefore, unlinkFirst, unlinkLast, isElementIndex, isPositionIndex, \n",
      "checkPositionIndex, superClone, size, first, last, \n",
      "removeAll, retainAll, containsAll, isEmpty, equals, \n",
      "toString, forEach, stream, removeIf, parallelStream, \n",
      "replaceAll, sort, removeRange, modCount, serialVersionUID, \n"
     ]
    }
   ],
   "source": [
    "var llist_1 =  LinkedList<String>()                      // 링크드 리스트의 객체 생성 \n",
    "println(llist_1.javaClass.kotlin) \n",
    "\n",
    "var count = 1\n",
    "for (i in llist_1.dir()) {\n",
    "    if (count % 6== 0 ) println()\n",
    "    else print(i.toString() +\", \")\n",
    "    count++\n",
    "}"
   ]
  },
  {
   "cell_type": "code",
   "execution_count": null,
   "id": "5c15cf4f",
   "metadata": {},
   "outputs": [],
   "source": []
  },
  {
   "cell_type": "code",
   "execution_count": 8,
   "id": "1c3f269f",
   "metadata": {},
   "outputs": [
    {
     "name": "stdout",
     "output_type": "stream",
     "text": [
      "java.util.AbstractSequentialList<E!>\n",
      "Planets = [지구, 금성, 화성 ]\n",
      "First planet = 지구\n",
      "Last planet = 화성 \n",
      "joinedplanets : [지구, 금성, 화성 , 지구, 금성, 화성 ]\n",
      "joinedplanets2 :  [지구, 금성, 화성 , 지구, 금성, 화성 ]\n",
      "Planets = [지구, 금성, 화성 ]\n"
     ]
    }
   ],
   "source": [
    "var planets =  LinkedList<String>()                      // 링크드 리스트 생성 \n",
    "println(planets.javaClass.kotlin.supertypes[0])\n",
    "\n",
    "planets.addAll(listOf(\"지구\", \"금성\", \"화성 \"))             // 링크드 리스트에 원소 추가 \n",
    "println(\"Planets = \" + planets)\n",
    "\n",
    "println(\"First planet = \" + planets.first)\n",
    "println(\"Last planet = \" + planets.last)\n",
    "\n",
    "val joinedplanets = planets + planets                    // 두 링크드 리스트를 더하면 \n",
    "println(\"joinedplanets : $joinedplanets\")                // 새로운 링크드 리스트를 생성 \n",
    "\n",
    "val joinedplanets2 = planets.plus(planets)\n",
    "println(\"joinedplanets2 :  $joinedplanets2\")\n",
    "\n",
    "println(\"Planets = \" + planets)"
   ]
  },
  {
   "cell_type": "code",
   "execution_count": null,
   "id": "b30f5457",
   "metadata": {},
   "outputs": [],
   "source": []
  }
 ],
 "metadata": {
  "kernelspec": {
   "display_name": "Kotlin",
   "language": "kotlin",
   "name": "kotlin"
  },
  "language_info": {
   "codemirror_mode": "text/x-kotlin",
   "file_extension": ".kt",
   "mimetype": "text/x-kotlin",
   "name": "kotlin",
   "nbconvert_exporter": "",
   "pygments_lexer": "kotlin",
   "version": "1.8.20-Beta"
  }
 },
 "nbformat": 4,
 "nbformat_minor": 5
}
