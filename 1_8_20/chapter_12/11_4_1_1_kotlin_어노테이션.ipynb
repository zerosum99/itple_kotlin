{
 "cells": [
  {
   "cell_type": "code",
   "execution_count": null,
   "id": "a0d6ba84",
   "metadata": {},
   "outputs": [],
   "source": []
  },
  {
   "cell_type": "code",
   "execution_count": 1,
   "id": "19b1a899",
   "metadata": {},
   "outputs": [
    {
     "data": {
      "text/plain": [
       "1.7.20"
      ]
     },
     "execution_count": 1,
     "metadata": {},
     "output_type": "execute_result"
    }
   ],
   "source": [
    "KotlinVersion.CURRENT"
   ]
  },
  {
   "cell_type": "code",
   "execution_count": null,
   "id": "99ba2dc2",
   "metadata": {},
   "outputs": [],
   "source": []
  },
  {
   "cell_type": "markdown",
   "id": "70ceaf0e",
   "metadata": {},
   "source": [
    "## 어느테이션 정의 1"
   ]
  },
  {
   "cell_type": "code",
   "execution_count": 2,
   "id": "fffd3b28",
   "metadata": {},
   "outputs": [
    {
     "name": "stdout",
     "output_type": "stream",
     "text": [
      "300\n",
      "함수에 어노테이션 사용\n"
     ]
    }
   ],
   "source": [
    "annotation class Testing                      // 어노테이션 클래스 정의 \n",
    "\n",
    "@Testing                                      // 클래스에 어노테이션 사용 \n",
    "class Foo(@Testing val first: Int) {          // 속성에 어노테이션 사용 \n",
    "    \n",
    "    @Testing                                  // 메소드에 어노테이션 사용 \n",
    "    fun baz(@Testing second: Int): Int {\n",
    "        return first + second\n",
    "    }\n",
    "}\n",
    "\n",
    "@Testing                                       // 함수에 어노테이션 사용\n",
    "fun bar() = \"함수에 어노테이션 사용\"\n",
    "\n",
    "@Testing                                       // 속성에 어노테이션 사용 \n",
    "val top = 100\n",
    "\n",
    "val f = Foo(100)                               // 객체 생성 \n",
    "\n",
    "println(f.baz(200))                            // 메소드 호출 \n",
    "println(bar())                                 // 함수 호출 "
   ]
  },
  {
   "cell_type": "code",
   "execution_count": null,
   "id": "32ca3749",
   "metadata": {},
   "outputs": [],
   "source": []
  },
  {
   "cell_type": "markdown",
   "id": "69c512fc",
   "metadata": {},
   "source": [
    "## 어노테이션 정의 2"
   ]
  },
  {
   "cell_type": "code",
   "execution_count": 3,
   "id": "13214622",
   "metadata": {},
   "outputs": [],
   "source": [
    "annotation class TestAnnotation\n",
    "    \n",
    "class Test @TestAnnotation constructor() {                   // 생성자에 표시 \n",
    "    @TestAnnotation                                          // 속성에 표시\n",
    "    val myVal: Int = 10\n",
    "    \n",
    "    @TestAnnotation  \n",
    "    fun method() = \"메소드 처리\"                                // 메소드에 표시\n",
    "    \n",
    "    var myVal2: Int = 10\n",
    "        @TestAnnotation get() = field                        // 게터세터에 표시\n",
    "        @TestAnnotation set(value) { field = value }         // 게터세터에 처리\n",
    "    \n",
    "    val myFun = @TestAnnotation{ println(\"람다표현식\")}         // 람다에 어노테이션 추가\n",
    "}"
   ]
  },
  {
   "cell_type": "code",
   "execution_count": null,
   "id": "8679bb84",
   "metadata": {},
   "outputs": [],
   "source": []
  },
  {
   "cell_type": "markdown",
   "id": "e359344b",
   "metadata": {},
   "source": [
    "## 어노테이션  : 속성 정의 "
   ]
  },
  {
   "cell_type": "code",
   "execution_count": 4,
   "id": "a6ef8709",
   "metadata": {},
   "outputs": [
    {
     "name": "stdout",
     "output_type": "stream",
     "text": [
      "클래스 정보 확인 : class Line_3$Test\n",
      "클래스 정보 확인 : class Line_3$Test\n",
      "메소드 정보 확인 : [Ljava.lang.reflect.Method;@2881641c\n",
      "true\n",
      "어노테이션 정보 : @Line_3$TAnnotataion(count=3)\n",
      "some 메소드 호출 \n",
      "some 메소드 호출 \n",
      "some 메소드 호출 \n"
     ]
    }
   ],
   "source": [
    "annotation class TAnnotataion(val count: Int)                         // 어노테이션 속성 추가 \n",
    "    \n",
    "class Test {\n",
    "    @TAnnotataion(count=3)                                            // 메소드 어노테이션 정의시 속성 부여 \n",
    "    fun some(){\n",
    "        println(\"some 메소드 호출 \")\n",
    "    }\n",
    "}\n",
    "    \n",
    "val obj: Test = Test()                                                // 객체 생성 \n",
    "val methods = Test::class.java!!.methods                \n",
    "println(\"클래스 정보 확인 : \" + Test::class)                              // 리플렉션 정보 확인 \n",
    "println(\"클래스 정보 확인 : \" + Test::class.java!!)\n",
    "println(\"메소드 정보 확인 : \" + methods)\n",
    " \n",
    "for(method in methods){  \n",
    "    if(method.isAnnotationPresent(TAnnotataion::class.java)){          // 어노테이션 여부 확인 \n",
    "        println(method.isAnnotationPresent(TAnnotataion::class.java))  // 메소드 처리 \n",
    "        val annotation_ = method\n",
    "                           .getAnnotation(TAnnotataion::class.java)    // 어노테이션을 가진 메소드 추출 \n",
    "        println(\"어노테이션 정보 : \" + annotation_)\n",
    "        val count = annotation_.count                                  // 속성 정보 확인 \n",
    "        for(i in 1..count){\n",
    "            obj.some()                                                 // 메소드 호출 \n",
    "        }\n",
    "    }\n",
    "}"
   ]
  },
  {
   "cell_type": "code",
   "execution_count": null,
   "id": "5cc4c5ac",
   "metadata": {},
   "outputs": [],
   "source": []
  },
  {
   "cell_type": "code",
   "execution_count": null,
   "id": "2a4d9450",
   "metadata": {},
   "outputs": [],
   "source": []
  },
  {
   "cell_type": "code",
   "execution_count": null,
   "id": "61be4282",
   "metadata": {},
   "outputs": [],
   "source": []
  }
 ],
 "metadata": {
  "kernelspec": {
   "display_name": "Kotlin",
   "language": "kotlin",
   "name": "kotlin"
  },
  "language_info": {
   "codemirror_mode": "text/x-kotlin",
   "file_extension": ".kt",
   "mimetype": "text/x-kotlin",
   "name": "kotlin",
   "nbconvert_exporter": "",
   "pygments_lexer": "kotlin",
   "version": "1.7.20-dev-1299"
  }
 },
 "nbformat": 4,
 "nbformat_minor": 5
}
