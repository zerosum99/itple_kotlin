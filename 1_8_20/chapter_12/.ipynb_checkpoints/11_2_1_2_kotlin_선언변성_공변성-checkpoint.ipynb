{
 "cells": [
  {
   "cell_type": "code",
   "execution_count": null,
   "id": "7c6c25fe",
   "metadata": {},
   "outputs": [],
   "source": []
  },
  {
   "cell_type": "code",
   "execution_count": 1,
   "id": "0a1b060a",
   "metadata": {},
   "outputs": [
    {
     "data": {
      "text/plain": [
       "1.8.20"
      ]
     },
     "execution_count": 1,
     "metadata": {},
     "output_type": "execute_result"
    }
   ],
   "source": [
    "KotlinVersion.CURRENT"
   ]
  },
  {
   "cell_type": "code",
   "execution_count": null,
   "id": "29306b0b",
   "metadata": {},
   "outputs": [],
   "source": []
  },
  {
   "cell_type": "markdown",
   "id": "753c9890",
   "metadata": {},
   "source": [
    "## 공변성\n",
    "\n",
    "- 타입 상속관계 대로 처리"
   ]
  },
  {
   "cell_type": "code",
   "execution_count": 2,
   "id": "cb1d406e",
   "metadata": {},
   "outputs": [
    {
     "name": "stdout",
     "output_type": "stream",
     "text": [
      "1222371026\n",
      "148702490\n"
     ]
    }
   ],
   "source": [
    "class MyClass1<out T>                       // 타입매개변수에 out 어노테이션 추가\n",
    "\n",
    "var x: MyClass1<Any> = MyClass1<Int>()      // 상속관계대로만 처리가능\n",
    "val y: MyClass1<Any> = MyClass1<String>()   // 상속관계대롤 처리\n",
    "\n",
    "println(x.hashCode())                       // 두 변수에 할당된 객체의 메소드 실행\n",
    "println(y.hashCode())\n"
   ]
  },
  {
   "cell_type": "code",
   "execution_count": null,
   "id": "d305ba34",
   "metadata": {},
   "outputs": [],
   "source": []
  },
  {
   "cell_type": "markdown",
   "id": "dbbd7c41",
   "metadata": {},
   "source": [
    "## 공변성을 속성과 메소드에 반영"
   ]
  },
  {
   "cell_type": "code",
   "execution_count": 3,
   "id": "75ab06dd",
   "metadata": {},
   "outputs": [
    {
     "name": "stdout",
     "output_type": "stream",
     "text": [
      "공변성 사용\n",
      "공변성 사용\n"
     ]
    }
   ],
   "source": [
    "class OutClass<out T>(val value: T) {       // 공변성을 매개변수에 정의 \n",
    "    //fun getIn(input : T) = T              // 메소드의 입력매개변수로 사용하면 예외발생\n",
    "    \n",
    "    fun getVal(): T {                       // 속성과 메소드의 반환자료형으로 지정 \n",
    "        return value\n",
    "    }\n",
    "}\n",
    "val outcls = OutClass(\"공변성 사용\")           // 문자열을 받아서 타입인자는 생략됨 \n",
    "val ref: OutClass<Any> = outcls             // 상위 자료형 변수에 할당 \n",
    "\n",
    "println(outcls.getVal())                    // 문자열 출력\n",
    "println(ref.getVal())                       // 문자열 출력"
   ]
  },
  {
   "cell_type": "code",
   "execution_count": null,
   "id": "77c3e2a5",
   "metadata": {},
   "outputs": [],
   "source": []
  },
  {
   "cell_type": "markdown",
   "id": "8f47247c",
   "metadata": {},
   "source": [
    "## 인터페이스를 상속해서 구현하기"
   ]
  },
  {
   "cell_type": "code",
   "execution_count": 4,
   "id": "9cbcf184",
   "metadata": {},
   "outputs": [
    {
     "name": "stdout",
     "output_type": "stream",
     "text": [
      "애플\n",
      "애플\n",
      "애플\n"
     ]
    }
   ],
   "source": [
    "interface Producer<out T> {                              // 공변성 인터페이스 정의\n",
    "    fun produce(): T                                     // 메소드의 반환값 처리 \n",
    "}\n",
    "\n",
    "class ReadOnlyBox<out T>(private var item: T) :          // 제너릭 클래스 정의 \n",
    "                                          Producer<T> {  // 제너릭 인터페이스 상속 : 타입인자 전달 \n",
    "                                              \n",
    "    val extItem : T = item                               // 속성을 추가 \n",
    "    //fun setItem(value : T) { item = value}             // 반공병성 처리 불가 \n",
    "    override fun produce() :T = item                     // 추상메소드 구현 : 반환 자료형\n",
    "    fun getItem(): T = item                              // 일반 메소드 구현 : 반환 자료형\n",
    "}\n",
    "\n",
    "val r = ReadOnlyBox(\"애플\")                               // 객체 생성 \n",
    "\n",
    "println(r.produce())                                     // 속성과 메소드 처리\n",
    "println(r.extItem)\n",
    "println(r.getItem())"
   ]
  },
  {
   "cell_type": "code",
   "execution_count": null,
   "id": "65a00a80",
   "metadata": {},
   "outputs": [],
   "source": []
  },
  {
   "cell_type": "code",
   "execution_count": null,
   "id": "039b51e0",
   "metadata": {},
   "outputs": [],
   "source": []
  }
 ],
 "metadata": {
  "kernelspec": {
   "display_name": "Kotlin",
   "language": "kotlin",
   "name": "kotlin"
  },
  "language_info": {
   "codemirror_mode": "text/x-kotlin",
   "file_extension": ".kt",
   "mimetype": "text/x-kotlin",
   "name": "kotlin",
   "nbconvert_exporter": "",
   "pygments_lexer": "kotlin",
   "version": "1.8.20-Beta"
  }
 },
 "nbformat": 4,
 "nbformat_minor": 5
}
