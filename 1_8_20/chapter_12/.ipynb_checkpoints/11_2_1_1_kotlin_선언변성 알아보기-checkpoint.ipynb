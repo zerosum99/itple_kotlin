{
 "cells": [
  {
   "cell_type": "code",
   "execution_count": null,
   "id": "fe884110",
   "metadata": {},
   "outputs": [],
   "source": []
  },
  {
   "cell_type": "code",
   "execution_count": 1,
   "id": "0a1b060a",
   "metadata": {},
   "outputs": [
    {
     "data": {
      "text/plain": [
       "1.8.20"
      ]
     },
     "execution_count": 1,
     "metadata": {},
     "output_type": "execute_result"
    }
   ],
   "source": [
    "KotlinVersion.CURRENT"
   ]
  },
  {
   "cell_type": "code",
   "execution_count": null,
   "id": "0e7a8e64",
   "metadata": {},
   "outputs": [],
   "source": []
  },
  {
   "cell_type": "markdown",
   "id": "a8a39ac3",
   "metadata": {},
   "source": [
    "## 자료형은 기본으로 상속관계를 추론한다"
   ]
  },
  {
   "cell_type": "code",
   "execution_count": 2,
   "id": "021a2be9",
   "metadata": {},
   "outputs": [
    {
     "name": "stdout",
     "output_type": "stream",
     "text": [
      "[kotlin.Number, kotlin.Comparable<kotlin.Int>, java.io.Serializable]\n",
      "[kotlin.Any, java.io.Serializable]\n",
      "[]\n"
     ]
    }
   ],
   "source": [
    "val num : Number = 100\n",
    "// val int : Int = num              // 상위 자료형을 하위 자료형 변수에 할당 금지 \n",
    "val any : Any = num                 // 하위 자료형은 상위 자료형 변수에 할당 가능\n",
    "\n",
    "println((100)::class.supertypes)    // 정수의 상속관계 \n",
    "println(Number::class.supertypes)   // Number 클래스의 상속관계 \n",
    "println(Any::class.supertypes)      // 최상위 클래스의 상속관계 "
   ]
  },
  {
   "cell_type": "code",
   "execution_count": null,
   "id": "dd6c8ff5",
   "metadata": {},
   "outputs": [],
   "source": []
  },
  {
   "cell_type": "code",
   "execution_count": null,
   "id": "977f6ead",
   "metadata": {},
   "outputs": [],
   "source": []
  },
  {
   "cell_type": "markdown",
   "id": "dd2fbf1b",
   "metadata": {},
   "source": [
    "## 타입매개변수는 상속관계를 추론하지 못함 : 불변성 "
   ]
  },
  {
   "cell_type": "code",
   "execution_count": 3,
   "id": "d775a02f",
   "metadata": {},
   "outputs": [
    {
     "name": "stdout",
     "output_type": "stream",
     "text": [
      "723764705\n",
      "301592555\n"
     ]
    }
   ],
   "source": [
    "val a:MutableList<Int> = mutableListOf(1,2,3,4)       // 변경가능한 리스트 \n",
    "// val s:MutableList<Number> = a                      // 상위 자료형에 할당 불가 \n",
    "\n",
    "val b: List<Int> = listOf(1,2,3,4)                    // 리스트 생성 \n",
    "val c : List<Number> = b                              // 상위 자료형에 할당 가능 \n",
    "\n",
    "\n",
    "class MyClass<T>                                      // 타입매개변수를 지정 \n",
    "                                                      // 타입에 대한 상속관계 등을 추론할 수 없다\n",
    "\n",
    "var x: MyClass<Int> = MyClass<Int>()                  // 항상 동일한 자료형에만 할당 \n",
    "val y: MyClass<String> = MyClass<String>() \n",
    "\n",
    "println(x.hashCode())\n",
    "println(y.hashCode())"
   ]
  },
  {
   "cell_type": "code",
   "execution_count": null,
   "id": "6ca5c9c0",
   "metadata": {},
   "outputs": [],
   "source": []
  },
  {
   "cell_type": "code",
   "execution_count": null,
   "id": "68604215",
   "metadata": {},
   "outputs": [],
   "source": []
  }
 ],
 "metadata": {
  "kernelspec": {
   "display_name": "Kotlin",
   "language": "kotlin",
   "name": "kotlin"
  },
  "language_info": {
   "codemirror_mode": "text/x-kotlin",
   "file_extension": ".kt",
   "mimetype": "text/x-kotlin",
   "name": "kotlin",
   "nbconvert_exporter": "",
   "pygments_lexer": "kotlin",
   "version": "1.8.20-Beta"
  }
 },
 "nbformat": 4,
 "nbformat_minor": 5
}
