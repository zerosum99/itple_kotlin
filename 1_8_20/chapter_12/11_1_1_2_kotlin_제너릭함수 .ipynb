{
 "cells": [
  {
   "cell_type": "code",
   "execution_count": null,
   "id": "4a1a367d",
   "metadata": {},
   "outputs": [],
   "source": []
  },
  {
   "cell_type": "code",
   "execution_count": 1,
   "id": "8b91d65f",
   "metadata": {},
   "outputs": [
    {
     "data": {
      "text/plain": [
       "1.8.20"
      ]
     },
     "execution_count": 1,
     "metadata": {},
     "output_type": "execute_result"
    }
   ],
   "source": [
    "KotlinVersion.CURRENT"
   ]
  },
  {
   "cell_type": "code",
   "execution_count": null,
   "id": "ab1ce2f7",
   "metadata": {},
   "outputs": [],
   "source": []
  },
  {
   "cell_type": "markdown",
   "id": "ac485ecb-724a-47d6-813e-4398b88fdbc2",
   "metadata": {},
   "source": [
    "## 1. 코틀린 제너릭 함수 만들기\n",
    "\n",
    "-  함수를 정의할 때 내부 매개변수나 반환값을 일반적인 문자로 지정해서 처리한다.\n",
    "\n",
    "- 1. fun 예약어와 함수 이름 사이에 타입 매개변수를 < > 사이에 특정 문자를 지정한다.\n",
    "- 2. 그 다음에 함수의 매개변수와 반환값에 타입 매개변수의 문자로 임의의 타입을 지정한다.\n"
   ]
  },
  {
   "cell_type": "markdown",
   "id": "088d9876",
   "metadata": {},
   "source": [
    "## 매개변수 자료형만 전달 "
   ]
  },
  {
   "cell_type": "code",
   "execution_count": 2,
   "id": "76e20bd6",
   "metadata": {},
   "outputs": [
    {
     "name": "stdout",
     "output_type": "stream",
     "text": [
      "매개변수1 = 황후순, 매개변수2 = 이재석\n",
      "20\n",
      "20.0\n",
      "20\n",
      "20.0\n"
     ]
    }
   ],
   "source": [
    "fun <타입> 함수명(매개변수1 : 타입, \n",
    "             매개변수2: 타입) : String {                   // 제너릭함수 정의 \n",
    "    return \"매개변수1 = $매개변수1, 매개변수2 = $매개변수2\"      //  반환값 처리 \n",
    "}\n",
    "\n",
    "println(함수명<String>(\"황후순\", \"이재석\"))\n",
    "                                                        // 함수오버로딩 작성 \n",
    "fun add(x:Int, y: Int) = x+y                            // 정수 매개변수 함수정의 \n",
    "fun add(x:Double, y: Double) = x+y                      // 더블 매개변수 함수정의 \n",
    "\n",
    "println(add(10,10))                                     // 함수 실행 \n",
    "println(add(10.0,10.0))                                 // 함수 실행 \n",
    "                                                        // 두 개의 함수를 제너릭으로 하나로 통합 \n",
    "fun <T> add1(x:T, y : T, op : (T,T)->T) : T             // 함수 자료형을 제너릭으로 처리 \n",
    "                                = op(x,y)               // 연산자가 실행되지 않아 전달되는 함수로 실행\n",
    "\n",
    "println(add1<Int>(10,10,{x,y ->x+y}))                   // 타입 인자에 Int 전달 및 람다표현식으로 함수 전달 \n",
    "println(add1(10.0,10.0,{x,y ->x+y}))                    // 타입 추론이 가능해서 타입 인자 미전달 "
   ]
  },
  {
   "cell_type": "code",
   "execution_count": null,
   "id": "8933423f",
   "metadata": {},
   "outputs": [],
   "source": []
  },
  {
   "cell_type": "markdown",
   "id": "69501978",
   "metadata": {},
   "source": [
    "## 매개변수와 반환자료형 분리"
   ]
  },
  {
   "cell_type": "code",
   "execution_count": 3,
   "id": "d3e9a70d",
   "metadata": {},
   "outputs": [
    {
     "name": "stdout",
     "output_type": "stream",
     "text": [
      "300\n",
      "300\n"
     ]
    }
   ],
   "source": [
    "fun <매개변수타입, 반환타입> \n",
    "    함수명(x:매개변수타입,                                    // 2개의 타입매개변수를 가지는 함수 \n",
    "         y:매개변수타입,                                    // 매개변수와 반환타입을 별도로 처리 \n",
    "         op:(매개변수타입, 매개변수타입) -> 반환타입) : 반환타입 {\n",
    "    return op(x,y)                                       // 전달된 함수의 반환타입이 전체 반환타입\n",
    "    \n",
    "}\n",
    "println(함수명(100, 200 ) {x,y-> x+y}) \n",
    "                                                         // 매개변수 타입을 분리 표현 \n",
    "fun <T,R> sum(x: T, y:T , \n",
    "               op:(T,T) -> R ) :  R {                    // 두 개의 타입 매개변수 하나는 매개변수         \n",
    "    return op(x,y)                                       // 하나는 반환값 처리 \n",
    "}\n",
    "println(sum(100, 200 ) {x,y-> x+y})                      // 함수 실행   "
   ]
  },
  {
   "cell_type": "code",
   "execution_count": null,
   "id": "398150cd",
   "metadata": {},
   "outputs": [],
   "source": []
  },
  {
   "cell_type": "markdown",
   "id": "62863ff6-3e18-46e4-8c8b-3138cb89ed3c",
   "metadata": {},
   "source": [
    "## 2. 제너릭 함수의 반환값을 함수 자료형으로 지정해서 처리"
   ]
  },
  {
   "cell_type": "markdown",
   "id": "0daf29e7",
   "metadata": {},
   "source": [
    "## 함수반환 처리"
   ]
  },
  {
   "cell_type": "code",
   "execution_count": 4,
   "id": "9f9d71fe",
   "metadata": {},
   "outputs": [
    {
     "name": "stdout",
     "output_type": "stream",
     "text": [
      "람다표현식 1\n",
      "1111\n",
      "람다표현시 2\n",
      "1111\n"
     ]
    }
   ],
   "source": [
    "fun <타입> 함수명(value : 타입) : ()-> 타입 = {             // 함수를 반환하는 제너릭 함수\n",
    "    println(\"람다표현식 1\")                               // 람다 표현식으로 반환 \n",
    "    value                                              // 마지막 값이 반환값\n",
    "}\n",
    "println(함수명<Int>(1111)())  \n",
    "\n",
    "fun <T> func1(value : T) : () -> T = {                 // 함수 반환자료형 지정  \n",
    "    println(\"람다표현시 2\")\n",
    "    value                                              // 람다표현식을 반환        \n",
    "}\n",
    "\n",
    "println(func1(1111)())                                 // 함수을 연속으로 실행 "
   ]
  },
  {
   "cell_type": "markdown",
   "id": "74ac1724",
   "metadata": {},
   "source": [
    "## 함수의 반환값 처리할 때는 함수를 인자로 받고 처리"
   ]
  },
  {
   "cell_type": "code",
   "execution_count": null,
   "id": "f693fdc4",
   "metadata": {},
   "outputs": [],
   "source": []
  },
  {
   "cell_type": "code",
   "execution_count": 5,
   "id": "de6a68ef",
   "metadata": {},
   "outputs": [
    {
     "name": "stdout",
     "output_type": "stream",
     "text": [
      "10000\n",
      "10000\n"
     ]
    }
   ],
   "source": [
    "fun <타입, 반환타입> 함수명(val1 : 타입, val2 :타입,         // 입력매개변수와 반환자료형 분리 \n",
    "                       op : (타입, 타입) -> 반환타입      // 반환자료형 처리를 위한 함수 전달\n",
    "                  ) : ()-> 반환타입  {                  // 함수를 반환하는 제너릭 함수\n",
    "    return { op(val1,val2)  }                         // 함수를 실행하는 람다표현식을 반환 \n",
    "}\n",
    "\n",
    "val rval1 = 함수명<Int,Int>(100,100,{x,y-> x * y})       // 타입 인자로 2개 전달 함수의 두 인자 전달, 람다표현식 전달\n",
    "println(rval1())                                       // 함수 실행 \n",
    "\n",
    "fun <T,R> func(val1 : T, val2:T, op:(T,T) -> R ) :     // 함수를 매개변수로 받음 \n",
    "                                       () -> R {       // 함수 반환      \n",
    "    return { op(val1,val2)  }\n",
    "}\n",
    "                                       \n",
    "val rval2 = func<Int,Int>(100,100,{x,y-> x * y})       // 타입 인자로 2개 전달 함수의 두 인자 전달, 람다표현식 전달\n",
    "println(rval2())                                       // 함수 실행 "
   ]
  },
  {
   "cell_type": "code",
   "execution_count": null,
   "id": "02413367",
   "metadata": {},
   "outputs": [],
   "source": []
  },
  {
   "cell_type": "code",
   "execution_count": null,
   "id": "a1cd3553",
   "metadata": {},
   "outputs": [],
   "source": []
  },
  {
   "cell_type": "markdown",
   "id": "c65a0b0b",
   "metadata": {},
   "source": [
    "## 타입 제약하기"
   ]
  },
  {
   "cell_type": "code",
   "execution_count": null,
   "id": "1ae9518a",
   "metadata": {},
   "outputs": [],
   "source": []
  },
  {
   "cell_type": "code",
   "execution_count": 6,
   "id": "e1c47934",
   "metadata": {},
   "outputs": [
    {
     "name": "stdout",
     "output_type": "stream",
     "text": [
      "300\n",
      "300.2\n",
      "300\n",
      "300.2\n",
      "사랑하자!! 코틀린\n"
     ]
    }
   ],
   "source": [
    "fun <T : Number>  sumA(x: T, y : T,                            // 타입매개변수에 타입 제한처리 \n",
    "                       action : (T,T) ->T) : T {               // 숫자자료형만 처리 가능 \n",
    "    return action(x,y)\n",
    "}\n",
    "println(sumA(100,200,{x,y -> x+y}))\n",
    "println(sumA(100.1,200.1,{x,y -> x+y}))\n",
    "\n",
    "// println(sumA(\"봄여름\",\"가을겨울\",{x,y -> \"$x $y\"}))              // 자료형 제한으로 오류\n",
    "\n",
    "fun <T>  sumB(x: T, y : T,                                      // 타입매개변수에 타입 제한처리 \n",
    "            action : (T,T) ->T):T  where T : Number,            // where 조건은 and 조건만 수용\n",
    "                                         T : Comparable<T>  {   // 숫자자료형만 처리 가능 \n",
    "    return action(x,y)\n",
    "}\n",
    "println(sumB(100,200,{x,y -> x+y}))\n",
    "println(sumB(100.1,200.1,{x,y -> x+y}))\n",
    "\n",
    "fun <T> suffix(str:T) where T: CharSequence,                    // 타입매개변수에 대한 제한 \n",
    "                            T: Appendable   {                   //  문자시퀀스와 추가가 가능\n",
    "    str.append(\"코틀린\")                                          // 추가 메소드 처리\n",
    "}\n",
    "var name = StringBuilder(\"사랑하자!! \")                            // 갱신가능한 문자열빌더 객체 만들기\n",
    "suffix(name)                                                     // 함수호출해서 문자열 추가 \n",
    "println(name)                                                    // 확인"
   ]
  },
  {
   "cell_type": "code",
   "execution_count": null,
   "id": "f01542eb",
   "metadata": {},
   "outputs": [],
   "source": []
  },
  {
   "cell_type": "code",
   "execution_count": null,
   "id": "dee7bb0c",
   "metadata": {},
   "outputs": [],
   "source": []
  },
  {
   "cell_type": "code",
   "execution_count": null,
   "id": "5ec2da33",
   "metadata": {},
   "outputs": [],
   "source": []
  }
 ],
 "metadata": {
  "kernelspec": {
   "display_name": "Kotlin",
   "language": "kotlin",
   "name": "kotlin"
  },
  "language_info": {
   "codemirror_mode": "text/x-kotlin",
   "file_extension": ".kt",
   "mimetype": "text/x-kotlin",
   "name": "kotlin",
   "nbconvert_exporter": "",
   "pygments_lexer": "kotlin",
   "version": "1.8.20-Beta"
  }
 },
 "nbformat": 4,
 "nbformat_minor": 5
}
