{
 "cells": [
  {
   "cell_type": "code",
   "execution_count": null,
   "id": "24ce4f1c",
   "metadata": {},
   "outputs": [],
   "source": []
  },
  {
   "cell_type": "code",
   "execution_count": 1,
   "id": "baa71122",
   "metadata": {},
   "outputs": [
    {
     "data": {
      "text/plain": [
       "1.7.20"
      ]
     },
     "execution_count": 1,
     "metadata": {},
     "output_type": "execute_result"
    }
   ],
   "source": [
    "KotlinVersion.CURRENT"
   ]
  },
  {
   "cell_type": "code",
   "execution_count": null,
   "id": "41d78020",
   "metadata": {},
   "outputs": [],
   "source": []
  },
  {
   "cell_type": "markdown",
   "id": "5a6e5fcf",
   "metadata": {},
   "source": [
    "## 클래스 정의"
   ]
  },
  {
   "cell_type": "code",
   "execution_count": 2,
   "id": "762148d7",
   "metadata": {},
   "outputs": [
    {
     "name": "stdout",
     "output_type": "stream",
     "text": [
      "class Line_3$Derived\n",
      "false\n",
      "true\n",
      "[Line_3.Base]\n",
      "true\n",
      "true\n",
      "true\n",
      "true\n"
     ]
    }
   ],
   "source": [
    "import kotlin.reflect.full.isSubclassOf           // 서브클래스 관계\n",
    "import kotlin.reflect.full.isSuperclassOf         // 수퍼클래스 관계\n",
    "\n",
    "open class Base                                    // 상속을 하려면 수퍼 클래스를 open \n",
    "class Derived : Base()                             // 상속한 베이스 클래스를 사용할 때는 생성\n",
    "val der = Derived()                                // 하나의 객체 생성\n",
    "\n",
    "println(der.javaClass.kotlin)\n",
    "\n",
    "println((Base::class).isFinal)                      //상속불가 클래스인지 확인\n",
    "println((der::class).isFinal)                       //하위 클래스가 없어서 최종클래스\n",
    "println((der::class).supertypes)                    //슈퍼타입 확인\n",
    "println((der::class).isSubclassOf(Base::class))     //서브클래스 확인\n",
    "\n",
    "fun Any.isIntanceOf(base : Any): Boolean {          //인스턴스 관계 확장함수 작성\n",
    "    return (this::class).isInstance(this)           //리플렉선 클래스의 메소드로 \n",
    "    || (base::class).isInstance(this)               //인스턴스 관계 확인\n",
    "}\n",
    "\n",
    "println(der.isIntanceOf(Base::class))               // 인스턴스 관계\n",
    "println((der::class).isInstance(der))               // 인스턴스 관계 확인\n",
    "println((Base::class).isInstance(der))\n"
   ]
  },
  {
   "cell_type": "code",
   "execution_count": null,
   "id": "2a5c7dc5",
   "metadata": {},
   "outputs": [],
   "source": []
  },
  {
   "cell_type": "markdown",
   "id": "6997617f",
   "metadata": {},
   "source": [
    "## 클래스와 객체 관계 "
   ]
  },
  {
   "cell_type": "code",
   "execution_count": null,
   "id": "58b7a8b5",
   "metadata": {},
   "outputs": [],
   "source": []
  },
  {
   "cell_type": "code",
   "execution_count": 3,
   "id": "0ebaa165",
   "metadata": {},
   "outputs": [
    {
     "name": "stdout",
     "output_type": "stream",
     "text": [
      "true\n",
      "true\n",
      "true\n",
      "true\n"
     ]
    }
   ],
   "source": [
    "import kotlin.reflect.full.isSubclassOf\n",
    "import kotlin.reflect.full.isSuperclassOf\n",
    "\n",
    "open class Person(var name:String, var age:Int)        //베이스 클래스 정의\n",
    "class Man(name:String,age:Int,var sex:String) :        //파생클래스 정의\n",
    "                                  Person(name,age)     //베이스 클래스 상속\n",
    "class Woman(name:String,age:Int, var sex:String) :     // 파생클래스 정의\n",
    "                                  Person(name,age)     //베이스 클래스 상속\n",
    "\n",
    "val m = Man(\"남자\",44,\"남성\")                            // 객체 생성 \n",
    "val w = Woman(\"여자\",44,\"여성\") \n",
    "\n",
    "val mx : Person = m                                    // 베이스 클래스타입 변수에 할당\n",
    "val mm : Man = m                                       // 자기 타입 변수에 할당 \n",
    "//val mw : Woman = m                                   // 다른 클래스타입 변수에 할당시 예외\n",
    "\n",
    "println((Man::class).isSubclassOf(Person::class))      //서브클래스 확인\n",
    "println((Person::class).isSuperclassOf(Woman::class))  //수퍼클래스 확인\n",
    "\n",
    "abstract class Animal {                              //추상클래스 선언\n",
    "    abstract fun getName(): String                   //추상메소드 정의\n",
    "}\n",
    "                                                     //구현클래스 선언\n",
    "class Dog(private val name: String) : Animal() {     //추상클래스도 상속할 때는 생성 필요\n",
    "    override fun getName(): String = name            //메소드 오버라이딩\n",
    "}\n",
    "\n",
    "val dog = Dog(\"멍멍 \")\n",
    "\n",
    "println((Dog::class).isSubclassOf(Animal::class))      //서브클래스 확인\n",
    "println((Animal::class).isSuperclassOf(Dog::class))    //수퍼클래스 확인"
   ]
  },
  {
   "cell_type": "code",
   "execution_count": null,
   "id": "30bb6988",
   "metadata": {},
   "outputs": [],
   "source": []
  },
  {
   "cell_type": "code",
   "execution_count": null,
   "id": "f90ea99d",
   "metadata": {},
   "outputs": [],
   "source": []
  },
  {
   "cell_type": "code",
   "execution_count": null,
   "id": "b32a6911",
   "metadata": {},
   "outputs": [],
   "source": []
  }
 ],
 "metadata": {
  "kernelspec": {
   "display_name": "Kotlin",
   "language": "kotlin",
   "name": "kotlin"
  },
  "language_info": {
   "codemirror_mode": "text/x-kotlin",
   "file_extension": ".kt",
   "mimetype": "text/x-kotlin",
   "name": "kotlin",
   "nbconvert_exporter": "",
   "pygments_lexer": "kotlin",
   "version": "1.7.20-dev-1299"
  }
 },
 "nbformat": 4,
 "nbformat_minor": 5
}
