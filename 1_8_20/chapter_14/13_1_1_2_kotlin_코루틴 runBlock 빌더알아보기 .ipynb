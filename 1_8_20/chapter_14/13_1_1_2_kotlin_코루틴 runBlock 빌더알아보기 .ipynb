{
 "cells": [
  {
   "cell_type": "markdown",
   "id": "c7019e90",
   "metadata": {},
   "source": [
    "## 참조자료\n",
    "\n",
    "https://myungpyo.medium.com/reading-coroutine-official-guide-thoroughly-part-1-98f6e792bd5b"
   ]
  },
  {
   "cell_type": "markdown",
   "id": "9a28c36a",
   "metadata": {},
   "source": [
    "## 코루티 모듈 로딩 "
   ]
  },
  {
   "cell_type": "code",
   "execution_count": 1,
   "id": "ad7b6593",
   "metadata": {},
   "outputs": [],
   "source": [
    "@file:DependsOn(\"org.jetbrains.kotlinx:kotlinx-coroutines-core:1.6.1\")"
   ]
  },
  {
   "cell_type": "code",
   "execution_count": null,
   "id": "2b938c32",
   "metadata": {},
   "outputs": [],
   "source": []
  },
  {
   "cell_type": "markdown",
   "id": "c26b66dc",
   "metadata": {},
   "source": [
    "## 설치 확인 "
   ]
  },
  {
   "cell_type": "code",
   "execution_count": 2,
   "id": "55ce3332",
   "metadata": {},
   "outputs": [
    {
     "data": {
      "text/plain": [
       "Current classpath (14 paths):\n",
       "/Users/dahlmoon/anaconda3/envs/kotlin/lib/python3.8/site-packages/run_kotlin_kernel/jars/lib-0.11.0-61.jar\n",
       "/Users/dahlmoon/anaconda3/envs/kotlin/lib/python3.8/site-packages/run_kotlin_kernel/jars/api-0.11.0-61.jar\n",
       "/Users/dahlmoon/anaconda3/envs/kotlin/lib/python3.8/site-packages/run_kotlin_kernel/jars/kotlin-script-runtime-1.7.0-dev-1825.jar\n",
       "/Users/dahlmoon/anaconda3/envs/kotlin/lib/python3.8/site-packages/run_kotlin_kernel/jars/kotlin-reflect-1.6.0.jar\n",
       "/Users/dahlmoon/anaconda3/envs/kotlin/lib/python3.8/site-packages/run_kotlin_kernel/jars/kotlin-stdlib-1.6.0.jar\n",
       "/Users/dahlmoon/anaconda3/envs/kotlin/lib/python3.8/site-packages/run_kotlin_kernel/jars/annotations-13.0.jar\n",
       "/Users/dahlmoon/anaconda3/envs/kotlin/lib/python3.8/site-packages/run_kotlin_kernel/jars/kotlin-stdlib-common-1.6.0.jar\n",
       "/Users/dahlmoon/.m2/repository/org/jetbrains/kotlinx/kotlinx-coroutines-core/1.6.1/kotlinx-coroutines-core-1.6.1.jar\n",
       "/Users/dahlmoon/.m2/repository/org/jetbrains/kotlinx/kotlinx-coroutines-core-jvm/1.6.1/kotlinx-coroutines-core-jvm-1.6.1.jar\n",
       "/Users/dahlmoon/.m2/repository/org/jetbrains/kotlin/kotlin-stdlib-jdk8/1.6.0/kotlin-stdlib-jdk8-1.6.0.jar\n",
       "/Users/dahlmoon/.m2/repository/org/jetbrains/kotlin/kotlin-stdlib/1.6.0/kotlin-stdlib-1.6.0.jar\n",
       "/Users/dahlmoon/.m2/repository/org/jetbrains/annotations/13.0/annotations-13.0.jar\n",
       "/Users/dahlmoon/.m2/repository/org/jetbrains/kotlin/kotlin-stdlib-jdk7/1.6.0/kotlin-stdlib-jdk7-1.6.0.jar\n",
       "/Users/dahlmoon/.m2/repository/org/jetbrains/kotlin/kotlin-stdlib-common/1.6.0/kotlin-stdlib-common-1.6.0.jar"
      ]
     },
     "execution_count": 2,
     "metadata": {},
     "output_type": "execute_result"
    }
   ],
   "source": [
    ":classpath"
   ]
  },
  {
   "cell_type": "code",
   "execution_count": null,
   "id": "e40682d9",
   "metadata": {},
   "outputs": [],
   "source": []
  },
  {
   "cell_type": "markdown",
   "id": "bf8dfaf0",
   "metadata": {},
   "source": [
    "## 기본 사용 패키지"
   ]
  },
  {
   "cell_type": "code",
   "execution_count": 4,
   "id": "2594075d",
   "metadata": {},
   "outputs": [],
   "source": [
    "import kotlinx.coroutines.GlobalScope     // 전역스코프 클래스\n",
    "import kotlinx.coroutines.CoroutineScope  // 코루틴 스코프 클래스 \n",
    "import kotlinx.coroutines.delay           // 일시중단함수 \n",
    "import kotlinx.coroutines.launch          // 코르틴 빌더 함수 \n",
    "import kotlinx.coroutines.runBlocking     // 코르틴 빌더 함수 \n",
    "import kotlinx.coroutines.coroutineScope  // 코르틴 스코프 생성 함수 \n",
    "import kotlinx.coroutines.Dispatchers     // 코루틴 컨텍스트 관리 \n",
    "import kotlinx.coroutines.Job             // 잡 클래스\n",
    "import kotlinx.coroutines.joinAll         // 조인처리 함수 \n"
   ]
  },
  {
   "cell_type": "code",
   "execution_count": null,
   "id": "6e5c50c8",
   "metadata": {},
   "outputs": [],
   "source": []
  },
  {
   "cell_type": "code",
   "execution_count": 3,
   "id": "cedaf6f2",
   "metadata": {},
   "outputs": [
    {
     "name": "stdout",
     "output_type": "stream",
     "text": [
      "Unconfined            : Thread-10\n",
      "globalscoe            : DefaultDispatcher-worker-1\n",
      "Default               : DefaultDispatcher-worker-1\n",
      "newSingleThreadContext: 스레드\n",
      "runBlocking           : Thread-10\n"
     ]
    }
   ],
   "source": [
    "import kotlinx.coroutines.*\n",
    "\n",
    "// actual fun <T> runBlocking                             // 런블러킹 함수\n",
    "// (context: CoroutineContext = EmptyCoroutineContext,    // 컨텍스트\n",
    "// block: suspend CoroutineScope.() -> T)                 // 람다표현식 처리\n",
    "// : T                                                    // 람다표현식의 반환값처리 \n",
    "\n",
    "fun strName() = Thread.currentThread().name\n",
    "\n",
    "fun main() = runBlocking<Unit> {\n",
    "    launch {                                               // 부모 컨텍스트\n",
    "        println(\"runBlocking           : ${strName()}\")\n",
    "    }\n",
    "    launch(Dispatchers.Unconfined) {                       // 메인 스레드\n",
    "        println(\"Unconfined            : ${strName()}\")\n",
    "    }\n",
    "    \n",
    "    GlobalScope.launch {                                   // 전역스코프 \n",
    "        println(\"globalscoe            : ${strName()}\")\n",
    "    }\n",
    "    launch(Dispatchers.Default) {                          // DefaultDispatcher\n",
    "        println(\"Default               : ${strName()}\")\n",
    "    }\n",
    "    launch(newSingleThreadContext(\"스레드\")) {               // 새로운 스레드로 작업\n",
    "        println(\"newSingleThreadContext: ${strName()}\")\n",
    "    }\n",
    "}\n",
    "\n",
    "main()"
   ]
  },
  {
   "cell_type": "code",
   "execution_count": null,
   "id": "55ee63ec",
   "metadata": {},
   "outputs": [],
   "source": []
  },
  {
   "cell_type": "markdown",
   "id": "e77f01b1",
   "metadata": {},
   "source": [
    "## Job 과 ContinuationInterceptor 확인 "
   ]
  },
  {
   "cell_type": "code",
   "execution_count": 16,
   "id": "4a9d64a3",
   "metadata": {},
   "outputs": [
    {
     "name": "stdout",
     "output_type": "stream",
     "text": [
      "runBlocking : Thread-72\n",
      "[BlockingCoroutine{Active}@48539f3f, BlockingEventLoop@47432693]\n",
      "globalScope : DefaultDispatcher-worker-2\n",
      "[StandaloneCoroutine{Active}@178209c3, Dispatchers.Default]\n",
      "coroutine Scope : DefaultDispatcher-worker-1\n",
      "[StandaloneCoroutine{Active}@2b2c7a2d, Dispatchers.Default]\n"
     ]
    }
   ],
   "source": [
    "fun main() = runBlocking { \n",
    "    println(\"runBlocking : ${Thread.currentThread().name}\")\n",
    "    println(coroutineContext)\n",
    "\n",
    "    GlobalScope.launch { \n",
    "        delay(100)\n",
    "        println(\"globalScope : ${Thread.currentThread().name}\")\n",
    "        println(this.coroutineContext)\n",
    "        \n",
    "    }\n",
    "    \n",
    "    val c = CoroutineScope(Dispatchers.Default).launch { \n",
    "        delay(300)\n",
    "        println(\"coroutine Scope : ${Thread.currentThread().name}\")\n",
    "        println(coroutineContext)\n",
    "    }\n",
    "    \n",
    "    delay(1000)\n",
    "}\n",
    "\n",
    "main()"
   ]
  },
  {
   "cell_type": "code",
   "execution_count": null,
   "id": "192e5e8e",
   "metadata": {},
   "outputs": [],
   "source": []
  },
  {
   "cell_type": "code",
   "execution_count": null,
   "id": "a0c05945",
   "metadata": {},
   "outputs": [],
   "source": []
  },
  {
   "cell_type": "markdown",
   "id": "d331a81d",
   "metadata": {},
   "source": [
    "## runBlocking() - T 반환\n",
    "\n",
    "       : runBlocking은 Scope내의 코루틴(루틴)들이 모두 완료할 때 까지 스레드를 점유한다.\n",
    "\n",
    "         그 말은 Main()에서 CoroutineScope로 코루틴을 생성/실행 할 경우 점유하지 않기 때문에,\n",
    "\n",
    "         Main()은 코루틴이 실행 중임에도 본인의 함수는 끝나고 종료된다"
   ]
  },
  {
   "cell_type": "code",
   "execution_count": 4,
   "id": "3d7f7a20",
   "metadata": {},
   "outputs": [
    {
     "name": "stdout",
     "output_type": "stream",
     "text": [
      "World! Thread-14\n",
      "Hello, Thread-14\n",
      "Main process\n"
     ]
    }
   ],
   "source": [
    "fun main1() {\n",
    "    runBlocking {                                       // 현재 사용하는 스레드 블러킹 처리\n",
    "         println(\"World! \"                              // 출력\n",
    "                 + Thread.currentThread().name)         // \n",
    "         println(\"Hello, \"                              // 출력 \n",
    "                 + Thread.currentThread().name)         // 코루틴 내부에서 출력 \n",
    "    }\n",
    "    Thread.sleep(1000)                                  // 함수 일시중단 \n",
    "    println(\"Main process\")                             // 코루틴 처리후 시행 \n",
    "}\n",
    "main1()"
   ]
  },
  {
   "cell_type": "markdown",
   "id": "43234d4d",
   "metadata": {},
   "source": [
    "## 출력순서 바꾸기"
   ]
  },
  {
   "cell_type": "code",
   "execution_count": 5,
   "id": "db9ea351",
   "metadata": {},
   "outputs": [
    {
     "name": "stdout",
     "output_type": "stream",
     "text": [
      "Hello, Thread[Thread-18,5,main]\n",
      "World! Thread[Thread-18,5,main]\n",
      "Main process\n"
     ]
    }
   ],
   "source": [
    "fun main2() {\n",
    "    println(\"Hello, \"                                  // 먼저 출력 \n",
    "            + Thread.currentThread())\n",
    "    runBlocking {                                      // 코루틴 생성 : 함수가 호출되면 무조건 실행 \n",
    "         println(\"World! \" \n",
    "                 + Thread.currentThread())             // 코르틴 출력 \n",
    "    }\n",
    "    Thread.sleep(1000)                                 // 메인 함수 지연 처리 \n",
    "    println(\"Main process\")                            // 코루틴 처리후 시행 \n",
    "}\n",
    "main2()"
   ]
  },
  {
   "cell_type": "code",
   "execution_count": null,
   "id": "62c1c4d2",
   "metadata": {},
   "outputs": [],
   "source": []
  },
  {
   "cell_type": "markdown",
   "id": "abacc642",
   "metadata": {},
   "source": [
    "## 내부에 일시 지연 및 서브 코루틴 처리"
   ]
  },
  {
   "cell_type": "code",
   "execution_count": 10,
   "id": "40277fe7",
   "metadata": {},
   "outputs": [
    {
     "name": "stdout",
     "output_type": "stream",
     "text": [
      "메인처리 시작\n",
      "서브 코루틴 1 : Thread-46\n",
      "서브 코루틴 1 : 지연후 처리 1\n",
      "서브 코루틴 2 : Thread-46\n",
      "서브 코루틴 1 : 지연후 처리 2\n",
      "메인처리 종료\n"
     ]
    }
   ],
   "source": [
    "fun main0() = runBlocking<Unit> {                     // 기본 스레드를 블럭한 고루틴 생성 \n",
    "     launch {                                         // 서브 코루틴 구성 \n",
    "        println(\"서브 코루틴 1 : \" \n",
    "                    + Thread.currentThread().name)    // 스레드 출력 \n",
    "        delay(300)                                    // 0.3초 지연\n",
    "        println(\"서브 코루틴 1 : 지연후 처리 1\")\n",
    "        \n",
    "        launch {                                      // 자식 코루틴 생성  \n",
    "            delay(100)                                // 0.1초 지연 \n",
    "            println(\"서브 코루틴 2 : \"\n",
    "                    + Thread.currentThread().name)    // 자식 코루틴 처리 : 스레드 출력 \n",
    "        }\n",
    "        \n",
    "        delay(200)                                    // 다시 부모코루틴 처리\n",
    "        println(\"서브 코루틴 1 : 지연후 처리 2\")\n",
    "    }\n",
    "    println(\"메인처리 시작\")                              // 현재 상태를 출력 출력\n",
    "    delay(2000)                                       //  2초 지연 \n",
    "    println(\"메인처리 종료\")\n",
    "}\n",
    "\n",
    "main0()"
   ]
  },
  {
   "cell_type": "code",
   "execution_count": null,
   "id": "bcb05f61",
   "metadata": {},
   "outputs": [],
   "source": []
  },
  {
   "cell_type": "code",
   "execution_count": null,
   "id": "ac1f983d",
   "metadata": {},
   "outputs": [],
   "source": []
  },
  {
   "cell_type": "markdown",
   "id": "720527da",
   "metadata": {},
   "source": [
    "## 반복해서 실행하기 : 중단을 만나면 모든 것이 중단됨"
   ]
  },
  {
   "cell_type": "code",
   "execution_count": null,
   "id": "33732498",
   "metadata": {},
   "outputs": [],
   "source": []
  },
  {
   "cell_type": "code",
   "execution_count": 8,
   "id": "45d5908a",
   "metadata": {},
   "outputs": [
    {
     "name": "stdout",
     "output_type": "stream",
     "text": [
      "job을 일시 중단 처리 :  0 ...\n",
      "job을 일시 중단 처리 :  1 ...\n",
      "job을 일시 중단 처리 :  2 ...\n",
      "main: 다른 고루틴 처리 \n",
      "main: 함수 종료.\n"
     ]
    }
   ],
   "source": [
    "fun main() = runBlocking {                                // 런블럭킹으로 고루틴 생성 \n",
    "    var ix = 0\n",
    "    var job = launch {\n",
    "         repeat(1000) { _ ->                               // 1000 개의 고루틴 생성 \n",
    "              println(\"job을 일시 중단 처리 :  ${ix++} ...\")\n",
    "              delay(500L)\n",
    "        }\n",
    "    }\n",
    "    delay(1300L)                                           // 일시 중단 -> 다른 코루틴 처리 \n",
    "    println(\"main: 다른 고루틴 처리 \")\n",
    "    job.cancel()                                           // 코루틴 중단  : 전체가 중단됨 \n",
    "    job.join()\n",
    "    println(\"main: 함수 종료.\")\n",
    "}\n",
    "\n",
    "main()"
   ]
  },
  {
   "cell_type": "code",
   "execution_count": null,
   "id": "11d43db6",
   "metadata": {},
   "outputs": [],
   "source": []
  },
  {
   "cell_type": "code",
   "execution_count": null,
   "id": "cbd865ee",
   "metadata": {},
   "outputs": [],
   "source": []
  }
 ],
 "metadata": {
  "kernelspec": {
   "display_name": "Kotlin",
   "language": "kotlin",
   "name": "kotlin"
  },
  "language_info": {
   "codemirror_mode": "text/x-kotlin",
   "file_extension": ".kt",
   "mimetype": "text/x-kotlin",
   "name": "kotlin",
   "nbconvert_exporter": "",
   "pygments_lexer": "kotlin",
   "version": "1.7.0-dev-1825"
  }
 },
 "nbformat": 4,
 "nbformat_minor": 5
}
