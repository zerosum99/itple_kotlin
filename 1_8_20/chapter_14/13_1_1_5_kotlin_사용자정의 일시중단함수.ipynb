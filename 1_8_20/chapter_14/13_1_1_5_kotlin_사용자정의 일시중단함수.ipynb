{
 "cells": [
  {
   "cell_type": "markdown",
   "id": "3d177413",
   "metadata": {},
   "source": [
    "# 참조자료\n",
    "\n",
    "-  https://smartshk.tistory.com/19\n",
    "\n",
    "\n",
    "-  https://www.baeldung.com/kotlin/threads-coroutines"
   ]
  },
  {
   "cell_type": "markdown",
   "id": "9d727160",
   "metadata": {},
   "source": [
    "## 코루틴 모듈 올리기"
   ]
  },
  {
   "cell_type": "code",
   "execution_count": 1,
   "id": "786d1398",
   "metadata": {},
   "outputs": [],
   "source": [
    "@file:DependsOn(\"org.jetbrains.kotlinx:kotlinx-coroutines-core:1.6.1\")"
   ]
  },
  {
   "cell_type": "markdown",
   "id": "fdcbba4a",
   "metadata": {},
   "source": [
    "## 모듈 설치 확인하기"
   ]
  },
  {
   "cell_type": "code",
   "execution_count": 2,
   "id": "d1d12808",
   "metadata": {},
   "outputs": [
    {
     "data": {
      "text/plain": [
       "Current classpath (14 paths):\n",
       "/Users/dahlmoon/anaconda3/envs/kotlin/lib/python3.8/site-packages/run_kotlin_kernel/jars/lib-0.11.0-61.jar\n",
       "/Users/dahlmoon/anaconda3/envs/kotlin/lib/python3.8/site-packages/run_kotlin_kernel/jars/api-0.11.0-61.jar\n",
       "/Users/dahlmoon/anaconda3/envs/kotlin/lib/python3.8/site-packages/run_kotlin_kernel/jars/kotlin-script-runtime-1.7.0-dev-1825.jar\n",
       "/Users/dahlmoon/anaconda3/envs/kotlin/lib/python3.8/site-packages/run_kotlin_kernel/jars/kotlin-reflect-1.6.0.jar\n",
       "/Users/dahlmoon/anaconda3/envs/kotlin/lib/python3.8/site-packages/run_kotlin_kernel/jars/kotlin-stdlib-1.6.0.jar\n",
       "/Users/dahlmoon/anaconda3/envs/kotlin/lib/python3.8/site-packages/run_kotlin_kernel/jars/annotations-13.0.jar\n",
       "/Users/dahlmoon/anaconda3/envs/kotlin/lib/python3.8/site-packages/run_kotlin_kernel/jars/kotlin-stdlib-common-1.6.0.jar\n",
       "/Users/dahlmoon/.m2/repository/org/jetbrains/kotlinx/kotlinx-coroutines-core/1.6.1/kotlinx-coroutines-core-1.6.1.jar\n",
       "/Users/dahlmoon/.m2/repository/org/jetbrains/kotlinx/kotlinx-coroutines-core-jvm/1.6.1/kotlinx-coroutines-core-jvm-1.6.1.jar\n",
       "/Users/dahlmoon/.m2/repository/org/jetbrains/kotlin/kotlin-stdlib-jdk8/1.6.0/kotlin-stdlib-jdk8-1.6.0.jar\n",
       "/Users/dahlmoon/.m2/repository/org/jetbrains/kotlin/kotlin-stdlib/1.6.0/kotlin-stdlib-1.6.0.jar\n",
       "/Users/dahlmoon/.m2/repository/org/jetbrains/annotations/13.0/annotations-13.0.jar\n",
       "/Users/dahlmoon/.m2/repository/org/jetbrains/kotlin/kotlin-stdlib-jdk7/1.6.0/kotlin-stdlib-jdk7-1.6.0.jar\n",
       "/Users/dahlmoon/.m2/repository/org/jetbrains/kotlin/kotlin-stdlib-common/1.6.0/kotlin-stdlib-common-1.6.0.jar"
      ]
     },
     "execution_count": 2,
     "metadata": {},
     "output_type": "execute_result"
    }
   ],
   "source": [
    ":classpath"
   ]
  },
  {
   "cell_type": "code",
   "execution_count": null,
   "id": "b153ceea",
   "metadata": {},
   "outputs": [],
   "source": []
  },
  {
   "cell_type": "code",
   "execution_count": null,
   "id": "c4979d19",
   "metadata": {},
   "outputs": [],
   "source": []
  },
  {
   "cell_type": "markdown",
   "id": "d9b8ef94",
   "metadata": {},
   "source": [
    "## 일시중단함수 작성 "
   ]
  },
  {
   "cell_type": "code",
   "execution_count": 3,
   "id": "b56b4f34",
   "metadata": {},
   "outputs": [
    {
     "name": "stdout",
     "output_type": "stream",
     "text": [
      "### 작업 종료  ###\n",
      "일시중단함수 실행 1\n",
      "일시중단함수 실행 2\n",
      "실행결과 1 : 13\n",
      "실행결과 2 : 29\n",
      "총 실행시간 :  413 ms.\n"
     ]
    }
   ],
   "source": [
    "import kotlinx.coroutines.*\n",
    "import kotlin.system.measureTimeMillis \n",
    "\n",
    "suspend fun doSomethingOne(): Int {               // 일시중단함수    \n",
    "    delay(100L)                                   // 일시정지\n",
    "    println(\"일시중단함수 실행 1\")\n",
    "    return 13\n",
    "}\n",
    "\n",
    "suspend fun doSomethingTwo(): Int {               // 일시중단함수 \n",
    "    delay(300L)                                   // 일시정지 \n",
    "    println(\"일시중단함수 실행 2\")\n",
    "    return 29\n",
    "}\n",
    "\n",
    "fun main() {\n",
    "    GlobalScope.launch(Dispatchers.Default) {     // 전역스코프에 코루틴 빌더 \n",
    "            val time = measureTimeMillis {        // 처리시간 계산 \n",
    "                val one = doSomethingOne()        // 함수 호출 \n",
    "                val two = doSomethingTwo()\n",
    "                println( \"실행결과 1 : $one\")       // 실행결과 출력 \n",
    "                println( \"실행결과 2 : $two\")\n",
    "            }\n",
    "            delay(1000)                           // 일시 지연 \n",
    "            println(\"총 실행시간 :  $time ms.\")      // 함수실행결과 출력 \n",
    "    }\n",
    "}\n",
    "\n",
    "println(\"### 작업 종료  ###\")\n",
    "main()\n",
    "Thread.sleep(2000)                                 // 전체 처리 결과 대기"
   ]
  },
  {
   "cell_type": "code",
   "execution_count": null,
   "id": "bfb809c6",
   "metadata": {},
   "outputs": [],
   "source": []
  },
  {
   "cell_type": "markdown",
   "id": "fbbd8101",
   "metadata": {},
   "source": [
    "## 일시중단메소드 작성"
   ]
  },
  {
   "cell_type": "code",
   "execution_count": 4,
   "id": "069a7a70",
   "metadata": {},
   "outputs": [
    {
     "name": "stdout",
     "output_type": "stream",
     "text": [
      "일반함수 호출 \n",
      "일시중단메소드 호출 1\n",
      "일시중단메소드 호출 2\n",
      "메소드 처리 결과 : 42\n"
     ]
    }
   ],
   "source": [
    "import kotlinx.coroutines.*\n",
    "\n",
    "class Suspend {                               // 클래스 정의 \n",
    "    fun compute() {                           // 일반 메소드\n",
    "        println(\"일반함수 호출 \")\n",
    "    }\n",
    "    suspend fun doSomethingOne(): Int {       // 일시중단 메소드\n",
    "        delay(100L)                           // 일시중단함수 처리\n",
    "        println(\"일시중단메소드 호출 1\")           // 출력\n",
    "        return 13                             // 반환값\n",
    "    }\n",
    "\n",
    "    suspend fun doSomethingTwo(): Int {       // 일시중단 메소드\n",
    "        delay(300L)                           // 일시중단함수 처리 \n",
    "        println(\"일시중단메소드 호출 2\")           // 출력 \n",
    "        return 29                             // 반환값\n",
    "    }\n",
    "}\n",
    "\n",
    "fun main() { \n",
    "    val time = runBlocking {                   // 코루틴 구성 \n",
    "        val sus = Suspend()                    // 객체 생성                 \n",
    "        sus.compute()                          // 일반메소드 실행 \n",
    "        val one = sus.doSomethingOne()         // 일시중단메소드 실행\n",
    "        val two = sus.doSomethingTwo()\n",
    "        delay(200)                             // 일시중단 처리\n",
    "        println(\"메소드 처리 결과 : ${one + two}\") // 일시중단메소드 결과 출력\n",
    "    }\n",
    "}\n",
    "main()"
   ]
  },
  {
   "cell_type": "code",
   "execution_count": null,
   "id": "2683bee3",
   "metadata": {},
   "outputs": [],
   "source": []
  },
  {
   "cell_type": "code",
   "execution_count": null,
   "id": "1911933e",
   "metadata": {},
   "outputs": [],
   "source": []
  },
  {
   "cell_type": "markdown",
   "id": "dfde089c",
   "metadata": {},
   "source": [
    "## 일시중단함수에 코루틴스코프 지정"
   ]
  },
  {
   "cell_type": "code",
   "execution_count": 5,
   "id": "68a7a4cd",
   "metadata": {},
   "outputs": [
    {
     "name": "stdout",
     "output_type": "stream",
     "text": [
      "코틀린은 : Thread-20\n",
      "좋은 세상! : DefaultDispatcher-worker-1\n"
     ]
    }
   ],
   "source": [
    "import kotlinx.coroutines.*\n",
    "\n",
    "fun main() = runBlocking {                           // 런블럭으로 코루틴 지정\n",
    "    doWorld()                                        // 일시중단함수 호출   \n",
    "}\n",
    "\n",
    "suspend fun doWorld() =                              // 일시중단함수\n",
    "    coroutineScope {                                 // 코루틴스코프 지정\n",
    "        launch(Dispatchers.Default) {                // 코루틴 빌더에 코루틴 컨텍스트 지정\n",
    "            delay(1000L)                             // 일시정지\n",
    "            println(\"좋은 세상! : \" \n",
    "                    + Thread.currentThread().name)   // 현재 코루틴 처리 \n",
    "        }\n",
    "        \n",
    "        println(\"코틀린은 : \" \n",
    "                    + Thread.currentThread().name)   // 현재 스레드 처리 \n",
    "        \n",
    "    }\n",
    "\n",
    "main()"
   ]
  },
  {
   "cell_type": "code",
   "execution_count": null,
   "id": "f9872e5e",
   "metadata": {},
   "outputs": [],
   "source": []
  },
  {
   "cell_type": "code",
   "execution_count": 6,
   "id": "8818ded9",
   "metadata": {},
   "outputs": [
    {
     "name": "stdout",
     "output_type": "stream",
     "text": [
      "Hello : DefaultDispatcher-worker-1\n",
      "World 1 : DefaultDispatcher-worker-1\n",
      "World 2 : DefaultDispatcher-worker-1\n",
      "Done\n"
     ]
    }
   ],
   "source": [
    "import kotlinx.coroutines.*\n",
    "\n",
    "fun main34() = runBlocking {                      // 코루틴을 현재 스레드로 처리 \n",
    "    withContext(Dispatchers.Default) {            // 코루틴 컨텍스트 변경 \n",
    "        doWorld()                                 // 일시중단함수 호출 \n",
    "    }\n",
    "    println(\"Done\")                               // 종료\n",
    "    \n",
    "    delay(3000)                                   // 모든 코루틴 종료 대기 \n",
    "}\n",
    "\n",
    "suspend fun doWorld() = coroutineScope {          // 코루틴 스코프 지정 \n",
    "    launch {                                      // 코푸틴 빌더 \n",
    "        delay(2000L)\n",
    "        println(\"World 2 : \"\n",
    "                + Thread.currentThread().name)\n",
    "    }\n",
    "    launch {                                      // 코푸틴 빌더 \n",
    "        delay(1000L)\n",
    "        println(\"World 1 : \"\n",
    "                + Thread.currentThread().name)\n",
    "    }\n",
    "    println(\"Hello : \" \n",
    "                + Thread.currentThread().name)\n",
    "}\n",
    "\n",
    "main34()"
   ]
  },
  {
   "cell_type": "code",
   "execution_count": null,
   "id": "7d9e8ee2",
   "metadata": {},
   "outputs": [],
   "source": []
  },
  {
   "cell_type": "code",
   "execution_count": null,
   "id": "be5bfddb",
   "metadata": {},
   "outputs": [],
   "source": []
  },
  {
   "cell_type": "code",
   "execution_count": null,
   "id": "94ba18d7",
   "metadata": {},
   "outputs": [],
   "source": []
  },
  {
   "cell_type": "code",
   "execution_count": null,
   "id": "b79a236f",
   "metadata": {},
   "outputs": [],
   "source": []
  },
  {
   "cell_type": "code",
   "execution_count": null,
   "id": "c6fb1558",
   "metadata": {},
   "outputs": [],
   "source": []
  },
  {
   "cell_type": "code",
   "execution_count": null,
   "id": "d2e101d4",
   "metadata": {},
   "outputs": [],
   "source": []
  },
  {
   "cell_type": "code",
   "execution_count": null,
   "id": "a54ebe86",
   "metadata": {},
   "outputs": [],
   "source": []
  }
 ],
 "metadata": {
  "kernelspec": {
   "display_name": "Kotlin",
   "language": "kotlin",
   "name": "kotlin"
  },
  "language_info": {
   "codemirror_mode": "text/x-kotlin",
   "file_extension": ".kt",
   "mimetype": "text/x-kotlin",
   "name": "kotlin",
   "nbconvert_exporter": "",
   "pygments_lexer": "kotlin",
   "version": "1.7.0-dev-1825"
  }
 },
 "nbformat": 4,
 "nbformat_minor": 5
}
