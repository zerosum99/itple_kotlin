{
 "cells": [
  {
   "cell_type": "code",
   "execution_count": null,
   "id": "8adb6f70-aa2d-40f1-acd6-e2d6fa739aef",
   "metadata": {},
   "outputs": [],
   "source": []
  },
  {
   "cell_type": "code",
   "execution_count": 1,
   "id": "c7a7ac20",
   "metadata": {},
   "outputs": [
    {
     "data": {
      "text/plain": [
       "1.8.20"
      ]
     },
     "execution_count": 1,
     "metadata": {},
     "output_type": "execute_result"
    }
   ],
   "source": [
    "KotlinVersion.CURRENT                // 현재 코틀린 버전 "
   ]
  },
  {
   "cell_type": "code",
   "execution_count": null,
   "id": "cef32e04",
   "metadata": {},
   "outputs": [],
   "source": []
  },
  {
   "cell_type": "code",
   "execution_count": 2,
   "id": "61728df0-fe61-49a0-934f-982cea6955e0",
   "metadata": {},
   "outputs": [
    {
     "data": {
      "text/plain": [
       "class kotlin.String"
      ]
     },
     "execution_count": 2,
     "metadata": {},
     "output_type": "execute_result"
    }
   ],
   "source": [
    "\"Hello\".javaClass.kotlin            // 문자열 클래스 "
   ]
  },
  {
   "cell_type": "code",
   "execution_count": 3,
   "id": "4e3e8504-41c7-45ab-a8ef-3607c5255b58",
   "metadata": {},
   "outputs": [
    {
     "data": {
      "text/plain": [
       "class kotlin.Int"
      ]
     },
     "execution_count": 3,
     "metadata": {},
     "output_type": "execute_result"
    }
   ],
   "source": [
    "(100).javaClass.kotlin              // 정수 클래스 "
   ]
  },
  {
   "cell_type": "code",
   "execution_count": null,
   "id": "76c7b1d2-04f8-4919-86a8-b09459624a85",
   "metadata": {},
   "outputs": [],
   "source": []
  },
  {
   "cell_type": "code",
   "execution_count": null,
   "id": "91c1f2e7",
   "metadata": {},
   "outputs": [],
   "source": []
  },
  {
   "cell_type": "code",
   "execution_count": 4,
   "id": "83457034-5355-4295-841c-00d86903f622",
   "metadata": {},
   "outputs": [],
   "source": [
    "class Hello {                       // 클래스 정의 \n",
    "    val hello = \"Hello\"             // 속성 정의 \n",
    "}"
   ]
  },
  {
   "cell_type": "code",
   "execution_count": 5,
   "id": "c179b764-5af0-40a6-8076-9572797d1550",
   "metadata": {},
   "outputs": [],
   "source": [
    "val h = Hello()                     // 생성자로 객체 생성 후 변수 할당 "
   ]
  },
  {
   "cell_type": "code",
   "execution_count": 6,
   "id": "8df2fda3-271a-4f89-85a9-427e2212e59d",
   "metadata": {},
   "outputs": [
    {
     "data": {
      "text/plain": [
       "class Line_3_jupyter$Hello"
      ]
     },
     "execution_count": 6,
     "metadata": {},
     "output_type": "execute_result"
    }
   ],
   "source": [
    "h.javaClass.kotlin                  // 객체의 클래스 확인 "
   ]
  },
  {
   "cell_type": "code",
   "execution_count": null,
   "id": "0c0208d1-fdab-4989-8421-d9517325f0c7",
   "metadata": {},
   "outputs": [],
   "source": []
  },
  {
   "cell_type": "code",
   "execution_count": null,
   "id": "21efdf4f-fa5e-41ca-99c6-cab7bead89cc",
   "metadata": {},
   "outputs": [],
   "source": []
  }
 ],
 "metadata": {
  "kernelspec": {
   "display_name": "Kotlin",
   "language": "kotlin",
   "name": "kotlin"
  },
  "language_info": {
   "codemirror_mode": "text/x-kotlin",
   "file_extension": ".kt",
   "mimetype": "text/x-kotlin",
   "name": "kotlin",
   "nbconvert_exporter": "",
   "pygments_lexer": "kotlin",
   "version": "1.8.20-Beta"
  }
 },
 "nbformat": 4,
 "nbformat_minor": 5
}
