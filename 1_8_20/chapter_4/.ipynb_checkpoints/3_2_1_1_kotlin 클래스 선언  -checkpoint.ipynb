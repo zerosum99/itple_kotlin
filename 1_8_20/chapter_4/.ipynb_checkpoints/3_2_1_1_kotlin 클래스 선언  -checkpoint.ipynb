{
 "cells": [
  {
   "cell_type": "markdown",
   "id": "3dfe7ed5",
   "metadata": {},
   "source": [
    "## 1.  클래스 선언\n",
    "\n",
    "- class 예약어 + 클래스 명 + 생성자 + 콜론과 상속관계 + 클래스 몸체로 구성한다.\n",
    "- class 예약어 + 클래스 명만 작성하면 아무것도 하지않는 클래스 정의가 가능"
   ]
  },
  {
   "cell_type": "markdown",
   "id": "bf610147",
   "metadata": {},
   "source": [
    "## 클래스 선언 "
   ]
  },
  {
   "cell_type": "code",
   "execution_count": 2,
   "id": "278b3dfd",
   "metadata": {},
   "outputs": [],
   "source": [
    "public class 클래스명 constructor(val 속성1:Int) : Any()  {\n",
    "    init {\n",
    "        println(\" 초기화 실행 \")\n",
    "        // 기본 생성자의 초기화 코드\n",
    "    }\n",
    "    \n",
    "    var 속성2 : String = \"초기화값\"\n",
    "    \n",
    "    constructor(매개변수1: String, 매개변수2 : Int) : this(매개변수2) {\n",
    "        var 속성3 : String  = 매개변수1\n",
    "    }\n",
    "    \n",
    "    fun 메소드1(): Unit {\n",
    "        // 객체의 행위\n",
    "    }\n",
    "    \n",
    "    class 내부클래스 {\n",
    "        // 클래스 로직\n",
    "    }\n",
    "    \n",
    "    object 내부객체 {\n",
    "        // 객체 로직\n",
    "    }\n",
    "}"
   ]
  },
  {
   "cell_type": "code",
   "execution_count": null,
   "id": "83698bd1",
   "metadata": {},
   "outputs": [],
   "source": []
  },
  {
   "cell_type": "markdown",
   "id": "6f6d503c-72a9-4a55-b840-6649303b7aa5",
   "metadata": {},
   "source": [
    "### 클래스를 정의하는 이유는 객체를 생성해서 사용하기 위해"
   ]
  },
  {
   "cell_type": "code",
   "execution_count": 6,
   "id": "7b3b1128",
   "metadata": {},
   "outputs": [
    {
     "name": "stdout",
     "output_type": "stream",
     "text": [
      "class Line_335$Animal\n",
      "class Line_335$Klass\n"
     ]
    }
   ],
   "source": [
    "class Animal       // 아무런 기능이 없는 클래스 선언\n",
    "class Klass {}\n",
    "\n",
    "val a = Animal()   // 아무런 기능이 없지만 인스턴스 생성\n",
    "val k = Klass()\n",
    "\n",
    "println(a :: class)\n",
    "println(k.javaClass.kotlin)"
   ]
  },
  {
   "cell_type": "code",
   "execution_count": null,
   "id": "44412060",
   "metadata": {},
   "outputs": [],
   "source": []
  },
  {
   "cell_type": "markdown",
   "id": "dbcecfec-2f22-4076-bc5d-749f676699cf",
   "metadata": {},
   "source": [
    "### 클래스 내부 멤버 정의"
   ]
  },
  {
   "cell_type": "code",
   "execution_count": 7,
   "id": "a393cd0f",
   "metadata": {},
   "outputs": [
    {
     "name": "stdout",
     "output_type": "stream",
     "text": [
      "아프리카\n",
      "아프리카\n"
     ]
    }
   ],
   "source": [
    "class Person (name:String, age:Int) {   // 기본생성자의 매개변수 지정\n",
    "    val name = name                     // 2개의 프로퍼티 선언 및 초기화\n",
    "    var age = age\n",
    "}\n",
    "\n",
    "class People(val name:String, val age:Int)  // 본문이 프로퍼티를 주생성자에 표시\n",
    "\n",
    "val c = Person(\"아프리카\", 33)                // 객체 인스턴스 생성\n",
    "val d = c                                   // 객체 인스턴스 연결 : 동일한 객체\n",
    " \n",
    "println(d.name)                             // 프로퍼티 출력\n",
    "println(c.name)"
   ]
  },
  {
   "cell_type": "code",
   "execution_count": null,
   "id": "633258fb",
   "metadata": {},
   "outputs": [],
   "source": []
  },
  {
   "cell_type": "markdown",
   "id": "5320498c-98ae-45cd-9852-b30671881a01",
   "metadata": {},
   "source": [
    "### 객체를 생성할 때 인자를 전달"
   ]
  },
  {
   "cell_type": "code",
   "execution_count": null,
   "id": "7abb794d",
   "metadata": {},
   "outputs": [],
   "source": []
  },
  {
   "cell_type": "code",
   "execution_count": 11,
   "id": "23555de9",
   "metadata": {},
   "outputs": [],
   "source": [
    "val p = People(\"사우디\", 33)"
   ]
  },
  {
   "cell_type": "code",
   "execution_count": 12,
   "id": "14aafddd",
   "metadata": {},
   "outputs": [
    {
     "name": "stdout",
     "output_type": "stream",
     "text": [
      "사우디 33\n"
     ]
    }
   ],
   "source": [
    "println(p.name + \" \" + p.age)"
   ]
  },
  {
   "cell_type": "code",
   "execution_count": null,
   "id": "bc344efb",
   "metadata": {},
   "outputs": [],
   "source": []
  }
 ],
 "metadata": {
  "kernelspec": {
   "display_name": "Kotlin",
   "language": "kotlin",
   "name": "kotlin"
  },
  "language_info": {
   "codemirror_mode": "text/x-kotlin",
   "file_extension": ".kt",
   "mimetype": "text/x-kotlin",
   "name": "kotlin",
   "nbconvert_exporter": "",
   "pygments_lexer": "kotlin",
   "version": "1.7.0-dev-1825"
  }
 },
 "nbformat": 4,
 "nbformat_minor": 5
}
