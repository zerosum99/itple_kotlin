{
 "cells": [
  {
   "cell_type": "code",
   "execution_count": null,
   "id": "f43b0223",
   "metadata": {},
   "outputs": [],
   "source": []
  },
  {
   "cell_type": "markdown",
   "id": "66715e85",
   "metadata": {},
   "source": [
    "# 2. 객체 선언"
   ]
  },
  {
   "cell_type": "markdown",
   "id": "7af96da4",
   "metadata": {},
   "source": [
    "## 객체선언 후 내부 속성 처리"
   ]
  },
  {
   "cell_type": "code",
   "execution_count": 14,
   "id": "9028b661",
   "metadata": {},
   "outputs": [
    {
     "name": "stdout",
     "output_type": "stream",
     "text": [
      "1\n"
     ]
    }
   ],
   "source": [
    "object Counter {\n",
    "    private var count: Int = 0    // 보호속성 정의\n",
    "\n",
    "    fun currentCount() = count    // 보호속성 조회\n",
    "\n",
    "    fun increment() = ++count     // 보호속성 갱신\n",
    "}\n",
    "Counter.increment()\n",
    "println(Counter.currentCount())\n"
   ]
  },
  {
   "cell_type": "markdown",
   "id": "f5822941",
   "metadata": {},
   "source": [
    "## 클래스 상속하고 객체 처리"
   ]
  },
  {
   "cell_type": "code",
   "execution_count": 15,
   "id": "00006eb8",
   "metadata": {},
   "outputs": [
    {
     "name": "stdout",
     "output_type": "stream",
     "text": [
      "300\n",
      "-100\n",
      "20000\n",
      "0\n"
     ]
    }
   ],
   "source": [
    "open class Value(open val x:Int, open val y:Int)  // 베이스 클래스 정의 open\n",
    "\n",
    "object Operation : Value(100,200) {               // 객체에서 베이스 클래스 상속\n",
    "    override val x = super.x                      // 속성을 오버라이딩 처리\n",
    "    override val y = super.y\n",
    "    \n",
    "    fun add() = x + y                             // 사칙연산 메소드 처리\n",
    "    fun sub() = x - y\n",
    "    fun mul() = x * y\n",
    "    fun div() = x / y\n",
    "}\n",
    "\n",
    "println(Operation.add())\n",
    "println(Operation.sub())\n",
    "println(Operation.mul())\n",
    "println(Operation.div())"
   ]
  },
  {
   "cell_type": "code",
   "execution_count": null,
   "id": "0695c396",
   "metadata": {},
   "outputs": [],
   "source": []
  },
  {
   "cell_type": "markdown",
   "id": "b01a8ef3",
   "metadata": {},
   "source": [
    "## 클래스 상속 처리  "
   ]
  },
  {
   "cell_type": "code",
   "execution_count": 7,
   "id": "70e7a316",
   "metadata": {},
   "outputs": [
    {
     "name": "stdout",
     "output_type": "stream",
     "text": [
      "Eating food.\n",
      "I don't pray. I am an atheist.\n"
     ]
    }
   ],
   "source": [
    "open class Person() {\n",
    "    fun eat() = println(\"Eating food.\")\n",
    "\n",
    "    fun talk() = println(\"Talking with people.\")\n",
    "\n",
    "    open fun pray() = println(\"Praying god.\")\n",
    "}\n",
    "\n",
    "object Action : Person() { \n",
    "    override fun pray() = println(\"I don't pray. I am an atheist.\")\n",
    "}\n",
    "\n",
    "Action.eat()\n",
    "Action.pray()"
   ]
  },
  {
   "cell_type": "code",
   "execution_count": null,
   "id": "303dbf30",
   "metadata": {},
   "outputs": [],
   "source": []
  },
  {
   "cell_type": "code",
   "execution_count": null,
   "id": "efed9b88",
   "metadata": {},
   "outputs": [],
   "source": []
  },
  {
   "cell_type": "code",
   "execution_count": null,
   "id": "6bcc20b0",
   "metadata": {},
   "outputs": [],
   "source": []
  },
  {
   "cell_type": "code",
   "execution_count": null,
   "id": "15e8697b",
   "metadata": {},
   "outputs": [],
   "source": []
  }
 ],
 "metadata": {
  "kernelspec": {
   "display_name": "Kotlin",
   "language": "kotlin",
   "name": "kotlin"
  },
  "language_info": {
   "codemirror_mode": "text/x-kotlin",
   "file_extension": ".kt",
   "mimetype": "text/x-kotlin",
   "name": "kotlin",
   "nbconvert_exporter": "",
   "pygments_lexer": "kotlin",
   "version": "1.6.0-dev-3567"
  }
 },
 "nbformat": 4,
 "nbformat_minor": 5
}
