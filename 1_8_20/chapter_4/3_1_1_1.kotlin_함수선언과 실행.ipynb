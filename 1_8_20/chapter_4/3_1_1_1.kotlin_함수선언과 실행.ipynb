{
 "cells": [
  {
   "cell_type": "code",
   "execution_count": null,
   "id": "03ea5373-3a8c-4978-83b4-4ea454305ff7",
   "metadata": {},
   "outputs": [],
   "source": []
  },
  {
   "cell_type": "code",
   "execution_count": 1,
   "id": "c89e01c7",
   "metadata": {},
   "outputs": [
    {
     "data": {
      "text/plain": [
       "1.8.20"
      ]
     },
     "execution_count": 1,
     "metadata": {},
     "output_type": "execute_result"
    }
   ],
   "source": [
    "KotlinVersion.CURRENT             // 코틀린 현재 버전 "
   ]
  },
  {
   "cell_type": "code",
   "execution_count": null,
   "id": "69261ab5",
   "metadata": {},
   "outputs": [],
   "source": []
  },
  {
   "cell_type": "markdown",
   "id": "e15c8cfc-b8e7-45bd-a5d3-30ed7688ed93",
   "metadata": {},
   "source": [
    "## 1. 함수 정의과 호출"
   ]
  },
  {
   "cell_type": "code",
   "execution_count": 2,
   "id": "419e08da",
   "metadata": {},
   "outputs": [
    {
     "name": "stdout",
     "output_type": "stream",
     "text": [
      " 100 300\n",
      "(함수, 호출)\n"
     ]
    }
   ],
   "source": [
    "fun 함수명(매개변수명1:String, 매개변수명2:String) : \n",
    "                       Pair<String, String> {  //반환타입 : 튜플처리 \n",
    "    val 지역변수1 = 100\n",
    "    var 지역변수2 = 300\n",
    "    \n",
    "    fun 지역함수명(매개변수명:String) : String {\n",
    "        return \"매개변수명\"\n",
    "    }\n",
    "    \n",
    "    class 지역클래스명 {}\n",
    "    \n",
    "    //object 지역오브젝트 {}                      //함수내부에 지정금지\n",
    "    \n",
    "    println(\" $지역변수1 $지역변수2\")              //지역변수를 사용하지 않으면 \n",
    "                                              // 컴파일 에러\n",
    "    \n",
    "    return Pair(매개변수명1, 매개변수명2)           //튜플로 반환값 전환\n",
    "}\n",
    "\n",
    "val 결과값 = 함수명(\"함수\",\"호출\")\n",
    "println(결과값)"
   ]
  },
  {
   "cell_type": "code",
   "execution_count": null,
   "id": "91e7bf99",
   "metadata": {},
   "outputs": [],
   "source": []
  },
  {
   "cell_type": "markdown",
   "id": "dc7dd238",
   "metadata": {},
   "source": [
    "## 반환값이 없는 함수"
   ]
  },
  {
   "cell_type": "code",
   "execution_count": 3,
   "id": "369404d7",
   "metadata": {},
   "outputs": [
    {
     "name": "stdout",
     "output_type": "stream",
     "text": [
      " 특정 처리 기능이 없음 \n",
      " 반환값을 생략 가능\n"
     ]
    }
   ],
   "source": [
    "fun func() : Unit {                   // 반환값이 없는 함수에도 반환자료형 선언\n",
    "    println(\" 특정 처리 기능이 없음 \")\n",
    "}\n",
    "\n",
    "func()\n",
    "\n",
    "fun funcNoReturn() {                  // 반환값이 없을 경우는 생략 가능 \n",
    "    println(\" 반환값을 생략 가능\")\n",
    "}\n",
    "funcNoReturn()"
   ]
  },
  {
   "cell_type": "code",
   "execution_count": null,
   "id": "919e9cb9",
   "metadata": {},
   "outputs": [],
   "source": []
  },
  {
   "cell_type": "code",
   "execution_count": null,
   "id": "ef27285f-6619-4039-9d49-6287abe04cb9",
   "metadata": {},
   "outputs": [],
   "source": []
  }
 ],
 "metadata": {
  "kernelspec": {
   "display_name": "Kotlin",
   "language": "kotlin",
   "name": "kotlin"
  },
  "language_info": {
   "codemirror_mode": "text/x-kotlin",
   "file_extension": ".kt",
   "mimetype": "text/x-kotlin",
   "name": "kotlin",
   "nbconvert_exporter": "",
   "pygments_lexer": "kotlin",
   "version": "1.8.20-Beta"
  }
 },
 "nbformat": 4,
 "nbformat_minor": 5
}
