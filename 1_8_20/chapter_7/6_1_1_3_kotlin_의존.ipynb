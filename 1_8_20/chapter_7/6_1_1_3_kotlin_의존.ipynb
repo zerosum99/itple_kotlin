{
 "cells": [
  {
   "cell_type": "code",
   "execution_count": null,
   "id": "28ae4168",
   "metadata": {},
   "outputs": [],
   "source": []
  },
  {
   "cell_type": "code",
   "execution_count": 1,
   "id": "383cdc51",
   "metadata": {},
   "outputs": [
    {
     "data": {
      "text/plain": [
       "1.8.20"
      ]
     },
     "execution_count": 1,
     "metadata": {},
     "output_type": "execute_result"
    }
   ],
   "source": [
    "KotlinVersion.CURRENT             // 코틀린 현재 버전 "
   ]
  },
  {
   "cell_type": "code",
   "execution_count": null,
   "id": "c9f875fb",
   "metadata": {},
   "outputs": [],
   "source": []
  },
  {
   "cell_type": "markdown",
   "id": "92e2a7fa",
   "metadata": {},
   "source": [
    "## 의존은 메소드에 직접 객체를 전달"
   ]
  },
  {
   "cell_type": "code",
   "execution_count": 2,
   "id": "59ddd8ba",
   "metadata": {},
   "outputs": [
    {
     "name": "stdout",
     "output_type": "stream",
     "text": [
      "입금\n",
      "123\n",
      "3000\n"
     ]
    }
   ],
   "source": [
    "class Account(val accountNo : Int,               //의존 처리 클래스 \n",
    "              var balance:Int=0) {\n",
    "    fun deposit(amount : Int){\n",
    "        println(\"입금\")\n",
    "        balance += amount\n",
    "        \n",
    "    }\n",
    "} \n",
    "\n",
    "class Customer(var balance : Int) {\n",
    "    fun makeDeposit(acc : Account){              //메소드의 매개변수로 의존 클래스 전달\n",
    "        acc.deposit(balance);                    //내부에서 의존 클래스의 메소드 실행 \n",
    "    }\n",
    "}\n",
    "\n",
    "val acc = Account(123)\n",
    "val cus = Customer(3000)\n",
    "\n",
    "cus.makeDeposit(acc)\n",
    "println(acc.accountNo)\n",
    "println(acc.balance)"
   ]
  },
  {
   "cell_type": "code",
   "execution_count": null,
   "id": "8bb8628b",
   "metadata": {},
   "outputs": [],
   "source": []
  },
  {
   "cell_type": "code",
   "execution_count": null,
   "id": "aa5b1d99",
   "metadata": {},
   "outputs": [],
   "source": []
  }
 ],
 "metadata": {
  "kernelspec": {
   "display_name": "Kotlin",
   "language": "kotlin",
   "name": "kotlin"
  },
  "language_info": {
   "codemirror_mode": "text/x-kotlin",
   "file_extension": ".kt",
   "mimetype": "text/x-kotlin",
   "name": "kotlin",
   "nbconvert_exporter": "",
   "pygments_lexer": "kotlin",
   "version": "1.8.20-Beta"
  }
 },
 "nbformat": 4,
 "nbformat_minor": 5
}
