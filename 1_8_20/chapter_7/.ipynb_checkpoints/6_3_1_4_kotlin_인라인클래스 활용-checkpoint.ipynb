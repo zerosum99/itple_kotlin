{
 "cells": [
  {
   "cell_type": "code",
   "execution_count": null,
   "id": "ed7a0909",
   "metadata": {},
   "outputs": [],
   "source": []
  },
  {
   "cell_type": "code",
   "execution_count": 1,
   "id": "f90ca0a3",
   "metadata": {},
   "outputs": [
    {
     "data": {
      "text/plain": [
       "1.7.20"
      ]
     },
     "execution_count": 1,
     "metadata": {},
     "output_type": "execute_result"
    }
   ],
   "source": [
    "KotlinVersion.CURRENT             // 코틀린 현재 버전 "
   ]
  },
  {
   "cell_type": "code",
   "execution_count": null,
   "id": "3c35504f",
   "metadata": {},
   "outputs": [],
   "source": []
  },
  {
   "cell_type": "markdown",
   "id": "52ca2993",
   "metadata": {},
   "source": [
    "## 타입 얼라이어스 와 인라인클래스"
   ]
  },
  {
   "cell_type": "code",
   "execution_count": 2,
   "id": "0f7ad4f4",
   "metadata": {},
   "outputs": [
    {
     "name": "stdout",
     "output_type": "stream",
     "text": [
      "가을\n",
      "인라인\n",
      "여름\n",
      "인라인\n"
     ]
    }
   ],
   "source": [
    "typealias NameTypeAlias = String\n",
    "\n",
    "@JvmInline\n",
    "value class NameInlineClass(val s: String)\n",
    "\n",
    "fun acceptString(s: String) {\n",
    "    println(s)\n",
    "}\n",
    "fun acceptNameTypeAlias(n: NameTypeAlias) {\n",
    "    println(n)\n",
    "}\n",
    "fun acceptNameInlineClass(p: NameInlineClass) {\n",
    "    println(p.s)\n",
    "}\n",
    "\n",
    "val nameAlias: NameTypeAlias = \"가을\"\n",
    "val nameInlineClass = NameInlineClass(\"인라인\")\n",
    "val string: String = \"여름\"\n",
    "\n",
    "acceptString(nameAlias)                        // OK: pass alias instead of underlying type\n",
    "acceptString(nameInlineClass.s)                // Not OK: can't pass inline class instead of underlying type\n",
    "\n",
    "                                               // And vice versa:\n",
    "acceptNameTypeAlias(string)                    // OK: pass underlying type instead of alias\n",
    "acceptNameInlineClass(nameInlineClass)         // Not OK: can't pass underlying type instead of inline class\n"
   ]
  },
  {
   "cell_type": "code",
   "execution_count": null,
   "id": "f9238ec5",
   "metadata": {},
   "outputs": [],
   "source": []
  },
  {
   "cell_type": "code",
   "execution_count": null,
   "id": "e48dd1ad",
   "metadata": {},
   "outputs": [],
   "source": []
  },
  {
   "cell_type": "code",
   "execution_count": 3,
   "id": "a4e24cc4",
   "metadata": {},
   "outputs": [
    {
     "name": "stdout",
     "output_type": "stream",
     "text": [
      "Foo(i=42)\n",
      "인라인 클래스 자료형 처리 \n",
      "타입매개변수 처리 \n",
      "인터페이스 상속처리 \n",
      "인라인 클래스 널러블 자료형처리 \n",
      "Foo(i=42)\n"
     ]
    }
   ],
   "source": [
    "interface I\n",
    "\n",
    "@JvmInline\n",
    "value class Foo(val i: Int) : I\n",
    "\n",
    "fun asInline(f: Foo) {\n",
    "    println(\"인라인 클래스 자료형 처리 \")\n",
    "}\n",
    "fun <T> asGeneric(x: T) {\n",
    "    println(\"타입매개변수 처리 \")\n",
    "}\n",
    "fun asInterface(i: I) {\n",
    "    println(\"인터페이스 상속처리 \")\n",
    "}\n",
    "fun asNullable(i: Foo?) {\n",
    "    println(\"인라인 클래스 널러블 자료형처리 \")\n",
    "}\n",
    "\n",
    "fun <T> id(x: T): T = x\n",
    "\n",
    "\n",
    "val f = Foo(42)\n",
    "println(f)\n",
    "\n",
    "asInline(f)    // 자기 클래스 타입으로 처리 \n",
    "asGeneric(f)   // 타입매개변수 처리 \n",
    "asInterface(f) // 인터페이스 기준으로 처리 \n",
    "asNullable(f)  // 널러블 타입으로 처리 \n",
    "\n",
    "val c = id(f)  //타입매개변수로 처리 \n",
    "println(c)\n"
   ]
  },
  {
   "cell_type": "code",
   "execution_count": null,
   "id": "541ae348",
   "metadata": {},
   "outputs": [],
   "source": []
  },
  {
   "cell_type": "code",
   "execution_count": null,
   "id": "221610ca",
   "metadata": {},
   "outputs": [],
   "source": []
  }
 ],
 "metadata": {
  "kernelspec": {
   "display_name": "Kotlin",
   "language": "kotlin",
   "name": "kotlin"
  },
  "language_info": {
   "codemirror_mode": "text/x-kotlin",
   "file_extension": ".kt",
   "mimetype": "text/x-kotlin",
   "name": "kotlin",
   "nbconvert_exporter": "",
   "pygments_lexer": "kotlin",
   "version": "1.7.20-dev-1299"
  }
 },
 "nbformat": 4,
 "nbformat_minor": 5
}
