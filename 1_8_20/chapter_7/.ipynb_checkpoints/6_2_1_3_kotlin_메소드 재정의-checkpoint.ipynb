{
 "cells": [
  {
   "cell_type": "code",
   "execution_count": null,
   "id": "b392e547",
   "metadata": {},
   "outputs": [],
   "source": []
  },
  {
   "cell_type": "code",
   "execution_count": 1,
   "id": "3ffd7d62",
   "metadata": {},
   "outputs": [
    {
     "data": {
      "text/plain": [
       "1.8.20"
      ]
     },
     "execution_count": 1,
     "metadata": {},
     "output_type": "execute_result"
    }
   ],
   "source": [
    "KotlinVersion.CURRENT             // 코틀린 현재 버전 "
   ]
  },
  {
   "cell_type": "code",
   "execution_count": null,
   "id": "ee3ce75c",
   "metadata": {},
   "outputs": [],
   "source": []
  },
  {
   "cell_type": "markdown",
   "id": "5a6e5fcf",
   "metadata": {},
   "source": [
    "## 오버로딩"
   ]
  },
  {
   "cell_type": "code",
   "execution_count": 2,
   "id": "5138aa77",
   "metadata": {},
   "outputs": [
    {
     "name": "stdout",
     "output_type": "stream",
     "text": [
      "매개변수없음\n",
      "매개변수 하나\n",
      "매개변수 두개 \n",
      "매개변수 두개 \n"
     ]
    }
   ],
   "source": [
    "class MethodOverload {                     //동일한 클래스에 동일한 이름의 메소드를 재정의하는 것 \n",
    "    fun hello() {                          //매개변수는 메소드 \n",
    "        println(\"매개변수없음\")\n",
    "    }\n",
    "    fun hello(name : String) {              // 매개변수가 하나인 메소드 \n",
    "        println(\"매개변수 하나\")\n",
    "    }\n",
    "    fun hello(name:String, age : Int) {     // 메개변수가 두개인 메소드 \n",
    "        println(\"매개변수 두개 \") \n",
    "    }\n",
    "    fun hello(name:String, age : String) {  // 메개변수가 두개인 메소드  \n",
    "        println(\"매개변수 두개 \")              //매개변수 자료형이 다르면 재정의 가능 \n",
    "    }\n",
    "}\n",
    "\n",
    "val h = MethodOverload()\n",
    "h.hello()\n",
    "h.hello(\"dahl\")\n",
    "h.hello(\"moon\", 55)\n",
    "h.hello(\"남궁성\", \"50\")"
   ]
  },
  {
   "cell_type": "code",
   "execution_count": null,
   "id": "f6e34618",
   "metadata": {},
   "outputs": [],
   "source": []
  },
  {
   "cell_type": "markdown",
   "id": "810467d0",
   "metadata": {},
   "source": [
    "## 오버로딩 없앰"
   ]
  },
  {
   "cell_type": "code",
   "execution_count": 3,
   "id": "8c890bdc",
   "metadata": {},
   "outputs": [
    {
     "name": "stdout",
     "output_type": "stream",
     "text": [
      "안녕, 신세계!\n",
      "안녕, 문상천!\n",
      "안녕 주원장(55)!\n"
     ]
    }
   ],
   "source": [
    "class NoTMethodOverload{\n",
    "    fun hello(name: String = \"신세계\",               // 초기값을 지정해서 오버로딩 해결 \n",
    "              age: Int = 0) {\n",
    "        if (age > 0) {\n",
    "            println(\"안녕 ${name}(${age})!\");\n",
    "        } else {\n",
    "            println(\"안녕, ${name}!\");\n",
    "        }\n",
    "    }\n",
    "}\n",
    "\n",
    "val h1 = NoTMethodOverload()                        // 객체를 생성 \n",
    "h1.hello()                                          // 다양한 인자 전달 \n",
    "h1.hello(\"문상천\") \n",
    "h1.hello(\"주원장\", 55)"
   ]
  },
  {
   "cell_type": "code",
   "execution_count": null,
   "id": "2c22c345",
   "metadata": {},
   "outputs": [],
   "source": []
  },
  {
   "cell_type": "markdown",
   "id": "bb08fa19",
   "metadata": {},
   "source": [
    "## 오버라이딩"
   ]
  },
  {
   "cell_type": "code",
   "execution_count": 4,
   "id": "1c542dd7",
   "metadata": {},
   "outputs": [
    {
     "name": "stdout",
     "output_type": "stream",
     "text": [
      "학생이 식사한다 \n",
      "학생이 식사한다 \n"
     ]
    }
   ],
   "source": [
    "open class Person {                      //최상위 수퍼클래스 \n",
    "    open fun eat(){\n",
    "        println(\"사람이 식사한다.\")\n",
    "    }\n",
    "}\n",
    "open class Man : Person() {              //상위 수퍼클래스 \n",
    "   override fun eat(){\n",
    "        println(\"남자가 식사한다.\")\n",
    "    } \n",
    "}\n",
    "class Student : Man() {                  //파생 클래스 \n",
    "    final override fun eat(){\n",
    "        println(\"학생이 식사한다 \")\n",
    "    }\n",
    "}\n",
    "\n",
    "val s = Student()                        //파생클래스로 객체생성 \n",
    "s.eat()                                  //파생클래스에 있는 eat 메소드 실행 \n",
    "\n",
    "val ss : Person = s                      //최상위자료형이 있는 변수에 할당 \n",
    "ss.eat()                                 //파생클래스의 eat 메소드 실행"
   ]
  },
  {
   "cell_type": "code",
   "execution_count": null,
   "id": "13c8834b",
   "metadata": {},
   "outputs": [],
   "source": []
  },
  {
   "cell_type": "markdown",
   "id": "c76d5cca",
   "metadata": {},
   "source": [
    "## 오버라이딩 대상 조정"
   ]
  },
  {
   "cell_type": "code",
   "execution_count": 5,
   "id": "b32a6911",
   "metadata": {},
   "outputs": [
    {
     "name": "stdout",
     "output_type": "stream",
     "text": [
      "문지원 님은 식사중입니다.\n",
      "문지원 님은 일짹 자러갑니다.\n",
      "문지원 님은 공부중입니다. \n"
     ]
    }
   ],
   "source": [
    "open class Person(var role: String = \"사람\",   //상위클래스 초기화 값 \n",
    "                  var name: String = \"무명씨\") {\n",
    "    fun eat(){                                   //파이널 메소드 : 오버라이딩 금지\n",
    "        println(\"$name 님은 식사중입니다.\")\n",
    "    }\n",
    "    open fun sleep(){                            //메소드 오버라이딩 요구 \n",
    "        println(\"#name 님은 취침중입니다.\")\n",
    "    }\n",
    "}\n",
    " \n",
    "class Student(name: String): \n",
    "                   Person(\"학생\", name) {\n",
    "    fun activity(){\n",
    "        println(\"$name 님은 공부중입니다. \")          //현재 클래스의 파이널 메소드 \n",
    "    }\n",
    "    override fun sleep(){                         //메소드 오버라이딩 처리 \n",
    "        println(\"$name 님은 일짹 자러갑니다.\")\n",
    "    }\n",
    " \n",
    "    fun doAll(){\n",
    "        eat()\n",
    "        sleep()\n",
    "        activity()\n",
    "    }\n",
    "}\n",
    "                   \n",
    "var student_1 = Student(\"문지원\")\n",
    "student_1.doAll()"
   ]
  },
  {
   "cell_type": "code",
   "execution_count": null,
   "id": "75961747",
   "metadata": {},
   "outputs": [],
   "source": []
  },
  {
   "cell_type": "code",
   "execution_count": null,
   "id": "e8c09276",
   "metadata": {},
   "outputs": [],
   "source": []
  }
 ],
 "metadata": {
  "kernelspec": {
   "display_name": "Kotlin",
   "language": "kotlin",
   "name": "kotlin"
  },
  "language_info": {
   "codemirror_mode": "text/x-kotlin",
   "file_extension": ".kt",
   "mimetype": "text/x-kotlin",
   "name": "kotlin",
   "nbconvert_exporter": "",
   "pygments_lexer": "kotlin",
   "version": "1.8.20-Beta"
  }
 },
 "nbformat": 4,
 "nbformat_minor": 5
}
