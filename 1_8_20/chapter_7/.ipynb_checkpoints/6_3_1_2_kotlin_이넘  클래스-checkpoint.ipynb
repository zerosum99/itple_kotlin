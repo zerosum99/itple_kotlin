{
 "cells": [
  {
   "cell_type": "code",
   "execution_count": null,
   "id": "15f09998",
   "metadata": {},
   "outputs": [],
   "source": []
  },
  {
   "cell_type": "code",
   "execution_count": 1,
   "id": "e87734ff",
   "metadata": {},
   "outputs": [
    {
     "data": {
      "text/plain": [
       "1.8.20"
      ]
     },
     "execution_count": 1,
     "metadata": {},
     "output_type": "execute_result"
    }
   ],
   "source": [
    "KotlinVersion.CURRENT             // 코틀린 현재 버전 "
   ]
  },
  {
   "cell_type": "code",
   "execution_count": null,
   "id": "0dec74cc",
   "metadata": {},
   "outputs": [],
   "source": []
  },
  {
   "cell_type": "markdown",
   "id": "9f0d0327",
   "metadata": {},
   "source": [
    "## 이넘 클래스"
   ]
  },
  {
   "cell_type": "code",
   "execution_count": 2,
   "id": "08023cb2",
   "metadata": {},
   "outputs": [
    {
     "name": "stdout",
     "output_type": "stream",
     "text": [
      "0\n",
      "SILVER\n",
      "true\n",
      "CardType\n",
      "name, ordinal, clone, compareTo, equals, \n",
      "getDeclaringClass, hashCode, toString, valueOf, values, \n"
     ]
    }
   ],
   "source": [
    "fun Any.dir() : Set<String> {              // 내부 멤버 알라보기 \n",
    "    val a = this.javaClass.kotlin          // 클래스 참조 가져오기 \n",
    "    println(a.simpleName)                  // 클래스 내부의 이름 \n",
    "    var ll = mutableListOf<String>()       // 멤버를 저장할 리스트 객체 만들기 \n",
    "    for (i in a.members) {                 // 클래스 내부의 멤버를 관리하는 속성\n",
    "        ll.add(i.name)                     // 멤저 이름을 저장하기 \n",
    "    }\n",
    "    return ll.toSet()                      // 세트객체로 변환하기\n",
    "}\n",
    "\n",
    "\n",
    "enum class CardType {\n",
    "    SILVER, GOLD, PLATINUM\n",
    "}\n",
    "\n",
    "\n",
    "println(CardType.SILVER.ordinal)            // 객체의 순서\n",
    "println(CardType.SILVER.name)               // 객체의 이름\n",
    "println(CardType.SILVER < CardType.GOLD)    // 객체간의 비교\n",
    "\n",
    "var count =1\n",
    "for (i in CardType.SILVER.dir()) {          // 객체 내부의 멤버 속성 출력\n",
    "    if (count % 6 ==0) println()\n",
    "    else print(i+ \", \")\n",
    "    count++   \n",
    "}\n"
   ]
  },
  {
   "cell_type": "markdown",
   "id": "ca02ca9a",
   "metadata": {},
   "source": [
    "## 이넘 객체의 속성 추가하기"
   ]
  },
  {
   "cell_type": "code",
   "execution_count": 3,
   "id": "4ebba788",
   "metadata": {},
   "outputs": [
    {
     "name": "stdout",
     "output_type": "stream",
     "text": [
      "gray\n",
      "true\n",
      "SILVER\n",
      "gray\n",
      "yellow\n",
      "black\n"
     ]
    }
   ],
   "source": [
    "enum class CardType(val color: String) {        // 클래스에 속성 추가  \n",
    "    SILVER(\"gray\"),                             // 객체마다 속성값 추가\n",
    "    GOLD(\"yellow\"),\n",
    "    PLATINUM(\"black\")\n",
    "}\n",
    "\n",
    "println(CardType.SILVER.color)                  // 이넘객체 내부에 속성 조회 \n",
    "println(CardType.SILVER < CardType.GOLD)\n",
    "\n",
    "println(CardType.valueOf(\"SILVER\"))             // 클래스의 메소드로 이넘 값 조회\n",
    "\n",
    "for (cardType in CardType.values()) {           // 이넘 클래스 내부의 객체값 출력\n",
    "    println(cardType.color)\n",
    "}"
   ]
  },
  {
   "cell_type": "code",
   "execution_count": null,
   "id": "5fff111f",
   "metadata": {},
   "outputs": [],
   "source": []
  },
  {
   "cell_type": "markdown",
   "id": "1e36197e",
   "metadata": {},
   "source": [
    "## 컴패니언 정의"
   ]
  },
  {
   "cell_type": "code",
   "execution_count": 4,
   "id": "6b931b2a",
   "metadata": {},
   "outputs": [
    {
     "name": "stdout",
     "output_type": "stream",
     "text": [
      "SILVER\n",
      "SILVER\n",
      "class kotlin.jvm.internal.ArrayIterator\n",
      "SILVER\n",
      "GOLD\n",
      "PLATINUM\n"
     ]
    }
   ],
   "source": [
    "enum class CardType(val color: String) {              // 이넘 클래스에 속성추가\n",
    "    SILVER(\"은핵\"),\n",
    "    GOLD(\"금색\"),\n",
    "    PLATINUM(\"흑색\");\n",
    "   \n",
    "    companion object {                                 // 동반 객체 새성\n",
    "        fun getCardTypeByName(name: String) =          // 이넘 객체 가져오기 \n",
    "                       valueOf(name.uppercase())\n",
    "        fun getIter()  = values()                      // 이넘값을 반복자로 처리\n",
    "    }\n",
    "}\n",
    "\n",
    "println(CardType.valueOf(\"SILVER\"))\n",
    "println(CardType.getCardTypeByName(\"SILVER\"))          // 값 가져오기\n",
    "\n",
    "println(CardType.values().iterator().javaClass.kotlin) // 반복자 객체 확인 \n",
    "for (i in CardType.getIter()) println(i)               // 값 출력하기 "
   ]
  },
  {
   "cell_type": "code",
   "execution_count": null,
   "id": "7f56c795",
   "metadata": {},
   "outputs": [],
   "source": []
  },
  {
   "cell_type": "code",
   "execution_count": null,
   "id": "4cd977ba",
   "metadata": {},
   "outputs": [],
   "source": []
  },
  {
   "cell_type": "markdown",
   "id": "ae1c99c1",
   "metadata": {},
   "source": [
    "## enumValueOf, enumValues "
   ]
  },
  {
   "cell_type": "code",
   "execution_count": 5,
   "id": "04bb9c8e",
   "metadata": {},
   "outputs": [
    {
     "name": "stdout",
     "output_type": "stream",
     "text": [
      "PROJECTMANIGER\n",
      "프로젝트PM\n",
      "0\n",
      "PROJECTMANIGER = 프로젝트PM\n",
      "SOFTWAREARCHITECT = 아키텍트\n",
      "DATASCIENTIST = 데이터과학자\n",
      "PROJECTMANIGER = 프로젝트PM\n",
      "SOFTWAREARCHITECT = 아키텍트\n",
      "DATASCIENTIST = 데이터과학자\n",
      "프로젝트PM\n",
      "PROJECTMANIGER\n",
      "PROJECTMANIGER\n"
     ]
    }
   ],
   "source": [
    "enum class JobType(val korName : String){                 // 속성을 가지는 이넘 클래스 정의 \n",
    "    PROJECTMANIGER(\"프로젝트PM\"),\n",
    "    SOFTWAREARCHITECT(\"아키텍트\"),\n",
    "    DATASCIENTIST(\"데이터과학자\")\n",
    "}\n",
    "\n",
    "println(JobType.PROJECTMANIGER.name)                      // 이넘 객체의 이름 확인 \n",
    "println(JobType.PROJECTMANIGER.korName)                   // 이넘 객체 내의 이름 확인 \n",
    "println(JobType.PROJECTMANIGER.ordinal)                   // 이넘 객체의 순서 확인 \n",
    "\n",
    "val array1= JobType.values()                              // 이넘 클래스의 모든 객체 조회 \n",
    "array1.forEach { println(\"${it.name} = ${it.korName}\")}\n",
    "\n",
    "val array = enumValues<JobType>()                         //이넘 객체안에 값을 읽어서 배열로 처리\n",
    "array.forEach { println(\"${it.name} = ${it.korName}\")}\n",
    "\n",
    "array.filter { it.korName == \"프로젝트PM\" }                   // iterable이기 때문에 map, filter 등 도 가능합니다.\n",
    "        .map { it.korName }.forEach { println(it)}\n",
    "    \n",
    "    \n",
    "val type = enumValueOf<JobType>(\"PROJECTMANIGER\")          // 이넘 객체 내의 특정 값을 검색 \n",
    "println(JobType.valueOf(\"PROJECTMANIGER\"))\n",
    "println(type)"
   ]
  },
  {
   "cell_type": "code",
   "execution_count": null,
   "id": "27d59c26",
   "metadata": {},
   "outputs": [],
   "source": []
  },
  {
   "cell_type": "markdown",
   "id": "6cd36426",
   "metadata": {},
   "source": [
    "## when 문 처리"
   ]
  },
  {
   "cell_type": "code",
   "execution_count": 6,
   "id": "51d4085e",
   "metadata": {},
   "outputs": [
    {
     "name": "stdout",
     "output_type": "stream",
     "text": [
      "class Line_5_jupyter$PaymentStatus\n",
      "PAID\n"
     ]
    }
   ],
   "source": [
    "enum class PaymentStatus(val value: Int) {            // 속성과 동반 객체를 가지는 이넘 클래스 정의\n",
    "    PAID(1),\n",
    "    UNPAID(2);\n",
    "\n",
    "    companion object {                                // 동반객체 작성 \n",
    "        fun create(x: Int): PaymentStatus {           // 동반객체 반환\n",
    "            return when (x) {\n",
    "                1 -> PAID\n",
    "                2 -> UNPAID\n",
    "                else -> throw IllegalStateException()\n",
    "            }\n",
    "        }\n",
    "    }\n",
    "}\n",
    "\n",
    "fun f(x: Int): String {                                // 함수 내에 when 표현식에 이넘처리\n",
    "    val foo = when (PaymentStatus.create(x)) {\n",
    "        PaymentStatus.PAID -> \"PAID\"\n",
    "        PaymentStatus.UNPAID -> \"UNPAID\"               // 이넘 객체가 명확히 2개만 있어서 else 불필요\n",
    "    }\n",
    "    return foo\n",
    "}\n",
    "\n",
    "println(PaymentStatus.create(2).javaClass.kotlin)      // 이넘 객체 생성 처리\n",
    "val ps = f(1)                                          // 이넘 객체의 값을 문자열로 반환\n",
    "println(ps)"
   ]
  },
  {
   "cell_type": "code",
   "execution_count": null,
   "id": "4de290ad",
   "metadata": {},
   "outputs": [],
   "source": []
  },
  {
   "cell_type": "code",
   "execution_count": null,
   "id": "a59d56d3",
   "metadata": {},
   "outputs": [],
   "source": []
  },
  {
   "cell_type": "markdown",
   "id": "4114ec6a",
   "metadata": {},
   "source": [
    "## 추상 메소드 추가"
   ]
  },
  {
   "cell_type": "code",
   "execution_count": 7,
   "id": "d3e36e5c",
   "metadata": {},
   "outputs": [
    {
     "name": "stdout",
     "output_type": "stream",
     "text": [
      "2000\n"
     ]
    }
   ],
   "source": [
    "enum class JobType (val koName : String)   {\n",
    "    \n",
    "    PROJECTMANIGER(\"프로젝트PM\") {                    // 각 멤버가 인터페이스에 정의된 메소드를 구현 \n",
    "        override fun calculate(grade: Int): Int = \n",
    "        when (grade) {\n",
    "            in 0..3 -> 600\n",
    "            in 4..8 -> 900\n",
    "            in 9..11 -> 1200\n",
    "            in 12..kotlin.Int.MAX_VALUE -> 1800\n",
    "            else -> 3000}},\n",
    "    SOFTWAREARCHITECT(\"아키텍트\") {                  // 각 멤버가 인터페이스에 정의된 메소드를 구현 \n",
    "        override fun calculate(grade: Int): Int = \n",
    "        when (grade) {\n",
    "            in 0..3 -> 1000\n",
    "            in 4..8 -> 1500\n",
    "            in 9..11 -> 2000\n",
    "            in 12..kotlin.Int.MAX_VALUE -> 3000\n",
    "            else -> 3000 }};                       // 다른 멤버가 정해지면 콜론을 추가해야 \n",
    "    \n",
    "    abstract fun calculate(grade:Int): Int         // 추상메소드 정의 \n",
    "}\n",
    "println(JobType.SOFTWAREARCHITECT.calculate(10))"
   ]
  },
  {
   "cell_type": "code",
   "execution_count": null,
   "id": "d16bd105",
   "metadata": {},
   "outputs": [],
   "source": []
  },
  {
   "cell_type": "markdown",
   "id": "70059ad2",
   "metadata": {},
   "source": [
    "## 인터페이스 구현 "
   ]
  },
  {
   "cell_type": "code",
   "execution_count": 8,
   "id": "6568bd5a",
   "metadata": {},
   "outputs": [
    {
     "name": "stdout",
     "output_type": "stream",
     "text": [
      "1800\n",
      "2400\n",
      "2500\n",
      "[PROJECTMANIGER, SOFTWAREARCHITECT, DATASCIENTIST]\n"
     ]
    }
   ],
   "source": [
    "interface Calculable {                                   // 인터페이스를 정의\n",
    "    fun calculate(grade: Int): Int\n",
    "    fun getTypes():List<String>  \n",
    "}\n",
    "enum class JobType (val koName : String)  : Calculable {\n",
    "    PROJECTMANIGER(\"프로젝트PM\") {                         // 각 객체에 해당하는 메소드 구현\n",
    "        override fun calculate(grade: Int): Int = \n",
    "            when (grade) {\n",
    "                in 0..3 -> 1500\n",
    "                in 4..8 -> 2000\n",
    "                in 9..11 -> 2500\n",
    "                in 12..kotlin.Int.MAX_VALUE -> 3500\n",
    "                else -> 4000}},\n",
    "    SOFTWAREARCHITECT(\"아키텍트\"){                         // 각 객체에 해당하는 메소드 구현\n",
    "        override fun calculate(grade: Int): Int = \n",
    "            when (grade) {\n",
    "                in 0..3 -> 1200\n",
    "                in 4..8 -> 1800\n",
    "                in 9..11 -> 2400\n",
    "                in 12..kotlin.Int.MAX_VALUE -> 3000\n",
    "                else -> 4000}},\n",
    "    DATASCIENTIST(\"데이터과학자\") {                          // 각 객체에 해당하는 메소드 구현 \n",
    "        override fun calculate(grade: Int): Int = \n",
    "            when (grade) {\n",
    "                in 0..3 -> 1200\n",
    "                in 4..8 -> 1500\n",
    "                in 9..11 -> 1800\n",
    "                in 12..kotlin.Int.MAX_VALUE -> 2500\n",
    "                else -> 3000}}; \n",
    "    override fun getTypes():List<String> {                // 전체 적용되는 메소드 \n",
    "        val array = enumValues<JobType>().map {it.name}\n",
    "        return array}       \n",
    "}\n",
    "println(JobType.DATASCIENTIST.calculate(10))\n",
    "println(JobType.SOFTWAREARCHITECT.calculate(10))\n",
    "println(JobType.PROJECTMANIGER.calculate(10))\n",
    "println(JobType.DATASCIENTIST.getTypes())"
   ]
  },
  {
   "cell_type": "code",
   "execution_count": null,
   "id": "37981b64",
   "metadata": {},
   "outputs": [],
   "source": []
  },
  {
   "cell_type": "code",
   "execution_count": null,
   "id": "39a1d744",
   "metadata": {},
   "outputs": [],
   "source": []
  }
 ],
 "metadata": {
  "kernelspec": {
   "display_name": "Kotlin",
   "language": "kotlin",
   "name": "kotlin"
  },
  "language_info": {
   "codemirror_mode": "text/x-kotlin",
   "file_extension": ".kt",
   "mimetype": "text/x-kotlin",
   "name": "kotlin",
   "nbconvert_exporter": "",
   "pygments_lexer": "kotlin",
   "version": "1.8.20-Beta"
  }
 },
 "nbformat": 4,
 "nbformat_minor": 5
}
