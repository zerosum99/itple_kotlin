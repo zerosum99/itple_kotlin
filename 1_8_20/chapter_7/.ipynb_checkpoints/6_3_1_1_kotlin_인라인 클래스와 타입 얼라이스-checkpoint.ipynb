{
 "cells": [
  {
   "cell_type": "markdown",
   "id": "87f92f22",
   "metadata": {},
   "source": [
    "\n",
    "##\n",
    "\n",
    "inline은 말 그대로 inline 키워드를 사용한 함수나 클래스의 내부 코드를 inline 해 컴파일한다는 것이다.\n"
   ]
  },
  {
   "cell_type": "code",
   "execution_count": null,
   "id": "95b091cd",
   "metadata": {},
   "outputs": [],
   "source": []
  },
  {
   "cell_type": "markdown",
   "id": "da587c7e",
   "metadata": {},
   "source": [
    "## 작성 방법"
   ]
  },
  {
   "cell_type": "code",
   "execution_count": 2,
   "id": "c9246e1d",
   "metadata": {},
   "outputs": [],
   "source": [
    "inline class Password(val value: String)"
   ]
  },
  {
   "cell_type": "code",
   "execution_count": 3,
   "id": "28018a94",
   "metadata": {},
   "outputs": [],
   "source": [
    "@JvmInline\n",
    "value class User(val value:String)"
   ]
  },
  {
   "cell_type": "code",
   "execution_count": null,
   "id": "c00a61f2",
   "metadata": {},
   "outputs": [],
   "source": []
  },
  {
   "cell_type": "code",
   "execution_count": 9,
   "id": "66853bd9",
   "metadata": {},
   "outputs": [],
   "source": [
    "var pw : String = \"abcdef\""
   ]
  },
  {
   "cell_type": "code",
   "execution_count": 10,
   "id": "b6ee363f",
   "metadata": {},
   "outputs": [
    {
     "data": {
      "text/plain": [
       "class kotlin.String"
      ]
     },
     "execution_count": 10,
     "metadata": {},
     "output_type": "execute_result"
    }
   ],
   "source": [
    "pw.javaClass.kotlin"
   ]
  },
  {
   "cell_type": "code",
   "execution_count": 11,
   "id": "e7a83040",
   "metadata": {},
   "outputs": [],
   "source": [
    "var pwin = Password(\"abcdef\")"
   ]
  },
  {
   "cell_type": "code",
   "execution_count": 12,
   "id": "1983d521",
   "metadata": {},
   "outputs": [
    {
     "data": {
      "text/plain": [
       "class Line_47$Password"
      ]
     },
     "execution_count": 12,
     "metadata": {},
     "output_type": "execute_result"
    }
   ],
   "source": [
    "pwin.javaClass.kotlin"
   ]
  },
  {
   "cell_type": "code",
   "execution_count": 13,
   "id": "bd34dd51",
   "metadata": {},
   "outputs": [],
   "source": [
    "val usr = User(\"12345\")"
   ]
  },
  {
   "cell_type": "code",
   "execution_count": 14,
   "id": "9b3522fc",
   "metadata": {},
   "outputs": [
    {
     "data": {
      "text/plain": [
       "class Line_48$User"
      ]
     },
     "execution_count": 14,
     "metadata": {},
     "output_type": "execute_result"
    }
   ],
   "source": [
    "usr.javaClass.kotlin"
   ]
  },
  {
   "cell_type": "code",
   "execution_count": null,
   "id": "5e80ee93",
   "metadata": {},
   "outputs": [],
   "source": []
  },
  {
   "cell_type": "code",
   "execution_count": 20,
   "id": "b0df2004",
   "metadata": {},
   "outputs": [
    {
     "data": {
      "text/plain": [
       "true"
      ]
     },
     "execution_count": 20,
     "metadata": {},
     "output_type": "execute_result"
    }
   ],
   "source": [
    "\"aaaa\" is String"
   ]
  },
  {
   "cell_type": "code",
   "execution_count": 21,
   "id": "00298d7b",
   "metadata": {},
   "outputs": [
    {
     "data": {
      "text/plain": [
       "true"
      ]
     },
     "execution_count": 21,
     "metadata": {},
     "output_type": "execute_result"
    }
   ],
   "source": [
    "Password(\"abcdef\") is Password"
   ]
  },
  {
   "cell_type": "markdown",
   "id": "d6b00000",
   "metadata": {},
   "source": [
    "## 속성과 메소드 추가"
   ]
  },
  {
   "cell_type": "code",
   "execution_count": 22,
   "id": "1c01fd8d",
   "metadata": {},
   "outputs": [
    {
     "name": "stdout",
     "output_type": "stream",
     "text": [
      "required \n",
      "Hello, Kotlin\n",
      "kotlin.Unit\n",
      "6\n"
     ]
    }
   ],
   "source": [
    "@JvmInline\n",
    "value class Name(val s: String) {\n",
    "    init {\n",
    "         println(\"required \")\n",
    "    }\n",
    "\n",
    "    val length: Int\n",
    "        get() = s.length\n",
    "\n",
    "    fun greet() {\n",
    "        println(\"Hello, $s\")\n",
    "    }\n",
    "}\n",
    "\n",
    "\n",
    "val name = Name(\"Kotlin\")\n",
    "println(name.greet())                // method `greet` is called as a static method\n",
    "println(name.length)         // property getter is called as a static method"
   ]
  },
  {
   "cell_type": "markdown",
   "id": "646d03cd",
   "metadata": {},
   "source": [
    "## 인터페이스 구현 "
   ]
  },
  {
   "cell_type": "code",
   "execution_count": 23,
   "id": "0ff9c297",
   "metadata": {},
   "outputs": [
    {
     "name": "stdout",
     "output_type": "stream",
     "text": [
      "Let's Kotlin!\n"
     ]
    }
   ],
   "source": [
    "interface Printable {\n",
    "    fun prettyPrint(): String\n",
    "}\n",
    "\n",
    "@JvmInline\n",
    "value class Name(val s: String) : Printable {\n",
    "    override fun prettyPrint(): String = \"Let's $s!\"\n",
    "}\n",
    "\n",
    "\n",
    "val name = Name(\"Kotlin\")\n",
    "println(name.prettyPrint()) // Still called as a static method\n"
   ]
  },
  {
   "cell_type": "markdown",
   "id": "307dccdf",
   "metadata": {},
   "source": [
    "## 매개변수 타입 사용 "
   ]
  },
  {
   "cell_type": "code",
   "execution_count": 22,
   "id": "238f1719",
   "metadata": {},
   "outputs": [],
   "source": [
    "@JvmInline\n",
    "value class UInt(val x: Int)\n",
    "\n",
    "// Represented as 'public final void compute(int x)' on the JVM\n",
    "fun compute(x: Int):Int { return x * 2 }\n",
    "\n",
    "// Also represented as 'public final void compute(int x)' on the JVM!\n",
    "fun compute(x: UInt) : Int { \n",
    "    \n",
    "    return x.x * 3\n",
    "}"
   ]
  },
  {
   "cell_type": "code",
   "execution_count": 24,
   "id": "b93d7a8e",
   "metadata": {},
   "outputs": [
    {
     "name": "stdout",
     "output_type": "stream",
     "text": [
      "300\n",
      "20\n"
     ]
    }
   ],
   "source": [
    "val a = UInt(100)\n",
    "\n",
    "println(compute(a))\n",
    "println(compute(10))"
   ]
  },
  {
   "cell_type": "code",
   "execution_count": null,
   "id": "e3f94da6",
   "metadata": {},
   "outputs": [],
   "source": []
  }
 ],
 "metadata": {
  "kernelspec": {
   "display_name": "Kotlin",
   "language": "kotlin",
   "name": "kotlin"
  },
  "language_info": {
   "codemirror_mode": "text/x-kotlin",
   "file_extension": ".kt",
   "mimetype": "text/x-kotlin",
   "name": "kotlin",
   "nbconvert_exporter": "",
   "pygments_lexer": "kotlin",
   "version": "1.6.0-dev-3567"
  }
 },
 "nbformat": 4,
 "nbformat_minor": 5
}
