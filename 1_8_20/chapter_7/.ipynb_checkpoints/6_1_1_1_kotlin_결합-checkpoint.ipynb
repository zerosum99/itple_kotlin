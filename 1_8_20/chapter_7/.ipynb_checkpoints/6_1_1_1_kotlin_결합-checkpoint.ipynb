{
 "cells": [
  {
   "cell_type": "code",
   "execution_count": null,
   "id": "bd09aaa0",
   "metadata": {},
   "outputs": [],
   "source": []
  },
  {
   "cell_type": "code",
   "execution_count": 1,
   "id": "1ca3b5bf",
   "metadata": {},
   "outputs": [
    {
     "data": {
      "text/plain": [
       "1.7.20"
      ]
     },
     "execution_count": 1,
     "metadata": {},
     "output_type": "execute_result"
    }
   ],
   "source": [
    "KotlinVersion.CURRENT             // 코틀린 현재 버전 "
   ]
  },
  {
   "cell_type": "code",
   "execution_count": null,
   "id": "59077632",
   "metadata": {},
   "outputs": [],
   "source": []
  },
  {
   "cell_type": "markdown",
   "id": "397e5e1f",
   "metadata": {},
   "source": [
    "## 객체를 다른 클래스에서 사용이 가능 "
   ]
  },
  {
   "cell_type": "code",
   "execution_count": 2,
   "id": "6b02a35f",
   "metadata": {},
   "outputs": [],
   "source": [
    "class Address(val streetNum : Int ,          //주소 클래스를 만든다. \n",
    "              val city : String, \n",
    "              val state : String,\n",
    "              val country : String) {\n",
    "    fun printAddr() {\n",
    "        println(\" 주소 =  $streetNum  $city $state Scountry \")\n",
    "    }\n",
    "}\n",
    "\n",
    "class Student(val rollNum : Int,             //학생클래스를 만든다. \n",
    "              val studentName : String, \n",
    "              val studentAddr : Address)     //다른 클래스를  속성에 할당 \n",
    "\n",
    "class College(val collegeName : String,      //대학클래스를 만든다 \n",
    "              val collegeAddr : Address )    //다른 클래스를  속성에 할당 \n",
    "\n",
    "class Staff(val employeeName : String,       //교직원클래스를 만든다 \n",
    "            val employeeAddr : Address)      //다른 클래스를  속성에 할당 \n"
   ]
  },
  {
   "cell_type": "code",
   "execution_count": null,
   "id": "23022de0",
   "metadata": {},
   "outputs": [],
   "source": []
  },
  {
   "cell_type": "code",
   "execution_count": 3,
   "id": "883ef1b1",
   "metadata": {},
   "outputs": [
    {
     "name": "stdout",
     "output_type": "stream",
     "text": [
      "서울대\n",
      " 주소 =  55  관악구 서울시 Scountry \n",
      "123\n",
      "문찬주\n",
      " 주소 =  55  동작구 서울시 Scountry \n",
      "문경욱\n",
      " 주소 =  55  금천구 서울시 Scountry \n"
     ]
    }
   ],
   "source": [
    "val ad1 = Address(55, \"관악구\", \"서울시\", \"대한민국\")  // 주소 3개 생성 \n",
    "val ad2 = Address(55, \"금천구\", \"서울시\", \"대한민국\")\n",
    "val ad3 = Address(55, \"동작구\", \"서울시\", \"대한민국\")\n",
    "\n",
    "val obj1 = College(\"서울대\", ad1)                  // 주소 배정 \n",
    "val obj2 = Student(123, \"문찬주\", ad3)\n",
    "val obj3 = Staff(\"문경욱\", ad2)\n",
    "\n",
    "println(obj1.collegeName)                        // 대학 상태 출력\n",
    "obj1.collegeAddr.printAddr()\n",
    "\n",
    "println(obj2.rollNum)                            // 학생 상태 출력 \n",
    "println(obj2.studentName)\n",
    "obj2.studentAddr.printAddr()\n",
    "\n",
    "println(obj3.employeeName)                       //교직원 상태 출력 \n",
    "obj3.employeeAddr.printAddr()\n"
   ]
  },
  {
   "cell_type": "code",
   "execution_count": null,
   "id": "2404b2a9",
   "metadata": {},
   "outputs": [],
   "source": []
  },
  {
   "cell_type": "code",
   "execution_count": null,
   "id": "c3f9cda7",
   "metadata": {},
   "outputs": [],
   "source": []
  },
  {
   "cell_type": "code",
   "execution_count": null,
   "id": "c9847b7a",
   "metadata": {},
   "outputs": [],
   "source": []
  }
 ],
 "metadata": {
  "kernelspec": {
   "display_name": "Kotlin",
   "language": "kotlin",
   "name": "kotlin"
  },
  "language_info": {
   "codemirror_mode": "text/x-kotlin",
   "file_extension": ".kt",
   "mimetype": "text/x-kotlin",
   "name": "kotlin",
   "nbconvert_exporter": "",
   "pygments_lexer": "kotlin",
   "version": "1.7.20-dev-1299"
  }
 },
 "nbformat": 4,
 "nbformat_minor": 5
}
