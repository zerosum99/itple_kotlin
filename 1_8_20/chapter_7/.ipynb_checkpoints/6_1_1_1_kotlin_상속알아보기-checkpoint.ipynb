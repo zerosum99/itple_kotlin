{
 "cells": [
  {
   "cell_type": "markdown",
   "id": "5a6e5fcf",
   "metadata": {},
   "source": [
    "## 클래스 정의"
   ]
  },
  {
   "cell_type": "code",
   "execution_count": 1,
   "id": "762148d7",
   "metadata": {},
   "outputs": [
    {
     "name": "stdout",
     "output_type": "stream",
     "text": [
      "class Line_0$Derived\n"
     ]
    }
   ],
   "source": [
    "open class Base          // 상속을 하려면 클래스를 open \n",
    "\n",
    "class Derived : Base()   // 상속한 베이스 클래스를 사용할 때는 생성\n",
    "\n",
    "val der = Derived()      // 하나의 객체 생성\n",
    "\n",
    "println(der.javaClass.kotlin)"
   ]
  },
  {
   "cell_type": "code",
   "execution_count": 2,
   "id": "6ac6c1be",
   "metadata": {},
   "outputs": [],
   "source": [
    "import kotlin.reflect.full.isSubclassOf"
   ]
  },
  {
   "cell_type": "code",
   "execution_count": 41,
   "id": "bf94fd84",
   "metadata": {},
   "outputs": [
    {
     "name": "stdout",
     "output_type": "stream",
     "text": [
      "false\n",
      "true\n",
      "[Line_0.Base]\n",
      "true\n"
     ]
    }
   ],
   "source": [
    "println((Base::class).isFinal)         //상속불가 클래스인지 확인\n",
    "println((der::class).isFinal)\n",
    "\n",
    "println((der::class).supertypes)       //슈퍼타입 확인\n",
    "\n",
    "println((der::class)                   //서브클래스 확인\n",
    "        .isSubclassOf(Base::class))"
   ]
  },
  {
   "cell_type": "code",
   "execution_count": null,
   "id": "380fd07d",
   "metadata": {},
   "outputs": [],
   "source": []
  },
  {
   "cell_type": "code",
   "execution_count": 42,
   "id": "dfedd345",
   "metadata": {},
   "outputs": [
    {
     "name": "stdout",
     "output_type": "stream",
     "text": [
      "true\n"
     ]
    }
   ],
   "source": [
    "fun<T> Any.isIntanceOf(compared: T): Boolean {\n",
    "    return when(compared) {\n",
    "        this::class -> true\n",
    "        else  -> false\n",
    "    } \n",
    "}\n",
    "\n",
    "println(der.isIntanceOf(der::class))"
   ]
  },
  {
   "cell_type": "code",
   "execution_count": null,
   "id": "d4fac1e6",
   "metadata": {},
   "outputs": [],
   "source": []
  },
  {
   "cell_type": "markdown",
   "id": "ab9f0350",
   "metadata": {},
   "source": [
    "## 베이스 클래스"
   ]
  },
  {
   "cell_type": "code",
   "execution_count": 43,
   "id": "0ebaa165",
   "metadata": {},
   "outputs": [],
   "source": [
    "open class Person(var name:String, var age:Int)\n",
    "\n",
    "class Man(name:String,age:Int,\n",
    "          var sex:String) : Person(name,age) \n",
    "class Woman(name:String,age:Int, \n",
    "            var sex:String) : Person(name,age) \n",
    "\n",
    "\n",
    "val m = Man(\"남자\",44,\"남성\")\n",
    "val w = Woman(\"여자\",44,\"여성\")\n",
    "\n",
    "val mx : Person = m\n",
    "val mm : Man = m\n",
    "//val mw : Woman = m  다른 클래스라 예외발생"
   ]
  },
  {
   "cell_type": "code",
   "execution_count": null,
   "id": "30bb6988",
   "metadata": {},
   "outputs": [],
   "source": []
  },
  {
   "cell_type": "markdown",
   "id": "e2264cc1",
   "metadata": {},
   "source": [
    "## 클래스간의 관계 확인 "
   ]
  },
  {
   "cell_type": "code",
   "execution_count": 11,
   "id": "969fa935",
   "metadata": {},
   "outputs": [],
   "source": [
    "import kotlin.reflect.full.isSubclassOf\n",
    "import kotlin.reflect.full.isSuperclassOf"
   ]
  },
  {
   "cell_type": "markdown",
   "id": "10f18a17",
   "metadata": {},
   "source": [
    "### 서브와 슈퍼타입"
   ]
  },
  {
   "cell_type": "code",
   "execution_count": 44,
   "id": "76b95329",
   "metadata": {},
   "outputs": [
    {
     "name": "stdout",
     "output_type": "stream",
     "text": [
      "true\n",
      "true\n",
      "true\n",
      "true\n",
      "false\n"
     ]
    }
   ],
   "source": [
    "import kotlin.reflect.full.isSubclassOf\n",
    "import kotlin.reflect.full.isSuperclassOf\n",
    "\n",
    "println((m::class)\n",
    "        .isSubclassOf(Person::class))    // 서브클래스 관계\n",
    "\n",
    "println((Person::class)\n",
    "        .isSuperclassOf(w::class))       // 슈퍼클래스 관계\n",
    "\n",
    "println((m::class).isInstance(m))        //생성관계    \n",
    "println((Person::class).isInstance(m))\n",
    "println((Woman::class).isInstance(m))"
   ]
  },
  {
   "cell_type": "code",
   "execution_count": null,
   "id": "799171a6",
   "metadata": {},
   "outputs": [],
   "source": []
  },
  {
   "cell_type": "markdown",
   "id": "084a19b1",
   "metadata": {},
   "source": [
    "## 클래스에 속성 및 멤버 추가"
   ]
  },
  {
   "cell_type": "code",
   "execution_count": 14,
   "id": "8c9ffe0b",
   "metadata": {},
   "outputs": [],
   "source": [
    "open class Parent {\n",
    "   fun a() {}             // 오버라이드 금지\n",
    "   open fun b() {}        // 오버라이드 가능\n",
    "}\n",
    "\n",
    "class Child: Parent() {\n",
    "   //override fun a() {}   오픈하지 않는 메소드는 오버라이드 금지 Error\n",
    "   override fun b() {}    // 오버라이드 처리\n",
    "}"
   ]
  },
  {
   "cell_type": "code",
   "execution_count": null,
   "id": "307e492f",
   "metadata": {},
   "outputs": [],
   "source": []
  },
  {
   "cell_type": "code",
   "execution_count": 15,
   "id": "d8dd35aa",
   "metadata": {},
   "outputs": [],
   "source": [
    "open class GreatApe {            //상속가능\n",
    "  val weight = 100.0\n",
    "  val age = 12\n",
    "  fun info(): String {\n",
    "     println(\" 멤버 메소드가 우선 \")\n",
    "     return \"멤버 메소드\"\n",
    "  }\n",
    "}\n",
    "\n",
    "open class Bonobo : GreatApe()     //상속가능\n",
    "class Chimpanzee : GreatApe()      //상속불가\n",
    "\n",
    "class BonoboB : Bonobo()           //상속불가 \n",
    " "
   ]
  },
  {
   "cell_type": "code",
   "execution_count": 45,
   "id": "d2fa493e",
   "metadata": {},
   "outputs": [
    {
     "name": "stdout",
     "output_type": "stream",
     "text": [
      " 멤버 메소드가 우선 \n",
      "false\n",
      "true\n"
     ]
    }
   ],
   "source": [
    "// 확장함수와 멤버함수 충돌\n",
    "fun GreatApe.info() =              // 이름이 동일한 경우 멤버가 우선\n",
    "    \"wt: $weight age: $age\"\n",
    "println(GreatApe().info() == \"wt: 100.0 age: 12\")\n",
    "\n",
    "fun GreatApe.info1() =             //이름이 다른경우 \n",
    "    \"wt: $weight age: $age\"\n",
    "println(Bonobo().info1() == \"wt: 100.0 age: 12\")"
   ]
  },
  {
   "cell_type": "code",
   "execution_count": 46,
   "id": "1c1c630f",
   "metadata": {},
   "outputs": [
    {
     "name": "stdout",
     "output_type": "stream",
     "text": [
      "true\n",
      "true\n",
      "true\n"
     ]
    }
   ],
   "source": [
    "println(Bonobo().info1() == \"wt: 100.0 age: 12\")\n",
    "\n",
    "println(Chimpanzee().info1() == \"wt: 100.0 age: 12\")\n",
    "\n",
    "println(BonoboB().info1() == \"wt: 100.0 age: 12\")"
   ]
  },
  {
   "cell_type": "code",
   "execution_count": null,
   "id": "56025efb",
   "metadata": {},
   "outputs": [],
   "source": []
  },
  {
   "cell_type": "markdown",
   "id": "bb08fa19",
   "metadata": {},
   "source": [
    "## 추상클래스 상속관계"
   ]
  },
  {
   "cell_type": "code",
   "execution_count": 36,
   "id": "f12c61a0",
   "metadata": {},
   "outputs": [
    {
     "name": "stdout",
     "output_type": "stream",
     "text": [
      "I'm null\n"
     ]
    }
   ],
   "source": [
    "abstract class Animal {                         //추상클래스 선언\n",
    "    init {                                      //내부 초기화 처리 정의\n",
    "        println(\"I'm ${getName()}\")\n",
    "    }\n",
    "\n",
    "    abstract fun getName(): String               //추상메소드 정의\n",
    "}\n",
    "                                                 //구현클래스 선언\n",
    "class Dog(private val name: String) : Animal() { //추상클래스도 상속할 때는 생성 필요\n",
    "    override fun getName(): String = name        //메소드 오버라이딩\n",
    "}\n",
    "\n",
    "val dog = Dog(\"Puff\")"
   ]
  },
  {
   "cell_type": "code",
   "execution_count": null,
   "id": "b32a6911",
   "metadata": {},
   "outputs": [],
   "source": []
  }
 ],
 "metadata": {
  "kernelspec": {
   "display_name": "Kotlin",
   "language": "kotlin",
   "name": "kotlin"
  },
  "language_info": {
   "codemirror_mode": "text/x-kotlin",
   "file_extension": ".kt",
   "mimetype": "text/x-kotlin",
   "name": "kotlin",
   "nbconvert_exporter": "",
   "pygments_lexer": "kotlin",
   "version": "1.6.0-dev-3567"
  }
 },
 "nbformat": 4,
 "nbformat_minor": 5
}
