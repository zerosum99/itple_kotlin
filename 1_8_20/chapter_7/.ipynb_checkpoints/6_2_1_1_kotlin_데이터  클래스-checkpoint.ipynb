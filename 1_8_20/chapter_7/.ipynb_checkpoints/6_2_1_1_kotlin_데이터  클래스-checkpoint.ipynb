{
 "cells": [
  {
   "cell_type": "markdown",
   "id": "1799fa09",
   "metadata": {},
   "source": [
    "## 데이터 클래스"
   ]
  },
  {
   "cell_type": "code",
   "execution_count": null,
   "id": "45b7fda9",
   "metadata": {},
   "outputs": [],
   "source": []
  },
  {
   "cell_type": "code",
   "execution_count": 1,
   "id": "2c4c85d1",
   "metadata": {},
   "outputs": [],
   "source": [
    "data class Person(val name: String) {\n",
    "    var age: Int = 0\n",
    "}"
   ]
  },
  {
   "cell_type": "code",
   "execution_count": null,
   "id": "0349a140",
   "metadata": {},
   "outputs": [],
   "source": []
  },
  {
   "cell_type": "code",
   "execution_count": 2,
   "id": "d6927421",
   "metadata": {},
   "outputs": [],
   "source": [
    "val person1 = Person(\"John\")\n",
    "val person2 = Person(\"John\")\n",
    "person1.age = 10\n",
    "person2.age = 20"
   ]
  },
  {
   "cell_type": "code",
   "execution_count": null,
   "id": "08023cb2",
   "metadata": {},
   "outputs": [],
   "source": []
  },
  {
   "cell_type": "code",
   "execution_count": 3,
   "id": "9b87407e",
   "metadata": {},
   "outputs": [],
   "source": [
    "data class User(val name: String, var age: Int)\n"
   ]
  },
  {
   "cell_type": "code",
   "execution_count": 4,
   "id": "4ebba788",
   "metadata": {},
   "outputs": [],
   "source": [
    "val u1 = User(\"John\",33)\n",
    "val u2 = User(\"Johns\", 55)"
   ]
  },
  {
   "cell_type": "code",
   "execution_count": null,
   "id": "75d4028e",
   "metadata": {},
   "outputs": [],
   "source": []
  },
  {
   "cell_type": "code",
   "execution_count": 5,
   "id": "c3c3eccf",
   "metadata": {},
   "outputs": [],
   "source": [
    "val jack = User(name = \"Jack\", age = 1)\n",
    "val olderJack = jack.copy(age = 2)"
   ]
  },
  {
   "cell_type": "markdown",
   "id": "80f550ca",
   "metadata": {},
   "source": [
    "## 상속할 때 이슈\n",
    "\n",
    "- 베이스 클래스의 속성을 처리하지 못한다. "
   ]
  },
  {
   "cell_type": "code",
   "execution_count": 6,
   "id": "ba47a58f",
   "metadata": {},
   "outputs": [
    {
     "name": "stdout",
     "output_type": "stream",
     "text": [
      "tom 20 0\n",
      "tom 20 1\n",
      "a == b: true a.hashCode(): 115646, b.hashCode(): 115646\n"
     ]
    }
   ],
   "source": [
    "open class Person(var gender: Int = 0) \n",
    "data class Student(val age: Int, val name: String) : Person(0) \n",
    "\n",
    "val a = Student(20, \"tom\") \n",
    "val b = Student(20, \"tom\")\n",
    "b.gender = 1\n",
    "\n",
    "println(\"${a.name} ${a.age} ${a.gender}\")\n",
    "println(\"${b.name} ${b.age} ${b.gender}\")\n",
    "\n",
    "println(\"a == b: ${a == b} a.hashCode(): ${a.hashCode()}, b.hashCode(): ${b.hashCode()}\") "
   ]
  },
  {
   "cell_type": "code",
   "execution_count": 7,
   "id": "c375a916",
   "metadata": {},
   "outputs": [
    {
     "name": "stderr",
     "output_type": "stream",
     "text": [
      "Line_6.jupyter-kts (1:32 - 38) Cannot find a parameter with this name: gender"
     ]
    }
   ],
   "source": [
    "val c = Student(20,\"tom\").copy(gender=1)"
   ]
  },
  {
   "cell_type": "code",
   "execution_count": 8,
   "id": "dfa84b96",
   "metadata": {},
   "outputs": [
    {
     "name": "stdout",
     "output_type": "stream",
     "text": [
      "tom 20 0\n",
      "tom 20 1\n",
      "d == e: false\n"
     ]
    }
   ],
   "source": [
    "data class Student(val age: Int, val name: String, var gender:Int=0)\n",
    "\n",
    "val d = Student(20, \"tom\",0) \n",
    "val e = Student(20, \"tom\", 0).copy(gender=1)\n",
    "\n",
    "println(\"${d.name} ${d.age} ${d.gender}\")\n",
    "println(\"${e.name} ${e.age} ${e.gender}\")\n",
    "println(\"d == e: ${d == e}\")"
   ]
  },
  {
   "cell_type": "code",
   "execution_count": null,
   "id": "9b9a3bb3",
   "metadata": {},
   "outputs": [],
   "source": []
  }
 ],
 "metadata": {
  "kernelspec": {
   "display_name": "Kotlin",
   "language": "kotlin",
   "name": "kotlin"
  },
  "language_info": {
   "codemirror_mode": "text/x-kotlin",
   "file_extension": ".kt",
   "mimetype": "text/x-kotlin",
   "name": "kotlin",
   "nbconvert_exporter": "",
   "pygments_lexer": "kotlin",
   "version": "1.6.0-dev-3567"
  }
 },
 "nbformat": 4,
 "nbformat_minor": 5
}
