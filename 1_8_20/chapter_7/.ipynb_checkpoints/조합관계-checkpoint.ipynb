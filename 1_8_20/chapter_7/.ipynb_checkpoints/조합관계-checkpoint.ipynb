{
 "cells": [
  {
   "cell_type": "markdown",
   "id": "804eaa98",
   "metadata": {},
   "source": [
    "## 특정 객체 내에서만 해당 객체를 사용할 수 있다."
   ]
  },
  {
   "cell_type": "code",
   "execution_count": 1,
   "id": "011d2601",
   "metadata": {},
   "outputs": [],
   "source": [
    "class CarEngine {\n",
    "    fun startEngine(){\n",
    "        println(\"The car engine has Started.\")\n",
    "    }\n",
    "\n",
    "    fun stopEngine(){\n",
    "        println(\"The car engine has Stopped.\")\n",
    "    }\n",
    "} \n",
    "\n"
   ]
  },
  {
   "cell_type": "code",
   "execution_count": null,
   "id": "f40547c8",
   "metadata": {},
   "outputs": [],
   "source": []
  },
  {
   "cell_type": "code",
   "execution_count": 5,
   "id": "d7483a43",
   "metadata": {},
   "outputs": [
    {
     "name": "stdout",
     "output_type": "stream",
     "text": [
      "Car Colour= Red; Maximum Speed= 240\n",
      "The car engine has Started.\n"
     ]
    }
   ],
   "source": [
    "open class Car(var colour: String,var maxi_Speed : Int) {\n",
    "    fun carDetails(){\n",
    "          println(\"Car Colour= \"+colour + \"; Maximum Speed= \" + maxi_Speed);\n",
    "    }\n",
    "} \n",
    "\n",
    "\n",
    "class CarProduct(color : String, max_speed : Int) : Car(color, max_speed){\n",
    "    lateinit var carEngine : CarEngine \n",
    "\n",
    "    fun startCarProduct(){\n",
    "        carEngine = CarEngine();      //composition\n",
    "        carEngine.startEngine();\n",
    "\n",
    "    }\n",
    "} \n",
    "\n",
    "\n",
    "val carJazz = CarProduct(\"Red\", 240)\n",
    "\n",
    "carJazz.carDetails()\n",
    "carJazz.startCarProduct()\n",
    "\n",
    "\n"
   ]
  },
  {
   "cell_type": "code",
   "execution_count": null,
   "id": "a44cbbd9",
   "metadata": {},
   "outputs": [],
   "source": []
  },
  {
   "cell_type": "code",
   "execution_count": null,
   "id": "25b31659",
   "metadata": {},
   "outputs": [],
   "source": []
  },
  {
   "cell_type": "code",
   "execution_count": null,
   "id": "0d466e16",
   "metadata": {},
   "outputs": [],
   "source": []
  }
 ],
 "metadata": {
  "kernelspec": {
   "display_name": "Kotlin",
   "language": "kotlin",
   "name": "kotlin"
  },
  "language_info": {
   "codemirror_mode": "text/x-kotlin",
   "file_extension": ".kt",
   "mimetype": "text/x-kotlin",
   "name": "kotlin",
   "nbconvert_exporter": "",
   "pygments_lexer": "kotlin",
   "version": "1.7.0-dev-1825"
  }
 },
 "nbformat": 4,
 "nbformat_minor": 5
}
