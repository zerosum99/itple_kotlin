{
 "cells": [
  {
   "cell_type": "code",
   "execution_count": null,
   "id": "fed43c9f",
   "metadata": {},
   "outputs": [],
   "source": []
  },
  {
   "cell_type": "code",
   "execution_count": 1,
   "id": "8a76d7b7",
   "metadata": {},
   "outputs": [
    {
     "data": {
      "text/plain": [
       "1.7.20"
      ]
     },
     "execution_count": 1,
     "metadata": {},
     "output_type": "execute_result"
    }
   ],
   "source": [
    "KotlinVersion.CURRENT             // 코틀린 현재 버전 "
   ]
  },
  {
   "cell_type": "code",
   "execution_count": null,
   "id": "44823eba",
   "metadata": {},
   "outputs": [],
   "source": []
  },
  {
   "cell_type": "markdown",
   "id": "80ef1102",
   "metadata": {},
   "source": [
    "## 최상위 레벨의 속성 정의"
   ]
  },
  {
   "cell_type": "code",
   "execution_count": 2,
   "id": "8b94fc66",
   "metadata": {},
   "outputs": [
    {
     "name": "stdout",
     "output_type": "stream",
     "text": [
      "100\n",
      "300\n",
      "0\n",
      "0\n"
     ]
    }
   ],
   "source": [
    "val a = 100                       // 일반 속성 정의 \n",
    "var b = 300                       // 게터와 세터를 자동으로 처리한다.\n",
    "\n",
    "//fun getA() = 5000               // 내부적으로 a에대한 접근자 처리 \n",
    "\n",
    "val valInt: Int = 0               // 최상의 레벨 변경불가능한 속성 정의 \n",
    "    get() {                       // 게터메소드 사용자 정의 \n",
    "      return field                // 배킹 필드에 정보를 저장         \n",
    "    }\n",
    "\n",
    "var varInt: Int = 0               // 최상의 레벨 변경가능한 속성 정의 \n",
    "    get() {                       // 게터 메소드 정의 \n",
    "      return field                // 배킹필드 조회\n",
    "    }\n",
    "    set(value) {                  // 세터 메소드 정의 \n",
    "      println(\"set($value)\")\n",
    "      field = value               // 배킹필드 갱신\n",
    "    }\n",
    "\n",
    "println(a)\n",
    "println(b)\n",
    "println(varInt)\n",
    "println(varInt)"
   ]
  },
  {
   "cell_type": "code",
   "execution_count": null,
   "id": "372229a1",
   "metadata": {},
   "outputs": [],
   "source": []
  },
  {
   "cell_type": "markdown",
   "id": "084a19b1",
   "metadata": {},
   "source": [
    "## 클래스에 속성 접근자 처리 알아보기"
   ]
  },
  {
   "cell_type": "code",
   "execution_count": 3,
   "id": "307e492f",
   "metadata": {},
   "outputs": [
    {
     "name": "stdout",
     "output_type": "stream",
     "text": [
      "##  객체 생성한 후에 속성 갱신 ##\n",
      "varattr get()\n",
      "속성 값 조회 =0\n",
      "varattr set(2)\n",
      "varattr get()\n",
      "속성값 조회 =2\n"
     ]
    }
   ],
   "source": [
    "class Kclass {\n",
    "    \n",
    "  val valattr : Int = 0            // 클래스 내의 변경불가능한 속성\n",
    "    get() {                        // 게터 재정의 \n",
    "      println(\"valattr get()\")\n",
    "      return field                 \n",
    "    }\n",
    "  var varattr : Int = 0            // 클래스 내에 변경 가능한 속성 \n",
    "    get() {                        // 게터 재정의 \n",
    "      println(\"varattr get()\")\n",
    "      return field                 \n",
    "    }\n",
    "    set(value) {                   // 세터 재정의 \n",
    "      println(\"varattr set($value)\")\n",
    "      field = value                \n",
    "    }\n",
    "}\n",
    "\n",
    "println(\"##  객체 생성한 후에 속성 갱신 ##\")\n",
    "val d = Kclass()\n",
    "println(\"속성 값 조회 =\" + d.varattr)\n",
    "d.varattr = 2                      // 속성 갱신 \n",
    "println(\"속성값 조회 =\" + d.varattr)"
   ]
  },
  {
   "cell_type": "markdown",
   "id": "2f5a7425",
   "metadata": {},
   "source": [
    "## 속성의 배킹 필드 사용"
   ]
  },
  {
   "cell_type": "code",
   "execution_count": 4,
   "id": "cd9fa3d2",
   "metadata": {},
   "outputs": [
    {
     "name": "stdout",
     "output_type": "stream",
     "text": [
      "get value 0\n",
      "get value 1\n",
      "get value 2\n",
      "get value 3\n",
      "get value 4\n",
      "get value 5\n",
      "get value 6\n",
      "get value 7\n",
      "get value 8\n",
      "get value 9\n",
      "get value 10\n",
      "10\n"
     ]
    }
   ],
   "source": [
    "class Counter {\n",
    "  var value: Int = 0                      //변경가능한 속성 정의 \n",
    "    get() {\n",
    "        println(\"get value $field\")\n",
    "        return field\n",
    "    }\n",
    "    private set                           //비공개속성을 사용해서 외부 갱신금지 \n",
    "  fun inc_() = value++                    //메소드로 내부에서 비공개속성 갱신 \n",
    "}\n",
    "\n",
    "val counter = Counter()                   //객체 생성 \n",
    "for (i in 1..10) {                        //순환 실행 \n",
    "    counter.inc_()                        //외부에서는 메소드로 속성 갱신 \n",
    "}\n",
    "println(counter.value)"
   ]
  },
  {
   "cell_type": "markdown",
   "id": "92cf09cc",
   "metadata": {},
   "source": [
    "## 속성을 계산식으로 처리"
   ]
  },
  {
   "cell_type": "code",
   "execution_count": 5,
   "id": "a6e5969b",
   "metadata": {},
   "outputs": [
    {
     "name": "stdout",
     "output_type": "stream",
     "text": [
      "true\n",
      "[탁자, 침대, 의자]\n",
      "탁자\n",
      "[침대, 의자]\n"
     ]
    }
   ],
   "source": [
    "class Thing(val name: String)                      //저장할 객체를 만들 클래스 \n",
    "\n",
    "class Container(private val maxCapacity: Int) {\n",
    "  private val things = mutableListOf<Thing>()      //컨테이터를 변경가능한 리스트로 지정 \n",
    "  val capacity: Int                                //용량관리 \n",
    "    get() = maxCapacity - things.size  \n",
    "  val isfull: Boolean                              //용량이 가득참      \n",
    "    get() = things.size == maxCapacity\n",
    "    \n",
    "  fun put(thing : Thing): Boolean =                //컨테이너에 입력하기 \n",
    "    if (isfull) false\n",
    "    else {\n",
    "      things += thing\n",
    "      true\n",
    "    } \n",
    "  fun take(): Thing = things.removeAt(0)            //하나를 조회해서 삭제\n",
    "  fun query() : List<String> = things.map {it.name} // 전체 리스트를 조회 \n",
    "}\n",
    "\n",
    "val containers = Container(3)                       //컨테이너 객체 생성  \n",
    "\n",
    "containers.put(Thing(\"탁자\"))                        // 3개 앱력\n",
    "containers.put(Thing(\"침대\")) \n",
    "containers.put(Thing(\"의자\")) \n",
    "\n",
    "println(containers.isfull)                          //용량확인 \n",
    "println(containers.query())                         //상태확인 \n",
    "println(containers.take().name)                     //한개를 꺼내서 삭제하고 확인 \n",
    "println(containers.query())                         //나머지 상태 확인"
   ]
  },
  {
   "cell_type": "code",
   "execution_count": null,
   "id": "68c40f7e",
   "metadata": {},
   "outputs": [],
   "source": []
  },
  {
   "cell_type": "markdown",
   "id": "3f6630fb",
   "metadata": {},
   "source": [
    "## 속성을 오버라이딩 처리하기"
   ]
  },
  {
   "cell_type": "code",
   "execution_count": 6,
   "id": "092d13d7",
   "metadata": {},
   "outputs": [
    {
     "name": "stdout",
     "output_type": "stream",
     "text": [
      "포르쉐 0\n",
      "중고 자동차\n",
      "포르쉐 0\n"
     ]
    }
   ],
   "source": [
    "abstract class Car {                                 //추상클래스 정의 \n",
    "    abstract val name: String                        //추상속성은 구현클래스에서 전부 오버라이딩 필수 \n",
    "    abstract val speed: Int \n",
    "}\n",
    "\n",
    "class OldCar(override var name: String) : Car() {    //속성 재정의할 때 val에서 var로 변경가능\n",
    "    override var speed: Int = 0                      //속성 오버라이딩할 때 게터와 세터 재정의\n",
    "        get() = 0\n",
    "        set(value) {\n",
    "            println(\"중고 자동차\")\n",
    "            field = value\n",
    "        }\n",
    "}\n",
    "\n",
    "\n",
    "val car:Car = OldCar(\"포르쉐\")                          //상위자료형에 객체를 처리할 때 \n",
    "//car.speed = 10                                      // val이 처리되어 갱신할 수 없다. \n",
    "\n",
    "println(car.name +\" \" +car.speed)\n",
    "\n",
    "val car1:OldCar = OldCar(\"포르쉐\")                     //자기 자료형에 객체를 처리할 때 \n",
    "car1.speed = 10                                      // 갱신이 가능하다\n",
    "\n",
    "println(car1.name +\" \" +car1.speed)"
   ]
  },
  {
   "cell_type": "code",
   "execution_count": null,
   "id": "cdd0d7bf",
   "metadata": {},
   "outputs": [],
   "source": []
  },
  {
   "cell_type": "code",
   "execution_count": null,
   "id": "29c8a09e",
   "metadata": {},
   "outputs": [],
   "source": []
  },
  {
   "cell_type": "code",
   "execution_count": null,
   "id": "01d179e4",
   "metadata": {},
   "outputs": [],
   "source": []
  }
 ],
 "metadata": {
  "kernelspec": {
   "display_name": "Kotlin",
   "language": "kotlin",
   "name": "kotlin"
  },
  "language_info": {
   "codemirror_mode": "text/x-kotlin",
   "file_extension": ".kt",
   "mimetype": "text/x-kotlin",
   "name": "kotlin",
   "nbconvert_exporter": "",
   "pygments_lexer": "kotlin",
   "version": "1.7.20-dev-1299"
  }
 },
 "nbformat": 4,
 "nbformat_minor": 5
}
