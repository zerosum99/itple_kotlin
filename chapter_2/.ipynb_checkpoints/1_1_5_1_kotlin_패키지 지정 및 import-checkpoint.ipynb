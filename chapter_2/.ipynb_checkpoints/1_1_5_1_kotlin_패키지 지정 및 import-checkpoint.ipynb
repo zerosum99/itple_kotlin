{
 "cells": [
  {
   "cell_type": "code",
   "execution_count": null,
   "id": "2b53c93d",
   "metadata": {},
   "outputs": [],
   "source": []
  },
  {
   "cell_type": "markdown",
   "id": "6d059b4f",
   "metadata": {},
   "source": [
    "#  패키지 지정"
   ]
  },
  {
   "cell_type": "code",
   "execution_count": 18,
   "id": "0258aff2",
   "metadata": {},
   "outputs": [],
   "source": [
    "//package 패키지명"
   ]
  },
  {
   "cell_type": "code",
   "execution_count": 20,
   "id": "edfd2c7f",
   "metadata": {},
   "outputs": [],
   "source": [
    "//package pythagorean\n",
    "import kotlin.math.sqrt\n",
    "\n",
    "class RightTriangle(\n",
    "  val a: Double,\n",
    "  val b: Double\n",
    ") {\n",
    "  fun hypotenuse() = sqrt(a * a + b * b)\n",
    "  fun area() = a * b / 2\n",
    "}"
   ]
  },
  {
   "cell_type": "code",
   "execution_count": 23,
   "id": "e7355908",
   "metadata": {},
   "outputs": [
    {
     "name": "stdout",
     "output_type": "stream",
     "text": [
      "5.0\n",
      "6.0\n"
     ]
    }
   ],
   "source": [
    "//import pythagorean.RightTriangle\n",
    "\n",
    "fun main() {\n",
    "  val rt = RightTriangle(3.0, 4.0)\n",
    "  println(rt.hypotenuse())\n",
    "  println(rt.area())\n",
    "}\n",
    "\n",
    "main()"
   ]
  },
  {
   "cell_type": "code",
   "execution_count": null,
   "id": "e01a8148",
   "metadata": {},
   "outputs": [],
   "source": []
  },
  {
   "cell_type": "code",
   "execution_count": null,
   "id": "11afecb2",
   "metadata": {},
   "outputs": [],
   "source": [
    "// import packagename.ClassName\n",
    "// import packagename.functionName\n",
    "// import packagename.propertyName"
   ]
  },
  {
   "cell_type": "code",
   "execution_count": 12,
   "id": "d7c81051",
   "metadata": {},
   "outputs": [
    {
     "name": "stdout",
     "output_type": "stream",
     "text": [
      "3.141592653589793\n",
      "-1.0\n",
      "1.0\n"
     ]
    }
   ],
   "source": [
    "import kotlin.math.PI\n",
    "import kotlin.math.cos  // Cosine\n",
    "\n",
    "fun main() {\n",
    "  println(PI)\n",
    "  println(cos(PI))\n",
    "  println(cos(2 * PI))\n",
    "}\n",
    "\n",
    "main()"
   ]
  },
  {
   "cell_type": "code",
   "execution_count": 13,
   "id": "4d22b903",
   "metadata": {},
   "outputs": [
    {
     "name": "stdout",
     "output_type": "stream",
     "text": [
      "3.141592653589793\n",
      "-1.0\n",
      "1.0\n"
     ]
    }
   ],
   "source": [
    "import kotlin.math.PI as circleRatio\n",
    "import kotlin.math.cos as cosine\n",
    "\n",
    "fun main() {\n",
    "  println(circleRatio)\n",
    "  println(cosine(circleRatio))\n",
    "  println(cosine(2 * circleRatio))\n",
    "}\n",
    "main()"
   ]
  },
  {
   "cell_type": "code",
   "execution_count": 14,
   "id": "78a11ab4",
   "metadata": {},
   "outputs": [
    {
     "name": "stdout",
     "output_type": "stream",
     "text": [
      "3.141592653589793\n",
      "-1.0\n",
      "1.0\n"
     ]
    }
   ],
   "source": [
    "fun main() {\n",
    "  println(kotlin.math.PI)\n",
    "  println(kotlin.math.cos(kotlin.math.PI))\n",
    "  println(kotlin.math.cos(2 * kotlin.math.PI))\n",
    "}\n",
    "\n",
    "main()"
   ]
  },
  {
   "cell_type": "code",
   "execution_count": 17,
   "id": "3ca5d33e",
   "metadata": {},
   "outputs": [
    {
     "name": "stdout",
     "output_type": "stream",
     "text": [
      "2.718281828459045\n",
      "3\n",
      "2\n"
     ]
    }
   ],
   "source": [
    "import kotlin.math.* \n",
    "\n",
    "fun main() {\n",
    "  println(E)\n",
    "  println(E.roundToInt())\n",
    "  println(E.toInt())\n",
    "}\n",
    "\n",
    "main()"
   ]
  },
  {
   "cell_type": "code",
   "execution_count": null,
   "id": "b6f71e76",
   "metadata": {},
   "outputs": [],
   "source": []
  }
 ],
 "metadata": {
  "kernelspec": {
   "display_name": "Kotlin",
   "language": "kotlin",
   "name": "kotlin"
  },
  "language_info": {
   "codemirror_mode": "text/x-kotlin",
   "file_extension": ".kt",
   "mimetype": "text/x-kotlin",
   "name": "kotlin",
   "nbconvert_exporter": "",
   "pygments_lexer": "kotlin",
   "version": "1.6.0-dev-3567"
  }
 },
 "nbformat": 4,
 "nbformat_minor": 5
}
