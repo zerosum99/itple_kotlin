{
 "cells": [
  {
   "cell_type": "code",
   "execution_count": null,
   "id": "a4d1f44f",
   "metadata": {},
   "outputs": [],
   "source": []
  },
  {
   "cell_type": "markdown",
   "id": "47261396",
   "metadata": {},
   "source": [
    "# 한줄 주석"
   ]
  },
  {
   "cell_type": "code",
   "execution_count": 9,
   "id": "9d48d45c",
   "metadata": {},
   "outputs": [
    {
     "name": "stdout",
     "output_type": "stream",
     "text": [
      "100\n"
     ]
    }
   ],
   "source": [
    "val 가을이라 = 100  //변수를 지정\n",
    "\n",
    "println(가을이라)   //변수를 출력\n"
   ]
  },
  {
   "cell_type": "markdown",
   "id": "0cd08186",
   "metadata": {},
   "source": [
    "# 여러 줄 주석"
   ]
  },
  {
   "cell_type": "code",
   "execution_count": 8,
   "id": "cd27485d",
   "metadata": {},
   "outputs": [
    {
     "name": "stdout",
     "output_type": "stream",
     "text": [
      "코틀린 입문을 환영합니다.\n"
     ]
    }
   ],
   "source": [
    "/*  함수를 처리할 때 매개변수는 2개 이며\n",
    "    처리 방식은 .... \n",
    "    /* 그래서 .. */\n",
    "*/\n",
    "\n",
    "fun helloWorld() {\n",
    "    println(\"코틀린 입문을 환영합니다.\")\n",
    "} \n",
    "\n",
    "helloWorld()"
   ]
  },
  {
   "cell_type": "code",
   "execution_count": null,
   "id": "1a189f31",
   "metadata": {},
   "outputs": [],
   "source": []
  },
  {
   "cell_type": "markdown",
   "id": "830fc495",
   "metadata": {},
   "source": [
    "# 문서화"
   ]
  },
  {
   "cell_type": "code",
   "execution_count": null,
   "id": "0cf11358",
   "metadata": {},
   "outputs": [],
   "source": []
  },
  {
   "cell_type": "code",
   "execution_count": 7,
   "id": "f500d6cf",
   "metadata": {},
   "outputs": [],
   "source": [
    "/**\n",
    " * A group of *members*.\n",
    " *\n",
    " * This class has no useful logic; it's just a documentation example.\n",
    " *\n",
    " * @param T the type of a member in this group.\n",
    " * @property name the name of this group.\n",
    " * @constructor Creates an empty group.\n",
    " */\n",
    "class Group<T>(val name: String) {\n",
    "    /**\n",
    "     * Adds a [member] to this group.\n",
    "     * @return the new size of the group.\n",
    "     */\n",
    "    fun add(member: T): Int { \n",
    "         return 100\n",
    "    }\n",
    "}"
   ]
  },
  {
   "cell_type": "code",
   "execution_count": null,
   "id": "ec7c7a2a",
   "metadata": {},
   "outputs": [],
   "source": []
  }
 ],
 "metadata": {
  "kernelspec": {
   "display_name": "Kotlin",
   "language": "kotlin",
   "name": "kotlin"
  },
  "language_info": {
   "codemirror_mode": "text/x-kotlin",
   "file_extension": ".kt",
   "mimetype": "text/x-kotlin",
   "name": "kotlin",
   "nbconvert_exporter": "",
   "pygments_lexer": "kotlin",
   "version": "1.6.0-dev-3567"
  }
 },
 "nbformat": 4,
 "nbformat_minor": 5
}
